{
 "cells": [
  {
   "cell_type": "code",
   "execution_count": 1,
   "metadata": {},
   "outputs": [],
   "source": [
    "import os\n",
    "import warnings\n",
    "warnings.filterwarnings(action='ignore')\n",
    "\n",
    "if os.getcwd() == '/content':\n",
    "    data_path = '/content/drive/MyDrive/Colab Notebooks/datasets'\n",
    "else:\n",
    "    data_path = r'G:\\내 드라이브\\Colab Notebooks\\datasets'"
   ]
  },
  {
   "cell_type": "markdown",
   "metadata": {},
   "source": [
    "# Perceptron"
   ]
  },
  {
   "cell_type": "markdown",
   "metadata": {},
   "source": [
    "## Single-layer Perceptron"
   ]
  },
  {
   "cell_type": "code",
   "execution_count": 2,
   "metadata": {},
   "outputs": [],
   "source": [
    "def AND_gate(x1, x2):\n",
    "    w1, w2, b = 0.5, 0.5, -0.7\n",
    "    result = x1*w1 + x2*w2 + b\n",
    "    \n",
    "    if result <= 0:\n",
    "        return 0\n",
    "    else:\n",
    "        return 1"
   ]
  },
  {
   "cell_type": "code",
   "execution_count": 3,
   "metadata": {},
   "outputs": [
    {
     "data": {
      "text/plain": [
       "(0, 0, 0, 1)"
      ]
     },
     "execution_count": 3,
     "metadata": {},
     "output_type": "execute_result"
    }
   ],
   "source": [
    "AND_gate(0, 0), AND_gate(0, 1), AND_gate(1, 0), AND_gate(1, 1)"
   ]
  },
  {
   "cell_type": "code",
   "execution_count": 4,
   "metadata": {},
   "outputs": [],
   "source": [
    "def NAND_gate(x1, x2):\n",
    "    w1, w2, b = -0.5, -0.5, 0.7\n",
    "    result = x1*w1 + x2*w2 + b\n",
    "    \n",
    "    if result <= 0:\n",
    "        return 0\n",
    "    else:\n",
    "        return 1"
   ]
  },
  {
   "cell_type": "code",
   "execution_count": 5,
   "metadata": {},
   "outputs": [
    {
     "data": {
      "text/plain": [
       "(1, 1, 1, 0)"
      ]
     },
     "execution_count": 5,
     "metadata": {},
     "output_type": "execute_result"
    }
   ],
   "source": [
    "NAND_gate(0, 0), NAND_gate(0, 1), NAND_gate(1, 0), NAND_gate(1, 1)"
   ]
  },
  {
   "cell_type": "code",
   "execution_count": 6,
   "metadata": {},
   "outputs": [],
   "source": [
    "def OR_gate(x1, x2):\n",
    "    w1, w2, b = 0.6, 0.6, -0.5\n",
    "    result = x1*w1 + x2*w2 + b\n",
    "    \n",
    "    if result <= 0:\n",
    "        return 0\n",
    "    else:\n",
    "        return 1"
   ]
  },
  {
   "cell_type": "code",
   "execution_count": 7,
   "metadata": {},
   "outputs": [
    {
     "data": {
      "text/plain": [
       "(0, 1, 1, 1)"
      ]
     },
     "execution_count": 7,
     "metadata": {},
     "output_type": "execute_result"
    }
   ],
   "source": [
    "OR_gate(0, 0), OR_gate(0, 1), OR_gate(1, 0), OR_gate(1, 1)"
   ]
  },
  {
   "cell_type": "markdown",
   "metadata": {},
   "source": [
    "# XOR - Single-layer Perceptron"
   ]
  },
  {
   "cell_type": "code",
   "execution_count": 8,
   "metadata": {},
   "outputs": [],
   "source": [
    "import torch\n",
    "from torch import nn\n",
    "from torch import optim"
   ]
  },
  {
   "cell_type": "code",
   "execution_count": 9,
   "metadata": {},
   "outputs": [],
   "source": [
    "device = 'cuda' if torch.cuda.is_available() else 'cpu'\n",
    "\n",
    "seed = 42\n",
    "torch.manual_seed(seed)\n",
    "if device == 'cuda':\n",
    "    torch.cuda.manual_seed_all(seed)"
   ]
  },
  {
   "cell_type": "code",
   "execution_count": 10,
   "metadata": {},
   "outputs": [
    {
     "data": {
      "text/plain": [
       "(torch.Size([4, 2]), torch.Size([4, 1]))"
      ]
     },
     "execution_count": 10,
     "metadata": {},
     "output_type": "execute_result"
    }
   ],
   "source": [
    "x = torch.FloatTensor([[0, 0], [0, 1], [1, 0], [1, 1]]).to(device)\n",
    "y = torch.FloatTensor([[0], [1], [1], [0]]).to(device)\n",
    "\n",
    "x.size(), y.size()"
   ]
  },
  {
   "cell_type": "code",
   "execution_count": 11,
   "metadata": {},
   "outputs": [
    {
     "name": "stdout",
     "output_type": "stream",
     "text": [
      "[epoch     0/10000] 0.7317379713058472\n",
      "[epoch  1000/10000] 0.6931471824645996\n",
      "[epoch  2000/10000] 0.6931471824645996\n",
      "[epoch  3000/10000] 0.6931471824645996\n",
      "[epoch  4000/10000] 0.6931471824645996\n",
      "[epoch  5000/10000] 0.6931471824645996\n",
      "[epoch  6000/10000] 0.6931471824645996\n",
      "[epoch  7000/10000] 0.6931471824645996\n",
      "[epoch  8000/10000] 0.6931471824645996\n",
      "[epoch  9000/10000] 0.6931471824645996\n",
      "[epoch 10000/10000] 0.6931471824645996\n"
     ]
    }
   ],
   "source": [
    "linear = nn.Linear(in_features=2, out_features=1, bias=True)\n",
    "sigmoid = nn.Sigmoid()\n",
    "model = nn.Sequential(linear, sigmoid).to(device)\n",
    "\n",
    "loss_fn = nn.BCELoss().to(device)\n",
    "optimizer = optim.SGD(model.parameters(), lr=1)\n",
    "\n",
    "for step in range(10001):\n",
    "    pred = model(x)\n",
    "    loss = loss_fn(pred, y)\n",
    "    \n",
    "    optimizer.zero_grad()\n",
    "    loss.backward()\n",
    "    optimizer.step()\n",
    "    \n",
    "    if step % 1000 == 0:\n",
    "        print(f'[epoch {step:>5d}/10000] {loss.item()}')"
   ]
  },
  {
   "cell_type": "code",
   "execution_count": 12,
   "metadata": {},
   "outputs": [
    {
     "name": "stdout",
     "output_type": "stream",
     "text": [
      "pred\n",
      " [[0.5]\n",
      " [0.5]\n",
      " [0.5]\n",
      " [0.5]]\n",
      "\n",
      "y_pred\n",
      " [[0.]\n",
      " [0.]\n",
      " [0.]\n",
      " [0.]]\n",
      "\n",
      "y\n",
      " [[0.]\n",
      " [1.]\n",
      " [1.]\n",
      " [0.]]\n",
      "\n",
      "accuracy : 0.5\n"
     ]
    }
   ],
   "source": [
    "with torch.no_grad():\n",
    "    pred = model(x)\n",
    "    y_pred = (pred > 0.5).float()\n",
    "    correct = (y_pred == y).float()\n",
    "    accuracy = correct.mean()\n",
    "    \n",
    "    print(f'pred\\n {pred.detach().cpu().numpy()}\\n')\n",
    "    print(f'y_pred\\n {y_pred.detach().cpu().numpy()}\\n')\n",
    "    print(f'y\\n {y.cpu().numpy()}\\n')\n",
    "    print(f'accuracy : {accuracy.item()}')"
   ]
  },
  {
   "cell_type": "markdown",
   "metadata": {},
   "source": [
    "# XOR - MLP"
   ]
  },
  {
   "cell_type": "code",
   "execution_count": 13,
   "metadata": {},
   "outputs": [],
   "source": [
    "import torch\n",
    "import torch.nn as nn\n",
    "import torch.optim as optim"
   ]
  },
  {
   "cell_type": "code",
   "execution_count": 14,
   "metadata": {},
   "outputs": [],
   "source": [
    "device = 'cuda' if torch.cuda.is_available() else 'cpu'\n",
    "seed = 42\n",
    "\n",
    "torch.manual_seed(seed)\n",
    "if device == 'cuda':\n",
    "    torch.cuda.manual_seed_all(seed)"
   ]
  },
  {
   "cell_type": "code",
   "execution_count": 15,
   "metadata": {},
   "outputs": [
    {
     "data": {
      "text/plain": [
       "(torch.Size([4, 2]), torch.Size([4, 1]))"
      ]
     },
     "execution_count": 15,
     "metadata": {},
     "output_type": "execute_result"
    }
   ],
   "source": [
    "x = torch.FloatTensor([[0, 0], [0, 1], [1, 0], [1, 1]]).to(device)\n",
    "y = torch.FloatTensor([[0], [1], [1], [0]]).to(device)\n",
    "\n",
    "x.shape, y.shape"
   ]
  },
  {
   "cell_type": "code",
   "execution_count": 16,
   "metadata": {},
   "outputs": [
    {
     "name": "stdout",
     "output_type": "stream",
     "text": [
      "[epoch     0/10000] loss : 0.6953549385070801\n",
      "[epoch  1000/10000] loss : 0.6931273341178894\n",
      "[epoch  2000/10000] loss : 0.6930989027023315\n",
      "[epoch  3000/10000] loss : 0.6929996609687805\n",
      "[epoch  4000/10000] loss : 0.6912369132041931\n",
      "[epoch  5000/10000] loss : 0.0016472291899845004\n",
      "[epoch  6000/10000] loss : 0.0005045335274189711\n",
      "[epoch  7000/10000] loss : 0.00028991492581553757\n",
      "[epoch  8000/10000] loss : 0.00020146936003584415\n",
      "[epoch  9000/10000] loss : 0.00015368765161838382\n",
      "[epoch 10000/10000] loss : 0.00012385132140479982\n"
     ]
    }
   ],
   "source": [
    "model = nn.Sequential(\n",
    "    nn.Linear(in_features=2, out_features=10, bias=True),\n",
    "    nn.Sigmoid(),\n",
    "    nn.Linear(in_features=10, out_features=10, bias=True),\n",
    "    nn.Sigmoid(),\n",
    "    nn.Linear(in_features=10, out_features=10, bias=True),\n",
    "    nn.Sigmoid(),\n",
    "    nn.Linear(in_features=10, out_features=1, bias=True),\n",
    "    nn.Sigmoid(),\n",
    ").to(device)\n",
    "\n",
    "loss_fn = nn.BCELoss().to(device)\n",
    "optimizer = optim.SGD(model.parameters(), lr=1)\n",
    "\n",
    "for epoch in range(10001):\n",
    "    pred = model(x)\n",
    "    loss = loss_fn(pred, y)\n",
    "    \n",
    "    optimizer.zero_grad()\n",
    "    loss.backward()\n",
    "    optimizer.step()\n",
    "    \n",
    "    if epoch % 1000 == 0:\n",
    "        print(f'[epoch {epoch:>5d}/10000] loss : {loss.item()}')"
   ]
  },
  {
   "cell_type": "code",
   "execution_count": 17,
   "metadata": {},
   "outputs": [
    {
     "name": "stdout",
     "output_type": "stream",
     "text": [
      "pred\n",
      " [[1.38787451e-04]\n",
      " [9.99866605e-01]\n",
      " [9.99878526e-01]\n",
      " [1.01692174e-04]]\n",
      "\n",
      "y_pred\n",
      " [[0.]\n",
      " [1.]\n",
      " [1.]\n",
      " [0.]]\n",
      "\n",
      "y\n",
      " [[0.]\n",
      " [1.]\n",
      " [1.]\n",
      " [0.]]\n",
      "\n",
      "accuracy : 1.0\n"
     ]
    }
   ],
   "source": [
    "with torch.no_grad():\n",
    "    pred = model(x)\n",
    "    y_pred = (pred > 0.5).float()\n",
    "    acc = (y_pred == y).float().mean()\n",
    "    \n",
    "    print(f'pred\\n {pred.detach().cpu().numpy()}\\n')\n",
    "    print(f'y_pred\\n {y_pred.detach().cpu().numpy()}\\n')\n",
    "    print(f'y\\n {y.cpu().numpy()}\\n')\n",
    "    print(f'accuracy : {acc.item()}')"
   ]
  },
  {
   "cell_type": "markdown",
   "metadata": {},
   "source": [
    "# Activation Function"
   ]
  },
  {
   "cell_type": "code",
   "execution_count": 18,
   "metadata": {},
   "outputs": [],
   "source": [
    "import numpy as np\n",
    "import matplotlib.pyplot as plt"
   ]
  },
  {
   "cell_type": "markdown",
   "metadata": {},
   "source": [
    "## Sigmoid Function"
   ]
  },
  {
   "cell_type": "code",
   "execution_count": 19,
   "metadata": {},
   "outputs": [
    {
     "data": {
      "image/png": "[encoded data removed]",
      "text/plain": [
       "<Figure size 432x288 with 1 Axes>"
      ]
     },
     "metadata": {
      "needs_background": "light"
     },
     "output_type": "display_data"
    }
   ],
   "source": [
    "def sigmoid(x):\n",
    "    return 1 / (1 + np.exp(-x))\n",
    "\n",
    "x = np.arange(-5.0, 5.0, 0.1)\n",
    "y = sigmoid(x)\n",
    "\n",
    "plt.plot(x, y)\n",
    "plt.plot([0, 0], [1.0, 0.0], ':')\n",
    "plt.title('Sigmoid Function')\n",
    "plt.show()"
   ]
  },
  {
   "cell_type": "markdown",
   "metadata": {},
   "source": [
    "## Tanh Function"
   ]
  },
  {
   "cell_type": "code",
   "execution_count": 20,
   "metadata": {},
   "outputs": [
    {
     "data": {
      "image/png": "[encoded data removed]",
      "text/plain": [
       "<Figure size 432x288 with 1 Axes>"
      ]
     },
     "metadata": {
      "needs_background": "light"
     },
     "output_type": "display_data"
    }
   ],
   "source": [
    "x = np.arange(-5.0, 5.0, 0.1)\n",
    "y = np.tanh(x)\n",
    "\n",
    "plt.plot(x, y)\n",
    "plt.plot([0, 0], [1.0, -1.0], ':')\n",
    "plt.axhline(y=0, color='orange', linestyle='--')\n",
    "plt.title('Tanh Function')\n",
    "plt.show()"
   ]
  },
  {
   "cell_type": "markdown",
   "metadata": {},
   "source": [
    "## ReLU"
   ]
  },
  {
   "cell_type": "code",
   "execution_count": 21,
   "metadata": {},
   "outputs": [
    {
     "data": {
      "image/png": "[encoded data removed]",
      "text/plain": [
       "<Figure size 432x288 with 1 Axes>"
      ]
     },
     "metadata": {
      "needs_background": "light"
     },
     "output_type": "display_data"
    }
   ],
   "source": [
    "def relu(x):\n",
    "    return np.maximum(0, x)\n",
    "\n",
    "x = np.arange(-5.0, 5.0, 0.1)\n",
    "y = relu(x)\n",
    "\n",
    "plt.plot(x, y)\n",
    "plt.plot([0, 0],[5.0, 0.0], ':')\n",
    "plt.title('Relu Function')\n",
    "plt.show()"
   ]
  },
  {
   "cell_type": "markdown",
   "metadata": {},
   "source": [
    "## Leaky ReLU"
   ]
  },
  {
   "cell_type": "code",
   "execution_count": 22,
   "metadata": {},
   "outputs": [
    {
     "data": {
      "image/png": "[encoded data removed]",
      "text/plain": [
       "<Figure size 432x288 with 1 Axes>"
      ]
     },
     "metadata": {
      "needs_background": "light"
     },
     "output_type": "display_data"
    }
   ],
   "source": [
    "a = 0.1\n",
    "\n",
    "def leaky_relu(x):\n",
    "    return np.maximum(a*x, x)\n",
    "\n",
    "x = np.arange(-5.0, 5.0, 0.1)\n",
    "y = leaky_relu(x)\n",
    "\n",
    "plt.plot(x, y)\n",
    "plt.plot([0, 0],[5.0, 0.0], ':')\n",
    "plt.title('Leaky ReLU Function')\n",
    "plt.show()"
   ]
  },
  {
   "cell_type": "markdown",
   "metadata": {},
   "source": [
    "## Softmax"
   ]
  },
  {
   "cell_type": "code",
   "execution_count": 23,
   "metadata": {},
   "outputs": [
    {
     "data": {
      "image/png": "[encoded data removed]",
      "text/plain": [
       "<Figure size 432x288 with 1 Axes>"
      ]
     },
     "metadata": {
      "needs_background": "light"
     },
     "output_type": "display_data"
    }
   ],
   "source": [
    "x = np.arange(-5.0, 5.0, 0.1)\n",
    "y = np.exp(x) / np.sum(np.exp(x))\n",
    "\n",
    "plt.plot(x, y)\n",
    "plt.title('Softmax Function')\n",
    "plt.show()"
   ]
  },
  {
   "cell_type": "markdown",
   "metadata": {},
   "source": [
    "## out layer funcion"
   ]
  },
  {
   "cell_type": "code",
   "execution_count": 24,
   "metadata": {},
   "outputs": [],
   "source": [
    "# binary : sigmoid / nn.BCELoss()\n",
    "# multi-class : softmax / nn.CrossEntropyLoss()\n",
    "# regression : x / nn.MSELoss()"
   ]
  },
  {
   "cell_type": "markdown",
   "metadata": {},
   "source": [
    "# Digits"
   ]
  },
  {
   "cell_type": "code",
   "execution_count": 25,
   "metadata": {},
   "outputs": [],
   "source": [
    "import matplotlib.pyplot as plt\n",
    "from sklearn.datasets import load_digits\n",
    "\n",
    "digits = load_digits()"
   ]
  },
  {
   "cell_type": "code",
   "execution_count": 26,
   "metadata": {},
   "outputs": [
    {
     "name": "stdout",
     "output_type": "stream",
     "text": [
      "[[ 0.  0.  5. 13.  9.  1.  0.  0.]\n",
      " [ 0.  0. 13. 15. 10. 15.  5.  0.]\n",
      " [ 0.  3. 15.  2.  0. 11.  8.  0.]\n",
      " [ 0.  4. 12.  0.  0.  8.  8.  0.]\n",
      " [ 0.  5.  8.  0.  0.  9.  8.  0.]\n",
      " [ 0.  4. 11.  0.  1. 12.  7.  0.]\n",
      " [ 0.  2. 14.  5. 10. 12.  0.  0.]\n",
      " [ 0.  0.  6. 13. 10.  0.  0.  0.]]\n",
      "0\n"
     ]
    }
   ],
   "source": [
    "print(digits.images[0])\n",
    "print(digits.target[0])"
   ]
  },
  {
   "cell_type": "code",
   "execution_count": 27,
   "metadata": {},
   "outputs": [
    {
     "data": {
      "text/plain": [
       "1797"
      ]
     },
     "execution_count": 27,
     "metadata": {},
     "output_type": "execute_result"
    }
   ],
   "source": [
    "len(digits.images)"
   ]
  },
  {
   "cell_type": "code",
   "execution_count": 28,
   "metadata": {},
   "outputs": [
    {
     "data": {
      "image/png": "[encoded data removed]",
      "text/plain": [
       "<Figure size 432x288 with 5 Axes>"
      ]
     },
     "metadata": {
      "needs_background": "light"
     },
     "output_type": "display_data"
    }
   ],
   "source": [
    "for idx, (image, label) in enumerate(zip(digits.images, digits.target)):\n",
    "    plt.subplot(2, 5, idx+1)\n",
    "    plt.axis('off')\n",
    "    plt.imshow(image, cmap=plt.cm.gray_r, interpolation='nearest')\n",
    "    plt.title(f'sample : {label}')\n",
    "    \n",
    "    if idx == 4:\n",
    "        break"
   ]
  },
  {
   "cell_type": "code",
   "execution_count": 29,
   "metadata": {},
   "outputs": [
    {
     "data": {
      "text/plain": [
       "(64,)"
      ]
     },
     "execution_count": 29,
     "metadata": {},
     "output_type": "execute_result"
    }
   ],
   "source": [
    "digits.data[0].shape"
   ]
  },
  {
   "cell_type": "code",
   "execution_count": 30,
   "metadata": {},
   "outputs": [
    {
     "data": {
      "text/plain": [
       "((1797, 64), (1797,))"
      ]
     },
     "execution_count": 30,
     "metadata": {},
     "output_type": "execute_result"
    }
   ],
   "source": [
    "x = digits.data\n",
    "y = digits.target\n",
    "\n",
    "x.shape, y.shape"
   ]
  },
  {
   "cell_type": "code",
   "execution_count": 31,
   "metadata": {},
   "outputs": [],
   "source": [
    "import torch\n",
    "import torch.nn as nn\n",
    "import torch.optim as optim"
   ]
  },
  {
   "cell_type": "code",
   "execution_count": 32,
   "metadata": {},
   "outputs": [
    {
     "name": "stdout",
     "output_type": "stream",
     "text": [
      "[epoch   0/100] loss : 2.644701\n",
      "[epoch  10/100] loss : 2.094831\n",
      "[epoch  20/100] loss : 1.800173\n",
      "[epoch  30/100] loss : 1.489776\n",
      "[epoch  40/100] loss : 1.167534\n",
      "[epoch  50/100] loss : 0.878932\n",
      "[epoch  60/100] loss : 0.662835\n",
      "[epoch  70/100] loss : 0.510619\n",
      "[epoch  80/100] loss : 0.402007\n",
      "[epoch  90/100] loss : 0.323116\n",
      "[epoch 100/100] loss : 0.265719\n"
     ]
    }
   ],
   "source": [
    "x = torch.tensor(x.copy(), dtype=torch.float32)\n",
    "y = torch.tensor(y.copy(), dtype=torch.int64)\n",
    "\n",
    "model = nn.Sequential(\n",
    "    nn.Linear(in_features=64, out_features=32),\n",
    "    nn.ReLU(),\n",
    "    nn.Linear(in_features=32, out_features=16),\n",
    "    nn.ReLU(),\n",
    "    nn.Linear(in_features=16, out_features=10),\n",
    ")\n",
    "\n",
    "loss_fn = nn.CrossEntropyLoss()\n",
    "optimizer = optim.Adam(model.parameters())\n",
    "\n",
    "losses = []\n",
    "\n",
    "for epoch in range(101):\n",
    "    pred = model(x)\n",
    "    loss = loss_fn(pred, y)\n",
    "    \n",
    "    optimizer.zero_grad()\n",
    "    loss.backward()\n",
    "    optimizer.step()\n",
    "    \n",
    "    if epoch % 10 == 0:\n",
    "        print(f'[epoch {epoch:>3d}/100] loss : {loss.item():>6f}')\n",
    "    \n",
    "    losses.append(loss.item())"
   ]
  },
  {
   "cell_type": "code",
   "execution_count": 33,
   "metadata": {},
   "outputs": [
    {
     "data": {
      "image/png": "[encoded data removed]",
      "text/plain": [
       "<Figure size 432x288 with 1 Axes>"
      ]
     },
     "metadata": {
      "needs_background": "light"
     },
     "output_type": "display_data"
    }
   ],
   "source": [
    "plt.plot(losses)\n",
    "plt.show()"
   ]
  },
  {
   "cell_type": "markdown",
   "metadata": {},
   "source": [
    "# MNIST"
   ]
  },
  {
   "cell_type": "code",
   "execution_count": 34,
   "metadata": {},
   "outputs": [],
   "source": [
    "import numpy as np\n",
    "import matplotlib.pyplot as plt\n",
    "from sklearn.datasets import fetch_openml\n",
    "from sklearn.model_selection import train_test_split\n",
    "\n",
    "import torch\n",
    "import torch.nn as nn\n",
    "import torch.optim as optim\n",
    "\n",
    "from torch.utils.data import TensorDataset, DataLoader\n",
    "from torchvision import datasets\n",
    "from torchvision import transforms"
   ]
  },
  {
   "cell_type": "code",
   "execution_count": 35,
   "metadata": {},
   "outputs": [],
   "source": [
    "mnist = fetch_openml(name='mnist_784', version=1, cache=True)"
   ]
  },
  {
   "cell_type": "code",
   "execution_count": 36,
   "metadata": {},
   "outputs": [
    {
     "data": {
      "text/plain": [
       "(70000, 784)"
      ]
     },
     "execution_count": 36,
     "metadata": {},
     "output_type": "execute_result"
    }
   ],
   "source": [
    "mnist.data.values.shape"
   ]
  },
  {
   "cell_type": "code",
   "execution_count": 37,
   "metadata": {},
   "outputs": [],
   "source": [
    "x = mnist.data.values / 255\n",
    "y = mnist.target.astype(np.int8).values"
   ]
  },
  {
   "cell_type": "code",
   "execution_count": 38,
   "metadata": {},
   "outputs": [
    {
     "data": {
      "text/plain": [
       "((784,), 5)"
      ]
     },
     "execution_count": 38,
     "metadata": {},
     "output_type": "execute_result"
    }
   ],
   "source": [
    "x[0].shape, y[0]"
   ]
  },
  {
   "cell_type": "code",
   "execution_count": 39,
   "metadata": {},
   "outputs": [
    {
     "data": {
      "text/plain": [
       "<matplotlib.image.AxesImage at 0x1fc2eddffc8>"
      ]
     },
     "execution_count": 39,
     "metadata": {},
     "output_type": "execute_result"
    },
    {
     "data": {
      "image/png": "[encoded data removed]",
      "text/plain": [
       "<Figure size 432x288 with 1 Axes>"
      ]
     },
     "metadata": {
      "needs_background": "light"
     },
     "output_type": "display_data"
    }
   ],
   "source": [
    "plt.imshow(x[0].reshape(28, -1))"
   ]
  },
  {
   "cell_type": "code",
   "execution_count": 40,
   "metadata": {},
   "outputs": [],
   "source": [
    "x_train, x_test, y_train, y_test = train_test_split(x, y, test_size=1/7, random_state=0)\n",
    "\n",
    "x_train = torch.Tensor(x_train)\n",
    "x_test = torch.Tensor(x_test)\n",
    "y_train = torch.LongTensor(y_train)\n",
    "y_test = torch.LongTensor(y_test)\n",
    "\n",
    "ds_train = TensorDataset(x_train, y_train)\n",
    "ds_test = TensorDataset(x_test, y_test)\n",
    "\n",
    "loader_train = DataLoader(ds_train, batch_size=64, shuffle=True)\n",
    "loader_test = DataLoader(ds_test, batch_size=64, shuffle=False)"
   ]
  },
  {
   "cell_type": "code",
   "execution_count": 41,
   "metadata": {},
   "outputs": [],
   "source": [
    "def build_model():\n",
    "    model = nn.Sequential()\n",
    "    model.add_module(name='fc1', module=nn.Linear(in_features=28*28*1, out_features=100))\n",
    "    model.add_module(name='relu1', module=nn.ReLU())\n",
    "    model.add_module(name='fc2', module=nn.Linear(in_features=100, out_features=100))\n",
    "    model.add_module(name='relu2', module=nn.ReLU())\n",
    "    model.add_module(name='fc3', module=nn.Linear(in_features=100, out_features=10))\n",
    "    return model"
   ]
  },
  {
   "cell_type": "code",
   "execution_count": 42,
   "metadata": {},
   "outputs": [
    {
     "name": "stdout",
     "output_type": "stream",
     "text": [
      "[epoch  1] loss : 0.162237\n",
      "[epoch  2] loss : 0.008297\n",
      "[epoch  3] loss : 0.193541\n",
      "[epoch  4] loss : 0.003432\n",
      "[epoch  5] loss : 0.008071\n",
      "[test] accuracy : 96.349998%\n"
     ]
    }
   ],
   "source": [
    "model = build_model()\n",
    "loss_fn = nn.CrossEntropyLoss()\n",
    "optimizer = optim.Adam(model.parameters(), lr=0.01)\n",
    "\n",
    "def train_loop(epoch):\n",
    "    model.train()\n",
    "    \n",
    "    for batch, (x, y) in enumerate(loader_train):\n",
    "        pred = model(x)\n",
    "        loss = loss_fn(pred, y)\n",
    "        \n",
    "        optimizer.zero_grad()\n",
    "        loss.backward()\n",
    "        optimizer.step()\n",
    "        \n",
    "    print(f'[epoch {epoch+1:>2d}] loss : {loss:>7f}')\n",
    "\n",
    "def test_loop():\n",
    "    model.eval()\n",
    "    correct = 0\n",
    "    \n",
    "    with torch.no_grad():\n",
    "        for x, y in loader_test:\n",
    "            pred = model(x)\n",
    "            _, y_pred = torch.max(pred.data, 1)\n",
    "            correct += y_pred.eq(y.data.view_as(y_pred)).sum()\n",
    "    \n",
    "    data_num = len(loader_test.dataset)\n",
    "    print(f'[test] accuracy : {(100*correct / data_num):>1f}%')\n",
    "\n",
    "for epoch in range(5):\n",
    "    train_loop(epoch)\n",
    "\n",
    "test_loop()"
   ]
  },
  {
   "cell_type": "code",
   "execution_count": 43,
   "metadata": {},
   "outputs": [
    {
     "name": "stdout",
     "output_type": "stream",
     "text": [
      "tensor(2)\n"
     ]
    },
    {
     "data": {
      "text/plain": [
       "Text(0.5, 1.0, 'tensor(2)')"
      ]
     },
     "execution_count": 43,
     "metadata": {},
     "output_type": "execute_result"
    },
    {
     "data": {
      "image/png": "[encoded data removed]",
      "text/plain": [
       "<Figure size 432x288 with 1 Axes>"
      ]
     },
     "metadata": {
      "needs_background": "light"
     },
     "output_type": "display_data"
    }
   ],
   "source": [
    "index = 2018\n",
    "\n",
    "model.eval()\n",
    "data = x_test[index]\n",
    "\n",
    "output = model(data)\n",
    "_, predicted = torch.max(output.data, 0)\n",
    "\n",
    "print(predicted)\n",
    "\n",
    "x_test_show = x_test[index].numpy()\n",
    "plt.imshow(x_test_show.reshape(28, 28))\n",
    "plt.title(y_test[index])"
   ]
  },
  {
   "cell_type": "code",
   "execution_count": 44,
   "metadata": {},
   "outputs": [],
   "source": [
    "import torch\n",
    "from torch import nn\n",
    "from torch.utils.data import DataLoader\n",
    "from torchvision import datasets\n",
    "from torchvision.transforms import ToTensor, Lambda\n",
    "\n",
    "training_data = datasets.MNIST(\n",
    "    root=data_path,\n",
    "    train=True,\n",
    "    download=True,\n",
    "    transform=ToTensor()\n",
    ")\n",
    "\n",
    "test_data = datasets.MNIST(\n",
    "    root=data_path,\n",
    "    train=False,\n",
    "    download=True,\n",
    "    transform=ToTensor()\n",
    ")\n",
    "\n",
    "train_dataloader = DataLoader(training_data, batch_size=64)\n",
    "test_dataloader = DataLoader(test_data, batch_size=64)\n",
    "\n",
    "class NeuralNetwork(nn.Module):\n",
    "    def __init__(self):\n",
    "        super(NeuralNetwork, self).__init__()\n",
    "        self.flatten = nn.Flatten()\n",
    "        self.linear_relu_stack = nn.Sequential(\n",
    "            nn.Linear(28*28, 512),\n",
    "            nn.ReLU(),\n",
    "            nn.Linear(512, 512),\n",
    "            nn.ReLU(),\n",
    "            nn.Linear(512, 10),\n",
    "        )\n",
    "\n",
    "    def forward(self, x):\n",
    "        x = self.flatten(x)\n",
    "        logits = self.linear_relu_stack(x)\n",
    "        return logits"
   ]
  },
  {
   "cell_type": "code",
   "execution_count": 45,
   "metadata": {},
   "outputs": [],
   "source": [
    "def train_loop(dataloader, model, loss_fn, optimizer):\n",
    "    size = len(dataloader.dataset)\n",
    "    for batch, (X, y) in enumerate(dataloader):\n",
    "        # Compute prediction and loss\n",
    "        pred = model(X)\n",
    "        loss = loss_fn(pred, y)\n",
    "\n",
    "        # Backpropagation\n",
    "        optimizer.zero_grad()\n",
    "        loss.backward()\n",
    "        optimizer.step()\n",
    "\n",
    "        if batch % 100 == 0:\n",
    "            loss, current = loss.item(), batch * len(X)\n",
    "            print(f\"loss: {loss:>7f}  [{current:>5d}/{size:>5d}]\")\n",
    "\n",
    "\n",
    "def test_loop(dataloader, model, loss_fn):\n",
    "    size = len(dataloader.dataset)\n",
    "    num_batches = len(dataloader)\n",
    "    test_loss, correct = 0, 0\n",
    "\n",
    "    with torch.no_grad():\n",
    "        for X, y in dataloader:\n",
    "            pred = model(X)\n",
    "            test_loss += loss_fn(pred, y).item()\n",
    "            correct += (pred.argmax(1) == y).type(torch.float).sum().item()\n",
    "\n",
    "    test_loss /= num_batches\n",
    "    correct /= size\n",
    "    print(f\"Test Error: \\n Accuracy: {(100*correct):>0.1f}%, Avg loss: {test_loss:>8f} \\n\")"
   ]
  },
  {
   "cell_type": "code",
   "execution_count": 46,
   "metadata": {},
   "outputs": [
    {
     "name": "stdout",
     "output_type": "stream",
     "text": [
      "Epoch 1\n",
      "-------------------------------\n",
      "loss: 2.305951  [    0/60000]\n",
      "loss: 2.296981  [ 6400/60000]\n",
      "loss: 2.287800  [12800/60000]\n",
      "loss: 2.287164  [19200/60000]\n",
      "loss: 2.284097  [25600/60000]\n",
      "loss: 2.279024  [32000/60000]\n",
      "loss: 2.270184  [38400/60000]\n",
      "loss: 2.283634  [44800/60000]\n",
      "loss: 2.260162  [51200/60000]\n",
      "loss: 2.247626  [57600/60000]\n",
      "Test Error: \n",
      " Accuracy: 28.8%, Avg loss: 2.256179 \n",
      "\n",
      "Epoch 2\n",
      "-------------------------------\n",
      "loss: 2.260706  [    0/60000]\n",
      "loss: 2.248423  [ 6400/60000]\n",
      "loss: 2.249637  [12800/60000]\n",
      "loss: 2.229023  [19200/60000]\n",
      "loss: 2.235335  [25600/60000]\n",
      "loss: 2.228350  [32000/60000]\n",
      "loss: 2.210311  [38400/60000]\n",
      "loss: 2.235305  [44800/60000]\n",
      "loss: 2.198619  [51200/60000]\n",
      "loss: 2.181254  [57600/60000]\n",
      "Test Error: \n",
      " Accuracy: 59.0%, Avg loss: 2.190505 \n",
      "\n",
      "Epoch 3\n",
      "-------------------------------\n",
      "loss: 2.196996  [    0/60000]\n",
      "loss: 2.175276  [ 6400/60000]\n",
      "loss: 2.188854  [12800/60000]\n",
      "loss: 2.139688  [19200/60000]\n",
      "loss: 2.159269  [25600/60000]\n",
      "loss: 2.146863  [32000/60000]\n",
      "loss: 2.111388  [38400/60000]\n",
      "loss: 2.152805  [44800/60000]\n",
      "loss: 2.095581  [51200/60000]\n",
      "loss: 2.067710  [57600/60000]\n",
      "Test Error: \n",
      " Accuracy: 66.0%, Avg loss: 2.077995 \n",
      "\n",
      "Epoch 4\n",
      "-------------------------------\n",
      "loss: 2.088354  [    0/60000]\n",
      "loss: 2.049380  [ 6400/60000]\n",
      "loss: 2.080154  [12800/60000]\n",
      "loss: 1.988638  [19200/60000]\n",
      "loss: 2.025907  [25600/60000]\n",
      "loss: 2.003160  [32000/60000]\n",
      "loss: 1.939624  [38400/60000]\n",
      "loss: 2.005637  [44800/60000]\n",
      "loss: 1.921857  [51200/60000]\n",
      "loss: 1.873380  [57600/60000]\n",
      "Test Error: \n",
      " Accuracy: 68.6%, Avg loss: 1.884976 \n",
      "\n",
      "Epoch 5\n",
      "-------------------------------\n",
      "loss: 1.903777  [    0/60000]\n",
      "loss: 1.835018  [ 6400/60000]\n",
      "loss: 1.888354  [12800/60000]\n",
      "loss: 1.746139  [19200/60000]\n",
      "loss: 1.797008  [25600/60000]\n",
      "loss: 1.761118  [32000/60000]\n",
      "loss: 1.671918  [38400/60000]\n",
      "loss: 1.768927  [44800/60000]\n",
      "loss: 1.657544  [51200/60000]\n",
      "loss: 1.588297  [57600/60000]\n",
      "Test Error: \n",
      " Accuracy: 71.5%, Avg loss: 1.594878 \n",
      "\n",
      "Epoch 6\n",
      "-------------------------------\n",
      "loss: 1.631894  [    0/60000]\n",
      "loss: 1.522486  [ 6400/60000]\n",
      "loss: 1.601262  [12800/60000]\n",
      "loss: 1.429912  [19200/60000]\n",
      "loss: 1.472857  [25600/60000]\n",
      "loss: 1.434012  [32000/60000]\n",
      "loss: 1.343596  [38400/60000]\n",
      "loss: 1.469000  [44800/60000]\n",
      "loss: 1.352003  [51200/60000]\n",
      "loss: 1.277514  [57600/60000]\n",
      "Test Error: \n",
      " Accuracy: 76.0%, Avg loss: 1.273184 \n",
      "\n",
      "Epoch 7\n",
      "-------------------------------\n",
      "loss: 1.335115  [    0/60000]\n",
      "loss: 1.194311  [ 6400/60000]\n",
      "loss: 1.291583  [12800/60000]\n",
      "loss: 1.135917  [19200/60000]\n",
      "loss: 1.158481  [25600/60000]\n",
      "loss: 1.124360  [32000/60000]\n",
      "loss: 1.053367  [38400/60000]\n",
      "loss: 1.193157  [44800/60000]\n",
      "loss: 1.099425  [51200/60000]\n",
      "loss: 1.033396  [57600/60000]\n",
      "Test Error: \n",
      " Accuracy: 79.7%, Avg loss: 1.017229 \n",
      "\n",
      "Epoch 8\n",
      "-------------------------------\n",
      "loss: 1.100080  [    0/60000]\n",
      "loss: 0.944137  [ 6400/60000]\n",
      "loss: 1.045022  [12800/60000]\n",
      "loss: 0.924619  [19200/60000]\n",
      "loss: 0.935302  [25600/60000]\n",
      "loss: 0.901942  [32000/60000]\n",
      "loss: 0.847349  [38400/60000]\n",
      "loss: 0.990229  [44800/60000]\n",
      "loss: 0.927075  [51200/60000]\n",
      "loss: 0.870087  [57600/60000]\n",
      "Test Error: \n",
      " Accuracy: 81.9%, Avg loss: 0.843965 \n",
      "\n",
      "Epoch 9\n",
      "-------------------------------\n",
      "loss: 0.938850  [    0/60000]\n",
      "loss: 0.777832  [ 6400/60000]\n",
      "loss: 0.873019  [12800/60000]\n",
      "loss: 0.785079  [19200/60000]\n",
      "loss: 0.789039  [25600/60000]\n",
      "loss: 0.755673  [32000/60000]\n",
      "loss: 0.707650  [38400/60000]\n",
      "loss: 0.850953  [44800/60000]\n",
      "loss: 0.811393  [51200/60000]\n",
      "loss: 0.762802  [57600/60000]\n",
      "Test Error: \n",
      " Accuracy: 83.1%, Avg loss: 0.727794 \n",
      "\n",
      "Epoch 10\n",
      "-------------------------------\n",
      "loss: 0.828088  [    0/60000]\n",
      "loss: 0.666089  [ 6400/60000]\n",
      "loss: 0.753461  [12800/60000]\n",
      "loss: 0.692200  [19200/60000]\n",
      "loss: 0.688720  [25600/60000]\n",
      "loss: 0.658328  [32000/60000]\n",
      "loss: 0.609343  [38400/60000]\n",
      "loss: 0.754907  [44800/60000]\n",
      "loss: 0.729619  [51200/60000]\n",
      "loss: 0.689903  [57600/60000]\n",
      "Test Error: \n",
      " Accuracy: 84.3%, Avg loss: 0.646854 \n",
      "\n",
      "Done!\n"
     ]
    }
   ],
   "source": [
    "learning_rate = 1e-3\n",
    "batch_size = 64\n",
    "epochs = 5\n",
    "\n",
    "model = NeuralNetwork()\n",
    "loss_fn = nn.CrossEntropyLoss()\n",
    "optimizer = torch.optim.SGD(model.parameters(), lr=learning_rate)\n",
    "\n",
    "epochs = 10\n",
    "for t in range(epochs):\n",
    "    print(f\"Epoch {t+1}\\n-------------------------------\")\n",
    "    train_loop(train_dataloader, model, loss_fn, optimizer)\n",
    "    test_loop(test_dataloader, model, loss_fn)\n",
    "print(\"Done!\")"
   ]
  }
 ],
 "metadata": {
  "kernelspec": {
   "display_name": "Python 3.7.13 ('py37')",
   "language": "python",
   "name": "python3"
  },
  "language_info": {
   "codemirror_mode": {
    "name": "ipython",
    "version": 3
   },
   "file_extension": ".py",
   "mimetype": "text/x-python",
   "name": "python",
   "nbconvert_exporter": "python",
   "pygments_lexer": "ipython3",
   "version": "3.7.13"
  },
  "orig_nbformat": 4,
  "vscode": {
   "interpreter": {
    "hash": "88d3c87753b96e3541cfbb1341719adaf531df8dade04e9d24fed3c8b996c09d"
   }
  }
 },
 "nbformat": 4,
 "nbformat_minor": 2
}
