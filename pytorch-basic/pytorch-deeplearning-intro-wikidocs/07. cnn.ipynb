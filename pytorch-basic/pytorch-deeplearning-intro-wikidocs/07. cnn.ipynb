{
 "cells": [
  {
   "cell_type": "code",
   "execution_count": 1,
   "metadata": {},
   "outputs": [],
   "source": [
    "import os\n",
    "import warnings\n",
    "warnings.filterwarnings(action='ignore')\n",
    "\n",
    "if os.getcwd() == '/content':\n",
    "    data_path = '/content/drive/MyDrive/Colab Notebooks/datasets'\n",
    "else:\n",
    "    data_path = r'G:\\내 드라이브\\Colab Notebooks\\datasets'"
   ]
  },
  {
   "cell_type": "markdown",
   "metadata": {},
   "source": [
    "# MNIST\n"
   ]
  },
  {
   "cell_type": "markdown",
   "metadata": {},
   "source": [
    "## idea"
   ]
  },
  {
   "cell_type": "code",
   "execution_count": 2,
   "metadata": {},
   "outputs": [],
   "source": [
    "import torch\n",
    "import torch.nn as nn"
   ]
  },
  {
   "cell_type": "code",
   "execution_count": 3,
   "metadata": {},
   "outputs": [
    {
     "name": "stdout",
     "output_type": "stream",
     "text": [
      "torch.Size([1, 1, 28, 28])\n"
     ]
    }
   ],
   "source": [
    "inputs = torch.Tensor(1, 1, 28, 28)\n",
    "print(inputs.shape)"
   ]
  },
  {
   "cell_type": "code",
   "execution_count": 4,
   "metadata": {},
   "outputs": [
    {
     "name": "stdout",
     "output_type": "stream",
     "text": [
      "Conv2d(1, 32, kernel_size=(3, 3), stride=(1, 1), padding=(1, 1)) Conv2d(32, 64, kernel_size=(3, 3), stride=(1, 1), padding=(1, 1)) MaxPool2d(kernel_size=2, stride=2, padding=0, dilation=1, ceil_mode=False)\n"
     ]
    }
   ],
   "source": [
    "conv1 = nn.Conv2d(in_channels=1, out_channels=32, kernel_size=3, \n",
    "                  stride=1, padding=1)\n",
    "conv2 = nn.Conv2d(in_channels=32, out_channels=64, kernel_size=3,\n",
    "                  stride=1, padding=1)\n",
    "pool = nn.MaxPool2d(kernel_size=2)\n",
    "\n",
    "print(conv1, conv2, pool)"
   ]
  },
  {
   "cell_type": "code",
   "execution_count": 5,
   "metadata": {},
   "outputs": [
    {
     "name": "stdout",
     "output_type": "stream",
     "text": [
      "torch.Size([1, 1, 28, 28])\n",
      "torch.Size([1, 32, 28, 28])\n"
     ]
    }
   ],
   "source": [
    "print(inputs.shape)\n",
    "out = conv1(inputs)\n",
    "print(out.shape) # out.shape[1] == out_channel"
   ]
  },
  {
   "cell_type": "code",
   "execution_count": 6,
   "metadata": {},
   "outputs": [
    {
     "name": "stdout",
     "output_type": "stream",
     "text": [
      "torch.Size([1, 32, 14, 14])\n"
     ]
    }
   ],
   "source": [
    "out = pool(out)\n",
    "print(out.shape)"
   ]
  },
  {
   "cell_type": "code",
   "execution_count": 7,
   "metadata": {},
   "outputs": [
    {
     "name": "stdout",
     "output_type": "stream",
     "text": [
      "torch.Size([1, 64, 14, 14])\n"
     ]
    }
   ],
   "source": [
    "out = conv2(out)\n",
    "print(out.shape) # out.shape[1] == out_channel"
   ]
  },
  {
   "cell_type": "code",
   "execution_count": 8,
   "metadata": {},
   "outputs": [
    {
     "name": "stdout",
     "output_type": "stream",
     "text": [
      "torch.Size([1, 64, 7, 7])\n"
     ]
    }
   ],
   "source": [
    "out = pool(out)\n",
    "print(out.shape)"
   ]
  },
  {
   "cell_type": "code",
   "execution_count": 9,
   "metadata": {},
   "outputs": [
    {
     "name": "stdout",
     "output_type": "stream",
     "text": [
      "torch.Size([1, 3136])\n"
     ]
    }
   ],
   "source": [
    "out = out.view(out.size(0), -1)\n",
    "print(out.shape)"
   ]
  },
  {
   "cell_type": "code",
   "execution_count": 10,
   "metadata": {},
   "outputs": [
    {
     "name": "stdout",
     "output_type": "stream",
     "text": [
      "torch.Size([1, 10])\n"
     ]
    }
   ],
   "source": [
    "fc = nn.Linear(in_features=3136, out_features=10)\n",
    "out = fc(out)\n",
    "print(out.shape)"
   ]
  },
  {
   "cell_type": "markdown",
   "metadata": {},
   "source": [
    "## CNN"
   ]
  },
  {
   "cell_type": "code",
   "execution_count": 11,
   "metadata": {},
   "outputs": [],
   "source": [
    "import torch\n",
    "import torch.nn as nn\n",
    "from torch.utils.data import DataLoader\n",
    "from torchvision import datasets, transforms"
   ]
  },
  {
   "cell_type": "code",
   "execution_count": 12,
   "metadata": {},
   "outputs": [],
   "source": [
    "device = 'cuda' if torch.cuda.is_available() else 'cpu'\n",
    "torch.manual_seed(42)\n",
    "\n",
    "if device == 'cuda':\n",
    "    torch.cuda.manual_seed_all(42)"
   ]
  },
  {
   "cell_type": "code",
   "execution_count": 13,
   "metadata": {},
   "outputs": [],
   "source": [
    "learning_rate = 0.001\n",
    "traning_epochs = 15\n",
    "batch_size = 100"
   ]
  },
  {
   "cell_type": "code",
   "execution_count": 14,
   "metadata": {},
   "outputs": [],
   "source": [
    "mnist_train = datasets.MNIST(root=data_path, train=True, download=True,\n",
    "                             transform=transforms.ToTensor())\n",
    "mnist_test = datasets.MNIST(root=data_path, train=False, download=True,\n",
    "                            transform=transforms.ToTensor())\n",
    "\n",
    "data_loader = DataLoader(dataset=mnist_train, batch_size=batch_size,\n",
    "                         shuffle=True, drop_last=True)"
   ]
  },
  {
   "cell_type": "code",
   "execution_count": 15,
   "metadata": {},
   "outputs": [
    {
     "data": {
      "text/plain": [
       "torch.Size([100, 1, 28, 28])"
      ]
     },
     "execution_count": 15,
     "metadata": {},
     "output_type": "execute_result"
    }
   ],
   "source": [
    "temp, _ = next(iter(data_loader))\n",
    "temp.shape"
   ]
  },
  {
   "cell_type": "code",
   "execution_count": 16,
   "metadata": {},
   "outputs": [],
   "source": [
    "class CNN(nn.Module):\n",
    "    def __init__(self):\n",
    "        super(CNN, self).__init__()\n",
    "        \n",
    "        # input shape = (n, 1, 28, 28)\n",
    "        self.layer1 = nn.Sequential(\n",
    "            nn.Conv2d(in_channels=1, out_channels=32, \n",
    "                      kernel_size=3, stride=1, padding=1), # (n, 32, 28, 28)\n",
    "            nn.ReLU(),\n",
    "            nn.MaxPool2d(kernel_size=2, stride=2) # (n, 32, 14, 14)\n",
    "        )\n",
    "        \n",
    "        self.layer2 = nn.Sequential(\n",
    "            nn.Conv2d(in_channels=32, out_channels=64,\n",
    "                      kernel_size=3, stride=1, padding=1), # (n, 64, 14, 14)\n",
    "            nn.ReLU(),\n",
    "            nn.MaxPool2d(kernel_size=2, stride=2) # (n, 64, 7, 7)\n",
    "        )\n",
    "        \n",
    "        self.fc = nn.Linear(in_features=64*7*7, out_features=10, bias=True)\n",
    "        nn.init.xavier_uniform_(self.fc.weight) # fc layer weight init\n",
    "    \n",
    "    def forward(self, x):\n",
    "        out = self.layer1(x)\n",
    "        out = self.layer2(out)\n",
    "        out = out.view(out.size(dim=0), -1) # flatten\n",
    "        out = self.fc(out)\n",
    "        return out"
   ]
  },
  {
   "cell_type": "code",
   "execution_count": 17,
   "metadata": {},
   "outputs": [
    {
     "name": "stdout",
     "output_type": "stream",
     "text": [
      "total batch : 600\n",
      "[epoch  1/15] loss : 0.231843\n",
      "[epoch  2/15] loss : 0.061681\n",
      "[epoch  3/15] loss : 0.045757\n",
      "[epoch  4/15] loss : 0.036138\n",
      "[epoch  5/15] loss : 0.030492\n",
      "[epoch  6/15] loss : 0.024981\n",
      "[epoch  7/15] loss : 0.021220\n",
      "[epoch  8/15] loss : 0.017562\n",
      "[epoch  9/15] loss : 0.015908\n",
      "[epoch 10/15] loss : 0.012663\n",
      "[epoch 11/15] loss : 0.011111\n",
      "[epoch 12/15] loss : 0.008808\n",
      "[epoch 13/15] loss : 0.008896\n",
      "[epoch 14/15] loss : 0.007095\n",
      "[epoch 15/15] loss : 0.005202\n"
     ]
    }
   ],
   "source": [
    "total_batch = len(data_loader)\n",
    "print(f'total batch : {total_batch}')\n",
    "\n",
    "model = CNN().to(device)\n",
    "loss_fn = nn.CrossEntropyLoss().to(device)\n",
    "optimizer = torch.optim.Adam(model.parameters(), lr=learning_rate)\n",
    "\n",
    "for epoch in range(traning_epochs):\n",
    "    \n",
    "    avg_loss = 0\n",
    "    \n",
    "    for x, y in data_loader:\n",
    "        x = x.to(device)\n",
    "        y = y.to(device)\n",
    "        \n",
    "        pred = model(x)\n",
    "        loss = loss_fn(pred, y)\n",
    "        \n",
    "        optimizer.zero_grad()\n",
    "        loss.backward()\n",
    "        optimizer.step()\n",
    "        \n",
    "        avg_loss += loss / total_batch\n",
    "    \n",
    "    print(f'[epoch {epoch+1:>2d}/{traning_epochs}] loss : {avg_loss:>6f}')"
   ]
  },
  {
   "cell_type": "code",
   "execution_count": 18,
   "metadata": {},
   "outputs": [
    {
     "name": "stdout",
     "output_type": "stream",
     "text": [
      "accuracy : 0.9854999780654907\n"
     ]
    }
   ],
   "source": [
    "with torch.no_grad():\n",
    "    x_test = mnist_test.test_data.view(len(mnist_test), 1, 28, 28).float().to(device)\n",
    "    y_test = mnist_test.test_labels.to(device)\n",
    "    \n",
    "    pred = model(x_test)\n",
    "    correct = torch.argmax(pred, 1) == y_test\n",
    "    acc = correct.float().mean()\n",
    "    \n",
    "    print(f'accuracy : {acc.item()}')"
   ]
  },
  {
   "cell_type": "markdown",
   "metadata": {},
   "source": [
    "# deep CNN MNIST\n"
   ]
  },
  {
   "cell_type": "code",
   "execution_count": 19,
   "metadata": {},
   "outputs": [],
   "source": [
    "import torch\n",
    "from torch import nn\n",
    "from torchvision import datasets, transforms"
   ]
  },
  {
   "cell_type": "code",
   "execution_count": 20,
   "metadata": {},
   "outputs": [],
   "source": [
    "device = 'cuda' if torch.cuda.is_available() else 'cpu'\n",
    "torch.manual_seed(42)\n",
    "\n",
    "if device == 'cuda':\n",
    "    torch.cuda.manual_seed_all(42)"
   ]
  },
  {
   "cell_type": "code",
   "execution_count": 21,
   "metadata": {},
   "outputs": [],
   "source": [
    "learning_rate = 0.001\n",
    "traning_epochs = 15\n",
    "batch_size = 100"
   ]
  },
  {
   "cell_type": "code",
   "execution_count": 22,
   "metadata": {},
   "outputs": [],
   "source": [
    "mnist_train = datasets.MNIST(root=data_path, train=True, download=True,\n",
    "                             transform=transforms.ToTensor())\n",
    "mnist_test = datasets.MNIST(root=data_path, train=False, download=True,\n",
    "                            transform=transforms.ToTensor())\n",
    "\n",
    "data_loader = DataLoader(dataset=mnist_train, batch_size=batch_size,\n",
    "                         shuffle=True, drop_last=True)"
   ]
  },
  {
   "cell_type": "code",
   "execution_count": 23,
   "metadata": {},
   "outputs": [],
   "source": [
    "class CNN(nn.Module):\n",
    "    \n",
    "    def __init__(self):\n",
    "        super(CNN, self).__init__()\n",
    "        \n",
    "        self.keep_prob = 0.5\n",
    "        \n",
    "        self.layer1 = nn.Sequential(\n",
    "            # input shape = (n, 1, 28, 28)\n",
    "            nn.Conv2d(in_channels=1, out_channels=32, \n",
    "                      kernel_size=3, stride=1, padding=1),\n",
    "            # (n, 32, 28, 28)\n",
    "            nn.ReLU(),\n",
    "            nn.MaxPool2d(kernel_size=2, stride=2)\n",
    "            # (n, 32, 14, 14)\n",
    "        )\n",
    "        \n",
    "        self.layer2 = nn.Sequential(\n",
    "            nn.Conv2d(in_channels=32, out_channels=64, \n",
    "                      kernel_size=3, stride=1, padding=1),\n",
    "            # (n, 64, 14, 14)\n",
    "            nn.ReLU(),\n",
    "            nn.MaxPool2d(kernel_size=2, stride=2)\n",
    "            # (n, 64, 7, 7)\n",
    "        )\n",
    "        \n",
    "        self.layer3 = nn.Sequential(\n",
    "            nn.Conv2d(in_channels=64, out_channels=128, \n",
    "                      kernel_size=3, stride=1, padding=1),\n",
    "            # (n, 128, 7, 7)\n",
    "            nn.ReLU(),\n",
    "            nn.MaxPool2d(kernel_size=2, stride=2, padding=1)\n",
    "            # (n, 128, 4, 4)\n",
    "        )\n",
    "        \n",
    "        self.fc1 = nn.Linear(in_features=4*4*128, out_features=625, bias=True)\n",
    "        nn.init.xavier_uniform_(self.fc1.weight)\n",
    "        \n",
    "        self.layer4 = nn.Sequential(\n",
    "            self.fc1,\n",
    "            nn.ReLU(),\n",
    "            nn.Dropout(p=1-self.keep_prob)\n",
    "        )\n",
    "        \n",
    "        self.fc2 = nn.Linear(in_features=625, out_features=10, bias=True)\n",
    "        nn.init.xavier_uniform_(self.fc2.weight)\n",
    "    \n",
    "    def forward(self, x):\n",
    "        out = self.layer1(x)\n",
    "        out = self.layer2(out)\n",
    "        out = self.layer3(out)\n",
    "        out = out.view(out.size(dim=0), -1) # flatten\n",
    "        out = self.layer4(out)\n",
    "        out = self.fc2(out)\n",
    "        return out"
   ]
  },
  {
   "cell_type": "code",
   "execution_count": 24,
   "metadata": {},
   "outputs": [
    {
     "name": "stdout",
     "output_type": "stream",
     "text": [
      "total batch : 600\n",
      "[epoch  1/15] loss : 0.202598\n",
      "[epoch  2/15] loss : 0.053756\n",
      "[epoch  3/15] loss : 0.036657\n",
      "[epoch  4/15] loss : 0.029192\n",
      "[epoch  5/15] loss : 0.023687\n",
      "[epoch  6/15] loss : 0.019849\n",
      "[epoch  7/15] loss : 0.017206\n",
      "[epoch  8/15] loss : 0.014700\n",
      "[epoch  9/15] loss : 0.011014\n",
      "[epoch 10/15] loss : 0.010909\n",
      "[epoch 11/15] loss : 0.011727\n",
      "[epoch 12/15] loss : 0.008070\n",
      "[epoch 13/15] loss : 0.008460\n",
      "[epoch 14/15] loss : 0.007494\n",
      "[epoch 15/15] loss : 0.007788\n"
     ]
    }
   ],
   "source": [
    "total_batch = len(data_loader)\n",
    "print(f'total batch : {total_batch}')\n",
    "\n",
    "model = CNN().to(device)\n",
    "loss_fn = nn.CrossEntropyLoss().to(device)\n",
    "optimizer = torch.optim.Adam(model.parameters(), lr=learning_rate)\n",
    "\n",
    "for epoch in range(traning_epochs):\n",
    "    \n",
    "    avg_loss = 0\n",
    "    \n",
    "    for x, y in data_loader:\n",
    "        x = x.to(device)\n",
    "        y = y.to(device)\n",
    "        \n",
    "        pred = model(x)\n",
    "        loss = loss_fn(pred, y)\n",
    "        \n",
    "        optimizer.zero_grad()\n",
    "        loss.backward()\n",
    "        optimizer.step()\n",
    "        \n",
    "        avg_loss += loss / total_batch\n",
    "    \n",
    "    print(f'[epoch {epoch+1:>2d}/{traning_epochs}] loss : {avg_loss:>6f}')"
   ]
  },
  {
   "cell_type": "code",
   "execution_count": 25,
   "metadata": {},
   "outputs": [
    {
     "name": "stdout",
     "output_type": "stream",
     "text": [
      "accuracy : 0.9297999739646912\n"
     ]
    }
   ],
   "source": [
    "with torch.no_grad():\n",
    "    x_test = mnist_test.test_data.view(len(mnist_test), 1, 28, 28).float().to(device)\n",
    "    y_test = mnist_test.test_labels.to(device)\n",
    "    \n",
    "    pred = model(x_test)\n",
    "    correct = torch.argmax(pred, 1) == y_test\n",
    "    acc = correct.float().mean()\n",
    "    \n",
    "    print(f'accuracy : {acc.item()}')"
   ]
  }
 ],
 "metadata": {
  "kernelspec": {
   "display_name": "Python 3.7.13 ('py37')",
   "language": "python",
   "name": "python3"
  },
  "language_info": {
   "codemirror_mode": {
    "name": "ipython",
    "version": 3
   },
   "file_extension": ".py",
   "mimetype": "text/x-python",
   "name": "python",
   "nbconvert_exporter": "python",
   "pygments_lexer": "ipython3",
   "version": "3.7.13"
  },
  "orig_nbformat": 4,
  "vscode": {
   "interpreter": {
    "hash": "88d3c87753b96e3541cfbb1341719adaf531df8dade04e9d24fed3c8b996c09d"
   }
  }
 },
 "nbformat": 4,
 "nbformat_minor": 2
}
