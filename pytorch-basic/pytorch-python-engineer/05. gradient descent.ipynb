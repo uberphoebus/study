{
 "cells": [
  {
   "cell_type": "code",
   "execution_count": 1,
   "metadata": {},
   "outputs": [],
   "source": [
    "import numpy as np"
   ]
  },
  {
   "cell_type": "code",
   "execution_count": 2,
   "metadata": {},
   "outputs": [],
   "source": [
    "# f = w * x\n",
    "\n",
    "x = np.array([1, 2, 3, 4], dtype=np.float32)\n",
    "y = np.array([2, 4, 6, 8], dtype=np.float32)\n",
    "\n",
    "w = 0.0\n",
    "\n",
    "# model prediction\n",
    "def forward(x):\n",
    "    return w * x\n",
    "\n",
    "# loss = MSE\n",
    "def loss(y, y_pred):\n",
    "    return ((y_pred - y)**2).mean()\n",
    "\n",
    "# gradient\n",
    "# MSE = 1/n * (w*x - y)**2\n",
    "# dJ/dw = 1/n * 2x(w*x - y)\n",
    "def gradient(x, y, y_pred):\n",
    "    return np.dot(2*x, y_pred - y).mean()"
   ]
  },
  {
   "cell_type": "code",
   "execution_count": 3,
   "metadata": {},
   "outputs": [
    {
     "name": "stdout",
     "output_type": "stream",
     "text": [
      "prediction before training : f(5) = 0.000\n",
      "[epoch  1] w = 1.200 / loss = 30.00000000\n",
      "[epoch  3] w = 1.872 / loss = 0.76800019\n",
      "[epoch  5] w = 1.980 / loss = 0.01966083\n",
      "[epoch  7] w = 1.997 / loss = 0.00050332\n",
      "[epoch  9] w = 1.999 / loss = 0.00001288\n",
      "[epoch 11] w = 2.000 / loss = 0.00000033\n",
      "[epoch 13] w = 2.000 / loss = 0.00000001\n",
      "[epoch 15] w = 2.000 / loss = 0.00000000\n",
      "[epoch 17] w = 2.000 / loss = 0.00000000\n",
      "[epoch 19] w = 2.000 / loss = 0.00000000\n",
      "prediction after training : f(5) = 10.000\n"
     ]
    }
   ],
   "source": [
    "print(f'prediction before training : f(5) = {forward(5):.3f}')\n",
    "\n",
    "learning_rate = 0.01\n",
    "n_iters = 20\n",
    "\n",
    "for epoch in range(n_iters):\n",
    "    # prediction = forward pass\n",
    "    y_pred = forward(x)\n",
    "    \n",
    "    # loss\n",
    "    l = loss(y, y_pred)\n",
    "    \n",
    "    # gradients\n",
    "    dw = gradient(x, y, y_pred)\n",
    "    \n",
    "    # update weights\n",
    "    w -= learning_rate * dw\n",
    "    \n",
    "    if epoch % 2 == 0:\n",
    "        print(f'[epoch {epoch+1:2d}] w = {w:.3f} / loss = {l:.8f}')\n",
    "\n",
    "print(f'prediction after training : f(5) = {forward(5):.3f}')"
   ]
  },
  {
   "cell_type": "code",
   "execution_count": 4,
   "metadata": {},
   "outputs": [],
   "source": [
    "import torch"
   ]
  },
  {
   "cell_type": "code",
   "execution_count": 5,
   "metadata": {},
   "outputs": [
    {
     "name": "stdout",
     "output_type": "stream",
     "text": [
      "prediction before training : f(5) = 0.000\n",
      "[epoch  1] w = 0.300 / loss = 30.00000000\n",
      "[epoch 11] w = 1.665 / loss = 1.16278565\n",
      "[epoch 21] w = 1.934 / loss = 0.04506890\n",
      "[epoch 31] w = 1.987 / loss = 0.00174685\n",
      "[epoch 41] w = 1.997 / loss = 0.00006770\n",
      "[epoch 51] w = 1.999 / loss = 0.00000262\n",
      "[epoch 61] w = 2.000 / loss = 0.00000010\n",
      "[epoch 71] w = 2.000 / loss = 0.00000000\n",
      "[epoch 81] w = 2.000 / loss = 0.00000000\n",
      "[epoch 91] w = 2.000 / loss = 0.00000000\n",
      "prediction after training : f(5) = 10.000\n"
     ]
    }
   ],
   "source": [
    "# f = w * x\n",
    "x = torch.tensor([1, 2, 3, 4], dtype=torch.float)\n",
    "y = torch.tensor([2, 4, 6, 8], dtype=torch.float)\n",
    "w = torch.tensor(0.0, dtype=torch.float, requires_grad=True)\n",
    "\n",
    "# model prediction\n",
    "def forward(x):\n",
    "    return w * x\n",
    "\n",
    "# loss = MSE\n",
    "def loss(y, y_pred):\n",
    "    return ((y_pred - y)**2).mean()\n",
    "\n",
    "print(f'prediction before training : f(5) = {forward(5):.3f}')\n",
    "\n",
    "learning_rate = 0.01\n",
    "n_iters = 100\n",
    "\n",
    "for epoch in range(n_iters):\n",
    "    # prediction = forward pass\n",
    "    y_pred = forward(x)\n",
    "    \n",
    "    # loss\n",
    "    l = loss(y, y_pred)\n",
    "    \n",
    "    # gradients = backward pass\n",
    "    l.backward() # dl/dw\n",
    "    \n",
    "    # update weights\n",
    "    with torch.no_grad():\n",
    "        w -= learning_rate * w.grad\n",
    "    \n",
    "    # zero gradients\n",
    "    w.grad.zero_()\n",
    "    \n",
    "    if epoch % 10 == 0:\n",
    "        print(f'[epoch {epoch+1:2d}] w = {w:.3f} / loss = {l:.8f}')\n",
    "\n",
    "print(f'prediction after training : f(5) = {forward(5):.3f}')"
   ]
  }
 ],
 "metadata": {
  "kernelspec": {
   "display_name": "Python 3.7.13 ('py37')",
   "language": "python",
   "name": "python3"
  },
  "language_info": {
   "codemirror_mode": {
    "name": "ipython",
    "version": 3
   },
   "file_extension": ".py",
   "mimetype": "text/x-python",
   "name": "python",
   "nbconvert_exporter": "python",
   "pygments_lexer": "ipython3",
   "version": "3.7.13"
  },
  "orig_nbformat": 4,
  "vscode": {
   "interpreter": {
    "hash": "88d3c87753b96e3541cfbb1341719adaf531df8dade04e9d24fed3c8b996c09d"
   }
  }
 },
 "nbformat": 4,
 "nbformat_minor": 2
}
