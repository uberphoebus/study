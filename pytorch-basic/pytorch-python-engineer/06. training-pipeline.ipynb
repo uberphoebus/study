{
 "cells": [
  {
   "cell_type": "code",
   "execution_count": 1,
   "metadata": {},
   "outputs": [],
   "source": [
    "# 1. model : input, output size, forward pass\n",
    "# 2. loss & optimizer\n",
    "# 3. training loop : forward, backward, update weights"
   ]
  },
  {
   "cell_type": "code",
   "execution_count": 2,
   "metadata": {},
   "outputs": [],
   "source": [
    "import torch\n",
    "import torch.nn as nn"
   ]
  },
  {
   "cell_type": "code",
   "execution_count": 3,
   "metadata": {},
   "outputs": [
    {
     "name": "stdout",
     "output_type": "stream",
     "text": [
      "prediction before training : f(5) = -2.441\n",
      "[epoch  1] w = -0.054 / loss = 47.82585907\n",
      "[epoch 11] w = 1.534 / loss = 1.27479768\n",
      "[epoch 21] w = 1.793 / loss = 0.06823235\n",
      "[epoch 31] w = 1.839 / loss = 0.03496389\n",
      "[epoch 41] w = 1.850 / loss = 0.03217083\n",
      "[epoch 51] w = 1.855 / loss = 0.03027873\n",
      "[epoch 61] w = 1.860 / loss = 0.02851580\n",
      "[epoch 71] w = 1.864 / loss = 0.02685604\n",
      "[epoch 81] w = 1.868 / loss = 0.02529286\n",
      "[epoch 91] w = 1.872 / loss = 0.02382073\n",
      "prediction after training : f(5) = 9.743\n"
     ]
    }
   ],
   "source": [
    "# f = w * x\n",
    "x = torch.tensor([[1], [2], [3], [4]], dtype=torch.float)\n",
    "y = torch.tensor([[2], [4], [6], [8]], dtype=torch.float)\n",
    "x_test = torch.tensor([5], dtype=torch.float)\n",
    "\n",
    "# model\n",
    "n_samples, n_features = x.shape\n",
    "\n",
    "intput_size = n_features\n",
    "output_size = n_features\n",
    "model = nn.Linear(in_features=intput_size, out_features=output_size)\n",
    "\n",
    "class LinearRegression(nn.Module):\n",
    "    \n",
    "    def __init__(self, input_dim, output_dim):\n",
    "        super(LinearRegression, self).__init__()\n",
    "        \n",
    "        # define layers\n",
    "        self.lin = nn.Linear(input_dim, output_dim)\n",
    "    \n",
    "    def forward(self, x):\n",
    "        return self.lin(x)\n",
    "\n",
    "model = LinearRegression(intput_size, output_size)\n",
    "\n",
    "print(f'prediction before training : f(5) = {model(x_test).item():.3f}')\n",
    "\n",
    "# training\n",
    "learning_rate = 0.01\n",
    "n_iters = 100\n",
    "\n",
    "loss = nn.MSELoss()\n",
    "optimizer = torch.optim.SGD(model.parameters(), lr=learning_rate)\n",
    "\n",
    "for epoch in range(n_iters):\n",
    "    # prediction = forward pass\n",
    "    y_pred = model(x)\n",
    "    \n",
    "    # loss\n",
    "    l = loss(y, y_pred)\n",
    "    \n",
    "    # gradients = backward pass\n",
    "    l.backward() # dl/dw\n",
    "    \n",
    "    # update weights\n",
    "    optimizer.step()\n",
    "    \n",
    "    # zero gradients\n",
    "    optimizer.zero_grad()\n",
    "    \n",
    "    if epoch % 10 == 0:\n",
    "        [w, b] = model.parameters()\n",
    "        print(f'[epoch {epoch+1:2d}] w = {w[0][0]:.3f} / loss = {l:.8f}')\n",
    "\n",
    "print(f'prediction after training : f(5) = {model(x_test).item():.3f}')"
   ]
  }
 ],
 "metadata": {
  "kernelspec": {
   "display_name": "Python 3.7.13 ('py37')",
   "language": "python",
   "name": "python3"
  },
  "language_info": {
   "codemirror_mode": {
    "name": "ipython",
    "version": 3
   },
   "file_extension": ".py",
   "mimetype": "text/x-python",
   "name": "python",
   "nbconvert_exporter": "python",
   "pygments_lexer": "ipython3",
   "version": "3.7.13"
  },
  "orig_nbformat": 4,
  "vscode": {
   "interpreter": {
    "hash": "88d3c87753b96e3541cfbb1341719adaf531df8dade04e9d24fed3c8b996c09d"
   }
  }
 },
 "nbformat": 4,
 "nbformat_minor": 2
}
