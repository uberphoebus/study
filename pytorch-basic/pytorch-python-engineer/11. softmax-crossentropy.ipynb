{
 "cells": [
  {
   "cell_type": "code",
   "execution_count": 1,
   "metadata": {},
   "outputs": [],
   "source": [
    "import torch\n",
    "import torch.nn as nn\n",
    "import numpy as np"
   ]
  },
  {
   "cell_type": "code",
   "execution_count": 14,
   "metadata": {},
   "outputs": [
    {
     "name": "stdout",
     "output_type": "stream",
     "text": [
      "softmax numpy : [0.659  0.2424 0.0986]\n"
     ]
    }
   ],
   "source": [
    "def softmax(x):\n",
    "    return np.exp(x) / np.sum(np.exp(x), axis=0)\n",
    "\n",
    "x = np.array([2.0, 1.0, 0.1])\n",
    "outputs = softmax(x)\n",
    "print(f'softmax numpy : {np.round(outputs, 4)}')"
   ]
  },
  {
   "cell_type": "code",
   "execution_count": 15,
   "metadata": {},
   "outputs": [
    {
     "name": "stdout",
     "output_type": "stream",
     "text": [
      "softmax torch : tensor([0.6590, 0.2424, 0.0986])\n"
     ]
    }
   ],
   "source": [
    "x = torch.tensor([2.0, 1.0, 0.1])\n",
    "outputs = torch.softmax(x, dim=0)\n",
    "print(f'softmax torch : {outputs}')"
   ]
  },
  {
   "cell_type": "code",
   "execution_count": 16,
   "metadata": {},
   "outputs": [
    {
     "name": "stdout",
     "output_type": "stream",
     "text": [
      "loss1 numpy : 0.3567\n",
      "loss2 numpy : 2.3026\n"
     ]
    }
   ],
   "source": [
    "def cross_entropy(actual, predicted):\n",
    "    loss = -np.sum(actual * np.log(predicted))\n",
    "    return loss\n",
    "\n",
    "y = np.array([1, 0, 0]) # y must be one-hot encoded\n",
    "\n",
    "y_pred_good = np.array([0.7, 0.2, 0.1])\n",
    "y_pred_bad = np.array([0.1, 0.3, 0.6])\n",
    "\n",
    "l1 = cross_entropy(y, y_pred_good)\n",
    "l2 = cross_entropy(y, y_pred_bad)\n",
    "\n",
    "print(f'loss1 numpy : {l1:.4f}')\n",
    "print(f'loss2 numpy : {l2:.4f}')"
   ]
  },
  {
   "cell_type": "code",
   "execution_count": 30,
   "metadata": {},
   "outputs": [
    {
     "name": "stdout",
     "output_type": "stream",
     "text": [
      "loss1 torch : 0.3018\n",
      "loss2 torch : 1.6242\n"
     ]
    }
   ],
   "source": [
    "# nn.CrossEntropyLoss = nn.LogSoftmax + nn.NLLLoss\n",
    "# y must have class labels, not one-hot\n",
    "# y_pred must have raw scores(logits), no softmax\n",
    "\n",
    "loss = nn.CrossEntropyLoss()\n",
    "\n",
    "y = torch.tensor([2, 0, 1])\n",
    "# n_samples x n_classes = 3 x 3\n",
    "y_pred_good = torch.tensor([[0.1, 1.0, 2.1],\n",
    "                            [2.0, 1.0, 0.1],\n",
    "                            [0.1, 3.0, 0.1]])\n",
    "y_pred_bad = torch.tensor([[2.1, 1.0, 0.1],\n",
    "                           [0.1, 1.0, 2.1],\n",
    "                           [0.1, 3.0, 0.1]])\n",
    "\n",
    "l1 = loss(y_pred_good, y)\n",
    "l2 = loss(y_pred_bad, y)\n",
    "\n",
    "print(f'loss1 torch : {l1.item():.4f}')\n",
    "print(f'loss2 torch : {l2.item():.4f}')"
   ]
  },
  {
   "cell_type": "code",
   "execution_count": 31,
   "metadata": {},
   "outputs": [
    {
     "data": {
      "text/plain": [
       "(tensor([2, 0, 1]), tensor([0, 2, 1]))"
      ]
     },
     "execution_count": 31,
     "metadata": {},
     "output_type": "execute_result"
    }
   ],
   "source": [
    "_, predictions1 = torch.max(input=y_pred_good, dim=1)\n",
    "_, predictions2 = torch.max(input=y_pred_bad, dim=1)\n",
    "\n",
    "predictions1, predictions2"
   ]
  }
 ],
 "metadata": {
  "kernelspec": {
   "display_name": "Python 3.7.13 ('py37')",
   "language": "python",
   "name": "python3"
  },
  "language_info": {
   "codemirror_mode": {
    "name": "ipython",
    "version": 3
   },
   "file_extension": ".py",
   "mimetype": "text/x-python",
   "name": "python",
   "nbconvert_exporter": "python",
   "pygments_lexer": "ipython3",
   "version": "3.7.13"
  },
  "orig_nbformat": 4,
  "vscode": {
   "interpreter": {
    "hash": "88d3c87753b96e3541cfbb1341719adaf531df8dade04e9d24fed3c8b996c09d"
   }
  }
 },
 "nbformat": 4,
 "nbformat_minor": 2
}
