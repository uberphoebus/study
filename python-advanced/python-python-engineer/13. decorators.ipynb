{
 "cells": [
  {
   "cell_type": "code",
   "execution_count": 23,
   "metadata": {},
   "outputs": [
    {
     "name": "stdout",
     "output_type": "stream",
     "text": [
      "alex\n",
      "start\n",
      "alex\n",
      "end\n"
     ]
    }
   ],
   "source": [
    "import functools\n",
    "\n",
    "def start_end_decorator(func):\n",
    "    \n",
    "    @functools.wraps(func)\n",
    "    def wrapper(*args, **kwargs):\n",
    "        print('start')\n",
    "        result = func(*args, **kwargs)\n",
    "        print('end')\n",
    "        return result\n",
    "    return wrapper\n",
    "\n",
    "def print_name():\n",
    "    print('alex')\n",
    "\n",
    "print_name()\n",
    "\n",
    "print_name = start_end_decorator(print_name)\n",
    "print_name()"
   ]
  },
  {
   "cell_type": "code",
   "execution_count": 24,
   "metadata": {},
   "outputs": [
    {
     "name": "stdout",
     "output_type": "stream",
     "text": [
      "start\n",
      "alex\n",
      "end\n"
     ]
    }
   ],
   "source": [
    "@start_end_decorator\n",
    "def print_name():\n",
    "    print('alex')\n",
    "\n",
    "print_name()"
   ]
  },
  {
   "cell_type": "code",
   "execution_count": 25,
   "metadata": {},
   "outputs": [
    {
     "name": "stdout",
     "output_type": "stream",
     "text": [
      "start\n",
      "end\n",
      "15\n",
      "Help on function add5 in module __main__:\n",
      "\n",
      "add5(x)\n",
      "\n",
      "None\n",
      "add5\n"
     ]
    }
   ],
   "source": [
    "@start_end_decorator\n",
    "def add5(x):\n",
    "    return x + 5\n",
    "\n",
    "result = add5(10)\n",
    "print(result)\n",
    "\n",
    "print(help(add5))\n",
    "print(add5.__name__)"
   ]
  },
  {
   "cell_type": "code",
   "execution_count": 27,
   "metadata": {},
   "outputs": [
    {
     "name": "stdout",
     "output_type": "stream",
     "text": [
      "hello alex\n",
      "hello alex\n",
      "hello alex\n",
      "hello alex\n"
     ]
    }
   ],
   "source": [
    "def repeat(num_times):\n",
    "    def decorator_repeat(func):\n",
    "        \n",
    "        @functools.wraps(func)\n",
    "        def wrapper(*args, **kwargs):\n",
    "            for _ in range(num_times):\n",
    "                result = func(*args, **kwargs)\n",
    "            return result\n",
    "        return wrapper\n",
    "    return decorator_repeat\n",
    "\n",
    "@repeat(num_times=4)\n",
    "def greet(name):\n",
    "    print(f'hello {name}')\n",
    "\n",
    "greet('alex')"
   ]
  },
  {
   "cell_type": "code",
   "execution_count": null,
   "metadata": {},
   "outputs": [],
   "source": []
  },
  {
   "cell_type": "code",
   "execution_count": 10,
   "metadata": {},
   "outputs": [
    {
     "name": "stdout",
     "output_type": "stream",
     "text": [
      "time : 1.072134256362915s\n"
     ]
    }
   ],
   "source": [
    "import time\n",
    "\n",
    "def timeit(func):\n",
    "    \n",
    "    def wrapper():\n",
    "        start = time.time()\n",
    "        func()\n",
    "        end = time.time()\n",
    "        print(f'time : {end - start}s')\n",
    "    return wrapper\n",
    "\n",
    "@timeit\n",
    "def sum_():\n",
    "    return sum([i for i in range(10000000)])\n",
    "\n",
    "sum_()"
   ]
  }
 ],
 "metadata": {
  "kernelspec": {
   "display_name": "Python 3.7.13 ('py37')",
   "language": "python",
   "name": "python3"
  },
  "language_info": {
   "codemirror_mode": {
    "name": "ipython",
    "version": 3
   },
   "file_extension": ".py",
   "mimetype": "text/x-python",
   "name": "python",
   "nbconvert_exporter": "python",
   "pygments_lexer": "ipython3",
   "version": "3.7.13"
  },
  "orig_nbformat": 4,
  "vscode": {
   "interpreter": {
    "hash": "88d3c87753b96e3541cfbb1341719adaf531df8dade04e9d24fed3c8b996c09d"
   }
  }
 },
 "nbformat": 4,
 "nbformat_minor": 2
}
