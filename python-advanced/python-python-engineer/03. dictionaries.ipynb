{
 "cells": [
  {
   "cell_type": "code",
   "execution_count": 1,
   "metadata": {},
   "outputs": [
    {
     "name": "stdout",
     "output_type": "stream",
     "text": [
      "{'name': 'max', 'age': 28, 'city': 'New York'}\n",
      "{'name': 'mary', 'age': 27, 'city': 'Boston'}\n",
      "max\n"
     ]
    }
   ],
   "source": [
    "mydict = {'name': 'max', 'age': 28, 'city': 'New York'}\n",
    "mydict2 = dict(name='mary', age=27, city='Boston')\n",
    "\n",
    "print(mydict)\n",
    "print(mydict2)\n",
    "\n",
    "print(mydict['name'])"
   ]
  },
  {
   "cell_type": "code",
   "execution_count": 2,
   "metadata": {},
   "outputs": [
    {
     "name": "stdout",
     "output_type": "stream",
     "text": [
      "{'name': 'max', 'age': 28, 'city': 'New York', 'email': 'max@xyz.com'}\n"
     ]
    }
   ],
   "source": [
    "mydict['email'] = 'max@xyz.com'\n",
    "print(mydict)"
   ]
  },
  {
   "cell_type": "code",
   "execution_count": 3,
   "metadata": {},
   "outputs": [
    {
     "name": "stdout",
     "output_type": "stream",
     "text": [
      "{'name': 'max', 'age': 28, 'city': 'New York', 'email': 'coolmax@xyz.com'}\n"
     ]
    }
   ],
   "source": [
    "mydict['email'] = 'coolmax@xyz.com'\n",
    "print(mydict)"
   ]
  },
  {
   "cell_type": "code",
   "execution_count": 4,
   "metadata": {},
   "outputs": [
    {
     "name": "stdout",
     "output_type": "stream",
     "text": [
      "{'age': 28, 'city': 'New York', 'email': 'coolmax@xyz.com'}\n"
     ]
    }
   ],
   "source": [
    "del mydict['name']\n",
    "print(mydict)"
   ]
  },
  {
   "cell_type": "code",
   "execution_count": 5,
   "metadata": {},
   "outputs": [
    {
     "name": "stdout",
     "output_type": "stream",
     "text": [
      "{'city': 'New York', 'email': 'coolmax@xyz.com'}\n"
     ]
    }
   ],
   "source": [
    "mydict.pop('age')\n",
    "print(mydict)"
   ]
  },
  {
   "cell_type": "code",
   "execution_count": 6,
   "metadata": {},
   "outputs": [
    {
     "name": "stdout",
     "output_type": "stream",
     "text": [
      "{'city': 'New York'}\n"
     ]
    }
   ],
   "source": [
    "mydict.popitem()\n",
    "print(mydict)"
   ]
  },
  {
   "cell_type": "code",
   "execution_count": 7,
   "metadata": {},
   "outputs": [
    {
     "name": "stdout",
     "output_type": "stream",
     "text": [
      "True\n"
     ]
    }
   ],
   "source": [
    "mydict = {'name': 'max', 'age': 28, 'city': 'New York'}\n",
    "\n",
    "if 'name' in mydict:\n",
    "    print(True)\n",
    "else:\n",
    "    print(False)"
   ]
  },
  {
   "cell_type": "code",
   "execution_count": 8,
   "metadata": {},
   "outputs": [
    {
     "name": "stdout",
     "output_type": "stream",
     "text": [
      "False\n"
     ]
    }
   ],
   "source": [
    "if 'email' in mydict:\n",
    "    print(True)\n",
    "else:\n",
    "    print(False)"
   ]
  },
  {
   "cell_type": "code",
   "execution_count": 9,
   "metadata": {},
   "outputs": [
    {
     "name": "stdout",
     "output_type": "stream",
     "text": [
      "max\n"
     ]
    }
   ],
   "source": [
    "try:\n",
    "    print(mydict['name'])\n",
    "except:\n",
    "    print('Error')"
   ]
  },
  {
   "cell_type": "code",
   "execution_count": 10,
   "metadata": {},
   "outputs": [
    {
     "name": "stdout",
     "output_type": "stream",
     "text": [
      "Error\n"
     ]
    }
   ],
   "source": [
    "try:\n",
    "    print(mydict['email'])\n",
    "except:\n",
    "    print('Error')"
   ]
  },
  {
   "cell_type": "code",
   "execution_count": 11,
   "metadata": {},
   "outputs": [
    {
     "name": "stdout",
     "output_type": "stream",
     "text": [
      "name\n",
      "age\n",
      "city\n"
     ]
    }
   ],
   "source": [
    "for key in mydict:\n",
    "    print(key)"
   ]
  },
  {
   "cell_type": "code",
   "execution_count": 12,
   "metadata": {},
   "outputs": [
    {
     "name": "stdout",
     "output_type": "stream",
     "text": [
      "name\n",
      "age\n",
      "city\n"
     ]
    }
   ],
   "source": [
    "for key in mydict.keys():\n",
    "    print(key)"
   ]
  },
  {
   "cell_type": "code",
   "execution_count": 13,
   "metadata": {},
   "outputs": [
    {
     "name": "stdout",
     "output_type": "stream",
     "text": [
      "max\n",
      "28\n",
      "New York\n"
     ]
    }
   ],
   "source": [
    "for val in mydict.values():\n",
    "    print(val)"
   ]
  },
  {
   "cell_type": "code",
   "execution_count": 14,
   "metadata": {},
   "outputs": [
    {
     "name": "stdout",
     "output_type": "stream",
     "text": [
      "name max\n",
      "age 28\n",
      "city New York\n"
     ]
    }
   ],
   "source": [
    "for key, val in mydict.items():\n",
    "    print(key, val)"
   ]
  },
  {
   "cell_type": "code",
   "execution_count": 15,
   "metadata": {},
   "outputs": [
    {
     "name": "stdout",
     "output_type": "stream",
     "text": [
      "{'name': 'max', 'age': 28, 'city': 'New York'}\n",
      "{'name': 'max', 'age': 28, 'city': 'New York', 'email': 'max@xyz.com'}\n",
      "{'name': 'max', 'age': 28, 'city': 'New York', 'email': 'max@xyz.com'}\n"
     ]
    }
   ],
   "source": [
    "mydict_cpy = mydict\n",
    "print(mydict_cpy)\n",
    "mydict_cpy['email'] = 'max@xyz.com'\n",
    "\n",
    "print(mydict_cpy)\n",
    "print(mydict)"
   ]
  },
  {
   "cell_type": "code",
   "execution_count": 16,
   "metadata": {},
   "outputs": [
    {
     "name": "stdout",
     "output_type": "stream",
     "text": [
      "{'name': 'max', 'age': 28, 'city': 'New York', 'email': 'max@xyz.com'}\n",
      "{'name': 'max', 'age': 28, 'city': 'New York'}\n",
      "{'name': 'max', 'age': 28, 'city': 'New York', 'email': 'max@xyz.com'}\n"
     ]
    }
   ],
   "source": [
    "mydict_cpy = mydict.copy()\n",
    "print(mydict_cpy)\n",
    "\n",
    "del mydict_cpy['email']\n",
    "print(mydict_cpy)\n",
    "print(mydict)"
   ]
  },
  {
   "cell_type": "code",
   "execution_count": 17,
   "metadata": {},
   "outputs": [
    {
     "name": "stdout",
     "output_type": "stream",
     "text": [
      "{'name': 'mary', 'age': 27, 'email': 'max@xyz.com', 'city': 'Boston'}\n",
      "{'name': 'mary', 'age': 27, 'city': 'Boston'}\n"
     ]
    }
   ],
   "source": [
    "my_dict = {'name': 'max', 'age': 28, 'email': 'max@xyz.com'}\n",
    "my_dict2 = dict(name='mary', age=27, city='Boston')\n",
    "\n",
    "my_dict.update(my_dict2)\n",
    "print(my_dict)\n",
    "print(my_dict2)"
   ]
  },
  {
   "cell_type": "code",
   "execution_count": 18,
   "metadata": {},
   "outputs": [
    {
     "name": "stdout",
     "output_type": "stream",
     "text": [
      "9\n",
      "36\n"
     ]
    }
   ],
   "source": [
    "my_dict = {3:9, 6:36, 9:81}\n",
    "print(my_dict[3])\n",
    "print(my_dict[6])"
   ]
  },
  {
   "cell_type": "code",
   "execution_count": 19,
   "metadata": {},
   "outputs": [
    {
     "name": "stdout",
     "output_type": "stream",
     "text": [
      "{(8, 7): 15}\n"
     ]
    }
   ],
   "source": [
    "mytuple = (8, 7) # not list\n",
    "mydict = {mytuple:15}\n",
    "print(mydict)"
   ]
  }
 ],
 "metadata": {
  "kernelspec": {
   "display_name": "Python 3.7.13 ('py37')",
   "language": "python",
   "name": "python3"
  },
  "language_info": {
   "codemirror_mode": {
    "name": "ipython",
    "version": 3
   },
   "file_extension": ".py",
   "mimetype": "text/x-python",
   "name": "python",
   "nbconvert_exporter": "python",
   "pygments_lexer": "ipython3",
   "version": "3.7.13"
  },
  "orig_nbformat": 4,
  "vscode": {
   "interpreter": {
    "hash": "88d3c87753b96e3541cfbb1341719adaf531df8dade04e9d24fed3c8b996c09d"
   }
  }
 },
 "nbformat": 4,
 "nbformat_minor": 2
}
