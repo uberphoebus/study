{
 "cells": [
  {
   "cell_type": "code",
   "execution_count": 1,
   "metadata": {},
   "outputs": [
    {
     "name": "stdout",
     "output_type": "stream",
     "text": [
      "0.8879242876488532\n",
      "4.324213004560776\n",
      "5\n",
      "7\n",
      "0.3863808746735083\n"
     ]
    }
   ],
   "source": [
    "import random\n",
    "\n",
    "a = random.random() # 0~1\n",
    "b = random.uniform(1, 10) # float\n",
    "c = random.randint(1, 10) # int\n",
    "d = random.randrange(1, 10) # int\n",
    "e = random.normalvariate(0, 1) # normal distribution\n",
    "print(a)\n",
    "print(b)\n",
    "print(c)\n",
    "print(d)\n",
    "print(e)"
   ]
  },
  {
   "cell_type": "code",
   "execution_count": 2,
   "metadata": {},
   "outputs": [
    {
     "name": "stdout",
     "output_type": "stream",
     "text": [
      "['A', 'B', 'C', 'D', 'E', 'F', 'G', 'H']\n",
      "C\n",
      "['B', 'C', 'A']\n",
      "['D', 'D', 'F']\n",
      "['C', 'E', 'B', 'F', 'G', 'H', 'A', 'D']\n"
     ]
    }
   ],
   "source": [
    "random.seed(1)\n",
    "\n",
    "mylist = list('ABCDEFGH')\n",
    "print(mylist)\n",
    "\n",
    "a = random.choice(mylist)\n",
    "b = random.sample(mylist, 3)\n",
    "c = random.choices(mylist, k=3) # multiple\n",
    "random.shuffle(mylist)\n",
    "print(a)\n",
    "print(b)\n",
    "print(c)\n",
    "print(mylist)"
   ]
  },
  {
   "cell_type": "code",
   "execution_count": 3,
   "metadata": {},
   "outputs": [
    {
     "name": "stdout",
     "output_type": "stream",
     "text": [
      "1\n",
      "3\n",
      "C\n"
     ]
    }
   ],
   "source": [
    "import secrets\n",
    "\n",
    "mylist = list('ABCDEFGH')\n",
    "\n",
    "a = secrets.randbelow(10)\n",
    "b = secrets.randbits(4) # 4bits\n",
    "c = secrets.choice(mylist)\n",
    "print(a)\n",
    "print(b)\n",
    "print(c)"
   ]
  },
  {
   "cell_type": "code",
   "execution_count": 4,
   "metadata": {},
   "outputs": [
    {
     "name": "stdout",
     "output_type": "stream",
     "text": [
      "[4.17022005e-01 7.20324493e-01 1.14374817e-04]\n",
      "[[0.30233257 0.14675589 0.09233859]\n",
      " [0.18626021 0.34556073 0.39676747]]\n",
      "[[2 4 5]\n",
      " [2 4 2]]\n",
      "[[1 2 3]\n",
      " [4 5 6]\n",
      " [7 8 9]]\n",
      "[[7 8 9]\n",
      " [4 5 6]\n",
      " [1 2 3]]\n"
     ]
    }
   ],
   "source": [
    "import numpy as np\n",
    "\n",
    "np.random.seed(1)\n",
    "\n",
    "a = np.random.rand(3) # float\n",
    "b = np.random.rand(2, 3)\n",
    "c = np.random.randint(low=0, high=10, size=(2, 3)) # int\n",
    "print(a)\n",
    "print(b)\n",
    "print(c)\n",
    "\n",
    "arr = np.array([[1, 2, 3], [4, 5, 6], [7, 8, 9]])\n",
    "print(arr)\n",
    "np.random.shuffle(arr) # shuffle in first axis\n",
    "print(arr)"
   ]
  }
 ],
 "metadata": {
  "kernelspec": {
   "display_name": "Python 3.7.13 ('py37')",
   "language": "python",
   "name": "python3"
  },
  "language_info": {
   "codemirror_mode": {
    "name": "ipython",
    "version": 3
   },
   "file_extension": ".py",
   "mimetype": "text/x-python",
   "name": "python",
   "nbconvert_exporter": "python",
   "pygments_lexer": "ipython3",
   "version": "3.7.13"
  },
  "orig_nbformat": 4,
  "vscode": {
   "interpreter": {
    "hash": "88d3c87753b96e3541cfbb1341719adaf531df8dade04e9d24fed3c8b996c09d"
   }
  }
 },
 "nbformat": 4,
 "nbformat_minor": 2
}
