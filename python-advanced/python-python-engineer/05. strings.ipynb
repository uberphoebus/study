{
 "cells": [
  {
   "cell_type": "code",
   "execution_count": 1,
   "metadata": {},
   "outputs": [
    {
     "name": "stdout",
     "output_type": "stream",
     "text": [
      "hello world\n"
     ]
    }
   ],
   "source": [
    "my_string = 'hello world'\n",
    "print(my_string)"
   ]
  },
  {
   "cell_type": "code",
   "execution_count": 2,
   "metadata": {},
   "outputs": [
    {
     "name": "stdout",
     "output_type": "stream",
     "text": [
      "i'm a programmer\n"
     ]
    }
   ],
   "source": [
    "my_string = 'i\\'m a programmer'\n",
    "print(my_string)"
   ]
  },
  {
   "cell_type": "code",
   "execution_count": 3,
   "metadata": {},
   "outputs": [
    {
     "name": "stdout",
     "output_type": "stream",
     "text": [
      "h\n"
     ]
    }
   ],
   "source": [
    "my_string = 'hello world'\n",
    "char = my_string[0]\n",
    "print(char)"
   ]
  },
  {
   "cell_type": "code",
   "execution_count": 4,
   "metadata": {},
   "outputs": [
    {
     "name": "stdout",
     "output_type": "stream",
     "text": [
      "ello\n"
     ]
    }
   ],
   "source": [
    "substring = my_string[1:5]\n",
    "print(substring)"
   ]
  },
  {
   "cell_type": "code",
   "execution_count": 5,
   "metadata": {},
   "outputs": [
    {
     "name": "stdout",
     "output_type": "stream",
     "text": [
      "hlowrd\n"
     ]
    }
   ],
   "source": [
    "substring = my_string[::2]\n",
    "print(substring)"
   ]
  },
  {
   "cell_type": "code",
   "execution_count": 6,
   "metadata": {},
   "outputs": [
    {
     "name": "stdout",
     "output_type": "stream",
     "text": [
      "dlrow olleh\n"
     ]
    }
   ],
   "source": [
    "substring = my_string[::-1]\n",
    "print(substring)"
   ]
  },
  {
   "cell_type": "code",
   "execution_count": 7,
   "metadata": {},
   "outputs": [
    {
     "name": "stdout",
     "output_type": "stream",
     "text": [
      "hello tom\n"
     ]
    }
   ],
   "source": [
    "greeting = 'hello'\n",
    "name = 'tom'\n",
    "sent = greeting + ' ' + name\n",
    "print(sent)"
   ]
  },
  {
   "cell_type": "code",
   "execution_count": 8,
   "metadata": {},
   "outputs": [
    {
     "name": "stdout",
     "output_type": "stream",
     "text": [
      "h\n",
      "e\n",
      "l\n",
      "l\n",
      "o\n"
     ]
    }
   ],
   "source": [
    "for i in greeting:\n",
    "    print(i)"
   ]
  },
  {
   "cell_type": "code",
   "execution_count": 9,
   "metadata": {},
   "outputs": [
    {
     "name": "stdout",
     "output_type": "stream",
     "text": [
      "True\n"
     ]
    }
   ],
   "source": [
    "if 'ell' in greeting:\n",
    "    print(True)"
   ]
  },
  {
   "cell_type": "code",
   "execution_count": 10,
   "metadata": {},
   "outputs": [
    {
     "name": "stdout",
     "output_type": "stream",
     "text": [
      "hello world\n",
      "HELLO WORLD\n",
      "True\n",
      "True\n",
      "2\n",
      "-1\n",
      "2\n",
      "hello universe\n"
     ]
    }
   ],
   "source": [
    "my_string = '    hello world    '\n",
    "my_string = my_string.strip()\n",
    "print(my_string)\n",
    "print(my_string.upper())\n",
    "print(my_string.startswith('h'))\n",
    "print(my_string.endswith('world'))\n",
    "print(my_string.find('ll'))\n",
    "print(my_string.find('p'))\n",
    "print(my_string.count('o'))\n",
    "print(my_string.replace('world', 'universe'))"
   ]
  },
  {
   "cell_type": "code",
   "execution_count": 11,
   "metadata": {},
   "outputs": [
    {
     "name": "stdout",
     "output_type": "stream",
     "text": [
      "['how', 'are', 'you', 'doing']\n",
      "how are you doing\n"
     ]
    }
   ],
   "source": [
    "my_string = 'how are you doing'\n",
    "my_list = my_string.split()\n",
    "new_string = ' '.join(my_list)\n",
    "print(my_list)\n",
    "print(new_string)"
   ]
  },
  {
   "cell_type": "code",
   "execution_count": 12,
   "metadata": {},
   "outputs": [
    {
     "name": "stdout",
     "output_type": "stream",
     "text": [
      "0.38520229999999955\n",
      "0.00865789999999933\n"
     ]
    }
   ],
   "source": [
    "from timeit import default_timer\n",
    "\n",
    "my_list = ['a'] * 1000000\n",
    "\n",
    "# bad\n",
    "start = default_timer()\n",
    "my_string = ''\n",
    "for i in my_list:\n",
    "    my_string += i\n",
    "stop = default_timer()\n",
    "print(stop - start)\n",
    "\n",
    "# good\n",
    "start = default_timer()\n",
    "my_string = ''.join(my_list)\n",
    "stop = default_timer()\n",
    "print(stop - start)"
   ]
  },
  {
   "cell_type": "code",
   "execution_count": 13,
   "metadata": {},
   "outputs": [
    {
     "name": "stdout",
     "output_type": "stream",
     "text": [
      "the var is tom\n"
     ]
    }
   ],
   "source": [
    "var = 'tom'\n",
    "my_string = 'the var is %s' % var\n",
    "print(my_string)"
   ]
  },
  {
   "cell_type": "code",
   "execution_count": 14,
   "metadata": {},
   "outputs": [
    {
     "name": "stdout",
     "output_type": "stream",
     "text": [
      "the var is 3\n"
     ]
    }
   ],
   "source": [
    "var = 3\n",
    "my_string = 'the var is %d' % var\n",
    "print(my_string)"
   ]
  },
  {
   "cell_type": "code",
   "execution_count": 15,
   "metadata": {},
   "outputs": [
    {
     "name": "stdout",
     "output_type": "stream",
     "text": [
      "the var is 3\n"
     ]
    }
   ],
   "source": [
    "var = 3.48949\n",
    "my_string = 'the var is %d' % var\n",
    "print(my_string)"
   ]
  },
  {
   "cell_type": "code",
   "execution_count": 16,
   "metadata": {},
   "outputs": [
    {
     "name": "stdout",
     "output_type": "stream",
     "text": [
      "the var is 3.489490\n"
     ]
    }
   ],
   "source": [
    "var = 3.48949\n",
    "my_string = 'the var is %f' % var\n",
    "print(my_string)"
   ]
  },
  {
   "cell_type": "code",
   "execution_count": 17,
   "metadata": {},
   "outputs": [
    {
     "name": "stdout",
     "output_type": "stream",
     "text": [
      "the var is 3.49\n"
     ]
    }
   ],
   "source": [
    "var = 3.48949\n",
    "my_string = 'the var is %.2f' % var\n",
    "print(my_string)"
   ]
  },
  {
   "cell_type": "code",
   "execution_count": 18,
   "metadata": {},
   "outputs": [
    {
     "name": "stdout",
     "output_type": "stream",
     "text": [
      "the var is 3.48949\n"
     ]
    }
   ],
   "source": [
    "var = 3.48949\n",
    "my_string = 'the var is {}'.format(var)\n",
    "print(my_string)"
   ]
  },
  {
   "cell_type": "code",
   "execution_count": 19,
   "metadata": {},
   "outputs": [
    {
     "name": "stdout",
     "output_type": "stream",
     "text": [
      "the var is 3.49\n"
     ]
    }
   ],
   "source": [
    "var = 3.48949\n",
    "my_string = 'the var is {:.2f}'.format(var)\n",
    "print(my_string)"
   ]
  },
  {
   "cell_type": "code",
   "execution_count": 20,
   "metadata": {},
   "outputs": [
    {
     "name": "stdout",
     "output_type": "stream",
     "text": [
      "the var is 3.49 and 6\n"
     ]
    }
   ],
   "source": [
    "var = 3.48949\n",
    "var2 = 6\n",
    "my_string = 'the var is {:.2f} and {}'.format(var, var2)\n",
    "print(my_string)"
   ]
  },
  {
   "cell_type": "code",
   "execution_count": 21,
   "metadata": {},
   "outputs": [
    {
     "name": "stdout",
     "output_type": "stream",
     "text": [
      "the var is 3.48949 and 6\n"
     ]
    }
   ],
   "source": [
    "var = 3.48949\n",
    "var2 = 6\n",
    "my_string = f'the var is {var} and {var2}'\n",
    "print(my_string)"
   ]
  },
  {
   "cell_type": "code",
   "execution_count": 22,
   "metadata": {},
   "outputs": [
    {
     "name": "stdout",
     "output_type": "stream",
     "text": [
      "the var is 6.97898 and 6\n"
     ]
    }
   ],
   "source": [
    "var = 3.48949\n",
    "var2 = 6\n",
    "my_string = f'the var is {var*2} and {var2}'\n",
    "print(my_string)"
   ]
  }
 ],
 "metadata": {
  "kernelspec": {
   "display_name": "Python 3.7.13 ('py37')",
   "language": "python",
   "name": "python3"
  },
  "language_info": {
   "codemirror_mode": {
    "name": "ipython",
    "version": 3
   },
   "file_extension": ".py",
   "mimetype": "text/x-python",
   "name": "python",
   "nbconvert_exporter": "python",
   "pygments_lexer": "ipython3",
   "version": "3.7.13"
  },
  "orig_nbformat": 4,
  "vscode": {
   "interpreter": {
    "hash": "88d3c87753b96e3541cfbb1341719adaf531df8dade04e9d24fed3c8b996c09d"
   }
  }
 },
 "nbformat": 4,
 "nbformat_minor": 2
}
