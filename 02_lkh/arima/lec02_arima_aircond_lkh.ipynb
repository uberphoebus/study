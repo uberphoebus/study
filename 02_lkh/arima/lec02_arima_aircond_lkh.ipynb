{
 "cells": [
  {
   "cell_type": "markdown",
   "id": "ceb6a3b7-a2c2-42dd-8928-84623598b585",
   "metadata": {},
   "source": [
    "## ARIMA를 활용한 코스피지수 시계열 분석"
   ]
  },
  {
   "cell_type": "code",
   "execution_count": 1,
   "id": "24c35b82-50b9-44a1-9a0f-11fa248abe45",
   "metadata": {},
   "outputs": [],
   "source": [
    "import numpy as np\n",
    "import pandas as pd\n",
    "import matplotlib.pyplot as plt\n",
    "from statsmodels.tsa.arima_model import ARIMA\n",
    "from statsmodels.graphics.tsaplots import plot_acf, plot_pacf\n",
    "import warnings\n",
    "warnings.filterwarnings(action='ignore')\n",
    "plt.rcParams['font.family'] = 'Malgun Gothic'\n"
   ]
  },
  {
   "cell_type": "code",
   "execution_count": 2,
   "id": "b786058e-2184-427e-bdc4-38268df5b888",
   "metadata": {},
   "outputs": [],
   "source": [
    "# from pykrx import stock\n",
    "# df = stock.get_index_ohlcv_by_date(\"20150101\", \"20201231\", \"1028\") #KOSPI코드\n",
    "# df = df.reset_index()\n",
    "# print(df.head(2))\n",
    "# df.to_csv(\"kospi.csv\", index=False)"
   ]
  },
  {
   "cell_type": "code",
   "execution_count": 3,
   "id": "cc4e1cdc-4ad4-4dbb-b311-dc868bdf1ead",
   "metadata": {},
   "outputs": [],
   "source": [
    "df = pd.read_csv('./datasets/daily_seoul_air_cond_2020.04.csv')"
   ]
  },
  {
   "cell_type": "code",
   "execution_count": 4,
   "id": "fab2a5b7-5447-4f1e-98a5-5159d0edda9e",
   "metadata": {},
   "outputs": [
    {
     "name": "stdout",
     "output_type": "stream",
     "text": [
      "(18000, 12)\n"
     ]
    },
    {
     "data": {
      "text/html": [
       "<div>\n",
       "<style scoped>\n",
       "    .dataframe tbody tr th:only-of-type {\n",
       "        vertical-align: middle;\n",
       "    }\n",
       "\n",
       "    .dataframe tbody tr th {\n",
       "        vertical-align: top;\n",
       "    }\n",
       "\n",
       "    .dataframe thead th {\n",
       "        text-align: right;\n",
       "    }\n",
       "</style>\n",
       "<table border=\"1\" class=\"dataframe\">\n",
       "  <thead>\n",
       "    <tr style=\"text-align: right;\">\n",
       "      <th></th>\n",
       "      <th>측정일시</th>\n",
       "      <th>권역코드</th>\n",
       "      <th>권역명</th>\n",
       "      <th>측정소코드</th>\n",
       "      <th>측정소명</th>\n",
       "      <th>미세먼지 1시간(㎍/㎥)</th>\n",
       "      <th>미세먼지 24시간(㎍/㎥)</th>\n",
       "      <th>초미세먼지</th>\n",
       "      <th>오존(ppm)</th>\n",
       "      <th>이산화질소농도(ppm)</th>\n",
       "      <th>일산화탄소농도(ppm)</th>\n",
       "      <th>아황산가스농도(ppm)</th>\n",
       "    </tr>\n",
       "  </thead>\n",
       "  <tbody>\n",
       "    <tr>\n",
       "      <th>0</th>\n",
       "      <td>202004302300</td>\n",
       "      <td>100</td>\n",
       "      <td>도심권</td>\n",
       "      <td>111123</td>\n",
       "      <td>종로구</td>\n",
       "      <td>40</td>\n",
       "      <td>43</td>\n",
       "      <td>21</td>\n",
       "      <td>0.036</td>\n",
       "      <td>0.008</td>\n",
       "      <td>0.3</td>\n",
       "      <td>0.003</td>\n",
       "    </tr>\n",
       "    <tr>\n",
       "      <th>1</th>\n",
       "      <td>202004302300</td>\n",
       "      <td>100</td>\n",
       "      <td>도심권</td>\n",
       "      <td>111121</td>\n",
       "      <td>중구</td>\n",
       "      <td>31</td>\n",
       "      <td>41</td>\n",
       "      <td>22</td>\n",
       "      <td>0.037</td>\n",
       "      <td>0.010</td>\n",
       "      <td>0.3</td>\n",
       "      <td>0.003</td>\n",
       "    </tr>\n",
       "    <tr>\n",
       "      <th>2</th>\n",
       "      <td>202004302300</td>\n",
       "      <td>100</td>\n",
       "      <td>도심권</td>\n",
       "      <td>111131</td>\n",
       "      <td>용산구</td>\n",
       "      <td>41</td>\n",
       "      <td>40</td>\n",
       "      <td>21</td>\n",
       "      <td>0.035</td>\n",
       "      <td>0.011</td>\n",
       "      <td>0.3</td>\n",
       "      <td>0.002</td>\n",
       "    </tr>\n",
       "    <tr>\n",
       "      <th>3</th>\n",
       "      <td>202004302300</td>\n",
       "      <td>101</td>\n",
       "      <td>서북권</td>\n",
       "      <td>111181</td>\n",
       "      <td>은평구</td>\n",
       "      <td>32</td>\n",
       "      <td>37</td>\n",
       "      <td>20</td>\n",
       "      <td>0.053</td>\n",
       "      <td>0.005</td>\n",
       "      <td>0.3</td>\n",
       "      <td>0.003</td>\n",
       "    </tr>\n",
       "    <tr>\n",
       "      <th>4</th>\n",
       "      <td>202004302300</td>\n",
       "      <td>101</td>\n",
       "      <td>서북권</td>\n",
       "      <td>111201</td>\n",
       "      <td>마포구</td>\n",
       "      <td>34</td>\n",
       "      <td>34</td>\n",
       "      <td>21</td>\n",
       "      <td>0.043</td>\n",
       "      <td>0.009</td>\n",
       "      <td>0.3</td>\n",
       "      <td>0.002</td>\n",
       "    </tr>\n",
       "  </tbody>\n",
       "</table>\n",
       "</div>"
      ],
      "text/plain": [
       "           측정일시  권역코드  권역명   측정소코드 측정소명  미세먼지 1시간(㎍/㎥)  미세먼지 24시간(㎍/㎥)  초미세먼지  \\\n",
       "0  202004302300   100  도심권  111123  종로구             40              43     21   \n",
       "1  202004302300   100  도심권  111121   중구             31              41     22   \n",
       "2  202004302300   100  도심권  111131  용산구             41              40     21   \n",
       "3  202004302300   101  서북권  111181  은평구             32              37     20   \n",
       "4  202004302300   101  서북권  111201  마포구             34              34     21   \n",
       "\n",
       "   오존(ppm)  이산화질소농도(ppm)  일산화탄소농도(ppm)  아황산가스농도(ppm)  \n",
       "0    0.036         0.008           0.3         0.003  \n",
       "1    0.037         0.010           0.3         0.003  \n",
       "2    0.035         0.011           0.3         0.002  \n",
       "3    0.053         0.005           0.3         0.003  \n",
       "4    0.043         0.009           0.3         0.002  "
      ]
     },
     "execution_count": 4,
     "metadata": {},
     "output_type": "execute_result"
    }
   ],
   "source": [
    "print(df.shape)\n",
    "df.rename(columns={\"초미세먼지(㎍/㎥)\":\"초미세먼지\"} , inplace=True)\n",
    "df.head()\n"
   ]
  },
  {
   "cell_type": "code",
   "execution_count": 5,
   "id": "1be52725-5143-4d31-963d-ccf73ff5d32a",
   "metadata": {},
   "outputs": [
    {
     "name": "stdout",
     "output_type": "stream",
     "text": [
      "<class 'pandas.core.frame.DataFrame'>\n",
      "RangeIndex: 18000 entries, 0 to 17999\n",
      "Data columns (total 12 columns):\n",
      " #   Column          Non-Null Count  Dtype  \n",
      "---  ------          --------------  -----  \n",
      " 0   측정일시            18000 non-null  int64  \n",
      " 1   권역코드            18000 non-null  int64  \n",
      " 2   권역명             18000 non-null  object \n",
      " 3   측정소코드           18000 non-null  int64  \n",
      " 4   측정소명            18000 non-null  object \n",
      " 5   미세먼지 1시간(㎍/㎥)   18000 non-null  int64  \n",
      " 6   미세먼지 24시간(㎍/㎥)  18000 non-null  int64  \n",
      " 7   초미세먼지           18000 non-null  int64  \n",
      " 8   오존(ppm)         18000 non-null  float64\n",
      " 9   이산화질소농도(ppm)    18000 non-null  float64\n",
      " 10  일산화탄소농도(ppm)    18000 non-null  float64\n",
      " 11  아황산가스농도(ppm)    18000 non-null  float64\n",
      "dtypes: float64(4), int64(6), object(2)\n",
      "memory usage: 1.6+ MB\n"
     ]
    }
   ],
   "source": [
    "df.info()"
   ]
  },
  {
   "cell_type": "code",
   "execution_count": 6,
   "id": "8564af18-3ffc-450b-9fb5-61567aeea130",
   "metadata": {},
   "outputs": [],
   "source": [
    "df['측정일시'] = pd.to_datetime(df['측정일시'], format=\"%Y%m%d%H%M\")   #202004302300"
   ]
  },
  {
   "cell_type": "code",
   "execution_count": 7,
   "id": "277c63a7-6980-4d07-89f5-90acd9b2a404",
   "metadata": {},
   "outputs": [
    {
     "data": {
      "text/html": [
       "<div>\n",
       "<style scoped>\n",
       "    .dataframe tbody tr th:only-of-type {\n",
       "        vertical-align: middle;\n",
       "    }\n",
       "\n",
       "    .dataframe tbody tr th {\n",
       "        vertical-align: top;\n",
       "    }\n",
       "\n",
       "    .dataframe thead th {\n",
       "        text-align: right;\n",
       "    }\n",
       "</style>\n",
       "<table border=\"1\" class=\"dataframe\">\n",
       "  <thead>\n",
       "    <tr style=\"text-align: right;\">\n",
       "      <th></th>\n",
       "      <th>측정일시</th>\n",
       "      <th>권역코드</th>\n",
       "      <th>권역명</th>\n",
       "      <th>측정소코드</th>\n",
       "      <th>측정소명</th>\n",
       "      <th>미세먼지 1시간(㎍/㎥)</th>\n",
       "      <th>미세먼지 24시간(㎍/㎥)</th>\n",
       "      <th>초미세먼지</th>\n",
       "      <th>오존(ppm)</th>\n",
       "      <th>이산화질소농도(ppm)</th>\n",
       "      <th>일산화탄소농도(ppm)</th>\n",
       "      <th>아황산가스농도(ppm)</th>\n",
       "    </tr>\n",
       "  </thead>\n",
       "  <tbody>\n",
       "    <tr>\n",
       "      <th>0</th>\n",
       "      <td>2020-04-30 23:00:00</td>\n",
       "      <td>100</td>\n",
       "      <td>도심권</td>\n",
       "      <td>111123</td>\n",
       "      <td>종로구</td>\n",
       "      <td>40</td>\n",
       "      <td>43</td>\n",
       "      <td>21</td>\n",
       "      <td>0.036</td>\n",
       "      <td>0.008</td>\n",
       "      <td>0.3</td>\n",
       "      <td>0.003</td>\n",
       "    </tr>\n",
       "    <tr>\n",
       "      <th>1</th>\n",
       "      <td>2020-04-30 23:00:00</td>\n",
       "      <td>100</td>\n",
       "      <td>도심권</td>\n",
       "      <td>111121</td>\n",
       "      <td>중구</td>\n",
       "      <td>31</td>\n",
       "      <td>41</td>\n",
       "      <td>22</td>\n",
       "      <td>0.037</td>\n",
       "      <td>0.010</td>\n",
       "      <td>0.3</td>\n",
       "      <td>0.003</td>\n",
       "    </tr>\n",
       "    <tr>\n",
       "      <th>2</th>\n",
       "      <td>2020-04-30 23:00:00</td>\n",
       "      <td>100</td>\n",
       "      <td>도심권</td>\n",
       "      <td>111131</td>\n",
       "      <td>용산구</td>\n",
       "      <td>41</td>\n",
       "      <td>40</td>\n",
       "      <td>21</td>\n",
       "      <td>0.035</td>\n",
       "      <td>0.011</td>\n",
       "      <td>0.3</td>\n",
       "      <td>0.002</td>\n",
       "    </tr>\n",
       "    <tr>\n",
       "      <th>3</th>\n",
       "      <td>2020-04-30 23:00:00</td>\n",
       "      <td>101</td>\n",
       "      <td>서북권</td>\n",
       "      <td>111181</td>\n",
       "      <td>은평구</td>\n",
       "      <td>32</td>\n",
       "      <td>37</td>\n",
       "      <td>20</td>\n",
       "      <td>0.053</td>\n",
       "      <td>0.005</td>\n",
       "      <td>0.3</td>\n",
       "      <td>0.003</td>\n",
       "    </tr>\n",
       "    <tr>\n",
       "      <th>4</th>\n",
       "      <td>2020-04-30 23:00:00</td>\n",
       "      <td>101</td>\n",
       "      <td>서북권</td>\n",
       "      <td>111201</td>\n",
       "      <td>마포구</td>\n",
       "      <td>34</td>\n",
       "      <td>34</td>\n",
       "      <td>21</td>\n",
       "      <td>0.043</td>\n",
       "      <td>0.009</td>\n",
       "      <td>0.3</td>\n",
       "      <td>0.002</td>\n",
       "    </tr>\n",
       "  </tbody>\n",
       "</table>\n",
       "</div>"
      ],
      "text/plain": [
       "                 측정일시  권역코드  권역명   측정소코드 측정소명  미세먼지 1시간(㎍/㎥)  미세먼지 24시간(㎍/㎥)  \\\n",
       "0 2020-04-30 23:00:00   100  도심권  111123  종로구             40              43   \n",
       "1 2020-04-30 23:00:00   100  도심권  111121   중구             31              41   \n",
       "2 2020-04-30 23:00:00   100  도심권  111131  용산구             41              40   \n",
       "3 2020-04-30 23:00:00   101  서북권  111181  은평구             32              37   \n",
       "4 2020-04-30 23:00:00   101  서북권  111201  마포구             34              34   \n",
       "\n",
       "   초미세먼지  오존(ppm)  이산화질소농도(ppm)  일산화탄소농도(ppm)  아황산가스농도(ppm)  \n",
       "0     21    0.036         0.008           0.3         0.003  \n",
       "1     22    0.037         0.010           0.3         0.003  \n",
       "2     21    0.035         0.011           0.3         0.002  \n",
       "3     20    0.053         0.005           0.3         0.003  \n",
       "4     21    0.043         0.009           0.3         0.002  "
      ]
     },
     "execution_count": 7,
     "metadata": {},
     "output_type": "execute_result"
    }
   ],
   "source": [
    "df.head()"
   ]
  },
  {
   "cell_type": "code",
   "execution_count": 8,
   "id": "28a08ca4-ee72-4db7-9297-8f3bcda1d371",
   "metadata": {},
   "outputs": [
    {
     "data": {
      "text/plain": [
       "array(['종로구', '중구', '용산구', '은평구', '마포구', '서대문구', '광진구', '성동구', '강북구',\n",
       "       '노원구', '중랑구', '동대문구', '도봉구', '성북구', '관악구', '금천구', '영등포구', '구로구',\n",
       "       '강서구', '양천구', '동작구', '송파구', '강남구', '강동구', '서초구'], dtype=object)"
      ]
     },
     "execution_count": 8,
     "metadata": {},
     "output_type": "execute_result"
    }
   ],
   "source": [
    "df['측정소명'].unique()"
   ]
  },
  {
   "cell_type": "code",
   "execution_count": 9,
   "id": "9817a47d-97cd-4281-bac4-ef5297f6c11c",
   "metadata": {},
   "outputs": [
    {
     "data": {
      "text/html": [
       "<div>\n",
       "<style scoped>\n",
       "    .dataframe tbody tr th:only-of-type {\n",
       "        vertical-align: middle;\n",
       "    }\n",
       "\n",
       "    .dataframe tbody tr th {\n",
       "        vertical-align: top;\n",
       "    }\n",
       "\n",
       "    .dataframe thead th {\n",
       "        text-align: right;\n",
       "    }\n",
       "</style>\n",
       "<table border=\"1\" class=\"dataframe\">\n",
       "  <thead>\n",
       "    <tr style=\"text-align: right;\">\n",
       "      <th></th>\n",
       "      <th>측정일시</th>\n",
       "      <th>초미세먼지</th>\n",
       "    </tr>\n",
       "  </thead>\n",
       "  <tbody>\n",
       "    <tr>\n",
       "      <th>17977</th>\n",
       "      <td>2020-04-01 00:00:00</td>\n",
       "      <td>24</td>\n",
       "    </tr>\n",
       "    <tr>\n",
       "      <th>17951</th>\n",
       "      <td>2020-04-01 01:00:00</td>\n",
       "      <td>24</td>\n",
       "    </tr>\n",
       "    <tr>\n",
       "      <th>17927</th>\n",
       "      <td>2020-04-01 02:00:00</td>\n",
       "      <td>26</td>\n",
       "    </tr>\n",
       "    <tr>\n",
       "      <th>17901</th>\n",
       "      <td>2020-04-01 03:00:00</td>\n",
       "      <td>34</td>\n",
       "    </tr>\n",
       "    <tr>\n",
       "      <th>17876</th>\n",
       "      <td>2020-04-01 04:00:00</td>\n",
       "      <td>45</td>\n",
       "    </tr>\n",
       "    <tr>\n",
       "      <th>...</th>\n",
       "      <td>...</td>\n",
       "      <td>...</td>\n",
       "    </tr>\n",
       "    <tr>\n",
       "      <th>100</th>\n",
       "      <td>2020-04-30 19:00:00</td>\n",
       "      <td>20</td>\n",
       "    </tr>\n",
       "    <tr>\n",
       "      <th>77</th>\n",
       "      <td>2020-04-30 20:00:00</td>\n",
       "      <td>26</td>\n",
       "    </tr>\n",
       "    <tr>\n",
       "      <th>52</th>\n",
       "      <td>2020-04-30 21:00:00</td>\n",
       "      <td>18</td>\n",
       "    </tr>\n",
       "    <tr>\n",
       "      <th>26</th>\n",
       "      <td>2020-04-30 22:00:00</td>\n",
       "      <td>21</td>\n",
       "    </tr>\n",
       "    <tr>\n",
       "      <th>1</th>\n",
       "      <td>2020-04-30 23:00:00</td>\n",
       "      <td>22</td>\n",
       "    </tr>\n",
       "  </tbody>\n",
       "</table>\n",
       "<p>720 rows × 2 columns</p>\n",
       "</div>"
      ],
      "text/plain": [
       "                     측정일시  초미세먼지\n",
       "17977 2020-04-01 00:00:00     24\n",
       "17951 2020-04-01 01:00:00     24\n",
       "17927 2020-04-01 02:00:00     26\n",
       "17901 2020-04-01 03:00:00     34\n",
       "17876 2020-04-01 04:00:00     45\n",
       "...                   ...    ...\n",
       "100   2020-04-30 19:00:00     20\n",
       "77    2020-04-30 20:00:00     26\n",
       "52    2020-04-30 21:00:00     18\n",
       "26    2020-04-30 22:00:00     21\n",
       "1     2020-04-30 23:00:00     22\n",
       "\n",
       "[720 rows x 2 columns]"
      ]
     },
     "execution_count": 9,
     "metadata": {},
     "output_type": "execute_result"
    }
   ],
   "source": [
    "df[df['측정소명']==\"중구\"][['측정일시',\"초미세먼지\"]].sort_values('측정일시')"
   ]
  },
  {
   "cell_type": "code",
   "execution_count": 10,
   "id": "f2baaa7f-a76d-4b13-9e9c-de49e14613a8",
   "metadata": {},
   "outputs": [
    {
     "data": {
      "text/plain": [
       "측정소명\n",
       "강남구     21.201389\n",
       "강동구     21.323611\n",
       "강북구     21.226389\n",
       "강서구     20.219444\n",
       "관악구     18.019444\n",
       "광진구     18.956944\n",
       "구로구     21.086111\n",
       "금천구     20.373611\n",
       "노원구     21.018056\n",
       "도봉구     18.840278\n",
       "동대문구    17.402778\n",
       "동작구     22.770833\n",
       "마포구     19.515278\n",
       "서대문구    21.123611\n",
       "서초구     23.025000\n",
       "성동구     20.327778\n",
       "성북구     18.493056\n",
       "송파구     19.719444\n",
       "양천구     20.848611\n",
       "영등포구    19.050000\n",
       "용산구     19.470833\n",
       "은평구     19.450000\n",
       "종로구     21.094444\n",
       "중구      22.404167\n",
       "중랑구     19.261111\n",
       "Name: 초미세먼지, dtype: float64"
      ]
     },
     "execution_count": 10,
     "metadata": {},
     "output_type": "execute_result"
    }
   ],
   "source": [
    "df.groupby('측정소명')[\"초미세먼지\"].mean()"
   ]
  },
  {
   "cell_type": "code",
   "execution_count": 11,
   "id": "820574e6-a14e-45f8-944a-950b77450ac4",
   "metadata": {},
   "outputs": [
    {
     "data": {
      "text/plain": [
       "<AxesSubplot:xlabel='측정소명'>"
      ]
     },
     "execution_count": 11,
     "metadata": {},
     "output_type": "execute_result"
    },
    {
     "data": {
      "image/png": "[encoded data removed]",
      "text/plain": [
       "<Figure size 432x288 with 1 Axes>"
      ]
     },
     "metadata": {
      "needs_background": "light"
     },
     "output_type": "display_data"
    }
   ],
   "source": [
    "df.groupby('측정소명')[\"초미세먼지\"].mean().plot(kind=\"bar\")"
   ]
  },
  {
   "cell_type": "code",
   "execution_count": 12,
   "id": "4edd4943-8546-455f-a8b0-64ad1e2c0176",
   "metadata": {},
   "outputs": [
    {
     "data": {
      "text/plain": [
       "{(2020-04-01 00:00:00, '강남구'): [17997], (2020-04-01 00:00:00, '강동구'): [17998], (2020-04-01 00:00:00, '강북구'): [17981], (2020-04-01 00:00:00, '강서구'): [17993], (2020-04-01 00:00:00, '관악구'): [17991], (2020-04-01 00:00:00, '광진구'): [17982], (2020-04-01 00:00:00, '구로구'): [17992], (2020-04-01 00:00:00, '금천구'): [17990], (2020-04-01 00:00:00, '노원구'): [17988], (2020-04-01 00:00:00, '도봉구'): [17986], (2020-04-01 00:00:00, '동대문구'): [17987], (2020-04-01 00:00:00, '동작구'): [17994], (2020-04-01 00:00:00, '마포구'): [17978], (2020-04-01 00:00:00, '서대문구'): [17979], (2020-04-01 00:00:00, '서초구'): [17999], (2020-04-01 00:00:00, '성동구'): [17985], (2020-04-01 00:00:00, '성북구'): [17983], (2020-04-01 00:00:00, '송파구'): [17996], (2020-04-01 00:00:00, '양천구'): [17995], (2020-04-01 00:00:00, '영등포구'): [17989], (2020-04-01 00:00:00, '용산구'): [17975], (2020-04-01 00:00:00, '은평구'): [17980], (2020-04-01 00:00:00, '종로구'): [17976], (2020-04-01 00:00:00, '중구'): [17977], (2020-04-01 00:00:00, '중랑구'): [17984], (2020-04-01 01:00:00, '강남구'): [17974], (2020-04-01 01:00:00, '강동구'): [17972], (2020-04-01 01:00:00, '강북구'): [17959], (2020-04-01 01:00:00, '강서구'): [17964], (2020-04-01 01:00:00, '관악구'): [17967], (2020-04-01 01:00:00, '광진구'): [17957], (2020-04-01 01:00:00, '구로구'): [17969], (2020-04-01 01:00:00, '금천구'): [17970], (2020-04-01 01:00:00, '노원구'): [17960], (2020-04-01 01:00:00, '도봉구'): [17961], (2020-04-01 01:00:00, '동대문구'): [17962], (2020-04-01 01:00:00, '동작구'): [17965], (2020-04-01 01:00:00, '마포구'): [17955], (2020-04-01 01:00:00, '서대문구'): [17953], (2020-04-01 01:00:00, '서초구'): [17973], (2020-04-01 01:00:00, '성동구'): [17963], (2020-04-01 01:00:00, '성북구'): [17956], (2020-04-01 01:00:00, '송파구'): [17971], (2020-04-01 01:00:00, '양천구'): [17966], (2020-04-01 01:00:00, '영등포구'): [17968], (2020-04-01 01:00:00, '용산구'): [17950], (2020-04-01 01:00:00, '은평구'): [17954], (2020-04-01 01:00:00, '종로구'): [17952], (2020-04-01 01:00:00, '중구'): [17951], (2020-04-01 01:00:00, '중랑구'): [17958], (2020-04-01 02:00:00, '강남구'): [17947], (2020-04-01 02:00:00, '강동구'): [17946], (2020-04-01 02:00:00, '강북구'): [17931], (2020-04-01 02:00:00, '강서구'): [17939], (2020-04-01 02:00:00, '관악구'): [17945], (2020-04-01 02:00:00, '광진구'): [17934], (2020-04-01 02:00:00, '구로구'): [17940], (2020-04-01 02:00:00, '금천구'): [17943], (2020-04-01 02:00:00, '노원구'): [17935], (2020-04-01 02:00:00, '도봉구'): [17937], (2020-04-01 02:00:00, '동대문구'): [17932], (2020-04-01 02:00:00, '동작구'): [17942], (2020-04-01 02:00:00, '마포구'): [17929], (2020-04-01 02:00:00, '서대문구'): [17930], (2020-04-01 02:00:00, '서초구'): [17948], (2020-04-01 02:00:00, '성동구'): [17933], (2020-04-01 02:00:00, '성북구'): [17938], (2020-04-01 02:00:00, '송파구'): [17949], (2020-04-01 02:00:00, '양천구'): [17941], (2020-04-01 02:00:00, '영등포구'): [17944], (2020-04-01 02:00:00, '용산구'): [17926], (2020-04-01 02:00:00, '은평구'): [17928], (2020-04-01 02:00:00, '종로구'): [17925], (2020-04-01 02:00:00, '중구'): [17927], (2020-04-01 02:00:00, '중랑구'): [17936], (2020-04-01 03:00:00, '강남구'): [17922], (2020-04-01 03:00:00, '강동구'): [17921], (2020-04-01 03:00:00, '강북구'): [17912], (2020-04-01 03:00:00, '강서구'): [17917], (2020-04-01 03:00:00, '관악구'): [17915], (2020-04-01 03:00:00, '광진구'): [17913], (2020-04-01 03:00:00, '구로구'): [17914], (2020-04-01 03:00:00, '금천구'): [17916], (2020-04-01 03:00:00, '노원구'): [17911], (2020-04-01 03:00:00, '도봉구'): [17909], (2020-04-01 03:00:00, '동대문구'): [17908], (2020-04-01 03:00:00, '동작구'): [17920], (2020-04-01 03:00:00, '마포구'): [17905], (2020-04-01 03:00:00, '서대문구'): [17904], (2020-04-01 03:00:00, '서초구'): [17923], (2020-04-01 03:00:00, '성동구'): [17906], (2020-04-01 03:00:00, '성북구'): [17907], (2020-04-01 03:00:00, '송파구'): [17924], (2020-04-01 03:00:00, '양천구'): [17918], (2020-04-01 03:00:00, '영등포구'): [17919], (2020-04-01 03:00:00, '용산구'): [17902], (2020-04-01 03:00:00, '은평구'): [17903], (2020-04-01 03:00:00, '종로구'): [17900], (2020-04-01 03:00:00, '중구'): [17901], (2020-04-01 03:00:00, '중랑구'): [17910], ...}"
      ]
     },
     "execution_count": 12,
     "metadata": {},
     "output_type": "execute_result"
    }
   ],
   "source": [
    "df.groupby(['측정일시','측정소명'])[\"초미세먼지\"].groups"
   ]
  },
  {
   "cell_type": "code",
   "execution_count": 13,
   "id": "c3d328c0-e0c6-40a4-8950-ef33380322aa",
   "metadata": {},
   "outputs": [
    {
     "data": {
      "text/plain": [
       "측정일시                 측정소명\n",
       "2020-04-01 00:00:00  강남구     25.0\n",
       "                     강동구     23.0\n",
       "                     강북구     25.0\n",
       "                     강서구     24.0\n",
       "                     관악구     19.0\n",
       "                             ... \n",
       "2020-04-30 23:00:00  용산구     21.0\n",
       "                     은평구     20.0\n",
       "                     종로구     21.0\n",
       "                     중구      22.0\n",
       "                     중랑구     24.0\n",
       "Name: 초미세먼지, Length: 18000, dtype: float64"
      ]
     },
     "execution_count": 13,
     "metadata": {},
     "output_type": "execute_result"
    }
   ],
   "source": [
    "df.groupby(['측정일시','측정소명'])[\"초미세먼지\"].mean()"
   ]
  },
  {
   "cell_type": "code",
   "execution_count": 14,
   "id": "3c8bf422-0b4a-4709-bad1-0ff8938b9252",
   "metadata": {},
   "outputs": [
    {
     "data": {
      "text/html": [
       "<div>\n",
       "<style scoped>\n",
       "    .dataframe tbody tr th:only-of-type {\n",
       "        vertical-align: middle;\n",
       "    }\n",
       "\n",
       "    .dataframe tbody tr th {\n",
       "        vertical-align: top;\n",
       "    }\n",
       "\n",
       "    .dataframe thead th {\n",
       "        text-align: right;\n",
       "    }\n",
       "</style>\n",
       "<table border=\"1\" class=\"dataframe\">\n",
       "  <thead>\n",
       "    <tr style=\"text-align: right;\">\n",
       "      <th>측정소명</th>\n",
       "      <th>강남구</th>\n",
       "      <th>강동구</th>\n",
       "      <th>강북구</th>\n",
       "      <th>강서구</th>\n",
       "      <th>관악구</th>\n",
       "      <th>광진구</th>\n",
       "      <th>구로구</th>\n",
       "      <th>금천구</th>\n",
       "      <th>노원구</th>\n",
       "      <th>도봉구</th>\n",
       "      <th>...</th>\n",
       "      <th>성동구</th>\n",
       "      <th>성북구</th>\n",
       "      <th>송파구</th>\n",
       "      <th>양천구</th>\n",
       "      <th>영등포구</th>\n",
       "      <th>용산구</th>\n",
       "      <th>은평구</th>\n",
       "      <th>종로구</th>\n",
       "      <th>중구</th>\n",
       "      <th>중랑구</th>\n",
       "    </tr>\n",
       "    <tr>\n",
       "      <th>측정일시</th>\n",
       "      <th></th>\n",
       "      <th></th>\n",
       "      <th></th>\n",
       "      <th></th>\n",
       "      <th></th>\n",
       "      <th></th>\n",
       "      <th></th>\n",
       "      <th></th>\n",
       "      <th></th>\n",
       "      <th></th>\n",
       "      <th></th>\n",
       "      <th></th>\n",
       "      <th></th>\n",
       "      <th></th>\n",
       "      <th></th>\n",
       "      <th></th>\n",
       "      <th></th>\n",
       "      <th></th>\n",
       "      <th></th>\n",
       "      <th></th>\n",
       "      <th></th>\n",
       "    </tr>\n",
       "  </thead>\n",
       "  <tbody>\n",
       "    <tr>\n",
       "      <th>2020-04-01 00:00:00</th>\n",
       "      <td>25</td>\n",
       "      <td>23</td>\n",
       "      <td>25</td>\n",
       "      <td>24</td>\n",
       "      <td>19</td>\n",
       "      <td>19</td>\n",
       "      <td>20</td>\n",
       "      <td>23</td>\n",
       "      <td>27</td>\n",
       "      <td>25</td>\n",
       "      <td>...</td>\n",
       "      <td>22</td>\n",
       "      <td>21</td>\n",
       "      <td>22</td>\n",
       "      <td>25</td>\n",
       "      <td>22</td>\n",
       "      <td>23</td>\n",
       "      <td>21</td>\n",
       "      <td>23</td>\n",
       "      <td>24</td>\n",
       "      <td>23</td>\n",
       "    </tr>\n",
       "    <tr>\n",
       "      <th>2020-04-01 01:00:00</th>\n",
       "      <td>25</td>\n",
       "      <td>27</td>\n",
       "      <td>31</td>\n",
       "      <td>25</td>\n",
       "      <td>22</td>\n",
       "      <td>30</td>\n",
       "      <td>22</td>\n",
       "      <td>27</td>\n",
       "      <td>37</td>\n",
       "      <td>28</td>\n",
       "      <td>...</td>\n",
       "      <td>23</td>\n",
       "      <td>23</td>\n",
       "      <td>25</td>\n",
       "      <td>26</td>\n",
       "      <td>25</td>\n",
       "      <td>22</td>\n",
       "      <td>18</td>\n",
       "      <td>24</td>\n",
       "      <td>24</td>\n",
       "      <td>24</td>\n",
       "    </tr>\n",
       "    <tr>\n",
       "      <th>2020-04-01 02:00:00</th>\n",
       "      <td>27</td>\n",
       "      <td>27</td>\n",
       "      <td>42</td>\n",
       "      <td>24</td>\n",
       "      <td>24</td>\n",
       "      <td>23</td>\n",
       "      <td>26</td>\n",
       "      <td>28</td>\n",
       "      <td>40</td>\n",
       "      <td>43</td>\n",
       "      <td>...</td>\n",
       "      <td>25</td>\n",
       "      <td>36</td>\n",
       "      <td>25</td>\n",
       "      <td>29</td>\n",
       "      <td>26</td>\n",
       "      <td>25</td>\n",
       "      <td>21</td>\n",
       "      <td>26</td>\n",
       "      <td>26</td>\n",
       "      <td>29</td>\n",
       "    </tr>\n",
       "    <tr>\n",
       "      <th>2020-04-01 03:00:00</th>\n",
       "      <td>30</td>\n",
       "      <td>36</td>\n",
       "      <td>56</td>\n",
       "      <td>30</td>\n",
       "      <td>25</td>\n",
       "      <td>42</td>\n",
       "      <td>34</td>\n",
       "      <td>34</td>\n",
       "      <td>47</td>\n",
       "      <td>51</td>\n",
       "      <td>...</td>\n",
       "      <td>29</td>\n",
       "      <td>45</td>\n",
       "      <td>29</td>\n",
       "      <td>34</td>\n",
       "      <td>30</td>\n",
       "      <td>28</td>\n",
       "      <td>23</td>\n",
       "      <td>33</td>\n",
       "      <td>34</td>\n",
       "      <td>41</td>\n",
       "    </tr>\n",
       "    <tr>\n",
       "      <th>2020-04-01 04:00:00</th>\n",
       "      <td>34</td>\n",
       "      <td>40</td>\n",
       "      <td>53</td>\n",
       "      <td>36</td>\n",
       "      <td>29</td>\n",
       "      <td>50</td>\n",
       "      <td>34</td>\n",
       "      <td>35</td>\n",
       "      <td>43</td>\n",
       "      <td>52</td>\n",
       "      <td>...</td>\n",
       "      <td>30</td>\n",
       "      <td>44</td>\n",
       "      <td>30</td>\n",
       "      <td>39</td>\n",
       "      <td>31</td>\n",
       "      <td>30</td>\n",
       "      <td>28</td>\n",
       "      <td>38</td>\n",
       "      <td>45</td>\n",
       "      <td>41</td>\n",
       "    </tr>\n",
       "  </tbody>\n",
       "</table>\n",
       "<p>5 rows × 25 columns</p>\n",
       "</div>"
      ],
      "text/plain": [
       "측정소명                 강남구  강동구  강북구  강서구  관악구  광진구  구로구  금천구  노원구  도봉구  ...  \\\n",
       "측정일시                                                                   ...   \n",
       "2020-04-01 00:00:00   25   23   25   24   19   19   20   23   27   25  ...   \n",
       "2020-04-01 01:00:00   25   27   31   25   22   30   22   27   37   28  ...   \n",
       "2020-04-01 02:00:00   27   27   42   24   24   23   26   28   40   43  ...   \n",
       "2020-04-01 03:00:00   30   36   56   30   25   42   34   34   47   51  ...   \n",
       "2020-04-01 04:00:00   34   40   53   36   29   50   34   35   43   52  ...   \n",
       "\n",
       "측정소명                 성동구  성북구  송파구  양천구  영등포구  용산구  은평구  종로구  중구  중랑구  \n",
       "측정일시                                                                   \n",
       "2020-04-01 00:00:00   22   21   22   25    22   23   21   23  24   23  \n",
       "2020-04-01 01:00:00   23   23   25   26    25   22   18   24  24   24  \n",
       "2020-04-01 02:00:00   25   36   25   29    26   25   21   26  26   29  \n",
       "2020-04-01 03:00:00   29   45   29   34    30   28   23   33  34   41  \n",
       "2020-04-01 04:00:00   30   44   30   39    31   30   28   38  45   41  \n",
       "\n",
       "[5 rows x 25 columns]"
      ]
     },
     "execution_count": 14,
     "metadata": {},
     "output_type": "execute_result"
    }
   ],
   "source": [
    "dfp = df.pivot_table(index=\"측정일시\", columns=\"측정소명\", values=\"초미세먼지\")\n",
    "dfp.head()"
   ]
  },
  {
   "cell_type": "code",
   "execution_count": 15,
   "id": "f5a076bb-8620-43cd-b763-0e35bcb747da",
   "metadata": {},
   "outputs": [
    {
     "data": {
      "text/plain": [
       "<AxesSubplot:xlabel='측정일시'>"
      ]
     },
     "execution_count": 15,
     "metadata": {},
     "output_type": "execute_result"
    },
    {
     "data": {
      "image/png": "[encoded data removed]",
      "text/plain": [
       "<Figure size 432x288 with 1 Axes>"
      ]
     },
     "metadata": {
      "needs_background": "light"
     },
     "output_type": "display_data"
    }
   ],
   "source": [
    "dfp[\"중구\"].plot()"
   ]
  },
  {
   "cell_type": "code",
   "execution_count": 16,
   "id": "b1acca98-39ae-462b-8595-d93fbbd9f924",
   "metadata": {},
   "outputs": [
    {
     "data": {
      "text/plain": [
       "(Timestamp('2020-04-01 00:00:00'), Timestamp('2020-04-30 23:00:00'))"
      ]
     },
     "execution_count": 16,
     "metadata": {},
     "output_type": "execute_result"
    }
   ],
   "source": [
    "dfp.index.min(),  dfp.index.max()"
   ]
  },
  {
   "cell_type": "markdown",
   "id": "e92d9a26-1a3e-416b-9880-c856141d3278",
   "metadata": {},
   "source": [
    "## <font color=red> 시계열 데이터 : 날짜 데이터가 연속적일 경우의 데이터, shuffle 금지 ******</font>"
   ]
  },
  {
   "cell_type": "code",
   "execution_count": 17,
   "id": "c8d7ef7b-67ff-4a12-b46c-39eaa2f16dc1",
   "metadata": {},
   "outputs": [
    {
     "data": {
      "text/html": [
       "<div>\n",
       "<style scoped>\n",
       "    .dataframe tbody tr th:only-of-type {\n",
       "        vertical-align: middle;\n",
       "    }\n",
       "\n",
       "    .dataframe tbody tr th {\n",
       "        vertical-align: top;\n",
       "    }\n",
       "\n",
       "    .dataframe thead th {\n",
       "        text-align: right;\n",
       "    }\n",
       "</style>\n",
       "<table border=\"1\" class=\"dataframe\">\n",
       "  <thead>\n",
       "    <tr style=\"text-align: right;\">\n",
       "      <th>측정소명</th>\n",
       "      <th>강남구</th>\n",
       "      <th>강동구</th>\n",
       "      <th>강북구</th>\n",
       "      <th>강서구</th>\n",
       "      <th>관악구</th>\n",
       "      <th>광진구</th>\n",
       "      <th>구로구</th>\n",
       "      <th>금천구</th>\n",
       "      <th>노원구</th>\n",
       "      <th>도봉구</th>\n",
       "      <th>...</th>\n",
       "      <th>성북구</th>\n",
       "      <th>송파구</th>\n",
       "      <th>양천구</th>\n",
       "      <th>영등포구</th>\n",
       "      <th>용산구</th>\n",
       "      <th>은평구</th>\n",
       "      <th>종로구</th>\n",
       "      <th>중구</th>\n",
       "      <th>중랑구</th>\n",
       "      <th>측정일시YMD</th>\n",
       "    </tr>\n",
       "    <tr>\n",
       "      <th>측정일시</th>\n",
       "      <th></th>\n",
       "      <th></th>\n",
       "      <th></th>\n",
       "      <th></th>\n",
       "      <th></th>\n",
       "      <th></th>\n",
       "      <th></th>\n",
       "      <th></th>\n",
       "      <th></th>\n",
       "      <th></th>\n",
       "      <th></th>\n",
       "      <th></th>\n",
       "      <th></th>\n",
       "      <th></th>\n",
       "      <th></th>\n",
       "      <th></th>\n",
       "      <th></th>\n",
       "      <th></th>\n",
       "      <th></th>\n",
       "      <th></th>\n",
       "      <th></th>\n",
       "    </tr>\n",
       "  </thead>\n",
       "  <tbody>\n",
       "    <tr>\n",
       "      <th>2020-04-01 00:00:00</th>\n",
       "      <td>25</td>\n",
       "      <td>23</td>\n",
       "      <td>25</td>\n",
       "      <td>24</td>\n",
       "      <td>19</td>\n",
       "      <td>19</td>\n",
       "      <td>20</td>\n",
       "      <td>23</td>\n",
       "      <td>27</td>\n",
       "      <td>25</td>\n",
       "      <td>...</td>\n",
       "      <td>21</td>\n",
       "      <td>22</td>\n",
       "      <td>25</td>\n",
       "      <td>22</td>\n",
       "      <td>23</td>\n",
       "      <td>21</td>\n",
       "      <td>23</td>\n",
       "      <td>24</td>\n",
       "      <td>23</td>\n",
       "      <td>2020-04-01</td>\n",
       "    </tr>\n",
       "    <tr>\n",
       "      <th>2020-04-01 01:00:00</th>\n",
       "      <td>25</td>\n",
       "      <td>27</td>\n",
       "      <td>31</td>\n",
       "      <td>25</td>\n",
       "      <td>22</td>\n",
       "      <td>30</td>\n",
       "      <td>22</td>\n",
       "      <td>27</td>\n",
       "      <td>37</td>\n",
       "      <td>28</td>\n",
       "      <td>...</td>\n",
       "      <td>23</td>\n",
       "      <td>25</td>\n",
       "      <td>26</td>\n",
       "      <td>25</td>\n",
       "      <td>22</td>\n",
       "      <td>18</td>\n",
       "      <td>24</td>\n",
       "      <td>24</td>\n",
       "      <td>24</td>\n",
       "      <td>2020-04-01</td>\n",
       "    </tr>\n",
       "    <tr>\n",
       "      <th>2020-04-01 02:00:00</th>\n",
       "      <td>27</td>\n",
       "      <td>27</td>\n",
       "      <td>42</td>\n",
       "      <td>24</td>\n",
       "      <td>24</td>\n",
       "      <td>23</td>\n",
       "      <td>26</td>\n",
       "      <td>28</td>\n",
       "      <td>40</td>\n",
       "      <td>43</td>\n",
       "      <td>...</td>\n",
       "      <td>36</td>\n",
       "      <td>25</td>\n",
       "      <td>29</td>\n",
       "      <td>26</td>\n",
       "      <td>25</td>\n",
       "      <td>21</td>\n",
       "      <td>26</td>\n",
       "      <td>26</td>\n",
       "      <td>29</td>\n",
       "      <td>2020-04-01</td>\n",
       "    </tr>\n",
       "    <tr>\n",
       "      <th>2020-04-01 03:00:00</th>\n",
       "      <td>30</td>\n",
       "      <td>36</td>\n",
       "      <td>56</td>\n",
       "      <td>30</td>\n",
       "      <td>25</td>\n",
       "      <td>42</td>\n",
       "      <td>34</td>\n",
       "      <td>34</td>\n",
       "      <td>47</td>\n",
       "      <td>51</td>\n",
       "      <td>...</td>\n",
       "      <td>45</td>\n",
       "      <td>29</td>\n",
       "      <td>34</td>\n",
       "      <td>30</td>\n",
       "      <td>28</td>\n",
       "      <td>23</td>\n",
       "      <td>33</td>\n",
       "      <td>34</td>\n",
       "      <td>41</td>\n",
       "      <td>2020-04-01</td>\n",
       "    </tr>\n",
       "    <tr>\n",
       "      <th>2020-04-01 04:00:00</th>\n",
       "      <td>34</td>\n",
       "      <td>40</td>\n",
       "      <td>53</td>\n",
       "      <td>36</td>\n",
       "      <td>29</td>\n",
       "      <td>50</td>\n",
       "      <td>34</td>\n",
       "      <td>35</td>\n",
       "      <td>43</td>\n",
       "      <td>52</td>\n",
       "      <td>...</td>\n",
       "      <td>44</td>\n",
       "      <td>30</td>\n",
       "      <td>39</td>\n",
       "      <td>31</td>\n",
       "      <td>30</td>\n",
       "      <td>28</td>\n",
       "      <td>38</td>\n",
       "      <td>45</td>\n",
       "      <td>41</td>\n",
       "      <td>2020-04-01</td>\n",
       "    </tr>\n",
       "  </tbody>\n",
       "</table>\n",
       "<p>5 rows × 26 columns</p>\n",
       "</div>"
      ],
      "text/plain": [
       "측정소명                 강남구  강동구  강북구  강서구  관악구  광진구  구로구  금천구  노원구  도봉구  ...  \\\n",
       "측정일시                                                                   ...   \n",
       "2020-04-01 00:00:00   25   23   25   24   19   19   20   23   27   25  ...   \n",
       "2020-04-01 01:00:00   25   27   31   25   22   30   22   27   37   28  ...   \n",
       "2020-04-01 02:00:00   27   27   42   24   24   23   26   28   40   43  ...   \n",
       "2020-04-01 03:00:00   30   36   56   30   25   42   34   34   47   51  ...   \n",
       "2020-04-01 04:00:00   34   40   53   36   29   50   34   35   43   52  ...   \n",
       "\n",
       "측정소명                 성북구  송파구  양천구  영등포구  용산구  은평구  종로구  중구  중랑구     측정일시YMD  \n",
       "측정일시                                                                          \n",
       "2020-04-01 00:00:00   21   22   25    22   23   21   23  24   23  2020-04-01  \n",
       "2020-04-01 01:00:00   23   25   26    25   22   18   24  24   24  2020-04-01  \n",
       "2020-04-01 02:00:00   36   25   29    26   25   21   26  26   29  2020-04-01  \n",
       "2020-04-01 03:00:00   45   29   34    30   28   23   33  34   41  2020-04-01  \n",
       "2020-04-01 04:00:00   44   30   39    31   30   28   38  45   41  2020-04-01  \n",
       "\n",
       "[5 rows x 26 columns]"
      ]
     },
     "execution_count": 17,
     "metadata": {},
     "output_type": "execute_result"
    }
   ],
   "source": [
    "dfp = dfp.sort_index()\n",
    "dfp[\"측정일시YMD\"] = dfp.index.values.reshape(-1,1)\n",
    "dfp[\"측정일시YMD\"] = dfp[\"측정일시YMD\"].astype(\"str\").str[:10]\n",
    "dfp.head()"
   ]
  },
  {
   "cell_type": "markdown",
   "id": "abe9bca1-6c37-4eec-90d0-a8d178a3e6c6",
   "metadata": {},
   "source": [
    "* 정상성을 갖지 않는다 (평균, 분산이 일정하지 않다)"
   ]
  },
  {
   "cell_type": "code",
   "execution_count": 18,
   "id": "23a28a5d-4ecc-48e7-92b0-2e65c1a2e81a",
   "metadata": {},
   "outputs": [],
   "source": [
    "df = dfp[\"중구\"].copy()"
   ]
  },
  {
   "cell_type": "code",
   "execution_count": 19,
   "id": "ae93ecc1-9cdc-4a4c-a696-f5a557a79e16",
   "metadata": {},
   "outputs": [
    {
     "data": {
      "image/png": "[encoded data removed]",
      "text/plain": [
       "<Figure size 432x288 with 1 Axes>"
      ]
     },
     "metadata": {
      "needs_background": "light"
     },
     "output_type": "display_data"
    },
    {
     "data": {
      "image/png": "[encoded data removed]",
      "text/plain": [
       "<Figure size 432x288 with 1 Axes>"
      ]
     },
     "metadata": {
      "needs_background": "light"
     },
     "output_type": "display_data"
    }
   ],
   "source": [
    "plot_acf(df)\n",
    "plot_pacf(df)   # Can only compute partial correlations for lags up to 50% of the sample size. The requested nlags 15 must be < 15.\n",
    "plt.show()"
   ]
  },
  {
   "cell_type": "markdown",
   "id": "e2461aa4-de05-4df7-8037-5278caa9b8a3",
   "metadata": {},
   "source": [
    "* ACF : MA(q) == X\n",
    "* PACF: AR(p) == 2~5\n",
    "* 지수 데이터는 AR 모델이 적합하다"
   ]
  },
  {
   "cell_type": "markdown",
   "id": "00fc660e-642a-47fb-8146-c6cc835ec96f",
   "metadata": {},
   "source": [
    "# 차분 후 정상성을 띠는지 확인"
   ]
  },
  {
   "cell_type": "code",
   "execution_count": 20,
   "id": "164d1187-d27c-4b77-bfaf-1c023607ee36",
   "metadata": {},
   "outputs": [
    {
     "data": {
      "image/png": "[encoded data removed]",
      "text/plain": [
       "<Figure size 432x288 with 1 Axes>"
      ]
     },
     "metadata": {
      "needs_background": "light"
     },
     "output_type": "display_data"
    },
    {
     "data": {
      "image/png": "[encoded data removed]",
      "text/plain": [
       "<Figure size 432x288 with 1 Axes>"
      ]
     },
     "metadata": {
      "needs_background": "light"
     },
     "output_type": "display_data"
    },
    {
     "data": {
      "image/png": "[encoded data removed]",
      "text/plain": [
       "<Figure size 432x288 with 1 Axes>"
      ]
     },
     "metadata": {
      "needs_background": "light"
     },
     "output_type": "display_data"
    }
   ],
   "source": [
    "import matplotlib.pyplot as plt\n",
    "import pandas as pd\n",
    "from statsmodels.graphics.tsaplots import plot_acf, plot_pacf\n",
    "\n",
    "diff_1 = df.diff(periods=1).iloc[1:]\n",
    "diff_1.plot()\n",
    "plt.xticks(rotation =90)\n",
    "plot_acf(diff_1)\n",
    "plot_pacf(diff_1)\n",
    "plt.show()"
   ]
  },
  {
   "cell_type": "markdown",
   "id": "d50f4f30-b8d1-465e-9a52-600d36319fbf",
   "metadata": {},
   "source": [
    "* ARIMA(p ,d, q) : 날짜를 1일 차분한 결과 평균이 일정 --> d값 1\n",
    "\n",
    "* ACF : MA(q) == 1\n",
    "* PACF: AR(p) == 1\n",
    "* 해당 데이터는 1차 차분한 데이터를 사용할 경우 :: AR인경우 p값을 1로 MA의 q값을 1로 사용하는 모델이 적합하다\n"
   ]
  },
  {
   "cell_type": "code",
   "execution_count": 21,
   "id": "340fc2f0-0ab5-407e-8068-4c17493c18b4",
   "metadata": {},
   "outputs": [
    {
     "name": "stdout",
     "output_type": "stream",
     "text": [
      "                             ARIMA Model Results                              \n",
      "==============================================================================\n",
      "Dep. Variable:                   D.중구   No. Observations:                  719\n",
      "Model:                 ARIMA(1, 1, 1)   Log Likelihood               -1977.091\n",
      "Method:                       css-mle   S.D. of innovations              3.784\n",
      "Date:                Thu, 21 Oct 2021   AIC                           3962.183\n",
      "Time:                        16:20:51   BIC                           3980.494\n",
      "Sample:                    04-01-2020   HQIC                          3969.252\n",
      "                         - 04-30-2020                                         \n",
      "==============================================================================\n",
      "                 coef    std err          z      P>|z|      [0.025      0.975]\n",
      "------------------------------------------------------------------------------\n",
      "const         -0.0023      0.178     -0.013      0.990      -0.352       0.347\n",
      "ar.L1.D.중구     0.2461      0.112      2.203      0.028       0.027       0.465\n",
      "ma.L1.D.중구    -0.0473      0.111     -0.426      0.670      -0.265       0.171\n",
      "                                    Roots                                    \n",
      "=============================================================================\n",
      "                  Real          Imaginary           Modulus         Frequency\n",
      "-----------------------------------------------------------------------------\n",
      "AR.1            4.0632           +0.0000j            4.0632            0.0000\n",
      "MA.1           21.1251           +0.0000j           21.1251            0.0000\n",
      "-----------------------------------------------------------------------------\n"
     ]
    }
   ],
   "source": [
    "from statsmodels.tsa.arima_model import ARIMA\n",
    "import warnings\n",
    "warnings.filterwarnings('ignore')\n",
    "\n",
    "model = ARIMA(df, order=(1,1,1))\n",
    "\n",
    "arima_res = model.fit(trend='c', full_output=True, disp=1)\n",
    "print(arima_res.summary())"
   ]
  },
  {
   "cell_type": "code",
   "execution_count": 22,
   "id": "a94d9228-07a5-44c0-a45f-e85843d89a63",
   "metadata": {},
   "outputs": [
    {
     "data": {
      "image/png": "[encoded data removed]",
      "text/plain": [
       "<Figure size 1080x360 with 1 Axes>"
      ]
     },
     "metadata": {
      "needs_background": "light"
     },
     "output_type": "display_data"
    }
   ],
   "source": [
    "pig, ax = plt.subplots(figsize=(15,5))\n",
    "arima_res.plot_predict(ax=ax)\n",
    "plt.show()"
   ]
  },
  {
   "cell_type": "markdown",
   "id": "b85bc749-6b5d-44fa-b795-3202953ca989",
   "metadata": {},
   "source": [
    "# 5일치 예측\n",
    "<pre>\n",
    "1465    372.53\n",
    "1466    372.00\n",
    "1467    371.55\n",
    "1468    372.18\n",
    "1469    366.43"
   ]
  },
  {
   "cell_type": "code",
   "execution_count": 32,
   "id": "87ec7a7e-31a7-4487-ae1c-5e2a02957a62",
   "metadata": {},
   "outputs": [
    {
     "data": {
      "text/html": [
       "<div>\n",
       "<style scoped>\n",
       "    .dataframe tbody tr th:only-of-type {\n",
       "        vertical-align: middle;\n",
       "    }\n",
       "\n",
       "    .dataframe tbody tr th {\n",
       "        vertical-align: top;\n",
       "    }\n",
       "\n",
       "    .dataframe thead th {\n",
       "        text-align: right;\n",
       "    }\n",
       "</style>\n",
       "<table border=\"1\" class=\"dataframe\">\n",
       "  <thead>\n",
       "    <tr style=\"text-align: right;\">\n",
       "      <th>측정소명</th>\n",
       "      <th>강남구</th>\n",
       "      <th>강동구</th>\n",
       "      <th>강북구</th>\n",
       "      <th>강서구</th>\n",
       "      <th>관악구</th>\n",
       "      <th>광진구</th>\n",
       "      <th>구로구</th>\n",
       "      <th>금천구</th>\n",
       "      <th>노원구</th>\n",
       "      <th>도봉구</th>\n",
       "      <th>...</th>\n",
       "      <th>성북구</th>\n",
       "      <th>송파구</th>\n",
       "      <th>양천구</th>\n",
       "      <th>영등포구</th>\n",
       "      <th>용산구</th>\n",
       "      <th>은평구</th>\n",
       "      <th>종로구</th>\n",
       "      <th>중구</th>\n",
       "      <th>중랑구</th>\n",
       "      <th>측정일시YMD</th>\n",
       "    </tr>\n",
       "    <tr>\n",
       "      <th>측정일시</th>\n",
       "      <th></th>\n",
       "      <th></th>\n",
       "      <th></th>\n",
       "      <th></th>\n",
       "      <th></th>\n",
       "      <th></th>\n",
       "      <th></th>\n",
       "      <th></th>\n",
       "      <th></th>\n",
       "      <th></th>\n",
       "      <th></th>\n",
       "      <th></th>\n",
       "      <th></th>\n",
       "      <th></th>\n",
       "      <th></th>\n",
       "      <th></th>\n",
       "      <th></th>\n",
       "      <th></th>\n",
       "      <th></th>\n",
       "      <th></th>\n",
       "      <th></th>\n",
       "    </tr>\n",
       "  </thead>\n",
       "  <tbody>\n",
       "    <tr>\n",
       "      <th>2020-04-30 19:00:00</th>\n",
       "      <td>22</td>\n",
       "      <td>21</td>\n",
       "      <td>25</td>\n",
       "      <td>18</td>\n",
       "      <td>17</td>\n",
       "      <td>17</td>\n",
       "      <td>24</td>\n",
       "      <td>19</td>\n",
       "      <td>0</td>\n",
       "      <td>15</td>\n",
       "      <td>...</td>\n",
       "      <td>18</td>\n",
       "      <td>18</td>\n",
       "      <td>17</td>\n",
       "      <td>17</td>\n",
       "      <td>17</td>\n",
       "      <td>18</td>\n",
       "      <td>19</td>\n",
       "      <td>20</td>\n",
       "      <td>20</td>\n",
       "      <td>2020-04-30</td>\n",
       "    </tr>\n",
       "    <tr>\n",
       "      <th>2020-04-30 20:00:00</th>\n",
       "      <td>22</td>\n",
       "      <td>20</td>\n",
       "      <td>23</td>\n",
       "      <td>18</td>\n",
       "      <td>20</td>\n",
       "      <td>20</td>\n",
       "      <td>26</td>\n",
       "      <td>21</td>\n",
       "      <td>0</td>\n",
       "      <td>18</td>\n",
       "      <td>...</td>\n",
       "      <td>18</td>\n",
       "      <td>13</td>\n",
       "      <td>18</td>\n",
       "      <td>16</td>\n",
       "      <td>16</td>\n",
       "      <td>22</td>\n",
       "      <td>19</td>\n",
       "      <td>26</td>\n",
       "      <td>19</td>\n",
       "      <td>2020-04-30</td>\n",
       "    </tr>\n",
       "    <tr>\n",
       "      <th>2020-04-30 21:00:00</th>\n",
       "      <td>24</td>\n",
       "      <td>20</td>\n",
       "      <td>20</td>\n",
       "      <td>17</td>\n",
       "      <td>24</td>\n",
       "      <td>22</td>\n",
       "      <td>26</td>\n",
       "      <td>24</td>\n",
       "      <td>0</td>\n",
       "      <td>16</td>\n",
       "      <td>...</td>\n",
       "      <td>16</td>\n",
       "      <td>15</td>\n",
       "      <td>18</td>\n",
       "      <td>19</td>\n",
       "      <td>18</td>\n",
       "      <td>19</td>\n",
       "      <td>20</td>\n",
       "      <td>18</td>\n",
       "      <td>20</td>\n",
       "      <td>2020-04-30</td>\n",
       "    </tr>\n",
       "    <tr>\n",
       "      <th>2020-04-30 22:00:00</th>\n",
       "      <td>21</td>\n",
       "      <td>20</td>\n",
       "      <td>22</td>\n",
       "      <td>19</td>\n",
       "      <td>23</td>\n",
       "      <td>23</td>\n",
       "      <td>24</td>\n",
       "      <td>22</td>\n",
       "      <td>0</td>\n",
       "      <td>19</td>\n",
       "      <td>...</td>\n",
       "      <td>17</td>\n",
       "      <td>18</td>\n",
       "      <td>20</td>\n",
       "      <td>17</td>\n",
       "      <td>22</td>\n",
       "      <td>19</td>\n",
       "      <td>20</td>\n",
       "      <td>21</td>\n",
       "      <td>21</td>\n",
       "      <td>2020-04-30</td>\n",
       "    </tr>\n",
       "    <tr>\n",
       "      <th>2020-04-30 23:00:00</th>\n",
       "      <td>23</td>\n",
       "      <td>24</td>\n",
       "      <td>20</td>\n",
       "      <td>20</td>\n",
       "      <td>20</td>\n",
       "      <td>17</td>\n",
       "      <td>26</td>\n",
       "      <td>22</td>\n",
       "      <td>0</td>\n",
       "      <td>21</td>\n",
       "      <td>...</td>\n",
       "      <td>17</td>\n",
       "      <td>24</td>\n",
       "      <td>21</td>\n",
       "      <td>20</td>\n",
       "      <td>21</td>\n",
       "      <td>20</td>\n",
       "      <td>21</td>\n",
       "      <td>22</td>\n",
       "      <td>24</td>\n",
       "      <td>2020-04-30</td>\n",
       "    </tr>\n",
       "  </tbody>\n",
       "</table>\n",
       "<p>5 rows × 26 columns</p>\n",
       "</div>"
      ],
      "text/plain": [
       "측정소명                 강남구  강동구  강북구  강서구  관악구  광진구  구로구  금천구  노원구  도봉구  ...  \\\n",
       "측정일시                                                                   ...   \n",
       "2020-04-30 19:00:00   22   21   25   18   17   17   24   19    0   15  ...   \n",
       "2020-04-30 20:00:00   22   20   23   18   20   20   26   21    0   18  ...   \n",
       "2020-04-30 21:00:00   24   20   20   17   24   22   26   24    0   16  ...   \n",
       "2020-04-30 22:00:00   21   20   22   19   23   23   24   22    0   19  ...   \n",
       "2020-04-30 23:00:00   23   24   20   20   20   17   26   22    0   21  ...   \n",
       "\n",
       "측정소명                 성북구  송파구  양천구  영등포구  용산구  은평구  종로구  중구  중랑구     측정일시YMD  \n",
       "측정일시                                                                          \n",
       "2020-04-30 19:00:00   18   18   17    17   17   18   19  20   20  2020-04-30  \n",
       "2020-04-30 20:00:00   18   13   18    16   16   22   19  26   19  2020-04-30  \n",
       "2020-04-30 21:00:00   16   15   18    19   18   19   20  18   20  2020-04-30  \n",
       "2020-04-30 22:00:00   17   18   20    17   22   19   20  21   21  2020-04-30  \n",
       "2020-04-30 23:00:00   17   24   21    20   21   20   21  22   24  2020-04-30  \n",
       "\n",
       "[5 rows x 26 columns]"
      ]
     },
     "execution_count": 32,
     "metadata": {},
     "output_type": "execute_result"
    }
   ],
   "source": [
    "dfp[(dfp[\"측정일시YMD\"]>='2020-04-25') & (dfp[\"측정일시YMD\"]<='2020-04-30')].groupby(\"측정일시YMD\").mean()\n",
    "dfp.tail() "
   ]
  },
  {
   "cell_type": "code",
   "execution_count": null,
   "id": "727179c9-05d3-4c8d-b8fc-02a15bd8027e",
   "metadata": {},
   "outputs": [
    {
     "name": "stdout",
     "output_type": "stream",
     "text": [
      "5일 예측지수 [22.22172547 22.2745413  22.2857865  22.28680068 22.28529688]\n",
      "실제평균 30.6\n",
      "예측평균 22.270830164384\n"
     ]
    }
   ],
   "source": [
    "fore = arima_res.forecast(steps=5) # 5일치 맞춰봐 \n",
    "#  예측값, stderr,   upper bound~lower bound \n",
    "# print(fore)\n",
    "print('5일 예측지수', np.array(fore[0])/1000 * 1000)\n",
    "print('실제평균', np.array([20,26,18,21,22]).mean())\n",
    "print('예측평균', (np.array(fore[0])/1000 * 1000).mean())"
   ]
  }
 ],
 "metadata": {
  "kernelspec": {
   "display_name": "Python 3 (ipykernel)",
   "language": "python",
   "name": "python3"
  },
  "language_info": {
   "codemirror_mode": {
    "name": "ipython",
    "version": 3
   },
   "file_extension": ".py",
   "mimetype": "text/x-python",
   "name": "python",
   "nbconvert_exporter": "python",
   "pygments_lexer": "ipython3",
   "version": "3.8.8"
  }
 },
 "nbformat": 4,
 "nbformat_minor": 5
}
