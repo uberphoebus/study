{
 "cells": [
  {
   "cell_type": "markdown",
   "metadata": {},
   "source": [
    "# imports"
   ]
  },
  {
   "cell_type": "code",
   "execution_count": 1,
   "metadata": {},
   "outputs": [],
   "source": [
    "import pandas as pd\n",
    "import numpy as np\n",
    "from bs4 import BeautifulSoup\n",
    "import requests"
   ]
  },
  {
   "cell_type": "markdown",
   "metadata": {},
   "source": [
    "# def"
   ]
  },
  {
   "cell_type": "code",
   "execution_count": 2,
   "metadata": {},
   "outputs": [],
   "source": [
    "def getMoviecode(year=2021, max_page=40):\n",
    "    \n",
    "    \"\"\"연도별 영화코드 수집\"\"\"\n",
    "    \n",
    "    base_url = 'https://movie.naver.com/movie/sdb/browsing/bmovie.naver?open=' + str(year) + '&page='\n",
    "    movie_code_list = []\n",
    "    \n",
    "    for page in range(max_page + 1):\n",
    "        \n",
    "        url = base_url + str(page)\n",
    "        response = requests.get(url)\n",
    "        \n",
    "        if response.status_code == 200:\n",
    "            html = response.text\n",
    "            soup = BeautifulSoup(html, 'lxml')\n",
    "        else:\n",
    "            print('error', response.status_code)\n",
    "            break\n",
    "        \n",
    "        list = soup.select('#old_content > ul > li')\n",
    "        for movie in range(len(list)):\n",
    "            code = list[movie].select_one('a').get('href').split('=')[1]\n",
    "            movie_code_list.append(code)\n",
    "    \n",
    "    return movie_code_list"
   ]
  },
  {
   "cell_type": "code",
   "execution_count": 10,
   "metadata": {},
   "outputs": [],
   "source": [
    "def getSynopsis(code='191559'):\n",
    "    \n",
    "    \"\"\"영화 페이지에서 줄거리 가져오기\"\"\"\n",
    "    \n",
    "    url = 'https://movie.naver.com/movie/bi/mi/basic.naver?code=' + code\n",
    "    response = requests.get(url)\n",
    "    if response.status_code == 200:\n",
    "        html = response.text\n",
    "        soup = BeautifulSoup(html, 'lxml')\n",
    "    else:\n",
    "        print('error', response.status_code)\n",
    "    \n",
    "    synopsis_list = []\n",
    "    \n",
    "    try:\n",
    "        title   = soup.select_one('#content > div.article > div.mv_info_area > div.mv_info > h3 > a:nth-of-type(1)').text\n",
    "        content = soup.select_one('#content > div.article > div.section_group.section_group_frst > div:nth-of-type(1) > div > div > p').text\n",
    "        brief   = soup.select_one('#content > div.article > div.section_group.section_group_frst > div:nth-of-type(1) > div > div > h5').text\n",
    "        synopsis_list.append(title)\n",
    "        synopsis_list.append(content)\n",
    "        synopsis_list.append(brief)\n",
    "    except:\n",
    "        synopsis_list.append(np.nan)\n",
    "        synopsis_list.append(np.nan)\n",
    "        synopsis_list.append(np.nan)\n",
    "    \n",
    "    return synopsis_list"
   ]
  },
  {
   "cell_type": "code",
   "execution_count": 11,
   "metadata": {},
   "outputs": [
    {
     "data": {
      "text/plain": [
       "['듄',\n",
       " \"10191년, 아트레이데스 가문의 후계자인 폴(티모시 샬라메)은 시공을 초월한 존재이자\\xa0전 우주를 구원할 예지된 자의 운명을 타고났다.\\xa0그리고 어떤 계시처럼 매일 꿈에서 아라키스 행성에 있는 한 여인을 만난다.\\xa0모래언덕을 뜻하는 '듄'이라 불리는 아라키스는 물 한 방울 없는 사막이지만\\xa0우주에서 가장 비싼 물질인 신성한 환각제 스파이스의 유일한 생산지로 이를 차지하기 위한 전쟁이 치열하다.\\xa0황제의 명령으로 폴과 아트레이데스 가문은 죽음이 기다리는 아라키스로 향하는데…\\xa0\\xa0위대한 자는 부름에 응답한다, 두려움에 맞서라, 이것은 위대한 시작이다!\",\n",
       " '“듄을 지배하는 자가 우주를 지배한다!”']"
      ]
     },
     "execution_count": 11,
     "metadata": {},
     "output_type": "execute_result"
    }
   ],
   "source": [
    "getSynopsis('191559')"
   ]
  },
  {
   "cell_type": "markdown",
   "metadata": {},
   "source": [
    "# 영화 코드 가져오기"
   ]
  },
  {
   "cell_type": "code",
   "execution_count": 12,
   "metadata": {},
   "outputs": [],
   "source": [
    "movie_codes_2020 = getMoviecode(year=2020, max_page=37)"
   ]
  },
  {
   "cell_type": "code",
   "execution_count": 13,
   "metadata": {},
   "outputs": [
    {
     "data": {
      "text/plain": [
       "(750,\n",
       " ['195370',\n",
       "  '193996',\n",
       "  '194004',\n",
       "  '187321',\n",
       "  '194791',\n",
       "  '194297',\n",
       "  '182013',\n",
       "  '194392',\n",
       "  '189373',\n",
       "  '195668'])"
      ]
     },
     "execution_count": 13,
     "metadata": {},
     "output_type": "execute_result"
    }
   ],
   "source": [
    "len(movie_codes_2020), movie_codes_2020[:10]"
   ]
  },
  {
   "cell_type": "markdown",
   "metadata": {},
   "source": [
    "# 영화 시놉시스 데이터프레임 구성"
   ]
  },
  {
   "cell_type": "code",
   "execution_count": 14,
   "metadata": {},
   "outputs": [],
   "source": [
    "movie_list_2020 = []\n",
    "for code in movie_codes_2020:\n",
    "    movie_list_2020.append(getSynopsis(code=code))"
   ]
  },
  {
   "cell_type": "code",
   "execution_count": null,
   "metadata": {},
   "outputs": [],
   "source": [
    "len(movie_list_2020)"
   ]
  },
  {
   "cell_type": "code",
   "execution_count": null,
   "metadata": {},
   "outputs": [],
   "source": [
    "df = pd.DataFrame(movie_list_2020, columns=['제목', '줄거리', '요약'])\n",
    "df['개봉년도'] = '2021'\n",
    "df = df[['제목', '개봉년도', '요약', '줄거리']]"
   ]
  },
  {
   "cell_type": "code",
   "execution_count": null,
   "metadata": {},
   "outputs": [],
   "source": [
    "df['요약'] = df['요약'].str.replace('\\r', ' ')\n",
    "df['요약'] = df['요약'].str.replace('\\n', '')\n",
    "df['요약'] = df['요약'].str.replace('\\xa0', '')\n",
    "\n",
    "df['줄거리'] = df['줄거리'].str.replace('\\r', ' ')\n",
    "df['줄거리'] = df['줄거리'].str.replace('\\n', '')\n",
    "df['줄거리'] = df['줄거리'].str.replace('\\xa0', '')"
   ]
  },
  {
   "cell_type": "code",
   "execution_count": null,
   "metadata": {},
   "outputs": [],
   "source": [
    "df.head(100)"
   ]
  },
  {
   "cell_type": "code",
   "execution_count": null,
   "metadata": {},
   "outputs": [],
   "source": [
    "df.to_csv('./movie_synopsis_2020.csv')"
   ]
  }
 ],
 "metadata": {
  "interpreter": {
   "hash": "17164ff5f922defefa3fdd6afe0c064ec3948eda8922a4bbab17a59b9b0232dc"
  },
  "kernelspec": {
   "display_name": "Python 3.8.8 64-bit ('venv': venv)",
   "name": "python3"
  },
  "language_info": {
   "codemirror_mode": {
    "name": "ipython",
    "version": 3
   },
   "file_extension": ".py",
   "mimetype": "text/x-python",
   "name": "python",
   "nbconvert_exporter": "python",
   "pygments_lexer": "ipython3",
   "version": "3.8.8"
  },
  "orig_nbformat": 4
 },
 "nbformat": 4,
 "nbformat_minor": 2
}
