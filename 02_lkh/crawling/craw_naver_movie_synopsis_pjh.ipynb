{
 "cells": [
  {
   "cell_type": "markdown",
   "metadata": {},
   "source": [
    "# imports"
   ]
  },
  {
   "cell_type": "code",
   "execution_count": 23,
   "metadata": {},
   "outputs": [],
   "source": [
    "import pandas as pd\n",
    "import numpy as np\n",
    "from bs4 import BeautifulSoup\n",
    "import requests"
   ]
  },
  {
   "cell_type": "markdown",
   "metadata": {},
   "source": [
    "# def"
   ]
  },
  {
   "cell_type": "code",
   "execution_count": 59,
   "metadata": {},
   "outputs": [],
   "source": [
    "def getMoviecode(year=2021, max_page=40):\n",
    "    \n",
    "    \"\"\"연도별 영화코드 수집\"\"\"\n",
    "    \n",
    "    base_url = 'https://movie.naver.com/movie/sdb/browsing/bmovie.naver?open=' + str(year) + '&page='\n",
    "    movie_code_list = []\n",
    "    \n",
    "    for page in range(max_page + 1):\n",
    "        \n",
    "        url = base_url + str(page)\n",
    "        response = requests.get(url)\n",
    "        \n",
    "        if response.status_code == 200:\n",
    "            html = response.text\n",
    "            soup = BeautifulSoup(html, 'lxml')\n",
    "        else:\n",
    "            print('error', response.status_code)\n",
    "            break\n",
    "        \n",
    "        list = soup.select('#old_content > ul > li')\n",
    "        for movie in range(len(list)):\n",
    "            code = list[movie].select_one('a').get('href').split('=')[1]\n",
    "            movie_code_list.append(code)\n",
    "    \n",
    "    return movie_code_list"
   ]
  },
  {
   "cell_type": "code",
   "execution_count": 202,
   "metadata": {},
   "outputs": [],
   "source": [
    "def getSynopsis(code=code):\n",
    "    \n",
    "    \"\"\"영화 페이지에서 줄거리 가져오기\"\"\"\n",
    "    \n",
    "    url = 'https://movie.naver.com/movie/bi/mi/basic.naver?code=' + code\n",
    "    response = requests.get(url)\n",
    "    if response.status_code == 200:\n",
    "        html = response.text\n",
    "        soup = BeautifulSoup(html, 'lxml')\n",
    "    else:\n",
    "        print('error', response.status_code)\n",
    "    \n",
    "    synopsis_list = []\n",
    "    title   = soup.select_one('#content > div.article > div.mv_info_area > div.mv_info > h3 > a:nth-of-type(1)').text\n",
    "    synopsis_list.append(title)\n",
    "    \n",
    "    try:\n",
    "        content = soup.select_one('#content > div.article > div.section_group.section_group_frst > div:nth-of-type(1) > div > div > p').text\n",
    "        brief   = soup.select_one('#content > div.article > div.section_group.section_group_frst > div:nth-of-type(1) > div > div > h5').text\n",
    "        synopsis_list.append(content)\n",
    "        synopsis_list.append(brief)\n",
    "    except:\n",
    "        synopsis_list.append(np.nan)\n",
    "        synopsis_list.append(np.nan)\n",
    "    \n",
    "    return synopsis_list"
   ]
  },
  {
   "cell_type": "code",
   "execution_count": 203,
   "metadata": {},
   "outputs": [
    {
     "data": {
      "text/plain": [
       "['듄',\n",
       " \"10191년, 아트레이데스 가문의 후계자인 폴(티모시 샬라메)은 시공을 초월한 존재이자\\r\\xa0전 우주를 구원할 예지된 자의 운명을 타고났다.\\r\\xa0그리고 어떤 계시처럼 매일 꿈에서 아라키스 행성에 있는 한 여인을 만난다.\\r\\xa0모래언덕을 뜻하는 '듄'이라 불리는 아라키스는 물 한 방울 없는 사막이지만\\r\\xa0우주에서 가장 비싼 물질인 신성한 환각제 스파이스의 유일한 생산지로 이를 차지하기 위한 전쟁이 치열하다.\\r\\xa0황제의 명령으로 폴과 아트레이데스 가문은 죽음이 기다리는 아라키스로 향하는데…\\r\\xa0\\r\\xa0위대한 자는 부름에 응답한다, 두려움에 맞서라, 이것은 위대한 시작이다!\",\n",
       " '“듄을 지배하는 자가 우주를 지배한다!”']"
      ]
     },
     "execution_count": 203,
     "metadata": {},
     "output_type": "execute_result"
    }
   ],
   "source": [
    "getSynopsis('191559')"
   ]
  },
  {
   "cell_type": "markdown",
   "metadata": {},
   "source": [
    "# 영화 코드 가져오기"
   ]
  },
  {
   "cell_type": "code",
   "execution_count": 162,
   "metadata": {},
   "outputs": [],
   "source": [
    "movie_codes = getMoviecode(year=2021, max_page=40)"
   ]
  },
  {
   "cell_type": "code",
   "execution_count": 181,
   "metadata": {},
   "outputs": [
    {
     "data": {
      "text/plain": [
       "(803,\n",
       " ['99702',\n",
       "  '148043',\n",
       "  '204776',\n",
       "  '199665',\n",
       "  '201842',\n",
       "  '198765',\n",
       "  '202533',\n",
       "  '200743',\n",
       "  '174831',\n",
       "  '195072'])"
      ]
     },
     "execution_count": 181,
     "metadata": {},
     "output_type": "execute_result"
    }
   ],
   "source": [
    "len(movie_codes), movie_codes[:10]"
   ]
  },
  {
   "cell_type": "markdown",
   "metadata": {},
   "source": [
    "# 영화 시놉시스 데이터프레임 구성"
   ]
  },
  {
   "cell_type": "code",
   "execution_count": 205,
   "metadata": {},
   "outputs": [],
   "source": [
    "movie_list = []\n",
    "for code in movie_codes:\n",
    "    movie_list.append(getSynopsis(code=code))"
   ]
  },
  {
   "cell_type": "code",
   "execution_count": 206,
   "metadata": {},
   "outputs": [
    {
     "data": {
      "text/plain": [
       "803"
      ]
     },
     "execution_count": 206,
     "metadata": {},
     "output_type": "execute_result"
    }
   ],
   "source": [
    "len(movie_list)"
   ]
  },
  {
   "cell_type": "code",
   "execution_count": 215,
   "metadata": {},
   "outputs": [],
   "source": [
    "df = pd.DataFrame(movie_list, columns=['제목', '줄거리', '요약'])\n",
    "df['개봉년도'] = '2021'\n",
    "df = df[['제목', '개봉년도', '요약', '줄거리']]"
   ]
  },
  {
   "cell_type": "code",
   "execution_count": 233,
   "metadata": {},
   "outputs": [],
   "source": [
    "df['요약'] = df['요약'].str.replace('\\r', ' ')\n",
    "df['요약'] = df['요약'].str.replace('\\n', '')\n",
    "df['요약'] = df['요약'].str.replace('\\xa0', '')\n",
    "\n",
    "df['줄거리'] = df['줄거리'].str.replace('\\r', ' ')\n",
    "df['줄거리'] = df['줄거리'].str.replace('\\n', '')\n",
    "df['줄거리'] = df['줄거리'].str.replace('\\xa0', '')"
   ]
  },
  {
   "cell_type": "code",
   "execution_count": 234,
   "metadata": {},
   "outputs": [
    {
     "data": {
      "text/html": [
       "<div>\n",
       "<style scoped>\n",
       "    .dataframe tbody tr th:only-of-type {\n",
       "        vertical-align: middle;\n",
       "    }\n",
       "\n",
       "    .dataframe tbody tr th {\n",
       "        vertical-align: top;\n",
       "    }\n",
       "\n",
       "    .dataframe thead th {\n",
       "        text-align: right;\n",
       "    }\n",
       "</style>\n",
       "<table border=\"1\" class=\"dataframe\">\n",
       "  <thead>\n",
       "    <tr style=\"text-align: right;\">\n",
       "      <th></th>\n",
       "      <th>제목</th>\n",
       "      <th>개봉년도</th>\n",
       "      <th>요약</th>\n",
       "      <th>줄거리</th>\n",
       "    </tr>\n",
       "  </thead>\n",
       "  <tbody>\n",
       "    <tr>\n",
       "      <th>0</th>\n",
       "      <td>007 노 타임 투 다이</td>\n",
       "      <td>2021</td>\n",
       "      <td>NaN</td>\n",
       "      <td>NaN</td>\n",
       "    </tr>\n",
       "    <tr>\n",
       "      <th>1</th>\n",
       "      <td>117편의 러브레터</td>\n",
       "      <td>2021</td>\n",
       "      <td>NaN</td>\n",
       "      <td>NaN</td>\n",
       "    </tr>\n",
       "    <tr>\n",
       "      <th>2</th>\n",
       "      <td>120시간: 로스트 인 아웃백</td>\n",
       "      <td>2021</td>\n",
       "      <td>NaN</td>\n",
       "      <td>NaN</td>\n",
       "    </tr>\n",
       "    <tr>\n",
       "      <th>3</th>\n",
       "      <td>1984 최동원</td>\n",
       "      <td>2021</td>\n",
       "      <td>NaN</td>\n",
       "      <td>NaN</td>\n",
       "    </tr>\n",
       "    <tr>\n",
       "      <th>4</th>\n",
       "      <td>2021 스웨그 에이지 : 외쳐, 조선!</td>\n",
       "      <td>2021</td>\n",
       "      <td>‘시조’가 국가의 이념인 상상 속의 ‘조선’</td>\n",
       "      <td>삶의 고단함과 역경을 시조 속에 담아 훌훌 털어버렸던 백성들은 역모 사건으로 시조 ...</td>\n",
       "    </tr>\n",
       "    <tr>\n",
       "      <th>...</th>\n",
       "      <td>...</td>\n",
       "      <td>...</td>\n",
       "      <td>...</td>\n",
       "      <td>...</td>\n",
       "    </tr>\n",
       "    <tr>\n",
       "      <th>95</th>\n",
       "      <td>극장판 도라에몽: 진구의 신공룡</td>\n",
       "      <td>2021</td>\n",
       "      <td>도라에몽 50주년 기념대작!  오리지널 스토리로 돌아온 진구와 쌍둥이 공룡의 대모험!</td>\n",
       "      <td>진구는 공룡 엑스포 화석 발굴 체험에서 발견한 화석을 공룡알이라고 굳게 믿는다. 도...</td>\n",
       "    </tr>\n",
       "    <tr>\n",
       "      <th>96</th>\n",
       "      <td>극장판 마이 리틀 포니: 새로운 희망</td>\n",
       "      <td>2021</td>\n",
       "      <td>함께 할 때 가장 빛나는 우리!  반짝이는 희망을 찾아, 임무를 시작해볼까?</td>\n",
       "      <td>포니, 페가수스, 유니콘이 함께 조화를 이루며 살던 이퀘스트리아. 하지만 평화가 사...</td>\n",
       "    </tr>\n",
       "    <tr>\n",
       "      <th>97</th>\n",
       "      <td>극장판 바다 탐험대 옥토넛 : 불의 고리 대폭발</td>\n",
       "      <td>2021</td>\n",
       "      <td>바닷속 화산이 폭발했다! 옥토넛, 출동!</td>\n",
       "      <td>평화로운 일상을 보내고 있던 옥토넛은태평양을 둘러싼 ‘불의 고리’에서 화산 폭발이 ...</td>\n",
       "    </tr>\n",
       "    <tr>\n",
       "      <th>98</th>\n",
       "      <td>극장판 짱구는 못말려: 격돌! 낙서왕국과 얼추 네 명의 용사들</td>\n",
       "      <td>2021</td>\n",
       "      <td>NaN</td>\n",
       "      <td>NaN</td>\n",
       "    </tr>\n",
       "    <tr>\n",
       "      <th>99</th>\n",
       "      <td>극장판 콩순이: 장난감나라 대모험</td>\n",
       "      <td>2021</td>\n",
       "      <td>NaN</td>\n",
       "      <td>NaN</td>\n",
       "    </tr>\n",
       "  </tbody>\n",
       "</table>\n",
       "<p>100 rows × 4 columns</p>\n",
       "</div>"
      ],
      "text/plain": [
       "                                    제목  개봉년도  \\\n",
       "0                        007 노 타임 투 다이  2021   \n",
       "1                           117편의 러브레터  2021   \n",
       "2                     120시간: 로스트 인 아웃백  2021   \n",
       "3                             1984 최동원  2021   \n",
       "4               2021 스웨그 에이지 : 외쳐, 조선!  2021   \n",
       "..                                 ...   ...   \n",
       "95                   극장판 도라에몽: 진구의 신공룡  2021   \n",
       "96                극장판 마이 리틀 포니: 새로운 희망  2021   \n",
       "97          극장판 바다 탐험대 옥토넛 : 불의 고리 대폭발  2021   \n",
       "98  극장판 짱구는 못말려: 격돌! 낙서왕국과 얼추 네 명의 용사들  2021   \n",
       "99                  극장판 콩순이: 장난감나라 대모험  2021   \n",
       "\n",
       "                                                 요약  \\\n",
       "0                                               NaN   \n",
       "1                                               NaN   \n",
       "2                                               NaN   \n",
       "3                                               NaN   \n",
       "4                          ‘시조’가 국가의 이념인 상상 속의 ‘조선’   \n",
       "..                                              ...   \n",
       "95  도라에몽 50주년 기념대작!  오리지널 스토리로 돌아온 진구와 쌍둥이 공룡의 대모험!   \n",
       "96       함께 할 때 가장 빛나는 우리!  반짝이는 희망을 찾아, 임무를 시작해볼까?   \n",
       "97                           바닷속 화산이 폭발했다! 옥토넛, 출동!   \n",
       "98                                              NaN   \n",
       "99                                              NaN   \n",
       "\n",
       "                                                  줄거리  \n",
       "0                                                 NaN  \n",
       "1                                                 NaN  \n",
       "2                                                 NaN  \n",
       "3                                                 NaN  \n",
       "4   삶의 고단함과 역경을 시조 속에 담아 훌훌 털어버렸던 백성들은 역모 사건으로 시조 ...  \n",
       "..                                                ...  \n",
       "95  진구는 공룡 엑스포 화석 발굴 체험에서 발견한 화석을 공룡알이라고 굳게 믿는다. 도...  \n",
       "96  포니, 페가수스, 유니콘이 함께 조화를 이루며 살던 이퀘스트리아. 하지만 평화가 사...  \n",
       "97  평화로운 일상을 보내고 있던 옥토넛은태평양을 둘러싼 ‘불의 고리’에서 화산 폭발이 ...  \n",
       "98                                                NaN  \n",
       "99                                                NaN  \n",
       "\n",
       "[100 rows x 4 columns]"
      ]
     },
     "execution_count": 234,
     "metadata": {},
     "output_type": "execute_result"
    }
   ],
   "source": [
    "df.head(100)"
   ]
  },
  {
   "cell_type": "code",
   "execution_count": 235,
   "metadata": {},
   "outputs": [],
   "source": [
    "df.to_csv('./movie_synopsis.csv')"
   ]
  }
 ],
 "metadata": {
  "interpreter": {
   "hash": "17164ff5f922defefa3fdd6afe0c064ec3948eda8922a4bbab17a59b9b0232dc"
  },
  "kernelspec": {
   "display_name": "Python 3 (ipykernel)",
   "language": "python",
   "name": "python3"
  },
  "language_info": {
   "codemirror_mode": {
    "name": "ipython",
    "version": 3
   },
   "file_extension": ".py",
   "mimetype": "text/x-python",
   "name": "python",
   "nbconvert_exporter": "python",
   "pygments_lexer": "ipython3",
   "version": "3.8.8"
  }
 },
 "nbformat": 4,
 "nbformat_minor": 4
}
