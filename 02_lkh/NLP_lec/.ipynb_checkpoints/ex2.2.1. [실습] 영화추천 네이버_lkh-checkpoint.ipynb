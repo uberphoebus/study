{
 "cells": [
  {
   "cell_type": "markdown",
   "id": "piano-copper",
   "metadata": {},
   "source": [
    "<img src=\"./img/logo3.png\"><br>\n",
    "* ref : https://movie.naver.com/movie/point/af/list.naver?&page=1"
   ]
  },
  {
   "cell_type": "code",
   "execution_count": 1,
   "id": "imperial-savage",
   "metadata": {},
   "outputs": [],
   "source": [
    "import pandas as pd\n",
    "from sklearn.feature_extraction.text import TfidfVectorizer\n",
    "from sklearn.metrics.pairwise import cosine_similarity"
   ]
  },
  {
   "cell_type": "code",
   "execution_count": 2,
   "id": "processed-cologne",
   "metadata": {},
   "outputs": [
    {
     "data": {
      "text/html": [
       "<div>\n",
       "<style scoped>\n",
       "    .dataframe tbody tr th:only-of-type {\n",
       "        vertical-align: middle;\n",
       "    }\n",
       "\n",
       "    .dataframe tbody tr th {\n",
       "        vertical-align: top;\n",
       "    }\n",
       "\n",
       "    .dataframe thead th {\n",
       "        text-align: right;\n",
       "    }\n",
       "</style>\n",
       "<table border=\"1\" class=\"dataframe\">\n",
       "  <thead>\n",
       "    <tr style=\"text-align: right;\">\n",
       "      <th></th>\n",
       "      <th>Unnamed: 0</th>\n",
       "      <th>제목</th>\n",
       "      <th>개봉년도</th>\n",
       "      <th>요약</th>\n",
       "      <th>줄거리</th>\n",
       "    </tr>\n",
       "  </thead>\n",
       "  <tbody>\n",
       "    <tr>\n",
       "      <th>0</th>\n",
       "      <td>0</td>\n",
       "      <td>007 노 타임 투 다이</td>\n",
       "      <td>2021</td>\n",
       "      <td>NaN</td>\n",
       "      <td>NaN</td>\n",
       "    </tr>\n",
       "    <tr>\n",
       "      <th>1</th>\n",
       "      <td>1</td>\n",
       "      <td>117편의 러브레터</td>\n",
       "      <td>2021</td>\n",
       "      <td>NaN</td>\n",
       "      <td>NaN</td>\n",
       "    </tr>\n",
       "    <tr>\n",
       "      <th>2</th>\n",
       "      <td>2</td>\n",
       "      <td>120시간: 로스트 인 아웃백</td>\n",
       "      <td>2021</td>\n",
       "      <td>NaN</td>\n",
       "      <td>NaN</td>\n",
       "    </tr>\n",
       "    <tr>\n",
       "      <th>3</th>\n",
       "      <td>3</td>\n",
       "      <td>1984 최동원</td>\n",
       "      <td>2021</td>\n",
       "      <td>NaN</td>\n",
       "      <td>NaN</td>\n",
       "    </tr>\n",
       "    <tr>\n",
       "      <th>4</th>\n",
       "      <td>4</td>\n",
       "      <td>2021 스웨그 에이지 : 외쳐, 조선!</td>\n",
       "      <td>2021</td>\n",
       "      <td>‘시조’가 국가의 이념인 상상 속의 ‘조선’</td>\n",
       "      <td>삶의 고단함과 역경을 시조 속에 담아 훌훌 털어버렸던 백성들은 역모 사건으로 시조 ...</td>\n",
       "    </tr>\n",
       "  </tbody>\n",
       "</table>\n",
       "</div>"
      ],
      "text/plain": [
       "   Unnamed: 0                      제목  개봉년도                        요약  \\\n",
       "0           0           007 노 타임 투 다이  2021                       NaN   \n",
       "1           1              117편의 러브레터  2021                       NaN   \n",
       "2           2        120시간: 로스트 인 아웃백  2021                       NaN   \n",
       "3           3                1984 최동원  2021                       NaN   \n",
       "4           4  2021 스웨그 에이지 : 외쳐, 조선!  2021  ‘시조’가 국가의 이념인 상상 속의 ‘조선’   \n",
       "\n",
       "                                                 줄거리  \n",
       "0                                                NaN  \n",
       "1                                                NaN  \n",
       "2                                                NaN  \n",
       "3                                                NaN  \n",
       "4  삶의 고단함과 역경을 시조 속에 담아 훌훌 털어버렸던 백성들은 역모 사건으로 시조 ...  "
      ]
     },
     "execution_count": 2,
     "metadata": {},
     "output_type": "execute_result"
    }
   ],
   "source": [
    "df = pd.read_csv('./datasets/craw/craw_movie_synopsis.csv', low_memory=False)\n",
    "df.head(5) # title, overview "
   ]
  },
  {
   "cell_type": "code",
   "execution_count": 3,
   "id": "compact-venture",
   "metadata": {},
   "outputs": [
    {
     "data": {
      "text/plain": [
       "(803, 5)"
      ]
     },
     "execution_count": 3,
     "metadata": {},
     "output_type": "execute_result"
    }
   ],
   "source": [
    "df.shape"
   ]
  },
  {
   "cell_type": "code",
   "execution_count": 4,
   "id": "capable-subdivision",
   "metadata": {},
   "outputs": [
    {
     "data": {
      "text/plain": [
       "(803, 5)"
      ]
     },
     "execution_count": 4,
     "metadata": {},
     "output_type": "execute_result"
    }
   ],
   "source": [
    "df = df.drop_duplicates()\n",
    "df.shape"
   ]
  },
  {
   "cell_type": "code",
   "execution_count": 6,
   "id": "willing-trailer",
   "metadata": {},
   "outputs": [
    {
     "data": {
      "text/plain": [
       "451"
      ]
     },
     "execution_count": 6,
     "metadata": {},
     "output_type": "execute_result"
    }
   ],
   "source": [
    "df['줄거리'].isnull().sum()"
   ]
  },
  {
   "cell_type": "code",
   "execution_count": 6,
   "id": "still-recording",
   "metadata": {},
   "outputs": [
    {
     "data": {
      "text/plain": [
       "(8774, 3)"
      ]
     },
     "execution_count": 6,
     "metadata": {},
     "output_type": "execute_result"
    }
   ],
   "source": [
    "idx = df[df['줄거리'].isnull()].index\n",
    "df = df.drop(idx, axis=0)\n",
    "df.shape"
   ]
  },
  {
   "cell_type": "code",
   "execution_count": 7,
   "id": "clinical-afghanistan",
   "metadata": {},
   "outputs": [],
   "source": [
    "df= df.reset_index(drop=True)"
   ]
  },
  {
   "cell_type": "markdown",
   "id": "medium-england",
   "metadata": {},
   "source": [
    "### overview :  tf-idf "
   ]
  },
  {
   "cell_type": "code",
   "execution_count": 8,
   "id": "filled-product",
   "metadata": {},
   "outputs": [
    {
     "data": {
      "text/plain": [
       "['!', '\"', '$', '%', '&', \"'\", '(', ')', '*', '+']"
      ]
     },
     "execution_count": 8,
     "metadata": {},
     "output_type": "execute_result"
    }
   ],
   "source": [
    "stopwords_ko = []\n",
    "f = open('./datasets/stopwords_ko.txt', mode='r', encoding='utf-8')\n",
    "for line in f:\n",
    "    line = line.rstrip(\"\\n\")\n",
    "    stopwords_ko.append(line)\n",
    "    \n",
    "stopwords_ko[:10]"
   ]
  },
  {
   "cell_type": "code",
   "execution_count": 9,
   "id": "legal-convention",
   "metadata": {},
   "outputs": [
    {
     "name": "stderr",
     "output_type": "stream",
     "text": [
      "c:\\it\\pythonproject2\\venv\\lib\\site-packages\\sklearn\\feature_extraction\\text.py:383: UserWarning: Your stop_words may be inconsistent with your preprocessing. Tokenizing the stop words generated tokens ['가서', '같은', '것과', '결과에', '결론을', '관계가', '관련이', '그런', '그럼에도', '그렇게', '그에', '그치지', '김에', '까닭에', '낫다', '년도', '논하지', '누가', '다시', '달려', '대로', '대해', '되는', '되다', '되어', '들면', '들자면', '듯하다', '따르는', '따름이다', '따지지', '때가', '만은', '만이', '많은', '말하면', '말할것도', '몰라도', '몰랏다', '못하다', '미치다', '바꾸어서', '바꿔', '밖에', '방면으로', '보면', '보아', '부류의', '비길수', '비추어', '뿐만', '사람들', '상대적으로', '생각이다', '서술한바와같이', '쓰여', '아니다', '아니라', '안다', '안된다', '않고', '않기', '않는다면', '않다', '않다면', '않도록', '않으면', '알겠는가', '어쩔수', '없고', '없다', '예를', '외에', '요만한', '우에', '위에서', '이렇게', '이로', '이르다', '이와', '이유는', '인하여', '임에', '점에서', '정도에', '정도의', '종합한것과같이', '주저하지', '줄은', '지경이다', '틀림없다', '편이', '하고', '하기', '하기만', '하는', '하는것만', '하는것이', '하다', '하면', '하지', '한하다', '할수록', '함으로써', '해도', '해서는', '형식으로', '힘이'] not in stop_words.\n",
      "  warnings.warn('Your stop_words may be inconsistent with '\n"
     ]
    },
    {
     "name": "stdout",
     "output_type": "stream",
     "text": [
      "(8774, 35974)\n",
      "[[0. 0. 0. ... 0. 0. 0.]]\n"
     ]
    }
   ],
   "source": [
    "tfidf = TfidfVectorizer(stop_words=stopwords_ko)\n",
    "tfidf_matrix = tfidf.fit_transform(df['줄거리'])\n",
    "print(tfidf_matrix.shape)\n",
    "print(tfidf_matrix.toarray()[:1])"
   ]
  },
  {
   "cell_type": "code",
   "execution_count": 10,
   "id": "essential-extreme",
   "metadata": {},
   "outputs": [
    {
     "data": {
      "text/plain": [
       "array([[1., 0., 0., ..., 0., 0., 0.],\n",
       "       [0., 1., 0., ..., 0., 0., 0.]])"
      ]
     },
     "execution_count": 10,
     "metadata": {},
     "output_type": "execute_result"
    }
   ],
   "source": [
    "cosine_sim = cosine_similarity(tfidf_matrix, tfidf_matrix)\n",
    "cosine_sim[:2]"
   ]
  },
  {
   "cell_type": "code",
   "execution_count": 26,
   "id": "exclusive-healthcare",
   "metadata": {},
   "outputs": [
    {
     "name": "stdout",
     "output_type": "stream",
     "text": [
      "(1690,) title\n",
      "듄                    0\n",
      "악마를 보았다              1\n",
      "악인전                  2\n",
      "7광구                  3\n",
      "라스트 듀얼: 최후의 결투       6\n",
      "용과 주근깨 공주           10\n",
      "크롤                  14\n",
      "존 카터: 바숨 전쟁의 서막     16\n",
      "건축학개론               17\n",
      "더 포가튼 배틀            18\n",
      "내 깡패 같은 애인          21\n",
      "추억의 마니              23\n",
      "나의 특별한 형제           25\n",
      "걸캅스                 26\n",
      "아내를 죽였다             27\n",
      "더 테러 라이브            29\n",
      "내일의 기억              30\n",
      "그는 당신에게 반하지 않았다     31\n",
      "인터스텔라               34\n",
      "그날, 바다              35\n",
      "베놈 2: 렛 데어 비 카니지    40\n",
      "빌리 엘리어트             47\n",
      "프로메테우스              48\n",
      "기적                  49\n",
      "다세포 소녀              50\n",
      "다운사이징               53\n",
      "보이스                 55\n",
      "노회찬6411             57\n",
      "반도                  60\n",
      "싱크홀                 62\n",
      "dtype: int64\n"
     ]
    }
   ],
   "source": [
    "ss = df['title'].drop_duplicates()\n",
    "ss = pd.Series(ss.index, index=ss).drop_duplicates()\n",
    "print(ss.shape, ss[:30])"
   ]
  },
  {
   "cell_type": "code",
   "execution_count": 32,
   "id": "former-cycle",
   "metadata": {},
   "outputs": [
    {
     "name": "stdout",
     "output_type": "stream",
     "text": [
      "60\n"
     ]
    }
   ],
   "source": [
    "idx = ss['싱크홀']\n",
    "print(idx)"
   ]
  },
  {
   "cell_type": "markdown",
   "id": "excellent-military",
   "metadata": {},
   "source": [
    "### 선택한 영화에 대해서 코사인 유사도를 이용하여, 가장 줄거리가 유사한 10개의 영화 찾기"
   ]
  },
  {
   "cell_type": "code",
   "execution_count": 28,
   "id": "stock-brick",
   "metadata": {},
   "outputs": [],
   "source": [
    "def my_recommend(title, cosine_sim=cosine_sim):\n",
    "    idx = ss[title]\n",
    "    #print(idx)\n",
    "    sim_scores = list(enumerate(cosine_sim[idx]))                      #title vs 모든영화 : 유사도계산\n",
    "    sim_scores = sorted(sim_scores, key=lambda x: x[1], reverse=True)  # 유사도 정렬\n",
    "    sim_scores = sim_scores[1:11]                                      # 유사도 top10      \n",
    "    print(sim_scores)   \n",
    "    movie_idx = [i[0] for i in sim_scores]\n",
    "    return df['title'].iloc[movie_idx]                                 # 가장 유사한 영화 top10"
   ]
  },
  {
   "cell_type": "code",
   "execution_count": 33,
   "id": "photographic-booth",
   "metadata": {},
   "outputs": [
    {
     "name": "stdout",
     "output_type": "stream",
     "text": [
      "[(383, 0.16912778958661), (6520, 0.11254352026234743), (2528, 0.10530305997445369), (6962, 0.1016173152941941), (4349, 0.09184547867624268), (5069, 0.08718669654562833), (2640, 0.07957976418933554), (981, 0.07742860908114749), (5297, 0.07569836317849098), (8530, 0.07566309884816395)]\n"
     ]
    },
    {
     "data": {
      "text/plain": [
       "383                   반도\n",
       "6520                모가디슈\n",
       "2528      라스트 듀얼: 최후의 결투\n",
       "6962       007 노 타임 투 다이\n",
       "4349                  관상\n",
       "5069                   듄\n",
       "2640           용과 주근깨 공주\n",
       "981                   플립\n",
       "5297                   듄\n",
       "8530    베놈 2: 렛 데어 비 카니지\n",
       "Name: title, dtype: object"
      ]
     },
     "execution_count": 33,
     "metadata": {},
     "output_type": "execute_result"
    }
   ],
   "source": [
    "my_recommend('반도')"
   ]
  },
  {
   "cell_type": "code",
   "execution_count": 17,
   "id": "composed-aquatic",
   "metadata": {},
   "outputs": [
    {
     "data": {
      "text/html": [
       "<div>\n",
       "<style scoped>\n",
       "    .dataframe tbody tr th:only-of-type {\n",
       "        vertical-align: middle;\n",
       "    }\n",
       "\n",
       "    .dataframe tbody tr th {\n",
       "        vertical-align: top;\n",
       "    }\n",
       "\n",
       "    .dataframe thead th {\n",
       "        text-align: right;\n",
       "    }\n",
       "</style>\n",
       "<table border=\"1\" class=\"dataframe\">\n",
       "  <thead>\n",
       "    <tr style=\"text-align: right;\">\n",
       "      <th></th>\n",
       "      <th>title</th>\n",
       "      <th>score</th>\n",
       "      <th>review</th>\n",
       "    </tr>\n",
       "  </thead>\n",
       "  <tbody>\n",
       "    <tr>\n",
       "      <th>8766</th>\n",
       "      <td>범죄도시</td>\n",
       "      <td>10</td>\n",
       "      <td>한국의 히어로 무비K-Hero 마동석!</td>\n",
       "    </tr>\n",
       "    <tr>\n",
       "      <th>8517</th>\n",
       "      <td>범죄도시</td>\n",
       "      <td>10</td>\n",
       "      <td>기대 안하고 봤는데 시간 가는줄 몰랐다완전 재밌음 강추 ㅋ 마동석 최고</td>\n",
       "    </tr>\n",
       "    <tr>\n",
       "      <th>999</th>\n",
       "      <td>범죄도시</td>\n",
       "      <td>10</td>\n",
       "      <td>너무 재밌다. 우와 마동석 시원시원 타격감 너무 좋네요 그리고 윤계상 연기 잘해서 ...</td>\n",
       "    </tr>\n",
       "  </tbody>\n",
       "</table>\n",
       "</div>"
      ],
      "text/plain": [
       "     title  score                                             review\n",
       "8766  범죄도시     10                              한국의 히어로 무비K-Hero 마동석!\n",
       "8517  범죄도시     10            기대 안하고 봤는데 시간 가는줄 몰랐다완전 재밌음 강추 ㅋ 마동석 최고\n",
       "999   범죄도시     10  너무 재밌다. 우와 마동석 시원시원 타격감 너무 좋네요 그리고 윤계상 연기 잘해서 ..."
      ]
     },
     "execution_count": 17,
     "metadata": {},
     "output_type": "execute_result"
    }
   ],
   "source": [
    "# df.loc[[8766, 8517,999]]"
   ]
  }
 ],
 "metadata": {
  "kernelspec": {
   "display_name": "Python 3 (ipykernel)",
   "language": "python",
   "name": "python3"
  },
  "language_info": {
   "codemirror_mode": {
    "name": "ipython",
    "version": 3
   },
   "file_extension": ".py",
   "mimetype": "text/x-python",
   "name": "python",
   "nbconvert_exporter": "python",
   "pygments_lexer": "ipython3",
   "version": "3.8.8"
  }
 },
 "nbformat": 4,
 "nbformat_minor": 5
}
