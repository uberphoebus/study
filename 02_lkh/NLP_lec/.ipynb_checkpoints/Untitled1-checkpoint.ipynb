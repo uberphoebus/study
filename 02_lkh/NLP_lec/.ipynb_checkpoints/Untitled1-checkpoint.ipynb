{
 "cells": [
  {
   "cell_type": "code",
   "execution_count": 1,
   "id": "reasonable-office",
   "metadata": {},
   "outputs": [
    {
     "data": {
      "text/html": [
       "<style>.container{width:100% !important;}</style>"
      ],
      "text/plain": [
       "<IPython.core.display.HTML object>"
      ]
     },
     "metadata": {},
     "output_type": "display_data"
    }
   ],
   "source": [
    "import matplotlib.pyplot as plt\n",
    "import seaborn as sns\n",
    "import pandas as pd\n",
    "import numpy as np\n",
    "import re\n",
    "\n",
    "#-------------------- 주피터 셀 넓이 조절 ---------------------\n",
    "from IPython.core.display import display, HTML\n",
    "display(HTML(\"<style>.container{width:100% !important;}</style>\"))\n",
    "pd.set_option('display.max_rows', 500)\n",
    "pd.set_option('display.max_columns', 500)\n",
    "pd.set_option('max_colwidth', None)\n",
    "\n",
    "sns.set()"
   ]
  },
  {
   "cell_type": "markdown",
   "id": "phantom-country",
   "metadata": {},
   "source": [
    "## 데이터 로드"
   ]
  },
  {
   "cell_type": "code",
   "execution_count": 2,
   "id": "infinite-great",
   "metadata": {},
   "outputs": [
    {
     "data": {
      "text/html": [
       "<div>\n",
       "<style scoped>\n",
       "    .dataframe tbody tr th:only-of-type {\n",
       "        vertical-align: middle;\n",
       "    }\n",
       "\n",
       "    .dataframe tbody tr th {\n",
       "        vertical-align: top;\n",
       "    }\n",
       "\n",
       "    .dataframe thead th {\n",
       "        text-align: right;\n",
       "    }\n",
       "</style>\n",
       "<table border=\"1\" class=\"dataframe\">\n",
       "  <thead>\n",
       "    <tr style=\"text-align: right;\">\n",
       "      <th></th>\n",
       "      <th>title</th>\n",
       "      <th>content</th>\n",
       "      <th>cate</th>\n",
       "      <th>rdate</th>\n",
       "    </tr>\n",
       "  </thead>\n",
       "  <tbody>\n",
       "    <tr>\n",
       "      <th>0</th>\n",
       "      <td>1단 로켓 고비 넘겼는데, 예상 밖의 복병 3단</td>\n",
       "      <td>[앵커]\\r누리호 발사에 가장 큰 변수는 1단 로켓의 정상 작동 여부였습니다.이 고비는 깨끗하게 성공했는데, 전혀 고려의 대상이 되지 않던 3단 로켓이 복병으로 등장했습니다.이성규 기자가 보도합니다.[기자]\\r누리호의 심장인 75톤 엔진.지난 2018년, 하나의 엔진으로 구성된 시험 발사는 성공했습니다.누리호는 75톤 엔진 4개를 묶어 1단으로 사용합니다.4개의 엔진이 마치 하나처럼 작동하는 '클러스터링'이라는 고도의 기술이 필요합니다.연구진이 누리호 발사에서 가장 큰 고비로 꼽는 부분이었습니다.[조기주 / 한국항공우주연구원 발사체팀장 : 엔진 4개를 클러스터링하는데 비행 중에 엔진 하나가 오작동하면 발사체의 자세 제어가 힘듭니다. 최악의 경우엔 발사 실패합니다.]하지만 1단과 2단 로켓은 연소와 분리 모두 시원스럽게 통과했습니다.우려가 무색할 정도였습니다.문제는 전혀 고려하지 않았던 3단에서 발생했습니다.7톤급 액체 엔진이 예정했던 연소 시간보다 46초나 덜 타고 꺼져 버린 겁니다.마지막 구간에서 탄력을 받아 초속 7.5km의 속도로 궤도에 진입해야 하는데 그 속도에 도달하는 데 실패한 것입니다.[이상률 / 한국항공우주연구원장 : 세부 원인과 이런 것들은 저희 기술진들이 좀 더 분석하겠다. 부족한 부분은 조사위원회와 내부 검토를 통해 내년 5월에는 문제가 없도록 보완하겠다.]7톤 엔진은 75톤 엔진에 비해 구조가 훨씬 간단해 원인을 찾고 개선하는 데 어려움은 없을 것으로 보입니다.따라서 내년 5월로 예정된 2차 발사에는 완벽한 상태의 누리호로 미완이 아닌 완성된 발사에 도전할 수 있을 전망입니다.YTN 사이언스 이성규입니다.YTN 이성규 (sklee95@ytn.co.kr)</td>\n",
       "      <td>3</td>\n",
       "      <td>2021-10-22 02:53</td>\n",
       "    </tr>\n",
       "  </tbody>\n",
       "</table>\n",
       "</div>"
      ],
      "text/plain": [
       "                        title  \\\n",
       "0  1단 로켓 고비 넘겼는데, 예상 밖의 복병 3단   \n",
       "\n",
       "                                                                                                                                                                                                                                                                                                                                                                                                                                                                                                                                                                                                                                                                                                                                                                                                                                                                 content  \\\n",
       "0  [앵커]\\r누리호 발사에 가장 큰 변수는 1단 로켓의 정상 작동 여부였습니다.이 고비는 깨끗하게 성공했는데, 전혀 고려의 대상이 되지 않던 3단 로켓이 복병으로 등장했습니다.이성규 기자가 보도합니다.[기자]\\r누리호의 심장인 75톤 엔진.지난 2018년, 하나의 엔진으로 구성된 시험 발사는 성공했습니다.누리호는 75톤 엔진 4개를 묶어 1단으로 사용합니다.4개의 엔진이 마치 하나처럼 작동하는 '클러스터링'이라는 고도의 기술이 필요합니다.연구진이 누리호 발사에서 가장 큰 고비로 꼽는 부분이었습니다.[조기주 / 한국항공우주연구원 발사체팀장 : 엔진 4개를 클러스터링하는데 비행 중에 엔진 하나가 오작동하면 발사체의 자세 제어가 힘듭니다. 최악의 경우엔 발사 실패합니다.]하지만 1단과 2단 로켓은 연소와 분리 모두 시원스럽게 통과했습니다.우려가 무색할 정도였습니다.문제는 전혀 고려하지 않았던 3단에서 발생했습니다.7톤급 액체 엔진이 예정했던 연소 시간보다 46초나 덜 타고 꺼져 버린 겁니다.마지막 구간에서 탄력을 받아 초속 7.5km의 속도로 궤도에 진입해야 하는데 그 속도에 도달하는 데 실패한 것입니다.[이상률 / 한국항공우주연구원장 : 세부 원인과 이런 것들은 저희 기술진들이 좀 더 분석하겠다. 부족한 부분은 조사위원회와 내부 검토를 통해 내년 5월에는 문제가 없도록 보완하겠다.]7톤 엔진은 75톤 엔진에 비해 구조가 훨씬 간단해 원인을 찾고 개선하는 데 어려움은 없을 것으로 보입니다.따라서 내년 5월로 예정된 2차 발사에는 완벽한 상태의 누리호로 미완이 아닌 완성된 발사에 도전할 수 있을 전망입니다.YTN 사이언스 이성규입니다.YTN 이성규 (sklee95@ytn.co.kr)   \n",
       "\n",
       "   cate             rdate  \n",
       "0     3  2021-10-22 02:53  "
      ]
     },
     "execution_count": 2,
     "metadata": {},
     "output_type": "execute_result"
    }
   ],
   "source": [
    "df = pd.read_csv(\"./datasets/ytn_news.csv\")\n",
    "df.head(1)"
   ]
  },
  {
   "cell_type": "code",
   "execution_count": 3,
   "id": "assumed-greene",
   "metadata": {},
   "outputs": [
    {
     "data": {
      "text/plain": [
       "6    194\n",
       "2    174\n",
       "4    172\n",
       "5    164\n",
       "3    154\n",
       "1    152\n",
       "Name: cate, dtype: int64"
      ]
     },
     "execution_count": 3,
     "metadata": {},
     "output_type": "execute_result"
    }
   ],
   "source": [
    "df['cate'].value_counts()"
   ]
  },
  {
   "cell_type": "markdown",
   "id": "cooked-butterfly",
   "metadata": {},
   "source": [
    "## 데이터 전처리"
   ]
  },
  {
   "cell_type": "markdown",
   "id": "czech-review",
   "metadata": {},
   "source": [
    "### 1) 결측처리"
   ]
  },
  {
   "cell_type": "code",
   "execution_count": 4,
   "id": "solar-cemetery",
   "metadata": {},
   "outputs": [
    {
     "data": {
      "text/plain": [
       "title       0\n",
       "content    39\n",
       "cate        0\n",
       "rdate       0\n",
       "dtype: int64"
      ]
     },
     "execution_count": 4,
     "metadata": {},
     "output_type": "execute_result"
    }
   ],
   "source": [
    "df.isna().sum()"
   ]
  },
  {
   "cell_type": "code",
   "execution_count": 5,
   "id": "successful-apparel",
   "metadata": {},
   "outputs": [
    {
     "data": {
      "text/plain": [
       "(1010, 4)"
      ]
     },
     "execution_count": 5,
     "metadata": {},
     "output_type": "execute_result"
    }
   ],
   "source": [
    "df.shape"
   ]
  },
  {
   "cell_type": "code",
   "execution_count": 6,
   "id": "operating-harmony",
   "metadata": {},
   "outputs": [],
   "source": [
    "drop_idx = df[df['content'].isna()==True].index\n",
    "df.drop(drop_idx, inplace=True, axis=0)"
   ]
  },
  {
   "cell_type": "code",
   "execution_count": 7,
   "id": "flexible-language",
   "metadata": {},
   "outputs": [
    {
     "data": {
      "text/plain": [
       "(971, 4)"
      ]
     },
     "execution_count": 7,
     "metadata": {},
     "output_type": "execute_result"
    }
   ],
   "source": [
    "df.shape"
   ]
  },
  {
   "cell_type": "markdown",
   "id": "assigned-practice",
   "metadata": {},
   "source": [
    "### 2) 중복처리"
   ]
  },
  {
   "cell_type": "code",
   "execution_count": 8,
   "id": "pressed-defeat",
   "metadata": {},
   "outputs": [
    {
     "data": {
      "text/plain": [
       "((121, 4), (73, 4))"
      ]
     },
     "execution_count": 8,
     "metadata": {},
     "output_type": "execute_result"
    }
   ],
   "source": [
    "df[df.duplicated(['title'])==True].shape, df[df.duplicated(['content'])==True].shape"
   ]
  },
  {
   "cell_type": "code",
   "execution_count": 9,
   "id": "initial-catholic",
   "metadata": {},
   "outputs": [
    {
     "data": {
      "text/html": [
       "<div>\n",
       "<style scoped>\n",
       "    .dataframe tbody tr th:only-of-type {\n",
       "        vertical-align: middle;\n",
       "    }\n",
       "\n",
       "    .dataframe tbody tr th {\n",
       "        vertical-align: top;\n",
       "    }\n",
       "\n",
       "    .dataframe thead th {\n",
       "        text-align: right;\n",
       "    }\n",
       "</style>\n",
       "<table border=\"1\" class=\"dataframe\">\n",
       "  <thead>\n",
       "    <tr style=\"text-align: right;\">\n",
       "      <th></th>\n",
       "      <th>title</th>\n",
       "      <th>content</th>\n",
       "    </tr>\n",
       "  </thead>\n",
       "  <tbody>\n",
       "    <tr>\n",
       "      <th>739</th>\n",
       "      <td>\"고통 큰 업종부터...식당·카페 운영제한 해제\"</td>\n",
       "      <td>[앵커]\\r'단계적 일상회복' 첫 단계로 정부가 식당과 카페의 운영시간 제한 해제를 검토하고 있습니다.일부 고위험시설의 경우 백신 접종 증명이나 음성 확인제 도입 방안을 논의하고 있습니다.계훈희 기자가 보도합니다.[기자]\\r다음 달 시행 예정인 '단계적 일상회복' 전환을 위해 정부가 방역완화 조치 안을 논의 중입니다.일상회복은 시기를 몇 단계로 구분해 체계적으로 진행되는데, 그동안 고통이 컸던 업종부터 먼저 적용받게 됩니다.[김부겸 / 국무총리 : (코로나19) 방역완화 조치는 그동안 고통이 컸던 업종이나 소외된 계층부터, 그리고 감염 확산의 위험이 낮은 시설부터 과감하고 적극적으로 취해 나갈 예정입니다.]그 첫 단계는 식당·카페 등 생업시설의 운영시간 제한 해제입니다.현재 식당·카페는 3단계 지역에서 밤 12시까지, 4단계 지역에서 오후 10시까지 운영할 수 있습니다.다중이용시설은 감염위험도에 따라 1그룹에서 3그룹으로 나눠 위험도가 낮은 3그룹부터 완화할 계획입니다.[이기일 / 중앙재난안전대책본부 제1통제관 : 이번에는 3그룹이 많이 포함이 될 수도 있을 것 같습니다. 그러니까 학원이라든지 또 여러 가지 영화관, 공연장 또 스터디 카페 같은 것이 될 수도 있는데요.]다만 초기 단계에서는 백신접종 완료자를 중심으로 한 방역기준 완화를 분명히 했습니다.'백신접종증명·음성확인제' 도입은 확정되진 않았지만,유흥시설 등 일부 고위험시설은 감염 차단을 위해 한시적 도입 가능성이 거론되고 있습니다.정부는 논의 결과를 토대로 다음 주 구체적인 단계적 일상회복 이행계획을 내놓을 예정입니다.이런 가운데 코로나19 신규 환자는 이틀 연속 1,400명대를 유지하며 안정적인 감소세를 보이고 있습니다.정부가 '단계적 일상회복' 전환 기준으로 제시한 백신 접종 완료율 70%도 이번 주말 달성할 것으로 예상됩니다.YTN 계훈희입니다.YTN 계훈희 (khh0215@ytn.co.kr)※ '당신의 제보가 뉴스가 됩니다' YTN은 여러분의 소중한 제보를 기다립니다.\\r[카카오톡] YTN을 검색해 채널 추가 [전화] 02-398-8585 [메일] social@ytn.co.kr [온라인 제보] www.ytn.co.kr</td>\n",
       "    </tr>\n",
       "    <tr>\n",
       "      <th>734</th>\n",
       "      <td>\"고통 큰 업종부터...식당·카페 운영제한 해제\"</td>\n",
       "      <td>[앵커]\\r'단계적 일상회복' 첫 단계로 정부가 식당과 카페의 운영시간 제한 해제를 검토하고 있습니다.일부 고위험시설의 경우 백신 접종 증명이나 음성 확인제 도입 방안을 논의하고 있습니다.계훈희 기자가 보도합니다.[기자]\\r다음 달 시행 예정인 '단계적 일상회복' 전환을 위해 정부가 방역완화 조치 안을 논의 중입니다.일상회복은 시기를 몇 단계로 구분해 체계적으로 진행되는데, 그동안 고통이 컸던 업종부터 먼저 적용받게 됩니다.[김부겸 / 국무총리 : (코로나19) 방역완화 조치는 그동안 고통이 컸던 업종이나 소외된 계층부터, 그리고 감염 확산의 위험이 낮은 시설부터 과감하고 적극적으로 취해 나갈 예정입니다.]그 첫 단계는 식당·카페 등 생업시설의 운영시간 제한 해제입니다.현재 식당·카페는 3단계 지역에서 밤 12시까지, 4단계 지역에서 오후 10시까지 운영할 수 있습니다.다중이용시설은 감염위험도에 따라 1그룹에서 3그룹으로 나눠 위험도가 낮은 3그룹부터 완화할 계획입니다.[이기일 / 중앙재난안전대책본부 제1통제관 : 이번에는 3그룹이 많이 포함이 될 수도 있을 것 같습니다. 그러니까 학원이라든지 또 여러 가지 영화관, 공연장 또 스터디 카페 같은 것이 될 수도 있는데요.]다만 초기 단계에서는 백신접종 완료자를 중심으로 한 방역기준 완화를 분명히 했습니다.'백신접종증명·음성확인제' 도입은 확정되진 않았지만,유흥시설 등 일부 고위험시설은 감염 차단을 위해 한시적 도입 가능성이 거론되고 있습니다.정부는 논의 결과를 토대로 다음 주 구체적인 단계적 일상회복 이행계획을 내놓을 예정입니다.이런 가운데 코로나19 신규 환자는 이틀 연속 1,400명대를 유지하며 안정적인 감소세를 보이고 있습니다.정부가 '단계적 일상회복' 전환 기준으로 제시한 백신 접종 완료율 70%도 이번 주말 달성할 것으로 예상됩니다.YTN 계훈희입니다.YTN 계훈희 (khh0215@ytn.co.kr)※ '당신의 제보가 뉴스가 됩니다' YTN은 여러분의 소중한 제보를 기다립니다.\\r[카카오톡] YTN을 검색해 채널 추가 [전화] 02-398-8585 [메일] social@ytn.co.kr [온라인 제보] www.ytn.co.kr</td>\n",
       "    </tr>\n",
       "    <tr>\n",
       "      <th>347</th>\n",
       "      <td>\"누리호, 정상 비행은 성공...위성 궤도안착은 실패\"</td>\n",
       "      <td>한국형 발사체 누리호가 목표 고도인 700km에는 도달했으나, 탑재체인 '더미 위성'을 궤도에 올려놓는 데는 실패했습니다.임혜숙 과학기술정보통신부 장관은 누리호 발사 결과 브리핑에서 위성 모사체가 700㎞의 고도 목표까지 비행은 성공했지만, 초당 7.5km의 목표 속도에는 미치지 못해 지구 저궤도 안착에는 실패했다고 밝혔습니다.탑재체가 궤도에 안착하지 못한 것은 3단에 달린 7t급 액체엔진의 작동이 목표대로 521초 동안 연소되지 못하고, 475초 만에 조기에 종료돼, 마지막 순간에 충분한 속력을 얻지 못한 탓이라고 설명했습니다.임 장관은 \"누리호 1단부는 75t급 엔진 4기가 클러스터링 돼 300t급의 추력을 내는 게 핵심 기술\"이라며 이번 발사를 통해 1단부 비행이 정상적으로 진행됐다고 의미를 부여했습니다.임 장관은 \"또 1단, 페어링, 2단이 분리하고 3단이 성공적으로 점화된 것은 소기의 성과\"라며 \"이는 국내의 발사체 기술력이 상당 수준으로 축적됐음을 보여주는 결과\"라고 평가했습니다.과기정통부는 발사를 주관한 한국항공우주연구원 연구진과 외부전문가들이 참여하는 '발사조사 위원회'를 즉시 구성해 3단 엔진 조기 종료의 원인을 규명하고, 문제점을 보완해 2차 발사를 추진할 예정입니다.누리호 2차 발사는 내년 5월 19일로 잠정 결정된 상태입니다.YTN 이승은 (selee@ytn.co.kr)</td>\n",
       "    </tr>\n",
       "    <tr>\n",
       "      <th>354</th>\n",
       "      <td>\"누리호, 정상 비행은 성공...위성 궤도안착은 실패\"</td>\n",
       "      <td>한국형 발사체 누리호가 목표 고도인 700km에는 도달했으나, 탑재체인 '더미 위성'을 궤도에 올려놓는 데는 실패했습니다.임혜숙 과학기술정보통신부 장관은 누리호 발사 결과 브리핑에서 위성 모사체가 700㎞의 고도 목표까지 비행은 성공했지만, 초당 7.5km의 목표 속도에는 미치지 못해 지구 저궤도 안착에는 실패했다고 밝혔습니다.탑재체가 궤도에 안착하지 못한 것은 3단에 달린 7t급 액체엔진의 작동이 목표대로 521초 동안 연소되지 못하고, 475초 만에 조기에 종료돼, 마지막 순간에 충분한 속력을 얻지 못한 탓이라고 설명했습니다.임 장관은 \"누리호 1단부는 75t급 엔진 4기가 클러스터링 돼 300t급의 추력을 내는 게 핵심 기술\"이라며 이번 발사를 통해 1단부 비행이 정상적으로 진행됐다고 의미를 부여했습니다.임 장관은 \"또 1단, 페어링, 2단이 분리하고 3단이 성공적으로 점화된 것은 소기의 성과\"라며 \"이는 국내의 발사체 기술력이 상당 수준으로 축적됐음을 보여주는 결과\"라고 평가했습니다.과기정통부는 발사를 주관한 한국항공우주연구원 연구진과 외부전문가들이 참여하는 '발사조사 위원회'를 즉시 구성해 3단 엔진 조기 종료의 원인을 규명하고, 문제점을 보완해 2차 발사를 추진할 예정입니다.누리호 2차 발사는 내년 5월 19일로 잠정 결정된 상태입니다.YTN 이승은 (selee@ytn.co.kr)</td>\n",
       "    </tr>\n",
       "    <tr>\n",
       "      <th>348</th>\n",
       "      <td>\"누리호, 정상 비행은 성공...위성 궤도안착은 실패\"</td>\n",
       "      <td>한국형 발사체 누리호가 목표 고도인 700km에는 도달했으나, 탑재체인 '더미 위성'을 궤도에 올려놓는 데는 실패했습니다.임혜숙 과학기술정보통신부 장관은 누리호 발사 결과 브리핑에서 위성 모사체가 700㎞의 고도 목표까지 비행은 성공했지만, 초당 7.5km의 목표 속도에는 미치지 못해 지구 저궤도 안착에는 실패했다고 밝혔습니다.탑재체가 궤도에 안착하지 못한 것은 3단에 달린 7t급 액체엔진의 작동이 목표대로 521초 동안 연소되지 못하고, 475초 만에 조기에 종료돼, 마지막 순간에 충분한 속력을 얻지 못한 탓이라고 설명했습니다.YTN 김현우 (hmwy12@ytn.co.kr)</td>\n",
       "    </tr>\n",
       "  </tbody>\n",
       "</table>\n",
       "</div>"
      ],
      "text/plain": [
       "                              title  \\\n",
       "739     \"고통 큰 업종부터...식당·카페 운영제한 해제\"   \n",
       "734     \"고통 큰 업종부터...식당·카페 운영제한 해제\"   \n",
       "347  \"누리호, 정상 비행은 성공...위성 궤도안착은 실패\"   \n",
       "354  \"누리호, 정상 비행은 성공...위성 궤도안착은 실패\"   \n",
       "348  \"누리호, 정상 비행은 성공...위성 궤도안착은 실패\"   \n",
       "\n",
       "                                                                                                                                                                                                                                                                                                                                                                                                                                                                                                                                                                                                                                                                                                                                                                                                                                                                                                                                                                                                                                                                                                            content  \n",
       "739  [앵커]\\r'단계적 일상회복' 첫 단계로 정부가 식당과 카페의 운영시간 제한 해제를 검토하고 있습니다.일부 고위험시설의 경우 백신 접종 증명이나 음성 확인제 도입 방안을 논의하고 있습니다.계훈희 기자가 보도합니다.[기자]\\r다음 달 시행 예정인 '단계적 일상회복' 전환을 위해 정부가 방역완화 조치 안을 논의 중입니다.일상회복은 시기를 몇 단계로 구분해 체계적으로 진행되는데, 그동안 고통이 컸던 업종부터 먼저 적용받게 됩니다.[김부겸 / 국무총리 : (코로나19) 방역완화 조치는 그동안 고통이 컸던 업종이나 소외된 계층부터, 그리고 감염 확산의 위험이 낮은 시설부터 과감하고 적극적으로 취해 나갈 예정입니다.]그 첫 단계는 식당·카페 등 생업시설의 운영시간 제한 해제입니다.현재 식당·카페는 3단계 지역에서 밤 12시까지, 4단계 지역에서 오후 10시까지 운영할 수 있습니다.다중이용시설은 감염위험도에 따라 1그룹에서 3그룹으로 나눠 위험도가 낮은 3그룹부터 완화할 계획입니다.[이기일 / 중앙재난안전대책본부 제1통제관 : 이번에는 3그룹이 많이 포함이 될 수도 있을 것 같습니다. 그러니까 학원이라든지 또 여러 가지 영화관, 공연장 또 스터디 카페 같은 것이 될 수도 있는데요.]다만 초기 단계에서는 백신접종 완료자를 중심으로 한 방역기준 완화를 분명히 했습니다.'백신접종증명·음성확인제' 도입은 확정되진 않았지만,유흥시설 등 일부 고위험시설은 감염 차단을 위해 한시적 도입 가능성이 거론되고 있습니다.정부는 논의 결과를 토대로 다음 주 구체적인 단계적 일상회복 이행계획을 내놓을 예정입니다.이런 가운데 코로나19 신규 환자는 이틀 연속 1,400명대를 유지하며 안정적인 감소세를 보이고 있습니다.정부가 '단계적 일상회복' 전환 기준으로 제시한 백신 접종 완료율 70%도 이번 주말 달성할 것으로 예상됩니다.YTN 계훈희입니다.YTN 계훈희 (khh0215@ytn.co.kr)※ '당신의 제보가 뉴스가 됩니다' YTN은 여러분의 소중한 제보를 기다립니다.\\r[카카오톡] YTN을 검색해 채널 추가 [전화] 02-398-8585 [메일] social@ytn.co.kr [온라인 제보] www.ytn.co.kr  \n",
       "734  [앵커]\\r'단계적 일상회복' 첫 단계로 정부가 식당과 카페의 운영시간 제한 해제를 검토하고 있습니다.일부 고위험시설의 경우 백신 접종 증명이나 음성 확인제 도입 방안을 논의하고 있습니다.계훈희 기자가 보도합니다.[기자]\\r다음 달 시행 예정인 '단계적 일상회복' 전환을 위해 정부가 방역완화 조치 안을 논의 중입니다.일상회복은 시기를 몇 단계로 구분해 체계적으로 진행되는데, 그동안 고통이 컸던 업종부터 먼저 적용받게 됩니다.[김부겸 / 국무총리 : (코로나19) 방역완화 조치는 그동안 고통이 컸던 업종이나 소외된 계층부터, 그리고 감염 확산의 위험이 낮은 시설부터 과감하고 적극적으로 취해 나갈 예정입니다.]그 첫 단계는 식당·카페 등 생업시설의 운영시간 제한 해제입니다.현재 식당·카페는 3단계 지역에서 밤 12시까지, 4단계 지역에서 오후 10시까지 운영할 수 있습니다.다중이용시설은 감염위험도에 따라 1그룹에서 3그룹으로 나눠 위험도가 낮은 3그룹부터 완화할 계획입니다.[이기일 / 중앙재난안전대책본부 제1통제관 : 이번에는 3그룹이 많이 포함이 될 수도 있을 것 같습니다. 그러니까 학원이라든지 또 여러 가지 영화관, 공연장 또 스터디 카페 같은 것이 될 수도 있는데요.]다만 초기 단계에서는 백신접종 완료자를 중심으로 한 방역기준 완화를 분명히 했습니다.'백신접종증명·음성확인제' 도입은 확정되진 않았지만,유흥시설 등 일부 고위험시설은 감염 차단을 위해 한시적 도입 가능성이 거론되고 있습니다.정부는 논의 결과를 토대로 다음 주 구체적인 단계적 일상회복 이행계획을 내놓을 예정입니다.이런 가운데 코로나19 신규 환자는 이틀 연속 1,400명대를 유지하며 안정적인 감소세를 보이고 있습니다.정부가 '단계적 일상회복' 전환 기준으로 제시한 백신 접종 완료율 70%도 이번 주말 달성할 것으로 예상됩니다.YTN 계훈희입니다.YTN 계훈희 (khh0215@ytn.co.kr)※ '당신의 제보가 뉴스가 됩니다' YTN은 여러분의 소중한 제보를 기다립니다.\\r[카카오톡] YTN을 검색해 채널 추가 [전화] 02-398-8585 [메일] social@ytn.co.kr [온라인 제보] www.ytn.co.kr  \n",
       "347                                                                                                                                                                                                                                                                                                                                                                                                            한국형 발사체 누리호가 목표 고도인 700km에는 도달했으나, 탑재체인 '더미 위성'을 궤도에 올려놓는 데는 실패했습니다.임혜숙 과학기술정보통신부 장관은 누리호 발사 결과 브리핑에서 위성 모사체가 700㎞의 고도 목표까지 비행은 성공했지만, 초당 7.5km의 목표 속도에는 미치지 못해 지구 저궤도 안착에는 실패했다고 밝혔습니다.탑재체가 궤도에 안착하지 못한 것은 3단에 달린 7t급 액체엔진의 작동이 목표대로 521초 동안 연소되지 못하고, 475초 만에 조기에 종료돼, 마지막 순간에 충분한 속력을 얻지 못한 탓이라고 설명했습니다.임 장관은 \"누리호 1단부는 75t급 엔진 4기가 클러스터링 돼 300t급의 추력을 내는 게 핵심 기술\"이라며 이번 발사를 통해 1단부 비행이 정상적으로 진행됐다고 의미를 부여했습니다.임 장관은 \"또 1단, 페어링, 2단이 분리하고 3단이 성공적으로 점화된 것은 소기의 성과\"라며 \"이는 국내의 발사체 기술력이 상당 수준으로 축적됐음을 보여주는 결과\"라고 평가했습니다.과기정통부는 발사를 주관한 한국항공우주연구원 연구진과 외부전문가들이 참여하는 '발사조사 위원회'를 즉시 구성해 3단 엔진 조기 종료의 원인을 규명하고, 문제점을 보완해 2차 발사를 추진할 예정입니다.누리호 2차 발사는 내년 5월 19일로 잠정 결정된 상태입니다.YTN 이승은 (selee@ytn.co.kr)  \n",
       "354                                                                                                                                                                                                                                                                                                                                                                                                            한국형 발사체 누리호가 목표 고도인 700km에는 도달했으나, 탑재체인 '더미 위성'을 궤도에 올려놓는 데는 실패했습니다.임혜숙 과학기술정보통신부 장관은 누리호 발사 결과 브리핑에서 위성 모사체가 700㎞의 고도 목표까지 비행은 성공했지만, 초당 7.5km의 목표 속도에는 미치지 못해 지구 저궤도 안착에는 실패했다고 밝혔습니다.탑재체가 궤도에 안착하지 못한 것은 3단에 달린 7t급 액체엔진의 작동이 목표대로 521초 동안 연소되지 못하고, 475초 만에 조기에 종료돼, 마지막 순간에 충분한 속력을 얻지 못한 탓이라고 설명했습니다.임 장관은 \"누리호 1단부는 75t급 엔진 4기가 클러스터링 돼 300t급의 추력을 내는 게 핵심 기술\"이라며 이번 발사를 통해 1단부 비행이 정상적으로 진행됐다고 의미를 부여했습니다.임 장관은 \"또 1단, 페어링, 2단이 분리하고 3단이 성공적으로 점화된 것은 소기의 성과\"라며 \"이는 국내의 발사체 기술력이 상당 수준으로 축적됐음을 보여주는 결과\"라고 평가했습니다.과기정통부는 발사를 주관한 한국항공우주연구원 연구진과 외부전문가들이 참여하는 '발사조사 위원회'를 즉시 구성해 3단 엔진 조기 종료의 원인을 규명하고, 문제점을 보완해 2차 발사를 추진할 예정입니다.누리호 2차 발사는 내년 5월 19일로 잠정 결정된 상태입니다.YTN 이승은 (selee@ytn.co.kr)  \n",
       "348                                                                                                                                                                                                                                                                                                                                                                                                                                                                                                                                                                                                                                                                                                                                                                           한국형 발사체 누리호가 목표 고도인 700km에는 도달했으나, 탑재체인 '더미 위성'을 궤도에 올려놓는 데는 실패했습니다.임혜숙 과학기술정보통신부 장관은 누리호 발사 결과 브리핑에서 위성 모사체가 700㎞의 고도 목표까지 비행은 성공했지만, 초당 7.5km의 목표 속도에는 미치지 못해 지구 저궤도 안착에는 실패했다고 밝혔습니다.탑재체가 궤도에 안착하지 못한 것은 3단에 달린 7t급 액체엔진의 작동이 목표대로 521초 동안 연소되지 못하고, 475초 만에 조기에 종료돼, 마지막 순간에 충분한 속력을 얻지 못한 탓이라고 설명했습니다.YTN 김현우 (hmwy12@ytn.co.kr)  "
      ]
     },
     "execution_count": 9,
     "metadata": {},
     "output_type": "execute_result"
    }
   ],
   "source": [
    "df[df.duplicated(['title'])==True][['title','content']].sort_values(by='title').head()"
   ]
  },
  {
   "cell_type": "code",
   "execution_count": 10,
   "id": "harmful-answer",
   "metadata": {},
   "outputs": [
    {
     "data": {
      "text/plain": [
       "(850, 4)"
      ]
     },
     "execution_count": 10,
     "metadata": {},
     "output_type": "execute_result"
    }
   ],
   "source": [
    "df = df.drop_duplicates(['title'], keep='first')\n",
    "df.shape"
   ]
  },
  {
   "cell_type": "markdown",
   "id": "tribal-referral",
   "metadata": {},
   "source": [
    "## 정규화"
   ]
  },
  {
   "cell_type": "markdown",
   "id": "opposed-compact",
   "metadata": {},
   "source": [
    "* 일부문자 제거"
   ]
  },
  {
   "cell_type": "code",
   "execution_count": 11,
   "id": "quiet-survival",
   "metadata": {},
   "outputs": [
    {
     "name": "stdout",
     "output_type": "stream",
     "text": [
      " Ryan\n"
     ]
    }
   ],
   "source": [
    "print(re.sub('Tube', '', 'Tube Ryan'))"
   ]
  },
  {
   "cell_type": "code",
   "execution_count": 12,
   "id": "convenient-study",
   "metadata": {},
   "outputs": [
    {
     "data": {
      "text/plain": [
       "\"단계적 일상회복' 첫 단계로\""
      ]
     },
     "execution_count": 12,
     "metadata": {},
     "output_type": "execute_result"
    }
   ],
   "source": [
    "# sen = re.sub(\"[앵커]\\r'\",'',\"[앵커]\\r'단계적 일상회복' 첫 단계로 \")       #해당 문자 제거\n",
    "sen = re.sub(\"\\\\r'\\[앵커\\]\",\"\",\"\\r'[앵커] 단계적 일상회복' 첫 단계로 \")      #해당 문자 제거\n",
    "sen = re.sub(' +', ' ', sen.strip())       #공백,탭 제거\n",
    "sen"
   ]
  },
  {
   "cell_type": "markdown",
   "id": "maritime-firmware",
   "metadata": {},
   "source": [
    "* 구분자 뒤 모든 문자 제거"
   ]
  },
  {
   "cell_type": "code",
   "execution_count": 16,
   "id": "supreme-optimization",
   "metadata": {},
   "outputs": [
    {
     "data": {
      "text/plain": [
       "'설명했습니다.YTN 김현우 (hmwy12@ytn.co.kr)'"
      ]
     },
     "execution_count": 16,
     "metadata": {},
     "output_type": "execute_result"
    }
   ],
   "source": [
    "# sen = \"설명했습니다.YTN 김현우 (hmwy12@ytn.co.kr)\"\n",
    "# sen = re.sub(r'\\.YTN[^W)]$', '', sen.strip())    #(s 제거\n",
    "\n",
    "sen =re.sub('[^가-힣ㄱ-ㅎㅏ-ㅣa-zA-Z0-9]', '', sentence)\n",
    "\n",
    "sen\n"
   ]
  },
  {
   "cell_type": "code",
   "execution_count": null,
   "id": "exposed-running",
   "metadata": {},
   "outputs": [],
   "source": []
  },
  {
   "cell_type": "code",
   "execution_count": 14,
   "id": "eleven-musician",
   "metadata": {},
   "outputs": [
    {
     "name": "stdout",
     "output_type": "stream",
     "text": [
      "누리호의 심장인 75톤 엔진.지난 2018년, 하나의 엔진으로 구성된 시험 발사는 성공했습니다.누리호는 75톤 엔진 4개를 묶어 1단으로 사용합니다.4개의 엔진이 마치 하나처럼 작동하는 '클러스터링'이라는 고도의 기술이 필요합니다.연구진이 누리호 발사에서 가장 큰 고비로 꼽는 부분이었습니다.[조기주 / 한국항공우주연구원 발사체팀장 : 엔진 4개를 클러스터링하는데 비행 중에 엔진 하나가 오작동하면 발사체의 자세 제어가 힘듭니다. 최악의 경우엔 발사 실패합니다.]하지만 1단과 2단 로켓은 연소와 분리 모두 시원스럽게 통과했습니다.우려가 무색할 정도였습니다.문제는 전혀 고려하지 않았던 3단에서 발생했습니다.7톤급 액체 엔진이 예정했던 연소 시간보다 46초나 덜 타고 꺼져 버린 겁니다.마지막 구간에서 탄력을 받아 초속 7.5km의 속도로 궤도에 진입해야 하는데 그 속도에 도달하는 데 실패한 것입니다.[이상률 / 한국항공우주연구원장 : 세부 원인과 이런 것들은 저희 기술진들이 좀 더 분석하겠다. 부족한 부분은 조사위원회와 내부 검토를 통해 내년 5월에는 문제가 없도록 보완하겠다.]7톤 엔진은 75톤 엔진에 비해 구조가 훨씬 간단해 원인을 찾고 개선하는 데 어려움은 없을 것으로 보입니다.따라서 내년 5월로 예정된 2차 발사에는 완벽한 상태의 누리호로 미완이 아닌 완성된 발사에 도전할 수 있을 전망입니다.YTN 사이언스 이성규입니다.YTN 이성규\n"
     ]
    },
    {
     "ename": "NameError",
     "evalue": "name 'text_to_word_sequence' is not defined",
     "output_type": "error",
     "traceback": [
      "\u001b[1;31m---------------------------------------------------------------------------\u001b[0m",
      "\u001b[1;31mNameError\u001b[0m                                 Traceback (most recent call last)",
      "\u001b[1;32m~\\AppData\\Local\\Temp/ipykernel_22552/2626211132.py\u001b[0m in \u001b[0;36m<module>\u001b[1;34m\u001b[0m\n\u001b[0;32m      7\u001b[0m     \u001b[0mprint\u001b[0m\u001b[1;33m(\u001b[0m\u001b[0msen\u001b[0m\u001b[1;33m)\u001b[0m\u001b[1;33m\u001b[0m\u001b[1;33m\u001b[0m\u001b[0m\n\u001b[0;32m      8\u001b[0m     \u001b[1;31m#nous = kkma.nouns(sen)\u001b[0m\u001b[1;33m\u001b[0m\u001b[1;33m\u001b[0m\u001b[1;33m\u001b[0m\u001b[0m\n\u001b[1;32m----> 9\u001b[1;33m     \u001b[0mnous\u001b[0m \u001b[1;33m=\u001b[0m \u001b[0mtext_to_word_sequence\u001b[0m\u001b[1;33m(\u001b[0m\u001b[0msen\u001b[0m\u001b[1;33m)\u001b[0m\u001b[1;33m\u001b[0m\u001b[1;33m\u001b[0m\u001b[0m\n\u001b[0m\u001b[0;32m     10\u001b[0m     \u001b[0msen_list\u001b[0m\u001b[1;33m.\u001b[0m\u001b[0mappend\u001b[0m\u001b[1;33m(\u001b[0m\u001b[0mnous\u001b[0m\u001b[1;33m)\u001b[0m\u001b[1;33m\u001b[0m\u001b[1;33m\u001b[0m\u001b[0m\n\u001b[0;32m     11\u001b[0m \u001b[0msen_list\u001b[0m \u001b[1;33m=\u001b[0m \u001b[0msum\u001b[0m\u001b[1;33m(\u001b[0m\u001b[0msen_list\u001b[0m\u001b[1;33m,\u001b[0m \u001b[1;33m[\u001b[0m\u001b[1;33m]\u001b[0m\u001b[1;33m)\u001b[0m  \u001b[1;31m#2차원-->1차원으로 변환\u001b[0m\u001b[1;33m\u001b[0m\u001b[1;33m\u001b[0m\u001b[0m\n",
      "\u001b[1;31mNameError\u001b[0m: name 'text_to_word_sequence' is not defined"
     ]
    }
   ],
   "source": [
    "sen_list = []\n",
    "for sen in df['content']:\n",
    "    sen = re.sub(r'\\([^)]*\\)', '', sen.strip())  #(s) 제거\n",
    "    sen = re.sub(r'[^)]*\\)', '', sen.strip())    #s) 제거\n",
    "    sen = re.sub(r'\\([^)]*', '', sen.strip())    #(s 제거\n",
    "    sen = re.sub(' +', ' ', sen.strip())       #공백,탭 제거\n",
    "    print(sen)\n",
    "    #nous = kkma.nouns(sen)\n",
    "    nous = text_to_word_sequence(sen)\n",
    "    sen_list.append(nous)  \n",
    "sen_list = sum(sen_list, [])  #2차원-->1차원으로 변환\n",
    "pd.DataFrame(sen_list).value_counts().sort_values(ascending=False).head()    \n"
   ]
  },
  {
   "cell_type": "code",
   "execution_count": null,
   "id": "endless-globe",
   "metadata": {},
   "outputs": [],
   "source": [
    "# [앵커]\\r\n",
    "# .YTN $S 삭제\n",
    "# df[df['content'] in '당신의 제보가 뉴스가 됩니다'].shape"
   ]
  },
  {
   "cell_type": "code",
   "execution_count": null,
   "id": "nervous-transformation",
   "metadata": {},
   "outputs": [],
   "source": []
  },
  {
   "cell_type": "code",
   "execution_count": null,
   "id": "technological-organization",
   "metadata": {},
   "outputs": [],
   "source": []
  },
  {
   "cell_type": "code",
   "execution_count": null,
   "id": "continuing-fraud",
   "metadata": {},
   "outputs": [],
   "source": []
  },
  {
   "cell_type": "code",
   "execution_count": null,
   "id": "trying-contrary",
   "metadata": {},
   "outputs": [],
   "source": []
  },
  {
   "cell_type": "code",
   "execution_count": null,
   "id": "legislative-essex",
   "metadata": {},
   "outputs": [],
   "source": []
  }
 ],
 "metadata": {
  "kernelspec": {
   "display_name": "Python 3 (ipykernel)",
   "language": "python",
   "name": "python3"
  },
  "language_info": {
   "codemirror_mode": {
    "name": "ipython",
    "version": 3
   },
   "file_extension": ".py",
   "mimetype": "text/x-python",
   "name": "python",
   "nbconvert_exporter": "python",
   "pygments_lexer": "ipython3",
   "version": "3.8.8"
  }
 },
 "nbformat": 4,
 "nbformat_minor": 5
}
