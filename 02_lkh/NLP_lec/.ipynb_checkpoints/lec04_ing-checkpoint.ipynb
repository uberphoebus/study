{
 "cells": [
  {
   "cell_type": "code",
   "execution_count": null,
   "id": "1274ba4f-b2bd-4d6b-baaf-1c1c95a997cc",
   "metadata": {},
   "outputs": [],
   "source": []
  },
  {
   "cell_type": "markdown",
   "id": "e7819d69-8e28-45d0-9fb9-d02e9989c053",
   "metadata": {},
   "source": [
    "# 아마존 제품리뷰 TDM - 긍/부정 감정사전\n",
    "* datasets ref : 아마존 리뷰 https://archive.ics.uci.edu/ml/datasets/Sentiment+Labelled+Sentences\n",
    "* datasets ref : 인공지능 관련 뉴스메타데이터 https://www.data.go.kr/dataset/15012945/fileData.do "
   ]
  },
  {
   "cell_type": "code",
   "execution_count": null,
   "id": "df84e8b7-59e4-47be-9550-7f29e8d38d91",
   "metadata": {},
   "outputs": [],
   "source": []
  },
  {
   "cell_type": "code",
   "execution_count": 1,
   "id": "fa169974-f41e-450c-ac3d-53fc34ea8eba",
   "metadata": {},
   "outputs": [],
   "source": [
    "import pandas as pd"
   ]
  },
  {
   "cell_type": "code",
   "execution_count": 2,
   "id": "557d0c5a-f24c-43ce-ac23-71c8c502b3c6",
   "metadata": {},
   "outputs": [],
   "source": [
    "df = pd.read_csv('./datasets/datasets_review/amazon_cells_labelled.txt', sep=\"\\t\", header=None)"
   ]
  },
  {
   "cell_type": "code",
   "execution_count": 3,
   "id": "2bb500f8-efe8-4150-8c2c-1773015df7b8",
   "metadata": {},
   "outputs": [
    {
     "data": {
      "text/html": [
       "<div>\n",
       "<style scoped>\n",
       "    .dataframe tbody tr th:only-of-type {\n",
       "        vertical-align: middle;\n",
       "    }\n",
       "\n",
       "    .dataframe tbody tr th {\n",
       "        vertical-align: top;\n",
       "    }\n",
       "\n",
       "    .dataframe thead th {\n",
       "        text-align: right;\n",
       "    }\n",
       "</style>\n",
       "<table border=\"1\" class=\"dataframe\">\n",
       "  <thead>\n",
       "    <tr style=\"text-align: right;\">\n",
       "      <th></th>\n",
       "      <th>0</th>\n",
       "      <th>1</th>\n",
       "    </tr>\n",
       "  </thead>\n",
       "  <tbody>\n",
       "    <tr>\n",
       "      <th>0</th>\n",
       "      <td>So there is no way for me to plug it in here i...</td>\n",
       "      <td>0</td>\n",
       "    </tr>\n",
       "    <tr>\n",
       "      <th>1</th>\n",
       "      <td>Good case, Excellent value.</td>\n",
       "      <td>1</td>\n",
       "    </tr>\n",
       "    <tr>\n",
       "      <th>2</th>\n",
       "      <td>Great for the jawbone.</td>\n",
       "      <td>1</td>\n",
       "    </tr>\n",
       "    <tr>\n",
       "      <th>3</th>\n",
       "      <td>Tied to charger for conversations lasting more...</td>\n",
       "      <td>0</td>\n",
       "    </tr>\n",
       "    <tr>\n",
       "      <th>4</th>\n",
       "      <td>The mic is great.</td>\n",
       "      <td>1</td>\n",
       "    </tr>\n",
       "  </tbody>\n",
       "</table>\n",
       "</div>"
      ],
      "text/plain": [
       "                                                   0  1\n",
       "0  So there is no way for me to plug it in here i...  0\n",
       "1                        Good case, Excellent value.  1\n",
       "2                             Great for the jawbone.  1\n",
       "3  Tied to charger for conversations lasting more...  0\n",
       "4                                  The mic is great.  1"
      ]
     },
     "execution_count": 3,
     "metadata": {},
     "output_type": "execute_result"
    }
   ],
   "source": [
    "df.head()"
   ]
  },
  {
   "cell_type": "code",
   "execution_count": 4,
   "id": "3775197f-fdaf-445b-b993-7fa3a98ae7fd",
   "metadata": {},
   "outputs": [],
   "source": [
    "content = df[0]\n",
    "sentiment = df[1]"
   ]
  },
  {
   "cell_type": "markdown",
   "id": "c64f422c-e406-45de-97cc-933f6cfea17e",
   "metadata": {},
   "source": [
    "* TF-IDF 가중치를 사용해 TDM을 만들기"
   ]
  },
  {
   "cell_type": "code",
   "execution_count": 5,
   "id": "f6dbc501-8347-486e-8338-91516b51e5d1",
   "metadata": {},
   "outputs": [],
   "source": [
    "from sklearn.feature_extraction.text import TfidfVectorizer"
   ]
  },
  {
   "cell_type": "code",
   "execution_count": 6,
   "id": "0f1bbf86-e649-4aa5-a872-a1c3ba05f344",
   "metadata": {},
   "outputs": [],
   "source": [
    "tfidf = TfidfVectorizer(stop_words='english',\n",
    "                        lowercase=True,\n",
    "                        max_features=1000)"
   ]
  },
  {
   "cell_type": "code",
   "execution_count": 7,
   "id": "7c9b4ec0-fdbd-4800-b278-5e6b2d9de752",
   "metadata": {},
   "outputs": [
    {
     "data": {
      "text/plain": [
       "array([[0., 0., 0., ..., 0., 0., 0.],\n",
       "       [0., 0., 0., ..., 0., 0., 0.]])"
      ]
     },
     "execution_count": 7,
     "metadata": {},
     "output_type": "execute_result"
    }
   ],
   "source": [
    "tdm = tfidf.fit_transform(content)\n",
    "tdm.toarray()[:2]"
   ]
  },
  {
   "cell_type": "code",
   "execution_count": 8,
   "id": "5e417e42-ce98-4db0-b9b0-148d2005b6a9",
   "metadata": {},
   "outputs": [
    {
     "data": {
      "text/plain": [
       "['wrongly', 'year', 'years', 'yell', 'yes']"
      ]
     },
     "execution_count": 8,
     "metadata": {},
     "output_type": "execute_result"
    }
   ],
   "source": [
    "tfidf.get_feature_names()[-5:]"
   ]
  },
  {
   "cell_type": "markdown",
   "id": "4cf6238f-3fc9-4129-8496-a24c6e4eee5d",
   "metadata": {},
   "source": [
    "* pickle 저장  : tfidf, tdm, df['sentiment']"
   ]
  },
  {
   "cell_type": "code",
   "execution_count": 9,
   "id": "6468eda4-1d42-4125-a670-569cd43ee48c",
   "metadata": {},
   "outputs": [],
   "source": [
    "import joblib"
   ]
  },
  {
   "cell_type": "code",
   "execution_count": 10,
   "id": "e87407af-604a-4c2f-8add-2b2a727a23f7",
   "metadata": {},
   "outputs": [],
   "source": [
    "with open('amazon.pkl', 'wb') as f:\n",
    "    joblib.dump(\n",
    "        {'vectorizer': tfidf, 'tdm': tdm, 'sentiment': sentiment},\n",
    "        f\n",
    "    )"
   ]
  },
  {
   "cell_type": "code",
   "execution_count": 11,
   "id": "99489e44-7733-4668-88f2-90cc323fb3a0",
   "metadata": {},
   "outputs": [
    {
     "ename": "FileNotFoundError",
     "evalue": "[Errno 2] No such file or directory: './datasets_review/한국언론진흥재단_2019년 12월 정치 분야 고빈도 사용 명사.csv'",
     "output_type": "error",
     "traceback": [
      "\u001b[1;31m---------------------------------------------------------------------------\u001b[0m",
      "\u001b[1;31mFileNotFoundError\u001b[0m                         Traceback (most recent call last)",
      "\u001b[1;32m~\\AppData\\Local\\Temp/ipykernel_14540/3376543487.py\u001b[0m in \u001b[0;36m<module>\u001b[1;34m\u001b[0m\n\u001b[1;32m----> 1\u001b[1;33m \u001b[0marticle\u001b[0m \u001b[1;33m=\u001b[0m \u001b[0mpd\u001b[0m\u001b[1;33m.\u001b[0m\u001b[0mread_csv\u001b[0m\u001b[1;33m(\u001b[0m\u001b[1;34m'./datasets_review/한국언론진흥재단_2019년 12월 정치 분야 고빈도 사용 명사.csv'\u001b[0m\u001b[1;33m,\u001b[0m \u001b[0mencoding\u001b[0m\u001b[1;33m=\u001b[0m\u001b[1;34m'cp949'\u001b[0m\u001b[1;33m,\u001b[0m \u001b[0mengine\u001b[0m\u001b[1;33m=\u001b[0m\u001b[1;34m'python'\u001b[0m\u001b[1;33m)\u001b[0m\u001b[1;33m\u001b[0m\u001b[1;33m\u001b[0m\u001b[0m\n\u001b[0m\u001b[0;32m      2\u001b[0m \u001b[0marticle\u001b[0m\u001b[1;33m.\u001b[0m\u001b[0mhead\u001b[0m\u001b[1;33m(\u001b[0m\u001b[1;33m)\u001b[0m\u001b[1;33m\u001b[0m\u001b[1;33m\u001b[0m\u001b[0m\n",
      "\u001b[1;32mc:\\ai\\pythonproject\\venv\\lib\\site-packages\\pandas\\util\\_decorators.py\u001b[0m in \u001b[0;36mwrapper\u001b[1;34m(*args, **kwargs)\u001b[0m\n\u001b[0;32m    309\u001b[0m                     \u001b[0mstacklevel\u001b[0m\u001b[1;33m=\u001b[0m\u001b[0mstacklevel\u001b[0m\u001b[1;33m,\u001b[0m\u001b[1;33m\u001b[0m\u001b[1;33m\u001b[0m\u001b[0m\n\u001b[0;32m    310\u001b[0m                 )\n\u001b[1;32m--> 311\u001b[1;33m             \u001b[1;32mreturn\u001b[0m \u001b[0mfunc\u001b[0m\u001b[1;33m(\u001b[0m\u001b[1;33m*\u001b[0m\u001b[0margs\u001b[0m\u001b[1;33m,\u001b[0m \u001b[1;33m**\u001b[0m\u001b[0mkwargs\u001b[0m\u001b[1;33m)\u001b[0m\u001b[1;33m\u001b[0m\u001b[1;33m\u001b[0m\u001b[0m\n\u001b[0m\u001b[0;32m    312\u001b[0m \u001b[1;33m\u001b[0m\u001b[0m\n\u001b[0;32m    313\u001b[0m         \u001b[1;32mreturn\u001b[0m \u001b[0mwrapper\u001b[0m\u001b[1;33m\u001b[0m\u001b[1;33m\u001b[0m\u001b[0m\n",
      "\u001b[1;32mc:\\ai\\pythonproject\\venv\\lib\\site-packages\\pandas\\io\\parsers\\readers.py\u001b[0m in \u001b[0;36mread_csv\u001b[1;34m(filepath_or_buffer, sep, delimiter, header, names, index_col, usecols, squeeze, prefix, mangle_dupe_cols, dtype, engine, converters, true_values, false_values, skipinitialspace, skiprows, skipfooter, nrows, na_values, keep_default_na, na_filter, verbose, skip_blank_lines, parse_dates, infer_datetime_format, keep_date_col, date_parser, dayfirst, cache_dates, iterator, chunksize, compression, thousands, decimal, lineterminator, quotechar, quoting, doublequote, escapechar, comment, encoding, encoding_errors, dialect, error_bad_lines, warn_bad_lines, on_bad_lines, delim_whitespace, low_memory, memory_map, float_precision, storage_options)\u001b[0m\n\u001b[0;32m    584\u001b[0m     \u001b[0mkwds\u001b[0m\u001b[1;33m.\u001b[0m\u001b[0mupdate\u001b[0m\u001b[1;33m(\u001b[0m\u001b[0mkwds_defaults\u001b[0m\u001b[1;33m)\u001b[0m\u001b[1;33m\u001b[0m\u001b[1;33m\u001b[0m\u001b[0m\n\u001b[0;32m    585\u001b[0m \u001b[1;33m\u001b[0m\u001b[0m\n\u001b[1;32m--> 586\u001b[1;33m     \u001b[1;32mreturn\u001b[0m \u001b[0m_read\u001b[0m\u001b[1;33m(\u001b[0m\u001b[0mfilepath_or_buffer\u001b[0m\u001b[1;33m,\u001b[0m \u001b[0mkwds\u001b[0m\u001b[1;33m)\u001b[0m\u001b[1;33m\u001b[0m\u001b[1;33m\u001b[0m\u001b[0m\n\u001b[0m\u001b[0;32m    587\u001b[0m \u001b[1;33m\u001b[0m\u001b[0m\n\u001b[0;32m    588\u001b[0m \u001b[1;33m\u001b[0m\u001b[0m\n",
      "\u001b[1;32mc:\\ai\\pythonproject\\venv\\lib\\site-packages\\pandas\\io\\parsers\\readers.py\u001b[0m in \u001b[0;36m_read\u001b[1;34m(filepath_or_buffer, kwds)\u001b[0m\n\u001b[0;32m    480\u001b[0m \u001b[1;33m\u001b[0m\u001b[0m\n\u001b[0;32m    481\u001b[0m     \u001b[1;31m# Create the parser.\u001b[0m\u001b[1;33m\u001b[0m\u001b[1;33m\u001b[0m\u001b[1;33m\u001b[0m\u001b[0m\n\u001b[1;32m--> 482\u001b[1;33m     \u001b[0mparser\u001b[0m \u001b[1;33m=\u001b[0m \u001b[0mTextFileReader\u001b[0m\u001b[1;33m(\u001b[0m\u001b[0mfilepath_or_buffer\u001b[0m\u001b[1;33m,\u001b[0m \u001b[1;33m**\u001b[0m\u001b[0mkwds\u001b[0m\u001b[1;33m)\u001b[0m\u001b[1;33m\u001b[0m\u001b[1;33m\u001b[0m\u001b[0m\n\u001b[0m\u001b[0;32m    483\u001b[0m \u001b[1;33m\u001b[0m\u001b[0m\n\u001b[0;32m    484\u001b[0m     \u001b[1;32mif\u001b[0m \u001b[0mchunksize\u001b[0m \u001b[1;32mor\u001b[0m \u001b[0miterator\u001b[0m\u001b[1;33m:\u001b[0m\u001b[1;33m\u001b[0m\u001b[1;33m\u001b[0m\u001b[0m\n",
      "\u001b[1;32mc:\\ai\\pythonproject\\venv\\lib\\site-packages\\pandas\\io\\parsers\\readers.py\u001b[0m in \u001b[0;36m__init__\u001b[1;34m(self, f, engine, **kwds)\u001b[0m\n\u001b[0;32m    809\u001b[0m             \u001b[0mself\u001b[0m\u001b[1;33m.\u001b[0m\u001b[0moptions\u001b[0m\u001b[1;33m[\u001b[0m\u001b[1;34m\"has_index_names\"\u001b[0m\u001b[1;33m]\u001b[0m \u001b[1;33m=\u001b[0m \u001b[0mkwds\u001b[0m\u001b[1;33m[\u001b[0m\u001b[1;34m\"has_index_names\"\u001b[0m\u001b[1;33m]\u001b[0m\u001b[1;33m\u001b[0m\u001b[1;33m\u001b[0m\u001b[0m\n\u001b[0;32m    810\u001b[0m \u001b[1;33m\u001b[0m\u001b[0m\n\u001b[1;32m--> 811\u001b[1;33m         \u001b[0mself\u001b[0m\u001b[1;33m.\u001b[0m\u001b[0m_engine\u001b[0m \u001b[1;33m=\u001b[0m \u001b[0mself\u001b[0m\u001b[1;33m.\u001b[0m\u001b[0m_make_engine\u001b[0m\u001b[1;33m(\u001b[0m\u001b[0mself\u001b[0m\u001b[1;33m.\u001b[0m\u001b[0mengine\u001b[0m\u001b[1;33m)\u001b[0m\u001b[1;33m\u001b[0m\u001b[1;33m\u001b[0m\u001b[0m\n\u001b[0m\u001b[0;32m    812\u001b[0m \u001b[1;33m\u001b[0m\u001b[0m\n\u001b[0;32m    813\u001b[0m     \u001b[1;32mdef\u001b[0m \u001b[0mclose\u001b[0m\u001b[1;33m(\u001b[0m\u001b[0mself\u001b[0m\u001b[1;33m)\u001b[0m\u001b[1;33m:\u001b[0m\u001b[1;33m\u001b[0m\u001b[1;33m\u001b[0m\u001b[0m\n",
      "\u001b[1;32mc:\\ai\\pythonproject\\venv\\lib\\site-packages\\pandas\\io\\parsers\\readers.py\u001b[0m in \u001b[0;36m_make_engine\u001b[1;34m(self, engine)\u001b[0m\n\u001b[0;32m   1038\u001b[0m             )\n\u001b[0;32m   1039\u001b[0m         \u001b[1;31m# error: Too many arguments for \"ParserBase\"\u001b[0m\u001b[1;33m\u001b[0m\u001b[1;33m\u001b[0m\u001b[1;33m\u001b[0m\u001b[0m\n\u001b[1;32m-> 1040\u001b[1;33m         \u001b[1;32mreturn\u001b[0m \u001b[0mmapping\u001b[0m\u001b[1;33m[\u001b[0m\u001b[0mengine\u001b[0m\u001b[1;33m]\u001b[0m\u001b[1;33m(\u001b[0m\u001b[0mself\u001b[0m\u001b[1;33m.\u001b[0m\u001b[0mf\u001b[0m\u001b[1;33m,\u001b[0m \u001b[1;33m**\u001b[0m\u001b[0mself\u001b[0m\u001b[1;33m.\u001b[0m\u001b[0moptions\u001b[0m\u001b[1;33m)\u001b[0m  \u001b[1;31m# type: ignore[call-arg]\u001b[0m\u001b[1;33m\u001b[0m\u001b[1;33m\u001b[0m\u001b[0m\n\u001b[0m\u001b[0;32m   1041\u001b[0m \u001b[1;33m\u001b[0m\u001b[0m\n\u001b[0;32m   1042\u001b[0m     \u001b[1;32mdef\u001b[0m \u001b[0m_failover_to_python\u001b[0m\u001b[1;33m(\u001b[0m\u001b[0mself\u001b[0m\u001b[1;33m)\u001b[0m\u001b[1;33m:\u001b[0m\u001b[1;33m\u001b[0m\u001b[1;33m\u001b[0m\u001b[0m\n",
      "\u001b[1;32mc:\\ai\\pythonproject\\venv\\lib\\site-packages\\pandas\\io\\parsers\\python_parser.py\u001b[0m in \u001b[0;36m__init__\u001b[1;34m(self, f, **kwds)\u001b[0m\n\u001b[0;32m     93\u001b[0m             \u001b[0mself\u001b[0m\u001b[1;33m.\u001b[0m\u001b[0mdata\u001b[0m \u001b[1;33m=\u001b[0m \u001b[0mcast\u001b[0m\u001b[1;33m(\u001b[0m\u001b[0mIterator\u001b[0m\u001b[1;33m[\u001b[0m\u001b[0mstr\u001b[0m\u001b[1;33m]\u001b[0m\u001b[1;33m,\u001b[0m \u001b[0mf\u001b[0m\u001b[1;33m)\u001b[0m\u001b[1;33m\u001b[0m\u001b[1;33m\u001b[0m\u001b[0m\n\u001b[0;32m     94\u001b[0m         \u001b[1;32melse\u001b[0m\u001b[1;33m:\u001b[0m\u001b[1;33m\u001b[0m\u001b[1;33m\u001b[0m\u001b[0m\n\u001b[1;32m---> 95\u001b[1;33m             \u001b[0mself\u001b[0m\u001b[1;33m.\u001b[0m\u001b[0m_open_handles\u001b[0m\u001b[1;33m(\u001b[0m\u001b[0mf\u001b[0m\u001b[1;33m,\u001b[0m \u001b[0mkwds\u001b[0m\u001b[1;33m)\u001b[0m\u001b[1;33m\u001b[0m\u001b[1;33m\u001b[0m\u001b[0m\n\u001b[0m\u001b[0;32m     96\u001b[0m             \u001b[1;32massert\u001b[0m \u001b[0mself\u001b[0m\u001b[1;33m.\u001b[0m\u001b[0mhandles\u001b[0m \u001b[1;32mis\u001b[0m \u001b[1;32mnot\u001b[0m \u001b[1;32mNone\u001b[0m\u001b[1;33m\u001b[0m\u001b[1;33m\u001b[0m\u001b[0m\n\u001b[0;32m     97\u001b[0m             \u001b[1;32massert\u001b[0m \u001b[0mhasattr\u001b[0m\u001b[1;33m(\u001b[0m\u001b[0mself\u001b[0m\u001b[1;33m.\u001b[0m\u001b[0mhandles\u001b[0m\u001b[1;33m.\u001b[0m\u001b[0mhandle\u001b[0m\u001b[1;33m,\u001b[0m \u001b[1;34m\"readline\"\u001b[0m\u001b[1;33m)\u001b[0m\u001b[1;33m\u001b[0m\u001b[1;33m\u001b[0m\u001b[0m\n",
      "\u001b[1;32mc:\\ai\\pythonproject\\venv\\lib\\site-packages\\pandas\\io\\parsers\\base_parser.py\u001b[0m in \u001b[0;36m_open_handles\u001b[1;34m(self, src, kwds)\u001b[0m\n\u001b[0;32m    220\u001b[0m         \u001b[0mLet\u001b[0m \u001b[0mthe\u001b[0m \u001b[0mreaders\u001b[0m \u001b[0mopen\u001b[0m \u001b[0mIOHandles\u001b[0m \u001b[0mafter\u001b[0m \u001b[0mthey\u001b[0m \u001b[0mare\u001b[0m \u001b[0mdone\u001b[0m \u001b[1;32mwith\u001b[0m \u001b[0mtheir\u001b[0m \u001b[0mpotential\u001b[0m \u001b[0mraises\u001b[0m\u001b[1;33m.\u001b[0m\u001b[1;33m\u001b[0m\u001b[1;33m\u001b[0m\u001b[0m\n\u001b[0;32m    221\u001b[0m         \"\"\"\n\u001b[1;32m--> 222\u001b[1;33m         self.handles = get_handle(\n\u001b[0m\u001b[0;32m    223\u001b[0m             \u001b[0msrc\u001b[0m\u001b[1;33m,\u001b[0m\u001b[1;33m\u001b[0m\u001b[1;33m\u001b[0m\u001b[0m\n\u001b[0;32m    224\u001b[0m             \u001b[1;34m\"r\"\u001b[0m\u001b[1;33m,\u001b[0m\u001b[1;33m\u001b[0m\u001b[1;33m\u001b[0m\u001b[0m\n",
      "\u001b[1;32mc:\\ai\\pythonproject\\venv\\lib\\site-packages\\pandas\\io\\common.py\u001b[0m in \u001b[0;36mget_handle\u001b[1;34m(path_or_buf, mode, encoding, compression, memory_map, is_text, errors, storage_options)\u001b[0m\n\u001b[0;32m    699\u001b[0m         \u001b[1;32mif\u001b[0m \u001b[0mioargs\u001b[0m\u001b[1;33m.\u001b[0m\u001b[0mencoding\u001b[0m \u001b[1;32mand\u001b[0m \u001b[1;34m\"b\"\u001b[0m \u001b[1;32mnot\u001b[0m \u001b[1;32min\u001b[0m \u001b[0mioargs\u001b[0m\u001b[1;33m.\u001b[0m\u001b[0mmode\u001b[0m\u001b[1;33m:\u001b[0m\u001b[1;33m\u001b[0m\u001b[1;33m\u001b[0m\u001b[0m\n\u001b[0;32m    700\u001b[0m             \u001b[1;31m# Encoding\u001b[0m\u001b[1;33m\u001b[0m\u001b[1;33m\u001b[0m\u001b[1;33m\u001b[0m\u001b[0m\n\u001b[1;32m--> 701\u001b[1;33m             handle = open(\n\u001b[0m\u001b[0;32m    702\u001b[0m                 \u001b[0mhandle\u001b[0m\u001b[1;33m,\u001b[0m\u001b[1;33m\u001b[0m\u001b[1;33m\u001b[0m\u001b[0m\n\u001b[0;32m    703\u001b[0m                 \u001b[0mioargs\u001b[0m\u001b[1;33m.\u001b[0m\u001b[0mmode\u001b[0m\u001b[1;33m,\u001b[0m\u001b[1;33m\u001b[0m\u001b[1;33m\u001b[0m\u001b[0m\n",
      "\u001b[1;31mFileNotFoundError\u001b[0m: [Errno 2] No such file or directory: './datasets_review/한국언론진흥재단_2019년 12월 정치 분야 고빈도 사용 명사.csv'"
     ]
    }
   ],
   "source": [
    "# article = pd.read_csv('./datasets_review/한국언론진흥재단_2019년 12월 정치 분야 고빈도 사용 명사.csv', encoding='cp949', engine='python')\n",
    "# article.head()"
   ]
  },
  {
   "cell_type": "markdown",
   "id": "2c071534-84a9-4adf-9f6f-b60b6dc9b46c",
   "metadata": {},
   "source": [
    "## 유클리드 거리"
   ]
  },
  {
   "cell_type": "code",
   "execution_count": null,
   "id": "e0cb4d49-2346-4546-879a-dd991b621526",
   "metadata": {},
   "outputs": [],
   "source": [
    "from sklearn.metrics.pairwise import euclidean_distances"
   ]
  },
  {
   "cell_type": "code",
   "execution_count": null,
   "id": "7ca45a4e-8947-4c85-a60e-b97d01c5936e",
   "metadata": {},
   "outputs": [],
   "source": [
    "euclidean_distances(tdm[0], tdm[1])  #0 번~1번 기사 거리"
   ]
  },
  {
   "cell_type": "code",
   "execution_count": null,
   "id": "d473f84c-9355-43d1-b524-6c4bc7bf5b7a",
   "metadata": {},
   "outputs": [],
   "source": [
    "# 0번 문서와 유클리드 거리가 가장 가까운 문서를 찾는다.\n",
    "dist = euclidean_distances(tdm[0], tdm[1:])\n",
    "np.argmin(dist) + 1 "
   ]
  },
  {
   "cell_type": "code",
   "execution_count": null,
   "id": "6fca4d36-4540-4ba6-b5c6-10f7b739f55f",
   "metadata": {},
   "outputs": [],
   "source": [
    "article.loc[22]"
   ]
  },
  {
   "cell_type": "code",
   "execution_count": null,
   "id": "ccfd9eac-ed83-40f2-a75c-25cd18801e63",
   "metadata": {},
   "outputs": [],
   "source": []
  },
  {
   "cell_type": "markdown",
   "id": "e8eb2c6b-3f33-480f-97e6-c7d5988b70b9",
   "metadata": {},
   "source": [
    "## 코사인 유사도"
   ]
  },
  {
   "cell_type": "code",
   "execution_count": null,
   "id": "dc6e7910-860c-4cb3-94d4-a724694d3285",
   "metadata": {},
   "outputs": [],
   "source": [
    "from sklearn.metrics.pairwise import cosine_similarity"
   ]
  },
  {
   "cell_type": "code",
   "execution_count": null,
   "id": "b554a118-fde1-418d-ac0c-808bc42f68c5",
   "metadata": {},
   "outputs": [],
   "source": [
    "cosine_similarity(tdm[0], tdm[1])"
   ]
  },
  {
   "cell_type": "code",
   "execution_count": null,
   "id": "95608bde-872e-44e2-810e-f43b4b8a3045",
   "metadata": {},
   "outputs": [],
   "source": [
    "sim = cosine_similarity(tdm[0], tdm[1:])"
   ]
  },
  {
   "cell_type": "code",
   "execution_count": null,
   "id": "35291c81-9901-46cd-913d-7268d907573a",
   "metadata": {},
   "outputs": [],
   "source": [
    "np.argmax(sim) + 1"
   ]
  },
  {
   "cell_type": "code",
   "execution_count": null,
   "id": "f6c85b2f-d7d2-416f-b471-fbb47b879971",
   "metadata": {},
   "outputs": [],
   "source": [
    "article.loc[1394, '본문']"
   ]
  },
  {
   "cell_type": "code",
   "execution_count": null,
   "id": "3c33283f-c271-4d26-9ae2-5f5f3d4fbc5d",
   "metadata": {},
   "outputs": [],
   "source": []
  },
  {
   "cell_type": "markdown",
   "id": "d0cd1c02-77f9-41ea-9efe-48c12f83b3fd",
   "metadata": {},
   "source": [
    "## 문서 클러스터링\n",
    "ref : http://doc.mindscale.kr/km/unstructured/04.html"
   ]
  },
  {
   "cell_type": "code",
   "execution_count": null,
   "id": "c7c4b7af-97cb-4391-ada8-b31737ffd2d8",
   "metadata": {},
   "outputs": [],
   "source": [
    "import pandas as pd\n",
    "import joblib"
   ]
  },
  {
   "cell_type": "code",
   "execution_count": null,
   "id": "4aff8b89-5999-4f08-bcad-4078d1c2983a",
   "metadata": {},
   "outputs": [],
   "source": [
    "with open('amazon.pkl', 'rb') as f:\n",
    "    data = joblib.load(f)\n",
    "locals().update(data)"
   ]
  },
  {
   "cell_type": "code",
   "execution_count": null,
   "id": "5cddb137-e33e-4c12-ad8f-f27650bde9f8",
   "metadata": {},
   "outputs": [],
   "source": [
    "df = pd.read_csv('./datasets_review/amazon_cells_labelled.txt', sep=\"\\t\", header=None)"
   ]
  },
  {
   "cell_type": "markdown",
   "id": "0dd578fd-483d-4bc0-84cf-3ec659b291e5",
   "metadata": {},
   "source": [
    "### 스펙트럴 클러스터링\n",
    "* 그래프 기반 클러스터링의 일종 --> 이웃이 비슷한 것들끼리 묶는다\n",
    "* [step1] 각각의 대상으로부터 유사도 그래프(비슷한 대상들끼리 연결한 그래프)를 만든다\n",
    "* [step2] 라플라시안 행렬(Laplacian matrix)로부터 k개의 고유벡터를 계산하여 각 대상의 특성으로 삼는다\n",
    "* [step3] 위의 특성을 바탕으로 k-means 클러스터링을 한다"
   ]
  },
  {
   "cell_type": "code",
   "execution_count": null,
   "id": "dcd2acf3-a9ca-4f73-92ca-5f78bda8621c",
   "metadata": {},
   "outputs": [],
   "source": [
    "from sklearn.cluster import SpectralClustering"
   ]
  },
  {
   "cell_type": "code",
   "execution_count": null,
   "id": "74ad2ec0-088a-4321-a7b6-72f978e9c8b3",
   "metadata": {},
   "outputs": [],
   "source": [
    "# 문서들을 유클리드 거리를 기준으로 4개의 클러스터로 군집\n",
    "cl = SpectralClustering(n_clusters=4, random_state=1234)\n",
    "labels = cl.fit_predict(tdm[:100])\n",
    "labels"
   ]
  },
  {
   "cell_type": "code",
   "execution_count": null,
   "id": "14ad1419-41f3-4171-b987-49d576902d77",
   "metadata": {},
   "outputs": [],
   "source": [
    "from operator import itemgetter"
   ]
  },
  {
   "cell_type": "code",
   "execution_count": null,
   "id": "3683ec7b-0dd1-42b6-ac49-06fcee0651a1",
   "metadata": {},
   "outputs": [],
   "source": [
    "# 각 클러스터별 최빈도 단어 \n",
    "words = vectorizer.get_feature_names()\n",
    "\n",
    "def top10(labels):\n",
    "    freq_words = []\n",
    "    for i in range(4):\n",
    "        count = tdm[labels == i, :].sum(axis=0)\n",
    "        ws = [w for w, n in sorted(zip(words, count.flat), key=itemgetter(1), reverse=True)[:10]]\n",
    "        freq_words.append(ws)\n",
    "\n",
    "    return pd.DataFrame(freq_words)"
   ]
  },
  {
   "cell_type": "code",
   "execution_count": null,
   "id": "be8e218c-5742-4b14-bc36-41bee73537bc",
   "metadata": {},
   "outputs": [],
   "source": [
    "top10(labels)"
   ]
  },
  {
   "cell_type": "code",
   "execution_count": null,
   "id": "baed7666-e577-4d13-921f-b0be849dbf41",
   "metadata": {},
   "outputs": [],
   "source": [
    "# 코사인 유사도를 바탕으로 클러스터링"
   ]
  },
  {
   "cell_type": "code",
   "execution_count": null,
   "id": "3156dca0-287b-4cf6-b525-606d027bb940",
   "metadata": {},
   "outputs": [],
   "source": [
    "from sklearn.metrics.pairwise import cosine_similarity"
   ]
  },
  {
   "cell_type": "code",
   "execution_count": null,
   "id": "ede821c5-6459-42c4-9614-fc7d3e1791ec",
   "metadata": {},
   "outputs": [],
   "source": [
    "cl_cos = SpectralClustering(n_clusters=4, affinity=cosine_similarity, random_state=1234)\n",
    "labels_cos = cl_cos.fit_predict(tdm[:100])\n",
    "top10(labels_cos)"
   ]
  },
  {
   "cell_type": "markdown",
   "id": "345c586b-377a-4de2-853e-2f523edc642a",
   "metadata": {
    "tags": []
   },
   "source": [
    "### KMeans 클러스터링\n",
    "* k개의 평균들 : 데이터와 군집의 중심점의 거리를 재서, 그 거리가 가장 가까운 군집으로 묶는다\n",
    "* [step1] k개의 중심점을 무작위로 정한다. \n",
    "* [step2] 중심점과 거리를 재서 가장 가까운 군집에 모든 데이터를 할당한다.\n",
    "* [step3] 군집에 속한 멤버들의 평균을 내서 중심점을 정한다. \n",
    "* [step4] 더이상 중심점에 변화가 없을 때까지 2~3을 반복<br>\n",
    "<img src=\"./img/img12.png\" width=400> "
   ]
  },
  {
   "cell_type": "code",
   "execution_count": null,
   "id": "f40327bc-e7ca-4942-b0d8-6160224da099",
   "metadata": {},
   "outputs": [],
   "source": [
    "from sklearn.cluster import KMeans"
   ]
  },
  {
   "cell_type": "code",
   "execution_count": null,
   "id": "bd1d9e04-3d28-42aa-aa1e-ba27e6453339",
   "metadata": {},
   "outputs": [],
   "source": [
    "km = KMeans(n_clusters=4, random_state=1234)\n",
    "labels_km = km.fit_predict(tdm)\n",
    "top10(labels_km)"
   ]
  },
  {
   "cell_type": "markdown",
   "id": "2e3fc8ff-bdc2-4e32-86fe-96f0126766a3",
   "metadata": {},
   "source": [
    "* 정규화 후 KMeans"
   ]
  },
  {
   "cell_type": "code",
   "execution_count": null,
   "id": "4d6fcc76-68d4-4290-b557-57c0541899c8",
   "metadata": {},
   "outputs": [],
   "source": [
    "from sklearn.preprocessing import Normalizer"
   ]
  },
  {
   "cell_type": "code",
   "execution_count": null,
   "id": "9cee7fc8-4255-4cb3-9bed-1f21e7a04adf",
   "metadata": {},
   "outputs": [],
   "source": [
    "nom = Normalizer(copy=False)\n",
    "pos = nom.fit_transform(tdm)\n",
    "km = KMeans(n_clusters=4, random_state=1234)\n",
    "labels_nom = km.fit_predict(tdm)\n",
    "top10(labels_nom)"
   ]
  },
  {
   "cell_type": "markdown",
   "id": "56cae054-946d-415b-be03-c90bc9793b65",
   "metadata": {},
   "source": [
    "# 잠재 의미 분석(LSA : Latent Semantic Analysis)\n",
    "* TDM에 특이값 분해를 적용하여 차원을 축소하는 것\n",
    "* 예) \n",
    "    - 유사의미 : \"고양이 좋다\" \"고양이 귀엽다\"\n",
    "    - 다른의미, 단어문서행렬 거리는 같다 :  \"고양이 좋다\" \"강아지 좋다\" "
   ]
  },
  {
   "cell_type": "code",
   "execution_count": null,
   "id": "55567012-3f9b-488b-8c9f-7c002d46fa43",
   "metadata": {},
   "outputs": [],
   "source": [
    "import pandas as pd"
   ]
  },
  {
   "cell_type": "code",
   "execution_count": null,
   "id": "3819ff5f-b269-4c43-84ee-fa5e4808102a",
   "metadata": {},
   "outputs": [],
   "source": [
    "with open('amazon.pkl', 'rb') as f:\n",
    "    data = joblib.load(f)\n",
    "locals().update(data)\n",
    "tdm.shape"
   ]
  },
  {
   "cell_type": "markdown",
   "id": "46834170-8163-474a-8ae0-98d33914e7ab",
   "metadata": {},
   "source": [
    "*  LSA 적용 : 특이값 분해로 차원 축소"
   ]
  },
  {
   "cell_type": "code",
   "execution_count": null,
   "id": "9e9726c5-9f0e-4494-bb6c-69bd95143f3b",
   "metadata": {},
   "outputs": [],
   "source": [
    "from sklearn.decomposition import TruncatedSVD"
   ]
  },
  {
   "cell_type": "code",
   "execution_count": null,
   "id": "f36253a0-c0d1-439e-bfd0-58c9e455fae9",
   "metadata": {},
   "outputs": [],
   "source": [
    "svd = TruncatedSVD(n_components=30)\n",
    "pos = svd.fit_transform(tdm)\n",
    "pos.shape"
   ]
  },
  {
   "cell_type": "code",
   "execution_count": null,
   "id": "c6d149ea-ea32-4e7a-b9cd-0284001af445",
   "metadata": {},
   "outputs": [],
   "source": [
    "import matplotlib.pyplot as plt"
   ]
  },
  {
   "cell_type": "code",
   "execution_count": null,
   "id": "fd81fc11-1990-4456-97c1-0a64b869dbe6",
   "metadata": {},
   "outputs": [],
   "source": [
    "dim1 = 0\n",
    "dim2 = 1\n",
    "plt.plot(pos[sentiment == 1, dim1], pos[sentiment == 1, dim2], 'ro')  # 긍정적인 코멘트 (빨간색)\n",
    "plt.plot(pos[sentiment == 0, dim1], pos[sentiment == 0, dim2], 'bo')  # 부정적인 코멘트 (파란색)"
   ]
  },
  {
   "cell_type": "markdown",
   "id": "df14e9f5-7cfe-4bca-8ba5-b6c35e880f63",
   "metadata": {},
   "source": [
    "* 노멀라이징 : 문서 길이에 따라 좌표가 달라진다. 이 영향을 제거하기 위해 문서의 원점에서 거리를 1로 변환"
   ]
  },
  {
   "cell_type": "code",
   "execution_count": null,
   "id": "4366e33c-662c-4e68-8f7b-b338fbd87c19",
   "metadata": {},
   "outputs": [],
   "source": [
    "from sklearn.preprocessing import Normalizer\n",
    "norm = Normalizer(copy=False)\n",
    "pos2 = norm.fit_transform(pos)\n",
    "dim1 = 0\n",
    "dim2 = 1\n",
    "plt.plot(pos2[sentiment == 1, dim1], pos2[sentiment == 1, dim2], 'ro')  # 긍정적인 코멘트 (빨간색)\n",
    "plt.plot(pos2[sentiment == 0, dim1], pos2[sentiment == 0, dim2], 'bo')  # 부정적인 코멘트 (파란색)"
   ]
  },
  {
   "cell_type": "markdown",
   "id": "4f2040b6-3b48-4648-97c9-4bda6fb7651f",
   "metadata": {},
   "source": [
    "* 파이프라인 = LSA + 노멀라이징"
   ]
  },
  {
   "cell_type": "code",
   "execution_count": null,
   "id": "f35cdba9-01aa-4179-97a6-9bafd6d43fa8",
   "metadata": {},
   "outputs": [],
   "source": [
    "from sklearn.pipeline import make_pipeline\n",
    "lsa = make_pipeline(svd, norm)\n",
    "lsa.transform(tdm)"
   ]
  },
  {
   "cell_type": "markdown",
   "id": "aaad8202-abeb-4336-9b6e-ef1d07f80342",
   "metadata": {},
   "source": [
    "## 잠재 디리클레 할당(LDA, Latent Dirichlet Allocation)\n",
    "* 사람의 개입 없이 이러한 단어들이 하나의 주제를 이룬다는 것을 컴퓨터가 스스로 발견하는 것이 LDA의 핵심\n",
    "* 흔히 사용되는 클러스터링에서 하나의 문서는 오직 하나의 클러스터에만 속한다. 반면 LDA는 하나의 문서가 여러 가지 주제를 가질 수 있다.\n",
    "* 베이지언 통계학에 바탕을 둔 비지도 텍스트 분석 방법\n",
    "* 분석에 이론적 가정 추가 가능 : 간에 따른 변화, 저자의 독특한 개성 등을 포함시켜 분석 가능\n",
    "* 각각의 문서는 여러 주제들이 섞여 있다 = '주제'(topic)는 단어의 분포다 = 한 문서의 단어들은 문서를 이루는 주제에서 나온 것이다"
   ]
  },
  {
   "cell_type": "code",
   "execution_count": null,
   "id": "a3e0e7b6-2e1f-478c-9bce-76fe5541f821",
   "metadata": {},
   "outputs": [],
   "source": [
    "# !pip install gensim"
   ]
  },
  {
   "cell_type": "code",
   "execution_count": null,
   "id": "52798d6a-16fe-4b2e-b3c9-56720ef90875",
   "metadata": {},
   "outputs": [],
   "source": [
    "import pandas as pd\n",
    "import joblib"
   ]
  },
  {
   "cell_type": "code",
   "execution_count": null,
   "id": "c8cacaa3-36d0-44b2-8401-5175a3a89030",
   "metadata": {},
   "outputs": [],
   "source": [
    "with open('ai_news.pkl', 'rb') as f:\n",
    "    data = joblib.load(f)\n",
    "locals().update(data)"
   ]
  },
  {
   "cell_type": "code",
   "execution_count": null,
   "id": "51de3cc9-6d20-42b0-b920-618b8dc1c042",
   "metadata": {},
   "outputs": [],
   "source": [
    "words = vectorizer.get_feature_names()\n",
    "word_dict = dict(enumerate(words))  #{단어 번호: 단어} 형태의 딕셔너리로 변환\n",
    "word_dict[0]   #'4차 산업'\n",
    "word_dict[100] #'광주'"
   ]
  },
  {
   "cell_type": "markdown",
   "id": "98d98662-a06f-480e-8a13-417ffbda4341",
   "metadata": {},
   "source": [
    "* gensim 형식으로 변환"
   ]
  },
  {
   "cell_type": "code",
   "execution_count": null,
   "id": "77fa90bc-84cf-46ed-974e-ff68615ac6a3",
   "metadata": {},
   "outputs": [],
   "source": [
    "from gensim.matutils import Sparse2Corpus"
   ]
  },
  {
   "cell_type": "code",
   "execution_count": null,
   "id": "eaa3e816-b5c6-4321-a436-42cc5cce7cbc",
   "metadata": {},
   "outputs": [],
   "source": [
    "corpus = Sparse2Corpus(tdm.T)\n",
    "corpus"
   ]
  },
  {
   "cell_type": "markdown",
   "id": "00c022c5-81b5-4351-9047-9d9c53414e93",
   "metadata": {},
   "source": [
    "* 분석"
   ]
  },
  {
   "cell_type": "code",
   "execution_count": null,
   "id": "28947008-ca0c-4668-a290-696f9c6e1dfc",
   "metadata": {},
   "outputs": [],
   "source": [
    "from gensim.models.ldamodel import LdaModel"
   ]
  },
  {
   "cell_type": "code",
   "execution_count": null,
   "id": "ea9bce56-f937-4605-b475-d6467948fda8",
   "metadata": {},
   "outputs": [],
   "source": [
    "lda = LdaModel(corpus=corpus,\n",
    "               num_topics=100,\n",
    "               passes=3,\n",
    "               iterations=100,\n",
    "               id2word=word_dict,\n",
    "               random_state=123)"
   ]
  },
  {
   "cell_type": "code",
   "execution_count": null,
   "id": "5539ea6a-c2b9-4926-8b7b-ad2cebfb7ca4",
   "metadata": {},
   "outputs": [],
   "source": [
    "lda.show_topic(0) "
   ]
  },
  {
   "cell_type": "code",
   "execution_count": null,
   "id": "41edea85-2834-4edd-b69e-b0cd161fdf12",
   "metadata": {},
   "outputs": [],
   "source": [
    "lda.show_topic(2)"
   ]
  },
  {
   "cell_type": "markdown",
   "id": "630864ae-e12b-4040-8c1c-5a374ad0f87d",
   "metadata": {},
   "source": [
    "* 문서의 주제(비율) 확인"
   ]
  },
  {
   "cell_type": "code",
   "execution_count": null,
   "id": "08edec0c-8397-42c9-99cd-9284f91fddbc",
   "metadata": {},
   "outputs": [],
   "source": [
    "row = tdm[0]\n",
    "doc = list(zip(row.indices, row.data))\n",
    "doc"
   ]
  },
  {
   "cell_type": "code",
   "execution_count": null,
   "id": "05258bc8-cad8-4a25-98ea-6bb2bcfe79a9",
   "metadata": {},
   "outputs": [],
   "source": [
    "row = tdm[0]  #첫 번째 문서의 [(단어번호,빈도수)..]\n",
    "doc = list(zip(row.indices, row.data))\n",
    "doc"
   ]
  },
  {
   "cell_type": "code",
   "execution_count": null,
   "id": "c0c03b80-893c-4512-8be5-b39db1b40d7d",
   "metadata": {},
   "outputs": [],
   "source": [
    "doc_words = [(words[i], n) for i, n in doc]\n",
    "doc_words"
   ]
  },
  {
   "cell_type": "markdown",
   "id": "c0f234f9-91a8-4bf3-845d-689ab5905b2c",
   "metadata": {},
   "source": [
    "* 문서 토픽(비율) 확인하기"
   ]
  },
  {
   "cell_type": "code",
   "execution_count": null,
   "id": "6b993018-b11f-4e98-903f-521c81bb51b5",
   "metadata": {},
   "outputs": [],
   "source": [
    "lda.get_document_topics(doc)"
   ]
  },
  {
   "cell_type": "code",
   "execution_count": null,
   "id": "51710a59-33c2-4a75-8b9f-0ab92b8d9cf9",
   "metadata": {},
   "outputs": [],
   "source": [
    "lda.show_topic(28)"
   ]
  },
  {
   "cell_type": "markdown",
   "id": "c45ac782-b2eb-4f91-b104-63aaccf556d9",
   "metadata": {},
   "source": [
    "* 모형 저장/불러오기"
   ]
  },
  {
   "cell_type": "code",
   "execution_count": null,
   "id": "c472c1c8-6137-4a0e-a947-2caf84e618ac",
   "metadata": {},
   "outputs": [],
   "source": [
    "lda.save('lda_test.lda')"
   ]
  },
  {
   "cell_type": "code",
   "execution_count": null,
   "id": "201eb2d9-5503-474f-a276-b07aafd89295",
   "metadata": {},
   "outputs": [],
   "source": [
    "lda2 = LdaModel.load('lda_test.lda')  # 기존 모형과 구분짓기 위해 lda2 로 저장한다."
   ]
  },
  {
   "cell_type": "code",
   "execution_count": null,
   "id": "5f8f8de7-3f2e-4d52-92b9-d84a2e1075a6",
   "metadata": {},
   "outputs": [],
   "source": [
    "lda2"
   ]
  },
  {
   "cell_type": "code",
   "execution_count": null,
   "id": "5ded6770-401a-4f6b-8628-9d1ab653ed23",
   "metadata": {},
   "outputs": [],
   "source": []
  },
  {
   "cell_type": "markdown",
   "id": "ee558512-8c3c-4ced-857a-4c83e2e6fa81",
   "metadata": {},
   "source": [
    "<pre>\n",
    "https://doc.mindscale.kr/km/unstructured/1.html , 서론\n",
    "https://doc.mindscale.kr/km/unstructured/2.html , 웹 스크래핑\n",
    "https://doc.mindscale.kr/km/unstructured/3.html , 형태소 분석과 단어 문서 행렬\n",
    "https://doc.mindscale.kr/km/unstructured/4.html , 주제 분석\n",
    "https://doc.mindscale.kr/km/unstructured/5.html , 기계학습과 인공신경망\n",
    "https://doc.mindscale.kr/km/unstructured/6.html , 텍스트의 지도학습\n",
    "https://doc.mindscale.kr/km/unstructured/7.html , 이미지의 지도학습\n",
    "https://doc.mindscale.kr/km/unstructured/8.html , 텍스트의 비지도학습\n",
    "https://doc.mindscale.kr/km/unstructured/9.html , 합성곱 신경망\n",
    "https://doc.mindscale.kr/km/unstructured/10.html , 순환신경망\n",
    "https://doc.mindscale.kr/km/unstructured/11.html , 단어 임베딩\n",
    "https://doc.mindscale.kr/km/unstructured/12.html , 챗봇\n",
    "https://doc.mindscale.kr/km/unstructured/13.html , 기계 번역\n",
    "https://doc.mindscale.kr/km/unstructured/14.html , 주의\n"
   ]
  },
  {
   "cell_type": "markdown",
   "id": "e4620164-57a3-4190-a73d-f95c7eea5af3",
   "metadata": {},
   "source": [
    "# 아마존 제품리뷰 TDM - 긍/부정 감정사전\n",
    "* datasets ref : 아마존 리뷰 https://archive.ics.uci.edu/ml/datasets/Sentiment+Labelled+Sentences\n",
    "* datasets ref : 인공지능 관련 뉴스메타데이터 https://www.data.go.kr/dataset/15012945/fileData.do "
   ]
  },
  {
   "cell_type": "code",
   "execution_count": null,
   "id": "c7f1f118-68c6-4adc-99b4-a3c5c7b82449",
   "metadata": {},
   "outputs": [],
   "source": []
  },
  {
   "cell_type": "code",
   "execution_count": null,
   "id": "2e5fe498-ea39-4407-921f-cabbc7d64986",
   "metadata": {},
   "outputs": [],
   "source": [
    "import pandas as pd"
   ]
  },
  {
   "cell_type": "code",
   "execution_count": null,
   "id": "c941ede8-8669-40fc-9d98-fb728dbbe3b5",
   "metadata": {},
   "outputs": [],
   "source": [
    "df = pd.read_csv('./datasets_review/amazon_cells_labelled.txt', sep=\"\\t\", header=None)"
   ]
  },
  {
   "cell_type": "code",
   "execution_count": null,
   "id": "7f9e31cb-dff9-4a1c-a33b-a68d2a1ec9b6",
   "metadata": {},
   "outputs": [],
   "source": [
    "df.head()"
   ]
  },
  {
   "cell_type": "code",
   "execution_count": null,
   "id": "ed04bf64-28c8-456d-8d14-7342745da2bb",
   "metadata": {},
   "outputs": [],
   "source": [
    "content = df[0]\n",
    "sentiment = df[1]"
   ]
  },
  {
   "cell_type": "markdown",
   "id": "cb8286ba-e982-49d3-be2e-606b28a2c3fb",
   "metadata": {},
   "source": [
    "* TF-IDF 가중치를 사용해 TDM을 만들기"
   ]
  },
  {
   "cell_type": "code",
   "execution_count": null,
   "id": "c3cfec6c-5371-41fe-b87b-a542b71c137b",
   "metadata": {},
   "outputs": [],
   "source": [
    "from sklearn.feature_extraction.text import TfidfVectorizer"
   ]
  },
  {
   "cell_type": "code",
   "execution_count": null,
   "id": "d445699b-1f43-435b-a809-03fb51c71522",
   "metadata": {},
   "outputs": [],
   "source": [
    "tfidf = TfidfVectorizer(stop_words='english',\n",
    "                        lowercase=True,\n",
    "                        max_features=1000)"
   ]
  },
  {
   "cell_type": "code",
   "execution_count": null,
   "id": "7555c04c-612c-4dbd-90a9-0e66868f8537",
   "metadata": {},
   "outputs": [],
   "source": [
    "tdm = tfidf.fit_transform(content)\n",
    "tdm.toarray()[:2]"
   ]
  },
  {
   "cell_type": "code",
   "execution_count": null,
   "id": "981bf3d5-a3c5-4da2-b01a-b9c2b5643a2e",
   "metadata": {},
   "outputs": [],
   "source": [
    "tfidf.get_feature_names()[-5:]"
   ]
  },
  {
   "cell_type": "markdown",
   "id": "25738223-1819-4fb6-be61-7913eb6b47a5",
   "metadata": {},
   "source": [
    "* pickle 저장  : tfidf, tdm, df['sentiment']"
   ]
  },
  {
   "cell_type": "code",
   "execution_count": null,
   "id": "62bf30a7-3bf8-4eb5-a73a-00a9609661d9",
   "metadata": {},
   "outputs": [],
   "source": [
    "import joblib"
   ]
  },
  {
   "cell_type": "code",
   "execution_count": null,
   "id": "387a2aaf-a963-418f-9098-a46085f867ce",
   "metadata": {},
   "outputs": [],
   "source": [
    "with open('amazon.pkl', 'wb') as f:\n",
    "    joblib.dump(\n",
    "        {'vectorizer': tfidf, 'tdm': tdm, 'sentiment': sentiment},\n",
    "        f\n",
    "    )"
   ]
  },
  {
   "cell_type": "code",
   "execution_count": null,
   "id": "9394c27e-90d5-4f1f-b644-1fd8eb923438",
   "metadata": {},
   "outputs": [],
   "source": [
    "article = pd.read_csv('./datasets_review/한국언론진흥재단_2019년 12월 정치 분야 고빈도 사용 명사.csv', encoding='cp949', engine='python')\n",
    "article.head()"
   ]
  },
  {
   "cell_type": "markdown",
   "id": "7e4504d7-7444-4a26-8770-da52c7c7a248",
   "metadata": {},
   "source": [
    "## 유클리드 거리"
   ]
  },
  {
   "cell_type": "code",
   "execution_count": null,
   "id": "7bb5d487-ba8b-4623-b925-4bccbb5e0d8d",
   "metadata": {},
   "outputs": [],
   "source": [
    "from sklearn.metrics.pairwise import euclidean_distances"
   ]
  },
  {
   "cell_type": "code",
   "execution_count": null,
   "id": "6fb737d2-6666-4fb9-bf2b-63522ba1a5d8",
   "metadata": {},
   "outputs": [],
   "source": [
    "euclidean_distances(tdm[0], tdm[1])  #0 번~1번 기사 거리"
   ]
  },
  {
   "cell_type": "code",
   "execution_count": null,
   "id": "460ab06c-ead2-4ce3-abc4-a03bdcdf5167",
   "metadata": {},
   "outputs": [],
   "source": [
    "# 0번 문서와 유클리드 거리가 가장 가까운 문서를 찾는다.\n",
    "dist = euclidean_distances(tdm[0], tdm[1:])\n",
    "np.argmin(dist) + 1 "
   ]
  },
  {
   "cell_type": "code",
   "execution_count": null,
   "id": "7be5dfcb-784a-4c7f-8f70-310db7ad254b",
   "metadata": {},
   "outputs": [],
   "source": [
    "article.loc[0, '본문']"
   ]
  },
  {
   "cell_type": "code",
   "execution_count": null,
   "id": "d6114c8d-ab42-4536-88ea-6b245965c115",
   "metadata": {},
   "outputs": [],
   "source": []
  },
  {
   "cell_type": "markdown",
   "id": "22763e8d-f1fa-4a8a-8402-6b008277a9da",
   "metadata": {},
   "source": [
    "## 코사인 유사도"
   ]
  },
  {
   "cell_type": "code",
   "execution_count": null,
   "id": "f027b18b-c0cf-476c-903f-c134c726a644",
   "metadata": {},
   "outputs": [],
   "source": [
    "from sklearn.metrics.pairwise import cosine_similarity"
   ]
  },
  {
   "cell_type": "code",
   "execution_count": null,
   "id": "50586a06-05f5-4a58-8908-c9e379c9e2a8",
   "metadata": {},
   "outputs": [],
   "source": [
    "cosine_similarity(tdm[0], tdm[1])"
   ]
  },
  {
   "cell_type": "code",
   "execution_count": null,
   "id": "b4ab7c97-ada2-454e-ae66-36ee772ea3ca",
   "metadata": {},
   "outputs": [],
   "source": [
    "sim = cosine_similarity(tdm[0], tdm[1:])"
   ]
  },
  {
   "cell_type": "code",
   "execution_count": null,
   "id": "43533600-e123-43ac-9696-5ef4ec11d326",
   "metadata": {},
   "outputs": [],
   "source": [
    "np.argmax(sim) + 1"
   ]
  },
  {
   "cell_type": "code",
   "execution_count": null,
   "id": "f43ab52a-d6c3-45a7-ae43-7acd7fc3217c",
   "metadata": {},
   "outputs": [],
   "source": [
    "article.loc[1394, '본문']"
   ]
  },
  {
   "cell_type": "code",
   "execution_count": null,
   "id": "2e7c3f9d-9f8f-408e-97da-1f5ec4d8696d",
   "metadata": {},
   "outputs": [],
   "source": []
  },
  {
   "cell_type": "markdown",
   "id": "c8974a81-971f-4f64-8f99-f2384952cb03",
   "metadata": {},
   "source": [
    "## 문서 클러스터링\n",
    "ref : http://doc.mindscale.kr/km/unstructured/04.html"
   ]
  },
  {
   "cell_type": "code",
   "execution_count": null,
   "id": "9a60550b-c70c-4ee4-8b7a-88a076f2c0c8",
   "metadata": {},
   "outputs": [],
   "source": [
    "import pandas as pd\n",
    "import joblib"
   ]
  },
  {
   "cell_type": "code",
   "execution_count": null,
   "id": "27f8a1d3-5db7-4da0-88ac-87c7a0a23893",
   "metadata": {},
   "outputs": [],
   "source": [
    "with open('amazon.pkl', 'rb') as f:\n",
    "    data = joblib.load(f)\n",
    "locals().update(data)"
   ]
  },
  {
   "cell_type": "code",
   "execution_count": null,
   "id": "715536a5-4e00-467a-87f5-632b7171931c",
   "metadata": {},
   "outputs": [],
   "source": [
    "df = pd.read_csv('./datasets_review/amazon_cells_labelled.txt', sep=\"\\t\", header=None)"
   ]
  },
  {
   "cell_type": "markdown",
   "id": "1addbb69-380f-44a8-8d2c-796fb66f7ab2",
   "metadata": {},
   "source": [
    "### 스펙트럴 클러스터링\n",
    "* 그래프 기반 클러스터링의 일종 --> 이웃이 비슷한 것들끼리 묶는다\n",
    "* [step1] 각각의 대상으로부터 유사도 그래프(비슷한 대상들끼리 연결한 그래프)를 만든다\n",
    "* [step2] 라플라시안 행렬(Laplacian matrix)로부터 k개의 고유벡터를 계산하여 각 대상의 특성으로 삼는다\n",
    "* [step3] 위의 특성을 바탕으로 k-means 클러스터링을 한다"
   ]
  },
  {
   "cell_type": "code",
   "execution_count": null,
   "id": "fb44da53-1c9d-4f4d-b136-2357123ec9d7",
   "metadata": {},
   "outputs": [],
   "source": [
    "from sklearn.cluster import SpectralClustering"
   ]
  },
  {
   "cell_type": "code",
   "execution_count": null,
   "id": "0b00fc0b-a077-4715-b1f3-29e3207416f0",
   "metadata": {},
   "outputs": [],
   "source": [
    "# 문서들을 유클리드 거리를 기준으로 4개의 클러스터로 군집\n",
    "cl = SpectralClustering(n_clusters=4, random_state=1234)\n",
    "labels = cl.fit_predict(tdm[:100])\n",
    "labels"
   ]
  },
  {
   "cell_type": "code",
   "execution_count": null,
   "id": "97735ba7-68e4-4ce2-901a-af2588ad640c",
   "metadata": {},
   "outputs": [],
   "source": [
    "from operator import itemgetter"
   ]
  },
  {
   "cell_type": "code",
   "execution_count": null,
   "id": "64065071-6062-4982-b252-4b010aa91373",
   "metadata": {},
   "outputs": [],
   "source": [
    "# 각 클러스터별 최빈도 단어 \n",
    "words = vectorizer.get_feature_names()\n",
    "\n",
    "def top10(labels):\n",
    "    freq_words = []\n",
    "    for i in range(4):\n",
    "        count = tdm[labels == i, :].sum(axis=0)\n",
    "        ws = [w for w, n in sorted(zip(words, count.flat), key=itemgetter(1), reverse=True)[:10]]\n",
    "        freq_words.append(ws)\n",
    "\n",
    "    return pd.DataFrame(freq_words)"
   ]
  },
  {
   "cell_type": "code",
   "execution_count": null,
   "id": "d01f3845-e957-4753-acb0-8c2a06e3a26b",
   "metadata": {},
   "outputs": [],
   "source": [
    "top10(labels)"
   ]
  },
  {
   "cell_type": "code",
   "execution_count": null,
   "id": "4670de2a-6342-44d3-9674-fd4a05dccdf9",
   "metadata": {},
   "outputs": [],
   "source": [
    "# 코사인 유사도를 바탕으로 클러스터링"
   ]
  },
  {
   "cell_type": "code",
   "execution_count": null,
   "id": "f09d42dc-5e95-43bd-9f94-c844173e8c10",
   "metadata": {},
   "outputs": [],
   "source": [
    "from sklearn.metrics.pairwise import cosine_similarity"
   ]
  },
  {
   "cell_type": "code",
   "execution_count": null,
   "id": "5bf1a338-2023-42dc-917b-bf65ca17bc11",
   "metadata": {},
   "outputs": [],
   "source": [
    "cl_cos = SpectralClustering(n_clusters=4, affinity=cosine_similarity, random_state=1234)\n",
    "labels_cos = cl_cos.fit_predict(tdm[:100])\n",
    "top10(labels_cos)"
   ]
  },
  {
   "cell_type": "markdown",
   "id": "965086b4-7a06-40aa-8e85-b2a4174ec4d4",
   "metadata": {
    "tags": []
   },
   "source": [
    "### KMeans 클러스터링\n",
    "* k개의 평균들 : 데이터와 군집의 중심점의 거리를 재서, 그 거리가 가장 가까운 군집으로 묶는다\n",
    "* [step1] k개의 중심점을 무작위로 정한다. \n",
    "* [step2] 중심점과 거리를 재서 가장 가까운 군집에 모든 데이터를 할당한다.\n",
    "* [step3] 군집에 속한 멤버들의 평균을 내서 중심점을 정한다. \n",
    "* [step4] 더이상 중심점에 변화가 없을 때까지 2~3을 반복<br>\n",
    "<img src=\"./img/img12.png\" width=400> "
   ]
  },
  {
   "cell_type": "code",
   "execution_count": null,
   "id": "bcc5219d-2dff-4c62-aa6c-c55f57567fba",
   "metadata": {},
   "outputs": [],
   "source": [
    "from sklearn.cluster import KMeans"
   ]
  },
  {
   "cell_type": "code",
   "execution_count": null,
   "id": "72cfe87c-8e01-4851-b107-eae4972482cc",
   "metadata": {},
   "outputs": [],
   "source": [
    "km = KMeans(n_clusters=4, random_state=1234)\n",
    "labels_km = km.fit_predict(tdm)\n",
    "top10(labels_km)"
   ]
  },
  {
   "cell_type": "markdown",
   "id": "4afc139c-7f94-416a-86bb-93f9c26e03b7",
   "metadata": {},
   "source": [
    "* 정규화 후 KMeans"
   ]
  },
  {
   "cell_type": "code",
   "execution_count": null,
   "id": "812053a2-e53c-4cde-96d4-4d22ad10f1e5",
   "metadata": {},
   "outputs": [],
   "source": [
    "from sklearn.preprocessing import Normalizer"
   ]
  },
  {
   "cell_type": "code",
   "execution_count": null,
   "id": "8f0a2ede-4d9f-45d6-8928-97779073a97d",
   "metadata": {},
   "outputs": [],
   "source": [
    "nom = Normalizer(copy=False)\n",
    "pos = nom.fit_transform(tdm)\n",
    "km = KMeans(n_clusters=4, random_state=1234)\n",
    "labels_nom = km.fit_predict(tdm)\n",
    "top10(labels_nom)"
   ]
  },
  {
   "cell_type": "markdown",
   "id": "788ec438-9d8b-4a6d-af68-4f0f2f7779d8",
   "metadata": {},
   "source": [
    "# 잠재 의미 분석(LSA : Latent Semantic Analysis)\n",
    "* TDM에 특이값 분해를 적용하여 차원을 축소하는 것\n",
    "* 예) \n",
    "    - 유사의미 : \"고양이 좋다\" \"고양이 귀엽다\"\n",
    "    - 다른의미, 단어문서행렬 거리는 같다 :  \"고양이 좋다\" \"강아지 좋다\" "
   ]
  },
  {
   "cell_type": "code",
   "execution_count": null,
   "id": "519ea4cf-2e44-484b-b05c-495d316579c6",
   "metadata": {},
   "outputs": [],
   "source": [
    "import pandas as pd"
   ]
  },
  {
   "cell_type": "code",
   "execution_count": null,
   "id": "e6afd73d-ecd5-417d-a9c9-5bf9884ffaa5",
   "metadata": {},
   "outputs": [],
   "source": [
    "with open('amazon.pkl', 'rb') as f:\n",
    "    data = joblib.load(f)\n",
    "locals().update(data)\n",
    "tdm.shape"
   ]
  },
  {
   "cell_type": "markdown",
   "id": "c84d9d91-58d2-4084-abde-550d10cb3c61",
   "metadata": {},
   "source": [
    "*  LSA 적용 : 특이값 분해로 차원 축소"
   ]
  },
  {
   "cell_type": "code",
   "execution_count": null,
   "id": "2c5f5717-b7b7-4227-8696-c259740644a9",
   "metadata": {},
   "outputs": [],
   "source": [
    "from sklearn.decomposition import TruncatedSVD"
   ]
  },
  {
   "cell_type": "code",
   "execution_count": null,
   "id": "e2fc88bf-865e-439f-a45c-fbabbc634def",
   "metadata": {},
   "outputs": [],
   "source": [
    "svd = TruncatedSVD(n_components=30)\n",
    "pos = svd.fit_transform(tdm)\n",
    "pos.shape"
   ]
  },
  {
   "cell_type": "code",
   "execution_count": null,
   "id": "c8629ffc-e903-49f2-9ac2-6cab9bc7cab4",
   "metadata": {},
   "outputs": [],
   "source": [
    "import matplotlib.pyplot as plt"
   ]
  },
  {
   "cell_type": "code",
   "execution_count": null,
   "id": "dc0944c6-6061-425c-ba54-93e164c49b8d",
   "metadata": {},
   "outputs": [],
   "source": [
    "dim1 = 0\n",
    "dim2 = 1\n",
    "plt.plot(pos[sentiment == 1, dim1], pos[sentiment == 1, dim2], 'ro')  # 긍정적인 코멘트 (빨간색)\n",
    "plt.plot(pos[sentiment == 0, dim1], pos[sentiment == 0, dim2], 'bo')  # 부정적인 코멘트 (파란색)"
   ]
  },
  {
   "cell_type": "markdown",
   "id": "f2a8d930-3f3f-4487-894b-0d6c2bb304ba",
   "metadata": {},
   "source": [
    "* 노멀라이징 : 문서 길이에 따라 좌표가 달라진다. 이 영향을 제거하기 위해 문서의 원점에서 거리를 1로 변환"
   ]
  },
  {
   "cell_type": "code",
   "execution_count": null,
   "id": "6449f6c3-6476-4467-9b5f-3c562a377ba7",
   "metadata": {},
   "outputs": [],
   "source": [
    "from sklearn.preprocessing import Normalizer\n",
    "norm = Normalizer(copy=False)\n",
    "pos2 = norm.fit_transform(pos)\n",
    "dim1 = 0\n",
    "dim2 = 1\n",
    "plt.plot(pos2[sentiment == 1, dim1], pos2[sentiment == 1, dim2], 'ro')  # 긍정적인 코멘트 (빨간색)\n",
    "plt.plot(pos2[sentiment == 0, dim1], pos2[sentiment == 0, dim2], 'bo')  # 부정적인 코멘트 (파란색)"
   ]
  },
  {
   "cell_type": "markdown",
   "id": "a49aee5d-57f2-4c7f-bdc2-4a812aa7f86d",
   "metadata": {},
   "source": [
    "* 파이프라인 = LSA + 노멀라이징"
   ]
  },
  {
   "cell_type": "code",
   "execution_count": null,
   "id": "54744780-765d-4f71-a726-d392638f41c0",
   "metadata": {},
   "outputs": [],
   "source": [
    "from sklearn.pipeline import make_pipeline\n",
    "lsa = make_pipeline(svd, norm)\n",
    "lsa.transform(tdm)"
   ]
  },
  {
   "cell_type": "markdown",
   "id": "bc3e692f-b550-43cf-8ba3-dfb31edd0c21",
   "metadata": {},
   "source": [
    "## 잠재 디리클레 할당(LDA, Latent Dirichlet Allocation)\n",
    "* 사람의 개입 없이 이러한 단어들이 하나의 주제를 이룬다는 것을 컴퓨터가 스스로 발견하는 것이 LDA의 핵심\n",
    "* 흔히 사용되는 클러스터링에서 하나의 문서는 오직 하나의 클러스터에만 속한다. 반면 LDA는 하나의 문서가 여러 가지 주제를 가질 수 있다.\n",
    "* 베이지언 통계학에 바탕을 둔 비지도 텍스트 분석 방법\n",
    "* 분석에 이론적 가정 추가 가능 : 간에 따른 변화, 저자의 독특한 개성 등을 포함시켜 분석 가능\n",
    "* 각각의 문서는 여러 주제들이 섞여 있다 = '주제'(topic)는 단어의 분포다 = 한 문서의 단어들은 문서를 이루는 주제에서 나온 것이다"
   ]
  },
  {
   "cell_type": "code",
   "execution_count": null,
   "id": "e501d122-da17-44db-8bf3-dfbf8d92fde3",
   "metadata": {},
   "outputs": [],
   "source": [
    "# !pip install gensim"
   ]
  },
  {
   "cell_type": "code",
   "execution_count": null,
   "id": "9b9f3baa-8e23-4205-b572-45981c302264",
   "metadata": {},
   "outputs": [],
   "source": [
    "import pandas as pd\n",
    "import joblib"
   ]
  },
  {
   "cell_type": "code",
   "execution_count": null,
   "id": "d103c703-dd98-4a78-ab3a-cec09a8ee6ba",
   "metadata": {},
   "outputs": [],
   "source": [
    "with open('ai_news.pkl', 'rb') as f:\n",
    "    data = joblib.load(f)\n",
    "locals().update(data)"
   ]
  },
  {
   "cell_type": "code",
   "execution_count": null,
   "id": "fa27d4c8-d32f-46fe-ae74-24a0d9d7ed19",
   "metadata": {},
   "outputs": [],
   "source": [
    "words = vectorizer.get_feature_names()\n",
    "word_dict = dict(enumerate(words))  #{단어 번호: 단어} 형태의 딕셔너리로 변환\n",
    "word_dict[0]   #'4차 산업'\n",
    "word_dict[100] #'광주'"
   ]
  },
  {
   "cell_type": "markdown",
   "id": "f93a1364-5d3c-45f5-9699-5a36636845c5",
   "metadata": {},
   "source": [
    "* gensim 형식으로 변환"
   ]
  },
  {
   "cell_type": "code",
   "execution_count": null,
   "id": "fa5551d8-e7f3-4ef9-a6b9-d3472d734e01",
   "metadata": {},
   "outputs": [],
   "source": [
    "from gensim.matutils import Sparse2Corpus"
   ]
  },
  {
   "cell_type": "code",
   "execution_count": null,
   "id": "51800ab3-b594-48d8-baa8-7745ca800d53",
   "metadata": {},
   "outputs": [],
   "source": [
    "corpus = Sparse2Corpus(tdm.T)\n",
    "corpus"
   ]
  },
  {
   "cell_type": "markdown",
   "id": "df933bd7-4595-4d05-babd-5e8bb2898972",
   "metadata": {},
   "source": [
    "* 분석"
   ]
  },
  {
   "cell_type": "code",
   "execution_count": null,
   "id": "764d1091-65d3-4ba2-8fbc-745b1d0558fb",
   "metadata": {},
   "outputs": [],
   "source": [
    "from gensim.models.ldamodel import LdaModel"
   ]
  },
  {
   "cell_type": "code",
   "execution_count": null,
   "id": "f1b40a14-ad29-4390-8a9a-815c804871f5",
   "metadata": {},
   "outputs": [],
   "source": [
    "lda = LdaModel(corpus=corpus,\n",
    "               num_topics=100,\n",
    "               passes=3,\n",
    "               iterations=100,\n",
    "               id2word=word_dict,\n",
    "               random_state=123)"
   ]
  },
  {
   "cell_type": "code",
   "execution_count": null,
   "id": "8f0d59b5-2ead-441c-83ae-1a06dc2cd9e3",
   "metadata": {},
   "outputs": [],
   "source": [
    "lda.show_topic(0) "
   ]
  },
  {
   "cell_type": "code",
   "execution_count": null,
   "id": "9c5f5ee1-d67e-49ab-ad44-2fc996f10d6f",
   "metadata": {},
   "outputs": [],
   "source": [
    "lda.show_topic(2)"
   ]
  },
  {
   "cell_type": "markdown",
   "id": "1be9a47e-6b3f-495a-8c2b-6fa3c2bb31c6",
   "metadata": {},
   "source": [
    "* 문서의 주제(비율) 확인"
   ]
  },
  {
   "cell_type": "code",
   "execution_count": null,
   "id": "fe83a3b6-5df1-4e34-b3b0-432f056e5c0a",
   "metadata": {},
   "outputs": [],
   "source": [
    "row = tdm[0]\n",
    "doc = list(zip(row.indices, row.data))\n",
    "doc"
   ]
  },
  {
   "cell_type": "code",
   "execution_count": null,
   "id": "e17a3cdd-38d4-43c4-8a43-b65f2e548117",
   "metadata": {},
   "outputs": [],
   "source": [
    "row = tdm[0]  #첫 번째 문서의 [(단어번호,빈도수)..]\n",
    "doc = list(zip(row.indices, row.data))\n",
    "doc"
   ]
  },
  {
   "cell_type": "code",
   "execution_count": null,
   "id": "3bfc520c-8304-4674-bf2f-266ba3ca3c57",
   "metadata": {},
   "outputs": [],
   "source": [
    "doc_words = [(words[i], n) for i, n in doc]\n",
    "doc_words"
   ]
  },
  {
   "cell_type": "markdown",
   "id": "5e71cc17-c8d1-40a8-8e43-5cc3434c7165",
   "metadata": {},
   "source": [
    "* 문서 토픽(비율) 확인하기"
   ]
  },
  {
   "cell_type": "code",
   "execution_count": null,
   "id": "ad663752-ff9e-4203-938b-1251e98af86c",
   "metadata": {},
   "outputs": [],
   "source": [
    "lda.get_document_topics(doc)"
   ]
  },
  {
   "cell_type": "code",
   "execution_count": null,
   "id": "a99ffb8e-a07f-43b0-b55f-1b4d5b7094d5",
   "metadata": {},
   "outputs": [],
   "source": [
    "lda.show_topic(28)"
   ]
  },
  {
   "cell_type": "markdown",
   "id": "206d98a4-3ca1-46a4-ac84-1b7fcb25aa70",
   "metadata": {},
   "source": [
    "* 모형 저장/불러오기"
   ]
  },
  {
   "cell_type": "code",
   "execution_count": null,
   "id": "5bcf467d-6a26-428e-87da-10024d907a0b",
   "metadata": {},
   "outputs": [],
   "source": [
    "lda.save('lda_test.lda')"
   ]
  },
  {
   "cell_type": "code",
   "execution_count": null,
   "id": "2d5bfa8b-61f9-4b33-bd3a-e0aaee35cbf9",
   "metadata": {},
   "outputs": [],
   "source": [
    "lda2 = LdaModel.load('lda_test.lda')  # 기존 모형과 구분짓기 위해 lda2 로 저장한다."
   ]
  },
  {
   "cell_type": "code",
   "execution_count": null,
   "id": "10121f21-681d-4782-bb0b-6950023ecf2c",
   "metadata": {},
   "outputs": [],
   "source": [
    "lda2"
   ]
  },
  {
   "cell_type": "code",
   "execution_count": null,
   "id": "cdf31082-cf95-459f-a055-e9e7ef4b35c0",
   "metadata": {},
   "outputs": [],
   "source": []
  },
  {
   "cell_type": "markdown",
   "id": "ccb06de0-29c9-44e4-9c21-86bf558a2c73",
   "metadata": {},
   "source": [
    "<pre>\n",
    "https://doc.mindscale.kr/km/unstructured/1.html , 서론\n",
    "https://doc.mindscale.kr/km/unstructured/2.html , 웹 스크래핑\n",
    "https://doc.mindscale.kr/km/unstructured/3.html , 형태소 분석과 단어 문서 행렬\n",
    "https://doc.mindscale.kr/km/unstructured/4.html , 주제 분석\n",
    "https://doc.mindscale.kr/km/unstructured/5.html , 기계학습과 인공신경망\n",
    "https://doc.mindscale.kr/km/unstructured/6.html , 텍스트의 지도학습\n",
    "https://doc.mindscale.kr/km/unstructured/7.html , 이미지의 지도학습\n",
    "https://doc.mindscale.kr/km/unstructured/8.html , 텍스트의 비지도학습\n",
    "https://doc.mindscale.kr/km/unstructured/9.html , 합성곱 신경망\n",
    "https://doc.mindscale.kr/km/unstructured/10.html , 순환신경망\n",
    "https://doc.mindscale.kr/km/unstructured/11.html , 단어 임베딩\n",
    "https://doc.mindscale.kr/km/unstructured/12.html , 챗봇\n",
    "https://doc.mindscale.kr/km/unstructured/13.html , 기계 번역\n",
    "https://doc.mindscale.kr/km/unstructured/14.html , 주의\n"
   ]
  },
  {
   "cell_type": "markdown",
   "id": "92d163d6-8e65-4266-b578-f7861db386b6",
   "metadata": {},
   "source": [
    "# 아마존 제품리뷰 TDM - 긍/부정 감정사전\n",
    "* datasets ref : 아마존 리뷰 https://archive.ics.uci.edu/ml/datasets/Sentiment+Labelled+Sentences\n",
    "* datasets ref : 인공지능 관련 뉴스메타데이터 https://www.data.go.kr/dataset/15012945/fileData.do "
   ]
  },
  {
   "cell_type": "code",
   "execution_count": null,
   "id": "0e8b9c3b-ae30-4b97-8a1a-deb0ef4c1669",
   "metadata": {},
   "outputs": [],
   "source": []
  },
  {
   "cell_type": "code",
   "execution_count": null,
   "id": "116e5509-3d77-420e-b776-edf240b79c94",
   "metadata": {},
   "outputs": [],
   "source": [
    "import pandas as pd"
   ]
  },
  {
   "cell_type": "code",
   "execution_count": null,
   "id": "c02eba81-bc72-44fa-930e-4cd034327e11",
   "metadata": {},
   "outputs": [],
   "source": [
    "df = pd.read_csv('./datasets_review/amazon_cells_labelled.txt', sep=\"\\t\", header=None)"
   ]
  },
  {
   "cell_type": "code",
   "execution_count": null,
   "id": "2335b753-e603-4a34-8b61-78639cae47a4",
   "metadata": {},
   "outputs": [],
   "source": [
    "df.head()"
   ]
  },
  {
   "cell_type": "code",
   "execution_count": null,
   "id": "c21233b2-c2c3-48b6-a835-48645e806106",
   "metadata": {},
   "outputs": [],
   "source": [
    "content = df[0]\n",
    "sentiment = df[1]"
   ]
  },
  {
   "cell_type": "markdown",
   "id": "4ba69610-1514-47d9-a8f6-c16abd2672c9",
   "metadata": {},
   "source": [
    "* TF-IDF 가중치를 사용해 TDM을 만들기"
   ]
  },
  {
   "cell_type": "code",
   "execution_count": null,
   "id": "a4fab05e-9e04-4e5c-ba6f-3c07b214b6fd",
   "metadata": {},
   "outputs": [],
   "source": [
    "from sklearn.feature_extraction.text import TfidfVectorizer"
   ]
  },
  {
   "cell_type": "code",
   "execution_count": null,
   "id": "e6b806d4-ded9-4a78-8e75-dc2e8347a776",
   "metadata": {},
   "outputs": [],
   "source": [
    "tfidf = TfidfVectorizer(stop_words='english',\n",
    "                        lowercase=True,\n",
    "                        max_features=1000)"
   ]
  },
  {
   "cell_type": "code",
   "execution_count": null,
   "id": "8b85d77e-8504-4c85-be0f-45ad37d11678",
   "metadata": {},
   "outputs": [],
   "source": [
    "tdm = tfidf.fit_transform(content)\n",
    "tdm.toarray()[:2]"
   ]
  },
  {
   "cell_type": "code",
   "execution_count": null,
   "id": "f07db215-4a2c-41d5-bc85-61f5c5831dd8",
   "metadata": {},
   "outputs": [],
   "source": [
    "tfidf.get_feature_names()[-5:]"
   ]
  },
  {
   "cell_type": "markdown",
   "id": "829160db-5674-4fed-a75e-ad1ed1cd68be",
   "metadata": {},
   "source": [
    "* pickle 저장  : tfidf, tdm, df['sentiment']"
   ]
  },
  {
   "cell_type": "code",
   "execution_count": null,
   "id": "bf26aab9-d029-4384-b064-979354d2f204",
   "metadata": {},
   "outputs": [],
   "source": [
    "import joblib"
   ]
  },
  {
   "cell_type": "code",
   "execution_count": null,
   "id": "18be38f2-50c7-4e42-b636-4999e3b8b3e7",
   "metadata": {},
   "outputs": [],
   "source": [
    "with open('amazon.pkl', 'wb') as f:\n",
    "    joblib.dump(\n",
    "        {'vectorizer': tfidf, 'tdm': tdm, 'sentiment': sentiment},\n",
    "        f\n",
    "    )"
   ]
  },
  {
   "cell_type": "code",
   "execution_count": null,
   "id": "5daaea80-5859-4f84-88df-ba0de106339e",
   "metadata": {},
   "outputs": [],
   "source": [
    "article = pd.read_csv('./datasets_review/한국언론진흥재단_2019년 12월 정치 분야 고빈도 사용 명사.csv', encoding='cp949', engine='python')\n",
    "article.head()"
   ]
  },
  {
   "cell_type": "markdown",
   "id": "6556e18a-e57b-42f4-a0d7-6e3867a34316",
   "metadata": {},
   "source": [
    "## 유클리드 거리"
   ]
  },
  {
   "cell_type": "code",
   "execution_count": null,
   "id": "8df5536e-6a91-4f06-992d-ae9508089c68",
   "metadata": {},
   "outputs": [],
   "source": [
    "from sklearn.metrics.pairwise import euclidean_distances"
   ]
  },
  {
   "cell_type": "code",
   "execution_count": null,
   "id": "13ab174e-5a43-4a5d-9442-689b994509ae",
   "metadata": {},
   "outputs": [],
   "source": [
    "euclidean_distances(tdm[0], tdm[1])  #0 번~1번 기사 거리"
   ]
  },
  {
   "cell_type": "code",
   "execution_count": null,
   "id": "0b5eec1b-a2a5-4a92-838c-9b423a80003e",
   "metadata": {},
   "outputs": [],
   "source": [
    "# 0번 문서와 유클리드 거리가 가장 가까운 문서를 찾는다.\n",
    "dist = euclidean_distances(tdm[0], tdm[1:])\n",
    "np.argmin(dist) + 1 "
   ]
  },
  {
   "cell_type": "code",
   "execution_count": null,
   "id": "55e06365-ac03-47c3-ae40-7282bf6f6f0e",
   "metadata": {},
   "outputs": [],
   "source": [
    "article.loc[0, '본문']"
   ]
  },
  {
   "cell_type": "code",
   "execution_count": null,
   "id": "53db2b42-f4fa-4b6e-8d3e-98af79819df0",
   "metadata": {},
   "outputs": [],
   "source": []
  },
  {
   "cell_type": "markdown",
   "id": "1906b994-c325-4834-9ec1-7f1877cfa6cd",
   "metadata": {},
   "source": [
    "## 코사인 유사도"
   ]
  },
  {
   "cell_type": "code",
   "execution_count": null,
   "id": "68acf13b-b350-4e21-86bd-9d7e34b4cf04",
   "metadata": {},
   "outputs": [],
   "source": [
    "from sklearn.metrics.pairwise import cosine_similarity"
   ]
  },
  {
   "cell_type": "code",
   "execution_count": null,
   "id": "22fa4635-68e3-4bfa-bb0b-9d46c563f2d3",
   "metadata": {},
   "outputs": [],
   "source": [
    "cosine_similarity(tdm[0], tdm[1])"
   ]
  },
  {
   "cell_type": "code",
   "execution_count": null,
   "id": "0e0e085e-0dde-4764-8b18-e404cf00de71",
   "metadata": {},
   "outputs": [],
   "source": [
    "sim = cosine_similarity(tdm[0], tdm[1:])"
   ]
  },
  {
   "cell_type": "code",
   "execution_count": null,
   "id": "3c361543-0a27-43a9-b976-e51e34b44999",
   "metadata": {},
   "outputs": [],
   "source": [
    "np.argmax(sim) + 1"
   ]
  },
  {
   "cell_type": "code",
   "execution_count": null,
   "id": "8bbf9f0d-2e3f-4955-882e-6694de3834fe",
   "metadata": {},
   "outputs": [],
   "source": [
    "article.loc[1394, '본문']"
   ]
  },
  {
   "cell_type": "code",
   "execution_count": null,
   "id": "00da2cb2-8a45-4989-839a-25f224e036ed",
   "metadata": {},
   "outputs": [],
   "source": []
  },
  {
   "cell_type": "markdown",
   "id": "54c7f9a2-f0f9-47b8-b66f-4ccd8f30c631",
   "metadata": {},
   "source": [
    "## 문서 클러스터링\n",
    "ref : http://doc.mindscale.kr/km/unstructured/04.html"
   ]
  },
  {
   "cell_type": "code",
   "execution_count": null,
   "id": "6ad73575-ea32-49ca-ab40-251eebc1a4d1",
   "metadata": {},
   "outputs": [],
   "source": [
    "import pandas as pd\n",
    "import joblib"
   ]
  },
  {
   "cell_type": "code",
   "execution_count": null,
   "id": "ce7f9fcb-4377-43c0-8bf6-4db95d07cac6",
   "metadata": {},
   "outputs": [],
   "source": [
    "with open('amazon.pkl', 'rb') as f:\n",
    "    data = joblib.load(f)\n",
    "locals().update(data)"
   ]
  },
  {
   "cell_type": "code",
   "execution_count": null,
   "id": "22196bac-07c5-4c86-b30b-2789e9312631",
   "metadata": {},
   "outputs": [],
   "source": [
    "df = pd.read_csv('./datasets_review/amazon_cells_labelled.txt', sep=\"\\t\", header=None)"
   ]
  },
  {
   "cell_type": "markdown",
   "id": "a8a21c60-0ae2-4c13-a94f-d326cc52ab17",
   "metadata": {},
   "source": [
    "### 스펙트럴 클러스터링\n",
    "* 그래프 기반 클러스터링의 일종 --> 이웃이 비슷한 것들끼리 묶는다\n",
    "* [step1] 각각의 대상으로부터 유사도 그래프(비슷한 대상들끼리 연결한 그래프)를 만든다\n",
    "* [step2] 라플라시안 행렬(Laplacian matrix)로부터 k개의 고유벡터를 계산하여 각 대상의 특성으로 삼는다\n",
    "* [step3] 위의 특성을 바탕으로 k-means 클러스터링을 한다"
   ]
  },
  {
   "cell_type": "code",
   "execution_count": null,
   "id": "846b2095-da7b-4bc5-b5ed-916c7da00d3a",
   "metadata": {},
   "outputs": [],
   "source": [
    "from sklearn.cluster import SpectralClustering"
   ]
  },
  {
   "cell_type": "code",
   "execution_count": null,
   "id": "f85eaf49-3440-4c5e-aa5c-a04cf4909cd0",
   "metadata": {},
   "outputs": [],
   "source": [
    "# 문서들을 유클리드 거리를 기준으로 4개의 클러스터로 군집\n",
    "cl = SpectralClustering(n_clusters=4, random_state=1234)\n",
    "labels = cl.fit_predict(tdm[:100])\n",
    "labels"
   ]
  },
  {
   "cell_type": "code",
   "execution_count": null,
   "id": "15946c22-b168-46d2-9ff6-be23910c17e8",
   "metadata": {},
   "outputs": [],
   "source": [
    "from operator import itemgetter"
   ]
  },
  {
   "cell_type": "code",
   "execution_count": null,
   "id": "ad82861a-e682-4071-8fbe-4400f11427df",
   "metadata": {},
   "outputs": [],
   "source": [
    "# 각 클러스터별 최빈도 단어 \n",
    "words = vectorizer.get_feature_names()\n",
    "\n",
    "def top10(labels):\n",
    "    freq_words = []\n",
    "    for i in range(4):\n",
    "        count = tdm[labels == i, :].sum(axis=0)\n",
    "        ws = [w for w, n in sorted(zip(words, count.flat), key=itemgetter(1), reverse=True)[:10]]\n",
    "        freq_words.append(ws)\n",
    "\n",
    "    return pd.DataFrame(freq_words)"
   ]
  },
  {
   "cell_type": "code",
   "execution_count": null,
   "id": "e51d25be-55cd-4ce4-b527-8147d2283652",
   "metadata": {},
   "outputs": [],
   "source": [
    "top10(labels)"
   ]
  },
  {
   "cell_type": "code",
   "execution_count": null,
   "id": "c5204066-9881-4190-aece-8194ee926254",
   "metadata": {},
   "outputs": [],
   "source": [
    "# 코사인 유사도를 바탕으로 클러스터링"
   ]
  },
  {
   "cell_type": "code",
   "execution_count": null,
   "id": "6f84d405-7f6f-4512-b5bf-a0d54459d32a",
   "metadata": {},
   "outputs": [],
   "source": [
    "from sklearn.metrics.pairwise import cosine_similarity"
   ]
  },
  {
   "cell_type": "code",
   "execution_count": null,
   "id": "29b9583a-afde-45d6-980b-8fa631484160",
   "metadata": {},
   "outputs": [],
   "source": [
    "cl_cos = SpectralClustering(n_clusters=4, affinity=cosine_similarity, random_state=1234)\n",
    "labels_cos = cl_cos.fit_predict(tdm[:100])\n",
    "top10(labels_cos)"
   ]
  },
  {
   "cell_type": "markdown",
   "id": "a1443f86-f7a2-49c9-a3d5-3f92bfdf96eb",
   "metadata": {
    "tags": []
   },
   "source": [
    "### KMeans 클러스터링\n",
    "* k개의 평균들 : 데이터와 군집의 중심점의 거리를 재서, 그 거리가 가장 가까운 군집으로 묶는다\n",
    "* [step1] k개의 중심점을 무작위로 정한다. \n",
    "* [step2] 중심점과 거리를 재서 가장 가까운 군집에 모든 데이터를 할당한다.\n",
    "* [step3] 군집에 속한 멤버들의 평균을 내서 중심점을 정한다. \n",
    "* [step4] 더이상 중심점에 변화가 없을 때까지 2~3을 반복<br>\n",
    "<img src=\"./img/img12.png\" width=400> "
   ]
  },
  {
   "cell_type": "code",
   "execution_count": null,
   "id": "b9cff96d-c612-43b5-b1d8-a2bf0018b62d",
   "metadata": {},
   "outputs": [],
   "source": [
    "from sklearn.cluster import KMeans"
   ]
  },
  {
   "cell_type": "code",
   "execution_count": null,
   "id": "bcb4a3e8-3d50-4d3a-b748-5c0a1121f134",
   "metadata": {},
   "outputs": [],
   "source": [
    "km = KMeans(n_clusters=4, random_state=1234)\n",
    "labels_km = km.fit_predict(tdm)\n",
    "top10(labels_km)"
   ]
  },
  {
   "cell_type": "markdown",
   "id": "9402e622-c994-4bd8-8b01-9908c9149a21",
   "metadata": {},
   "source": [
    "* 정규화 후 KMeans"
   ]
  },
  {
   "cell_type": "code",
   "execution_count": null,
   "id": "49cde0df-001d-480f-89a4-8a53e82fa283",
   "metadata": {},
   "outputs": [],
   "source": [
    "from sklearn.preprocessing import Normalizer"
   ]
  },
  {
   "cell_type": "code",
   "execution_count": null,
   "id": "4cafc374-2a00-4894-ac3e-b6e116508ce3",
   "metadata": {},
   "outputs": [],
   "source": [
    "nom = Normalizer(copy=False)\n",
    "pos = nom.fit_transform(tdm)\n",
    "km = KMeans(n_clusters=4, random_state=1234)\n",
    "labels_nom = km.fit_predict(tdm)\n",
    "top10(labels_nom)"
   ]
  },
  {
   "cell_type": "markdown",
   "id": "29ef2274-9fc3-43a4-98ee-00260c9db4d4",
   "metadata": {},
   "source": [
    "# 잠재 의미 분석(LSA : Latent Semantic Analysis)\n",
    "* TDM에 특이값 분해를 적용하여 차원을 축소하는 것\n",
    "* 예) \n",
    "    - 유사의미 : \"고양이 좋다\" \"고양이 귀엽다\"\n",
    "    - 다른의미, 단어문서행렬 거리는 같다 :  \"고양이 좋다\" \"강아지 좋다\" "
   ]
  },
  {
   "cell_type": "code",
   "execution_count": null,
   "id": "ddace5d8-b3df-4c01-8d13-1fc492b29355",
   "metadata": {},
   "outputs": [],
   "source": [
    "import pandas as pd"
   ]
  },
  {
   "cell_type": "code",
   "execution_count": null,
   "id": "e26b8d8c-a25c-405b-9a06-8a8f1415f6ed",
   "metadata": {},
   "outputs": [],
   "source": [
    "with open('amazon.pkl', 'rb') as f:\n",
    "    data = joblib.load(f)\n",
    "locals().update(data)\n",
    "tdm.shape"
   ]
  },
  {
   "cell_type": "markdown",
   "id": "00dabcb0-deda-4f88-bcc6-32c3dd050f95",
   "metadata": {},
   "source": [
    "*  LSA 적용 : 특이값 분해로 차원 축소"
   ]
  },
  {
   "cell_type": "code",
   "execution_count": null,
   "id": "c5171700-6f9e-4274-ab84-4603594988a2",
   "metadata": {},
   "outputs": [],
   "source": [
    "from sklearn.decomposition import TruncatedSVD"
   ]
  },
  {
   "cell_type": "code",
   "execution_count": null,
   "id": "98742073-b8d2-4931-98cd-2c6c12662144",
   "metadata": {},
   "outputs": [],
   "source": [
    "svd = TruncatedSVD(n_components=30)\n",
    "pos = svd.fit_transform(tdm)\n",
    "pos.shape"
   ]
  },
  {
   "cell_type": "code",
   "execution_count": null,
   "id": "fb1552b9-1b88-4093-b2e8-8cb2d2732464",
   "metadata": {},
   "outputs": [],
   "source": [
    "import matplotlib.pyplot as plt"
   ]
  },
  {
   "cell_type": "code",
   "execution_count": null,
   "id": "cbe6278e-ddbc-44d1-b4d2-86a6a786372d",
   "metadata": {},
   "outputs": [],
   "source": [
    "dim1 = 0\n",
    "dim2 = 1\n",
    "plt.plot(pos[sentiment == 1, dim1], pos[sentiment == 1, dim2], 'ro')  # 긍정적인 코멘트 (빨간색)\n",
    "plt.plot(pos[sentiment == 0, dim1], pos[sentiment == 0, dim2], 'bo')  # 부정적인 코멘트 (파란색)"
   ]
  },
  {
   "cell_type": "markdown",
   "id": "1e9a2a08-ddad-4eb2-aee8-fcc696b27471",
   "metadata": {},
   "source": [
    "* 노멀라이징 : 문서 길이에 따라 좌표가 달라진다. 이 영향을 제거하기 위해 문서의 원점에서 거리를 1로 변환"
   ]
  },
  {
   "cell_type": "code",
   "execution_count": null,
   "id": "804a0205-b4c7-4e0b-b072-99ab27177b04",
   "metadata": {},
   "outputs": [],
   "source": [
    "from sklearn.preprocessing import Normalizer\n",
    "norm = Normalizer(copy=False)\n",
    "pos2 = norm.fit_transform(pos)\n",
    "dim1 = 0\n",
    "dim2 = 1\n",
    "plt.plot(pos2[sentiment == 1, dim1], pos2[sentiment == 1, dim2], 'ro')  # 긍정적인 코멘트 (빨간색)\n",
    "plt.plot(pos2[sentiment == 0, dim1], pos2[sentiment == 0, dim2], 'bo')  # 부정적인 코멘트 (파란색)"
   ]
  },
  {
   "cell_type": "markdown",
   "id": "aec4c483-8613-4f40-ade6-dc25413eeca8",
   "metadata": {},
   "source": [
    "* 파이프라인 = LSA + 노멀라이징"
   ]
  },
  {
   "cell_type": "code",
   "execution_count": null,
   "id": "a392e92a-676f-47fb-89f8-6c0f525c1152",
   "metadata": {},
   "outputs": [],
   "source": [
    "from sklearn.pipeline import make_pipeline\n",
    "lsa = make_pipeline(svd, norm)\n",
    "lsa.transform(tdm)"
   ]
  },
  {
   "cell_type": "markdown",
   "id": "37bcbddf-6876-4176-8365-2f32b9509824",
   "metadata": {},
   "source": [
    "## 잠재 디리클레 할당(LDA, Latent Dirichlet Allocation)\n",
    "* 사람의 개입 없이 이러한 단어들이 하나의 주제를 이룬다는 것을 컴퓨터가 스스로 발견하는 것이 LDA의 핵심\n",
    "* 흔히 사용되는 클러스터링에서 하나의 문서는 오직 하나의 클러스터에만 속한다. 반면 LDA는 하나의 문서가 여러 가지 주제를 가질 수 있다.\n",
    "* 베이지언 통계학에 바탕을 둔 비지도 텍스트 분석 방법\n",
    "* 분석에 이론적 가정 추가 가능 : 간에 따른 변화, 저자의 독특한 개성 등을 포함시켜 분석 가능\n",
    "* 각각의 문서는 여러 주제들이 섞여 있다 = '주제'(topic)는 단어의 분포다 = 한 문서의 단어들은 문서를 이루는 주제에서 나온 것이다"
   ]
  },
  {
   "cell_type": "code",
   "execution_count": null,
   "id": "db160099-abc7-40b5-9a79-293ea1908f45",
   "metadata": {},
   "outputs": [],
   "source": [
    "# !pip install gensim"
   ]
  },
  {
   "cell_type": "code",
   "execution_count": null,
   "id": "aa618e03-7e44-405d-9256-38f4da2baf75",
   "metadata": {},
   "outputs": [],
   "source": [
    "import pandas as pd\n",
    "import joblib"
   ]
  },
  {
   "cell_type": "code",
   "execution_count": null,
   "id": "ae879aec-f78d-467d-b33d-5e4683d83455",
   "metadata": {},
   "outputs": [],
   "source": [
    "with open('ai_news.pkl', 'rb') as f:\n",
    "    data = joblib.load(f)\n",
    "locals().update(data)"
   ]
  },
  {
   "cell_type": "code",
   "execution_count": null,
   "id": "24767fc9-b3b5-4833-b614-d58853b41899",
   "metadata": {},
   "outputs": [],
   "source": [
    "words = vectorizer.get_feature_names()\n",
    "word_dict = dict(enumerate(words))  #{단어 번호: 단어} 형태의 딕셔너리로 변환\n",
    "word_dict[0]   #'4차 산업'\n",
    "word_dict[100] #'광주'"
   ]
  },
  {
   "cell_type": "markdown",
   "id": "a0b75c7e-1866-41b0-b3de-88fe999e9726",
   "metadata": {},
   "source": [
    "* gensim 형식으로 변환"
   ]
  },
  {
   "cell_type": "code",
   "execution_count": null,
   "id": "9e7deaf1-82f9-4968-bbf1-f5b776d80bcf",
   "metadata": {},
   "outputs": [],
   "source": [
    "from gensim.matutils import Sparse2Corpus"
   ]
  },
  {
   "cell_type": "code",
   "execution_count": null,
   "id": "8e19e554-088d-4710-a1d8-838fbd610a3a",
   "metadata": {},
   "outputs": [],
   "source": [
    "corpus = Sparse2Corpus(tdm.T)\n",
    "corpus"
   ]
  },
  {
   "cell_type": "markdown",
   "id": "e1908d4b-8acf-4b8c-931f-32fcf51dd29e",
   "metadata": {},
   "source": [
    "* 분석"
   ]
  },
  {
   "cell_type": "code",
   "execution_count": null,
   "id": "429b5f5a-14a0-4f3d-b7bb-af463d53e87c",
   "metadata": {},
   "outputs": [],
   "source": [
    "from gensim.models.ldamodel import LdaModel"
   ]
  },
  {
   "cell_type": "code",
   "execution_count": null,
   "id": "68db2c05-9dbd-4590-a14e-06d92b0ce317",
   "metadata": {},
   "outputs": [],
   "source": [
    "lda = LdaModel(corpus=corpus,\n",
    "               num_topics=100,\n",
    "               passes=3,\n",
    "               iterations=100,\n",
    "               id2word=word_dict,\n",
    "               random_state=123)"
   ]
  },
  {
   "cell_type": "code",
   "execution_count": null,
   "id": "c6e1c242-1543-4cfc-a3a5-a71eb590acdd",
   "metadata": {},
   "outputs": [],
   "source": [
    "lda.show_topic(0) "
   ]
  },
  {
   "cell_type": "code",
   "execution_count": null,
   "id": "64a8daeb-692b-4256-bb49-fcc04de09427",
   "metadata": {},
   "outputs": [],
   "source": [
    "lda.show_topic(2)"
   ]
  },
  {
   "cell_type": "markdown",
   "id": "81c57de2-37f3-40d5-849b-41e74b7841a1",
   "metadata": {},
   "source": [
    "* 문서의 주제(비율) 확인"
   ]
  },
  {
   "cell_type": "code",
   "execution_count": null,
   "id": "b4a79226-1020-4450-9134-82838f629ee3",
   "metadata": {},
   "outputs": [],
   "source": [
    "row = tdm[0]\n",
    "doc = list(zip(row.indices, row.data))\n",
    "doc"
   ]
  },
  {
   "cell_type": "code",
   "execution_count": null,
   "id": "e9b89379-18f9-45ec-8a63-5ef603d5c17a",
   "metadata": {},
   "outputs": [],
   "source": [
    "row = tdm[0]  #첫 번째 문서의 [(단어번호,빈도수)..]\n",
    "doc = list(zip(row.indices, row.data))\n",
    "doc"
   ]
  },
  {
   "cell_type": "code",
   "execution_count": null,
   "id": "1d4794f4-fd88-41b7-9364-2ed1e711bc44",
   "metadata": {},
   "outputs": [],
   "source": [
    "doc_words = [(words[i], n) for i, n in doc]\n",
    "doc_words"
   ]
  },
  {
   "cell_type": "markdown",
   "id": "4a4a4104-ba85-4dde-bfa1-664a594d0237",
   "metadata": {},
   "source": [
    "* 문서 토픽(비율) 확인하기"
   ]
  },
  {
   "cell_type": "code",
   "execution_count": null,
   "id": "9a7235c5-703a-4619-b591-a59540646dd4",
   "metadata": {},
   "outputs": [],
   "source": [
    "lda.get_document_topics(doc)"
   ]
  },
  {
   "cell_type": "code",
   "execution_count": null,
   "id": "b3508934-4e72-4459-8f39-7f349ead94f8",
   "metadata": {},
   "outputs": [],
   "source": [
    "lda.show_topic(28)"
   ]
  },
  {
   "cell_type": "markdown",
   "id": "94514853-3663-4464-aaac-1de08f953d3f",
   "metadata": {},
   "source": [
    "* 모형 저장/불러오기"
   ]
  },
  {
   "cell_type": "code",
   "execution_count": null,
   "id": "86425666-4290-4e9b-9eaf-c3b15a054132",
   "metadata": {},
   "outputs": [],
   "source": [
    "lda.save('lda_test.lda')"
   ]
  },
  {
   "cell_type": "code",
   "execution_count": null,
   "id": "1be01258-a1b2-4e6b-9751-3d32a0d81b21",
   "metadata": {},
   "outputs": [],
   "source": [
    "lda2 = LdaModel.load('lda_test.lda')  # 기존 모형과 구분짓기 위해 lda2 로 저장한다."
   ]
  },
  {
   "cell_type": "code",
   "execution_count": null,
   "id": "107b8433-7e4b-413a-8c80-69c3c771d2f9",
   "metadata": {},
   "outputs": [],
   "source": [
    "lda2"
   ]
  },
  {
   "cell_type": "code",
   "execution_count": null,
   "id": "c153108d-ca3e-4a38-a7bd-fca2547ee9ad",
   "metadata": {},
   "outputs": [],
   "source": []
  },
  {
   "cell_type": "markdown",
   "id": "44aa7115-d7d0-428c-8a0d-0c0138226018",
   "metadata": {},
   "source": [
    "<pre>\n",
    "https://doc.mindscale.kr/km/unstructured/1.html , 서론\n",
    "https://doc.mindscale.kr/km/unstructured/2.html , 웹 스크래핑\n",
    "https://doc.mindscale.kr/km/unstructured/3.html , 형태소 분석과 단어 문서 행렬\n",
    "https://doc.mindscale.kr/km/unstructured/4.html , 주제 분석\n",
    "https://doc.mindscale.kr/km/unstructured/5.html , 기계학습과 인공신경망\n",
    "https://doc.mindscale.kr/km/unstructured/6.html , 텍스트의 지도학습\n",
    "https://doc.mindscale.kr/km/unstructured/7.html , 이미지의 지도학습\n",
    "https://doc.mindscale.kr/km/unstructured/8.html , 텍스트의 비지도학습\n",
    "https://doc.mindscale.kr/km/unstructured/9.html , 합성곱 신경망\n",
    "https://doc.mindscale.kr/km/unstructured/10.html , 순환신경망\n",
    "https://doc.mindscale.kr/km/unstructured/11.html , 단어 임베딩\n",
    "https://doc.mindscale.kr/km/unstructured/12.html , 챗봇\n",
    "https://doc.mindscale.kr/km/unstructured/13.html , 기계 번역\n",
    "https://doc.mindscale.kr/km/unstructured/14.html , 주의\n"
   ]
  },
  {
   "cell_type": "markdown",
   "id": "57596a00-67dc-4124-997c-4c1b2c84368c",
   "metadata": {},
   "source": [
    "# 아마존 제품리뷰 TDM - 긍/부정 감정사전\n",
    "* datasets ref : 아마존 리뷰 https://archive.ics.uci.edu/ml/datasets/Sentiment+Labelled+Sentences\n",
    "* datasets ref : 인공지능 관련 뉴스메타데이터 https://www.data.go.kr/dataset/15012945/fileData.do "
   ]
  },
  {
   "cell_type": "code",
   "execution_count": null,
   "id": "a532dc5e-b064-4fdc-84ee-d7d8fb8bb102",
   "metadata": {},
   "outputs": [],
   "source": []
  },
  {
   "cell_type": "code",
   "execution_count": null,
   "id": "08f49cd9-4dbb-4899-a105-ce4a12ff0b63",
   "metadata": {},
   "outputs": [],
   "source": [
    "import pandas as pd"
   ]
  },
  {
   "cell_type": "code",
   "execution_count": null,
   "id": "966625f4-d35d-4327-8b9d-e14ef26bb377",
   "metadata": {},
   "outputs": [],
   "source": [
    "df = pd.read_csv('./datasets_review/amazon_cells_labelled.txt', sep=\"\\t\", header=None)"
   ]
  },
  {
   "cell_type": "code",
   "execution_count": null,
   "id": "52d0b1e7-b029-433a-84f4-5713e2a85169",
   "metadata": {},
   "outputs": [],
   "source": [
    "df.head()"
   ]
  },
  {
   "cell_type": "code",
   "execution_count": null,
   "id": "6286065e-fbf5-43aa-ad43-86cdf2a33b31",
   "metadata": {},
   "outputs": [],
   "source": [
    "content = df[0]\n",
    "sentiment = df[1]"
   ]
  },
  {
   "cell_type": "markdown",
   "id": "fdff4fdd-c319-4b10-ae2a-959a572dc8dc",
   "metadata": {},
   "source": [
    "* TF-IDF 가중치를 사용해 TDM을 만들기"
   ]
  },
  {
   "cell_type": "code",
   "execution_count": null,
   "id": "8ad13b8f-b68c-4726-9bf0-68d483c79772",
   "metadata": {},
   "outputs": [],
   "source": [
    "from sklearn.feature_extraction.text import TfidfVectorizer"
   ]
  },
  {
   "cell_type": "code",
   "execution_count": null,
   "id": "e38ab0f2-5873-4295-861f-e8e7c4f39a1c",
   "metadata": {},
   "outputs": [],
   "source": [
    "tfidf = TfidfVectorizer(stop_words='english',\n",
    "                        lowercase=True,\n",
    "                        max_features=1000)"
   ]
  },
  {
   "cell_type": "code",
   "execution_count": null,
   "id": "87580cef-4240-4e40-8e39-07d24aa4dfb7",
   "metadata": {},
   "outputs": [],
   "source": [
    "tdm = tfidf.fit_transform(content)\n",
    "tdm.toarray()[:2]"
   ]
  },
  {
   "cell_type": "code",
   "execution_count": null,
   "id": "f5e2edf4-7cf8-4c1c-bdd0-e1d022ae7fe0",
   "metadata": {},
   "outputs": [],
   "source": [
    "tfidf.get_feature_names()[-5:]"
   ]
  },
  {
   "cell_type": "markdown",
   "id": "cab7908e-2256-48b5-90f4-2d902f7cbe51",
   "metadata": {},
   "source": [
    "* pickle 저장  : tfidf, tdm, df['sentiment']"
   ]
  },
  {
   "cell_type": "code",
   "execution_count": null,
   "id": "7f8cedbe-eb01-4cee-80ec-5836f417e8e6",
   "metadata": {},
   "outputs": [],
   "source": [
    "import joblib"
   ]
  },
  {
   "cell_type": "code",
   "execution_count": null,
   "id": "517248ef-08f8-452c-bfeb-0301cd3a161b",
   "metadata": {},
   "outputs": [],
   "source": [
    "with open('amazon.pkl', 'wb') as f:\n",
    "    joblib.dump(\n",
    "        {'vectorizer': tfidf, 'tdm': tdm, 'sentiment': sentiment},\n",
    "        f\n",
    "    )"
   ]
  },
  {
   "cell_type": "code",
   "execution_count": null,
   "id": "15f257fc-74e7-45ff-9b49-5ba7dcda1ae3",
   "metadata": {},
   "outputs": [],
   "source": [
    "article = pd.read_csv('./datasets_review/한국언론진흥재단_2019년 12월 정치 분야 고빈도 사용 명사.csv', encoding='cp949', engine='python')\n",
    "article.head()"
   ]
  },
  {
   "cell_type": "markdown",
   "id": "c01dbb6e-04c9-4ba3-a320-c75e6082fe72",
   "metadata": {},
   "source": [
    "## 유클리드 거리"
   ]
  },
  {
   "cell_type": "code",
   "execution_count": null,
   "id": "54eb2753-6c2a-418f-aa63-c66e83199123",
   "metadata": {},
   "outputs": [],
   "source": [
    "from sklearn.metrics.pairwise import euclidean_distances"
   ]
  },
  {
   "cell_type": "code",
   "execution_count": null,
   "id": "00df52f5-4eaa-4f41-9fec-21a9c96caf24",
   "metadata": {},
   "outputs": [],
   "source": [
    "euclidean_distances(tdm[0], tdm[1])  #0 번~1번 기사 거리"
   ]
  },
  {
   "cell_type": "code",
   "execution_count": null,
   "id": "8f84dfb1-f9fe-4222-8344-e0fb5f9c3fc0",
   "metadata": {},
   "outputs": [],
   "source": [
    "# 0번 문서와 유클리드 거리가 가장 가까운 문서를 찾는다.\n",
    "dist = euclidean_distances(tdm[0], tdm[1:])\n",
    "np.argmin(dist) + 1 "
   ]
  },
  {
   "cell_type": "code",
   "execution_count": null,
   "id": "6719c416-8fe4-4876-b93d-2700f475f7f2",
   "metadata": {},
   "outputs": [],
   "source": [
    "article.loc[0, '본문']"
   ]
  },
  {
   "cell_type": "code",
   "execution_count": null,
   "id": "99868ae9-814c-4c23-873b-d70fdec9fd46",
   "metadata": {},
   "outputs": [],
   "source": []
  },
  {
   "cell_type": "markdown",
   "id": "c2ebcf69-179b-4de3-9706-da6beb720d6c",
   "metadata": {},
   "source": [
    "## 코사인 유사도"
   ]
  },
  {
   "cell_type": "code",
   "execution_count": null,
   "id": "94a32cbb-929b-4b8e-871e-ad63ba149661",
   "metadata": {},
   "outputs": [],
   "source": [
    "from sklearn.metrics.pairwise import cosine_similarity"
   ]
  },
  {
   "cell_type": "code",
   "execution_count": null,
   "id": "b6583e50-7c7f-4b35-a570-ead757384c6b",
   "metadata": {},
   "outputs": [],
   "source": [
    "cosine_similarity(tdm[0], tdm[1])"
   ]
  },
  {
   "cell_type": "code",
   "execution_count": null,
   "id": "5fbeadc4-c6e7-49b5-b7e9-9e7face25987",
   "metadata": {},
   "outputs": [],
   "source": [
    "sim = cosine_similarity(tdm[0], tdm[1:])"
   ]
  },
  {
   "cell_type": "code",
   "execution_count": null,
   "id": "ab7232a4-1faa-4f3d-81d8-5bfa957061c3",
   "metadata": {},
   "outputs": [],
   "source": [
    "np.argmax(sim) + 1"
   ]
  },
  {
   "cell_type": "code",
   "execution_count": null,
   "id": "a59ef886-cd6b-4ed9-9da3-58aab1a7a296",
   "metadata": {},
   "outputs": [],
   "source": [
    "article.loc[1394, '본문']"
   ]
  },
  {
   "cell_type": "code",
   "execution_count": null,
   "id": "117349eb-a862-4604-8858-07e3bc85190d",
   "metadata": {},
   "outputs": [],
   "source": []
  },
  {
   "cell_type": "markdown",
   "id": "273ee56d-5b91-474d-9cde-502b9b8297e7",
   "metadata": {},
   "source": [
    "## 문서 클러스터링\n",
    "ref : http://doc.mindscale.kr/km/unstructured/04.html"
   ]
  },
  {
   "cell_type": "code",
   "execution_count": null,
   "id": "e66d6690-e886-4103-8c85-b7363e874b45",
   "metadata": {},
   "outputs": [],
   "source": [
    "import pandas as pd\n",
    "import joblib"
   ]
  },
  {
   "cell_type": "code",
   "execution_count": null,
   "id": "d137fd15-3c27-4a5e-a671-e95da25179bc",
   "metadata": {},
   "outputs": [],
   "source": [
    "with open('amazon.pkl', 'rb') as f:\n",
    "    data = joblib.load(f)\n",
    "locals().update(data)"
   ]
  },
  {
   "cell_type": "code",
   "execution_count": null,
   "id": "d74fffb3-b0a3-4925-838d-ed13964f8e43",
   "metadata": {},
   "outputs": [],
   "source": [
    "df = pd.read_csv('./datasets_review/amazon_cells_labelled.txt', sep=\"\\t\", header=None)"
   ]
  },
  {
   "cell_type": "markdown",
   "id": "60c92143-a7b8-4a66-acbd-d9a3ec9353ca",
   "metadata": {},
   "source": [
    "### 스펙트럴 클러스터링\n",
    "* 그래프 기반 클러스터링의 일종 --> 이웃이 비슷한 것들끼리 묶는다\n",
    "* [step1] 각각의 대상으로부터 유사도 그래프(비슷한 대상들끼리 연결한 그래프)를 만든다\n",
    "* [step2] 라플라시안 행렬(Laplacian matrix)로부터 k개의 고유벡터를 계산하여 각 대상의 특성으로 삼는다\n",
    "* [step3] 위의 특성을 바탕으로 k-means 클러스터링을 한다"
   ]
  },
  {
   "cell_type": "code",
   "execution_count": null,
   "id": "0956eb04-dc9a-4dbb-9084-59a56c182919",
   "metadata": {},
   "outputs": [],
   "source": [
    "from sklearn.cluster import SpectralClustering"
   ]
  },
  {
   "cell_type": "code",
   "execution_count": null,
   "id": "58cdcc1d-4be1-4aa3-80f5-d5f761416b2b",
   "metadata": {},
   "outputs": [],
   "source": [
    "# 문서들을 유클리드 거리를 기준으로 4개의 클러스터로 군집\n",
    "cl = SpectralClustering(n_clusters=4, random_state=1234)\n",
    "labels = cl.fit_predict(tdm[:100])\n",
    "labels"
   ]
  },
  {
   "cell_type": "code",
   "execution_count": null,
   "id": "4c89be05-0184-4990-8ca4-5d44b51b1280",
   "metadata": {},
   "outputs": [],
   "source": [
    "from operator import itemgetter"
   ]
  },
  {
   "cell_type": "code",
   "execution_count": null,
   "id": "8fb5da7e-ad5a-4cc7-8c5e-27ff33f25d7d",
   "metadata": {},
   "outputs": [],
   "source": [
    "# 각 클러스터별 최빈도 단어 \n",
    "words = vectorizer.get_feature_names()\n",
    "\n",
    "def top10(labels):\n",
    "    freq_words = []\n",
    "    for i in range(4):\n",
    "        count = tdm[labels == i, :].sum(axis=0)\n",
    "        ws = [w for w, n in sorted(zip(words, count.flat), key=itemgetter(1), reverse=True)[:10]]\n",
    "        freq_words.append(ws)\n",
    "\n",
    "    return pd.DataFrame(freq_words)"
   ]
  },
  {
   "cell_type": "code",
   "execution_count": null,
   "id": "2812768c-dced-4a02-8c86-5a8f93015a9e",
   "metadata": {},
   "outputs": [],
   "source": [
    "top10(labels)"
   ]
  },
  {
   "cell_type": "code",
   "execution_count": null,
   "id": "94c4034c-490e-4c67-81be-412846accfb4",
   "metadata": {},
   "outputs": [],
   "source": [
    "# 코사인 유사도를 바탕으로 클러스터링"
   ]
  },
  {
   "cell_type": "code",
   "execution_count": null,
   "id": "5b72b299-52a8-4f8d-91c8-de69e6fdec2b",
   "metadata": {},
   "outputs": [],
   "source": [
    "from sklearn.metrics.pairwise import cosine_similarity"
   ]
  },
  {
   "cell_type": "code",
   "execution_count": null,
   "id": "e1503b1c-18fc-4268-a8cb-b71ac1dc46cf",
   "metadata": {},
   "outputs": [],
   "source": [
    "cl_cos = SpectralClustering(n_clusters=4, affinity=cosine_similarity, random_state=1234)\n",
    "labels_cos = cl_cos.fit_predict(tdm[:100])\n",
    "top10(labels_cos)"
   ]
  },
  {
   "cell_type": "markdown",
   "id": "76111c3b-69ed-426a-946b-af7e20a6550e",
   "metadata": {
    "tags": []
   },
   "source": [
    "### KMeans 클러스터링\n",
    "* k개의 평균들 : 데이터와 군집의 중심점의 거리를 재서, 그 거리가 가장 가까운 군집으로 묶는다\n",
    "* [step1] k개의 중심점을 무작위로 정한다. \n",
    "* [step2] 중심점과 거리를 재서 가장 가까운 군집에 모든 데이터를 할당한다.\n",
    "* [step3] 군집에 속한 멤버들의 평균을 내서 중심점을 정한다. \n",
    "* [step4] 더이상 중심점에 변화가 없을 때까지 2~3을 반복<br>\n",
    "<img src=\"./img/img12.png\" width=400> "
   ]
  },
  {
   "cell_type": "code",
   "execution_count": null,
   "id": "7ed49639-67ac-4009-8efb-8675d998f09f",
   "metadata": {},
   "outputs": [],
   "source": [
    "from sklearn.cluster import KMeans"
   ]
  },
  {
   "cell_type": "code",
   "execution_count": null,
   "id": "4a0d0614-e756-4317-8d04-0fe8c6211988",
   "metadata": {},
   "outputs": [],
   "source": [
    "km = KMeans(n_clusters=4, random_state=1234)\n",
    "labels_km = km.fit_predict(tdm)\n",
    "top10(labels_km)"
   ]
  },
  {
   "cell_type": "markdown",
   "id": "c68756dd-3097-4ea7-b4c6-2a234805b63b",
   "metadata": {},
   "source": [
    "* 정규화 후 KMeans"
   ]
  },
  {
   "cell_type": "code",
   "execution_count": null,
   "id": "2f748978-591a-4ff5-ac09-ae8f621d77fd",
   "metadata": {},
   "outputs": [],
   "source": [
    "from sklearn.preprocessing import Normalizer"
   ]
  },
  {
   "cell_type": "code",
   "execution_count": null,
   "id": "3c51eef2-48c7-4c36-bf85-f5ae46a16428",
   "metadata": {},
   "outputs": [],
   "source": [
    "nom = Normalizer(copy=False)\n",
    "pos = nom.fit_transform(tdm)\n",
    "km = KMeans(n_clusters=4, random_state=1234)\n",
    "labels_nom = km.fit_predict(tdm)\n",
    "top10(labels_nom)"
   ]
  },
  {
   "cell_type": "markdown",
   "id": "e45f614b-3f44-4d08-a7b8-9fe4a7ac71b5",
   "metadata": {},
   "source": [
    "# 잠재 의미 분석(LSA : Latent Semantic Analysis)\n",
    "* TDM에 특이값 분해를 적용하여 차원을 축소하는 것\n",
    "* 예) \n",
    "    - 유사의미 : \"고양이 좋다\" \"고양이 귀엽다\"\n",
    "    - 다른의미, 단어문서행렬 거리는 같다 :  \"고양이 좋다\" \"강아지 좋다\" "
   ]
  },
  {
   "cell_type": "code",
   "execution_count": null,
   "id": "62040039-a108-47a2-bfef-1c23327b6197",
   "metadata": {},
   "outputs": [],
   "source": [
    "import pandas as pd"
   ]
  },
  {
   "cell_type": "code",
   "execution_count": null,
   "id": "fa838e7e-7ac7-47c1-bb79-72072a04af65",
   "metadata": {},
   "outputs": [],
   "source": [
    "with open('amazon.pkl', 'rb') as f:\n",
    "    data = joblib.load(f)\n",
    "locals().update(data)\n",
    "tdm.shape"
   ]
  },
  {
   "cell_type": "markdown",
   "id": "c6998514-1ba6-4706-9e23-fffce5f74aa8",
   "metadata": {},
   "source": [
    "*  LSA 적용 : 특이값 분해로 차원 축소"
   ]
  },
  {
   "cell_type": "code",
   "execution_count": null,
   "id": "093c388a-ffef-44a6-9eb0-5ef4c5099782",
   "metadata": {},
   "outputs": [],
   "source": [
    "from sklearn.decomposition import TruncatedSVD"
   ]
  },
  {
   "cell_type": "code",
   "execution_count": null,
   "id": "648c7b5a-7891-447a-8090-e2b8077632fe",
   "metadata": {},
   "outputs": [],
   "source": [
    "svd = TruncatedSVD(n_components=30)\n",
    "pos = svd.fit_transform(tdm)\n",
    "pos.shape"
   ]
  },
  {
   "cell_type": "code",
   "execution_count": null,
   "id": "37fb6553-ec2a-4fd8-92bf-e07bae97df51",
   "metadata": {},
   "outputs": [],
   "source": [
    "import matplotlib.pyplot as plt"
   ]
  },
  {
   "cell_type": "code",
   "execution_count": null,
   "id": "630472a4-0e4e-4f62-bc42-0fd6424b0787",
   "metadata": {},
   "outputs": [],
   "source": [
    "dim1 = 0\n",
    "dim2 = 1\n",
    "plt.plot(pos[sentiment == 1, dim1], pos[sentiment == 1, dim2], 'ro')  # 긍정적인 코멘트 (빨간색)\n",
    "plt.plot(pos[sentiment == 0, dim1], pos[sentiment == 0, dim2], 'bo')  # 부정적인 코멘트 (파란색)"
   ]
  },
  {
   "cell_type": "markdown",
   "id": "f2641de1-4574-459d-a4e6-0016eccb18b5",
   "metadata": {},
   "source": [
    "* 노멀라이징 : 문서 길이에 따라 좌표가 달라진다. 이 영향을 제거하기 위해 문서의 원점에서 거리를 1로 변환"
   ]
  },
  {
   "cell_type": "code",
   "execution_count": null,
   "id": "21777e5c-b153-4138-947f-46c54a6df335",
   "metadata": {},
   "outputs": [],
   "source": [
    "from sklearn.preprocessing import Normalizer\n",
    "norm = Normalizer(copy=False)\n",
    "pos2 = norm.fit_transform(pos)\n",
    "dim1 = 0\n",
    "dim2 = 1\n",
    "plt.plot(pos2[sentiment == 1, dim1], pos2[sentiment == 1, dim2], 'ro')  # 긍정적인 코멘트 (빨간색)\n",
    "plt.plot(pos2[sentiment == 0, dim1], pos2[sentiment == 0, dim2], 'bo')  # 부정적인 코멘트 (파란색)"
   ]
  },
  {
   "cell_type": "markdown",
   "id": "2c1b7b46-6ba5-45a9-979a-ca0567419e4d",
   "metadata": {},
   "source": [
    "* 파이프라인 = LSA + 노멀라이징"
   ]
  },
  {
   "cell_type": "code",
   "execution_count": null,
   "id": "070ce10f-d335-4e8e-b081-2beb05c67273",
   "metadata": {},
   "outputs": [],
   "source": [
    "from sklearn.pipeline import make_pipeline\n",
    "lsa = make_pipeline(svd, norm)\n",
    "lsa.transform(tdm)"
   ]
  },
  {
   "cell_type": "markdown",
   "id": "1cf764c0-3440-403d-ba66-c3408b0ebc6a",
   "metadata": {},
   "source": [
    "## 잠재 디리클레 할당(LDA, Latent Dirichlet Allocation)\n",
    "* 사람의 개입 없이 이러한 단어들이 하나의 주제를 이룬다는 것을 컴퓨터가 스스로 발견하는 것이 LDA의 핵심\n",
    "* 흔히 사용되는 클러스터링에서 하나의 문서는 오직 하나의 클러스터에만 속한다. 반면 LDA는 하나의 문서가 여러 가지 주제를 가질 수 있다.\n",
    "* 베이지언 통계학에 바탕을 둔 비지도 텍스트 분석 방법\n",
    "* 분석에 이론적 가정 추가 가능 : 간에 따른 변화, 저자의 독특한 개성 등을 포함시켜 분석 가능\n",
    "* 각각의 문서는 여러 주제들이 섞여 있다 = '주제'(topic)는 단어의 분포다 = 한 문서의 단어들은 문서를 이루는 주제에서 나온 것이다"
   ]
  },
  {
   "cell_type": "code",
   "execution_count": null,
   "id": "0efb9221-19a2-4e69-a6fe-8ee966af93bc",
   "metadata": {},
   "outputs": [],
   "source": [
    "# !pip install gensim"
   ]
  },
  {
   "cell_type": "code",
   "execution_count": null,
   "id": "73dbfaa7-19d7-4e43-b97a-d40b19c4a95e",
   "metadata": {},
   "outputs": [],
   "source": [
    "import pandas as pd\n",
    "import joblib"
   ]
  },
  {
   "cell_type": "code",
   "execution_count": null,
   "id": "5fe567fa-4fbc-4f8e-bc92-958177d5af66",
   "metadata": {},
   "outputs": [],
   "source": [
    "with open('ai_news.pkl', 'rb') as f:\n",
    "    data = joblib.load(f)\n",
    "locals().update(data)"
   ]
  },
  {
   "cell_type": "code",
   "execution_count": null,
   "id": "1641f940-3634-4e33-b2cc-462d8f36a97e",
   "metadata": {},
   "outputs": [],
   "source": [
    "words = vectorizer.get_feature_names()\n",
    "word_dict = dict(enumerate(words))  #{단어 번호: 단어} 형태의 딕셔너리로 변환\n",
    "word_dict[0]   #'4차 산업'\n",
    "word_dict[100] #'광주'"
   ]
  },
  {
   "cell_type": "markdown",
   "id": "e91d0f54-e84d-48dc-9ba4-cd306ce9230b",
   "metadata": {},
   "source": [
    "* gensim 형식으로 변환"
   ]
  },
  {
   "cell_type": "code",
   "execution_count": null,
   "id": "906c064c-d6b0-4c4d-a71f-34aaaf7ebea8",
   "metadata": {},
   "outputs": [],
   "source": [
    "from gensim.matutils import Sparse2Corpus"
   ]
  },
  {
   "cell_type": "code",
   "execution_count": null,
   "id": "5e191d00-d729-4343-91b2-560f8325cc52",
   "metadata": {},
   "outputs": [],
   "source": [
    "corpus = Sparse2Corpus(tdm.T)\n",
    "corpus"
   ]
  },
  {
   "cell_type": "markdown",
   "id": "8bedc4f0-3a87-4cb4-a56f-0dadb8683327",
   "metadata": {},
   "source": [
    "* 분석"
   ]
  },
  {
   "cell_type": "code",
   "execution_count": null,
   "id": "cb0c199f-7b80-4d82-a170-8329fcf23ca7",
   "metadata": {},
   "outputs": [],
   "source": [
    "from gensim.models.ldamodel import LdaModel"
   ]
  },
  {
   "cell_type": "code",
   "execution_count": null,
   "id": "608e50d7-f565-4f28-b0cb-a4deb2f93b4d",
   "metadata": {},
   "outputs": [],
   "source": [
    "lda = LdaModel(corpus=corpus,\n",
    "               num_topics=100,\n",
    "               passes=3,\n",
    "               iterations=100,\n",
    "               id2word=word_dict,\n",
    "               random_state=123)"
   ]
  },
  {
   "cell_type": "code",
   "execution_count": null,
   "id": "f3386201-8eb0-4182-9168-6012244dd853",
   "metadata": {},
   "outputs": [],
   "source": [
    "lda.show_topic(0) "
   ]
  },
  {
   "cell_type": "code",
   "execution_count": null,
   "id": "fc761528-7931-45b1-90b7-6cc923f005f7",
   "metadata": {},
   "outputs": [],
   "source": [
    "lda.show_topic(2)"
   ]
  },
  {
   "cell_type": "markdown",
   "id": "01bf2c5a-9b44-4ba5-920b-319b2ce22f20",
   "metadata": {},
   "source": [
    "* 문서의 주제(비율) 확인"
   ]
  },
  {
   "cell_type": "code",
   "execution_count": null,
   "id": "29704d51-c63d-4fd0-8c3c-bcf9e5132f9b",
   "metadata": {},
   "outputs": [],
   "source": [
    "row = tdm[0]\n",
    "doc = list(zip(row.indices, row.data))\n",
    "doc"
   ]
  },
  {
   "cell_type": "code",
   "execution_count": null,
   "id": "9bb69469-11ee-49a1-901f-77bd1081303c",
   "metadata": {},
   "outputs": [],
   "source": [
    "row = tdm[0]  #첫 번째 문서의 [(단어번호,빈도수)..]\n",
    "doc = list(zip(row.indices, row.data))\n",
    "doc"
   ]
  },
  {
   "cell_type": "code",
   "execution_count": null,
   "id": "dca65a55-c7d5-4f77-bc94-019274cb8ae5",
   "metadata": {},
   "outputs": [],
   "source": [
    "doc_words = [(words[i], n) for i, n in doc]\n",
    "doc_words"
   ]
  },
  {
   "cell_type": "markdown",
   "id": "c14927b2-4a03-4c88-976b-e4e627a444c2",
   "metadata": {},
   "source": [
    "* 문서 토픽(비율) 확인하기"
   ]
  },
  {
   "cell_type": "code",
   "execution_count": null,
   "id": "53dd77e2-1b1d-4905-9232-d3a4ca6d26f7",
   "metadata": {},
   "outputs": [],
   "source": [
    "lda.get_document_topics(doc)"
   ]
  },
  {
   "cell_type": "code",
   "execution_count": null,
   "id": "1d83f862-bc81-4ee3-97fe-1d8c95cc4582",
   "metadata": {},
   "outputs": [],
   "source": [
    "lda.show_topic(28)"
   ]
  },
  {
   "cell_type": "markdown",
   "id": "bcf0dea5-bbae-4e9f-97bd-5fa5be2f427e",
   "metadata": {},
   "source": [
    "* 모형 저장/불러오기"
   ]
  },
  {
   "cell_type": "code",
   "execution_count": null,
   "id": "028f4d16-f9d0-4a00-b4d4-f58ba7b1ec1e",
   "metadata": {},
   "outputs": [],
   "source": [
    "lda.save('lda_test.lda')"
   ]
  },
  {
   "cell_type": "code",
   "execution_count": null,
   "id": "aa225a12-7092-43e7-9adb-db5bd0bebbfc",
   "metadata": {},
   "outputs": [],
   "source": [
    "lda2 = LdaModel.load('lda_test.lda')  # 기존 모형과 구분짓기 위해 lda2 로 저장한다."
   ]
  },
  {
   "cell_type": "code",
   "execution_count": null,
   "id": "7b125a06-1734-4162-9c9a-c36acaba60ba",
   "metadata": {},
   "outputs": [],
   "source": [
    "lda2"
   ]
  },
  {
   "cell_type": "code",
   "execution_count": null,
   "id": "5b7efd4f-279c-43fa-88b7-8381c98c720c",
   "metadata": {},
   "outputs": [],
   "source": []
  },
  {
   "cell_type": "markdown",
   "id": "bb5e9c73-e391-4768-b093-5947014f29e7",
   "metadata": {},
   "source": [
    "<pre>\n",
    "https://doc.mindscale.kr/km/unstructured/1.html , 서론\n",
    "https://doc.mindscale.kr/km/unstructured/2.html , 웹 스크래핑\n",
    "https://doc.mindscale.kr/km/unstructured/3.html , 형태소 분석과 단어 문서 행렬\n",
    "https://doc.mindscale.kr/km/unstructured/4.html , 주제 분석\n",
    "https://doc.mindscale.kr/km/unstructured/5.html , 기계학습과 인공신경망\n",
    "https://doc.mindscale.kr/km/unstructured/6.html , 텍스트의 지도학습\n",
    "https://doc.mindscale.kr/km/unstructured/7.html , 이미지의 지도학습\n",
    "https://doc.mindscale.kr/km/unstructured/8.html , 텍스트의 비지도학습\n",
    "https://doc.mindscale.kr/km/unstructured/9.html , 합성곱 신경망\n",
    "https://doc.mindscale.kr/km/unstructured/10.html , 순환신경망\n",
    "https://doc.mindscale.kr/km/unstructured/11.html , 단어 임베딩\n",
    "https://doc.mindscale.kr/km/unstructured/12.html , 챗봇\n",
    "https://doc.mindscale.kr/km/unstructured/13.html , 기계 번역\n",
    "https://doc.mindscale.kr/km/unstructured/14.html , 주의\n"
   ]
  }
 ],
 "metadata": {
  "kernelspec": {
   "display_name": "Python 3 (ipykernel)",
   "language": "python",
   "name": "python3"
  },
  "language_info": {
   "codemirror_mode": {
    "name": "ipython",
    "version": 3
   },
   "file_extension": ".py",
   "mimetype": "text/x-python",
   "name": "python",
   "nbconvert_exporter": "python",
   "pygments_lexer": "ipython3",
   "version": "3.8.8"
  }
 },
 "nbformat": 4,
 "nbformat_minor": 5
}
