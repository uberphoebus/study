{
 "cells": [
  {
   "cell_type": "code",
   "execution_count": 42,
   "id": "2ebaa259-5b43-430b-98da-a40c1e2da78e",
   "metadata": {},
   "outputs": [],
   "source": [
    "import numpy as np\n",
    "import pandas as pd\n",
    "\n",
    "import matplotlib as mpl\n",
    "import matplotlib.pyplot as plt\n",
    "import seaborn as sns\n",
    "\n",
    "from sklearn.datasets import fetch_20newsgroups\n",
    "from sklearn.model_selection import GridSearchCV\n",
    "from sklearn.pipeline import Pipeline\n",
    "\n",
    "import warnings\n",
    "warnings.filterwarnings(\"ignore\")"
   ]
  },
  {
   "cell_type": "code",
   "execution_count": 2,
   "id": "614540ff-7186-4b64-99e6-400b9661639b",
   "metadata": {},
   "outputs": [],
   "source": [
    "mpl.rc('font', family='NanumGothic') # 폰트 설정\n",
    "mpl.rc('axes', unicode_minus=False) # 유니코드에서 음수 부호 설정\n",
    "\n",
    "# 차트 스타일 설정\n",
    "sns.set(font=\"NanumGothic\", rc={\"axes.unicode_minus\":False}, style='darkgrid')\n",
    "plt.rc(\"figure\", figsize=(10,8))\n",
    "\n"
   ]
  },
  {
   "cell_type": "code",
   "execution_count": null,
   "id": "bf1b7d35-5f93-45cf-b7da-12a2f9375b94",
   "metadata": {},
   "outputs": [],
   "source": [
    "## "
   ]
  },
  {
   "cell_type": "code",
   "execution_count": 5,
   "id": "bc795915-e458-443d-9308-1f3b2ba1a0ee",
   "metadata": {},
   "outputs": [],
   "source": [
    "news_data = fetch_20newsgroups(subset='all',random_state=156)"
   ]
  },
  {
   "cell_type": "code",
   "execution_count": 10,
   "id": "fc53b559-ea06-47f5-8e98-a895aa29f6c3",
   "metadata": {},
   "outputs": [
    {
     "data": {
      "text/plain": [
       "'From: egreen@east.sun.com (Ed Green - Pixel Cruncher)\\nSubject: Re: Observation re: helmets\\nOrganization: Sun Microsystems, RTP, NC\\nLines: 21\\nDistribution: world\\nReply-To: egreen@east.sun.com\\nNNTP-Posting-Host: laser.east.sun.com\\n\\nIn article 211353@mavenry.altcit.eskimo.com, maven@mavenry.altcit.eskimo.com (Norman Hamer) writes:\\n> \\n> The question for the day is re: passenger helmets, if you don\\'t know for \\n>certain who\\'s gonna ride with you (like say you meet them at a .... church \\n>meeting, yeah, that\\'s the ticket)... What are some guidelines? Should I just \\n>pick up another shoei in my size to have a backup helmet (XL), or should I \\n>maybe get an inexpensive one of a smaller size to accomodate my likely \\n>passenger? \\n\\nIf your primary concern is protecting the passenger in the event of a\\ncrash, have him or her fitted for a helmet that is their size.  If your\\nprimary concern is complying with stupid helmet laws, carry a real big\\nspare (you can put a big or small head in a big helmet, but not in a\\nsmall one).\\n\\n---\\nEd Green, former Ninjaite |I was drinking last night with a biker,\\n  Ed.Green@East.Sun.COM   |and I showed him a picture of you.  I said,\\nDoD #0111  (919)460-8302  |\"Go on, get to know her, you\\'ll like her!\"\\n (The Grateful Dead) -->  |It seemed like the least I could do...\\n\\n'"
      ]
     },
     "execution_count": 10,
     "metadata": {},
     "output_type": "execute_result"
    }
   ],
   "source": [
    "news_data['data'][0]"
   ]
  },
  {
   "cell_type": "code",
   "execution_count": 6,
   "id": "9ac84d7f-bc56-48cf-b716-879e82acd0cc",
   "metadata": {},
   "outputs": [
    {
     "data": {
      "text/plain": [
       "dict_keys(['data', 'filenames', 'target_names', 'target', 'DESCR'])"
      ]
     },
     "execution_count": 6,
     "metadata": {},
     "output_type": "execute_result"
    }
   ],
   "source": [
    "news_data.keys()  #dict_keys(['data', 'filenames', 'target_names', 'target', 'DESCR'])"
   ]
  },
  {
   "cell_type": "code",
   "execution_count": 24,
   "id": "5511108b-a674-41cf-bb2a-a02a36718ee8",
   "metadata": {},
   "outputs": [
    {
     "name": "stdout",
     "output_type": "stream",
     "text": [
      "['alt.atheism', 'comp.graphics', 'comp.os.ms-windows.misc', 'comp.sys.ibm.pc.hardware', 'comp.sys.mac.hardware'] ...\n",
      "[ 8  8 12 10  6] ...\n"
     ]
    }
   ],
   "source": [
    "print(news_data['target_names'][:5],\"...\")\n",
    "print(news_data['target'][:5],\"...\")"
   ]
  },
  {
   "cell_type": "markdown",
   "id": "4edc8c20-78df-4cb9-a7dd-b841767dcef5",
   "metadata": {},
   "source": [
    "* target : 0 ~ 19"
   ]
  },
  {
   "cell_type": "code",
   "execution_count": 28,
   "id": "9e31782d-2146-4845-a6db-247d6da04fc6",
   "metadata": {},
   "outputs": [
    {
     "name": "stdout",
     "output_type": "stream",
     "text": [
      "target 분포도\n"
     ]
    },
    {
     "data": {
      "text/plain": [
       "0    799\n",
       "1    973\n",
       "2    985\n",
       "3    982\n",
       "4    963\n",
       "dtype: int64"
      ]
     },
     "execution_count": 28,
     "metadata": {},
     "output_type": "execute_result"
    }
   ],
   "source": [
    "print(\"target 분포도\")\n",
    "pd.Series(news_data['target']).value_counts().sort_index()[:5]"
   ]
  },
  {
   "cell_type": "markdown",
   "id": "ada3237a-7f9a-4b49-9528-ef0d5d3aca6d",
   "metadata": {},
   "source": [
    "### train_test_split"
   ]
  },
  {
   "cell_type": "code",
   "execution_count": 30,
   "id": "1eceec51-8388-4683-81d1-a5fbe7bb4e30",
   "metadata": {},
   "outputs": [
    {
     "name": "stdout",
     "output_type": "stream",
     "text": [
      "<class 'list'>\n",
      "학습 데이터 크기 11314 , 테스트 데이터 크기 7532\n"
     ]
    }
   ],
   "source": [
    "# train set, 내용 외 정보 제거\n",
    "train_news= fetch_20newsgroups(subset='train', remove=('headers', 'footers', 'quotes'), random_state=156)\n",
    "X_train = train_news.data\n",
    "y_train = train_news.target\n",
    "print(type(X_train))\n",
    "\n",
    "# test set, 내용 외 정보 제거\n",
    "test_news= fetch_20newsgroups(subset='test',remove=('headers', 'footers','quotes'),random_state=156)\n",
    "X_test = test_news.data\n",
    "y_test = test_news.target\n",
    "\n",
    "print(f'학습 데이터 크기 {len(train_news.data)} , 테스트 데이터 크기 {len(test_news.data)}')  #학습 데이터 크기 11314 , 테스트 데이터 크기 7532"
   ]
  },
  {
   "cell_type": "markdown",
   "id": "2907efc2-b414-48f5-8e52-9b17a2386f38",
   "metadata": {},
   "source": [
    "### 피처 벡터화"
   ]
  },
  {
   "cell_type": "code",
   "execution_count": 32,
   "id": "57a1a84a-4d58-40ba-83d5-4faa27641d25",
   "metadata": {},
   "outputs": [
    {
     "name": "stdout",
     "output_type": "stream",
     "text": [
      "학습 데이터 Text의 CountVectorizer Shape: (11314, 101631)\n"
     ]
    }
   ],
   "source": [
    "from sklearn.feature_extraction.text import CountVectorizer\n",
    "\n",
    "# Count Vectorization: train\n",
    "cnt_vect = CountVectorizer()\n",
    "cnt_vect.fit(X_train)\n",
    "X_train_cnt_vect = cnt_vect.transform(X_train)\n",
    "\n",
    "# Count Vectorization: test\n",
    "X_test_cnt_vect = cnt_vect.transform(X_test)\n",
    "\n",
    "print(f\"학습 데이터 Text의 CountVectorizer Shape: {X_train_cnt_vect.shape}\")"
   ]
  },
  {
   "cell_type": "markdown",
   "id": "7b53822f-5994-4a49-b18e-56b90974227a",
   "metadata": {
    "tags": []
   },
   "source": [
    "### 1차 점수 : ML"
   ]
  },
  {
   "cell_type": "code",
   "execution_count": 36,
   "id": "925dbd02-5a48-44ad-bc02-c90657842458",
   "metadata": {},
   "outputs": [
    {
     "name": "stdout",
     "output_type": "stream",
     "text": [
      "CountVectorized + Logistic Regression 예측 정확도: 0.605\n"
     ]
    }
   ],
   "source": [
    "from sklearn.linear_model import LogisticRegression\n",
    "from sklearn.metrics import accuracy_score\n",
    "from sklearn.model_selection import GridSearchCV\n",
    "\n",
    "\n",
    "# LogisticRegression\n",
    "lr_clf = LogisticRegression()\n",
    "lr_clf.fit(X_train_cnt_vect , y_train)\n",
    "pred = lr_clf.predict(X_test_cnt_vect)\n",
    "lr_acc = accuracy_score(y_test, pred)\n",
    "\n",
    "print(f\"CountVectorized + Logistic Regression 예측 정확도: {lr_acc:.3f}\")"
   ]
  },
  {
   "cell_type": "markdown",
   "id": "5af145c8-504f-4146-950e-52ae83ea9f79",
   "metadata": {},
   "source": [
    "### 2차 점수 :  TF-IDF 벡터화 : 0.674"
   ]
  },
  {
   "cell_type": "code",
   "execution_count": 38,
   "id": "45044f38-f783-45d6-9b74-4aac7d106baf",
   "metadata": {},
   "outputs": [
    {
     "name": "stdout",
     "output_type": "stream",
     "text": [
      "TF-IDF 정확도: 0.674\n"
     ]
    }
   ],
   "source": [
    "from sklearn.feature_extraction.text import TfidfVectorizer\n",
    "\n",
    "# TF-IDF Vectorization: train\n",
    "tfidf_vect = TfidfVectorizer()\n",
    "tfidf_vect.fit(X_train)\n",
    "X_train_tfidf_vect = tfidf_vect.transform(X_train)\n",
    "\n",
    "# TF-IDF Vectorization: test\n",
    "X_test_tfidf_vect = tfidf_vect.transform(X_test)\n",
    "\n",
    "# LogisticRegression\n",
    "lr_clf = LogisticRegression()\n",
    "lr_clf.fit(X_train_tfidf_vect , y_train)\n",
    "pred = lr_clf.predict(X_test_tfidf_vect)\n",
    "lr_acc = accuracy_score(y_test, pred)\n",
    "\n",
    "print(f\"TF-IDF 정확도: {lr_acc:.3f}\")  # 0.674"
   ]
  },
  {
   "cell_type": "markdown",
   "id": "51ed960c-a2df-49b4-84a8-98da0be30355",
   "metadata": {},
   "source": [
    "### 3차 점수 : TF-IDF 튜닝 : 0.692\n",
    "* stop_words='english' \n",
    "* ngram_range=(1,2)"
   ]
  },
  {
   "cell_type": "code",
   "execution_count": 39,
   "id": "7ae914a3-1ed7-4e4e-8b44-a4112ed01eff",
   "metadata": {},
   "outputs": [
    {
     "name": "stdout",
     "output_type": "stream",
     "text": [
      "TF-IDF 튜닝 정확도: 0.692\n"
     ]
    }
   ],
   "source": [
    "# TF-IDF Vectorization: train\n",
    "tfidf_vect = TfidfVectorizer(stop_words='english', ngram_range=(1,2), max_df=300 )\n",
    "tfidf_vect.fit(X_train)\n",
    "X_train_tfidf_vect = tfidf_vect.transform(X_train)\n",
    "\n",
    "# TF-IDF Vectorization: test\n",
    "X_test_tfidf_vect = tfidf_vect.transform(X_test)\n",
    "\n",
    "# LogisticRegression\n",
    "lr_clf = LogisticRegression()\n",
    "lr_clf.fit(X_train_tfidf_vect , y_train)\n",
    "pred = lr_clf.predict(X_test_tfidf_vect)\n",
    "lr_acc = accuracy_score(y_test, pred)\n",
    "\n",
    "print(f\"TF-IDF 튜닝 정확도: {lr_acc:.3f}\")       #0.692"
   ]
  },
  {
   "cell_type": "markdown",
   "id": "b6a82f8d-ab43-4f25-ac41-a0d0456467af",
   "metadata": {},
   "source": [
    "### 4차 점수 : Model 튜닝 : 실행불가... 코랩으로 0.70"
   ]
  },
  {
   "cell_type": "code",
   "execution_count": null,
   "id": "daa44f00-5338-43fc-89ef-9c75b3e749e3",
   "metadata": {},
   "outputs": [
    {
     "name": "stdout",
     "output_type": "stream",
     "text": [
      "Fitting 3 folds for each of 5 candidates, totalling 15 fits\n"
     ]
    },
    {
     "name": "stderr",
     "output_type": "stream",
     "text": [
      "[Parallel(n_jobs=1)]: Using backend SequentialBackend with 1 concurrent workers.\n"
     ]
    }
   ],
   "source": [
    "# 최적 하이퍼 파라미터: C\n",
    "params = { \"C\":[0.01, 0.1, 1, 5, 10] }\n",
    "cv_model = GridSearchCV(lr_clf ,param_grid = params , cv=3 , scoring='accuracy' , verbose=1 )\n",
    "cv_model.fit(X_train_tfidf_vect , y_train)\n",
    "print('Logistic Regression best C parameter :',grid_cv_lr.best_params_ )\n",
    "\n",
    "# 최적 C 값으로 학습된 grid_cv로 예측/평가\n",
    "pred = cv_model.predict(X_test_tfidf_vect)\n",
    "lr_acc = accuracy_score(y_test, pred)\n",
    "\n",
    "print(f\"CV 정확도: {lr_acc:.3f}\")"
   ]
  },
  {
   "cell_type": "markdown",
   "id": "deb81f07-505f-4aee-93fe-9b7f2e50fffc",
   "metadata": {},
   "source": [
    "### 5차 점수 : pipeline + GridSearchCV"
   ]
  },
  {
   "cell_type": "markdown",
   "id": "5c9cb55e-c6e3-4ff1-bff3-df5b7f75bfc6",
   "metadata": {},
   "source": [
    "* pipeline : TfidfVectorizer + LogisticRegression"
   ]
  },
  {
   "cell_type": "code",
   "execution_count": null,
   "id": "908e234d-302a-4348-bf5f-7bc2076877bd",
   "metadata": {},
   "outputs": [],
   "source": [
    "pipeline = Pipeline([\n",
    "    ('tfidf_vect', TfidfVectorizer(stop_words='english', ngram_range=(1,2), max_df=300)),\n",
    "    ('lr_clf', LogisticRegression(C=10))\n",
    "])\n",
    "pipeline.fit(X_train, y_train)\n",
    "pred = pipeline.predict(X_test)\n",
    "lr_acc = accuracy_score(y_test, pred)\n",
    "print(f\"pipeline 정확도: {lr_acc:.3f}\")"
   ]
  },
  {
   "cell_type": "markdown",
   "id": "84ce4aef-b1e1-40e3-afec-4babd0c38a9f",
   "metadata": {},
   "source": [
    "*  pipeline +  GridSearchCV"
   ]
  },
  {
   "cell_type": "code",
   "execution_count": 45,
   "id": "1c204a13-1f26-46fc-94d9-21ea992b6471",
   "metadata": {},
   "outputs": [],
   "source": [
    "# Pipeline 파라미터\n",
    "pipeline = Pipeline([\n",
    "    ('tfidf_vect', TfidfVectorizer(stop_words='english', ngram_range=(1,2), max_df=300)),\n",
    "    ('lr_clf', LogisticRegression(C=10))\n",
    "])\n",
    "\n",
    "# GridSearchCV + Pipeline\n",
    "params = { 'tfidf_vect__ngram_range': [(1,1), (1,2), (1,3)],\n",
    "           'tfidf_vect__max_df': [100, 300, 700],\n",
    "           'lr_clf__C': [1,5,10]\n",
    "}\n",
    "grid_cv_pipe = GridSearchCV(pipeline, param_grid = params, cv=3 , scoring='accuracy', verbose=1)\n",
    "grid_cv_pipe.fit(X_train , y_train)\n",
    "print(grid_cv_pipe.best_params_ , grid_cv_pipe.best_score_)\n",
    "\n",
    "pred = grid_cv_pipe.predict(X_test)\n",
    "lr_acc = accuracy_score(y_test, pred)\n",
    "\n",
    "print(f'Pipeline + CV 정확도: {lr_acc:.3f}')"
   ]
  },
  {
   "cell_type": "code",
   "execution_count": null,
   "id": "cb0d5bd8-c73e-4217-beb0-b04a2dd73098",
   "metadata": {},
   "outputs": [],
   "source": []
  },
  {
   "cell_type": "code",
   "execution_count": null,
   "id": "725db333-cc4f-44c5-b019-00a8d0971b3a",
   "metadata": {},
   "outputs": [],
   "source": []
  }
 ],
 "metadata": {
  "kernelspec": {
   "display_name": "Python 3 (ipykernel)",
   "language": "python",
   "name": "python3"
  },
  "language_info": {
   "codemirror_mode": {
    "name": "ipython",
    "version": 3
   },
   "file_extension": ".py",
   "mimetype": "text/x-python",
   "name": "python",
   "nbconvert_exporter": "python",
   "pygments_lexer": "ipython3",
   "version": "3.8.8"
  },
  "toc-autonumbering": false,
  "toc-showcode": true,
  "toc-showmarkdowntxt": false
 },
 "nbformat": 4,
 "nbformat_minor": 5
}
