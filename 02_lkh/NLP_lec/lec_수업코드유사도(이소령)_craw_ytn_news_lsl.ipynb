{
 "cells": [
  {
   "cell_type": "code",
   "execution_count": 31,
   "metadata": {},
   "outputs": [],
   "source": [
    "import pandas as pd"
   ]
  },
  {
   "cell_type": "code",
   "execution_count": 32,
   "metadata": {},
   "outputs": [],
   "source": [
    "df = pd.read_csv('./craw_ytn_news_lkh.csv')"
   ]
  },
  {
   "cell_type": "code",
   "execution_count": 33,
   "metadata": {},
   "outputs": [
    {
     "data": {
      "text/html": [
       "<div>\n",
       "<style scoped>\n",
       "    .dataframe tbody tr th:only-of-type {\n",
       "        vertical-align: middle;\n",
       "    }\n",
       "\n",
       "    .dataframe tbody tr th {\n",
       "        vertical-align: top;\n",
       "    }\n",
       "\n",
       "    .dataframe thead th {\n",
       "        text-align: right;\n",
       "    }\n",
       "</style>\n",
       "<table border=\"1\" class=\"dataframe\">\n",
       "  <thead>\n",
       "    <tr style=\"text-align: right;\">\n",
       "      <th></th>\n",
       "      <th>title</th>\n",
       "      <th>content</th>\n",
       "      <th>cate</th>\n",
       "      <th>rdate</th>\n",
       "    </tr>\n",
       "  </thead>\n",
       "  <tbody>\n",
       "    <tr>\n",
       "      <th>0</th>\n",
       "      <td>1단 로켓 고비 넘겼는데, 예상 밖의 복병 3단</td>\n",
       "      <td>[앵커]\\r누리호 발사에 가장 큰 변수는 1단 로켓의 정상 작동 여부였습니다.이 고...</td>\n",
       "      <td>3</td>\n",
       "      <td>2021-10-22 02:53</td>\n",
       "    </tr>\n",
       "    <tr>\n",
       "      <th>1</th>\n",
       "      <td>\"누리호, 정상 비행은 성공...위성 궤도안착은 실패\"</td>\n",
       "      <td>한국형 발사체 누리호가 목표 고도인 700km에는 도달했으나, 탑재체인 '더미 위성...</td>\n",
       "      <td>3</td>\n",
       "      <td>2021-10-22 02:50</td>\n",
       "    </tr>\n",
       "    <tr>\n",
       "      <th>2</th>\n",
       "      <td>날씨 변수 뚫고 발사했는데...'누리호' 5번 더 쏜다!</td>\n",
       "      <td>[앵커]\\r누리호는 상층에 부는 강한 바람으로 인해 발사 마지막 순간까지 가슴을 졸...</td>\n",
       "      <td>3</td>\n",
       "      <td>2021-10-22 01:53</td>\n",
       "    </tr>\n",
       "    <tr>\n",
       "      <th>3</th>\n",
       "      <td>누리호 미완의 도전...발사는 성공·임무는 실패</td>\n",
       "      <td>[앵커]\\r순수 우리나라 기술로 만든 우주 발사체, 누리호가 발사에 성공했습니다.다...</td>\n",
       "      <td>3</td>\n",
       "      <td>2021-10-22 05:33</td>\n",
       "    </tr>\n",
       "    <tr>\n",
       "      <th>4</th>\n",
       "      <td>'뉴 스페이스' 시대, 'K-스페이스' 존재감 알렸다</td>\n",
       "      <td>[앵커]\\r누리호의 첫 도전은 비록 완벽한 성공에는 이르지 못했지만, 개발과정에 참...</td>\n",
       "      <td>3</td>\n",
       "      <td>2021-10-22 02:59</td>\n",
       "    </tr>\n",
       "  </tbody>\n",
       "</table>\n",
       "</div>"
      ],
      "text/plain": [
       "                             title  \\\n",
       "0       1단 로켓 고비 넘겼는데, 예상 밖의 복병 3단   \n",
       "1   \"누리호, 정상 비행은 성공...위성 궤도안착은 실패\"   \n",
       "2  날씨 변수 뚫고 발사했는데...'누리호' 5번 더 쏜다!   \n",
       "3       누리호 미완의 도전...발사는 성공·임무는 실패   \n",
       "4    '뉴 스페이스' 시대, 'K-스페이스' 존재감 알렸다   \n",
       "\n",
       "                                             content  cate             rdate  \n",
       "0  [앵커]\\r누리호 발사에 가장 큰 변수는 1단 로켓의 정상 작동 여부였습니다.이 고...     3  2021-10-22 02:53  \n",
       "1  한국형 발사체 누리호가 목표 고도인 700km에는 도달했으나, 탑재체인 '더미 위성...     3  2021-10-22 02:50  \n",
       "2  [앵커]\\r누리호는 상층에 부는 강한 바람으로 인해 발사 마지막 순간까지 가슴을 졸...     3  2021-10-22 01:53  \n",
       "3  [앵커]\\r순수 우리나라 기술로 만든 우주 발사체, 누리호가 발사에 성공했습니다.다...     3  2021-10-22 05:33  \n",
       "4  [앵커]\\r누리호의 첫 도전은 비록 완벽한 성공에는 이르지 못했지만, 개발과정에 참...     3  2021-10-22 02:59  "
      ]
     },
     "execution_count": 33,
     "metadata": {},
     "output_type": "execute_result"
    }
   ],
   "source": [
    "df.head()"
   ]
  },
  {
   "cell_type": "code",
   "execution_count": 34,
   "metadata": {},
   "outputs": [
    {
     "data": {
      "text/plain": [
       "(1010, 4)"
      ]
     },
     "execution_count": 34,
     "metadata": {},
     "output_type": "execute_result"
    }
   ],
   "source": [
    "df.shape"
   ]
  },
  {
   "cell_type": "code",
   "execution_count": 35,
   "metadata": {},
   "outputs": [
    {
     "data": {
      "text/plain": [
       "title       0\n",
       "content    39\n",
       "cate        0\n",
       "rdate       0\n",
       "dtype: int64"
      ]
     },
     "execution_count": 35,
     "metadata": {},
     "output_type": "execute_result"
    }
   ],
   "source": [
    "df.isna().sum()"
   ]
  },
  {
   "cell_type": "code",
   "execution_count": 36,
   "metadata": {},
   "outputs": [],
   "source": [
    "isna_idx = df['content'].isna()[df['content'].isna()].index.tolist()"
   ]
  },
  {
   "cell_type": "code",
   "execution_count": 37,
   "metadata": {},
   "outputs": [
    {
     "name": "stdout",
     "output_type": "stream",
     "text": [
      "title      0\n",
      "content    0\n",
      "cate       0\n",
      "rdate      0\n",
      "dtype: int64\n"
     ]
    }
   ],
   "source": [
    "for idx in isna_idx:\n",
    "    df.drop(index= idx, inplace=True)\n",
    "print(df.isna().sum())"
   ]
  },
  {
   "cell_type": "code",
   "execution_count": 38,
   "metadata": {},
   "outputs": [],
   "source": [
    "from sklearn.feature_extraction.text import TfidfVectorizer\n",
    "from sklearn.metrics.pairwise import cosine_similarity"
   ]
  },
  {
   "cell_type": "code",
   "execution_count": 39,
   "metadata": {},
   "outputs": [
    {
     "name": "stdout",
     "output_type": "stream",
     "text": [
      "(971, 30950)\n"
     ]
    }
   ],
   "source": [
    "tfidf= TfidfVectorizer()\n",
    "tfidf_matrix = tfidf.fit_transform(df['content'])\n",
    "print(tfidf_matrix.shape)"
   ]
  },
  {
   "cell_type": "code",
   "execution_count": 40,
   "metadata": {},
   "outputs": [
    {
     "name": "stdout",
     "output_type": "stream",
     "text": [
      "[[1.         0.09619596 0.08227673 ... 0.00799597 0.00726816 0.01467478]\n",
      " [0.09619596 1.         0.08424392 ... 0.00397212 0.00399374 0.00390202]\n",
      " [0.08227673 0.08424392 1.         ... 0.00646439 0.0057826  0.00749745]\n",
      " ...\n",
      " [0.00799597 0.00397212 0.00646439 ... 1.         0.86971839 0.75562077]\n",
      " [0.00726816 0.00399374 0.0057826  ... 0.86971839 1.         0.79144481]\n",
      " [0.01467478 0.00390202 0.00749745 ... 0.75562077 0.79144481 1.        ]]\n"
     ]
    }
   ],
   "source": [
    "cosine_sim = cosine_similarity(tfidf_matrix, tfidf_matrix)\n",
    "print(cosine_sim)"
   ]
  },
  {
   "cell_type": "code",
   "execution_count": 41,
   "metadata": {},
   "outputs": [
    {
     "data": {
      "text/plain": [
       "title\n",
       "1단 로켓 고비 넘겼는데, 예상 밖의 복병 3단               0\n",
       "\"누리호, 정상 비행은 성공...위성 궤도안착은 실패\"           1\n",
       "날씨 변수 뚫고 발사했는데...'누리호' 5번 더 쏜다!          2\n",
       "누리호 미완의 도전...발사는 성공·임무는 실패               3\n",
       "'뉴 스페이스' 시대, 'K-스페이스' 존재감 알렸다            4\n",
       "                                      ... \n",
       "[날씨] 내일 중부 흐리고 선선...동해안 비             1005\n",
       "[날씨] 절기 '한로' 전국 비...임실에 가을꽃 만발        1006\n",
       "[날씨] 절기 '한로' 전국 비...임실에 퍼지는 국화꽃 향기    1007\n",
       "[날씨] 절기 '한로' 전국 곳곳 비...임실에는 국화꽃 가득    1008\n",
       "[날씨] 전국 곳곳 비, 한낮 선선...임실에는 국화꽃 만발     1009\n",
       "Length: 971, dtype: int64"
      ]
     },
     "execution_count": 41,
     "metadata": {},
     "output_type": "execute_result"
    }
   ],
   "source": [
    "indices = pd.Series(df.index, index=df['title']).drop_duplicates()\n",
    "indices"
   ]
  },
  {
   "cell_type": "code",
   "execution_count": 42,
   "metadata": {},
   "outputs": [],
   "source": [
    "def get_recommendations(title, cosine_sim = cosine_sim):\n",
    "    idx = indices[title]\n",
    "    sim_scores = list(enumerate(cosine_sim[idx]))\n",
    "    sim_scores= sorted(sim_scores, key= lambda x: x[1], reverse=True)\n",
    "                                    # 기준               True: 내림차순\n",
    "    sim_scores = sim_scores[1:11]\n",
    "\n",
    "    news_indices= [i[0] for i in sim_scores]\n",
    "    return df['title'].iloc[news_indices]"
   ]
  },
  {
   "cell_type": "code",
   "execution_count": 44,
   "metadata": {},
   "outputs": [
    {
     "data": {
      "text/plain": [
       "345      '누리호' 미완의 도전...발사는 성공·임무는 실패\n",
       "352      '누리호' 미완의 도전...발사는 성공·임무는 실패\n",
       "343     누리호 '절반의 성공'...'위성 안착' 도전은 계속\n",
       "369         누리호 한 시간 뒤 발사...\"최종 점검 중\"\n",
       "365        누리호 이제 우주로...곧 '카운트 다운' 돌입\n",
       "382        누리호 오늘 우주로...'성공률 30%'에 도전\n",
       "381    누리호 발사 준비 돌입...발사대 주변 교통 통제 시작\n",
       "401         누리호 발사대에 도착...우주 향해 우뚝 선다\n",
       "383          누리호 오늘 우주로...오후 4시 발사 예정\n",
       "376    \"4시 발사 예정 변동 없어\"...이 시각 나로우주센터\n",
       "Name: title, dtype: object"
      ]
     },
     "execution_count": 44,
     "metadata": {},
     "output_type": "execute_result"
    }
   ],
   "source": [
    "get_recommendations('누리호 미완의 도전...발사는 성공·임무는 실패')"
   ]
  }
 ],
 "metadata": {
  "interpreter": {
   "hash": "c3102799280f1ed23787b1be8e33b065cea14d14e60df4daed798ef8bab0b32c"
  },
  "kernelspec": {
   "display_name": "Python 3.8.8 64-bit ('venv': venv)",
   "name": "python3"
  },
  "language_info": {
   "codemirror_mode": {
    "name": "ipython",
    "version": 3
   },
   "file_extension": ".py",
   "mimetype": "text/x-python",
   "name": "python",
   "nbconvert_exporter": "python",
   "pygments_lexer": "ipython3",
   "version": "3.8.8"
  },
  "orig_nbformat": 4
 },
 "nbformat": 4,
 "nbformat_minor": 2
}
