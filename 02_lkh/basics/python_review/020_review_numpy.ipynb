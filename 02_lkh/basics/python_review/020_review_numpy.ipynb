{
 "cells": [
  {
   "cell_type": "markdown",
   "id": "fd4a0cd1",
   "metadata": {},
   "source": [
    "# NumpPy\n",
    "\n",
    "과학적 계산을 위한 라이브러리\n",
    "\n",
    "데이터 분석보다, 빠른 수치 연산에 특화\n",
    "\n",
    "ndarrya라는 다차원 배열 데이터 구조"
   ]
  },
  {
   "cell_type": "markdown",
   "id": "4798c07c",
   "metadata": {},
   "source": [
    "## np 기본"
   ]
  },
  {
   "cell_type": "code",
   "execution_count": 6,
   "id": "8e4421b2",
   "metadata": {},
   "outputs": [
    {
     "name": "stdout",
     "output_type": "stream",
     "text": [
      "pandas ver = 1.2.4\n",
      "numpy ver = 1.20.1\n"
     ]
    }
   ],
   "source": [
    "# 라이브러리 불러오기\n",
    "import numpy as np\n",
    "import pandas as pd\n",
    "import matplotlib.pyplot as plt\n",
    "import seaborn as sns\n",
    "\n",
    "# 버전 확인\n",
    "print('pandas ver =', pd.__version__)\n",
    "print('numpy ver =', np.__version__)"
   ]
  },
  {
   "cell_type": "markdown",
   "id": "81e6122c",
   "metadata": {},
   "source": [
    "### arr 생성, 확인"
   ]
  },
  {
   "cell_type": "code",
   "execution_count": 19,
   "id": "54933ae5",
   "metadata": {},
   "outputs": [
    {
     "data": {
      "text/plain": [
       "array([[1, 2, 3, 4],\n",
       "       [3, 9, 2, 3]])"
      ]
     },
     "execution_count": 19,
     "metadata": {},
     "output_type": "execute_result"
    }
   ],
   "source": [
    "# ndarrary 생성; 여러 축이기 때문에 [ ] 주의\n",
    "arr = np.array([[1, 2, 3, 4], [3, 9, 2, 3]])\n",
    "arr"
   ]
  },
  {
   "cell_type": "code",
   "execution_count": 15,
   "id": "67698430",
   "metadata": {},
   "outputs": [
    {
     "name": "stdout",
     "output_type": "stream",
     "text": [
      "[[0. 0. 0.]\n",
      " [0. 0. 0.]]\n",
      "[[1. 1. 1. 1.]\n",
      " [1. 1. 1. 1.]\n",
      " [1. 1. 1. 1.]]\n",
      "[[0. 0.]\n",
      " [0. 0.]\n",
      " [0. 0.]]\n"
     ]
    }
   ],
   "source": [
    "# 초기값 n차원 arr 생성\n",
    "# np.nums((a, b, c)); 초기값 nums, 각 축의 갯수 a/b/c개\n",
    "print(np.zeros((2, 3)))\n",
    "print(np.ones((3, 4)))\n",
    "print(np.empty((3, 2)))"
   ]
  },
  {
   "cell_type": "code",
   "execution_count": 38,
   "id": "32e1d18d",
   "metadata": {},
   "outputs": [
    {
     "name": "stdout",
     "output_type": "stream",
     "text": [
      "[1 2 3 4 5 6 7 8 9]\n",
      "[[[ 1  2  3  4]\n",
      "  [ 5  6  7  8]\n",
      "  [ 9 10 11 12]]\n",
      "\n",
      " [[13 14 15 16]\n",
      "  [17 18 19 20]\n",
      "  [21 22 23 24]]]\n"
     ]
    }
   ],
   "source": [
    "# np.arange(n)으로  arr 생성\n",
    "# np.arange(a, b).reshape(x, y, z, ...)\n",
    "# 차원을 나누어 줌, xyz는 축, 남은 한 자리 -1 가능\n",
    "arr = np.arange(1, 10)\n",
    "print(arr)\n",
    "arr = np.arange(1, 25).reshape(2, 3, 4)\n",
    "print(arr)"
   ]
  },
  {
   "cell_type": "code",
   "execution_count": 23,
   "id": "8b8ca6f0",
   "metadata": {},
   "outputs": [
    {
     "name": "stdout",
     "output_type": "stream",
     "text": [
      "(2, 4)\n",
      "2\n",
      "int32\n"
     ]
    }
   ],
   "source": [
    "# arr 확인\n",
    "arr = np.array([[1, 2, 3, 9], [7, 6, 5, 3]])\n",
    "print(arr.shape) # 각 축의 개수 확인, 0, 1번 축\n",
    "print(arr.ndim) # 차원 수\n",
    "print(arr.dtype) # 데이터 타입"
   ]
  },
  {
   "cell_type": "code",
   "execution_count": 31,
   "id": "30bfc2fc",
   "metadata": {},
   "outputs": [
    {
     "name": "stdout",
     "output_type": "stream",
     "text": [
      "float64\n",
      "<U1\n",
      "[1 2 3]\n"
     ]
    }
   ],
   "source": [
    "# 데이터 타입 변환; arr.astype(np.datatype)\n",
    "arr_i = np.arange(6)\n",
    "arr_f = arr_i.astype(np.float64)\n",
    "print(arr_f.dtype)\n",
    "\n",
    "arr_s = np.array(['1', '2', '3'])\n",
    "print(arr_s.dtype) # 문자열\n",
    "arr_i = arr_s.astype(np.int64)\n",
    "print(arr_i) # 문자열에 있던 숫자는 숫자 변환 가능"
   ]
  },
  {
   "cell_type": "markdown",
   "id": "cfbc9c65",
   "metadata": {},
   "source": [
    "### arr 연산, 슬라이싱, 인덱싱"
   ]
  },
  {
   "cell_type": "code",
   "execution_count": 51,
   "id": "708a535b",
   "metadata": {},
   "outputs": [
    {
     "name": "stdout",
     "output_type": "stream",
     "text": [
      "[[1 2 5]\n",
      " [2 6 7]]\n",
      "[[3 4 5]\n",
      " [6 7 8]]\n",
      "[[ 3  4  5  6]\n",
      " [ 7  8  9 10]\n",
      " [11 12 13 14]]\n",
      "[[ 4  6 10]\n",
      " [ 8 13 15]]\n",
      "[[ 4  6 10]\n",
      " [ 8 13 15]]\n",
      "[[ 4  6 10]\n",
      " [ 8 13 15]]\n",
      "[[ 3  8 25]\n",
      " [12 42 56]]\n",
      "[[ 72  80  88  96]\n",
      " [125 140 155 170]]\n"
     ]
    }
   ],
   "source": [
    "# arr 연산\n",
    "arr1 = np.array([[1, 2, 5], [2, 6, 7]])\n",
    "arr2 = np.arange(3, 9).reshape(2, 3)\n",
    "arr3 = np.arange(3, 15).reshape(3, 4)\n",
    "print(arr1); print(arr2); print(arr3)\n",
    "\n",
    "# +, np.add(arr1, arr2); 각 요소 단위 더함\n",
    "print(arr1 + arr2)\n",
    "print(np.add(arr1, arr2))\n",
    "\n",
    "# -, np.subtract(arr1, arr2)\n",
    "print(np.add(arr1, arr2))\n",
    "\n",
    "# * ; 각 요소 단위 곱셈\n",
    "print(arr1 * arr2)\n",
    "\n",
    "# arr1.dot(arr2); 행렬 연산\n",
    "# (a, b)와 (c, d) 행렬 연산하려면 b = c일 때 연산 가능\n",
    "print(arr1.dot(arr3))"
   ]
  },
  {
   "cell_type": "code",
   "execution_count": 77,
   "id": "7d174069",
   "metadata": {},
   "outputs": [
    {
     "name": "stdout",
     "output_type": "stream",
     "text": [
      "[[[ 1  2  3  4]\n",
      "  [ 5  6  7  8]\n",
      "  [ 9 10 11 12]]\n",
      "\n",
      " [[13 14 15 16]\n",
      "  [17 18 19 20]\n",
      "  [21 22 23 24]]]\n",
      "[[[ 2  3  4]\n",
      "  [ 6  7  8]]\n",
      "\n",
      " [[14 15 16]\n",
      "  [18 19 20]]]\n",
      "12\n",
      "[23  5]\n"
     ]
    }
   ],
   "source": [
    "# arr 슬라이싱; 매우 중요\n",
    "# arr[..., c:d, a:b]; 뒤부터 0번 축\n",
    "# a:b ; 0번축의 a부터 b-1까지\n",
    "# c:d ; 1번축의 c부터 d-1까지\n",
    "# 각 축의 범위의 교집합 조회\n",
    "\n",
    "arr = np.arange(1, 25).reshape(-1, 3, 4)\n",
    "print(arr)\n",
    "# reshape(c, b, a); 0번축 a, 1번축 b, 2번축 c\n",
    "# c개를 한 줄로 만들고, 그 줄을 b개 묶음으로, 다시 a개 묶음으로\n",
    "\n",
    "print(arr[:, :2, 1:4])\n",
    "# 0번축(열); 1부터 2번 인덱스\n",
    "# 1번축(행); 0부터 1번 인덱스\n",
    "# 2번축; 전체\n",
    "\n",
    "print(arr[0, 2, 3])\n",
    "# 0번축(열) 3번째, 1번축(행) 2번째, 2번축 0번째 인덱스\n",
    "\n",
    "print(arr[[1, 0], [2, 1], [2, 0]])\n",
    "# 0번축 2, 1번축 2, 2번 축 1 ; 23\n",
    "# 0번축 0, 1번축 1, 2번축 0 ; 5\n",
    "\n",
    "# https://acdongpgm.tistory.com/140\n",
    "# https://ichi.pro/ko/numpy-indegsing-seolmyeong-214914454144013\n",
    "# http://taewan.kim/post/numpy_cheat_sheet/\n",
    "# https://velog.io/@kkiyou/ds1020\n",
    "# https://laboputer.github.io/machine-learning/2020/04/25/numpy-quickstart/"
   ]
  },
  {
   "cell_type": "code",
   "execution_count": 83,
   "id": "2a5fd881",
   "metadata": {},
   "outputs": [
    {
     "name": "stdout",
     "output_type": "stream",
     "text": [
      "[[[ 1  2  3  4]\n",
      "  [ 5  6  7  8]\n",
      "  [ 9 10 11 99]]\n",
      "\n",
      " [[13 14 15 16]\n",
      "  [17 18 19 20]\n",
      "  [21 22 23 24]]]\n"
     ]
    }
   ],
   "source": [
    "# arr 뷰 수정; 슬라이싱한 arr 수정하면 원본도 바뀜\n",
    "# arr[index] = val\n",
    "arr_c = arr.copy()\n",
    "arr_c[0, 2, 3] = 99\n",
    "print(arr_c) # 수정된 원본 확인(mutable)"
   ]
  },
  {
   "cell_type": "code",
   "execution_count": 86,
   "id": "85e95b12",
   "metadata": {},
   "outputs": [
    {
     "name": "stdout",
     "output_type": "stream",
     "text": [
      "[[1 2 3]\n",
      " [4 5 6]]\n",
      "[[False False False]\n",
      " [ True  True  True]]\n",
      "[4 5 6]\n"
     ]
    }
   ],
   "source": [
    "# arr 인덱싱\n",
    "arr = np.arange(1, 7).reshape(2, 3)\n",
    "print(arr)\n",
    "print(arr> 3) # 조건에 따른 bool 출력\n",
    "\n",
    "print(arr[arr >3]) # 조건 만족하는 데이터 추출, 배열 확인 불가"
   ]
  },
  {
   "cell_type": "markdown",
   "id": "b6c546d3",
   "metadata": {},
   "source": [
    "# wine_quality example"
   ]
  },
  {
   "cell_type": "code",
   "execution_count": 88,
   "id": "6aea1dc1",
   "metadata": {},
   "outputs": [
    {
     "name": "stdout",
     "output_type": "stream",
     "text": [
      "[[ 7.4    0.7    0.    ...  0.56   9.4    5.   ]\n",
      " [ 7.8    0.88   0.    ...  0.68   9.8    5.   ]\n",
      " [ 7.8    0.76   0.04  ...  0.65   9.8    5.   ]\n",
      " ...\n",
      " [ 6.3    0.51   0.13  ...  0.75  11.     6.   ]\n",
      " [ 5.9    0.645  0.12  ...  0.71  10.2    5.   ]\n",
      " [ 6.     0.31   0.47  ...  0.66  11.     6.   ]]\n",
      "[[ 7.    0.27  0.36 ...  0.45  8.8   6.  ]\n",
      " [ 6.3   0.3   0.34 ...  0.49  9.5   6.  ]\n",
      " [ 8.1   0.28  0.4  ...  0.44 10.1   6.  ]\n",
      " ...\n",
      " [ 6.5   0.24  0.19 ...  0.46  9.4   6.  ]\n",
      " [ 5.5   0.29  0.3  ...  0.38 12.8   7.  ]\n",
      " [ 6.    0.21  0.38 ...  0.32 11.8   6.  ]]\n"
     ]
    }
   ],
   "source": [
    "import numpy as np\n",
    "import pandas as pd\n",
    "\n",
    "url_red = 'https://archive.ics.uci.edu/ml/machine-learning-databases/wine-quality/winequality-red.csv'\n",
    "url_white = 'https://archive.ics.uci.edu/ml/machine-learning-databases/wine-quality/winequality-white.csv'\n",
    "\n",
    "# np.loadtxt(fname=file_name, delimiter='', skiprows=n)\n",
    "redwine = np.loadtxt(fname=url_red, delimiter=';', skiprows=1)\n",
    "whitewine = np.loadtxt(fname=url_white, delimiter=';', skiprows=1)\n",
    "# skiprows 줄 건너뛰기, delimiter 구분자 설정(기본값 \\)\n",
    "print(redwine); print(whitewine)"
   ]
  },
  {
   "cell_type": "code",
   "execution_count": 94,
   "id": "c819eaea",
   "metadata": {},
   "outputs": [
    {
     "name": "stdout",
     "output_type": "stream",
     "text": [
      "152084.78194\n",
      "[13303.1       843.985     433.29     4059.55      139.859   25384.\n",
      " 74302.       1593.79794  5294.47     1052.38    16666.35     9012.     ]\n",
      "[ 74.5438  123.0548   99.699   ... 100.48174 105.21547  92.49249]\n",
      "7.926036165311652\n",
      "[ 8.31963727  0.52782051  0.27097561  2.5388055   0.08746654 15.87492183\n",
      " 46.46779237  0.99674668  3.3111132   0.65814884 10.42298311  5.63602251]\n",
      "[ 6.21198333 10.25456667  8.30825    ...  8.37347833  8.76795583\n",
      "  7.7077075 ]\n",
      "8.31963727329581\n"
     ]
    }
   ],
   "source": [
    "# 통계값\n",
    "\n",
    "print(redwine.sum())\n",
    "print(redwine.sum(axis=0))\n",
    "print(redwine.sum(axis=1))\n",
    "\n",
    "print(redwine.mean())\n",
    "print(redwine.mean(axis=0))\n",
    "print(redwine.mean(axis=1))\n",
    "\n",
    "print(redwine[:, 0].mean()) # 슬라이싱하여 통계처리"
   ]
  }
 ],
 "metadata": {
  "kernelspec": {
   "display_name": "Python 3",
   "language": "python",
   "name": "python3"
  },
  "language_info": {
   "codemirror_mode": {
    "name": "ipython",
    "version": 3
   },
   "file_extension": ".py",
   "mimetype": "text/x-python",
   "name": "python",
   "nbconvert_exporter": "python",
   "pygments_lexer": "ipython3",
   "version": "3.8.8"
  }
 },
 "nbformat": 4,
 "nbformat_minor": 5
}
