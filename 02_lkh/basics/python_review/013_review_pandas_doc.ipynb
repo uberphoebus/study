{
 "cells": [
  {
   "cell_type": "markdown",
   "id": "fa838b0c",
   "metadata": {},
   "source": [
    "# pandas doc\n",
    "https://pandas.pydata.org/pandas-docs/stable/user_guide/index.html#user-guide\n",
    "\n",
    "00 cookbook\n",
    "   - Idioms\n",
    "   - Selection\n",
    "   - Multiindexing\n",
    "   - Missing data\n",
    "   - Grouping\n",
    "   - Timeseries\n",
    "   - Merge\n",
    "   - Plotting\n",
    "   - Data in/out\n",
    "   - Computation\n",
    "   - Timedeltas\n",
    "   - Creating example data\n",
    "\n",
    "01 intro to data structure\n",
    "\n",
    "02 essential basic functionality\n",
    "\n",
    "03 IO tools (text, CSV, HDF5, ...)\n",
    "\n",
    "04 indexing and selecting data\n",
    "\n",
    "05 multiindex / advanced indexing\n",
    "\n",
    "06 merge, join, concatenate and compare\n",
    "\n",
    "07 reshaping and pivot tables\n",
    "\n",
    "08 working with text data\n",
    "\n",
    "09 working with missing data\n",
    "\n",
    "10 duplicate labels\n",
    "\n",
    "11 categorical data\n",
    "\n",
    "12 nullable integer data type\n",
    "\n",
    "13 nullable bollean data type\n",
    "\n",
    "14 chart visulization\n",
    "\n",
    "15 table visulization\n",
    "\n",
    "16 computational tools\n",
    "\n",
    "17 group by; split-apply-combine\n",
    "\n",
    "18 windowing operations\n",
    "\n",
    "19 time series / date functinality\n",
    "\n",
    "20 time deltas\n",
    "\n",
    "21 options and settings\n",
    "\n",
    "22 enhancing performance\n",
    "\n",
    "23 scaling to large datasets\n",
    "\n",
    "24 sparse data structures\n",
    "\n",
    "25 frequently asked questions"
   ]
  },
  {
   "cell_type": "code",
   "execution_count": 1,
   "id": "af8b1d39",
   "metadata": {},
   "outputs": [
    {
     "name": "stdout",
     "output_type": "stream",
     "text": [
      "pd ver 1.2.4\n",
      "np ver 1.20.1\n"
     ]
    }
   ],
   "source": [
    "import pandas as pd\n",
    "import numpy as np\n",
    "print('pd ver', pd.__version__)\n",
    "print('np ver', np.__version__)"
   ]
  },
  {
   "cell_type": "markdown",
   "id": "c08ecb17",
   "metadata": {},
   "source": [
    "# 00 cookbook"
   ]
  },
  {
   "cell_type": "markdown",
   "id": "3a3e4b6f",
   "metadata": {},
   "source": [
    "## Idioms"
   ]
  },
  {
   "cell_type": "code",
   "execution_count": 6,
   "id": "cb29bf94",
   "metadata": {},
   "outputs": [
    {
     "name": "stdout",
     "output_type": "stream",
     "text": [
      "   AAA  BBB  CCC\n",
      "0    4   10  100\n",
      "1    5   20   50\n",
      "2    6   30  -30\n",
      "3    7   40  -50\n"
     ]
    },
    {
     "data": {
      "text/html": [
       "<div>\n",
       "<style scoped>\n",
       "    .dataframe tbody tr th:only-of-type {\n",
       "        vertical-align: middle;\n",
       "    }\n",
       "\n",
       "    .dataframe tbody tr th {\n",
       "        vertical-align: top;\n",
       "    }\n",
       "\n",
       "    .dataframe thead th {\n",
       "        text-align: right;\n",
       "    }\n",
       "</style>\n",
       "<table border=\"1\" class=\"dataframe\">\n",
       "  <thead>\n",
       "    <tr style=\"text-align: right;\">\n",
       "      <th></th>\n",
       "      <th>AAA</th>\n",
       "      <th>BBB</th>\n",
       "      <th>CCC</th>\n",
       "    </tr>\n",
       "  </thead>\n",
       "  <tbody>\n",
       "    <tr>\n",
       "      <th>0</th>\n",
       "      <td>4</td>\n",
       "      <td>10</td>\n",
       "      <td>100</td>\n",
       "    </tr>\n",
       "    <tr>\n",
       "      <th>1</th>\n",
       "      <td>5</td>\n",
       "      <td>-1</td>\n",
       "      <td>50</td>\n",
       "    </tr>\n",
       "    <tr>\n",
       "      <th>2</th>\n",
       "      <td>6</td>\n",
       "      <td>-1</td>\n",
       "      <td>-30</td>\n",
       "    </tr>\n",
       "    <tr>\n",
       "      <th>3</th>\n",
       "      <td>7</td>\n",
       "      <td>-1</td>\n",
       "      <td>-50</td>\n",
       "    </tr>\n",
       "  </tbody>\n",
       "</table>\n",
       "</div>"
      ],
      "text/plain": [
       "   AAA  BBB  CCC\n",
       "0    4   10  100\n",
       "1    5   -1   50\n",
       "2    6   -1  -30\n",
       "3    7   -1  -50"
      ]
     },
     "execution_count": 6,
     "metadata": {},
     "output_type": "execute_result"
    }
   ],
   "source": [
    "# if-then...\n",
    "\n",
    "df = pd.DataFrame({\"AAA\": [4, 5, 6, 7],\n",
    "                   \"BBB\": [10, 20, 30, 40],\n",
    "                   \"CCC\": [100, 50, -30, -50]\n",
    "                  })\n",
    "print(df)\n",
    "\n",
    "# 1개 컬럼\n",
    "df.loc[df.AAA >= 5, 'BBB'] = -1\n",
    "df"
   ]
  },
  {
   "cell_type": "markdown",
   "id": "2b5519f2",
   "metadata": {},
   "source": [
    "   - Selection\n",
    "   - Multiindexing\n",
    "   - Missing data\n",
    "   - Grouping\n",
    "   - Timeseries\n",
    "   - Merge\n",
    "   - Plotting\n",
    "   - Data in/out\n",
    "   - Computation\n",
    "   - Timedeltas\n",
    "   - Creating example data"
   ]
  },
  {
   "cell_type": "code",
   "execution_count": null,
   "id": "1a65dd62",
   "metadata": {},
   "outputs": [],
   "source": []
  },
  {
   "cell_type": "markdown",
   "id": "bfaec213",
   "metadata": {},
   "source": [
    "# 01 intro to data structure"
   ]
  },
  {
   "cell_type": "markdown",
   "id": "ca367f5a",
   "metadata": {},
   "source": [
    "# 02 essential basic functionality"
   ]
  },
  {
   "cell_type": "markdown",
   "id": "64fb9c75",
   "metadata": {},
   "source": [
    "# 03 IO tools (text, CSV, HDF5, ...)"
   ]
  },
  {
   "cell_type": "markdown",
   "id": "45a27c38",
   "metadata": {},
   "source": [
    "# 04 indexing and selecting data"
   ]
  },
  {
   "cell_type": "markdown",
   "id": "729f865d",
   "metadata": {},
   "source": [
    "# 05 multiindex / advanced indexing"
   ]
  },
  {
   "cell_type": "markdown",
   "id": "ccb93472",
   "metadata": {},
   "source": [
    "# 06 merge, join, concatenate and compare"
   ]
  },
  {
   "cell_type": "markdown",
   "id": "4393916b",
   "metadata": {},
   "source": [
    "# 07 reshaping and pivot tables"
   ]
  },
  {
   "cell_type": "markdown",
   "id": "0da242a3",
   "metadata": {},
   "source": [
    "# 08 working with text data"
   ]
  },
  {
   "cell_type": "markdown",
   "id": "edb76f44",
   "metadata": {},
   "source": [
    "# 09 working with missing data"
   ]
  },
  {
   "cell_type": "markdown",
   "id": "251a6e6b",
   "metadata": {},
   "source": [
    "# 10 duplicate labels"
   ]
  },
  {
   "cell_type": "markdown",
   "id": "62f2add1",
   "metadata": {},
   "source": [
    "# 11 categorical data"
   ]
  },
  {
   "cell_type": "markdown",
   "id": "a4714ca6",
   "metadata": {},
   "source": [
    "# 12 nullable integer data type"
   ]
  },
  {
   "cell_type": "markdown",
   "id": "c8edf157",
   "metadata": {},
   "source": [
    "# 13 nullable bollean data type"
   ]
  },
  {
   "cell_type": "markdown",
   "id": "7d0ff399",
   "metadata": {},
   "source": [
    "# 14 chart visulization"
   ]
  },
  {
   "cell_type": "markdown",
   "id": "31e17052",
   "metadata": {},
   "source": [
    "# 15 table visulization"
   ]
  },
  {
   "cell_type": "markdown",
   "id": "fa15c134",
   "metadata": {},
   "source": [
    "# 16 computational tools"
   ]
  },
  {
   "cell_type": "markdown",
   "id": "84d63180",
   "metadata": {},
   "source": [
    "# 17 group by; split-apply-combine"
   ]
  },
  {
   "cell_type": "markdown",
   "id": "d16771d3",
   "metadata": {},
   "source": [
    "# 18 windowing operations"
   ]
  },
  {
   "cell_type": "markdown",
   "id": "6c292df7",
   "metadata": {},
   "source": [
    "# 19 time series / date functinality"
   ]
  },
  {
   "cell_type": "markdown",
   "id": "af5a4c48",
   "metadata": {},
   "source": [
    "# 20 time deltas"
   ]
  },
  {
   "cell_type": "markdown",
   "id": "900a8b8f",
   "metadata": {},
   "source": [
    "# 21 options and settings"
   ]
  },
  {
   "cell_type": "markdown",
   "id": "85cb81a9",
   "metadata": {},
   "source": [
    "# 22 enhancing performance"
   ]
  },
  {
   "cell_type": "markdown",
   "id": "d83a3ec5",
   "metadata": {},
   "source": [
    "# 23 scaling to large datasets"
   ]
  },
  {
   "cell_type": "markdown",
   "id": "59e07e26",
   "metadata": {},
   "source": [
    "# 24 sparse data structures"
   ]
  },
  {
   "cell_type": "markdown",
   "id": "7c4fdd0b",
   "metadata": {},
   "source": [
    "# 25 frequently asked questions"
   ]
  }
 ],
 "metadata": {
  "kernelspec": {
   "display_name": "Python 3",
   "language": "python",
   "name": "python3"
  },
  "language_info": {
   "codemirror_mode": {
    "name": "ipython",
    "version": 3
   },
   "file_extension": ".py",
   "mimetype": "text/x-python",
   "name": "python",
   "nbconvert_exporter": "python",
   "pygments_lexer": "ipython3",
   "version": "3.8.8"
  }
 },
 "nbformat": 4,
 "nbformat_minor": 5
}
