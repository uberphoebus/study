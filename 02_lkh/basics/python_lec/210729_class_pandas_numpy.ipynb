{
 "cells": [
  {
   "cell_type": "code",
   "execution_count": 1,
   "id": "4071a3d0",
   "metadata": {},
   "outputs": [],
   "source": [
    "# 어제 데이터 복습\n",
    "\n",
    "import pandas as pd\n",
    "\n",
    "url = \"http://freakonometrics.free.fr/german_credit.csv\"\n",
    "german = pd.read_csv(url)"
   ]
  },
  {
   "cell_type": "code",
   "execution_count": 2,
   "id": "4a991b44",
   "metadata": {},
   "outputs": [
    {
     "data": {
      "text/html": [
       "<div>\n",
       "<style scoped>\n",
       "    .dataframe tbody tr th:only-of-type {\n",
       "        vertical-align: middle;\n",
       "    }\n",
       "\n",
       "    .dataframe tbody tr th {\n",
       "        vertical-align: top;\n",
       "    }\n",
       "\n",
       "    .dataframe thead th {\n",
       "        text-align: right;\n",
       "    }\n",
       "</style>\n",
       "<table border=\"1\" class=\"dataframe\">\n",
       "  <thead>\n",
       "    <tr style=\"text-align: right;\">\n",
       "      <th></th>\n",
       "      <th>Creditability</th>\n",
       "      <th>Account Balance</th>\n",
       "      <th>Duration of Credit (month)</th>\n",
       "      <th>Payment Status of Previous Credit</th>\n",
       "      <th>Purpose</th>\n",
       "      <th>Credit Amount</th>\n",
       "      <th>Value Savings/Stocks</th>\n",
       "      <th>Length of current employment</th>\n",
       "      <th>Instalment per cent</th>\n",
       "      <th>Sex &amp; Marital Status</th>\n",
       "      <th>...</th>\n",
       "      <th>Duration in Current address</th>\n",
       "      <th>Most valuable available asset</th>\n",
       "      <th>Age (years)</th>\n",
       "      <th>Concurrent Credits</th>\n",
       "      <th>Type of apartment</th>\n",
       "      <th>No of Credits at this Bank</th>\n",
       "      <th>Occupation</th>\n",
       "      <th>No of dependents</th>\n",
       "      <th>Telephone</th>\n",
       "      <th>Foreign Worker</th>\n",
       "    </tr>\n",
       "  </thead>\n",
       "  <tbody>\n",
       "    <tr>\n",
       "      <th>0</th>\n",
       "      <td>1</td>\n",
       "      <td>1</td>\n",
       "      <td>18</td>\n",
       "      <td>4</td>\n",
       "      <td>2</td>\n",
       "      <td>1049</td>\n",
       "      <td>1</td>\n",
       "      <td>2</td>\n",
       "      <td>4</td>\n",
       "      <td>2</td>\n",
       "      <td>...</td>\n",
       "      <td>4</td>\n",
       "      <td>2</td>\n",
       "      <td>21</td>\n",
       "      <td>3</td>\n",
       "      <td>1</td>\n",
       "      <td>1</td>\n",
       "      <td>3</td>\n",
       "      <td>1</td>\n",
       "      <td>1</td>\n",
       "      <td>1</td>\n",
       "    </tr>\n",
       "    <tr>\n",
       "      <th>1</th>\n",
       "      <td>1</td>\n",
       "      <td>1</td>\n",
       "      <td>9</td>\n",
       "      <td>4</td>\n",
       "      <td>0</td>\n",
       "      <td>2799</td>\n",
       "      <td>1</td>\n",
       "      <td>3</td>\n",
       "      <td>2</td>\n",
       "      <td>3</td>\n",
       "      <td>...</td>\n",
       "      <td>2</td>\n",
       "      <td>1</td>\n",
       "      <td>36</td>\n",
       "      <td>3</td>\n",
       "      <td>1</td>\n",
       "      <td>2</td>\n",
       "      <td>3</td>\n",
       "      <td>2</td>\n",
       "      <td>1</td>\n",
       "      <td>1</td>\n",
       "    </tr>\n",
       "    <tr>\n",
       "      <th>2</th>\n",
       "      <td>1</td>\n",
       "      <td>2</td>\n",
       "      <td>12</td>\n",
       "      <td>2</td>\n",
       "      <td>9</td>\n",
       "      <td>841</td>\n",
       "      <td>2</td>\n",
       "      <td>4</td>\n",
       "      <td>2</td>\n",
       "      <td>2</td>\n",
       "      <td>...</td>\n",
       "      <td>4</td>\n",
       "      <td>1</td>\n",
       "      <td>23</td>\n",
       "      <td>3</td>\n",
       "      <td>1</td>\n",
       "      <td>1</td>\n",
       "      <td>2</td>\n",
       "      <td>1</td>\n",
       "      <td>1</td>\n",
       "      <td>1</td>\n",
       "    </tr>\n",
       "    <tr>\n",
       "      <th>3</th>\n",
       "      <td>1</td>\n",
       "      <td>1</td>\n",
       "      <td>12</td>\n",
       "      <td>4</td>\n",
       "      <td>0</td>\n",
       "      <td>2122</td>\n",
       "      <td>1</td>\n",
       "      <td>3</td>\n",
       "      <td>3</td>\n",
       "      <td>3</td>\n",
       "      <td>...</td>\n",
       "      <td>2</td>\n",
       "      <td>1</td>\n",
       "      <td>39</td>\n",
       "      <td>3</td>\n",
       "      <td>1</td>\n",
       "      <td>2</td>\n",
       "      <td>2</td>\n",
       "      <td>2</td>\n",
       "      <td>1</td>\n",
       "      <td>2</td>\n",
       "    </tr>\n",
       "    <tr>\n",
       "      <th>4</th>\n",
       "      <td>1</td>\n",
       "      <td>1</td>\n",
       "      <td>12</td>\n",
       "      <td>4</td>\n",
       "      <td>0</td>\n",
       "      <td>2171</td>\n",
       "      <td>1</td>\n",
       "      <td>3</td>\n",
       "      <td>4</td>\n",
       "      <td>3</td>\n",
       "      <td>...</td>\n",
       "      <td>4</td>\n",
       "      <td>2</td>\n",
       "      <td>38</td>\n",
       "      <td>1</td>\n",
       "      <td>2</td>\n",
       "      <td>2</td>\n",
       "      <td>2</td>\n",
       "      <td>1</td>\n",
       "      <td>1</td>\n",
       "      <td>2</td>\n",
       "    </tr>\n",
       "  </tbody>\n",
       "</table>\n",
       "<p>5 rows × 21 columns</p>\n",
       "</div>"
      ],
      "text/plain": [
       "   Creditability  Account Balance  Duration of Credit (month)  \\\n",
       "0              1                1                          18   \n",
       "1              1                1                           9   \n",
       "2              1                2                          12   \n",
       "3              1                1                          12   \n",
       "4              1                1                          12   \n",
       "\n",
       "   Payment Status of Previous Credit  Purpose  Credit Amount  \\\n",
       "0                                  4        2           1049   \n",
       "1                                  4        0           2799   \n",
       "2                                  2        9            841   \n",
       "3                                  4        0           2122   \n",
       "4                                  4        0           2171   \n",
       "\n",
       "   Value Savings/Stocks  Length of current employment  Instalment per cent  \\\n",
       "0                     1                             2                    4   \n",
       "1                     1                             3                    2   \n",
       "2                     2                             4                    2   \n",
       "3                     1                             3                    3   \n",
       "4                     1                             3                    4   \n",
       "\n",
       "   Sex & Marital Status  ...  Duration in Current address  \\\n",
       "0                     2  ...                            4   \n",
       "1                     3  ...                            2   \n",
       "2                     2  ...                            4   \n",
       "3                     3  ...                            2   \n",
       "4                     3  ...                            4   \n",
       "\n",
       "   Most valuable available asset  Age (years)  Concurrent Credits  \\\n",
       "0                              2           21                   3   \n",
       "1                              1           36                   3   \n",
       "2                              1           23                   3   \n",
       "3                              1           39                   3   \n",
       "4                              2           38                   1   \n",
       "\n",
       "   Type of apartment  No of Credits at this Bank  Occupation  \\\n",
       "0                  1                           1           3   \n",
       "1                  1                           2           3   \n",
       "2                  1                           1           2   \n",
       "3                  1                           2           2   \n",
       "4                  2                           2           2   \n",
       "\n",
       "   No of dependents  Telephone  Foreign Worker  \n",
       "0                 1          1               1  \n",
       "1                 2          1               1  \n",
       "2                 1          1               1  \n",
       "3                 2          1               2  \n",
       "4                 1          1               2  \n",
       "\n",
       "[5 rows x 21 columns]"
      ]
     },
     "execution_count": 2,
     "metadata": {},
     "output_type": "execute_result"
    }
   ],
   "source": [
    "german.head()"
   ]
  },
  {
   "cell_type": "code",
   "execution_count": 3,
   "id": "256c54a4",
   "metadata": {},
   "outputs": [
    {
     "data": {
      "text/plain": [
       "(1000, 21)"
      ]
     },
     "execution_count": 3,
     "metadata": {},
     "output_type": "execute_result"
    }
   ],
   "source": [
    "german.shape"
   ]
  },
  {
   "cell_type": "code",
   "execution_count": 4,
   "id": "dd05f269",
   "metadata": {},
   "outputs": [
    {
     "data": {
      "text/plain": [
       "Index(['Creditability', 'Account Balance', 'Duration of Credit (month)',\n",
       "       'Payment Status of Previous Credit', 'Purpose', 'Credit Amount',\n",
       "       'Value Savings/Stocks', 'Length of current employment',\n",
       "       'Instalment per cent', 'Sex & Marital Status', 'Guarantors',\n",
       "       'Duration in Current address', 'Most valuable available asset',\n",
       "       'Age (years)', 'Concurrent Credits', 'Type of apartment',\n",
       "       'No of Credits at this Bank', 'Occupation', 'No of dependents',\n",
       "       'Telephone', 'Foreign Worker'],\n",
       "      dtype='object')"
      ]
     },
     "execution_count": 4,
     "metadata": {},
     "output_type": "execute_result"
    }
   ],
   "source": [
    "german.columns"
   ]
  },
  {
   "cell_type": "code",
   "execution_count": 5,
   "id": "bd30a0be",
   "metadata": {},
   "outputs": [
    {
     "name": "stdout",
     "output_type": "stream",
     "text": [
      "<class 'pandas.core.frame.DataFrame'>\n",
      "RangeIndex: 1000 entries, 0 to 999\n",
      "Data columns (total 21 columns):\n",
      " #   Column                             Non-Null Count  Dtype\n",
      "---  ------                             --------------  -----\n",
      " 0   Creditability                      1000 non-null   int64\n",
      " 1   Account Balance                    1000 non-null   int64\n",
      " 2   Duration of Credit (month)         1000 non-null   int64\n",
      " 3   Payment Status of Previous Credit  1000 non-null   int64\n",
      " 4   Purpose                            1000 non-null   int64\n",
      " 5   Credit Amount                      1000 non-null   int64\n",
      " 6   Value Savings/Stocks               1000 non-null   int64\n",
      " 7   Length of current employment       1000 non-null   int64\n",
      " 8   Instalment per cent                1000 non-null   int64\n",
      " 9   Sex & Marital Status               1000 non-null   int64\n",
      " 10  Guarantors                         1000 non-null   int64\n",
      " 11  Duration in Current address        1000 non-null   int64\n",
      " 12  Most valuable available asset      1000 non-null   int64\n",
      " 13  Age (years)                        1000 non-null   int64\n",
      " 14  Concurrent Credits                 1000 non-null   int64\n",
      " 15  Type of apartment                  1000 non-null   int64\n",
      " 16  No of Credits at this Bank         1000 non-null   int64\n",
      " 17  Occupation                         1000 non-null   int64\n",
      " 18  No of dependents                   1000 non-null   int64\n",
      " 19  Telephone                          1000 non-null   int64\n",
      " 20  Foreign Worker                     1000 non-null   int64\n",
      "dtypes: int64(21)\n",
      "memory usage: 164.2 KB\n"
     ]
    }
   ],
   "source": [
    "german.info()"
   ]
  },
  {
   "cell_type": "code",
   "execution_count": 6,
   "id": "fa627ab1",
   "metadata": {},
   "outputs": [
    {
     "data": {
      "text/html": [
       "<div>\n",
       "<style scoped>\n",
       "    .dataframe tbody tr th:only-of-type {\n",
       "        vertical-align: middle;\n",
       "    }\n",
       "\n",
       "    .dataframe tbody tr th {\n",
       "        vertical-align: top;\n",
       "    }\n",
       "\n",
       "    .dataframe thead th {\n",
       "        text-align: right;\n",
       "    }\n",
       "</style>\n",
       "<table border=\"1\" class=\"dataframe\">\n",
       "  <thead>\n",
       "    <tr style=\"text-align: right;\">\n",
       "      <th></th>\n",
       "      <th>Creditability</th>\n",
       "      <th>Account Balance</th>\n",
       "      <th>Duration of Credit (month)</th>\n",
       "      <th>Payment Status of Previous Credit</th>\n",
       "      <th>Purpose</th>\n",
       "      <th>Credit Amount</th>\n",
       "      <th>Value Savings/Stocks</th>\n",
       "      <th>Length of current employment</th>\n",
       "      <th>Instalment per cent</th>\n",
       "      <th>Sex &amp; Marital Status</th>\n",
       "      <th>...</th>\n",
       "      <th>Duration in Current address</th>\n",
       "      <th>Most valuable available asset</th>\n",
       "      <th>Age (years)</th>\n",
       "      <th>Concurrent Credits</th>\n",
       "      <th>Type of apartment</th>\n",
       "      <th>No of Credits at this Bank</th>\n",
       "      <th>Occupation</th>\n",
       "      <th>No of dependents</th>\n",
       "      <th>Telephone</th>\n",
       "      <th>Foreign Worker</th>\n",
       "    </tr>\n",
       "  </thead>\n",
       "  <tbody>\n",
       "    <tr>\n",
       "      <th>995</th>\n",
       "      <td>0</td>\n",
       "      <td>1</td>\n",
       "      <td>24</td>\n",
       "      <td>2</td>\n",
       "      <td>3</td>\n",
       "      <td>1987</td>\n",
       "      <td>1</td>\n",
       "      <td>3</td>\n",
       "      <td>2</td>\n",
       "      <td>3</td>\n",
       "      <td>...</td>\n",
       "      <td>4</td>\n",
       "      <td>1</td>\n",
       "      <td>21</td>\n",
       "      <td>3</td>\n",
       "      <td>1</td>\n",
       "      <td>1</td>\n",
       "      <td>2</td>\n",
       "      <td>2</td>\n",
       "      <td>1</td>\n",
       "      <td>1</td>\n",
       "    </tr>\n",
       "    <tr>\n",
       "      <th>996</th>\n",
       "      <td>0</td>\n",
       "      <td>1</td>\n",
       "      <td>24</td>\n",
       "      <td>2</td>\n",
       "      <td>0</td>\n",
       "      <td>2303</td>\n",
       "      <td>1</td>\n",
       "      <td>5</td>\n",
       "      <td>4</td>\n",
       "      <td>3</td>\n",
       "      <td>...</td>\n",
       "      <td>1</td>\n",
       "      <td>1</td>\n",
       "      <td>45</td>\n",
       "      <td>3</td>\n",
       "      <td>2</td>\n",
       "      <td>1</td>\n",
       "      <td>3</td>\n",
       "      <td>1</td>\n",
       "      <td>1</td>\n",
       "      <td>1</td>\n",
       "    </tr>\n",
       "    <tr>\n",
       "      <th>997</th>\n",
       "      <td>0</td>\n",
       "      <td>4</td>\n",
       "      <td>21</td>\n",
       "      <td>4</td>\n",
       "      <td>0</td>\n",
       "      <td>12680</td>\n",
       "      <td>5</td>\n",
       "      <td>5</td>\n",
       "      <td>4</td>\n",
       "      <td>3</td>\n",
       "      <td>...</td>\n",
       "      <td>4</td>\n",
       "      <td>4</td>\n",
       "      <td>30</td>\n",
       "      <td>3</td>\n",
       "      <td>3</td>\n",
       "      <td>1</td>\n",
       "      <td>4</td>\n",
       "      <td>1</td>\n",
       "      <td>2</td>\n",
       "      <td>1</td>\n",
       "    </tr>\n",
       "    <tr>\n",
       "      <th>998</th>\n",
       "      <td>0</td>\n",
       "      <td>2</td>\n",
       "      <td>12</td>\n",
       "      <td>2</td>\n",
       "      <td>3</td>\n",
       "      <td>6468</td>\n",
       "      <td>5</td>\n",
       "      <td>1</td>\n",
       "      <td>2</td>\n",
       "      <td>3</td>\n",
       "      <td>...</td>\n",
       "      <td>1</td>\n",
       "      <td>4</td>\n",
       "      <td>52</td>\n",
       "      <td>3</td>\n",
       "      <td>2</td>\n",
       "      <td>1</td>\n",
       "      <td>4</td>\n",
       "      <td>1</td>\n",
       "      <td>2</td>\n",
       "      <td>1</td>\n",
       "    </tr>\n",
       "    <tr>\n",
       "      <th>999</th>\n",
       "      <td>0</td>\n",
       "      <td>1</td>\n",
       "      <td>30</td>\n",
       "      <td>2</td>\n",
       "      <td>2</td>\n",
       "      <td>6350</td>\n",
       "      <td>5</td>\n",
       "      <td>5</td>\n",
       "      <td>4</td>\n",
       "      <td>3</td>\n",
       "      <td>...</td>\n",
       "      <td>4</td>\n",
       "      <td>2</td>\n",
       "      <td>31</td>\n",
       "      <td>3</td>\n",
       "      <td>2</td>\n",
       "      <td>1</td>\n",
       "      <td>3</td>\n",
       "      <td>1</td>\n",
       "      <td>1</td>\n",
       "      <td>1</td>\n",
       "    </tr>\n",
       "  </tbody>\n",
       "</table>\n",
       "<p>5 rows × 21 columns</p>\n",
       "</div>"
      ],
      "text/plain": [
       "     Creditability  Account Balance  Duration of Credit (month)  \\\n",
       "995              0                1                          24   \n",
       "996              0                1                          24   \n",
       "997              0                4                          21   \n",
       "998              0                2                          12   \n",
       "999              0                1                          30   \n",
       "\n",
       "     Payment Status of Previous Credit  Purpose  Credit Amount  \\\n",
       "995                                  2        3           1987   \n",
       "996                                  2        0           2303   \n",
       "997                                  4        0          12680   \n",
       "998                                  2        3           6468   \n",
       "999                                  2        2           6350   \n",
       "\n",
       "     Value Savings/Stocks  Length of current employment  Instalment per cent  \\\n",
       "995                     1                             3                    2   \n",
       "996                     1                             5                    4   \n",
       "997                     5                             5                    4   \n",
       "998                     5                             1                    2   \n",
       "999                     5                             5                    4   \n",
       "\n",
       "     Sex & Marital Status  ...  Duration in Current address  \\\n",
       "995                     3  ...                            4   \n",
       "996                     3  ...                            1   \n",
       "997                     3  ...                            4   \n",
       "998                     3  ...                            1   \n",
       "999                     3  ...                            4   \n",
       "\n",
       "     Most valuable available asset  Age (years)  Concurrent Credits  \\\n",
       "995                              1           21                   3   \n",
       "996                              1           45                   3   \n",
       "997                              4           30                   3   \n",
       "998                              4           52                   3   \n",
       "999                              2           31                   3   \n",
       "\n",
       "     Type of apartment  No of Credits at this Bank  Occupation  \\\n",
       "995                  1                           1           2   \n",
       "996                  2                           1           3   \n",
       "997                  3                           1           4   \n",
       "998                  2                           1           4   \n",
       "999                  2                           1           3   \n",
       "\n",
       "     No of dependents  Telephone  Foreign Worker  \n",
       "995                 2          1               1  \n",
       "996                 1          1               1  \n",
       "997                 1          2               1  \n",
       "998                 1          2               1  \n",
       "999                 1          1               1  \n",
       "\n",
       "[5 rows x 21 columns]"
      ]
     },
     "execution_count": 6,
     "metadata": {},
     "output_type": "execute_result"
    }
   ],
   "source": [
    "german.tail()"
   ]
  },
  {
   "cell_type": "code",
   "execution_count": 7,
   "id": "0f99eff5",
   "metadata": {},
   "outputs": [
    {
     "data": {
      "text/plain": [
       "Creditability                        0\n",
       "Account Balance                      0\n",
       "Duration of Credit (month)           0\n",
       "Payment Status of Previous Credit    0\n",
       "Purpose                              0\n",
       "Credit Amount                        0\n",
       "Value Savings/Stocks                 0\n",
       "Length of current employment         0\n",
       "Instalment per cent                  0\n",
       "Sex & Marital Status                 0\n",
       "Guarantors                           0\n",
       "Duration in Current address          0\n",
       "Most valuable available asset        0\n",
       "Age (years)                          0\n",
       "Concurrent Credits                   0\n",
       "Type of apartment                    0\n",
       "No of Credits at this Bank           0\n",
       "Occupation                           0\n",
       "No of dependents                     0\n",
       "Telephone                            0\n",
       "Foreign Worker                       0\n",
       "dtype: int64"
      ]
     },
     "execution_count": 7,
     "metadata": {},
     "output_type": "execute_result"
    }
   ],
   "source": [
    "german.isnull().sum()"
   ]
  },
  {
   "cell_type": "code",
   "execution_count": 8,
   "id": "e88a897a",
   "metadata": {},
   "outputs": [
    {
     "data": {
      "text/html": [
       "<div>\n",
       "<style scoped>\n",
       "    .dataframe tbody tr th:only-of-type {\n",
       "        vertical-align: middle;\n",
       "    }\n",
       "\n",
       "    .dataframe tbody tr th {\n",
       "        vertical-align: top;\n",
       "    }\n",
       "\n",
       "    .dataframe thead th {\n",
       "        text-align: right;\n",
       "    }\n",
       "</style>\n",
       "<table border=\"1\" class=\"dataframe\">\n",
       "  <thead>\n",
       "    <tr style=\"text-align: right;\">\n",
       "      <th></th>\n",
       "      <th>Creditability</th>\n",
       "      <th>Account Balance</th>\n",
       "      <th>Duration of Credit (month)</th>\n",
       "      <th>Payment Status of Previous Credit</th>\n",
       "      <th>Purpose</th>\n",
       "      <th>Credit Amount</th>\n",
       "      <th>Value Savings/Stocks</th>\n",
       "      <th>Length of current employment</th>\n",
       "      <th>Instalment per cent</th>\n",
       "      <th>Sex &amp; Marital Status</th>\n",
       "      <th>...</th>\n",
       "      <th>Duration in Current address</th>\n",
       "      <th>Most valuable available asset</th>\n",
       "      <th>Age (years)</th>\n",
       "      <th>Concurrent Credits</th>\n",
       "      <th>Type of apartment</th>\n",
       "      <th>No of Credits at this Bank</th>\n",
       "      <th>Occupation</th>\n",
       "      <th>No of dependents</th>\n",
       "      <th>Telephone</th>\n",
       "      <th>Foreign Worker</th>\n",
       "    </tr>\n",
       "  </thead>\n",
       "  <tbody>\n",
       "    <tr>\n",
       "      <th>count</th>\n",
       "      <td>1000.000000</td>\n",
       "      <td>1000.000000</td>\n",
       "      <td>1000.000000</td>\n",
       "      <td>1000.00000</td>\n",
       "      <td>1000.000000</td>\n",
       "      <td>1000.00000</td>\n",
       "      <td>1000.000000</td>\n",
       "      <td>1000.000000</td>\n",
       "      <td>1000.000000</td>\n",
       "      <td>1000.00000</td>\n",
       "      <td>...</td>\n",
       "      <td>1000.000000</td>\n",
       "      <td>1000.000000</td>\n",
       "      <td>1000.00000</td>\n",
       "      <td>1000.000000</td>\n",
       "      <td>1000.000000</td>\n",
       "      <td>1000.000000</td>\n",
       "      <td>1000.000000</td>\n",
       "      <td>1000.000000</td>\n",
       "      <td>1000.000000</td>\n",
       "      <td>1000.000000</td>\n",
       "    </tr>\n",
       "    <tr>\n",
       "      <th>mean</th>\n",
       "      <td>0.700000</td>\n",
       "      <td>2.577000</td>\n",
       "      <td>20.903000</td>\n",
       "      <td>2.54500</td>\n",
       "      <td>2.828000</td>\n",
       "      <td>3271.24800</td>\n",
       "      <td>2.105000</td>\n",
       "      <td>3.384000</td>\n",
       "      <td>2.973000</td>\n",
       "      <td>2.68200</td>\n",
       "      <td>...</td>\n",
       "      <td>2.845000</td>\n",
       "      <td>2.358000</td>\n",
       "      <td>35.54200</td>\n",
       "      <td>2.675000</td>\n",
       "      <td>1.928000</td>\n",
       "      <td>1.407000</td>\n",
       "      <td>2.904000</td>\n",
       "      <td>1.155000</td>\n",
       "      <td>1.404000</td>\n",
       "      <td>1.037000</td>\n",
       "    </tr>\n",
       "    <tr>\n",
       "      <th>std</th>\n",
       "      <td>0.458487</td>\n",
       "      <td>1.257638</td>\n",
       "      <td>12.058814</td>\n",
       "      <td>1.08312</td>\n",
       "      <td>2.744439</td>\n",
       "      <td>2822.75176</td>\n",
       "      <td>1.580023</td>\n",
       "      <td>1.208306</td>\n",
       "      <td>1.118715</td>\n",
       "      <td>0.70808</td>\n",
       "      <td>...</td>\n",
       "      <td>1.103718</td>\n",
       "      <td>1.050209</td>\n",
       "      <td>11.35267</td>\n",
       "      <td>0.705601</td>\n",
       "      <td>0.530186</td>\n",
       "      <td>0.577654</td>\n",
       "      <td>0.653614</td>\n",
       "      <td>0.362086</td>\n",
       "      <td>0.490943</td>\n",
       "      <td>0.188856</td>\n",
       "    </tr>\n",
       "    <tr>\n",
       "      <th>min</th>\n",
       "      <td>0.000000</td>\n",
       "      <td>1.000000</td>\n",
       "      <td>4.000000</td>\n",
       "      <td>0.00000</td>\n",
       "      <td>0.000000</td>\n",
       "      <td>250.00000</td>\n",
       "      <td>1.000000</td>\n",
       "      <td>1.000000</td>\n",
       "      <td>1.000000</td>\n",
       "      <td>1.00000</td>\n",
       "      <td>...</td>\n",
       "      <td>1.000000</td>\n",
       "      <td>1.000000</td>\n",
       "      <td>19.00000</td>\n",
       "      <td>1.000000</td>\n",
       "      <td>1.000000</td>\n",
       "      <td>1.000000</td>\n",
       "      <td>1.000000</td>\n",
       "      <td>1.000000</td>\n",
       "      <td>1.000000</td>\n",
       "      <td>1.000000</td>\n",
       "    </tr>\n",
       "    <tr>\n",
       "      <th>25%</th>\n",
       "      <td>0.000000</td>\n",
       "      <td>1.000000</td>\n",
       "      <td>12.000000</td>\n",
       "      <td>2.00000</td>\n",
       "      <td>1.000000</td>\n",
       "      <td>1365.50000</td>\n",
       "      <td>1.000000</td>\n",
       "      <td>3.000000</td>\n",
       "      <td>2.000000</td>\n",
       "      <td>2.00000</td>\n",
       "      <td>...</td>\n",
       "      <td>2.000000</td>\n",
       "      <td>1.000000</td>\n",
       "      <td>27.00000</td>\n",
       "      <td>3.000000</td>\n",
       "      <td>2.000000</td>\n",
       "      <td>1.000000</td>\n",
       "      <td>3.000000</td>\n",
       "      <td>1.000000</td>\n",
       "      <td>1.000000</td>\n",
       "      <td>1.000000</td>\n",
       "    </tr>\n",
       "    <tr>\n",
       "      <th>50%</th>\n",
       "      <td>1.000000</td>\n",
       "      <td>2.000000</td>\n",
       "      <td>18.000000</td>\n",
       "      <td>2.00000</td>\n",
       "      <td>2.000000</td>\n",
       "      <td>2319.50000</td>\n",
       "      <td>1.000000</td>\n",
       "      <td>3.000000</td>\n",
       "      <td>3.000000</td>\n",
       "      <td>3.00000</td>\n",
       "      <td>...</td>\n",
       "      <td>3.000000</td>\n",
       "      <td>2.000000</td>\n",
       "      <td>33.00000</td>\n",
       "      <td>3.000000</td>\n",
       "      <td>2.000000</td>\n",
       "      <td>1.000000</td>\n",
       "      <td>3.000000</td>\n",
       "      <td>1.000000</td>\n",
       "      <td>1.000000</td>\n",
       "      <td>1.000000</td>\n",
       "    </tr>\n",
       "    <tr>\n",
       "      <th>75%</th>\n",
       "      <td>1.000000</td>\n",
       "      <td>4.000000</td>\n",
       "      <td>24.000000</td>\n",
       "      <td>4.00000</td>\n",
       "      <td>3.000000</td>\n",
       "      <td>3972.25000</td>\n",
       "      <td>3.000000</td>\n",
       "      <td>5.000000</td>\n",
       "      <td>4.000000</td>\n",
       "      <td>3.00000</td>\n",
       "      <td>...</td>\n",
       "      <td>4.000000</td>\n",
       "      <td>3.000000</td>\n",
       "      <td>42.00000</td>\n",
       "      <td>3.000000</td>\n",
       "      <td>2.000000</td>\n",
       "      <td>2.000000</td>\n",
       "      <td>3.000000</td>\n",
       "      <td>1.000000</td>\n",
       "      <td>2.000000</td>\n",
       "      <td>1.000000</td>\n",
       "    </tr>\n",
       "    <tr>\n",
       "      <th>max</th>\n",
       "      <td>1.000000</td>\n",
       "      <td>4.000000</td>\n",
       "      <td>72.000000</td>\n",
       "      <td>4.00000</td>\n",
       "      <td>10.000000</td>\n",
       "      <td>18424.00000</td>\n",
       "      <td>5.000000</td>\n",
       "      <td>5.000000</td>\n",
       "      <td>4.000000</td>\n",
       "      <td>4.00000</td>\n",
       "      <td>...</td>\n",
       "      <td>4.000000</td>\n",
       "      <td>4.000000</td>\n",
       "      <td>75.00000</td>\n",
       "      <td>3.000000</td>\n",
       "      <td>3.000000</td>\n",
       "      <td>4.000000</td>\n",
       "      <td>4.000000</td>\n",
       "      <td>2.000000</td>\n",
       "      <td>2.000000</td>\n",
       "      <td>2.000000</td>\n",
       "    </tr>\n",
       "  </tbody>\n",
       "</table>\n",
       "<p>8 rows × 21 columns</p>\n",
       "</div>"
      ],
      "text/plain": [
       "       Creditability  Account Balance  Duration of Credit (month)  \\\n",
       "count    1000.000000      1000.000000                 1000.000000   \n",
       "mean        0.700000         2.577000                   20.903000   \n",
       "std         0.458487         1.257638                   12.058814   \n",
       "min         0.000000         1.000000                    4.000000   \n",
       "25%         0.000000         1.000000                   12.000000   \n",
       "50%         1.000000         2.000000                   18.000000   \n",
       "75%         1.000000         4.000000                   24.000000   \n",
       "max         1.000000         4.000000                   72.000000   \n",
       "\n",
       "       Payment Status of Previous Credit      Purpose  Credit Amount  \\\n",
       "count                         1000.00000  1000.000000     1000.00000   \n",
       "mean                             2.54500     2.828000     3271.24800   \n",
       "std                              1.08312     2.744439     2822.75176   \n",
       "min                              0.00000     0.000000      250.00000   \n",
       "25%                              2.00000     1.000000     1365.50000   \n",
       "50%                              2.00000     2.000000     2319.50000   \n",
       "75%                              4.00000     3.000000     3972.25000   \n",
       "max                              4.00000    10.000000    18424.00000   \n",
       "\n",
       "       Value Savings/Stocks  Length of current employment  \\\n",
       "count           1000.000000                   1000.000000   \n",
       "mean               2.105000                      3.384000   \n",
       "std                1.580023                      1.208306   \n",
       "min                1.000000                      1.000000   \n",
       "25%                1.000000                      3.000000   \n",
       "50%                1.000000                      3.000000   \n",
       "75%                3.000000                      5.000000   \n",
       "max                5.000000                      5.000000   \n",
       "\n",
       "       Instalment per cent  Sex & Marital Status  ...  \\\n",
       "count          1000.000000            1000.00000  ...   \n",
       "mean              2.973000               2.68200  ...   \n",
       "std               1.118715               0.70808  ...   \n",
       "min               1.000000               1.00000  ...   \n",
       "25%               2.000000               2.00000  ...   \n",
       "50%               3.000000               3.00000  ...   \n",
       "75%               4.000000               3.00000  ...   \n",
       "max               4.000000               4.00000  ...   \n",
       "\n",
       "       Duration in Current address  Most valuable available asset  \\\n",
       "count                  1000.000000                    1000.000000   \n",
       "mean                      2.845000                       2.358000   \n",
       "std                       1.103718                       1.050209   \n",
       "min                       1.000000                       1.000000   \n",
       "25%                       2.000000                       1.000000   \n",
       "50%                       3.000000                       2.000000   \n",
       "75%                       4.000000                       3.000000   \n",
       "max                       4.000000                       4.000000   \n",
       "\n",
       "       Age (years)  Concurrent Credits  Type of apartment  \\\n",
       "count   1000.00000         1000.000000        1000.000000   \n",
       "mean      35.54200            2.675000           1.928000   \n",
       "std       11.35267            0.705601           0.530186   \n",
       "min       19.00000            1.000000           1.000000   \n",
       "25%       27.00000            3.000000           2.000000   \n",
       "50%       33.00000            3.000000           2.000000   \n",
       "75%       42.00000            3.000000           2.000000   \n",
       "max       75.00000            3.000000           3.000000   \n",
       "\n",
       "       No of Credits at this Bank   Occupation  No of dependents    Telephone  \\\n",
       "count                 1000.000000  1000.000000       1000.000000  1000.000000   \n",
       "mean                     1.407000     2.904000          1.155000     1.404000   \n",
       "std                      0.577654     0.653614          0.362086     0.490943   \n",
       "min                      1.000000     1.000000          1.000000     1.000000   \n",
       "25%                      1.000000     3.000000          1.000000     1.000000   \n",
       "50%                      1.000000     3.000000          1.000000     1.000000   \n",
       "75%                      2.000000     3.000000          1.000000     2.000000   \n",
       "max                      4.000000     4.000000          2.000000     2.000000   \n",
       "\n",
       "       Foreign Worker  \n",
       "count     1000.000000  \n",
       "mean         1.037000  \n",
       "std          0.188856  \n",
       "min          1.000000  \n",
       "25%          1.000000  \n",
       "50%          1.000000  \n",
       "75%          1.000000  \n",
       "max          2.000000  \n",
       "\n",
       "[8 rows x 21 columns]"
      ]
     },
     "execution_count": 8,
     "metadata": {},
     "output_type": "execute_result"
    }
   ],
   "source": [
    "german.describe()"
   ]
  },
  {
   "cell_type": "code",
   "execution_count": 9,
   "id": "40b29ef5",
   "metadata": {},
   "outputs": [
    {
     "name": "stdout",
     "output_type": "stream",
     "text": [
      "4       6\n",
      "5       1\n",
      "6      75\n",
      "7       5\n",
      "8       7\n",
      "9      49\n",
      "10     28\n",
      "11      9\n",
      "12    179\n",
      "13      4\n",
      "14      4\n",
      "15     64\n",
      "16      2\n",
      "18    113\n",
      "20      8\n",
      "21     30\n",
      "22      2\n",
      "24    184\n",
      "26      1\n",
      "27     13\n",
      "28      3\n",
      "30     40\n",
      "33      3\n",
      "36     83\n",
      "39      5\n",
      "40      1\n",
      "42     11\n",
      "45      5\n",
      "47      1\n",
      "48     48\n",
      "54      2\n",
      "60     13\n",
      "72      1\n",
      "Name: Duration of Credit (month), dtype: int64\n",
      "72      1\n",
      "26      1\n",
      "47      1\n",
      "40      1\n",
      "5       1\n",
      "16      2\n",
      "22      2\n",
      "54      2\n",
      "33      3\n",
      "28      3\n",
      "13      4\n",
      "14      4\n",
      "45      5\n",
      "39      5\n",
      "7       5\n",
      "4       6\n",
      "8       7\n",
      "20      8\n",
      "11      9\n",
      "42     11\n",
      "60     13\n",
      "27     13\n",
      "10     28\n",
      "21     30\n",
      "30     40\n",
      "48     48\n",
      "9      49\n",
      "15     64\n",
      "6      75\n",
      "36     83\n",
      "18    113\n",
      "12    179\n",
      "24    184\n",
      "Name: Duration of Credit (month), dtype: int64\n"
     ]
    }
   ],
   "source": [
    "print(german['Duration of Credit (month)'].value_counts().sort_index())\n",
    "\n",
    "print(german['Duration of Credit (month)'].value_counts().sort_values())"
   ]
  },
  {
   "cell_type": "code",
   "execution_count": 10,
   "id": "8439a9ae",
   "metadata": {},
   "outputs": [
    {
     "name": "stdout",
     "output_type": "stream",
     "text": [
      "Creditability                   0\n",
      "Duration of Credit (month)      4\n",
      "Purpose                         0\n",
      "Credit Amount                 250\n",
      "dtype: int64\n",
      "Creditability                     1\n",
      "Duration of Credit (month)       72\n",
      "Purpose                          10\n",
      "Credit Amount                 18424\n",
      "dtype: int64\n",
      "Creditability                    0.700\n",
      "Duration of Credit (month)      20.903\n",
      "Purpose                          2.828\n",
      "Credit Amount                 3271.248\n",
      "dtype: float64\n"
     ]
    }
   ],
   "source": [
    "german_sample = german[['Creditability', 'Duration of Credit (month)',\n",
    "                        'Purpose', 'Credit Amount']]\n",
    "\n",
    "print(german_sample.min())\n",
    "print(german_sample.max())\n",
    "print(german_sample.mean())"
   ]
  },
  {
   "cell_type": "code",
   "execution_count": 11,
   "id": "55a58f6d",
   "metadata": {},
   "outputs": [
    {
     "data": {
      "text/html": [
       "<div>\n",
       "<style scoped>\n",
       "    .dataframe tbody tr th:only-of-type {\n",
       "        vertical-align: middle;\n",
       "    }\n",
       "\n",
       "    .dataframe tbody tr th {\n",
       "        vertical-align: top;\n",
       "    }\n",
       "\n",
       "    .dataframe thead th {\n",
       "        text-align: right;\n",
       "    }\n",
       "</style>\n",
       "<table border=\"1\" class=\"dataframe\">\n",
       "  <thead>\n",
       "    <tr style=\"text-align: right;\">\n",
       "      <th></th>\n",
       "      <th>Duration of Credit (month)</th>\n",
       "      <th>Credit Amount</th>\n",
       "      <th>Age (years)</th>\n",
       "    </tr>\n",
       "  </thead>\n",
       "  <tbody>\n",
       "    <tr>\n",
       "      <th>0</th>\n",
       "      <td>18</td>\n",
       "      <td>1049</td>\n",
       "      <td>21</td>\n",
       "    </tr>\n",
       "    <tr>\n",
       "      <th>1</th>\n",
       "      <td>9</td>\n",
       "      <td>2799</td>\n",
       "      <td>36</td>\n",
       "    </tr>\n",
       "    <tr>\n",
       "      <th>2</th>\n",
       "      <td>12</td>\n",
       "      <td>841</td>\n",
       "      <td>23</td>\n",
       "    </tr>\n",
       "    <tr>\n",
       "      <th>3</th>\n",
       "      <td>12</td>\n",
       "      <td>2122</td>\n",
       "      <td>39</td>\n",
       "    </tr>\n",
       "    <tr>\n",
       "      <th>4</th>\n",
       "      <td>12</td>\n",
       "      <td>2171</td>\n",
       "      <td>38</td>\n",
       "    </tr>\n",
       "  </tbody>\n",
       "</table>\n",
       "</div>"
      ],
      "text/plain": [
       "   Duration of Credit (month)  Credit Amount  Age (years)\n",
       "0                          18           1049           21\n",
       "1                           9           2799           36\n",
       "2                          12            841           23\n",
       "3                          12           2122           39\n",
       "4                          12           2171           38"
      ]
     },
     "execution_count": 11,
     "metadata": {},
     "output_type": "execute_result"
    }
   ],
   "source": [
    "# 샘플 df 구성\n",
    "\n",
    "german_sample1 = german[['Duration of Credit (month)',\n",
    "                        'Credit Amount',\n",
    "                        'Age (years)'\n",
    "                        ]]\n",
    "german_sample1.head()"
   ]
  },
  {
   "cell_type": "code",
   "execution_count": 12,
   "id": "556bbdc5",
   "metadata": {},
   "outputs": [
    {
     "data": {
      "text/html": [
       "<div>\n",
       "<style scoped>\n",
       "    .dataframe tbody tr th:only-of-type {\n",
       "        vertical-align: middle;\n",
       "    }\n",
       "\n",
       "    .dataframe tbody tr th {\n",
       "        vertical-align: top;\n",
       "    }\n",
       "\n",
       "    .dataframe thead th {\n",
       "        text-align: right;\n",
       "    }\n",
       "</style>\n",
       "<table border=\"1\" class=\"dataframe\">\n",
       "  <thead>\n",
       "    <tr style=\"text-align: right;\">\n",
       "      <th></th>\n",
       "      <th>Duration of Credit (month)</th>\n",
       "      <th>Credit Amount</th>\n",
       "      <th>Age (years)</th>\n",
       "    </tr>\n",
       "  </thead>\n",
       "  <tbody>\n",
       "    <tr>\n",
       "      <th>Duration of Credit (month)</th>\n",
       "      <td>1.000000</td>\n",
       "      <td>0.624988</td>\n",
       "      <td>-0.037550</td>\n",
       "    </tr>\n",
       "    <tr>\n",
       "      <th>Credit Amount</th>\n",
       "      <td>0.624988</td>\n",
       "      <td>1.000000</td>\n",
       "      <td>0.032273</td>\n",
       "    </tr>\n",
       "    <tr>\n",
       "      <th>Age (years)</th>\n",
       "      <td>-0.037550</td>\n",
       "      <td>0.032273</td>\n",
       "      <td>1.000000</td>\n",
       "    </tr>\n",
       "  </tbody>\n",
       "</table>\n",
       "</div>"
      ],
      "text/plain": [
       "                            Duration of Credit (month)  Credit Amount  \\\n",
       "Duration of Credit (month)                    1.000000       0.624988   \n",
       "Credit Amount                                 0.624988       1.000000   \n",
       "Age (years)                                  -0.037550       0.032273   \n",
       "\n",
       "                            Age (years)  \n",
       "Duration of Credit (month)    -0.037550  \n",
       "Credit Amount                  0.032273  \n",
       "Age (years)                    1.000000  "
      ]
     },
     "execution_count": 12,
     "metadata": {},
     "output_type": "execute_result"
    }
   ],
   "source": [
    "# 변수 간의 상관관계\n",
    "# 범위는 -1 ~ 1, 1에 가까울수록 상관관계 높음(자기와의 관계는 1)\n",
    "\n",
    "german_sample1.corr()"
   ]
  },
  {
   "cell_type": "code",
   "execution_count": 13,
   "id": "aa5d3832",
   "metadata": {},
   "outputs": [
    {
     "data": {
      "text/html": [
       "<div>\n",
       "<style scoped>\n",
       "    .dataframe tbody tr th:only-of-type {\n",
       "        vertical-align: middle;\n",
       "    }\n",
       "\n",
       "    .dataframe tbody tr th {\n",
       "        vertical-align: top;\n",
       "    }\n",
       "\n",
       "    .dataframe thead th {\n",
       "        text-align: right;\n",
       "    }\n",
       "</style>\n",
       "<table border=\"1\" class=\"dataframe\">\n",
       "  <thead>\n",
       "    <tr style=\"text-align: right;\">\n",
       "      <th></th>\n",
       "      <th>Duration of Credit (month)</th>\n",
       "      <th>Credit Amount</th>\n",
       "      <th>Age (years)</th>\n",
       "    </tr>\n",
       "  </thead>\n",
       "  <tbody>\n",
       "    <tr>\n",
       "      <th>Duration of Credit (month)</th>\n",
       "      <td>145.415006</td>\n",
       "      <td>2.127401e+04</td>\n",
       "      <td>-5.140567</td>\n",
       "    </tr>\n",
       "    <tr>\n",
       "      <th>Credit Amount</th>\n",
       "      <td>21274.007063</td>\n",
       "      <td>7.967927e+06</td>\n",
       "      <td>1034.202787</td>\n",
       "    </tr>\n",
       "    <tr>\n",
       "      <th>Age (years)</th>\n",
       "      <td>-5.140567</td>\n",
       "      <td>1.034203e+03</td>\n",
       "      <td>128.883119</td>\n",
       "    </tr>\n",
       "  </tbody>\n",
       "</table>\n",
       "</div>"
      ],
      "text/plain": [
       "                            Duration of Credit (month)  Credit Amount  \\\n",
       "Duration of Credit (month)                  145.415006   2.127401e+04   \n",
       "Credit Amount                             21274.007063   7.967927e+06   \n",
       "Age (years)                                  -5.140567   1.034203e+03   \n",
       "\n",
       "                            Age (years)  \n",
       "Duration of Credit (month)    -5.140567  \n",
       "Credit Amount               1034.202787  \n",
       "Age (years)                  128.883119  "
      ]
     },
     "execution_count": 13,
     "metadata": {},
     "output_type": "execute_result"
    }
   ],
   "source": [
    "# 공분산; 분포도의 관계\n",
    "# 클수록 관계가 큼\n",
    "german_sample1.cov()"
   ]
  },
  {
   "cell_type": "code",
   "execution_count": 14,
   "id": "ae405d71",
   "metadata": {},
   "outputs": [
    {
     "name": "stdout",
     "output_type": "stream",
     "text": [
      "[(1, 0      1049\n",
      "1      2799\n",
      "2       841\n",
      "3      2122\n",
      "5      2241\n",
      "       ... \n",
      "983    1882\n",
      "989    2718\n",
      "993    3966\n",
      "994    6199\n",
      "995    1987\n",
      "Name: Credit Amount, Length: 179, dtype: int64), (2, 4      2171\n",
      "6      3398\n",
      "7      1361\n",
      "8      1098\n",
      "12     1957\n",
      "       ... \n",
      "988     976\n",
      "990     750\n",
      "996    2303\n",
      "998    6468\n",
      "999    6350\n",
      "Name: Credit Amount, Length: 714, dtype: int64), (3, 29      4796\n",
      "44      1239\n",
      "69      2032\n",
      "125     5103\n",
      "146     2964\n",
      "       ...  \n",
      "971     8318\n",
      "979     3386\n",
      "991    12579\n",
      "992     7511\n",
      "997    12680\n",
      "Name: Credit Amount, Length: 107, dtype: int64)]\n",
      "Type of apartment\n",
      "1    3122.553073\n",
      "2    3067.257703\n",
      "3    4881.205607\n",
      "Name: Credit Amount, dtype: float64\n"
     ]
    }
   ],
   "source": [
    "# groupby\n",
    "\n",
    "german['Credit Amount'].groupby(german['Type of apartment'])\n",
    "# 샘플의 컬럼을 뽑아서, 다른 컬럼의 그룹을 만듦\n",
    "\n",
    "# 리스트화\n",
    "list(german['Credit Amount'].groupby(german['Type of apartment']))\n",
    "\n",
    "# 변수화; 집계해서 리스트를 임시저장\n",
    "german_grouped = german['Credit Amount'].groupby(german['Type of apartment'])\n",
    "print(list(german_grouped))\n",
    "\n",
    "# 그룹화의 평균\n",
    "print(german_grouped.mean())"
   ]
  },
  {
   "cell_type": "code",
   "execution_count": 15,
   "id": "edbbb205",
   "metadata": {},
   "outputs": [
    {
     "data": {
      "text/plain": [
       "Purpose  Type of apartment\n",
       "0        1                    2597.225000\n",
       "         2                    2811.024242\n",
       "         3                    5138.689655\n",
       "1        1                    5037.086957\n",
       "         2                    4915.222222\n",
       "         3                    6609.923077\n",
       "2        1                    2727.354167\n",
       "         2                    3107.450820\n",
       "         3                    4100.181818\n",
       "3        1                    2199.763158\n",
       "         2                    2540.533040\n",
       "         3                    2417.333333\n",
       "4        1                    1255.500000\n",
       "         2                    1546.500000\n",
       "5        1                    1522.000000\n",
       "         2                    2866.000000\n",
       "         3                    2750.666667\n",
       "6        1                    3156.444444\n",
       "         2                    2492.423077\n",
       "         3                    4387.266667\n",
       "8        1                     902.000000\n",
       "         2                    1243.875000\n",
       "9        1                    5614.125000\n",
       "         2                    3800.592105\n",
       "         3                    4931.800000\n",
       "10       2                    8576.111111\n",
       "         3                    7109.000000\n",
       "Name: Credit Amount, dtype: float64"
      ]
     },
     "execution_count": 15,
     "metadata": {},
     "output_type": "execute_result"
    }
   ],
   "source": [
    "# 두개 그룹화; 여러 개면 리스트형으로 감싸야 함\n",
    "\n",
    "german_group2 = german['Credit Amount'].groupby([german['Purpose'],\n",
    "                                                 german['Type of apartment']\n",
    "                                                ])\n",
    "list(german_group2)[0]\n",
    "\n",
    "german_group2.mean()"
   ]
  },
  {
   "cell_type": "code",
   "execution_count": 16,
   "id": "4d2018ec",
   "metadata": {},
   "outputs": [
    {
     "data": {
      "text/plain": [
       "[(1,\n",
       "       Type of apartment  Sex & Marital Status  Credit Amount\n",
       "  0                    1                     2           1049\n",
       "  1                    1                     3           2799\n",
       "  2                    1                     2            841\n",
       "  3                    1                     3           2122\n",
       "  5                    1                     3           2241\n",
       "  ..                 ...                   ...            ...\n",
       "  983                  1                     2           1882\n",
       "  989                  1                     2           2718\n",
       "  993                  1                     2           3966\n",
       "  994                  1                     3           6199\n",
       "  995                  1                     3           1987\n",
       "  \n",
       "  [179 rows x 3 columns]),\n",
       " (2,\n",
       "       Type of apartment  Sex & Marital Status  Credit Amount\n",
       "  4                    2                     3           2171\n",
       "  6                    2                     3           3398\n",
       "  7                    2                     3           1361\n",
       "  8                    2                     2           1098\n",
       "  12                   2                     2           1957\n",
       "  ..                 ...                   ...            ...\n",
       "  988                  2                     2            976\n",
       "  990                  2                     2            750\n",
       "  996                  2                     3           2303\n",
       "  998                  2                     3           6468\n",
       "  999                  2                     3           6350\n",
       "  \n",
       "  [714 rows x 3 columns]),\n",
       " (3,\n",
       "       Type of apartment  Sex & Marital Status  Credit Amount\n",
       "  29                   3                     3           4796\n",
       "  44                   3                     3           1239\n",
       "  69                   3                     3           2032\n",
       "  125                  3                     4           5103\n",
       "  146                  3                     3           2964\n",
       "  ..                 ...                   ...            ...\n",
       "  971                  3                     2           8318\n",
       "  979                  3                     3           3386\n",
       "  991                  3                     2          12579\n",
       "  992                  3                     3           7511\n",
       "  997                  3                     3          12680\n",
       "  \n",
       "  [107 rows x 3 columns])]"
      ]
     },
     "execution_count": 16,
     "metadata": {},
     "output_type": "execute_result"
    }
   ],
   "source": [
    "# 그룹 간 반복\n",
    "\n",
    "german_sample3 = german[['Type of apartment',\n",
    "                         'Sex & Marital Status',\n",
    "                         'Credit Amount'\n",
    "                        ]]\n",
    "\n",
    "german_grouped3 = german_sample3.groupby('Type of apartment')\n",
    "\n",
    "list(german_grouped3)"
   ]
  },
  {
   "cell_type": "code",
   "execution_count": 17,
   "id": "0f7bc2e4",
   "metadata": {},
   "outputs": [
    {
     "name": "stdout",
     "output_type": "stream",
     "text": [
      "type1\n",
      "   Type of apartment  Sex & Marital Status  Credit Amount\n",
      "0                  1                     2           1049\n",
      "1                  1                     3           2799\n",
      "2                  1                     2            841\n",
      "type1\n",
      "   Type of apartment  Sex & Marital Status  Credit Amount\n",
      "4                  2                     3           2171\n",
      "6                  2                     3           3398\n",
      "7                  2                     3           1361\n",
      "type1\n",
      "    Type of apartment  Sex & Marital Status  Credit Amount\n",
      "29                  3                     3           4796\n",
      "44                  3                     3           1239\n",
      "69                  3                     3           2032\n"
     ]
    }
   ],
   "source": [
    "for type1, group in german_grouped3:\n",
    "    print('type1')\n",
    "    print(group.head(3))"
   ]
  },
  {
   "cell_type": "code",
   "execution_count": 18,
   "id": "aff89335",
   "metadata": {},
   "outputs": [
    {
     "data": {
      "text/plain": [
       "((1, 1),\n",
       "      Type of apartment  Sex & Marital Status  Credit Amount\n",
       " 369                  1                     1           3021\n",
       " 777                  1                     1           3384\n",
       " 797                  1                     1           2319\n",
       " 857                  1                     1           2302\n",
       " 932                  1                     1           1223\n",
       " 956                  1                     1           2767)"
      ]
     },
     "execution_count": 18,
     "metadata": {},
     "output_type": "execute_result"
    }
   ],
   "source": [
    "german_group3 = german_sample3.groupby(['Type of apartment',\n",
    "                                        'Sex & Marital Status',\n",
    "                                       ])\n",
    "list(german_group3)[0]"
   ]
  },
  {
   "cell_type": "code",
   "execution_count": 19,
   "id": "466dae01",
   "metadata": {},
   "outputs": [
    {
     "name": "stdout",
     "output_type": "stream",
     "text": [
      "1 1\n",
      "     Type of apartment  Sex & Marital Status  Credit Amount\n",
      "369                  1                     1           3021\n",
      "777                  1                     1           3384\n",
      "797                  1                     1           2319\n",
      "1 2\n",
      "   Type of apartment  Sex & Marital Status  Credit Amount\n",
      "0                  1                     2           1049\n",
      "2                  1                     2            841\n",
      "9                  1                     2           3758\n",
      "1 3\n",
      "   Type of apartment  Sex & Marital Status  Credit Amount\n",
      "1                  1                     3           2799\n",
      "3                  1                     3           2122\n",
      "5                  1                     3           2241\n",
      "1 4\n",
      "    Type of apartment  Sex & Marital Status  Credit Amount\n",
      "11                  1                     4           6187\n",
      "14                  1                     4           1936\n",
      "17                  1                     4           3213\n",
      "2 1\n",
      "     Type of apartment  Sex & Marital Status  Credit Amount\n",
      "50                   2                     1            640\n",
      "97                   2                     1           4455\n",
      "112                  2                     1           2366\n",
      "2 2\n",
      "    Type of apartment  Sex & Marital Status  Credit Amount\n",
      "8                   2                     2           1098\n",
      "12                  2                     2           1957\n",
      "33                  2                     2           1376\n",
      "2 3\n",
      "   Type of apartment  Sex & Marital Status  Credit Amount\n",
      "4                  2                     3           2171\n",
      "6                  2                     3           3398\n",
      "7                  2                     3           1361\n",
      "2 4\n",
      "    Type of apartment  Sex & Marital Status  Credit Amount\n",
      "48                  2                     4           1474\n",
      "57                  2                     4           1053\n",
      "78                  2                     4           1602\n",
      "3 1\n",
      "     Type of apartment  Sex & Marital Status  Credit Amount\n",
      "620                  3                     1           9277\n",
      "749                  3                     1           2892\n",
      "784                  3                     1           2149\n",
      "3 2\n",
      "     Type of apartment  Sex & Marital Status  Credit Amount\n",
      "423                  3                     2           2133\n",
      "453                  3                     2           5743\n",
      "467                  3                     2           5324\n",
      "3 3\n",
      "    Type of apartment  Sex & Marital Status  Credit Amount\n",
      "29                  3                     3           4796\n",
      "44                  3                     3           1239\n",
      "69                  3                     3           2032\n",
      "3 4\n",
      "     Type of apartment  Sex & Marital Status  Credit Amount\n",
      "125                  3                     4           5103\n"
     ]
    }
   ],
   "source": [
    "for (type1, sex), group in german_sample3.groupby(['Type of apartment',\n",
    "                                                   'Sex & Marital Status',\n",
    "                                                  ]):\n",
    "    print(type1, sex)\n",
    "    print(group.head(3))"
   ]
  },
  {
   "cell_type": "markdown",
   "id": "5c5625a6",
   "metadata": {},
   "source": [
    "# NumPy\n",
    "\n",
    "과학적 계산을 위한 라이브러리\n",
    "\n",
    "다차원 배열; 리스트, 튜플 등은 일차원 데이터\n",
    "\n",
    "데이터 분석보다, 파이썬의 수치 연산에 특화, 빠른 속도\n",
    "\n",
    "자체의 데이터 구조; ndarray"
   ]
  },
  {
   "cell_type": "markdown",
   "id": "3fcccab3",
   "metadata": {},
   "source": [
    "## np 기본"
   ]
  },
  {
   "cell_type": "code",
   "execution_count": 20,
   "id": "13d141a8",
   "metadata": {},
   "outputs": [
    {
     "name": "stdout",
     "output_type": "stream",
     "text": [
      "pandas ver =  1.2.4\n",
      "numpy ver =  1.20.1\n"
     ]
    }
   ],
   "source": [
    "# import\n",
    "\n",
    "import numpy as np\n",
    "import pandas as pd\n",
    "import matplotlib.pyplot as plt\n",
    "import seaborn as sns\n",
    "# 4개 기본적으로 실행\n",
    "\n",
    "# 각각의 버전을 확인\n",
    "print('pandas ver = ', pd.__version__)\n",
    "print('numpy ver = ', np.__version__)"
   ]
  },
  {
   "cell_type": "code",
   "execution_count": 21,
   "id": "9e18ca63",
   "metadata": {},
   "outputs": [
    {
     "name": "stdout",
     "output_type": "stream",
     "text": [
      "[1 2 3 4]\n"
     ]
    }
   ],
   "source": [
    "# ndarray 생성\n",
    "# 리스트 구조와는 다름\n",
    "\n",
    "arr = np.array([1, 2, 3, 4])\n",
    "print(arr)"
   ]
  },
  {
   "cell_type": "code",
   "execution_count": 22,
   "id": "f875fa2b",
   "metadata": {},
   "outputs": [
    {
     "data": {
      "text/plain": [
       "array([[6.23042070e-307, 4.67296746e-307, 1.69121096e-306,\n",
       "        1.78020984e-306],\n",
       "       [1.33511018e-306, 1.33511969e-306, 6.23037996e-307,\n",
       "        6.23053954e-307],\n",
       "       [9.34609790e-307, 8.45593934e-307, 9.34600963e-307,\n",
       "        8.45606157e-307],\n",
       "       [6.23061763e-307, 1.11261570e-306, 9.34613864e-307,\n",
       "        1.69120552e-306]])"
      ]
     },
     "execution_count": 22,
     "metadata": {},
     "output_type": "execute_result"
    }
   ],
   "source": [
    "# 초기값 설정; n차원 행렬 생성\n",
    "\n",
    "np.zeros((3, 3))\n",
    "np.ones((2, 2))\n",
    "np.empty((4, 4)) # 공백이지만 수치로 표시"
   ]
  },
  {
   "cell_type": "code",
   "execution_count": 23,
   "id": "d9cfde47",
   "metadata": {},
   "outputs": [
    {
     "data": {
      "text/plain": [
       "array([0, 1, 2, 3, 4, 5, 6, 7, 8, 9])"
      ]
     },
     "execution_count": 23,
     "metadata": {},
     "output_type": "execute_result"
    }
   ],
   "source": [
    "# py의 range와 유사한 함수\n",
    "np.arange(10)"
   ]
  },
  {
   "cell_type": "code",
   "execution_count": 24,
   "id": "66aa57a8",
   "metadata": {},
   "outputs": [
    {
     "name": "stdout",
     "output_type": "stream",
     "text": [
      "[[1 2 3]\n",
      " [4 5 6]]\n"
     ]
    }
   ],
   "source": [
    "# 배열의 내용 확인\n",
    "\n",
    "arr = np.array([[1, 2, 3], [4, 5, 6]])\n",
    "print(arr)"
   ]
  },
  {
   "cell_type": "code",
   "execution_count": 25,
   "id": "ec10b7ec",
   "metadata": {},
   "outputs": [
    {
     "data": {
      "text/plain": [
       "(2, 3)"
      ]
     },
     "execution_count": 25,
     "metadata": {},
     "output_type": "execute_result"
    }
   ],
   "source": [
    "# 모양\n",
    "# 행/렬 표현하지 않고 축 개념 사용\n",
    "# 0번 축, 1번 축, ...\n",
    "arr.shape"
   ]
  },
  {
   "cell_type": "code",
   "execution_count": 26,
   "id": "9b8eed92",
   "metadata": {},
   "outputs": [
    {
     "data": {
      "text/plain": [
       "2"
      ]
     },
     "execution_count": 26,
     "metadata": {},
     "output_type": "execute_result"
    }
   ],
   "source": [
    "arr.ndim # 몇 차원인지"
   ]
  },
  {
   "cell_type": "code",
   "execution_count": 27,
   "id": "52b98ecc",
   "metadata": {},
   "outputs": [
    {
     "data": {
      "text/plain": [
       "dtype('int32')"
      ]
     },
     "execution_count": 27,
     "metadata": {},
     "output_type": "execute_result"
    }
   ],
   "source": [
    "arr.dtype # 들어간 데이터의 타입"
   ]
  },
  {
   "cell_type": "code",
   "execution_count": 28,
   "id": "25fd6695",
   "metadata": {},
   "outputs": [
    {
     "data": {
      "text/plain": [
       "dtype('float64')"
      ]
     },
     "execution_count": 28,
     "metadata": {},
     "output_type": "execute_result"
    }
   ],
   "source": [
    "# 형 변환\n",
    "arr_int = np.arange(4)\n",
    "arr_float = arr_int.astype(np.float64)\n",
    "arr_float.dtype # 소수점 추가됨"
   ]
  },
  {
   "cell_type": "code",
   "execution_count": 29,
   "id": "edf63b63",
   "metadata": {},
   "outputs": [],
   "source": [
    "np.array(['a', 'b', 'c'])\n",
    "\n",
    "arr_str = np.array(['1', '2', '3'])\n",
    "arr_str.dtype\n",
    "\n",
    "arr_int = arr_str.astype(np.int64)\n",
    "arr_int\n",
    "\n",
    "arr_str1 = np.array(['a', 'b', 'c'])\n",
    "# 문자열은 숫자로 형 변환 불가"
   ]
  },
  {
   "cell_type": "code",
   "execution_count": 30,
   "id": "23140111",
   "metadata": {},
   "outputs": [
    {
     "data": {
      "text/plain": [
       "array([[-4, -4],\n",
       "       [-4, -4]])"
      ]
     },
     "execution_count": 30,
     "metadata": {},
     "output_type": "execute_result"
    }
   ],
   "source": [
    "# 연산\n",
    "\n",
    "arr1 = np.array([[1, 2,], [3, 4]])\n",
    "arr1\n",
    "\n",
    "np.arange(1, 5)\n",
    "\n",
    "# 1차원을 2차원으로 나누기; 갯수가 맞지 않으면 오류\n",
    "arr2 = np.arange(5, 9).reshape(2, 2)\n",
    "arr2\n",
    "\n",
    "arr1 + arr2 # 각 요소별로 연산\n",
    "\n",
    "arr1 + 3 # 모든 요소에 각각 3 연산\n",
    "\n",
    "arr1 * arr2 # 각 요소 단위로 곱함\n",
    "\n",
    "np.add(arr1, arr2) # 더하는 함수\n",
    "np.subtract(arr1, arr2) # 빼기"
   ]
  },
  {
   "cell_type": "code",
   "execution_count": 31,
   "id": "c416199e",
   "metadata": {},
   "outputs": [
    {
     "data": {
      "text/plain": [
       "array([[19, 22],\n",
       "       [43, 50]])"
      ]
     },
     "execution_count": 31,
     "metadata": {},
     "output_type": "execute_result"
    }
   ],
   "source": [
    "arr1.dot(arr2) # 행렬 연산\n",
    "# (x, y) 행렬이면 (y, z) 이어야 차원수가 맞음\n",
    "# y가 맞아야 연산이 가능함, 에러의 대부분 차지\n",
    "\n",
    "# (1*5 + 2*7) (1*6 + 2*8) # 식 계산"
   ]
  },
  {
   "cell_type": "code",
   "execution_count": 32,
   "id": "f3d09331",
   "metadata": {},
   "outputs": [
    {
     "name": "stdout",
     "output_type": "stream",
     "text": [
      "[[1 2 3]\n",
      " [4 5 6]\n",
      " [7 8 9]]\n",
      "[[[ 1  2  3  4]\n",
      "  [ 5  6  7  8]\n",
      "  [ 9 10 11 12]]\n",
      "\n",
      " [[13 14 15 16]\n",
      "  [17 18 19 20]\n",
      "  [21 22 23 24]]]\n"
     ]
    },
    {
     "data": {
      "text/plain": [
       "array([[2, 3],\n",
       "       [5, 6]])"
      ]
     },
     "execution_count": 32,
     "metadata": {},
     "output_type": "execute_result"
    }
   ],
   "source": [
    "# 슬라이싱; 중요\n",
    "\n",
    "arr = np.arange(1, 10).reshape(-1, 3) # 차원수가 뒤에서 부터 참\n",
    "print(arr) # -1 은 축과는 무관, 만드는 방법\n",
    "\n",
    "print(np.arange(1, 25).reshape(-1, 3, 4)) # 4가 0번축, 3이 1번축,\n",
    "# 4개를 한줄로 3묶음을 만들고\n",
    "# -1은 남는걸 알아서 정해줌\n",
    "\n",
    "arr[:2, 1:3] # 2차원에서는 행이 0번 축, 열이 1번 축 "
   ]
  },
  {
   "cell_type": "code",
   "execution_count": 33,
   "id": "b204ec10",
   "metadata": {},
   "outputs": [
    {
     "name": "stdout",
     "output_type": "stream",
     "text": [
      "[[1 2 3]\n",
      " [4 5 6]\n",
      " [7 8 9]]\n"
     ]
    },
    {
     "data": {
      "text/plain": [
       "array([[2, 3],\n",
       "       [5, 6]])"
      ]
     },
     "execution_count": 33,
     "metadata": {},
     "output_type": "execute_result"
    }
   ],
   "source": [
    "arr = np.arange(1, 10).reshape(3, 3)\n",
    "print(arr)\n",
    "arr[:2, 1:3]\n",
    "# 1:3이 0번축의 범위\n",
    "# :2는 1번축의 범위\n",
    "# 두 범위의 교집합을 슬라이싱\n",
    "\n",
    "# 슬라이싱한 배열은 원본 배열의 뷰\n",
    "# 슬라이싱한 배열을 수정하면 원본 배열도 바뀜(py의 특징)\n",
    "# 새로운 배열 생성은 copy(); 습관화 해야 원래 데이터 훼손 방지"
   ]
  },
  {
   "cell_type": "code",
   "execution_count": 34,
   "id": "6ba0efd1",
   "metadata": {},
   "outputs": [
    {
     "name": "stdout",
     "output_type": "stream",
     "text": [
      "[[2 3]\n",
      " [5 6]]\n",
      "[[ 2  3]\n",
      " [ 5 99]]\n",
      "[[ 1  2  3]\n",
      " [ 4  5 99]\n",
      " [ 7  8  9]]\n"
     ]
    }
   ],
   "source": [
    "arr1 = arr[:2, 1:3]\n",
    "print(arr1)\n",
    "\n",
    "arr1[1, 1] = 99\n",
    "print(arr1)\n",
    "\n",
    "#  원본 데이터 변경됨\n",
    "print(arr)"
   ]
  },
  {
   "cell_type": "code",
   "execution_count": 35,
   "id": "2818e64e",
   "metadata": {},
   "outputs": [],
   "source": [
    "# mutable vs immutable\n",
    "# mut; 값이 변할 수 있는\n",
    "# immut; 값이 변할 수 없는"
   ]
  },
  {
   "cell_type": "code",
   "execution_count": 36,
   "id": "f2d68a35",
   "metadata": {},
   "outputs": [
    {
     "name": "stdout",
     "output_type": "stream",
     "text": [
      "3\n",
      "[3 4 8]\n"
     ]
    }
   ],
   "source": [
    "print(arr[0, 2]) # 교차되는 범위\n",
    "print(arr[[0, 1, 2], [2, 0, 1]])\n",
    "# 2, 0, 1 은 0번 축의 내용\n",
    "# 0, 1, 2 는 1번 축의 내용"
   ]
  },
  {
   "cell_type": "code",
   "execution_count": 37,
   "id": "925875c3",
   "metadata": {},
   "outputs": [
    {
     "name": "stdout",
     "output_type": "stream",
     "text": [
      "[[False False False]\n",
      " [ True  True  True]]\n"
     ]
    },
    {
     "data": {
      "text/plain": [
       "array([4, 5, 6])"
      ]
     },
     "execution_count": 37,
     "metadata": {},
     "output_type": "execute_result"
    }
   ],
   "source": [
    "# 배열 인덱싱\n",
    "\n",
    "arr = np.arange(1, 7).reshape(2, 3)\n",
    "\n",
    "print(arr > 3) # bool 값 출력\n",
    "\n",
    "arr[arr> 3]\n",
    "# 조건을 만족하는 데이터만 추출\n",
    "# 배열이 흐트러짐\n",
    "# np는 순서는 중요하지 않음"
   ]
  },
  {
   "cell_type": "code",
   "execution_count": 38,
   "id": "45643091",
   "metadata": {},
   "outputs": [
    {
     "data": {
      "text/plain": [
       "array([4, 5, 6])"
      ]
     },
     "execution_count": 38,
     "metadata": {},
     "output_type": "execute_result"
    }
   ],
   "source": [
    "idx = arr > 3\n",
    "idx\n",
    "\n",
    "arr[idx]"
   ]
  },
  {
   "cell_type": "markdown",
   "id": "72b54af0",
   "metadata": {},
   "source": [
    "## wine_quality 사례"
   ]
  },
  {
   "cell_type": "code",
   "execution_count": 39,
   "id": "e3583237",
   "metadata": {},
   "outputs": [
    {
     "name": "stdout",
     "output_type": "stream",
     "text": [
      "[[ 7.4    0.7    0.    ...  0.56   9.4    5.   ]\n",
      " [ 7.8    0.88   0.    ...  0.68   9.8    5.   ]\n",
      " [ 7.8    0.76   0.04  ...  0.65   9.8    5.   ]\n",
      " ...\n",
      " [ 6.3    0.51   0.13  ...  0.75  11.     6.   ]\n",
      " [ 5.9    0.645  0.12  ...  0.71  10.2    5.   ]\n",
      " [ 6.     0.31   0.47  ...  0.66  11.     6.   ]]\n",
      "[[ 7.    0.27  0.36 ...  0.45  8.8   6.  ]\n",
      " [ 6.3   0.3   0.34 ...  0.49  9.5   6.  ]\n",
      " [ 8.1   0.28  0.4  ...  0.44 10.1   6.  ]\n",
      " ...\n",
      " [ 6.5   0.24  0.19 ...  0.46  9.4   6.  ]\n",
      " [ 5.5   0.29  0.3  ...  0.38 12.8   7.  ]\n",
      " [ 6.    0.21  0.38 ...  0.32 11.8   6.  ]]\n",
      "[[ 7.4    0.7    0.    ...  0.56   9.4    5.   ]\n",
      " [ 7.8    0.88   0.    ...  0.68   9.8    5.   ]\n",
      " [ 7.8    0.76   0.04  ...  0.65   9.8    5.   ]\n",
      " ...\n",
      " [ 6.3    0.51   0.13  ...  0.75  11.     6.   ]\n",
      " [ 5.9    0.645  0.12  ...  0.71  10.2    5.   ]\n",
      " [ 6.     0.31   0.47  ...  0.66  11.     6.   ]]\n"
     ]
    }
   ],
   "source": [
    "import numpy as np\n",
    "import pandas as pd\n",
    "\n",
    "url_red = 'https://archive.ics.uci.edu/ml/machine-learning-databases/wine-quality/winequality-red.csv'\n",
    "url_white = 'https://archive.ics.uci.edu/ml/machine-learning-databases/wine-quality/winequality-white.csv'\n",
    "# https://archive.ics.uci.edu/ml/machine-learning-databases/wine-quality/winequality.names\n",
    "# url_red = 'C:\\jhpark\\sync\\python\\db\\winequality-red.csv'\n",
    "# url_white = 'C:\\jhpark\\sync\\python\\db\\winequality-white.csv'\n",
    "\n",
    "# np 파일 읽어오는 함수\n",
    "redwine = np.loadtxt(fname = url_red, delimiter = ';', skiprows = 1)\n",
    "whitewine = np.loadtxt(fname = url_white, delimiter = ';', skiprows = 1)\n",
    "# skiprows = 1; 첫줄 건너뛰기\n",
    "# delimiter; 값을 구분하는 구분자 설정, 기본값은 \\\n",
    "\n",
    "print(redwine)\n",
    "print(whitewine)\n",
    "\n",
    "# pd로 읽는 법\n",
    "print(pd.read_csv(url_red, delimiter = ';').values)"
   ]
  },
  {
   "cell_type": "code",
   "execution_count": 40,
   "id": "e9a75015",
   "metadata": {},
   "outputs": [],
   "source": [
    "# 통계 이야기\n",
    "\n",
    "# 모수; 관심있는 데이터 전체 집합\n",
    "# 샘플; 전체를 알 수 없어 부분을 추출하여 모수를 예측, 대표성을 어떤 지표에 둘 것인지\n",
    "# 대표성 지표; 평균, 중앙값, 최빈값, 분산, 표준편차\n",
    "# 최솟값, 최댓값을 기준으로 데이터 보정하여 비교할 때 이용"
   ]
  },
  {
   "cell_type": "code",
   "execution_count": 41,
   "id": "13941041",
   "metadata": {},
   "outputs": [
    {
     "data": {
      "text/plain": [
       "array([ 8.31963727,  0.52782051,  0.27097561,  2.5388055 ,  0.08746654,\n",
       "       15.87492183, 46.46779237,  0.99674668,  3.3111132 ,  0.65814884,\n",
       "       10.42298311,  5.63602251])"
      ]
     },
     "execution_count": 41,
     "metadata": {},
     "output_type": "execute_result"
    }
   ],
   "source": [
    "redwine.sum()\n",
    "redwine.mean()\n",
    "redwine.mean(axis = 0) # 0번 축에 대한 평균"
   ]
  },
  {
   "cell_type": "code",
   "execution_count": 42,
   "id": "47abd9fa",
   "metadata": {},
   "outputs": [
    {
     "name": "stdout",
     "output_type": "stream",
     "text": [
      "[[1 2 3]\n",
      " [4 5 6]]\n"
     ]
    },
    {
     "data": {
      "text/plain": [
       "array([2., 5.])"
      ]
     },
     "execution_count": 42,
     "metadata": {},
     "output_type": "execute_result"
    }
   ],
   "source": [
    "arr = np.arange(1, 7).reshape(2, 3)\n",
    "print(arr)\n",
    "arr.sum()\n",
    "arr.mean()\n",
    "arr.mean(axis = 0)\n",
    "arr.mean(axis = 1)"
   ]
  },
  {
   "cell_type": "code",
   "execution_count": 43,
   "id": "04917144",
   "metadata": {},
   "outputs": [
    {
     "name": "stdout",
     "output_type": "stream",
     "text": [
      "[[[ 1  2]\n",
      "  [ 3  4]\n",
      "  [ 5  6]]\n",
      "\n",
      " [[ 7  8]\n",
      "  [ 9 10]\n",
      "  [11 12]]]\n",
      "[[4. 5.]\n",
      " [6. 7.]\n",
      " [8. 9.]]\n",
      "[[ 3.  4.]\n",
      " [ 9. 10.]]\n",
      "[[ 1.5  3.5  5.5]\n",
      " [ 7.5  9.5 11.5]]\n"
     ]
    }
   ],
   "source": [
    "arr = np.arange(1, 13).reshape(2, 3, 2)\n",
    "print(arr)\n",
    "arr.sum()\n",
    "arr.mean()\n",
    "print(arr.mean(axis = 0))\n",
    "print(arr.mean(axis = 1))\n",
    "print(arr.mean(axis = 2))\n",
    "# 축 구분 중요"
   ]
  },
  {
   "cell_type": "code",
   "execution_count": 44,
   "id": "69357577",
   "metadata": {},
   "outputs": [
    {
     "name": "stdout",
     "output_type": "stream",
     "text": [
      "[[[ 1  2  3  4]\n",
      "  [ 5  6  7  8]\n",
      "  [ 9 10 11 12]]\n",
      "\n",
      " [[13 14 15 16]\n",
      "  [17 18 19 20]\n",
      "  [21 22 23 24]]]\n",
      "300\n",
      "[[14 16 18 20]\n",
      " [22 24 26 28]\n",
      " [30 32 34 36]]\n",
      "[[15 18 21 24]\n",
      " [51 54 57 60]]\n",
      "[[10 26 42]\n",
      " [58 74 90]]\n",
      "12.5\n",
      "[[ 7.  8.  9. 10.]\n",
      " [11. 12. 13. 14.]\n",
      " [15. 16. 17. 18.]]\n",
      "[[ 5.  6.  7.  8.]\n",
      " [17. 18. 19. 20.]]\n",
      "[[ 2.5  6.5 10.5]\n",
      " [14.5 18.5 22.5]]\n"
     ]
    }
   ],
   "source": [
    "# 축에 따른 연산 구분\n",
    "myarr = np.arange(1, 25).reshape(2, 3, 4)\n",
    "print(myarr)\n",
    "\n",
    "print(myarr.sum())\n",
    "print(myarr.sum(axis = 0))\n",
    "print(myarr.sum(axis = 1))\n",
    "print(myarr.sum(axis = 2))\n",
    "\n",
    "print(myarr.mean())\n",
    "print(myarr.mean(axis = 0))\n",
    "print(myarr.mean(axis = 1))\n",
    "print(myarr.mean(axis = 2))\n",
    "\n",
    "# https://acdongpgm.tistory.com/140\n",
    "# https://ichi.pro/ko/numpy-indegsing-seolmyeong-214914454144013\n",
    "# http://taewan.kim/post/numpy_cheat_sheet/\n",
    "# https://velog.io/@kkiyou/ds1020\n",
    "# https://laboputer.github.io/machine-learning/2020/04/25/numpy-quickstart/"
   ]
  },
  {
   "cell_type": "code",
   "execution_count": 45,
   "id": "92f001f4",
   "metadata": {},
   "outputs": [
    {
     "data": {
      "text/plain": [
       "8.31963727329581"
      ]
     },
     "execution_count": 45,
     "metadata": {},
     "output_type": "execute_result"
    }
   ],
   "source": [
    "redwine[:, 0]\n",
    "redwine[:, 0].mean()"
   ]
  },
  {
   "cell_type": "markdown",
   "id": "baeaa9a9",
   "metadata": {},
   "source": [
    "## pandas 10 min\n",
    "\n",
    "https://pandas.pydata.org/pandas-docs/stable/user_guide/10min.html#minutes-to-pandas\n",
    "https://dataitgirls2.github.io/tutorial/Tutorial_180717_10minPandas.html"
   ]
  },
  {
   "cell_type": "code",
   "execution_count": 46,
   "id": "5299d62b",
   "metadata": {},
   "outputs": [],
   "source": [
    "# 라이브러리 사용\n",
    "import numpy as np\n",
    "import pandas as pd"
   ]
  },
  {
   "cell_type": "code",
   "execution_count": 47,
   "id": "5812a181",
   "metadata": {},
   "outputs": [
    {
     "name": "stdout",
     "output_type": "stream",
     "text": [
      "numpy ver = 1.20.1\n",
      "pandas ver = 1.2.4\n"
     ]
    }
   ],
   "source": [
    "# 사용 라이브러리 버전\n",
    "print('numpy ver =', np.__version__)\n",
    "print('pandas ver =', pd.__version__)"
   ]
  },
  {
   "cell_type": "code",
   "execution_count": 48,
   "id": "54e86eeb",
   "metadata": {},
   "outputs": [
    {
     "data": {
      "text/plain": [
       "0    1.0\n",
       "1    3.0\n",
       "2    5.0\n",
       "3    NaN\n",
       "4    6.0\n",
       "5    8.0\n",
       "dtype: float64"
      ]
     },
     "execution_count": 48,
     "metadata": {},
     "output_type": "execute_result"
    }
   ],
   "source": [
    "# object creation; 객체 생성\n",
    "s = pd.Series([1, 3, 5, np.nan, 6, 8])\n",
    "# np.nan; null 값\n",
    "s"
   ]
  },
  {
   "cell_type": "code",
   "execution_count": 49,
   "id": "37049a7e",
   "metadata": {},
   "outputs": [
    {
     "data": {
      "text/plain": [
       "DatetimeIndex(['2013-01-01', '2013-01-02', '2013-01-03', '2013-01-04',\n",
       "               '2013-01-05', '2013-01-06'],\n",
       "              dtype='datetime64[ns]', freq='D')"
      ]
     },
     "execution_count": 49,
     "metadata": {},
     "output_type": "execute_result"
    }
   ],
   "source": [
    "dates = pd.date_range('20130101', periods=6, freq='d')\n",
    "# 일별로 날짜 데이터 불러오기\n",
    "# w 주, m 월별\n",
    "\n",
    "dates"
   ]
  },
  {
   "cell_type": "code",
   "execution_count": 50,
   "id": "a53b3a53",
   "metadata": {},
   "outputs": [
    {
     "data": {
      "text/html": [
       "<div>\n",
       "<style scoped>\n",
       "    .dataframe tbody tr th:only-of-type {\n",
       "        vertical-align: middle;\n",
       "    }\n",
       "\n",
       "    .dataframe tbody tr th {\n",
       "        vertical-align: top;\n",
       "    }\n",
       "\n",
       "    .dataframe thead th {\n",
       "        text-align: right;\n",
       "    }\n",
       "</style>\n",
       "<table border=\"1\" class=\"dataframe\">\n",
       "  <thead>\n",
       "    <tr style=\"text-align: right;\">\n",
       "      <th></th>\n",
       "      <th>A</th>\n",
       "      <th>B</th>\n",
       "      <th>C</th>\n",
       "      <th>D</th>\n",
       "    </tr>\n",
       "  </thead>\n",
       "  <tbody>\n",
       "    <tr>\n",
       "      <th>2013-01-01</th>\n",
       "      <td>-1.687726</td>\n",
       "      <td>-0.396335</td>\n",
       "      <td>0.399292</td>\n",
       "      <td>-0.020774</td>\n",
       "    </tr>\n",
       "    <tr>\n",
       "      <th>2013-01-02</th>\n",
       "      <td>-0.504841</td>\n",
       "      <td>0.494942</td>\n",
       "      <td>0.763775</td>\n",
       "      <td>0.724602</td>\n",
       "    </tr>\n",
       "    <tr>\n",
       "      <th>2013-01-03</th>\n",
       "      <td>-0.535101</td>\n",
       "      <td>0.782207</td>\n",
       "      <td>1.244994</td>\n",
       "      <td>-0.500447</td>\n",
       "    </tr>\n",
       "    <tr>\n",
       "      <th>2013-01-04</th>\n",
       "      <td>-1.039921</td>\n",
       "      <td>-0.370441</td>\n",
       "      <td>-0.157875</td>\n",
       "      <td>0.039313</td>\n",
       "    </tr>\n",
       "    <tr>\n",
       "      <th>2013-01-05</th>\n",
       "      <td>-2.323293</td>\n",
       "      <td>0.932472</td>\n",
       "      <td>-0.165704</td>\n",
       "      <td>-0.578498</td>\n",
       "    </tr>\n",
       "    <tr>\n",
       "      <th>2013-01-06</th>\n",
       "      <td>-0.740786</td>\n",
       "      <td>0.325351</td>\n",
       "      <td>-0.097022</td>\n",
       "      <td>0.395777</td>\n",
       "    </tr>\n",
       "  </tbody>\n",
       "</table>\n",
       "</div>"
      ],
      "text/plain": [
       "                   A         B         C         D\n",
       "2013-01-01 -1.687726 -0.396335  0.399292 -0.020774\n",
       "2013-01-02 -0.504841  0.494942  0.763775  0.724602\n",
       "2013-01-03 -0.535101  0.782207  1.244994 -0.500447\n",
       "2013-01-04 -1.039921 -0.370441 -0.157875  0.039313\n",
       "2013-01-05 -2.323293  0.932472 -0.165704 -0.578498\n",
       "2013-01-06 -0.740786  0.325351 -0.097022  0.395777"
      ]
     },
     "execution_count": 50,
     "metadata": {},
     "output_type": "execute_result"
    }
   ],
   "source": [
    "df = pd.DataFrame(np.random.randn(6, 4),\n",
    "                  index=dates,\n",
    "                  columns=list('ABCD') # ['A', 'B', 'C', 'D']\n",
    "                 )\n",
    "df"
   ]
  },
  {
   "cell_type": "code",
   "execution_count": 51,
   "id": "941c4d03",
   "metadata": {},
   "outputs": [
    {
     "data": {
      "text/plain": [
       "array([[-4.17572123e-01, -1.42805885e+00, -1.20665052e+00,\n",
       "         8.86356396e-01],\n",
       "       [-2.22618866e-01,  2.63123000e+00, -4.78460354e-01,\n",
       "        -6.87314015e-01],\n",
       "       [ 6.66686414e-01, -5.87376541e-01,  1.45010383e+00,\n",
       "         7.07153378e-01],\n",
       "       [ 2.03711810e-01,  5.68313981e-01,  4.60611207e-01,\n",
       "         9.97011335e-01],\n",
       "       [ 2.99415548e-01, -1.03721169e+00, -1.25378605e-01,\n",
       "        -9.10553726e-01],\n",
       "       [-2.07360956e-03,  1.16475183e-01,  1.16445707e+00,\n",
       "        -6.26966748e-01]])"
      ]
     },
     "execution_count": 51,
     "metadata": {},
     "output_type": "execute_result"
    }
   ],
   "source": [
    "np.random.seed()\n",
    "# 난수를 고정시켜 주기 위해\n",
    "# 순서도 seed, randn 지켜주어야 고정됨\n",
    "# 123은 아무 숫자\n",
    "np.random.randn(6, 4)\n",
    "# 6행4열 난수 생성\n",
    "# 평균이 0, 분산이 1인 데이터"
   ]
  },
  {
   "cell_type": "code",
   "execution_count": 52,
   "id": "aaae78ba",
   "metadata": {},
   "outputs": [
    {
     "data": {
      "text/html": [
       "<div>\n",
       "<style scoped>\n",
       "    .dataframe tbody tr th:only-of-type {\n",
       "        vertical-align: middle;\n",
       "    }\n",
       "\n",
       "    .dataframe tbody tr th {\n",
       "        vertical-align: top;\n",
       "    }\n",
       "\n",
       "    .dataframe thead th {\n",
       "        text-align: right;\n",
       "    }\n",
       "</style>\n",
       "<table border=\"1\" class=\"dataframe\">\n",
       "  <thead>\n",
       "    <tr style=\"text-align: right;\">\n",
       "      <th></th>\n",
       "      <th>A</th>\n",
       "      <th>B</th>\n",
       "      <th>C</th>\n",
       "      <th>D</th>\n",
       "      <th>E</th>\n",
       "      <th>F</th>\n",
       "    </tr>\n",
       "  </thead>\n",
       "  <tbody>\n",
       "    <tr>\n",
       "      <th>0</th>\n",
       "      <td>1.0</td>\n",
       "      <td>2013-01-02</td>\n",
       "      <td>1.0</td>\n",
       "      <td>3</td>\n",
       "      <td>test</td>\n",
       "      <td>foo</td>\n",
       "    </tr>\n",
       "    <tr>\n",
       "      <th>1</th>\n",
       "      <td>1.0</td>\n",
       "      <td>2013-01-02</td>\n",
       "      <td>1.0</td>\n",
       "      <td>3</td>\n",
       "      <td>train</td>\n",
       "      <td>foo</td>\n",
       "    </tr>\n",
       "    <tr>\n",
       "      <th>2</th>\n",
       "      <td>1.0</td>\n",
       "      <td>2013-01-02</td>\n",
       "      <td>1.0</td>\n",
       "      <td>3</td>\n",
       "      <td>test</td>\n",
       "      <td>foo</td>\n",
       "    </tr>\n",
       "    <tr>\n",
       "      <th>3</th>\n",
       "      <td>1.0</td>\n",
       "      <td>2013-01-02</td>\n",
       "      <td>1.0</td>\n",
       "      <td>3</td>\n",
       "      <td>train</td>\n",
       "      <td>foo</td>\n",
       "    </tr>\n",
       "  </tbody>\n",
       "</table>\n",
       "</div>"
      ],
      "text/plain": [
       "     A          B    C  D      E    F\n",
       "0  1.0 2013-01-02  1.0  3   test  foo\n",
       "1  1.0 2013-01-02  1.0  3  train  foo\n",
       "2  1.0 2013-01-02  1.0  3   test  foo\n",
       "3  1.0 2013-01-02  1.0  3  train  foo"
      ]
     },
     "execution_count": 52,
     "metadata": {},
     "output_type": "execute_result"
    }
   ],
   "source": [
    "df2 = pd.DataFrame({'A': 1.0,\n",
    "                    'B': pd.Timestamp('20130102'),\n",
    "                    'C': pd.Series(1, index=list(range(4)), dtype='float32'),\n",
    "                    'D': np.array([3] * 4, dtype='int32'),\n",
    "                    'E': pd.Categorical(['test', 'train', 'test', 'train']),\n",
    "                    'F': 'foo'\n",
    "                   })\n",
    "\n",
    "df2"
   ]
  },
  {
   "cell_type": "code",
   "execution_count": 53,
   "id": "a50df4b1",
   "metadata": {},
   "outputs": [
    {
     "name": "stdout",
     "output_type": "stream",
     "text": [
      "<class 'pandas.core.frame.DataFrame'>\n",
      "Int64Index: 4 entries, 0 to 3\n",
      "Data columns (total 6 columns):\n",
      " #   Column  Non-Null Count  Dtype         \n",
      "---  ------  --------------  -----         \n",
      " 0   A       4 non-null      float64       \n",
      " 1   B       4 non-null      datetime64[ns]\n",
      " 2   C       4 non-null      float32       \n",
      " 3   D       4 non-null      int32         \n",
      " 4   E       4 non-null      category      \n",
      " 5   F       4 non-null      object        \n",
      "dtypes: category(1), datetime64[ns](1), float32(1), float64(1), int32(1), object(1)\n",
      "memory usage: 288.0+ bytes\n"
     ]
    }
   ],
   "source": [
    "df2.info()"
   ]
  },
  {
   "cell_type": "code",
   "execution_count": 54,
   "id": "7c14dc9a",
   "metadata": {},
   "outputs": [
    {
     "data": {
      "text/plain": [
       "A           float64\n",
       "B    datetime64[ns]\n",
       "C           float32\n",
       "D             int32\n",
       "E          category\n",
       "F            object\n",
       "dtype: object"
      ]
     },
     "execution_count": 54,
     "metadata": {},
     "output_type": "execute_result"
    }
   ],
   "source": [
    "df2.dtypes"
   ]
  },
  {
   "cell_type": "code",
   "execution_count": 55,
   "id": "3686a844",
   "metadata": {},
   "outputs": [
    {
     "data": {
      "text/html": [
       "<div>\n",
       "<style scoped>\n",
       "    .dataframe tbody tr th:only-of-type {\n",
       "        vertical-align: middle;\n",
       "    }\n",
       "\n",
       "    .dataframe tbody tr th {\n",
       "        vertical-align: top;\n",
       "    }\n",
       "\n",
       "    .dataframe thead th {\n",
       "        text-align: right;\n",
       "    }\n",
       "</style>\n",
       "<table border=\"1\" class=\"dataframe\">\n",
       "  <thead>\n",
       "    <tr style=\"text-align: right;\">\n",
       "      <th></th>\n",
       "      <th>A</th>\n",
       "      <th>B</th>\n",
       "      <th>C</th>\n",
       "      <th>D</th>\n",
       "    </tr>\n",
       "  </thead>\n",
       "  <tbody>\n",
       "    <tr>\n",
       "      <th>2013-01-01</th>\n",
       "      <td>-1.687726</td>\n",
       "      <td>-0.396335</td>\n",
       "      <td>0.399292</td>\n",
       "      <td>-0.020774</td>\n",
       "    </tr>\n",
       "    <tr>\n",
       "      <th>2013-01-02</th>\n",
       "      <td>-0.504841</td>\n",
       "      <td>0.494942</td>\n",
       "      <td>0.763775</td>\n",
       "      <td>0.724602</td>\n",
       "    </tr>\n",
       "    <tr>\n",
       "      <th>2013-01-03</th>\n",
       "      <td>-0.535101</td>\n",
       "      <td>0.782207</td>\n",
       "      <td>1.244994</td>\n",
       "      <td>-0.500447</td>\n",
       "    </tr>\n",
       "    <tr>\n",
       "      <th>2013-01-04</th>\n",
       "      <td>-1.039921</td>\n",
       "      <td>-0.370441</td>\n",
       "      <td>-0.157875</td>\n",
       "      <td>0.039313</td>\n",
       "    </tr>\n",
       "    <tr>\n",
       "      <th>2013-01-05</th>\n",
       "      <td>-2.323293</td>\n",
       "      <td>0.932472</td>\n",
       "      <td>-0.165704</td>\n",
       "      <td>-0.578498</td>\n",
       "    </tr>\n",
       "    <tr>\n",
       "      <th>2013-01-06</th>\n",
       "      <td>-0.740786</td>\n",
       "      <td>0.325351</td>\n",
       "      <td>-0.097022</td>\n",
       "      <td>0.395777</td>\n",
       "    </tr>\n",
       "  </tbody>\n",
       "</table>\n",
       "</div>"
      ],
      "text/plain": [
       "                   A         B         C         D\n",
       "2013-01-01 -1.687726 -0.396335  0.399292 -0.020774\n",
       "2013-01-02 -0.504841  0.494942  0.763775  0.724602\n",
       "2013-01-03 -0.535101  0.782207  1.244994 -0.500447\n",
       "2013-01-04 -1.039921 -0.370441 -0.157875  0.039313\n",
       "2013-01-05 -2.323293  0.932472 -0.165704 -0.578498\n",
       "2013-01-06 -0.740786  0.325351 -0.097022  0.395777"
      ]
     },
     "execution_count": 55,
     "metadata": {},
     "output_type": "execute_result"
    }
   ],
   "source": [
    "# viewing data; 데이터 조회\n",
    "\n",
    "df.head()\n",
    "df.tail()\n",
    "df.index\n",
    "df.columns\n",
    "df.columns = list('ABCD') # 컬럼명 수정\n",
    "df"
   ]
  },
  {
   "cell_type": "code",
   "execution_count": 56,
   "id": "edf58966",
   "metadata": {},
   "outputs": [],
   "source": [
    "# tmp"
   ]
  },
  {
   "cell_type": "code",
   "execution_count": 57,
   "id": "40df887b",
   "metadata": {},
   "outputs": [
    {
     "data": {
      "text/plain": [
       "array([[-1.68772597, -0.39633456,  0.39929248, -0.02077358],\n",
       "       [-0.50484076,  0.49494235,  0.76377549,  0.7246021 ],\n",
       "       [-0.53510144,  0.78220713,  1.24499373, -0.50044655],\n",
       "       [-1.03992083, -0.37044067, -0.15787486,  0.03931251],\n",
       "       [-2.32329336,  0.93247151, -0.16570449, -0.57849838],\n",
       "       [-0.74078579,  0.3253514 , -0.09702206,  0.39577669]])"
      ]
     },
     "execution_count": 57,
     "metadata": {},
     "output_type": "execute_result"
    }
   ],
   "source": [
    "df.to_numpy()"
   ]
  },
  {
   "cell_type": "code",
   "execution_count": 58,
   "id": "564a22de",
   "metadata": {},
   "outputs": [
    {
     "data": {
      "text/plain": [
       "array([[1.0, Timestamp('2013-01-02 00:00:00'), 1.0, 3, 'test', 'foo'],\n",
       "       [1.0, Timestamp('2013-01-02 00:00:00'), 1.0, 3, 'train', 'foo'],\n",
       "       [1.0, Timestamp('2013-01-02 00:00:00'), 1.0, 3, 'test', 'foo'],\n",
       "       [1.0, Timestamp('2013-01-02 00:00:00'), 1.0, 3, 'train', 'foo']],\n",
       "      dtype=object)"
      ]
     },
     "execution_count": 58,
     "metadata": {},
     "output_type": "execute_result"
    }
   ],
   "source": [
    "df2.to_numpy()"
   ]
  },
  {
   "cell_type": "code",
   "execution_count": 59,
   "id": "795109a2",
   "metadata": {},
   "outputs": [
    {
     "data": {
      "text/html": [
       "<div>\n",
       "<style scoped>\n",
       "    .dataframe tbody tr th:only-of-type {\n",
       "        vertical-align: middle;\n",
       "    }\n",
       "\n",
       "    .dataframe tbody tr th {\n",
       "        vertical-align: top;\n",
       "    }\n",
       "\n",
       "    .dataframe thead th {\n",
       "        text-align: right;\n",
       "    }\n",
       "</style>\n",
       "<table border=\"1\" class=\"dataframe\">\n",
       "  <thead>\n",
       "    <tr style=\"text-align: right;\">\n",
       "      <th></th>\n",
       "      <th>A</th>\n",
       "      <th>B</th>\n",
       "      <th>C</th>\n",
       "      <th>D</th>\n",
       "    </tr>\n",
       "  </thead>\n",
       "  <tbody>\n",
       "    <tr>\n",
       "      <th>count</th>\n",
       "      <td>6.000000</td>\n",
       "      <td>6.000000</td>\n",
       "      <td>6.000000</td>\n",
       "      <td>6.000000</td>\n",
       "    </tr>\n",
       "    <tr>\n",
       "      <th>mean</th>\n",
       "      <td>-1.138611</td>\n",
       "      <td>0.294700</td>\n",
       "      <td>0.331243</td>\n",
       "      <td>0.009995</td>\n",
       "    </tr>\n",
       "    <tr>\n",
       "      <th>std</th>\n",
       "      <td>0.726484</td>\n",
       "      <td>0.566638</td>\n",
       "      <td>0.582453</td>\n",
       "      <td>0.503621</td>\n",
       "    </tr>\n",
       "    <tr>\n",
       "      <th>min</th>\n",
       "      <td>-2.323293</td>\n",
       "      <td>-0.396335</td>\n",
       "      <td>-0.165704</td>\n",
       "      <td>-0.578498</td>\n",
       "    </tr>\n",
       "    <tr>\n",
       "      <th>25%</th>\n",
       "      <td>-1.525775</td>\n",
       "      <td>-0.196493</td>\n",
       "      <td>-0.142662</td>\n",
       "      <td>-0.380528</td>\n",
       "    </tr>\n",
       "    <tr>\n",
       "      <th>50%</th>\n",
       "      <td>-0.890353</td>\n",
       "      <td>0.410147</td>\n",
       "      <td>0.151135</td>\n",
       "      <td>0.009269</td>\n",
       "    </tr>\n",
       "    <tr>\n",
       "      <th>75%</th>\n",
       "      <td>-0.586523</td>\n",
       "      <td>0.710391</td>\n",
       "      <td>0.672655</td>\n",
       "      <td>0.306661</td>\n",
       "    </tr>\n",
       "    <tr>\n",
       "      <th>max</th>\n",
       "      <td>-0.504841</td>\n",
       "      <td>0.932472</td>\n",
       "      <td>1.244994</td>\n",
       "      <td>0.724602</td>\n",
       "    </tr>\n",
       "  </tbody>\n",
       "</table>\n",
       "</div>"
      ],
      "text/plain": [
       "              A         B         C         D\n",
       "count  6.000000  6.000000  6.000000  6.000000\n",
       "mean  -1.138611  0.294700  0.331243  0.009995\n",
       "std    0.726484  0.566638  0.582453  0.503621\n",
       "min   -2.323293 -0.396335 -0.165704 -0.578498\n",
       "25%   -1.525775 -0.196493 -0.142662 -0.380528\n",
       "50%   -0.890353  0.410147  0.151135  0.009269\n",
       "75%   -0.586523  0.710391  0.672655  0.306661\n",
       "max   -0.504841  0.932472  1.244994  0.724602"
      ]
     },
     "execution_count": 59,
     "metadata": {},
     "output_type": "execute_result"
    }
   ],
   "source": [
    "df.describe()"
   ]
  },
  {
   "cell_type": "code",
   "execution_count": 60,
   "id": "bc5ccca5",
   "metadata": {},
   "outputs": [
    {
     "data": {
      "text/html": [
       "<div>\n",
       "<style scoped>\n",
       "    .dataframe tbody tr th:only-of-type {\n",
       "        vertical-align: middle;\n",
       "    }\n",
       "\n",
       "    .dataframe tbody tr th {\n",
       "        vertical-align: top;\n",
       "    }\n",
       "\n",
       "    .dataframe thead th {\n",
       "        text-align: right;\n",
       "    }\n",
       "</style>\n",
       "<table border=\"1\" class=\"dataframe\">\n",
       "  <thead>\n",
       "    <tr style=\"text-align: right;\">\n",
       "      <th></th>\n",
       "      <th>2013-01-01</th>\n",
       "      <th>2013-01-02</th>\n",
       "      <th>2013-01-03</th>\n",
       "      <th>2013-01-04</th>\n",
       "      <th>2013-01-05</th>\n",
       "      <th>2013-01-06</th>\n",
       "    </tr>\n",
       "  </thead>\n",
       "  <tbody>\n",
       "    <tr>\n",
       "      <th>A</th>\n",
       "      <td>-1.687726</td>\n",
       "      <td>-0.504841</td>\n",
       "      <td>-0.535101</td>\n",
       "      <td>-1.039921</td>\n",
       "      <td>-2.323293</td>\n",
       "      <td>-0.740786</td>\n",
       "    </tr>\n",
       "    <tr>\n",
       "      <th>B</th>\n",
       "      <td>-0.396335</td>\n",
       "      <td>0.494942</td>\n",
       "      <td>0.782207</td>\n",
       "      <td>-0.370441</td>\n",
       "      <td>0.932472</td>\n",
       "      <td>0.325351</td>\n",
       "    </tr>\n",
       "    <tr>\n",
       "      <th>C</th>\n",
       "      <td>0.399292</td>\n",
       "      <td>0.763775</td>\n",
       "      <td>1.244994</td>\n",
       "      <td>-0.157875</td>\n",
       "      <td>-0.165704</td>\n",
       "      <td>-0.097022</td>\n",
       "    </tr>\n",
       "    <tr>\n",
       "      <th>D</th>\n",
       "      <td>-0.020774</td>\n",
       "      <td>0.724602</td>\n",
       "      <td>-0.500447</td>\n",
       "      <td>0.039313</td>\n",
       "      <td>-0.578498</td>\n",
       "      <td>0.395777</td>\n",
       "    </tr>\n",
       "  </tbody>\n",
       "</table>\n",
       "</div>"
      ],
      "text/plain": [
       "   2013-01-01  2013-01-02  2013-01-03  2013-01-04  2013-01-05  2013-01-06\n",
       "A   -1.687726   -0.504841   -0.535101   -1.039921   -2.323293   -0.740786\n",
       "B   -0.396335    0.494942    0.782207   -0.370441    0.932472    0.325351\n",
       "C    0.399292    0.763775    1.244994   -0.157875   -0.165704   -0.097022\n",
       "D   -0.020774    0.724602   -0.500447    0.039313   -0.578498    0.395777"
      ]
     },
     "execution_count": 60,
     "metadata": {},
     "output_type": "execute_result"
    }
   ],
   "source": [
    "df.T # 행과 열을 바꿈"
   ]
  },
  {
   "cell_type": "code",
   "execution_count": 61,
   "id": "3461461f",
   "metadata": {},
   "outputs": [
    {
     "data": {
      "text/html": [
       "<div>\n",
       "<style scoped>\n",
       "    .dataframe tbody tr th:only-of-type {\n",
       "        vertical-align: middle;\n",
       "    }\n",
       "\n",
       "    .dataframe tbody tr th {\n",
       "        vertical-align: top;\n",
       "    }\n",
       "\n",
       "    .dataframe thead th {\n",
       "        text-align: right;\n",
       "    }\n",
       "</style>\n",
       "<table border=\"1\" class=\"dataframe\">\n",
       "  <thead>\n",
       "    <tr style=\"text-align: right;\">\n",
       "      <th></th>\n",
       "      <th>A</th>\n",
       "      <th>B</th>\n",
       "      <th>C</th>\n",
       "      <th>D</th>\n",
       "    </tr>\n",
       "  </thead>\n",
       "  <tbody>\n",
       "    <tr>\n",
       "      <th>2013-01-01</th>\n",
       "      <td>-1.687726</td>\n",
       "      <td>-0.396335</td>\n",
       "      <td>0.399292</td>\n",
       "      <td>-0.020774</td>\n",
       "    </tr>\n",
       "    <tr>\n",
       "      <th>2013-01-02</th>\n",
       "      <td>-0.504841</td>\n",
       "      <td>0.494942</td>\n",
       "      <td>0.763775</td>\n",
       "      <td>0.724602</td>\n",
       "    </tr>\n",
       "    <tr>\n",
       "      <th>2013-01-03</th>\n",
       "      <td>-0.535101</td>\n",
       "      <td>0.782207</td>\n",
       "      <td>1.244994</td>\n",
       "      <td>-0.500447</td>\n",
       "    </tr>\n",
       "    <tr>\n",
       "      <th>2013-01-04</th>\n",
       "      <td>-1.039921</td>\n",
       "      <td>-0.370441</td>\n",
       "      <td>-0.157875</td>\n",
       "      <td>0.039313</td>\n",
       "    </tr>\n",
       "    <tr>\n",
       "      <th>2013-01-05</th>\n",
       "      <td>-2.323293</td>\n",
       "      <td>0.932472</td>\n",
       "      <td>-0.165704</td>\n",
       "      <td>-0.578498</td>\n",
       "    </tr>\n",
       "    <tr>\n",
       "      <th>2013-01-06</th>\n",
       "      <td>-0.740786</td>\n",
       "      <td>0.325351</td>\n",
       "      <td>-0.097022</td>\n",
       "      <td>0.395777</td>\n",
       "    </tr>\n",
       "  </tbody>\n",
       "</table>\n",
       "</div>"
      ],
      "text/plain": [
       "                   A         B         C         D\n",
       "2013-01-01 -1.687726 -0.396335  0.399292 -0.020774\n",
       "2013-01-02 -0.504841  0.494942  0.763775  0.724602\n",
       "2013-01-03 -0.535101  0.782207  1.244994 -0.500447\n",
       "2013-01-04 -1.039921 -0.370441 -0.157875  0.039313\n",
       "2013-01-05 -2.323293  0.932472 -0.165704 -0.578498\n",
       "2013-01-06 -0.740786  0.325351 -0.097022  0.395777"
      ]
     },
     "execution_count": 61,
     "metadata": {},
     "output_type": "execute_result"
    }
   ],
   "source": [
    "df.sort_index()"
   ]
  },
  {
   "cell_type": "code",
   "execution_count": 62,
   "id": "66f58ab8",
   "metadata": {},
   "outputs": [
    {
     "data": {
      "text/html": [
       "<div>\n",
       "<style scoped>\n",
       "    .dataframe tbody tr th:only-of-type {\n",
       "        vertical-align: middle;\n",
       "    }\n",
       "\n",
       "    .dataframe tbody tr th {\n",
       "        vertical-align: top;\n",
       "    }\n",
       "\n",
       "    .dataframe thead th {\n",
       "        text-align: right;\n",
       "    }\n",
       "</style>\n",
       "<table border=\"1\" class=\"dataframe\">\n",
       "  <thead>\n",
       "    <tr style=\"text-align: right;\">\n",
       "      <th></th>\n",
       "      <th>A</th>\n",
       "      <th>B</th>\n",
       "      <th>C</th>\n",
       "      <th>D</th>\n",
       "    </tr>\n",
       "  </thead>\n",
       "  <tbody>\n",
       "    <tr>\n",
       "      <th>2013-01-06</th>\n",
       "      <td>-0.740786</td>\n",
       "      <td>0.325351</td>\n",
       "      <td>-0.097022</td>\n",
       "      <td>0.395777</td>\n",
       "    </tr>\n",
       "    <tr>\n",
       "      <th>2013-01-05</th>\n",
       "      <td>-2.323293</td>\n",
       "      <td>0.932472</td>\n",
       "      <td>-0.165704</td>\n",
       "      <td>-0.578498</td>\n",
       "    </tr>\n",
       "    <tr>\n",
       "      <th>2013-01-04</th>\n",
       "      <td>-1.039921</td>\n",
       "      <td>-0.370441</td>\n",
       "      <td>-0.157875</td>\n",
       "      <td>0.039313</td>\n",
       "    </tr>\n",
       "    <tr>\n",
       "      <th>2013-01-03</th>\n",
       "      <td>-0.535101</td>\n",
       "      <td>0.782207</td>\n",
       "      <td>1.244994</td>\n",
       "      <td>-0.500447</td>\n",
       "    </tr>\n",
       "    <tr>\n",
       "      <th>2013-01-02</th>\n",
       "      <td>-0.504841</td>\n",
       "      <td>0.494942</td>\n",
       "      <td>0.763775</td>\n",
       "      <td>0.724602</td>\n",
       "    </tr>\n",
       "    <tr>\n",
       "      <th>2013-01-01</th>\n",
       "      <td>-1.687726</td>\n",
       "      <td>-0.396335</td>\n",
       "      <td>0.399292</td>\n",
       "      <td>-0.020774</td>\n",
       "    </tr>\n",
       "  </tbody>\n",
       "</table>\n",
       "</div>"
      ],
      "text/plain": [
       "                   A         B         C         D\n",
       "2013-01-06 -0.740786  0.325351 -0.097022  0.395777\n",
       "2013-01-05 -2.323293  0.932472 -0.165704 -0.578498\n",
       "2013-01-04 -1.039921 -0.370441 -0.157875  0.039313\n",
       "2013-01-03 -0.535101  0.782207  1.244994 -0.500447\n",
       "2013-01-02 -0.504841  0.494942  0.763775  0.724602\n",
       "2013-01-01 -1.687726 -0.396335  0.399292 -0.020774"
      ]
     },
     "execution_count": 62,
     "metadata": {},
     "output_type": "execute_result"
    }
   ],
   "source": [
    "df.sort_index(ascending=False)"
   ]
  },
  {
   "cell_type": "code",
   "execution_count": 63,
   "id": "50b42763",
   "metadata": {},
   "outputs": [
    {
     "data": {
      "text/html": [
       "<div>\n",
       "<style scoped>\n",
       "    .dataframe tbody tr th:only-of-type {\n",
       "        vertical-align: middle;\n",
       "    }\n",
       "\n",
       "    .dataframe tbody tr th {\n",
       "        vertical-align: top;\n",
       "    }\n",
       "\n",
       "    .dataframe thead th {\n",
       "        text-align: right;\n",
       "    }\n",
       "</style>\n",
       "<table border=\"1\" class=\"dataframe\">\n",
       "  <thead>\n",
       "    <tr style=\"text-align: right;\">\n",
       "      <th></th>\n",
       "      <th>D</th>\n",
       "      <th>C</th>\n",
       "      <th>B</th>\n",
       "      <th>A</th>\n",
       "    </tr>\n",
       "  </thead>\n",
       "  <tbody>\n",
       "    <tr>\n",
       "      <th>2013-01-01</th>\n",
       "      <td>-0.020774</td>\n",
       "      <td>0.399292</td>\n",
       "      <td>-0.396335</td>\n",
       "      <td>-1.687726</td>\n",
       "    </tr>\n",
       "    <tr>\n",
       "      <th>2013-01-02</th>\n",
       "      <td>0.724602</td>\n",
       "      <td>0.763775</td>\n",
       "      <td>0.494942</td>\n",
       "      <td>-0.504841</td>\n",
       "    </tr>\n",
       "    <tr>\n",
       "      <th>2013-01-03</th>\n",
       "      <td>-0.500447</td>\n",
       "      <td>1.244994</td>\n",
       "      <td>0.782207</td>\n",
       "      <td>-0.535101</td>\n",
       "    </tr>\n",
       "    <tr>\n",
       "      <th>2013-01-04</th>\n",
       "      <td>0.039313</td>\n",
       "      <td>-0.157875</td>\n",
       "      <td>-0.370441</td>\n",
       "      <td>-1.039921</td>\n",
       "    </tr>\n",
       "    <tr>\n",
       "      <th>2013-01-05</th>\n",
       "      <td>-0.578498</td>\n",
       "      <td>-0.165704</td>\n",
       "      <td>0.932472</td>\n",
       "      <td>-2.323293</td>\n",
       "    </tr>\n",
       "    <tr>\n",
       "      <th>2013-01-06</th>\n",
       "      <td>0.395777</td>\n",
       "      <td>-0.097022</td>\n",
       "      <td>0.325351</td>\n",
       "      <td>-0.740786</td>\n",
       "    </tr>\n",
       "  </tbody>\n",
       "</table>\n",
       "</div>"
      ],
      "text/plain": [
       "                   D         C         B         A\n",
       "2013-01-01 -0.020774  0.399292 -0.396335 -1.687726\n",
       "2013-01-02  0.724602  0.763775  0.494942 -0.504841\n",
       "2013-01-03 -0.500447  1.244994  0.782207 -0.535101\n",
       "2013-01-04  0.039313 -0.157875 -0.370441 -1.039921\n",
       "2013-01-05 -0.578498 -0.165704  0.932472 -2.323293\n",
       "2013-01-06  0.395777 -0.097022  0.325351 -0.740786"
      ]
     },
     "execution_count": 63,
     "metadata": {},
     "output_type": "execute_result"
    }
   ],
   "source": [
    "df.sort_index(axis=1, ascending=False)"
   ]
  },
  {
   "cell_type": "code",
   "execution_count": 64,
   "id": "93cbff2b",
   "metadata": {},
   "outputs": [
    {
     "data": {
      "text/html": [
       "<div>\n",
       "<style scoped>\n",
       "    .dataframe tbody tr th:only-of-type {\n",
       "        vertical-align: middle;\n",
       "    }\n",
       "\n",
       "    .dataframe tbody tr th {\n",
       "        vertical-align: top;\n",
       "    }\n",
       "\n",
       "    .dataframe thead th {\n",
       "        text-align: right;\n",
       "    }\n",
       "</style>\n",
       "<table border=\"1\" class=\"dataframe\">\n",
       "  <thead>\n",
       "    <tr style=\"text-align: right;\">\n",
       "      <th></th>\n",
       "      <th>D</th>\n",
       "      <th>C</th>\n",
       "      <th>B</th>\n",
       "      <th>A</th>\n",
       "    </tr>\n",
       "  </thead>\n",
       "  <tbody>\n",
       "    <tr>\n",
       "      <th>2013-01-01</th>\n",
       "      <td>-0.020774</td>\n",
       "      <td>0.399292</td>\n",
       "      <td>-0.396335</td>\n",
       "      <td>-1.687726</td>\n",
       "    </tr>\n",
       "    <tr>\n",
       "      <th>2013-01-02</th>\n",
       "      <td>0.724602</td>\n",
       "      <td>0.763775</td>\n",
       "      <td>0.494942</td>\n",
       "      <td>-0.504841</td>\n",
       "    </tr>\n",
       "    <tr>\n",
       "      <th>2013-01-03</th>\n",
       "      <td>-0.500447</td>\n",
       "      <td>1.244994</td>\n",
       "      <td>0.782207</td>\n",
       "      <td>-0.535101</td>\n",
       "    </tr>\n",
       "    <tr>\n",
       "      <th>2013-01-04</th>\n",
       "      <td>0.039313</td>\n",
       "      <td>-0.157875</td>\n",
       "      <td>-0.370441</td>\n",
       "      <td>-1.039921</td>\n",
       "    </tr>\n",
       "    <tr>\n",
       "      <th>2013-01-05</th>\n",
       "      <td>-0.578498</td>\n",
       "      <td>-0.165704</td>\n",
       "      <td>0.932472</td>\n",
       "      <td>-2.323293</td>\n",
       "    </tr>\n",
       "    <tr>\n",
       "      <th>2013-01-06</th>\n",
       "      <td>0.395777</td>\n",
       "      <td>-0.097022</td>\n",
       "      <td>0.325351</td>\n",
       "      <td>-0.740786</td>\n",
       "    </tr>\n",
       "  </tbody>\n",
       "</table>\n",
       "</div>"
      ],
      "text/plain": [
       "                   D         C         B         A\n",
       "2013-01-01 -0.020774  0.399292 -0.396335 -1.687726\n",
       "2013-01-02  0.724602  0.763775  0.494942 -0.504841\n",
       "2013-01-03 -0.500447  1.244994  0.782207 -0.535101\n",
       "2013-01-04  0.039313 -0.157875 -0.370441 -1.039921\n",
       "2013-01-05 -0.578498 -0.165704  0.932472 -2.323293\n",
       "2013-01-06  0.395777 -0.097022  0.325351 -0.740786"
      ]
     },
     "execution_count": 64,
     "metadata": {},
     "output_type": "execute_result"
    }
   ],
   "source": [
    "df[['D', 'C', 'B', 'A']]"
   ]
  },
  {
   "cell_type": "code",
   "execution_count": 65,
   "id": "4bfbe991",
   "metadata": {},
   "outputs": [
    {
     "data": {
      "text/html": [
       "<div>\n",
       "<style scoped>\n",
       "    .dataframe tbody tr th:only-of-type {\n",
       "        vertical-align: middle;\n",
       "    }\n",
       "\n",
       "    .dataframe tbody tr th {\n",
       "        vertical-align: top;\n",
       "    }\n",
       "\n",
       "    .dataframe thead th {\n",
       "        text-align: right;\n",
       "    }\n",
       "</style>\n",
       "<table border=\"1\" class=\"dataframe\">\n",
       "  <thead>\n",
       "    <tr style=\"text-align: right;\">\n",
       "      <th></th>\n",
       "      <th>A</th>\n",
       "      <th>B</th>\n",
       "      <th>C</th>\n",
       "      <th>D</th>\n",
       "    </tr>\n",
       "  </thead>\n",
       "  <tbody>\n",
       "    <tr>\n",
       "      <th>2013-01-05</th>\n",
       "      <td>-2.323293</td>\n",
       "      <td>0.932472</td>\n",
       "      <td>-0.165704</td>\n",
       "      <td>-0.578498</td>\n",
       "    </tr>\n",
       "    <tr>\n",
       "      <th>2013-01-03</th>\n",
       "      <td>-0.535101</td>\n",
       "      <td>0.782207</td>\n",
       "      <td>1.244994</td>\n",
       "      <td>-0.500447</td>\n",
       "    </tr>\n",
       "    <tr>\n",
       "      <th>2013-01-02</th>\n",
       "      <td>-0.504841</td>\n",
       "      <td>0.494942</td>\n",
       "      <td>0.763775</td>\n",
       "      <td>0.724602</td>\n",
       "    </tr>\n",
       "    <tr>\n",
       "      <th>2013-01-06</th>\n",
       "      <td>-0.740786</td>\n",
       "      <td>0.325351</td>\n",
       "      <td>-0.097022</td>\n",
       "      <td>0.395777</td>\n",
       "    </tr>\n",
       "    <tr>\n",
       "      <th>2013-01-04</th>\n",
       "      <td>-1.039921</td>\n",
       "      <td>-0.370441</td>\n",
       "      <td>-0.157875</td>\n",
       "      <td>0.039313</td>\n",
       "    </tr>\n",
       "    <tr>\n",
       "      <th>2013-01-01</th>\n",
       "      <td>-1.687726</td>\n",
       "      <td>-0.396335</td>\n",
       "      <td>0.399292</td>\n",
       "      <td>-0.020774</td>\n",
       "    </tr>\n",
       "  </tbody>\n",
       "</table>\n",
       "</div>"
      ],
      "text/plain": [
       "                   A         B         C         D\n",
       "2013-01-05 -2.323293  0.932472 -0.165704 -0.578498\n",
       "2013-01-03 -0.535101  0.782207  1.244994 -0.500447\n",
       "2013-01-02 -0.504841  0.494942  0.763775  0.724602\n",
       "2013-01-06 -0.740786  0.325351 -0.097022  0.395777\n",
       "2013-01-04 -1.039921 -0.370441 -0.157875  0.039313\n",
       "2013-01-01 -1.687726 -0.396335  0.399292 -0.020774"
      ]
     },
     "execution_count": 65,
     "metadata": {},
     "output_type": "execute_result"
    }
   ],
   "source": [
    "df.sort_values(by='B', ascending=False)"
   ]
  },
  {
   "cell_type": "markdown",
   "id": "8abf10a7",
   "metadata": {},
   "source": [
    "## selection; 데이터 추출\n",
    "\n",
    "df.loc, df.iloc, df.at, df.iat"
   ]
  },
  {
   "cell_type": "code",
   "execution_count": 66,
   "id": "85c47370",
   "metadata": {},
   "outputs": [
    {
     "data": {
      "text/plain": [
       "2013-01-01   -1.687726\n",
       "2013-01-02   -0.504841\n",
       "2013-01-03   -0.535101\n",
       "2013-01-04   -1.039921\n",
       "2013-01-05   -2.323293\n",
       "2013-01-06   -0.740786\n",
       "Freq: D, Name: A, dtype: float64"
      ]
     },
     "execution_count": 66,
     "metadata": {},
     "output_type": "execute_result"
    }
   ],
   "source": [
    "df['A']"
   ]
  },
  {
   "cell_type": "code",
   "execution_count": 67,
   "id": "4a995053",
   "metadata": {},
   "outputs": [
    {
     "data": {
      "text/html": [
       "<div>\n",
       "<style scoped>\n",
       "    .dataframe tbody tr th:only-of-type {\n",
       "        vertical-align: middle;\n",
       "    }\n",
       "\n",
       "    .dataframe tbody tr th {\n",
       "        vertical-align: top;\n",
       "    }\n",
       "\n",
       "    .dataframe thead th {\n",
       "        text-align: right;\n",
       "    }\n",
       "</style>\n",
       "<table border=\"1\" class=\"dataframe\">\n",
       "  <thead>\n",
       "    <tr style=\"text-align: right;\">\n",
       "      <th></th>\n",
       "      <th>A</th>\n",
       "      <th>B</th>\n",
       "      <th>C</th>\n",
       "      <th>D</th>\n",
       "    </tr>\n",
       "  </thead>\n",
       "  <tbody>\n",
       "    <tr>\n",
       "      <th>2013-01-01</th>\n",
       "      <td>-1.687726</td>\n",
       "      <td>-0.396335</td>\n",
       "      <td>0.399292</td>\n",
       "      <td>-0.020774</td>\n",
       "    </tr>\n",
       "    <tr>\n",
       "      <th>2013-01-02</th>\n",
       "      <td>-0.504841</td>\n",
       "      <td>0.494942</td>\n",
       "      <td>0.763775</td>\n",
       "      <td>0.724602</td>\n",
       "    </tr>\n",
       "    <tr>\n",
       "      <th>2013-01-03</th>\n",
       "      <td>-0.535101</td>\n",
       "      <td>0.782207</td>\n",
       "      <td>1.244994</td>\n",
       "      <td>-0.500447</td>\n",
       "    </tr>\n",
       "  </tbody>\n",
       "</table>\n",
       "</div>"
      ],
      "text/plain": [
       "                   A         B         C         D\n",
       "2013-01-01 -1.687726 -0.396335  0.399292 -0.020774\n",
       "2013-01-02 -0.504841  0.494942  0.763775  0.724602\n",
       "2013-01-03 -0.535101  0.782207  1.244994 -0.500447"
      ]
     },
     "execution_count": 67,
     "metadata": {},
     "output_type": "execute_result"
    }
   ],
   "source": [
    "df[0:3]"
   ]
  },
  {
   "cell_type": "code",
   "execution_count": 68,
   "id": "d204b273",
   "metadata": {},
   "outputs": [],
   "source": [
    "# df['20130102':'20130104'] # 날짜형이지만 문자열처럼 인식 가능\n",
    "# df[''] # - 를 넣어도, 빼도 됨"
   ]
  },
  {
   "cell_type": "code",
   "execution_count": 69,
   "id": "94f8a5b3",
   "metadata": {},
   "outputs": [
    {
     "data": {
      "text/plain": [
       "A   -1.687726\n",
       "B   -0.396335\n",
       "C    0.399292\n",
       "D   -0.020774\n",
       "Name: 2013-01-01 00:00:00, dtype: float64"
      ]
     },
     "execution_count": 69,
     "metadata": {},
     "output_type": "execute_result"
    }
   ],
   "source": [
    "# selection by label; loc\n",
    "df.loc[dates[0]]\n",
    "# 인덱스가 컬럼이 되어서 가져옴"
   ]
  },
  {
   "cell_type": "code",
   "execution_count": 70,
   "id": "f5253278",
   "metadata": {},
   "outputs": [
    {
     "data": {
      "text/plain": [
       "Timestamp('2013-01-01 00:00:00', freq='D')"
      ]
     },
     "execution_count": 70,
     "metadata": {},
     "output_type": "execute_result"
    }
   ],
   "source": [
    "dates[0]"
   ]
  },
  {
   "cell_type": "code",
   "execution_count": 71,
   "id": "cfc30fe5",
   "metadata": {},
   "outputs": [
    {
     "data": {
      "text/html": [
       "<div>\n",
       "<style scoped>\n",
       "    .dataframe tbody tr th:only-of-type {\n",
       "        vertical-align: middle;\n",
       "    }\n",
       "\n",
       "    .dataframe tbody tr th {\n",
       "        vertical-align: top;\n",
       "    }\n",
       "\n",
       "    .dataframe thead th {\n",
       "        text-align: right;\n",
       "    }\n",
       "</style>\n",
       "<table border=\"1\" class=\"dataframe\">\n",
       "  <thead>\n",
       "    <tr style=\"text-align: right;\">\n",
       "      <th></th>\n",
       "      <th>A</th>\n",
       "      <th>B</th>\n",
       "    </tr>\n",
       "  </thead>\n",
       "  <tbody>\n",
       "    <tr>\n",
       "      <th>2013-01-01</th>\n",
       "      <td>-1.687726</td>\n",
       "      <td>-0.396335</td>\n",
       "    </tr>\n",
       "    <tr>\n",
       "      <th>2013-01-02</th>\n",
       "      <td>-0.504841</td>\n",
       "      <td>0.494942</td>\n",
       "    </tr>\n",
       "    <tr>\n",
       "      <th>2013-01-03</th>\n",
       "      <td>-0.535101</td>\n",
       "      <td>0.782207</td>\n",
       "    </tr>\n",
       "    <tr>\n",
       "      <th>2013-01-04</th>\n",
       "      <td>-1.039921</td>\n",
       "      <td>-0.370441</td>\n",
       "    </tr>\n",
       "    <tr>\n",
       "      <th>2013-01-05</th>\n",
       "      <td>-2.323293</td>\n",
       "      <td>0.932472</td>\n",
       "    </tr>\n",
       "    <tr>\n",
       "      <th>2013-01-06</th>\n",
       "      <td>-0.740786</td>\n",
       "      <td>0.325351</td>\n",
       "    </tr>\n",
       "  </tbody>\n",
       "</table>\n",
       "</div>"
      ],
      "text/plain": [
       "                   A         B\n",
       "2013-01-01 -1.687726 -0.396335\n",
       "2013-01-02 -0.504841  0.494942\n",
       "2013-01-03 -0.535101  0.782207\n",
       "2013-01-04 -1.039921 -0.370441\n",
       "2013-01-05 -2.323293  0.932472\n",
       "2013-01-06 -0.740786  0.325351"
      ]
     },
     "execution_count": 71,
     "metadata": {},
     "output_type": "execute_result"
    }
   ],
   "source": [
    "df.loc[:, ['A', 'B']] # 멀티인덱스"
   ]
  },
  {
   "cell_type": "code",
   "execution_count": 72,
   "id": "ef5dd109",
   "metadata": {},
   "outputs": [
    {
     "data": {
      "text/html": [
       "<div>\n",
       "<style scoped>\n",
       "    .dataframe tbody tr th:only-of-type {\n",
       "        vertical-align: middle;\n",
       "    }\n",
       "\n",
       "    .dataframe tbody tr th {\n",
       "        vertical-align: top;\n",
       "    }\n",
       "\n",
       "    .dataframe thead th {\n",
       "        text-align: right;\n",
       "    }\n",
       "</style>\n",
       "<table border=\"1\" class=\"dataframe\">\n",
       "  <thead>\n",
       "    <tr style=\"text-align: right;\">\n",
       "      <th></th>\n",
       "      <th>A</th>\n",
       "      <th>B</th>\n",
       "    </tr>\n",
       "  </thead>\n",
       "  <tbody>\n",
       "    <tr>\n",
       "      <th>2013-01-02</th>\n",
       "      <td>-0.504841</td>\n",
       "      <td>0.494942</td>\n",
       "    </tr>\n",
       "    <tr>\n",
       "      <th>2013-01-03</th>\n",
       "      <td>-0.535101</td>\n",
       "      <td>0.782207</td>\n",
       "    </tr>\n",
       "    <tr>\n",
       "      <th>2013-01-04</th>\n",
       "      <td>-1.039921</td>\n",
       "      <td>-0.370441</td>\n",
       "    </tr>\n",
       "  </tbody>\n",
       "</table>\n",
       "</div>"
      ],
      "text/plain": [
       "                   A         B\n",
       "2013-01-02 -0.504841  0.494942\n",
       "2013-01-03 -0.535101  0.782207\n",
       "2013-01-04 -1.039921 -0.370441"
      ]
     },
     "execution_count": 72,
     "metadata": {},
     "output_type": "execute_result"
    }
   ],
   "source": [
    "df.loc['20130102':'20130104', ['A', 'B']]\n",
    "# 인덱스 값을 알 때 레이블로 가져옴"
   ]
  },
  {
   "cell_type": "code",
   "execution_count": 73,
   "id": "9f88bc71",
   "metadata": {},
   "outputs": [
    {
     "data": {
      "text/plain": [
       "A   -0.504841\n",
       "B    0.494942\n",
       "Name: 2013-01-02 00:00:00, dtype: float64"
      ]
     },
     "execution_count": 73,
     "metadata": {},
     "output_type": "execute_result"
    }
   ],
   "source": [
    "df.loc['20130102', ['A', 'B']]"
   ]
  },
  {
   "cell_type": "code",
   "execution_count": 74,
   "id": "b4285199",
   "metadata": {},
   "outputs": [
    {
     "data": {
      "text/plain": [
       "-1.6877259658991006"
      ]
     },
     "execution_count": 74,
     "metadata": {},
     "output_type": "execute_result"
    }
   ],
   "source": [
    "# 한개의 스칼라 데이터\n",
    "df.loc[dates[0], 'A']"
   ]
  },
  {
   "cell_type": "code",
   "execution_count": 75,
   "id": "81cf5ca8",
   "metadata": {},
   "outputs": [
    {
     "data": {
      "text/plain": [
       "-1.6877259658991006"
      ]
     },
     "execution_count": 75,
     "metadata": {},
     "output_type": "execute_result"
    }
   ],
   "source": [
    "df.at[dates[0], 'A']"
   ]
  },
  {
   "cell_type": "code",
   "execution_count": 76,
   "id": "282d2aab",
   "metadata": {},
   "outputs": [
    {
     "data": {
      "text/html": [
       "<div>\n",
       "<style scoped>\n",
       "    .dataframe tbody tr th:only-of-type {\n",
       "        vertical-align: middle;\n",
       "    }\n",
       "\n",
       "    .dataframe tbody tr th {\n",
       "        vertical-align: top;\n",
       "    }\n",
       "\n",
       "    .dataframe thead th {\n",
       "        text-align: right;\n",
       "    }\n",
       "</style>\n",
       "<table border=\"1\" class=\"dataframe\">\n",
       "  <thead>\n",
       "    <tr style=\"text-align: right;\">\n",
       "      <th></th>\n",
       "      <th>A</th>\n",
       "      <th>B</th>\n",
       "      <th>C</th>\n",
       "      <th>D</th>\n",
       "    </tr>\n",
       "  </thead>\n",
       "  <tbody>\n",
       "    <tr>\n",
       "      <th>2013-01-01</th>\n",
       "      <td>-1.687726</td>\n",
       "      <td>-0.396335</td>\n",
       "      <td>0.399292</td>\n",
       "      <td>-0.020774</td>\n",
       "    </tr>\n",
       "    <tr>\n",
       "      <th>2013-01-02</th>\n",
       "      <td>-0.504841</td>\n",
       "      <td>0.494942</td>\n",
       "      <td>0.763775</td>\n",
       "      <td>0.724602</td>\n",
       "    </tr>\n",
       "    <tr>\n",
       "      <th>2013-01-03</th>\n",
       "      <td>-0.535101</td>\n",
       "      <td>0.782207</td>\n",
       "      <td>1.244994</td>\n",
       "      <td>-0.500447</td>\n",
       "    </tr>\n",
       "    <tr>\n",
       "      <th>2013-01-04</th>\n",
       "      <td>-1.039921</td>\n",
       "      <td>-0.370441</td>\n",
       "      <td>-0.157875</td>\n",
       "      <td>0.039313</td>\n",
       "    </tr>\n",
       "    <tr>\n",
       "      <th>2013-01-05</th>\n",
       "      <td>-2.323293</td>\n",
       "      <td>0.932472</td>\n",
       "      <td>-0.165704</td>\n",
       "      <td>-0.578498</td>\n",
       "    </tr>\n",
       "    <tr>\n",
       "      <th>2013-01-06</th>\n",
       "      <td>-0.740786</td>\n",
       "      <td>0.325351</td>\n",
       "      <td>-0.097022</td>\n",
       "      <td>0.395777</td>\n",
       "    </tr>\n",
       "  </tbody>\n",
       "</table>\n",
       "</div>"
      ],
      "text/plain": [
       "                   A         B         C         D\n",
       "2013-01-01 -1.687726 -0.396335  0.399292 -0.020774\n",
       "2013-01-02 -0.504841  0.494942  0.763775  0.724602\n",
       "2013-01-03 -0.535101  0.782207  1.244994 -0.500447\n",
       "2013-01-04 -1.039921 -0.370441 -0.157875  0.039313\n",
       "2013-01-05 -2.323293  0.932472 -0.165704 -0.578498\n",
       "2013-01-06 -0.740786  0.325351 -0.097022  0.395777"
      ]
     },
     "execution_count": 76,
     "metadata": {},
     "output_type": "execute_result"
    }
   ],
   "source": [
    "# selection by position; iloc\n",
    "df"
   ]
  },
  {
   "cell_type": "code",
   "execution_count": 77,
   "id": "0b087503",
   "metadata": {},
   "outputs": [
    {
     "data": {
      "text/plain": [
       "A   -1.039921\n",
       "B   -0.370441\n",
       "C   -0.157875\n",
       "D    0.039313\n",
       "Name: 2013-01-04 00:00:00, dtype: float64"
      ]
     },
     "execution_count": 77,
     "metadata": {},
     "output_type": "execute_result"
    }
   ],
   "source": [
    "df.iloc[3] # 인덱스3 행"
   ]
  },
  {
   "cell_type": "code",
   "execution_count": 78,
   "id": "58e6689b",
   "metadata": {},
   "outputs": [],
   "source": [
    "# loc와 iloc 차이는\n",
    "# iloc 컬럼 숫자, loc 컬럼명, 거의 비슷함"
   ]
  },
  {
   "cell_type": "code",
   "execution_count": 79,
   "id": "5f173bf8",
   "metadata": {},
   "outputs": [
    {
     "data": {
      "text/plain": [
       "0.49494234911866075"
      ]
     },
     "execution_count": 79,
     "metadata": {},
     "output_type": "execute_result"
    }
   ],
   "source": [
    "df.iloc[1, 1]"
   ]
  },
  {
   "cell_type": "code",
   "execution_count": 80,
   "id": "f6726e7d",
   "metadata": {},
   "outputs": [
    {
     "data": {
      "text/plain": [
       "0.49494234911866075"
      ]
     },
     "execution_count": 80,
     "metadata": {},
     "output_type": "execute_result"
    }
   ],
   "source": [
    "df.iat[1, 1]"
   ]
  },
  {
   "cell_type": "code",
   "execution_count": 81,
   "id": "11153ba8",
   "metadata": {},
   "outputs": [
    {
     "data": {
      "text/plain": [
       "2013-01-01    False\n",
       "2013-01-02    False\n",
       "2013-01-03    False\n",
       "2013-01-04    False\n",
       "2013-01-05    False\n",
       "2013-01-06    False\n",
       "Freq: D, Name: A, dtype: bool"
      ]
     },
     "execution_count": 81,
     "metadata": {},
     "output_type": "execute_result"
    }
   ],
   "source": [
    "# bool indexing\n",
    "df['A'] > 0"
   ]
  },
  {
   "cell_type": "code",
   "execution_count": 82,
   "id": "0601e280",
   "metadata": {},
   "outputs": [
    {
     "data": {
      "text/html": [
       "<div>\n",
       "<style scoped>\n",
       "    .dataframe tbody tr th:only-of-type {\n",
       "        vertical-align: middle;\n",
       "    }\n",
       "\n",
       "    .dataframe tbody tr th {\n",
       "        vertical-align: top;\n",
       "    }\n",
       "\n",
       "    .dataframe thead th {\n",
       "        text-align: right;\n",
       "    }\n",
       "</style>\n",
       "<table border=\"1\" class=\"dataframe\">\n",
       "  <thead>\n",
       "    <tr style=\"text-align: right;\">\n",
       "      <th></th>\n",
       "      <th>A</th>\n",
       "      <th>B</th>\n",
       "      <th>C</th>\n",
       "      <th>D</th>\n",
       "    </tr>\n",
       "  </thead>\n",
       "  <tbody>\n",
       "  </tbody>\n",
       "</table>\n",
       "</div>"
      ],
      "text/plain": [
       "Empty DataFrame\n",
       "Columns: [A, B, C, D]\n",
       "Index: []"
      ]
     },
     "execution_count": 82,
     "metadata": {},
     "output_type": "execute_result"
    }
   ],
   "source": [
    "df[df['A'] > 0.6] # 조건에 맞는 전체 데이터 추출"
   ]
  },
  {
   "cell_type": "code",
   "execution_count": 83,
   "id": "2ef99cf5",
   "metadata": {},
   "outputs": [
    {
     "data": {
      "text/html": [
       "<div>\n",
       "<style scoped>\n",
       "    .dataframe tbody tr th:only-of-type {\n",
       "        vertical-align: middle;\n",
       "    }\n",
       "\n",
       "    .dataframe tbody tr th {\n",
       "        vertical-align: top;\n",
       "    }\n",
       "\n",
       "    .dataframe thead th {\n",
       "        text-align: right;\n",
       "    }\n",
       "</style>\n",
       "<table border=\"1\" class=\"dataframe\">\n",
       "  <thead>\n",
       "    <tr style=\"text-align: right;\">\n",
       "      <th></th>\n",
       "      <th>A</th>\n",
       "      <th>B</th>\n",
       "      <th>C</th>\n",
       "      <th>D</th>\n",
       "      <th>E</th>\n",
       "    </tr>\n",
       "  </thead>\n",
       "  <tbody>\n",
       "    <tr>\n",
       "      <th>2013-01-01</th>\n",
       "      <td>-1.687726</td>\n",
       "      <td>-0.396335</td>\n",
       "      <td>0.399292</td>\n",
       "      <td>-0.020774</td>\n",
       "      <td>one</td>\n",
       "    </tr>\n",
       "    <tr>\n",
       "      <th>2013-01-02</th>\n",
       "      <td>-0.504841</td>\n",
       "      <td>0.494942</td>\n",
       "      <td>0.763775</td>\n",
       "      <td>0.724602</td>\n",
       "      <td>one</td>\n",
       "    </tr>\n",
       "    <tr>\n",
       "      <th>2013-01-03</th>\n",
       "      <td>-0.535101</td>\n",
       "      <td>0.782207</td>\n",
       "      <td>1.244994</td>\n",
       "      <td>-0.500447</td>\n",
       "      <td>two</td>\n",
       "    </tr>\n",
       "    <tr>\n",
       "      <th>2013-01-04</th>\n",
       "      <td>-1.039921</td>\n",
       "      <td>-0.370441</td>\n",
       "      <td>-0.157875</td>\n",
       "      <td>0.039313</td>\n",
       "      <td>three</td>\n",
       "    </tr>\n",
       "    <tr>\n",
       "      <th>2013-01-05</th>\n",
       "      <td>-2.323293</td>\n",
       "      <td>0.932472</td>\n",
       "      <td>-0.165704</td>\n",
       "      <td>-0.578498</td>\n",
       "      <td>four</td>\n",
       "    </tr>\n",
       "    <tr>\n",
       "      <th>2013-01-06</th>\n",
       "      <td>-0.740786</td>\n",
       "      <td>0.325351</td>\n",
       "      <td>-0.097022</td>\n",
       "      <td>0.395777</td>\n",
       "      <td>three</td>\n",
       "    </tr>\n",
       "  </tbody>\n",
       "</table>\n",
       "</div>"
      ],
      "text/plain": [
       "                   A         B         C         D      E\n",
       "2013-01-01 -1.687726 -0.396335  0.399292 -0.020774    one\n",
       "2013-01-02 -0.504841  0.494942  0.763775  0.724602    one\n",
       "2013-01-03 -0.535101  0.782207  1.244994 -0.500447    two\n",
       "2013-01-04 -1.039921 -0.370441 -0.157875  0.039313  three\n",
       "2013-01-05 -2.323293  0.932472 -0.165704 -0.578498   four\n",
       "2013-01-06 -0.740786  0.325351 -0.097022  0.395777  three"
      ]
     },
     "execution_count": 83,
     "metadata": {},
     "output_type": "execute_result"
    }
   ],
   "source": [
    "df2 = df.copy() # 원본데이터 유지\n",
    "df2['E'] = ['one', 'one', 'two', 'three', 'four', 'three'] # 컬럼 추가\n",
    "df2"
   ]
  },
  {
   "cell_type": "code",
   "execution_count": 84,
   "id": "d6da524a",
   "metadata": {},
   "outputs": [
    {
     "data": {
      "text/html": [
       "<div>\n",
       "<style scoped>\n",
       "    .dataframe tbody tr th:only-of-type {\n",
       "        vertical-align: middle;\n",
       "    }\n",
       "\n",
       "    .dataframe tbody tr th {\n",
       "        vertical-align: top;\n",
       "    }\n",
       "\n",
       "    .dataframe thead th {\n",
       "        text-align: right;\n",
       "    }\n",
       "</style>\n",
       "<table border=\"1\" class=\"dataframe\">\n",
       "  <thead>\n",
       "    <tr style=\"text-align: right;\">\n",
       "      <th></th>\n",
       "      <th>A</th>\n",
       "      <th>B</th>\n",
       "      <th>C</th>\n",
       "      <th>D</th>\n",
       "      <th>E</th>\n",
       "    </tr>\n",
       "  </thead>\n",
       "  <tbody>\n",
       "    <tr>\n",
       "      <th>2013-01-01</th>\n",
       "      <td>-1.687726</td>\n",
       "      <td>-0.396335</td>\n",
       "      <td>0.399292</td>\n",
       "      <td>-0.020774</td>\n",
       "      <td>one</td>\n",
       "    </tr>\n",
       "    <tr>\n",
       "      <th>2013-01-02</th>\n",
       "      <td>-0.504841</td>\n",
       "      <td>0.494942</td>\n",
       "      <td>0.763775</td>\n",
       "      <td>0.724602</td>\n",
       "      <td>one</td>\n",
       "    </tr>\n",
       "    <tr>\n",
       "      <th>2013-01-03</th>\n",
       "      <td>-0.535101</td>\n",
       "      <td>0.782207</td>\n",
       "      <td>1.244994</td>\n",
       "      <td>-0.500447</td>\n",
       "      <td>two</td>\n",
       "    </tr>\n",
       "    <tr>\n",
       "      <th>2013-01-04</th>\n",
       "      <td>-1.039921</td>\n",
       "      <td>-0.370441</td>\n",
       "      <td>-0.157875</td>\n",
       "      <td>0.039313</td>\n",
       "      <td>three</td>\n",
       "    </tr>\n",
       "    <tr>\n",
       "      <th>2013-01-05</th>\n",
       "      <td>-2.323293</td>\n",
       "      <td>0.932472</td>\n",
       "      <td>-0.165704</td>\n",
       "      <td>-0.578498</td>\n",
       "      <td>four</td>\n",
       "    </tr>\n",
       "    <tr>\n",
       "      <th>2013-01-06</th>\n",
       "      <td>-0.740786</td>\n",
       "      <td>0.325351</td>\n",
       "      <td>-0.097022</td>\n",
       "      <td>0.395777</td>\n",
       "      <td>three</td>\n",
       "    </tr>\n",
       "  </tbody>\n",
       "</table>\n",
       "</div>"
      ],
      "text/plain": [
       "                   A         B         C         D      E\n",
       "2013-01-01 -1.687726 -0.396335  0.399292 -0.020774    one\n",
       "2013-01-02 -0.504841  0.494942  0.763775  0.724602    one\n",
       "2013-01-03 -0.535101  0.782207  1.244994 -0.500447    two\n",
       "2013-01-04 -1.039921 -0.370441 -0.157875  0.039313  three\n",
       "2013-01-05 -2.323293  0.932472 -0.165704 -0.578498   four\n",
       "2013-01-06 -0.740786  0.325351 -0.097022  0.395777  three"
      ]
     },
     "execution_count": 84,
     "metadata": {},
     "output_type": "execute_result"
    }
   ],
   "source": [
    "e = ['one', 'one', 'two', 'three', 'four', 'three']\n",
    "df2['E'] = e\n",
    "df2"
   ]
  },
  {
   "cell_type": "code",
   "execution_count": 85,
   "id": "516e8ef8",
   "metadata": {},
   "outputs": [
    {
     "data": {
      "text/plain": [
       "2013-01-01    False\n",
       "2013-01-02    False\n",
       "2013-01-03     True\n",
       "2013-01-04    False\n",
       "2013-01-05     True\n",
       "2013-01-06    False\n",
       "Freq: D, Name: E, dtype: bool"
      ]
     },
     "execution_count": 85,
     "metadata": {},
     "output_type": "execute_result"
    }
   ],
   "source": [
    "df2['E'].isin(['two', 'four']) # 리스트 형태 받음"
   ]
  },
  {
   "cell_type": "code",
   "execution_count": 86,
   "id": "101324f6",
   "metadata": {},
   "outputs": [
    {
     "data": {
      "text/html": [
       "<div>\n",
       "<style scoped>\n",
       "    .dataframe tbody tr th:only-of-type {\n",
       "        vertical-align: middle;\n",
       "    }\n",
       "\n",
       "    .dataframe tbody tr th {\n",
       "        vertical-align: top;\n",
       "    }\n",
       "\n",
       "    .dataframe thead th {\n",
       "        text-align: right;\n",
       "    }\n",
       "</style>\n",
       "<table border=\"1\" class=\"dataframe\">\n",
       "  <thead>\n",
       "    <tr style=\"text-align: right;\">\n",
       "      <th></th>\n",
       "      <th>A</th>\n",
       "      <th>B</th>\n",
       "      <th>C</th>\n",
       "      <th>D</th>\n",
       "      <th>E</th>\n",
       "    </tr>\n",
       "  </thead>\n",
       "  <tbody>\n",
       "    <tr>\n",
       "      <th>2013-01-03</th>\n",
       "      <td>-0.535101</td>\n",
       "      <td>0.782207</td>\n",
       "      <td>1.244994</td>\n",
       "      <td>-0.500447</td>\n",
       "      <td>two</td>\n",
       "    </tr>\n",
       "    <tr>\n",
       "      <th>2013-01-05</th>\n",
       "      <td>-2.323293</td>\n",
       "      <td>0.932472</td>\n",
       "      <td>-0.165704</td>\n",
       "      <td>-0.578498</td>\n",
       "      <td>four</td>\n",
       "    </tr>\n",
       "  </tbody>\n",
       "</table>\n",
       "</div>"
      ],
      "text/plain": [
       "                   A         B         C         D     E\n",
       "2013-01-03 -0.535101  0.782207  1.244994 -0.500447   two\n",
       "2013-01-05 -2.323293  0.932472 -0.165704 -0.578498  four"
      ]
     },
     "execution_count": 86,
     "metadata": {},
     "output_type": "execute_result"
    }
   ],
   "source": [
    "df2[df2['E'].isin(['two', 'four'])] # 전체 데이터 출력"
   ]
  },
  {
   "cell_type": "code",
   "execution_count": 87,
   "id": "49109e0d",
   "metadata": {},
   "outputs": [
    {
     "data": {
      "text/plain": [
       "2013-01-02    1\n",
       "2013-01-03    2\n",
       "2013-01-04    3\n",
       "2013-01-05    4\n",
       "2013-01-06    5\n",
       "2013-01-07    6\n",
       "Freq: D, dtype: int64"
      ]
     },
     "execution_count": 87,
     "metadata": {},
     "output_type": "execute_result"
    }
   ],
   "source": [
    "# setting; 값 변경\n",
    "s1 = pd.Series([1, 2, 3, 4, 5, 6],\n",
    "               index=pd.date_range('20130102', periods=6)\n",
    "              )\n",
    "s1"
   ]
  },
  {
   "cell_type": "code",
   "execution_count": 88,
   "id": "5cbd8b13",
   "metadata": {},
   "outputs": [
    {
     "data": {
      "text/html": [
       "<div>\n",
       "<style scoped>\n",
       "    .dataframe tbody tr th:only-of-type {\n",
       "        vertical-align: middle;\n",
       "    }\n",
       "\n",
       "    .dataframe tbody tr th {\n",
       "        vertical-align: top;\n",
       "    }\n",
       "\n",
       "    .dataframe thead th {\n",
       "        text-align: right;\n",
       "    }\n",
       "</style>\n",
       "<table border=\"1\" class=\"dataframe\">\n",
       "  <thead>\n",
       "    <tr style=\"text-align: right;\">\n",
       "      <th></th>\n",
       "      <th>A</th>\n",
       "      <th>B</th>\n",
       "      <th>C</th>\n",
       "      <th>D</th>\n",
       "      <th>F</th>\n",
       "    </tr>\n",
       "  </thead>\n",
       "  <tbody>\n",
       "    <tr>\n",
       "      <th>2013-01-01</th>\n",
       "      <td>-1.687726</td>\n",
       "      <td>-0.396335</td>\n",
       "      <td>0.399292</td>\n",
       "      <td>-0.020774</td>\n",
       "      <td>NaN</td>\n",
       "    </tr>\n",
       "    <tr>\n",
       "      <th>2013-01-02</th>\n",
       "      <td>-0.504841</td>\n",
       "      <td>0.494942</td>\n",
       "      <td>0.763775</td>\n",
       "      <td>0.724602</td>\n",
       "      <td>1.0</td>\n",
       "    </tr>\n",
       "    <tr>\n",
       "      <th>2013-01-03</th>\n",
       "      <td>-0.535101</td>\n",
       "      <td>0.782207</td>\n",
       "      <td>1.244994</td>\n",
       "      <td>-0.500447</td>\n",
       "      <td>2.0</td>\n",
       "    </tr>\n",
       "    <tr>\n",
       "      <th>2013-01-04</th>\n",
       "      <td>-1.039921</td>\n",
       "      <td>-0.370441</td>\n",
       "      <td>-0.157875</td>\n",
       "      <td>0.039313</td>\n",
       "      <td>3.0</td>\n",
       "    </tr>\n",
       "    <tr>\n",
       "      <th>2013-01-05</th>\n",
       "      <td>-2.323293</td>\n",
       "      <td>0.932472</td>\n",
       "      <td>-0.165704</td>\n",
       "      <td>-0.578498</td>\n",
       "      <td>4.0</td>\n",
       "    </tr>\n",
       "    <tr>\n",
       "      <th>2013-01-06</th>\n",
       "      <td>-0.740786</td>\n",
       "      <td>0.325351</td>\n",
       "      <td>-0.097022</td>\n",
       "      <td>0.395777</td>\n",
       "      <td>5.0</td>\n",
       "    </tr>\n",
       "  </tbody>\n",
       "</table>\n",
       "</div>"
      ],
      "text/plain": [
       "                   A         B         C         D    F\n",
       "2013-01-01 -1.687726 -0.396335  0.399292 -0.020774  NaN\n",
       "2013-01-02 -0.504841  0.494942  0.763775  0.724602  1.0\n",
       "2013-01-03 -0.535101  0.782207  1.244994 -0.500447  2.0\n",
       "2013-01-04 -1.039921 -0.370441 -0.157875  0.039313  3.0\n",
       "2013-01-05 -2.323293  0.932472 -0.165704 -0.578498  4.0\n",
       "2013-01-06 -0.740786  0.325351 -0.097022  0.395777  5.0"
      ]
     },
     "execution_count": 88,
     "metadata": {},
     "output_type": "execute_result"
    }
   ],
   "source": [
    "df['F'] = s1\n",
    "df"
   ]
  },
  {
   "cell_type": "code",
   "execution_count": 89,
   "id": "f3700ce2",
   "metadata": {},
   "outputs": [
    {
     "data": {
      "text/plain": [
       "-1.6877259658991006"
      ]
     },
     "execution_count": 89,
     "metadata": {},
     "output_type": "execute_result"
    }
   ],
   "source": [
    "df.at[dates[0], 'A']"
   ]
  },
  {
   "cell_type": "code",
   "execution_count": 90,
   "id": "0339d29c",
   "metadata": {},
   "outputs": [
    {
     "data": {
      "text/html": [
       "<div>\n",
       "<style scoped>\n",
       "    .dataframe tbody tr th:only-of-type {\n",
       "        vertical-align: middle;\n",
       "    }\n",
       "\n",
       "    .dataframe tbody tr th {\n",
       "        vertical-align: top;\n",
       "    }\n",
       "\n",
       "    .dataframe thead th {\n",
       "        text-align: right;\n",
       "    }\n",
       "</style>\n",
       "<table border=\"1\" class=\"dataframe\">\n",
       "  <thead>\n",
       "    <tr style=\"text-align: right;\">\n",
       "      <th></th>\n",
       "      <th>A</th>\n",
       "      <th>B</th>\n",
       "      <th>C</th>\n",
       "      <th>D</th>\n",
       "      <th>F</th>\n",
       "    </tr>\n",
       "  </thead>\n",
       "  <tbody>\n",
       "    <tr>\n",
       "      <th>2013-01-01</th>\n",
       "      <td>0.000000</td>\n",
       "      <td>-0.396335</td>\n",
       "      <td>0.399292</td>\n",
       "      <td>-0.020774</td>\n",
       "      <td>NaN</td>\n",
       "    </tr>\n",
       "    <tr>\n",
       "      <th>2013-01-02</th>\n",
       "      <td>-0.504841</td>\n",
       "      <td>0.494942</td>\n",
       "      <td>0.763775</td>\n",
       "      <td>0.724602</td>\n",
       "      <td>1.0</td>\n",
       "    </tr>\n",
       "    <tr>\n",
       "      <th>2013-01-03</th>\n",
       "      <td>-0.535101</td>\n",
       "      <td>0.782207</td>\n",
       "      <td>1.244994</td>\n",
       "      <td>-0.500447</td>\n",
       "      <td>2.0</td>\n",
       "    </tr>\n",
       "    <tr>\n",
       "      <th>2013-01-04</th>\n",
       "      <td>-1.039921</td>\n",
       "      <td>-0.370441</td>\n",
       "      <td>-0.157875</td>\n",
       "      <td>0.039313</td>\n",
       "      <td>3.0</td>\n",
       "    </tr>\n",
       "    <tr>\n",
       "      <th>2013-01-05</th>\n",
       "      <td>-2.323293</td>\n",
       "      <td>0.932472</td>\n",
       "      <td>-0.165704</td>\n",
       "      <td>-0.578498</td>\n",
       "      <td>4.0</td>\n",
       "    </tr>\n",
       "    <tr>\n",
       "      <th>2013-01-06</th>\n",
       "      <td>-0.740786</td>\n",
       "      <td>0.325351</td>\n",
       "      <td>-0.097022</td>\n",
       "      <td>0.395777</td>\n",
       "      <td>5.0</td>\n",
       "    </tr>\n",
       "  </tbody>\n",
       "</table>\n",
       "</div>"
      ],
      "text/plain": [
       "                   A         B         C         D    F\n",
       "2013-01-01  0.000000 -0.396335  0.399292 -0.020774  NaN\n",
       "2013-01-02 -0.504841  0.494942  0.763775  0.724602  1.0\n",
       "2013-01-03 -0.535101  0.782207  1.244994 -0.500447  2.0\n",
       "2013-01-04 -1.039921 -0.370441 -0.157875  0.039313  3.0\n",
       "2013-01-05 -2.323293  0.932472 -0.165704 -0.578498  4.0\n",
       "2013-01-06 -0.740786  0.325351 -0.097022  0.395777  5.0"
      ]
     },
     "execution_count": 90,
     "metadata": {},
     "output_type": "execute_result"
    }
   ],
   "source": [
    "df.loc[dates[0], 'A'] = 0 # df.at 과 같음\n",
    "# 위치 지정\n",
    "df"
   ]
  },
  {
   "cell_type": "code",
   "execution_count": 91,
   "id": "162f9bbb",
   "metadata": {},
   "outputs": [
    {
     "data": {
      "text/plain": [
       "2013-01-01   -0.020774\n",
       "2013-01-02    0.724602\n",
       "2013-01-03   -0.500447\n",
       "2013-01-04    0.039313\n",
       "2013-01-05   -0.578498\n",
       "2013-01-06    0.395777\n",
       "Freq: D, Name: D, dtype: float64"
      ]
     },
     "execution_count": 91,
     "metadata": {},
     "output_type": "execute_result"
    }
   ],
   "source": [
    "df.loc[:, 'D']"
   ]
  },
  {
   "cell_type": "code",
   "execution_count": 92,
   "id": "c9c27e5f",
   "metadata": {},
   "outputs": [
    {
     "data": {
      "text/html": [
       "<div>\n",
       "<style scoped>\n",
       "    .dataframe tbody tr th:only-of-type {\n",
       "        vertical-align: middle;\n",
       "    }\n",
       "\n",
       "    .dataframe tbody tr th {\n",
       "        vertical-align: top;\n",
       "    }\n",
       "\n",
       "    .dataframe thead th {\n",
       "        text-align: right;\n",
       "    }\n",
       "</style>\n",
       "<table border=\"1\" class=\"dataframe\">\n",
       "  <thead>\n",
       "    <tr style=\"text-align: right;\">\n",
       "      <th></th>\n",
       "      <th>A</th>\n",
       "      <th>B</th>\n",
       "      <th>C</th>\n",
       "      <th>D</th>\n",
       "      <th>F</th>\n",
       "    </tr>\n",
       "  </thead>\n",
       "  <tbody>\n",
       "    <tr>\n",
       "      <th>2013-01-01</th>\n",
       "      <td>0.000000</td>\n",
       "      <td>-0.396335</td>\n",
       "      <td>0.399292</td>\n",
       "      <td>5</td>\n",
       "      <td>NaN</td>\n",
       "    </tr>\n",
       "    <tr>\n",
       "      <th>2013-01-02</th>\n",
       "      <td>-0.504841</td>\n",
       "      <td>0.494942</td>\n",
       "      <td>0.763775</td>\n",
       "      <td>5</td>\n",
       "      <td>1.0</td>\n",
       "    </tr>\n",
       "    <tr>\n",
       "      <th>2013-01-03</th>\n",
       "      <td>-0.535101</td>\n",
       "      <td>0.782207</td>\n",
       "      <td>1.244994</td>\n",
       "      <td>5</td>\n",
       "      <td>2.0</td>\n",
       "    </tr>\n",
       "    <tr>\n",
       "      <th>2013-01-04</th>\n",
       "      <td>-1.039921</td>\n",
       "      <td>-0.370441</td>\n",
       "      <td>-0.157875</td>\n",
       "      <td>5</td>\n",
       "      <td>3.0</td>\n",
       "    </tr>\n",
       "    <tr>\n",
       "      <th>2013-01-05</th>\n",
       "      <td>-2.323293</td>\n",
       "      <td>0.932472</td>\n",
       "      <td>-0.165704</td>\n",
       "      <td>5</td>\n",
       "      <td>4.0</td>\n",
       "    </tr>\n",
       "    <tr>\n",
       "      <th>2013-01-06</th>\n",
       "      <td>-0.740786</td>\n",
       "      <td>0.325351</td>\n",
       "      <td>-0.097022</td>\n",
       "      <td>5</td>\n",
       "      <td>5.0</td>\n",
       "    </tr>\n",
       "  </tbody>\n",
       "</table>\n",
       "</div>"
      ],
      "text/plain": [
       "                   A         B         C  D    F\n",
       "2013-01-01  0.000000 -0.396335  0.399292  5  NaN\n",
       "2013-01-02 -0.504841  0.494942  0.763775  5  1.0\n",
       "2013-01-03 -0.535101  0.782207  1.244994  5  2.0\n",
       "2013-01-04 -1.039921 -0.370441 -0.157875  5  3.0\n",
       "2013-01-05 -2.323293  0.932472 -0.165704  5  4.0\n",
       "2013-01-06 -0.740786  0.325351 -0.097022  5  5.0"
      ]
     },
     "execution_count": 92,
     "metadata": {},
     "output_type": "execute_result"
    }
   ],
   "source": [
    "np.array([5] * len(df)) # 이 형태의 데이터 추가\n",
    "\n",
    "df.loc[:, 'D'] = np.array([5] * len(df))\n",
    "df"
   ]
  },
  {
   "cell_type": "code",
   "execution_count": 93,
   "id": "ca2a6df4",
   "metadata": {},
   "outputs": [
    {
     "data": {
      "text/html": [
       "<div>\n",
       "<style scoped>\n",
       "    .dataframe tbody tr th:only-of-type {\n",
       "        vertical-align: middle;\n",
       "    }\n",
       "\n",
       "    .dataframe tbody tr th {\n",
       "        vertical-align: top;\n",
       "    }\n",
       "\n",
       "    .dataframe thead th {\n",
       "        text-align: right;\n",
       "    }\n",
       "</style>\n",
       "<table border=\"1\" class=\"dataframe\">\n",
       "  <thead>\n",
       "    <tr style=\"text-align: right;\">\n",
       "      <th></th>\n",
       "      <th>A</th>\n",
       "      <th>B</th>\n",
       "      <th>C</th>\n",
       "      <th>D</th>\n",
       "      <th>F</th>\n",
       "    </tr>\n",
       "  </thead>\n",
       "  <tbody>\n",
       "    <tr>\n",
       "      <th>2013-01-01</th>\n",
       "      <td>0.000000</td>\n",
       "      <td>-0.396335</td>\n",
       "      <td>-0.399292</td>\n",
       "      <td>-5</td>\n",
       "      <td>NaN</td>\n",
       "    </tr>\n",
       "    <tr>\n",
       "      <th>2013-01-02</th>\n",
       "      <td>-0.504841</td>\n",
       "      <td>-0.494942</td>\n",
       "      <td>-0.763775</td>\n",
       "      <td>-5</td>\n",
       "      <td>-1.0</td>\n",
       "    </tr>\n",
       "    <tr>\n",
       "      <th>2013-01-03</th>\n",
       "      <td>-0.535101</td>\n",
       "      <td>-0.782207</td>\n",
       "      <td>-1.244994</td>\n",
       "      <td>-5</td>\n",
       "      <td>-2.0</td>\n",
       "    </tr>\n",
       "    <tr>\n",
       "      <th>2013-01-04</th>\n",
       "      <td>-1.039921</td>\n",
       "      <td>-0.370441</td>\n",
       "      <td>-0.157875</td>\n",
       "      <td>-5</td>\n",
       "      <td>-3.0</td>\n",
       "    </tr>\n",
       "    <tr>\n",
       "      <th>2013-01-05</th>\n",
       "      <td>-2.323293</td>\n",
       "      <td>-0.932472</td>\n",
       "      <td>-0.165704</td>\n",
       "      <td>-5</td>\n",
       "      <td>-4.0</td>\n",
       "    </tr>\n",
       "    <tr>\n",
       "      <th>2013-01-06</th>\n",
       "      <td>-0.740786</td>\n",
       "      <td>-0.325351</td>\n",
       "      <td>-0.097022</td>\n",
       "      <td>-5</td>\n",
       "      <td>-5.0</td>\n",
       "    </tr>\n",
       "  </tbody>\n",
       "</table>\n",
       "</div>"
      ],
      "text/plain": [
       "                   A         B         C  D    F\n",
       "2013-01-01  0.000000 -0.396335 -0.399292 -5  NaN\n",
       "2013-01-02 -0.504841 -0.494942 -0.763775 -5 -1.0\n",
       "2013-01-03 -0.535101 -0.782207 -1.244994 -5 -2.0\n",
       "2013-01-04 -1.039921 -0.370441 -0.157875 -5 -3.0\n",
       "2013-01-05 -2.323293 -0.932472 -0.165704 -5 -4.0\n",
       "2013-01-06 -0.740786 -0.325351 -0.097022 -5 -5.0"
      ]
     },
     "execution_count": 93,
     "metadata": {},
     "output_type": "execute_result"
    }
   ],
   "source": [
    "df2 = df.copy()\n",
    "df2[df2 > 0]\n",
    "-df2\n",
    "df2[df2 > 0] = -df2 # - 값으로 추가\n",
    "df2"
   ]
  },
  {
   "cell_type": "code",
   "execution_count": 94,
   "id": "ae364020",
   "metadata": {},
   "outputs": [
    {
     "data": {
      "text/html": [
       "<div>\n",
       "<style scoped>\n",
       "    .dataframe tbody tr th:only-of-type {\n",
       "        vertical-align: middle;\n",
       "    }\n",
       "\n",
       "    .dataframe tbody tr th {\n",
       "        vertical-align: top;\n",
       "    }\n",
       "\n",
       "    .dataframe thead th {\n",
       "        text-align: right;\n",
       "    }\n",
       "</style>\n",
       "<table border=\"1\" class=\"dataframe\">\n",
       "  <thead>\n",
       "    <tr style=\"text-align: right;\">\n",
       "      <th></th>\n",
       "      <th>A</th>\n",
       "      <th>B</th>\n",
       "      <th>C</th>\n",
       "      <th>D</th>\n",
       "      <th>F</th>\n",
       "      <th>E</th>\n",
       "    </tr>\n",
       "  </thead>\n",
       "  <tbody>\n",
       "    <tr>\n",
       "      <th>2013-01-01</th>\n",
       "      <td>0.000000</td>\n",
       "      <td>-0.396335</td>\n",
       "      <td>0.399292</td>\n",
       "      <td>5</td>\n",
       "      <td>NaN</td>\n",
       "      <td>NaN</td>\n",
       "    </tr>\n",
       "    <tr>\n",
       "      <th>2013-01-02</th>\n",
       "      <td>-0.504841</td>\n",
       "      <td>0.494942</td>\n",
       "      <td>0.763775</td>\n",
       "      <td>5</td>\n",
       "      <td>1.0</td>\n",
       "      <td>NaN</td>\n",
       "    </tr>\n",
       "    <tr>\n",
       "      <th>2013-01-03</th>\n",
       "      <td>-0.535101</td>\n",
       "      <td>0.782207</td>\n",
       "      <td>1.244994</td>\n",
       "      <td>5</td>\n",
       "      <td>2.0</td>\n",
       "      <td>NaN</td>\n",
       "    </tr>\n",
       "    <tr>\n",
       "      <th>2013-01-04</th>\n",
       "      <td>-1.039921</td>\n",
       "      <td>-0.370441</td>\n",
       "      <td>-0.157875</td>\n",
       "      <td>5</td>\n",
       "      <td>3.0</td>\n",
       "      <td>NaN</td>\n",
       "    </tr>\n",
       "  </tbody>\n",
       "</table>\n",
       "</div>"
      ],
      "text/plain": [
       "                   A         B         C  D    F   E\n",
       "2013-01-01  0.000000 -0.396335  0.399292  5  NaN NaN\n",
       "2013-01-02 -0.504841  0.494942  0.763775  5  1.0 NaN\n",
       "2013-01-03 -0.535101  0.782207  1.244994  5  2.0 NaN\n",
       "2013-01-04 -1.039921 -0.370441 -0.157875  5  3.0 NaN"
      ]
     },
     "execution_count": 94,
     "metadata": {},
     "output_type": "execute_result"
    }
   ],
   "source": [
    "# missing data; 결측치 찾기 중요, 채워서 사용\n",
    "df1 = df.reindex(index=dates[0:4],\n",
    "                 columns=list(df.columns) + ['E']\n",
    "                )\n",
    "df1"
   ]
  },
  {
   "cell_type": "code",
   "execution_count": 95,
   "id": "54a06ae0",
   "metadata": {},
   "outputs": [
    {
     "data": {
      "text/html": [
       "<div>\n",
       "<style scoped>\n",
       "    .dataframe tbody tr th:only-of-type {\n",
       "        vertical-align: middle;\n",
       "    }\n",
       "\n",
       "    .dataframe tbody tr th {\n",
       "        vertical-align: top;\n",
       "    }\n",
       "\n",
       "    .dataframe thead th {\n",
       "        text-align: right;\n",
       "    }\n",
       "</style>\n",
       "<table border=\"1\" class=\"dataframe\">\n",
       "  <thead>\n",
       "    <tr style=\"text-align: right;\">\n",
       "      <th></th>\n",
       "      <th>A</th>\n",
       "      <th>B</th>\n",
       "      <th>C</th>\n",
       "      <th>D</th>\n",
       "      <th>F</th>\n",
       "      <th>E</th>\n",
       "    </tr>\n",
       "  </thead>\n",
       "  <tbody>\n",
       "    <tr>\n",
       "      <th>2013-01-01</th>\n",
       "      <td>0.000000</td>\n",
       "      <td>-0.396335</td>\n",
       "      <td>0.399292</td>\n",
       "      <td>5</td>\n",
       "      <td>NaN</td>\n",
       "      <td>1.0</td>\n",
       "    </tr>\n",
       "    <tr>\n",
       "      <th>2013-01-02</th>\n",
       "      <td>-0.504841</td>\n",
       "      <td>0.494942</td>\n",
       "      <td>0.763775</td>\n",
       "      <td>5</td>\n",
       "      <td>1.0</td>\n",
       "      <td>1.0</td>\n",
       "    </tr>\n",
       "    <tr>\n",
       "      <th>2013-01-03</th>\n",
       "      <td>-0.535101</td>\n",
       "      <td>0.782207</td>\n",
       "      <td>1.244994</td>\n",
       "      <td>5</td>\n",
       "      <td>2.0</td>\n",
       "      <td>NaN</td>\n",
       "    </tr>\n",
       "    <tr>\n",
       "      <th>2013-01-04</th>\n",
       "      <td>-1.039921</td>\n",
       "      <td>-0.370441</td>\n",
       "      <td>-0.157875</td>\n",
       "      <td>5</td>\n",
       "      <td>3.0</td>\n",
       "      <td>NaN</td>\n",
       "    </tr>\n",
       "  </tbody>\n",
       "</table>\n",
       "</div>"
      ],
      "text/plain": [
       "                   A         B         C  D    F    E\n",
       "2013-01-01  0.000000 -0.396335  0.399292  5  NaN  1.0\n",
       "2013-01-02 -0.504841  0.494942  0.763775  5  1.0  1.0\n",
       "2013-01-03 -0.535101  0.782207  1.244994  5  2.0  NaN\n",
       "2013-01-04 -1.039921 -0.370441 -0.157875  5  3.0  NaN"
      ]
     },
     "execution_count": 95,
     "metadata": {},
     "output_type": "execute_result"
    }
   ],
   "source": [
    "df1.loc[dates[0]:dates[1], 'E'] = 1 # 1 추가\n",
    "df1"
   ]
  },
  {
   "cell_type": "code",
   "execution_count": 96,
   "id": "14b20e72",
   "metadata": {},
   "outputs": [
    {
     "data": {
      "text/html": [
       "<div>\n",
       "<style scoped>\n",
       "    .dataframe tbody tr th:only-of-type {\n",
       "        vertical-align: middle;\n",
       "    }\n",
       "\n",
       "    .dataframe tbody tr th {\n",
       "        vertical-align: top;\n",
       "    }\n",
       "\n",
       "    .dataframe thead th {\n",
       "        text-align: right;\n",
       "    }\n",
       "</style>\n",
       "<table border=\"1\" class=\"dataframe\">\n",
       "  <thead>\n",
       "    <tr style=\"text-align: right;\">\n",
       "      <th></th>\n",
       "      <th>A</th>\n",
       "      <th>B</th>\n",
       "      <th>C</th>\n",
       "      <th>D</th>\n",
       "      <th>F</th>\n",
       "      <th>E</th>\n",
       "    </tr>\n",
       "  </thead>\n",
       "  <tbody>\n",
       "    <tr>\n",
       "      <th>2013-01-01</th>\n",
       "      <td>0.000000</td>\n",
       "      <td>-0.396335</td>\n",
       "      <td>0.399292</td>\n",
       "      <td>5</td>\n",
       "      <td>NaN</td>\n",
       "      <td>1.0</td>\n",
       "    </tr>\n",
       "    <tr>\n",
       "      <th>2013-01-02</th>\n",
       "      <td>-0.504841</td>\n",
       "      <td>0.494942</td>\n",
       "      <td>0.763775</td>\n",
       "      <td>5</td>\n",
       "      <td>1.0</td>\n",
       "      <td>1.0</td>\n",
       "    </tr>\n",
       "    <tr>\n",
       "      <th>2013-01-03</th>\n",
       "      <td>-0.535101</td>\n",
       "      <td>0.782207</td>\n",
       "      <td>1.244994</td>\n",
       "      <td>5</td>\n",
       "      <td>2.0</td>\n",
       "      <td>NaN</td>\n",
       "    </tr>\n",
       "    <tr>\n",
       "      <th>2013-01-04</th>\n",
       "      <td>-1.039921</td>\n",
       "      <td>-0.370441</td>\n",
       "      <td>-0.157875</td>\n",
       "      <td>5</td>\n",
       "      <td>3.0</td>\n",
       "      <td>NaN</td>\n",
       "    </tr>\n",
       "  </tbody>\n",
       "</table>\n",
       "</div>"
      ],
      "text/plain": [
       "                   A         B         C  D    F    E\n",
       "2013-01-01  0.000000 -0.396335  0.399292  5  NaN  1.0\n",
       "2013-01-02 -0.504841  0.494942  0.763775  5  1.0  1.0\n",
       "2013-01-03 -0.535101  0.782207  1.244994  5  2.0  NaN\n",
       "2013-01-04 -1.039921 -0.370441 -0.157875  5  3.0  NaN"
      ]
     },
     "execution_count": 96,
     "metadata": {},
     "output_type": "execute_result"
    }
   ],
   "source": [
    "df1.dropna(how='all')\n",
    "# null 값 있다면 drop\n",
    "# how =  any 하나라도, all 모두\n",
    "# 보통 all 사용"
   ]
  },
  {
   "cell_type": "code",
   "execution_count": 97,
   "id": "e67d427e",
   "metadata": {},
   "outputs": [
    {
     "data": {
      "text/html": [
       "<div>\n",
       "<style scoped>\n",
       "    .dataframe tbody tr th:only-of-type {\n",
       "        vertical-align: middle;\n",
       "    }\n",
       "\n",
       "    .dataframe tbody tr th {\n",
       "        vertical-align: top;\n",
       "    }\n",
       "\n",
       "    .dataframe thead th {\n",
       "        text-align: right;\n",
       "    }\n",
       "</style>\n",
       "<table border=\"1\" class=\"dataframe\">\n",
       "  <thead>\n",
       "    <tr style=\"text-align: right;\">\n",
       "      <th></th>\n",
       "      <th>A</th>\n",
       "      <th>B</th>\n",
       "      <th>C</th>\n",
       "      <th>D</th>\n",
       "      <th>F</th>\n",
       "      <th>E</th>\n",
       "    </tr>\n",
       "  </thead>\n",
       "  <tbody>\n",
       "    <tr>\n",
       "      <th>2013-01-01</th>\n",
       "      <td>0.000000</td>\n",
       "      <td>-0.396335</td>\n",
       "      <td>0.399292</td>\n",
       "      <td>5</td>\n",
       "      <td>NaN</td>\n",
       "      <td>1.0</td>\n",
       "    </tr>\n",
       "    <tr>\n",
       "      <th>2013-01-02</th>\n",
       "      <td>-0.504841</td>\n",
       "      <td>0.494942</td>\n",
       "      <td>0.763775</td>\n",
       "      <td>5</td>\n",
       "      <td>1.0</td>\n",
       "      <td>1.0</td>\n",
       "    </tr>\n",
       "    <tr>\n",
       "      <th>2013-01-03</th>\n",
       "      <td>-0.535101</td>\n",
       "      <td>0.782207</td>\n",
       "      <td>1.244994</td>\n",
       "      <td>5</td>\n",
       "      <td>2.0</td>\n",
       "      <td>NaN</td>\n",
       "    </tr>\n",
       "    <tr>\n",
       "      <th>2013-01-04</th>\n",
       "      <td>-1.039921</td>\n",
       "      <td>-0.370441</td>\n",
       "      <td>-0.157875</td>\n",
       "      <td>5</td>\n",
       "      <td>3.0</td>\n",
       "      <td>NaN</td>\n",
       "    </tr>\n",
       "  </tbody>\n",
       "</table>\n",
       "</div>"
      ],
      "text/plain": [
       "                   A         B         C  D    F    E\n",
       "2013-01-01  0.000000 -0.396335  0.399292  5  NaN  1.0\n",
       "2013-01-02 -0.504841  0.494942  0.763775  5  1.0  1.0\n",
       "2013-01-03 -0.535101  0.782207  1.244994  5  2.0  NaN\n",
       "2013-01-04 -1.039921 -0.370441 -0.157875  5  3.0  NaN"
      ]
     },
     "execution_count": 97,
     "metadata": {},
     "output_type": "execute_result"
    }
   ],
   "source": [
    "df1.fillna(value = 5) # inplace 로 수정 확인\n",
    "df1 # 채우는 부분은 다양한 수식 가능"
   ]
  },
  {
   "cell_type": "code",
   "execution_count": 98,
   "id": "a9939061",
   "metadata": {},
   "outputs": [
    {
     "data": {
      "text/plain": [
       "A   -0.857324\n",
       "B    0.294700\n",
       "C    0.331243\n",
       "D    5.000000\n",
       "F    3.000000\n",
       "dtype: float64"
      ]
     },
     "execution_count": 98,
     "metadata": {},
     "output_type": "execute_result"
    }
   ],
   "source": [
    "# operations; 연산자\n",
    "df.mean()"
   ]
  },
  {
   "cell_type": "code",
   "execution_count": 99,
   "id": "dd163e65",
   "metadata": {},
   "outputs": [
    {
     "data": {
      "text/plain": [
       "2013-01-01    1.250739\n",
       "2013-01-02    1.350775\n",
       "2013-01-03    1.698420\n",
       "2013-01-04    1.286353\n",
       "2013-01-05    1.488695\n",
       "2013-01-06    1.897509\n",
       "Freq: D, dtype: float64"
      ]
     },
     "execution_count": 99,
     "metadata": {},
     "output_type": "execute_result"
    }
   ],
   "source": [
    "df.mean(axis=1)"
   ]
  },
  {
   "cell_type": "code",
   "execution_count": 100,
   "id": "363de774",
   "metadata": {},
   "outputs": [
    {
     "data": {
      "text/plain": [
       "2013-01-03    1.0\n",
       "2013-01-04    3.0\n",
       "2013-01-05    5.0\n",
       "2013-01-06    NaN\n",
       "2013-01-07    6.0\n",
       "2013-01-08    8.0\n",
       "Freq: D, dtype: float64"
      ]
     },
     "execution_count": 100,
     "metadata": {},
     "output_type": "execute_result"
    }
   ],
   "source": [
    "s = pd.Series([1, 3, 5, np.nan, 6, 8],\n",
    "              index=dates.shift(2) # 밑으로 2개식 미룸, 날짜 연산시 활용\n",
    "             )\n",
    "s"
   ]
  },
  {
   "cell_type": "code",
   "execution_count": 101,
   "id": "ef12e1b0",
   "metadata": {},
   "outputs": [
    {
     "data": {
      "text/html": [
       "<div>\n",
       "<style scoped>\n",
       "    .dataframe tbody tr th:only-of-type {\n",
       "        vertical-align: middle;\n",
       "    }\n",
       "\n",
       "    .dataframe tbody tr th {\n",
       "        vertical-align: top;\n",
       "    }\n",
       "\n",
       "    .dataframe thead th {\n",
       "        text-align: right;\n",
       "    }\n",
       "</style>\n",
       "<table border=\"1\" class=\"dataframe\">\n",
       "  <thead>\n",
       "    <tr style=\"text-align: right;\">\n",
       "      <th></th>\n",
       "      <th>A</th>\n",
       "      <th>B</th>\n",
       "      <th>C</th>\n",
       "      <th>D</th>\n",
       "      <th>F</th>\n",
       "    </tr>\n",
       "  </thead>\n",
       "  <tbody>\n",
       "    <tr>\n",
       "      <th>2013-01-01</th>\n",
       "      <td>NaN</td>\n",
       "      <td>NaN</td>\n",
       "      <td>NaN</td>\n",
       "      <td>NaN</td>\n",
       "      <td>NaN</td>\n",
       "    </tr>\n",
       "    <tr>\n",
       "      <th>2013-01-02</th>\n",
       "      <td>NaN</td>\n",
       "      <td>NaN</td>\n",
       "      <td>NaN</td>\n",
       "      <td>NaN</td>\n",
       "      <td>NaN</td>\n",
       "    </tr>\n",
       "    <tr>\n",
       "      <th>2013-01-03</th>\n",
       "      <td>-1.535101</td>\n",
       "      <td>-0.217793</td>\n",
       "      <td>0.244994</td>\n",
       "      <td>4.0</td>\n",
       "      <td>1.0</td>\n",
       "    </tr>\n",
       "    <tr>\n",
       "      <th>2013-01-04</th>\n",
       "      <td>-4.039921</td>\n",
       "      <td>-3.370441</td>\n",
       "      <td>-3.157875</td>\n",
       "      <td>2.0</td>\n",
       "      <td>0.0</td>\n",
       "    </tr>\n",
       "    <tr>\n",
       "      <th>2013-01-05</th>\n",
       "      <td>-7.323293</td>\n",
       "      <td>-4.067528</td>\n",
       "      <td>-5.165704</td>\n",
       "      <td>0.0</td>\n",
       "      <td>-1.0</td>\n",
       "    </tr>\n",
       "    <tr>\n",
       "      <th>2013-01-06</th>\n",
       "      <td>NaN</td>\n",
       "      <td>NaN</td>\n",
       "      <td>NaN</td>\n",
       "      <td>NaN</td>\n",
       "      <td>NaN</td>\n",
       "    </tr>\n",
       "    <tr>\n",
       "      <th>2013-01-07</th>\n",
       "      <td>NaN</td>\n",
       "      <td>NaN</td>\n",
       "      <td>NaN</td>\n",
       "      <td>NaN</td>\n",
       "      <td>NaN</td>\n",
       "    </tr>\n",
       "    <tr>\n",
       "      <th>2013-01-08</th>\n",
       "      <td>NaN</td>\n",
       "      <td>NaN</td>\n",
       "      <td>NaN</td>\n",
       "      <td>NaN</td>\n",
       "      <td>NaN</td>\n",
       "    </tr>\n",
       "  </tbody>\n",
       "</table>\n",
       "</div>"
      ],
      "text/plain": [
       "                   A         B         C    D    F\n",
       "2013-01-01       NaN       NaN       NaN  NaN  NaN\n",
       "2013-01-02       NaN       NaN       NaN  NaN  NaN\n",
       "2013-01-03 -1.535101 -0.217793  0.244994  4.0  1.0\n",
       "2013-01-04 -4.039921 -3.370441 -3.157875  2.0  0.0\n",
       "2013-01-05 -7.323293 -4.067528 -5.165704  0.0 -1.0\n",
       "2013-01-06       NaN       NaN       NaN  NaN  NaN\n",
       "2013-01-07       NaN       NaN       NaN  NaN  NaN\n",
       "2013-01-08       NaN       NaN       NaN  NaN  NaN"
      ]
     },
     "execution_count": 101,
     "metadata": {},
     "output_type": "execute_result"
    }
   ],
   "source": [
    "df.sub(s, axis='index') # 인덱스 기준으로 s를 빼는 연산"
   ]
  },
  {
   "cell_type": "code",
   "execution_count": 102,
   "id": "6ed2774e",
   "metadata": {},
   "outputs": [
    {
     "data": {
      "text/html": [
       "<div>\n",
       "<style scoped>\n",
       "    .dataframe tbody tr th:only-of-type {\n",
       "        vertical-align: middle;\n",
       "    }\n",
       "\n",
       "    .dataframe tbody tr th {\n",
       "        vertical-align: top;\n",
       "    }\n",
       "\n",
       "    .dataframe thead th {\n",
       "        text-align: right;\n",
       "    }\n",
       "</style>\n",
       "<table border=\"1\" class=\"dataframe\">\n",
       "  <thead>\n",
       "    <tr style=\"text-align: right;\">\n",
       "      <th></th>\n",
       "      <th>A</th>\n",
       "      <th>B</th>\n",
       "      <th>C</th>\n",
       "      <th>D</th>\n",
       "      <th>F</th>\n",
       "    </tr>\n",
       "  </thead>\n",
       "  <tbody>\n",
       "    <tr>\n",
       "      <th>2013-01-01</th>\n",
       "      <td>0.000000</td>\n",
       "      <td>-0.396335</td>\n",
       "      <td>0.399292</td>\n",
       "      <td>5</td>\n",
       "      <td>NaN</td>\n",
       "    </tr>\n",
       "    <tr>\n",
       "      <th>2013-01-02</th>\n",
       "      <td>-0.504841</td>\n",
       "      <td>0.098608</td>\n",
       "      <td>1.163068</td>\n",
       "      <td>10</td>\n",
       "      <td>1.0</td>\n",
       "    </tr>\n",
       "    <tr>\n",
       "      <th>2013-01-03</th>\n",
       "      <td>-1.039942</td>\n",
       "      <td>0.880815</td>\n",
       "      <td>2.408062</td>\n",
       "      <td>15</td>\n",
       "      <td>3.0</td>\n",
       "    </tr>\n",
       "    <tr>\n",
       "      <th>2013-01-04</th>\n",
       "      <td>-2.079863</td>\n",
       "      <td>0.510374</td>\n",
       "      <td>2.250187</td>\n",
       "      <td>20</td>\n",
       "      <td>6.0</td>\n",
       "    </tr>\n",
       "    <tr>\n",
       "      <th>2013-01-05</th>\n",
       "      <td>-4.403156</td>\n",
       "      <td>1.442846</td>\n",
       "      <td>2.084482</td>\n",
       "      <td>25</td>\n",
       "      <td>10.0</td>\n",
       "    </tr>\n",
       "    <tr>\n",
       "      <th>2013-01-06</th>\n",
       "      <td>-5.143942</td>\n",
       "      <td>1.768197</td>\n",
       "      <td>1.987460</td>\n",
       "      <td>30</td>\n",
       "      <td>15.0</td>\n",
       "    </tr>\n",
       "  </tbody>\n",
       "</table>\n",
       "</div>"
      ],
      "text/plain": [
       "                   A         B         C   D     F\n",
       "2013-01-01  0.000000 -0.396335  0.399292   5   NaN\n",
       "2013-01-02 -0.504841  0.098608  1.163068  10   1.0\n",
       "2013-01-03 -1.039942  0.880815  2.408062  15   3.0\n",
       "2013-01-04 -2.079863  0.510374  2.250187  20   6.0\n",
       "2013-01-05 -4.403156  1.442846  2.084482  25  10.0\n",
       "2013-01-06 -5.143942  1.768197  1.987460  30  15.0"
      ]
     },
     "execution_count": 102,
     "metadata": {},
     "output_type": "execute_result"
    }
   ],
   "source": [
    "# apply\n",
    "df.apply(np.cumsum) # 각행에 동일하게 적용, cumsum은 누적합, apply는 모든 열에 동일하게"
   ]
  },
  {
   "cell_type": "code",
   "execution_count": 103,
   "id": "293be5e6",
   "metadata": {},
   "outputs": [
    {
     "data": {
      "text/plain": [
       "A    2.323293\n",
       "B    1.328806\n",
       "C    1.410698\n",
       "D    0.000000\n",
       "F    4.000000\n",
       "dtype: float64"
      ]
     },
     "execution_count": 103,
     "metadata": {},
     "output_type": "execute_result"
    }
   ],
   "source": [
    "df.apply(lambda x: x.max() - x.min()) # 이름 없이 그냥 실행하는 함수 람다\n",
    "# 컬럼의 최댓값과 최솟값의 차이를 구해서 각 컬럼마다"
   ]
  },
  {
   "cell_type": "code",
   "execution_count": 104,
   "id": "7b06e17a",
   "metadata": {},
   "outputs": [
    {
     "data": {
      "text/plain": [
       "1    3\n",
       "6    2\n",
       "0    1\n",
       "2    1\n",
       "3    1\n",
       "4    1\n",
       "5    1\n",
       "dtype: int64"
      ]
     },
     "execution_count": 104,
     "metadata": {},
     "output_type": "execute_result"
    }
   ],
   "source": [
    "# 히스토그래밍\n",
    "s = pd.Series(np.random.randint(0, 7, size=10))\n",
    "s.value_counts()"
   ]
  },
  {
   "cell_type": "markdown",
   "id": "cab1780b",
   "metadata": {},
   "source": [
    "명령어, 함수를 모두 알아서 구현하기는 어려움\n",
    "\n",
    "눈으로라도 확인하고 지나가보기\n",
    "\n",
    "1. 기초명령어, 함수는 필수만 암기; 10~15개\n",
    "2. 그 외에는 함수의 기능을 기억해서 검색해서 이용; 30개\n",
    "3. 찾고자하는, 구현하고자 하는 기능을 생각해서 함수 검색"
   ]
  },
  {
   "cell_type": "code",
   "execution_count": 105,
   "id": "8dfe63b4",
   "metadata": {},
   "outputs": [
    {
     "data": {
      "text/plain": [
       "0       A\n",
       "1       B\n",
       "2       C\n",
       "3    Aaba\n",
       "4    Baca\n",
       "5     NaN\n",
       "6    Caba\n",
       "7     Dog\n",
       "8     Cat\n",
       "dtype: object"
      ]
     },
     "execution_count": 105,
     "metadata": {},
     "output_type": "execute_result"
    }
   ],
   "source": [
    "s = pd.Series([\"A\", \"B\", \"C\", \"Aaba\", \"Baca\",\n",
    "               np.nan, \"CABA\", \"dog\", \"cat\"])\n",
    "# 모든 데이터 소문자화\n",
    "# srs 데이터를 먼저 문자열로 바꾸고 소문자화\n",
    "s.str.lower()\n",
    "\n",
    "# 앞의 한 자씩은\n",
    "s.str.title()"
   ]
  },
  {
   "cell_type": "code",
   "execution_count": 106,
   "id": "b0ba98e7",
   "metadata": {},
   "outputs": [
    {
     "data": {
      "text/html": [
       "<div>\n",
       "<style scoped>\n",
       "    .dataframe tbody tr th:only-of-type {\n",
       "        vertical-align: middle;\n",
       "    }\n",
       "\n",
       "    .dataframe tbody tr th {\n",
       "        vertical-align: top;\n",
       "    }\n",
       "\n",
       "    .dataframe thead th {\n",
       "        text-align: right;\n",
       "    }\n",
       "</style>\n",
       "<table border=\"1\" class=\"dataframe\">\n",
       "  <thead>\n",
       "    <tr style=\"text-align: right;\">\n",
       "      <th></th>\n",
       "      <th>A</th>\n",
       "      <th>B</th>\n",
       "      <th>C</th>\n",
       "      <th>D</th>\n",
       "    </tr>\n",
       "  </thead>\n",
       "  <tbody>\n",
       "    <tr>\n",
       "      <th>0</th>\n",
       "      <td>A4</td>\n",
       "      <td>B4</td>\n",
       "      <td>C4</td>\n",
       "      <td>D4</td>\n",
       "    </tr>\n",
       "    <tr>\n",
       "      <th>1</th>\n",
       "      <td>A5</td>\n",
       "      <td>B5</td>\n",
       "      <td>C5</td>\n",
       "      <td>D5</td>\n",
       "    </tr>\n",
       "    <tr>\n",
       "      <th>2</th>\n",
       "      <td>A6</td>\n",
       "      <td>B6</td>\n",
       "      <td>C6</td>\n",
       "      <td>D6</td>\n",
       "    </tr>\n",
       "    <tr>\n",
       "      <th>3</th>\n",
       "      <td>A7</td>\n",
       "      <td>B7</td>\n",
       "      <td>C7</td>\n",
       "      <td>D7</td>\n",
       "    </tr>\n",
       "    <tr>\n",
       "      <th>4</th>\n",
       "      <td>A0</td>\n",
       "      <td>B0</td>\n",
       "      <td>C0</td>\n",
       "      <td>D0</td>\n",
       "    </tr>\n",
       "    <tr>\n",
       "      <th>5</th>\n",
       "      <td>A1</td>\n",
       "      <td>B1</td>\n",
       "      <td>C1</td>\n",
       "      <td>D1</td>\n",
       "    </tr>\n",
       "    <tr>\n",
       "      <th>6</th>\n",
       "      <td>A2</td>\n",
       "      <td>B2</td>\n",
       "      <td>C2</td>\n",
       "      <td>D2</td>\n",
       "    </tr>\n",
       "    <tr>\n",
       "      <th>7</th>\n",
       "      <td>A3</td>\n",
       "      <td>B3</td>\n",
       "      <td>C3</td>\n",
       "      <td>D3</td>\n",
       "    </tr>\n",
       "  </tbody>\n",
       "</table>\n",
       "</div>"
      ],
      "text/plain": [
       "    A   B   C   D\n",
       "0  A4  B4  C4  D4\n",
       "1  A5  B5  C5  D5\n",
       "2  A6  B6  C6  D6\n",
       "3  A7  B7  C7  D7\n",
       "4  A0  B0  C0  D0\n",
       "5  A1  B1  C1  D1\n",
       "6  A2  B2  C2  D2\n",
       "7  A3  B3  C3  D3"
      ]
     },
     "execution_count": 106,
     "metadata": {},
     "output_type": "execute_result"
    }
   ],
   "source": [
    "# merge\n",
    "df1 = pd.DataFrame({\"A\": [\"A0\", \"A1\", \"A2\", \"A3\"],\n",
    "                    \"B\": [\"B0\", \"B1\", \"B2\", \"B3\"],\n",
    "                    \"C\": [\"C0\", \"C1\", \"C2\", \"C3\"],\n",
    "                    \"D\": [\"D0\", \"D1\", \"D2\", \"D3\"],\n",
    "                   },\n",
    "                   index=[0, 1, 2, 3],\n",
    "                  )\n",
    "\n",
    "df2 = pd.DataFrame({\"A\": [\"A4\", \"A5\", \"A6\", \"A7\"],\n",
    "                    \"B\": [\"B4\", \"B5\", \"B6\", \"B7\"],\n",
    "                    \"C\": [\"C4\", \"C5\", \"C6\", \"C7\"],\n",
    "                    \"D\": [\"D4\", \"D5\", \"D6\", \"D7\"],\n",
    "                   },\n",
    "                   index=[4, 5, 6, 7],\n",
    "                  )\n",
    "\n",
    "df3 = pd.DataFrame({\"A\": [\"A8\", \"A9\", \"A10\", \"A11\"],\n",
    "                    \"B\": [\"B8\", \"B9\", \"B10\", \"B11\"],\n",
    "                    \"C\": [\"C8\", \"C9\", \"C10\", \"C11\"],\n",
    "                    \"D\": [\"D8\", \"D9\", \"D10\", \"D11\"],\n",
    "                   },\n",
    "                   index=[8, 9, 10, 11],\n",
    "                  )\n",
    "\n",
    "pd.concat([df1, df2])\n",
    "# 누적된 df를 만듦. 같은 컬럼\n",
    "\n",
    "pd.concat([df2, df1], ignore_index=True)\n",
    "# 원래 인덱스를 무시하고, 자신만의 새로운 인덱스 구성"
   ]
  },
  {
   "cell_type": "code",
   "execution_count": 107,
   "id": "a6c5b641",
   "metadata": {},
   "outputs": [
    {
     "data": {
      "text/html": [
       "<div>\n",
       "<style scoped>\n",
       "    .dataframe tbody tr th:only-of-type {\n",
       "        vertical-align: middle;\n",
       "    }\n",
       "\n",
       "    .dataframe tbody tr th {\n",
       "        vertical-align: top;\n",
       "    }\n",
       "\n",
       "    .dataframe thead th {\n",
       "        text-align: right;\n",
       "    }\n",
       "</style>\n",
       "<table border=\"1\" class=\"dataframe\">\n",
       "  <thead>\n",
       "    <tr style=\"text-align: right;\">\n",
       "      <th></th>\n",
       "      <th>A</th>\n",
       "      <th>B</th>\n",
       "      <th>C</th>\n",
       "      <th>D</th>\n",
       "      <th>A</th>\n",
       "      <th>B</th>\n",
       "      <th>C</th>\n",
       "      <th>D</th>\n",
       "    </tr>\n",
       "  </thead>\n",
       "  <tbody>\n",
       "    <tr>\n",
       "      <th>0</th>\n",
       "      <td>NaN</td>\n",
       "      <td>NaN</td>\n",
       "      <td>NaN</td>\n",
       "      <td>NaN</td>\n",
       "      <td>A0</td>\n",
       "      <td>B0</td>\n",
       "      <td>C0</td>\n",
       "      <td>D0</td>\n",
       "    </tr>\n",
       "    <tr>\n",
       "      <th>1</th>\n",
       "      <td>NaN</td>\n",
       "      <td>NaN</td>\n",
       "      <td>NaN</td>\n",
       "      <td>NaN</td>\n",
       "      <td>A1</td>\n",
       "      <td>B1</td>\n",
       "      <td>C1</td>\n",
       "      <td>D1</td>\n",
       "    </tr>\n",
       "    <tr>\n",
       "      <th>2</th>\n",
       "      <td>NaN</td>\n",
       "      <td>NaN</td>\n",
       "      <td>NaN</td>\n",
       "      <td>NaN</td>\n",
       "      <td>A2</td>\n",
       "      <td>B2</td>\n",
       "      <td>C2</td>\n",
       "      <td>D2</td>\n",
       "    </tr>\n",
       "    <tr>\n",
       "      <th>3</th>\n",
       "      <td>NaN</td>\n",
       "      <td>NaN</td>\n",
       "      <td>NaN</td>\n",
       "      <td>NaN</td>\n",
       "      <td>A3</td>\n",
       "      <td>B3</td>\n",
       "      <td>C3</td>\n",
       "      <td>D3</td>\n",
       "    </tr>\n",
       "    <tr>\n",
       "      <th>4</th>\n",
       "      <td>A4</td>\n",
       "      <td>B4</td>\n",
       "      <td>C4</td>\n",
       "      <td>D4</td>\n",
       "      <td>NaN</td>\n",
       "      <td>NaN</td>\n",
       "      <td>NaN</td>\n",
       "      <td>NaN</td>\n",
       "    </tr>\n",
       "    <tr>\n",
       "      <th>5</th>\n",
       "      <td>A5</td>\n",
       "      <td>B5</td>\n",
       "      <td>C5</td>\n",
       "      <td>D5</td>\n",
       "      <td>NaN</td>\n",
       "      <td>NaN</td>\n",
       "      <td>NaN</td>\n",
       "      <td>NaN</td>\n",
       "    </tr>\n",
       "    <tr>\n",
       "      <th>6</th>\n",
       "      <td>A6</td>\n",
       "      <td>B6</td>\n",
       "      <td>C6</td>\n",
       "      <td>D6</td>\n",
       "      <td>NaN</td>\n",
       "      <td>NaN</td>\n",
       "      <td>NaN</td>\n",
       "      <td>NaN</td>\n",
       "    </tr>\n",
       "    <tr>\n",
       "      <th>7</th>\n",
       "      <td>A7</td>\n",
       "      <td>B7</td>\n",
       "      <td>C7</td>\n",
       "      <td>D7</td>\n",
       "      <td>NaN</td>\n",
       "      <td>NaN</td>\n",
       "      <td>NaN</td>\n",
       "      <td>NaN</td>\n",
       "    </tr>\n",
       "  </tbody>\n",
       "</table>\n",
       "</div>"
      ],
      "text/plain": [
       "     A    B    C    D    A    B    C    D\n",
       "0  NaN  NaN  NaN  NaN   A0   B0   C0   D0\n",
       "1  NaN  NaN  NaN  NaN   A1   B1   C1   D1\n",
       "2  NaN  NaN  NaN  NaN   A2   B2   C2   D2\n",
       "3  NaN  NaN  NaN  NaN   A3   B3   C3   D3\n",
       "4   A4   B4   C4   D4  NaN  NaN  NaN  NaN\n",
       "5   A5   B5   C5   D5  NaN  NaN  NaN  NaN\n",
       "6   A6   B6   C6   D6  NaN  NaN  NaN  NaN\n",
       "7   A7   B7   C7   D7  NaN  NaN  NaN  NaN"
      ]
     },
     "execution_count": 107,
     "metadata": {},
     "output_type": "execute_result"
    }
   ],
   "source": [
    "pd.concat([df2, df1], axis=1)\n",
    "# 인덱스가 같으면 옆으로 붙음\n",
    "# 다르면 알아서 붙음"
   ]
  },
  {
   "cell_type": "code",
   "execution_count": 108,
   "id": "e1878a15",
   "metadata": {},
   "outputs": [
    {
     "data": {
      "text/html": [
       "<div>\n",
       "<style scoped>\n",
       "    .dataframe tbody tr th:only-of-type {\n",
       "        vertical-align: middle;\n",
       "    }\n",
       "\n",
       "    .dataframe tbody tr th {\n",
       "        vertical-align: top;\n",
       "    }\n",
       "\n",
       "    .dataframe thead th {\n",
       "        text-align: right;\n",
       "    }\n",
       "</style>\n",
       "<table border=\"1\" class=\"dataframe\">\n",
       "  <thead>\n",
       "    <tr style=\"text-align: right;\">\n",
       "      <th></th>\n",
       "      <th>A</th>\n",
       "      <th>B</th>\n",
       "      <th>C</th>\n",
       "      <th>D</th>\n",
       "    </tr>\n",
       "  </thead>\n",
       "  <tbody>\n",
       "    <tr>\n",
       "      <th>0</th>\n",
       "      <td>A0</td>\n",
       "      <td>B0</td>\n",
       "      <td>C0</td>\n",
       "      <td>D0</td>\n",
       "    </tr>\n",
       "    <tr>\n",
       "      <th>1</th>\n",
       "      <td>A1</td>\n",
       "      <td>B1</td>\n",
       "      <td>C1</td>\n",
       "      <td>D1</td>\n",
       "    </tr>\n",
       "    <tr>\n",
       "      <th>2</th>\n",
       "      <td>A2</td>\n",
       "      <td>B2</td>\n",
       "      <td>C2</td>\n",
       "      <td>D2</td>\n",
       "    </tr>\n",
       "    <tr>\n",
       "      <th>3</th>\n",
       "      <td>A3</td>\n",
       "      <td>B3</td>\n",
       "      <td>C3</td>\n",
       "      <td>D3</td>\n",
       "    </tr>\n",
       "    <tr>\n",
       "      <th>4</th>\n",
       "      <td>A4</td>\n",
       "      <td>B4</td>\n",
       "      <td>C4</td>\n",
       "      <td>D4</td>\n",
       "    </tr>\n",
       "    <tr>\n",
       "      <th>5</th>\n",
       "      <td>A5</td>\n",
       "      <td>B5</td>\n",
       "      <td>C5</td>\n",
       "      <td>D5</td>\n",
       "    </tr>\n",
       "    <tr>\n",
       "      <th>6</th>\n",
       "      <td>A6</td>\n",
       "      <td>B6</td>\n",
       "      <td>C6</td>\n",
       "      <td>D6</td>\n",
       "    </tr>\n",
       "    <tr>\n",
       "      <th>7</th>\n",
       "      <td>A7</td>\n",
       "      <td>B7</td>\n",
       "      <td>C7</td>\n",
       "      <td>D7</td>\n",
       "    </tr>\n",
       "  </tbody>\n",
       "</table>\n",
       "</div>"
      ],
      "text/plain": [
       "    A   B   C   D\n",
       "0  A0  B0  C0  D0\n",
       "1  A1  B1  C1  D1\n",
       "2  A2  B2  C2  D2\n",
       "3  A3  B3  C3  D3\n",
       "4  A4  B4  C4  D4\n",
       "5  A5  B5  C5  D5\n",
       "6  A6  B6  C6  D6\n",
       "7  A7  B7  C7  D7"
      ]
     },
     "execution_count": 108,
     "metadata": {},
     "output_type": "execute_result"
    }
   ],
   "source": [
    "# append\n",
    "df1.append(df2)"
   ]
  },
  {
   "cell_type": "code",
   "execution_count": 109,
   "id": "16059c43",
   "metadata": {},
   "outputs": [
    {
     "data": {
      "text/html": [
       "<div>\n",
       "<style scoped>\n",
       "    .dataframe tbody tr th:only-of-type {\n",
       "        vertical-align: middle;\n",
       "    }\n",
       "\n",
       "    .dataframe tbody tr th {\n",
       "        vertical-align: top;\n",
       "    }\n",
       "\n",
       "    .dataframe thead th {\n",
       "        text-align: right;\n",
       "    }\n",
       "</style>\n",
       "<table border=\"1\" class=\"dataframe\">\n",
       "  <thead>\n",
       "    <tr style=\"text-align: right;\">\n",
       "      <th></th>\n",
       "      <th>A</th>\n",
       "      <th>B</th>\n",
       "      <th>C</th>\n",
       "      <th>D</th>\n",
       "    </tr>\n",
       "  </thead>\n",
       "  <tbody>\n",
       "    <tr>\n",
       "      <th>4</th>\n",
       "      <td>A4</td>\n",
       "      <td>B4</td>\n",
       "      <td>C4</td>\n",
       "      <td>D4</td>\n",
       "    </tr>\n",
       "    <tr>\n",
       "      <th>5</th>\n",
       "      <td>A5</td>\n",
       "      <td>B5</td>\n",
       "      <td>C5</td>\n",
       "      <td>D5</td>\n",
       "    </tr>\n",
       "    <tr>\n",
       "      <th>6</th>\n",
       "      <td>A6</td>\n",
       "      <td>B6</td>\n",
       "      <td>C6</td>\n",
       "      <td>D6</td>\n",
       "    </tr>\n",
       "    <tr>\n",
       "      <th>7</th>\n",
       "      <td>A7</td>\n",
       "      <td>B7</td>\n",
       "      <td>C7</td>\n",
       "      <td>D7</td>\n",
       "    </tr>\n",
       "    <tr>\n",
       "      <th>0</th>\n",
       "      <td>A0</td>\n",
       "      <td>B0</td>\n",
       "      <td>C0</td>\n",
       "      <td>D0</td>\n",
       "    </tr>\n",
       "    <tr>\n",
       "      <th>1</th>\n",
       "      <td>A1</td>\n",
       "      <td>B1</td>\n",
       "      <td>C1</td>\n",
       "      <td>D1</td>\n",
       "    </tr>\n",
       "    <tr>\n",
       "      <th>2</th>\n",
       "      <td>A2</td>\n",
       "      <td>B2</td>\n",
       "      <td>C2</td>\n",
       "      <td>D2</td>\n",
       "    </tr>\n",
       "    <tr>\n",
       "      <th>3</th>\n",
       "      <td>A3</td>\n",
       "      <td>B3</td>\n",
       "      <td>C3</td>\n",
       "      <td>D3</td>\n",
       "    </tr>\n",
       "  </tbody>\n",
       "</table>\n",
       "</div>"
      ],
      "text/plain": [
       "    A   B   C   D\n",
       "4  A4  B4  C4  D4\n",
       "5  A5  B5  C5  D5\n",
       "6  A6  B6  C6  D6\n",
       "7  A7  B7  C7  D7\n",
       "0  A0  B0  C0  D0\n",
       "1  A1  B1  C1  D1\n",
       "2  A2  B2  C2  D2\n",
       "3  A3  B3  C3  D3"
      ]
     },
     "execution_count": 109,
     "metadata": {},
     "output_type": "execute_result"
    }
   ],
   "source": [
    "df2.append(df1)"
   ]
  },
  {
   "cell_type": "code",
   "execution_count": 110,
   "id": "bb35f518",
   "metadata": {},
   "outputs": [
    {
     "data": {
      "text/plain": [
       "[('bar',\n",
       "       A      B         C         D\n",
       "  1  bar    one  1.096781 -0.654049\n",
       "  3  bar  three -0.546403  0.425482\n",
       "  5  bar    two -0.990182  1.184147),\n",
       " ('foo',\n",
       "       A      B         C         D\n",
       "  0  foo    one  0.064285 -1.219804\n",
       "  2  foo    two -1.065989 -1.160332\n",
       "  4  foo    two -1.360883 -0.305803\n",
       "  6  foo    one  2.324746 -0.050006\n",
       "  7  foo  three -0.426589 -0.272527)]"
      ]
     },
     "execution_count": 110,
     "metadata": {},
     "output_type": "execute_result"
    }
   ],
   "source": [
    "# concat 쓸 때, join='inner' 추가해서 sql처럼 사용가능\n",
    "# 키 별로 머지하는 방법\n",
    "# join 부분도 확인\n",
    "# grouping\n",
    "\n",
    "df = pd.DataFrame({\"A\": [\"foo\", \"bar\", \"foo\", \"bar\", \"foo\", \"bar\", \"foo\", \"foo\"],\n",
    "                   \"B\": [\"one\", \"one\", \"two\", \"three\", \"two\", \"two\", \"one\", \"three\"],\n",
    "                   \"C\": np.random.randn(8),\n",
    "                   \"D\": np.random.randn(8),\n",
    "                  }\n",
    "                 )\n",
    "list(df.groupby('A'))"
   ]
  },
  {
   "cell_type": "code",
   "execution_count": 111,
   "id": "064576e4",
   "metadata": {},
   "outputs": [
    {
     "data": {
      "text/html": [
       "<div>\n",
       "<style scoped>\n",
       "    .dataframe tbody tr th:only-of-type {\n",
       "        vertical-align: middle;\n",
       "    }\n",
       "\n",
       "    .dataframe tbody tr th {\n",
       "        vertical-align: top;\n",
       "    }\n",
       "\n",
       "    .dataframe thead th {\n",
       "        text-align: right;\n",
       "    }\n",
       "</style>\n",
       "<table border=\"1\" class=\"dataframe\">\n",
       "  <thead>\n",
       "    <tr style=\"text-align: right;\">\n",
       "      <th></th>\n",
       "      <th>C</th>\n",
       "      <th>D</th>\n",
       "    </tr>\n",
       "    <tr>\n",
       "      <th>A</th>\n",
       "      <th></th>\n",
       "      <th></th>\n",
       "    </tr>\n",
       "  </thead>\n",
       "  <tbody>\n",
       "    <tr>\n",
       "      <th>bar</th>\n",
       "      <td>-0.439804</td>\n",
       "      <td>0.955580</td>\n",
       "    </tr>\n",
       "    <tr>\n",
       "      <th>foo</th>\n",
       "      <td>-0.464430</td>\n",
       "      <td>-3.008472</td>\n",
       "    </tr>\n",
       "  </tbody>\n",
       "</table>\n",
       "</div>"
      ],
      "text/plain": [
       "            C         D\n",
       "A                      \n",
       "bar -0.439804  0.955580\n",
       "foo -0.464430 -3.008472"
      ]
     },
     "execution_count": 111,
     "metadata": {},
     "output_type": "execute_result"
    }
   ],
   "source": [
    "df.groupby('A').sum()"
   ]
  },
  {
   "cell_type": "code",
   "execution_count": 112,
   "id": "55c40770",
   "metadata": {},
   "outputs": [
    {
     "data": {
      "text/html": [
       "<div>\n",
       "<style scoped>\n",
       "    .dataframe tbody tr th:only-of-type {\n",
       "        vertical-align: middle;\n",
       "    }\n",
       "\n",
       "    .dataframe tbody tr th {\n",
       "        vertical-align: top;\n",
       "    }\n",
       "\n",
       "    .dataframe thead th {\n",
       "        text-align: right;\n",
       "    }\n",
       "</style>\n",
       "<table border=\"1\" class=\"dataframe\">\n",
       "  <thead>\n",
       "    <tr style=\"text-align: right;\">\n",
       "      <th></th>\n",
       "      <th></th>\n",
       "      <th>C</th>\n",
       "      <th>D</th>\n",
       "    </tr>\n",
       "    <tr>\n",
       "      <th>A</th>\n",
       "      <th>B</th>\n",
       "      <th></th>\n",
       "      <th></th>\n",
       "    </tr>\n",
       "  </thead>\n",
       "  <tbody>\n",
       "    <tr>\n",
       "      <th rowspan=\"3\" valign=\"top\">bar</th>\n",
       "      <th>one</th>\n",
       "      <td>1.096781</td>\n",
       "      <td>-0.654049</td>\n",
       "    </tr>\n",
       "    <tr>\n",
       "      <th>three</th>\n",
       "      <td>-0.546403</td>\n",
       "      <td>0.425482</td>\n",
       "    </tr>\n",
       "    <tr>\n",
       "      <th>two</th>\n",
       "      <td>-0.990182</td>\n",
       "      <td>1.184147</td>\n",
       "    </tr>\n",
       "    <tr>\n",
       "      <th rowspan=\"3\" valign=\"top\">foo</th>\n",
       "      <th>one</th>\n",
       "      <td>2.389032</td>\n",
       "      <td>-1.269810</td>\n",
       "    </tr>\n",
       "    <tr>\n",
       "      <th>three</th>\n",
       "      <td>-0.426589</td>\n",
       "      <td>-0.272527</td>\n",
       "    </tr>\n",
       "    <tr>\n",
       "      <th>two</th>\n",
       "      <td>-2.426872</td>\n",
       "      <td>-1.466136</td>\n",
       "    </tr>\n",
       "  </tbody>\n",
       "</table>\n",
       "</div>"
      ],
      "text/plain": [
       "                  C         D\n",
       "A   B                        \n",
       "bar one    1.096781 -0.654049\n",
       "    three -0.546403  0.425482\n",
       "    two   -0.990182  1.184147\n",
       "foo one    2.389032 -1.269810\n",
       "    three -0.426589 -0.272527\n",
       "    two   -2.426872 -1.466136"
      ]
     },
     "execution_count": 112,
     "metadata": {},
     "output_type": "execute_result"
    }
   ],
   "source": [
    "df.groupby(['A', 'B']).sum()"
   ]
  },
  {
   "cell_type": "code",
   "execution_count": 113,
   "id": "74b4839a",
   "metadata": {},
   "outputs": [],
   "source": [
    "# reshaping; 자습\n",
    "# 라벨 준 만큼 컬럼을 바꿈\n",
    "# 데이터 구조를 수정\n",
    "# 스택과 언스택\n",
    "# 언스택시 1을 주면, 0이면 다른 방식으로 바꿈\n",
    "\n",
    "# pivot\n",
    "\n",
    "# time series 시계열 데이터 처리에는 중요\n",
    "# 시간 관련 함수 기능 제공\n",
    "\n",
    "# catego 그룹화\n",
    "\n",
    "# plotting; 맷플 기능 이전에 기본적 시각화 가능\n",
    "\n",
    "# csv 읽기, 저장하기\n",
    "\n",
    "# 엑셀파일도 가능\n",
    "\n",
    "# pd10m은 타이틀 위주로 기억해서 찾아 쓸 수 있도록"
   ]
  }
 ],
 "metadata": {
  "kernelspec": {
   "display_name": "Python 3",
   "language": "python",
   "name": "python3"
  },
  "language_info": {
   "codemirror_mode": {
    "name": "ipython",
    "version": 3
   },
   "file_extension": ".py",
   "mimetype": "text/x-python",
   "name": "python",
   "nbconvert_exporter": "python",
   "pygments_lexer": "ipython3",
   "version": "3.8.8"
  }
 },
 "nbformat": 4,
 "nbformat_minor": 5
}
