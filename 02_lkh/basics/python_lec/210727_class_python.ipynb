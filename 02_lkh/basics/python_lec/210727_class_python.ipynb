{
 "cells": [
  {
   "cell_type": "code",
   "execution_count": 1,
   "id": "c710d9b2",
   "metadata": {},
   "outputs": [
    {
     "name": "stdout",
     "output_type": "stream",
     "text": [
      "900907\n"
     ]
    }
   ],
   "source": [
    "# 실습; 주민등록번호에서 생년월일 추출\n",
    "\n",
    "jum = '900907-1234567'\n",
    "\n",
    "print( jum[:6] )"
   ]
  },
  {
   "cell_type": "code",
   "execution_count": 2,
   "id": "db29a62c",
   "metadata": {},
   "outputs": [
    {
     "name": "stdout",
     "output_type": "stream",
     "text": [
      "20010331\n",
      "Rainy\n"
     ]
    }
   ],
   "source": [
    "# 실습; 날짜는 date 변수, 기온은 weather 변수에\n",
    "\n",
    "a = '20010331Rainy'\n",
    "\n",
    "date = a[:8]\n",
    "weather = a[8:]\n",
    "\n",
    "print(date)\n",
    "print(weather)"
   ]
  },
  {
   "cell_type": "code",
   "execution_count": 3,
   "id": "0e36801c",
   "metadata": {},
   "outputs": [
    {
     "name": "stdout",
     "output_type": "stream",
     "text": [
      "2001\n",
      "0331\n"
     ]
    }
   ],
   "source": [
    "\n",
    "\n",
    "year = a[:4]\n",
    "day = a[4:8]\n",
    "\n",
    "print(year)\n",
    "print(day)"
   ]
  },
  {
   "cell_type": "code",
   "execution_count": 4,
   "id": "785c84bf",
   "metadata": {},
   "outputs": [
    {
     "data": {
      "text/plain": [
       "'python'"
      ]
     },
     "execution_count": 4,
     "metadata": {},
     "output_type": "execute_result"
    }
   ],
   "source": [
    "# 실습; 문자열 바꾸기\n",
    "\n",
    "a = 'pithon'\n",
    "\n",
    "a.replace('i', 'y')"
   ]
  },
  {
   "cell_type": "code",
   "execution_count": 5,
   "id": "8471a18a",
   "metadata": {},
   "outputs": [
    {
     "name": "stdout",
     "output_type": "stream",
     "text": [
      "python\n",
      "python\n"
     ]
    }
   ],
   "source": [
    "# 실습; 문자열 바꾸기 다른 답안(분해)\n",
    "\n",
    "a1 = a[0]\n",
    "a2 = 'y'\n",
    "a3 = a[2:]\n",
    "\n",
    "print( a1 + a2 + a3 )\n",
    "print( a[0] + 'y' + a[2:] )"
   ]
  },
  {
   "cell_type": "code",
   "execution_count": 6,
   "id": "eb29c885",
   "metadata": {},
   "outputs": [
    {
     "name": "stdout",
     "output_type": "stream",
     "text": [
      "Life\n"
     ]
    }
   ],
   "source": [
    "# 실습; life 값 추출\n",
    "\n",
    "a = [1, 2, ['a', 'b', ['Life', 'is']]]\n",
    "# b = a[2]\n",
    "# c = b[0]\n",
    "# d = c[1]\n",
    "# e = d[0]\n",
    "# e[0]\n",
    "\n",
    "# 해답\n",
    "\n",
    "print( a[2][2][0] ) # a의 2의 2의 0 인덱스"
   ]
  },
  {
   "cell_type": "code",
   "execution_count": 7,
   "id": "aa6a4f5e",
   "metadata": {},
   "outputs": [
    {
     "name": "stdout",
     "output_type": "stream",
     "text": [
      "70.0\n"
     ]
    }
   ],
   "source": [
    "# 실습; 시험 성적 평균\n",
    "\n",
    "a = 80\n",
    "b = 75\n",
    "c = 55\n",
    "\n",
    "av = ( a + b + c ) / 3\n",
    "\n",
    "print( av )"
   ]
  },
  {
   "cell_type": "code",
   "execution_count": 8,
   "id": "b1ae6ad9",
   "metadata": {},
   "outputs": [
    {
     "name": "stdout",
     "output_type": "stream",
     "text": [
      "70.0\n"
     ]
    }
   ],
   "source": [
    "# 실습; 리스트화 답안(반복처리에 유리)\n",
    "\n",
    "sco = [80, 75, 55]\n",
    "kr = sco[0]\n",
    "en = sco[1]\n",
    "ma = sco[2]\n",
    "\n",
    "avg = ( sco[0] + sco[1] + sco[2] ) / 3\n",
    "print(avg)"
   ]
  },
  {
   "cell_type": "code",
   "execution_count": 9,
   "id": "8e998316",
   "metadata": {},
   "outputs": [
    {
     "name": "stdout",
     "output_type": "stream",
     "text": [
      "81.0\n"
     ]
    }
   ],
   "source": [
    "# 예시; 반복 처리하기에 좋은 구조로 바꿈\n",
    "# 반복문에서 인덱스만 바꿔주면서 활용\n",
    "\n",
    "exam = [[80, 75, 55], [90, 65, 88], [70, 80, 90]]\n",
    "\n",
    "sco = exam[1]\n",
    "\n",
    "avg = ( sco[0] + sco[1] + sco[2] ) / 3\n",
    "print(avg)\n",
    "\n",
    "# 많은 양의 데이터를 효율적으로 처리하기 위한\n",
    "# 코드 구조를 고민"
   ]
  },
  {
   "cell_type": "markdown",
   "id": "52620db7",
   "metadata": {},
   "source": [
    "## set\n",
    "\n",
    "set_p = {1, 2, 3}\n",
    "\n",
    "중복을 허용하지 않음\n",
    "\n",
    "순서가 설정되어 있지 않음\n",
    "\n",
    "주로 데이터의 중복을 체크해줄 때 이용"
   ]
  },
  {
   "cell_type": "code",
   "execution_count": 10,
   "id": "31e48c87",
   "metadata": {},
   "outputs": [
    {
     "name": "stdout",
     "output_type": "stream",
     "text": [
      "{1, 2, 3}\n",
      "<class 'set'>\n"
     ]
    }
   ],
   "source": [
    "a = {1, 2, 3}\n",
    "\n",
    "print(a)\n",
    "print(type(a))"
   ]
  },
  {
   "cell_type": "code",
   "execution_count": 11,
   "id": "b725beff",
   "metadata": {},
   "outputs": [
    {
     "data": {
      "text/plain": [
       "{1, 2, 3, 4, 5}"
      ]
     },
     "execution_count": 11,
     "metadata": {},
     "output_type": "execute_result"
    }
   ],
   "source": [
    "b = {1, 2, 3, 3, 4, 5, 3} # 중복은 거르고 출력\n",
    "b"
   ]
  },
  {
   "cell_type": "code",
   "execution_count": 12,
   "id": "4f925a28",
   "metadata": {},
   "outputs": [
    {
     "data": {
      "text/plain": [
       "{1, 2, 3, 4, 5, 6}"
      ]
     },
     "execution_count": 12,
     "metadata": {},
     "output_type": "execute_result"
    }
   ],
   "source": [
    "a1 = [1, 2, 3, 3, 4, 5, 4, 5, 6]\n",
    "\n",
    "set(a1) # 중복을 걸러줄 수 있게"
   ]
  },
  {
   "cell_type": "code",
   "execution_count": 13,
   "id": "281c25b0",
   "metadata": {},
   "outputs": [
    {
     "data": {
      "text/plain": [
       "[1, 2, 3, 4, 5, 6]"
      ]
     },
     "execution_count": 13,
     "metadata": {},
     "output_type": "execute_result"
    }
   ],
   "source": [
    "list(set(a1)) # 중복 거른 후 다시 리스트화"
   ]
  },
  {
   "cell_type": "code",
   "execution_count": 14,
   "id": "ea6649bf",
   "metadata": {},
   "outputs": [],
   "source": [
    "# b[0]\n",
    "# 중복을 허용하면서 순서가 없기 때문에\n",
    "# 인덱스로 접근할 수 없음"
   ]
  },
  {
   "cell_type": "code",
   "execution_count": 15,
   "id": "6bd0be56",
   "metadata": {},
   "outputs": [],
   "source": [
    "# 다양한 데이터 타입을 가질 수 있음\n",
    "\n",
    "set1 = {'a', 'b', 'c', 'd'}\n",
    "set2 = {1, 7, 3, 5, 2}\n",
    "set3 = {True, False}\n",
    "set4 = {'a', 34, True, 50, 'male'}"
   ]
  },
  {
   "cell_type": "code",
   "execution_count": 16,
   "id": "9a214ead",
   "metadata": {},
   "outputs": [
    {
     "name": "stdout",
     "output_type": "stream",
     "text": [
      "{4, 5}\n",
      "{1, 2, 3, 4, 5, 6, 7, 8, 9, 10}\n",
      "{4, 5}\n",
      "{1, 2, 3, 4, 5, 6, 7, 8, 9, 10}\n",
      "{1, 2, 3}\n",
      "{6, 7, 8, 9, 10}\n",
      "{1, 2, 3}\n"
     ]
    }
   ],
   "source": [
    "# 집합이기 때문에 집합 연산 가능\n",
    "\n",
    "set_a = {1, 2, 3, 4, 5}\n",
    "set_b = {4, 5, 6, 7, 8, 9, 10}\n",
    "\n",
    "print( set_a.intersection(set_b) ) # 두 세트의 교집합\n",
    "print( set_a.union(set_b) ) # 합집합\n",
    "print( set_a & set_b ) # 교집합과 같음\n",
    "print( set_a | set_b ) # 합집합\n",
    "print( set_a.difference(set_b) ) # a 차집합 b\n",
    "print( set_b.difference(set_a) )\n",
    "print( set_a - set_b ) # 차집합"
   ]
  },
  {
   "cell_type": "code",
   "execution_count": 17,
   "id": "5484a665",
   "metadata": {},
   "outputs": [
    {
     "name": "stdout",
     "output_type": "stream",
     "text": [
      "1 =  {1, 2, 3, 4, 5}\n",
      "x =  1\n",
      "2 =  {2, 3, 4, 5}\n",
      "1 =  {2, 3, 4, 5}\n",
      "x =  2\n",
      "2 =  {3, 4, 5}\n"
     ]
    }
   ],
   "source": [
    "print('1 = ', set_a)\n",
    "x = set_a.pop() # 값 중 하나를 빼냄\n",
    "print('x = ', x)\n",
    "print('2 = ', set_a)\n",
    "\n",
    "print('1 = ', set_a)\n",
    "x = set_a.pop() # 값 중 하나를 빼냄\n",
    "print('x = ', x)\n",
    "print('2 = ', set_a)\n",
    "\n",
    "# 되돌아갈 수 없는 데이터 처리 방식"
   ]
  },
  {
   "cell_type": "markdown",
   "id": "b3ea86e4",
   "metadata": {},
   "source": [
    "# 조건문, 반복문\n",
    "\n",
    "모든 언어에서 기본이 되고 자주 사용하는 명령어\n",
    "\n",
    "조건문, 반복문을 사용할 수 있는 데이터 구조로 만들 것"
   ]
  },
  {
   "cell_type": "code",
   "execution_count": 18,
   "id": "110d6fef",
   "metadata": {},
   "outputs": [
    {
     "data": {
      "text/plain": [
       "bool"
      ]
     },
     "execution_count": 18,
     "metadata": {},
     "output_type": "execute_result"
    }
   ],
   "source": [
    "python = True\n",
    "\n",
    "type(python)"
   ]
  },
  {
   "cell_type": "code",
   "execution_count": 19,
   "id": "cff1c67b",
   "metadata": {},
   "outputs": [
    {
     "name": "stdout",
     "output_type": "stream",
     "text": [
      "False\n",
      "True\n",
      "True\n",
      "True\n",
      "False\n"
     ]
    }
   ],
   "source": [
    "# 연산자 실습\n",
    "\n",
    "a = 10; b = 15; c = 10\n",
    "\n",
    "print(a==b)\n",
    "print(a!=b)\n",
    "print(a in (10, 20, 30)) # 이들 중 같은 값 존재\n",
    "\n",
    "print( a==b & a==c ) # and보다 & 활용, 속도 빠름\n",
    "print( a==b | a==c ) # or보다 | 활용"
   ]
  },
  {
   "cell_type": "markdown",
   "id": "32d1be42",
   "metadata": {},
   "source": [
    "## if"
   ]
  },
  {
   "cell_type": "code",
   "execution_count": 20,
   "id": "bf204bc3",
   "metadata": {},
   "outputs": [
    {
     "name": "stdout",
     "output_type": "stream",
     "text": [
      "false\n",
      "참이 아닐 때 실행\n"
     ]
    }
   ],
   "source": [
    "py = 0 # 조건이 참일 때만 코드 실행\n",
    "\n",
    "# 일반적으로 조건문에 bool\n",
    "# 조건문에 숫자 0 이면 거짓으로 인식\n",
    "# 0 이외의 숫자가 오면 참으로 인식\n",
    "\n",
    "if py: \n",
    "    print('cond true') # 자동 들여쓰기\n",
    "    print('111') # 들여쓰기가 동일하지 않으면 오류\n",
    "    print('error') # 같은 레벨의 명령어 인식\n",
    "else: # 조건이 거짓일 때\n",
    "    print('false')\n",
    "    print('참이 아닐 때 실행')"
   ]
  },
  {
   "cell_type": "code",
   "execution_count": 21,
   "id": "61cefad5",
   "metadata": {},
   "outputs": [
    {
     "name": "stdout",
     "output_type": "stream",
     "text": [
      "a & b false\n"
     ]
    }
   ],
   "source": [
    "a = False\n",
    "b = False\n",
    "\n",
    "if (a): # 순서대로 데이터 확인해서 출력\n",
    "    print('a true')\n",
    "elif (b): # 조건문 추가\n",
    "    print('a false, and b true')\n",
    "else:\n",
    "    print('a & b false')"
   ]
  },
  {
   "cell_type": "code",
   "execution_count": 22,
   "id": "879d9c45",
   "metadata": {},
   "outputs": [
    {
     "name": "stdout",
     "output_type": "stream",
     "text": [
      "2 은(는) 양수\n"
     ]
    }
   ],
   "source": [
    "#실습01 화면에서 숫자를 받아 부호 판단\n",
    "\n",
    "# x = int(input('숫자는? ')) # 문자열 입력 대기\n",
    "\n",
    "if x > 0:\n",
    "    print(x, '은(는) 양수')\n",
    "else:\n",
    "    print(x, '은(는) 음수')"
   ]
  },
  {
   "cell_type": "code",
   "execution_count": 23,
   "id": "44ffb971",
   "metadata": {},
   "outputs": [
    {
     "name": "stdout",
     "output_type": "stream",
     "text": [
      "짝수\n"
     ]
    }
   ],
   "source": [
    "# 실습02\n",
    "# 1. 화면에서 숫자를 입력받아\n",
    "# 2. 홀수면 '홀수', 짝수면 '짝수'를 출력\n",
    "\n",
    "# x = int(input('숫자는? '))\n",
    "\n",
    "if x % 2 == 0: # != 0, == 1 이면, 코드 순서 바뀜\n",
    "    print('짝수')\n",
    "else:\n",
    "    print('홀수')"
   ]
  },
  {
   "cell_type": "code",
   "execution_count": 24,
   "id": "8c27f4c0",
   "metadata": {},
   "outputs": [
    {
     "name": "stdout",
     "output_type": "stream",
     "text": [
      "2점은 D등급입니다.\n"
     ]
    }
   ],
   "source": [
    "# 실습03 성적평가\n",
    "# 1. 화면에서 점수를 입력 받아\n",
    "# 2. 90점 이상은 'a'\n",
    "# 3. 80~90점은 'b'\n",
    "# 4  70~80점은 'c'\n",
    "# 5. 70점 이하는 'd'를\n",
    "# 6. ??점은 'a' 형식으로 출력\n",
    "\n",
    "# x = int(input('점수는? '))\n",
    "\n",
    "if x >= 90:\n",
    "    print('{}점은 A등급입니다.'.format(x))\n",
    "elif 80 <= x < 90: # 순차적으로 진행하기 때문에 x >= 80 가능\n",
    "    print('{}점은 B등급입니다.'.format(x))\n",
    "elif 70 <= x < 80: # x >= 70\n",
    "    print('{}점은 C등급입니다.'.format(x))\n",
    "else:\n",
    "    print('{}점은 D등급입니다.'.format(x))"
   ]
  },
  {
   "cell_type": "code",
   "execution_count": 25,
   "id": "0d367941",
   "metadata": {},
   "outputs": [
    {
     "name": "stdout",
     "output_type": "stream",
     "text": [
      "2점은 D등급입니다\n"
     ]
    }
   ],
   "source": [
    "# 출력문을 한번만 입력해도 되도록\n",
    "# 어떻게 하면 빠르고 효율적으로 작성할지 고민\n",
    "\n",
    "# x = int(input('점수는? '))\n",
    "\n",
    "if x > 90:\n",
    "    degree = 'A'\n",
    "elif x > 80:\n",
    "    degree = 'B'\n",
    "elif x > 70:\n",
    "    degree = 'C'\n",
    "else:\n",
    "    degree = 'D'\n",
    "print('{}점은 {}등급입니다'.format(x, degree))"
   ]
  },
  {
   "cell_type": "code",
   "execution_count": 26,
   "id": "40dc4ea9",
   "metadata": {},
   "outputs": [
    {
     "name": "stdout",
     "output_type": "stream",
     "text": [
      "hi\n"
     ]
    }
   ],
   "source": [
    "x = 75\n",
    "\n",
    "if x > 80:\n",
    "    pass # 에러는 막고 문법적으로 맞춰주기 위함. 일단 진행하도록\n",
    "else:\n",
    "    print('hi')"
   ]
  },
  {
   "cell_type": "code",
   "execution_count": 27,
   "id": "d8b6a15b",
   "metadata": {},
   "outputs": [
    {
     "name": "stdout",
     "output_type": "stream",
     "text": [
      "75점은 Bad등급입니다\n"
     ]
    }
   ],
   "source": [
    "# x = int(input('점수는? '))\n",
    "\n",
    "if x > 90:\n",
    "    if x == 100: # if문 내부로 if문 삽입\n",
    "        degree = 'Perfect'\n",
    "    else:\n",
    "        degree = 'Very Good'\n",
    "elif x > 80:\n",
    "    degree = 'Good'\n",
    "else:\n",
    "    degree = 'Bad'\n",
    "print('{}점은 {}등급입니다'.format(x, degree))"
   ]
  },
  {
   "cell_type": "markdown",
   "id": "e6892546",
   "metadata": {},
   "source": [
    "# 반복문\n",
    "\n",
    "for 변수명 in 반복처리할_자료:\n",
    "\n",
    "    코드1\n",
    "    \n",
    "    코드2\n",
    "    \n",
    "    ...\n",
    "    \n",
    "\n",
    "파이썬은 자료구조, 조건문, 반복문으로 끝남\n",
    "\n",
    "iterable 반복자만 in 뒤에 올 수 있음\n",
    "리스트, 튜플, 딕셔너리, 문자열 등. 문자열은 한 글자씩 인식.\n",
    "하나의 int는 불가능\n",
    "\n",
    "반복 횟수는 range()를 자주 활용"
   ]
  },
  {
   "cell_type": "code",
   "execution_count": 28,
   "id": "4b980bd6",
   "metadata": {},
   "outputs": [
    {
     "name": "stdout",
     "output_type": "stream",
     "text": [
      "[0, 1, 2, 3, 4, 5, 6, 7, 8, 9]\n",
      "[0, 2, 4, 6, 8]\n"
     ]
    }
   ],
   "source": [
    "print(list(range(0, 10))) # 0부터 9까지\n",
    "print(list(range(0, 10, 2))) # step 부여"
   ]
  },
  {
   "cell_type": "code",
   "execution_count": 29,
   "id": "5491f204",
   "metadata": {},
   "outputs": [
    {
     "name": "stdout",
     "output_type": "stream",
     "text": [
      "i =  0\n",
      "a =  1\n",
      "------------------------------\n",
      "i =  1\n",
      "a =  2\n",
      "------------------------------\n",
      "i =  2\n",
      "a =  3\n",
      "------------------------------\n",
      "i =  3\n",
      "a =  4\n",
      "------------------------------\n",
      "i =  4\n",
      "a =  5\n",
      "------------------------------\n"
     ]
    }
   ],
   "source": [
    "a = [1, 2, 3, 4, 5, 6, 7, 8, 9, 10]\n",
    "\n",
    "for i in range(0, 5): # 반복적으로 실행. for 변수 in 범위/리스트 등\n",
    "    print('i = ', i)\n",
    "    print('a = ', a[i])\n",
    "    print('-'*30)"
   ]
  },
  {
   "cell_type": "code",
   "execution_count": 30,
   "id": "f7644532",
   "metadata": {},
   "outputs": [
    {
     "name": "stdout",
     "output_type": "stream",
     "text": [
      "j =  a\n",
      "j =  b\n",
      "j =  c\n",
      "j =  d\n",
      "j =  e\n"
     ]
    }
   ],
   "source": [
    "a = ['a', 'b', 'c', 'd', 'e']\n",
    "\n",
    "for j in a:\n",
    "    print('j = ', j)"
   ]
  },
  {
   "cell_type": "code",
   "execution_count": 31,
   "id": "4d6d4237",
   "metadata": {},
   "outputs": [
    {
     "name": "stdout",
     "output_type": "stream",
     "text": [
      "j =  h\n",
      "j =  e\n",
      "j =  l\n",
      "j =  l\n",
      "j =  o\n",
      "j =  !\n"
     ]
    }
   ],
   "source": [
    "b = 'hello!' # 문자열도 iterable \n",
    "\n",
    "for j in b:\n",
    "    print('j = ', j)"
   ]
  },
  {
   "cell_type": "code",
   "execution_count": 32,
   "id": "52d59e51",
   "metadata": {},
   "outputs": [
    {
     "name": "stdout",
     "output_type": "stream",
     "text": [
      "a\n",
      "b\n",
      "c\n",
      "d\n",
      "e\n"
     ]
    }
   ],
   "source": [
    "for k in range(0, len(a)): # len()은 정수지만 range 안에서 인식\n",
    "    print(a[k])"
   ]
  },
  {
   "cell_type": "code",
   "execution_count": 33,
   "id": "f3811381",
   "metadata": {},
   "outputs": [
    {
     "name": "stdout",
     "output_type": "stream",
     "text": [
      "a\n",
      "b\n",
      "c\n"
     ]
    }
   ],
   "source": [
    "dic = {'a':10, 'b':20, 'c':30}\n",
    "\n",
    "for l in dic: # 딕셔너리명을 키를 반복자로 가짐\n",
    "    print(l) # dic.keys() dic.values() dic.items()로 바꿔 활용 가능"
   ]
  },
  {
   "cell_type": "code",
   "execution_count": 34,
   "id": "33501682",
   "metadata": {},
   "outputs": [
    {
     "name": "stdout",
     "output_type": "stream",
     "text": [
      "app\n",
      "pee\n",
      "cher\n"
     ]
    }
   ],
   "source": [
    "fruit = ['app', 'pee', 'cher']\n",
    "\n",
    "for i in fruit:\n",
    "    print(i)"
   ]
  },
  {
   "cell_type": "code",
   "execution_count": 35,
   "id": "df74209e",
   "metadata": {},
   "outputs": [
    {
     "data": {
      "text/plain": [
       "'b'"
      ]
     },
     "execution_count": 35,
     "metadata": {},
     "output_type": "execute_result"
    }
   ],
   "source": [
    "list(dic.keys())[1] # 딕셔너리에서 키를 리스트화 인덱스"
   ]
  },
  {
   "cell_type": "code",
   "execution_count": 36,
   "id": "792680a0",
   "metadata": {},
   "outputs": [
    {
     "name": "stdout",
     "output_type": "stream",
     "text": [
      "0 * 10 = 0\n",
      "0 * 11 = 0\n",
      "0 * 12 = 0\n",
      "0 * 13 = 0\n",
      "0 * 14 = 0\n",
      "----------\n",
      "1 * 10 = 10\n",
      "1 * 11 = 11\n",
      "1 * 12 = 12\n",
      "1 * 13 = 13\n",
      "1 * 14 = 14\n",
      "----------\n",
      "2 * 10 = 20\n",
      "2 * 11 = 22\n",
      "2 * 12 = 24\n",
      "2 * 13 = 26\n",
      "2 * 14 = 28\n",
      "----------\n",
      "3 * 10 = 30\n",
      "3 * 11 = 33\n",
      "3 * 12 = 36\n",
      "3 * 13 = 39\n",
      "3 * 14 = 42\n",
      "----------\n",
      "4 * 10 = 40\n",
      "4 * 11 = 44\n",
      "4 * 12 = 48\n",
      "4 * 13 = 52\n",
      "4 * 14 = 56\n",
      "----------\n"
     ]
    }
   ],
   "source": [
    "for i in range(0, 5): # i 기준으로 먼저 순서 반복\n",
    "    for j in range(10, 15): # i의 순서 내에서 j 순서 반복\n",
    "        print('{} * {} = {}'.format(i, j, i*j))\n",
    "    print('-' * 10)"
   ]
  },
  {
   "cell_type": "code",
   "execution_count": 37,
   "id": "91521e2d",
   "metadata": {},
   "outputs": [],
   "source": [
    "# 데이터 처리 구조\n",
    "# 데이터 읽어서\n",
    "# if 조건에 따라 처리한 후\n",
    "# for 반복 처리..\n",
    "# if 조건 반복"
   ]
  },
  {
   "cell_type": "code",
   "execution_count": 38,
   "id": "d1bff33d",
   "metadata": {},
   "outputs": [
    {
     "name": "stdout",
     "output_type": "stream",
     "text": [
      "james는 95입니다.\n",
      "--------------------\n",
      "robert는 96입니다.\n",
      "--------------------\n",
      "lisa는 97입니다.\n",
      "--------------------\n",
      "mary는 94입니다.\n",
      "--------------------\n"
     ]
    }
   ],
   "source": [
    "# 학생별로 점수 매핑\n",
    "\n",
    "names = ['james', 'robert', 'lisa', 'mary']\n",
    "scores = [95, 96, 97, 94]\n",
    "\n",
    "for k in range(len(names)):\n",
    "    print('{}는 {}입니다.'.format(names[k], scores[k]))\n",
    "    print('-' * 20)"
   ]
  },
  {
   "cell_type": "code",
   "execution_count": 39,
   "id": "ee9dc8b9",
   "metadata": {},
   "outputs": [
    {
     "name": "stdout",
     "output_type": "stream",
     "text": [
      "['a', 'b', 'c', 'd', 'e']\n",
      "<enumerate object at 0x0000018A6573E300>\n",
      "[(0, 'a'), (1, 'b'), (2, 'c'), (3, 'd'), (4, 'e')]\n"
     ]
    }
   ],
   "source": [
    "print(a)\n",
    "\n",
    "print(enumerate(a)) # 인덱스를 붙인 튜플을 리스트로 구성하는 함수\n",
    "\n",
    "print(list(enumerate(a)))"
   ]
  },
  {
   "cell_type": "code",
   "execution_count": 40,
   "id": "bb9bf5c5",
   "metadata": {},
   "outputs": [
    {
     "name": "stdout",
     "output_type": "stream",
     "text": [
      "(0, 'a')\n",
      "0\n",
      "a\n",
      "--------------------\n",
      "(1, 'b')\n",
      "1\n",
      "b\n",
      "--------------------\n",
      "(2, 'c')\n",
      "2\n",
      "c\n",
      "--------------------\n",
      "(3, 'd')\n",
      "3\n",
      "d\n",
      "--------------------\n",
      "(4, 'e')\n",
      "4\n",
      "e\n",
      "--------------------\n"
     ]
    }
   ],
   "source": [
    "for i in enumerate(a):\n",
    "    print(i)\n",
    "    print(i[0])\n",
    "    print(i[1])\n",
    "    print('-'*20)"
   ]
  },
  {
   "cell_type": "code",
   "execution_count": 41,
   "id": "7e658bf7",
   "metadata": {
    "scrolled": true
   },
   "outputs": [
    {
     "name": "stdout",
     "output_type": "stream",
     "text": [
      "james는 95입니다.\n",
      "--------------------\n",
      "robert는 96입니다.\n",
      "--------------------\n",
      "lisa는 97입니다.\n",
      "--------------------\n",
      "mary는 94입니다.\n",
      "--------------------\n"
     ]
    }
   ],
   "source": [
    "names = ['james', 'robert', 'lisa', 'mary']\n",
    "scores = [95, 96, 97, 94]\n",
    "\n",
    "for i, name in enumerate(names):\n",
    "    print('{}는 {}입니다.'.format(name, scores[i]))\n",
    "    print('-' * 20)"
   ]
  },
  {
   "cell_type": "code",
   "execution_count": 42,
   "id": "0121242c",
   "metadata": {},
   "outputs": [
    {
     "name": "stdout",
     "output_type": "stream",
     "text": [
      "i =  0\n",
      "i =  1\n",
      "i =  2\n",
      "i =  4\n",
      "i =  5\n"
     ]
    }
   ],
   "source": [
    "for i in range(0, 10):\n",
    "    if i == 3:\n",
    "        continue # 조건을 만족하면 실행하지 말고 진행\n",
    "    if i == 6:\n",
    "        break # 조건을 만족하면 for문 종료\n",
    "    print('i = ', i)"
   ]
  },
  {
   "cell_type": "markdown",
   "id": "2779a7b9",
   "metadata": {},
   "source": [
    "# while 문"
   ]
  },
  {
   "cell_type": "code",
   "execution_count": 43,
   "id": "b923b736",
   "metadata": {},
   "outputs": [
    {
     "name": "stdout",
     "output_type": "stream",
     "text": [
      "5\n",
      "4\n",
      "3\n",
      "2\n",
      "1\n",
      "종료\n"
     ]
    }
   ],
   "source": [
    "# for문은 실행 횟수가 미리 정해져 있음\n",
    "# while은 만족할 때 까지 실행\n",
    "# while문의 무한루프 때문에 for문 자주 사용\n",
    "\n",
    "x = 5\n",
    "while x > 0:\n",
    "    print(x)\n",
    "    x -= 1\n",
    "else:\n",
    "    print('종료')"
   ]
  },
  {
   "cell_type": "code",
   "execution_count": 44,
   "id": "17a3dd08",
   "metadata": {},
   "outputs": [
    {
     "name": "stdout",
     "output_type": "stream",
     "text": [
      "high = ['app', 'cher', 'grap']\n",
      "low = ['pee', 'mel', 'berr']\n"
     ]
    }
   ],
   "source": [
    "# 실습; 과일 찾기\n",
    "# 1. 과일명과 과일 가격으로 구성된 dict 데이터\n",
    "# 2. fruit = {'app':3500, 'pee':2500, 'cher':5000}\n",
    "# 3. 과일 가격이 3000보다 비싼 과일은 high에 저장\n",
    "# 4. 3000원 보다 싼 과일의 이름은 low에 저장\n",
    "# 5. high, low를 출력\n",
    "\n",
    "fruit = {'app':3500, 'pee':2500, 'cher':5000, 'grap':5000, 'mel':2500, 'berr': 3000}\n",
    "high = []\n",
    "low = []\n",
    "fruit_l = list(fruit.keys())\n",
    "\n",
    "for i in fruit_l: # dict인 fruit도 key만 접근\n",
    "    if fruit.get(i) > 3000:\n",
    "        high.append(i)    \n",
    "    else:\n",
    "        low.append(i)\n",
    "\n",
    "print('high =', high)\n",
    "print('low =', low)"
   ]
  },
  {
   "cell_type": "code",
   "execution_count": 45,
   "id": "f418fd80",
   "metadata": {},
   "outputs": [
    {
     "name": "stdout",
     "output_type": "stream",
     "text": [
      "high = ['app', 'cher', 'grap']\n",
      "low = ['pee', 'mel', 'berr']\n"
     ]
    }
   ],
   "source": [
    "# 실습 선생님 답안\n",
    "fruit = {'app':3500, 'pee':2500, 'cher':5000, 'grap':5000, 'mel':2500, 'berr': 3000}\n",
    "high = []\n",
    "low = []\n",
    "\n",
    "# dict.items() 는 딕셔너리의 쌍을 튜플로 가지는 리스트화\n",
    "\n",
    "for fru_s in fruit.items(): # 변수는 for문 내에서만\n",
    "    if fru_s[1] > 3000: # 튜플의 1번 인덱스 조건\n",
    "        high.append(fru_s[0]) # 튜플의 0번 인덱스 결과\n",
    "    else:\n",
    "        low.append(fru_s[0])\n",
    "\n",
    "print('high =', high)\n",
    "print('low =', low)"
   ]
  },
  {
   "cell_type": "code",
   "execution_count": 46,
   "id": "7c6d8805",
   "metadata": {},
   "outputs": [
    {
     "name": "stdout",
     "output_type": "stream",
     "text": [
      "high = [['app', 3500], ['cher', 5000], ['grap', 5000]]\n",
      "low = [['pee', 2500], ['mel', 2500], ['berr', 3000]]\n"
     ]
    }
   ],
   "source": [
    "# 과일명-가격을 추가하고 싶다면\n",
    "fruit = {'app':3500, 'pee':2500, 'cher':5000, 'grap':5000, 'mel':2500, 'berr': 3000}\n",
    "high = []\n",
    "low = []\n",
    "fruit_l = list(fruit.keys())\n",
    "\n",
    "for i in fruit_l:\n",
    "    if fruit.get(i) > 3000:\n",
    "        high.append([i, fruit.get(i)])    \n",
    "    else:\n",
    "        low.append([i, fruit.get(i)])\n",
    "\n",
    "print('high =', high)\n",
    "print('low =', low)"
   ]
  },
  {
   "cell_type": "code",
   "execution_count": 47,
   "id": "f434ddc8",
   "metadata": {},
   "outputs": [
    {
     "name": "stdout",
     "output_type": "stream",
     "text": [
      "과일 갯수 =  13\n"
     ]
    }
   ],
   "source": [
    "# 실습 과일 개수\n",
    "# 1. fruit1은 과일명:[과일가격,갯수]로 구성\n",
    "# 2. 3000원보다 비싼 과일 총 몇개인가?\n",
    "\n",
    "fruit1 = {\"apple\":[3500,5], \"peer\": [2500,2], \n",
    "         \"cherry\": [5000,8], \"mango\":[2200,4]}\n",
    "cnt = 0\n",
    "\n",
    "for i in fruit1:\n",
    "    if fruit1.get(i)[0] > 3000:\n",
    "        cnt += fruit1.get(i)[1]\n",
    "    else:\n",
    "        cnt = cnt\n",
    "\n",
    "print('과일 갯수 = ', cnt)"
   ]
  },
  {
   "cell_type": "code",
   "execution_count": 48,
   "id": "27023a52",
   "metadata": {},
   "outputs": [
    {
     "name": "stdout",
     "output_type": "stream",
     "text": [
      "과일 갯수 =  13\n"
     ]
    }
   ],
   "source": [
    "# 딕셔너리 활용 방법\n",
    "\n",
    "fruit1 = {\"apple\":[3500,5], \"peer\": [2500,2], \n",
    "         \"cherry\": [5000,8], \"mango\":[2200,4]}\n",
    "cnt = 0\n",
    "\n",
    "for i in fruit1.items():\n",
    "    if i[1][0] > 3000:\n",
    "        cnt += i[1][1]\n",
    "    else:\n",
    "        cnt = cnt\n",
    "\n",
    "print('과일 갯수 = ', cnt)"
   ]
  },
  {
   "cell_type": "code",
   "execution_count": 49,
   "id": "8562b100",
   "metadata": {},
   "outputs": [
    {
     "name": "stdout",
     "output_type": "stream",
     "text": [
      "4\n"
     ]
    }
   ],
   "source": [
    "# 실습 A반 학생의 국, 영, 수, 과 시험성적\n",
    "# 1. A반 학생은 총 몇명인가? len 함수 없는 경우\n",
    "# print(len(class_a.keys()))\n",
    "\n",
    "class_a = {\"A1\":[78,60,92,88],\n",
    "           \"A2\":[66,88,77,90],\n",
    "           \"A3\":[77,93,83,73],\n",
    "           \"A4\":[55,99,96,87]}\n",
    "\n",
    "tot = 0\n",
    "for i in class_a:\n",
    "    tot += 1\n",
    "    \n",
    "print(tot)"
   ]
  },
  {
   "cell_type": "code",
   "execution_count": 50,
   "id": "115bbc18",
   "metadata": {},
   "outputs": [
    {
     "name": "stdout",
     "output_type": "stream",
     "text": [
      "A1 총점 318, 평균 79.5\n",
      "A2 총점 321, 평균 80.25\n",
      "A3 총점 326, 평균 81.5\n",
      "A4 총점 337, 평균 84.25\n"
     ]
    }
   ],
   "source": [
    "# 2. 학생별 총점과 평균\n",
    "\n",
    "for i in class_a.items():\n",
    "    tots = 0\n",
    "    for j in i[1]:\n",
    "        tots += j\n",
    "        avg = tots / len(i[1])\n",
    "    print('{} 총점 {}, 평균 {}'.format(i[0], tots, avg))"
   ]
  },
  {
   "cell_type": "code",
   "execution_count": 51,
   "id": "53ff3955",
   "metadata": {},
   "outputs": [
    {
     "name": "stdout",
     "output_type": "stream",
     "text": [
      "A1 총점 318, 평균 84.25\n",
      "A2 총점 321, 평균 84.25\n",
      "A3 총점 326, 평균 84.25\n",
      "A4 총점 337, 평균 84.25\n"
     ]
    }
   ],
   "source": [
    "# 2. 다른 답안\n",
    "\n",
    "for i in class_a:\n",
    "    tots2 = 0\n",
    "    for j in class_a.get(i):\n",
    "        tots2 += j\n",
    "        avg = tots / len(class_a.get(i))\n",
    "    print('{} 총점 {}, 평균 {}'.format(i, tots2, avg))"
   ]
  },
  {
   "cell_type": "code",
   "execution_count": 52,
   "id": "45d3eee5",
   "metadata": {},
   "outputs": [
    {
     "name": "stdout",
     "output_type": "stream",
     "text": [
      "{'A1': [318, 79.5], 'A2': [321, 80.25], 'A3': [326, 81.5], 'A4': [337, 84.25]}\n"
     ]
    }
   ],
   "source": [
    "# 3. 개인별 점수 합계, 평균 저장하기(dict)\n",
    "\n",
    "tot_dict = {}\n",
    "\n",
    "for i in class_a.items():\n",
    "    tots = 0\n",
    "    for j in i[1]:\n",
    "        tots += j\n",
    "        tot_dict[i[0]] = [tots, tots / len(i[1])]\n",
    "\n",
    "print(tot_dict)"
   ]
  },
  {
   "cell_type": "code",
   "execution_count": 53,
   "id": "6a5359da",
   "metadata": {},
   "outputs": [
    {
     "name": "stdout",
     "output_type": "stream",
     "text": [
      "[['A1', 318, 79.5], ['A2', 321, 80.25], ['A3', 326, 81.5], ['A4', 337, 84.25]]\n"
     ]
    }
   ],
   "source": [
    "# 4. 개인별 점수 합계, 평균 저장하기(list)\n",
    "\n",
    "tot_lst = []\n",
    "\n",
    "for i in class_a.items():\n",
    "    tots = 0\n",
    "    for j in i[1]:\n",
    "        tots += j\n",
    "    tot_lst.append( [i[0], tots, tots/len(i[1])] )\n",
    "\n",
    "print(tot_lst)\n",
    "\n",
    "# 변수를 처음 설정할 때부터 구분되도록 하기"
   ]
  },
  {
   "cell_type": "markdown",
   "id": "c458d37c",
   "metadata": {},
   "source": [
    "# 리스트 comprehension"
   ]
  },
  {
   "cell_type": "code",
   "execution_count": 54,
   "id": "28b4346e",
   "metadata": {},
   "outputs": [
    {
     "name": "stdout",
     "output_type": "stream",
     "text": [
      "[1, 9, 25, 49]\n"
     ]
    }
   ],
   "source": [
    "# num의 요소의 **2(제곱) 되는 요소 만들기\n",
    "# 리스트의 요소를 하나씩 꺼내서 연산 후 리스트에 추가\n",
    "# list comp 1번 형태\n",
    "\n",
    "num = list(range(1, 8, 2))\n",
    "num_sq = []\n",
    "\n",
    "for i in num:\n",
    "    num_sq.append(i**2)\n",
    "print(num_sq)"
   ]
  },
  {
   "cell_type": "code",
   "execution_count": 55,
   "id": "0c3d55b2",
   "metadata": {},
   "outputs": [
    {
     "name": "stdout",
     "output_type": "stream",
     "text": [
      "[1, 9, 25, 49]\n"
     ]
    }
   ],
   "source": [
    "# 위의 코드를 한문장으로 해결하는 방법\n",
    "# [반복실행문장 for 반복변수 in 반복범위]\n",
    "\n",
    "print([i**2 for i in num]) # 리스트 comp의 기본구조"
   ]
  },
  {
   "cell_type": "code",
   "execution_count": 56,
   "id": "7e6145c3",
   "metadata": {},
   "outputs": [
    {
     "name": "stdout",
     "output_type": "stream",
     "text": [
      "[25, 49]\n"
     ]
    }
   ],
   "source": [
    "# list comp 2번 형태\n",
    "\n",
    "num_sq = []\n",
    "\n",
    "for i in num:\n",
    "    if i > 4:\n",
    "        num_sq.append(i**2)\n",
    "\n",
    "print(num_sq)"
   ]
  },
  {
   "cell_type": "code",
   "execution_count": 57,
   "id": "c5d9ba9c",
   "metadata": {},
   "outputs": [
    {
     "data": {
      "text/plain": [
       "[25, 49]"
      ]
     },
     "execution_count": 57,
     "metadata": {},
     "output_type": "execute_result"
    }
   ],
   "source": [
    "# [코드 for 변수 in 범위 if 조건문]\n",
    "\n",
    "[i**2 for i in num if i > 4]"
   ]
  },
  {
   "cell_type": "code",
   "execution_count": 58,
   "id": "34bcf8de",
   "metadata": {},
   "outputs": [
    {
     "name": "stdout",
     "output_type": "stream",
     "text": [
      "[0, 4]\n"
     ]
    }
   ],
   "source": [
    "a = []\n",
    "\n",
    "for i in range(5):\n",
    "    if i%2 == 0:\n",
    "        if i%4 == 0:\n",
    "            a.append(i)\n",
    "print(a)"
   ]
  },
  {
   "cell_type": "code",
   "execution_count": 59,
   "id": "80dffab0",
   "metadata": {},
   "outputs": [
    {
     "data": {
      "text/plain": [
       "[0, 4]"
      ]
     },
     "execution_count": 59,
     "metadata": {},
     "output_type": "execute_result"
    }
   ],
   "source": [
    "[ i for i in range(5) if i%2 == 0 if i%4 == 0 ]\n",
    "\n",
    "# elif, else 까지는 복잡"
   ]
  },
  {
   "cell_type": "markdown",
   "id": "feccf6b9",
   "metadata": {},
   "source": [
    "# 데이터 입출력"
   ]
  },
  {
   "cell_type": "code",
   "execution_count": 60,
   "id": "8ce8af02",
   "metadata": {},
   "outputs": [
    {
     "data": {
      "text/plain": [
       "\"\\nfruit_price = {'app':3500}\\n\\nfor item in fruit_price.items():\\n    print(item, file = fruit)\\nfruit.close()\""
      ]
     },
     "execution_count": 60,
     "metadata": {},
     "output_type": "execute_result"
    }
   ],
   "source": [
    "# fruit = open('c:/jhpark/sync/python/jupyter/fruit_dir.txt', 'wt')\n",
    "# fruit = open('fruit_ndir.txt', 'wt')\n",
    "\n",
    "# 경로 미지정시 명령파일의 경로로 생성\n",
    "# wt 쓰기, 텍스트형\n",
    "# 동일하게 실행하면 덮어쓰기\n",
    "\n",
    "'''\n",
    "fruit_price = {'app':3500}\n",
    "\n",
    "for item in fruit_price.items():\n",
    "    print(item, file = fruit)\n",
    "fruit.close()'''"
   ]
  },
  {
   "cell_type": "code",
   "execution_count": 61,
   "id": "f47cc848",
   "metadata": {},
   "outputs": [],
   "source": [
    "# method로 쓰는 방법\n",
    "\n",
    "fruit = open('fruit2.txt', 'wt')\n",
    "fruit.write('apple 3500\\n') # 줄 바꿈\n",
    "fruit.write('peer 2500')\n",
    "fruit.write('cherr 5000\\n')\n",
    "fruit.close()"
   ]
  },
  {
   "cell_type": "code",
   "execution_count": 62,
   "id": "0ef60576",
   "metadata": {},
   "outputs": [
    {
     "data": {
      "text/plain": [
       "\"import csv # csv라는 라이브러리를 사용 명령\\n\\nwith open('fruit.csv', 'w', newline='') as fruit_with:\\n    writer = csv.writer(fruit_with, delimiter=',') # 새로운 함수 지정\\n    writer.writerow(['111'])\\n    writer.writerow(['222'])\\n    writer.writerow(['333'])\\n    writer.writerow(['444'])\\n    writer.writerow(['555'])\\n\""
      ]
     },
     "execution_count": 62,
     "metadata": {},
     "output_type": "execute_result"
    }
   ],
   "source": [
    "# with문\n",
    "\n",
    "'''import csv # csv라는 라이브러리를 사용 명령\n",
    "\n",
    "with open('fruit.csv', 'w', newline='') as fruit_with:\n",
    "    writer = csv.writer(fruit_with, delimiter=',') # 새로운 함수 지정\n",
    "    writer.writerow(['111'])\n",
    "    writer.writerow(['222'])\n",
    "    writer.writerow(['333'])\n",
    "    writer.writerow(['444'])\n",
    "    writer.writerow(['555'])\n",
    "'''"
   ]
  },
  {
   "cell_type": "code",
   "execution_count": 63,
   "id": "a3932a29",
   "metadata": {},
   "outputs": [
    {
     "data": {
      "text/plain": [
       "['apple 3500\\n', 'peer 2500cherr 5000\\n']"
      ]
     },
     "execution_count": 63,
     "metadata": {},
     "output_type": "execute_result"
    }
   ],
   "source": [
    "# 파일 읽기\n",
    "\n",
    "fruit2 = open('fruit2.txt', 'rt')\n",
    "fruit2.readlines()"
   ]
  },
  {
   "cell_type": "code",
   "execution_count": 64,
   "id": "f6741e04",
   "metadata": {},
   "outputs": [
    {
     "data": {
      "text/plain": [
       "['apple 3500\\n', 'peer 2500cherr 5000\\n']"
      ]
     },
     "execution_count": 64,
     "metadata": {},
     "output_type": "execute_result"
    }
   ],
   "source": [
    "fruit2 = open('fruit2.txt', 'rt')\n",
    "data = fruit2.readlines()\n",
    "data"
   ]
  },
  {
   "cell_type": "code",
   "execution_count": 65,
   "id": "886e0b18",
   "metadata": {},
   "outputs": [
    {
     "data": {
      "text/plain": [
       "'peer 2500cherr 5000\\n'"
      ]
     },
     "execution_count": 65,
     "metadata": {},
     "output_type": "execute_result"
    }
   ],
   "source": [
    "data[1]"
   ]
  },
  {
   "cell_type": "code",
   "execution_count": 66,
   "id": "02c5f53c",
   "metadata": {},
   "outputs": [
    {
     "name": "stdout",
     "output_type": "stream",
     "text": [
      "[['111'], ['222'], ['333'], ['444'], ['555']]\n"
     ]
    }
   ],
   "source": [
    "# csv 파일\n",
    "import csv\n",
    "\n",
    "f = open('fruit.csv', 'rt')\n",
    "csvread = csv.reader(f) # csv.reader() 데이터를 읽어오는 함수\n",
    "\n",
    "fruit_lst = []\n",
    "\n",
    "for i in csvread:\n",
    "    fruit_lst.append(i)\n",
    "\n",
    "print(fruit_lst)"
   ]
  }
 ],
 "metadata": {
  "kernelspec": {
   "display_name": "Python 3",
   "language": "python",
   "name": "python3"
  },
  "language_info": {
   "codemirror_mode": {
    "name": "ipython",
    "version": 3
   },
   "file_extension": ".py",
   "mimetype": "text/x-python",
   "name": "python",
   "nbconvert_exporter": "python",
   "pygments_lexer": "ipython3",
   "version": "3.8.8"
  }
 },
 "nbformat": 4,
 "nbformat_minor": 5
}
