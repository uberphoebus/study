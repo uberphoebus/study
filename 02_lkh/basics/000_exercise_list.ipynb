{
 "cells": [
  {
   "cell_type": "code",
   "execution_count": 1,
   "id": "d2edd06c",
   "metadata": {},
   "outputs": [],
   "source": [
    "import pandas as pd\n",
    "import numpy as np\n",
    "import matplotlib.pyplot as plt\n",
    "import seaborn as sns"
   ]
  },
  {
   "cell_type": "markdown",
   "id": "338f5ce4",
   "metadata": {},
   "source": [
    "## 210726"
   ]
  },
  {
   "cell_type": "markdown",
   "id": "de76a889",
   "metadata": {},
   "source": [
    "## 210727"
   ]
  },
  {
   "cell_type": "code",
   "execution_count": 2,
   "id": "8086d12f",
   "metadata": {},
   "outputs": [],
   "source": [
    "# 실습01; 주민등록번호에서 생년월일 추출\n",
    "jum = '900907-1234567'"
   ]
  },
  {
   "cell_type": "code",
   "execution_count": 3,
   "id": "d157c130",
   "metadata": {},
   "outputs": [],
   "source": [
    "# 실습02; 날짜 date, 기온 weather, 연도 year, 일자 day 변수에 할당\n",
    "a = '20010331Rainy'"
   ]
  },
  {
   "cell_type": "code",
   "execution_count": 4,
   "id": "315bb8d8",
   "metadata": {},
   "outputs": [],
   "source": [
    "# 실습03; 문자열 바꾸기(함수 혹은 분해)\n",
    "a = 'pithon'"
   ]
  },
  {
   "cell_type": "code",
   "execution_count": 5,
   "id": "c260ac7c",
   "metadata": {},
   "outputs": [],
   "source": [
    "# 실습04; life 값 추출\n",
    "a = [1, 2, ['a', 'b', ['Life', 'is']]]"
   ]
  },
  {
   "cell_type": "code",
   "execution_count": 6,
   "id": "28633bac",
   "metadata": {},
   "outputs": [],
   "source": [
    "# 실습05; 시험 성적 평균\n",
    "a = 80; b = 75; c = 55"
   ]
  },
  {
   "cell_type": "code",
   "execution_count": 7,
   "id": "0fb29ff3",
   "metadata": {},
   "outputs": [],
   "source": [
    "# 실습06; 평균의 리스트화 답안(반복처리에 유리하도록 구성)\n",
    "exam = [[80, 75, 55], [90, 65, 88], [70, 80, 90]]"
   ]
  },
  {
   "cell_type": "code",
   "execution_count": 8,
   "id": "a531803a",
   "metadata": {},
   "outputs": [],
   "source": [
    "# 실습07; 화면에서 숫자를 입력받아 부호 판단"
   ]
  },
  {
   "cell_type": "code",
   "execution_count": 9,
   "id": "a69ec506",
   "metadata": {},
   "outputs": [],
   "source": [
    "# 실습08; 화면에서 숫자를 입력받아, 홀수면 '홀수', 짝수면 '짝수'를 출력"
   ]
  },
  {
   "cell_type": "code",
   "execution_count": 10,
   "id": "2c0c4d6f",
   "metadata": {},
   "outputs": [],
   "source": [
    "# 실습09; 성적평가\n",
    "# 화면에서 점수를 입력 받아\n",
    "# 90점 이상은 'a', 80~90점은 'b', 70~80점은 'c', 70점 이하는 'd' 출력"
   ]
  },
  {
   "cell_type": "code",
   "execution_count": 11,
   "id": "fad89fd0",
   "metadata": {},
   "outputs": [],
   "source": [
    "# 실습10; 과일 찾기\n",
    "# fruit = {'app':3500, 'pee':2500, 'cher':5000, 'grap':5000, 'mel':2500, 'berr': 3000}\n",
    "# 가격이 3000보다 비싼 과일은 high에, 3000원 보다 싼 과일의 이름은 low에 저장하여 출력"
   ]
  },
  {
   "cell_type": "code",
   "execution_count": 12,
   "id": "1073b811",
   "metadata": {},
   "outputs": [],
   "source": [
    "# 실습11; 과일 개수\n",
    "# 과일명:[과일가격,갯수]로 구성, 3000원보다 비싼 과일의 개수\n",
    "fruit1 = {\"apple\":[3500,5], \"peer\": [2500,2], \n",
    "         \"cherry\": [5000,8], \"mango\":[2200,4]}"
   ]
  },
  {
   "cell_type": "code",
   "execution_count": 13,
   "id": "046b60f0",
   "metadata": {},
   "outputs": [],
   "source": [
    "# 실습12; A반 학생의 국, 영, 수, 과 시험성적\n",
    "# 1. A반 학생 수, 학생별 총점과 평균, 개인별 점수 합계, 평균 저장(dict)\n",
    "class_a = {\"A1\":[78,60,92,88],\n",
    "           \"A2\":[66,88,77,90],\n",
    "           \"A3\":[77,93,83,73],\n",
    "           \"A4\":[55,99,96,87]}"
   ]
  },
  {
   "cell_type": "markdown",
   "id": "68ddfa63",
   "metadata": {},
   "source": [
    "## 210728"
   ]
  },
  {
   "cell_type": "code",
   "execution_count": 14,
   "id": "86dcc5bf",
   "metadata": {},
   "outputs": [],
   "source": [
    "# 실습01; 자연수의 홀수 짝수 구분\n",
    "# 1에서 20까지 3으로 나누어떨어지는 요소를 갖는 num 리스트 구성하여 num의 숫자의 홀수, 짝수 판별"
   ]
  },
  {
   "cell_type": "code",
   "execution_count": 15,
   "id": "07d7cce5",
   "metadata": {},
   "outputs": [],
   "source": [
    "# 실습02; for, if, range, type 혼합\n",
    "# 1. 6개의 원소를 [1, 9, 'one', 'two', 3, 'three'] 갖는 리스트 val 구성\n",
    "# 2. 마지막 원소를 자기이름으로 바꿈\n",
    "# 3. 그리고 -4번째 인덱스를 갖는 원소와\n",
    "# 4. 리스트의 첫번째 문자열('') 데이터 출력"
   ]
  },
  {
   "cell_type": "code",
   "execution_count": 16,
   "id": "5d42d447",
   "metadata": {},
   "outputs": [],
   "source": [
    "# 실습03; 섭씨를 화씨로 변환\n",
    "# 1. 화면에서 섭씨 온도를 입력 받아\n",
    "# 2. 섭씨온도를 화씨온도로 변환\n",
    "# 화씨 = ( 9/5) * 섭씨온도 + 32"
   ]
  },
  {
   "cell_type": "code",
   "execution_count": 17,
   "id": "3c636a2e",
   "metadata": {},
   "outputs": [],
   "source": [
    "# 실습04; 딕셔너리에서 값이 78인 key 찾아 출력\n",
    "d = {'1':[60,80,30],'2':[78,54,98], '3' : [100,50,70],'4' : [70,60,80]}"
   ]
  },
  {
   "cell_type": "code",
   "execution_count": 18,
   "id": "5d6c3908",
   "metadata": {},
   "outputs": [],
   "source": [
    "# 실습04; german_sample df 만들기\n",
    "# 4개 컬럼 추출해서 df 만들기; 'Creditability', 'Duration of Credit (month)','Purpose', 'Credit Amount'"
   ]
  },
  {
   "cell_type": "markdown",
   "id": "57031922",
   "metadata": {},
   "source": [
    "## 210729"
   ]
  },
  {
   "cell_type": "markdown",
   "id": "348c8793",
   "metadata": {},
   "source": [
    "## 210730"
   ]
  },
  {
   "cell_type": "code",
   "execution_count": 19,
   "id": "ab4989c0",
   "metadata": {},
   "outputs": [],
   "source": [
    "# 실습01; 영화 타이틀(movies_title.csv)\n",
    "# 1. titles의 df 구성\n",
    "# 2. df 필수 명령 8개 실행\n",
    "# 3. 전체 영화 개수\n",
    "# 4. 가장 빠른 시기에 제작된 영화 2개\n",
    "# 5. 제목이 'Hamlet'인 영화 개수\n",
    "# 6. 제목이 'Treasure Island'인 영화 개수 및 제작년도 오름차순 나열\n",
    "# 7. 1950년에서 1959년 사이에 만들어진 영화 개수\n",
    "# movies_title = pd.read_csv(\"C:/Users/toto/Google Drive/sync/python/db/movies_title.csv\")\n",
    "import pandas as pd\n",
    "import numpy as np"
   ]
  },
  {
   "cell_type": "code",
   "execution_count": 20,
   "id": "b61e05b6",
   "metadata": {},
   "outputs": [],
   "source": [
    "# 실습02; 특정 위치의 데이터 추출\n",
    "df = pd.DataFrame({'country':['벨기에', '인도', '브라질'],\n",
    "                   'capital':['브뤼셀', '뉴델리', '브라질리아'],\n",
    "                   'population':['1천만명', '13억명', '2억명']\n",
    "                  })"
   ]
  },
  {
   "cell_type": "code",
   "execution_count": 21,
   "id": "f4cad133",
   "metadata": {},
   "outputs": [],
   "source": [
    "# 실습02; df에 '총점', '평균', '등급' 컬럼 추가\n",
    "scores = pd.DataFrame({'국어':[76, 90, 64, 70, 98],\n",
    "                        '영어':[65, 75, 70, 82, 93],\n",
    "                        '수학':[80, 98, 62, 84, 85]\n",
    "                      })"
   ]
  },
  {
   "cell_type": "markdown",
   "id": "e377526d",
   "metadata": {},
   "source": [
    "## 210802"
   ]
  },
  {
   "cell_type": "code",
   "execution_count": 22,
   "id": "fc0fd6ae",
   "metadata": {},
   "outputs": [],
   "source": [
    "# 실습01; 홀짝 문자열 카운트\n",
    "# input -> [1, 2, 3, 'a', 6, 7, 'b']\n",
    "# output -> 홀수(3개), 짝수(2개), 문자열(2개)\n",
    "# 리스트화 방법, 각각 세는 방법, 세 변수의 리스트 구성 방법"
   ]
  },
  {
   "cell_type": "code",
   "execution_count": 23,
   "id": "590b865a",
   "metadata": {},
   "outputs": [],
   "source": [
    "# 실습02; 실습01을 input_count() 함수를 만들어 처리\n",
    "# y = input_count(x)"
   ]
  },
  {
   "cell_type": "code",
   "execution_count": 24,
   "id": "64229cb2",
   "metadata": {},
   "outputs": [],
   "source": [
    "# 실습03; 실습02에서 리스트가 아닌 데이터, 개수를 알 수 없는 데이터 처리\n",
    "# 1. 1, 2, 3, 'ab', 'e'와 같은 방식\n",
    "# 2. 몇 개가 들어올지 알 수 없음\n",
    "# 3. *args"
   ]
  },
  {
   "cell_type": "code",
   "execution_count": 25,
   "id": "c945878c",
   "metadata": {},
   "outputs": [],
   "source": [
    "# 실습04; 윤년 계산\n",
    "# 1. input = 2020\n",
    "# 2. ountput -> ????년은 윤년입니다. / ????년은 평년입니다.\n",
    "# 3. 계산방법; 4로 나눠서 떨어지고, 100으로 나누어 떨어지지 않으며, 연도가 400으로 나누어 떨어지는 연도"
   ]
  },
  {
   "cell_type": "code",
   "execution_count": 26,
   "id": "3d900447",
   "metadata": {},
   "outputs": [],
   "source": [
    "# 실습05; leap_year() 함수로 처리"
   ]
  },
  {
   "cell_type": "code",
   "execution_count": 27,
   "id": "88278a1d",
   "metadata": {},
   "outputs": [],
   "source": [
    "# 실습06; 실습05 + 화면에서 년도를 입력 받아 처리"
   ]
  },
  {
   "cell_type": "code",
   "execution_count": 28,
   "id": "9008c346",
   "metadata": {},
   "outputs": [],
   "source": [
    "# 실습07; 반복처리\n",
    "# year = [1980, 2019, 2020, 2021]\n",
    "# output '{}년은 {}년입니다.'"
   ]
  },
  {
   "cell_type": "code",
   "execution_count": 29,
   "id": "27245dc1",
   "metadata": {},
   "outputs": [],
   "source": [
    "# 실습08; 반복처리\n",
    "# 1. 화면에서 연도를 입력받아 처리\n",
    "# 2. 함수를 활용\n",
    "# 3. while 활용\n",
    "# 4. 연도가 0이면 종료"
   ]
  },
  {
   "cell_type": "code",
   "execution_count": 30,
   "id": "f9cd2283",
   "metadata": {},
   "outputs": [],
   "source": [
    "# 실습09; while 반복문 활용\n",
    "# 1. 연도와 결과를 보관\n",
    "# 2. [연도, 결과] 데이터 만들기"
   ]
  },
  {
   "cell_type": "code",
   "execution_count": 31,
   "id": "cacb10ef",
   "metadata": {},
   "outputs": [],
   "source": [
    "# 실습10; df 생성\n",
    "# 1. while문으로 반복처리\n",
    "# 2. 4~5개 연도를 윤년 판정 후 데이터로 저장\n",
    "# 3. 저장된 데이터로 df 만들기\n",
    "# 4. 리스트형(개수 미정), 딕셔너리형으(개수 지정)로 구성"
   ]
  },
  {
   "cell_type": "markdown",
   "id": "7c02d866",
   "metadata": {},
   "source": [
    "## 210803"
   ]
  },
  {
   "cell_type": "code",
   "execution_count": 32,
   "id": "d65f7748",
   "metadata": {},
   "outputs": [],
   "source": [
    "# 실습01 sort 알고리즘(for if, range 사용)\n",
    "# 1. input -> [2, 4, 5, 1, 3]\n",
    "# 2. output -> [1, 2, 3, 4, 5]\n",
    "# 3. 순서대로 비교해서 크기 순으로 정렬되게 이동하는 알고리즘"
   ]
  },
  {
   "cell_type": "code",
   "execution_count": 33,
   "id": "5e96fd49",
   "metadata": {},
   "outputs": [],
   "source": [
    "# 실습02; 실습01을 sel_sort() 함수를 만들어서 실행"
   ]
  },
  {
   "cell_type": "code",
   "execution_count": 34,
   "id": "e3dddd26",
   "metadata": {},
   "outputs": [],
   "source": [
    "# 실습03; 입력값을 임의의 숫자로 구성\n",
    "# input -> np.random.choice(5, 4, replace=) # 값, 사이즈, False 중복제외"
   ]
  },
  {
   "cell_type": "code",
   "execution_count": 35,
   "id": "f51224b3",
   "metadata": {},
   "outputs": [
    {
     "data": {
      "image/png": "[encoded data removed]",
      "text/plain": [
       "<Figure size 432x288 with 1 Axes>"
      ]
     },
     "metadata": {},
     "output_type": "display_data"
    }
   ],
   "source": [
    "# 실습04; piechart\n",
    "# iris 데이터셋의 species의 분포 piechart 그리기\n",
    "iris = sns.load_dataset('iris')\n",
    "labels = [0, 1]\n",
    "values = [0, 1]\n",
    "explode=(0, 0)\n",
    "\n",
    "plt.pie(values, # 값\n",
    "        explode=explode, \n",
    "        labels=labels,\n",
    "        autopct='%1.1f%%',\n",
    "        shadow=True,\n",
    "        startangle=90)\n",
    "plt.show()"
   ]
  },
  {
   "cell_type": "code",
   "execution_count": 36,
   "id": "d3914e44",
   "metadata": {},
   "outputs": [],
   "source": [
    "# 실습05; piechart\n",
    "# tips 데이터셋의 요일별 분포 piechart 그리기"
   ]
  },
  {
   "cell_type": "code",
   "execution_count": 37,
   "id": "1a7f7dc7",
   "metadata": {},
   "outputs": [],
   "source": [
    "# 실습06; piechart 함수 구성\n",
    "# 실습05를 함수(chart_pie(컬럼명))를 구성해서 실행"
   ]
  },
  {
   "cell_type": "code",
   "execution_count": 39,
   "id": "8a28131e",
   "metadata": {},
   "outputs": [],
   "source": [
    "# 실습07; titanic의 생존자/사망자 성별 분포\n",
    "titanic = sns.load_dataset('titanic')\n",
    "\n",
    "# 1. 틀 1\n",
    "# plt.bar(범위, 변수)\n",
    "# plt.bar(범위, 변수, bottom=변수) # mapping 누적하기 위해 bottom 설정\n",
    "# plt.legend([범례])\n",
    "# plt.xticks(범위, 인덱스)\n",
    "# plt.show()\n",
    "\n",
    "# 2. 틀 2\n",
    "# df.plot(kind=, stacked=, figsize=(); plt.show()"
   ]
  },
  {
   "cell_type": "code",
   "execution_count": 40,
   "id": "e311b8eb",
   "metadata": {},
   "outputs": [],
   "source": [
    "# 실습08; 컬럼별 생존/사망자 분포 함수 만들기(함수명 stacked_bar)"
   ]
  },
  {
   "cell_type": "markdown",
   "id": "a955a571",
   "metadata": {},
   "source": [
    "## 210804"
   ]
  },
  {
   "cell_type": "code",
   "execution_count": 42,
   "id": "de208874",
   "metadata": {},
   "outputs": [],
   "source": [
    "# 실습01; 네이버 뉴스 수집"
   ]
  },
  {
   "cell_type": "code",
   "execution_count": 43,
   "id": "64ef7867",
   "metadata": {},
   "outputs": [],
   "source": [
    "# 실습02; 실습01의 for문 하나로 병합\n",
    "# 이미지주소(img_src), 링크(link_href),제목(link_text), 내용(content_text)"
   ]
  },
  {
   "cell_type": "code",
   "execution_count": 44,
   "id": "5fc50964",
   "metadata": {},
   "outputs": [],
   "source": [
    "# 실습03; 실습02의 데이터 df로 구성\n",
    "# 컬럼; 이미지링크, 기사링크, 기사제목, 기사내용"
   ]
  },
  {
   "cell_type": "code",
   "execution_count": 1,
   "id": "4a3a9320",
   "metadata": {},
   "outputs": [],
   "source": [
    "# 실습04; 실습03을 함수로 구성\n",
    "# 1. get_page(); url -> dl\n",
    "# 2. page_to_items(); dl -> news_page(lst)\n",
    "# 3. news_df 구성\n",
    "# 4. news_df.csv 저장"
   ]
  },
  {
   "cell_type": "code",
   "execution_count": 2,
   "id": "aa4f1506",
   "metadata": {},
   "outputs": [],
   "source": [
    "# 실습05; 실습04를 여러 페이지 처리\n",
    "# 1. 날짜 210803, 210804, 페이지는 1 ~ 3 페이지\n",
    "# 2. 날짜 컬럼 추가\n",
    "# 3. 한글인코딩 주의; euc-kr, cp949, utf-8-sig, utf-8, ms949"
   ]
  },
  {
   "cell_type": "markdown",
   "id": "e63cecc8",
   "metadata": {},
   "source": [
    "## 210805"
   ]
  },
  {
   "cell_type": "code",
   "execution_count": 4,
   "id": "4f5a0a24",
   "metadata": {},
   "outputs": [],
   "source": [
    "# 실습01; 이미지 다운 받기\n",
    "# 1. news_df['img'] 컬럼의 이미지 다운\n",
    "# 2. 특정 폴더 (/img_down/)에 저장"
   ]
  },
  {
   "cell_type": "code",
   "execution_count": 5,
   "id": "a685191a",
   "metadata": {},
   "outputs": [],
   "source": [
    "# 실습02; acc_arg.py 구성"
   ]
  },
  {
   "cell_type": "code",
   "execution_count": null,
   "id": "b022830c",
   "metadata": {},
   "outputs": [],
   "source": []
  }
 ],
 "metadata": {
  "kernelspec": {
   "display_name": "Python 3 (ipykernel)",
   "language": "python",
   "name": "python3"
  },
  "language_info": {
   "codemirror_mode": {
    "name": "ipython",
    "version": 3
   },
   "file_extension": ".py",
   "mimetype": "text/x-python",
   "name": "python",
   "nbconvert_exporter": "python",
   "pygments_lexer": "ipython3",
   "version": "3.8.8"
  }
 },
 "nbformat": 4,
 "nbformat_minor": 5
}
