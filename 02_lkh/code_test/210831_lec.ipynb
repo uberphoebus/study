{
 "cells": [
  {
   "cell_type": "markdown",
   "source": [
    "# imports"
   ],
   "metadata": {}
  },
  {
   "cell_type": "code",
   "execution_count": null,
   "source": [
    "import pandas as pd\r\n",
    "import numpy as np\r\n",
    "import matplotlib.pyplot as plt\r\n",
    "import seaborn as sns; sns.set()\r\n",
    "import warnings; warnings.filterwarnings(action='ignore')\r\n",
    "\r\n",
    "# load datasets\r\n",
    "from sklearn import datasets\r\n",
    "\r\n",
    "# model_selection.splitter\r\n",
    "from sklearn.model_selection import train_test_split       # function\r\n",
    "\r\n",
    "# model_selection.model_validation\r\n",
    "from sklearn.model_selection import KFold, StratifiedKFold # cross-validator\r\n",
    "from sklearn.model_selection import cross_val_score\r\n",
    "\r\n",
    "# model_selection.hyper_parameter_optimizer\r\n",
    "from sklearn.model_selection import GridSearchCV\r\n",
    "\r\n",
    "# models/estimators\r\n",
    "from sklearn.tree import DecisionTreeClassifier\r\n",
    "from sklearn.ensemble import RandomForestClassifier\r\n",
    "\r\n",
    "# models : boost\r\n",
    "import xgboost as xgb\r\n",
    "import lightgbm\r\n",
    "\r\n",
    "# preprocessing.encoding\r\n",
    "from sklearn.preprocessing import LabelEncoder, OneHotEncoder # pd.get_dummies()\r\n",
    "\r\n",
    "# preprocessing.scaling\r\n",
    "from sklearn.preprocessing import MinMaxScaler, StandardScaler, RobustScaler\r\n",
    "\r\n",
    "# preprocessing.binarizing\r\n",
    "from sklearn.preprocessing import Binarizer\r\n",
    "\r\n",
    "# metrics.scores\r\n",
    "from sklearn.metrics import accuracy_score, precision_score, recall_score\r\n",
    "from sklearn.metrics import f1_score, roc_auc_score\r\n",
    "\r\n",
    "# metrics.curves\r\n",
    "from sklearn.metrics import precision_recall_curve, plot_precision_recall_curve\r\n",
    "from sklearn.metrics import roc_curve, plot_roc_curve\r\n",
    "\r\n",
    "# metrics.reports\r\n",
    "from sklearn.metrics import confusion_matrix, plot_confusion_matrix\r\n",
    "from sklearn.metrics import classification_report\r\n",
    "\r\n",
    "# mymodule\r\n",
    "from mymodule import check_nan, encode, mapping, split_xy\r\n",
    "from mymodule import pr_curve, ra_curve, my_eval, max_eval, split_fit_score"
   ],
   "outputs": [],
   "metadata": {}
  },
  {
   "cell_type": "markdown",
   "source": [
    "# read dataset"
   ],
   "metadata": {
    "id": "Df0gIpYnWU1H"
   }
  },
  {
   "cell_type": "code",
   "execution_count": null,
   "source": [
    "df = pd.read_csv('./code_test/kote_train.csv')"
   ],
   "outputs": [],
   "metadata": {
    "id": "Refb6OvrWU1I",
    "executionInfo": {
     "status": "ok",
     "timestamp": 1630331927719,
     "user_tz": -540,
     "elapsed": 372,
     "user": {
      "displayName": "박재훈",
      "photoUrl": "",
      "userId": "10151351399794725183"
     }
    }
   }
  },
  {
   "cell_type": "markdown",
   "source": [
    "# check dataset"
   ],
   "metadata": {
    "id": "Hg0G6p6_WU1I"
   }
  },
  {
   "cell_type": "markdown",
   "source": [
    "## basic"
   ],
   "metadata": {
    "id": "Qsnd2dEMWU1J"
   }
  },
  {
   "cell_type": "code",
   "execution_count": null,
   "source": [
    "df.head()"
   ],
   "outputs": [],
   "metadata": {
    "colab": {
     "base_uri": "https://localhost:8080/",
     "height": 221
    },
    "id": "KsKASjkfWU1J",
    "executionInfo": {
     "status": "ok",
     "timestamp": 1630331928117,
     "user_tz": -540,
     "elapsed": 37,
     "user": {
      "displayName": "박재훈",
      "photoUrl": "",
      "userId": "10151351399794725183"
     }
    },
    "outputId": "f63dd74a-4ecc-43b5-b4f9-b53c557e3663"
   }
  },
  {
   "cell_type": "code",
   "execution_count": null,
   "source": [
    "df.info()"
   ],
   "outputs": [],
   "metadata": {
    "colab": {
     "base_uri": "https://localhost:8080/"
    },
    "id": "oVMBb85xWU1K",
    "executionInfo": {
     "status": "ok",
     "timestamp": 1630331928118,
     "user_tz": -540,
     "elapsed": 35,
     "user": {
      "displayName": "박재훈",
      "photoUrl": "",
      "userId": "10151351399794725183"
     }
    },
    "outputId": "1a379bf0-3b54-496b-9f51-9c9db8e4f4e3"
   }
  },
  {
   "cell_type": "markdown",
   "source": [
    "## target balance check"
   ],
   "metadata": {
    "id": "-UP0YXKkWU1L"
   }
  },
  {
   "cell_type": "code",
   "execution_count": null,
   "source": [
    "df['target'].value_counts()"
   ],
   "outputs": [],
   "metadata": {
    "colab": {
     "base_uri": "https://localhost:8080/"
    },
    "id": "HoGtLf07WU1L",
    "executionInfo": {
     "status": "ok",
     "timestamp": 1630331928118,
     "user_tz": -540,
     "elapsed": 29,
     "user": {
      "displayName": "박재훈",
      "photoUrl": "",
      "userId": "10151351399794725183"
     }
    },
    "outputId": "44757d77-5adf-4186-ff9a-4097a9f243db"
   }
  },
  {
   "cell_type": "markdown",
   "source": [
    "## missing val check ; nan_cols"
   ],
   "metadata": {
    "id": "RQ0VdXu-WU1M"
   }
  },
  {
   "cell_type": "code",
   "execution_count": null,
   "source": [
    "df.isna().sum()[df.isna().sum() != 0].sort_values(ascending=False)"
   ],
   "outputs": [],
   "metadata": {
    "colab": {
     "base_uri": "https://localhost:8080/"
    },
    "id": "heF3y2l2WU1M",
    "executionInfo": {
     "status": "ok",
     "timestamp": 1630331928119,
     "user_tz": -540,
     "elapsed": 25,
     "user": {
      "displayName": "박재훈",
      "photoUrl": "",
      "userId": "10151351399794725183"
     }
    },
    "outputId": "c246d681-d38b-4943-f149-1268071f10a3"
   }
  },
  {
   "cell_type": "code",
   "execution_count": null,
   "source": [
    "nan_cols = check_nan(df)"
   ],
   "outputs": [],
   "metadata": {
    "colab": {
     "base_uri": "https://localhost:8080/"
    },
    "id": "jO0rroIkWU1N",
    "executionInfo": {
     "status": "ok",
     "timestamp": 1630331928120,
     "user_tz": -540,
     "elapsed": 22,
     "user": {
      "displayName": "박재훈",
      "photoUrl": "",
      "userId": "10151351399794725183"
     }
    },
    "outputId": "a147c6da-2d8f-46d7-ffad-ccc5ccb26e35"
   }
  },
  {
   "cell_type": "markdown",
   "source": [
    "# EDA & feature engineering"
   ],
   "metadata": {
    "id": "FE9VPipsWU1O"
   }
  },
  {
   "cell_type": "code",
   "execution_count": null,
   "source": [
    "# 'id': 등록자 ID\r\n",
    "# 'city': 지역코드\r\n",
    "# 'city_development_index': 지역개발지수\r\n",
    "# 'gender': 성별\r\n",
    "# 'relevent_experience': 관련경험\r\n",
    "# 'enrolled_university': 대학과정\r\n",
    "# 'education_level': 교육수준\r\n",
    "# 'major_discipline': 전공\r\n",
    "# 'experience':경력(년)\r\n",
    "# 'company_size': 소속회사 직원수\r\n",
    "# 'company_type': 소속회사 유형\r\n",
    "# 'last_new_job': 현재 직업 경력(년)\r\n",
    "# 'training_hours': 교육 이수 시간\r\n",
    "# 'target': 목표변수, 다른 일을 찾는 경우1, 아니면 0"
   ],
   "outputs": [],
   "metadata": {
    "id": "OxExs8lnWU1O",
    "executionInfo": {
     "status": "ok",
     "timestamp": 1630331928120,
     "user_tz": -540,
     "elapsed": 17,
     "user": {
      "displayName": "박재훈",
      "photoUrl": "",
      "userId": "10151351399794725183"
     }
    }
   }
  },
  {
   "cell_type": "markdown",
   "source": [
    "## encoding"
   ],
   "metadata": {
    "id": "f-6K6lTSWU1O"
   }
  },
  {
   "cell_type": "code",
   "execution_count": null,
   "source": [
    "# 레벨 무관(onehot, get_dummies) ; gender, major_discipline\r\n",
    "# 레벨 부여(labelencoder)        ; enrolled_university, education_level, experience, last_new_job\r\n",
    "\r\n",
    "# get_dummies   ; label + onehot + fillna, feature_unique로 컬럼 생성하여 0or1 정리, 반드시 미리 결측처리, only df\r\n",
    "# label, onehot ;input df, array, list 등\r\n",
    "\r\n",
    "LabelEncoder()"
   ],
   "outputs": [],
   "metadata": {}
  },
  {
   "cell_type": "code",
   "execution_count": null,
   "source": [
    "object_cols = encode(df)"
   ],
   "outputs": [],
   "metadata": {
    "colab": {
     "base_uri": "https://localhost:8080/"
    },
    "id": "Rmp6z7rEWU1P",
    "executionInfo": {
     "status": "ok",
     "timestamp": 1630331928390,
     "user_tz": -540,
     "elapsed": 287,
     "user": {
      "displayName": "박재훈",
      "photoUrl": "",
      "userId": "10151351399794725183"
     }
    },
    "outputId": "95d73887-f010-4230-a2b4-97b08e36a1e5"
   }
  },
  {
   "cell_type": "code",
   "execution_count": null,
   "source": [
    "df.head()"
   ],
   "outputs": [],
   "metadata": {
    "colab": {
     "base_uri": "https://localhost:8080/",
     "height": 0
    },
    "id": "peYDJs6RWU1P",
    "executionInfo": {
     "status": "ok",
     "timestamp": 1630331928392,
     "user_tz": -540,
     "elapsed": 15,
     "user": {
      "displayName": "박재훈",
      "photoUrl": "",
      "userId": "10151351399794725183"
     }
    },
    "outputId": "87b63e7d-ab16-4582-b36a-b3b4b9ad3547"
   }
  },
  {
   "cell_type": "code",
   "execution_count": null,
   "source": [
    "for col in object_cols:\r\n",
    "    print('-' * 30)\r\n",
    "    print(df[col].value_counts())"
   ],
   "outputs": [],
   "metadata": {
    "colab": {
     "base_uri": "https://localhost:8080/"
    },
    "id": "fyr0Kpm6WU1Q",
    "executionInfo": {
     "status": "ok",
     "timestamp": 1630331928393,
     "user_tz": -540,
     "elapsed": 15,
     "user": {
      "displayName": "박재훈",
      "photoUrl": "",
      "userId": "10151351399794725183"
     }
    },
    "outputId": "fc70e764-caf2-4321-a03a-eb94a45007f7"
   }
  },
  {
   "cell_type": "markdown",
   "source": [
    "### get_dummies 연습"
   ],
   "metadata": {}
  },
  {
   "cell_type": "code",
   "execution_count": null,
   "source": [
    "df2 = df.copy()\r\n",
    "df2 = pd.get_dummies(df, columns=['gender', 'major_discipline'], drop_first=True)\r\n",
    "df2.info()"
   ],
   "outputs": [],
   "metadata": {}
  },
  {
   "cell_type": "markdown",
   "source": [
    "### LabelEncoder 연습"
   ],
   "metadata": {}
  },
  {
   "cell_type": "code",
   "execution_count": null,
   "source": [
    "for col in list(df2.columns)[1:11]:\r\n",
    "    df2[col] = LabelEncoder().fit_transform(df2[col])\r\n",
    "df2.info()"
   ],
   "outputs": [],
   "metadata": {}
  },
  {
   "cell_type": "code",
   "execution_count": null,
   "source": [
    "# city\r\n",
    "df['city'] = df['city'].apply(lambda x: x[5:])\r\n",
    "df['city'] = df['city'].astype('int32')\r\n",
    "df['city'].unique()"
   ],
   "outputs": [],
   "metadata": {
    "colab": {
     "base_uri": "https://localhost:8080/"
    },
    "id": "TyA36ttJWU1Q",
    "executionInfo": {
     "status": "ok",
     "timestamp": 1630331928394,
     "user_tz": -540,
     "elapsed": 14,
     "user": {
      "displayName": "박재훈",
      "photoUrl": "",
      "userId": "10151351399794725183"
     }
    },
    "outputId": "ae4752eb-9647-41be-c939-bebc2e0f0961"
   }
  },
  {
   "cell_type": "code",
   "execution_count": null,
   "source": [
    "# gender\r\n",
    "mapping(df, 'gender')"
   ],
   "outputs": [],
   "metadata": {
    "colab": {
     "base_uri": "https://localhost:8080/"
    },
    "id": "KHGaaPhLWU1R",
    "executionInfo": {
     "status": "ok",
     "timestamp": 1630331928395,
     "user_tz": -540,
     "elapsed": 13,
     "user": {
      "displayName": "박재훈",
      "photoUrl": "",
      "userId": "10151351399794725183"
     }
    },
    "outputId": "7ef9ac38-441b-43bb-e112-b6ef5ab1670f"
   }
  },
  {
   "cell_type": "code",
   "execution_count": null,
   "source": [
    "# relevent_experience\r\n",
    "mapping(df, 'relevent_experience')"
   ],
   "outputs": [],
   "metadata": {
    "colab": {
     "base_uri": "https://localhost:8080/"
    },
    "id": "hJP8UUFIWU1R",
    "executionInfo": {
     "status": "ok",
     "timestamp": 1630331928396,
     "user_tz": -540,
     "elapsed": 13,
     "user": {
      "displayName": "박재훈",
      "photoUrl": "",
      "userId": "10151351399794725183"
     }
    },
    "outputId": "04de1030-f430-4c0c-d34a-9e739980d65e"
   }
  },
  {
   "cell_type": "code",
   "execution_count": null,
   "source": [
    "# enrolled_university\r\n",
    "dict = {'no_enrollment':0, 'Full time course':2, 'Part time course':1}\r\n",
    "df['enrolled_university'] = df['enrolled_university'].map(dict)\r\n",
    "df['enrolled_university'].value_counts()"
   ],
   "outputs": [],
   "metadata": {
    "colab": {
     "base_uri": "https://localhost:8080/"
    },
    "id": "fTi0Ne0xWU1S",
    "executionInfo": {
     "status": "ok",
     "timestamp": 1630331928871,
     "user_tz": -540,
     "elapsed": 487,
     "user": {
      "displayName": "박재훈",
      "photoUrl": "",
      "userId": "10151351399794725183"
     }
    },
    "outputId": "55f267e6-4368-40db-ad94-fb4863ab0435"
   }
  },
  {
   "cell_type": "code",
   "execution_count": null,
   "source": [
    "# education_level\r\n",
    "dict = {'Graduate':2,'Masters':3,'High School':1,'Phd':4,'Primary School':0}\r\n",
    "df['education_level'] = df['education_level'].map(dict)\r\n",
    "df['education_level'].value_counts()"
   ],
   "outputs": [],
   "metadata": {
    "colab": {
     "base_uri": "https://localhost:8080/"
    },
    "id": "Pk5-LvePWU1S",
    "executionInfo": {
     "status": "ok",
     "timestamp": 1630331928872,
     "user_tz": -540,
     "elapsed": 33,
     "user": {
      "displayName": "박재훈",
      "photoUrl": "",
      "userId": "10151351399794725183"
     }
    },
    "outputId": "6504444c-0bed-4d5a-c64f-36171cd60d07"
   }
  },
  {
   "cell_type": "code",
   "execution_count": null,
   "source": [
    "# experience\r\n",
    "dict = {}\r\n",
    "keys = ['>20', '5', '4', '3', '6', '2', '7', '10', '9', '8', '15', '11', '14', '1', '<1', '16', '12', '13', '17', '19', '18', '20']\r\n",
    "vals = [21, 5, 4, 3, 6, 2, 7, 10, 9, 8, 15, 11, 14, 1, 0, 16, 12, 13, 17, 19, 18, 20]\r\n",
    "for i in range(len(keys)):\r\n",
    "    dict[keys[i]] = vals[i]\r\n",
    "\r\n",
    "df['experience'] = df['experience'].map(dict)\r\n",
    "df['experience'].value_counts()"
   ],
   "outputs": [],
   "metadata": {
    "colab": {
     "base_uri": "https://localhost:8080/"
    },
    "id": "Z-3JIf9DWU1S",
    "executionInfo": {
     "status": "ok",
     "timestamp": 1630331928872,
     "user_tz": -540,
     "elapsed": 30,
     "user": {
      "displayName": "박재훈",
      "photoUrl": "",
      "userId": "10151351399794725183"
     }
    },
    "outputId": "8abad6fc-b542-462f-9f5a-833f23d381ed"
   }
  },
  {
   "cell_type": "code",
   "execution_count": null,
   "source": [
    "# major_discipline\r\n",
    "mapping(df, 'major_discipline')"
   ],
   "outputs": [],
   "metadata": {
    "colab": {
     "base_uri": "https://localhost:8080/"
    },
    "id": "SbMbjf_YWU1T",
    "executionInfo": {
     "status": "ok",
     "timestamp": 1630331928872,
     "user_tz": -540,
     "elapsed": 29,
     "user": {
      "displayName": "박재훈",
      "photoUrl": "",
      "userId": "10151351399794725183"
     }
    },
    "outputId": "6a68dab1-c367-4aea-8bbc-660ab71b6738"
   }
  },
  {
   "cell_type": "code",
   "execution_count": null,
   "source": [
    "# company_size\r\n",
    "dict = {'50-99':2, '100-500':3, '10000+':7, '10/49':1, '1000-4999':5, '<10':0, '500-999':4, '5000-9999':6}\r\n",
    "df['company_size'] = df['company_size'].map(dict)\r\n",
    "df['company_size'].value_counts()"
   ],
   "outputs": [],
   "metadata": {
    "colab": {
     "base_uri": "https://localhost:8080/"
    },
    "id": "D1E2TFaLWU1T",
    "executionInfo": {
     "status": "ok",
     "timestamp": 1630331928873,
     "user_tz": -540,
     "elapsed": 29,
     "user": {
      "displayName": "박재훈",
      "photoUrl": "",
      "userId": "10151351399794725183"
     }
    },
    "outputId": "37357a18-c195-4f39-9c04-e9d8bace4b22"
   }
  },
  {
   "cell_type": "code",
   "execution_count": null,
   "source": [
    "# company_type\r\n",
    "mapping(df, 'company_type')"
   ],
   "outputs": [],
   "metadata": {
    "colab": {
     "base_uri": "https://localhost:8080/"
    },
    "id": "UcHV--XvWU1T",
    "executionInfo": {
     "status": "ok",
     "timestamp": 1630331928873,
     "user_tz": -540,
     "elapsed": 28,
     "user": {
      "displayName": "박재훈",
      "photoUrl": "",
      "userId": "10151351399794725183"
     }
    },
    "outputId": "0101249d-0b11-462e-e7d2-e1cfa1c00bf9"
   }
  },
  {
   "cell_type": "code",
   "execution_count": null,
   "source": [
    "# last_new_job\r\n",
    "dict = {'1':1, '>4':5, '2':2, 'never':0, '4':4, '3':3, }\r\n",
    "df['last_new_job'] = df['last_new_job'].map(dict)\r\n",
    "df['last_new_job'].value_counts()"
   ],
   "outputs": [],
   "metadata": {
    "colab": {
     "base_uri": "https://localhost:8080/"
    },
    "id": "uATVCwKDWU1U",
    "executionInfo": {
     "status": "ok",
     "timestamp": 1630331928874,
     "user_tz": -540,
     "elapsed": 28,
     "user": {
      "displayName": "박재훈",
      "photoUrl": "",
      "userId": "10151351399794725183"
     }
    },
    "outputId": "e0adbd37-691d-4a47-ef24-cbdc6670f075"
   }
  },
  {
   "cell_type": "code",
   "execution_count": null,
   "source": [
    "encode(df)"
   ],
   "outputs": [],
   "metadata": {
    "colab": {
     "base_uri": "https://localhost:8080/"
    },
    "id": "IETNVriyWU1U",
    "executionInfo": {
     "status": "ok",
     "timestamp": 1630331928874,
     "user_tz": -540,
     "elapsed": 27,
     "user": {
      "displayName": "박재훈",
      "photoUrl": "",
      "userId": "10151351399794725183"
     }
    },
    "outputId": "b0619295-504a-4276-9b6b-2540a720d89b"
   }
  },
  {
   "cell_type": "markdown",
   "source": [
    "## fillna"
   ],
   "metadata": {
    "id": "ctyZZkgqWU1U"
   }
  },
  {
   "cell_type": "code",
   "execution_count": null,
   "source": [
    "nan_cols"
   ],
   "outputs": [],
   "metadata": {
    "colab": {
     "base_uri": "https://localhost:8080/"
    },
    "id": "oBwJFNLyWU1U",
    "executionInfo": {
     "status": "ok",
     "timestamp": 1630331928874,
     "user_tz": -540,
     "elapsed": 26,
     "user": {
      "displayName": "박재훈",
      "photoUrl": "",
      "userId": "10151351399794725183"
     }
    },
    "outputId": "ba7f1a5b-12de-4c6c-dd48-9478085c6f91"
   }
  },
  {
   "cell_type": "code",
   "execution_count": null,
   "source": [
    "# fillna mode\r\n",
    "for col in nan_cols:\r\n",
    "    df[col] = df[col].fillna(df[col].mode()[0])"
   ],
   "outputs": [],
   "metadata": {
    "id": "bh73jgSWWU1V",
    "executionInfo": {
     "status": "ok",
     "timestamp": 1630331928875,
     "user_tz": -540,
     "elapsed": 26,
     "user": {
      "displayName": "박재훈",
      "photoUrl": "",
      "userId": "10151351399794725183"
     }
    }
   }
  },
  {
   "cell_type": "code",
   "execution_count": null,
   "source": [
    "check_nan(df)"
   ],
   "outputs": [],
   "metadata": {
    "colab": {
     "base_uri": "https://localhost:8080/"
    },
    "id": "kZB4hyooWU1V",
    "executionInfo": {
     "status": "ok",
     "timestamp": 1630331928875,
     "user_tz": -540,
     "elapsed": 25,
     "user": {
      "displayName": "박재훈",
      "photoUrl": "",
      "userId": "10151351399794725183"
     }
    },
    "outputId": "35ebc6c6-a20a-43c3-dde0-91ea66995aae"
   }
  },
  {
   "cell_type": "markdown",
   "source": [
    "## binning"
   ],
   "metadata": {
    "id": "n0rWupOlWU1V"
   }
  },
  {
   "cell_type": "markdown",
   "source": [
    "## score v0"
   ],
   "metadata": {
    "id": "0qWwlEk_WU1V"
   }
  },
  {
   "cell_type": "code",
   "execution_count": null,
   "source": [
    "df.info()"
   ],
   "outputs": [],
   "metadata": {
    "colab": {
     "base_uri": "https://localhost:8080/"
    },
    "id": "sU7MssPSWU1W",
    "executionInfo": {
     "status": "ok",
     "timestamp": 1630331929119,
     "user_tz": -540,
     "elapsed": 265,
     "user": {
      "displayName": "박재훈",
      "photoUrl": "",
      "userId": "10151351399794725183"
     }
    },
    "outputId": "3718af4a-826b-43db-e5d8-eac0b4d76a51"
   }
  },
  {
   "cell_type": "code",
   "execution_count": null,
   "source": [
    "X, y = split_xy(df, 'target')\r\n",
    "model = RandomForestClassifier(n_estimators=500, random_state=0)\r\n",
    "split_fit_score(X, y, model, th_list=[0.2925, 0.295]) # best_threshold=0.295"
   ],
   "outputs": [],
   "metadata": {
    "id": "gW7NcPPRWU1Z"
   }
  },
  {
   "cell_type": "markdown",
   "source": [
    "## plots"
   ],
   "metadata": {
    "id": "0MmxnRh-WU1Z"
   }
  },
  {
   "cell_type": "code",
   "execution_count": null,
   "source": [
    "plot_cols = ['gender', 'relevent_experience', 'enrolled_university', \r\n",
    "             'education_level', 'major_discipline', 'experience', \r\n",
    "             'company_size', 'company_type', 'last_new_job', 'target']\r\n",
    "\r\n",
    "f, ax = plt.subplots(5, 2, figsize=(15, 20))\r\n",
    "for i, col in enumerate(plot_cols):\r\n",
    "        c = i % 2\r\n",
    "        r = i // 2\r\n",
    "        sns.countplot(col, data=df, ax=ax[r, c])"
   ],
   "outputs": [],
   "metadata": {
    "id": "UJG5R5InWU1a"
   }
  },
  {
   "cell_type": "markdown",
   "source": [
    "## corr 상관분석"
   ],
   "metadata": {}
  },
  {
   "cell_type": "code",
   "execution_count": null,
   "source": [
    "# 상관분석 ; 두 연속형 변수(x, y) 간 선형적 관계 분석, 인과관계를 설명하지 않음\r\n",
    "# ~ 0.1 : 무관\r\n",
    "# ~ 0.3 : 약한 상관관계\r\n",
    "# ~ 0.7 : 강한 상관관계\r\n",
    "# ~ 1.0 : 매우 강한 상관관계, 다중공선성\r\n",
    "\r\n",
    "# 다중공선성 ; 데이터 분석시 부정적 영향\r\n",
    "# 1. drop ; 상관관계가 적은 피쳐부터 drop\r\n",
    "# 2. PCA(차원축소) ; 피쳐 병합, 원본 데이터 유추 불가능\r\n",
    "\r\n",
    "# 양적 데이터 ; 수치(연속형, 이산형)\r\n",
    "# 질적 데이터 ; 범주(명목형, 등급형)\r\n",
    "\r\n",
    "# 피어슨 상관계수 ; 연속형 수치, 일반적으로 사용\r\n",
    "# 스피어만 상관계수 ; 범주형 수치\r\n",
    "\r\n",
    "# 분산 ; 한 변수가 퍼져있는 정도\r\n",
    "# 공분산 ; 두 변수가 퍼져있는 정도\r\n",
    "\r\n",
    "# 문자열이 있어도 오류가 나지 않지만, 분석에서 제외됨 : 반드시 encode\r\n",
    "# 결측치 처리 후 상관분석하는 것이 좋으나, 결측치가 있어도 상관분석 가능"
   ],
   "outputs": [],
   "metadata": {}
  },
  {
   "cell_type": "code",
   "execution_count": null,
   "source": [
    "df.corr()"
   ],
   "outputs": [],
   "metadata": {}
  },
  {
   "cell_type": "code",
   "execution_count": null,
   "source": [
    "fig, ax = plt.subplots(figsize=(18, 15))\r\n",
    "sns.heatmap(df.corr(), annot=True, fmt='.2f', cmap='Blues')"
   ],
   "outputs": [],
   "metadata": {}
  },
  {
   "cell_type": "code",
   "execution_count": null,
   "source": [
    "fig, ax = plt.subplots(figsize=(18, 7))\r\n",
    "sns.heatmap(df.corr().nlargest(7, 'target'), annot=True, fmt='.2f', cmap='Blues')"
   ],
   "outputs": [],
   "metadata": {}
  },
  {
   "cell_type": "markdown",
   "source": [
    "## drop cols"
   ],
   "metadata": {
    "id": "sG4YCM0TWU1a"
   }
  },
  {
   "cell_type": "code",
   "execution_count": null,
   "source": [
    "drop_cols = ['enrollee_id']"
   ],
   "outputs": [],
   "metadata": {}
  },
  {
   "cell_type": "markdown",
   "source": [
    "# 문제 정의\r\n",
    "\r\n",
    "주체 : 데이터 분석 관련 비즈니스 회사\r\n",
    "\r\n",
    "목적 : 회사가 운영하는 교육과정에 등록한 데이터 분석가를 채용하고 관리하기 위함\r\n",
    "\r\n",
    "목표 : 누가 이 일을 계속 하고싶어 하는지"
   ],
   "metadata": {}
  },
  {
   "cell_type": "code",
   "execution_count": null,
   "source": [
    "pd.DataFrame([0, 1])"
   ],
   "outputs": [],
   "metadata": {}
  }
 ],
 "metadata": {
  "orig_nbformat": 4,
  "language_info": {
   "name": "python",
   "version": "3.8.8",
   "mimetype": "text/x-python",
   "codemirror_mode": {
    "name": "ipython",
    "version": 3
   },
   "pygments_lexer": "ipython3",
   "nbconvert_exporter": "python",
   "file_extension": ".py"
  },
  "kernelspec": {
   "name": "python3",
   "display_name": "Python 3.8.8 64-bit ('venv': venv)"
  },
  "interpreter": {
   "hash": "c3102799280f1ed23787b1be8e33b065cea14d14e60df4daed798ef8bab0b32c"
  }
 },
 "nbformat": 4,
 "nbformat_minor": 2
}