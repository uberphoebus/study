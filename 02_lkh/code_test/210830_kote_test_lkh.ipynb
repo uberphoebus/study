{
 "cells": [
  {
   "cell_type": "code",
   "execution_count": 1,
   "id": "a98aa0f8-a6a4-409f-bb89-b12406354f35",
   "metadata": {},
   "outputs": [],
   "source": [
    "import numpy as np\n",
    "import pandas as pd\n",
    "from sklearn.model_selection import train_test_split\n",
    "from sklearn.tree import DecisionTreeClassifier\n",
    "from sklearn.ensemble import RandomForestClassifier\n",
    "import matplotlib.pyplot as plt\n",
    "import seaborn as sns\n",
    "from sklearn.preprocessing import LabelEncoder\n",
    "\n",
    "from sklearn.metrics import accuracy_score, f1_score, precision_score , recall_score, confusion_matrix, classification_report\n",
    "from sklearn.metrics import precision_recall_curve, plot_precision_recall_curve\n",
    "from sklearn.metrics import roc_curve, plot_roc_curve, roc_auc_score\n",
    "from sklearn.preprocessing import Binarizer\n",
    "\n",
    "import warnings\n",
    "warnings.filterwarnings(action='ignore')\n",
    "\n",
    "sns.set()"
   ]
  },
  {
   "cell_type": "code",
   "execution_count": 2,
   "id": "d47b5d92-32e9-41d8-8c80-1d700d54d4f0",
   "metadata": {},
   "outputs": [],
   "source": [
    "def my_eval(y_val, pred, proba, th):  #avg='binary'\n",
    "        accuracy = accuracy_score(y_val, pred)\n",
    "        precision = precision_score(y_val, pred)\n",
    "        recall = recall_score(y_val, pred)\n",
    "        f1 = f1_score(y_val, pred)\n",
    "        matrix = confusion_matrix(y_val, pred)\n",
    "        print(f'정확도{accuracy:.4f} 정밀도:{precision:.4f} 재현률:{recall:.4f} f1:{f1:.4f}')\n",
    "        print(\"오차행렬\\n\", matrix)\n",
    "        # cls_report = classification_report(y_val, pred)\n",
    "\n",
    "        # --------------- 양성 평가를 위한 차트 : precision_recall_curv() -------------------    \n",
    "        # plot_precision_recall_curve(model, 문제지2, 정답지2)\n",
    "        precisions, recalls, ths = precision_recall_curve(y_val, proba[:, 1])\n",
    "        plt.title(\"precision recall curv %0.2f %0.4f\"%(th,f1))\n",
    "        # plt.title(f\"precision recall curv %0.4f\" % f1)\n",
    "        plt.xlabel(\"threadhold\")\n",
    "        plt.ylabel(\"value\")\n",
    "        plt.plot(ths, precisions[:ths.shape[0]], \"b\", label=\"precision\")\n",
    "        plt.plot(ths, recalls[:ths.shape[0]], \"r\", linestyle='--', label=\"recall\")\n",
    "        plt.grid()\n",
    "        plt.legend()\n",
    "        plt.show()\n",
    "        \n",
    "        \n",
    "        # --------------- 양성 평가를 위한 차트 : roc_auc_score(), roc_curve() -------------------\n",
    "        auc_score = roc_auc_score(y_val, proba[:, 1])\n",
    "\n",
    "        fprs, tprs, ths = roc_curve(y_val, proba[:, 1])\n",
    "        plt.title(\"roc curv %0.4f\" % auc_score)\n",
    "        # plt.title(f\"precision recall curv %0.4f\" % f1)\n",
    "        plt.xlabel(\"FPR(1-specificity)\")\n",
    "        plt.ylabel(\"TPR\")\n",
    "        plt.grid()\n",
    "        plt.plot(fprs, tprs, \"b\")\n",
    "        plt.plot([0, 1], [0, 1], '--', color='black')\n",
    "        plt.show()\n",
    "\n",
    "\n",
    "def split_fit_score(X, y, model=None, test_size=0.2, th_list=None):\n",
    "\n",
    "        X_train, X_test, y_train, y_test = train_test_split(X, y,test_size=test_size,random_state=1414,shuffle=False)\n",
    "\n",
    "        model.fit(X_train, y_train)\n",
    "        pred = model.predict(X_test)                                        #[0  1]              th:0.5\n",
    "        proba = model.predict_proba(X_test)                                 #[[.7 >.3] [.4  <.6]]  --> [0  1]\n",
    "        \n",
    "        # ------------------ proba : 양성 점수 측정을 위한 예측 확률값 ---------------\n",
    "        # proba 리턴값 : ndarray of shape (n_samples, n_classes)  150*3\n",
    "        # [\n",
    "        #     [0.4 0.6]  --> 1\n",
    "        #     [0.7 0.3]  --> 0\n",
    "        #     [0.42 0.58] -> 1\n",
    "        # ]\n",
    "        \n",
    "        if th_list == None:\n",
    "            #------------------방법1 ) 임계치 0.5(기본값)으로 점수 출력 ---------------\n",
    "            binz = Binarizer(threshold=0.5)                              # th:0.5\n",
    "            pred_binz = binz.fit_transform(proba[:, 1].reshape(-1,1))    # [[.7 >.3] [.4  <.6]]  --> [0  1]\n",
    "            my_eval(y_test, pred_binz, proba, 0.5)                        # 점수def호출\n",
    " \n",
    "        else:\n",
    "            # ----------------방법2) 임계치 조정해가면서 최적의 점수 찾기---------------\n",
    "            # (24 양성인데 틀리게예측) --> 임계치 낮춘다 == 양성학습데이터늘린다  == 양성점수를 올린다 \n",
    "            th_list = [0, 0.35 , 0.38, 0.42, 0.45, 0.5, 1]\n",
    "            for th in th_list:\n",
    "                    binz = Binarizer(threshold=th)                              # [[.7 .3] [.4  .6]]   th:0.2\n",
    "                    pred_binz = binz.fit_transform(proba[:, 1].reshape(-1,1))   # [  th<.3] [  th<.6]]  --> [1 1]\n",
    "                    print(th)\n",
    "                    my_eval(y_test, pred_binz, proba, th)                       #점수def호출"
   ]
  },
  {
   "cell_type": "markdown",
   "id": "396386d0-25d1-4501-9ca9-dd218df8d135",
   "metadata": {},
   "source": [
    "## 데이터 로드\n",
    "<pre>\n",
    "'id': 등록자 ID\n",
    "'city': 지역코드\n",
    "'city_development_index': 지역개발지수\n",
    "'gender': 성별\n",
    "'relevent_experience': 관련경험\n",
    "'enrolled_university': 대학과정\n",
    "'education_level': 교육수준\n",
    "'major_discipline': 전공\n",
    "'experience':경력(년)\n",
    "'company_size': 소속회사 직원수\n",
    "'company_type': 소속회사 유형\n",
    "'last_new_job': 현재 직업 경력(년)\n",
    "'training_hours': 교육 이수 시간\n",
    "'target': 목표변수, 다른 일을 찾는 경우1, 아니면 0\n",
    "</pre>"
   ]
  },
  {
   "cell_type": "code",
   "execution_count": 3,
   "id": "92ed2b8a-24ce-4f80-83b9-0f0b8b7aa7bd",
   "metadata": {},
   "outputs": [
    {
     "data": {
      "text/html": [
       "<div>\n",
       "<style scoped>\n",
       "    .dataframe tbody tr th:only-of-type {\n",
       "        vertical-align: middle;\n",
       "    }\n",
       "\n",
       "    .dataframe tbody tr th {\n",
       "        vertical-align: top;\n",
       "    }\n",
       "\n",
       "    .dataframe thead th {\n",
       "        text-align: right;\n",
       "    }\n",
       "</style>\n",
       "<table border=\"1\" class=\"dataframe\">\n",
       "  <thead>\n",
       "    <tr style=\"text-align: right;\">\n",
       "      <th></th>\n",
       "      <th>enrollee_id</th>\n",
       "      <th>city</th>\n",
       "      <th>city_development_index</th>\n",
       "      <th>gender</th>\n",
       "      <th>relevent_experience</th>\n",
       "      <th>enrolled_university</th>\n",
       "      <th>education_level</th>\n",
       "      <th>major_discipline</th>\n",
       "      <th>experience</th>\n",
       "      <th>company_size</th>\n",
       "      <th>company_type</th>\n",
       "      <th>last_new_job</th>\n",
       "      <th>training_hours</th>\n",
       "      <th>target</th>\n",
       "    </tr>\n",
       "  </thead>\n",
       "  <tbody>\n",
       "    <tr>\n",
       "      <th>0</th>\n",
       "      <td>8949</td>\n",
       "      <td>city_103</td>\n",
       "      <td>0.920</td>\n",
       "      <td>Male</td>\n",
       "      <td>Has relevent experience</td>\n",
       "      <td>no_enrollment</td>\n",
       "      <td>Graduate</td>\n",
       "      <td>STEM</td>\n",
       "      <td>&gt;20</td>\n",
       "      <td>NaN</td>\n",
       "      <td>NaN</td>\n",
       "      <td>1</td>\n",
       "      <td>36</td>\n",
       "      <td>1.0</td>\n",
       "    </tr>\n",
       "    <tr>\n",
       "      <th>1</th>\n",
       "      <td>29725</td>\n",
       "      <td>city_40</td>\n",
       "      <td>0.776</td>\n",
       "      <td>Male</td>\n",
       "      <td>No relevent experience</td>\n",
       "      <td>no_enrollment</td>\n",
       "      <td>Graduate</td>\n",
       "      <td>STEM</td>\n",
       "      <td>15</td>\n",
       "      <td>50-99</td>\n",
       "      <td>Pvt Ltd</td>\n",
       "      <td>&gt;4</td>\n",
       "      <td>47</td>\n",
       "      <td>0.0</td>\n",
       "    </tr>\n",
       "    <tr>\n",
       "      <th>2</th>\n",
       "      <td>11561</td>\n",
       "      <td>city_21</td>\n",
       "      <td>0.624</td>\n",
       "      <td>NaN</td>\n",
       "      <td>No relevent experience</td>\n",
       "      <td>Full time course</td>\n",
       "      <td>Graduate</td>\n",
       "      <td>STEM</td>\n",
       "      <td>5</td>\n",
       "      <td>NaN</td>\n",
       "      <td>NaN</td>\n",
       "      <td>never</td>\n",
       "      <td>83</td>\n",
       "      <td>0.0</td>\n",
       "    </tr>\n",
       "    <tr>\n",
       "      <th>3</th>\n",
       "      <td>33241</td>\n",
       "      <td>city_115</td>\n",
       "      <td>0.789</td>\n",
       "      <td>NaN</td>\n",
       "      <td>No relevent experience</td>\n",
       "      <td>NaN</td>\n",
       "      <td>Graduate</td>\n",
       "      <td>Business Degree</td>\n",
       "      <td>&lt;1</td>\n",
       "      <td>NaN</td>\n",
       "      <td>Pvt Ltd</td>\n",
       "      <td>never</td>\n",
       "      <td>52</td>\n",
       "      <td>1.0</td>\n",
       "    </tr>\n",
       "    <tr>\n",
       "      <th>4</th>\n",
       "      <td>666</td>\n",
       "      <td>city_162</td>\n",
       "      <td>0.767</td>\n",
       "      <td>Male</td>\n",
       "      <td>Has relevent experience</td>\n",
       "      <td>no_enrollment</td>\n",
       "      <td>Masters</td>\n",
       "      <td>STEM</td>\n",
       "      <td>&gt;20</td>\n",
       "      <td>50-99</td>\n",
       "      <td>Funded Startup</td>\n",
       "      <td>4</td>\n",
       "      <td>8</td>\n",
       "      <td>0.0</td>\n",
       "    </tr>\n",
       "  </tbody>\n",
       "</table>\n",
       "</div>"
      ],
      "text/plain": [
       "   enrollee_id      city  city_development_index gender  \\\n",
       "0         8949  city_103                   0.920   Male   \n",
       "1        29725   city_40                   0.776   Male   \n",
       "2        11561   city_21                   0.624    NaN   \n",
       "3        33241  city_115                   0.789    NaN   \n",
       "4          666  city_162                   0.767   Male   \n",
       "\n",
       "       relevent_experience enrolled_university education_level  \\\n",
       "0  Has relevent experience       no_enrollment        Graduate   \n",
       "1   No relevent experience       no_enrollment        Graduate   \n",
       "2   No relevent experience    Full time course        Graduate   \n",
       "3   No relevent experience                 NaN        Graduate   \n",
       "4  Has relevent experience       no_enrollment         Masters   \n",
       "\n",
       "  major_discipline experience company_size    company_type last_new_job  \\\n",
       "0             STEM        >20          NaN             NaN            1   \n",
       "1             STEM         15        50-99         Pvt Ltd           >4   \n",
       "2             STEM          5          NaN             NaN        never   \n",
       "3  Business Degree         <1          NaN         Pvt Ltd        never   \n",
       "4             STEM        >20        50-99  Funded Startup            4   \n",
       "\n",
       "   training_hours  target  \n",
       "0              36     1.0  \n",
       "1              47     0.0  \n",
       "2              83     0.0  \n",
       "3              52     1.0  \n",
       "4               8     0.0  "
      ]
     },
     "execution_count": 3,
     "metadata": {},
     "output_type": "execute_result"
    }
   ],
   "source": [
    "df = pd.read_csv(\"kote_train.csv\")\n",
    "df.head()"
   ]
  },
  {
   "cell_type": "code",
   "execution_count": 4,
   "id": "441c45a0-4c82-49c3-8291-130c22e5faf7",
   "metadata": {},
   "outputs": [
    {
     "data": {
      "text/plain": [
       "(19158, 14)"
      ]
     },
     "execution_count": 4,
     "metadata": {},
     "output_type": "execute_result"
    }
   ],
   "source": [
    "df.shape  #(19158, 14)"
   ]
  },
  {
   "cell_type": "code",
   "execution_count": 5,
   "id": "3d248dd2-f193-4bd2-a8d3-980b04710118",
   "metadata": {},
   "outputs": [
    {
     "name": "stdout",
     "output_type": "stream",
     "text": [
      "<class 'pandas.core.frame.DataFrame'>\n",
      "RangeIndex: 19158 entries, 0 to 19157\n",
      "Data columns (total 14 columns):\n",
      " #   Column                  Non-Null Count  Dtype  \n",
      "---  ------                  --------------  -----  \n",
      " 0   enrollee_id             19158 non-null  int64  \n",
      " 1   city                    19158 non-null  object \n",
      " 2   city_development_index  19158 non-null  float64\n",
      " 3   gender                  14650 non-null  object \n",
      " 4   relevent_experience     19158 non-null  object \n",
      " 5   enrolled_university     18772 non-null  object \n",
      " 6   education_level         18698 non-null  object \n",
      " 7   major_discipline        16345 non-null  object \n",
      " 8   experience              19093 non-null  object \n",
      " 9   company_size            13220 non-null  object \n",
      " 10  company_type            13018 non-null  object \n",
      " 11  last_new_job            18735 non-null  object \n",
      " 12  training_hours          19158 non-null  int64  \n",
      " 13  target                  19158 non-null  float64\n",
      "dtypes: float64(2), int64(2), object(10)\n",
      "memory usage: 2.0+ MB\n"
     ]
    }
   ],
   "source": [
    "df.info()"
   ]
  },
  {
   "cell_type": "markdown",
   "id": "cb0f03d4-8dfa-4ab5-a975-c8158ef046c7",
   "metadata": {},
   "source": [
    "## EDA"
   ]
  },
  {
   "cell_type": "markdown",
   "id": "4618ae1a-3428-4e4b-bbc6-18cc2ec3cd9a",
   "metadata": {},
   "source": [
    "1. target 확인"
   ]
  },
  {
   "cell_type": "code",
   "execution_count": 6,
   "id": "2c4ef9fa-75c3-435e-82b3-e2fcaa52e9a0",
   "metadata": {},
   "outputs": [
    {
     "data": {
      "text/plain": [
       "0.0    14381\n",
       "1.0     4777\n",
       "Name: target, dtype: int64"
      ]
     },
     "execution_count": 6,
     "metadata": {},
     "output_type": "execute_result"
    }
   ],
   "source": [
    "df['target'].value_counts()"
   ]
  },
  {
   "cell_type": "markdown",
   "id": "69f6fe46-6029-4e03-94ae-e1e1eed28a25",
   "metadata": {},
   "source": [
    "2.결측확인\n",
    "* 결측이 있는 피쳐만 상단으로 출력\n",
    "* 결측이 있는 피쳐만 출력"
   ]
  },
  {
   "cell_type": "code",
   "execution_count": 7,
   "id": "118f5eb1-e350-42e2-ba29-7e9d111cd665",
   "metadata": {},
   "outputs": [
    {
     "data": {
      "text/plain": [
       "company_type              6140\n",
       "company_size              5938\n",
       "gender                    4508\n",
       "major_discipline          2813\n",
       "education_level            460\n",
       "last_new_job               423\n",
       "enrolled_university        386\n",
       "experience                  65\n",
       "enrollee_id                  0\n",
       "city                         0\n",
       "city_development_index       0\n",
       "relevent_experience          0\n",
       "training_hours               0\n",
       "target                       0\n",
       "dtype: int64"
      ]
     },
     "execution_count": 7,
     "metadata": {},
     "output_type": "execute_result"
    }
   ],
   "source": [
    "df.isna().sum().sort_values(ascending=False)"
   ]
  },
  {
   "cell_type": "code",
   "execution_count": 8,
   "id": "eff7e213-a958-457f-a887-2d7fb8c23c8c",
   "metadata": {},
   "outputs": [
    {
     "data": {
      "text/plain": [
       "company_type           6140\n",
       "company_size           5938\n",
       "gender                 4508\n",
       "major_discipline       2813\n",
       "education_level         460\n",
       "last_new_job            423\n",
       "enrolled_university     386\n",
       "experience               65\n",
       "dtype: int64"
      ]
     },
     "execution_count": 8,
     "metadata": {},
     "output_type": "execute_result"
    }
   ],
   "source": [
    "df.isna().sum()[df.isna().sum() != 0].sort_values(ascending=False) #.index\n"
   ]
  },
  {
   "cell_type": "code",
   "execution_count": 9,
   "id": "f57b5325-c6b7-4e24-adfe-77b320b45537",
   "metadata": {},
   "outputs": [
    {
     "data": {
      "text/html": [
       "<div>\n",
       "<style scoped>\n",
       "    .dataframe tbody tr th:only-of-type {\n",
       "        vertical-align: middle;\n",
       "    }\n",
       "\n",
       "    .dataframe tbody tr th {\n",
       "        vertical-align: top;\n",
       "    }\n",
       "\n",
       "    .dataframe thead th {\n",
       "        text-align: right;\n",
       "    }\n",
       "</style>\n",
       "<table border=\"1\" class=\"dataframe\">\n",
       "  <thead>\n",
       "    <tr style=\"text-align: right;\">\n",
       "      <th></th>\n",
       "      <th>CNT</th>\n",
       "      <th>RATE</th>\n",
       "    </tr>\n",
       "  </thead>\n",
       "  <tbody>\n",
       "    <tr>\n",
       "      <th>company_type</th>\n",
       "      <td>6140</td>\n",
       "      <td>32.049274</td>\n",
       "    </tr>\n",
       "    <tr>\n",
       "      <th>company_size</th>\n",
       "      <td>5938</td>\n",
       "      <td>30.994885</td>\n",
       "    </tr>\n",
       "    <tr>\n",
       "      <th>gender</th>\n",
       "      <td>4508</td>\n",
       "      <td>23.530640</td>\n",
       "    </tr>\n",
       "    <tr>\n",
       "      <th>major_discipline</th>\n",
       "      <td>2813</td>\n",
       "      <td>14.683161</td>\n",
       "    </tr>\n",
       "    <tr>\n",
       "      <th>education_level</th>\n",
       "      <td>460</td>\n",
       "      <td>2.401086</td>\n",
       "    </tr>\n",
       "    <tr>\n",
       "      <th>last_new_job</th>\n",
       "      <td>423</td>\n",
       "      <td>2.207955</td>\n",
       "    </tr>\n",
       "    <tr>\n",
       "      <th>enrolled_university</th>\n",
       "      <td>386</td>\n",
       "      <td>2.014824</td>\n",
       "    </tr>\n",
       "    <tr>\n",
       "      <th>experience</th>\n",
       "      <td>65</td>\n",
       "      <td>0.339284</td>\n",
       "    </tr>\n",
       "    <tr>\n",
       "      <th>enrollee_id</th>\n",
       "      <td>0</td>\n",
       "      <td>0.000000</td>\n",
       "    </tr>\n",
       "    <tr>\n",
       "      <th>city</th>\n",
       "      <td>0</td>\n",
       "      <td>0.000000</td>\n",
       "    </tr>\n",
       "    <tr>\n",
       "      <th>city_development_index</th>\n",
       "      <td>0</td>\n",
       "      <td>0.000000</td>\n",
       "    </tr>\n",
       "    <tr>\n",
       "      <th>relevent_experience</th>\n",
       "      <td>0</td>\n",
       "      <td>0.000000</td>\n",
       "    </tr>\n",
       "    <tr>\n",
       "      <th>training_hours</th>\n",
       "      <td>0</td>\n",
       "      <td>0.000000</td>\n",
       "    </tr>\n",
       "    <tr>\n",
       "      <th>target</th>\n",
       "      <td>0</td>\n",
       "      <td>0.000000</td>\n",
       "    </tr>\n",
       "  </tbody>\n",
       "</table>\n",
       "</div>"
      ],
      "text/plain": [
       "                         CNT       RATE\n",
       "company_type            6140  32.049274\n",
       "company_size            5938  30.994885\n",
       "gender                  4508  23.530640\n",
       "major_discipline        2813  14.683161\n",
       "education_level          460   2.401086\n",
       "last_new_job             423   2.207955\n",
       "enrolled_university      386   2.014824\n",
       "experience                65   0.339284\n",
       "enrollee_id                0   0.000000\n",
       "city                       0   0.000000\n",
       "city_development_index     0   0.000000\n",
       "relevent_experience        0   0.000000\n",
       "training_hours             0   0.000000\n",
       "target                     0   0.000000"
      ]
     },
     "execution_count": 9,
     "metadata": {},
     "output_type": "execute_result"
    }
   ],
   "source": [
    "nan_df = pd.DataFrame({\"CNT\":df.isna().sum(), \"RATE\":  df.isna().sum()/df.shape[0]*100   })\n",
    "nan_df.sort_values('CNT', ascending=False) #.T"
   ]
  },
  {
   "cell_type": "markdown",
   "id": "1a5c9908-81e7-4ab9-a1aa-77c7f2a016f8",
   "metadata": {},
   "source": [
    "3. Object 타입 피쳐 출력\n",
    "* https://stackoverflow.com/questions/29245848/what-are-all-the-dtypes-that-pandas-recognizes?rq=1\n",
    "* https://pandas.pydata.org/pandas-docs/stable/user_guide/basics.html#basics-dtypes"
   ]
  },
  {
   "cell_type": "code",
   "execution_count": 10,
   "id": "a1f45940-2dd0-4a38-9a54-01f66a535f43",
   "metadata": {},
   "outputs": [
    {
     "name": "stdout",
     "output_type": "stream",
     "text": [
      "Index(['city', 'gender', 'relevent_experience', 'enrolled_university',\n",
      "       'education_level', 'major_discipline', 'experience', 'company_size',\n",
      "       'company_type', 'last_new_job'],\n",
      "      dtype='object')\n"
     ]
    }
   ],
   "source": [
    "# df.dtypes[df.dtypes=='object'].index\n",
    "obj_cols = df.dtypes[df.dtypes=='object'].index\n",
    "print(obj_cols)"
   ]
  },
  {
   "cell_type": "markdown",
   "id": "0e35c66d-9454-4959-a0ab-545de4b15412",
   "metadata": {},
   "source": [
    "## 가공처리"
   ]
  },
  {
   "cell_type": "markdown",
   "id": "52034078-0ce6-49b3-91f9-006c9bb39c10",
   "metadata": {},
   "source": [
    "1. 결측처리\n",
    "* ['company_type', 'company_size', 'gender', 'major_discipline', 'education_level', 'last_new_job', 'enrolled_university', 'experience']"
   ]
  },
  {
   "cell_type": "code",
   "execution_count": 11,
   "id": "48d9e53b-56c5-4285-b45a-3c3c0b360c27",
   "metadata": {},
   "outputs": [],
   "source": [
    "nan_cols = ['company_type', 'company_size', 'gender', 'major_discipline', 'education_level', 'last_new_job', 'enrolled_university', 'experience']"
   ]
  },
  {
   "cell_type": "code",
   "execution_count": 12,
   "id": "f32938ff-0272-4335-9288-5daf72c5a92d",
   "metadata": {},
   "outputs": [
    {
     "name": "stdout",
     "output_type": "stream",
     "text": [
      "Pvt Ltd                9817\n",
      "Funded Startup         1001\n",
      "Public Sector           955\n",
      "Early Stage Startup     603\n",
      "NGO                     521\n",
      "Other                   121\n",
      "Name: company_type, dtype: int64\n",
      "----------------------------------------\n",
      "50-99        3083\n",
      "100-500      2571\n",
      "10000+       2019\n",
      "10/49        1471\n",
      "1000-4999    1328\n",
      "<10          1308\n",
      "500-999       877\n",
      "5000-9999     563\n",
      "Name: company_size, dtype: int64\n",
      "----------------------------------------\n",
      "Male      13221\n",
      "Female     1238\n",
      "Other       191\n",
      "Name: gender, dtype: int64\n",
      "----------------------------------------\n",
      "STEM               14492\n",
      "Humanities           669\n",
      "Other                381\n",
      "Business Degree      327\n",
      "Arts                 253\n",
      "No Major             223\n",
      "Name: major_discipline, dtype: int64\n",
      "----------------------------------------\n",
      "Graduate          11598\n",
      "Masters            4361\n",
      "High School        2017\n",
      "Phd                 414\n",
      "Primary School      308\n",
      "Name: education_level, dtype: int64\n",
      "----------------------------------------\n",
      "1        8040\n",
      ">4       3290\n",
      "2        2900\n",
      "never    2452\n",
      "4        1029\n",
      "3        1024\n",
      "Name: last_new_job, dtype: int64\n",
      "----------------------------------------\n",
      "no_enrollment       13817\n",
      "Full time course     3757\n",
      "Part time course     1198\n",
      "Name: enrolled_university, dtype: int64\n",
      "----------------------------------------\n",
      ">20    3286\n",
      "5      1430\n",
      "4      1403\n",
      "3      1354\n",
      "6      1216\n",
      "2      1127\n",
      "7      1028\n",
      "10      985\n",
      "9       980\n",
      "8       802\n",
      "15      686\n",
      "11      664\n",
      "14      586\n",
      "1       549\n",
      "<1      522\n",
      "16      508\n",
      "12      494\n",
      "13      399\n",
      "17      342\n",
      "19      304\n",
      "18      280\n",
      "20      148\n",
      "Name: experience, dtype: int64\n",
      "----------------------------------------\n"
     ]
    }
   ],
   "source": [
    "for col in nan_cols:\n",
    "    print(df[col].value_counts())\n",
    "    print(\"--\"*20)"
   ]
  },
  {
   "cell_type": "markdown",
   "id": "b8e4f97a-e800-44eb-b141-846c3b3f9b91",
   "metadata": {},
   "source": [
    "####  company_size 구간화\n",
    "<pre>\n",
    "<10          1308\n",
    "10/49        1471\n",
    "50-99        3083\n",
    "100-500      2571\n",
    "500-999       877\n",
    "1000-4999    1328\n",
    "5000-9999     563\n",
    "10000+       2019\n",
    "</pre>"
   ]
  },
  {
   "cell_type": "code",
   "execution_count": 13,
   "id": "358e9258-850f-46f8-80f9-028313224cae",
   "metadata": {},
   "outputs": [
    {
     "data": {
      "text/html": [
       "<div>\n",
       "<style scoped>\n",
       "    .dataframe tbody tr th:only-of-type {\n",
       "        vertical-align: middle;\n",
       "    }\n",
       "\n",
       "    .dataframe tbody tr th {\n",
       "        vertical-align: top;\n",
       "    }\n",
       "\n",
       "    .dataframe thead th {\n",
       "        text-align: right;\n",
       "    }\n",
       "</style>\n",
       "<table border=\"1\" class=\"dataframe\">\n",
       "  <thead>\n",
       "    <tr style=\"text-align: right;\">\n",
       "      <th></th>\n",
       "      <th>company_size</th>\n",
       "      <th>company_size2</th>\n",
       "    </tr>\n",
       "  </thead>\n",
       "  <tbody>\n",
       "    <tr>\n",
       "      <th>0</th>\n",
       "      <td>NaN</td>\n",
       "      <td>NaN</td>\n",
       "    </tr>\n",
       "    <tr>\n",
       "      <th>1</th>\n",
       "      <td>50-99</td>\n",
       "      <td>3.0</td>\n",
       "    </tr>\n",
       "    <tr>\n",
       "      <th>2</th>\n",
       "      <td>NaN</td>\n",
       "      <td>NaN</td>\n",
       "    </tr>\n",
       "    <tr>\n",
       "      <th>3</th>\n",
       "      <td>NaN</td>\n",
       "      <td>NaN</td>\n",
       "    </tr>\n",
       "    <tr>\n",
       "      <th>4</th>\n",
       "      <td>50-99</td>\n",
       "      <td>3.0</td>\n",
       "    </tr>\n",
       "  </tbody>\n",
       "</table>\n",
       "</div>"
      ],
      "text/plain": [
       "  company_size  company_size2\n",
       "0          NaN            NaN\n",
       "1        50-99            3.0\n",
       "2          NaN            NaN\n",
       "3          NaN            NaN\n",
       "4        50-99            3.0"
      ]
     },
     "execution_count": 13,
     "metadata": {},
     "output_type": "execute_result"
    }
   ],
   "source": [
    "dict = {'<10':1, '10/49':2, '50-99':3, '100-500':4, '500-999':5, '1000-4999':6, '5000-9999':7, '10000+':8}\n",
    "df['company_size2'] = df['company_size'].map(dict)\n",
    "df[['company_size','company_size2']].head()"
   ]
  },
  {
   "cell_type": "code",
   "execution_count": 14,
   "id": "b5741152-59bd-4f6c-b5a7-c8021a2e417c",
   "metadata": {},
   "outputs": [
    {
     "data": {
      "text/plain": [
       "count    13220.000000\n",
       "mean         4.253328\n",
       "std          2.190880\n",
       "min          1.000000\n",
       "25%          3.000000\n",
       "50%          4.000000\n",
       "75%          6.000000\n",
       "max          8.000000\n",
       "Name: company_size2, dtype: float64"
      ]
     },
     "execution_count": 14,
     "metadata": {},
     "output_type": "execute_result"
    }
   ],
   "source": [
    "df['company_size2'].describe()"
   ]
  },
  {
   "cell_type": "code",
   "execution_count": 15,
   "id": "f405448e-bb2a-4de3-ad94-9cf0622d6e41",
   "metadata": {},
   "outputs": [
    {
     "data": {
      "text/plain": [
       "<AxesSubplot:xlabel='company_size2', ylabel='count'>"
      ]
     },
     "execution_count": 15,
     "metadata": {},
     "output_type": "execute_result"
    },
    {
     "data": {
      "image/png": "[encoded data removed]",
      "text/plain": [
       "<Figure size 432x288 with 1 Axes>"
      ]
     },
     "metadata": {},
     "output_type": "display_data"
    }
   ],
   "source": [
    "# df['company_size2'].hist()\n",
    "sns.countplot('company_size2',data=df)"
   ]
  },
  {
   "cell_type": "markdown",
   "id": "7a796781-04a2-42f2-b82a-0155f461669c",
   "metadata": {},
   "source": [
    "#### company_type"
   ]
  },
  {
   "cell_type": "code",
   "execution_count": 16,
   "id": "6aac3b77-a357-4af0-a64d-fbf150efd67e",
   "metadata": {},
   "outputs": [
    {
     "data": {
      "text/html": [
       "<div>\n",
       "<style scoped>\n",
       "    .dataframe tbody tr th:only-of-type {\n",
       "        vertical-align: middle;\n",
       "    }\n",
       "\n",
       "    .dataframe tbody tr th {\n",
       "        vertical-align: top;\n",
       "    }\n",
       "\n",
       "    .dataframe thead th {\n",
       "        text-align: right;\n",
       "    }\n",
       "</style>\n",
       "<table border=\"1\" class=\"dataframe\">\n",
       "  <thead>\n",
       "    <tr style=\"text-align: right;\">\n",
       "      <th></th>\n",
       "      <th>company_type</th>\n",
       "      <th>company_type2</th>\n",
       "    </tr>\n",
       "  </thead>\n",
       "  <tbody>\n",
       "    <tr>\n",
       "      <th>0</th>\n",
       "      <td>NaN</td>\n",
       "      <td>NaN</td>\n",
       "    </tr>\n",
       "    <tr>\n",
       "      <th>1</th>\n",
       "      <td>Pvt Ltd</td>\n",
       "      <td>1.0</td>\n",
       "    </tr>\n",
       "    <tr>\n",
       "      <th>2</th>\n",
       "      <td>NaN</td>\n",
       "      <td>NaN</td>\n",
       "    </tr>\n",
       "    <tr>\n",
       "      <th>3</th>\n",
       "      <td>Pvt Ltd</td>\n",
       "      <td>1.0</td>\n",
       "    </tr>\n",
       "    <tr>\n",
       "      <th>4</th>\n",
       "      <td>Funded Startup</td>\n",
       "      <td>2.0</td>\n",
       "    </tr>\n",
       "  </tbody>\n",
       "</table>\n",
       "</div>"
      ],
      "text/plain": [
       "     company_type  company_type2\n",
       "0             NaN            NaN\n",
       "1         Pvt Ltd            1.0\n",
       "2             NaN            NaN\n",
       "3         Pvt Ltd            1.0\n",
       "4  Funded Startup            2.0"
      ]
     },
     "execution_count": 16,
     "metadata": {},
     "output_type": "execute_result"
    }
   ],
   "source": [
    "dict = {'Pvt Ltd':1,'Funded Startup':2,'Public Sector':3,'Early Stage Startup':4,'NGO':5,'Other':6}\n",
    "df['company_type2'] = df['company_type'].map(dict)\n",
    "df[['company_type','company_type2']].head()"
   ]
  },
  {
   "cell_type": "code",
   "execution_count": 17,
   "id": "d6388f38-837c-441b-a3eb-796783e52416",
   "metadata": {},
   "outputs": [
    {
     "data": {
      "text/plain": [
       "count    13018.000000\n",
       "mean         1.569135\n",
       "std          1.155907\n",
       "min          1.000000\n",
       "25%          1.000000\n",
       "50%          1.000000\n",
       "75%          1.000000\n",
       "max          6.000000\n",
       "Name: company_type2, dtype: float64"
      ]
     },
     "execution_count": 17,
     "metadata": {},
     "output_type": "execute_result"
    }
   ],
   "source": [
    "df['company_type2'].describe()"
   ]
  },
  {
   "cell_type": "code",
   "execution_count": 18,
   "id": "23903158-8bd1-47fb-a2a9-5a572bc49e5f",
   "metadata": {},
   "outputs": [
    {
     "data": {
      "text/plain": [
       "<AxesSubplot:xlabel='company_type2', ylabel='count'>"
      ]
     },
     "execution_count": 18,
     "metadata": {},
     "output_type": "execute_result"
    },
    {
     "data": {
      "image/png": "[encoded data removed]",
      "text/plain": [
       "<Figure size 432x288 with 1 Axes>"
      ]
     },
     "metadata": {},
     "output_type": "display_data"
    }
   ],
   "source": [
    "sns.countplot('company_type2',data=df)"
   ]
  },
  {
   "cell_type": "markdown",
   "id": "f24eb68c-b645-4b19-9b50-39b3a2b3aa6a",
   "metadata": {},
   "source": [
    "#### company_type2 별 company_size2 평균"
   ]
  },
  {
   "cell_type": "code",
   "execution_count": 19,
   "id": "14a471e1-4ad7-4627-a6d7-475cec9e5c25",
   "metadata": {},
   "outputs": [
    {
     "data": {
      "text/plain": [
       "company_type2\n",
       "1.0    4.498459\n",
       "2.0    2.840201\n",
       "3.0    5.146489\n",
       "4.0    1.805000\n",
       "5.0    4.341414\n",
       "6.0    4.371681\n",
       "Name: company_size2, dtype: float64"
      ]
     },
     "execution_count": 19,
     "metadata": {},
     "output_type": "execute_result"
    }
   ],
   "source": [
    "# df.groupby(\"company_type2\")\n",
    "# df['company_size2'].mean()\n",
    "df.groupby(\"company_type2\")['company_size2'].mean()"
   ]
  },
  {
   "cell_type": "markdown",
   "id": "954df9e0-a8c5-47b1-912d-d765c81280e7",
   "metadata": {},
   "source": [
    "* company_type2 결측처리 : 최빈도 1값으로 처리 "
   ]
  },
  {
   "cell_type": "markdown",
   "id": "ce86aca4-5b29-499e-95aa-1b578906558e",
   "metadata": {},
   "source": [
    "* company_size2 결측처리  : company_type2 그룹별 company_size2 평균값"
   ]
  },
  {
   "cell_type": "code",
   "execution_count": 20,
   "id": "312f660c-274d-4cb7-96fd-496d633d2cf4",
   "metadata": {},
   "outputs": [],
   "source": [
    "# df[['company_type2','company_size2']] = df[['company_type2','company_size2']].fillna( 0)\n",
    "df['company_type2'].mode()\n",
    "\n",
    "df['company_type2'] = df['company_type2'].fillna(1)\n",
    "df['company_size2'] = df['company_size2'].fillna( df.groupby(\"company_type2\")['company_size2'].transform('mean') )\n"
   ]
  },
  {
   "cell_type": "code",
   "execution_count": 21,
   "id": "18df5db8-0517-47bf-9b50-1f258c8f4a06",
   "metadata": {},
   "outputs": [
    {
     "data": {
      "text/plain": [
       "company_type2    0\n",
       "company_size2    0\n",
       "dtype: int64"
      ]
     },
     "execution_count": 21,
     "metadata": {},
     "output_type": "execute_result"
    }
   ],
   "source": [
    "df[['company_type2','company_size2']].isna().sum()"
   ]
  },
  {
   "cell_type": "markdown",
   "id": "14924e83-b2e1-4dda-b03c-52a7a498fd6d",
   "metadata": {},
   "source": [
    "### pd.get_dummies() 소개"
   ]
  },
  {
   "cell_type": "code",
   "execution_count": 22,
   "id": "f18cfa38-1b30-43ee-a6a3-e76c5ca402cf",
   "metadata": {},
   "outputs": [],
   "source": [
    "# ## 결측처리(0,'')  + LabelEncoding() + OneHotEncoding()\n",
    "# df22 = pd.get_dummies(df[['gender','education_level']])\n",
    "# print(df22.info())\n",
    "# df22.head()"
   ]
  },
  {
   "cell_type": "markdown",
   "id": "eebf0c73-8313-4cf6-aea2-5f7ff49fe5f5",
   "metadata": {},
   "source": [
    "### LabelEncoder() 소개"
   ]
  },
  {
   "cell_type": "code",
   "execution_count": 23,
   "id": "fdaebe8a-72ac-4814-b0df-4bf3895477d8",
   "metadata": {},
   "outputs": [],
   "source": [
    "# from sklearn.preprocessing import LabelEncoder\n",
    "# encoder = LabelEncoder()\n",
    "# data = [\"f\", \"m\",\"o\", np.nan]\n",
    "# res_encoder = encoder.fit_transform(data)\n",
    "# print(res_encoder)  #[0 1 2]\n",
    "# original_data = encoder.inverse_transform(res_encoder)\n",
    "# print(original_data)"
   ]
  },
  {
   "cell_type": "markdown",
   "id": "7a97dd36-a108-4530-a51a-84c1ce52bb2c",
   "metadata": {},
   "source": [
    "### gender 결측처리 : 최빈도 (Male) 값"
   ]
  },
  {
   "cell_type": "code",
   "execution_count": 24,
   "id": "bb19d6d5-3228-407a-b35c-04515f6befa1",
   "metadata": {},
   "outputs": [
    {
     "data": {
      "text/plain": [
       "<AxesSubplot:>"
      ]
     },
     "execution_count": 24,
     "metadata": {},
     "output_type": "execute_result"
    },
    {
     "data": {
      "image/png": "[encoded data removed]",
      "text/plain": [
       "<Figure size 432x288 with 1 Axes>"
      ]
     },
     "metadata": {},
     "output_type": "display_data"
    }
   ],
   "source": [
    "df['gender'].value_counts().plot(kind='bar')"
   ]
  },
  {
   "cell_type": "code",
   "execution_count": 25,
   "id": "0e135b52-b378-4cfd-9c6b-aa8d59cba6b0",
   "metadata": {},
   "outputs": [
    {
     "data": {
      "text/plain": [
       "0"
      ]
     },
     "execution_count": 25,
     "metadata": {},
     "output_type": "execute_result"
    }
   ],
   "source": [
    "df['gender'] = df['gender'].fillna('Male')\n",
    "df['gender'].isna().sum()"
   ]
  },
  {
   "cell_type": "code",
   "execution_count": 26,
   "id": "15fd62ca-eedc-4168-8278-0688fd586048",
   "metadata": {},
   "outputs": [
    {
     "data": {
      "text/plain": [
       "array(['Male', 'Female', 'Other'], dtype=object)"
      ]
     },
     "execution_count": 26,
     "metadata": {},
     "output_type": "execute_result"
    }
   ],
   "source": [
    "df['gender'].unique()"
   ]
  },
  {
   "cell_type": "markdown",
   "id": "f7cc1d3a-8691-48ce-8a88-bbacfaad6590",
   "metadata": {},
   "source": [
    "## 상관분석\n",
    "* 두 피쳐간의 선형관계 (-1.0~1.0)\n",
    "  + - 0.3~ 0.7: 강한상관\n",
    "  + - 0.7~ 1.0: 매우~~ 강한상관(0.8이상 다중공선)\n",
    "* 다중공선성 해결방법 : drop, PCA(차원축소)"
   ]
  },
  {
   "cell_type": "code",
   "execution_count": 27,
   "id": "0611f588-29cd-4581-be0d-b6c40e65a94f",
   "metadata": {},
   "outputs": [
    {
     "data": {
      "text/plain": [
       "<AxesSubplot:>"
      ]
     },
     "execution_count": 27,
     "metadata": {},
     "output_type": "execute_result"
    },
    {
     "data": {
      "image/png": "[encoded data removed]",
      "text/plain": [
       "<Figure size 720x720 with 2 Axes>"
      ]
     },
     "metadata": {},
     "output_type": "display_data"
    }
   ],
   "source": [
    "df2 = df.copy()\n",
    "for col in obj_cols:\n",
    "    encoder = LabelEncoder()\n",
    "    df2[col] = encoder.fit_transform(df2[col])\n",
    "\n",
    "fig, ax = plt.subplots(figsize=(10,10))     \n",
    "sns.heatmap(df2.corr(), annot=True, fmt=\".2f\", cmap=\"Blues\")"
   ]
  },
  {
   "cell_type": "markdown",
   "id": "82c2a04e-46e8-4f92-bf24-9407e542010e",
   "metadata": {},
   "source": [
    "* enrolled_university - relevenet_experience  : -.35 (약 음 상관관계)\n",
    "* company_type - company_size  : .34 (약 양 상관관계)\n",
    "* relevent_experience - company_size : 0.34 (약 양 상관관계)"
   ]
  },
  {
   "cell_type": "code",
   "execution_count": 28,
   "id": "0f208de4-ffcd-497f-aa39-acc5915d6038",
   "metadata": {
    "tags": []
   },
   "outputs": [
    {
     "name": "stdout",
     "output_type": "stream",
     "text": [
      "Index(['target', 'company_size', 'relevent_experience', 'company_type',\n",
      "       'city'],\n",
      "      dtype='object')\n",
      "Index(['city_development_index', 'enrolled_university', 'education_level',\n",
      "       'company_type2', 'training_hours'],\n",
      "      dtype='object')\n"
     ]
    }
   ],
   "source": [
    "print(df2.corr().nlargest(5, 'target').index)\n",
    "print(df2.corr().nsmallest(5, 'target').index)    "
   ]
  },
  {
   "cell_type": "markdown",
   "id": "7d00ccb9-4068-4de5-bb9d-cd1633bcfe82",
   "metadata": {},
   "source": [
    "#### 'enrolled_university': 대학과정  'relevent_experience': 관련경험"
   ]
  },
  {
   "cell_type": "code",
   "execution_count": 29,
   "id": "b4bd403a-0a05-4e94-9b6f-bd237c02cdc6",
   "metadata": {},
   "outputs": [
    {
     "data": {
      "text/plain": [
       "<seaborn.axisgrid.PairGrid at 0x2117313dfd0>"
      ]
     },
     "execution_count": 29,
     "metadata": {},
     "output_type": "execute_result"
    },
    {
     "data": {
      "image/png": "[encoded data removed]",
      "text/plain": [
       "<Figure size 360x360 with 6 Axes>"
      ]
     },
     "metadata": {},
     "output_type": "display_data"
    }
   ],
   "source": [
    "sns.pairplot(df2[['enrolled_university','relevent_experience']])"
   ]
  },
  {
   "cell_type": "code",
   "execution_count": 30,
   "id": "984db978-4377-49dc-83c0-c95b5f46465c",
   "metadata": {},
   "outputs": [
    {
     "name": "stdout",
     "output_type": "stream",
     "text": [
      "company_type [nan, 'Pvt Ltd', 'Funded Startup', 'Early Stage Startup', 'Other', 'Public Sector', 'NGO']\n",
      "----------------------------------------\n",
      "Pvt Ltd                9817\n",
      "Funded Startup         1001\n",
      "Public Sector           955\n",
      "Early Stage Startup     603\n",
      "NGO                     521\n",
      "Other                   121\n",
      "Name: company_type, dtype: int64\n",
      "----------------------------------------\n",
      "company_size [nan, '50-99', '<10', '10000+', '5000-9999', '1000-4999', '10/49', '100-500', '500-999']\n",
      "----------------------------------------\n",
      "50-99        3083\n",
      "100-500      2571\n",
      "10000+       2019\n",
      "10/49        1471\n",
      "1000-4999    1328\n",
      "<10          1308\n",
      "500-999       877\n",
      "5000-9999     563\n",
      "Name: company_size, dtype: int64\n",
      "----------------------------------------\n",
      "gender ['Male', 'Female', 'Other']\n",
      "----------------------------------------\n",
      "Male      17729\n",
      "Female     1238\n",
      "Other       191\n",
      "Name: gender, dtype: int64\n",
      "----------------------------------------\n",
      "major_discipline ['STEM', 'Business Degree', nan, 'Arts', 'Humanities', 'No Major', 'Other']\n",
      "----------------------------------------\n",
      "STEM               14492\n",
      "Humanities           669\n",
      "Other                381\n",
      "Business Degree      327\n",
      "Arts                 253\n",
      "No Major             223\n",
      "Name: major_discipline, dtype: int64\n",
      "----------------------------------------\n",
      "education_level ['Graduate', 'Masters', 'High School', nan, 'Phd', 'Primary School']\n",
      "----------------------------------------\n",
      "Graduate          11598\n",
      "Masters            4361\n",
      "High School        2017\n",
      "Phd                 414\n",
      "Primary School      308\n",
      "Name: education_level, dtype: int64\n",
      "----------------------------------------\n",
      "last_new_job ['1', '>4', 'never', '4', '3', '2', nan]\n",
      "----------------------------------------\n",
      "1        8040\n",
      ">4       3290\n",
      "2        2900\n",
      "never    2452\n",
      "4        1029\n",
      "3        1024\n",
      "Name: last_new_job, dtype: int64\n",
      "----------------------------------------\n",
      "enrolled_university ['no_enrollment', 'Full time course', nan, 'Part time course']\n",
      "----------------------------------------\n",
      "no_enrollment       13817\n",
      "Full time course     3757\n",
      "Part time course     1198\n",
      "Name: enrolled_university, dtype: int64\n",
      "----------------------------------------\n",
      "experience ['>20', '15', '5', '<1', '11', '13', '7', '17', '2', '16', '1', '4', '10', '14', '18', '19', '12', '3', '6', '9', '8', '20', nan]\n",
      "----------------------------------------\n",
      ">20    3286\n",
      "5      1430\n",
      "4      1403\n",
      "3      1354\n",
      "6      1216\n",
      "2      1127\n",
      "7      1028\n",
      "10      985\n",
      "9       980\n",
      "8       802\n",
      "15      686\n",
      "11      664\n",
      "14      586\n",
      "1       549\n",
      "<1      522\n",
      "16      508\n",
      "12      494\n",
      "13      399\n",
      "17      342\n",
      "19      304\n",
      "18      280\n",
      "20      148\n",
      "Name: experience, dtype: int64\n",
      "----------------------------------------\n"
     ]
    }
   ],
   "source": [
    "for col in nan_cols : \n",
    "    print(col , df[col].unique().tolist())  #'Male', nan, 'Female', 'Other'\n",
    "    print(\"--\"*20)\n",
    "    print(df[col].value_counts())\n",
    "    print(\"--\"*20)\n",
    "\n",
    "# 수치형 변환 시 레벨 유지 불필요 --> 원핫인코딩 -------------------------    \n",
    "# gender ['Male', nan, 'Female', 'Other']\n",
    "# major_discipline ['STEM', 'Business Degree', nan, 'Arts', 'Humanities', 'No Major', 'Other']\n",
    "\n",
    "# 수치형 변환 시 레벨 유지해야 할 피쳐 -----------------------------------\n",
    "# education_level ['Primary School', 'High School', 'Graduate', 'Masters', 'Phd', nan  ]\n",
    "# enrolled_university ['no_enrollment', 'Full time course', nan, 'Part time course']\n",
    "# last_new_job ['1', '>4', 'never', '4', '3', '2', nan]\n",
    "# experience ['>20', '15', '5', '<1', '11', '13', '7', '17', '2', '16', '1', '4', '10', '14', '18', '19', '12', '3', '6', '9', '8', '20', nan]"
   ]
  },
  {
   "cell_type": "markdown",
   "id": "519a3b6b-f5a3-4f69-a471-3307ef72a8f2",
   "metadata": {
    "tags": []
   },
   "source": [
    "## 결측처리  : 최빈도 값으로 채우기\n",
    "<pre>\n",
    "company_type : Pvt Ltd \n",
    "company_size : company_type 그룹별 평균\n",
    "gender  : 'Male'\n",
    "major_discipline : 'STEM'\n",
    "education_level : 'Graduate'\n",
    "last_new_job : '1'\n",
    "enrolled_university : 'no_enrollment'\n",
    "experience: '>20'  \n",
    "</pre>"
   ]
  },
  {
   "cell_type": "code",
   "execution_count": 31,
   "id": "87e6132a-0143-4aad-975e-56e2f79ba12d",
   "metadata": {},
   "outputs": [],
   "source": [
    "for col in nan_cols : \n",
    "    df[col].fillna(df[col].mode()[0], inplace=True)    "
   ]
  },
  {
   "cell_type": "markdown",
   "id": "8a247733-826c-457c-8742-ae2b05b6a278",
   "metadata": {},
   "source": [
    "### 문자형 --> 수치형 변환 (LabelEncoding)"
   ]
  },
  {
   "cell_type": "code",
   "execution_count": 32,
   "id": "a2d5d905-0bb2-4ee3-bf01-a51f3b35975a",
   "metadata": {},
   "outputs": [],
   "source": [
    "for col in obj_cols:\n",
    "    encoder = LabelEncoder()\n",
    "    df[col] = encoder.fit_transform(df[col])"
   ]
  },
  {
   "cell_type": "code",
   "execution_count": 33,
   "id": "a53db751-03d6-48c3-b20d-c2640f8e510e",
   "metadata": {},
   "outputs": [
    {
     "name": "stdout",
     "output_type": "stream",
     "text": [
      "<class 'pandas.core.frame.DataFrame'>\n",
      "RangeIndex: 19158 entries, 0 to 19157\n",
      "Data columns (total 16 columns):\n",
      " #   Column                  Non-Null Count  Dtype  \n",
      "---  ------                  --------------  -----  \n",
      " 0   enrollee_id             19158 non-null  int64  \n",
      " 1   city                    19158 non-null  int32  \n",
      " 2   city_development_index  19158 non-null  float64\n",
      " 3   gender                  19158 non-null  int32  \n",
      " 4   relevent_experience     19158 non-null  int32  \n",
      " 5   enrolled_university     19158 non-null  int32  \n",
      " 6   education_level         19158 non-null  int32  \n",
      " 7   major_discipline        19158 non-null  int32  \n",
      " 8   experience              19158 non-null  int32  \n",
      " 9   company_size            19158 non-null  int32  \n",
      " 10  company_type            19158 non-null  int32  \n",
      " 11  last_new_job            19158 non-null  int32  \n",
      " 12  training_hours          19158 non-null  int64  \n",
      " 13  target                  19158 non-null  float64\n",
      " 14  company_size2           19158 non-null  float64\n",
      " 15  company_type2           19158 non-null  float64\n",
      "dtypes: float64(4), int32(10), int64(2)\n",
      "memory usage: 1.6 MB\n"
     ]
    }
   ],
   "source": [
    "df.info()"
   ]
  },
  {
   "cell_type": "code",
   "execution_count": 34,
   "id": "20254030-77c2-4994-bec6-fb810e8304d2",
   "metadata": {},
   "outputs": [
    {
     "data": {
      "image/png": "[encoded data removed]",
      "text/plain": [
       "<Figure size 432x288 with 16 Axes>"
      ]
     },
     "metadata": {},
     "output_type": "display_data"
    }
   ],
   "source": [
    "df.hist()\n",
    "plt.show()"
   ]
  },
  {
   "cell_type": "code",
   "execution_count": 35,
   "id": "1cf2476c-02fc-4bed-ba41-00a3dd221a48",
   "metadata": {},
   "outputs": [
    {
     "data": {
      "text/plain": [
       "array([1, 0, 2])"
      ]
     },
     "execution_count": 35,
     "metadata": {},
     "output_type": "execute_result"
    }
   ],
   "source": [
    "df['gender'].unique()"
   ]
  },
  {
   "cell_type": "markdown",
   "id": "c2af86ae-c1ca-4c39-b7c7-20934d50b110",
   "metadata": {},
   "source": [
    "#### 가공이 끝난 피쳐 삭제"
   ]
  },
  {
   "cell_type": "code",
   "execution_count": 36,
   "id": "4aab8f7f-821e-440c-81b1-11b5988c867e",
   "metadata": {},
   "outputs": [],
   "source": [
    "del_cols = ['enrollee_id', 'company_type','company_size']\n",
    "df = df.drop(del_cols, axis=1)"
   ]
  },
  {
   "cell_type": "code",
   "execution_count": 37,
   "id": "d911d362-26ed-40ac-81fe-63048bf9b73a",
   "metadata": {},
   "outputs": [
    {
     "data": {
      "text/plain": [
       "(19158, 13)"
      ]
     },
     "execution_count": 37,
     "metadata": {},
     "output_type": "execute_result"
    }
   ],
   "source": [
    "df.shape"
   ]
  },
  {
   "cell_type": "code",
   "execution_count": 38,
   "id": "cf09cbc8-6435-409a-b712-43a3279ddef1",
   "metadata": {},
   "outputs": [],
   "source": [
    "# df = pd.get_dummies(df, columns=['gender','major_discipline'], drop_first=True)"
   ]
  },
  {
   "cell_type": "code",
   "execution_count": 39,
   "id": "432dbdf4-9211-4b7f-8310-a95c4d46f703",
   "metadata": {},
   "outputs": [
    {
     "data": {
      "text/plain": [
       "(19158, 13)"
      ]
     },
     "execution_count": 39,
     "metadata": {},
     "output_type": "execute_result"
    }
   ],
   "source": [
    "df.shape"
   ]
  },
  {
   "cell_type": "code",
   "execution_count": 40,
   "id": "315b620c-6599-42dd-9037-e6ea3334b879",
   "metadata": {},
   "outputs": [
    {
     "name": "stdout",
     "output_type": "stream",
     "text": [
      "<class 'pandas.core.frame.DataFrame'>\n",
      "RangeIndex: 19158 entries, 0 to 19157\n",
      "Data columns (total 13 columns):\n",
      " #   Column                  Non-Null Count  Dtype  \n",
      "---  ------                  --------------  -----  \n",
      " 0   city                    19158 non-null  int32  \n",
      " 1   city_development_index  19158 non-null  float64\n",
      " 2   gender                  19158 non-null  int32  \n",
      " 3   relevent_experience     19158 non-null  int32  \n",
      " 4   enrolled_university     19158 non-null  int32  \n",
      " 5   education_level         19158 non-null  int32  \n",
      " 6   major_discipline        19158 non-null  int32  \n",
      " 7   experience              19158 non-null  int32  \n",
      " 8   last_new_job            19158 non-null  int32  \n",
      " 9   training_hours          19158 non-null  int64  \n",
      " 10  target                  19158 non-null  float64\n",
      " 11  company_size2           19158 non-null  float64\n",
      " 12  company_type2           19158 non-null  float64\n",
      "dtypes: float64(4), int32(8), int64(1)\n",
      "memory usage: 1.3 MB\n"
     ]
    }
   ],
   "source": [
    "df.info()"
   ]
  },
  {
   "cell_type": "code",
   "execution_count": 41,
   "id": "4b5ed085-51a8-40c9-bc86-399823a8035b",
   "metadata": {},
   "outputs": [
    {
     "data": {
      "text/html": [
       "<div>\n",
       "<style scoped>\n",
       "    .dataframe tbody tr th:only-of-type {\n",
       "        vertical-align: middle;\n",
       "    }\n",
       "\n",
       "    .dataframe tbody tr th {\n",
       "        vertical-align: top;\n",
       "    }\n",
       "\n",
       "    .dataframe thead th {\n",
       "        text-align: right;\n",
       "    }\n",
       "</style>\n",
       "<table border=\"1\" class=\"dataframe\">\n",
       "  <thead>\n",
       "    <tr style=\"text-align: right;\">\n",
       "      <th></th>\n",
       "      <th>city</th>\n",
       "      <th>city_development_index</th>\n",
       "      <th>gender</th>\n",
       "      <th>relevent_experience</th>\n",
       "      <th>enrolled_university</th>\n",
       "      <th>education_level</th>\n",
       "      <th>major_discipline</th>\n",
       "      <th>experience</th>\n",
       "      <th>last_new_job</th>\n",
       "      <th>training_hours</th>\n",
       "      <th>target</th>\n",
       "      <th>company_size2</th>\n",
       "      <th>company_type2</th>\n",
       "    </tr>\n",
       "  </thead>\n",
       "  <tbody>\n",
       "    <tr>\n",
       "      <th>0</th>\n",
       "      <td>5</td>\n",
       "      <td>0.920</td>\n",
       "      <td>1</td>\n",
       "      <td>0</td>\n",
       "      <td>2</td>\n",
       "      <td>0</td>\n",
       "      <td>5</td>\n",
       "      <td>21</td>\n",
       "      <td>0</td>\n",
       "      <td>36</td>\n",
       "      <td>1</td>\n",
       "      <td>4.457462</td>\n",
       "      <td>1</td>\n",
       "    </tr>\n",
       "    <tr>\n",
       "      <th>1</th>\n",
       "      <td>77</td>\n",
       "      <td>0.776</td>\n",
       "      <td>1</td>\n",
       "      <td>1</td>\n",
       "      <td>2</td>\n",
       "      <td>0</td>\n",
       "      <td>5</td>\n",
       "      <td>6</td>\n",
       "      <td>4</td>\n",
       "      <td>47</td>\n",
       "      <td>0</td>\n",
       "      <td>3.000000</td>\n",
       "      <td>1</td>\n",
       "    </tr>\n",
       "    <tr>\n",
       "      <th>2</th>\n",
       "      <td>64</td>\n",
       "      <td>0.624</td>\n",
       "      <td>1</td>\n",
       "      <td>1</td>\n",
       "      <td>0</td>\n",
       "      <td>0</td>\n",
       "      <td>5</td>\n",
       "      <td>15</td>\n",
       "      <td>5</td>\n",
       "      <td>83</td>\n",
       "      <td>0</td>\n",
       "      <td>4.457462</td>\n",
       "      <td>1</td>\n",
       "    </tr>\n",
       "    <tr>\n",
       "      <th>3</th>\n",
       "      <td>14</td>\n",
       "      <td>0.789</td>\n",
       "      <td>1</td>\n",
       "      <td>1</td>\n",
       "      <td>2</td>\n",
       "      <td>0</td>\n",
       "      <td>1</td>\n",
       "      <td>20</td>\n",
       "      <td>5</td>\n",
       "      <td>52</td>\n",
       "      <td>1</td>\n",
       "      <td>4.457462</td>\n",
       "      <td>1</td>\n",
       "    </tr>\n",
       "    <tr>\n",
       "      <th>4</th>\n",
       "      <td>50</td>\n",
       "      <td>0.767</td>\n",
       "      <td>1</td>\n",
       "      <td>0</td>\n",
       "      <td>2</td>\n",
       "      <td>2</td>\n",
       "      <td>5</td>\n",
       "      <td>21</td>\n",
       "      <td>3</td>\n",
       "      <td>8</td>\n",
       "      <td>0</td>\n",
       "      <td>3.000000</td>\n",
       "      <td>2</td>\n",
       "    </tr>\n",
       "  </tbody>\n",
       "</table>\n",
       "</div>"
      ],
      "text/plain": [
       "   city  city_development_index  gender  relevent_experience  \\\n",
       "0     5                   0.920       1                    0   \n",
       "1    77                   0.776       1                    1   \n",
       "2    64                   0.624       1                    1   \n",
       "3    14                   0.789       1                    1   \n",
       "4    50                   0.767       1                    0   \n",
       "\n",
       "   enrolled_university  education_level  major_discipline  experience  \\\n",
       "0                    2                0                 5          21   \n",
       "1                    2                0                 5           6   \n",
       "2                    0                0                 5          15   \n",
       "3                    2                0                 1          20   \n",
       "4                    2                2                 5          21   \n",
       "\n",
       "   last_new_job  training_hours  target  company_size2  company_type2  \n",
       "0             0              36       1       4.457462              1  \n",
       "1             4              47       0       3.000000              1  \n",
       "2             5              83       0       4.457462              1  \n",
       "3             5              52       1       4.457462              1  \n",
       "4             3               8       0       3.000000              2  "
      ]
     },
     "execution_count": 41,
     "metadata": {},
     "output_type": "execute_result"
    }
   ],
   "source": [
    "df[['target','company_type2']] = df[['target','company_type2']].astype('int')\n",
    "df.head()"
   ]
  },
  {
   "cell_type": "markdown",
   "id": "9f235a6b-b3ab-489b-ba2d-413848a6d467",
   "metadata": {
    "tags": []
   },
   "source": [
    "## 분석모델"
   ]
  },
  {
   "cell_type": "code",
   "execution_count": 42,
   "id": "a0ad71cc-6882-422f-8952-e16c6b4748bd",
   "metadata": {},
   "outputs": [],
   "source": [
    "y = df['target']\n",
    "X = df.drop('target', axis=1)\n",
    "model = RandomForestClassifier(n_estimators=300,random_state=1414) \n",
    "# model = DecisionTreeClassifier() "
   ]
  },
  {
   "cell_type": "code",
   "execution_count": 43,
   "id": "9ce1a49f-7a69-4b46-ba51-605dfef680c0",
   "metadata": {},
   "outputs": [
    {
     "name": "stdout",
     "output_type": "stream",
     "text": [
      "정확도0.7790 정밀도:0.5629 재현률:0.4426 f1:0.4955\n",
      "오차행렬\n",
      " [[2569  323]\n",
      " [ 524  416]]\n"
     ]
    },
    {
     "data": {
      "image/png": "[encoded data removed]",
      "text/plain": [
       "<Figure size 432x288 with 1 Axes>"
      ]
     },
     "metadata": {},
     "output_type": "display_data"
    },
    {
     "data": {
      "image/png": "[encoded data removed]",
      "text/plain": [
       "<Figure size 432x288 with 1 Axes>"
      ]
     },
     "metadata": {},
     "output_type": "display_data"
    }
   ],
   "source": [
    "split_fit_score(X, y, model)   #0.4955"
   ]
  },
  {
   "cell_type": "code",
   "execution_count": null,
   "id": "88d5565b-b41f-4f2c-b909-dc197860e2bd",
   "metadata": {},
   "outputs": [],
   "source": []
  },
  {
   "cell_type": "code",
   "execution_count": null,
   "id": "5b51b521-5055-404e-a02f-8427296cd201",
   "metadata": {},
   "outputs": [],
   "source": []
  },
  {
   "cell_type": "code",
   "execution_count": null,
   "id": "a85741e3-6964-4346-b0a7-beb4fac985ff",
   "metadata": {},
   "outputs": [],
   "source": []
  },
  {
   "cell_type": "code",
   "execution_count": null,
   "id": "f9fce427-be0c-4651-a002-6953f191f84e",
   "metadata": {},
   "outputs": [],
   "source": []
  }
 ],
 "metadata": {
  "kernelspec": {
   "display_name": "Python 3 (ipykernel)",
   "language": "python",
   "name": "python3"
  },
  "language_info": {
   "codemirror_mode": {
    "name": "ipython",
    "version": 3
   },
   "file_extension": ".py",
   "mimetype": "text/x-python",
   "name": "python",
   "nbconvert_exporter": "python",
   "pygments_lexer": "ipython3",
   "version": "3.8.8"
  }
 },
 "nbformat": 4,
 "nbformat_minor": 5
}
