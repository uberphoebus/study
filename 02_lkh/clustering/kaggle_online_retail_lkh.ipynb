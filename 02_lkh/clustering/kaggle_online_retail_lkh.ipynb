{
 "cells": [
  {
   "cell_type": "markdown",
   "id": "becoming-alabama",
   "metadata": {},
   "source": [
    "<img src='logo.png'><br>\n",
    "ref : https://www.kaggle.com/vijayuv/onlineretail"
   ]
  },
  {
   "cell_type": "code",
   "execution_count": 1,
   "id": "worthy-applicant",
   "metadata": {},
   "outputs": [
    {
     "data": {
      "text/html": [
       "<style>.container{width:100% !important;}</style>"
      ],
      "text/plain": [
       "<IPython.core.display.HTML object>"
      ]
     },
     "metadata": {},
     "output_type": "display_data"
    }
   ],
   "source": [
    "import pandas as pd\n",
    "import numpy as np\n",
    "import matplotlib.pyplot as plt\n",
    "import seaborn as sns\n",
    "\n",
    "# -------------- 군집 --------------\n",
    "from sklearn.cluster import KMeans\n",
    "from sklearn.decomposition import PCA\n",
    "    \n",
    "# -------------- 분류 --------------\n",
    "# from sklearn.tree import DecisionTreeClassifier\n",
    "# from sklearn.ensemble import RandomForestClassifier\n",
    "# from sklearn.model_selection import train_test_split\n",
    "# from sklearn.metrics import accuracy_score, f1_score, precision_score , recall_score,  confusion_matrix, classification_report\n",
    "\n",
    "import warnings\n",
    "warnings.filterwarnings(action='ignore')\n",
    "\n",
    "#-------------------- 주피터 셀 넓이 조절 ---------------------\n",
    "from IPython.core.display import display, HTML\n",
    "display(HTML(\"<style>.container{width:100% !important;}</style>\"))\n",
    "pd.set_option('display.max_rows', 500)\n",
    "pd.set_option('display.max_columns', 500)\n",
    "pd.set_option('max_colwidth', None)\n",
    "\n",
    "sns.set()"
   ]
  },
  {
   "cell_type": "markdown",
   "id": "direct-dakota",
   "metadata": {},
   "source": [
    "# 데이터 로드"
   ]
  },
  {
   "cell_type": "code",
   "execution_count": 2,
   "id": "romance-picking",
   "metadata": {},
   "outputs": [
    {
     "data": {
      "text/html": [
       "<div>\n",
       "<style scoped>\n",
       "    .dataframe tbody tr th:only-of-type {\n",
       "        vertical-align: middle;\n",
       "    }\n",
       "\n",
       "    .dataframe tbody tr th {\n",
       "        vertical-align: top;\n",
       "    }\n",
       "\n",
       "    .dataframe thead th {\n",
       "        text-align: right;\n",
       "    }\n",
       "</style>\n",
       "<table border=\"1\" class=\"dataframe\">\n",
       "  <thead>\n",
       "    <tr style=\"text-align: right;\">\n",
       "      <th></th>\n",
       "      <th>InvoiceNo</th>\n",
       "      <th>StockCode</th>\n",
       "      <th>Description</th>\n",
       "      <th>Quantity</th>\n",
       "      <th>InvoiceDate</th>\n",
       "      <th>UnitPrice</th>\n",
       "      <th>CustomerID</th>\n",
       "      <th>Country</th>\n",
       "    </tr>\n",
       "  </thead>\n",
       "  <tbody>\n",
       "    <tr>\n",
       "      <th>0</th>\n",
       "      <td>536365</td>\n",
       "      <td>85123A</td>\n",
       "      <td>WHITE HANGING HEART T-LIGHT HOLDER</td>\n",
       "      <td>6</td>\n",
       "      <td>2010-12-01 8:26</td>\n",
       "      <td>2.55</td>\n",
       "      <td>17850.0</td>\n",
       "      <td>United Kingdom</td>\n",
       "    </tr>\n",
       "    <tr>\n",
       "      <th>1</th>\n",
       "      <td>536365</td>\n",
       "      <td>71053</td>\n",
       "      <td>WHITE METAL LANTERN</td>\n",
       "      <td>6</td>\n",
       "      <td>2010-12-01 8:26</td>\n",
       "      <td>3.39</td>\n",
       "      <td>17850.0</td>\n",
       "      <td>United Kingdom</td>\n",
       "    </tr>\n",
       "    <tr>\n",
       "      <th>2</th>\n",
       "      <td>536365</td>\n",
       "      <td>84406B</td>\n",
       "      <td>CREAM CUPID HEARTS COAT HANGER</td>\n",
       "      <td>8</td>\n",
       "      <td>2010-12-01 8:26</td>\n",
       "      <td>2.75</td>\n",
       "      <td>17850.0</td>\n",
       "      <td>United Kingdom</td>\n",
       "    </tr>\n",
       "    <tr>\n",
       "      <th>3</th>\n",
       "      <td>536365</td>\n",
       "      <td>84029G</td>\n",
       "      <td>KNITTED UNION FLAG HOT WATER BOTTLE</td>\n",
       "      <td>6</td>\n",
       "      <td>2010-12-01 8:26</td>\n",
       "      <td>3.39</td>\n",
       "      <td>17850.0</td>\n",
       "      <td>United Kingdom</td>\n",
       "    </tr>\n",
       "    <tr>\n",
       "      <th>4</th>\n",
       "      <td>536365</td>\n",
       "      <td>84029E</td>\n",
       "      <td>RED WOOLLY HOTTIE WHITE HEART.</td>\n",
       "      <td>6</td>\n",
       "      <td>2010-12-01 8:26</td>\n",
       "      <td>3.39</td>\n",
       "      <td>17850.0</td>\n",
       "      <td>United Kingdom</td>\n",
       "    </tr>\n",
       "  </tbody>\n",
       "</table>\n",
       "</div>"
      ],
      "text/plain": [
       "  InvoiceNo StockCode                          Description  Quantity  \\\n",
       "0    536365    85123A   WHITE HANGING HEART T-LIGHT HOLDER         6   \n",
       "1    536365     71053                  WHITE METAL LANTERN         6   \n",
       "2    536365    84406B       CREAM CUPID HEARTS COAT HANGER         8   \n",
       "3    536365    84029G  KNITTED UNION FLAG HOT WATER BOTTLE         6   \n",
       "4    536365    84029E       RED WOOLLY HOTTIE WHITE HEART.         6   \n",
       "\n",
       "       InvoiceDate  UnitPrice  CustomerID         Country  \n",
       "0  2010-12-01 8:26       2.55     17850.0  United Kingdom  \n",
       "1  2010-12-01 8:26       3.39     17850.0  United Kingdom  \n",
       "2  2010-12-01 8:26       2.75     17850.0  United Kingdom  \n",
       "3  2010-12-01 8:26       3.39     17850.0  United Kingdom  \n",
       "4  2010-12-01 8:26       3.39     17850.0  United Kingdom  "
      ]
     },
     "execution_count": 2,
     "metadata": {},
     "output_type": "execute_result"
    }
   ],
   "source": [
    "data = pd.read_csv(\"online_retail.csv\")\n",
    "data.head()"
   ]
  },
  {
   "cell_type": "code",
   "execution_count": 3,
   "id": "micro-department",
   "metadata": {},
   "outputs": [
    {
     "name": "stdout",
     "output_type": "stream",
     "text": [
      "<class 'pandas.core.frame.DataFrame'>\n",
      "RangeIndex: 541909 entries, 0 to 541908\n",
      "Data columns (total 8 columns):\n",
      " #   Column       Non-Null Count   Dtype  \n",
      "---  ------       --------------   -----  \n",
      " 0   InvoiceNo    541909 non-null  object \n",
      " 1   StockCode    541909 non-null  object \n",
      " 2   Description  540455 non-null  object \n",
      " 3   Quantity     541909 non-null  int64  \n",
      " 4   InvoiceDate  541909 non-null  object \n",
      " 5   UnitPrice    541909 non-null  float64\n",
      " 6   CustomerID   406829 non-null  float64\n",
      " 7   Country      541909 non-null  object \n",
      "dtypes: float64(2), int64(1), object(5)\n",
      "memory usage: 33.1+ MB\n"
     ]
    }
   ],
   "source": [
    "data.info()"
   ]
  },
  {
   "cell_type": "markdown",
   "id": "reverse-motorcycle",
   "metadata": {},
   "source": [
    "# 공통함수"
   ]
  },
  {
   "cell_type": "code",
   "execution_count": 4,
   "id": "weighted-practice",
   "metadata": {},
   "outputs": [],
   "source": [
    "def my_scatter(X, cluster_list=[2,3,4,5]):\n",
    "    n_cols = len(cluster_list)\n",
    "    fig, axs = plt.subplots(figsize=(4*n_cols, 4), nrows=1, ncols=n_cols)\n",
    "    \n",
    "    for idx, n_cluster in enumerate(cluster_list):\n",
    "        pca = PCA(n_components=2)\n",
    "        X_pca = pca.fit_transform(X)\n",
    "        pca_df = pd.DataFrame(X_pca, columns=['pc1','pc2'])\n",
    "    \n",
    "        model = KMeans(n_clusters=n_cluster, max_iter=500, random_state=0)\n",
    "        cluster_labels = model.fit_predict(pca_df)\n",
    "        pca_df['cluster_label']=cluster_labels\n",
    "\n",
    "        sil_score = silhouette_score(X, cluster_labels)\n",
    "        \n",
    "        unique_labels = pca_df['cluster_label'].unique()\n",
    "        markers=['o', 's', '^', 'x', '*']\n",
    "\n",
    "        # 클러스터링 결과값 별로 scatter plot 으로 시각화\n",
    "        for label in unique_labels:\n",
    "            label_df = pca_df[pca_df['cluster_label']==label]\n",
    "            if label == -1:\n",
    "                cluster_legend = 'Noise'\n",
    "            else :         \n",
    "                axs[idx].scatter(x=label_df['pc1'], y=label_df['pc2'],  label=str(label))  #edgecolor='k', marker=markers[label],\n",
    "\n",
    "            axs[idx].set_title(f'Cluster num:{n_cluster},\\n sil_socre: {sil_score:.4f}')    \n",
    "            axs[idx].legend()\n"
   ]
  },
  {
   "cell_type": "markdown",
   "id": "color-conditions",
   "metadata": {},
   "source": [
    "# 결측제거한 데이터"
   ]
  },
  {
   "cell_type": "code",
   "execution_count": 5,
   "id": "handed-synthetic",
   "metadata": {},
   "outputs": [
    {
     "name": "stdout",
     "output_type": "stream",
     "text": [
      "(541909, 8)\n"
     ]
    },
    {
     "data": {
      "text/plain": [
       "135080"
      ]
     },
     "execution_count": 5,
     "metadata": {},
     "output_type": "execute_result"
    }
   ],
   "source": [
    "print(data.shape)\n",
    "data['CustomerID'].isna().sum()"
   ]
  },
  {
   "cell_type": "code",
   "execution_count": 6,
   "id": "governing-aspect",
   "metadata": {},
   "outputs": [
    {
     "data": {
      "text/plain": [
       "Int64Index([   141,    154,    235,    236,    237,    238,    239,    240,\n",
       "               241,    939,\n",
       "            ...\n",
       "            540141, 540142, 540176, 540422, 540448, 540449, 541541, 541715,\n",
       "            541716, 541717],\n",
       "           dtype='int64', length=10624)"
      ]
     },
     "execution_count": 6,
     "metadata": {},
     "output_type": "execute_result"
    }
   ],
   "source": [
    "data[data['Quantity']<=0].index"
   ]
  },
  {
   "cell_type": "code",
   "execution_count": 7,
   "id": "normal-maldives",
   "metadata": {},
   "outputs": [
    {
     "data": {
      "text/plain": [
       "Int64Index([   622,   1970,   1971,   1972,   1987,   1988,   2024,   2025,\n",
       "              2026,   2406,\n",
       "            ...\n",
       "            535333, 535334, 535335, 535336, 536908, 536981, 538504, 538505,\n",
       "            538554, 538919],\n",
       "           dtype='int64', length=2517)"
      ]
     },
     "execution_count": 7,
     "metadata": {},
     "output_type": "execute_result"
    }
   ],
   "source": [
    "data[data['UnitPrice']<=0].index"
   ]
  },
  {
   "cell_type": "code",
   "execution_count": 8,
   "id": "introductory-fishing",
   "metadata": {},
   "outputs": [
    {
     "data": {
      "text/plain": [
       "array([141, 154, 235, 236, 237], dtype=int64)"
      ]
     },
     "execution_count": 8,
     "metadata": {},
     "output_type": "execute_result"
    }
   ],
   "source": [
    "null_idx = data[(data['CustomerID'].isna()) | (data['Quantity']<=0) | (data['UnitPrice']<=0) ].index.values\n",
    "null_idx[:5]"
   ]
  },
  {
   "cell_type": "code",
   "execution_count": 9,
   "id": "infrared-islam",
   "metadata": {},
   "outputs": [],
   "source": [
    "df = data.drop(null_idx, axis=0)"
   ]
  },
  {
   "cell_type": "code",
   "execution_count": 10,
   "id": "powerful-yugoslavia",
   "metadata": {},
   "outputs": [
    {
     "name": "stdout",
     "output_type": "stream",
     "text": [
      "(397884, 8)\n",
      "<class 'pandas.core.frame.DataFrame'>\n",
      "Int64Index: 397884 entries, 0 to 541908\n",
      "Data columns (total 8 columns):\n",
      " #   Column       Non-Null Count   Dtype  \n",
      "---  ------       --------------   -----  \n",
      " 0   InvoiceNo    397884 non-null  object \n",
      " 1   StockCode    397884 non-null  object \n",
      " 2   Description  397884 non-null  object \n",
      " 3   Quantity     397884 non-null  int64  \n",
      " 4   InvoiceDate  397884 non-null  object \n",
      " 5   UnitPrice    397884 non-null  float64\n",
      " 6   CustomerID   397884 non-null  float64\n",
      " 7   Country      397884 non-null  object \n",
      "dtypes: float64(2), int64(1), object(5)\n",
      "memory usage: 27.3+ MB\n"
     ]
    }
   ],
   "source": [
    "print(df.shape)\n",
    "df.info()"
   ]
  },
  {
   "cell_type": "code",
   "execution_count": 11,
   "id": "amino-finnish",
   "metadata": {},
   "outputs": [],
   "source": [
    "df['CustomerID'] = df['CustomerID'].astype(int)\n",
    "df['InvoiceDate'] = pd.to_datetime(df['InvoiceDate'])"
   ]
  },
  {
   "cell_type": "code",
   "execution_count": 12,
   "id": "interim-appendix",
   "metadata": {},
   "outputs": [
    {
     "name": "stdout",
     "output_type": "stream",
     "text": [
      "<class 'pandas.core.frame.DataFrame'>\n",
      "Int64Index: 397884 entries, 0 to 541908\n",
      "Data columns (total 8 columns):\n",
      " #   Column       Non-Null Count   Dtype         \n",
      "---  ------       --------------   -----         \n",
      " 0   InvoiceNo    397884 non-null  object        \n",
      " 1   StockCode    397884 non-null  object        \n",
      " 2   Description  397884 non-null  object        \n",
      " 3   Quantity     397884 non-null  int64         \n",
      " 4   InvoiceDate  397884 non-null  datetime64[ns]\n",
      " 5   UnitPrice    397884 non-null  float64       \n",
      " 6   CustomerID   397884 non-null  int32         \n",
      " 7   Country      397884 non-null  object        \n",
      "dtypes: datetime64[ns](1), float64(1), int32(1), int64(1), object(4)\n",
      "memory usage: 25.8+ MB\n"
     ]
    }
   ],
   "source": [
    "df.info()"
   ]
  },
  {
   "cell_type": "code",
   "execution_count": 13,
   "id": "sunset-password",
   "metadata": {},
   "outputs": [
    {
     "name": "stdout",
     "output_type": "stream",
     "text": [
      "United Kingdom          354321\n",
      "Germany                   9040\n",
      "France                    8341\n",
      "EIRE                      7236\n",
      "Spain                     2484\n",
      "Netherlands               2359\n",
      "Belgium                   2031\n",
      "Switzerland               1841\n",
      "Portugal                  1462\n",
      "Australia                 1182\n",
      "Norway                    1071\n",
      "Italy                      758\n",
      "Channel Islands            748\n",
      "Finland                    685\n",
      "Cyprus                     614\n",
      "Sweden                     451\n",
      "Austria                    398\n",
      "Denmark                    380\n",
      "Poland                     330\n",
      "Japan                      321\n",
      "Israel                     248\n",
      "Unspecified                244\n",
      "Singapore                  222\n",
      "Iceland                    182\n",
      "USA                        179\n",
      "Canada                     151\n",
      "Greece                     145\n",
      "Malta                      112\n",
      "United Arab Emirates        68\n",
      "European Community          60\n",
      "RSA                         57\n",
      "Lebanon                     45\n",
      "Lithuania                   35\n",
      "Brazil                      32\n",
      "Czech Republic              25\n",
      "Bahrain                     17\n",
      "Saudi Arabia                 9\n",
      "Name: Country, dtype: int64\n"
     ]
    },
    {
     "data": {
      "text/plain": [
       "<AxesSubplot:>"
      ]
     },
     "execution_count": 13,
     "metadata": {},
     "output_type": "execute_result"
    },
    {
     "data": {
      "image/png": "[encoded data removed]",
      "text/plain": [
       "<Figure size 432x288 with 1 Axes>"
      ]
     },
     "metadata": {},
     "output_type": "display_data"
    }
   ],
   "source": [
    "print(df['Country'].value_counts())\n",
    "df['Country'].hist()"
   ]
  },
  {
   "cell_type": "code",
   "execution_count": 17,
   "id": "wrong-decision",
   "metadata": {},
   "outputs": [],
   "source": [
    "df = df[df['Country']=='United Kingdom'].copy()"
   ]
  },
  {
   "cell_type": "markdown",
   "id": "herbal-pendant",
   "metadata": {},
   "source": [
    "# RFM 기반 데이터 가공\n",
    "* Recency :   InvoiceDate.max() \n",
    "* Frequency : InvoiceNo.count()\n",
    "* Monetary : (Quantity*UnitPrice).sum()"
   ]
  },
  {
   "cell_type": "markdown",
   "id": "dying-department",
   "metadata": {},
   "source": [
    "## Recency "
   ]
  },
  {
   "cell_type": "code",
   "execution_count": 18,
   "id": "persistent-schema",
   "metadata": {},
   "outputs": [
    {
     "data": {
      "text/plain": [
       "(Timestamp('2011-12-09 12:49:00'), Timestamp('2010-12-01 08:26:00'))"
      ]
     },
     "execution_count": 18,
     "metadata": {},
     "output_type": "execute_result"
    }
   ],
   "source": [
    "df.InvoiceDate.max(),  df.InvoiceDate.min()"
   ]
  },
  {
   "cell_type": "code",
   "execution_count": 19,
   "id": "distinguished-treasurer",
   "metadata": {},
   "outputs": [
    {
     "name": "stdout",
     "output_type": "stream",
     "text": [
      "(354321, 10)\n"
     ]
    },
    {
     "data": {
      "text/html": [
       "<div>\n",
       "<style scoped>\n",
       "    .dataframe tbody tr th:only-of-type {\n",
       "        vertical-align: middle;\n",
       "    }\n",
       "\n",
       "    .dataframe tbody tr th {\n",
       "        vertical-align: top;\n",
       "    }\n",
       "\n",
       "    .dataframe thead th {\n",
       "        text-align: right;\n",
       "    }\n",
       "</style>\n",
       "<table border=\"1\" class=\"dataframe\">\n",
       "  <thead>\n",
       "    <tr style=\"text-align: right;\">\n",
       "      <th></th>\n",
       "      <th>InvoiceNo</th>\n",
       "      <th>StockCode</th>\n",
       "      <th>Description</th>\n",
       "      <th>Quantity</th>\n",
       "      <th>InvoiceDate</th>\n",
       "      <th>UnitPrice</th>\n",
       "      <th>CustomerID</th>\n",
       "      <th>Country</th>\n",
       "      <th>rday</th>\n",
       "      <th>rday2</th>\n",
       "    </tr>\n",
       "  </thead>\n",
       "  <tbody>\n",
       "    <tr>\n",
       "      <th>0</th>\n",
       "      <td>536365</td>\n",
       "      <td>85123A</td>\n",
       "      <td>WHITE HANGING HEART T-LIGHT HOLDER</td>\n",
       "      <td>6</td>\n",
       "      <td>2010-12-01 08:26:00</td>\n",
       "      <td>2.55</td>\n",
       "      <td>17850</td>\n",
       "      <td>United Kingdom</td>\n",
       "      <td>373 days 15:34:00</td>\n",
       "      <td>374</td>\n",
       "    </tr>\n",
       "    <tr>\n",
       "      <th>1</th>\n",
       "      <td>536365</td>\n",
       "      <td>71053</td>\n",
       "      <td>WHITE METAL LANTERN</td>\n",
       "      <td>6</td>\n",
       "      <td>2010-12-01 08:26:00</td>\n",
       "      <td>3.39</td>\n",
       "      <td>17850</td>\n",
       "      <td>United Kingdom</td>\n",
       "      <td>373 days 15:34:00</td>\n",
       "      <td>374</td>\n",
       "    </tr>\n",
       "    <tr>\n",
       "      <th>2</th>\n",
       "      <td>536365</td>\n",
       "      <td>84406B</td>\n",
       "      <td>CREAM CUPID HEARTS COAT HANGER</td>\n",
       "      <td>8</td>\n",
       "      <td>2010-12-01 08:26:00</td>\n",
       "      <td>2.75</td>\n",
       "      <td>17850</td>\n",
       "      <td>United Kingdom</td>\n",
       "      <td>373 days 15:34:00</td>\n",
       "      <td>374</td>\n",
       "    </tr>\n",
       "  </tbody>\n",
       "</table>\n",
       "</div>"
      ],
      "text/plain": [
       "  InvoiceNo StockCode                         Description  Quantity  \\\n",
       "0    536365    85123A  WHITE HANGING HEART T-LIGHT HOLDER         6   \n",
       "1    536365     71053                 WHITE METAL LANTERN         6   \n",
       "2    536365    84406B      CREAM CUPID HEARTS COAT HANGER         8   \n",
       "\n",
       "          InvoiceDate  UnitPrice  CustomerID         Country  \\\n",
       "0 2010-12-01 08:26:00       2.55       17850  United Kingdom   \n",
       "1 2010-12-01 08:26:00       3.39       17850  United Kingdom   \n",
       "2 2010-12-01 08:26:00       2.75       17850  United Kingdom   \n",
       "\n",
       "               rday  rday2  \n",
       "0 373 days 15:34:00    374  \n",
       "1 373 days 15:34:00    374  \n",
       "2 373 days 15:34:00    374  "
      ]
     },
     "execution_count": 19,
     "metadata": {},
     "output_type": "execute_result"
    }
   ],
   "source": [
    "import datetime as dt\n",
    "\n",
    "df['rday'] = dt.datetime(2011,12,10) - df['InvoiceDate']\n",
    "df['rday2'] = df['rday'].apply(lambda x: x.days+1)\n",
    "print(df.shape)\n",
    "df.head(3)"
   ]
  },
  {
   "cell_type": "code",
   "execution_count": 20,
   "id": "criminal-algeria",
   "metadata": {},
   "outputs": [],
   "source": [
    "df.drop(['InvoiceDate', 'rday'], axis=1, inplace=True)"
   ]
  },
  {
   "cell_type": "code",
   "execution_count": 21,
   "id": "bridal-republican",
   "metadata": {},
   "outputs": [
    {
     "data": {
      "text/html": [
       "<div>\n",
       "<style scoped>\n",
       "    .dataframe tbody tr th:only-of-type {\n",
       "        vertical-align: middle;\n",
       "    }\n",
       "\n",
       "    .dataframe tbody tr th {\n",
       "        vertical-align: top;\n",
       "    }\n",
       "\n",
       "    .dataframe thead th {\n",
       "        text-align: right;\n",
       "    }\n",
       "</style>\n",
       "<table border=\"1\" class=\"dataframe\">\n",
       "  <thead>\n",
       "    <tr style=\"text-align: right;\">\n",
       "      <th></th>\n",
       "      <th>InvoiceNo</th>\n",
       "      <th>StockCode</th>\n",
       "      <th>Description</th>\n",
       "      <th>Quantity</th>\n",
       "      <th>UnitPrice</th>\n",
       "      <th>CustomerID</th>\n",
       "      <th>Country</th>\n",
       "      <th>rday2</th>\n",
       "    </tr>\n",
       "  </thead>\n",
       "  <tbody>\n",
       "    <tr>\n",
       "      <th>0</th>\n",
       "      <td>536365</td>\n",
       "      <td>85123A</td>\n",
       "      <td>WHITE HANGING HEART T-LIGHT HOLDER</td>\n",
       "      <td>6</td>\n",
       "      <td>2.55</td>\n",
       "      <td>17850</td>\n",
       "      <td>United Kingdom</td>\n",
       "      <td>374</td>\n",
       "    </tr>\n",
       "    <tr>\n",
       "      <th>1</th>\n",
       "      <td>536365</td>\n",
       "      <td>71053</td>\n",
       "      <td>WHITE METAL LANTERN</td>\n",
       "      <td>6</td>\n",
       "      <td>3.39</td>\n",
       "      <td>17850</td>\n",
       "      <td>United Kingdom</td>\n",
       "      <td>374</td>\n",
       "    </tr>\n",
       "    <tr>\n",
       "      <th>2</th>\n",
       "      <td>536365</td>\n",
       "      <td>84406B</td>\n",
       "      <td>CREAM CUPID HEARTS COAT HANGER</td>\n",
       "      <td>8</td>\n",
       "      <td>2.75</td>\n",
       "      <td>17850</td>\n",
       "      <td>United Kingdom</td>\n",
       "      <td>374</td>\n",
       "    </tr>\n",
       "  </tbody>\n",
       "</table>\n",
       "</div>"
      ],
      "text/plain": [
       "  InvoiceNo StockCode                         Description  Quantity  \\\n",
       "0    536365    85123A  WHITE HANGING HEART T-LIGHT HOLDER         6   \n",
       "1    536365     71053                 WHITE METAL LANTERN         6   \n",
       "2    536365    84406B      CREAM CUPID HEARTS COAT HANGER         8   \n",
       "\n",
       "   UnitPrice  CustomerID         Country  rday2  \n",
       "0       2.55       17850  United Kingdom    374  \n",
       "1       3.39       17850  United Kingdom    374  \n",
       "2       2.75       17850  United Kingdom    374  "
      ]
     },
     "execution_count": 21,
     "metadata": {},
     "output_type": "execute_result"
    }
   ],
   "source": [
    "df.head(3)"
   ]
  },
  {
   "cell_type": "markdown",
   "id": "coordinated-kidney",
   "metadata": {},
   "source": [
    "## Frequency"
   ]
  },
  {
   "cell_type": "code",
   "execution_count": 22,
   "id": "numerical-rough",
   "metadata": {},
   "outputs": [
    {
     "data": {
      "text/plain": [
       "InvoiceNo  StockCode\n",
       "536365     21730        1\n",
       "           22752        1\n",
       "           71053        1\n",
       "           84029E       1\n",
       "           84029G       1\n",
       "Name: InvoiceNo, dtype: int64"
      ]
     },
     "execution_count": 22,
     "metadata": {},
     "output_type": "execute_result"
    }
   ],
   "source": [
    "df.groupby(['InvoiceNo','StockCode'])['InvoiceNo'].count()[:5]"
   ]
  },
  {
   "cell_type": "markdown",
   "id": "moved-financing",
   "metadata": {},
   "source": [
    "## Momentory\n",
    "* Quantity * UnitPrice"
   ]
  },
  {
   "cell_type": "code",
   "execution_count": 23,
   "id": "colonial-piece",
   "metadata": {},
   "outputs": [],
   "source": [
    "df['PC_M'] = df['Quantity'] * df['UnitPrice']"
   ]
  },
  {
   "cell_type": "markdown",
   "id": "documented-divide",
   "metadata": {},
   "source": [
    "## RFM DataFrame"
   ]
  },
  {
   "cell_type": "code",
   "execution_count": 24,
   "id": "tracked-chrome",
   "metadata": {},
   "outputs": [],
   "source": [
    "df = df.groupby('CustomerID').agg({'rday2': 'max', 'InvoiceNo': 'count', 'PC_M':'sum'})\n",
    "df = df.rename(columns = {'rday2':'PC_R', 'InvoiceNo':'PC_F', 'PC_M':'PC_M'})\n",
    "df = df.reset_index()"
   ]
  },
  {
   "cell_type": "code",
   "execution_count": 25,
   "id": "attached-leader",
   "metadata": {},
   "outputs": [
    {
     "name": "stdout",
     "output_type": "stream",
     "text": [
      "(3920, 4)\n"
     ]
    },
    {
     "data": {
      "text/html": [
       "<div>\n",
       "<style scoped>\n",
       "    .dataframe tbody tr th:only-of-type {\n",
       "        vertical-align: middle;\n",
       "    }\n",
       "\n",
       "    .dataframe tbody tr th {\n",
       "        vertical-align: top;\n",
       "    }\n",
       "\n",
       "    .dataframe thead th {\n",
       "        text-align: right;\n",
       "    }\n",
       "</style>\n",
       "<table border=\"1\" class=\"dataframe\">\n",
       "  <thead>\n",
       "    <tr style=\"text-align: right;\">\n",
       "      <th></th>\n",
       "      <th>CustomerID</th>\n",
       "      <th>PC_R</th>\n",
       "      <th>PC_F</th>\n",
       "      <th>PC_M</th>\n",
       "    </tr>\n",
       "  </thead>\n",
       "  <tbody>\n",
       "    <tr>\n",
       "      <th>0</th>\n",
       "      <td>12346</td>\n",
       "      <td>326</td>\n",
       "      <td>1</td>\n",
       "      <td>77183.60</td>\n",
       "    </tr>\n",
       "    <tr>\n",
       "      <th>1</th>\n",
       "      <td>12747</td>\n",
       "      <td>370</td>\n",
       "      <td>103</td>\n",
       "      <td>4196.01</td>\n",
       "    </tr>\n",
       "    <tr>\n",
       "      <th>2</th>\n",
       "      <td>12748</td>\n",
       "      <td>374</td>\n",
       "      <td>4595</td>\n",
       "      <td>33719.73</td>\n",
       "    </tr>\n",
       "  </tbody>\n",
       "</table>\n",
       "</div>"
      ],
      "text/plain": [
       "   CustomerID  PC_R  PC_F      PC_M\n",
       "0       12346   326     1  77183.60\n",
       "1       12747   370   103   4196.01\n",
       "2       12748   374  4595  33719.73"
      ]
     },
     "execution_count": 25,
     "metadata": {},
     "output_type": "execute_result"
    }
   ],
   "source": [
    "print(df.shape)\n",
    "df.head(3)"
   ]
  },
  {
   "cell_type": "code",
   "execution_count": 26,
   "id": "amber-director",
   "metadata": {},
   "outputs": [
    {
     "name": "stdout",
     "output_type": "stream",
     "text": [
      "<class 'pandas.core.frame.DataFrame'>\n",
      "RangeIndex: 3920 entries, 0 to 3919\n",
      "Data columns (total 4 columns):\n",
      " #   Column      Non-Null Count  Dtype  \n",
      "---  ------      --------------  -----  \n",
      " 0   CustomerID  3920 non-null   int64  \n",
      " 1   PC_R        3920 non-null   int64  \n",
      " 2   PC_F        3920 non-null   int64  \n",
      " 3   PC_M        3920 non-null   float64\n",
      "dtypes: float64(1), int64(3)\n",
      "memory usage: 122.6 KB\n"
     ]
    }
   ],
   "source": [
    "df.info()"
   ]
  },
  {
   "cell_type": "code",
   "execution_count": 27,
   "id": "alternative-company",
   "metadata": {},
   "outputs": [
    {
     "data": {
      "text/plain": [
       "array([[<AxesSubplot:title={'center':'PC_R'}>,\n",
       "        <AxesSubplot:title={'center':'PC_F'}>],\n",
       "       [<AxesSubplot:title={'center':'PC_M'}>, <AxesSubplot:>]],\n",
       "      dtype=object)"
      ]
     },
     "execution_count": 27,
     "metadata": {},
     "output_type": "execute_result"
    },
    {
     "data": {
      "image/png": "[encoded data removed]",
      "text/plain": [
       "<Figure size 432x288 with 4 Axes>"
      ]
     },
     "metadata": {},
     "output_type": "display_data"
    }
   ],
   "source": [
    "df[['PC_R','PC_F','PC_M']].hist()"
   ]
  },
  {
   "cell_type": "code",
   "execution_count": 28,
   "id": "fitting-beads",
   "metadata": {},
   "outputs": [
    {
     "data": {
      "text/html": [
       "<div>\n",
       "<style scoped>\n",
       "    .dataframe tbody tr th:only-of-type {\n",
       "        vertical-align: middle;\n",
       "    }\n",
       "\n",
       "    .dataframe tbody tr th {\n",
       "        vertical-align: top;\n",
       "    }\n",
       "\n",
       "    .dataframe thead th {\n",
       "        text-align: right;\n",
       "    }\n",
       "</style>\n",
       "<table border=\"1\" class=\"dataframe\">\n",
       "  <thead>\n",
       "    <tr style=\"text-align: right;\">\n",
       "      <th></th>\n",
       "      <th>CustomerID</th>\n",
       "      <th>PC_R</th>\n",
       "      <th>PC_F</th>\n",
       "      <th>PC_M</th>\n",
       "    </tr>\n",
       "  </thead>\n",
       "  <tbody>\n",
       "    <tr>\n",
       "      <th>count</th>\n",
       "      <td>3920.000000</td>\n",
       "      <td>3920.000000</td>\n",
       "      <td>3920.000000</td>\n",
       "      <td>3920.000000</td>\n",
       "    </tr>\n",
       "    <tr>\n",
       "      <th>mean</th>\n",
       "      <td>15562.059694</td>\n",
       "      <td>224.085714</td>\n",
       "      <td>90.388010</td>\n",
       "      <td>1864.385601</td>\n",
       "    </tr>\n",
       "    <tr>\n",
       "      <th>std</th>\n",
       "      <td>1576.594671</td>\n",
       "      <td>118.037855</td>\n",
       "      <td>217.808385</td>\n",
       "      <td>7482.817477</td>\n",
       "    </tr>\n",
       "    <tr>\n",
       "      <th>min</th>\n",
       "      <td>12346.000000</td>\n",
       "      <td>2.000000</td>\n",
       "      <td>1.000000</td>\n",
       "      <td>3.750000</td>\n",
       "    </tr>\n",
       "    <tr>\n",
       "      <th>25%</th>\n",
       "      <td>14208.750000</td>\n",
       "      <td>113.000000</td>\n",
       "      <td>17.000000</td>\n",
       "      <td>300.280000</td>\n",
       "    </tr>\n",
       "    <tr>\n",
       "      <th>50%</th>\n",
       "      <td>15569.500000</td>\n",
       "      <td>250.000000</td>\n",
       "      <td>41.000000</td>\n",
       "      <td>652.280000</td>\n",
       "    </tr>\n",
       "    <tr>\n",
       "      <th>75%</th>\n",
       "      <td>16913.250000</td>\n",
       "      <td>328.000000</td>\n",
       "      <td>99.250000</td>\n",
       "      <td>1576.585000</td>\n",
       "    </tr>\n",
       "    <tr>\n",
       "      <th>max</th>\n",
       "      <td>18287.000000</td>\n",
       "      <td>374.000000</td>\n",
       "      <td>7847.000000</td>\n",
       "      <td>259657.300000</td>\n",
       "    </tr>\n",
       "  </tbody>\n",
       "</table>\n",
       "</div>"
      ],
      "text/plain": [
       "         CustomerID         PC_R         PC_F           PC_M\n",
       "count   3920.000000  3920.000000  3920.000000    3920.000000\n",
       "mean   15562.059694   224.085714    90.388010    1864.385601\n",
       "std     1576.594671   118.037855   217.808385    7482.817477\n",
       "min    12346.000000     2.000000     1.000000       3.750000\n",
       "25%    14208.750000   113.000000    17.000000     300.280000\n",
       "50%    15569.500000   250.000000    41.000000     652.280000\n",
       "75%    16913.250000   328.000000    99.250000    1576.585000\n",
       "max    18287.000000   374.000000  7847.000000  259657.300000"
      ]
     },
     "execution_count": 28,
     "metadata": {},
     "output_type": "execute_result"
    }
   ],
   "source": [
    "df.describe()"
   ]
  },
  {
   "cell_type": "markdown",
   "id": "naval-machinery",
   "metadata": {},
   "source": [
    "# KMeans 군집화"
   ]
  },
  {
   "cell_type": "code",
   "execution_count": 29,
   "id": "british-senate",
   "metadata": {},
   "outputs": [
    {
     "name": "stdout",
     "output_type": "stream",
     "text": [
      "실루엣 스코어는 : 0.957\n"
     ]
    }
   ],
   "source": [
    "from sklearn.preprocessing import StandardScaler\n",
    "from sklearn.cluster import KMeans\n",
    "from sklearn.metrics import silhouette_score, silhouette_samples\n",
    "\n",
    "X = df[['PC_R','PC_F','PC_M']]\n",
    "\n",
    "model = KMeans(n_clusters=3, random_state=0)\n",
    "model.fit(X)\n",
    "pred = model.predict(X)\n",
    "df['cluster_label'] = pred\n",
    "\n",
    "print('실루엣 스코어는 : {0:.3f}'.format(silhouette_score(X, pred)))"
   ]
  },
  {
   "cell_type": "code",
   "execution_count": 30,
   "id": "emerging-woman",
   "metadata": {},
   "outputs": [
    {
     "data": {
      "image/png": "[encoded data removed]",
      "text/plain": [
       "<Figure size 1152x288 with 4 Axes>"
      ]
     },
     "metadata": {},
     "output_type": "display_data"
    }
   ],
   "source": [
    "my_scatter(X, cluster_list=[2,3,4,5])"
   ]
  },
  {
   "cell_type": "markdown",
   "id": "valid-duration",
   "metadata": {},
   "source": [
    "# 스케일링"
   ]
  },
  {
   "cell_type": "code",
   "execution_count": 31,
   "id": "moderate-indicator",
   "metadata": {},
   "outputs": [
    {
     "name": "stdout",
     "output_type": "stream",
     "text": [
      "실루엣 스코어는 : 0.530\n"
     ]
    }
   ],
   "source": [
    "X_scale = StandardScaler().fit_transform(X)\n",
    "model = KMeans(n_clusters=3, random_state=0)\n",
    "model.fit(X_scale)\n",
    "pred = model.predict(X_scale)\n",
    "df['cluster_label'] = pred\n",
    "\n",
    "print('실루엣 스코어는 : {0:.3f}'.format(silhouette_score(X_scale, pred)))"
   ]
  },
  {
   "cell_type": "code",
   "execution_count": 32,
   "id": "interior-offset",
   "metadata": {},
   "outputs": [
    {
     "data": {
      "image/png": "[encoded data removed]",
      "text/plain": [
       "<Figure size 1152x288 with 4 Axes>"
      ]
     },
     "metadata": {},
     "output_type": "display_data"
    }
   ],
   "source": [
    "my_scatter(X_scale, cluster_list=[2,3,4,5])"
   ]
  },
  {
   "cell_type": "markdown",
   "id": "terminal-bracket",
   "metadata": {},
   "source": [
    "# 로그 스케일링"
   ]
  },
  {
   "cell_type": "code",
   "execution_count": 33,
   "id": "funny-lincoln",
   "metadata": {
    "tags": []
   },
   "outputs": [
    {
     "name": "stdout",
     "output_type": "stream",
     "text": [
      "실루엣 스코어 : 0.391\n"
     ]
    }
   ],
   "source": [
    "df['PC_R_log'] = np.log1p(df['PC_R'])\n",
    "df['PC_F_log'] = np.log1p(df['PC_F'])\n",
    "df['PC_M_log'] = np.log1p(df['PC_M'])\n",
    "\n",
    "X_log = df[['PC_R_log','PC_F_log','PC_M_log']]\n",
    "X_log_scale = StandardScaler().fit_transform(X_log)\n",
    "model = KMeans(n_clusters=3, random_state=0)\n",
    "model.fit(X_log_scale)\n",
    "pred = model.predict(X_log_scale)\n",
    "df['cluster_label'] = pred\n",
    "\n",
    "print('실루엣 스코어 : {0:.3f}'.format(silhouette_score(X_log_scale, pred)))"
   ]
  },
  {
   "cell_type": "code",
   "execution_count": 34,
   "id": "together-ordinance",
   "metadata": {},
   "outputs": [
    {
     "data": {
      "image/png": "[encoded data removed]",
      "text/plain": [
       "<Figure size 1152x288 with 4 Axes>"
      ]
     },
     "metadata": {},
     "output_type": "display_data"
    }
   ],
   "source": [
    "my_scatter(X_log_scale, cluster_list=[2,3,4,5])"
   ]
  },
  {
   "cell_type": "code",
   "execution_count": null,
   "id": "endless-habitat",
   "metadata": {},
   "outputs": [],
   "source": []
  },
  {
   "cell_type": "markdown",
   "id": "eight-compound",
   "metadata": {},
   "source": [
    "## RFM 개별 군집화"
   ]
  },
  {
   "cell_type": "code",
   "execution_count": 53,
   "id": "solved-rebel",
   "metadata": {},
   "outputs": [
    {
     "data": {
      "text/html": [
       "<div>\n",
       "<style scoped>\n",
       "    .dataframe tbody tr th:only-of-type {\n",
       "        vertical-align: middle;\n",
       "    }\n",
       "\n",
       "    .dataframe tbody tr th {\n",
       "        vertical-align: top;\n",
       "    }\n",
       "\n",
       "    .dataframe thead th {\n",
       "        text-align: right;\n",
       "    }\n",
       "</style>\n",
       "<table border=\"1\" class=\"dataframe\">\n",
       "  <thead>\n",
       "    <tr style=\"text-align: right;\">\n",
       "      <th></th>\n",
       "      <th>R</th>\n",
       "      <th>F</th>\n",
       "      <th>M</th>\n",
       "      <th>CustomerID</th>\n",
       "    </tr>\n",
       "  </thead>\n",
       "  <tbody>\n",
       "    <tr>\n",
       "      <th>0</th>\n",
       "      <td>0.722131</td>\n",
       "      <td>-2.403387</td>\n",
       "      <td>3.785914</td>\n",
       "      <td>12346</td>\n",
       "    </tr>\n",
       "    <tr>\n",
       "      <th>1</th>\n",
       "      <td>0.866842</td>\n",
       "      <td>0.732578</td>\n",
       "      <td>1.444280</td>\n",
       "      <td>12747</td>\n",
       "    </tr>\n",
       "    <tr>\n",
       "      <th>2</th>\n",
       "      <td>0.879135</td>\n",
       "      <td>3.739419</td>\n",
       "      <td>3.119983</td>\n",
       "      <td>12748</td>\n",
       "    </tr>\n",
       "    <tr>\n",
       "      <th>3</th>\n",
       "      <td>0.241462</td>\n",
       "      <td>1.251577</td>\n",
       "      <td>1.423880</td>\n",
       "      <td>12749</td>\n",
       "    </tr>\n",
       "    <tr>\n",
       "      <th>4</th>\n",
       "      <td>0.725631</td>\n",
       "      <td>0.296025</td>\n",
       "      <td>0.243880</td>\n",
       "      <td>12820</td>\n",
       "    </tr>\n",
       "  </tbody>\n",
       "</table>\n",
       "</div>"
      ],
      "text/plain": [
       "          R         F         M  CustomerID\n",
       "0  0.722131 -2.403387  3.785914       12346\n",
       "1  0.866842  0.732578  1.444280       12747\n",
       "2  0.879135  3.739419  3.119983       12748\n",
       "3  0.241462  1.251577  1.423880       12749\n",
       "4  0.725631  0.296025  0.243880       12820"
      ]
     },
     "execution_count": 53,
     "metadata": {},
     "output_type": "execute_result"
    }
   ],
   "source": [
    "log_df = pd.DataFrame(X_log_scale, columns=['R','F','M'])\n",
    "log_df['CustomerID'] = df['CustomerID']\n",
    "log_df.head()"
   ]
  },
  {
   "cell_type": "code",
   "execution_count": 58,
   "id": "angry-planning",
   "metadata": {},
   "outputs": [
    {
     "data": {
      "text/plain": [
       "array([[<AxesSubplot:title={'center':'R'}>,\n",
       "        <AxesSubplot:title={'center':'F'}>],\n",
       "       [<AxesSubplot:title={'center':'M'}>,\n",
       "        <AxesSubplot:title={'center':'CustomerID'}>]], dtype=object)"
      ]
     },
     "execution_count": 58,
     "metadata": {},
     "output_type": "execute_result"
    },
    {
     "data": {
      "image/png": "[encoded data removed]",
      "text/plain": [
       "<Figure size 432x288 with 4 Axes>"
      ]
     },
     "metadata": {},
     "output_type": "display_data"
    }
   ],
   "source": [
    "log_df.hist()"
   ]
  },
  {
   "cell_type": "code",
   "execution_count": 82,
   "id": "neither-champion",
   "metadata": {},
   "outputs": [
    {
     "data": {
      "image/png": "[encoded data removed]",
      "text/plain": [
       "<Figure size 360x216 with 1 Axes>"
      ]
     },
     "metadata": {},
     "output_type": "display_data"
    },
    {
     "data": {
      "image/png": "[encoded data removed]",
      "text/plain": [
       "<Figure size 360x216 with 1 Axes>"
      ]
     },
     "metadata": {},
     "output_type": "display_data"
    },
    {
     "data": {
      "image/png": "[encoded data removed]",
      "text/plain": [
       "<Figure size 360x216 with 1 Axes>"
      ]
     },
     "metadata": {},
     "output_type": "display_data"
    }
   ],
   "source": [
    "for col in ['R','F','M']:\n",
    "    inertia_list = []\n",
    "    for k in range(1, 15):\n",
    "        dmodel = KMeans(n_clusters=k)\n",
    "        cluster_label = dmodel.fit_predict(np.array(log_df[col]).reshape(-1, 1))\n",
    "        inertia_list.append(dmodel.inertia_)\n",
    "\n",
    "    plt.figure(figsize=(5, 3))\n",
    "    plt.plot(range(1, 15), inertia_list)\n",
    "    plt.ylabel(\"Inertia\")\n",
    "    plt.xlabel(\"n_clusters\")\n",
    "    plt.title(col)"
   ]
  },
  {
   "cell_type": "code",
   "execution_count": 85,
   "id": "falling-delta",
   "metadata": {},
   "outputs": [],
   "source": [
    "for col in ['R','F','M']:\n",
    "    inertia_list = []\n",
    "    dmodel = KMeans(n_clusters=4)\n",
    "    cluster_label = dmodel.fit_predict(np.array(log_df[col]).reshape(-1, 1))\n",
    "    log_df[\"cluser_label\"+col] = cluster_label\n",
    "    inertia_list.append(dmodel.inertia_)"
   ]
  },
  {
   "cell_type": "code",
   "execution_count": 86,
   "id": "through-gender",
   "metadata": {},
   "outputs": [
    {
     "data": {
      "text/html": [
       "<div>\n",
       "<style scoped>\n",
       "    .dataframe tbody tr th:only-of-type {\n",
       "        vertical-align: middle;\n",
       "    }\n",
       "\n",
       "    .dataframe tbody tr th {\n",
       "        vertical-align: top;\n",
       "    }\n",
       "\n",
       "    .dataframe thead th {\n",
       "        text-align: right;\n",
       "    }\n",
       "</style>\n",
       "<table border=\"1\" class=\"dataframe\">\n",
       "  <thead>\n",
       "    <tr style=\"text-align: right;\">\n",
       "      <th></th>\n",
       "      <th>R</th>\n",
       "      <th>F</th>\n",
       "      <th>M</th>\n",
       "      <th>CustomerID</th>\n",
       "      <th>cluser_labelR</th>\n",
       "      <th>cluser_labelF</th>\n",
       "      <th>cluser_labelM</th>\n",
       "      <th>RFM</th>\n",
       "    </tr>\n",
       "  </thead>\n",
       "  <tbody>\n",
       "    <tr>\n",
       "      <th>0</th>\n",
       "      <td>0.722131</td>\n",
       "      <td>-2.403387</td>\n",
       "      <td>3.785914</td>\n",
       "      <td>12346</td>\n",
       "      <td>0</td>\n",
       "      <td>0</td>\n",
       "      <td>0</td>\n",
       "      <td>11</td>\n",
       "    </tr>\n",
       "    <tr>\n",
       "      <th>1</th>\n",
       "      <td>0.866842</td>\n",
       "      <td>0.732578</td>\n",
       "      <td>1.444280</td>\n",
       "      <td>12747</td>\n",
       "      <td>0</td>\n",
       "      <td>1</td>\n",
       "      <td>0</td>\n",
       "      <td>10</td>\n",
       "    </tr>\n",
       "    <tr>\n",
       "      <th>2</th>\n",
       "      <td>0.879135</td>\n",
       "      <td>3.739419</td>\n",
       "      <td>3.119983</td>\n",
       "      <td>12748</td>\n",
       "      <td>0</td>\n",
       "      <td>2</td>\n",
       "      <td>0</td>\n",
       "      <td>24</td>\n",
       "    </tr>\n",
       "    <tr>\n",
       "      <th>3</th>\n",
       "      <td>0.241462</td>\n",
       "      <td>1.251577</td>\n",
       "      <td>1.423880</td>\n",
       "      <td>12749</td>\n",
       "      <td>2</td>\n",
       "      <td>2</td>\n",
       "      <td>0</td>\n",
       "      <td>17</td>\n",
       "    </tr>\n",
       "    <tr>\n",
       "      <th>4</th>\n",
       "      <td>0.725631</td>\n",
       "      <td>0.296025</td>\n",
       "      <td>0.243880</td>\n",
       "      <td>12820</td>\n",
       "      <td>0</td>\n",
       "      <td>1</td>\n",
       "      <td>3</td>\n",
       "      <td>11</td>\n",
       "    </tr>\n",
       "  </tbody>\n",
       "</table>\n",
       "</div>"
      ],
      "text/plain": [
       "          R         F         M  CustomerID  cluser_labelR  cluser_labelF  \\\n",
       "0  0.722131 -2.403387  3.785914       12346              0              0   \n",
       "1  0.866842  0.732578  1.444280       12747              0              1   \n",
       "2  0.879135  3.739419  3.119983       12748              0              2   \n",
       "3  0.241462  1.251577  1.423880       12749              2              2   \n",
       "4  0.725631  0.296025  0.243880       12820              0              1   \n",
       "\n",
       "   cluser_labelM  RFM  \n",
       "0              0   11  \n",
       "1              0   10  \n",
       "2              0   24  \n",
       "3              0   17  \n",
       "4              3   11  "
      ]
     },
     "execution_count": 86,
     "metadata": {},
     "output_type": "execute_result"
    }
   ],
   "source": [
    "log_df.head()"
   ]
  },
  {
   "cell_type": "code",
   "execution_count": 87,
   "id": "european-serve",
   "metadata": {},
   "outputs": [
    {
     "data": {
      "text/html": [
       "<div>\n",
       "<style scoped>\n",
       "    .dataframe tbody tr th:only-of-type {\n",
       "        vertical-align: middle;\n",
       "    }\n",
       "\n",
       "    .dataframe tbody tr th {\n",
       "        vertical-align: top;\n",
       "    }\n",
       "\n",
       "    .dataframe thead th {\n",
       "        text-align: right;\n",
       "    }\n",
       "</style>\n",
       "<table border=\"1\" class=\"dataframe\">\n",
       "  <thead>\n",
       "    <tr style=\"text-align: right;\">\n",
       "      <th></th>\n",
       "      <th>R</th>\n",
       "      <th>F</th>\n",
       "      <th>M</th>\n",
       "      <th>CustomerID</th>\n",
       "      <th>cluser_labelR</th>\n",
       "      <th>cluser_labelF</th>\n",
       "      <th>cluser_labelM</th>\n",
       "      <th>RFM</th>\n",
       "    </tr>\n",
       "  </thead>\n",
       "  <tbody>\n",
       "    <tr>\n",
       "      <th>0</th>\n",
       "      <td>0.722131</td>\n",
       "      <td>-2.403387</td>\n",
       "      <td>3.785914</td>\n",
       "      <td>12346</td>\n",
       "      <td>0</td>\n",
       "      <td>0</td>\n",
       "      <td>0</td>\n",
       "      <td>0</td>\n",
       "    </tr>\n",
       "    <tr>\n",
       "      <th>1</th>\n",
       "      <td>0.866842</td>\n",
       "      <td>0.732578</td>\n",
       "      <td>1.444280</td>\n",
       "      <td>12747</td>\n",
       "      <td>0</td>\n",
       "      <td>1</td>\n",
       "      <td>0</td>\n",
       "      <td>1</td>\n",
       "    </tr>\n",
       "    <tr>\n",
       "      <th>2</th>\n",
       "      <td>0.879135</td>\n",
       "      <td>3.739419</td>\n",
       "      <td>3.119983</td>\n",
       "      <td>12748</td>\n",
       "      <td>0</td>\n",
       "      <td>2</td>\n",
       "      <td>0</td>\n",
       "      <td>2</td>\n",
       "    </tr>\n",
       "    <tr>\n",
       "      <th>3</th>\n",
       "      <td>0.241462</td>\n",
       "      <td>1.251577</td>\n",
       "      <td>1.423880</td>\n",
       "      <td>12749</td>\n",
       "      <td>2</td>\n",
       "      <td>2</td>\n",
       "      <td>0</td>\n",
       "      <td>4</td>\n",
       "    </tr>\n",
       "    <tr>\n",
       "      <th>4</th>\n",
       "      <td>0.725631</td>\n",
       "      <td>0.296025</td>\n",
       "      <td>0.243880</td>\n",
       "      <td>12820</td>\n",
       "      <td>0</td>\n",
       "      <td>1</td>\n",
       "      <td>3</td>\n",
       "      <td>4</td>\n",
       "    </tr>\n",
       "  </tbody>\n",
       "</table>\n",
       "</div>"
      ],
      "text/plain": [
       "          R         F         M  CustomerID  cluser_labelR  cluser_labelF  \\\n",
       "0  0.722131 -2.403387  3.785914       12346              0              0   \n",
       "1  0.866842  0.732578  1.444280       12747              0              1   \n",
       "2  0.879135  3.739419  3.119983       12748              0              2   \n",
       "3  0.241462  1.251577  1.423880       12749              2              2   \n",
       "4  0.725631  0.296025  0.243880       12820              0              1   \n",
       "\n",
       "   cluser_labelM  RFM  \n",
       "0              0    0  \n",
       "1              0    1  \n",
       "2              0    2  \n",
       "3              0    4  \n",
       "4              3    4  "
      ]
     },
     "execution_count": 87,
     "metadata": {},
     "output_type": "execute_result"
    }
   ],
   "source": [
    "log_df['RFM'] = log_df['cluser_labelR'] + log_df['cluser_labelF'] + log_df['cluser_labelM']\n",
    "log_df.head()"
   ]
  },
  {
   "cell_type": "code",
   "execution_count": 88,
   "id": "indonesian-choice",
   "metadata": {},
   "outputs": [
    {
     "data": {
      "text/plain": [
       "array([0, 1, 2, 4, 5, 3, 6, 7, 8, 9])"
      ]
     },
     "execution_count": 88,
     "metadata": {},
     "output_type": "execute_result"
    }
   ],
   "source": [
    "log_df['RFM'].unique()"
   ]
  },
  {
   "cell_type": "code",
   "execution_count": 100,
   "id": "exceptional-warrior",
   "metadata": {},
   "outputs": [
    {
     "name": "stdout",
     "output_type": "stream",
     "text": [
      "count    3920.000000\n",
      "mean        4.153316\n",
      "std         1.660128\n",
      "min         0.000000\n",
      "25%         3.000000\n",
      "50%         4.000000\n",
      "75%         5.000000\n",
      "max         9.000000\n",
      "Name: RFM, dtype: float64\n"
     ]
    },
    {
     "data": {
      "image/png": "[encoded data removed]",
      "text/plain": [
       "<Figure size 432x288 with 1 Axes>"
      ]
     },
     "metadata": {},
     "output_type": "display_data"
    }
   ],
   "source": [
    "log_df['RFM'].hist()\n",
    "print(log_df['RFM'].describe())"
   ]
  }
 ],
 "metadata": {
  "kernelspec": {
   "display_name": "Python 3 (ipykernel)",
   "language": "python",
   "name": "python3"
  },
  "language_info": {
   "codemirror_mode": {
    "name": "ipython",
    "version": 3
   },
   "file_extension": ".py",
   "mimetype": "text/x-python",
   "name": "python",
   "nbconvert_exporter": "python",
   "pygments_lexer": "ipython3",
   "version": "3.8.8"
  }
 },
 "nbformat": 4,
 "nbformat_minor": 5
}
