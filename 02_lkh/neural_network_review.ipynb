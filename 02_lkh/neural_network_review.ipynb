{
 "cells": [
  {
   "cell_type": "markdown",
   "metadata": {},
   "source": [
    "# imports"
   ]
  },
  {
   "cell_type": "code",
   "execution_count": 16,
   "metadata": {},
   "outputs": [],
   "source": [
    "import pandas as pd\n",
    "import numpy as np; np.random.seed(0)\n",
    "import matplotlib.pyplot as plt; plt.rcParams['font.family'] = 'Malgun Gothic'\n",
    "import seaborn as sns; sns.set_theme(font='Malgun Gothic')\n",
    "\n",
    "import warnings; warnings.filterwarnings(action='ignore')\n",
    "pd.set_option('display.max_rows', 100, 'display.max_columns', 100, 'max_colwidth', None)"
   ]
  },
  {
   "cell_type": "markdown",
   "metadata": {},
   "source": [
    "# Neural Network"
   ]
  },
  {
   "cell_type": "markdown",
   "metadata": {},
   "source": [
    "## iris : multi label"
   ]
  },
  {
   "cell_type": "markdown",
   "metadata": {},
   "source": [
    "### read"
   ]
  },
  {
   "cell_type": "code",
   "execution_count": 14,
   "metadata": {},
   "outputs": [
    {
     "data": {
      "text/html": [
       "<div>\n",
       "<style scoped>\n",
       "    .dataframe tbody tr th:only-of-type {\n",
       "        vertical-align: middle;\n",
       "    }\n",
       "\n",
       "    .dataframe tbody tr th {\n",
       "        vertical-align: top;\n",
       "    }\n",
       "\n",
       "    .dataframe thead th {\n",
       "        text-align: right;\n",
       "    }\n",
       "</style>\n",
       "<table border=\"1\" class=\"dataframe\">\n",
       "  <thead>\n",
       "    <tr style=\"text-align: right;\">\n",
       "      <th></th>\n",
       "      <th>sepal length (cm)</th>\n",
       "      <th>sepal width (cm)</th>\n",
       "      <th>petal length (cm)</th>\n",
       "      <th>petal width (cm)</th>\n",
       "      <th>target</th>\n",
       "    </tr>\n",
       "  </thead>\n",
       "  <tbody>\n",
       "    <tr>\n",
       "      <th>0</th>\n",
       "      <td>5.1</td>\n",
       "      <td>3.5</td>\n",
       "      <td>1.4</td>\n",
       "      <td>0.2</td>\n",
       "      <td>0</td>\n",
       "    </tr>\n",
       "    <tr>\n",
       "      <th>1</th>\n",
       "      <td>4.9</td>\n",
       "      <td>3.0</td>\n",
       "      <td>1.4</td>\n",
       "      <td>0.2</td>\n",
       "      <td>0</td>\n",
       "    </tr>\n",
       "    <tr>\n",
       "      <th>2</th>\n",
       "      <td>4.7</td>\n",
       "      <td>3.2</td>\n",
       "      <td>1.3</td>\n",
       "      <td>0.2</td>\n",
       "      <td>0</td>\n",
       "    </tr>\n",
       "    <tr>\n",
       "      <th>3</th>\n",
       "      <td>4.6</td>\n",
       "      <td>3.1</td>\n",
       "      <td>1.5</td>\n",
       "      <td>0.2</td>\n",
       "      <td>0</td>\n",
       "    </tr>\n",
       "    <tr>\n",
       "      <th>4</th>\n",
       "      <td>5.0</td>\n",
       "      <td>3.6</td>\n",
       "      <td>1.4</td>\n",
       "      <td>0.2</td>\n",
       "      <td>0</td>\n",
       "    </tr>\n",
       "  </tbody>\n",
       "</table>\n",
       "</div>"
      ],
      "text/plain": [
       "   sepal length (cm)  sepal width (cm)  petal length (cm)  petal width (cm)  \\\n",
       "0                5.1               3.5                1.4               0.2   \n",
       "1                4.9               3.0                1.4               0.2   \n",
       "2                4.7               3.2                1.3               0.2   \n",
       "3                4.6               3.1                1.5               0.2   \n",
       "4                5.0               3.6                1.4               0.2   \n",
       "\n",
       "   target  \n",
       "0       0  \n",
       "1       0  \n",
       "2       0  \n",
       "3       0  \n",
       "4       0  "
      ]
     },
     "execution_count": 14,
     "metadata": {},
     "output_type": "execute_result"
    }
   ],
   "source": [
    "from sklearn.datasets import load_iris\n",
    "\n",
    "iris = pd.DataFrame(load_iris()['data'], columns=load_iris()['feature_names'])\n",
    "iris['target'] = load_iris()['target']\n",
    "\n",
    "iris.head()"
   ]
  },
  {
   "cell_type": "code",
   "execution_count": 15,
   "metadata": {},
   "outputs": [
    {
     "data": {
      "text/plain": [
       "0    50\n",
       "1    50\n",
       "2    50\n",
       "Name: target, dtype: int64"
      ]
     },
     "execution_count": 15,
     "metadata": {},
     "output_type": "execute_result"
    }
   ],
   "source": [
    "iris['target'].value_counts()"
   ]
  },
  {
   "cell_type": "code",
   "execution_count": 18,
   "metadata": {},
   "outputs": [],
   "source": [
    "X = iris.drop('target', axis=1)\n",
    "y = iris['target']"
   ]
  },
  {
   "cell_type": "markdown",
   "metadata": {},
   "source": [
    "### modeling"
   ]
  },
  {
   "cell_type": "code",
   "execution_count": 19,
   "metadata": {},
   "outputs": [],
   "source": [
    "import tensorflow as tf\n",
    "from tensorflow.keras.models import Sequential\n",
    "from tensorflow.keras.layers import Dense\n",
    "from tensorflow.keras.callbacks import EarlyStopping, ModelCheckpoint\n",
    "\n",
    "tf.random.set_seed(0)"
   ]
  },
  {
   "cell_type": "code",
   "execution_count": 33,
   "metadata": {},
   "outputs": [
    {
     "data": {
      "text/plain": [
       "(150, 4)"
      ]
     },
     "execution_count": 33,
     "metadata": {},
     "output_type": "execute_result"
    }
   ],
   "source": [
    "X.shape"
   ]
  },
  {
   "cell_type": "code",
   "execution_count": 66,
   "metadata": {},
   "outputs": [],
   "source": [
    "model = Sequential()\n",
    "\n",
    "model.add(Dense(units=16, activation='relu', input_dim=X.shape[1]))\n",
    "model.add(Dense(units=8, activation='relu'))\n",
    "model.add(Dense(units=8, activation='relu'))\n",
    "model.add(Dense(units=3, activation='softmax'))\n",
    "\n",
    "model.compile(\n",
    "    optimizer='adam', \n",
    "    loss='sparse_categorical_crossentropy', \n",
    "    metrics=['accuracy']\n",
    ")"
   ]
  },
  {
   "cell_type": "code",
   "execution_count": 67,
   "metadata": {},
   "outputs": [
    {
     "name": "stdout",
     "output_type": "stream",
     "text": [
      "Model: \"sequential_9\"\n",
      "_________________________________________________________________\n",
      "Layer (type)                 Output Shape              Param #   \n",
      "=================================================================\n",
      "dense_46 (Dense)             (None, 16)                80        \n",
      "_________________________________________________________________\n",
      "dense_47 (Dense)             (None, 8)                 136       \n",
      "_________________________________________________________________\n",
      "dense_48 (Dense)             (None, 8)                 72        \n",
      "_________________________________________________________________\n",
      "dense_49 (Dense)             (None, 3)                 27        \n",
      "=================================================================\n",
      "Total params: 315\n",
      "Trainable params: 315\n",
      "Non-trainable params: 0\n",
      "_________________________________________________________________\n"
     ]
    }
   ],
   "source": [
    "model.summary()"
   ]
  },
  {
   "cell_type": "code",
   "execution_count": 68,
   "metadata": {},
   "outputs": [],
   "source": [
    "filepath = './models/iris_{epoch:03d}_{val_loss:.4f}.h5'\n",
    "\n",
    "callbacks = [\n",
    "    EarlyStopping(monitor='val_loss', patience=20), \n",
    "    ModelCheckpoint(\n",
    "        filepath=filepath, monitor='val_loss', \n",
    "        save_best_only=True, \n",
    "    )\n",
    "]"
   ]
  },
  {
   "cell_type": "code",
   "execution_count": 69,
   "metadata": {},
   "outputs": [
    {
     "name": "stdout",
     "output_type": "stream",
     "text": [
      "Epoch 1/200\n",
      "2/2 [==============================] - 1s 212ms/step - loss: 1.1991 - accuracy: 0.4167 - val_loss: 2.4957 - val_accuracy: 0.0000e+00\n",
      "Epoch 2/200\n",
      "2/2 [==============================] - 0s 44ms/step - loss: 1.1811 - accuracy: 0.4167 - val_loss: 2.4567 - val_accuracy: 0.0000e+00\n",
      "Epoch 3/200\n",
      "2/2 [==============================] - 0s 33ms/step - loss: 1.1658 - accuracy: 0.4167 - val_loss: 2.3889 - val_accuracy: 0.0000e+00\n",
      "Epoch 4/200\n",
      "2/2 [==============================] - 0s 26ms/step - loss: 1.1532 - accuracy: 0.4167 - val_loss: 2.3129 - val_accuracy: 0.0000e+00\n",
      "Epoch 5/200\n",
      "2/2 [==============================] - 0s 24ms/step - loss: 1.1421 - accuracy: 0.4167 - val_loss: 2.2373 - val_accuracy: 0.0000e+00\n",
      "Epoch 6/200\n",
      "2/2 [==============================] - 0s 26ms/step - loss: 1.1328 - accuracy: 0.4167 - val_loss: 2.1810 - val_accuracy: 0.0000e+00\n",
      "Epoch 7/200\n",
      "2/2 [==============================] - 0s 28ms/step - loss: 1.1223 - accuracy: 0.4167 - val_loss: 2.1511 - val_accuracy: 0.0000e+00\n",
      "Epoch 8/200\n",
      "2/2 [==============================] - 0s 24ms/step - loss: 1.1141 - accuracy: 0.4167 - val_loss: 2.1226 - val_accuracy: 0.0000e+00\n",
      "Epoch 9/200\n",
      "2/2 [==============================] - 0s 106ms/step - loss: 1.1059 - accuracy: 0.4167 - val_loss: 2.0928 - val_accuracy: 0.0000e+00\n",
      "Epoch 10/200\n",
      "2/2 [==============================] - 0s 37ms/step - loss: 1.0980 - accuracy: 0.4167 - val_loss: 2.0569 - val_accuracy: 0.0000e+00\n",
      "Epoch 11/200\n",
      "2/2 [==============================] - 0s 28ms/step - loss: 1.0901 - accuracy: 0.4167 - val_loss: 2.0191 - val_accuracy: 0.0000e+00\n",
      "Epoch 12/200\n",
      "2/2 [==============================] - 0s 25ms/step - loss: 1.0819 - accuracy: 0.4167 - val_loss: 1.9837 - val_accuracy: 0.0000e+00\n",
      "Epoch 13/200\n",
      "2/2 [==============================] - 0s 32ms/step - loss: 1.0729 - accuracy: 0.4167 - val_loss: 1.9531 - val_accuracy: 0.0000e+00\n",
      "Epoch 14/200\n",
      "2/2 [==============================] - 0s 29ms/step - loss: 1.0649 - accuracy: 0.4167 - val_loss: 1.9258 - val_accuracy: 0.0000e+00\n",
      "Epoch 15/200\n",
      "2/2 [==============================] - 0s 30ms/step - loss: 1.0578 - accuracy: 0.4167 - val_loss: 1.9053 - val_accuracy: 0.0000e+00\n",
      "Epoch 16/200\n",
      "2/2 [==============================] - 0s 42ms/step - loss: 1.0515 - accuracy: 0.4167 - val_loss: 1.8862 - val_accuracy: 0.0000e+00\n",
      "Epoch 17/200\n",
      "2/2 [==============================] - 0s 26ms/step - loss: 1.0455 - accuracy: 0.4167 - val_loss: 1.8657 - val_accuracy: 0.0000e+00\n",
      "Epoch 18/200\n",
      "2/2 [==============================] - 0s 52ms/step - loss: 1.0398 - accuracy: 0.4167 - val_loss: 1.8470 - val_accuracy: 0.0000e+00\n",
      "Epoch 19/200\n",
      "2/2 [==============================] - 0s 131ms/step - loss: 1.0334 - accuracy: 0.4167 - val_loss: 1.8317 - val_accuracy: 0.0000e+00\n",
      "Epoch 20/200\n",
      "2/2 [==============================] - 0s 56ms/step - loss: 1.0272 - accuracy: 0.4167 - val_loss: 1.8119 - val_accuracy: 0.0000e+00\n",
      "Epoch 21/200\n",
      "2/2 [==============================] - 0s 41ms/step - loss: 1.0204 - accuracy: 0.4167 - val_loss: 1.7914 - val_accuracy: 0.0000e+00\n",
      "Epoch 22/200\n",
      "2/2 [==============================] - 0s 36ms/step - loss: 1.0138 - accuracy: 0.4167 - val_loss: 1.7732 - val_accuracy: 0.0000e+00\n",
      "Epoch 23/200\n",
      "2/2 [==============================] - 0s 43ms/step - loss: 1.0066 - accuracy: 0.4167 - val_loss: 1.7615 - val_accuracy: 0.0000e+00\n",
      "Epoch 24/200\n",
      "2/2 [==============================] - 0s 64ms/step - loss: 0.9998 - accuracy: 0.4167 - val_loss: 1.7491 - val_accuracy: 0.0000e+00\n",
      "Epoch 25/200\n",
      "2/2 [==============================] - 0s 29ms/step - loss: 0.9933 - accuracy: 0.4167 - val_loss: 1.7362 - val_accuracy: 0.0000e+00\n",
      "Epoch 26/200\n",
      "2/2 [==============================] - 0s 28ms/step - loss: 0.9866 - accuracy: 0.4167 - val_loss: 1.7312 - val_accuracy: 0.0000e+00\n",
      "Epoch 27/200\n",
      "2/2 [==============================] - 0s 30ms/step - loss: 0.9796 - accuracy: 0.4167 - val_loss: 1.7258 - val_accuracy: 0.0000e+00\n",
      "Epoch 28/200\n",
      "2/2 [==============================] - 0s 33ms/step - loss: 0.9715 - accuracy: 0.4250 - val_loss: 1.7078 - val_accuracy: 0.0000e+00\n",
      "Epoch 29/200\n",
      "2/2 [==============================] - 0s 26ms/step - loss: 0.9619 - accuracy: 0.4667 - val_loss: 1.6843 - val_accuracy: 0.0000e+00\n",
      "Epoch 30/200\n",
      "2/2 [==============================] - 0s 30ms/step - loss: 0.9473 - accuracy: 0.5583 - val_loss: 1.6567 - val_accuracy: 0.0000e+00\n",
      "Epoch 31/200\n",
      "2/2 [==============================] - 0s 31ms/step - loss: 0.9227 - accuracy: 0.7667 - val_loss: 1.6286 - val_accuracy: 0.0000e+00\n",
      "Epoch 32/200\n",
      "2/2 [==============================] - 0s 25ms/step - loss: 0.8926 - accuracy: 0.8250 - val_loss: 1.6009 - val_accuracy: 0.0000e+00\n",
      "Epoch 33/200\n",
      "2/2 [==============================] - 0s 30ms/step - loss: 0.8599 - accuracy: 0.8333 - val_loss: 1.5677 - val_accuracy: 0.0000e+00\n",
      "Epoch 34/200\n",
      "2/2 [==============================] - 0s 25ms/step - loss: 0.8293 - accuracy: 0.8333 - val_loss: 1.5311 - val_accuracy: 0.0000e+00\n",
      "Epoch 35/200\n",
      "2/2 [==============================] - 0s 37ms/step - loss: 0.7989 - accuracy: 0.8333 - val_loss: 1.4914 - val_accuracy: 0.0000e+00\n",
      "Epoch 36/200\n",
      "2/2 [==============================] - 0s 24ms/step - loss: 0.7712 - accuracy: 0.8333 - val_loss: 1.4485 - val_accuracy: 0.0000e+00\n",
      "Epoch 37/200\n",
      "2/2 [==============================] - 0s 24ms/step - loss: 0.7538 - accuracy: 0.8250 - val_loss: 1.4030 - val_accuracy: 0.0000e+00\n",
      "Epoch 38/200\n",
      "2/2 [==============================] - 0s 27ms/step - loss: 0.7575 - accuracy: 0.8167 - val_loss: 1.3709 - val_accuracy: 0.0000e+00\n",
      "Epoch 39/200\n",
      "2/2 [==============================] - 0s 24ms/step - loss: 0.7556 - accuracy: 0.8167 - val_loss: 1.3777 - val_accuracy: 0.0000e+00\n",
      "Epoch 40/200\n",
      "2/2 [==============================] - 0s 32ms/step - loss: 0.7424 - accuracy: 0.8167 - val_loss: 1.4069 - val_accuracy: 0.0000e+00\n",
      "Epoch 41/200\n",
      "2/2 [==============================] - 0s 24ms/step - loss: 0.7221 - accuracy: 0.8250 - val_loss: 1.4296 - val_accuracy: 0.0000e+00\n",
      "Epoch 42/200\n",
      "2/2 [==============================] - 0s 30ms/step - loss: 0.7000 - accuracy: 0.8250 - val_loss: 1.4364 - val_accuracy: 0.0000e+00\n",
      "Epoch 43/200\n",
      "2/2 [==============================] - 0s 46ms/step - loss: 0.6818 - accuracy: 0.8333 - val_loss: 1.4281 - val_accuracy: 0.0000e+00\n",
      "Epoch 44/200\n",
      "2/2 [==============================] - 0s 24ms/step - loss: 0.6714 - accuracy: 0.8333 - val_loss: 1.4176 - val_accuracy: 0.0000e+00\n",
      "Epoch 45/200\n",
      "2/2 [==============================] - 0s 23ms/step - loss: 0.6635 - accuracy: 0.8333 - val_loss: 1.4084 - val_accuracy: 0.0000e+00\n",
      "Epoch 46/200\n",
      "2/2 [==============================] - 0s 31ms/step - loss: 0.6547 - accuracy: 0.8333 - val_loss: 1.4015 - val_accuracy: 0.0000e+00\n",
      "Epoch 47/200\n",
      "2/2 [==============================] - 0s 23ms/step - loss: 0.6430 - accuracy: 0.8333 - val_loss: 1.4010 - val_accuracy: 0.0000e+00\n",
      "Epoch 48/200\n",
      "2/2 [==============================] - 0s 27ms/step - loss: 0.6308 - accuracy: 0.8333 - val_loss: 1.4037 - val_accuracy: 0.0000e+00\n",
      "Epoch 49/200\n",
      "2/2 [==============================] - 0s 23ms/step - loss: 0.6194 - accuracy: 0.8333 - val_loss: 1.4037 - val_accuracy: 0.0000e+00\n",
      "Epoch 50/200\n",
      "2/2 [==============================] - 0s 23ms/step - loss: 0.6093 - accuracy: 0.8333 - val_loss: 1.4007 - val_accuracy: 0.0000e+00\n",
      "Epoch 51/200\n",
      "2/2 [==============================] - 0s 27ms/step - loss: 0.6002 - accuracy: 0.8333 - val_loss: 1.3964 - val_accuracy: 0.0000e+00\n",
      "Epoch 52/200\n",
      "2/2 [==============================] - 0s 58ms/step - loss: 0.5912 - accuracy: 0.8333 - val_loss: 1.3918 - val_accuracy: 0.0000e+00\n",
      "Epoch 53/200\n",
      "2/2 [==============================] - 0s 24ms/step - loss: 0.5822 - accuracy: 0.8333 - val_loss: 1.3797 - val_accuracy: 0.0000e+00\n",
      "Epoch 54/200\n",
      "2/2 [==============================] - 0s 36ms/step - loss: 0.5730 - accuracy: 0.8333 - val_loss: 1.3608 - val_accuracy: 0.0000e+00\n",
      "Epoch 55/200\n",
      "2/2 [==============================] - 0s 24ms/step - loss: 0.5642 - accuracy: 0.8333 - val_loss: 1.3395 - val_accuracy: 0.0000e+00\n",
      "Epoch 56/200\n",
      "2/2 [==============================] - 0s 39ms/step - loss: 0.5558 - accuracy: 0.8333 - val_loss: 1.3287 - val_accuracy: 0.0000e+00\n",
      "Epoch 57/200\n",
      "2/2 [==============================] - 0s 25ms/step - loss: 0.5470 - accuracy: 0.8333 - val_loss: 1.3322 - val_accuracy: 0.0000e+00\n",
      "Epoch 58/200\n",
      "2/2 [==============================] - 0s 24ms/step - loss: 0.5385 - accuracy: 0.8333 - val_loss: 1.3402 - val_accuracy: 0.0000e+00\n",
      "Epoch 59/200\n",
      "2/2 [==============================] - 0s 21ms/step - loss: 0.5301 - accuracy: 0.8333 - val_loss: 1.3445 - val_accuracy: 0.0000e+00\n",
      "Epoch 60/200\n",
      "2/2 [==============================] - 0s 26ms/step - loss: 0.5221 - accuracy: 0.8333 - val_loss: 1.3435 - val_accuracy: 0.0000e+00\n",
      "Epoch 61/200\n",
      "2/2 [==============================] - 0s 67ms/step - loss: 0.5148 - accuracy: 0.8333 - val_loss: 1.3365 - val_accuracy: 0.0000e+00\n",
      "Epoch 62/200\n",
      "2/2 [==============================] - 0s 51ms/step - loss: 0.5069 - accuracy: 0.8333 - val_loss: 1.3277 - val_accuracy: 0.0000e+00\n",
      "Epoch 63/200\n",
      "2/2 [==============================] - 0s 68ms/step - loss: 0.4986 - accuracy: 0.8333 - val_loss: 1.3208 - val_accuracy: 0.0000e+00\n",
      "Epoch 64/200\n",
      "2/2 [==============================] - 0s 450ms/step - loss: 0.4896 - accuracy: 0.8333 - val_loss: 1.3153 - val_accuracy: 0.0000e+00\n",
      "Epoch 65/200\n",
      "2/2 [==============================] - 0s 41ms/step - loss: 0.4804 - accuracy: 0.8333 - val_loss: 1.3144 - val_accuracy: 0.0000e+00\n",
      "Epoch 66/200\n",
      "2/2 [==============================] - 0s 36ms/step - loss: 0.4708 - accuracy: 0.8333 - val_loss: 1.3190 - val_accuracy: 0.0000e+00\n",
      "Epoch 67/200\n",
      "2/2 [==============================] - 0s 27ms/step - loss: 0.4607 - accuracy: 0.8333 - val_loss: 1.3246 - val_accuracy: 0.0000e+00\n",
      "Epoch 68/200\n",
      "2/2 [==============================] - 0s 25ms/step - loss: 0.4502 - accuracy: 0.8333 - val_loss: 1.3288 - val_accuracy: 0.0000e+00\n",
      "Epoch 69/200\n",
      "2/2 [==============================] - 0s 26ms/step - loss: 0.4398 - accuracy: 0.8333 - val_loss: 1.3236 - val_accuracy: 0.0000e+00\n",
      "Epoch 70/200\n",
      "2/2 [==============================] - 0s 25ms/step - loss: 0.4292 - accuracy: 0.8333 - val_loss: 1.3118 - val_accuracy: 0.0000e+00\n",
      "Epoch 71/200\n",
      "2/2 [==============================] - 0s 25ms/step - loss: 0.4189 - accuracy: 0.8333 - val_loss: 1.3081 - val_accuracy: 0.0000e+00\n",
      "Epoch 72/200\n",
      "2/2 [==============================] - 0s 48ms/step - loss: 0.4096 - accuracy: 0.8333 - val_loss: 1.3011 - val_accuracy: 0.0000e+00\n",
      "Epoch 73/200\n",
      "2/2 [==============================] - 0s 29ms/step - loss: 0.4005 - accuracy: 0.8333 - val_loss: 1.2715 - val_accuracy: 0.0000e+00\n",
      "Epoch 74/200\n",
      "2/2 [==============================] - 0s 26ms/step - loss: 0.3923 - accuracy: 0.8333 - val_loss: 1.2295 - val_accuracy: 0.0000e+00\n",
      "Epoch 75/200\n",
      "2/2 [==============================] - 0s 31ms/step - loss: 0.3849 - accuracy: 0.8333 - val_loss: 1.1915 - val_accuracy: 0.0000e+00\n",
      "Epoch 76/200\n",
      "2/2 [==============================] - 0s 22ms/step - loss: 0.3781 - accuracy: 0.8333 - val_loss: 1.1582 - val_accuracy: 0.0000e+00\n",
      "Epoch 77/200\n",
      "2/2 [==============================] - 0s 31ms/step - loss: 0.3729 - accuracy: 0.8333 - val_loss: 1.1393 - val_accuracy: 0.0000e+00\n",
      "Epoch 78/200\n",
      "2/2 [==============================] - 0s 24ms/step - loss: 0.3675 - accuracy: 0.8333 - val_loss: 1.1471 - val_accuracy: 0.0000e+00\n",
      "Epoch 79/200\n",
      "2/2 [==============================] - 0s 29ms/step - loss: 0.3615 - accuracy: 0.8333 - val_loss: 1.1916 - val_accuracy: 0.0000e+00\n",
      "Epoch 80/200\n",
      "2/2 [==============================] - 0s 31ms/step - loss: 0.3562 - accuracy: 0.8333 - val_loss: 1.2670 - val_accuracy: 0.0000e+00\n",
      "Epoch 81/200\n",
      "2/2 [==============================] - 0s 40ms/step - loss: 0.3541 - accuracy: 0.8333 - val_loss: 1.3043 - val_accuracy: 0.0000e+00\n",
      "Epoch 82/200\n",
      "2/2 [==============================] - 0s 25ms/step - loss: 0.3502 - accuracy: 0.8333 - val_loss: 1.2611 - val_accuracy: 0.0000e+00\n",
      "Epoch 83/200\n",
      "2/2 [==============================] - 0s 32ms/step - loss: 0.3431 - accuracy: 0.8333 - val_loss: 1.1788 - val_accuracy: 0.0000e+00\n",
      "Epoch 84/200\n",
      "2/2 [==============================] - 0s 26ms/step - loss: 0.3368 - accuracy: 0.8333 - val_loss: 1.1077 - val_accuracy: 0.0000e+00\n",
      "Epoch 85/200\n",
      "2/2 [==============================] - 0s 56ms/step - loss: 0.3329 - accuracy: 0.8333 - val_loss: 1.0599 - val_accuracy: 0.0000e+00\n",
      "Epoch 86/200\n",
      "2/2 [==============================] - 0s 34ms/step - loss: 0.3294 - accuracy: 0.8333 - val_loss: 1.0456 - val_accuracy: 0.0000e+00\n",
      "Epoch 87/200\n",
      "2/2 [==============================] - 0s 39ms/step - loss: 0.3244 - accuracy: 0.8333 - val_loss: 1.0611 - val_accuracy: 0.0000e+00\n",
      "Epoch 88/200\n",
      "2/2 [==============================] - 0s 43ms/step - loss: 0.3191 - accuracy: 0.8333 - val_loss: 1.0629 - val_accuracy: 0.0000e+00\n",
      "Epoch 89/200\n",
      "2/2 [==============================] - 0s 32ms/step - loss: 0.3133 - accuracy: 0.8333 - val_loss: 1.0400 - val_accuracy: 0.0000e+00\n",
      "Epoch 90/200\n",
      "2/2 [==============================] - 0s 59ms/step - loss: 0.3081 - accuracy: 0.8333 - val_loss: 1.0142 - val_accuracy: 0.0000e+00\n",
      "Epoch 91/200\n",
      "2/2 [==============================] - 0s 37ms/step - loss: 0.3034 - accuracy: 0.8333 - val_loss: 0.9773 - val_accuracy: 0.0000e+00\n",
      "Epoch 92/200\n",
      "2/2 [==============================] - 0s 31ms/step - loss: 0.2990 - accuracy: 0.8333 - val_loss: 0.9769 - val_accuracy: 0.0000e+00\n",
      "Epoch 93/200\n",
      "2/2 [==============================] - 0s 29ms/step - loss: 0.2942 - accuracy: 0.8333 - val_loss: 0.9859 - val_accuracy: 0.0333\n",
      "Epoch 94/200\n",
      "2/2 [==============================] - 0s 67ms/step - loss: 0.2893 - accuracy: 0.8500 - val_loss: 0.9770 - val_accuracy: 0.1000\n",
      "Epoch 95/200\n",
      "2/2 [==============================] - 0s 37ms/step - loss: 0.2852 - accuracy: 0.8750 - val_loss: 0.9837 - val_accuracy: 0.1667\n",
      "Epoch 96/200\n",
      "2/2 [==============================] - 0s 30ms/step - loss: 0.2806 - accuracy: 0.8917 - val_loss: 1.0110 - val_accuracy: 0.1333\n",
      "Epoch 97/200\n",
      "2/2 [==============================] - 0s 31ms/step - loss: 0.2772 - accuracy: 0.9000 - val_loss: 1.0001 - val_accuracy: 0.1333\n",
      "Epoch 98/200\n",
      "2/2 [==============================] - 0s 33ms/step - loss: 0.2725 - accuracy: 0.9000 - val_loss: 0.9407 - val_accuracy: 0.2000\n",
      "Epoch 99/200\n",
      "2/2 [==============================] - 0s 27ms/step - loss: 0.2684 - accuracy: 0.9083 - val_loss: 0.8681 - val_accuracy: 0.3000\n",
      "Epoch 100/200\n",
      "2/2 [==============================] - 0s 77ms/step - loss: 0.2649 - accuracy: 0.9500 - val_loss: 0.8357 - val_accuracy: 0.4000\n",
      "Epoch 101/200\n",
      "2/2 [==============================] - 0s 43ms/step - loss: 0.2615 - accuracy: 0.9500 - val_loss: 0.8445 - val_accuracy: 0.4000\n",
      "Epoch 102/200\n",
      "2/2 [==============================] - 0s 37ms/step - loss: 0.2569 - accuracy: 0.9500 - val_loss: 0.8803 - val_accuracy: 0.3000\n",
      "Epoch 103/200\n",
      "2/2 [==============================] - 0s 24ms/step - loss: 0.2525 - accuracy: 0.9417 - val_loss: 0.8997 - val_accuracy: 0.2333\n",
      "Epoch 104/200\n",
      "2/2 [==============================] - 0s 26ms/step - loss: 0.2488 - accuracy: 0.9333 - val_loss: 0.8923 - val_accuracy: 0.2667\n",
      "Epoch 105/200\n",
      "2/2 [==============================] - 0s 25ms/step - loss: 0.2448 - accuracy: 0.9417 - val_loss: 0.8578 - val_accuracy: 0.3333\n",
      "Epoch 106/200\n",
      "2/2 [==============================] - 0s 27ms/step - loss: 0.2412 - accuracy: 0.9500 - val_loss: 0.8161 - val_accuracy: 0.4000\n",
      "Epoch 107/200\n",
      "2/2 [==============================] - 0s 24ms/step - loss: 0.2385 - accuracy: 0.9500 - val_loss: 0.7973 - val_accuracy: 0.4333\n",
      "Epoch 108/200\n",
      "2/2 [==============================] - 0s 26ms/step - loss: 0.2349 - accuracy: 0.9500 - val_loss: 0.8106 - val_accuracy: 0.4000\n",
      "Epoch 109/200\n",
      "2/2 [==============================] - 0s 45ms/step - loss: 0.2310 - accuracy: 0.9500 - val_loss: 0.8258 - val_accuracy: 0.4000\n",
      "Epoch 110/200\n",
      "2/2 [==============================] - 0s 24ms/step - loss: 0.2275 - accuracy: 0.9500 - val_loss: 0.8334 - val_accuracy: 0.4000\n",
      "Epoch 111/200\n",
      "2/2 [==============================] - 0s 34ms/step - loss: 0.2244 - accuracy: 0.9500 - val_loss: 0.8482 - val_accuracy: 0.3667\n",
      "Epoch 112/200\n",
      "2/2 [==============================] - 0s 26ms/step - loss: 0.2215 - accuracy: 0.9500 - val_loss: 0.8771 - val_accuracy: 0.3333\n",
      "Epoch 113/200\n",
      "2/2 [==============================] - 0s 27ms/step - loss: 0.2192 - accuracy: 0.9417 - val_loss: 0.9157 - val_accuracy: 0.3000\n",
      "Epoch 114/200\n",
      "2/2 [==============================] - 0s 29ms/step - loss: 0.2179 - accuracy: 0.9333 - val_loss: 0.9482 - val_accuracy: 0.2333\n",
      "Epoch 115/200\n",
      "2/2 [==============================] - 0s 30ms/step - loss: 0.2167 - accuracy: 0.9250 - val_loss: 0.9509 - val_accuracy: 0.2333\n",
      "Epoch 116/200\n",
      "2/2 [==============================] - 0s 20ms/step - loss: 0.2139 - accuracy: 0.9250 - val_loss: 0.8838 - val_accuracy: 0.3333\n",
      "Epoch 117/200\n",
      "2/2 [==============================] - 0s 25ms/step - loss: 0.2084 - accuracy: 0.9417 - val_loss: 0.7896 - val_accuracy: 0.4667\n",
      "Epoch 118/200\n",
      "2/2 [==============================] - 0s 26ms/step - loss: 0.2033 - accuracy: 0.9667 - val_loss: 0.7134 - val_accuracy: 0.5000\n",
      "Epoch 119/200\n",
      "2/2 [==============================] - 0s 30ms/step - loss: 0.2019 - accuracy: 0.9750 - val_loss: 0.6587 - val_accuracy: 0.6000\n",
      "Epoch 120/200\n",
      "2/2 [==============================] - 0s 21ms/step - loss: 0.2015 - accuracy: 0.9833 - val_loss: 0.6737 - val_accuracy: 0.6000\n",
      "Epoch 121/200\n",
      "2/2 [==============================] - 0s 29ms/step - loss: 0.1961 - accuracy: 0.9833 - val_loss: 0.7673 - val_accuracy: 0.4667\n",
      "Epoch 122/200\n",
      "2/2 [==============================] - 0s 28ms/step - loss: 0.1923 - accuracy: 0.9667 - val_loss: 0.8799 - val_accuracy: 0.3667\n",
      "Epoch 123/200\n",
      "2/2 [==============================] - 0s 27ms/step - loss: 0.1940 - accuracy: 0.9500 - val_loss: 0.9594 - val_accuracy: 0.3000\n",
      "Epoch 124/200\n",
      "2/2 [==============================] - 0s 34ms/step - loss: 0.1963 - accuracy: 0.9333 - val_loss: 0.9437 - val_accuracy: 0.3333\n",
      "Epoch 125/200\n",
      "2/2 [==============================] - 0s 29ms/step - loss: 0.1930 - accuracy: 0.9417 - val_loss: 0.8505 - val_accuracy: 0.4000\n",
      "Epoch 126/200\n",
      "2/2 [==============================] - 0s 26ms/step - loss: 0.1856 - accuracy: 0.9500 - val_loss: 0.7414 - val_accuracy: 0.4667\n",
      "Epoch 127/200\n",
      "2/2 [==============================] - 0s 34ms/step - loss: 0.1813 - accuracy: 0.9667 - val_loss: 0.6572 - val_accuracy: 0.6000\n",
      "Epoch 128/200\n",
      "2/2 [==============================] - 0s 23ms/step - loss: 0.1793 - accuracy: 0.9833 - val_loss: 0.6139 - val_accuracy: 0.6667\n",
      "Epoch 129/200\n",
      "2/2 [==============================] - 0s 27ms/step - loss: 0.1782 - accuracy: 0.9833 - val_loss: 0.5850 - val_accuracy: 0.6667\n",
      "Epoch 130/200\n",
      "2/2 [==============================] - 0s 23ms/step - loss: 0.1773 - accuracy: 0.9833 - val_loss: 0.5962 - val_accuracy: 0.6667\n",
      "Epoch 131/200\n",
      "2/2 [==============================] - 0s 32ms/step - loss: 0.1736 - accuracy: 0.9833 - val_loss: 0.6588 - val_accuracy: 0.6000\n",
      "Epoch 132/200\n",
      "2/2 [==============================] - 0s 27ms/step - loss: 0.1699 - accuracy: 0.9750 - val_loss: 0.7079 - val_accuracy: 0.5333\n",
      "Epoch 133/200\n",
      "2/2 [==============================] - 0s 24ms/step - loss: 0.1674 - accuracy: 0.9750 - val_loss: 0.7456 - val_accuracy: 0.4667\n",
      "Epoch 134/200\n",
      "2/2 [==============================] - 0s 24ms/step - loss: 0.1677 - accuracy: 0.9667 - val_loss: 0.7305 - val_accuracy: 0.4667\n",
      "Epoch 135/200\n",
      "2/2 [==============================] - 0s 27ms/step - loss: 0.1631 - accuracy: 0.9750 - val_loss: 0.6229 - val_accuracy: 0.6000\n",
      "Epoch 136/200\n",
      "2/2 [==============================] - 0s 22ms/step - loss: 0.1614 - accuracy: 0.9833 - val_loss: 0.5377 - val_accuracy: 0.7333\n",
      "Epoch 137/200\n",
      "2/2 [==============================] - 0s 27ms/step - loss: 0.1620 - accuracy: 0.9833 - val_loss: 0.5054 - val_accuracy: 0.7667\n",
      "Epoch 138/200\n",
      "2/2 [==============================] - 0s 61ms/step - loss: 0.1615 - accuracy: 0.9833 - val_loss: 0.5169 - val_accuracy: 0.7667\n",
      "Epoch 139/200\n",
      "2/2 [==============================] - 0s 224ms/step - loss: 0.1581 - accuracy: 0.9833 - val_loss: 0.5723 - val_accuracy: 0.6667\n",
      "Epoch 140/200\n",
      "2/2 [==============================] - 0s 58ms/step - loss: 0.1536 - accuracy: 0.9833 - val_loss: 0.6678 - val_accuracy: 0.6000\n",
      "Epoch 141/200\n",
      "2/2 [==============================] - 0s 51ms/step - loss: 0.1519 - accuracy: 0.9750 - val_loss: 0.7468 - val_accuracy: 0.4667\n",
      "Epoch 142/200\n",
      "2/2 [==============================] - 0s 33ms/step - loss: 0.1521 - accuracy: 0.9667 - val_loss: 0.7627 - val_accuracy: 0.4667\n",
      "Epoch 143/200\n",
      "2/2 [==============================] - 0s 48ms/step - loss: 0.1510 - accuracy: 0.9667 - val_loss: 0.7162 - val_accuracy: 0.5333\n",
      "Epoch 144/200\n",
      "2/2 [==============================] - 0s 34ms/step - loss: 0.1473 - accuracy: 0.9833 - val_loss: 0.6314 - val_accuracy: 0.6000\n",
      "Epoch 145/200\n",
      "2/2 [==============================] - 0s 33ms/step - loss: 0.1444 - accuracy: 0.9833 - val_loss: 0.5595 - val_accuracy: 0.6667\n",
      "Epoch 146/200\n",
      "2/2 [==============================] - 0s 55ms/step - loss: 0.1440 - accuracy: 0.9833 - val_loss: 0.5351 - val_accuracy: 0.7000\n",
      "Epoch 147/200\n",
      "2/2 [==============================] - 0s 72ms/step - loss: 0.1424 - accuracy: 0.9833 - val_loss: 0.5586 - val_accuracy: 0.6667\n",
      "Epoch 148/200\n",
      "2/2 [==============================] - 0s 28ms/step - loss: 0.1399 - accuracy: 0.9833 - val_loss: 0.6008 - val_accuracy: 0.6667\n",
      "Epoch 149/200\n",
      "2/2 [==============================] - 0s 42ms/step - loss: 0.1382 - accuracy: 0.9833 - val_loss: 0.6372 - val_accuracy: 0.6000\n",
      "Epoch 150/200\n",
      "2/2 [==============================] - 0s 44ms/step - loss: 0.1366 - accuracy: 0.9833 - val_loss: 0.6484 - val_accuracy: 0.6000\n",
      "Epoch 151/200\n",
      "2/2 [==============================] - 0s 27ms/step - loss: 0.1356 - accuracy: 0.9833 - val_loss: 0.6768 - val_accuracy: 0.5333\n",
      "Epoch 152/200\n",
      "2/2 [==============================] - 0s 32ms/step - loss: 0.1351 - accuracy: 0.9833 - val_loss: 0.7055 - val_accuracy: 0.5333\n",
      "Epoch 153/200\n",
      "2/2 [==============================] - 0s 41ms/step - loss: 0.1343 - accuracy: 0.9833 - val_loss: 0.6722 - val_accuracy: 0.6000\n",
      "Epoch 154/200\n",
      "2/2 [==============================] - 0s 32ms/step - loss: 0.1320 - accuracy: 0.9833 - val_loss: 0.6199 - val_accuracy: 0.6333\n",
      "Epoch 155/200\n",
      "2/2 [==============================] - 0s 31ms/step - loss: 0.1289 - accuracy: 0.9833 - val_loss: 0.5650 - val_accuracy: 0.6667\n",
      "Epoch 156/200\n",
      "2/2 [==============================] - 0s 36ms/step - loss: 0.1280 - accuracy: 0.9833 - val_loss: 0.5243 - val_accuracy: 0.6667\n",
      "Epoch 157/200\n",
      "2/2 [==============================] - 0s 34ms/step - loss: 0.1268 - accuracy: 0.9833 - val_loss: 0.5329 - val_accuracy: 0.6667\n"
     ]
    }
   ],
   "source": [
    "history = model.fit(\n",
    "    X, y, \n",
    "    batch_size=100, \n",
    "    epochs=200, \n",
    "    callbacks=callbacks, \n",
    "    validation_split=0.2, \n",
    "    validation_batch_size=100, \n",
    ")"
   ]
  },
  {
   "cell_type": "code",
   "execution_count": 70,
   "metadata": {},
   "outputs": [
    {
     "data": {
      "text/plain": [
       "dict_keys(['loss', 'accuracy', 'val_loss', 'val_accuracy'])"
      ]
     },
     "execution_count": 70,
     "metadata": {},
     "output_type": "execute_result"
    }
   ],
   "source": [
    "history.history.keys()"
   ]
  },
  {
   "cell_type": "code",
   "execution_count": 75,
   "metadata": {},
   "outputs": [
    {
     "data": {
      "text/plain": [
       "[<matplotlib.lines.Line2D at 0x186589b1370>]"
      ]
     },
     "execution_count": 75,
     "metadata": {},
     "output_type": "execute_result"
    },
    {
     "data": {
      "image/png": "[encoded data removed]",
      "text/plain": [
       "<Figure size 576x432 with 1 Axes>"
      ]
     },
     "metadata": {},
     "output_type": "display_data"
    }
   ],
   "source": [
    "train_loss = history.history['loss']\n",
    "val_loss   = history.history['val_loss']\n",
    "acc        = history.history['accuracy']\n",
    "val_acc    = history.history['val_accuracy']\n",
    "\n",
    "f, ax = plt.subplots(figsize=(8, 6))\n",
    "plt.plot(np.arange(len(train_loss)), train_loss, c='r', label='train')\n",
    "plt.plot(np.arange(len(train_loss)), val_loss, c='b', label='val')\n",
    "\n",
    "# plt.plot(np.arange(len(train_loss)), train_loss, c='r', label='train')\n",
    "# plt.plot(np.arange(len(train_loss)), val_loss, c='b', label='val')\n",
    "\n",
    "\n",
    "\n",
    "# plt.legend(); plt.show()"
   ]
  },
  {
   "cell_type": "code",
   "execution_count": null,
   "metadata": {},
   "outputs": [],
   "source": []
  },
  {
   "cell_type": "markdown",
   "metadata": {},
   "source": [
    "# CNN"
   ]
  },
  {
   "cell_type": "code",
   "execution_count": null,
   "metadata": {},
   "outputs": [],
   "source": []
  },
  {
   "cell_type": "code",
   "execution_count": null,
   "metadata": {},
   "outputs": [],
   "source": []
  },
  {
   "cell_type": "code",
   "execution_count": null,
   "metadata": {},
   "outputs": [],
   "source": []
  }
 ],
 "metadata": {
  "interpreter": {
   "hash": "17164ff5f922defefa3fdd6afe0c064ec3948eda8922a4bbab17a59b9b0232dc"
  },
  "kernelspec": {
   "display_name": "Python 3.8.8 64-bit ('venv': venv)",
   "name": "python3"
  },
  "language_info": {
   "codemirror_mode": {
    "name": "ipython",
    "version": 3
   },
   "file_extension": ".py",
   "mimetype": "text/x-python",
   "name": "python",
   "nbconvert_exporter": "python",
   "pygments_lexer": "ipython3",
   "version": "3.8.8"
  },
  "orig_nbformat": 4
 },
 "nbformat": 4,
 "nbformat_minor": 2
}
