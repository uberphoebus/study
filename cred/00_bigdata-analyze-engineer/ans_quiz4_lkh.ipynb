{
 "cells": [
  {
   "cell_type": "markdown",
   "id": "0edcadf8-be15-4608-8e1b-f87e737d90aa",
   "metadata": {},
   "source": [
    "<img src='logo.png'><br>\n",
    "* ref : https://www.kaggle.com/prachi13/customer-analytics"
   ]
  },
  {
   "cell_type": "code",
   "execution_count": 1,
   "id": "fddaa690-8ddb-4a8c-9754-a491dd70a2ec",
   "metadata": {},
   "outputs": [],
   "source": [
    "from sklearn.preprocessing import StandardScaler, LabelEncoder\n",
    "from sklearn.ensemble import RandomForestClassifier\n",
    "from sklearn.model_selection import train_test_split, GridSearchCV\n",
    "from sklearn.metrics import roc_auc_score\n",
    "import numpy as np\n",
    "import pandas as pd\n",
    "import matplotlib.pyplot as plt\n",
    "import seaborn as sns\n",
    "\n",
    "import warnings\n",
    "warnings.filterwarnings(action='ignore')"
   ]
  },
  {
   "cell_type": "markdown",
   "id": "aa98b6cc-7bf5-4245-8e07-28617553b70f",
   "metadata": {},
   "source": [
    "## data load"
   ]
  },
  {
   "cell_type": "code",
   "execution_count": 2,
   "id": "8d2750a0-273c-4769-be5a-a7416f13b693",
   "metadata": {},
   "outputs": [
    {
     "name": "stdout",
     "output_type": "stream",
     "text": [
      "(10999, 12)\n",
      "<class 'pandas.core.frame.DataFrame'>\n",
      "RangeIndex: 10999 entries, 0 to 10998\n",
      "Data columns (total 12 columns):\n",
      " #   Column               Non-Null Count  Dtype \n",
      "---  ------               --------------  ----- \n",
      " 0   ID                   10999 non-null  int64 \n",
      " 1   Warehouse_block      10999 non-null  object\n",
      " 2   Mode_of_Shipment     10999 non-null  object\n",
      " 3   Customer_care_calls  10999 non-null  int64 \n",
      " 4   Customer_rating      10999 non-null  int64 \n",
      " 5   Cost_of_the_Product  10999 non-null  int64 \n",
      " 6   Prior_purchases      10999 non-null  int64 \n",
      " 7   Product_importance   10999 non-null  object\n",
      " 8   Gender               10999 non-null  object\n",
      " 9   Discount_offered     10999 non-null  int64 \n",
      " 10  Weight_in_gms        10999 non-null  int64 \n",
      " 11  Reached.on.Time_Y.N  10999 non-null  int64 \n",
      "dtypes: int64(8), object(4)\n",
      "memory usage: 1.0+ MB\n"
     ]
    },
    {
     "data": {
      "text/plain": [
       "Index(['ID', 'Warehouse_block', 'Mode_of_Shipment', 'Customer_care_calls',\n",
       "       'Customer_rating', 'Cost_of_the_Product', 'Prior_purchases',\n",
       "       'Product_importance', 'Gender', 'Discount_offered', 'Weight_in_gms',\n",
       "       'Reached.on.Time_Y.N'],\n",
       "      dtype='object')"
      ]
     },
     "execution_count": 2,
     "metadata": {},
     "output_type": "execute_result"
    }
   ],
   "source": [
    "df = pd.read_csv(\"./Quiz4/shipping.csv\")\n",
    "print(df.shape)\n",
    "df.info()\n",
    "df.head()\n",
    "df.columns"
   ]
  },
  {
   "cell_type": "code",
   "execution_count": 3,
   "id": "394f8cf0-fae4-455f-a424-395afaf68926",
   "metadata": {},
   "outputs": [
    {
     "data": {
      "text/html": [
       "<div>\n",
       "<style scoped>\n",
       "    .dataframe tbody tr th:only-of-type {\n",
       "        vertical-align: middle;\n",
       "    }\n",
       "\n",
       "    .dataframe tbody tr th {\n",
       "        vertical-align: top;\n",
       "    }\n",
       "\n",
       "    .dataframe thead th {\n",
       "        text-align: right;\n",
       "    }\n",
       "</style>\n",
       "<table border=\"1\" class=\"dataframe\">\n",
       "  <thead>\n",
       "    <tr style=\"text-align: right;\">\n",
       "      <th></th>\n",
       "      <th>ID</th>\n",
       "      <th>Warehouse_block</th>\n",
       "      <th>Mode_of_Shipment</th>\n",
       "      <th>Customer_care_calls</th>\n",
       "      <th>Customer_rating</th>\n",
       "      <th>Cost_of_the_Product</th>\n",
       "      <th>Prior_purchases</th>\n",
       "      <th>Product_importance</th>\n",
       "      <th>Gender</th>\n",
       "      <th>Discount_offered</th>\n",
       "      <th>Weight_in_gms</th>\n",
       "      <th>Reached.on.Time_Y.N</th>\n",
       "    </tr>\n",
       "  </thead>\n",
       "  <tbody>\n",
       "    <tr>\n",
       "      <th>0</th>\n",
       "      <td>1</td>\n",
       "      <td>D</td>\n",
       "      <td>Flight</td>\n",
       "      <td>4</td>\n",
       "      <td>2</td>\n",
       "      <td>177</td>\n",
       "      <td>3</td>\n",
       "      <td>low</td>\n",
       "      <td>F</td>\n",
       "      <td>44</td>\n",
       "      <td>1233</td>\n",
       "      <td>1</td>\n",
       "    </tr>\n",
       "    <tr>\n",
       "      <th>1</th>\n",
       "      <td>2</td>\n",
       "      <td>F</td>\n",
       "      <td>Flight</td>\n",
       "      <td>4</td>\n",
       "      <td>5</td>\n",
       "      <td>216</td>\n",
       "      <td>2</td>\n",
       "      <td>low</td>\n",
       "      <td>M</td>\n",
       "      <td>59</td>\n",
       "      <td>3088</td>\n",
       "      <td>1</td>\n",
       "    </tr>\n",
       "    <tr>\n",
       "      <th>2</th>\n",
       "      <td>3</td>\n",
       "      <td>A</td>\n",
       "      <td>Flight</td>\n",
       "      <td>2</td>\n",
       "      <td>2</td>\n",
       "      <td>183</td>\n",
       "      <td>4</td>\n",
       "      <td>low</td>\n",
       "      <td>M</td>\n",
       "      <td>48</td>\n",
       "      <td>3374</td>\n",
       "      <td>1</td>\n",
       "    </tr>\n",
       "    <tr>\n",
       "      <th>3</th>\n",
       "      <td>4</td>\n",
       "      <td>B</td>\n",
       "      <td>Flight</td>\n",
       "      <td>3</td>\n",
       "      <td>3</td>\n",
       "      <td>176</td>\n",
       "      <td>4</td>\n",
       "      <td>medium</td>\n",
       "      <td>M</td>\n",
       "      <td>10</td>\n",
       "      <td>1177</td>\n",
       "      <td>1</td>\n",
       "    </tr>\n",
       "    <tr>\n",
       "      <th>4</th>\n",
       "      <td>5</td>\n",
       "      <td>C</td>\n",
       "      <td>Flight</td>\n",
       "      <td>2</td>\n",
       "      <td>2</td>\n",
       "      <td>184</td>\n",
       "      <td>3</td>\n",
       "      <td>medium</td>\n",
       "      <td>F</td>\n",
       "      <td>46</td>\n",
       "      <td>2484</td>\n",
       "      <td>1</td>\n",
       "    </tr>\n",
       "  </tbody>\n",
       "</table>\n",
       "</div>"
      ],
      "text/plain": [
       "   ID Warehouse_block Mode_of_Shipment  Customer_care_calls  Customer_rating  \\\n",
       "0   1               D           Flight                    4                2   \n",
       "1   2               F           Flight                    4                5   \n",
       "2   3               A           Flight                    2                2   \n",
       "3   4               B           Flight                    3                3   \n",
       "4   5               C           Flight                    2                2   \n",
       "\n",
       "   Cost_of_the_Product  Prior_purchases Product_importance Gender  \\\n",
       "0                  177                3                low      F   \n",
       "1                  216                2                low      M   \n",
       "2                  183                4                low      M   \n",
       "3                  176                4             medium      M   \n",
       "4                  184                3             medium      F   \n",
       "\n",
       "   Discount_offered  Weight_in_gms  Reached.on.Time_Y.N  \n",
       "0                44           1233                    1  \n",
       "1                59           3088                    1  \n",
       "2                48           3374                    1  \n",
       "3                10           1177                    1  \n",
       "4                46           2484                    1  "
      ]
     },
     "execution_count": 3,
     "metadata": {},
     "output_type": "execute_result"
    }
   ],
   "source": [
    "df.head()"
   ]
  },
  {
   "cell_type": "markdown",
   "id": "26562258-ba91-4650-9c7b-0761333d7f5f",
   "metadata": {},
   "source": [
    "## 결측처리"
   ]
  },
  {
   "cell_type": "code",
   "execution_count": 4,
   "id": "f694cb3a-f3a8-477e-b56d-1bac9eddb1f6",
   "metadata": {},
   "outputs": [
    {
     "data": {
      "text/plain": [
       "ID                     0\n",
       "Warehouse_block        0\n",
       "Mode_of_Shipment       0\n",
       "Customer_care_calls    0\n",
       "Customer_rating        0\n",
       "Cost_of_the_Product    0\n",
       "Prior_purchases        0\n",
       "Product_importance     0\n",
       "Gender                 0\n",
       "Discount_offered       0\n",
       "Weight_in_gms          0\n",
       "Reached.on.Time_Y.N    0\n",
       "dtype: int64"
      ]
     },
     "execution_count": 4,
     "metadata": {},
     "output_type": "execute_result"
    }
   ],
   "source": [
    "df.isna().sum()"
   ]
  },
  {
   "cell_type": "markdown",
   "id": "6786408d-cc10-465a-88ff-f36e0d9a04d4",
   "metadata": {},
   "source": [
    "## 인코딩"
   ]
  },
  {
   "cell_type": "code",
   "execution_count": 5,
   "id": "f65b1fc3-f5dd-449e-9d77-ffe1adc5ee8d",
   "metadata": {},
   "outputs": [
    {
     "data": {
      "text/plain": [
       "Index(['Warehouse_block', 'Mode_of_Shipment', 'Product_importance', 'Gender'], dtype='object')"
      ]
     },
     "execution_count": 5,
     "metadata": {},
     "output_type": "execute_result"
    }
   ],
   "source": [
    "df.select_dtypes('object').columns"
   ]
  },
  {
   "cell_type": "code",
   "execution_count": 6,
   "id": "0f2ac3c1-c920-4f68-ba02-3e490cef3f01",
   "metadata": {},
   "outputs": [],
   "source": [
    "obj_cols = df.select_dtypes('object').columns\n",
    "for col in obj_cols:\n",
    "    le = LabelEncoder()\n",
    "    encoder_data = le.fit_transform(df[col])  #array-like\n",
    "    df[col] = encoder_data\n",
    "#     df[col+\"_e\"] = encoder\n",
    "# df.drop(obj_cols, axis=1, inplace=True)\n"
   ]
  },
  {
   "cell_type": "markdown",
   "id": "ad6af6f3-8240-4691-9c0f-56a833ad7b37",
   "metadata": {
    "tags": []
   },
   "source": [
    "## tarin test 분리"
   ]
  },
  {
   "cell_type": "code",
   "execution_count": 7,
   "id": "d7b6f3be-f159-4469-821b-16ffd776f4db",
   "metadata": {},
   "outputs": [],
   "source": [
    "y = df['Reached.on.Time_Y.N']\n",
    "X = df.drop(['Reached.on.Time_Y.N'], axis=1)"
   ]
  },
  {
   "cell_type": "code",
   "execution_count": 8,
   "id": "f3ebcbdc-7450-4fd0-b6b6-f4f636f9a35b",
   "metadata": {},
   "outputs": [],
   "source": [
    "X_train, X_test, y_train, y_test = train_test_split(X, y , test_size=0.2, random_state=1414, shuffle=True, stratify=y)"
   ]
  },
  {
   "cell_type": "code",
   "execution_count": 9,
   "id": "101fa474-2386-4fe2-a2a1-7481de030401",
   "metadata": {},
   "outputs": [
    {
     "data": {
      "text/plain": [
       "((8799, 11), (2200, 11), (8799,), (2200,))"
      ]
     },
     "execution_count": 9,
     "metadata": {},
     "output_type": "execute_result"
    }
   ],
   "source": [
    "X_train.shape, X_test.shape, y_train.shape, y_test.shape"
   ]
  },
  {
   "cell_type": "markdown",
   "id": "b248b77a-a00f-4a74-a860-25609d1e9903",
   "metadata": {
    "tags": []
   },
   "source": [
    "## 스케일링"
   ]
  },
  {
   "cell_type": "code",
   "execution_count": 10,
   "id": "53f2ad5d-8712-4679-a77a-d25ef71c19dd",
   "metadata": {},
   "outputs": [],
   "source": [
    "scaler = StandardScaler()\n",
    "scaler.fit(X_train)\n",
    "X_train_scaler = scaler.transform(X_train)\n",
    "X_test_scaler = scaler.transform(X_test)"
   ]
  },
  {
   "cell_type": "markdown",
   "id": "ddc1b870-4f37-4662-adf5-f6fc778f8a69",
   "metadata": {},
   "source": [
    "## 1차 점수 확인"
   ]
  },
  {
   "cell_type": "code",
   "execution_count": 11,
   "id": "bd4a7033-b821-4a5f-b92d-895b938aa797",
   "metadata": {},
   "outputs": [
    {
     "name": "stdout",
     "output_type": "stream",
     "text": [
      "0.7476977686494692\n"
     ]
    }
   ],
   "source": [
    "model = RandomForestClassifier(random_state=1414)\n",
    "model.fit(X_train_scaler, y_train)\n",
    "proba = model.predict_proba(X_test_scaler)\n",
    "auc = roc_auc_score(y_test, proba[:, 1])\n",
    "print(auc)   #0.7506465891301206"
   ]
  },
  {
   "cell_type": "markdown",
   "id": "fe82b6e1-3ff0-4ca4-85c7-5ff67d1a9aaa",
   "metadata": {},
   "source": [
    "## 2차 점수 확인\n",
    "* 모델변경"
   ]
  },
  {
   "cell_type": "code",
   "execution_count": 12,
   "id": "cde984b0-9f21-43ba-9adb-52d99015c353",
   "metadata": {},
   "outputs": [],
   "source": [
    "from sklearn.ensemble import BaggingClassifier \n",
    "from xgboost import  XGBClassifier\n",
    "from lightgbm import LGBMClassifier\n",
    "from sklearn.tree import DecisionTreeClassifier\n",
    "from sklearn.ensemble import StackingClassifier"
   ]
  },
  {
   "cell_type": "code",
   "execution_count": 13,
   "id": "d8142599-9ebe-4915-a960-2de301f50eb3",
   "metadata": {},
   "outputs": [
    {
     "name": "stdout",
     "output_type": "stream",
     "text": [
      "RandomForestClassifier 0.7476977686494692\n",
      "BaggingClassifier 0.7475831400675407\n",
      "[17:59:01] WARNING: C:/Users/Administrator/workspace/xgboost-win64_release_1.4.0/src/learner.cc:1095: Starting in XGBoost 1.3.0, the default evaluation metric used with the objective 'binary:logistic' was changed from 'error' to 'logloss'. Explicitly set eval_metric if you'd like to restore the old behavior.\n",
      "XGBClassifier 0.7349151791425783\n",
      "LGBMClassifier 0.7443739690940736\n",
      "DecisionTreeClassifier 0.6498466037740709\n"
     ]
    }
   ],
   "source": [
    "models = [RandomForestClassifier(random_state=1414), \n",
    "          BaggingClassifier(),  XGBClassifier(),  LGBMClassifier(),  DecisionTreeClassifier()]\n",
    "for model in models:\n",
    "    model.fit(X_train_scaler, y_train)  \n",
    "    proba = model.predict_proba(X_test_scaler)\n",
    "    auc = roc_auc_score(y_test, proba[:, 1])\n",
    "    print(model.__class__.__name__, auc)   #0.7506465891301206"
   ]
  },
  {
   "cell_type": "markdown",
   "id": "0616a182-06a7-4eb9-a883-63f677b471ba",
   "metadata": {
    "jp-MarkdownHeadingCollapsed": true,
    "tags": []
   },
   "source": [
    "* 최적의 모델 우선 결정\n",
    "*  RandomForestClassifier"
   ]
  },
  {
   "cell_type": "code",
   "execution_count": 14,
   "id": "18d4902b-2e1c-4f30-ae9b-2126435a2188",
   "metadata": {},
   "outputs": [],
   "source": [
    "model = RandomForestClassifier(random_state=1414)"
   ]
  },
  {
   "cell_type": "markdown",
   "id": "1d345c2b-67d8-464f-ac78-1fda8dddc106",
   "metadata": {},
   "source": [
    "### cross_val_score(model,X,y), GridSearchCV(model,X,y)  --> X, y 통째로 다 주기위해 train, test 합치기\n",
    "* df\n",
    "* X,y  \n",
    "* X_train, X_test, y_train, y_test\n",
    "* X_train_scaler, X_test_scaler, y_train, y_test   ----------> XX_scaler, yy\n"
   ]
  },
  {
   "cell_type": "code",
   "execution_count": 1,
   "id": "49394581-12d0-4941-8cf9-d3e4ba46c89e",
   "metadata": {},
   "outputs": [
    {
     "ename": "NameError",
     "evalue": "name 'np' is not defined",
     "output_type": "error",
     "traceback": [
      "\u001b[1;31m---------------------------------------------------------------------------\u001b[0m",
      "\u001b[1;31mNameError\u001b[0m                                 Traceback (most recent call last)",
      "\u001b[1;32m~\\AppData\\Local\\Temp/ipykernel_16296/1848742298.py\u001b[0m in \u001b[0;36m<module>\u001b[1;34m\u001b[0m\n\u001b[0;32m      1\u001b[0m \u001b[1;31m# array  + array\u001b[0m\u001b[1;33m\u001b[0m\u001b[1;33m\u001b[0m\u001b[1;33m\u001b[0m\u001b[0m\n\u001b[1;32m----> 2\u001b[1;33m \u001b[0mXX_scaler\u001b[0m \u001b[1;33m=\u001b[0m \u001b[0mnp\u001b[0m\u001b[1;33m.\u001b[0m\u001b[0mconcatenate\u001b[0m\u001b[1;33m(\u001b[0m\u001b[1;33m[\u001b[0m\u001b[0mX_train_scaler\u001b[0m\u001b[1;33m,\u001b[0m \u001b[0mX_test_scaler\u001b[0m\u001b[1;33m]\u001b[0m\u001b[1;33m)\u001b[0m\u001b[1;33m\u001b[0m\u001b[1;33m\u001b[0m\u001b[0m\n\u001b[0m\u001b[0;32m      3\u001b[0m \u001b[0mprint\u001b[0m\u001b[1;33m(\u001b[0m\u001b[0mX_train_scaler\u001b[0m\u001b[1;33m.\u001b[0m\u001b[0mshape\u001b[0m\u001b[1;33m,\u001b[0m \u001b[0mX_test_scaler\u001b[0m\u001b[1;33m.\u001b[0m\u001b[0mshape\u001b[0m\u001b[1;33m,\u001b[0m \u001b[0mXX_scaler\u001b[0m\u001b[1;33m.\u001b[0m\u001b[0mshape\u001b[0m\u001b[1;33m)\u001b[0m\u001b[1;33m\u001b[0m\u001b[1;33m\u001b[0m\u001b[0m\n\u001b[0;32m      4\u001b[0m \u001b[1;33m\u001b[0m\u001b[0m\n\u001b[0;32m      5\u001b[0m \u001b[1;31m# Series + Series\u001b[0m\u001b[1;33m\u001b[0m\u001b[1;33m\u001b[0m\u001b[1;33m\u001b[0m\u001b[0m\n",
      "\u001b[1;31mNameError\u001b[0m: name 'np' is not defined"
     ]
    }
   ],
   "source": [
    "# array  + array \n",
    "XX_scaler = np.concatenate([X_train_scaler, X_test_scaler])\n",
    "print(X_train_scaler.shape, X_test_scaler.shape, XX_scaler.shape)\n",
    "\n",
    "# Series + Series\n",
    "yy = pd.concat([y_train, y_test], axis=0)\n"
   ]
  },
  {
   "cell_type": "markdown",
   "id": "20e53297-b2fd-4f21-8d63-2da7eb1ac6f8",
   "metadata": {},
   "source": [
    "## 3차 점수 확인 : cross_val_score"
   ]
  },
  {
   "cell_type": "code",
   "execution_count": 16,
   "id": "29cff49d-d341-4e39-9645-85d7d8136e41",
   "metadata": {},
   "outputs": [
    {
     "name": "stdout",
     "output_type": "stream",
     "text": [
      "[0.72622444 0.75446858 0.72082574 0.76020208 0.74707582]\n",
      "0.7417593332762049\n"
     ]
    }
   ],
   "source": [
    "from sklearn.model_selection import cross_val_score\n",
    "scores_arr = cross_val_score(model, XX_scaler, yy, scoring='roc_auc', cv=5)\n",
    "print(scores_arr)\n",
    "print(scores_arr.mean())\n"
   ]
  },
  {
   "cell_type": "markdown",
   "id": "a79edeec-2a12-4e1a-8f7a-847747b57bf6",
   "metadata": {},
   "source": [
    "## 4차 점수 확인 : GridSearchCV\n",
    "* 하이퍼파라미터 튜닝을 통한 모델 성능 개선"
   ]
  },
  {
   "cell_type": "code",
   "execution_count": 18,
   "id": "f32b2072-c92f-4e97-af7a-0651b020e66c",
   "metadata": {},
   "outputs": [
    {
     "name": "stdout",
     "output_type": "stream",
     "text": [
      "0.7417593332762049\n",
      "{'n_estimators': 100}\n"
     ]
    }
   ],
   "source": [
    "model = RandomForestClassifier(random_state=1414)\n",
    "myparam = {\"n_estimators\":[100]}     # model.get_params().keys()\n",
    "gcv_model = GridSearchCV(model,param_grid=myparam, scoring='roc_auc', refit=True, cv=5)\n",
    "gcv_model.fit(XX_scaler, yy)\n",
    "print(gcv_model.best_score_)\n",
    "print(gcv_model.best_params_)\n"
   ]
  },
  {
   "cell_type": "code",
   "execution_count": 20,
   "id": "6aae57a9-e860-4caf-a9e6-247e7e4dec88",
   "metadata": {},
   "outputs": [
    {
     "name": "stdout",
     "output_type": "stream",
     "text": [
      "[18:45:20] WARNING: C:/Users/Administrator/workspace/xgboost-win64_release_1.4.0/src/learner.cc:573: \n",
      "Parameters: { \"n_estimators\" } might not be used.\n",
      "\n",
      "  This may not be accurate due to some parameters are only used in language bindings but\n",
      "  passed down to XGBoost core.  Or some parameters are not used but slip through this\n",
      "  verification. Please open an issue if you find above cases.\n",
      "\n",
      "\n",
      "[18:45:20] WARNING: C:/Users/Administrator/workspace/xgboost-win64_release_1.4.0/src/learner.cc:573: \n",
      "Parameters: { \"n_estimators\" } might not be used.\n",
      "\n",
      "  This may not be accurate due to some parameters are only used in language bindings but\n",
      "  passed down to XGBoost core.  Or some parameters are not used but slip through this\n",
      "  verification. Please open an issue if you find above cases.\n",
      "\n",
      "\n",
      "[18:45:20] WARNING: C:/Users/Administrator/workspace/xgboost-win64_release_1.4.0/src/learner.cc:573: \n",
      "Parameters: { \"n_estimators\" } might not be used.\n",
      "\n",
      "  This may not be accurate due to some parameters are only used in language bindings but\n",
      "  passed down to XGBoost core.  Or some parameters are not used but slip through this\n",
      "  verification. Please open an issue if you find above cases.\n",
      "\n",
      "\n",
      "[18:45:20] WARNING: C:/Users/Administrator/workspace/xgboost-win64_release_1.4.0/src/learner.cc:573: \n",
      "Parameters: { \"n_estimators\" } might not be used.\n",
      "\n",
      "  This may not be accurate due to some parameters are only used in language bindings but\n",
      "  passed down to XGBoost core.  Or some parameters are not used but slip through this\n",
      "  verification. Please open an issue if you find above cases.\n",
      "\n",
      "\n",
      "[18:45:20] WARNING: C:/Users/Administrator/workspace/xgboost-win64_release_1.4.0/src/learner.cc:573: \n",
      "Parameters: { \"n_estimators\" } might not be used.\n",
      "\n",
      "  This may not be accurate due to some parameters are only used in language bindings but\n",
      "  passed down to XGBoost core.  Or some parameters are not used but slip through this\n",
      "  verification. Please open an issue if you find above cases.\n",
      "\n",
      "\n"
     ]
    },
    {
     "data": {
      "text/plain": [
       "0.8140157799999999"
      ]
     },
     "execution_count": 20,
     "metadata": {},
     "output_type": "execute_result"
    }
   ],
   "source": [
    "# from xgboost import DMatrix, cv\n",
    "# dmatrix_df = DMatrix(data=X, label=y, enable_categorical=True)\n",
    "# xgb_cv_res = cv(dtrain=dmatrix_df, \n",
    "\n",
    "#------------- 0.8140157799999999 --------------          \n",
    "import xgboost as xgb\n",
    "dmatrix_df = xgb.DMatrix(data=XX_scaler, label=yy, enable_categorical=True)\n",
    "xgb_cv_res = xgb.cv(dtrain=dmatrix_df, \n",
    "               params={\"n_estimators\": 300, \"objective\":\"binary:logistic\"}, \n",
    "               nfold=5, \n",
    "               metrics=\"auc\",        #--- 이진분류 점수 중 하나 \n",
    "               as_pandas=True)\n",
    "xgb_cv_res['train-auc-mean'].mean()  #------------ 이거 accuracy 점수 아님......\n"
   ]
  }
 ],
 "metadata": {
  "kernelspec": {
   "display_name": "Python 3 (ipykernel)",
   "language": "python",
   "name": "python3"
  },
  "language_info": {
   "codemirror_mode": {
    "name": "ipython",
    "version": 3
   },
   "file_extension": ".py",
   "mimetype": "text/x-python",
   "name": "python",
   "nbconvert_exporter": "python",
   "pygments_lexer": "ipython3",
   "version": "3.8.8"
  }
 },
 "nbformat": 4,
 "nbformat_minor": 5
}
