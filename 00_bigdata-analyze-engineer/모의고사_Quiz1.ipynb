{
 "cells": [
  {
   "cell_type": "code",
   "execution_count": 1,
   "id": "368bf274-018b-48f1-a1bc-060fa9b52156",
   "metadata": {},
   "outputs": [],
   "source": [
    "import pandas  as pd\n",
    "import numpy as np"
   ]
  },
  {
   "cell_type": "code",
   "execution_count": 239,
   "id": "f70ca159-8767-4717-868f-75150cf13924",
   "metadata": {},
   "outputs": [],
   "source": [
    "df = pd.read_csv(\"./Quiz2/X_test.csv\")"
   ]
  },
  {
   "cell_type": "markdown",
   "id": "463db2f4-1cb7-430e-8c9b-568e1cbf20af",
   "metadata": {},
   "source": [
    "* [이전 기출문제]'내점일수'가 90인 값을 '내점일수' 중앙값(median)으로 바꾸고    \n",
    "변경전, 변경 후 '내점일수'의 표준편차 출력\n"
   ]
  },
  {
   "cell_type": "code",
   "execution_count": 240,
   "id": "18337541-bb20-4763-82f3-c52213694daa",
   "metadata": {},
   "outputs": [
    {
     "name": "stdout",
     "output_type": "stream",
     "text": [
      "0.15151968516001801\n"
     ]
    }
   ],
   "source": [
    "before = df['내점일수'].std()\n",
    "before\n",
    "\n",
    "idx = df[df['내점일수'] == 90].index  #[1, 501, 529, 1217]\n",
    "df.loc[idx , '내점일수']  = df['내점일수'].median()  #19.516921837228043\n",
    "\n",
    "after = df['내점일수'].std()\n",
    "# print(before, after)   #25.97397225487153 25.81907960953315\n",
    "print(before - after)    #0.15489264533837854\n",
    "\n"
   ]
  },
  {
   "cell_type": "code",
   "execution_count": null,
   "id": "c5cc706e-f1f5-42fd-83bf-148b5f74bce2",
   "metadata": {},
   "outputs": [],
   "source": []
  },
  {
   "cell_type": "code",
   "execution_count": null,
   "id": "f226317b-d6f9-4b0c-acb9-1521487d8a35",
   "metadata": {},
   "outputs": [],
   "source": []
  },
  {
   "cell_type": "code",
   "execution_count": null,
   "id": "e61920e4-87ab-45e3-9324-d688207f9264",
   "metadata": {},
   "outputs": [],
   "source": []
  },
  {
   "cell_type": "code",
   "execution_count": 207,
   "id": "af5688b4-fe69-43fd-8bb9-b8ff2d08677c",
   "metadata": {},
   "outputs": [
    {
     "name": "stdout",
     "output_type": "stream",
     "text": [
      "['cust_id', '총구매액', '최대구매액', '환불금액', '주구매상품', '주구매지점', '내점일수', '내점당구매건수', '주말방문비율', '구매주기']\n"
     ]
    },
    {
     "data": {
      "text/html": [
       "<div>\n",
       "<style scoped>\n",
       "    .dataframe tbody tr th:only-of-type {\n",
       "        vertical-align: middle;\n",
       "    }\n",
       "\n",
       "    .dataframe tbody tr th {\n",
       "        vertical-align: top;\n",
       "    }\n",
       "\n",
       "    .dataframe thead th {\n",
       "        text-align: right;\n",
       "    }\n",
       "</style>\n",
       "<table border=\"1\" class=\"dataframe\">\n",
       "  <thead>\n",
       "    <tr style=\"text-align: right;\">\n",
       "      <th></th>\n",
       "      <th>cust_id</th>\n",
       "      <th>총구매액</th>\n",
       "      <th>최대구매액</th>\n",
       "      <th>환불금액</th>\n",
       "      <th>주구매상품</th>\n",
       "      <th>주구매지점</th>\n",
       "      <th>내점일수</th>\n",
       "      <th>내점당구매건수</th>\n",
       "      <th>주말방문비율</th>\n",
       "      <th>구매주기</th>\n",
       "    </tr>\n",
       "  </thead>\n",
       "  <tbody>\n",
       "    <tr>\n",
       "      <th>0</th>\n",
       "      <td>3500</td>\n",
       "      <td>70900400</td>\n",
       "      <td>22000000</td>\n",
       "      <td>4050000.0</td>\n",
       "      <td>골프</td>\n",
       "      <td>부산본점</td>\n",
       "      <td>13</td>\n",
       "      <td>1.461538</td>\n",
       "      <td>0.789474</td>\n",
       "      <td>26</td>\n",
       "    </tr>\n",
       "    <tr>\n",
       "      <th>1</th>\n",
       "      <td>3501</td>\n",
       "      <td>310533100</td>\n",
       "      <td>38558000</td>\n",
       "      <td>48034700.0</td>\n",
       "      <td>농산물</td>\n",
       "      <td>잠실점</td>\n",
       "      <td>90</td>\n",
       "      <td>2.433333</td>\n",
       "      <td>0.369863</td>\n",
       "      <td>3</td>\n",
       "    </tr>\n",
       "  </tbody>\n",
       "</table>\n",
       "</div>"
      ],
      "text/plain": [
       "   cust_id       총구매액     최대구매액        환불금액 주구매상품 주구매지점  내점일수   내점당구매건수  \\\n",
       "0     3500   70900400  22000000   4050000.0    골프  부산본점    13  1.461538   \n",
       "1     3501  310533100  38558000  48034700.0   농산물   잠실점    90  2.433333   \n",
       "\n",
       "     주말방문비율  구매주기  \n",
       "0  0.789474    26  \n",
       "1  0.369863     3  "
      ]
     },
     "execution_count": 207,
     "metadata": {},
     "output_type": "execute_result"
    }
   ],
   "source": [
    "print(df.columns.tolist())\n",
    "df.head(2)"
   ]
  },
  {
   "cell_type": "code",
   "execution_count": 221,
   "id": "e59bab2b-bb14-4542-8ca0-6c99de8d4c0c",
   "metadata": {},
   "outputs": [
    {
     "data": {
      "text/html": [
       "<div>\n",
       "<style scoped>\n",
       "    .dataframe tbody tr th:only-of-type {\n",
       "        vertical-align: middle;\n",
       "    }\n",
       "\n",
       "    .dataframe tbody tr th {\n",
       "        vertical-align: top;\n",
       "    }\n",
       "\n",
       "    .dataframe thead th {\n",
       "        text-align: right;\n",
       "    }\n",
       "</style>\n",
       "<table border=\"1\" class=\"dataframe\">\n",
       "  <thead>\n",
       "    <tr style=\"text-align: right;\">\n",
       "      <th></th>\n",
       "      <th>cust_id</th>\n",
       "      <th>총구매액</th>\n",
       "      <th>최대구매액</th>\n",
       "      <th>환불금액</th>\n",
       "      <th>주구매상품</th>\n",
       "      <th>주구매지점</th>\n",
       "      <th>내점일수</th>\n",
       "      <th>내점당구매건수</th>\n",
       "      <th>주말방문비율</th>\n",
       "      <th>구매주기</th>\n",
       "    </tr>\n",
       "  </thead>\n",
       "  <tbody>\n",
       "    <tr>\n",
       "      <th>1693</th>\n",
       "      <td>5193</td>\n",
       "      <td>16259600</td>\n",
       "      <td>10830000</td>\n",
       "      <td>NaN</td>\n",
       "      <td>모피/피혁</td>\n",
       "      <td>잠실점</td>\n",
       "      <td>2</td>\n",
       "      <td>1.5</td>\n",
       "      <td>0.333333</td>\n",
       "      <td>139</td>\n",
       "    </tr>\n",
       "    <tr>\n",
       "      <th>1549</th>\n",
       "      <td>5049</td>\n",
       "      <td>2787000</td>\n",
       "      <td>2556000</td>\n",
       "      <td>NaN</td>\n",
       "      <td>건강식품</td>\n",
       "      <td>일산점</td>\n",
       "      <td>2</td>\n",
       "      <td>1.0</td>\n",
       "      <td>0.000000</td>\n",
       "      <td>139</td>\n",
       "    </tr>\n",
       "    <tr>\n",
       "      <th>1034</th>\n",
       "      <td>4534</td>\n",
       "      <td>2775000</td>\n",
       "      <td>2625000</td>\n",
       "      <td>NaN</td>\n",
       "      <td>구두</td>\n",
       "      <td>잠실점</td>\n",
       "      <td>2</td>\n",
       "      <td>1.0</td>\n",
       "      <td>0.500000</td>\n",
       "      <td>139</td>\n",
       "    </tr>\n",
       "    <tr>\n",
       "      <th>1430</th>\n",
       "      <td>4930</td>\n",
       "      <td>11465000</td>\n",
       "      <td>10010000</td>\n",
       "      <td>NaN</td>\n",
       "      <td>생활잡화</td>\n",
       "      <td>노원점</td>\n",
       "      <td>2</td>\n",
       "      <td>1.5</td>\n",
       "      <td>0.000000</td>\n",
       "      <td>139</td>\n",
       "    </tr>\n",
       "    <tr>\n",
       "      <th>1393</th>\n",
       "      <td>4893</td>\n",
       "      <td>1339100</td>\n",
       "      <td>931000</td>\n",
       "      <td>NaN</td>\n",
       "      <td>캐주얼</td>\n",
       "      <td>영등포점</td>\n",
       "      <td>2</td>\n",
       "      <td>2.0</td>\n",
       "      <td>0.500000</td>\n",
       "      <td>139</td>\n",
       "    </tr>\n",
       "  </tbody>\n",
       "</table>\n",
       "</div>"
      ],
      "text/plain": [
       "      cust_id      총구매액     최대구매액  환불금액  주구매상품 주구매지점  내점일수  내점당구매건수    주말방문비율  \\\n",
       "1693     5193  16259600  10830000   NaN  모피/피혁   잠실점     2      1.5  0.333333   \n",
       "1549     5049   2787000   2556000   NaN   건강식품   일산점     2      1.0  0.000000   \n",
       "1034     4534   2775000   2625000   NaN     구두   잠실점     2      1.0  0.500000   \n",
       "1430     4930  11465000  10010000   NaN   생활잡화   노원점     2      1.5  0.000000   \n",
       "1393     4893   1339100    931000   NaN    캐주얼  영등포점     2      2.0  0.500000   \n",
       "\n",
       "      구매주기  \n",
       "1693   139  \n",
       "1549   139  \n",
       "1034   139  \n",
       "1430   139  \n",
       "1393   139  "
      ]
     },
     "execution_count": 223,
     "metadata": {},
     "output_type": "execute_result"
    }
   ],
   "source": [
    "df = df.sort_values(by='구매주기', ascending=False)[:10]\n",
    "idx = df.index\n",
    "df.loc[idx[9], '구매주기'] \n",
    "df.loc[idx, '구매주기'] = 139\n",
    "df.head()\n",
    "\n",
    "#for idx in df['구매주기'].sort_values(ascending =False)[:10].index:\n",
    "#    df.loc[idx, '구매주기'] =  df.loc[2026, '구매주기']\n",
    "\n"
   ]
  },
  {
   "cell_type": "markdown",
   "id": "f863d833-1705-4110-9bab-741ad5634174",
   "metadata": {},
   "source": [
    "* [QUIZ]주구매상품이 스포츠이거나 캐주얼인 경우 구매주기 평균"
   ]
  },
  {
   "cell_type": "code",
   "execution_count": 15,
   "id": "d06045c3-7e8e-41e0-9966-c778fdcb4be7",
   "metadata": {},
   "outputs": [
    {
     "name": "stdout",
     "output_type": "stream",
     "text": [
      "22.02777777777778\n",
      "22.02777777777778\n"
     ]
    }
   ],
   "source": [
    "print(df[(df['주구매상품']=='스포츠') | (df['주구매상품']=='캐주얼')]['구매주기'].mean())\n",
    "res = df[(df['주구매상품']=='스포츠') | (df['주구매상품']=='캐주얼')]['구매주기'].mean()\n",
    "print(res)"
   ]
  },
  {
   "cell_type": "code",
   "execution_count": 11,
   "id": "9a541cee-c3cd-45a5-9f3a-4c2e0a5ad2ab",
   "metadata": {},
   "outputs": [
    {
     "data": {
      "text/plain": [
       "array(['골프', '농산물', '가공식품', '주방용품', '수산품', '화장품', '기타', '스포츠', '디자이너',\n",
       "       '시티웨어', '구두', '캐주얼', '명품', '건강식품', '남성정장', '커리어', '남성 캐주얼', '축산가공',\n",
       "       '식기', '피혁잡화', '모피/피혁', '섬유잡화', '트래디셔널', '차/커피', '육류', '가구', '아동',\n",
       "       '셔츠', '액세서리', '젓갈/반찬', '대형가전', '일용잡화', '통신/컴퓨터', '생활잡화', '주방가전',\n",
       "       '란제리/내의', '남성 트랜디', '보석', '주류', '침구/수예', '악기'], dtype=object)"
      ]
     },
     "execution_count": 11,
     "metadata": {},
     "output_type": "execute_result"
    }
   ],
   "source": [
    "df['주구매상품'].unique()"
   ]
  },
  {
   "cell_type": "markdown",
   "id": "4528135c-f8e1-42ca-ad66-c97ecedc722e",
   "metadata": {},
   "source": [
    "* [QUIZ]총구매액이 80000000 이상인 고객의 평균 구매금액"
   ]
  },
  {
   "cell_type": "code",
   "execution_count": 19,
   "id": "a7b3f31e-112e-46c3-927e-966940c1c936",
   "metadata": {},
   "outputs": [
    {
     "name": "stdout",
     "output_type": "stream",
     "text": [
      "257547005.075846\n"
     ]
    }
   ],
   "source": [
    "print(df[df['총구매액'] >= 80000000]['총구매액'].mean())\n",
    "\n",
    "# df[조건] [컬럼] 평균,합,갯수\n",
    "# df[ df[]>200 ] [[컬럼,컬럼]]  .평균"
   ]
  },
  {
   "cell_type": "markdown",
   "id": "6348138d-a22c-48b3-8b9f-1d0367095e0a",
   "metadata": {},
   "source": [
    "* [QUIZ]구매주기  Min-max 스케일링 변환 후 0.5보다 큰 레코드 갯수"
   ]
  },
  {
   "cell_type": "code",
   "execution_count": 43,
   "id": "d832771e-c849-400a-97c9-77d6e9971338",
   "metadata": {},
   "outputs": [],
   "source": [
    "#aa = np.array([1,2,3,4])>2 "
   ]
  },
  {
   "cell_type": "code",
   "execution_count": 36,
   "id": "6646af23-3372-4169-bb5e-3b84b2f9e319",
   "metadata": {},
   "outputs": [
    {
     "name": "stdout",
     "output_type": "stream",
     "text": [
      "[26  3  3 ... 18 60 31]\n",
      "[26  3  3 ... 18 60 31]\n",
      "[[26]\n",
      " [ 3]\n",
      " [ 3]\n",
      " ...\n",
      " [18]\n",
      " [60]\n",
      " [31]]\n"
     ]
    }
   ],
   "source": [
    "print(  df['구매주기'].values                     )\n",
    "print(  np.array(df['구매주기'])                  )\n",
    "print(  np.array(df['구매주기']).reshape(-1, 1)   )\n"
   ]
  },
  {
   "cell_type": "code",
   "execution_count": 44,
   "id": "04f9906d-f165-4ce8-bf86-02e25e7f03d8",
   "metadata": {},
   "outputs": [
    {
     "name": "stdout",
     "output_type": "stream",
     "text": [
      "65\n"
     ]
    }
   ],
   "source": [
    "from sklearn.preprocessing import MinMaxScaler\n",
    "scaler = MinMaxScaler()\n",
    "df['scaler_구매주기'] = scaler.fit_transform(df['구매주기'].values.reshape(-1, 1))\n",
    "df['scaler_구매주기'] = scaler.fit_transform(np.array(df['구매주기']).reshape(-1, 1))\n",
    "print(len(df[  df['scaler_구매주기']>0.5  ]))"
   ]
  },
  {
   "cell_type": "markdown",
   "id": "e8ace5da-9325-4d8f-bdb2-5543363c5e44",
   "metadata": {},
   "source": [
    "* [QUIZ]총구매액이 평균(총구매액)보다 크면 1, 아니면 0 인 AAA컬럼 생성 후 총합 값 구하기"
   ]
  },
  {
   "cell_type": "code",
   "execution_count": 52,
   "id": "a33951a0-16c0-4a66-9efd-5f00ef6b70cc",
   "metadata": {},
   "outputs": [
    {
     "name": "stdout",
     "output_type": "stream",
     "text": [
      "723\n"
     ]
    }
   ],
   "source": [
    "mm = df['총구매액'].mean()\n",
    "idx1 = df[df['총구매액'] > mm].index\n",
    "df['AAA'] = 0\n",
    "\n",
    "df.loc[idx1, 'AAA'] = 1\n",
    "print(df['AAA'].sum())"
   ]
  },
  {
   "cell_type": "code",
   "execution_count": 53,
   "id": "95a6c499-f7b7-4df9-ab43-9ce65885d12f",
   "metadata": {},
   "outputs": [
    {
     "name": "stdout",
     "output_type": "stream",
     "text": [
      "723\n"
     ]
    }
   ],
   "source": [
    "mm = df['총구매액'].mean()\n",
    "df['AAA'] = df['총구매액'].apply(lambda x : 1 if x > mm else 0)\n",
    "print(df['AAA'].sum())"
   ]
  },
  {
   "cell_type": "code",
   "execution_count": 55,
   "id": "047234ac-cbc6-42b2-9449-cacc92ed569c",
   "metadata": {},
   "outputs": [
    {
     "name": "stdout",
     "output_type": "stream",
     "text": [
      "723\n"
     ]
    }
   ],
   "source": [
    "mm = df['총구매액'].mean()\n",
    "sum_v = 0\n",
    "for v in df['총구매액']:\n",
    "    if v > mm:\n",
    "        sum_v = sum_v + 1\n",
    "    else :\n",
    "        0\n",
    "print(sum_v)        "
   ]
  },
  {
   "cell_type": "markdown",
   "id": "aaec8c14-1fee-4286-94e9-f8c2fcdca725",
   "metadata": {},
   "source": [
    "* [QUIZ]총구매액 가장큰 상위 10개 평균  - 가장적은 하위10개평균 차이"
   ]
  },
  {
   "cell_type": "code",
   "execution_count": 62,
   "id": "88bad971-542d-4b2e-8fa9-a97e88bdece8",
   "metadata": {},
   "outputs": [
    {
     "name": "stdout",
     "output_type": "stream",
     "text": [
      "1544309617.0\n"
     ]
    }
   ],
   "source": [
    "df = df.sort_values(by='총구매액')  #ascending=False\n",
    "lw10 = df['총구매액'][:10].mean()\n",
    "up10 = df['총구매액'][-10:].mean()\n",
    "#print(len(up10), len(lw10))\n",
    "print(up10-lw10)"
   ]
  },
  {
   "cell_type": "markdown",
   "id": "af408737-8235-466f-9e03-8ff19130502f",
   "metadata": {},
   "source": [
    "* [QUIZ]내점일수가 가장 많은 주구매지점과 가장 적은 주구매지점의 차이\n"
   ]
  },
  {
   "cell_type": "code",
   "execution_count": 64,
   "id": "5fc03942-8da4-4af0-8556-f5c3ed139c0c",
   "metadata": {},
   "outputs": [
    {
     "name": "stdout",
     "output_type": "stream",
     "text": [
      "221\n"
     ]
    }
   ],
   "source": [
    "print(df['내점일수'].max() - df['내점일수'].min())"
   ]
  },
  {
   "cell_type": "markdown",
   "id": "64ed7784-fbab-4cd0-bd6a-f8fd38dd0336",
   "metadata": {},
   "source": [
    "* [QUIZ]캐주얼 상품 총구매액 - 농산물 상품 총구매액 차이"
   ]
  },
  {
   "cell_type": "code",
   "execution_count": 70,
   "id": "74ef054f-d538-4662-907b-13904d06886c",
   "metadata": {},
   "outputs": [
    {
     "name": "stdout",
     "output_type": "stream",
     "text": [
      "-22383723470\n"
     ]
    }
   ],
   "source": [
    "a = df[df['주구매상품']=='캐주얼']['총구매액'].sum()\n",
    "b = df[df['주구매상품']=='농산물']['총구매액'].sum()\n",
    "# print(a, b)   7835367570   30219091040\n",
    "print(a-b)"
   ]
  },
  {
   "cell_type": "markdown",
   "id": "208bb9de-66d6-4167-be17-94194fd18c6a",
   "metadata": {},
   "source": [
    "* [QUIZ]주구매상품 중 최대 매출상품 3개의 총구매금액은 전체 총구매금액의 %인가"
   ]
  },
  {
   "cell_type": "code",
   "execution_count": 110,
   "id": "25f84e31-a8aa-4edb-b39e-91f5fc23439b",
   "metadata": {},
   "outputs": [
    {
     "name": "stdout",
     "output_type": "stream",
     "text": [
      "51.35156583368913\n"
     ]
    }
   ],
   "source": [
    "df33 = df.groupby('주구매상품')['총구매액'].sum().sort_values(ascending=False)\n",
    "# print(df33.head(10))\n",
    "print(df33.head(3).sum() / df['총구매액'].sum() *100)\n",
    "\n"
   ]
  },
  {
   "cell_type": "markdown",
   "id": "88ac7b41-a6a6-49f5-ab48-153e07a17c74",
   "metadata": {},
   "source": [
    "* [QUIZ]내점당구매건수가 가장 많은 TOP 3지점 (난해한 문제...)"
   ]
  },
  {
   "cell_type": "code",
   "execution_count": 106,
   "id": "ca614f16-4377-4571-9f3b-4a32bd320ef2",
   "metadata": {},
   "outputs": [
    {
     "name": "stdout",
     "output_type": "stream",
     "text": [
      "['부평점' '분당점' '본  점']\n"
     ]
    }
   ],
   "source": [
    "dfsort = df.sort_values(by='내점당구매건수', ascending=False)\n",
    "print(dfsort['주구매지점'][:3].values)"
   ]
  },
  {
   "cell_type": "code",
   "execution_count": 112,
   "id": "bd071d39-8986-483f-8241-9c2fde82df2a",
   "metadata": {},
   "outputs": [
    {
     "data": {
      "text/plain": [
       "cust_id        0.000000\n",
       "총구매액           0.000000\n",
       "최대구매액          0.000000\n",
       "환불금액           0.649073\n",
       "주구매상품          0.000000\n",
       "주구매지점          0.000000\n",
       "내점일수           0.000000\n",
       "내점당구매건수        0.000000\n",
       "주말방문비율         0.000000\n",
       "구매주기           0.000000\n",
       "scaler_구매주기    0.000000\n",
       "AAA            0.000000\n",
       "dtype: float64"
      ]
     },
     "execution_count": 112,
     "metadata": {},
     "output_type": "execute_result"
    }
   ],
   "source": [
    "df.isna().mean()"
   ]
  },
  {
   "cell_type": "code",
   "execution_count": null,
   "id": "c0334eea-a604-4e0f-8eca-3ed179a37c81",
   "metadata": {},
   "outputs": [],
   "source": []
  },
  {
   "cell_type": "markdown",
   "id": "b480b06c-db51-4813-ba28-3461d5ea7a49",
   "metadata": {},
   "source": [
    "* [QUIZ]80% 훈련데이터 선출, \n",
    "* 총구매액 상위 25%, 하위 25% 선출, 구매주기 편차"
   ]
  },
  {
   "cell_type": "code",
   "execution_count": 131,
   "id": "1733fe43-4ad1-481a-bb93-9ebdd47345b2",
   "metadata": {},
   "outputs": [
    {
     "data": {
      "text/plain": [
       "620"
      ]
     },
     "execution_count": 131,
     "metadata": {},
     "output_type": "execute_result"
    }
   ],
   "source": [
    "int(df.shape[0] * 0.25)"
   ]
  },
  {
   "cell_type": "code",
   "execution_count": 133,
   "id": "54d9f7b6-7155-49b8-bb0f-839404af0663",
   "metadata": {},
   "outputs": [
    {
     "name": "stdout",
     "output_type": "stream",
     "text": [
      "29.777166759482085 8.771363369680259\n"
     ]
    }
   ],
   "source": [
    "df08 = df[:int(len(df) * 0.8)]\n",
    "df08 = df08.sort_values('총구매액')\n",
    "\n",
    "df25 = df08['구매주기'][:620].std()\n",
    "df75 = df08['구매주기'][-620:].std()\n",
    "print(df25, df75)\n",
    "\n",
    "#df08['총구매액'].quantile(0.25)   #16034000.0\n",
    "#df08['총구매액'].quantile(0.75)   #163163790.0"
   ]
  },
  {
   "cell_type": "markdown",
   "id": "22b54c56-6adb-4f61-b8fa-375ba2b904c2",
   "metadata": {},
   "source": [
    "* df['환불금액']의 결측치를 10000000 값으로 변경 후 변경 전 과 변경 후의 전체 환불금액 차이값을 계산하시오"
   ]
  },
  {
   "cell_type": "code",
   "execution_count": 154,
   "id": "7efba6f4-ba3b-49a2-97e5-1786fd946c3c",
   "metadata": {},
   "outputs": [
    {
     "data": {
      "text/plain": [
       "1611"
      ]
     },
     "execution_count": 154,
     "metadata": {},
     "output_type": "execute_result"
    }
   ],
   "source": [
    "df['환불금액'].isna().sum()"
   ]
  },
  {
   "cell_type": "code",
   "execution_count": 156,
   "id": "3b3edc26-5d4b-498d-ad40-0f6b1fa5d929",
   "metadata": {},
   "outputs": [
    {
     "name": "stdout",
     "output_type": "stream",
     "text": [
      "-16110000000.0\n"
     ]
    }
   ],
   "source": [
    "df['환불금액2'] = df['환불금액'].fillna(10000000)\n",
    "print(df['환불금액'].sum() - df['환불금액2'].sum())"
   ]
  },
  {
   "cell_type": "markdown",
   "id": "ebb871be-a294-4266-8e94-8a0b5a210451",
   "metadata": {},
   "source": [
    "* [QUIZ] 환불금액 결측치를 제거한 후 내점당구매건수가 0~5:1    6~10:2  11~:3 그룹화 후 \n",
    "가장 많은 집단의  내점당구매건수 총합 계산"
   ]
  },
  {
   "cell_type": "code",
   "execution_count": 184,
   "id": "85455062-c200-4345-a8a5-394cf919870f",
   "metadata": {},
   "outputs": [
    {
     "name": "stdout",
     "output_type": "stream",
     "text": [
      "1611 Int64Index([3, 4, 5, 7, 8], dtype='int64')\n",
      "(871, 11)\n"
     ]
    }
   ],
   "source": [
    "idx = df[df['환불금액'].isna()].index\n",
    "print(len(idx), idx[:5])\n",
    "df_drop = df.drop(idx)\n",
    "print(df_drop.shape)"
   ]
  },
  {
   "cell_type": "code",
   "execution_count": 167,
   "id": "4bcc5b06-f658-4ad9-bc49-b74e09f6a0a0",
   "metadata": {},
   "outputs": [
    {
     "name": "stdout",
     "output_type": "stream",
     "text": [
      "(871, 11)\n"
     ]
    }
   ],
   "source": [
    "df_drop = df.dropna(axis=0)\n",
    "print(df_drop.shape)"
   ]
  },
  {
   "cell_type": "code",
   "execution_count": 171,
   "id": "3d28b5e1-40e8-4f45-9a33-6192b8a55fc1",
   "metadata": {},
   "outputs": [
    {
     "data": {
      "text/plain": [
       "14.623762376237623"
      ]
     },
     "execution_count": 171,
     "metadata": {},
     "output_type": "execute_result"
    }
   ],
   "source": [
    "max(df_drop['내점당구매건수'])"
   ]
  },
  {
   "cell_type": "code",
   "execution_count": 190,
   "id": "98635c2f-bab5-4319-b263-f02d34e09f23",
   "metadata": {},
   "outputs": [
    {
     "name": "stdout",
     "output_type": "stream",
     "text": [
      "802\n"
     ]
    }
   ],
   "source": [
    "df_drop['내점당구매건수_GRP'] = pd.cut(df_drop['내점당구매건수'], bins=[0,5,10,99999999], labels=[1,2,3])\n",
    "print(df_drop['내점당구매건수_GRP'].value_counts()[0])"
   ]
  },
  {
   "cell_type": "code",
   "execution_count": 191,
   "id": "ad5bab51-519b-4450-8c17-6faf3e3b6c9c",
   "metadata": {},
   "outputs": [],
   "source": [
    "#df_drop[df_drop['내점당구매건수_GRP'] == 2][:30]"
   ]
  },
  {
   "cell_type": "markdown",
   "id": "e26cc9ac-448d-45c4-8928-2d31f92768ee",
   "metadata": {},
   "source": [
    "* [이상값] 구매주기에서 이상값 제외한 구매주기의 평균을 구하시오(이상값은 평균 에서 1.5표준편차 이상인 값）"
   ]
  },
  {
   "cell_type": "code",
   "execution_count": 192,
   "id": "b6c4289e-9a82-47d2-82c8-2c1e21fa42b1",
   "metadata": {},
   "outputs": [
    {
     "data": {
      "text/plain": [
       "15.562526858616245"
      ]
     },
     "execution_count": 192,
     "metadata": {},
     "output_type": "execute_result"
    }
   ],
   "source": [
    "Q1 = df['구매주기'].quantile(0.25)\n",
    "Q3 = df['구매주기'].quantile(0.75)\n",
    "IQR = Q3 - Q1\n",
    "lower = Q1 - (IQR*1.5)\n",
    "upper = Q3 + (IQR*1.5)\n",
    "df[(df['구매주기']>lower) & (df['구매주기']<upper)]['구매주기'].mean()"
   ]
  },
  {
   "cell_type": "code",
   "execution_count": null,
   "id": "bd3d07de-d804-46a9-a370-e607e88ccf4e",
   "metadata": {},
   "outputs": [],
   "source": []
  }
 ],
 "metadata": {
  "kernelspec": {
   "display_name": "Python 3 (ipykernel)",
   "language": "python",
   "name": "python3"
  },
  "language_info": {
   "codemirror_mode": {
    "name": "ipython",
    "version": 3
   },
   "file_extension": ".py",
   "mimetype": "text/x-python",
   "name": "python",
   "nbconvert_exporter": "python",
   "pygments_lexer": "ipython3",
   "version": "3.8.8"
  }
 },
 "nbformat": 4,
 "nbformat_minor": 5
}
