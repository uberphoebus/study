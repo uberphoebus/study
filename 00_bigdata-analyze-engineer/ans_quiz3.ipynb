{
 "cells": [
  {
   "cell_type": "code",
   "execution_count": 22,
   "id": "5a10bee4-3c2d-4b1a-b15c-4996c4435414",
   "metadata": {},
   "outputs": [],
   "source": [
    "import numpy as np\n",
    "import pandas as pd"
   ]
  },
  {
   "cell_type": "code",
   "execution_count": 23,
   "id": "4ce9a68e-3e4a-4663-a71b-20c2be124bfe",
   "metadata": {},
   "outputs": [
    {
     "data": {
      "text/html": [
       "<div>\n",
       "<style scoped>\n",
       "    .dataframe tbody tr th:only-of-type {\n",
       "        vertical-align: middle;\n",
       "    }\n",
       "\n",
       "    .dataframe tbody tr th {\n",
       "        vertical-align: top;\n",
       "    }\n",
       "\n",
       "    .dataframe thead th {\n",
       "        text-align: right;\n",
       "    }\n",
       "</style>\n",
       "<table border=\"1\" class=\"dataframe\">\n",
       "  <thead>\n",
       "    <tr style=\"text-align: right;\">\n",
       "      <th></th>\n",
       "      <th>CRIM</th>\n",
       "      <th>ZN</th>\n",
       "      <th>INDUS</th>\n",
       "      <th>CHAS</th>\n",
       "      <th>NOX</th>\n",
       "      <th>RM</th>\n",
       "      <th>AGE</th>\n",
       "      <th>DIS</th>\n",
       "      <th>RAD</th>\n",
       "      <th>TAX</th>\n",
       "      <th>PTRATIO</th>\n",
       "      <th>B</th>\n",
       "      <th>LSTAT</th>\n",
       "      <th>target</th>\n",
       "    </tr>\n",
       "  </thead>\n",
       "  <tbody>\n",
       "    <tr>\n",
       "      <th>0</th>\n",
       "      <td>0.00632</td>\n",
       "      <td>18.0</td>\n",
       "      <td>2.31</td>\n",
       "      <td>0.0</td>\n",
       "      <td>0.538</td>\n",
       "      <td>6.575</td>\n",
       "      <td>65.2</td>\n",
       "      <td>4.0900</td>\n",
       "      <td>1.0</td>\n",
       "      <td>296.0</td>\n",
       "      <td>15.3</td>\n",
       "      <td>396.90</td>\n",
       "      <td>4.98</td>\n",
       "      <td>24.0</td>\n",
       "    </tr>\n",
       "    <tr>\n",
       "      <th>1</th>\n",
       "      <td>0.02731</td>\n",
       "      <td>0.0</td>\n",
       "      <td>7.07</td>\n",
       "      <td>0.0</td>\n",
       "      <td>0.469</td>\n",
       "      <td>6.421</td>\n",
       "      <td>78.9</td>\n",
       "      <td>4.9671</td>\n",
       "      <td>2.0</td>\n",
       "      <td>242.0</td>\n",
       "      <td>17.8</td>\n",
       "      <td>396.90</td>\n",
       "      <td>9.14</td>\n",
       "      <td>21.6</td>\n",
       "    </tr>\n",
       "    <tr>\n",
       "      <th>2</th>\n",
       "      <td>0.02729</td>\n",
       "      <td>0.0</td>\n",
       "      <td>7.07</td>\n",
       "      <td>0.0</td>\n",
       "      <td>0.469</td>\n",
       "      <td>7.185</td>\n",
       "      <td>61.1</td>\n",
       "      <td>4.9671</td>\n",
       "      <td>2.0</td>\n",
       "      <td>242.0</td>\n",
       "      <td>17.8</td>\n",
       "      <td>392.83</td>\n",
       "      <td>4.03</td>\n",
       "      <td>34.7</td>\n",
       "    </tr>\n",
       "    <tr>\n",
       "      <th>3</th>\n",
       "      <td>0.03237</td>\n",
       "      <td>0.0</td>\n",
       "      <td>2.18</td>\n",
       "      <td>0.0</td>\n",
       "      <td>0.458</td>\n",
       "      <td>6.998</td>\n",
       "      <td>45.8</td>\n",
       "      <td>6.0622</td>\n",
       "      <td>3.0</td>\n",
       "      <td>222.0</td>\n",
       "      <td>18.7</td>\n",
       "      <td>394.63</td>\n",
       "      <td>2.94</td>\n",
       "      <td>33.4</td>\n",
       "    </tr>\n",
       "    <tr>\n",
       "      <th>4</th>\n",
       "      <td>0.06905</td>\n",
       "      <td>0.0</td>\n",
       "      <td>2.18</td>\n",
       "      <td>0.0</td>\n",
       "      <td>0.458</td>\n",
       "      <td>7.147</td>\n",
       "      <td>54.2</td>\n",
       "      <td>6.0622</td>\n",
       "      <td>3.0</td>\n",
       "      <td>222.0</td>\n",
       "      <td>18.7</td>\n",
       "      <td>396.90</td>\n",
       "      <td>5.33</td>\n",
       "      <td>36.2</td>\n",
       "    </tr>\n",
       "  </tbody>\n",
       "</table>\n",
       "</div>"
      ],
      "text/plain": [
       "      CRIM    ZN  INDUS  CHAS    NOX     RM   AGE     DIS  RAD    TAX  \\\n",
       "0  0.00632  18.0   2.31   0.0  0.538  6.575  65.2  4.0900  1.0  296.0   \n",
       "1  0.02731   0.0   7.07   0.0  0.469  6.421  78.9  4.9671  2.0  242.0   \n",
       "2  0.02729   0.0   7.07   0.0  0.469  7.185  61.1  4.9671  2.0  242.0   \n",
       "3  0.03237   0.0   2.18   0.0  0.458  6.998  45.8  6.0622  3.0  222.0   \n",
       "4  0.06905   0.0   2.18   0.0  0.458  7.147  54.2  6.0622  3.0  222.0   \n",
       "\n",
       "   PTRATIO       B  LSTAT  target  \n",
       "0     15.3  396.90   4.98    24.0  \n",
       "1     17.8  396.90   9.14    21.6  \n",
       "2     17.8  392.83   4.03    34.7  \n",
       "3     18.7  394.63   2.94    33.4  \n",
       "4     18.7  396.90   5.33    36.2  "
      ]
     },
     "execution_count": 23,
     "metadata": {},
     "output_type": "execute_result"
    }
   ],
   "source": [
    "df = pd.read_csv('./Quiz3/toy_boston_houseprice.csv')\n",
    "df.head()"
   ]
  },
  {
   "cell_type": "code",
   "execution_count": 24,
   "id": "01399abe-bb61-4a13-822e-8c1c5d861431",
   "metadata": {},
   "outputs": [
    {
     "data": {
      "text/plain": [
       "24.0    132\n",
       "5.0     115\n",
       "4.0     110\n",
       "3.0      38\n",
       "6.0      26\n",
       "2.0      24\n",
       "8.0      24\n",
       "1.0      20\n",
       "7.0      17\n",
       "Name: RAD, dtype: int64"
      ]
     },
     "execution_count": 24,
     "metadata": {},
     "output_type": "execute_result"
    }
   ],
   "source": [
    "df['RAD'].value_counts()"
   ]
  },
  {
   "cell_type": "markdown",
   "id": "fcc8b1ab-9f35-4630-9350-8206b2e6c649",
   "metadata": {},
   "source": [
    "#### 문제1)\n",
    "<pre>\n",
    "보스턴 데이터 범죄율 컬럼 top10 중 10번째 범죄율 값으로  \n",
    "1~10위의 범죄율 값을 변경 후 \n",
    "AGE 변수 80이상의 범죄율 평균 산출"
   ]
  },
  {
   "cell_type": "code",
   "execution_count": 25,
   "id": "319cc75e-4fca-402f-923d-085ed3658b51",
   "metadata": {},
   "outputs": [
    {
     "data": {
      "text/html": [
       "<div>\n",
       "<style scoped>\n",
       "    .dataframe tbody tr th:only-of-type {\n",
       "        vertical-align: middle;\n",
       "    }\n",
       "\n",
       "    .dataframe tbody tr th {\n",
       "        vertical-align: top;\n",
       "    }\n",
       "\n",
       "    .dataframe thead th {\n",
       "        text-align: right;\n",
       "    }\n",
       "</style>\n",
       "<table border=\"1\" class=\"dataframe\">\n",
       "  <thead>\n",
       "    <tr style=\"text-align: right;\">\n",
       "      <th></th>\n",
       "      <th>age</th>\n",
       "    </tr>\n",
       "  </thead>\n",
       "  <tbody>\n",
       "    <tr>\n",
       "      <th>0</th>\n",
       "      <td>5</td>\n",
       "    </tr>\n",
       "    <tr>\n",
       "      <th>1</th>\n",
       "      <td>5</td>\n",
       "    </tr>\n",
       "    <tr>\n",
       "      <th>2</th>\n",
       "      <td>5</td>\n",
       "    </tr>\n",
       "    <tr>\n",
       "      <th>3</th>\n",
       "      <td>5</td>\n",
       "    </tr>\n",
       "  </tbody>\n",
       "</table>\n",
       "</div>"
      ],
      "text/plain": [
       "   age\n",
       "0    5\n",
       "1    5\n",
       "2    5\n",
       "3    5"
      ]
     },
     "execution_count": 25,
     "metadata": {},
     "output_type": "execute_result"
    }
   ],
   "source": [
    "test = pd.DataFrame({\"age\":[1,2,3,4]})\n",
    "test['age'] = 5\n",
    "test.head()"
   ]
  },
  {
   "cell_type": "markdown",
   "id": "09d65c59-e379-41e2-8213-4775da8c58c3",
   "metadata": {},
   "source": [
    "방법1) 복제해서 사용"
   ]
  },
  {
   "cell_type": "code",
   "execution_count": 26,
   "id": "feec7932-43cb-409e-ab45-8ee41215da36",
   "metadata": {},
   "outputs": [
    {
     "data": {
      "text/plain": [
       "5.759386624999999"
      ]
     },
     "execution_count": 26,
     "metadata": {},
     "output_type": "execute_result"
    }
   ],
   "source": [
    "df_sort = df.sort_values(by='CRIM', ascending=False)\n",
    "# df_sort['CRIM'].iloc[:10] = 25.9406 \n",
    "df_sort['CRIM'].iloc[:10] = df_sort['CRIM'].iloc[9]\n",
    "df_sort[df_sort['AGE']>=80]['CRIM'].mean()   #5.759386625"
   ]
  },
  {
   "cell_type": "markdown",
   "id": "e47df46f-734a-4810-bae9-873e3c2a0dfd",
   "metadata": {},
   "source": [
    "방법2) 인덱스를 이용한 iloc"
   ]
  },
  {
   "cell_type": "code",
   "execution_count": 27,
   "id": "12cf516e-58a0-44df-94be-c4232840daf0",
   "metadata": {},
   "outputs": [
    {
     "name": "stdout",
     "output_type": "stream",
     "text": [
      "[380, 418, 405, 410, 414, 404, 398, 427, 413, 417]\n"
     ]
    },
    {
     "data": {
      "text/plain": [
       "5.759386625"
      ]
     },
     "execution_count": 27,
     "metadata": {},
     "output_type": "execute_result"
    }
   ],
   "source": [
    "idxs = df['CRIM'].sort_values(ascending=False).iloc[:10].index.values.tolist()\n",
    "print(idxs)\n",
    "crim10 = df_sort['CRIM'].iloc[9]  #25.9406 \n",
    "df['CRIM'].iloc[idxs] = crim10\n",
    "df[df['AGE']>=80]['CRIM'].mean()   #5.759386625"
   ]
  },
  {
   "cell_type": "markdown",
   "id": "0d94946e-fa90-40de-8711-366017d3023a",
   "metadata": {
    "tags": []
   },
   "source": [
    "#### 문제2)\n",
    "<pre>\n",
    "csv에서 80% 량의 데이터를 추출 후              #????\n",
    "'RAD'가 7인 값을 'RAD' 중앙값(median)으로 바꾸고     #np.median()\n",
    "변경전, 변경 후 'RAD'의 표준편차 출력          #np.std()"
   ]
  },
  {
   "cell_type": "code",
   "execution_count": 28,
   "id": "9b374759-6178-4200-85d9-b07372974398",
   "metadata": {},
   "outputs": [
    {
     "data": {
      "text/plain": [
       "(506, 14)"
      ]
     },
     "execution_count": 28,
     "metadata": {},
     "output_type": "execute_result"
    }
   ],
   "source": [
    "df = pd.read_csv('./Quiz3/toy_boston_houseprice.csv')\n",
    "df.shape"
   ]
  },
  {
   "cell_type": "markdown",
   "id": "6d323ebd-43d6-40f7-8911-8c97cc50d1d9",
   "metadata": {},
   "source": [
    "방법1) train_test_split()"
   ]
  },
  {
   "cell_type": "code",
   "execution_count": 29,
   "id": "a38d7f58-e412-45e0-a562-05c48436d41d",
   "metadata": {},
   "outputs": [
    {
     "data": {
      "text/plain": [
       "((404, 14), (102, 14))"
      ]
     },
     "execution_count": 29,
     "metadata": {},
     "output_type": "execute_result"
    }
   ],
   "source": [
    "from sklearn.model_selection import train_test_split\n",
    "df8, df2 = train_test_split(df, train_size=0.8)\n",
    "df8.shape, df2.shape"
   ]
  },
  {
   "cell_type": "markdown",
   "id": "4af3cd1f-df85-40c8-bf16-a99c201b7c23",
   "metadata": {},
   "source": [
    "방법2) 8 : 2 비율로 자르기"
   ]
  },
  {
   "cell_type": "code",
   "execution_count": 30,
   "id": "dc73acdb-e04b-433a-8e7a-f0f0cbc832d5",
   "metadata": {},
   "outputs": [
    {
     "data": {
      "text/plain": [
       "(404, 14)"
      ]
     },
     "execution_count": 30,
     "metadata": {},
     "output_type": "execute_result"
    }
   ],
   "source": [
    "rate8 = int(df.shape[0] * 0.8)  # 404.8\n",
    "df80 = df.iloc[0:rate8  , : ]\n",
    "df80.shape"
   ]
  },
  {
   "cell_type": "markdown",
   "id": "982837f7-623b-4660-b80d-15d808e3e2ad",
   "metadata": {},
   "source": [
    "방법1) 중앙값 편차 describe이용하기\n",
    "* 50% : 중앙값\n",
    "* 편차 : std"
   ]
  },
  {
   "cell_type": "code",
   "execution_count": 31,
   "id": "5d48af12-af70-4102-b392-cee67f5ef73b",
   "metadata": {},
   "outputs": [
    {
     "name": "stdout",
     "output_type": "stream",
     "text": [
      "<class 'pandas.core.series.Series'>\n"
     ]
    },
    {
     "data": {
      "text/plain": [
       "count    404.000000\n",
       "mean       6.789604\n",
       "std        6.504268\n",
       "min        1.000000\n",
       "25%        4.000000\n",
       "50%        5.000000\n",
       "75%        6.000000\n",
       "max       24.000000\n",
       "Name: RAD, dtype: float64"
      ]
     },
     "execution_count": 31,
     "metadata": {},
     "output_type": "execute_result"
    }
   ],
   "source": [
    "before_des = df80['RAD'].describe()\n",
    "print (  type(before_des))\n",
    "before_des"
   ]
  },
  {
   "cell_type": "code",
   "execution_count": 32,
   "id": "6bd26728-779e-4a4d-9066-d9a2a1f22ac8",
   "metadata": {},
   "outputs": [
    {
     "data": {
      "text/plain": [
       "(5.0, 6.50426779850157)"
      ]
     },
     "execution_count": 32,
     "metadata": {},
     "output_type": "execute_result"
    }
   ],
   "source": [
    "before_median_v = before_des['50%']\n",
    "before_std_v = before_des['std']\n",
    "before_median_v, before_std_v"
   ]
  },
  {
   "cell_type": "code",
   "execution_count": 33,
   "id": "8d91146e-8497-4275-ab35-aa7805707859",
   "metadata": {},
   "outputs": [
    {
     "name": "stderr",
     "output_type": "stream",
     "text": [
      "C:\\Users\\677\\AppData\\Local\\Temp/ipykernel_6448/3895123052.py:1: SettingWithCopyWarning: \n",
      "A value is trying to be set on a copy of a slice from a DataFrame.\n",
      "Try using .loc[row_indexer,col_indexer] = value instead\n",
      "\n",
      "See the caveats in the documentation: https://pandas.pydata.org/pandas-docs/stable/user_guide/indexing.html#returning-a-view-versus-a-copy\n",
      "  df80[df80['RAD']==7] = before_median_v\n",
      "c:\\ai\\pythonproject\\venv\\lib\\site-packages\\pandas\\core\\indexing.py:1732: SettingWithCopyWarning: \n",
      "A value is trying to be set on a copy of a slice from a DataFrame\n",
      "\n",
      "See the caveats in the documentation: https://pandas.pydata.org/pandas-docs/stable/user_guide/indexing.html#returning-a-view-versus-a-copy\n",
      "  self._setitem_single_block(indexer, value, name)\n",
      "c:\\ai\\pythonproject\\venv\\lib\\site-packages\\pandas\\core\\indexing.py:723: SettingWithCopyWarning: \n",
      "A value is trying to be set on a copy of a slice from a DataFrame\n",
      "\n",
      "See the caveats in the documentation: https://pandas.pydata.org/pandas-docs/stable/user_guide/indexing.html#returning-a-view-versus-a-copy\n",
      "  iloc._setitem_with_indexer(indexer, value, self.name)\n"
     ]
    }
   ],
   "source": [
    "df80[df80['RAD']==7] = before_median_v"
   ]
  },
  {
   "cell_type": "code",
   "execution_count": 34,
   "id": "dcf67b02-723d-412a-abae-4f61b7a1d181",
   "metadata": {},
   "outputs": [
    {
     "name": "stdout",
     "output_type": "stream",
     "text": [
      "<class 'pandas.core.series.Series'>\n"
     ]
    },
    {
     "data": {
      "text/plain": [
       "count    404.000000\n",
       "mean       6.705446\n",
       "std        6.513957\n",
       "min        1.000000\n",
       "25%        4.000000\n",
       "50%        5.000000\n",
       "75%        5.000000\n",
       "max       24.000000\n",
       "Name: RAD, dtype: float64"
      ]
     },
     "execution_count": 34,
     "metadata": {},
     "output_type": "execute_result"
    }
   ],
   "source": [
    "after_des = df80['RAD'].describe()\n",
    "print (  type(after_des))\n",
    "after_des"
   ]
  },
  {
   "cell_type": "code",
   "execution_count": 35,
   "id": "b961c66a-8ffa-4183-942f-29f3313cb439",
   "metadata": {},
   "outputs": [
    {
     "data": {
      "text/plain": [
       "(5.0, 6.513956770157352)"
      ]
     },
     "execution_count": 35,
     "metadata": {},
     "output_type": "execute_result"
    }
   ],
   "source": [
    "after_median_v = after_des['50%']\n",
    "after_std_v = after_des['std']\n",
    "after_median_v, after_std_v"
   ]
  },
  {
   "cell_type": "code",
   "execution_count": 36,
   "id": "c46ab907-d627-43bd-b779-d0200c11bf8e",
   "metadata": {},
   "outputs": [
    {
     "data": {
      "text/plain": [
       "(6.50426779850157, 6.513956770157352)"
      ]
     },
     "execution_count": 36,
     "metadata": {},
     "output_type": "execute_result"
    }
   ],
   "source": [
    "before_std_v, after_std_v"
   ]
  },
  {
   "cell_type": "markdown",
   "id": "011137bd-7c92-4a2f-8b5e-56a78e77982a",
   "metadata": {},
   "source": [
    "방법2) 중앙값 편차 구하기"
   ]
  },
  {
   "cell_type": "code",
   "execution_count": 45,
   "id": "37186c75-9f45-446b-9d5a-cabdd6b5e659",
   "metadata": {},
   "outputs": [
    {
     "data": {
      "text/html": [
       "<div>\n",
       "<style scoped>\n",
       "    .dataframe tbody tr th:only-of-type {\n",
       "        vertical-align: middle;\n",
       "    }\n",
       "\n",
       "    .dataframe tbody tr th {\n",
       "        vertical-align: top;\n",
       "    }\n",
       "\n",
       "    .dataframe thead th {\n",
       "        text-align: right;\n",
       "    }\n",
       "</style>\n",
       "<table border=\"1\" class=\"dataframe\">\n",
       "  <thead>\n",
       "    <tr style=\"text-align: right;\">\n",
       "      <th></th>\n",
       "      <th>CRIM</th>\n",
       "      <th>ZN</th>\n",
       "      <th>INDUS</th>\n",
       "      <th>CHAS</th>\n",
       "      <th>NOX</th>\n",
       "      <th>RM</th>\n",
       "      <th>AGE</th>\n",
       "      <th>DIS</th>\n",
       "      <th>RAD</th>\n",
       "      <th>TAX</th>\n",
       "      <th>PTRATIO</th>\n",
       "      <th>B</th>\n",
       "      <th>LSTAT</th>\n",
       "      <th>target</th>\n",
       "    </tr>\n",
       "  </thead>\n",
       "  <tbody>\n",
       "    <tr>\n",
       "      <th>0</th>\n",
       "      <td>0.00632</td>\n",
       "      <td>18.0</td>\n",
       "      <td>2.31</td>\n",
       "      <td>0.0</td>\n",
       "      <td>0.538</td>\n",
       "      <td>6.575</td>\n",
       "      <td>65.2</td>\n",
       "      <td>4.0900</td>\n",
       "      <td>1.0</td>\n",
       "      <td>296.0</td>\n",
       "      <td>15.3</td>\n",
       "      <td>396.90</td>\n",
       "      <td>4.98</td>\n",
       "      <td>24.0</td>\n",
       "    </tr>\n",
       "    <tr>\n",
       "      <th>1</th>\n",
       "      <td>0.02731</td>\n",
       "      <td>0.0</td>\n",
       "      <td>7.07</td>\n",
       "      <td>0.0</td>\n",
       "      <td>0.469</td>\n",
       "      <td>6.421</td>\n",
       "      <td>78.9</td>\n",
       "      <td>4.9671</td>\n",
       "      <td>2.0</td>\n",
       "      <td>242.0</td>\n",
       "      <td>17.8</td>\n",
       "      <td>396.90</td>\n",
       "      <td>9.14</td>\n",
       "      <td>21.6</td>\n",
       "    </tr>\n",
       "    <tr>\n",
       "      <th>2</th>\n",
       "      <td>0.02729</td>\n",
       "      <td>0.0</td>\n",
       "      <td>7.07</td>\n",
       "      <td>0.0</td>\n",
       "      <td>0.469</td>\n",
       "      <td>7.185</td>\n",
       "      <td>61.1</td>\n",
       "      <td>4.9671</td>\n",
       "      <td>2.0</td>\n",
       "      <td>242.0</td>\n",
       "      <td>17.8</td>\n",
       "      <td>392.83</td>\n",
       "      <td>4.03</td>\n",
       "      <td>34.7</td>\n",
       "    </tr>\n",
       "    <tr>\n",
       "      <th>3</th>\n",
       "      <td>0.03237</td>\n",
       "      <td>0.0</td>\n",
       "      <td>2.18</td>\n",
       "      <td>0.0</td>\n",
       "      <td>0.458</td>\n",
       "      <td>6.998</td>\n",
       "      <td>45.8</td>\n",
       "      <td>6.0622</td>\n",
       "      <td>3.0</td>\n",
       "      <td>222.0</td>\n",
       "      <td>18.7</td>\n",
       "      <td>394.63</td>\n",
       "      <td>2.94</td>\n",
       "      <td>33.4</td>\n",
       "    </tr>\n",
       "    <tr>\n",
       "      <th>4</th>\n",
       "      <td>0.06905</td>\n",
       "      <td>0.0</td>\n",
       "      <td>2.18</td>\n",
       "      <td>0.0</td>\n",
       "      <td>0.458</td>\n",
       "      <td>7.147</td>\n",
       "      <td>54.2</td>\n",
       "      <td>6.0622</td>\n",
       "      <td>3.0</td>\n",
       "      <td>222.0</td>\n",
       "      <td>18.7</td>\n",
       "      <td>396.90</td>\n",
       "      <td>5.33</td>\n",
       "      <td>36.2</td>\n",
       "    </tr>\n",
       "  </tbody>\n",
       "</table>\n",
       "</div>"
      ],
      "text/plain": [
       "      CRIM    ZN  INDUS  CHAS    NOX     RM   AGE     DIS  RAD    TAX  \\\n",
       "0  0.00632  18.0   2.31   0.0  0.538  6.575  65.2  4.0900  1.0  296.0   \n",
       "1  0.02731   0.0   7.07   0.0  0.469  6.421  78.9  4.9671  2.0  242.0   \n",
       "2  0.02729   0.0   7.07   0.0  0.469  7.185  61.1  4.9671  2.0  242.0   \n",
       "3  0.03237   0.0   2.18   0.0  0.458  6.998  45.8  6.0622  3.0  222.0   \n",
       "4  0.06905   0.0   2.18   0.0  0.458  7.147  54.2  6.0622  3.0  222.0   \n",
       "\n",
       "   PTRATIO       B  LSTAT  target  \n",
       "0     15.3  396.90   4.98    24.0  \n",
       "1     17.8  396.90   9.14    21.6  \n",
       "2     17.8  392.83   4.03    34.7  \n",
       "3     18.7  394.63   2.94    33.4  \n",
       "4     18.7  396.90   5.33    36.2  "
      ]
     },
     "execution_count": 45,
     "metadata": {},
     "output_type": "execute_result"
    }
   ],
   "source": [
    "df = pd.read_csv('./Quiz3/toy_boston_houseprice.csv')\n",
    "df.head()"
   ]
  },
  {
   "cell_type": "code",
   "execution_count": 46,
   "id": "e5b5d5ad-88b9-48a4-8e3b-4f3fa28ebb9e",
   "metadata": {},
   "outputs": [
    {
     "data": {
      "text/plain": [
       "(404, 14)"
      ]
     },
     "execution_count": 46,
     "metadata": {},
     "output_type": "execute_result"
    }
   ],
   "source": [
    "rate8 = int(df.shape[0] * 0.8)  # 404.8\n",
    "df80 = df.iloc[0:rate8  , : ]\n",
    "df80.shape"
   ]
  },
  {
   "cell_type": "code",
   "execution_count": 47,
   "id": "d5200c6c-8209-4042-82a6-ad1626cb2b17",
   "metadata": {},
   "outputs": [
    {
     "data": {
      "text/plain": [
       "5.0"
      ]
     },
     "execution_count": 47,
     "metadata": {},
     "output_type": "execute_result"
    }
   ],
   "source": [
    "median_v = df80['RAD'].median()\n",
    "median_v  #5.0"
   ]
  },
  {
   "cell_type": "code",
   "execution_count": 48,
   "id": "4db42327-8e7c-4e8b-86e9-e6fa4c3171b9",
   "metadata": {},
   "outputs": [
    {
     "data": {
      "text/plain": [
       "6.50426779850157"
      ]
     },
     "execution_count": 48,
     "metadata": {},
     "output_type": "execute_result"
    }
   ],
   "source": [
    "# 변경전 편차\n",
    "before_std = df80['RAD'].std()\n",
    "before_std"
   ]
  },
  {
   "cell_type": "code",
   "execution_count": 49,
   "id": "30d2a67f-3d17-4ee9-a504-12be0d351879",
   "metadata": {},
   "outputs": [
    {
     "name": "stderr",
     "output_type": "stream",
     "text": [
      "C:\\Users\\677\\AppData\\Local\\Temp/ipykernel_6448/3171902845.py:1: SettingWithCopyWarning: \n",
      "A value is trying to be set on a copy of a slice from a DataFrame.\n",
      "Try using .loc[row_indexer,col_indexer] = value instead\n",
      "\n",
      "See the caveats in the documentation: https://pandas.pydata.org/pandas-docs/stable/user_guide/indexing.html#returning-a-view-versus-a-copy\n",
      "  df80[df80['RAD']==7] = median_v\n",
      "c:\\ai\\pythonproject\\venv\\lib\\site-packages\\pandas\\core\\indexing.py:1732: SettingWithCopyWarning: \n",
      "A value is trying to be set on a copy of a slice from a DataFrame\n",
      "\n",
      "See the caveats in the documentation: https://pandas.pydata.org/pandas-docs/stable/user_guide/indexing.html#returning-a-view-versus-a-copy\n",
      "  self._setitem_single_block(indexer, value, name)\n",
      "c:\\ai\\pythonproject\\venv\\lib\\site-packages\\pandas\\core\\indexing.py:723: SettingWithCopyWarning: \n",
      "A value is trying to be set on a copy of a slice from a DataFrame\n",
      "\n",
      "See the caveats in the documentation: https://pandas.pydata.org/pandas-docs/stable/user_guide/indexing.html#returning-a-view-versus-a-copy\n",
      "  iloc._setitem_with_indexer(indexer, value, self.name)\n"
     ]
    }
   ],
   "source": [
    "df80[df80['RAD']==7] = median_v"
   ]
  },
  {
   "cell_type": "code",
   "execution_count": 50,
   "id": "af3fa752-b962-4ab9-ad1a-03135e90a360",
   "metadata": {},
   "outputs": [
    {
     "data": {
      "text/plain": [
       "6      5.0\n",
       "7      5.0\n",
       "8      5.0\n",
       "9      5.0\n",
       "10     5.0\n",
       "      ... \n",
       "339    5.0\n",
       "340    5.0\n",
       "343    5.0\n",
       "344    5.0\n",
       "353    5.0\n",
       "Name: RAD, Length: 132, dtype: float64"
      ]
     },
     "execution_count": 50,
     "metadata": {},
     "output_type": "execute_result"
    }
   ],
   "source": [
    "df80[df80['RAD']==5.0]['RAD']"
   ]
  },
  {
   "cell_type": "code",
   "execution_count": 51,
   "id": "cc816fb6-a8f1-4a09-a8c6-5f2e28c5bc1d",
   "metadata": {},
   "outputs": [],
   "source": [
    "after_std = df80['RAD'].std()"
   ]
  },
  {
   "cell_type": "code",
   "execution_count": 52,
   "id": "0e3aac29-bebe-48e5-8bb7-ccf9745f0e79",
   "metadata": {},
   "outputs": [
    {
     "data": {
      "text/plain": [
       "(6.50426779850157, 6.513956770157352)"
      ]
     },
     "execution_count": 52,
     "metadata": {},
     "output_type": "execute_result"
    }
   ],
   "source": [
    "before_std, after_std"
   ]
  },
  {
   "cell_type": "code",
   "execution_count": null,
   "id": "aad38a13-66b8-4ce4-935d-024f5d132c56",
   "metadata": {},
   "outputs": [],
   "source": []
  },
  {
   "cell_type": "markdown",
   "id": "badfe501-2511-4167-b53c-24435bb0e74c",
   "metadata": {},
   "source": [
    "|구분|설명|수식|\n",
    "|----|---|---|\n",
    "|평균(mean,average)|샘플합/샘플갯수|ss|\n",
    "|편차(dev, deviation)|샘플 - 평균|ss|\n",
    "|분산(var, variance)|편차(샘플-평균) 제곱의 평균|ss|\n",
    "|표준편차(std, standard deviation)|분산의 제곱근(루트)|ss|\n",
    "<pre>\n",
    "① 중심경향값 : 평균, 중위수, 최빈값\n",
    "② 산포도(퍼짐) : 표준편차, 분산, 범위, 사분위수\n",
    "③ 분포도(모양) : 왜도, 첨도\n",
    "\n",
    "* 정규분포 : 평균을 중심으로 좌우대칭 형태 (모수/ 비모수)\n",
    "* 중심극한 : 중심극한의 정리(CLT, Central Limit Theorem)\n",
    "            표본의 평균은 표본의 개수(n)가 커질수록, 정규분포와 유사해 진다\n",
    "            표본의 수가 충분히 크다면, 정규분포라고 가정할 수 있다 (n > 30)"
   ]
  },
  {
   "cell_type": "code",
   "execution_count": null,
   "id": "50c1b106-8ec8-4336-b3a8-5458b6d15c5a",
   "metadata": {},
   "outputs": [],
   "source": []
  }
 ],
 "metadata": {
  "kernelspec": {
   "display_name": "Python 3 (ipykernel)",
   "language": "python",
   "name": "python3"
  },
  "language_info": {
   "codemirror_mode": {
    "name": "ipython",
    "version": 3
   },
   "file_extension": ".py",
   "mimetype": "text/x-python",
   "name": "python",
   "nbconvert_exporter": "python",
   "pygments_lexer": "ipython3",
   "version": "3.8.8"
  }
 },
 "nbformat": 4,
 "nbformat_minor": 5
}
