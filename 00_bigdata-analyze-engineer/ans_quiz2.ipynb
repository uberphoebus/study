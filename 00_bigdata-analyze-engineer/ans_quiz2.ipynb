{
 "cells": [
  {
   "cell_type": "code",
   "execution_count": 23,
   "id": "a56305e4-0b7d-438d-b884-76972f718e0c",
   "metadata": {},
   "outputs": [],
   "source": [
    "import pandas as pd\n",
    "import numpy as np\n",
    "from sklearn.model_selection import train_test_split, GridSearchCV\n",
    "from sklearn.preprocessing import StandardScaler, LabelEncoder\n",
    "from sklearn.ensemble import RandomForestClassifier\n",
    "from sklearn.metrics import roc_auc_score\n",
    "#-- 아래 코드는 옵션\n",
    "import seaborn as sns\n",
    "import matplotlib.pyplot as plt\n",
    "import warnings\n",
    "warnings.filterwarnings(action='ignore')\n",
    "\n",
    "sns.set()"
   ]
  },
  {
   "cell_type": "markdown",
   "id": "42ba2945-0958-47c7-8290-64bec277971f",
   "metadata": {},
   "source": [
    "<pre>\n",
    "3500rows       2,482rows\n",
    "X_train.csv,   X_test.csv\n",
    "y_train.csv    ___________ -->제출답안(submission.csv) \n",
    "</pre>\n",
    "* submisstion.csv  X_test.cust_id  gender(proba[:, 1])\n",
    "* target : gender(0: 여자, 1: 남자)\n",
    "* X_train, y_train : cust_id"
   ]
  },
  {
   "cell_type": "code",
   "execution_count": 2,
   "id": "0e94ac3c-bcfd-46f8-a3d0-e68d5a2c9f96",
   "metadata": {},
   "outputs": [],
   "source": [
    "# y = df['target']\n",
    "# X = df.drop(['target'], axis=1)"
   ]
  },
  {
   "cell_type": "code",
   "execution_count": 3,
   "id": "109682ac-9640-4520-b4da-cedbc096546a",
   "metadata": {},
   "outputs": [],
   "source": [
    "X = pd.read_csv(\"./Quiz2/X_train.csv\")\n",
    "y = pd.read_csv(\"./Quiz2/y_train.csv\")\n",
    "test문제 = pd.read_csv(\"./Quiz2/X_test.csv\")"
   ]
  },
  {
   "cell_type": "code",
   "execution_count": 12,
   "id": "d13af47b-e9fc-4804-b251-9c6e5d667d25",
   "metadata": {},
   "outputs": [
    {
     "data": {
      "text/html": [
       "<div>\n",
       "<style scoped>\n",
       "    .dataframe tbody tr th:only-of-type {\n",
       "        vertical-align: middle;\n",
       "    }\n",
       "\n",
       "    .dataframe tbody tr th {\n",
       "        vertical-align: top;\n",
       "    }\n",
       "\n",
       "    .dataframe thead th {\n",
       "        text-align: right;\n",
       "    }\n",
       "</style>\n",
       "<table border=\"1\" class=\"dataframe\">\n",
       "  <thead>\n",
       "    <tr style=\"text-align: right;\">\n",
       "      <th></th>\n",
       "      <th>cust_id</th>\n",
       "      <th>gender</th>\n",
       "    </tr>\n",
       "  </thead>\n",
       "  <tbody>\n",
       "    <tr>\n",
       "      <th>0</th>\n",
       "      <td>3500</td>\n",
       "      <td>0.0</td>\n",
       "    </tr>\n",
       "    <tr>\n",
       "      <th>1</th>\n",
       "      <td>3501</td>\n",
       "      <td>0.0</td>\n",
       "    </tr>\n",
       "    <tr>\n",
       "      <th>2</th>\n",
       "      <td>3502</td>\n",
       "      <td>0.0</td>\n",
       "    </tr>\n",
       "    <tr>\n",
       "      <th>3</th>\n",
       "      <td>3503</td>\n",
       "      <td>0.0</td>\n",
       "    </tr>\n",
       "    <tr>\n",
       "      <th>4</th>\n",
       "      <td>3504</td>\n",
       "      <td>0.0</td>\n",
       "    </tr>\n",
       "  </tbody>\n",
       "</table>\n",
       "</div>"
      ],
      "text/plain": [
       "   cust_id  gender\n",
       "0     3500     0.0\n",
       "1     3501     0.0\n",
       "2     3502     0.0\n",
       "3     3503     0.0\n",
       "4     3504     0.0"
      ]
     },
     "execution_count": 12,
     "metadata": {},
     "output_type": "execute_result"
    }
   ],
   "source": [
    "test답안= pd.DataFrame({\"cust_id\":test문제['cust_id'].values})\n",
    "test답안[\"gender\"] = 0.0\n",
    "test답안.head()"
   ]
  },
  {
   "cell_type": "code",
   "execution_count": 70,
   "id": "b1b6a95a-0723-473e-a767-9d1d00bb1177",
   "metadata": {},
   "outputs": [
    {
     "data": {
      "text/plain": [
       "((3500, 73), (3500, 1), (2482, 73), (2482, 2))"
      ]
     },
     "execution_count": 70,
     "metadata": {},
     "output_type": "execute_result"
    }
   ],
   "source": [
    "X.shape, y.shape, test문제.shape, test답안.shape"
   ]
  },
  {
   "cell_type": "code",
   "execution_count": 5,
   "id": "701543ed-5ddb-4a3c-81a0-82e06830548a",
   "metadata": {},
   "outputs": [
    {
     "name": "stdout",
     "output_type": "stream",
     "text": [
      "<class 'pandas.core.frame.DataFrame'>\n",
      "RangeIndex: 3500 entries, 0 to 3499\n",
      "Data columns (total 10 columns):\n",
      " #   Column   Non-Null Count  Dtype  \n",
      "---  ------   --------------  -----  \n",
      " 0   cust_id  3500 non-null   int64  \n",
      " 1   총구매액     3500 non-null   int64  \n",
      " 2   최대구매액    3500 non-null   int64  \n",
      " 3   환불금액     1205 non-null   float64\n",
      " 4   주구매상품    3500 non-null   object \n",
      " 5   주구매지점    3500 non-null   object \n",
      " 6   내점일수     3500 non-null   int64  \n",
      " 7   내점당구매건수  3500 non-null   float64\n",
      " 8   주말방문비율   3500 non-null   float64\n",
      " 9   구매주기     3500 non-null   int64  \n",
      "dtypes: float64(3), int64(5), object(2)\n",
      "memory usage: 273.6+ KB\n"
     ]
    }
   ],
   "source": [
    "X.info()"
   ]
  },
  {
   "cell_type": "code",
   "execution_count": 6,
   "id": "20ecee6a-6bd2-4a90-8921-0a52496fbcc3",
   "metadata": {},
   "outputs": [
    {
     "name": "stdout",
     "output_type": "stream",
     "text": [
      "<class 'pandas.core.frame.DataFrame'>\n",
      "RangeIndex: 3500 entries, 0 to 3499\n",
      "Data columns (total 2 columns):\n",
      " #   Column   Non-Null Count  Dtype\n",
      "---  ------   --------------  -----\n",
      " 0   cust_id  3500 non-null   int64\n",
      " 1   gender   3500 non-null   int64\n",
      "dtypes: int64(2)\n",
      "memory usage: 54.8 KB\n"
     ]
    }
   ],
   "source": [
    "y.info()"
   ]
  },
  {
   "cell_type": "code",
   "execution_count": 7,
   "id": "2a4d4871-b716-4d5d-bc0b-26ca905c4a80",
   "metadata": {},
   "outputs": [
    {
     "name": "stdout",
     "output_type": "stream",
     "text": [
      "<class 'pandas.core.frame.DataFrame'>\n",
      "RangeIndex: 2482 entries, 0 to 2481\n",
      "Data columns (total 10 columns):\n",
      " #   Column   Non-Null Count  Dtype  \n",
      "---  ------   --------------  -----  \n",
      " 0   cust_id  2482 non-null   int64  \n",
      " 1   총구매액     2482 non-null   int64  \n",
      " 2   최대구매액    2482 non-null   int64  \n",
      " 3   환불금액     871 non-null    float64\n",
      " 4   주구매상품    2482 non-null   object \n",
      " 5   주구매지점    2482 non-null   object \n",
      " 6   내점일수     2482 non-null   int64  \n",
      " 7   내점당구매건수  2482 non-null   float64\n",
      " 8   주말방문비율   2482 non-null   float64\n",
      " 9   구매주기     2482 non-null   int64  \n",
      "dtypes: float64(3), int64(5), object(2)\n",
      "memory usage: 194.0+ KB\n"
     ]
    }
   ],
   "source": [
    "test문제.info()"
   ]
  },
  {
   "cell_type": "markdown",
   "id": "9b16aa04-b262-4e95-af1a-9682faf2f558",
   "metadata": {
    "tags": []
   },
   "source": [
    "## 분석전략\n",
    "* 글자처리 - 2\n",
    "* 결측처리(숫자) - 1 \n",
    "* 삭제처리 - cust_id\n",
    "* 수치 정규화/표준화 - 스케일러\n",
    "* 분류알로리즘(앙상블) : XGBoostClassifier, LightGBMClassifier, RandomForestClassifier\n",
    "* 점수 : roc_auc_score(정답, proba[:, 1]) \n",
    "* 초매개변수 최적화 : GridSearchCV()  {'n_estimater':[100], 'max_depth':[1,2]}"
   ]
  },
  {
   "cell_type": "markdown",
   "id": "56216f03-96a1-4ca7-a382-5f9fe4ac9828",
   "metadata": {
    "tags": []
   },
   "source": [
    "### 전처리"
   ]
  },
  {
   "cell_type": "markdown",
   "id": "0c74a812-29d5-433c-b050-b5294f3c8314",
   "metadata": {},
   "source": [
    "#### 결측처리(숫자) -  환불금액\n"
   ]
  },
  {
   "cell_type": "code",
   "execution_count": 8,
   "id": "a6970b3b-4346-4ac9-a91a-57a0195d3697",
   "metadata": {},
   "outputs": [],
   "source": [
    "# X.isna().sum()           #2295\n",
    "# test문제.isna().sum()    #1611"
   ]
  },
  {
   "cell_type": "code",
   "execution_count": 9,
   "id": "e1ffe273-0d4e-429d-8aa1-b45ecbece7f7",
   "metadata": {},
   "outputs": [
    {
     "data": {
      "text/plain": [
       "Index(['cust_id', '총구매액', '최대구매액', '환불금액', '주구매상품', '주구매지점', '내점일수', '내점당구매건수',\n",
       "       '주말방문비율', '구매주기'],\n",
       "      dtype='object')"
      ]
     },
     "execution_count": 9,
     "metadata": {},
     "output_type": "execute_result"
    }
   ],
   "source": [
    "X.columns"
   ]
  },
  {
   "cell_type": "code",
   "execution_count": 10,
   "id": "7f7e17c5-9d81-493d-b7ed-af779356a6e8",
   "metadata": {},
   "outputs": [],
   "source": [
    "X['환불금액'] = X['환불금액'].fillna(0)\n",
    "test문제['환불금액'] = test문제['환불금액'].fillna(0)"
   ]
  },
  {
   "cell_type": "markdown",
   "id": "411e670e-c384-4167-92b1-f076c56605a9",
   "metadata": {
    "tags": []
   },
   "source": [
    "#### 삭제처리 - cust_id\n",
    "* X, y 합쳐서(조인) df를 만들필요는 없다\n",
    "* test문제 - submission.csv"
   ]
  },
  {
   "cell_type": "code",
   "execution_count": 11,
   "id": "8b0df14f-2a4a-44d2-b12f-dde9d3ac097f",
   "metadata": {},
   "outputs": [
    {
     "data": {
      "text/plain": [
       "array([3500, 3501, 3502, ..., 5979, 5980, 5981], dtype=int64)"
      ]
     },
     "execution_count": 11,
     "metadata": {},
     "output_type": "execute_result"
    }
   ],
   "source": [
    "test문제['cust_id'].values"
   ]
  },
  {
   "cell_type": "code",
   "execution_count": 13,
   "id": "b91441f8-2b83-4024-962b-225af75e89bf",
   "metadata": {},
   "outputs": [],
   "source": [
    "X = X.drop('cust_id', axis=1)\n",
    "y = y.drop('cust_id', axis=1)\n",
    "test문제 = test문제.drop('cust_id', axis=1)"
   ]
  },
  {
   "cell_type": "markdown",
   "id": "bbed8829-966e-4d56-9db3-5d0f5a854a0a",
   "metadata": {
    "tags": []
   },
   "source": [
    "### 글자처리"
   ]
  },
  {
   "cell_type": "code",
   "execution_count": 14,
   "id": "461c41eb-947d-41e8-98d3-80a836987574",
   "metadata": {},
   "outputs": [],
   "source": [
    "#--- by 오선호\n",
    "# dict = {'기타':0,\n",
    "#         '농산물':1, '수산품':1, '건강식품':1, '차/커피':1, '젓갈/반찬':1, \n",
    "#         '가공식품':2,'주류':2,'육류':2,'축산가공':2,\n",
    "#        '화장품':3,'액세서리':3,'보석':3,\n",
    "#         '디자이너':4,'명품':4,'섬유잡화':4,'모피/피혁':4,'피혁잡화':4,'아동':4,'셔츠':4,'란제리/내의':4,\n",
    "#         '시티웨어':5,'캐주얼':5,'골프':5,'스포츠':5,'일용잡화':5,'남성 캐주얼':5,'구두':5,'트래디셔널':5,'남성정장':5,'남성 트랜디':5,\n",
    "#        '주방용품':6,'주방가전':6,'생활잡화':6,'가구':6,'커리어':6,'식기':6,'침구/수예':6,'악기':6,'소형가전':6,\n",
    "#         '통신/컴퓨터':7,'대형가전':7}\n",
    "# train_test['주구매상품_'] = train_test['주구매상품'].map(dict)\n",
    "# train_test[['주구매상품','주구매상품_']].head()\n"
   ]
  },
  {
   "cell_type": "markdown",
   "id": "0a90c690-96ad-40cb-ae2e-78ac8acea876",
   "metadata": {},
   "source": [
    "선택1)"
   ]
  },
  {
   "cell_type": "code",
   "execution_count": 15,
   "id": "3b87405b-5889-4e60-84d6-88449b238944",
   "metadata": {},
   "outputs": [],
   "source": [
    "# temp = pd.concat( [X['주구매상품'], test문제['주구매상품']], axis=0)\n",
    "# arr = temp.unique()\n",
    "# dict1 = {}\n",
    "# for i, v in enumerate(arr):\n",
    "#     dict1[v] = i\n",
    "    \n",
    "\n",
    "# X['주구매상품'] = X['주구매상품'].map(dict1)\n",
    "# test문제['주구매상품'] = test문제['주구매상품'].map(dict1)\n",
    "\n",
    "# # #------------------    \n",
    "# temp = pd.concat( [X['주구매지점'], test문제['주구매지점']], axis=0)\n",
    "# arr = temp.unique()\n",
    "# dict2 = {}\n",
    "# for i, v in enumerate(arr):\n",
    "#     dict2[v] = i\n",
    "# X['주구매지점'] = X['주구매지점'].map(dict2)\n",
    "# test문제['주구매지점'] = test문제['주구매지점'].map(dict2)\n",
    "\n",
    "# # print(dict1, dict2)"
   ]
  },
  {
   "cell_type": "markdown",
   "id": "23590a54-01a0-43e0-84f9-9e369582c652",
   "metadata": {},
   "source": [
    "선택2) get_dummies()\n",
    "* 결측  . 글자->숫자(인코딩) . 원핫인코딩 "
   ]
  },
  {
   "cell_type": "code",
   "execution_count": 19,
   "id": "152a85a1-c65c-4cbb-9f49-ca4e8d3b49f9",
   "metadata": {},
   "outputs": [
    {
     "name": "stdout",
     "output_type": "stream",
     "text": [
      "(5982, 9)\n",
      "(5982, 73)\n"
     ]
    }
   ],
   "source": [
    "tot_df = pd.concat( [X, test문제], axis=0)\n",
    "print(tot_df.shape)\n",
    "tot_df = pd.get_dummies(tot_df)\n",
    "print(tot_df.shape)"
   ]
  },
  {
   "cell_type": "code",
   "execution_count": 32,
   "id": "444b58a5-6298-4215-be26-f38fba8b81e1",
   "metadata": {},
   "outputs": [
    {
     "name": "stdout",
     "output_type": "stream",
     "text": [
      "(3500, 73) (2482, 73) 5982\n"
     ]
    }
   ],
   "source": [
    "# len(X.index) #3500\n",
    "# X.shape[0]   #3500\n",
    "X = tot_df.iloc[:3500 , :]\n",
    "test문제 = tot_df.iloc[3500: , :]\n",
    "print(X.shape, test문제.shape, X.shape[0]+test문제.shape[0])"
   ]
  },
  {
   "cell_type": "markdown",
   "id": "b93ca3ce-84de-466f-af87-7cbc5b797ed9",
   "metadata": {},
   "source": [
    "### 수치 정규화/표준화 - 스케일러"
   ]
  },
  {
   "cell_type": "code",
   "execution_count": 34,
   "id": "9f5e69c4-bd61-4d1c-be88-c12f6eb8e04a",
   "metadata": {},
   "outputs": [],
   "source": [
    "sc = StandardScaler()\n",
    "sc.fit(X)                #데이터프레임통째로\n",
    "X_sc = sc.transform(X)   #행렬 [[],[],[]]\n",
    "test_sc = sc.transform(test문제)"
   ]
  },
  {
   "cell_type": "markdown",
   "id": "3e8d6b50-f5f1-451b-802d-7cbc40820359",
   "metadata": {
    "tags": []
   },
   "source": [
    "### 분류 알고리즘(앙상블) \n",
    "* XGBoostClassifier, LightGBMClassifier, RandomForestClassifier\n"
   ]
  },
  {
   "cell_type": "markdown",
   "id": "d6f33ca7-5aeb-4a94-8bea-c2470fcb8463",
   "metadata": {},
   "source": [
    "#### 선택1) 여기서 끝낼거면 -- GridSearchCV()잘 못하겠다"
   ]
  },
  {
   "cell_type": "code",
   "execution_count": 46,
   "id": "7871e2d0-7340-47c0-977a-9cdeb32817c5",
   "metadata": {},
   "outputs": [
    {
     "data": {
      "text/plain": [
       "0.654358103249928"
      ]
     },
     "execution_count": 46,
     "metadata": {},
     "output_type": "execute_result"
    }
   ],
   "source": [
    "# X_train, X_val, y_train, y_val = train_test_split(X, y, test_size=0.2, random_state=1212)\n",
    "# model = RandomForestClassifier()\n",
    "# model.fit(X_train, y_train)\n",
    "# proba = model.predict_proba(X_val)\n",
    "# # print(proba)\n",
    "# roc_auc_score(y_val, proba[ : , 1])  #0.654358103249928"
   ]
  },
  {
   "cell_type": "markdown",
   "id": "35b73d7d-8319-4777-a87a-bd184564376f",
   "metadata": {},
   "source": [
    "#### 선택2) GridSearchCV()"
   ]
  },
  {
   "cell_type": "markdown",
   "id": "3d9d103f-e90d-4f0f-a30b-fefc35bca93c",
   "metadata": {
    "jp-MarkdownHeadingCollapsed": true,
    "tags": []
   },
   "source": [
    "* 초매개변수 최적화 \n",
    "* GridSearchCV() {'n_estimater':[100], 'max_depth':[1,2]}"
   ]
  },
  {
   "cell_type": "code",
   "execution_count": 53,
   "id": "d16b5169-8264-4265-b8f2-3a4a1d1d574c",
   "metadata": {},
   "outputs": [
    {
     "data": {
      "text/plain": [
       "dict_keys(['bootstrap', 'ccp_alpha', 'class_weight', 'criterion', 'max_depth', 'max_features', 'max_leaf_nodes', 'max_samples', 'min_impurity_decrease', 'min_impurity_split', 'min_samples_leaf', 'min_samples_split', 'min_weight_fraction_leaf', 'n_estimators', 'n_jobs', 'oob_score', 'random_state', 'verbose', 'warm_start'])"
      ]
     },
     "execution_count": 53,
     "metadata": {},
     "output_type": "execute_result"
    }
   ],
   "source": [
    "model.get_params().keys()"
   ]
  },
  {
   "cell_type": "code",
   "execution_count": 56,
   "id": "9e56ad78-2b31-4d30-a6cb-fadbc0946609",
   "metadata": {},
   "outputs": [
    {
     "data": {
      "text/plain": [
       "GridSearchCV(cv=5, estimator=RandomForestClassifier(),\n",
       "             param_grid={'max_depth': [1, 2], 'n_estimators': [300]},\n",
       "             scoring='roc_auc')"
      ]
     },
     "execution_count": 56,
     "metadata": {},
     "output_type": "execute_result"
    }
   ],
   "source": [
    "myparm = {'n_estimators':[300], 'max_depth':[1,2]}\n",
    "gcv_model = GridSearchCV(model, param_grid=myparm, cv=5, refit=True, scoring='roc_auc')\n",
    "gcv_model.fit(X, y)"
   ]
  },
  {
   "cell_type": "code",
   "execution_count": 58,
   "id": "f2937d88-4001-4578-868f-fa802d55f548",
   "metadata": {},
   "outputs": [
    {
     "data": {
      "text/plain": [
       "0.6591300599188006"
      ]
     },
     "execution_count": 58,
     "metadata": {},
     "output_type": "execute_result"
    }
   ],
   "source": [
    "gcv_model.best_score_"
   ]
  },
  {
   "cell_type": "code",
   "execution_count": 66,
   "id": "69d0cd93-f586-43d4-b52a-4acddea4f4f8",
   "metadata": {},
   "outputs": [
    {
     "data": {
      "text/plain": [
       "{'max_depth': 2, 'n_estimators': 300}"
      ]
     },
     "execution_count": 66,
     "metadata": {},
     "output_type": "execute_result"
    }
   ],
   "source": [
    "gcv_model.best_params_"
   ]
  },
  {
   "cell_type": "markdown",
   "id": "1c451b99-1827-4327-b506-e71efceea2ce",
   "metadata": {},
   "source": [
    "### submission.csv 답안지 제출"
   ]
  },
  {
   "cell_type": "code",
   "execution_count": 77,
   "id": "ae615fbe-2120-4c73-acc2-77682629da73",
   "metadata": {},
   "outputs": [
    {
     "name": "stdout",
     "output_type": "stream",
     "text": [
      "[[0.64488865 0.35511135]\n",
      " [0.70656851 0.29343149]\n",
      " [0.69878032 0.30121968]\n",
      " [0.59178028 0.40821972]\n",
      " [0.5633806  0.4366194 ]]\n",
      "[0.35511135 0.29343149 0.30121968 ... 0.40315611 0.37347939 0.43965224]\n",
      "2482\n"
     ]
    }
   ],
   "source": [
    "proba = gcv_model.predict_proba(test문제)  #-------------완전주의!!!!!!\n",
    "print(proba[:5])\n",
    "print(proba[:, 1])\n",
    "제출답안_arr = proba[:, 1]\n",
    "print(len(제출답안_arr))\n",
    "# -----------------------------------------------------------------\n",
    "# 완전주의!!!!!! 'test문제' 답안은 주최자만 가지고 있다...... 점수못찍는다\n",
    "# -----------------------------------------------------------------\n",
    "# roc_auc_score( __??__, proba[ : , 1])  #--- error"
   ]
  },
  {
   "cell_type": "code",
   "execution_count": 73,
   "id": "2fda4705-c22e-46cf-83be-78b85ab75556",
   "metadata": {},
   "outputs": [
    {
     "data": {
      "text/plain": [
       "2482"
      ]
     },
     "execution_count": 73,
     "metadata": {},
     "output_type": "execute_result"
    }
   ],
   "source": [
    "len(test답안['gender'].values)"
   ]
  },
  {
   "cell_type": "markdown",
   "id": "fb54dda7-718f-4e7e-9e94-166ca8ec764e",
   "metadata": {},
   "source": [
    "* DataFrame에 array데이터를 붙이는 방법"
   ]
  },
  {
   "cell_type": "code",
   "execution_count": 79,
   "id": "af9c9061-dbee-44f2-98bb-75765645fae9",
   "metadata": {},
   "outputs": [],
   "source": [
    "# test답안['gender'] = proba[:, 1].reshape(-1,1)\n",
    "test답안['gender'] = 제출답안_arr.reshape(-1,1)"
   ]
  },
  {
   "cell_type": "code",
   "execution_count": 81,
   "id": "44be282c-9fe2-4e6e-a857-0b55b3dd8e01",
   "metadata": {},
   "outputs": [
    {
     "data": {
      "text/html": [
       "<div>\n",
       "<style scoped>\n",
       "    .dataframe tbody tr th:only-of-type {\n",
       "        vertical-align: middle;\n",
       "    }\n",
       "\n",
       "    .dataframe tbody tr th {\n",
       "        vertical-align: top;\n",
       "    }\n",
       "\n",
       "    .dataframe thead th {\n",
       "        text-align: right;\n",
       "    }\n",
       "</style>\n",
       "<table border=\"1\" class=\"dataframe\">\n",
       "  <thead>\n",
       "    <tr style=\"text-align: right;\">\n",
       "      <th></th>\n",
       "      <th>cust_id</th>\n",
       "      <th>gender</th>\n",
       "    </tr>\n",
       "  </thead>\n",
       "  <tbody>\n",
       "    <tr>\n",
       "      <th>0</th>\n",
       "      <td>3500</td>\n",
       "      <td>0.355111</td>\n",
       "    </tr>\n",
       "    <tr>\n",
       "      <th>1</th>\n",
       "      <td>3501</td>\n",
       "      <td>0.293431</td>\n",
       "    </tr>\n",
       "    <tr>\n",
       "      <th>2</th>\n",
       "      <td>3502</td>\n",
       "      <td>0.301220</td>\n",
       "    </tr>\n",
       "    <tr>\n",
       "      <th>3</th>\n",
       "      <td>3503</td>\n",
       "      <td>0.408220</td>\n",
       "    </tr>\n",
       "    <tr>\n",
       "      <th>4</th>\n",
       "      <td>3504</td>\n",
       "      <td>0.436619</td>\n",
       "    </tr>\n",
       "  </tbody>\n",
       "</table>\n",
       "</div>"
      ],
      "text/plain": [
       "   cust_id    gender\n",
       "0     3500  0.355111\n",
       "1     3501  0.293431\n",
       "2     3502  0.301220\n",
       "3     3503  0.408220\n",
       "4     3504  0.436619"
      ]
     },
     "execution_count": 81,
     "metadata": {},
     "output_type": "execute_result"
    }
   ],
   "source": [
    "test답안.head()"
   ]
  },
  {
   "cell_type": "code",
   "execution_count": 83,
   "id": "973f002d-7100-49a2-b098-a220f34820f1",
   "metadata": {},
   "outputs": [],
   "source": [
    "test답안.to_csv(\"lkh.csv\", index=False)"
   ]
  },
  {
   "cell_type": "markdown",
   "id": "9fec742d-fb47-4081-9e66-4917b4422f1b",
   "metadata": {},
   "source": [
    "* lkh.csv  재확인"
   ]
  },
  {
   "cell_type": "code",
   "execution_count": 85,
   "id": "cc99e56c-be31-4121-b53f-861f7d887df0",
   "metadata": {},
   "outputs": [
    {
     "data": {
      "text/plain": [
       "(2482, 2)"
      ]
     },
     "execution_count": 85,
     "metadata": {},
     "output_type": "execute_result"
    }
   ],
   "source": [
    "# dd = pd.read_csv(\"lkh.csv\")\n",
    "# dd.head()\n",
    "# dd.shape"
   ]
  }
 ],
 "metadata": {
  "kernelspec": {
   "display_name": "Python 3 (ipykernel)",
   "language": "python",
   "name": "python3"
  },
  "language_info": {
   "codemirror_mode": {
    "name": "ipython",
    "version": 3
   },
   "file_extension": ".py",
   "mimetype": "text/x-python",
   "name": "python",
   "nbconvert_exporter": "python",
   "pygments_lexer": "ipython3",
   "version": "3.8.8"
  }
 },
 "nbformat": 4,
 "nbformat_minor": 5
}
