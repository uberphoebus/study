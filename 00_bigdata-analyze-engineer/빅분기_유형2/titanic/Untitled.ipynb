{
 "cells": [
  {
   "cell_type": "code",
   "execution_count": 1,
   "id": "a157200d-96c2-4ee8-8291-75aecc451ee6",
   "metadata": {},
   "outputs": [],
   "source": [
    "import numpy as np\n",
    "import pandas as pd\n",
    "\n",
    "# model_selection.splitter\n",
    "from sklearn.model_selection import train_test_split   # **********************      \n",
    "from sklearn.model_selection import GridSearchCV       # **********************\n",
    "from sklearn.model_selection import KFold, StratifiedKFold\n",
    "from sklearn.model_selection import cross_validate, cross_val_score\n",
    "\n",
    "from sklearn.tree import DecisionTreeClassifier\n",
    "from sklearn.ensemble import RandomForestClassifier, GradientBoostingClassifier\n",
    "\n",
    "\n",
    "# metrics.scores\n",
    "from sklearn.metrics import f1_score, roc_auc_score    # **********************\n",
    "from sklearn.metrics import accuracy_score, precision_score, recall_score,  confusion_matrix\n",
    "\n",
    "from sklearn.preprocessing import LabelEncoder, OneHotEncoder\n",
    "\n",
    "# **************************************************\n",
    "\n",
    "# Classifier ---------------------------------------\n",
    "# from sklearn.linear_model import LogisticRegression # classifier\n",
    "# from xgboost import XGBClassifier, XGBRFClassifier\n",
    "# from lightgbm import LGBMClassifier\n",
    "# from catboost import CatBoostClassifier\n",
    "\n",
    "# metrics.curves\n",
    "# from sklearn.metrics import precision_recall_curve, plot_precision_recall_curve\n",
    "# from sklearn.metrics import roc_curve, plot_roc_curve\n",
    "# metrics.reports\n",
    "# from sklearn.metrics import classification_report, ConfusionMatrixDisplay\n",
    "# --------------------------------------------------\n",
    "\n",
    "\n"
   ]
  },
  {
   "cell_type": "markdown",
   "id": "86bf824d-f64c-408f-9ada-6578e466278e",
   "metadata": {},
   "source": [
    "<pre>\n",
    "1) 타겟확인\n",
    "2) 결측확인 : isna().sum()   fillna()\n",
    "3) 숫자타입 : Object타입이 보이면 아래 작업 수행\n",
    "\n",
    "#------------------ 글자 ==> 숫자 변환 ---------------\n",
    "# Array(가로)     : LabelEncoding : 글자 --> 숫자    =========> fit(변환된결과)  df['CC']=변환된결과.reshape(-1,1)\n",
    "# Array(가로)     : OneHotEncoding : 0~9 \n",
    "# DataFraem(세로) : get_dummie\n",
    "\n",
    "4) 학습 (train 8:2 val)\n",
    "\n",
    "5) 테스트(test submit)  ---  답안지"
   ]
  },
  {
   "cell_type": "markdown",
   "id": "a14015f1-32c2-486d-8321-6a09e376a8db",
   "metadata": {},
   "source": [
    "## 분석 : 숫자, 결측"
   ]
  },
  {
   "cell_type": "code",
   "execution_count": 2,
   "id": "0cfe8dd7-c5cf-4aaf-8973-d7f4babeeef3",
   "metadata": {},
   "outputs": [],
   "source": [
    "train = pd.read_csv(\"train.csv\")\n",
    "test = pd.read_csv(\"test.csv\")\n",
    "sub = pd.read_csv(\"submission.csv\")"
   ]
  },
  {
   "cell_type": "code",
   "execution_count": 3,
   "id": "5dd48425-f2a2-4514-a82e-a7938c5f4969",
   "metadata": {},
   "outputs": [
    {
     "data": {
      "text/plain": [
       "((891, 12), (418, 11))"
      ]
     },
     "execution_count": 3,
     "metadata": {},
     "output_type": "execute_result"
    }
   ],
   "source": [
    "train.shape, test.shape"
   ]
  },
  {
   "cell_type": "code",
   "execution_count": 4,
   "id": "7d146714-1d64-4b2d-ac72-fe8b55b95298",
   "metadata": {},
   "outputs": [],
   "source": [
    "df = pd.concat([train, test], axis=0)"
   ]
  },
  {
   "cell_type": "markdown",
   "id": "5f5ee8b1-451f-465b-aa97-e10a92d7d9d5",
   "metadata": {},
   "source": [
    "* 결측확인 - 숫자(평균)\n",
    "<pre>\n",
    "Age             263\n",
    "Cabin          1014\n",
    "Embarked          2"
   ]
  },
  {
   "cell_type": "code",
   "execution_count": 5,
   "id": "72e6213a-7256-413e-b1ac-551b4b7d3e75",
   "metadata": {},
   "outputs": [
    {
     "data": {
      "text/plain": [
       "PassengerId       0\n",
       "Survived        418\n",
       "Pclass            0\n",
       "Name              0\n",
       "Sex               0\n",
       "Age             263\n",
       "SibSp             0\n",
       "Parch             0\n",
       "Ticket            0\n",
       "Fare              1\n",
       "Cabin          1014\n",
       "Embarked          2\n",
       "dtype: int64"
      ]
     },
     "execution_count": 5,
     "metadata": {},
     "output_type": "execute_result"
    }
   ],
   "source": [
    "df.isna().sum()"
   ]
  },
  {
   "cell_type": "code",
   "execution_count": 6,
   "id": "2856d308-4d23-4389-841c-81ab9a8cb14b",
   "metadata": {},
   "outputs": [],
   "source": [
    "# df[ (df['Pclass']==3) & (df['SibSp']==0) & (df['Parch']==0)]['Fare'].mean()  #9.09\n",
    "df['Fare'].fillna(9.09, inplace=True)"
   ]
  },
  {
   "cell_type": "code",
   "execution_count": 7,
   "id": "5406ff08-5e2b-49dd-a6b6-9b1a6a9ea255",
   "metadata": {},
   "outputs": [],
   "source": [
    "#df['Age'].mean()\n",
    "df['Age'].fillna(29.88, inplace=True)"
   ]
  },
  {
   "cell_type": "code",
   "execution_count": 8,
   "id": "98a36ee4-598a-45cd-b6c5-216b93c039b7",
   "metadata": {},
   "outputs": [],
   "source": [
    "df['Embarked'].fillna('S', inplace=True)"
   ]
  },
  {
   "cell_type": "markdown",
   "id": "e3182d9d-ea36-4e14-8709-26693c5b15b0",
   "metadata": {},
   "source": [
    "* Object 타입 - 최빈도\n",
    "<pre>\n",
    " 3   Name         1309 non-null   object   --- drop\n",
    " 4   Sex          1309 non-null   object \n",
    " 8   Ticket       1309 non-null   object   --- drop\n",
    " 10  Cabin        295 non-null    object   --- drop\n",
    " 11  Embarked     1307 non-null   object   --- S"
   ]
  },
  {
   "cell_type": "code",
   "execution_count": 9,
   "id": "20a40c01-7005-4694-b1c4-24decbf52618",
   "metadata": {},
   "outputs": [],
   "source": [
    "dict1 = {'male':0, 'female':1}\n",
    "df['Sex'] = df['Sex'].map(dict1)\n",
    "\n",
    "dict2 = {'S':0, 'C':1, 'Q':2}\n",
    "df['Embarked'] = df['Embarked'].map(dict2)"
   ]
  },
  {
   "cell_type": "markdown",
   "id": "a686ca7a-e9ba-40ae-a5c7-3fb49dd06d18",
   "metadata": {},
   "source": [
    "* 불필요컬럼 삭제"
   ]
  },
  {
   "cell_type": "code",
   "execution_count": 10,
   "id": "31076e73-71f5-4d7b-ba7c-91a0b3272149",
   "metadata": {},
   "outputs": [],
   "source": [
    "# print(df.columns.tolist())\n",
    "col = ['PassengerId',  'Name', 'Ticket',  'Cabin']\n",
    "df = df.drop(col, axis=1)"
   ]
  },
  {
   "cell_type": "code",
   "execution_count": 11,
   "id": "0e9312a8-8b2f-437d-afe6-b30f32a13562",
   "metadata": {},
   "outputs": [
    {
     "data": {
      "text/html": [
       "<div>\n",
       "<style scoped>\n",
       "    .dataframe tbody tr th:only-of-type {\n",
       "        vertical-align: middle;\n",
       "    }\n",
       "\n",
       "    .dataframe tbody tr th {\n",
       "        vertical-align: top;\n",
       "    }\n",
       "\n",
       "    .dataframe thead th {\n",
       "        text-align: right;\n",
       "    }\n",
       "</style>\n",
       "<table border=\"1\" class=\"dataframe\">\n",
       "  <thead>\n",
       "    <tr style=\"text-align: right;\">\n",
       "      <th></th>\n",
       "      <th>Survived</th>\n",
       "      <th>Pclass</th>\n",
       "      <th>Sex</th>\n",
       "      <th>Age</th>\n",
       "      <th>SibSp</th>\n",
       "      <th>Parch</th>\n",
       "      <th>Fare</th>\n",
       "      <th>Embarked</th>\n",
       "    </tr>\n",
       "  </thead>\n",
       "  <tbody>\n",
       "    <tr>\n",
       "      <th>0</th>\n",
       "      <td>0.0</td>\n",
       "      <td>3</td>\n",
       "      <td>0</td>\n",
       "      <td>22.0</td>\n",
       "      <td>1</td>\n",
       "      <td>0</td>\n",
       "      <td>7.2500</td>\n",
       "      <td>0</td>\n",
       "    </tr>\n",
       "    <tr>\n",
       "      <th>1</th>\n",
       "      <td>1.0</td>\n",
       "      <td>1</td>\n",
       "      <td>1</td>\n",
       "      <td>38.0</td>\n",
       "      <td>1</td>\n",
       "      <td>0</td>\n",
       "      <td>71.2833</td>\n",
       "      <td>1</td>\n",
       "    </tr>\n",
       "    <tr>\n",
       "      <th>2</th>\n",
       "      <td>1.0</td>\n",
       "      <td>3</td>\n",
       "      <td>1</td>\n",
       "      <td>26.0</td>\n",
       "      <td>0</td>\n",
       "      <td>0</td>\n",
       "      <td>7.9250</td>\n",
       "      <td>0</td>\n",
       "    </tr>\n",
       "    <tr>\n",
       "      <th>3</th>\n",
       "      <td>1.0</td>\n",
       "      <td>1</td>\n",
       "      <td>1</td>\n",
       "      <td>35.0</td>\n",
       "      <td>1</td>\n",
       "      <td>0</td>\n",
       "      <td>53.1000</td>\n",
       "      <td>0</td>\n",
       "    </tr>\n",
       "    <tr>\n",
       "      <th>4</th>\n",
       "      <td>0.0</td>\n",
       "      <td>3</td>\n",
       "      <td>0</td>\n",
       "      <td>35.0</td>\n",
       "      <td>0</td>\n",
       "      <td>0</td>\n",
       "      <td>8.0500</td>\n",
       "      <td>0</td>\n",
       "    </tr>\n",
       "  </tbody>\n",
       "</table>\n",
       "</div>"
      ],
      "text/plain": [
       "   Survived  Pclass  Sex   Age  SibSp  Parch     Fare  Embarked\n",
       "0       0.0       3    0  22.0      1      0   7.2500         0\n",
       "1       1.0       1    1  38.0      1      0  71.2833         1\n",
       "2       1.0       3    1  26.0      0      0   7.9250         0\n",
       "3       1.0       1    1  35.0      1      0  53.1000         0\n",
       "4       0.0       3    0  35.0      0      0   8.0500         0"
      ]
     },
     "execution_count": 11,
     "metadata": {},
     "output_type": "execute_result"
    }
   ],
   "source": [
    "df.head()"
   ]
  },
  {
   "cell_type": "markdown",
   "id": "592dba36-a030-4389-85ef-a5a645c382a7",
   "metadata": {},
   "source": [
    "## 학습 테스트 나누기"
   ]
  },
  {
   "cell_type": "code",
   "execution_count": 12,
   "id": "c5594d24-c357-43cc-845a-57712c081b1e",
   "metadata": {},
   "outputs": [],
   "source": [
    "train = df[~df['Survived'].isna()]   #891\n",
    "test = df[df['Survived'].isna()]     #418"
   ]
  },
  {
   "cell_type": "code",
   "execution_count": 13,
   "id": "8405e9b5-a286-4c46-9cd8-1a18a87b9885",
   "metadata": {},
   "outputs": [
    {
     "name": "stderr",
     "output_type": "stream",
     "text": [
      "f:\\workspace\\venv\\lib\\site-packages\\pandas\\core\\frame.py:4901: SettingWithCopyWarning: \n",
      "A value is trying to be set on a copy of a slice from a DataFrame\n",
      "\n",
      "See the caveats in the documentation: https://pandas.pydata.org/pandas-docs/stable/user_guide/indexing.html#returning-a-view-versus-a-copy\n",
      "  return super().drop(\n"
     ]
    }
   ],
   "source": [
    "test.drop('Survived', axis=1, inplace=True)"
   ]
  },
  {
   "cell_type": "code",
   "execution_count": 14,
   "id": "79a55eae-aad1-4f2a-bcff-8675877caf75",
   "metadata": {},
   "outputs": [
    {
     "data": {
      "text/plain": [
       "0      0.0\n",
       "1      1.0\n",
       "2      1.0\n",
       "3      1.0\n",
       "4      0.0\n",
       "      ... \n",
       "886    0.0\n",
       "887    1.0\n",
       "888    0.0\n",
       "889    1.0\n",
       "890    0.0\n",
       "Name: Survived, Length: 891, dtype: float64"
      ]
     },
     "execution_count": 14,
     "metadata": {},
     "output_type": "execute_result"
    }
   ],
   "source": [
    "train['Survived']"
   ]
  },
  {
   "cell_type": "code",
   "execution_count": 15,
   "id": "86407f2e-d6a1-4a4f-8626-43a24338437e",
   "metadata": {},
   "outputs": [
    {
     "data": {
      "text/html": [
       "<div>\n",
       "<style scoped>\n",
       "    .dataframe tbody tr th:only-of-type {\n",
       "        vertical-align: middle;\n",
       "    }\n",
       "\n",
       "    .dataframe tbody tr th {\n",
       "        vertical-align: top;\n",
       "    }\n",
       "\n",
       "    .dataframe thead th {\n",
       "        text-align: right;\n",
       "    }\n",
       "</style>\n",
       "<table border=\"1\" class=\"dataframe\">\n",
       "  <thead>\n",
       "    <tr style=\"text-align: right;\">\n",
       "      <th></th>\n",
       "      <th>Pclass</th>\n",
       "      <th>Sex</th>\n",
       "      <th>Age</th>\n",
       "      <th>SibSp</th>\n",
       "      <th>Parch</th>\n",
       "      <th>Fare</th>\n",
       "      <th>Embarked</th>\n",
       "    </tr>\n",
       "  </thead>\n",
       "  <tbody>\n",
       "    <tr>\n",
       "      <th>0</th>\n",
       "      <td>3</td>\n",
       "      <td>0</td>\n",
       "      <td>34.5</td>\n",
       "      <td>0</td>\n",
       "      <td>0</td>\n",
       "      <td>7.8292</td>\n",
       "      <td>2</td>\n",
       "    </tr>\n",
       "    <tr>\n",
       "      <th>1</th>\n",
       "      <td>3</td>\n",
       "      <td>1</td>\n",
       "      <td>47.0</td>\n",
       "      <td>1</td>\n",
       "      <td>0</td>\n",
       "      <td>7.0000</td>\n",
       "      <td>0</td>\n",
       "    </tr>\n",
       "    <tr>\n",
       "      <th>2</th>\n",
       "      <td>2</td>\n",
       "      <td>0</td>\n",
       "      <td>62.0</td>\n",
       "      <td>0</td>\n",
       "      <td>0</td>\n",
       "      <td>9.6875</td>\n",
       "      <td>2</td>\n",
       "    </tr>\n",
       "    <tr>\n",
       "      <th>3</th>\n",
       "      <td>3</td>\n",
       "      <td>0</td>\n",
       "      <td>27.0</td>\n",
       "      <td>0</td>\n",
       "      <td>0</td>\n",
       "      <td>8.6625</td>\n",
       "      <td>0</td>\n",
       "    </tr>\n",
       "    <tr>\n",
       "      <th>4</th>\n",
       "      <td>3</td>\n",
       "      <td>1</td>\n",
       "      <td>22.0</td>\n",
       "      <td>1</td>\n",
       "      <td>1</td>\n",
       "      <td>12.2875</td>\n",
       "      <td>0</td>\n",
       "    </tr>\n",
       "  </tbody>\n",
       "</table>\n",
       "</div>"
      ],
      "text/plain": [
       "   Pclass  Sex   Age  SibSp  Parch     Fare  Embarked\n",
       "0       3    0  34.5      0      0   7.8292         2\n",
       "1       3    1  47.0      1      0   7.0000         0\n",
       "2       2    0  62.0      0      0   9.6875         2\n",
       "3       3    0  27.0      0      0   8.6625         0\n",
       "4       3    1  22.0      1      1  12.2875         0"
      ]
     },
     "execution_count": 15,
     "metadata": {},
     "output_type": "execute_result"
    }
   ],
   "source": [
    "test.head()"
   ]
  },
  {
   "cell_type": "markdown",
   "id": "2abc2605-ff43-4dbf-bfdb-b09aa94c4841",
   "metadata": {},
   "source": [
    "## 학습준비"
   ]
  },
  {
   "cell_type": "code",
   "execution_count": 16,
   "id": "6ea99aa0-36aa-4a6c-8989-11bacad07522",
   "metadata": {},
   "outputs": [],
   "source": [
    "y = train['Survived']\n",
    "X = train.drop('Survived', axis=1)\n",
    "X_train, X_val, y_train, y_val = train_test_split(X, y, test_size=0.1)"
   ]
  },
  {
   "cell_type": "code",
   "execution_count": 17,
   "id": "e4f99bcb-6d94-4626-ba0f-eeed7cb914ea",
   "metadata": {},
   "outputs": [
    {
     "data": {
      "text/plain": [
       "((801, 7), (90, 7), (801,), (90,))"
      ]
     },
     "execution_count": 17,
     "metadata": {},
     "output_type": "execute_result"
    }
   ],
   "source": [
    "X_train.shape, X_val.shape, y_train.shape, y_val.shape"
   ]
  },
  {
   "cell_type": "code",
   "execution_count": 18,
   "id": "d3e9f160-0165-4298-b5c4-481306c08f65",
   "metadata": {},
   "outputs": [
    {
     "data": {
      "text/plain": [
       "175    0.0\n",
       "101    0.0\n",
       "24     0.0\n",
       "681    1.0\n",
       "127    1.0\n",
       "      ... \n",
       "236    0.0\n",
       "621    1.0\n",
       "130    0.0\n",
       "605    0.0\n",
       "54     0.0\n",
       "Name: Survived, Length: 801, dtype: float64"
      ]
     },
     "execution_count": 18,
     "metadata": {},
     "output_type": "execute_result"
    }
   ],
   "source": [
    "y_train"
   ]
  },
  {
   "cell_type": "code",
   "execution_count": 19,
   "id": "23b82d26-e377-47e9-9075-928397095664",
   "metadata": {},
   "outputs": [
    {
     "data": {
      "text/plain": [
       "692    1.0\n",
       "393    1.0\n",
       "122    0.0\n",
       "1      1.0\n",
       "865    1.0\n",
       "      ... \n",
       "147    0.0\n",
       "312    0.0\n",
       "709    1.0\n",
       "569    1.0\n",
       "160    0.0\n",
       "Name: Survived, Length: 90, dtype: float64"
      ]
     },
     "execution_count": 19,
     "metadata": {},
     "output_type": "execute_result"
    }
   ],
   "source": [
    "y_val"
   ]
  },
  {
   "cell_type": "code",
   "execution_count": 20,
   "id": "fe140e82-5ab4-44ca-b8ce-993b03facee6",
   "metadata": {},
   "outputs": [],
   "source": [
    "# model = RandomForestClassifier()\n",
    "# model.fit(X_train, y_train)\n",
    "# pred = model.predict(X_val)\n",
    "# # f1_score(y_val, pred)"
   ]
  },
  {
   "cell_type": "code",
   "execution_count": 22,
   "id": "415865c6-abc5-40f2-ad8f-38bbdf22fcfc",
   "metadata": {},
   "outputs": [],
   "source": [
    "models = [DecisionTreeClassifier(), RandomForestClassifier()] #, GradientBoostingClassifier()]\n",
    "for model in models:\n",
    "    model.fit(X_train, y_train)\n",
    "    pred = model.predict(X_val)\n",
    "    f1 = f1_score(y_val, pred)\n",
    "    acc = accuracy_score(y_val, pred)"
   ]
  },
  {
   "cell_type": "code",
   "execution_count": 23,
   "id": "32e070ea-d11b-486d-8806-48b611d599cd",
   "metadata": {},
   "outputs": [
    {
     "data": {
      "text/plain": [
       "(0.631578947368421, 0.7666666666666667)"
      ]
     },
     "execution_count": 23,
     "metadata": {},
     "output_type": "execute_result"
    }
   ],
   "source": [
    "f1, acc"
   ]
  }
 ],
 "metadata": {
  "kernelspec": {
   "display_name": "Python 3 (ipykernel)",
   "language": "python",
   "name": "python3"
  },
  "language_info": {
   "codemirror_mode": {
    "name": "ipython",
    "version": 3
   },
   "file_extension": ".py",
   "mimetype": "text/x-python",
   "name": "python",
   "nbconvert_exporter": "python",
   "pygments_lexer": "ipython3",
   "version": "3.8.8"
  }
 },
 "nbformat": 4,
 "nbformat_minor": 5
}
