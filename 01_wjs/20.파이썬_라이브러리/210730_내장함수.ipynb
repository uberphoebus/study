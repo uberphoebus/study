{
 "cells": [
  {
   "cell_type": "markdown",
   "id": "11e1a996",
   "metadata": {},
   "source": [
    "## ( id() )"
   ]
  },
  {
   "cell_type": "code",
   "execution_count": 1,
   "id": "a09dd4e0",
   "metadata": {},
   "outputs": [],
   "source": [
    "a = 1 ; b = 2"
   ]
  },
  {
   "cell_type": "code",
   "execution_count": 2,
   "id": "7af9f6a3",
   "metadata": {},
   "outputs": [
    {
     "data": {
      "text/plain": [
       "140732311611184"
      ]
     },
     "execution_count": 2,
     "metadata": {},
     "output_type": "execute_result"
    }
   ],
   "source": [
    "id(a)"
   ]
  },
  {
   "cell_type": "code",
   "execution_count": 3,
   "id": "e00c8987",
   "metadata": {},
   "outputs": [
    {
     "data": {
      "text/plain": [
       "140732311611216"
      ]
     },
     "execution_count": 3,
     "metadata": {},
     "output_type": "execute_result"
    }
   ],
   "source": [
    "id(b)"
   ]
  },
  {
   "cell_type": "code",
   "execution_count": 4,
   "id": "2e5165a6",
   "metadata": {},
   "outputs": [],
   "source": [
    "c = 2 ; d = c"
   ]
  },
  {
   "cell_type": "code",
   "execution_count": 5,
   "id": "5b0214cd",
   "metadata": {},
   "outputs": [
    {
     "data": {
      "text/plain": [
       "140732311611216"
      ]
     },
     "execution_count": 5,
     "metadata": {},
     "output_type": "execute_result"
    }
   ],
   "source": [
    "id(c)"
   ]
  },
  {
   "cell_type": "code",
   "execution_count": 6,
   "id": "ee792000",
   "metadata": {},
   "outputs": [
    {
     "data": {
      "text/plain": [
       "140732311611216"
      ]
     },
     "execution_count": 6,
     "metadata": {},
     "output_type": "execute_result"
    }
   ],
   "source": [
    "id(d)"
   ]
  },
  {
   "cell_type": "code",
   "execution_count": 7,
   "id": "f7e3e967",
   "metadata": {},
   "outputs": [],
   "source": [
    "b=3"
   ]
  },
  {
   "cell_type": "code",
   "execution_count": 8,
   "id": "96423aaa",
   "metadata": {},
   "outputs": [
    {
     "data": {
      "text/plain": [
       "140732311611248"
      ]
     },
     "execution_count": 8,
     "metadata": {},
     "output_type": "execute_result"
    }
   ],
   "source": [
    "id(b)"
   ]
  },
  {
   "cell_type": "code",
   "execution_count": 10,
   "id": "b24891a6",
   "metadata": {},
   "outputs": [],
   "source": [
    "c = 5"
   ]
  },
  {
   "cell_type": "code",
   "execution_count": 12,
   "id": "a19a3ae1",
   "metadata": {},
   "outputs": [
    {
     "data": {
      "text/plain": [
       "5"
      ]
     },
     "execution_count": 12,
     "metadata": {},
     "output_type": "execute_result"
    }
   ],
   "source": [
    "c"
   ]
  },
  {
   "cell_type": "code",
   "execution_count": 13,
   "id": "85c2ae7c",
   "metadata": {},
   "outputs": [
    {
     "data": {
      "text/plain": [
       "2"
      ]
     },
     "execution_count": 13,
     "metadata": {},
     "output_type": "execute_result"
    }
   ],
   "source": [
    "d"
   ]
  },
  {
   "cell_type": "code",
   "execution_count": 14,
   "id": "19694684",
   "metadata": {},
   "outputs": [
    {
     "ename": "SyntaxError",
     "evalue": "invalid syntax (<ipython-input-14-f476ebf1b453>, line 1)",
     "output_type": "error",
     "traceback": [
      "\u001b[1;36m  File \u001b[1;32m\"<ipython-input-14-f476ebf1b453>\"\u001b[1;36m, line \u001b[1;32m1\u001b[0m\n\u001b[1;33m    mutable vs immutable\u001b[0m\n\u001b[1;37m            ^\u001b[0m\n\u001b[1;31mSyntaxError\u001b[0m\u001b[1;31m:\u001b[0m invalid syntax\n"
     ]
    }
   ],
   "source": [
    "mutable vs immutable "
   ]
  },
  {
   "cell_type": "code",
   "execution_count": null,
   "id": "426db963",
   "metadata": {},
   "outputs": [],
   "source": []
  },
  {
   "cell_type": "code",
   "execution_count": 16,
   "id": "17f2758f",
   "metadata": {},
   "outputs": [],
   "source": [
    "a1 = [1,2,3]\n",
    "b1 = a1"
   ]
  },
  {
   "cell_type": "code",
   "execution_count": 17,
   "id": "2f4d41e6",
   "metadata": {},
   "outputs": [
    {
     "data": {
      "text/plain": [
       "3006473618368"
      ]
     },
     "execution_count": 17,
     "metadata": {},
     "output_type": "execute_result"
    }
   ],
   "source": [
    "id(a1)"
   ]
  },
  {
   "cell_type": "code",
   "execution_count": 18,
   "id": "009c69b8",
   "metadata": {},
   "outputs": [
    {
     "data": {
      "text/plain": [
       "3006473618368"
      ]
     },
     "execution_count": 18,
     "metadata": {},
     "output_type": "execute_result"
    }
   ],
   "source": [
    "id(b1)"
   ]
  },
  {
   "cell_type": "code",
   "execution_count": 19,
   "id": "b5b935cc",
   "metadata": {},
   "outputs": [
    {
     "data": {
      "text/plain": [
       "[1, 99, 3]"
      ]
     },
     "execution_count": 19,
     "metadata": {},
     "output_type": "execute_result"
    }
   ],
   "source": [
    "a1[1]=99 ; a1"
   ]
  },
  {
   "cell_type": "code",
   "execution_count": 20,
   "id": "e9b2ae39",
   "metadata": {},
   "outputs": [
    {
     "data": {
      "text/plain": [
       "[1, 99, 3]"
      ]
     },
     "execution_count": 20,
     "metadata": {},
     "output_type": "execute_result"
    }
   ],
   "source": [
    "b1"
   ]
  },
  {
   "cell_type": "code",
   "execution_count": 21,
   "id": "2cc61034",
   "metadata": {},
   "outputs": [
    {
     "data": {
      "text/plain": [
       "3006473618368"
      ]
     },
     "execution_count": 21,
     "metadata": {},
     "output_type": "execute_result"
    }
   ],
   "source": [
    "id(a1)"
   ]
  },
  {
   "cell_type": "code",
   "execution_count": 22,
   "id": "eb34258c",
   "metadata": {},
   "outputs": [
    {
     "data": {
      "text/plain": [
       "3006473618368"
      ]
     },
     "execution_count": 22,
     "metadata": {},
     "output_type": "execute_result"
    }
   ],
   "source": [
    "id(b1)"
   ]
  },
  {
   "cell_type": "code",
   "execution_count": 23,
   "id": "87c37d57",
   "metadata": {},
   "outputs": [],
   "source": [
    "c1 = a1.copy()"
   ]
  },
  {
   "cell_type": "code",
   "execution_count": 24,
   "id": "1716a376",
   "metadata": {},
   "outputs": [],
   "source": [
    "d1 = a1[:]"
   ]
  },
  {
   "cell_type": "code",
   "execution_count": 25,
   "id": "934d74f7",
   "metadata": {},
   "outputs": [
    {
     "data": {
      "text/plain": [
       "3006472700480"
      ]
     },
     "execution_count": 25,
     "metadata": {},
     "output_type": "execute_result"
    }
   ],
   "source": [
    "id(c1)"
   ]
  },
  {
   "cell_type": "code",
   "execution_count": 28,
   "id": "3ce1d909",
   "metadata": {},
   "outputs": [],
   "source": [
    "aa = id(d1)"
   ]
  },
  {
   "cell_type": "code",
   "execution_count": 29,
   "id": "e5cc2af8",
   "metadata": {},
   "outputs": [
    {
     "data": {
      "text/plain": [
       "3006473708608"
      ]
     },
     "execution_count": 29,
     "metadata": {},
     "output_type": "execute_result"
    }
   ],
   "source": [
    "aa"
   ]
  },
  {
   "cell_type": "code",
   "execution_count": 27,
   "id": "c635aa45",
   "metadata": {},
   "outputs": [
    {
     "data": {
      "text/plain": [
       "True"
      ]
     },
     "execution_count": 27,
     "metadata": {},
     "output_type": "execute_result"
    }
   ],
   "source": [
    "id(a1) == id(b1)"
   ]
  },
  {
   "cell_type": "code",
   "execution_count": null,
   "id": "b9d7cfe6",
   "metadata": {},
   "outputs": [],
   "source": [
    "a1 == b1 "
   ]
  },
  {
   "cell_type": "code",
   "execution_count": null,
   "id": "b9a35152",
   "metadata": {},
   "outputs": [],
   "source": []
  },
  {
   "cell_type": "markdown",
   "id": "86b53278",
   "metadata": {},
   "source": [
    "##  ( enumerate ) "
   ]
  },
  {
   "cell_type": "code",
   "execution_count": 30,
   "id": "c2ee96a0",
   "metadata": {},
   "outputs": [
    {
     "data": {
      "text/plain": [
       "['a', 'b', 'c', 'd']"
      ]
     },
     "execution_count": 30,
     "metadata": {},
     "output_type": "execute_result"
    }
   ],
   "source": [
    "sea = [\"a\",\"b\",\"c\",\"d\"] ; sea"
   ]
  },
  {
   "cell_type": "code",
   "execution_count": null,
   "id": "3d8c97af",
   "metadata": {},
   "outputs": [],
   "source": [
    "sea[0]... \"a\"\n",
    "sea[1]... \"b\""
   ]
  },
  {
   "cell_type": "code",
   "execution_count": 32,
   "id": "c67bcaa1",
   "metadata": {},
   "outputs": [
    {
     "data": {
      "text/plain": [
       "[(0, 'a'), (1, 'b'), (2, 'c'), (3, 'd')]"
      ]
     },
     "execution_count": 32,
     "metadata": {},
     "output_type": "execute_result"
    }
   ],
   "source": [
    "list(enumerate(sea))"
   ]
  },
  {
   "cell_type": "code",
   "execution_count": 33,
   "id": "396cbd14",
   "metadata": {},
   "outputs": [
    {
     "name": "stdout",
     "output_type": "stream",
     "text": [
      "n =  0  data =  a\n",
      "n =  1  data =  b\n",
      "n =  2  data =  c\n",
      "n =  3  data =  d\n"
     ]
    }
   ],
   "source": [
    "n = 0 \n",
    "for data in sea:\n",
    "    print(\"n = \", n, \" data = \", data)\n",
    "    n += 1"
   ]
  },
  {
   "cell_type": "code",
   "execution_count": 35,
   "id": "7242f3cf",
   "metadata": {},
   "outputs": [
    {
     "name": "stdout",
     "output_type": "stream",
     "text": [
      "(0, 'a')\n",
      "idx =  0\n",
      "val =  a\n",
      "(1, 'b')\n",
      "idx =  1\n",
      "val =  b\n",
      "(2, 'c')\n",
      "idx =  2\n",
      "val =  c\n",
      "(3, 'd')\n",
      "idx =  3\n",
      "val =  d\n"
     ]
    }
   ],
   "source": [
    "for data in enumerate(sea):\n",
    "    print(data)\n",
    "    print(\"idx = \", data[0])\n",
    "    print(\"val = \", data[1])"
   ]
  },
  {
   "cell_type": "code",
   "execution_count": 37,
   "id": "28ff3a29",
   "metadata": {},
   "outputs": [
    {
     "name": "stdout",
     "output_type": "stream",
     "text": [
      "idx =  0  val =  a\n",
      "idx =  1  val =  b\n",
      "idx =  2  val =  c\n",
      "idx =  3  val =  d\n"
     ]
    }
   ],
   "source": [
    "for idx, val in enumerate(sea):\n",
    "    print(\"idx = \", idx, \" val = \", val)"
   ]
  },
  {
   "cell_type": "code",
   "execution_count": 40,
   "id": "bac36c2e",
   "metadata": {},
   "outputs": [
    {
     "data": {
      "text/plain": [
       "[(0, 'a'), (1, 'b'), (2, 'c')]"
      ]
     },
     "execution_count": 40,
     "metadata": {},
     "output_type": "execute_result"
    }
   ],
   "source": [
    "x = (\"a\",\"b\",\"c\")\n",
    "y = enumerate(x)\n",
    "list(y)"
   ]
  },
  {
   "cell_type": "code",
   "execution_count": null,
   "id": "43fc078f",
   "metadata": {},
   "outputs": [],
   "source": []
  },
  {
   "cell_type": "markdown",
   "id": "699ddc06",
   "metadata": {},
   "source": [
    "##  ( eval ) "
   ]
  },
  {
   "cell_type": "code",
   "execution_count": 51,
   "id": "19130b44",
   "metadata": {},
   "outputs": [],
   "source": [
    "x = 1"
   ]
  },
  {
   "cell_type": "code",
   "execution_count": 52,
   "id": "4d1243dd",
   "metadata": {},
   "outputs": [
    {
     "data": {
      "text/plain": [
       "2"
      ]
     },
     "execution_count": 52,
     "metadata": {},
     "output_type": "execute_result"
    }
   ],
   "source": [
    "eval('x+1')"
   ]
  },
  {
   "cell_type": "code",
   "execution_count": null,
   "id": "1763b2ce",
   "metadata": {},
   "outputs": [],
   "source": []
  },
  {
   "cell_type": "code",
   "execution_count": 54,
   "id": "5d1d6487",
   "metadata": {},
   "outputs": [
    {
     "name": "stdout",
     "output_type": "stream",
     "text": [
      "1 =  print(55)\n",
      "55\n"
     ]
    }
   ],
   "source": [
    "x = \"print(55)\" \n",
    "print(\"1 = \", x)\n",
    "eval(x)"
   ]
  },
  {
   "cell_type": "code",
   "execution_count": 55,
   "id": "2956e428",
   "metadata": {},
   "outputs": [
    {
     "name": "stdout",
     "output_type": "stream",
     "text": [
      "55\n",
      "2 =  None\n"
     ]
    }
   ],
   "source": [
    "print(\"2 = \", eval(x))"
   ]
  },
  {
   "cell_type": "code",
   "execution_count": 56,
   "id": "c4eef0e6",
   "metadata": {},
   "outputs": [
    {
     "name": "stdout",
     "output_type": "stream",
     "text": [
      "55\n"
     ]
    }
   ],
   "source": [
    "eval(x)"
   ]
  },
  {
   "cell_type": "code",
   "execution_count": 57,
   "id": "3de6e4c2",
   "metadata": {},
   "outputs": [
    {
     "data": {
      "text/plain": [
       "132"
      ]
     },
     "execution_count": 57,
     "metadata": {},
     "output_type": "execute_result"
    }
   ],
   "source": [
    "b = eval(\"100 + 32\");b"
   ]
  },
  {
   "cell_type": "code",
   "execution_count": 59,
   "id": "1594a7e3",
   "metadata": {},
   "outputs": [
    {
     "data": {
      "text/plain": [
       "'len(dd)'"
      ]
     },
     "execution_count": 59,
     "metadata": {},
     "output_type": "execute_result"
    }
   ],
   "source": [
    "dd = [1,2,3,4]\n",
    "\"len(dd)\""
   ]
  },
  {
   "cell_type": "code",
   "execution_count": 61,
   "id": "ccd7c482",
   "metadata": {},
   "outputs": [
    {
     "data": {
      "text/plain": [
       "4"
      ]
     },
     "execution_count": 61,
     "metadata": {},
     "output_type": "execute_result"
    }
   ],
   "source": [
    "eval(\"len(dd)\")"
   ]
  },
  {
   "cell_type": "code",
   "execution_count": 62,
   "id": "63f193a5",
   "metadata": {},
   "outputs": [
    {
     "data": {
      "text/plain": [
       "'len(dd)'"
      ]
     },
     "execution_count": 62,
     "metadata": {},
     "output_type": "execute_result"
    }
   ],
   "source": [
    "ee = \"len(dd)\" ; ee"
   ]
  },
  {
   "cell_type": "code",
   "execution_count": 63,
   "id": "683efb4b",
   "metadata": {},
   "outputs": [
    {
     "data": {
      "text/plain": [
       "4"
      ]
     },
     "execution_count": 63,
     "metadata": {},
     "output_type": "execute_result"
    }
   ],
   "source": [
    "eval(ee)"
   ]
  },
  {
   "cell_type": "code",
   "execution_count": null,
   "id": "5939264b",
   "metadata": {},
   "outputs": [],
   "source": []
  },
  {
   "cell_type": "code",
   "execution_count": null,
   "id": "147c75ed",
   "metadata": {},
   "outputs": [],
   "source": []
  },
  {
   "cell_type": "code",
   "execution_count": null,
   "id": "bd86cca1",
   "metadata": {},
   "outputs": [],
   "source": []
  },
  {
   "cell_type": "code",
   "execution_count": 49,
   "id": "d0bd72c6",
   "metadata": {},
   "outputs": [
    {
     "ename": "TypeError",
     "evalue": "'str' object is not callable",
     "output_type": "error",
     "traceback": [
      "\u001b[1;31m---------------------------------------------------------------------------\u001b[0m",
      "\u001b[1;31mTypeError\u001b[0m                                 Traceback (most recent call last)",
      "\u001b[1;32m<ipython-input-49-7bd5d3eacf46>\u001b[0m in \u001b[0;36m<module>\u001b[1;34m\u001b[0m\n\u001b[1;32m----> 1\u001b[1;33m \u001b[0mval\u001b[0m\u001b[1;33m(\u001b[0m\u001b[0ma\u001b[0m\u001b[1;33m)\u001b[0m\u001b[1;33m\u001b[0m\u001b[1;33m\u001b[0m\u001b[0m\n\u001b[0m",
      "\u001b[1;31mTypeError\u001b[0m: 'str' object is not callable"
     ]
    }
   ],
   "source": [
    "val(a)"
   ]
  },
  {
   "cell_type": "code",
   "execution_count": null,
   "id": "c2e83ce2",
   "metadata": {},
   "outputs": [],
   "source": []
  },
  {
   "cell_type": "markdown",
   "id": "d932f470",
   "metadata": {},
   "source": [
    "## ( filter )"
   ]
  },
  {
   "cell_type": "code",
   "execution_count": 64,
   "id": "3553684e",
   "metadata": {},
   "outputs": [],
   "source": [
    "ages = [5, 12, 17, 18, 24, 32]\n",
    "\n",
    "def myfunc(x):\n",
    "    if x < 18:\n",
    "        return False\n",
    "    else:\n",
    "        return True"
   ]
  },
  {
   "cell_type": "code",
   "execution_count": 75,
   "id": "c217e259",
   "metadata": {},
   "outputs": [
    {
     "data": {
      "text/plain": [
       "[18, 24, 32]"
      ]
     },
     "execution_count": 75,
     "metadata": {},
     "output_type": "execute_result"
    }
   ],
   "source": [
    "res = []\n",
    "for x in ages:\n",
    "    if x >= 18:\n",
    "        res.append(x)\n",
    "res"
   ]
  },
  {
   "cell_type": "code",
   "execution_count": 70,
   "id": "1a55a527",
   "metadata": {},
   "outputs": [
    {
     "data": {
      "text/plain": [
       "<filter at 0x2bbffc90fd0>"
      ]
     },
     "execution_count": 70,
     "metadata": {},
     "output_type": "execute_result"
    }
   ],
   "source": [
    "filter(myfunc, ages)"
   ]
  },
  {
   "cell_type": "code",
   "execution_count": 76,
   "id": "51bd5967",
   "metadata": {},
   "outputs": [
    {
     "data": {
      "text/plain": [
       "[18, 24, 32]"
      ]
     },
     "execution_count": 76,
     "metadata": {},
     "output_type": "execute_result"
    }
   ],
   "source": [
    "list(filter(myfunc, ages))"
   ]
  },
  {
   "cell_type": "code",
   "execution_count": null,
   "id": "993e5847",
   "metadata": {},
   "outputs": [],
   "source": []
  },
  {
   "cell_type": "code",
   "execution_count": 78,
   "id": "de7ad12b",
   "metadata": {},
   "outputs": [
    {
     "data": {
      "text/plain": [
       "[1, 2, 3, 4, 5, 6, 7, 8, 9, 10]"
      ]
     },
     "execution_count": 78,
     "metadata": {},
     "output_type": "execute_result"
    }
   ],
   "source": [
    "target = list(range(1,11)); target"
   ]
  },
  {
   "cell_type": "code",
   "execution_count": 88,
   "id": "a7905107",
   "metadata": {},
   "outputs": [],
   "source": [
    "def is_even(n):\n",
    "    return True if n%2 ==0 else False"
   ]
  },
  {
   "cell_type": "code",
   "execution_count": 89,
   "id": "dca1dbd0",
   "metadata": {},
   "outputs": [
    {
     "data": {
      "text/plain": [
       "<function __main__.is_even(n)>"
      ]
     },
     "execution_count": 89,
     "metadata": {},
     "output_type": "execute_result"
    }
   ],
   "source": [
    "is_even"
   ]
  },
  {
   "cell_type": "code",
   "execution_count": null,
   "id": "5023b7c2",
   "metadata": {},
   "outputs": [],
   "source": []
  },
  {
   "cell_type": "code",
   "execution_count": 81,
   "id": "1ec34613",
   "metadata": {},
   "outputs": [
    {
     "data": {
      "text/plain": [
       "[2, 4, 6, 8, 10]"
      ]
     },
     "execution_count": 81,
     "metadata": {},
     "output_type": "execute_result"
    }
   ],
   "source": [
    "list(filter(is_even, target))"
   ]
  },
  {
   "cell_type": "code",
   "execution_count": null,
   "id": "73595464",
   "metadata": {},
   "outputs": [],
   "source": []
  },
  {
   "cell_type": "code",
   "execution_count": 83,
   "id": "33ef9d9b",
   "metadata": {},
   "outputs": [
    {
     "data": {
      "text/plain": [
       "[2, 4, 6, 8, 10]"
      ]
     },
     "execution_count": 83,
     "metadata": {},
     "output_type": "execute_result"
    }
   ],
   "source": [
    "target = list(range(1,11))\n",
    "list(filter(lambda x : x%2==0, target))"
   ]
  },
  {
   "cell_type": "code",
   "execution_count": 90,
   "id": "18bc6b23",
   "metadata": {},
   "outputs": [
    {
     "data": {
      "text/plain": [
       "[2, 4, 6, 8, 10]"
      ]
     },
     "execution_count": 90,
     "metadata": {},
     "output_type": "execute_result"
    }
   ],
   "source": [
    "list(filter(lambda x : x%2==0, list(range(1,11))))"
   ]
  },
  {
   "cell_type": "code",
   "execution_count": null,
   "id": "400d8495",
   "metadata": {},
   "outputs": [],
   "source": []
  },
  {
   "cell_type": "code",
   "execution_count": 98,
   "id": "3f78f2cd",
   "metadata": {},
   "outputs": [
    {
     "data": {
      "text/plain": [
       "[5, 6, 6]"
      ]
     },
     "execution_count": 98,
     "metadata": {},
     "output_type": "execute_result"
    }
   ],
   "source": [
    "def myfunc(n):\n",
    "    return len(n)\n",
    "\n",
    "list(map(myfunc, ('apple', 'banana', 'cherry')))"
   ]
  },
  {
   "cell_type": "code",
   "execution_count": 97,
   "id": "85488b7d",
   "metadata": {},
   "outputs": [
    {
     "data": {
      "text/plain": [
       "[5, 6, 6]"
      ]
     },
     "execution_count": 97,
     "metadata": {},
     "output_type": "execute_result"
    }
   ],
   "source": [
    "aa = ('apple', 'banana', 'cherry')\n",
    "\n",
    "res = []\n",
    "for i in aa:\n",
    "    res.append(len(i))\n",
    "res"
   ]
  },
  {
   "cell_type": "code",
   "execution_count": null,
   "id": "273f862d",
   "metadata": {},
   "outputs": [],
   "source": []
  },
  {
   "cell_type": "code",
   "execution_count": 99,
   "id": "e805c5b8",
   "metadata": {},
   "outputs": [],
   "source": [
    "def myfunc1(a,b):\n",
    "    return a+\"-\"+b\n",
    "\n",
    "a = (\"a1\",\"b1\",\"c1\")\n",
    "b = (\"a2\",\"b2\",\"c2\")"
   ]
  },
  {
   "cell_type": "code",
   "execution_count": 101,
   "id": "901f37bc",
   "metadata": {},
   "outputs": [
    {
     "data": {
      "text/plain": [
       "['a1-a2', 'b1-b2', 'c1-c2']"
      ]
     },
     "execution_count": 101,
     "metadata": {},
     "output_type": "execute_result"
    }
   ],
   "source": [
    "list(map(myfunc1, a,b))"
   ]
  },
  {
   "cell_type": "code",
   "execution_count": null,
   "id": "ff660aa4",
   "metadata": {},
   "outputs": [],
   "source": []
  },
  {
   "cell_type": "code",
   "execution_count": 102,
   "id": "b87dfe51",
   "metadata": {},
   "outputs": [
    {
     "data": {
      "text/plain": [
       "[2, 3, 4, 5, 6]"
      ]
     },
     "execution_count": 102,
     "metadata": {},
     "output_type": "execute_result"
    }
   ],
   "source": [
    "def myfunc2(n):\n",
    "    return n+1\n",
    "\n",
    "target = [1,2,3,4,5]\n",
    "list(map(myfunc2, target))"
   ]
  },
  {
   "cell_type": "code",
   "execution_count": 103,
   "id": "e247f1e0",
   "metadata": {},
   "outputs": [
    {
     "data": {
      "text/plain": [
       "[2, 3, 4, 5, 6]"
      ]
     },
     "execution_count": 103,
     "metadata": {},
     "output_type": "execute_result"
    }
   ],
   "source": [
    "list(map(lambda x : x+1, target))"
   ]
  },
  {
   "cell_type": "code",
   "execution_count": null,
   "id": "83685535",
   "metadata": {},
   "outputs": [],
   "source": []
  },
  {
   "cell_type": "code",
   "execution_count": null,
   "id": "c1057f9a",
   "metadata": {},
   "outputs": [],
   "source": []
  },
  {
   "cell_type": "markdown",
   "id": "c329cec7",
   "metadata": {},
   "source": [
    "## ( lambda 함수 )"
   ]
  },
  {
   "cell_type": "code",
   "execution_count": 104,
   "id": "8c7d7b42",
   "metadata": {},
   "outputs": [
    {
     "data": {
      "text/plain": [
       "15"
      ]
     },
     "execution_count": 104,
     "metadata": {},
     "output_type": "execute_result"
    }
   ],
   "source": [
    "def x(a):\n",
    "    return a + 10\n",
    "x(5)"
   ]
  },
  {
   "cell_type": "code",
   "execution_count": 105,
   "id": "f4497070",
   "metadata": {},
   "outputs": [
    {
     "data": {
      "text/plain": [
       "20"
      ]
     },
     "execution_count": 105,
     "metadata": {},
     "output_type": "execute_result"
    }
   ],
   "source": [
    "x(10)"
   ]
  },
  {
   "cell_type": "code",
   "execution_count": 106,
   "id": "30c0f061",
   "metadata": {},
   "outputs": [
    {
     "data": {
      "text/plain": [
       "<function __main__.x(a)>"
      ]
     },
     "execution_count": 106,
     "metadata": {},
     "output_type": "execute_result"
    }
   ],
   "source": [
    "x"
   ]
  },
  {
   "cell_type": "code",
   "execution_count": 107,
   "id": "1f848648",
   "metadata": {},
   "outputs": [],
   "source": [
    " "
   ]
  },
  {
   "cell_type": "code",
   "execution_count": 111,
   "id": "8c85b9cb",
   "metadata": {},
   "outputs": [
    {
     "data": {
      "text/plain": [
       "<function __main__.<lambda>(a)>"
      ]
     },
     "execution_count": 111,
     "metadata": {},
     "output_type": "execute_result"
    }
   ],
   "source": [
    "lambda a: a+ 10"
   ]
  },
  {
   "cell_type": "code",
   "execution_count": 112,
   "id": "a4be1b87",
   "metadata": {},
   "outputs": [
    {
     "data": {
      "text/plain": [
       "15"
      ]
     },
     "execution_count": 112,
     "metadata": {},
     "output_type": "execute_result"
    }
   ],
   "source": [
    "y = lambda a: a+ 10\n",
    "y(5)"
   ]
  },
  {
   "cell_type": "code",
   "execution_count": 114,
   "id": "83f4767e",
   "metadata": {},
   "outputs": [
    {
     "data": {
      "text/plain": [
       "15"
      ]
     },
     "execution_count": 114,
     "metadata": {},
     "output_type": "execute_result"
    }
   ],
   "source": [
    "(lambda a: a+10)(5)"
   ]
  },
  {
   "cell_type": "code",
   "execution_count": null,
   "id": "a158e79d",
   "metadata": {},
   "outputs": [],
   "source": []
  },
  {
   "cell_type": "code",
   "execution_count": 116,
   "id": "3acfea60",
   "metadata": {},
   "outputs": [
    {
     "data": {
      "text/plain": [
       "30"
      ]
     },
     "execution_count": 116,
     "metadata": {},
     "output_type": "execute_result"
    }
   ],
   "source": [
    "(lambda x,y : x*y)(5,6)"
   ]
  },
  {
   "cell_type": "code",
   "execution_count": 117,
   "id": "6103a9d7",
   "metadata": {},
   "outputs": [],
   "source": [
    "def myfunc(n):\n",
    "    return lambda a: a*n"
   ]
  },
  {
   "cell_type": "code",
   "execution_count": 119,
   "id": "f70cd2fb",
   "metadata": {},
   "outputs": [
    {
     "data": {
      "text/plain": [
       "22"
      ]
     },
     "execution_count": 119,
     "metadata": {},
     "output_type": "execute_result"
    }
   ],
   "source": [
    "myfunc(2)(11)"
   ]
  },
  {
   "cell_type": "code",
   "execution_count": 120,
   "id": "ffbbeb34",
   "metadata": {},
   "outputs": [
    {
     "data": {
      "text/plain": [
       "22"
      ]
     },
     "execution_count": 120,
     "metadata": {},
     "output_type": "execute_result"
    }
   ],
   "source": [
    "(lambda a: a*2)(11)"
   ]
  },
  {
   "cell_type": "code",
   "execution_count": null,
   "id": "c69fe043",
   "metadata": {},
   "outputs": [],
   "source": []
  },
  {
   "cell_type": "markdown",
   "id": "d2b9bf99",
   "metadata": {},
   "source": [
    "## ( zip ) "
   ]
  },
  {
   "cell_type": "code",
   "execution_count": 129,
   "id": "22ec37c3",
   "metadata": {},
   "outputs": [
    {
     "name": "stdout",
     "output_type": "stream",
     "text": [
      "x =  [1, 2, 3, 4]\n",
      "y =  [4, 5, 6]\n"
     ]
    }
   ],
   "source": [
    "x = list(range(1,5)); print(\"x = \", x)\n",
    "y = list(range(4,7)); print(\"y = \", y)"
   ]
  },
  {
   "cell_type": "code",
   "execution_count": 130,
   "id": "71cd1378",
   "metadata": {},
   "outputs": [
    {
     "data": {
      "text/plain": [
       "[(1, 4), (2, 5), (3, 6)]"
      ]
     },
     "execution_count": 130,
     "metadata": {},
     "output_type": "execute_result"
    }
   ],
   "source": [
    "list(zip(x,y))"
   ]
  },
  {
   "cell_type": "code",
   "execution_count": null,
   "id": "0098465b",
   "metadata": {},
   "outputs": [],
   "source": []
  },
  {
   "cell_type": "code",
   "execution_count": null,
   "id": "ef76417e",
   "metadata": {},
   "outputs": [],
   "source": []
  },
  {
   "cell_type": "code",
   "execution_count": null,
   "id": "1fea2d96",
   "metadata": {},
   "outputs": [],
   "source": []
  },
  {
   "cell_type": "code",
   "execution_count": null,
   "id": "6c79637a",
   "metadata": {},
   "outputs": [],
   "source": []
  }
 ],
 "metadata": {
  "kernelspec": {
   "display_name": "Python 3",
   "language": "python",
   "name": "python3"
  },
  "language_info": {
   "codemirror_mode": {
    "name": "ipython",
    "version": 3
   },
   "file_extension": ".py",
   "mimetype": "text/x-python",
   "name": "python",
   "nbconvert_exporter": "python",
   "pygments_lexer": "ipython3",
   "version": "3.8.8"
  }
 },
 "nbformat": 4,
 "nbformat_minor": 5
}
