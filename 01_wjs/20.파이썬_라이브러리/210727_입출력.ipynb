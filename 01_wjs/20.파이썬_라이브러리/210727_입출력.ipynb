{
 "cells": [
  {
   "cell_type": "code",
   "execution_count": 7,
   "id": "97f9ef96",
   "metadata": {},
   "outputs": [],
   "source": [
    "fruit = open(\"c:/jswoo/fruit.txt\",\"wt\" )\n",
    "fruit_price = {\"apple\":3500,\"peer\":2500, \"cherry\":5000}\n",
    "for item in fruit_price.items():\n",
    "    print(item, file=fruit)\n",
    "fruit.close()"
   ]
  },
  {
   "cell_type": "code",
   "execution_count": 4,
   "id": "cb49cc0e",
   "metadata": {},
   "outputs": [],
   "source": [
    "fruit = open(\"fruit_a.txt\",\"wt\" )\n",
    "fruit_price = {\"apple\":3500,\"peer\":2500, \"cherry\":5000}\n",
    "for item in fruit_price.items():\n",
    "    print(item, file=fruit)\n",
    "fruit.close()"
   ]
  },
  {
   "cell_type": "code",
   "execution_count": null,
   "id": "2f559a01",
   "metadata": {},
   "outputs": [],
   "source": []
  },
  {
   "cell_type": "code",
   "execution_count": 9,
   "id": "b7c95682",
   "metadata": {},
   "outputs": [],
   "source": [
    "fruit = open(\"c:/jswoo/fruit2.txt\",\"wt\")\n",
    "fruit.write(\"apple 3500\\n\")\n",
    "fruit.write(\"peer 2500\\n\")\n",
    "fruit.write(\"cherr 5000\\n\")\n",
    "fruit.close() "
   ]
  },
  {
   "cell_type": "code",
   "execution_count": 11,
   "id": "4fb2a18d",
   "metadata": {},
   "outputs": [],
   "source": [
    "fruit = open(\"c:/jswoo/fruit2a.txt\",\"wt\")\n",
    "fruit.write(\"apple 3500 \")\n",
    "fruit.write(\"peer 2500 \")\n",
    "fruit.write(\"cherr 5000 \")\n",
    "fruit.close() "
   ]
  },
  {
   "cell_type": "code",
   "execution_count": null,
   "id": "52fd949e",
   "metadata": {},
   "outputs": [],
   "source": []
  },
  {
   "cell_type": "code",
   "execution_count": 15,
   "id": "a4278a51",
   "metadata": {},
   "outputs": [],
   "source": [
    "import csv \n",
    "\n",
    "with open(\"c:/jswoo/fruit.csv\",\"w\",newline=\"\") as fruit:\n",
    "    writer = csv.writer(fruit,delimiter=\"*\")\n",
    "    writer.writerow([\"111\"])\n",
    "    writer.writerow([\"222\"])\n",
    "    writer.writerow([\"333\"])\n",
    "    writer.writerow([\"444\"])\n",
    "    writer.writerow([\"555\"])"
   ]
  },
  {
   "cell_type": "code",
   "execution_count": null,
   "id": "a5675bd0",
   "metadata": {},
   "outputs": [],
   "source": []
  },
  {
   "cell_type": "markdown",
   "id": "7cbfa855",
   "metadata": {},
   "source": [
    "## ( 화일 읽기 )"
   ]
  },
  {
   "cell_type": "code",
   "execution_count": 23,
   "id": "202b7c93",
   "metadata": {
    "scrolled": true
   },
   "outputs": [
    {
     "data": {
      "text/plain": [
       "[\"('apple', 3500)\\n\", \"('peer', 2500)\\n\", \"('cherry', 5000)\\n\"]"
      ]
     },
     "execution_count": 23,
     "metadata": {},
     "output_type": "execute_result"
    }
   ],
   "source": [
    "fruit = open(\"c:/jswoo/fruit.txt\",\"rt\")\n",
    "fruit.readlines()"
   ]
  },
  {
   "cell_type": "code",
   "execution_count": 24,
   "id": "cd03f3ee",
   "metadata": {},
   "outputs": [
    {
     "data": {
      "text/plain": [
       "[]"
      ]
     },
     "execution_count": 24,
     "metadata": {},
     "output_type": "execute_result"
    }
   ],
   "source": [
    "fruit.readlines()"
   ]
  },
  {
   "cell_type": "code",
   "execution_count": 25,
   "id": "d77addbf",
   "metadata": {},
   "outputs": [
    {
     "data": {
      "text/plain": [
       "[\"('apple', 3500)\\n\", \"('peer', 2500)\\n\", \"('cherry', 5000)\\n\"]"
      ]
     },
     "execution_count": 25,
     "metadata": {},
     "output_type": "execute_result"
    }
   ],
   "source": [
    "fruit = open(\"c:/jswoo/fruit.txt\",\"rt\")\n",
    "data = fruit.readlines()\n",
    "data"
   ]
  },
  {
   "cell_type": "code",
   "execution_count": 27,
   "id": "7c7f4dc4",
   "metadata": {},
   "outputs": [
    {
     "data": {
      "text/plain": [
       "\"('peer', 2500)\\n\""
      ]
     },
     "execution_count": 27,
     "metadata": {},
     "output_type": "execute_result"
    }
   ],
   "source": [
    "data[1]"
   ]
  },
  {
   "cell_type": "code",
   "execution_count": null,
   "id": "d38ba00e",
   "metadata": {},
   "outputs": [],
   "source": []
  },
  {
   "cell_type": "code",
   "execution_count": 34,
   "id": "e47fa31b",
   "metadata": {},
   "outputs": [
    {
     "name": "stdout",
     "output_type": "stream",
     "text": [
      "[['111'], ['222'], ['333'], ['444'], ['555']]\n"
     ]
    }
   ],
   "source": [
    "import csv\n",
    "f = open(\"c:/jswoo/fruit.csv\", \"rt\")\n",
    "csvread = csv.reader(f)\n",
    "print(list(csvread))\n",
    "\n",
    "fruit=[]\n",
    "for i in csvread:\n",
    "    print(i)\n",
    "    fruit.append(i)"
   ]
  },
  {
   "cell_type": "code",
   "execution_count": 32,
   "id": "f7ffe588",
   "metadata": {},
   "outputs": [
    {
     "data": {
      "text/plain": [
       "[['111'], ['222'], ['333'], ['444'], ['555']]"
      ]
     },
     "execution_count": 32,
     "metadata": {},
     "output_type": "execute_result"
    }
   ],
   "source": [
    "fruit"
   ]
  },
  {
   "cell_type": "code",
   "execution_count": null,
   "id": "37f4acbf",
   "metadata": {},
   "outputs": [],
   "source": []
  }
 ],
 "metadata": {
  "kernelspec": {
   "display_name": "Python 3",
   "language": "python",
   "name": "python3"
  },
  "language_info": {
   "codemirror_mode": {
    "name": "ipython",
    "version": 3
   },
   "file_extension": ".py",
   "mimetype": "text/x-python",
   "name": "python",
   "nbconvert_exporter": "python",
   "pygments_lexer": "ipython3",
   "version": "3.8.8"
  }
 },
 "nbformat": 4,
 "nbformat_minor": 5
}
