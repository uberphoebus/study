{
 "cells": [
  {
   "cell_type": "markdown",
   "id": "1c50a332",
   "metadata": {},
   "source": [
    "### ( 실습_08. 자연수의 홀수 짝수 구분  )\n",
    "1. 1에서 20까지 3으로 나누어 떨어지는 요소를 갖는 num 리스트를 만들고\n",
    "2. num의 숫자의 홀수, 짝수를 판별하시요.\n",
    "2. 출력 예( 3은 홀수 입니다) "
   ]
  },
  {
   "cell_type": "code",
   "execution_count": null,
   "id": "bc9c1a5a",
   "metadata": {},
   "outputs": [],
   "source": [
    "num = list(range(0,20,3))[1:]\n",
    "\n",
    "for i in num:\n",
    "    if (i%2==0):\n",
    "        print(\"{}는 짝수 입니다\".format(i))\n",
    "    else:\n",
    "        print(\"{}는 홀수 입니다\".format(i))"
   ]
  },
  {
   "cell_type": "code",
   "execution_count": null,
   "id": "759d8505",
   "metadata": {},
   "outputs": [],
   "source": [
    "num = list(range(0,20,3))  \n",
    "for i in num[1:]:\n",
    "    if (i%2==0):\n",
    "        print(\"{}는 짝수 입니다\".format(i))\n",
    "    else:\n",
    "        print(\"{}는 홀수 입니다\".format(i))"
   ]
  },
  {
   "cell_type": "code",
   "execution_count": null,
   "id": "bc5ec754",
   "metadata": {},
   "outputs": [],
   "source": []
  },
  {
   "cell_type": "markdown",
   "id": "54289286",
   "metadata": {},
   "source": [
    "## ( 실습_10.  for, if, range, type 혼합 )\n",
    "1. 6개의 원소를 [1, 9, \"one\", \"two\", 3, \"three\"] 갖는 리스트 val을 만들고, \n",
    "2. 마지막 원소를 자기 이름(ex.\"jswoo\")으로 바꿉니다. \n",
    "3. 그리고 -4번째 인덱스를 갖는 원소와 \n",
    "4. 리스트의 첫번째 문자열(\"\") 데이터를 출력하시요."
   ]
  },
  {
   "cell_type": "code",
   "execution_count": null,
   "id": "077a2018",
   "metadata": {},
   "outputs": [],
   "source": [
    "val = [1,9,\"one\",\"two\",3,\"three\"];val"
   ]
  },
  {
   "cell_type": "code",
   "execution_count": null,
   "id": "ead63c38",
   "metadata": {},
   "outputs": [],
   "source": [
    "val[-1] = \"jswoo\" ; val"
   ]
  },
  {
   "cell_type": "code",
   "execution_count": null,
   "id": "90ad5a72",
   "metadata": {},
   "outputs": [],
   "source": [
    "val[-4]"
   ]
  },
  {
   "cell_type": "code",
   "execution_count": null,
   "id": "fcfa3c09",
   "metadata": {},
   "outputs": [],
   "source": [
    "for i in val:\n",
    "    if type(i) == str:\n",
    "        print(\"-4번째 문자는 {}, 첫번째 문자열은 {}\".format(val[-4], i))\n",
    "        break"
   ]
  },
  {
   "cell_type": "code",
   "execution_count": null,
   "id": "5bb039f3",
   "metadata": {},
   "outputs": [],
   "source": [
    "for i in val:\n",
    "    if type(i) == str:\n",
    "        find_str = i\n",
    "        break\n",
    "        \n",
    "print(\"-4번째 문자는 {}, 첫번째 문자열은 {}\".format(val[-4],find_str ))"
   ]
  },
  {
   "cell_type": "code",
   "execution_count": null,
   "id": "30eac095",
   "metadata": {},
   "outputs": [],
   "source": [
    "for i in val:\n",
    "    if type(i) == str:\n",
    "        break\n",
    "        \n",
    "print(\"-4번째 문자는 {}, 첫번째 문자열은 {}\".format(val[-4], i ))"
   ]
  },
  {
   "cell_type": "code",
   "execution_count": null,
   "id": "5e2f98f2",
   "metadata": {},
   "outputs": [],
   "source": []
  },
  {
   "cell_type": "code",
   "execution_count": null,
   "id": "41bf65fe",
   "metadata": {},
   "outputs": [],
   "source": [
    "for i in range(len(val)):\n",
    "    if type(val[i]) == str:\n",
    "        alpha_index = i\n",
    "        break \n",
    "        \n",
    "print(\"-4번째 문자는 {}, 첫번째 문자열은 {}\".format(val[-4], val[alpha_index]))"
   ]
  },
  {
   "cell_type": "code",
   "execution_count": null,
   "id": "3b2400a5",
   "metadata": {},
   "outputs": [],
   "source": [
    "for i in val:\n",
    "    print(i)"
   ]
  },
  {
   "cell_type": "code",
   "execution_count": null,
   "id": "5533e9f1",
   "metadata": {},
   "outputs": [],
   "source": [
    "for i in enumerate(val):\n",
    "    print(i)"
   ]
  },
  {
   "cell_type": "code",
   "execution_count": null,
   "id": "76a1feb6",
   "metadata": {},
   "outputs": [],
   "source": []
  },
  {
   "cell_type": "code",
   "execution_count": null,
   "id": "ba8b65d1",
   "metadata": {},
   "outputs": [],
   "source": [
    "find_str = []\n",
    "for i in val:\n",
    "    if type(i) == str:\n",
    "        find_str.append(i)\n",
    "        print(\"find_str = \", find_str)\n",
    "find_str[0]"
   ]
  },
  {
   "cell_type": "code",
   "execution_count": null,
   "id": "23aec5f6",
   "metadata": {},
   "outputs": [],
   "source": []
  },
  {
   "cell_type": "code",
   "execution_count": null,
   "id": "aea4cb65",
   "metadata": {},
   "outputs": [],
   "source": [
    "a = \"a\""
   ]
  },
  {
   "cell_type": "code",
   "execution_count": null,
   "id": "d8ab3c1e",
   "metadata": {},
   "outputs": [],
   "source": [
    "type(a) == str"
   ]
  },
  {
   "cell_type": "code",
   "execution_count": null,
   "id": "47b1caa2",
   "metadata": {},
   "outputs": [],
   "source": [
    "type(a) is str"
   ]
  },
  {
   "cell_type": "code",
   "execution_count": null,
   "id": "55b95b1e",
   "metadata": {},
   "outputs": [],
   "source": [
    "isinstance(a, str)"
   ]
  },
  {
   "cell_type": "code",
   "execution_count": null,
   "id": "eec04682",
   "metadata": {},
   "outputs": [],
   "source": [
    "issubclass(type(a), str)"
   ]
  },
  {
   "cell_type": "code",
   "execution_count": null,
   "id": "392b044a",
   "metadata": {},
   "outputs": [],
   "source": []
  },
  {
   "cell_type": "markdown",
   "id": "e07e7677",
   "metadata": {},
   "source": [
    "## ( 실습_11.  섭씨를 화씨로 변환 )\n",
    "1. 화면에서 섭씨 온도를 입력받는다. \n",
    "2. 섭씨(celcius)온도를 화씨 온도로 변환한다. \n",
    "3. 화씨 = ( (9/5) * 섭씨온도) + 32\n",
    "4. 출력 예) 온도 32.2는 화씨 89.96도 입니다. "
   ]
  },
  {
   "cell_type": "code",
   "execution_count": 4,
   "id": "703423a0",
   "metadata": {},
   "outputs": [
    {
     "name": "stdout",
     "output_type": "stream",
     "text": [
      "섭씨 온도는? 32.2\n",
      "온도 32.2는 화씨로 89.96\n"
     ]
    }
   ],
   "source": [
    "user_input = float(input(\"섭씨 온도는? \"))\n",
    "new = ( (9/5) * user_input) + 32\n",
    "print(\"온도 %s는 화씨로 %3.2f\"%(user_input, new))"
   ]
  },
  {
   "cell_type": "code",
   "execution_count": 9,
   "id": "daa29dc2",
   "metadata": {},
   "outputs": [
    {
     "name": "stdout",
     "output_type": "stream",
     "text": [
      "섭씨 온도는? 32.2\n",
      "온도 32.2는 화씨로 89.96\n"
     ]
    }
   ],
   "source": [
    "celcius = float(input(\"섭씨 온도는? \"))\n",
    "fah = ( (9/5) * celcius) + 32\n",
    "print(\"온도 %s는 화씨로 %.2f\"%(celcius, fah))"
   ]
  },
  {
   "cell_type": "code",
   "execution_count": null,
   "id": "b2362870",
   "metadata": {},
   "outputs": [],
   "source": []
  },
  {
   "cell_type": "markdown",
   "id": "f9e961c8",
   "metadata": {},
   "source": [
    "####  (실습 12) 딕셔너리에서 value가 78인 key를 찾아서 출력 (key = ???? ) \n",
    "1. d = {'1':[60,80,30],'2':[78,54,98],'3' : [100,50,70],'4' : [70,60,80]}\n",
    "2. 78점 점수를 가지고 있는 학생(key) 은 누가? "
   ]
  },
  {
   "cell_type": "code",
   "execution_count": 11,
   "id": "a473c0a3",
   "metadata": {},
   "outputs": [
    {
     "data": {
      "text/plain": [
       "{'1': [60, 80, 30], '2': [78, 54, 98], '3': [100, 50, 70], '4': [70, 60, 80]}"
      ]
     },
     "execution_count": 11,
     "metadata": {},
     "output_type": "execute_result"
    }
   ],
   "source": [
    "d"
   ]
  },
  {
   "cell_type": "code",
   "execution_count": 13,
   "id": "7afaac44",
   "metadata": {},
   "outputs": [
    {
     "name": "stdout",
     "output_type": "stream",
     "text": [
      "('1', [60, 80, 30])\n",
      "('2', [78, 54, 98])\n",
      "('3', [100, 50, 70])\n",
      "('4', [70, 60, 80])\n"
     ]
    }
   ],
   "source": [
    "# 1. 데이터 추출 확인 \n",
    "for i in d.items():\n",
    "    print(i)"
   ]
  },
  {
   "cell_type": "code",
   "execution_count": 15,
   "id": "41f36069",
   "metadata": {},
   "outputs": [
    {
     "name": "stdout",
     "output_type": "stream",
     "text": [
      "('1', [60, 80, 30])\n",
      "('2', [78, 54, 98])\n",
      " key =  2\n",
      "('3', [100, 50, 70])\n",
      "('4', [70, 60, 80])\n"
     ]
    }
   ],
   "source": [
    "# 2. 데이터 찾기 \n",
    "for i in d.items():\n",
    "    print(i)\n",
    "    if ((i[1][0] == 78) or (i[1][1]==78) or (i[1][2]==78)):\n",
    "        print(\" key = \", i[0])"
   ]
  },
  {
   "cell_type": "code",
   "execution_count": 16,
   "id": "328366ea",
   "metadata": {},
   "outputs": [
    {
     "name": "stdout",
     "output_type": "stream",
     "text": [
      "('1', [60, 80, 30])\n",
      "('1', [60, 80, 30])의 60\n",
      "('1', [60, 80, 30])의 80\n",
      "('1', [60, 80, 30])의 30\n",
      "('2', [78, 54, 98])\n",
      "('2', [78, 54, 98])의 78\n",
      "('2', [78, 54, 98])의 54\n",
      "('2', [78, 54, 98])의 98\n",
      "('3', [100, 50, 70])\n",
      "('3', [100, 50, 70])의 100\n",
      "('3', [100, 50, 70])의 50\n",
      "('3', [100, 50, 70])의 70\n",
      "('4', [70, 60, 80])\n",
      "('4', [70, 60, 80])의 70\n",
      "('4', [70, 60, 80])의 60\n",
      "('4', [70, 60, 80])의 80\n"
     ]
    }
   ],
   "source": [
    "# 3. Iterable 유형일 때 \n",
    "for i in d.items():\n",
    "    print(i)\n",
    "    for j in i[1]:\n",
    "        print(\"{}의 {}\".format(i,j)) "
   ]
  },
  {
   "cell_type": "code",
   "execution_count": 18,
   "id": "41dbf180",
   "metadata": {},
   "outputs": [
    {
     "name": "stdout",
     "output_type": "stream",
     "text": [
      "('1', [60, 80, 30])\n",
      "('2', [78, 54, 98])\n",
      "key =  2\n",
      "('3', [100, 50, 70])\n",
      "('4', [70, 60, 80])\n"
     ]
    }
   ],
   "source": [
    "# 4. Iterable 유형일 때 \n",
    "for i in d.items():\n",
    "    print(i)\n",
    "    for j in i[1]:\n",
    "        if j == 78:\n",
    "            print(\"key = \", i[0]) "
   ]
  },
  {
   "cell_type": "code",
   "execution_count": 20,
   "id": "41a913e4",
   "metadata": {},
   "outputs": [
    {
     "name": "stdout",
     "output_type": "stream",
     "text": [
      "key =  1\n",
      "key =  4\n"
     ]
    }
   ],
   "source": [
    "# 5. 비교값 변수 처리 \n",
    "score = 80\n",
    "\n",
    "for i in d.items():\n",
    "    for j in i[1]:\n",
    "        if j == score:\n",
    "            print(\"key = \", i[0]) "
   ]
  },
  {
   "cell_type": "code",
   "execution_count": 24,
   "id": "ba8242e1",
   "metadata": {},
   "outputs": [
    {
     "name": "stdout",
     "output_type": "stream",
     "text": [
      "key =  2\n",
      "['2']\n"
     ]
    }
   ],
   "source": [
    "# 5. 비교값 변수 처리 \n",
    "score = 78\n",
    "\n",
    "find_key = []\n",
    "for i in d.items():\n",
    "    for j in i[1]:\n",
    "        if j == score:\n",
    "            print(\"key = \", i[0]) \n",
    "            find_key.append(i[0])\n",
    "print(find_key)"
   ]
  },
  {
   "cell_type": "code",
   "execution_count": 27,
   "id": "43b0fbfa",
   "metadata": {},
   "outputs": [
    {
     "name": "stdout",
     "output_type": "stream",
     "text": [
      "('1', [60, 80, 30])\n",
      "key =  1\n",
      "('2', [78, 54, 98])\n",
      "('3', [100, 50, 70])\n",
      "('4', [70, 60, 80])\n",
      "key =  4\n",
      "['1', '4']\n"
     ]
    }
   ],
   "source": [
    "# 6. 비교연산자 활용 \n",
    "score = 80\n",
    "\n",
    "find_key = []\n",
    "for i in d.items():\n",
    "    print(i)\n",
    "    if score in i[1]:\n",
    "        print(\"key = \", i[0]) \n",
    "        find_key.append(i[0])\n",
    "print(find_key)"
   ]
  },
  {
   "cell_type": "code",
   "execution_count": null,
   "id": "87b265ad",
   "metadata": {},
   "outputs": [],
   "source": []
  }
 ],
 "metadata": {
  "kernelspec": {
   "display_name": "Python 3",
   "language": "python",
   "name": "python3"
  },
  "language_info": {
   "codemirror_mode": {
    "name": "ipython",
    "version": 3
   },
   "file_extension": ".py",
   "mimetype": "text/x-python",
   "name": "python",
   "nbconvert_exporter": "python",
   "pygments_lexer": "ipython3",
   "version": "3.8.8"
  }
 },
 "nbformat": 4,
 "nbformat_minor": 5
}
