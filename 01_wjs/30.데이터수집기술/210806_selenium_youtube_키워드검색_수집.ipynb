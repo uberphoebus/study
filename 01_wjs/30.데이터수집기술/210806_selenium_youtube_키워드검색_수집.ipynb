{
 "cells": [
  {
   "cell_type": "markdown",
   "id": "a6e3581d",
   "metadata": {},
   "source": [
    "## ( 유튜브 키워드 검색 ) \n",
    "1. 화면에서 키워드를 입력 받는다 ( 파이썬 데이터분석) \n",
    "2. selenium 활용 검색창에 입력후 검색 실행 \n",
    "3. page_source를 받아서 Beautifulsoup 적용 \n",
    "   - 태크 찾기.. \n",
    "    \n",
    "4. 개별영상 타입 데이터 추출후 DataFrame으로 만들기 \n",
    "   - 개별영상타입\n",
    "     ; 채널명, 영상제목, 영상url, 조회수, 영상등록날짜\n",
    "5. 재생목록타입 데이터 추출후 df 만들기\n",
    "   - 재생목록타입 \n",
    "     ; 채널명, 재생목록제목, 제생목록url "
   ]
  },
  {
   "cell_type": "code",
   "execution_count": null,
   "id": "bc53b7d9",
   "metadata": {},
   "outputs": [],
   "source": [
    "개별영상 타입.. \n",
    "lis = soup.findAll(\"ytd-video-renderer\",{\"class\":\"style-scope ytd-item-section-renderer\"})\n",
    "lis[0].find_all(\"yt-formatted-string\")[0][\"aria-label\"] \n",
    "\n",
    "재생목록 타입..\n",
    "lis1 = soup.find_all(\"div\",{\"class\":\"style-scope ytd-playlist-renderer\"})\n",
    "lis1[0].find(\"div\",{\"id\":\"tooltip\"})\n",
    "lis1[0].find(\"span\")[\"title\"]\n",
    "lis1[0].find(\"a\")[\"href\"]\n",
    "soup.find_all(\"yt-formatted-string\",\n",
    "               {\"class\":\"style-scope ytd-thumbnail-overlay-side-panel-renderer\"})"
   ]
  },
  {
   "cell_type": "code",
   "execution_count": null,
   "id": "d021475c",
   "metadata": {},
   "outputs": [],
   "source": []
  }
 ],
 "metadata": {
  "kernelspec": {
   "display_name": "Python 3",
   "language": "python",
   "name": "python3"
  },
  "language_info": {
   "codemirror_mode": {
    "name": "ipython",
    "version": 3
   },
   "file_extension": ".py",
   "mimetype": "text/x-python",
   "name": "python",
   "nbconvert_exporter": "python",
   "pygments_lexer": "ipython3",
   "version": "3.8.8"
  }
 },
 "nbformat": 4,
 "nbformat_minor": 5
}
