{
 "cells": [
  {
   "cell_type": "markdown",
   "metadata": {},
   "source": [
    "### ( 1. 데이터 검색 후 검색결과 html 받기 )"
   ]
  },
  {
   "cell_type": "code",
   "execution_count": 8,
   "metadata": {},
   "outputs": [
    {
     "name": "stdout",
     "output_type": "stream",
     "text": [
      " 1. 유튜브 접속 및 키워드 검색!!!!!!\n"
     ]
    }
   ],
   "source": [
    "from selenium import webdriver\n",
    "import time\n",
    "\n",
    "driver = webdriver.Chrome(\"c:/jswoo/chromedriver\")\n",
    "\n",
    "#search_word = input(\"검색어? \")\n",
    "search_word = \"파이썬 데이터분석\"\n",
    "\n",
    "url = \"https://www.youtube.com/results?search_query=\"+ search_word\n",
    "\n",
    "print(\" 1. 유튜브 접속 및 키워드 검색!!!!!!\")\n",
    "driver.get(url)\n",
    "time.sleep(0.5)"
   ]
  },
  {
   "cell_type": "code",
   "execution_count": 9,
   "metadata": {},
   "outputs": [
    {
     "name": "stdout",
     "output_type": "stream",
     "text": [
      " 2. Page Down !\n",
      "page_down =  1\n",
      "page_down =  2\n",
      "page_down =  3\n",
      "page_down =  4\n",
      "page_down =  5\n",
      "page_down =  6\n",
      "page_down =  7\n",
      "page_down =  8\n",
      "page_down =  9\n"
     ]
    }
   ],
   "source": [
    "print(\" 2. Page Down !\")\n",
    "\n",
    "from selenium.webdriver.common.keys import Keys\n",
    "\n",
    "body = driver.find_element_by_tag_name(\"body\")\n",
    "\n",
    "for page_down in range(1,10):\n",
    "    print(\"page_down = \", page_down)\n",
    "    body.send_keys(Keys.PAGE_DOWN)\n",
    "    time.sleep(1)"
   ]
  },
  {
   "cell_type": "code",
   "execution_count": 10,
   "metadata": {},
   "outputs": [
    {
     "name": "stdout",
     "output_type": "stream",
     "text": [
      " 3. 페이지 html BeautifulSoup 적용 !!!!!!\n",
      " BeautifulSoup 완료!! \n"
     ]
    }
   ],
   "source": [
    "print(\" 3. 페이지 html BeautifulSoup 적용 !!!!!!\")\n",
    "from bs4 import BeautifulSoup\n",
    "\n",
    "#html = driver.page_source  # requests.get \n",
    "\n",
    "soup = BeautifulSoup(driver.page_source, \"html.parser\") # soup\n",
    "print(\" BeautifulSoup 완료!! \")"
   ]
  },
  {
   "cell_type": "code",
   "execution_count": null,
   "metadata": {},
   "outputs": [],
   "source": []
  },
  {
   "cell_type": "markdown",
   "metadata": {},
   "source": [
    "## ( 개별 영상 타입 ) "
   ]
  },
  {
   "cell_type": "code",
   "execution_count": null,
   "metadata": {},
   "outputs": [],
   "source": []
  },
  {
   "cell_type": "code",
   "execution_count": 41,
   "metadata": {},
   "outputs": [
    {
     "name": "stdout",
     "output_type": "stream",
     "text": [
      " 4. 개별 영상 타입 추출   !!!!!!\n",
      " 5. 개별영상 타입 완료 =  (39, 5)\n"
     ]
    }
   ],
   "source": [
    "youtube_base_url = \"https://www.youtube.com/\"\n",
    "\n",
    "# 개별 영상 타입 추출 \n",
    "\n",
    "print(\" 4. 개별 영상 타입 추출   !!!!!!\")\n",
    "\n",
    "#3 class=\"title-and-badge style-scope ytd-video-renderer\">\n",
    "lis = soup.find_all(\"h3\",{\"class\":\"title-and-badge style-scope ytd-video-renderer\"})\n",
    "\n",
    "video_list = []\n",
    "\n",
    "for video in lis:\n",
    "    data = video.find(\"a\")[\"aria-label\"]\n",
    "\n",
    "    len = data.find(\"게시자\")    \n",
    "    item = data[len:].split()\n",
    "\n",
    "    channel = item[1]\n",
    "\n",
    "    title = data[:len-1]\n",
    "    \n",
    "    video_url = youtube_base_url+video.find(\"a\")[\"href\"]\n",
    "\n",
    "    views_count =item[-1]\n",
    "    upload_date = item[2]+item[3]\n",
    "   \n",
    "    video_list.append([channel, title, video_url, views_count, upload_date])\n",
    "    \n",
    "# 추출한 list로 dataframe 만들기 \n",
    "    \n",
    "import pandas as pd\n",
    "df_video_item = pd.DataFrame(video_list)\n",
    "\n",
    "# # 컬럼 만들기\n",
    "df_video_item.columns = [\"채널명\",\"영상제목\",\"영상url\",\"조회수\",\"영상등록날짜\"]\n",
    "\n",
    "print(\" 5. 개별영상 타입 완료 = \", df_video_item.shape)"
   ]
  },
  {
   "cell_type": "code",
   "execution_count": 40,
   "metadata": {},
   "outputs": [
    {
     "data": {
      "text/plain": [
       "[['GongbroDesk',\n",
       "  '파이썬 데이터 분석 - 설치부터 라이브러리 예제까지 (feat. 넘파이, 맷플롯립, 판다스)',\n",
       "  'https://www.youtube.com//watch?v=8_VWnRvbGPs',\n",
       "  '29,497회',\n",
       "  '7개월전'],\n",
       " ['데이터',\n",
       "  '파이썬 판다스로 회사 엑셀데이터 전처리 하는 방법 ! 1탄 (Python / Pandas) #Python #파이썬 #Pandas',\n",
       "  'https://www.youtube.com//watch?v=3-iwY0_u0VA',\n",
       "  '5,887회',\n",
       "  '스테이션5개월'],\n",
       " ['todaycode오늘코드',\n",
       "  '[1/29] 파이썬 데이터 분석을 위한 Pandas 기초 - 판다스 10분 완성소개, cheat sheet 보고 데이터프레임 만들어보기 튜토리얼',\n",
       "  'https://www.youtube.com//watch?v=lspu830SzC8',\n",
       "  '32,936회',\n",
       "  '2년전'],\n",
       " ['todaycode오늘코드',\n",
       "  '자전거 수요 예측[1/4] 캐글 머신러닝 탐색적 데이터 분석',\n",
       "  'https://www.youtube.com//watch?v=Q_MbN-vu_2w',\n",
       "  '31,783회',\n",
       "  '3년전'],\n",
       " ['보안프로젝트[boanproject]',\n",
       "  '구글 코랩(Colab) 이용하여 파이썬 데이터 분석 공부와 머신러닝 공부를 하세요',\n",
       "  'https://www.youtube.com//watch?v=HAXHlf2oxXk',\n",
       "  '3,211회',\n",
       "  '1년전'],\n",
       " ['테디노트',\n",
       "  '25분만에 끝내는 데이터분석, 머신러닝을 위한 기본 파이썬',\n",
       "  'https://www.youtube.com//watch?v=JoL3ACNDs-I',\n",
       "  '10,643회',\n",
       "  '1년전'],\n",
       " ['Visualising',\n",
       "  '무슨 분석 툴을 배워야 할까? - 실제 데이터 과학/데이터 분석 업계에서의 R 과 Python (파이썬) 비교',\n",
       "  'https://www.youtube.com//watch?v=1e2IjkDYE_8',\n",
       "  '25,719회',\n",
       "  'Korea1년'],\n",
       " ['todaycode오늘코드',\n",
       "  '[1/5] 파이썬 데이터 분석 - 전국 도시 공원 표준 데이터 불러오기, 요약하기',\n",
       "  'https://www.youtube.com//watch?v=uJ6QO6jLBWA',\n",
       "  '13,642회',\n",
       "  '2년전'],\n",
       " ['조코딩',\n",
       "  '파이썬 주식 투자 자동화 무료 강의 시작합니다',\n",
       "  'https://www.youtube.com//watch?v=Y01D2J_7894',\n",
       "  '183,599회',\n",
       "  'JoCoding9개월'],\n",
       " ['Tokuni',\n",
       "  '[경험] 파이썬 주식자동매매 프로그램을 만들고도 이용하지 않는 이유 ((실전 자동매매 영상 포함))',\n",
       "  'https://www.youtube.com//watch?v=s4S_aUeW0z0',\n",
       "  '28,363회',\n",
       "  'TV7개월'],\n",
       " ['매일경제',\n",
       "  '데이터 엔지니어 vs 데이터 분석가 vs 데이터 사이언티스트 연봉 KING 전망 KING은 누구?/현직자인터뷰/카카오모빌리티/취업꿀팁',\n",
       "  'https://www.youtube.com//watch?v=luA8-_BHWRE',\n",
       "  '12,661회',\n",
       "  '에브리데이4개월'],\n",
       " ['나도코딩',\n",
       "  '파이썬 코딩 무료 강의 (기본편) - 6시간 뒤면 여러분도 개발자가 될 수 있어요 [나도코딩]',\n",
       "  'https://www.youtube.com//watch?v=kWiCuklohdY',\n",
       "  '2,106,503회',\n",
       "  '1년전'],\n",
       " ['Data',\n",
       "  '[통계, 파이썬] 데이터분석 능력 기르기 1. 이건 알고 시작하자.',\n",
       "  'https://www.youtube.com//watch?v=Dfpi4pAzn78',\n",
       "  '8,530회',\n",
       "  'Scientist이지영1년'],\n",
       " ['온라인',\n",
       "  '파이썬으로 일상의 데이터를 분석하는 법! 코로나 데이터를 분석해 봐요!',\n",
       "  'https://www.youtube.com//watch?v=oYRETGDVFl4',\n",
       "  '1,254회',\n",
       "  '코딩스쿨'],\n",
       " ['메모밍',\n",
       "  '[파이썬] 데이터 분석을 위한 파이썬 [08] Pandas (Python for Data Analysis)',\n",
       "  'https://www.youtube.com//watch?v=19oPYr6d5IY',\n",
       "  '4,899회',\n",
       "  '채널('],\n",
       " ['데이터',\n",
       "  '[매일10분 데이터 분석] 데이터 시각화를 쉽게 해보자 ! (Python / 그래프 / Seaborn / Matplot)',\n",
       "  'https://www.youtube.com//watch?v=oxtUkzr0ehs',\n",
       "  '3,761회',\n",
       "  '스테이션5개월'],\n",
       " ['데이터',\n",
       "  'Python Pandas 실무 데이터 분석 1탄 (Series / Dataframe 구조) #Python #파이썬 #Pandas',\n",
       "  'https://www.youtube.com//watch?v=q4UFSZPjLyo',\n",
       "  '7,569회',\n",
       "  '스테이션1년'],\n",
       " ['파이썬멘토',\n",
       "  '12-1. 파이썬 데이터 분석 소개 및 csv 파일 데이터 읽어오기 (What is Python data analysis & reading csv file)',\n",
       "  'https://www.youtube.com//watch?v=Rh_gJz26BWw',\n",
       "  '724회',\n",
       "  '조인석1년'],\n",
       " ['Data',\n",
       "  '[통계, 파이썬] 데이터분석 능력 기르기 2. 빅데이터의 저주, 파이썬으로 구현하기',\n",
       "  'https://www.youtube.com//watch?v=Ax5ENEciYbE',\n",
       "  '2,861회',\n",
       "  'Scientist이지영1년'],\n",
       " ['PyCon',\n",
       "  '김도형: 파이썬 데이터 분석 3종 세트 - statsmodels, scikit-learn, theano - PyCon APAC 2016',\n",
       "  'https://www.youtube.com//watch?v=Z5rD3yQ96Lo',\n",
       "  '6,559회',\n",
       "  'Korea4년'],\n",
       " ['동빈나',\n",
       "  'Numpy의 기본 사용법 [ Python 데이터 분석과 이미지 처리 ]',\n",
       "  'https://www.youtube.com//watch?v=LdoJAC26MIc',\n",
       "  '29,495회',\n",
       "  '2년전'],\n",
       " ['꽃부리',\n",
       "  '머신러닝, 데이터분석 공부 고민만 하는 분께 l 파이썬 공부 이유 l 머신러닝 공부 순서',\n",
       "  'https://www.youtube.com//watch?v=irenjQzqQsw',\n",
       "  '7,780회',\n",
       "  'AIWith'],\n",
       " ['동빈나',\n",
       "  'Pandas의 기본 사용법 [ Python 데이터 분석과 이미지 처리 ]',\n",
       "  'https://www.youtube.com//watch?v=9PF4BAFh-J8',\n",
       "  '8,720회',\n",
       "  '1년전'],\n",
       " ['todaycode오늘코드',\n",
       "  '[1/7] Python, Pandas,  folium으로 스타벅스, 이디야 매장 위치 분석하기',\n",
       "  'https://www.youtube.com//watch?v=PR1WeCdFWvg',\n",
       "  '18,532회',\n",
       "  '2년전'],\n",
       " ['한빛미디어',\n",
       "  '[이것이 데이터 분석이다 with 파이썬_11] 시계열 예측 분석',\n",
       "  'https://www.youtube.com//watch?v=AuzoQ8eZXEw',\n",
       "  '9,144회',\n",
       "  '1년전'],\n",
       " ['메모밍',\n",
       "  '[파이썬] 데이터 분석을 위한 파이썬 [06] 함수와 모듈 (Python for Data Analysis)',\n",
       "  'https://www.youtube.com//watch?v=Igo0g8POfHQ',\n",
       "  '2,327회',\n",
       "  '채널('],\n",
       " ['스파르타',\n",
       "  '[스파르타온라인] 파이썬 데이터분석 첫걸음',\n",
       "  'https://www.youtube.com//watch?v=sKPnOwAYujY',\n",
       "  '43,807회',\n",
       "  '코딩클럽10개월'],\n",
       " ['todaycode오늘코드',\n",
       "  '[2/5] 파이썬 데이터 분석 - 주소 및 사용하지 않는 컬럼 결측치 처리',\n",
       "  'https://www.youtube.com//watch?v=qbfCXbWMYXY',\n",
       "  '3,643회',\n",
       "  '2년전'],\n",
       " ['코딩어TV',\n",
       "  '코딩으로 타이타닉 생존자 예측 프로그램 만들어 보기 [데이터 분석 파이썬 예제]',\n",
       "  'https://www.youtube.com//watch?v=7DP3Ghg_WMc',\n",
       "  '2,243회',\n",
       "  '1년전'],\n",
       " ['한빛미디어',\n",
       "  '[이것이 데이터 분석이다 with 파이썬_01] 분석 환경 구축하기 주피터 노트북, 아나콘다 설치',\n",
       "  'https://www.youtube.com//watch?v=nSEkwomMtxs',\n",
       "  '10,194회',\n",
       "  '1년전'],\n",
       " ['todaycode오늘코드',\n",
       "  '파이썬 공공데이터 분석[1/6] - 신규 민간 아파트 분양가격 데이터셋 소개',\n",
       "  'https://www.youtube.com//watch?v=H6-Y-sipgCk',\n",
       "  '23,847회',\n",
       "  '2년전'],\n",
       " ['todaycode오늘코드',\n",
       "  '[2/3] 파이썬 공공데이터 분석 - 상가(상권)정보로 위경도 정보 활용하기,  판다스로 결측치 분석하기,  ggplot 문법으로 시각화하기',\n",
       "  'https://www.youtube.com//watch?v=XF1_4RCRsGA',\n",
       "  '2,332회',\n",
       "  '2년전'],\n",
       " ['파이썬멘토',\n",
       "  '12-3. 파이썬 데이터 분석 프로젝트 II (Python Data Analysis Practice)',\n",
       "  'https://www.youtube.com//watch?v=mzzu7NEyXAE',\n",
       "  '377회',\n",
       "  '조인석1년'],\n",
       " ['데싸노트',\n",
       "  'Python VS R: 뉴욕 데이터사이언티스트가 추천하는 것은?',\n",
       "  'https://www.youtube.com//watch?v=bybKm5E8Srg',\n",
       "  '8,831회',\n",
       "  '7개월전'],\n",
       " ['EPASSKOREA',\n",
       "  '#코알못 가능!! 3단계로 마스터하는 #파이썬 #데이터분석!!',\n",
       "  'https://www.youtube.com//watch?v=cZHFaqAkLlw',\n",
       "  '317,393회',\n",
       "  '10개월전'],\n",
       " ['동빈나',\n",
       "  '행렬의 필요성 [ Python 데이터 분석과 이미지 처리 ]',\n",
       "  'https://www.youtube.com//watch?v=hqqmIemBbvw',\n",
       "  '12,673회',\n",
       "  '2년전'],\n",
       " ['todaycode오늘코드',\n",
       "  '[책 리뷰] 파이썬 라이브러리를 활용한 데이터 분석(2판) - Pandas 를 통한 영화 평점, 이름 통계, 선거 데이터 등 실사례 분석',\n",
       "  'https://www.youtube.com//watch?v=c0s_QYrsXZs',\n",
       "  '3,974회',\n",
       "  '2년전'],\n",
       " ['한빛미디어',\n",
       "  '[이것이 데이터 분석이다 with 파이썬_10] 연봉 예측 분석',\n",
       "  'https://www.youtube.com//watch?v=WZJoONIvG7M',\n",
       "  '3,220회',\n",
       "  '1년전'],\n",
       " ['PyCon',\n",
       "  '[2019.04] 파이썬으로 경마 데이터 분석하기 - 김진형',\n",
       "  'https://www.youtube.com//watch?v=ggs_cpYz1ZM',\n",
       "  '979회',\n",
       "  'Korea1년']]"
      ]
     },
     "execution_count": 40,
     "metadata": {},
     "output_type": "execute_result"
    }
   ],
   "source": [
    "video_list"
   ]
  },
  {
   "cell_type": "code",
   "execution_count": 42,
   "metadata": {},
   "outputs": [
    {
     "data": {
      "text/html": [
       "<div>\n",
       "<style scoped>\n",
       "    .dataframe tbody tr th:only-of-type {\n",
       "        vertical-align: middle;\n",
       "    }\n",
       "\n",
       "    .dataframe tbody tr th {\n",
       "        vertical-align: top;\n",
       "    }\n",
       "\n",
       "    .dataframe thead th {\n",
       "        text-align: right;\n",
       "    }\n",
       "</style>\n",
       "<table border=\"1\" class=\"dataframe\">\n",
       "  <thead>\n",
       "    <tr style=\"text-align: right;\">\n",
       "      <th></th>\n",
       "      <th>채널명</th>\n",
       "      <th>영상제목</th>\n",
       "      <th>영상url</th>\n",
       "      <th>조회수</th>\n",
       "      <th>영상등록날짜</th>\n",
       "    </tr>\n",
       "  </thead>\n",
       "  <tbody>\n",
       "    <tr>\n",
       "      <th>0</th>\n",
       "      <td>GongbroDesk</td>\n",
       "      <td>파이썬 데이터 분석 - 설치부터 라이브러리 예제까지 (feat. 넘파이, 맷플롯립,...</td>\n",
       "      <td>https://www.youtube.com//watch?v=8_VWnRvbGPs</td>\n",
       "      <td>29,497회</td>\n",
       "      <td>7개월전</td>\n",
       "    </tr>\n",
       "    <tr>\n",
       "      <th>1</th>\n",
       "      <td>데이터</td>\n",
       "      <td>파이썬 판다스로 회사 엑셀데이터 전처리 하는 방법 ! 1탄 (Python / Pan...</td>\n",
       "      <td>https://www.youtube.com//watch?v=3-iwY0_u0VA</td>\n",
       "      <td>5,887회</td>\n",
       "      <td>스테이션5개월</td>\n",
       "    </tr>\n",
       "    <tr>\n",
       "      <th>2</th>\n",
       "      <td>todaycode오늘코드</td>\n",
       "      <td>[1/29] 파이썬 데이터 분석을 위한 Pandas 기초 - 판다스 10분 완성소개...</td>\n",
       "      <td>https://www.youtube.com//watch?v=lspu830SzC8</td>\n",
       "      <td>32,936회</td>\n",
       "      <td>2년전</td>\n",
       "    </tr>\n",
       "    <tr>\n",
       "      <th>3</th>\n",
       "      <td>todaycode오늘코드</td>\n",
       "      <td>자전거 수요 예측[1/4] 캐글 머신러닝 탐색적 데이터 분석</td>\n",
       "      <td>https://www.youtube.com//watch?v=Q_MbN-vu_2w</td>\n",
       "      <td>31,783회</td>\n",
       "      <td>3년전</td>\n",
       "    </tr>\n",
       "    <tr>\n",
       "      <th>4</th>\n",
       "      <td>보안프로젝트[boanproject]</td>\n",
       "      <td>구글 코랩(Colab) 이용하여 파이썬 데이터 분석 공부와 머신러닝 공부를 하세요</td>\n",
       "      <td>https://www.youtube.com//watch?v=HAXHlf2oxXk</td>\n",
       "      <td>3,211회</td>\n",
       "      <td>1년전</td>\n",
       "    </tr>\n",
       "  </tbody>\n",
       "</table>\n",
       "</div>"
      ],
      "text/plain": [
       "                   채널명                                               영상제목  \\\n",
       "0          GongbroDesk  파이썬 데이터 분석 - 설치부터 라이브러리 예제까지 (feat. 넘파이, 맷플롯립,...   \n",
       "1                  데이터  파이썬 판다스로 회사 엑셀데이터 전처리 하는 방법 ! 1탄 (Python / Pan...   \n",
       "2        todaycode오늘코드  [1/29] 파이썬 데이터 분석을 위한 Pandas 기초 - 판다스 10분 완성소개...   \n",
       "3        todaycode오늘코드                  자전거 수요 예측[1/4] 캐글 머신러닝 탐색적 데이터 분석   \n",
       "4  보안프로젝트[boanproject]      구글 코랩(Colab) 이용하여 파이썬 데이터 분석 공부와 머신러닝 공부를 하세요   \n",
       "\n",
       "                                          영상url      조회수   영상등록날짜  \n",
       "0  https://www.youtube.com//watch?v=8_VWnRvbGPs  29,497회     7개월전  \n",
       "1  https://www.youtube.com//watch?v=3-iwY0_u0VA   5,887회  스테이션5개월  \n",
       "2  https://www.youtube.com//watch?v=lspu830SzC8  32,936회      2년전  \n",
       "3  https://www.youtube.com//watch?v=Q_MbN-vu_2w  31,783회      3년전  \n",
       "4  https://www.youtube.com//watch?v=HAXHlf2oxXk   3,211회      1년전  "
      ]
     },
     "execution_count": 42,
     "metadata": {},
     "output_type": "execute_result"
    }
   ],
   "source": [
    "df_video_item.head()"
   ]
  },
  {
   "cell_type": "code",
   "execution_count": null,
   "metadata": {},
   "outputs": [],
   "source": []
  },
  {
   "cell_type": "code",
   "execution_count": null,
   "metadata": {},
   "outputs": [],
   "source": []
  },
  {
   "cell_type": "code",
   "execution_count": 19,
   "metadata": {},
   "outputs": [],
   "source": [
    "video = lis[0]\n",
    "aa = video.find(\"div\",{\"id\":\"tooltip\"}) "
   ]
  },
  {
   "cell_type": "code",
   "execution_count": 23,
   "metadata": {},
   "outputs": [
    {
     "data": {
      "text/plain": [
       "'파이썬 데이터 분석 - 설치부터 라이브러리 예제까지 (feat. 넘파이, 맷플롯립, 판다스) 게시자: GongbroDesk 7개월 전 10시간 19분 조회수 29,497회'"
      ]
     },
     "execution_count": 23,
     "metadata": {},
     "output_type": "execute_result"
    }
   ],
   "source": [
    "video.find(\"a\")[\"aria-label\"]"
   ]
  },
  {
   "cell_type": "code",
   "execution_count": 24,
   "metadata": {},
   "outputs": [
    {
     "data": {
      "text/plain": [
       "'파이썬 데이터 분석 - 설치부터 라이브러리 예제까지 (feat. 넘파이, 맷플롯립, 판다스) 게시자: GongbroDesk 7개월 전 10시간 19분 조회수 29,497회'"
      ]
     },
     "execution_count": 24,
     "metadata": {},
     "output_type": "execute_result"
    }
   ],
   "source": [
    "data = video.find(\"a\")[\"aria-label\"]; data"
   ]
  },
  {
   "cell_type": "code",
   "execution_count": 25,
   "metadata": {},
   "outputs": [
    {
     "data": {
      "text/plain": [
       "str"
      ]
     },
     "execution_count": 25,
     "metadata": {},
     "output_type": "execute_result"
    }
   ],
   "source": [
    "type(data)"
   ]
  },
  {
   "cell_type": "code",
   "execution_count": 30,
   "metadata": {},
   "outputs": [
    {
     "data": {
      "text/plain": [
       "['게시자:', 'GongbroDesk', '7개월', '전', '10시간', '19분', '조회수', '29,497회']"
      ]
     },
     "execution_count": 30,
     "metadata": {},
     "output_type": "execute_result"
    }
   ],
   "source": [
    "len = data.find(\"게시자\")\n",
    "item = data[len:].split() ; item"
   ]
  },
  {
   "cell_type": "code",
   "execution_count": 31,
   "metadata": {},
   "outputs": [
    {
     "data": {
      "text/plain": [
       "'GongbroDesk'"
      ]
     },
     "execution_count": 31,
     "metadata": {},
     "output_type": "execute_result"
    }
   ],
   "source": [
    "# 채널명 \n",
    "item[1]"
   ]
  },
  {
   "cell_type": "code",
   "execution_count": 32,
   "metadata": {},
   "outputs": [
    {
     "data": {
      "text/plain": [
       "'파이썬 데이터 분석 - 설치부터 라이브러리 예제까지 (feat. 넘파이, 맷플롯립, 판다스)'"
      ]
     },
     "execution_count": 32,
     "metadata": {},
     "output_type": "execute_result"
    }
   ],
   "source": [
    "# 제목 \n",
    "data[:len-1]"
   ]
  },
  {
   "cell_type": "code",
   "execution_count": 35,
   "metadata": {},
   "outputs": [
    {
     "data": {
      "text/plain": [
       "'https://www.youtube.com//watch?v=8_VWnRvbGPs'"
      ]
     },
     "execution_count": 35,
     "metadata": {},
     "output_type": "execute_result"
    }
   ],
   "source": [
    "# 영상 링크 \n",
    "youtube_base_url = \"https://www.youtube.com/\"\n",
    "youtube_base_url + video.find(\"a\")[\"href\"]"
   ]
  },
  {
   "cell_type": "code",
   "execution_count": 37,
   "metadata": {},
   "outputs": [
    {
     "data": {
      "text/plain": [
       "'29,497회'"
      ]
     },
     "execution_count": 37,
     "metadata": {},
     "output_type": "execute_result"
    }
   ],
   "source": [
    "# 조회수\n",
    "item[-1]"
   ]
  },
  {
   "cell_type": "code",
   "execution_count": 39,
   "metadata": {},
   "outputs": [
    {
     "data": {
      "text/plain": [
       "'7개월전'"
      ]
     },
     "execution_count": 39,
     "metadata": {},
     "output_type": "execute_result"
    }
   ],
   "source": [
    "# 영상 등록 날짜 \n",
    "item[2]+item[3]"
   ]
  },
  {
   "cell_type": "code",
   "execution_count": null,
   "metadata": {},
   "outputs": [],
   "source": []
  },
  {
   "cell_type": "code",
   "execution_count": null,
   "metadata": {},
   "outputs": [],
   "source": []
  },
  {
   "cell_type": "markdown",
   "metadata": {},
   "source": [
    "##  ( 재생목록 보기 타입 ) "
   ]
  },
  {
   "cell_type": "code",
   "execution_count": 44,
   "metadata": {},
   "outputs": [
    {
     "name": "stdout",
     "output_type": "stream",
     "text": [
      " 6. 재생목록 타입 추출   !!!!!!\n",
      " 7. 재생목록  타입 완료 =  (5, 4)\n"
     ]
    }
   ],
   "source": [
    "print(\" 6. 재생목록 타입 추출   !!!!!!\")\n",
    "\n",
    "#lis = soup.find_all(\"h3\",{\"class\":\"title-and-badge style-scope ytd-video-renderer\"})\n",
    "lis1 = soup.find_all(\"div\",{\"class\":\"style-scope ytd-playlist-renderer\"})\n",
    "\n",
    "video_playlist = []\n",
    "\n",
    "for video in lis1:\n",
    "    channel = video.find(\"div\",{\"id\":\"tooltip\"}).text.strip()\n",
    "    title = video.find(\"span\")[\"title\"]\n",
    "    play_link = youtube_base_url+video.find(\"a\")[\"href\"]\n",
    "    \n",
    "#     print(channel, \" * \", title, \" * \", play_link )    \n",
    "    video_playlist.append([channel, title, play_link])\n",
    "    \n",
    "# 추출한 list로 dataframe 만들기 \n",
    "df_video_playlist = pd.DataFrame(video_playlist)\n",
    "\n",
    "# 컬럼 만들기\n",
    "df_video_playlist.columns = [\"채널명\",\"재생목록제목\",\"재생목록url\"]\n",
    "\n",
    "# 재생목록 영상수 \n",
    "video_count = soup.find_all(\"yt-formatted-string\",{\"class\":\"style-scope ytd-thumbnail-overlay-side-panel-renderer\"})\n",
    "\n",
    "video_count_list= []\n",
    "for item in video_count:\n",
    "    video_count_list.append(item.text)\n",
    "video_count_list\n",
    "\n",
    "# 영상수 컬럼 추가 \n",
    "df_video_playlist[\"영상수\"] = video_count_list\n",
    "\n",
    "print(\" 7. 재생목록  타입 완료 = \", df_video_playlist.shape)"
   ]
  },
  {
   "cell_type": "code",
   "execution_count": 61,
   "metadata": {},
   "outputs": [
    {
     "data": {
      "text/plain": [
       "[['한빛미디어',\n",
       "  '이것이 데이터 분석이다 with 파이썬',\n",
       "  'https://www.youtube.com//watch?v=K0YPltIT7jc&list=PLVsNizTWUw7FmLj3IMECoauQ_-DUbNF0M'],\n",
       " ['메모밍 채널 ( Channel Memoming )',\n",
       "  '[Python] 데이터분석을 위한 파이썬',\n",
       "  'https://www.youtube.com//watch?v=XjfUcQk8PiE&list=PL-QFFQeuiKKsvRLFeOgu594EmqdM-9ZBI'],\n",
       " ['동빈나',\n",
       "  'Python 데이터 분석과 이미지 처리',\n",
       "  'https://www.youtube.com//watch?v=V8Lpf3WCZ4g&list=PLRx0vPvlEmdBx9X5xSgcEk4CEbzEiws8C'],\n",
       " ['리송스쿨',\n",
       "  '왕초보들을 위한 데이터분석 강의! 모두의 데이터분석 with 파이썬',\n",
       "  'https://www.youtube.com//watch?v=9-_UWTPRlQI&list=PLZOZh8ZFHaxAZAdCK_8Ae54upoYkWqB25'],\n",
       " ['todaycode오늘코드',\n",
       "  '파이썬 공공데이터 분석',\n",
       "  'https://www.youtube.com//watch?v=H6-Y-sipgCk&list=PLaTc2c6yEwmpoDDdE9C1p0xfQXz6eEzmH']]"
      ]
     },
     "execution_count": 61,
     "metadata": {},
     "output_type": "execute_result"
    }
   ],
   "source": [
    "video_playlist"
   ]
  },
  {
   "cell_type": "code",
   "execution_count": 62,
   "metadata": {},
   "outputs": [
    {
     "data": {
      "text/html": [
       "<div>\n",
       "<style scoped>\n",
       "    .dataframe tbody tr th:only-of-type {\n",
       "        vertical-align: middle;\n",
       "    }\n",
       "\n",
       "    .dataframe tbody tr th {\n",
       "        vertical-align: top;\n",
       "    }\n",
       "\n",
       "    .dataframe thead th {\n",
       "        text-align: right;\n",
       "    }\n",
       "</style>\n",
       "<table border=\"1\" class=\"dataframe\">\n",
       "  <thead>\n",
       "    <tr style=\"text-align: right;\">\n",
       "      <th></th>\n",
       "      <th>채널명</th>\n",
       "      <th>재생목록제목</th>\n",
       "      <th>재생목록url</th>\n",
       "      <th>영상수</th>\n",
       "    </tr>\n",
       "  </thead>\n",
       "  <tbody>\n",
       "    <tr>\n",
       "      <th>0</th>\n",
       "      <td>한빛미디어</td>\n",
       "      <td>이것이 데이터 분석이다 with 파이썬</td>\n",
       "      <td>https://www.youtube.com//watch?v=K0YPltIT7jc&amp;l...</td>\n",
       "      <td>21</td>\n",
       "    </tr>\n",
       "    <tr>\n",
       "      <th>1</th>\n",
       "      <td>메모밍 채널 ( Channel Memoming )</td>\n",
       "      <td>[Python] 데이터분석을 위한 파이썬</td>\n",
       "      <td>https://www.youtube.com//watch?v=XjfUcQk8PiE&amp;l...</td>\n",
       "      <td>9</td>\n",
       "    </tr>\n",
       "    <tr>\n",
       "      <th>2</th>\n",
       "      <td>동빈나</td>\n",
       "      <td>Python 데이터 분석과 이미지 처리</td>\n",
       "      <td>https://www.youtube.com//watch?v=V8Lpf3WCZ4g&amp;l...</td>\n",
       "      <td>31</td>\n",
       "    </tr>\n",
       "    <tr>\n",
       "      <th>3</th>\n",
       "      <td>리송스쿨</td>\n",
       "      <td>왕초보들을 위한 데이터분석 강의! 모두의 데이터분석 with 파이썬</td>\n",
       "      <td>https://www.youtube.com//watch?v=9-_UWTPRlQI&amp;l...</td>\n",
       "      <td>18</td>\n",
       "    </tr>\n",
       "    <tr>\n",
       "      <th>4</th>\n",
       "      <td>todaycode오늘코드</td>\n",
       "      <td>파이썬 공공데이터 분석</td>\n",
       "      <td>https://www.youtube.com//watch?v=H6-Y-sipgCk&amp;l...</td>\n",
       "      <td>45</td>\n",
       "    </tr>\n",
       "  </tbody>\n",
       "</table>\n",
       "</div>"
      ],
      "text/plain": [
       "                           채널명                                 재생목록제목  \\\n",
       "0                        한빛미디어                  이것이 데이터 분석이다 with 파이썬   \n",
       "1  메모밍 채널 ( Channel Memoming )                 [Python] 데이터분석을 위한 파이썬   \n",
       "2                          동빈나                  Python 데이터 분석과 이미지 처리   \n",
       "3                         리송스쿨  왕초보들을 위한 데이터분석 강의! 모두의 데이터분석 with 파이썬   \n",
       "4                todaycode오늘코드                           파이썬 공공데이터 분석   \n",
       "\n",
       "                                             재생목록url 영상수  \n",
       "0  https://www.youtube.com//watch?v=K0YPltIT7jc&l...  21  \n",
       "1  https://www.youtube.com//watch?v=XjfUcQk8PiE&l...   9  \n",
       "2  https://www.youtube.com//watch?v=V8Lpf3WCZ4g&l...  31  \n",
       "3  https://www.youtube.com//watch?v=9-_UWTPRlQI&l...  18  \n",
       "4  https://www.youtube.com//watch?v=H6-Y-sipgCk&l...  45  "
      ]
     },
     "execution_count": 62,
     "metadata": {},
     "output_type": "execute_result"
    }
   ],
   "source": [
    "df_video_playlist.head()"
   ]
  },
  {
   "cell_type": "code",
   "execution_count": null,
   "metadata": {},
   "outputs": [],
   "source": []
  },
  {
   "cell_type": "code",
   "execution_count": null,
   "metadata": {},
   "outputs": [],
   "source": []
  },
  {
   "cell_type": "code",
   "execution_count": 47,
   "metadata": {},
   "outputs": [
    {
     "data": {
      "text/plain": [
       "<div class=\"style-scope ytd-playlist-renderer\" id=\"content\">\n",
       "<a class=\"yt-simple-endpoint style-scope ytd-playlist-renderer\" href=\"/watch?v=K0YPltIT7jc&amp;list=PLVsNizTWUw7FmLj3IMECoauQ_-DUbNF0M\">\n",
       "<h3 class=\"style-scope ytd-playlist-renderer\">\n",
       "<ytd-badge-supported-renderer class=\"style-scope ytd-playlist-renderer\" disable-upgrade=\"\" hidden=\"\">\n",
       "</ytd-badge-supported-renderer>\n",
       "<span class=\"style-scope ytd-playlist-renderer\" id=\"video-title\" title=\"이것이 데이터 분석이다 with 파이썬\">\n",
       "        이것이 데이터 분석이다 with 파이썬\n",
       "      </span>\n",
       "</h3>\n",
       "<ytd-video-meta-block class=\"style-scope ytd-playlist-renderer\" id=\"meta\"><!--css-build:shady-->\n",
       "<div class=\"style-scope ytd-video-meta-block\" id=\"metadata\">\n",
       "<div class=\"style-scope ytd-video-meta-block\" id=\"byline-container\">\n",
       "<ytd-channel-name class=\"style-scope ytd-video-meta-block\" id=\"channel-name\"><!--css-build:shady--><div class=\"style-scope ytd-channel-name\" id=\"container\">\n",
       "<div class=\"style-scope ytd-channel-name\" id=\"text-container\">\n",
       "<yt-formatted-string class=\"style-scope ytd-channel-name complex-string\" ellipsis-truncate=\"\" has-link-only_=\"\" id=\"text\" title=\"\"><a class=\"yt-simple-endpoint style-scope yt-formatted-string\" dir=\"auto\" href=\"/user/HanbitMedia93\" spellcheck=\"false\">한빛미디어</a></yt-formatted-string>\n",
       "</div>\n",
       "<tp-yt-paper-tooltip class=\"style-scope ytd-channel-name\" fit-to-visible-bounds=\"\" role=\"tooltip\" tabindex=\"-1\"><!--css-build:shady--><div class=\"hidden style-scope tp-yt-paper-tooltip\" id=\"tooltip\">\n",
       "  \n",
       "    한빛미디어\n",
       "  \n",
       "</div>\n",
       "</tp-yt-paper-tooltip>\n",
       "</div>\n",
       "<ytd-badge-supported-renderer class=\"style-scope ytd-channel-name\" disable-upgrade=\"\" hidden=\"\">\n",
       "</ytd-badge-supported-renderer>\n",
       "</ytd-channel-name>\n",
       "<div class=\"style-scope ytd-video-meta-block\" id=\"separator\">•</div>\n",
       "</div>\n",
       "<div class=\"style-scope ytd-video-meta-block\" id=\"metadata-line\">\n",
       "<dom-repeat class=\"style-scope ytd-video-meta-block\" strip-whitespace=\"\"><template is=\"dom-repeat\"></template></dom-repeat>\n",
       "</div>\n",
       "</div>\n",
       "<div class=\"style-scope ytd-video-meta-block\" id=\"additional-metadata-line\">\n",
       "<dom-repeat class=\"style-scope ytd-video-meta-block\"><template is=\"dom-repeat\"></template></dom-repeat>\n",
       "</div>\n",
       "</ytd-video-meta-block>\n",
       "</a>\n",
       "<ytd-badge-supported-renderer class=\"allowlisted-metadata-badges style-scope ytd-playlist-renderer\" hidden=\"\"><!--css-build:shady--><dom-repeat as=\"badge\" class=\"style-scope ytd-badge-supported-renderer\" id=\"repeat\"><template is=\"dom-repeat\"></template></dom-repeat>\n",
       "</ytd-badge-supported-renderer>\n",
       "<yt-formatted-string class=\"style-scope ytd-playlist-renderer\" hidden=\"\" id=\"description-text\"><!--css-build:shady--></yt-formatted-string>\n",
       "<ul class=\"style-scope ytd-playlist-renderer\" id=\"list\">\n",
       "<li class=\"style-scope ytd-playlist-renderer\">\n",
       "<ytd-child-video-renderer class=\"style-scope ytd-playlist-renderer\"><!--css-build:shady--><a class=\"yt-simple-endpoint style-scope ytd-child-video-renderer\" href=\"/watch?v=K0YPltIT7jc&amp;list=PLVsNizTWUw7FmLj3IMECoauQ_-DUbNF0M\" id=\"title\"><yt-formatted-string class=\"style-scope ytd-child-video-renderer\" ellipsis-truncate=\"\" id=\"video-title\" title=\"[이것이 데이터 분석이다 with 파이썬_00] 왜 Data Science 인가? 탐색, 시각화, 목적 정리\">[이것이 데이터 분석이다 with 파이썬_00] 왜 Data Science 인가? 탐색, 시각화, 목적 정리</yt-formatted-string><div class=\"style-scope ytd-child-video-renderer\" id=\"length\">6:16</div></a></ytd-child-video-renderer>\n",
       "</li>\n",
       "<li class=\"style-scope ytd-playlist-renderer\">\n",
       "<ytd-child-video-renderer class=\"style-scope ytd-playlist-renderer\"><!--css-build:shady--><a class=\"yt-simple-endpoint style-scope ytd-child-video-renderer\" href=\"/watch?v=nSEkwomMtxs&amp;list=PLVsNizTWUw7FmLj3IMECoauQ_-DUbNF0M\" id=\"title\"><yt-formatted-string class=\"style-scope ytd-child-video-renderer\" ellipsis-truncate=\"\" id=\"video-title\" title=\"[이것이 데이터 분석이다 with 파이썬_01] 분석 환경 구축하기 주피터 노트북, 아나콘다 설치\">[이것이 데이터 분석이다 with 파이썬_01] 분석 환경 구축하기 주피터 노트북, 아나콘다 설치</yt-formatted-string><div class=\"style-scope ytd-child-video-renderer\" id=\"length\">12:24</div></a></ytd-child-video-renderer>\n",
       "</li>\n",
       "<dom-repeat as=\"video\" class=\"style-scope ytd-playlist-renderer\"><template is=\"dom-repeat\"></template></dom-repeat>\n",
       "</ul>\n",
       "<yt-formatted-string class=\"style-scope ytd-playlist-renderer\" has-link-only_=\"\" id=\"view-more\"><a class=\"yt-simple-endpoint style-scope yt-formatted-string\" dir=\"auto\" href=\"/playlist?list=PLVsNizTWUw7FmLj3IMECoauQ_-DUbNF0M\" spellcheck=\"false\">모든 재생목록 보기</a></yt-formatted-string>\n",
       "<ytd-badge-supported-renderer class=\"style-scope ytd-playlist-renderer\" disable-upgrade=\"\" hidden=\"\" id=\"badges\" role=\"text\">\n",
       "</ytd-badge-supported-renderer>\n",
       "</div>"
      ]
     },
     "execution_count": 47,
     "metadata": {},
     "output_type": "execute_result"
    }
   ],
   "source": [
    "video = lis1[0] ; video"
   ]
  },
  {
   "cell_type": "code",
   "execution_count": 55,
   "metadata": {},
   "outputs": [
    {
     "data": {
      "text/plain": [
       "'한빛미디어'"
      ]
     },
     "execution_count": 55,
     "metadata": {},
     "output_type": "execute_result"
    }
   ],
   "source": [
    "# 채널명 \n",
    "video.find(\"div\",{\"id\":\"tooltip\"}).text.replace(\"\\n\",\"\").strip()"
   ]
  },
  {
   "cell_type": "code",
   "execution_count": 57,
   "metadata": {},
   "outputs": [
    {
     "data": {
      "text/plain": [
       "'이것이 데이터 분석이다 with 파이썬'"
      ]
     },
     "execution_count": 57,
     "metadata": {},
     "output_type": "execute_result"
    }
   ],
   "source": [
    "## 타이틀\n",
    "video.find(\"span\")[\"title\"]"
   ]
  },
  {
   "cell_type": "code",
   "execution_count": 60,
   "metadata": {},
   "outputs": [
    {
     "data": {
      "text/plain": [
       "'https://www.youtube.com//watch?v=K0YPltIT7jc&list=PLVsNizTWUw7FmLj3IMECoauQ_-DUbNF0M'"
      ]
     },
     "execution_count": 60,
     "metadata": {},
     "output_type": "execute_result"
    }
   ],
   "source": [
    "## 재생목록 \n",
    "youtube_base_url + video.find(\"a\")[\"href\"]"
   ]
  },
  {
   "cell_type": "code",
   "execution_count": null,
   "metadata": {},
   "outputs": [],
   "source": []
  },
  {
   "cell_type": "code",
   "execution_count": 5,
   "metadata": {},
   "outputs": [
    {
     "data": {
      "text/html": [
       "<div>\n",
       "<style scoped>\n",
       "    .dataframe tbody tr th:only-of-type {\n",
       "        vertical-align: middle;\n",
       "    }\n",
       "\n",
       "    .dataframe tbody tr th {\n",
       "        vertical-align: top;\n",
       "    }\n",
       "\n",
       "    .dataframe thead th {\n",
       "        text-align: right;\n",
       "    }\n",
       "</style>\n",
       "<table border=\"1\" class=\"dataframe\">\n",
       "  <thead>\n",
       "    <tr style=\"text-align: right;\">\n",
       "      <th></th>\n",
       "      <th>채널명</th>\n",
       "      <th>영상제목</th>\n",
       "      <th>영상url</th>\n",
       "      <th>조회수</th>\n",
       "      <th>영상등록날짜</th>\n",
       "    </tr>\n",
       "  </thead>\n",
       "  <tbody>\n",
       "    <tr>\n",
       "      <th>0</th>\n",
       "      <td>GongbroDesk</td>\n",
       "      <td>파이썬 데이터 분석 - 설치부터 라이브러리 예제까지 (feat. 넘파이, 맷플롯립,...</td>\n",
       "      <td>https://www.youtube.com//watch?v=8_VWnRvbGPs</td>\n",
       "      <td>28,790회</td>\n",
       "      <td>7개월전</td>\n",
       "    </tr>\n",
       "    <tr>\n",
       "      <th>1</th>\n",
       "      <td>데이터</td>\n",
       "      <td>파이썬 판다스로 회사 엑셀데이터 전처리 하는 방법 ! 1탄 (Python / Pan...</td>\n",
       "      <td>https://www.youtube.com//watch?v=3-iwY0_u0VA</td>\n",
       "      <td>5,799회</td>\n",
       "      <td>스테이션5개월</td>\n",
       "    </tr>\n",
       "    <tr>\n",
       "      <th>2</th>\n",
       "      <td>Visualising</td>\n",
       "      <td>무슨 분석 툴을 배워야 할까? - 실제 데이터 과학/데이터 분석 업계에서의 R 과 ...</td>\n",
       "      <td>https://www.youtube.com//watch?v=1e2IjkDYE_8</td>\n",
       "      <td>25,624회</td>\n",
       "      <td>Korea1년</td>\n",
       "    </tr>\n",
       "  </tbody>\n",
       "</table>\n",
       "</div>"
      ],
      "text/plain": [
       "           채널명                                               영상제목  \\\n",
       "0  GongbroDesk  파이썬 데이터 분석 - 설치부터 라이브러리 예제까지 (feat. 넘파이, 맷플롯립,...   \n",
       "1          데이터  파이썬 판다스로 회사 엑셀데이터 전처리 하는 방법 ! 1탄 (Python / Pan...   \n",
       "2  Visualising  무슨 분석 툴을 배워야 할까? - 실제 데이터 과학/데이터 분석 업계에서의 R 과 ...   \n",
       "\n",
       "                                          영상url      조회수   영상등록날짜  \n",
       "0  https://www.youtube.com//watch?v=8_VWnRvbGPs  28,790회     7개월전  \n",
       "1  https://www.youtube.com//watch?v=3-iwY0_u0VA   5,799회  스테이션5개월  \n",
       "2  https://www.youtube.com//watch?v=1e2IjkDYE_8  25,624회  Korea1년  "
      ]
     },
     "execution_count": 5,
     "metadata": {},
     "output_type": "execute_result"
    }
   ],
   "source": [
    "df_video_item.head(3)"
   ]
  },
  {
   "cell_type": "code",
   "execution_count": 6,
   "metadata": {},
   "outputs": [
    {
     "data": {
      "text/html": [
       "<div>\n",
       "<style scoped>\n",
       "    .dataframe tbody tr th:only-of-type {\n",
       "        vertical-align: middle;\n",
       "    }\n",
       "\n",
       "    .dataframe tbody tr th {\n",
       "        vertical-align: top;\n",
       "    }\n",
       "\n",
       "    .dataframe thead th {\n",
       "        text-align: right;\n",
       "    }\n",
       "</style>\n",
       "<table border=\"1\" class=\"dataframe\">\n",
       "  <thead>\n",
       "    <tr style=\"text-align: right;\">\n",
       "      <th></th>\n",
       "      <th>채널명</th>\n",
       "      <th>재생목록제목</th>\n",
       "      <th>재생목록url</th>\n",
       "      <th>영상수</th>\n",
       "    </tr>\n",
       "  </thead>\n",
       "  <tbody>\n",
       "    <tr>\n",
       "      <th>0</th>\n",
       "      <td>한빛미디어</td>\n",
       "      <td>이것이 데이터 분석이다 with 파이썬</td>\n",
       "      <td>https://www.youtube.com//watch?v=K0YPltIT7jc&amp;l...</td>\n",
       "      <td>21</td>\n",
       "    </tr>\n",
       "    <tr>\n",
       "      <th>1</th>\n",
       "      <td>메모밍 채널 ( Channel Memoming )</td>\n",
       "      <td>[Python] 데이터분석을 위한 파이썬</td>\n",
       "      <td>https://www.youtube.com//watch?v=XjfUcQk8PiE&amp;l...</td>\n",
       "      <td>9</td>\n",
       "    </tr>\n",
       "    <tr>\n",
       "      <th>2</th>\n",
       "      <td>동빈나</td>\n",
       "      <td>Python 데이터 분석과 이미지 처리</td>\n",
       "      <td>https://www.youtube.com//watch?v=V8Lpf3WCZ4g&amp;l...</td>\n",
       "      <td>31</td>\n",
       "    </tr>\n",
       "  </tbody>\n",
       "</table>\n",
       "</div>"
      ],
      "text/plain": [
       "                           채널명                  재생목록제목  \\\n",
       "0                        한빛미디어   이것이 데이터 분석이다 with 파이썬   \n",
       "1  메모밍 채널 ( Channel Memoming )  [Python] 데이터분석을 위한 파이썬   \n",
       "2                          동빈나   Python 데이터 분석과 이미지 처리   \n",
       "\n",
       "                                             재생목록url 영상수  \n",
       "0  https://www.youtube.com//watch?v=K0YPltIT7jc&l...  21  \n",
       "1  https://www.youtube.com//watch?v=XjfUcQk8PiE&l...   9  \n",
       "2  https://www.youtube.com//watch?v=V8Lpf3WCZ4g&l...  31  "
      ]
     },
     "execution_count": 6,
     "metadata": {},
     "output_type": "execute_result"
    }
   ],
   "source": [
    "df_video_playlist.head(3)"
   ]
  },
  {
   "cell_type": "code",
   "execution_count": null,
   "metadata": {},
   "outputs": [],
   "source": []
  },
  {
   "cell_type": "markdown",
   "metadata": {},
   "source": [
    "### ( type 2 ) "
   ]
  },
  {
   "cell_type": "code",
   "execution_count": 64,
   "metadata": {},
   "outputs": [
    {
     "name": "stdout",
     "output_type": "stream",
     "text": [
      "item =  파이썬 데이터 분석 - 설치부터 라이브러리 예제까지 (feat. 넘파이, 맷플롯립, 판다스) 게시자: GongbroDesk 7개월 전 10시간 19분 조회수 29,497회\n",
      "link =  /watch?v=8_VWnRvbGPs\n"
     ]
    }
   ],
   "source": [
    "video_list = soup.select('a#video-title')\n",
    "\n",
    "item = video_list[0]\n",
    "\n",
    "print(\"item = \", item.get(\"aria-label\"))\n",
    "print(\"link = \", item.get(\"href\"))"
   ]
  },
  {
   "cell_type": "code",
   "execution_count": null,
   "metadata": {},
   "outputs": [],
   "source": []
  },
  {
   "cell_type": "markdown",
   "metadata": {},
   "source": [
    "## ( type 3 ) "
   ]
  },
  {
   "cell_type": "code",
   "execution_count": 65,
   "metadata": {},
   "outputs": [],
   "source": [
    "# 영상 제목 list\n",
    "title = soup.select(\".title-and-badge > #video-title\")\n",
    "title_list = [item[\"title\"] for item in title]\n",
    "\n",
    "# 채널명 list\n",
    "channel_name = soup.select(\"#channel-info #text > a\")\n",
    "channel_list = [item.text for item in channel_name]\n",
    "\n",
    "# 영상 url list\n",
    "youtube_url = \"https://www.youtube.com/channel\"\n",
    "url_list = [youtube_url + item[\"href\"] for item in channel_name]"
   ]
  },
  {
   "cell_type": "code",
   "execution_count": null,
   "metadata": {},
   "outputs": [],
   "source": []
  },
  {
   "cell_type": "code",
   "execution_count": 66,
   "metadata": {},
   "outputs": [
    {
     "data": {
      "text/html": [
       "<div>\n",
       "<style scoped>\n",
       "    .dataframe tbody tr th:only-of-type {\n",
       "        vertical-align: middle;\n",
       "    }\n",
       "\n",
       "    .dataframe tbody tr th {\n",
       "        vertical-align: top;\n",
       "    }\n",
       "\n",
       "    .dataframe thead th {\n",
       "        text-align: right;\n",
       "    }\n",
       "</style>\n",
       "<table border=\"1\" class=\"dataframe\">\n",
       "  <thead>\n",
       "    <tr style=\"text-align: right;\">\n",
       "      <th></th>\n",
       "      <th>제목</th>\n",
       "      <th>채널명</th>\n",
       "      <th>영상url</th>\n",
       "    </tr>\n",
       "  </thead>\n",
       "  <tbody>\n",
       "    <tr>\n",
       "      <th>0</th>\n",
       "      <td>파이썬 데이터 분석 - 설치부터 라이브러리 예제까지 (feat. 넘파이, 맷플롯립,...</td>\n",
       "      <td>GongbroDesk</td>\n",
       "      <td>https://www.youtube.com/channel/channel/UCo82I...</td>\n",
       "    </tr>\n",
       "    <tr>\n",
       "      <th>1</th>\n",
       "      <td>파이썬 판다스로 회사 엑셀데이터 전처리 하는 방법 ! 1탄 (Python / Pan...</td>\n",
       "      <td>데이터 스테이션</td>\n",
       "      <td>https://www.youtube.com/channel/channel/UCyc4x...</td>\n",
       "    </tr>\n",
       "    <tr>\n",
       "      <th>2</th>\n",
       "      <td>[1/29] 파이썬 데이터 분석을 위한 Pandas 기초 - 판다스 10분 완성소개...</td>\n",
       "      <td>todaycode오늘코드</td>\n",
       "      <td>https://www.youtube.com/channel/channel/UCLR3s...</td>\n",
       "    </tr>\n",
       "    <tr>\n",
       "      <th>3</th>\n",
       "      <td>자전거 수요 예측[1/4] 캐글 머신러닝 탐색적 데이터 분석</td>\n",
       "      <td>todaycode오늘코드</td>\n",
       "      <td>https://www.youtube.com/channel/channel/UCLR3s...</td>\n",
       "    </tr>\n",
       "    <tr>\n",
       "      <th>4</th>\n",
       "      <td>구글 코랩(Colab) 이용하여 파이썬 데이터 분석 공부와 머신러닝 공부를 하세요</td>\n",
       "      <td>보안프로젝트[boanproject]</td>\n",
       "      <td>https://www.youtube.com/channel/user/ngnicky1209</td>\n",
       "    </tr>\n",
       "    <tr>\n",
       "      <th>5</th>\n",
       "      <td>25분만에 끝내는 데이터분석, 머신러닝을 위한 기본 파이썬</td>\n",
       "      <td>테디노트</td>\n",
       "      <td>https://www.youtube.com/channel/channel/UCt2wA...</td>\n",
       "    </tr>\n",
       "    <tr>\n",
       "      <th>6</th>\n",
       "      <td>무슨 분석 툴을 배워야 할까? - 실제 데이터 과학/데이터 분석 업계에서의 R 과 ...</td>\n",
       "      <td>Visualising Korea</td>\n",
       "      <td>https://www.youtube.com/channel/channel/UCbBev...</td>\n",
       "    </tr>\n",
       "    <tr>\n",
       "      <th>7</th>\n",
       "      <td>[1/5] 파이썬 데이터 분석 - 전국 도시 공원 표준 데이터 불러오기, 요약하기</td>\n",
       "      <td>todaycode오늘코드</td>\n",
       "      <td>https://www.youtube.com/channel/channel/UCLR3s...</td>\n",
       "    </tr>\n",
       "    <tr>\n",
       "      <th>8</th>\n",
       "      <td>파이썬 주식 투자 자동화 무료 강의 시작합니다</td>\n",
       "      <td>조코딩 JoCoding</td>\n",
       "      <td>https://www.youtube.com/channel/channel/UCQNE2...</td>\n",
       "    </tr>\n",
       "    <tr>\n",
       "      <th>9</th>\n",
       "      <td>[경험] 파이썬 주식자동매매 프로그램을 만들고도 이용하지 않는 이유 ((실전 자동매...</td>\n",
       "      <td>Tokuni TV</td>\n",
       "      <td>https://www.youtube.com/channel/channel/UCGYFo...</td>\n",
       "    </tr>\n",
       "    <tr>\n",
       "      <th>10</th>\n",
       "      <td>데이터 엔지니어 vs 데이터 분석가 vs 데이터 사이언티스트 연봉 KING 전망 K...</td>\n",
       "      <td>매일경제 에브리데이</td>\n",
       "      <td>https://www.youtube.com/channel/channel/UCIipm...</td>\n",
       "    </tr>\n",
       "    <tr>\n",
       "      <th>11</th>\n",
       "      <td>파이썬 코딩 무료 강의 (기본편) - 6시간 뒤면 여러분도 개발자가 될 수 있어요 ...</td>\n",
       "      <td>나도코딩</td>\n",
       "      <td>https://www.youtube.com/channel/channel/UC7iAO...</td>\n",
       "    </tr>\n",
       "    <tr>\n",
       "      <th>12</th>\n",
       "      <td>[통계, 파이썬] 데이터분석 능력 기르기 1. 이건 알고 시작하자.</td>\n",
       "      <td>Data Scientist이지영</td>\n",
       "      <td>https://www.youtube.com/channel/channel/UC2Bre...</td>\n",
       "    </tr>\n",
       "    <tr>\n",
       "      <th>13</th>\n",
       "      <td>파이썬으로 일상의 데이터를 분석하는 법! 코로나 데이터를 분석해 봐요!</td>\n",
       "      <td>온라인 코딩 스쿨 코드잇</td>\n",
       "      <td>https://www.youtube.com/channel/channel/UCCM79...</td>\n",
       "    </tr>\n",
       "    <tr>\n",
       "      <th>14</th>\n",
       "      <td>[파이썬] 데이터 분석을 위한 파이썬 [08] Pandas (Python for D...</td>\n",
       "      <td>메모밍 채널 ( Channel Memoming )</td>\n",
       "      <td>https://www.youtube.com/channel/channel/UCd2xY...</td>\n",
       "    </tr>\n",
       "    <tr>\n",
       "      <th>15</th>\n",
       "      <td>[매일10분 데이터 분석] 데이터 시각화를 쉽게 해보자 ! (Python / 그래프...</td>\n",
       "      <td>데이터 스테이션</td>\n",
       "      <td>https://www.youtube.com/channel/channel/UCyc4x...</td>\n",
       "    </tr>\n",
       "    <tr>\n",
       "      <th>16</th>\n",
       "      <td>Python Pandas 실무 데이터 분석 1탄 (Series / Dataframe...</td>\n",
       "      <td>데이터 스테이션</td>\n",
       "      <td>https://www.youtube.com/channel/channel/UCyc4x...</td>\n",
       "    </tr>\n",
       "    <tr>\n",
       "      <th>17</th>\n",
       "      <td>12-1. 파이썬 데이터 분석 소개 및 csv 파일 데이터 읽어오기 (What is...</td>\n",
       "      <td>파이썬멘토 조인석</td>\n",
       "      <td>https://www.youtube.com/channel/user/kakigo4u</td>\n",
       "    </tr>\n",
       "    <tr>\n",
       "      <th>18</th>\n",
       "      <td>[통계, 파이썬] 데이터분석 능력 기르기 2. 빅데이터의 저주, 파이썬으로 구현하기</td>\n",
       "      <td>Data Scientist이지영</td>\n",
       "      <td>https://www.youtube.com/channel/channel/UC2Bre...</td>\n",
       "    </tr>\n",
       "    <tr>\n",
       "      <th>19</th>\n",
       "      <td>김도형: 파이썬 데이터 분석 3종 세트 - statsmodels, scikit-le...</td>\n",
       "      <td>PyCon Korea</td>\n",
       "      <td>https://www.youtube.com/channel/channel/UC26x6...</td>\n",
       "    </tr>\n",
       "    <tr>\n",
       "      <th>20</th>\n",
       "      <td>Numpy의 기본 사용법 [ Python 데이터 분석과 이미지 처리 ]</td>\n",
       "      <td>동빈나</td>\n",
       "      <td>https://www.youtube.com/channel/channel/UChflh...</td>\n",
       "    </tr>\n",
       "    <tr>\n",
       "      <th>21</th>\n",
       "      <td>머신러닝, 데이터분석 공부 고민만 하는 분께 l 파이썬 공부 이유 l 머신러닝 공부 순서</td>\n",
       "      <td>꽃부리 AI With SJ</td>\n",
       "      <td>https://www.youtube.com/channel/channel/UCUdyx...</td>\n",
       "    </tr>\n",
       "    <tr>\n",
       "      <th>22</th>\n",
       "      <td>Pandas의 기본 사용법 [ Python 데이터 분석과 이미지 처리 ]</td>\n",
       "      <td>동빈나</td>\n",
       "      <td>https://www.youtube.com/channel/channel/UChflh...</td>\n",
       "    </tr>\n",
       "    <tr>\n",
       "      <th>23</th>\n",
       "      <td>[1/7] Python, Pandas,  folium으로 스타벅스, 이디야 매장 위...</td>\n",
       "      <td>todaycode오늘코드</td>\n",
       "      <td>https://www.youtube.com/channel/channel/UCLR3s...</td>\n",
       "    </tr>\n",
       "    <tr>\n",
       "      <th>24</th>\n",
       "      <td>[이것이 데이터 분석이다 with 파이썬_11] 시계열 예측 분석</td>\n",
       "      <td>한빛미디어</td>\n",
       "      <td>https://www.youtube.com/channel/user/HanbitMed...</td>\n",
       "    </tr>\n",
       "    <tr>\n",
       "      <th>25</th>\n",
       "      <td>[파이썬] 데이터 분석을 위한 파이썬 [06] 함수와 모듈 (Python for D...</td>\n",
       "      <td>메모밍 채널 ( Channel Memoming )</td>\n",
       "      <td>https://www.youtube.com/channel/channel/UCd2xY...</td>\n",
       "    </tr>\n",
       "    <tr>\n",
       "      <th>26</th>\n",
       "      <td>[스파르타온라인] 파이썬 데이터분석 첫걸음</td>\n",
       "      <td>스파르타 코딩클럽</td>\n",
       "      <td>https://www.youtube.com/channel/channel/UC2Fh3...</td>\n",
       "    </tr>\n",
       "    <tr>\n",
       "      <th>27</th>\n",
       "      <td>[2/5] 파이썬 데이터 분석 - 주소 및 사용하지 않는 컬럼 결측치 처리</td>\n",
       "      <td>todaycode오늘코드</td>\n",
       "      <td>https://www.youtube.com/channel/channel/UCLR3s...</td>\n",
       "    </tr>\n",
       "    <tr>\n",
       "      <th>28</th>\n",
       "      <td>코딩으로 타이타닉 생존자 예측 프로그램 만들어 보기 [데이터 분석 파이썬 예제]</td>\n",
       "      <td>코딩어TV</td>\n",
       "      <td>https://www.youtube.com/channel/channel/UCFDIM...</td>\n",
       "    </tr>\n",
       "    <tr>\n",
       "      <th>29</th>\n",
       "      <td>[이것이 데이터 분석이다 with 파이썬_01] 분석 환경 구축하기 주피터 노트북,...</td>\n",
       "      <td>한빛미디어</td>\n",
       "      <td>https://www.youtube.com/channel/user/HanbitMed...</td>\n",
       "    </tr>\n",
       "    <tr>\n",
       "      <th>30</th>\n",
       "      <td>파이썬 공공데이터 분석[1/6] - 신규 민간 아파트 분양가격 데이터셋 소개</td>\n",
       "      <td>todaycode오늘코드</td>\n",
       "      <td>https://www.youtube.com/channel/channel/UCLR3s...</td>\n",
       "    </tr>\n",
       "    <tr>\n",
       "      <th>31</th>\n",
       "      <td>[2/3] 파이썬 공공데이터 분석 - 상가(상권)정보로 위경도 정보 활용하기,  판...</td>\n",
       "      <td>todaycode오늘코드</td>\n",
       "      <td>https://www.youtube.com/channel/channel/UCLR3s...</td>\n",
       "    </tr>\n",
       "    <tr>\n",
       "      <th>32</th>\n",
       "      <td>12-3. 파이썬 데이터 분석 프로젝트 II (Python Data Analysis...</td>\n",
       "      <td>파이썬멘토 조인석</td>\n",
       "      <td>https://www.youtube.com/channel/user/kakigo4u</td>\n",
       "    </tr>\n",
       "    <tr>\n",
       "      <th>33</th>\n",
       "      <td>Python VS R: 뉴욕 데이터사이언티스트가 추천하는 것은?</td>\n",
       "      <td>데싸노트</td>\n",
       "      <td>https://www.youtube.com/channel/channel/UCc6E3...</td>\n",
       "    </tr>\n",
       "    <tr>\n",
       "      <th>34</th>\n",
       "      <td>#코알못 가능!! 3단계로 마스터하는 #파이썬 #데이터분석!!</td>\n",
       "      <td>EPASSKOREA</td>\n",
       "      <td>https://www.youtube.com/channel/user/EPASSKOREA</td>\n",
       "    </tr>\n",
       "    <tr>\n",
       "      <th>35</th>\n",
       "      <td>행렬의 필요성 [ Python 데이터 분석과 이미지 처리 ]</td>\n",
       "      <td>동빈나</td>\n",
       "      <td>https://www.youtube.com/channel/channel/UChflh...</td>\n",
       "    </tr>\n",
       "    <tr>\n",
       "      <th>36</th>\n",
       "      <td>[책 리뷰] 파이썬 라이브러리를 활용한 데이터 분석(2판) - Pandas 를 통한...</td>\n",
       "      <td>todaycode오늘코드</td>\n",
       "      <td>https://www.youtube.com/channel/channel/UCLR3s...</td>\n",
       "    </tr>\n",
       "    <tr>\n",
       "      <th>37</th>\n",
       "      <td>[이것이 데이터 분석이다 with 파이썬_10] 연봉 예측 분석</td>\n",
       "      <td>한빛미디어</td>\n",
       "      <td>https://www.youtube.com/channel/user/HanbitMed...</td>\n",
       "    </tr>\n",
       "    <tr>\n",
       "      <th>38</th>\n",
       "      <td>[2019.04] 파이썬으로 경마 데이터 분석하기 - 김진형</td>\n",
       "      <td>PyCon Korea</td>\n",
       "      <td>https://www.youtube.com/channel/channel/UC26x6...</td>\n",
       "    </tr>\n",
       "  </tbody>\n",
       "</table>\n",
       "</div>"
      ],
      "text/plain": [
       "                                                   제목  \\\n",
       "0   파이썬 데이터 분석 - 설치부터 라이브러리 예제까지 (feat. 넘파이, 맷플롯립,...   \n",
       "1   파이썬 판다스로 회사 엑셀데이터 전처리 하는 방법 ! 1탄 (Python / Pan...   \n",
       "2   [1/29] 파이썬 데이터 분석을 위한 Pandas 기초 - 판다스 10분 완성소개...   \n",
       "3                   자전거 수요 예측[1/4] 캐글 머신러닝 탐색적 데이터 분석   \n",
       "4       구글 코랩(Colab) 이용하여 파이썬 데이터 분석 공부와 머신러닝 공부를 하세요   \n",
       "5                    25분만에 끝내는 데이터분석, 머신러닝을 위한 기본 파이썬   \n",
       "6   무슨 분석 툴을 배워야 할까? - 실제 데이터 과학/데이터 분석 업계에서의 R 과 ...   \n",
       "7       [1/5] 파이썬 데이터 분석 - 전국 도시 공원 표준 데이터 불러오기, 요약하기   \n",
       "8                           파이썬 주식 투자 자동화 무료 강의 시작합니다   \n",
       "9   [경험] 파이썬 주식자동매매 프로그램을 만들고도 이용하지 않는 이유 ((실전 자동매...   \n",
       "10  데이터 엔지니어 vs 데이터 분석가 vs 데이터 사이언티스트 연봉 KING 전망 K...   \n",
       "11  파이썬 코딩 무료 강의 (기본편) - 6시간 뒤면 여러분도 개발자가 될 수 있어요 ...   \n",
       "12              [통계, 파이썬] 데이터분석 능력 기르기 1. 이건 알고 시작하자.   \n",
       "13            파이썬으로 일상의 데이터를 분석하는 법! 코로나 데이터를 분석해 봐요!   \n",
       "14  [파이썬] 데이터 분석을 위한 파이썬 [08] Pandas (Python for D...   \n",
       "15  [매일10분 데이터 분석] 데이터 시각화를 쉽게 해보자 ! (Python / 그래프...   \n",
       "16  Python Pandas 실무 데이터 분석 1탄 (Series / Dataframe...   \n",
       "17  12-1. 파이썬 데이터 분석 소개 및 csv 파일 데이터 읽어오기 (What is...   \n",
       "18     [통계, 파이썬] 데이터분석 능력 기르기 2. 빅데이터의 저주, 파이썬으로 구현하기   \n",
       "19  김도형: 파이썬 데이터 분석 3종 세트 - statsmodels, scikit-le...   \n",
       "20            Numpy의 기본 사용법 [ Python 데이터 분석과 이미지 처리 ]   \n",
       "21  머신러닝, 데이터분석 공부 고민만 하는 분께 l 파이썬 공부 이유 l 머신러닝 공부 순서   \n",
       "22           Pandas의 기본 사용법 [ Python 데이터 분석과 이미지 처리 ]   \n",
       "23  [1/7] Python, Pandas,  folium으로 스타벅스, 이디야 매장 위...   \n",
       "24               [이것이 데이터 분석이다 with 파이썬_11] 시계열 예측 분석   \n",
       "25  [파이썬] 데이터 분석을 위한 파이썬 [06] 함수와 모듈 (Python for D...   \n",
       "26                            [스파르타온라인] 파이썬 데이터분석 첫걸음   \n",
       "27          [2/5] 파이썬 데이터 분석 - 주소 및 사용하지 않는 컬럼 결측치 처리   \n",
       "28       코딩으로 타이타닉 생존자 예측 프로그램 만들어 보기 [데이터 분석 파이썬 예제]   \n",
       "29  [이것이 데이터 분석이다 with 파이썬_01] 분석 환경 구축하기 주피터 노트북,...   \n",
       "30         파이썬 공공데이터 분석[1/6] - 신규 민간 아파트 분양가격 데이터셋 소개   \n",
       "31  [2/3] 파이썬 공공데이터 분석 - 상가(상권)정보로 위경도 정보 활용하기,  판...   \n",
       "32  12-3. 파이썬 데이터 분석 프로젝트 II (Python Data Analysis...   \n",
       "33                Python VS R: 뉴욕 데이터사이언티스트가 추천하는 것은?   \n",
       "34                 #코알못 가능!! 3단계로 마스터하는 #파이썬 #데이터분석!!   \n",
       "35                  행렬의 필요성 [ Python 데이터 분석과 이미지 처리 ]   \n",
       "36  [책 리뷰] 파이썬 라이브러리를 활용한 데이터 분석(2판) - Pandas 를 통한...   \n",
       "37                [이것이 데이터 분석이다 with 파이썬_10] 연봉 예측 분석   \n",
       "38                  [2019.04] 파이썬으로 경마 데이터 분석하기 - 김진형   \n",
       "\n",
       "                            채널명  \\\n",
       "0                   GongbroDesk   \n",
       "1                      데이터 스테이션   \n",
       "2                 todaycode오늘코드   \n",
       "3                 todaycode오늘코드   \n",
       "4           보안프로젝트[boanproject]   \n",
       "5                          테디노트   \n",
       "6             Visualising Korea   \n",
       "7                 todaycode오늘코드   \n",
       "8                  조코딩 JoCoding   \n",
       "9                     Tokuni TV   \n",
       "10                   매일경제 에브리데이   \n",
       "11                         나도코딩   \n",
       "12            Data Scientist이지영   \n",
       "13                온라인 코딩 스쿨 코드잇   \n",
       "14  메모밍 채널 ( Channel Memoming )   \n",
       "15                     데이터 스테이션   \n",
       "16                     데이터 스테이션   \n",
       "17                    파이썬멘토 조인석   \n",
       "18            Data Scientist이지영   \n",
       "19                  PyCon Korea   \n",
       "20                          동빈나   \n",
       "21               꽃부리 AI With SJ   \n",
       "22                          동빈나   \n",
       "23                todaycode오늘코드   \n",
       "24                        한빛미디어   \n",
       "25  메모밍 채널 ( Channel Memoming )   \n",
       "26                    스파르타 코딩클럽   \n",
       "27                todaycode오늘코드   \n",
       "28                        코딩어TV   \n",
       "29                        한빛미디어   \n",
       "30                todaycode오늘코드   \n",
       "31                todaycode오늘코드   \n",
       "32                    파이썬멘토 조인석   \n",
       "33                         데싸노트   \n",
       "34                   EPASSKOREA   \n",
       "35                          동빈나   \n",
       "36                todaycode오늘코드   \n",
       "37                        한빛미디어   \n",
       "38                  PyCon Korea   \n",
       "\n",
       "                                                영상url  \n",
       "0   https://www.youtube.com/channel/channel/UCo82I...  \n",
       "1   https://www.youtube.com/channel/channel/UCyc4x...  \n",
       "2   https://www.youtube.com/channel/channel/UCLR3s...  \n",
       "3   https://www.youtube.com/channel/channel/UCLR3s...  \n",
       "4    https://www.youtube.com/channel/user/ngnicky1209  \n",
       "5   https://www.youtube.com/channel/channel/UCt2wA...  \n",
       "6   https://www.youtube.com/channel/channel/UCbBev...  \n",
       "7   https://www.youtube.com/channel/channel/UCLR3s...  \n",
       "8   https://www.youtube.com/channel/channel/UCQNE2...  \n",
       "9   https://www.youtube.com/channel/channel/UCGYFo...  \n",
       "10  https://www.youtube.com/channel/channel/UCIipm...  \n",
       "11  https://www.youtube.com/channel/channel/UC7iAO...  \n",
       "12  https://www.youtube.com/channel/channel/UC2Bre...  \n",
       "13  https://www.youtube.com/channel/channel/UCCM79...  \n",
       "14  https://www.youtube.com/channel/channel/UCd2xY...  \n",
       "15  https://www.youtube.com/channel/channel/UCyc4x...  \n",
       "16  https://www.youtube.com/channel/channel/UCyc4x...  \n",
       "17      https://www.youtube.com/channel/user/kakigo4u  \n",
       "18  https://www.youtube.com/channel/channel/UC2Bre...  \n",
       "19  https://www.youtube.com/channel/channel/UC26x6...  \n",
       "20  https://www.youtube.com/channel/channel/UChflh...  \n",
       "21  https://www.youtube.com/channel/channel/UCUdyx...  \n",
       "22  https://www.youtube.com/channel/channel/UChflh...  \n",
       "23  https://www.youtube.com/channel/channel/UCLR3s...  \n",
       "24  https://www.youtube.com/channel/user/HanbitMed...  \n",
       "25  https://www.youtube.com/channel/channel/UCd2xY...  \n",
       "26  https://www.youtube.com/channel/channel/UC2Fh3...  \n",
       "27  https://www.youtube.com/channel/channel/UCLR3s...  \n",
       "28  https://www.youtube.com/channel/channel/UCFDIM...  \n",
       "29  https://www.youtube.com/channel/user/HanbitMed...  \n",
       "30  https://www.youtube.com/channel/channel/UCLR3s...  \n",
       "31  https://www.youtube.com/channel/channel/UCLR3s...  \n",
       "32      https://www.youtube.com/channel/user/kakigo4u  \n",
       "33  https://www.youtube.com/channel/channel/UCc6E3...  \n",
       "34    https://www.youtube.com/channel/user/EPASSKOREA  \n",
       "35  https://www.youtube.com/channel/channel/UChflh...  \n",
       "36  https://www.youtube.com/channel/channel/UCLR3s...  \n",
       "37  https://www.youtube.com/channel/user/HanbitMed...  \n",
       "38  https://www.youtube.com/channel/channel/UC26x6...  "
      ]
     },
     "execution_count": 66,
     "metadata": {},
     "output_type": "execute_result"
    }
   ],
   "source": [
    "import pandas as pd \n",
    "\n",
    "pd.DataFrame({\"제목\":title_list, \n",
    "            \"채널명\": channel_list,\n",
    "              \"영상url\": url_list}) "
   ]
  },
  {
   "cell_type": "code",
   "execution_count": null,
   "metadata": {},
   "outputs": [],
   "source": []
  }
 ],
 "metadata": {
  "kernelspec": {
   "display_name": "Python 3",
   "language": "python",
   "name": "python3"
  },
  "language_info": {
   "codemirror_mode": {
    "name": "ipython",
    "version": 3
   },
   "file_extension": ".py",
   "mimetype": "text/x-python",
   "name": "python",
   "nbconvert_exporter": "python",
   "pygments_lexer": "ipython3",
   "version": "3.8.8"
  }
 },
 "nbformat": 4,
 "nbformat_minor": 4
}
