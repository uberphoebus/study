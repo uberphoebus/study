{
 "cells": [
  {
   "cell_type": "code",
   "execution_count": 1,
   "id": "18b3be76",
   "metadata": {},
   "outputs": [
    {
     "name": "stdout",
     "output_type": "stream",
     "text": [
      "np ver 1.20.1\n",
      "pd ver 1.2.4\n"
     ]
    }
   ],
   "source": [
    "# 실습01 영화 타이틀\n",
    "# 1. 영화 타이틀 데이터 셋 - movws_title.csv\n",
    "# 2. titles의 df 구성\n",
    "# 3. df 필수 명령 8개 실행\n",
    "# 4. 전체 영화는 몇 개인가?\n",
    "# 5. 가장 빠른 시기에 제작된 영화 2개\n",
    "# 6. 제목이 'Hamlet'인 영화는 몇 개인가?\n",
    "# 7. 제목이 'Treasure Island'는 몇 개인가? 제작년도 오름차순 나열\n",
    "# 8. 1950년에서 1959년 사이에 만들어진 영화는 몇 개인가?\n",
    "\n",
    "import numpy as np\n",
    "import pandas as pd\n",
    "print('np ver', np.__version__)\n",
    "print('pd ver', pd.__version__)\n",
    "\n",
    "mtcsv = pd.read_csv(\"C:\\jhpark\\sync\\python\\db\\movies_title.csv\")"
   ]
  },
  {
   "cell_type": "code",
   "execution_count": 2,
   "id": "f7652b18",
   "metadata": {},
   "outputs": [
    {
     "data": {
      "text/html": [
       "<div>\n",
       "<style scoped>\n",
       "    .dataframe tbody tr th:only-of-type {\n",
       "        vertical-align: middle;\n",
       "    }\n",
       "\n",
       "    .dataframe tbody tr th {\n",
       "        vertical-align: top;\n",
       "    }\n",
       "\n",
       "    .dataframe thead th {\n",
       "        text-align: right;\n",
       "    }\n",
       "</style>\n",
       "<table border=\"1\" class=\"dataframe\">\n",
       "  <thead>\n",
       "    <tr style=\"text-align: right;\">\n",
       "      <th></th>\n",
       "      <th>title</th>\n",
       "      <th>year</th>\n",
       "    </tr>\n",
       "  </thead>\n",
       "  <tbody>\n",
       "    <tr>\n",
       "      <th>0</th>\n",
       "      <td>The Rising Son</td>\n",
       "      <td>1990</td>\n",
       "    </tr>\n",
       "    <tr>\n",
       "      <th>1</th>\n",
       "      <td>Ashes of Kukulcan</td>\n",
       "      <td>2016</td>\n",
       "    </tr>\n",
       "    <tr>\n",
       "      <th>2</th>\n",
       "      <td>The Thousand Plane Raid</td>\n",
       "      <td>1969</td>\n",
       "    </tr>\n",
       "    <tr>\n",
       "      <th>3</th>\n",
       "      <td>Crucea de piatra</td>\n",
       "      <td>1993</td>\n",
       "    </tr>\n",
       "    <tr>\n",
       "      <th>4</th>\n",
       "      <td>The 86</td>\n",
       "      <td>2015</td>\n",
       "    </tr>\n",
       "    <tr>\n",
       "      <th>...</th>\n",
       "      <td>...</td>\n",
       "      <td>...</td>\n",
       "    </tr>\n",
       "    <tr>\n",
       "      <th>215976</th>\n",
       "      <td>Le mouton noir</td>\n",
       "      <td>1922</td>\n",
       "    </tr>\n",
       "    <tr>\n",
       "      <th>215977</th>\n",
       "      <td>Edge of the Unknown</td>\n",
       "      <td>2015</td>\n",
       "    </tr>\n",
       "    <tr>\n",
       "      <th>215978</th>\n",
       "      <td>E yue</td>\n",
       "      <td>2005</td>\n",
       "    </tr>\n",
       "    <tr>\n",
       "      <th>215979</th>\n",
       "      <td>Lakota Girls</td>\n",
       "      <td>2015</td>\n",
       "    </tr>\n",
       "    <tr>\n",
       "      <th>215980</th>\n",
       "      <td>The Sting II</td>\n",
       "      <td>1983</td>\n",
       "    </tr>\n",
       "  </tbody>\n",
       "</table>\n",
       "<p>215981 rows × 2 columns</p>\n",
       "</div>"
      ],
      "text/plain": [
       "                          title  year\n",
       "0                The Rising Son  1990\n",
       "1             Ashes of Kukulcan  2016\n",
       "2       The Thousand Plane Raid  1969\n",
       "3              Crucea de piatra  1993\n",
       "4                        The 86  2015\n",
       "...                         ...   ...\n",
       "215976           Le mouton noir  1922\n",
       "215977      Edge of the Unknown  2015\n",
       "215978                    E yue  2005\n",
       "215979             Lakota Girls  2015\n",
       "215980             The Sting II  1983\n",
       "\n",
       "[215981 rows x 2 columns]"
      ]
     },
     "execution_count": 2,
     "metadata": {},
     "output_type": "execute_result"
    }
   ],
   "source": [
    "# 2. titles df 구성\n",
    "mt = pd.DataFrame(mtcsv)\n",
    "mt"
   ]
  },
  {
   "cell_type": "code",
   "execution_count": 3,
   "id": "15a519e8",
   "metadata": {},
   "outputs": [
    {
     "name": "stdout",
     "output_type": "stream",
     "text": [
      "                     title  year\n",
      "0           The Rising Son  1990\n",
      "1        Ashes of Kukulcan  2016\n",
      "2  The Thousand Plane Raid  1969\n",
      "3         Crucea de piatra  1993\n",
      "4                   The 86  2015\n",
      "                      title  year\n",
      "215976       Le mouton noir  1922\n",
      "215977  Edge of the Unknown  2015\n",
      "215978                E yue  2005\n",
      "215979         Lakota Girls  2015\n",
      "215980         The Sting II  1983\n"
     ]
    }
   ],
   "source": [
    "# 3. 필수 명령 8개\n",
    "print(mt.head())\n",
    "print(mt.tail())"
   ]
  },
  {
   "cell_type": "code",
   "execution_count": 4,
   "id": "e6938983",
   "metadata": {},
   "outputs": [
    {
     "name": "stdout",
     "output_type": "stream",
     "text": [
      "(215981, 2)\n",
      "Index(['title', 'year'], dtype='object')\n",
      "<class 'pandas.core.frame.DataFrame'>\n",
      "RangeIndex: 215981 entries, 0 to 215980\n",
      "Data columns (total 2 columns):\n",
      " #   Column  Non-Null Count   Dtype \n",
      "---  ------  --------------   ----- \n",
      " 0   title   215981 non-null  object\n",
      " 1   year    215981 non-null  int64 \n",
      "dtypes: int64(1), object(1)\n",
      "memory usage: 3.3+ MB\n",
      "None\n"
     ]
    }
   ],
   "source": [
    "print(mt.shape)\n",
    "print(mt.columns)\n",
    "print(mt.info())"
   ]
  },
  {
   "cell_type": "code",
   "execution_count": 5,
   "id": "61b4bde0",
   "metadata": {},
   "outputs": [
    {
     "name": "stdout",
     "output_type": "stream",
     "text": [
      "title    0\n",
      "year     0\n",
      "dtype: int64\n",
      "                year\n",
      "count  215981.000000\n",
      "mean     1984.553822\n",
      "std        29.343957\n",
      "min      1894.000000\n",
      "25%      1965.000000\n",
      "50%      1994.000000\n",
      "75%      2010.000000\n",
      "max      2024.000000\n"
     ]
    }
   ],
   "source": [
    "print(mt.isnull().sum())\n",
    "print(mt.describe())"
   ]
  },
  {
   "cell_type": "code",
   "execution_count": 6,
   "id": "7f9c1c35",
   "metadata": {},
   "outputs": [
    {
     "name": "stdout",
     "output_type": "stream",
     "text": [
      "Hamlet                         19\n",
      "Carmen                         14\n",
      "Macbeth                        14\n",
      "The Three Musketeers           12\n",
      "She                            11\n",
      "                               ..\n",
      "Ikaw lamang hanggang ngayon     1\n",
      "Victoria of Murray Hill         1\n",
      "Please Help Emily               1\n",
      "Mystery of Edwin Drood          1\n",
      "Intoarcerea Vlasinilor          1\n",
      "Name: title, Length: 197575, dtype: int64\n",
      "2015    13978\n",
      "2014     8209\n",
      "2013     7664\n",
      "2012     7273\n",
      "2011     6844\n",
      "        ...  \n",
      "1899        2\n",
      "2024        2\n",
      "1903        1\n",
      "1897        1\n",
      "1894        1\n",
      "Name: year, Length: 124, dtype: int64\n"
     ]
    }
   ],
   "source": [
    "print(mt['title'].value_counts())\n",
    "print(mt['year'].value_counts())"
   ]
  },
  {
   "cell_type": "code",
   "execution_count": 7,
   "id": "c27d6d17",
   "metadata": {},
   "outputs": [
    {
     "data": {
      "text/plain": [
       "215981"
      ]
     },
     "execution_count": 7,
     "metadata": {},
     "output_type": "execute_result"
    }
   ],
   "source": [
    "# 4. 전체 영화 개수; 215980\n",
    "mt['title'].value_counts().sum()"
   ]
  },
  {
   "cell_type": "code",
   "execution_count": 8,
   "id": "a6d4d269",
   "metadata": {},
   "outputs": [
    {
     "data": {
      "text/html": [
       "<div>\n",
       "<style scoped>\n",
       "    .dataframe tbody tr th:only-of-type {\n",
       "        vertical-align: middle;\n",
       "    }\n",
       "\n",
       "    .dataframe tbody tr th {\n",
       "        vertical-align: top;\n",
       "    }\n",
       "\n",
       "    .dataframe thead th {\n",
       "        text-align: right;\n",
       "    }\n",
       "</style>\n",
       "<table border=\"1\" class=\"dataframe\">\n",
       "  <thead>\n",
       "    <tr style=\"text-align: right;\">\n",
       "      <th></th>\n",
       "      <th>title</th>\n",
       "      <th>year</th>\n",
       "    </tr>\n",
       "  </thead>\n",
       "  <tbody>\n",
       "    <tr>\n",
       "      <th>165182</th>\n",
       "      <td>Miss Jerry</td>\n",
       "      <td>1894</td>\n",
       "    </tr>\n",
       "    <tr>\n",
       "      <th>85708</th>\n",
       "      <td>Reproduction of the Corbett and Fitzsimmons Fight</td>\n",
       "      <td>1897</td>\n",
       "    </tr>\n",
       "  </tbody>\n",
       "</table>\n",
       "</div>"
      ],
      "text/plain": [
       "                                                    title  year\n",
       "165182                                         Miss Jerry  1894\n",
       "85708   Reproduction of the Corbett and Fitzsimmons Fight  1897"
      ]
     },
     "execution_count": 8,
     "metadata": {},
     "output_type": "execute_result"
    }
   ],
   "source": [
    "# 5. 가장 빠른 시기에 제작된 영화 2개; 'Miss Jerry', 'Reproduction of the Corbett and Fitzsimmons Fight'\n",
    "mt.sort_values(by='year').head(2)"
   ]
  },
  {
   "cell_type": "code",
   "execution_count": 9,
   "id": "480fc932",
   "metadata": {},
   "outputs": [
    {
     "name": "stdout",
     "output_type": "stream",
     "text": [
      "19\n",
      "title    19\n",
      "year     19\n",
      "dtype: int64\n"
     ]
    },
    {
     "data": {
      "text/html": [
       "<div>\n",
       "<style scoped>\n",
       "    .dataframe tbody tr th:only-of-type {\n",
       "        vertical-align: middle;\n",
       "    }\n",
       "\n",
       "    .dataframe tbody tr th {\n",
       "        vertical-align: top;\n",
       "    }\n",
       "\n",
       "    .dataframe thead th {\n",
       "        text-align: right;\n",
       "    }\n",
       "</style>\n",
       "<table border=\"1\" class=\"dataframe\">\n",
       "  <thead>\n",
       "    <tr style=\"text-align: right;\">\n",
       "      <th></th>\n",
       "      <th>title</th>\n",
       "      <th>year</th>\n",
       "    </tr>\n",
       "  </thead>\n",
       "  <tbody>\n",
       "    <tr>\n",
       "      <th>5562</th>\n",
       "      <td>Hamlet</td>\n",
       "      <td>1948</td>\n",
       "    </tr>\n",
       "    <tr>\n",
       "      <th>26160</th>\n",
       "      <td>Hamlet</td>\n",
       "      <td>2016</td>\n",
       "    </tr>\n",
       "    <tr>\n",
       "      <th>37373</th>\n",
       "      <td>Hamlet</td>\n",
       "      <td>2015</td>\n",
       "    </tr>\n",
       "    <tr>\n",
       "      <th>42224</th>\n",
       "      <td>Hamlet</td>\n",
       "      <td>1990</td>\n",
       "    </tr>\n",
       "    <tr>\n",
       "      <th>43511</th>\n",
       "      <td>Hamlet</td>\n",
       "      <td>1910</td>\n",
       "    </tr>\n",
       "    <tr>\n",
       "      <th>68239</th>\n",
       "      <td>Hamlet</td>\n",
       "      <td>1954</td>\n",
       "    </tr>\n",
       "    <tr>\n",
       "      <th>85741</th>\n",
       "      <td>Hamlet</td>\n",
       "      <td>1976</td>\n",
       "    </tr>\n",
       "    <tr>\n",
       "      <th>87781</th>\n",
       "      <td>Hamlet</td>\n",
       "      <td>1987</td>\n",
       "    </tr>\n",
       "    <tr>\n",
       "      <th>87971</th>\n",
       "      <td>Hamlet</td>\n",
       "      <td>2000</td>\n",
       "    </tr>\n",
       "    <tr>\n",
       "      <th>91710</th>\n",
       "      <td>Hamlet</td>\n",
       "      <td>1921</td>\n",
       "    </tr>\n",
       "    <tr>\n",
       "      <th>114224</th>\n",
       "      <td>Hamlet</td>\n",
       "      <td>1969</td>\n",
       "    </tr>\n",
       "    <tr>\n",
       "      <th>154627</th>\n",
       "      <td>Hamlet</td>\n",
       "      <td>1913</td>\n",
       "    </tr>\n",
       "    <tr>\n",
       "      <th>163645</th>\n",
       "      <td>Hamlet</td>\n",
       "      <td>2009</td>\n",
       "    </tr>\n",
       "    <tr>\n",
       "      <th>169996</th>\n",
       "      <td>Hamlet</td>\n",
       "      <td>1964</td>\n",
       "    </tr>\n",
       "    <tr>\n",
       "      <th>186988</th>\n",
       "      <td>Hamlet</td>\n",
       "      <td>1996</td>\n",
       "    </tr>\n",
       "    <tr>\n",
       "      <th>192815</th>\n",
       "      <td>Hamlet</td>\n",
       "      <td>2011</td>\n",
       "    </tr>\n",
       "    <tr>\n",
       "      <th>195015</th>\n",
       "      <td>Hamlet</td>\n",
       "      <td>1911</td>\n",
       "    </tr>\n",
       "    <tr>\n",
       "      <th>205821</th>\n",
       "      <td>Hamlet</td>\n",
       "      <td>1973</td>\n",
       "    </tr>\n",
       "    <tr>\n",
       "      <th>207793</th>\n",
       "      <td>Hamlet</td>\n",
       "      <td>2014</td>\n",
       "    </tr>\n",
       "  </tbody>\n",
       "</table>\n",
       "</div>"
      ],
      "text/plain": [
       "         title  year\n",
       "5562    Hamlet  1948\n",
       "26160   Hamlet  2016\n",
       "37373   Hamlet  2015\n",
       "42224   Hamlet  1990\n",
       "43511   Hamlet  1910\n",
       "68239   Hamlet  1954\n",
       "85741   Hamlet  1976\n",
       "87781   Hamlet  1987\n",
       "87971   Hamlet  2000\n",
       "91710   Hamlet  1921\n",
       "114224  Hamlet  1969\n",
       "154627  Hamlet  1913\n",
       "163645  Hamlet  2009\n",
       "169996  Hamlet  1964\n",
       "186988  Hamlet  1996\n",
       "192815  Hamlet  2011\n",
       "195015  Hamlet  1911\n",
       "205821  Hamlet  1973\n",
       "207793  Hamlet  2014"
      ]
     },
     "execution_count": 9,
     "metadata": {},
     "output_type": "execute_result"
    }
   ],
   "source": [
    "# 6. 제목이 'Hamlet'인 영화는 몇 개인가? 19개\n",
    "print(list(mt['title']).count('Hamlet'))\n",
    "print(mt[mt['title'] =='Hamlet'].count())\n",
    "mt[mt['title'] =='Hamlet']"
   ]
  },
  {
   "cell_type": "code",
   "execution_count": 10,
   "id": "bc4201f3",
   "metadata": {},
   "outputs": [
    {
     "name": "stdout",
     "output_type": "stream",
     "text": [
      "8\n"
     ]
    },
    {
     "data": {
      "text/html": [
       "<div>\n",
       "<style scoped>\n",
       "    .dataframe tbody tr th:only-of-type {\n",
       "        vertical-align: middle;\n",
       "    }\n",
       "\n",
       "    .dataframe tbody tr th {\n",
       "        vertical-align: top;\n",
       "    }\n",
       "\n",
       "    .dataframe thead th {\n",
       "        text-align: right;\n",
       "    }\n",
       "</style>\n",
       "<table border=\"1\" class=\"dataframe\">\n",
       "  <thead>\n",
       "    <tr style=\"text-align: right;\">\n",
       "      <th></th>\n",
       "      <th>title</th>\n",
       "      <th>year</th>\n",
       "    </tr>\n",
       "  </thead>\n",
       "  <tbody>\n",
       "    <tr>\n",
       "      <th>191379</th>\n",
       "      <td>Treasure Island</td>\n",
       "      <td>1918</td>\n",
       "    </tr>\n",
       "    <tr>\n",
       "      <th>47769</th>\n",
       "      <td>Treasure Island</td>\n",
       "      <td>1920</td>\n",
       "    </tr>\n",
       "    <tr>\n",
       "      <th>192917</th>\n",
       "      <td>Treasure Island</td>\n",
       "      <td>1934</td>\n",
       "    </tr>\n",
       "    <tr>\n",
       "      <th>90175</th>\n",
       "      <td>Treasure Island</td>\n",
       "      <td>1950</td>\n",
       "    </tr>\n",
       "    <tr>\n",
       "      <th>104714</th>\n",
       "      <td>Treasure Island</td>\n",
       "      <td>1972</td>\n",
       "    </tr>\n",
       "    <tr>\n",
       "      <th>103646</th>\n",
       "      <td>Treasure Island</td>\n",
       "      <td>1973</td>\n",
       "    </tr>\n",
       "    <tr>\n",
       "      <th>190792</th>\n",
       "      <td>Treasure Island</td>\n",
       "      <td>1985</td>\n",
       "    </tr>\n",
       "    <tr>\n",
       "      <th>166675</th>\n",
       "      <td>Treasure Island</td>\n",
       "      <td>1999</td>\n",
       "    </tr>\n",
       "  </tbody>\n",
       "</table>\n",
       "</div>"
      ],
      "text/plain": [
       "                  title  year\n",
       "191379  Treasure Island  1918\n",
       "47769   Treasure Island  1920\n",
       "192917  Treasure Island  1934\n",
       "90175   Treasure Island  1950\n",
       "104714  Treasure Island  1972\n",
       "103646  Treasure Island  1973\n",
       "190792  Treasure Island  1985\n",
       "166675  Treasure Island  1999"
      ]
     },
     "execution_count": 10,
     "metadata": {},
     "output_type": "execute_result"
    }
   ],
   "source": [
    "# 7. 제목이 'Treasure Island'는 몇 개인가? 제작년도 오름차순 나열;\n",
    "print(list(mt['title']).count('Treasure Island'))\n",
    "\n",
    "ti = mt[mt['title'] =='Treasure Island']\n",
    "ti.sort_values(by='year')"
   ]
  },
  {
   "cell_type": "code",
   "execution_count": 25,
   "id": "56d3e1bb",
   "metadata": {},
   "outputs": [
    {
     "name": "stdout",
     "output_type": "stream",
     "text": [
      "12120\n"
     ]
    }
   ],
   "source": [
    "# 8. 1950년에서 1959년 사이에 만들어진 영화는 몇 개인가?\n",
    "\n",
    "cnt = 0\n",
    "\n",
    "for i in range(1950, 1960):\n",
    "    cnt += sum(mt['year'] == i)\n",
    "print(cnt)"
   ]
  },
  {
   "cell_type": "code",
   "execution_count": 37,
   "id": "93de4be7",
   "metadata": {},
   "outputs": [
    {
     "data": {
      "text/plain": [
       "0         False\n",
       "1         False\n",
       "2         False\n",
       "3         False\n",
       "4         False\n",
       "          ...  \n",
       "215976    False\n",
       "215977    False\n",
       "215978    False\n",
       "215979    False\n",
       "215980    False\n",
       "Name: year, Length: 215981, dtype: bool"
      ]
     },
     "execution_count": 37,
     "metadata": {},
     "output_type": "execute_result"
    }
   ],
   "source": [
    "mt1950 = mt['year'] >= 1950\n",
    "mt1959 = mt['year'] <= 1959\n",
    "mt[mt1950 & mt1959]\n",
    "\n",
    "# is_moive1 = movies_title_sample['year'] >=1950\n",
    "# is_movie2 = movies_title_sample['year'] < 1960\n",
    "# subset_df = movies_title_sample[is_moive1 & is_movie2 ]\n",
    "# subset_df\n",
    "\n",
    "mt1950 & mt1959"
   ]
  },
  {
   "cell_type": "code",
   "execution_count": null,
   "id": "af270114",
   "metadata": {},
   "outputs": [],
   "source": []
  }
 ],
 "metadata": {
  "kernelspec": {
   "display_name": "Python 3",
   "language": "python",
   "name": "python3"
  },
  "language_info": {
   "codemirror_mode": {
    "name": "ipython",
    "version": 3
   },
   "file_extension": ".py",
   "mimetype": "text/x-python",
   "name": "python",
   "nbconvert_exporter": "python",
   "pygments_lexer": "ipython3",
   "version": "3.8.8"
  }
 },
 "nbformat": 4,
 "nbformat_minor": 5
}
