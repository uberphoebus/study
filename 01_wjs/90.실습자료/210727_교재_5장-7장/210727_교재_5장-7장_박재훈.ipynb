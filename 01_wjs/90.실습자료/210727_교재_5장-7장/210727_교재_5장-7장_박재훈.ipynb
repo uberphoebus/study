{
 "cells": [
  {
   "cell_type": "markdown",
   "id": "29c1ece6",
   "metadata": {},
   "source": [
    "# 05장 제어문"
   ]
  },
  {
   "cell_type": "markdown",
   "id": "d1673bf8",
   "metadata": {},
   "source": [
    "## if문"
   ]
  },
  {
   "cell_type": "code",
   "execution_count": 1,
   "id": "804b51c0",
   "metadata": {},
   "outputs": [
    {
     "name": "stdout",
     "output_type": "stream",
     "text": [
      "pass\n"
     ]
    }
   ],
   "source": [
    "x = 95\n",
    "\n",
    "if x >= 90:\n",
    "    print('pass')"
   ]
  },
  {
   "cell_type": "code",
   "execution_count": 2,
   "id": "98746045",
   "metadata": {},
   "outputs": [
    {
     "name": "stdout",
     "output_type": "stream",
     "text": [
      "fail\n"
     ]
    }
   ],
   "source": [
    "x = 75\n",
    "\n",
    "if x >= 90:\n",
    "    print('pass')\n",
    "else:\n",
    "    print('fail')"
   ]
  },
  {
   "cell_type": "code",
   "execution_count": 3,
   "id": "94197395",
   "metadata": {},
   "outputs": [
    {
     "name": "stdout",
     "output_type": "stream",
     "text": [
      "good\n"
     ]
    }
   ],
   "source": [
    "x = 85\n",
    "if x >= 90:\n",
    "    print('v good')\n",
    "elif x >= 80:\n",
    "    print('good')\n",
    "else:\n",
    "    print('bad')"
   ]
  },
  {
   "cell_type": "code",
   "execution_count": 4,
   "id": "fb85ca2e",
   "metadata": {},
   "outputs": [
    {
     "name": "stdout",
     "output_type": "stream",
     "text": [
      "perfect\n"
     ]
    }
   ],
   "source": [
    "x = 100\n",
    "\n",
    "if x > 90:\n",
    "    if x == 100:\n",
    "        print('perfect')\n",
    "    else:\n",
    "        print('v good')\n",
    "elif x > 80:\n",
    "    print('good')\n",
    "else:\n",
    "    print('bad')"
   ]
  },
  {
   "cell_type": "code",
   "execution_count": 5,
   "id": "a0e30bc9",
   "metadata": {},
   "outputs": [],
   "source": [
    "x = 75\n",
    "\n",
    "if x > 80:\n",
    "    pass\n",
    "else:\n",
    "    pass"
   ]
  },
  {
   "cell_type": "markdown",
   "id": "677e027d",
   "metadata": {},
   "source": [
    "## for문"
   ]
  },
  {
   "cell_type": "code",
   "execution_count": 6,
   "id": "a69c5951",
   "metadata": {},
   "outputs": [
    {
     "name": "stdout",
     "output_type": "stream",
     "text": [
      "0\n",
      "1\n",
      "2\n",
      "3\n",
      "4\n",
      "5\n"
     ]
    }
   ],
   "source": [
    "for a in [0, 1, 2, 3, 4, 5]:\n",
    "    print(a)"
   ]
  },
  {
   "cell_type": "code",
   "execution_count": 7,
   "id": "4c5e1284",
   "metadata": {},
   "outputs": [
    {
     "name": "stdout",
     "output_type": "stream",
     "text": [
      "ja\n",
      "rob\n",
      "lis\n",
      "mar\n"
     ]
    }
   ],
   "source": [
    "mf = ['ja', 'rob', 'lis', 'mar']\n",
    "\n",
    "for i in mf:\n",
    "    print(i)"
   ]
  },
  {
   "cell_type": "code",
   "execution_count": 8,
   "id": "d1923d4a",
   "metadata": {},
   "outputs": [
    {
     "name": "stdout",
     "output_type": "stream",
     "text": [
      "range(0, 10, 2)\n"
     ]
    }
   ],
   "source": [
    "print(range(0, 10, 2))"
   ]
  },
  {
   "cell_type": "code",
   "execution_count": 9,
   "id": "81a8cc2c",
   "metadata": {},
   "outputs": [
    {
     "name": "stdout",
     "output_type": "stream",
     "text": [
      "[0, 2, 4, 6, 8]\n"
     ]
    }
   ],
   "source": [
    "print(list(range(0, 10, 2)))"
   ]
  },
  {
   "cell_type": "code",
   "execution_count": 10,
   "id": "6d169af7",
   "metadata": {},
   "outputs": [
    {
     "name": "stdout",
     "output_type": "stream",
     "text": [
      "0\n",
      "1\n",
      "2\n",
      "3\n",
      "4\n",
      "5\n"
     ]
    }
   ],
   "source": [
    "for a in range(0, 6, 1):\n",
    "    print(a)"
   ]
  },
  {
   "cell_type": "code",
   "execution_count": 11,
   "id": "f1c710a6",
   "metadata": {},
   "outputs": [
    {
     "name": "stdout",
     "output_type": "stream",
     "text": [
      "0\n",
      "2\n",
      "4\n",
      "6\n",
      "8\n"
     ]
    }
   ],
   "source": [
    "for a in range(0, 9, 2):\n",
    "    print(a)"
   ]
  },
  {
   "cell_type": "code",
   "execution_count": 12,
   "id": "33023365",
   "metadata": {},
   "outputs": [
    {
     "name": "stdout",
     "output_type": "stream",
     "text": [
      "[0, 1, 2, 3, 4, 5, 6, 7, 8, 9, 10, 11, 12, 13, 14, 15]\n",
      "[0, 1, 2, 3, 4, 5, 6, 7, 8, 9, 10, 11, 12, 13, 14, 15]\n",
      "[0, 1, 2, 3, 4, 5, 6, 7, 8, 9, 10, 11, 12, 13, 14, 15]\n"
     ]
    }
   ],
   "source": [
    "print(list(range(0, 16, 1)))\n",
    "print(list(range(0, 16)))\n",
    "print(list(range(16)))"
   ]
  },
  {
   "cell_type": "code",
   "execution_count": 13,
   "id": "7bf914f6",
   "metadata": {},
   "outputs": [
    {
     "name": "stdout",
     "output_type": "stream",
     "text": [
      "[0, 3, 6, 9, 12, 15, 18]\n",
      "[-7, -5, -3, -1, 1]\n",
      "[3, 0, -3, -6, -9, -12, -15]\n",
      "[]\n"
     ]
    }
   ],
   "source": [
    "print(list(range(0, 20, 3)))\n",
    "print(list(range(-7, 2, 2)))\n",
    "print(list(range(3, -16, -3)))\n",
    "print(list(range(0, -8, 1)))"
   ]
  },
  {
   "cell_type": "code",
   "execution_count": 14,
   "id": "b2bc9f45",
   "metadata": {},
   "outputs": [
    {
     "name": "stdout",
     "output_type": "stream",
     "text": [
      "x y\n",
      "x1 y1\n",
      "x1 y2\n",
      "x2 y1\n",
      "x2 y2\n"
     ]
    }
   ],
   "source": [
    "x_lst = ['x1', 'x2']\n",
    "y_lst = ['y1', 'y2']\n",
    "\n",
    "print('x y')\n",
    "for x in x_lst:\n",
    "    for y in y_lst:\n",
    "        print(x, y)"
   ]
  },
  {
   "cell_type": "code",
   "execution_count": 15,
   "id": "fce7d31b",
   "metadata": {},
   "outputs": [
    {
     "name": "stdout",
     "output_type": "stream",
     "text": [
      "ja 95\n",
      "rob 96\n",
      "lis 97\n",
      "mar 94\n"
     ]
    }
   ],
   "source": [
    "name = ['ja', 'rob', 'lis', 'mar']\n",
    "scores = [95, 96, 97, 94]\n",
    "\n",
    "for i in range(len(name)):\n",
    "    print(name[i], scores[i])"
   ]
  },
  {
   "cell_type": "code",
   "execution_count": 16,
   "id": "8a3f247c",
   "metadata": {},
   "outputs": [
    {
     "name": "stdout",
     "output_type": "stream",
     "text": [
      "ja 95\n",
      "rob 96\n",
      "lis 97\n",
      "mar 94\n"
     ]
    }
   ],
   "source": [
    "for i, k in zip(name, scores): # 같은 길이의 데이터를 묶어줌\n",
    "    print(i, k)"
   ]
  },
  {
   "cell_type": "markdown",
   "id": "398454dd",
   "metadata": {},
   "source": [
    "## while문"
   ]
  },
  {
   "cell_type": "code",
   "execution_count": 17,
   "id": "d4c8173b",
   "metadata": {},
   "outputs": [
    {
     "name": "stdout",
     "output_type": "stream",
     "text": [
      "i sum\n",
      "1 1\n",
      "2 3\n",
      "3 6\n",
      "4 10\n",
      "5 15\n",
      "6 21\n"
     ]
    }
   ],
   "source": [
    "i = 0\n",
    "sum = 0\n",
    "\n",
    "print('i sum')\n",
    "while sum < 20:\n",
    "    i += 1\n",
    "    sum += i\n",
    "    print(i, sum)"
   ]
  },
  {
   "cell_type": "markdown",
   "id": "2b8c6fb5",
   "metadata": {},
   "source": [
    "## break, continue"
   ]
  },
  {
   "cell_type": "code",
   "execution_count": 18,
   "id": "1d395018",
   "metadata": {},
   "outputs": [
    {
     "name": "stdout",
     "output_type": "stream",
     "text": [
      "1\n",
      "2\n",
      "3\n"
     ]
    }
   ],
   "source": [
    "k = 0\n",
    "while True:\n",
    "    k += 1\n",
    "    if k > 3:\n",
    "        break\n",
    "    print(k)"
   ]
  },
  {
   "cell_type": "code",
   "execution_count": 19,
   "id": "7a5f7a94",
   "metadata": {},
   "outputs": [
    {
     "name": "stdout",
     "output_type": "stream",
     "text": [
      "0\n",
      "1\n",
      "2\n"
     ]
    }
   ],
   "source": [
    "for k in range(10):\n",
    "    if k > 2:\n",
    "        break\n",
    "    print(k)"
   ]
  },
  {
   "cell_type": "code",
   "execution_count": 20,
   "id": "692e1ade",
   "metadata": {},
   "outputs": [
    {
     "name": "stdout",
     "output_type": "stream",
     "text": [
      "0\n",
      "1\n",
      "3\n",
      "4\n"
     ]
    }
   ],
   "source": [
    "for k in range(5):\n",
    "    if k == 2:\n",
    "        continue # 2일 경우 명령을 건너뜀\n",
    "    print(k)"
   ]
  },
  {
   "cell_type": "code",
   "execution_count": 21,
   "id": "e2d004bb",
   "metadata": {},
   "outputs": [
    {
     "name": "stdout",
     "output_type": "stream",
     "text": [
      "1\n",
      "cont next\n",
      "3\n",
      "4\n"
     ]
    }
   ],
   "source": [
    "k = 0\n",
    "\n",
    "while True:\n",
    "    k += 1\n",
    "    if k == 2:\n",
    "        print('cont next')\n",
    "        continue # 2일때 print 후 건너뜀\n",
    "    if k > 4:\n",
    "        break # 4 초과시 중지\n",
    "    print(k)"
   ]
  },
  {
   "cell_type": "markdown",
   "id": "3c4079bb",
   "metadata": {},
   "source": [
    "## list comprehension\n",
    "\n",
    "[반복실행문 for 반복변수 in 반복범위]\n",
    "\n",
    "[반복실행문 for 반복변수 in 반복범위 if 조건문]"
   ]
  },
  {
   "cell_type": "code",
   "execution_count": 22,
   "id": "51f55b4e",
   "metadata": {},
   "outputs": [
    {
     "name": "stdout",
     "output_type": "stream",
     "text": [
      "[0, 1, 4, 9, 16, 25]\n"
     ]
    }
   ],
   "source": [
    "num = list(range(6))\n",
    "\n",
    "sq = []\n",
    "\n",
    "for i in num:\n",
    "    sq.append(i**2) # 반환물 리스트화\n",
    "print(sq)"
   ]
  },
  {
   "cell_type": "code",
   "execution_count": 23,
   "id": "2d9f0b8c",
   "metadata": {},
   "outputs": [
    {
     "name": "stdout",
     "output_type": "stream",
     "text": [
      "[0, 1, 4, 9, 16, 25]\n"
     ]
    }
   ],
   "source": [
    "sq_c = [i**2 for i in num]\n",
    "print(sq_c)"
   ]
  },
  {
   "cell_type": "code",
   "execution_count": 24,
   "id": "8bea9754",
   "metadata": {},
   "outputs": [
    {
     "name": "stdout",
     "output_type": "stream",
     "text": [
      "[9, 16, 25]\n"
     ]
    }
   ],
   "source": [
    "sq_f = []\n",
    "\n",
    "for i in num:\n",
    "    if i >= 3:\n",
    "        sq_f.append(i**2)\n",
    "print(sq_f)"
   ]
  },
  {
   "cell_type": "code",
   "execution_count": 25,
   "id": "4758a878",
   "metadata": {},
   "outputs": [
    {
     "name": "stdout",
     "output_type": "stream",
     "text": [
      "[9, 16, 25]\n"
     ]
    }
   ],
   "source": [
    "sq_fc = [i**2 for i in num if i >= 3]\n",
    "print(sq_fc)"
   ]
  },
  {
   "cell_type": "markdown",
   "id": "8d9c1cad",
   "metadata": {},
   "source": [
    "# 06장 입력과 출력"
   ]
  },
  {
   "cell_type": "markdown",
   "id": "eb683252",
   "metadata": {},
   "source": [
    "## 화면출력"
   ]
  },
  {
   "cell_type": "code",
   "execution_count": 26,
   "id": "bd65eba8",
   "metadata": {},
   "outputs": [
    {
     "name": "stdout",
     "output_type": "stream",
     "text": [
      "be-:*:-py-:*:-bo\n"
     ]
    }
   ],
   "source": [
    "print('be', 'py', 'bo', sep = '-:*:-') # sep= 로 빈칸 변경"
   ]
  },
  {
   "cell_type": "code",
   "execution_count": 27,
   "id": "98d7483d",
   "metadata": {},
   "outputs": [
    {
     "name": "stdout",
     "output_type": "stream",
     "text": [
      "ja is mf.\n",
      "he is kr.\n"
     ]
    }
   ],
   "source": [
    "print('ja is mf.\\nhe is kr.') # \\n 줄 바꿈"
   ]
  },
  {
   "cell_type": "code",
   "execution_count": 28,
   "id": "4609d49b",
   "metadata": {},
   "outputs": [
    {
     "name": "stdout",
     "output_type": "stream",
     "text": [
      "welc to \n",
      "pyth\n",
      "welc to pyth\n"
     ]
    }
   ],
   "source": [
    "print('welc to ')\n",
    "print('pyth')\n",
    "\n",
    "print('welc to ', end='') # end='' 줄 바꿈 없이 연결\n",
    "print('pyth')"
   ]
  },
  {
   "cell_type": "code",
   "execution_count": 29,
   "id": "ae2c47c6",
   "metadata": {},
   "outputs": [
    {
     "name": "stdout",
     "output_type": "stream",
     "text": [
      "3, 3.141590\n"
     ]
    }
   ],
   "source": [
    "r = 3\n",
    "PI = 3.14159\n",
    "\n",
    "print('%d, %f'%(r, PI))"
   ]
  },
  {
   "cell_type": "code",
   "execution_count": 30,
   "id": "375a9e74",
   "metadata": {},
   "outputs": [
    {
     "name": "stdout",
     "output_type": "stream",
     "text": [
      "dog, fox, cat\n",
      "dog, cat\n",
      "cat, dog, fox\n"
     ]
    }
   ],
   "source": [
    "ani0 = 'cat'\n",
    "ani1 = 'dog'\n",
    "ani2 = 'fox'\n",
    "\n",
    "print('{1}, {2}, {0}'.format(ani0, ani1, ani2))\n",
    "print('{1}, {0}'.format(ani0, ani1, ani2))\n",
    "print('{}, {}, {}'.format(ani0, ani1, ani2))"
   ]
  },
  {
   "cell_type": "code",
   "execution_count": 31,
   "id": "688de3a3",
   "metadata": {},
   "outputs": [
    {
     "name": "stdout",
     "output_type": "stream",
     "text": [
      "tom, 10, 0.21302318580120422\n"
     ]
    }
   ],
   "source": [
    "name = 'tom'\n",
    "age = 10\n",
    "a = 0.21302318580120423\n",
    "\n",
    "fmt_string = '{0}, {1}, {2}'\n",
    "print(fmt_string.format(name, age, a))"
   ]
  },
  {
   "cell_type": "code",
   "execution_count": 32,
   "id": "5df6e730",
   "metadata": {},
   "outputs": [
    {
     "name": "stdout",
     "output_type": "stream",
     "text": [
      "0.21, 0.2130232\n"
     ]
    }
   ],
   "source": [
    "print('{0:.2f}, {0:.7f}'.format(a)) # 특정 소수점 자릿수까지"
   ]
  },
  {
   "cell_type": "markdown",
   "id": "e92edde2",
   "metadata": {},
   "source": [
    "## 파일 읽고 쓰기"
   ]
  },
  {
   "cell_type": "code",
   "execution_count": 33,
   "id": "e6db2644",
   "metadata": {},
   "outputs": [
    {
     "name": "stdout",
     "output_type": "stream",
     "text": [
      "this is mine.\n"
     ]
    }
   ],
   "source": [
    "# 파일 열기\n",
    "# var = open('file', 'mode') # 쓰기는 wt\n",
    "# var.write(str)\n",
    "# var.close()\n",
    "\n",
    "f = open('myfile.txt', 'w')\n",
    "f.write('this is mine.')\n",
    "f.close()\n",
    "\n",
    "!type myfile.txt"
   ]
  },
  {
   "cell_type": "code",
   "execution_count": 34,
   "id": "1e400612",
   "metadata": {},
   "outputs": [
    {
     "name": "stdout",
     "output_type": "stream",
     "text": [
      "this is mine.\n"
     ]
    }
   ],
   "source": [
    "# 파일 읽기\n",
    "# var = open('file', 'r')\n",
    "# data = var.read() # 읽기 명령\n",
    "# var.close()\n",
    "\n",
    "f = open('myfile.txt', 'r')\n",
    "file_text = f.read() # 읽은 후 변수에 저장\n",
    "f.close()\n",
    "\n",
    "print(file_text)"
   ]
  },
  {
   "cell_type": "markdown",
   "id": "cad8353f",
   "metadata": {},
   "source": [
    "## 반복문 이용 파일 읽고 쓰기"
   ]
  },
  {
   "cell_type": "code",
   "execution_count": 35,
   "id": "bbb488a6",
   "metadata": {},
   "outputs": [],
   "source": [
    "f = open('tt_table.txt', 'w')\n",
    "for i in range(1, 10):\n",
    "    tt = '2 * {} = {}\\n'.format(i, 2*i)\n",
    "    f.write(tt)\n",
    "f.close()"
   ]
  },
  {
   "cell_type": "code",
   "execution_count": 36,
   "id": "ec83e56d",
   "metadata": {},
   "outputs": [
    {
     "name": "stdout",
     "output_type": "stream",
     "text": [
      "2 * 1 = 2\n",
      "2 * 2 = 4\n",
      "2 * 3 = 6\n",
      "2 * 4 = 8\n",
      "2 * 5 = 10\n",
      "2 * 6 = 12\n",
      "2 * 7 = 14\n",
      "2 * 8 = 16\n",
      "2 * 9 = 18\n"
     ]
    }
   ],
   "source": [
    "# readline() 실행 횟수만큼 한 줄씩 읽음\n",
    "f = open('tt_table.txt', 'r')\n",
    "\n",
    "line = f.readline() # 한줄 읽기 변수\n",
    "while line:\n",
    "    print(line, end='') # 한줄 출력\n",
    "    line = f.readline() # 읽기\n",
    "f.close()"
   ]
  },
  {
   "cell_type": "code",
   "execution_count": 37,
   "id": "aa51cdaf",
   "metadata": {},
   "outputs": [
    {
     "name": "stdout",
     "output_type": "stream",
     "text": [
      "['2 * 1 = 2\\n', '2 * 2 = 4\\n', '2 * 3 = 6\\n', '2 * 4 = 8\\n', '2 * 5 = 10\\n', '2 * 6 = 12\\n', '2 * 7 = 14\\n', '2 * 8 = 16\\n', '2 * 9 = 18\\n']\n"
     ]
    }
   ],
   "source": [
    "# readlines() 전체 줄을 읽고, 리스트 반환\n",
    "\n",
    "f = open('tt_table.txt', 'r')\n",
    "lines = f.readlines()\n",
    "f.close()\n",
    "\n",
    "print(lines) # 줄 바꿈 포함"
   ]
  },
  {
   "cell_type": "code",
   "execution_count": 38,
   "id": "7342a75f",
   "metadata": {},
   "outputs": [
    {
     "name": "stdout",
     "output_type": "stream",
     "text": [
      "2 * 1 = 2\n",
      "2 * 2 = 4\n",
      "2 * 3 = 6\n",
      "2 * 4 = 8\n",
      "2 * 5 = 10\n",
      "2 * 6 = 12\n",
      "2 * 7 = 14\n",
      "2 * 8 = 16\n",
      "2 * 9 = 18\n"
     ]
    }
   ],
   "source": [
    "# 줄 바꿈 제거\n",
    "\n",
    "f = open('tt_table.txt', 'r')\n",
    "lines = f.readlines()\n",
    "f.close()\n",
    "for i in lines:\n",
    "    print(i, end='') # 줄 바꿈 기호 제거"
   ]
  },
  {
   "cell_type": "code",
   "execution_count": 39,
   "id": "685b133b",
   "metadata": {},
   "outputs": [
    {
     "name": "stdout",
     "output_type": "stream",
     "text": [
      "2 * 1 = 2\n",
      "2 * 2 = 4\n",
      "2 * 3 = 6\n",
      "2 * 4 = 8\n",
      "2 * 5 = 10\n",
      "2 * 6 = 12\n",
      "2 * 7 = 14\n",
      "2 * 8 = 16\n",
      "2 * 9 = 18\n"
     ]
    }
   ],
   "source": [
    "# 더 간단히; 읽어오기를 변수가 아니라 for문 포함\n",
    "\n",
    "f = open('tt_table.txt', 'r')\n",
    "for i in f.readlines():\n",
    "    print(i, end='')\n",
    "f.close()"
   ]
  },
  {
   "cell_type": "code",
   "execution_count": 40,
   "id": "e6af9c63",
   "metadata": {},
   "outputs": [
    {
     "name": "stdout",
     "output_type": "stream",
     "text": [
      "2 * 1 = 2\n",
      "2 * 2 = 4\n",
      "2 * 3 = 6\n",
      "2 * 4 = 8\n",
      "2 * 5 = 10\n",
      "2 * 6 = 12\n",
      "2 * 7 = 14\n",
      "2 * 8 = 16\n",
      "2 * 9 = 18\n"
     ]
    }
   ],
   "source": [
    "# 더더 간단히; f.readlines() 대신 f만. var만 쓰는 것을 f.readlines()로 인식\n",
    "f = open('tt_table.txt', 'r')\n",
    "for i in f:\n",
    "    print(i, end='')\n",
    "f.close()"
   ]
  },
  {
   "cell_type": "markdown",
   "id": "13026e20",
   "metadata": {},
   "source": [
    "## with문 활용 파일 읽고 쓰기"
   ]
  },
  {
   "cell_type": "code",
   "execution_count": 41,
   "id": "7db85ea1",
   "metadata": {},
   "outputs": [],
   "source": [
    "# with open('file', 'w') as f:\n",
    "#     f.write(str) # 쓰기\n",
    "\n",
    "# with open('file', 'r') as f:\n",
    "#     data = f.read() # 읽기\n",
    "\n",
    "with open('mytxtf.txt', 'w') as f:\n",
    "    f.write('with문 읽고 쓰기1\\n')\n",
    "    f.write('with문 읽고 쓰기2\\n')\n",
    "    f.write('with문 읽고 쓰기3\\n')"
   ]
  },
  {
   "cell_type": "code",
   "execution_count": 42,
   "id": "6f179265",
   "metadata": {},
   "outputs": [
    {
     "name": "stdout",
     "output_type": "stream",
     "text": [
      "with문 읽고 쓰기1\n",
      "with문 읽고 쓰기2\n",
      "with문 읽고 쓰기3\n",
      "\n"
     ]
    }
   ],
   "source": [
    "with open('mytxtf.txt', 'r') as f:\n",
    "    fs = f.read()\n",
    "    print(fs)"
   ]
  },
  {
   "cell_type": "code",
   "execution_count": 43,
   "id": "94239b12",
   "metadata": {},
   "outputs": [],
   "source": [
    "# 구구단 3단 입력\n",
    "\n",
    "with open('tt_table3.txt', 'w') as f:\n",
    "    for i in range(1, 10):\n",
    "        f.write('3 * {} = {}\\n'.format(i, 3*i))"
   ]
  },
  {
   "cell_type": "code",
   "execution_count": 44,
   "id": "911d6e8c",
   "metadata": {},
   "outputs": [
    {
     "name": "stdout",
     "output_type": "stream",
     "text": [
      "3 * 1 = 3\n",
      "3 * 2 = 6\n",
      "3 * 3 = 9\n",
      "3 * 4 = 12\n",
      "3 * 5 = 15\n",
      "3 * 6 = 18\n",
      "3 * 7 = 21\n",
      "3 * 8 = 24\n",
      "3 * 9 = 27\n",
      "\n"
     ]
    }
   ],
   "source": [
    "# 읽기 이전 방법\n",
    "\n",
    "with open('tt_table3.txt', 'r') as f:\n",
    "    print(f.read())"
   ]
  },
  {
   "cell_type": "code",
   "execution_count": 45,
   "id": "af6cff72",
   "metadata": {},
   "outputs": [
    {
     "name": "stdout",
     "output_type": "stream",
     "text": [
      "3 * 1 = 3\n",
      "3 * 2 = 6\n",
      "3 * 3 = 9\n",
      "3 * 4 = 12\n",
      "3 * 5 = 15\n",
      "3 * 6 = 18\n",
      "3 * 7 = 21\n",
      "3 * 8 = 24\n",
      "3 * 9 = 27\n"
     ]
    }
   ],
   "source": [
    "# 한줄씩 읽어오는 방법; 같은 출력문인데 무슨 차이?\n",
    "\n",
    "with open('tt_table3.txt', 'r') as f:\n",
    "    for i in f:\n",
    "        print(i, end='')"
   ]
  },
  {
   "cell_type": "markdown",
   "id": "2afc2a19",
   "metadata": {},
   "source": [
    "# 07 함수"
   ]
  },
  {
   "cell_type": "markdown",
   "id": "04b00efd",
   "metadata": {},
   "source": [
    "## 함수 정의와 호출"
   ]
  },
  {
   "cell_type": "code",
   "execution_count": 46,
   "id": "e38cef13",
   "metadata": {},
   "outputs": [
    {
     "name": "stdout",
     "output_type": "stream",
     "text": [
      "mf func\n",
      "this is func\n"
     ]
    }
   ],
   "source": [
    "# 함수 정의 방법\n",
    "\n",
    "'''\n",
    "\n",
    "def 함수명([인자1, 인자2, ..., 인자n]):\n",
    "    코드\n",
    "    [return 반환값]\n",
    "\n",
    "'''\n",
    "\n",
    "# 인자, 반환값 없는 함수\n",
    "\n",
    "def myf():\n",
    "    print('mf func')\n",
    "    print('this is func')\n",
    "\n",
    "myf()"
   ]
  },
  {
   "cell_type": "code",
   "execution_count": 47,
   "id": "16a44fa5",
   "metadata": {},
   "outputs": [
    {
     "name": "stdout",
     "output_type": "stream",
     "text": [
      "내친구 ad\n",
      "--------------------\n",
      "- 학생이름: ad\n",
      "- 학급번호: 23\n",
      "- 전화번호: 12345\n"
     ]
    }
   ],
   "source": [
    "# 인자는 있지만 반환값이 없는 함수\n",
    "\n",
    "def myfr(fn):\n",
    "    print('내친구 {}'.format(fn))\n",
    "\n",
    "myfr('ad')\n",
    "\n",
    "# 인자 3개\n",
    "\n",
    "def mysi(a, b, c):\n",
    "    print('--------------------')\n",
    "    print('- 학생이름:', a)\n",
    "    print('- 학급번호:', b)\n",
    "    print('- 전화번호:', c)\n",
    "\n",
    "mysi('ad', '23', '12345')"
   ]
  },
  {
   "cell_type": "code",
   "execution_count": 48,
   "id": "8e58103a",
   "metadata": {},
   "outputs": [
    {
     "data": {
      "text/plain": [
       "15"
      ]
     },
     "execution_count": 48,
     "metadata": {},
     "output_type": "execute_result"
    }
   ],
   "source": [
    "# 인자와 반환값 모두 있는 함수\n",
    "\n",
    "def myc(x, y):\n",
    "    z = x * y\n",
    "    return z\n",
    "\n",
    "myc(3, 5)"
   ]
  },
  {
   "cell_type": "code",
   "execution_count": 49,
   "id": "02b8461f",
   "metadata": {},
   "outputs": [
    {
     "name": "stdout",
     "output_type": "stream",
     "text": [
      "------------------------------\n",
      "* 학생이름: 재훈\n",
      "* 학급번호: 02\n",
      "* 전화번호: 123-3423-2342\n",
      "------------------------------\n",
      "------------------------------\n",
      "* 학생이름: 재훈\n",
      "* 학급번호: 02\n",
      "* 전화번호: 123-3423-2342\n",
      "------------------------------\n"
     ]
    }
   ],
   "source": [
    "# 인자로 자료구조를 가지는 함수\n",
    "\n",
    "def msil(si):\n",
    "    print('-'*30)\n",
    "    print('* 학생이름:', si[0])\n",
    "    print('* 학급번호:', si[1])\n",
    "    print('* 전화번호:', si[2])\n",
    "    print('-'*30)\n",
    "\n",
    "si = ['재훈', '02', '123-3423-2342']\n",
    "msil(si)\n",
    "\n",
    "msil(['재훈', '02', '123-3423-2342']) # 바로 출력"
   ]
  },
  {
   "cell_type": "markdown",
   "id": "66d8c554",
   "metadata": {},
   "source": [
    "## 변수의 유효 범위"
   ]
  },
  {
   "cell_type": "code",
   "execution_count": 50,
   "id": "e2f0ba23",
   "metadata": {},
   "outputs": [
    {
     "name": "stdout",
     "output_type": "stream",
     "text": [
      "[f1] 지역변수 a = 1\n",
      "[f2] 지역변수 a = 2\n",
      "5\n",
      "[f3] 전역변수 a = 5\n",
      "[f4] 전역변수 a = 4\n",
      "[f3] 전역변수 a = 4\n"
     ]
    }
   ],
   "source": [
    "# 지역영역 > 전역영역 > 내장영역 순으로 선택\n",
    "\n",
    "\n",
    "a = 5 # 전역변수\n",
    "\n",
    "def f1():\n",
    "    a = 1 # f1 지역변수\n",
    "    print('[f1] 지역변수 a =', a)\n",
    "\n",
    "def f2():\n",
    "    a = 2 # f2 지역변수\n",
    "    print('[f2] 지역변수 a =', a)\n",
    "\n",
    "def f3():\n",
    "    print('[f3] 전역변수 a =', a)\n",
    "\n",
    "def f4():\n",
    "    global a # 함수 내 전역변수 변경\n",
    "    a = 4 # 전역변수 값 변경\n",
    "    print('[f4] 전역변수 a =', a)\n",
    "\n",
    "f1()\n",
    "f2()\n",
    "print(a) # 전역변수 a = 5 확인\n",
    "\n",
    "f3()\n",
    "f4() # 전역변수 변경\n",
    "f3() # 변경된 전역변수 적용"
   ]
  },
  {
   "cell_type": "markdown",
   "id": "670b4c52",
   "metadata": {},
   "source": [
    "## 람다 함수"
   ]
  },
  {
   "cell_type": "code",
   "execution_count": 51,
   "id": "14522d40",
   "metadata": {},
   "outputs": [
    {
     "name": "stdout",
     "output_type": "stream",
     "text": [
      "9\n",
      "8\n",
      "125\n",
      "31.5\n"
     ]
    }
   ],
   "source": [
    "# 기본형태; lambda <인자> : <코드>\n",
    "# 변형형태; (lambda <인자> : <코드>) (<인자>)\n",
    "\n",
    "print((lambda x : x**2) (3))\n",
    "\n",
    "ms = lambda x : x**3\n",
    "print(ms(2))\n",
    "print(ms(5))\n",
    "\n",
    "# 여러 인자 람다함수\n",
    "\n",
    "msf = lambda x, y, z : x**2 + 3*y + 1/z\n",
    "print(msf(4, 5, 2))"
   ]
  },
  {
   "cell_type": "markdown",
   "id": "b959c40d",
   "metadata": {},
   "source": [
    "## 유용한 내장 함수"
   ]
  },
  {
   "cell_type": "code",
   "execution_count": 52,
   "id": "fdebecc1",
   "metadata": {},
   "outputs": [
    {
     "data": {
      "text/plain": [
       "'\\nint() # 정수\\nfloat() # 실수\\nstr() # 문자열\\n\\nlist()\\ntuple()\\nset()\\n'"
      ]
     },
     "execution_count": 52,
     "metadata": {},
     "output_type": "execute_result"
    }
   ],
   "source": [
    "# 형 변환 함수\n",
    "\n",
    "'''\n",
    "int() # 정수\n",
    "float() # 실수\n",
    "str() # 문자열\n",
    "\n",
    "list()\n",
    "tuple()\n",
    "set()\n",
    "'''"
   ]
  },
  {
   "cell_type": "code",
   "execution_count": 53,
   "id": "59ed425c",
   "metadata": {},
   "outputs": [
    {
     "name": "stdout",
     "output_type": "stream",
     "text": [
      "False\n",
      "True\n",
      "True\n",
      "True\n",
      "True\n",
      "False\n",
      "False\n"
     ]
    }
   ],
   "source": [
    "# bool 함수\n",
    "# 숫자 0이면 False, 0 이외 숫자는 True\n",
    "# 문자열이 있으면 True, 없으면 False\n",
    "\n",
    "print(bool(0))\n",
    "print(bool(1))\n",
    "print(bool(-89))\n",
    "\n",
    "print(bool('a'))\n",
    "print(bool(' '))\n",
    "print(bool(''))\n",
    "print(bool(None)) # None == null"
   ]
  },
  {
   "cell_type": "code",
   "execution_count": 54,
   "id": "73b6e0b1",
   "metadata": {},
   "outputs": [
    {
     "name": "stdout",
     "output_type": "stream",
     "text": [
      "False\n",
      "True\n",
      "False\n",
      "True\n",
      "False\n",
      "True\n"
     ]
    }
   ],
   "source": [
    "# 리스트, 튜플, 세트 인자인 bool()\n",
    "# 항목이 있으면 True, 없으면 False\n",
    "\n",
    "myf = []\n",
    "print(bool(myf))\n",
    "\n",
    "myf = ['ja']\n",
    "print(bool(myf))\n",
    "\n",
    "myn = ()\n",
    "print(bool(myn))\n",
    "\n",
    "myn = (1, 2, 3)\n",
    "print(bool(myn))\n",
    "\n",
    "mys = {}\n",
    "print(bool(mys))\n",
    "\n",
    "mys = {1, 3, 4}\n",
    "print(bool(mys))"
   ]
  },
  {
   "cell_type": "code",
   "execution_count": 55,
   "id": "72687a0d",
   "metadata": {},
   "outputs": [
    {
     "name": "stdout",
     "output_type": "stream",
     "text": [
      "이름: ja\n",
      "없음\n"
     ]
    }
   ],
   "source": [
    "# bool() 활용\n",
    "\n",
    "def pn(i):\n",
    "    if bool(i):\n",
    "        print('이름:', i)\n",
    "    else:\n",
    "        print('없음')\n",
    "        \n",
    "pn('ja')\n",
    "pn('')"
   ]
  },
  {
   "cell_type": "code",
   "execution_count": 56,
   "id": "f06d7b2a",
   "metadata": {},
   "outputs": [],
   "source": [
    "# min(), max()\n",
    "# 리스트, 튜플, 세트의 항목이나 문자열에 적용"
   ]
  },
  {
   "cell_type": "code",
   "execution_count": 57,
   "id": "d3aecdb2",
   "metadata": {},
   "outputs": [
    {
     "name": "stdout",
     "output_type": "stream",
     "text": [
      "184219\n"
     ]
    }
   ],
   "source": [
    "# 절댓값, 합계\n",
    "\n",
    "print(abs(-184219))\n",
    "\n",
    "abc = [1, 2, 3, 7, 8, 10]\n",
    "# sum(suml) # int not callable ?"
   ]
  },
  {
   "cell_type": "code",
   "execution_count": 58,
   "id": "f2ac0533",
   "metadata": {},
   "outputs": [
    {
     "name": "stdout",
     "output_type": "stream",
     "text": [
      "5\n",
      "6\n",
      "3\n",
      "4\n"
     ]
    }
   ],
   "source": [
    "# 항목 개수; 리스트, 튜플, 딕셔너리의 데이터 길이\n",
    "\n",
    "print(len('ab cd')) # 문자열의 문자 개수\n",
    "\n",
    "print(len(abc)) # 리스트의 항목 개수\n",
    "\n",
    "print(len((5, 6, 3)))\n",
    "\n",
    "print(len({'a':3, 'c':4, 'b':90, 'd':29}))"
   ]
  },
  {
   "cell_type": "code",
   "execution_count": 59,
   "id": "aae5775f",
   "metadata": {},
   "outputs": [
    {
     "name": "stdout",
     "output_type": "stream",
     "text": [
      "총점 350, 평균 87.5\n"
     ]
    }
   ],
   "source": [
    "# 내장함수 활용\n",
    "\n",
    "sco = [90, 80, 95, 85]\n",
    "\n",
    "tot = 0\n",
    "cnt = 0\n",
    "\n",
    "for i in sco:\n",
    "    tot += i\n",
    "    cnt += 1\n",
    "avg = tot / cnt\n",
    "\n",
    "print('총점 {}, 평균 {}'.format(tot, avg))\n",
    "\n",
    "# 단순화\n",
    "\n",
    "# print('총점 {}, 평균 {}'.format(sum(sco), sum(sco)/len(sco))) # int not callable"
   ]
  }
 ],
 "metadata": {
  "kernelspec": {
   "display_name": "Python 3",
   "language": "python",
   "name": "python3"
  },
  "language_info": {
   "codemirror_mode": {
    "name": "ipython",
    "version": 3
   },
   "file_extension": ".py",
   "mimetype": "text/x-python",
   "name": "python",
   "nbconvert_exporter": "python",
   "pygments_lexer": "ipython3",
   "version": "3.8.8"
  }
 },
 "nbformat": 4,
 "nbformat_minor": 5
}
