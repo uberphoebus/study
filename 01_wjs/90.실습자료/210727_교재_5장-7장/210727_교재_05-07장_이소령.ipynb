{
 "cells": [
  {
   "cell_type": "markdown",
   "id": "af17c912",
   "metadata": {},
   "source": [
    "##5장"
   ]
  },
  {
   "cell_type": "code",
   "execution_count": 12,
   "id": "fbb1f0cd",
   "metadata": {},
   "outputs": [
    {
     "name": "stdout",
     "output_type": "stream",
     "text": [
      "pass\n"
     ]
    }
   ],
   "source": [
    "x=95\n",
    "if x >=90:\n",
    "     print('pass')"
   ]
  },
  {
   "cell_type": "code",
   "execution_count": 16,
   "id": "5c985f43",
   "metadata": {},
   "outputs": [
    {
     "name": "stdout",
     "output_type": "stream",
     "text": [
      "fail\n"
     ]
    }
   ],
   "source": [
    "x = 75\n",
    "if x >= 90:\n",
    "    print('pass')\n",
    "else:\n",
    "    print('fail')"
   ]
  },
  {
   "cell_type": "code",
   "execution_count": 24,
   "id": "0102d2cd",
   "metadata": {},
   "outputs": [
    {
     "name": "stdout",
     "output_type": "stream",
     "text": [
      "Good\n"
     ]
    }
   ],
   "source": [
    "x = 85\n",
    "if x >= 90:\n",
    "    print('Very good')\n",
    "elif 80 <= x < 90:\n",
    "     print('Good')\n",
    "else:\n",
    "        print('Bad')"
   ]
  },
  {
   "cell_type": "code",
   "execution_count": 26,
   "id": "a900524f",
   "metadata": {},
   "outputs": [
    {
     "name": "stdout",
     "output_type": "stream",
     "text": [
      "Perfect\n"
     ]
    }
   ],
   "source": [
    "x = 100\n",
    "if x >= 90:\n",
    "    if x == 100:\n",
    "        print('Perfect')\n",
    "    else:\n",
    "        print('Very Good')\n",
    "elif 80 <= x < 90:\n",
    "    print('Good')\n",
    "else:\n",
    "    print('Bad')"
   ]
  },
  {
   "cell_type": "code",
   "execution_count": 30,
   "id": "ab3708e9",
   "metadata": {},
   "outputs": [
    {
     "name": "stdout",
     "output_type": "stream",
     "text": [
      "Ok\n"
     ]
    }
   ],
   "source": [
    "x = 75\n",
    "if x >= 80:\n",
    "    pass\n",
    "else:\n",
    "    print('Ok')"
   ]
  },
  {
   "cell_type": "code",
   "execution_count": 32,
   "id": "6a7ea00a",
   "metadata": {},
   "outputs": [
    {
     "name": "stdout",
     "output_type": "stream",
     "text": [
      "0\n"
     ]
    }
   ],
   "source": [
    "a = 0\n",
    "print(a)"
   ]
  },
  {
   "cell_type": "code",
   "execution_count": 33,
   "id": "106c9194",
   "metadata": {},
   "outputs": [
    {
     "name": "stdout",
     "output_type": "stream",
     "text": [
      "1\n"
     ]
    }
   ],
   "source": [
    "a = a + 1\n",
    "print(a)"
   ]
  },
  {
   "cell_type": "code",
   "execution_count": 87,
   "id": "4ccb69f3",
   "metadata": {},
   "outputs": [
    {
     "name": "stdout",
     "output_type": "stream",
     "text": [
      "0\n",
      "1\n",
      "2\n",
      "3\n",
      "4\n",
      "5\n"
     ]
    }
   ],
   "source": [
    "for a in [0,1,2,3,4,5]:\n",
    "    print(a)"
   ]
  },
  {
   "cell_type": "code",
   "execution_count": 49,
   "id": "173c5c17",
   "metadata": {},
   "outputs": [
    {
     "name": "stdout",
     "output_type": "stream",
     "text": [
      "james\n",
      "robert\n",
      "lisa\n",
      "mary\n"
     ]
    }
   ],
   "source": [
    "myfriends = ['james', 'robert','lisa','mary']\n",
    "for myfriend in myfriends:\n",
    "    print(myfriend)"
   ]
  },
  {
   "cell_type": "code",
   "execution_count": 52,
   "id": "9a5baf45",
   "metadata": {},
   "outputs": [
    {
     "name": "stdout",
     "output_type": "stream",
     "text": [
      "[0, 1, 2, 3, 4, 5, 6, 7, 8, 9]\n"
     ]
    }
   ],
   "source": [
    "print(list(range(0, 10, 1)))"
   ]
  },
  {
   "cell_type": "code",
   "execution_count": 60,
   "id": "e1940d24",
   "metadata": {},
   "outputs": [
    {
     "name": "stdout",
     "output_type": "stream",
     "text": [
      "0\n",
      "2\n",
      "4\n"
     ]
    }
   ],
   "source": [
    "for a in range(0,6,2):\n",
    "    print(a)"
   ]
  },
  {
   "cell_type": "code",
   "execution_count": 57,
   "id": "a71e2f6a",
   "metadata": {},
   "outputs": [
    {
     "name": "stdout",
     "output_type": "stream",
     "text": [
      "[0, 1, 2, 3, 4, 5, 6, 7, 8, 9]\n"
     ]
    }
   ],
   "source": [
    "print(list(range(0,10,1)))"
   ]
  },
  {
   "cell_type": "code",
   "execution_count": 58,
   "id": "fdc3e646",
   "metadata": {},
   "outputs": [
    {
     "data": {
      "text/plain": [
       "[0, 1, 2, 3, 4, 5, 6, 7, 8, 9]"
      ]
     },
     "execution_count": 58,
     "metadata": {},
     "output_type": "execute_result"
    }
   ],
   "source": [
    "list(range(0,10,1))"
   ]
  },
  {
   "cell_type": "code",
   "execution_count": 62,
   "id": "6061f9b6",
   "metadata": {},
   "outputs": [
    {
     "data": {
      "text/plain": [
       "[0, 1, 2, 3, 4, 5, 6, 7, 8, 9]"
      ]
     },
     "execution_count": 62,
     "metadata": {},
     "output_type": "execute_result"
    }
   ],
   "source": [
    "list(range(0,10))"
   ]
  },
  {
   "cell_type": "code",
   "execution_count": 63,
   "id": "cf0d6fbd",
   "metadata": {},
   "outputs": [
    {
     "data": {
      "text/plain": [
       "[0, 1, 2, 3, 4, 5, 6, 7, 8, 9]"
      ]
     },
     "execution_count": 63,
     "metadata": {},
     "output_type": "execute_result"
    }
   ],
   "source": [
    "list(range(10))"
   ]
  },
  {
   "cell_type": "code",
   "execution_count": 65,
   "id": "cb220cfc",
   "metadata": {},
   "outputs": [
    {
     "name": "stdout",
     "output_type": "stream",
     "text": [
      "x1 y1\n",
      "x1 y2\n",
      "x2 y1\n",
      "x2 y2\n"
     ]
    }
   ],
   "source": [
    "x_list = ['x1', 'x2']\n",
    "y_list = ['y1', 'y2']\n",
    "\n",
    "for x in x_list:\n",
    "    for y in y_list:\n",
    "        print(x, y)"
   ]
  },
  {
   "cell_type": "code",
   "execution_count": 74,
   "id": "10aab80f",
   "metadata": {},
   "outputs": [
    {
     "name": "stdout",
     "output_type": "stream",
     "text": [
      "james 95\n",
      "robert 96\n",
      "lisa 97\n",
      "mary 94\n"
     ]
    }
   ],
   "source": [
    "names = ['james', 'robert','lisa','mary']\n",
    "scores = [95, 96, 97, 94]\n",
    "for a in range(len(names)):\n",
    "    print(names[a], scores[a])"
   ]
  },
  {
   "cell_type": "code",
   "execution_count": 78,
   "id": "75500150",
   "metadata": {},
   "outputs": [
    {
     "name": "stdout",
     "output_type": "stream",
     "text": [
      "james 95\n",
      "robert 96\n",
      "lisa 97\n",
      "mary 94\n"
     ]
    }
   ],
   "source": [
    "for name, score in zip(names, scores):\n",
    "    print(name, score)"
   ]
  },
  {
   "cell_type": "code",
   "execution_count": 82,
   "id": "3864ef9d",
   "metadata": {},
   "outputs": [
    {
     "name": "stdout",
     "output_type": "stream",
     "text": [
      "1 1\n",
      "2 3\n",
      "3 6\n",
      "4 10\n",
      "5 15\n",
      "6 21\n"
     ]
    }
   ],
   "source": [
    "i = 0\n",
    "sum = 0\n",
    "\n",
    "while sum < 20:\n",
    "    i +=1\n",
    "    sum +=i\n",
    "    print(i,sum)"
   ]
  },
  {
   "cell_type": "code",
   "execution_count": 3,
   "id": "2f6d0743",
   "metadata": {},
   "outputs": [
    {
     "name": "stdout",
     "output_type": "stream",
     "text": [
      "1\n",
      "2\n",
      "3\n"
     ]
    }
   ],
   "source": [
    "k=0\n",
    "while True:\n",
    "    k = k+1\n",
    "    \n",
    "    if(k>3):\n",
    "      break\n",
    "        \n",
    "    print(k)"
   ]
  },
  {
   "cell_type": "code",
   "execution_count": 4,
   "id": "b82cff3e",
   "metadata": {},
   "outputs": [
    {
     "name": "stdout",
     "output_type": "stream",
     "text": [
      "0\n",
      "1\n",
      "2\n"
     ]
    }
   ],
   "source": [
    "for k in range(10):\n",
    "    if(k>2):\n",
    "        break\n",
    "    print(k)"
   ]
  },
  {
   "cell_type": "code",
   "execution_count": 9,
   "id": "58178d85",
   "metadata": {},
   "outputs": [
    {
     "name": "stdout",
     "output_type": "stream",
     "text": [
      "0\n",
      "1\n",
      "3\n",
      "4\n"
     ]
    }
   ],
   "source": [
    "for k in range(5):\n",
    "    if k==2:\n",
    "        continue\n",
    "    print(k)"
   ]
  },
  {
   "cell_type": "code",
   "execution_count": 12,
   "id": "ea10a21e",
   "metadata": {},
   "outputs": [
    {
     "name": "stdout",
     "output_type": "stream",
     "text": [
      "[1, 4, 9, 16, 25]\n"
     ]
    }
   ],
   "source": [
    "numbers = [1,2,3,4,5]\n",
    "square=[]\n",
    "\n",
    "for i in numbers:\n",
    "    square.append(i**2)\n",
    "print(square)\n"
   ]
  },
  {
   "cell_type": "code",
   "execution_count": 15,
   "id": "8bf0c2f9",
   "metadata": {},
   "outputs": [
    {
     "name": "stdout",
     "output_type": "stream",
     "text": [
      "[1, 4, 9, 16, 25]\n"
     ]
    }
   ],
   "source": [
    "square = [i**2 for i in numbers]\n",
    "print(square)"
   ]
  },
  {
   "cell_type": "code",
   "execution_count": 19,
   "id": "7f2d646f",
   "metadata": {},
   "outputs": [
    {
     "name": "stdout",
     "output_type": "stream",
     "text": [
      "[9, 16, 25]\n"
     ]
    }
   ],
   "source": [
    "numbers = [1,2,3,4,5]\n",
    "square = []\n",
    "for i in numbers:\n",
    "    if i>= 3:\n",
    "        square.append(i**2)\n",
    "print(square)"
   ]
  },
  {
   "cell_type": "code",
   "execution_count": 22,
   "id": "eb11a1f0",
   "metadata": {},
   "outputs": [
    {
     "name": "stdout",
     "output_type": "stream",
     "text": [
      "[9, 16, 25]\n"
     ]
    }
   ],
   "source": [
    "square = [i**2 for i in numbers if i>=3]\n",
    "print(square)"
   ]
  },
  {
   "cell_type": "markdown",
   "id": "55438ba4",
   "metadata": {},
   "source": [
    "##실습1\n",
    "1. 과일명과 과일가격으로 구성된 dict 데이터\n",
    "2. fruit = {'apple':3500, 'peer':2500, 'cherry':5000}\n",
    "3. 과일 가격이 3000보다 비싼 과일은 high에 저장,\n",
    "4. 3000보다 싼 과일의 이름은 low에 저장\n",
    "5. high, low 출력"
   ]
  },
  {
   "cell_type": "code",
   "execution_count": 26,
   "id": "15bdaafc",
   "metadata": {},
   "outputs": [
    {
     "data": {
      "text/plain": [
       "dict_items([('apple', 3500), ('peer', 2500), ('cherry', 5000)])"
      ]
     },
     "execution_count": 26,
     "metadata": {},
     "output_type": "execute_result"
    }
   ],
   "source": [
    "fruit = {'apple':3500, 'peer':2500, 'cherry':5000}\n",
    "fruit.items()"
   ]
  },
  {
   "cell_type": "code",
   "execution_count": 32,
   "id": "b0dd2149",
   "metadata": {},
   "outputs": [
    {
     "name": "stdout",
     "output_type": "stream",
     "text": [
      "high = ['apple', 'cherry'] low=  ['peer']\n"
     ]
    }
   ],
   "source": [
    "high = [] ; low=[]\n",
    "for i in fruit.items():\n",
    "    if i[1]>3000:\n",
    "        high.append(i[0])\n",
    "    else:\n",
    "        low.append(i[0])\n",
    "print('high =', high, 'low= ', low)"
   ]
  },
  {
   "cell_type": "markdown",
   "id": "65e646c2",
   "metadata": {},
   "source": [
    "##실습2. 과일개수\n",
    "1. frui1은 과일명:[과일가격, 갯수]로 구성\n",
    "2. 3000원 보다 비싼 과일은 총 몇개인가?\n"
   ]
  },
  {
   "cell_type": "code",
   "execution_count": 37,
   "id": "eba4143b",
   "metadata": {},
   "outputs": [
    {
     "data": {
      "text/plain": [
       "{'apple': [3500, 5],\n",
       " 'peer': [2500, 2],\n",
       " 'cherry': [5000, 8],\n",
       " 'mango': [2200, 4]}"
      ]
     },
     "execution_count": 37,
     "metadata": {},
     "output_type": "execute_result"
    }
   ],
   "source": [
    "fruit1 = {\"apple\":[3500,5], \"peer\": [2500,2], \"cherry\": [5000,8], \"mango\":[2200,4]} \n",
    "fruit1"
   ]
  },
  {
   "cell_type": "code",
   "execution_count": 47,
   "id": "481d2924",
   "metadata": {},
   "outputs": [
    {
     "name": "stdout",
     "output_type": "stream",
     "text": [
      "갯수:  13\n"
     ]
    }
   ],
   "source": [
    "count = 0\n",
    "for a in fruit1.items():\n",
    "    if a[1][0] > 3000:\n",
    "        count = count + a[1][1]\n",
    "print('갯수: ',count)\n",
    "        "
   ]
  },
  {
   "cell_type": "markdown",
   "id": "cf9e6e3a",
   "metadata": {},
   "source": [
    "##실습3. A반 학생의 국어,영어,수학,과학의 시험 성적이다\n",
    "A반 학생은 총 몇 명인가?"
   ]
  },
  {
   "cell_type": "code",
   "execution_count": 56,
   "id": "5b30d102",
   "metadata": {},
   "outputs": [
    {
     "name": "stdout",
     "output_type": "stream",
     "text": [
      "A반 학생은 총 4 명이다\n"
     ]
    }
   ],
   "source": [
    "class_a = {\"A1\":[78,60,92,88],\n",
    "           \"A2\":[66,88,77,90],\n",
    "           \"A3\":[77,93,83,73],\n",
    "           \"A4\":[55,99,96,87]}\n",
    "tot = 0\n",
    "for a in class_a.items():\n",
    "    tot +=1\n",
    "print('A반 학생은 총', tot, '명이다')"
   ]
  },
  {
   "cell_type": "markdown",
   "id": "e077b0b9",
   "metadata": {},
   "source": [
    "##실습4. 학생별 총점과 평균은?"
   ]
  },
  {
   "cell_type": "code",
   "execution_count": 88,
   "id": "c69748eb",
   "metadata": {},
   "outputs": [
    {
     "name": "stdout",
     "output_type": "stream",
     "text": [
      "A1 총점: 318 평균: 79.5\n",
      "A2 총점: 321 평균: 80.25\n",
      "A3 총점: 326 평균: 81.5\n",
      "A4 총점: 337 평균: 84.25\n"
     ]
    }
   ],
   "source": [
    "class_a = {\"A1\":[78,60,92,88],\n",
    "           \"A2\":[66,88,77,90],\n",
    "           \"A3\":[77,93,83,73],\n",
    "           \"A4\":[55,99,96,87]}\n",
    "for a in class_a.items():\n",
    "    tot = 0           #위치 조심\n",
    "    for i in a[1]:\n",
    "        tot = tot + i\n",
    "    print(a[0], '총점:', tot, '평균:', tot/len(a[1]))"
   ]
  },
  {
   "cell_type": "markdown",
   "id": "500daf6a",
   "metadata": {},
   "source": [
    "#5. 개인별 점수 합계, 평균 저장하기 (dict방식)"
   ]
  },
  {
   "cell_type": "code",
   "execution_count": 82,
   "id": "1b9af566",
   "metadata": {},
   "outputs": [
    {
     "name": "stdout",
     "output_type": "stream",
     "text": [
      "{'A1': [318, 79.5], 'A2': [321, 80.25], 'A3': [326, 81.5], 'A4': [337, 84.25]}\n"
     ]
    }
   ],
   "source": [
    "class_a = {\"A1\":[78,60,92,88],\n",
    "           \"A2\":[66,88,77,90],\n",
    "           \"A3\":[77,93,83,73],\n",
    "           \"A4\":[55,99,96,87]}\n",
    "tot_dict = {}\n",
    "for a in class_a.items():\n",
    "    tot = 0\n",
    "    for i in a[1]:\n",
    "        tot = tot + i\n",
    "    tot_dict[a[0]] = [tot, tot/len(a[1])]\n",
    "print(tot_dict)"
   ]
  },
  {
   "cell_type": "markdown",
   "id": "6bc73ce0",
   "metadata": {},
   "source": [
    "#6. 개인별 점수 합계, 평균 저장하기 (list방식)"
   ]
  },
  {
   "cell_type": "code",
   "execution_count": 115,
   "id": "573c53c0",
   "metadata": {},
   "outputs": [
    {
     "name": "stdout",
     "output_type": "stream",
     "text": [
      "[['A1', 318, 79.5], ['A2', 321, 80.25], ['A3', 326, 81.5], ['A4', 337, 84.25]]\n"
     ]
    }
   ],
   "source": [
    "class_a = {\"A1\":[78,60,92,88],\n",
    "           \"A2\":[66,88,77,90],\n",
    "           \"A3\":[77,93,83,73],\n",
    "           \"A4\":[55,99,96,87]}\n",
    "tot_list = []\n",
    "for a in class_a.items():\n",
    "    tot = 0\n",
    "    for i in a[1]:\n",
    "        tot = tot + i\n",
    "    tot_list.append([a[0], tot, tot/len(a[1])])\n",
    "print(tot_list)"
   ]
  },
  {
   "cell_type": "markdown",
   "id": "c7ceca21",
   "metadata": {},
   "source": [
    "##6장"
   ]
  },
  {
   "cell_type": "code",
   "execution_count": 117,
   "id": "cff0b767",
   "metadata": {},
   "outputs": [
    {
     "name": "stdout",
     "output_type": "stream",
     "text": [
      "so*ryeong\n"
     ]
    }
   ],
   "source": [
    "print('so','ryeong',sep = '*')"
   ]
  },
  {
   "cell_type": "code",
   "execution_count": 121,
   "id": "90eca665",
   "metadata": {},
   "outputs": [
    {
     "name": "stdout",
     "output_type": "stream",
     "text": [
      "hi, i am soryeong \n",
      " good bye\n"
     ]
    }
   ],
   "source": [
    "print('hi, i am soryeong \\n good bye')"
   ]
  },
  {
   "cell_type": "code",
   "execution_count": 122,
   "id": "57758206",
   "metadata": {},
   "outputs": [
    {
     "name": "stdout",
     "output_type": "stream",
     "text": [
      "hi, i am soryeong\n",
      "good bye\n"
     ]
    }
   ],
   "source": [
    "print('hi, i am soryeong')\n",
    "print('good bye')"
   ]
  },
  {
   "cell_type": "code",
   "execution_count": 126,
   "id": "cea60a9b",
   "metadata": {},
   "outputs": [
    {
     "name": "stdout",
     "output_type": "stream",
     "text": [
      "hi, i am soryeong good bye\n"
     ]
    }
   ],
   "source": [
    "print('hi, i am soryeong',end = ' ')\n",
    "print('good bye')"
   ]
  },
  {
   "cell_type": "code",
   "execution_count": 129,
   "id": "ccd53e12",
   "metadata": {},
   "outputs": [
    {
     "name": "stdout",
     "output_type": "stream",
     "text": [
      "소령는 나의 친구입니다.\n"
     ]
    }
   ],
   "source": [
    "name = '소령'\n",
    "print('%s는 나의 친구입니다.' %name)"
   ]
  },
  {
   "cell_type": "code",
   "execution_count": 137,
   "id": "44ee4d27",
   "metadata": {},
   "outputs": [
    {
     "name": "stdout",
     "output_type": "stream",
     "text": [
      "animals: cat, dog, pig\n"
     ]
    }
   ],
   "source": [
    "a = 'cat' ; b = 'dog' ; c= 'pig'\n",
    "print('animals: {}, {}, {}'.format(a,b,c))"
   ]
  },
  {
   "cell_type": "code",
   "execution_count": 138,
   "id": "d3766479",
   "metadata": {},
   "outputs": [
    {
     "name": "stdout",
     "output_type": "stream",
     "text": [
      "animals: pig, dog\n"
     ]
    }
   ],
   "source": [
    "print('animals: {2}, {1}'.format(a,b,c))"
   ]
  },
  {
   "cell_type": "code",
   "execution_count": 145,
   "id": "64fe5aae",
   "metadata": {},
   "outputs": [
    {
     "name": "stdout",
     "output_type": "stream",
     "text": [
      "name= soryeong, age= 25, city= seoul\n"
     ]
    }
   ],
   "source": [
    "a = 'soryeong'\n",
    "b = 25\n",
    "c = 'seoul'\n",
    "fmt_string = 'name= {}, age= {}, city= {}'\n",
    "print(fmt_string.format(a, b, c))"
   ]
  },
  {
   "cell_type": "code",
   "execution_count": 152,
   "id": "a30eb0ca",
   "metadata": {},
   "outputs": [
    {
     "name": "stdout",
     "output_type": "stream",
     "text": [
      "이름이 무엇인가요?소령\n",
      "반가워요 소령\n"
     ]
    }
   ],
   "source": [
    "name = input('이름이 무엇인가요?')\n",
    "print('반가워요', name)"
   ]
  },
  {
   "cell_type": "code",
   "execution_count": 161,
   "id": "40a9f0d0",
   "metadata": {},
   "outputs": [
    {
     "name": "stdout",
     "output_type": "stream",
     "text": [
      "정사각형 한 변의 길이는? 4\n",
      "정사각형의 넓이:  16\n"
     ]
    }
   ],
   "source": [
    "x = input('정사각형 한 변의 길이는? ')\n",
    "area = int(x)**2\n",
    "print('정사각형의 넓이: ',area)"
   ]
  },
  {
   "cell_type": "code",
   "execution_count": 158,
   "id": "0d076469",
   "metadata": {},
   "outputs": [
    {
     "name": "stdout",
     "output_type": "stream",
     "text": [
      "정사각형 한 변의 길이는?50\n",
      "정사각형의 넓이: 2500\n"
     ]
    }
   ],
   "source": [
    "x = input('정사각형 한 변의 길이는?')\n",
    "area = int(x)**2\n",
    "print('정사각형의 넓이: {}'.format(area))"
   ]
  },
  {
   "cell_type": "code",
   "execution_count": 157,
   "id": "05a8de23",
   "metadata": {},
   "outputs": [
    {
     "name": "stdout",
     "output_type": "stream",
     "text": [
      "숫자를 입력하세요50\n",
      "당신이 입력한 숫자는 50입니다\n"
     ]
    }
   ],
   "source": [
    "num = input('숫자를 입력하세요')\n",
    "print('당신이 입력한 숫자는 {}입니다'.format(num))"
   ]
  },
  {
   "cell_type": "code",
   "execution_count": 164,
   "id": "44981c08",
   "metadata": {},
   "outputs": [
    {
     "name": "stdout",
     "output_type": "stream",
     "text": [
      "c:\\soryeong\n"
     ]
    }
   ],
   "source": [
    "cd c:\\soryeong  #폴더 이동"
   ]
  },
  {
   "cell_type": "code",
   "execution_count": 166,
   "id": "c5a72dcf",
   "metadata": {},
   "outputs": [],
   "source": [
    "f = open('myfile.txt', 'w') #파일 쓰기 모드로 열기\n",
    "f.write('hi, i want sleep') #문자열 작성\n",
    "f.close() #파일 닫기"
   ]
  },
  {
   "cell_type": "code",
   "execution_count": 168,
   "id": "c6f8feea",
   "metadata": {},
   "outputs": [
    {
     "name": "stdout",
     "output_type": "stream",
     "text": [
      "hi, i want sleep\n"
     ]
    }
   ],
   "source": [
    "!type myfile.txt #파일 내용 출력"
   ]
  },
  {
   "cell_type": "code",
   "execution_count": 173,
   "id": "dfd05975",
   "metadata": {},
   "outputs": [],
   "source": [
    "f = open('my_file.txt', 'w')\n",
    "f.write('hahaha')\n",
    "f.close()"
   ]
  },
  {
   "cell_type": "code",
   "execution_count": 176,
   "id": "a45935be",
   "metadata": {},
   "outputs": [
    {
     "name": "stdout",
     "output_type": "stream",
     "text": [
      "hahaha\n"
     ]
    }
   ],
   "source": [
    "!type my_file.txt"
   ]
  },
  {
   "cell_type": "code",
   "execution_count": 179,
   "id": "420d9562",
   "metadata": {},
   "outputs": [
    {
     "name": "stdout",
     "output_type": "stream",
     "text": [
      "hahaha\n"
     ]
    }
   ],
   "source": [
    "f = open('my_file.txt', 'r')   #파일 읽기 모드로 열기\n",
    "file_text=f.read()  #파일 내용 읽은 후 변수에 저장\n",
    "f.close()  #파일 닫기\n",
    "\n",
    "print(file_text)  #변수에 저장된 내용 출력"
   ]
  },
  {
   "cell_type": "code",
   "execution_count": 334,
   "id": "fb624ebf",
   "metadata": {},
   "outputs": [],
   "source": [
    "#파일에 문자열 한 줄씩 쓰기\n",
    "\n",
    "f = open('c:/soryeong/table.txt', 'w')\n",
    "for num in range(1,6):\n",
    "    gugudan = '2 * {0} = {1}\\n'.format(num, num*2)\n",
    "    f.write(gugudan)\n",
    "f.close()"
   ]
  },
  {
   "cell_type": "code",
   "execution_count": 336,
   "id": "fe1fd4df",
   "metadata": {},
   "outputs": [
    {
     "name": "stdout",
     "output_type": "stream",
     "text": [
      "2 * 1 = 2\n",
      "2 * 2 = 4\n",
      "2 * 3 = 6\n",
      "2 * 4 = 8\n",
      "2 * 5 = 10\n"
     ]
    }
   ],
   "source": [
    "!type table.txt"
   ]
  },
  {
   "cell_type": "code",
   "execution_count": 340,
   "id": "bfd42133",
   "metadata": {},
   "outputs": [
    {
     "name": "stdout",
     "output_type": "stream",
     "text": [
      "2 * 1 = 2\n",
      "2 * 2 = 4\n"
     ]
    }
   ],
   "source": [
    "#문자열 한 줄씩 읽기\n",
    "f = open('c:/soryeong/table.txt')\n",
    "line1 = f.readline()\n",
    "line2 = f.readline()\n",
    "f.close()\n",
    "print(line1, end='')\n",
    "print(line2, end='')"
   ]
  },
  {
   "cell_type": "code",
   "execution_count": 353,
   "id": "7500a450",
   "metadata": {},
   "outputs": [
    {
     "name": "stdout",
     "output_type": "stream",
     "text": [
      "2 * 1 = 2\n",
      "2 * 2 = 4\n",
      "2 * 3 = 6\n",
      "2 * 4 = 8\n",
      "2 * 5 = 10\n"
     ]
    }
   ],
   "source": [
    "f = open('c:/soryeong/table.txt')\n",
    "line = f.readline()\n",
    "while line:  #line이 공백인지 검사 후 반복 여부 결정\n",
    "    print(line, end='') \n",
    "    line = f.readline()\n",
    "f.close()"
   ]
  },
  {
   "cell_type": "code",
   "execution_count": 347,
   "id": "161051e9",
   "metadata": {},
   "outputs": [
    {
     "name": "stdout",
     "output_type": "stream",
     "text": [
      "2 * 1 = 2\n",
      "2 * 2 = 4\n",
      "2 * 3 = 6\n",
      "2 * 4 = 8\n",
      "2 * 5 = 10\n"
     ]
    }
   ],
   "source": [
    "f=open('c:/soryeong/table.txt')\n",
    "!type table.txt"
   ]
  },
  {
   "cell_type": "code",
   "execution_count": 349,
   "id": "3238e487",
   "metadata": {},
   "outputs": [
    {
     "name": "stdout",
     "output_type": "stream",
     "text": [
      "['2 * 1 = 2\\n', '2 * 2 = 4\\n', '2 * 3 = 6\\n', '2 * 4 = 8\\n', '2 * 5 = 10\\n']\n"
     ]
    }
   ],
   "source": [
    "f = open('c:/soryeong/table.txt')\n",
    "lines = f.readlines()  #파일 전체 읽기 = 리스트로 변환\n",
    "f.close\n",
    "\n",
    "print(lines)"
   ]
  },
  {
   "cell_type": "code",
   "execution_count": 391,
   "id": "4a4eab21",
   "metadata": {},
   "outputs": [
    {
     "name": "stdout",
     "output_type": "stream",
     "text": [
      "2 * 1 = 2\n",
      "2 * 2 = 4\n",
      "2 * 3 = 6\n",
      "2 * 4 = 8\n",
      "2 * 5 = 10\n"
     ]
    }
   ],
   "source": [
    "f = open('c:/soryeong/table.txt')\n",
    "lines = f.readlines()\n",
    "f.close()\n",
    "for line in lines:\n",
    "    print(line, end='')"
   ]
  },
  {
   "cell_type": "code",
   "execution_count": 355,
   "id": "01996f12",
   "metadata": {},
   "outputs": [
    {
     "name": "stdout",
     "output_type": "stream",
     "text": [
      "2 * 1 = 2\n",
      "2 * 2 = 4\n",
      "2 * 3 = 6\n",
      "2 * 4 = 8\n",
      "2 * 5 = 10\n"
     ]
    }
   ],
   "source": [
    "f = f = open('c:/soryeong/table.txt')\n",
    "for line in f.readlines():\n",
    "    print(line, end='')\n",
    "f.close()"
   ]
  },
  {
   "cell_type": "code",
   "execution_count": 358,
   "id": "78dd2329",
   "metadata": {},
   "outputs": [
    {
     "name": "stdout",
     "output_type": "stream",
     "text": [
      "2 * 1 = 2\n",
      "2 * 2 = 4\n",
      "2 * 3 = 6\n",
      "2 * 4 = 8\n",
      "2 * 5 = 10\n"
     ]
    }
   ],
   "source": [
    "f = f = open('c:/soryeong/table.txt')\n",
    "for line in f:\n",
    "    print(line, end='')\n",
    "f.close()"
   ]
  },
  {
   "cell_type": "code",
   "execution_count": 383,
   "id": "4e8f3d69",
   "metadata": {},
   "outputs": [],
   "source": [
    "with open('c:/soryeong/table2', 'w') as f:\n",
    "    f.write('File read/write test2: line1\\n')\n",
    "    f.write('File read/write test2: line2\\n')\n",
    "    f.write('File read/write test2: line3\\n')"
   ]
  },
  {
   "cell_type": "code",
   "execution_count": 384,
   "id": "f6a1da3f",
   "metadata": {},
   "outputs": [
    {
     "name": "stdout",
     "output_type": "stream",
     "text": [
      "File read/write test2: line1\n",
      "File read/write test2: line2\n",
      "File read/write test2: line3\n"
     ]
    }
   ],
   "source": [
    "!type table2"
   ]
  },
  {
   "cell_type": "code",
   "execution_count": 386,
   "id": "d845f9a1",
   "metadata": {},
   "outputs": [
    {
     "name": "stdout",
     "output_type": "stream",
     "text": [
      "File read/write test2: line1\n",
      "File read/write test2: line2\n",
      "File read/write test2: line3\n",
      "\n"
     ]
    }
   ],
   "source": [
    "with open('c:/soryeong/table2') as f:\n",
    "    data = f.read()\n",
    "    print(data)"
   ]
  },
  {
   "cell_type": "code",
   "execution_count": 388,
   "id": "ba4a024d",
   "metadata": {},
   "outputs": [],
   "source": [
    "with open('c:/soryeong/table3', 'w') as f:\n",
    "    for num in range(6):\n",
    "        aa = '3 * {} = {}\\n'.format(num, num*3)\n",
    "        f.write(aa)"
   ]
  },
  {
   "cell_type": "code",
   "execution_count": 390,
   "id": "02f4c1fe",
   "metadata": {},
   "outputs": [
    {
     "name": "stdout",
     "output_type": "stream",
     "text": [
      "3 * 0 = 0\n",
      "3 * 1 = 3\n",
      "3 * 2 = 6\n",
      "3 * 3 = 9\n",
      "3 * 4 = 12\n",
      "3 * 5 = 15\n"
     ]
    }
   ],
   "source": [
    "!type table3"
   ]
  },
  {
   "cell_type": "code",
   "execution_count": 397,
   "id": "4ae44556",
   "metadata": {},
   "outputs": [
    {
     "name": "stdout",
     "output_type": "stream",
     "text": [
      "3 * 0 = 0\n",
      " *\n",
      "3 * 1 = 3\n",
      " *\n",
      "3 * 2 = 6\n",
      " *\n",
      "3 * 3 = 9\n",
      " *\n",
      "3 * 4 = 12\n",
      " *\n",
      "3 * 5 = 15\n",
      " *\n"
     ]
    }
   ],
   "source": [
    "with open('c:/soryeong/table3', 'r') as f:\n",
    "    for b in f:\n",
    "        print(b,'*')"
   ]
  },
  {
   "cell_type": "code",
   "execution_count": null,
   "id": "c427fe62",
   "metadata": {},
   "outputs": [],
   "source": []
  },
  {
   "cell_type": "markdown",
   "id": "5f585210",
   "metadata": {},
   "source": [
    "##7장"
   ]
  },
  {
   "cell_type": "code",
   "execution_count": 226,
   "id": "c0d832bb",
   "metadata": {},
   "outputs": [],
   "source": [
    "def my_func():\n",
    "    print('my first function!')\n",
    "    print('this is a function.')"
   ]
  },
  {
   "cell_type": "code",
   "execution_count": 229,
   "id": "041aa118",
   "metadata": {},
   "outputs": [
    {
     "name": "stdout",
     "output_type": "stream",
     "text": [
      "my first function!\n",
      "this is a function.\n"
     ]
    }
   ],
   "source": [
    "my_func()"
   ]
  },
  {
   "cell_type": "code",
   "execution_count": 231,
   "id": "2aca3635",
   "metadata": {},
   "outputs": [],
   "source": [
    "def my_friend(name):\n",
    "    print('{}는 나의 친구입니다.'.format(name))"
   ]
  },
  {
   "cell_type": "code",
   "execution_count": 232,
   "id": "30f6e09b",
   "metadata": {},
   "outputs": [
    {
     "name": "stdout",
     "output_type": "stream",
     "text": [
      "소령는 나의 친구입니다.\n"
     ]
    }
   ],
   "source": [
    "my_friend('소령')"
   ]
  },
  {
   "cell_type": "code",
   "execution_count": 235,
   "id": "324a75f9",
   "metadata": {},
   "outputs": [],
   "source": [
    "def info(name, ID, phonenumber):\n",
    "    print('-'*20)\n",
    "    print('-학생이름: ',name)\n",
    "    print('-학급번호: ',ID)\n",
    "    print('-전화번호: ',phonenumber)\n",
    "    print('-'*20)"
   ]
  },
  {
   "cell_type": "code",
   "execution_count": 237,
   "id": "cf6b549e",
   "metadata": {},
   "outputs": [
    {
     "name": "stdout",
     "output_type": "stream",
     "text": [
      "--------------------\n",
      "-학생이름:  이소령\n",
      "-학급번호:  01\n",
      "-전화번호:  010-****-****\n",
      "--------------------\n"
     ]
    }
   ],
   "source": [
    "info('이소령', '01','010-****-****')"
   ]
  },
  {
   "cell_type": "code",
   "execution_count": 239,
   "id": "67e4a265",
   "metadata": {},
   "outputs": [],
   "source": [
    "def calc(x,y):\n",
    "    z = x*y\n",
    "    return z"
   ]
  },
  {
   "cell_type": "code",
   "execution_count": 240,
   "id": "59bf550f",
   "metadata": {},
   "outputs": [
    {
     "data": {
      "text/plain": [
       "10"
      ]
     },
     "execution_count": 240,
     "metadata": {},
     "output_type": "execute_result"
    }
   ],
   "source": [
    "calc(2,5)"
   ]
  },
  {
   "cell_type": "code",
   "execution_count": 253,
   "id": "cfec0797",
   "metadata": {},
   "outputs": [],
   "source": [
    "def info_list(info):\n",
    "    print('*******************')\n",
    "    print('학생이름:', info[0])\n",
    "    print('학급번호:', info[1])\n",
    "    print('전화번호:', info[2])\n",
    "    print('*******************')"
   ]
  },
  {
   "cell_type": "code",
   "execution_count": 255,
   "id": "e16a39b8",
   "metadata": {},
   "outputs": [
    {
     "name": "stdout",
     "output_type": "stream",
     "text": [
      "*******************\n",
      "학생이름: 소령\n",
      "학급번호: 01\n",
      "전화번호: 010-****-****\n",
      "*******************\n"
     ]
    }
   ],
   "source": [
    "info = ['소령','01','010-****-****']\n",
    "info_list(info)"
   ]
  },
  {
   "cell_type": "code",
   "execution_count": 261,
   "id": "d95cb807",
   "metadata": {},
   "outputs": [],
   "source": [
    "#같은 이름의 변수인 지역 변수와 전역 변수\n",
    "\n",
    "a = 5\n",
    "def func1():\n",
    "    a = 1\n",
    "    print('[func1] 지역 변수 a=', a)\n",
    "\n",
    "def func2():\n",
    "    a = 2\n",
    "    print('[func2] 지역 변수 a=', a)\n",
    "    \n",
    "def func3():\n",
    "    print('[func3] 전역 변수 a=', a)\n",
    "    \n",
    "def func4():\n",
    "    global a\n",
    "    a = 4\n",
    "    print('[func4] 전역 변수 a=', a)"
   ]
  },
  {
   "cell_type": "code",
   "execution_count": 262,
   "id": "96c43bbf",
   "metadata": {},
   "outputs": [
    {
     "name": "stdout",
     "output_type": "stream",
     "text": [
      "[func1] 지역 변수 a= 1\n",
      "[func2] 지역 변수 a= 2\n",
      "[func3] 전역 변수 a= 5\n",
      "[func4] 전역 변수 a= 4\n",
      "\n"
     ]
    }
   ],
   "source": [
    "func1()\n",
    "func2()\n",
    "func3()\n",
    "func4()\n",
    "print()"
   ]
  },
  {
   "cell_type": "markdown",
   "id": "51b89c2f",
   "metadata": {},
   "source": [
    "##lambda 함수\n",
    "(lambda 인자 : 인자 활용 수행 코드) (인자)"
   ]
  },
  {
   "cell_type": "code",
   "execution_count": 263,
   "id": "3605bdb4",
   "metadata": {},
   "outputs": [
    {
     "data": {
      "text/plain": [
       "9"
      ]
     },
     "execution_count": 263,
     "metadata": {},
     "output_type": "execute_result"
    }
   ],
   "source": [
    "(lambda x : x*3)(3)"
   ]
  },
  {
   "cell_type": "code",
   "execution_count": 267,
   "id": "5900a97c",
   "metadata": {},
   "outputs": [
    {
     "data": {
      "text/plain": [
       "25"
      ]
     },
     "execution_count": 267,
     "metadata": {},
     "output_type": "execute_result"
    }
   ],
   "source": [
    "(lambda y : y**2) (5)"
   ]
  },
  {
   "cell_type": "code",
   "execution_count": 268,
   "id": "4bc90045",
   "metadata": {},
   "outputs": [
    {
     "data": {
      "text/plain": [
       "16"
      ]
     },
     "execution_count": 268,
     "metadata": {},
     "output_type": "execute_result"
    }
   ],
   "source": [
    "a = lambda x : x**2\n",
    "a(4)"
   ]
  },
  {
   "cell_type": "code",
   "execution_count": 269,
   "id": "c249e716",
   "metadata": {},
   "outputs": [
    {
     "data": {
      "text/plain": [
       "11"
      ]
     },
     "execution_count": 269,
     "metadata": {},
     "output_type": "execute_result"
    }
   ],
   "source": [
    "b = lambda x,y,z : 2*x + 3*y + z\n",
    "b(1,2,3)"
   ]
  },
  {
   "cell_type": "markdown",
   "id": "209c8ca1",
   "metadata": {},
   "source": [
    "##형 변환 함수"
   ]
  },
  {
   "cell_type": "code",
   "execution_count": 272,
   "id": "935589b6",
   "metadata": {},
   "outputs": [
    {
     "data": {
      "text/plain": [
       "[32, 3, -10]"
      ]
     },
     "execution_count": 272,
     "metadata": {},
     "output_type": "execute_result"
    }
   ],
   "source": [
    "[int(32.4), int(3.18615), int(-10.46)]"
   ]
  },
  {
   "cell_type": "code",
   "execution_count": 273,
   "id": "87e10c05",
   "metadata": {},
   "outputs": [
    {
     "data": {
      "text/plain": [
       "[20.0]"
      ]
     },
     "execution_count": 273,
     "metadata": {},
     "output_type": "execute_result"
    }
   ],
   "source": [
    "[float(20)]  #실수형으로 변환"
   ]
  },
  {
   "cell_type": "code",
   "execution_count": 274,
   "id": "6a8d6155",
   "metadata": {},
   "outputs": [
    {
     "data": {
      "text/plain": [
       "'254'"
      ]
     },
     "execution_count": 274,
     "metadata": {},
     "output_type": "execute_result"
    }
   ],
   "source": [
    "str(254)  #문자형으로 변환"
   ]
  },
  {
   "cell_type": "code",
   "execution_count": null,
   "id": "b7d7f2d0",
   "metadata": {},
   "outputs": [],
   "source": []
  },
  {
   "cell_type": "code",
   "execution_count": 277,
   "id": "54829603",
   "metadata": {},
   "outputs": [
    {
     "data": {
      "text/plain": [
       "True"
      ]
     },
     "execution_count": 277,
     "metadata": {},
     "output_type": "execute_result"
    }
   ],
   "source": [
    "bool(1)"
   ]
  },
  {
   "cell_type": "code",
   "execution_count": 279,
   "id": "29dd3e5d",
   "metadata": {},
   "outputs": [
    {
     "data": {
      "text/plain": [
       "False"
      ]
     },
     "execution_count": 279,
     "metadata": {},
     "output_type": "execute_result"
    }
   ],
   "source": [
    "bool(0)"
   ]
  },
  {
   "cell_type": "code",
   "execution_count": 280,
   "id": "83aa8b23",
   "metadata": {},
   "outputs": [
    {
     "data": {
      "text/plain": [
       "True"
      ]
     },
     "execution_count": 280,
     "metadata": {},
     "output_type": "execute_result"
    }
   ],
   "source": [
    "bool(-3)"
   ]
  },
  {
   "cell_type": "code",
   "execution_count": 281,
   "id": "db71302b",
   "metadata": {},
   "outputs": [
    {
     "data": {
      "text/plain": [
       "True"
      ]
     },
     "execution_count": 281,
     "metadata": {},
     "output_type": "execute_result"
    }
   ],
   "source": [
    "bool('abc')  #문자열이 있으면 True"
   ]
  },
  {
   "cell_type": "code",
   "execution_count": 283,
   "id": "1e6ae5f5",
   "metadata": {},
   "outputs": [
    {
     "data": {
      "text/plain": [
       "True"
      ]
     },
     "execution_count": 283,
     "metadata": {},
     "output_type": "execute_result"
    }
   ],
   "source": [
    "bool(' ') #공백"
   ]
  },
  {
   "cell_type": "code",
   "execution_count": 285,
   "id": "fa1b69fb",
   "metadata": {},
   "outputs": [
    {
     "data": {
      "text/plain": [
       "False"
      ]
     },
     "execution_count": 285,
     "metadata": {},
     "output_type": "execute_result"
    }
   ],
   "source": [
    "bool('')"
   ]
  },
  {
   "cell_type": "code",
   "execution_count": 287,
   "id": "2d1fee5b",
   "metadata": {},
   "outputs": [
    {
     "data": {
      "text/plain": [
       "False"
      ]
     },
     "execution_count": 287,
     "metadata": {},
     "output_type": "execute_result"
    }
   ],
   "source": [
    "bool(None)"
   ]
  },
  {
   "cell_type": "code",
   "execution_count": 288,
   "id": "8d9ef84f",
   "metadata": {},
   "outputs": [
    {
     "data": {
      "text/plain": [
       "True"
      ]
     },
     "execution_count": 288,
     "metadata": {},
     "output_type": "execute_result"
    }
   ],
   "source": [
    "m = [1,2,3]\n",
    "bool(m)"
   ]
  },
  {
   "cell_type": "code",
   "execution_count": 289,
   "id": "f1240711",
   "metadata": {},
   "outputs": [
    {
     "data": {
      "text/plain": [
       "False"
      ]
     },
     "execution_count": 289,
     "metadata": {},
     "output_type": "execute_result"
    }
   ],
   "source": [
    "m = []\n",
    "bool(m)"
   ]
  },
  {
   "cell_type": "code",
   "execution_count": 290,
   "id": "b49030e5",
   "metadata": {},
   "outputs": [],
   "source": [
    "def pn(name):\n",
    "    if bool(name):\n",
    "        print('입력된 이름:', name)\n",
    "    else:\n",
    "        print('입력된 이름이 없습니다.')"
   ]
  },
  {
   "cell_type": "code",
   "execution_count": 293,
   "id": "b8338d36",
   "metadata": {},
   "outputs": [
    {
     "name": "stdout",
     "output_type": "stream",
     "text": [
      "입력된 이름이 없습니다.\n"
     ]
    }
   ],
   "source": [
    "pn('')"
   ]
  },
  {
   "cell_type": "code",
   "execution_count": 296,
   "id": "a436ad0e",
   "metadata": {},
   "outputs": [
    {
     "name": "stdout",
     "output_type": "stream",
     "text": [
      "입력된 이름: 소령\n"
     ]
    }
   ],
   "source": [
    "pn('소령')"
   ]
  },
  {
   "cell_type": "code",
   "execution_count": null,
   "id": "536e2d25",
   "metadata": {},
   "outputs": [],
   "source": []
  },
  {
   "cell_type": "code",
   "execution_count": 301,
   "id": "590367ee",
   "metadata": {},
   "outputs": [
    {
     "data": {
      "text/plain": [
       "98"
      ]
     },
     "execution_count": 301,
     "metadata": {},
     "output_type": "execute_result"
    }
   ],
   "source": [
    "mynum = [10,5,21,98,5,21,5]\n",
    "max(mynum)"
   ]
  },
  {
   "cell_type": "code",
   "execution_count": 302,
   "id": "ec7887f0",
   "metadata": {},
   "outputs": [
    {
     "data": {
      "text/plain": [
       "5"
      ]
     },
     "execution_count": 302,
     "metadata": {},
     "output_type": "execute_result"
    }
   ],
   "source": [
    "min(mynum)"
   ]
  },
  {
   "cell_type": "code",
   "execution_count": 309,
   "id": "12510eb2",
   "metadata": {},
   "outputs": [
    {
     "data": {
      "text/plain": [
       "5"
      ]
     },
     "execution_count": 309,
     "metadata": {},
     "output_type": "execute_result"
    }
   ],
   "source": [
    "abs(-5) #절댓값"
   ]
  },
  {
   "cell_type": "code",
   "execution_count": null,
   "id": "3ac37bc4",
   "metadata": {},
   "outputs": [],
   "source": []
  },
  {
   "cell_type": "markdown",
   "id": "2fe80a0b",
   "metadata": {},
   "source": [
    "##총점과 평균값 구하기"
   ]
  },
  {
   "cell_type": "code",
   "execution_count": 320,
   "id": "1f51cf37",
   "metadata": {},
   "outputs": [
    {
     "name": "stdout",
     "output_type": "stream",
     "text": [
      "총점: 350 평균값: 4\n"
     ]
    }
   ],
   "source": [
    "scores = [90, 80, 95, 85]\n",
    "sum = 0\n",
    "num = 0\n",
    "for a in scores:\n",
    "    sum = sum + a\n",
    "    num = num + 1\n",
    "print('총점:',sum, '평균값:',num) "
   ]
  },
  {
   "cell_type": "code",
   "execution_count": 333,
   "id": "ae0aa7fd",
   "metadata": {},
   "outputs": [
    {
     "name": "stdout",
     "output_type": "stream",
     "text": [
      "총점:350, 평균값:87.5\n"
     ]
    }
   ],
   "source": [
    "scores = [90, 80, 95, 85]\n",
    "\n",
    "print('총점:{}, 평균값:{}'.format(sum(scores), sum(scores)/len(scores)))"
   ]
  },
  {
   "cell_type": "code",
   "execution_count": null,
   "id": "17def1a2",
   "metadata": {},
   "outputs": [],
   "source": []
  },
  {
   "cell_type": "code",
   "execution_count": null,
   "id": "a9ed8e01",
   "metadata": {},
   "outputs": [],
   "source": []
  }
 ],
 "metadata": {
  "kernelspec": {
   "display_name": "Python 3",
   "language": "python",
   "name": "python3"
  },
  "language_info": {
   "codemirror_mode": {
    "name": "ipython",
    "version": 3
   },
   "file_extension": ".py",
   "mimetype": "text/x-python",
   "name": "python",
   "nbconvert_exporter": "python",
   "pygments_lexer": "ipython3",
   "version": "3.8.8"
  }
 },
 "nbformat": 4,
 "nbformat_minor": 5
}
