{
 "cells": [
  {
   "cell_type": "code",
   "execution_count": 2,
   "id": "b94e7064",
   "metadata": {},
   "outputs": [],
   "source": [
    "#1. 리스트 method"
   ]
  },
  {
   "cell_type": "code",
   "execution_count": 3,
   "id": "7654cedd",
   "metadata": {},
   "outputs": [],
   "source": [
    "#append()\n",
    "#리스트에서 항목 하나를 맨 마지막에 추가"
   ]
  },
  {
   "cell_type": "code",
   "execution_count": 4,
   "id": "931cd013",
   "metadata": {},
   "outputs": [],
   "source": [
    "#insert()\n",
    "#리스트에서 특정 위치에 항목을 삽입"
   ]
  },
  {
   "cell_type": "code",
   "execution_count": 5,
   "id": "ae0fdb56",
   "metadata": {},
   "outputs": [],
   "source": [
    "#extend()\n",
    "#리스트에서 항목 여러 개를 맨 마지막에 추가"
   ]
  },
  {
   "cell_type": "code",
   "execution_count": 6,
   "id": "62d9e57d",
   "metadata": {},
   "outputs": [],
   "source": [
    "#remove()\n",
    "#입력값과 첫 번째로 일치하는 항목을 리스트에서 삭제"
   ]
  },
  {
   "cell_type": "code",
   "execution_count": 7,
   "id": "242844b5",
   "metadata": {},
   "outputs": [],
   "source": [
    "#pop()\n",
    "#리스트의 마지막 항목을 제거한 후에 반환"
   ]
  },
  {
   "cell_type": "code",
   "execution_count": 8,
   "id": "1bc21677",
   "metadata": {},
   "outputs": [],
   "source": [
    "#index()\n",
    "#리스트에서 인자와 일치하는 첫 번째 항목의 위치를 반환"
   ]
  },
  {
   "cell_type": "code",
   "execution_count": 9,
   "id": "d2804291",
   "metadata": {},
   "outputs": [],
   "source": [
    "#count()\n",
    "#리스트에서 인자와 일치하는 항목의 개수를 반환"
   ]
  },
  {
   "cell_type": "code",
   "execution_count": 10,
   "id": "d5a4e2bc",
   "metadata": {},
   "outputs": [],
   "source": [
    "#sort()\n",
    "#숫자나 문자열로 구성된 리스트 항목을 순방향으로 정렬"
   ]
  },
  {
   "cell_type": "code",
   "execution_count": 11,
   "id": "bcceb284",
   "metadata": {},
   "outputs": [],
   "source": [
    "#reverse()\n",
    "#리스트 항목을 끝에서부터 역순으로 정렬"
   ]
  },
  {
   "cell_type": "code",
   "execution_count": null,
   "id": "c5a7f239",
   "metadata": {},
   "outputs": [],
   "source": []
  },
  {
   "cell_type": "code",
   "execution_count": 12,
   "id": "0c383081",
   "metadata": {},
   "outputs": [],
   "source": [
    "#2. 튜플 Method"
   ]
  },
  {
   "cell_type": "code",
   "execution_count": 13,
   "id": "d1669158",
   "metadata": {},
   "outputs": [],
   "source": [
    "#index()\n",
    "#리스트에서 인자와 일치하는 첫 번째 항목의 위치를 반환"
   ]
  },
  {
   "cell_type": "code",
   "execution_count": 14,
   "id": "fc144f66",
   "metadata": {},
   "outputs": [],
   "source": [
    "#count()\n",
    "#리스트에서 인자와 일치하는 항목의 개수를 반환"
   ]
  },
  {
   "cell_type": "code",
   "execution_count": null,
   "id": "02c82920",
   "metadata": {},
   "outputs": [],
   "source": []
  },
  {
   "cell_type": "code",
   "execution_count": 15,
   "id": "66724c8f",
   "metadata": {},
   "outputs": [],
   "source": [
    "#3. 딕셔너리 Method"
   ]
  },
  {
   "cell_type": "code",
   "execution_count": 16,
   "id": "eb4a3749",
   "metadata": {},
   "outputs": [],
   "source": [
    "#keys()\n",
    "#딕셔너리에서 키 전체를 리스트 형태로 반환"
   ]
  },
  {
   "cell_type": "code",
   "execution_count": 17,
   "id": "ea3dba79",
   "metadata": {},
   "outputs": [],
   "source": [
    "#values()\n",
    "#딕셔너리에서 값 전체를 리스트 형태로 반환"
   ]
  },
  {
   "cell_type": "code",
   "execution_count": 18,
   "id": "0e684da2",
   "metadata": {},
   "outputs": [],
   "source": [
    "#items()\n",
    "#딕셔너리에서 키와 값의 쌍을 (키,값)처럼 튜플 형태로 반환"
   ]
  },
  {
   "cell_type": "code",
   "execution_count": 20,
   "id": "e3e9aa16",
   "metadata": {},
   "outputs": [],
   "source": [
    "#update(dict_data2)\n",
    "#딕셔너리에 딕셔너리 데이터('dict_data2') 추가"
   ]
  },
  {
   "cell_type": "code",
   "execution_count": 21,
   "id": "5611a8d7",
   "metadata": {},
   "outputs": [],
   "source": [
    "#clear()\n",
    "#딕셔너리의 모든 항목 삭제"
   ]
  },
  {
   "cell_type": "code",
   "execution_count": null,
   "id": "bed530c4",
   "metadata": {},
   "outputs": [],
   "source": []
  },
  {
   "cell_type": "code",
   "execution_count": null,
   "id": "c6b28660",
   "metadata": {},
   "outputs": [],
   "source": [
    "#4. Strings Mehod"
   ]
  }
 ],
 "metadata": {
  "kernelspec": {
   "display_name": "Python 3",
   "language": "python",
   "name": "python3"
  },
  "language_info": {
   "codemirror_mode": {
    "name": "ipython",
    "version": 3
   },
   "file_extension": ".py",
   "mimetype": "text/x-python",
   "name": "python",
   "nbconvert_exporter": "python",
   "pygments_lexer": "ipython3",
   "version": "3.8.8"
  }
 },
 "nbformat": 4,
 "nbformat_minor": 5
}
