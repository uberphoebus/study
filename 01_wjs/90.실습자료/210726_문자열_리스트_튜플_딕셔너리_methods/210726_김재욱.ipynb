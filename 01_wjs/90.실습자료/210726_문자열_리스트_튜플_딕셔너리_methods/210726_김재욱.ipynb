{
 "cells": [
  {
   "cell_type": "markdown",
   "id": "3cad3782",
   "metadata": {},
   "source": [
    "(참고.python교육컨텐츠)"
   ]
  },
  {
   "cell_type": "code",
   "execution_count": 1,
   "id": "c26177b8",
   "metadata": {},
   "outputs": [
    {
     "name": "stdout",
     "output_type": "stream",
     "text": [
      "2\n"
     ]
    }
   ],
   "source": [
    "temp=2\n",
    "print(temp)"
   ]
  },
  {
   "cell_type": "markdown",
   "id": "46144f83",
   "metadata": {},
   "source": [
    "# (변수이름 부여 규칙)\n",
    "1.변수명 = 값(함수,,객체,,)\n",
    "\n",
    "2.변수 이름은?\n",
    "\n",
    "-영문대(A~Z)소문자(a~z), 숫자(0~9),_\n",
    "\n",
    "-단, 숫자가 맨 처음에 오면 안됨.."
   ]
  },
  {
   "cell_type": "code",
   "execution_count": 2,
   "id": "e9ecc580",
   "metadata": {},
   "outputs": [
    {
     "name": "stdout",
     "output_type": "stream",
     "text": [
      "['False', 'None', 'True', 'and', 'as', 'assert', 'async', 'await', 'break', 'class', 'continue', 'def', 'del', 'elif', 'else', 'except', 'finally', 'for', 'from', 'global', 'if', 'import', 'in', 'is', 'lambda', 'nonlocal', 'not', 'or', 'pass', 'raise', 'return', 'try', 'while', 'with', 'yield']\n"
     ]
    }
   ],
   "source": [
    "import keyword\n",
    "print(keyword.kwlist)"
   ]
  },
  {
   "cell_type": "code",
   "execution_count": 5,
   "id": "4be3a596",
   "metadata": {},
   "outputs": [
    {
     "name": "stdout",
     "output_type": "stream",
     "text": [
      "10\n",
      "4\n",
      "21\n",
      "2.3333333333333335\n"
     ]
    }
   ],
   "source": [
    "a=7;b=3\n",
    "print(a+b)\n",
    "print(a-b)\n",
    "print(a*b)\n",
    "print(a/b)"
   ]
  },
  {
   "cell_type": "code",
   "execution_count": 12,
   "id": "8361f18d",
   "metadata": {},
   "outputs": [
    {
     "name": "stdout",
     "output_type": "stream",
     "text": [
      "2\n",
      "1\n"
     ]
    }
   ],
   "source": [
    "print(a//b)\n",
    "print(a%b)"
   ]
  },
  {
   "cell_type": "code",
   "execution_count": 9,
   "id": "ff45730a",
   "metadata": {},
   "outputs": [
    {
     "name": "stdout",
     "output_type": "stream",
     "text": [
      "a+b= 10\n",
      "a-b=4\n",
      "a*b=7*3=21\n",
      "a/b=7 / 3 = 2.333333\n"
     ]
    }
   ],
   "source": [
    "print(\"a+b=\",a+b)\n",
    "print(\"a-b={}\".format(a-b))\n",
    "print(\"a*b={}*{}={}\".format(a,b,a*b))\n",
    "print(\"a/b=%d / %d = %f\"%(a,b,a/b))"
   ]
  },
  {
   "cell_type": "code",
   "execution_count": 13,
   "id": "d7a80212",
   "metadata": {},
   "outputs": [
    {
     "name": "stdout",
     "output_type": "stream",
     "text": [
      "a*b=3*7=21\n"
     ]
    }
   ],
   "source": [
    "print(\"a*b={1}*{0}={2}\".format(a,b,a*b))"
   ]
  },
  {
   "cell_type": "code",
   "execution_count": 14,
   "id": "130cfb46",
   "metadata": {},
   "outputs": [
    {
     "data": {
      "text/plain": [
       "8"
      ]
     },
     "execution_count": 14,
     "metadata": {},
     "output_type": "execute_result"
    }
   ],
   "source": [
    "a+int(\"1\")"
   ]
  },
  {
   "cell_type": "code",
   "execution_count": 15,
   "id": "9577557e",
   "metadata": {},
   "outputs": [],
   "source": [
    "del a"
   ]
  },
  {
   "cell_type": "code",
   "execution_count": 16,
   "id": "8fb18273",
   "metadata": {},
   "outputs": [
    {
     "ename": "NameError",
     "evalue": "name 'a' is not defined",
     "output_type": "error",
     "traceback": [
      "\u001b[1;31m---------------------------------------------------------------------------\u001b[0m",
      "\u001b[1;31mNameError\u001b[0m                                 Traceback (most recent call last)",
      "\u001b[1;32m<ipython-input-16-3f786850e387>\u001b[0m in \u001b[0;36m<module>\u001b[1;34m\u001b[0m\n\u001b[1;32m----> 1\u001b[1;33m \u001b[0ma\u001b[0m\u001b[1;33m\u001b[0m\u001b[1;33m\u001b[0m\u001b[0m\n\u001b[0m",
      "\u001b[1;31mNameError\u001b[0m: name 'a' is not defined"
     ]
    }
   ],
   "source": [
    "a"
   ]
  },
  {
   "cell_type": "markdown",
   "id": "fc7c9ee6",
   "metadata": {},
   "source": [
    "# (문자열) "
   ]
  },
  {
   "cell_type": "code",
   "execution_count": 17,
   "id": "74f3969f",
   "metadata": {},
   "outputs": [],
   "source": [
    "temp=\"python is easy\" #'python is easy'"
   ]
  },
  {
   "cell_type": "code",
   "execution_count": 18,
   "id": "0d3c35a0",
   "metadata": {},
   "outputs": [
    {
     "data": {
      "text/plain": [
       "'python is easy'"
      ]
     },
     "execution_count": 18,
     "metadata": {},
     "output_type": "execute_result"
    }
   ],
   "source": [
    "temp"
   ]
  },
  {
   "cell_type": "code",
   "execution_count": 19,
   "id": "4ca71519",
   "metadata": {},
   "outputs": [
    {
     "name": "stdout",
     "output_type": "stream",
     "text": [
      "python is easy\n"
     ]
    }
   ],
   "source": [
    "print(temp)"
   ]
  },
  {
   "cell_type": "code",
   "execution_count": 20,
   "id": "6cd1077f",
   "metadata": {},
   "outputs": [
    {
     "data": {
      "text/plain": [
       "14"
      ]
     },
     "execution_count": 20,
     "metadata": {},
     "output_type": "execute_result"
    }
   ],
   "source": [
    "len(temp)"
   ]
  },
  {
   "cell_type": "code",
   "execution_count": 21,
   "id": "4bdc6dc1",
   "metadata": {},
   "outputs": [
    {
     "data": {
      "text/plain": [
       "'pythonis easy'"
      ]
     },
     "execution_count": 21,
     "metadata": {},
     "output_type": "execute_result"
    }
   ],
   "source": [
    "'python'+'is easy'"
   ]
  },
  {
   "cell_type": "code",
   "execution_count": 22,
   "id": "ff1562d7",
   "metadata": {},
   "outputs": [
    {
     "data": {
      "text/plain": [
       "'pthon is easy'"
      ]
     },
     "execution_count": 22,
     "metadata": {},
     "output_type": "execute_result"
    }
   ],
   "source": [
    "'pthon '+'is easy'"
   ]
  },
  {
   "cell_type": "code",
   "execution_count": 23,
   "id": "f2548737",
   "metadata": {},
   "outputs": [
    {
     "data": {
      "text/plain": [
       "'python is easy'"
      ]
     },
     "execution_count": 23,
     "metadata": {},
     "output_type": "execute_result"
    }
   ],
   "source": [
    "a='python ';b='is easy'\n",
    "a+b"
   ]
  },
  {
   "cell_type": "code",
   "execution_count": 24,
   "id": "0ee2a303",
   "metadata": {},
   "outputs": [
    {
     "data": {
      "text/plain": [
       "'h'"
      ]
     },
     "execution_count": 24,
     "metadata": {},
     "output_type": "execute_result"
    }
   ],
   "source": [
    "##index[]\n",
    "temp='python is easy'\n",
    "temp[3]"
   ]
  },
  {
   "cell_type": "code",
   "execution_count": 25,
   "id": "e043d229",
   "metadata": {},
   "outputs": [
    {
     "data": {
      "text/plain": [
       "'pytho'"
      ]
     },
     "execution_count": 25,
     "metadata": {},
     "output_type": "execute_result"
    }
   ],
   "source": [
    "###slice[:]\n",
    "temp[0:5]"
   ]
  },
  {
   "cell_type": "code",
   "execution_count": 26,
   "id": "cb4387ab",
   "metadata": {},
   "outputs": [
    {
     "data": {
      "text/plain": [
       "'pytho'"
      ]
     },
     "execution_count": 26,
     "metadata": {},
     "output_type": "execute_result"
    }
   ],
   "source": [
    "st=0;en=5\n",
    "temp[st:en]"
   ]
  },
  {
   "cell_type": "code",
   "execution_count": 27,
   "id": "dc45ea66",
   "metadata": {},
   "outputs": [
    {
     "data": {
      "text/plain": [
       "'python is easy'"
      ]
     },
     "execution_count": 27,
     "metadata": {},
     "output_type": "execute_result"
    }
   ],
   "source": [
    "temp[:]"
   ]
  },
  {
   "cell_type": "code",
   "execution_count": 28,
   "id": "347ebb9e",
   "metadata": {},
   "outputs": [
    {
     "data": {
      "text/plain": [
       "'hon is easy'"
      ]
     },
     "execution_count": 28,
     "metadata": {},
     "output_type": "execute_result"
    }
   ],
   "source": [
    "temp[3:]"
   ]
  },
  {
   "cell_type": "code",
   "execution_count": 29,
   "id": "183fba98",
   "metadata": {},
   "outputs": [
    {
     "data": {
      "text/plain": [
       "'python is e'"
      ]
     },
     "execution_count": 29,
     "metadata": {},
     "output_type": "execute_result"
    }
   ],
   "source": [
    "temp[:-3]"
   ]
  },
  {
   "cell_type": "code",
   "execution_count": 30,
   "id": "cec2b190",
   "metadata": {},
   "outputs": [
    {
     "data": {
      "text/plain": [
       "'pto ses'"
      ]
     },
     "execution_count": 30,
     "metadata": {},
     "output_type": "execute_result"
    }
   ],
   "source": [
    "temp[::2]"
   ]
  },
  {
   "cell_type": "code",
   "execution_count": 31,
   "id": "e203c90e",
   "metadata": {},
   "outputs": [
    {
     "data": {
      "text/plain": [
       "'is'"
      ]
     },
     "execution_count": 31,
     "metadata": {},
     "output_type": "execute_result"
    }
   ],
   "source": [
    "temp[7:9]"
   ]
  },
  {
   "cell_type": "code",
   "execution_count": 32,
   "id": "888de114",
   "metadata": {},
   "outputs": [
    {
     "data": {
      "text/plain": [
       "str"
      ]
     },
     "execution_count": 32,
     "metadata": {},
     "output_type": "execute_result"
    }
   ],
   "source": [
    "type(temp)"
   ]
  },
  {
   "cell_type": "code",
   "execution_count": 34,
   "id": "ffc39a7f",
   "metadata": {},
   "outputs": [
    {
     "data": {
      "text/plain": [
       "['python', 'is', 'easy']"
      ]
     },
     "execution_count": 34,
     "metadata": {},
     "output_type": "execute_result"
    }
   ],
   "source": [
    "temp.split()"
   ]
  },
  {
   "cell_type": "code",
   "execution_count": 35,
   "id": "a8c3d9ac",
   "metadata": {},
   "outputs": [
    {
     "data": {
      "text/plain": [
       "'python,java,R,SAS'"
      ]
     },
     "execution_count": 35,
     "metadata": {},
     "output_type": "execute_result"
    }
   ],
   "source": [
    "temp2=\"python,java,R,SAS\"\n",
    "temp2"
   ]
  },
  {
   "cell_type": "code",
   "execution_count": 36,
   "id": "a50af1fd",
   "metadata": {},
   "outputs": [
    {
     "data": {
      "text/plain": [
       "['python', 'java', 'R', 'SAS']"
      ]
     },
     "execution_count": 36,
     "metadata": {},
     "output_type": "execute_result"
    }
   ],
   "source": [
    "temp2.split(\",\")"
   ]
  },
  {
   "cell_type": "code",
   "execution_count": 38,
   "id": "08b736e2",
   "metadata": {},
   "outputs": [
    {
     "data": {
      "text/plain": [
       "'localhost:8888/notebooks/kim/210726_기초문법_자료형.ipynb'"
      ]
     },
     "execution_count": 38,
     "metadata": {},
     "output_type": "execute_result"
    }
   ],
   "source": [
    "aa=\"localhost:8888/notebooks/kim/210726_기초문법_자료형.ipynb\"\n",
    "aa"
   ]
  },
  {
   "cell_type": "code",
   "execution_count": 43,
   "id": "3f54bdc0",
   "metadata": {},
   "outputs": [
    {
     "data": {
      "text/plain": [
       "'210726_기초문법_자료형.ipynb'"
      ]
     },
     "execution_count": 43,
     "metadata": {},
     "output_type": "execute_result"
    }
   ],
   "source": [
    "aa.split(\"/\")[-1]"
   ]
  },
  {
   "cell_type": "code",
   "execution_count": 44,
   "id": "0f01f952",
   "metadata": {},
   "outputs": [
    {
     "data": {
      "text/plain": [
       "'python,java,R,SAS'"
      ]
     },
     "execution_count": 44,
     "metadata": {},
     "output_type": "execute_result"
    }
   ],
   "source": [
    "temp2"
   ]
  },
  {
   "cell_type": "code",
   "execution_count": 47,
   "id": "d18ab095",
   "metadata": {},
   "outputs": [],
   "source": [
    "temp3=temp2.split(\",\")"
   ]
  },
  {
   "cell_type": "code",
   "execution_count": 48,
   "id": "ecc3ad1e",
   "metadata": {},
   "outputs": [
    {
     "data": {
      "text/plain": [
       "['python', 'java', 'R', 'SAS']"
      ]
     },
     "execution_count": 48,
     "metadata": {},
     "output_type": "execute_result"
    }
   ],
   "source": [
    "temp3"
   ]
  },
  {
   "cell_type": "code",
   "execution_count": 51,
   "id": "e6f7d15e",
   "metadata": {},
   "outputs": [
    {
     "data": {
      "text/plain": [
       "'python,java,R,SAS'"
      ]
     },
     "execution_count": 51,
     "metadata": {},
     "output_type": "execute_result"
    }
   ],
   "source": [
    "\",\".join(temp3)"
   ]
  },
  {
   "cell_type": "markdown",
   "id": "594d3f56",
   "metadata": {},
   "source": [
    "# (데이터구조)\n",
    "1.리스트\n",
    "2.튜플\n",
    "3.딕셔너리"
   ]
  },
  {
   "cell_type": "code",
   "execution_count": 52,
   "id": "bf11d202",
   "metadata": {},
   "outputs": [
    {
     "name": "stdout",
     "output_type": "stream",
     "text": [
      "['one', 'two', 'three', 'four']\n"
     ]
    }
   ],
   "source": [
    "##(리스트)\n",
    "num = ['one','two','three','four']\n",
    "print(num)"
   ]
  },
  {
   "cell_type": "code",
   "execution_count": 53,
   "id": "7d8268e5",
   "metadata": {},
   "outputs": [
    {
     "data": {
      "text/plain": [
       "list"
      ]
     },
     "execution_count": 53,
     "metadata": {},
     "output_type": "execute_result"
    }
   ],
   "source": [
    "type(num)"
   ]
  },
  {
   "cell_type": "code",
   "execution_count": 55,
   "id": "0f46d022",
   "metadata": {},
   "outputs": [
    {
     "data": {
      "text/plain": [
       "[1, 2, 3, 4, 5]"
      ]
     },
     "execution_count": 55,
     "metadata": {},
     "output_type": "execute_result"
    }
   ],
   "source": [
    "num1=[1,2,3,4,5]\n",
    "num1"
   ]
  },
  {
   "cell_type": "code",
   "execution_count": 58,
   "id": "aded6dc8",
   "metadata": {},
   "outputs": [
    {
     "data": {
      "text/plain": [
       "int"
      ]
     },
     "execution_count": 58,
     "metadata": {},
     "output_type": "execute_result"
    }
   ],
   "source": [
    "type(num1[0])"
   ]
  },
  {
   "cell_type": "code",
   "execution_count": 60,
   "id": "91a65bce",
   "metadata": {},
   "outputs": [
    {
     "data": {
      "text/plain": [
       "('one', 'two', 'three', 'four')"
      ]
     },
     "execution_count": 60,
     "metadata": {},
     "output_type": "execute_result"
    }
   ],
   "source": [
    "num_t=('one','two','three','four');num_t"
   ]
  },
  {
   "cell_type": "code",
   "execution_count": 61,
   "id": "d32a0a13",
   "metadata": {},
   "outputs": [
    {
     "data": {
      "text/plain": [
       "['one', 'two', 'three', 'four']"
      ]
     },
     "execution_count": 61,
     "metadata": {},
     "output_type": "execute_result"
    }
   ],
   "source": [
    "list(num_t)"
   ]
  },
  {
   "cell_type": "code",
   "execution_count": 62,
   "id": "12895513",
   "metadata": {},
   "outputs": [],
   "source": [
    "num3=list(num_t)"
   ]
  },
  {
   "cell_type": "code",
   "execution_count": 63,
   "id": "2026733f",
   "metadata": {},
   "outputs": [
    {
     "data": {
      "text/plain": [
       "['a', 'b', 'c', 'd', 'e']"
      ]
     },
     "execution_count": 63,
     "metadata": {},
     "output_type": "execute_result"
    }
   ],
   "source": [
    "bb='abcde'\n",
    "list(bb)"
   ]
  },
  {
   "cell_type": "code",
   "execution_count": 73,
   "id": "e2630539",
   "metadata": {},
   "outputs": [
    {
     "data": {
      "text/plain": [
       "['one', 'three']"
      ]
     },
     "execution_count": 73,
     "metadata": {},
     "output_type": "execute_result"
    }
   ],
   "source": [
    "num[0:3:2]"
   ]
  },
  {
   "cell_type": "code",
   "execution_count": 74,
   "id": "03e98446",
   "metadata": {},
   "outputs": [
    {
     "data": {
      "text/plain": [
       "4"
      ]
     },
     "execution_count": 74,
     "metadata": {},
     "output_type": "execute_result"
    }
   ],
   "source": [
    "len(num)"
   ]
  },
  {
   "cell_type": "code",
   "execution_count": 75,
   "id": "26352880",
   "metadata": {},
   "outputs": [
    {
     "data": {
      "text/plain": [
       "['one', 'two', 'three', 'four', 'five']"
      ]
     },
     "execution_count": 75,
     "metadata": {},
     "output_type": "execute_result"
    }
   ],
   "source": [
    "num.append(\"five\");num"
   ]
  },
  {
   "cell_type": "code",
   "execution_count": 76,
   "id": "a54cfc21",
   "metadata": {},
   "outputs": [],
   "source": [
    "new = []"
   ]
  },
  {
   "cell_type": "code",
   "execution_count": 77,
   "id": "6f9c2044",
   "metadata": {},
   "outputs": [
    {
     "data": {
      "text/plain": [
       "list"
      ]
     },
     "execution_count": 77,
     "metadata": {},
     "output_type": "execute_result"
    }
   ],
   "source": [
    "type(new)"
   ]
  },
  {
   "cell_type": "code",
   "execution_count": 78,
   "id": "84bedf21",
   "metadata": {},
   "outputs": [],
   "source": [
    "new.append(1);new.append(2);new.append('3')"
   ]
  },
  {
   "cell_type": "code",
   "execution_count": 80,
   "id": "32433285",
   "metadata": {},
   "outputs": [
    {
     "data": {
      "text/plain": [
       "str"
      ]
     },
     "execution_count": 80,
     "metadata": {},
     "output_type": "execute_result"
    }
   ],
   "source": [
    "type(new[2])"
   ]
  },
  {
   "cell_type": "code",
   "execution_count": 81,
   "id": "9f00d540",
   "metadata": {},
   "outputs": [
    {
     "data": {
      "text/plain": [
       "[1, '3']"
      ]
     },
     "execution_count": 81,
     "metadata": {},
     "output_type": "execute_result"
    }
   ],
   "source": [
    "del new[1];new"
   ]
  },
  {
   "cell_type": "code",
   "execution_count": 82,
   "id": "edcda009",
   "metadata": {},
   "outputs": [
    {
     "data": {
      "text/plain": [
       "['one', 'two', 'four', 'five']"
      ]
     },
     "execution_count": 82,
     "metadata": {},
     "output_type": "execute_result"
    }
   ],
   "source": [
    "num.remove(\"three\");num"
   ]
  },
  {
   "cell_type": "code",
   "execution_count": 83,
   "id": "0da7cbf4",
   "metadata": {},
   "outputs": [
    {
     "data": {
      "text/plain": [
       "['one', 'two', 'three', 'four']"
      ]
     },
     "execution_count": 83,
     "metadata": {},
     "output_type": "execute_result"
    }
   ],
   "source": [
    "num3"
   ]
  },
  {
   "cell_type": "code",
   "execution_count": 84,
   "id": "fff9abfa",
   "metadata": {},
   "outputs": [
    {
     "data": {
      "text/plain": [
       "[6, 7, 8, 9]"
      ]
     },
     "execution_count": 84,
     "metadata": {},
     "output_type": "execute_result"
    }
   ],
   "source": [
    "num4 = [6,7,8,9];num4"
   ]
  },
  {
   "cell_type": "code",
   "execution_count": 112,
   "id": "c4cbf837",
   "metadata": {},
   "outputs": [],
   "source": [
    "num3.extend(num4)"
   ]
  },
  {
   "cell_type": "code",
   "execution_count": 114,
   "id": "e6525efa",
   "metadata": {},
   "outputs": [
    {
     "data": {
      "text/plain": [
       "['one', 'two', 'three', 'four', 6, 7, 8, 9]"
      ]
     },
     "execution_count": 114,
     "metadata": {},
     "output_type": "execute_result"
    }
   ],
   "source": [
    "num3"
   ]
  },
  {
   "cell_type": "code",
   "execution_count": 119,
   "id": "c6b6f04b",
   "metadata": {},
   "outputs": [
    {
     "data": {
      "text/plain": [
       "[5, 4, 3, 2, 1]"
      ]
     },
     "execution_count": 119,
     "metadata": {},
     "output_type": "execute_result"
    }
   ],
   "source": [
    "num1.sort(reverse=True);num1"
   ]
  },
  {
   "cell_type": "code",
   "execution_count": 117,
   "id": "927ac58a",
   "metadata": {},
   "outputs": [
    {
     "data": {
      "text/plain": [
       "[1, 2, 3, 4, 5]"
      ]
     },
     "execution_count": 117,
     "metadata": {},
     "output_type": "execute_result"
    }
   ],
   "source": [
    "num1"
   ]
  },
  {
   "cell_type": "code",
   "execution_count": 120,
   "id": "6e8f8d6e",
   "metadata": {},
   "outputs": [
    {
     "data": {
      "text/plain": [
       "4"
      ]
     },
     "execution_count": 120,
     "metadata": {},
     "output_type": "execute_result"
    }
   ],
   "source": [
    "len(num)"
   ]
  },
  {
   "cell_type": "code",
   "execution_count": 121,
   "id": "35235f5e",
   "metadata": {},
   "outputs": [
    {
     "data": {
      "text/plain": [
       "4"
      ]
     },
     "execution_count": 121,
     "metadata": {},
     "output_type": "execute_result"
    }
   ],
   "source": [
    "len(num[2])"
   ]
  },
  {
   "cell_type": "code",
   "execution_count": 122,
   "id": "3c4e6e17",
   "metadata": {},
   "outputs": [
    {
     "data": {
      "text/plain": [
       "['one', 'two', 'four', 'five']"
      ]
     },
     "execution_count": 122,
     "metadata": {},
     "output_type": "execute_result"
    }
   ],
   "source": [
    "num"
   ]
  },
  {
   "cell_type": "code",
   "execution_count": 123,
   "id": "432315ae",
   "metadata": {},
   "outputs": [
    {
     "data": {
      "text/plain": [
       "['__add__',\n",
       " '__class__',\n",
       " '__contains__',\n",
       " '__delattr__',\n",
       " '__delitem__',\n",
       " '__dir__',\n",
       " '__doc__',\n",
       " '__eq__',\n",
       " '__format__',\n",
       " '__ge__',\n",
       " '__getattribute__',\n",
       " '__getitem__',\n",
       " '__gt__',\n",
       " '__hash__',\n",
       " '__iadd__',\n",
       " '__imul__',\n",
       " '__init__',\n",
       " '__init_subclass__',\n",
       " '__iter__',\n",
       " '__le__',\n",
       " '__len__',\n",
       " '__lt__',\n",
       " '__mul__',\n",
       " '__ne__',\n",
       " '__new__',\n",
       " '__reduce__',\n",
       " '__reduce_ex__',\n",
       " '__repr__',\n",
       " '__reversed__',\n",
       " '__rmul__',\n",
       " '__setattr__',\n",
       " '__setitem__',\n",
       " '__sizeof__',\n",
       " '__str__',\n",
       " '__subclasshook__',\n",
       " 'append',\n",
       " 'clear',\n",
       " 'copy',\n",
       " 'count',\n",
       " 'extend',\n",
       " 'index',\n",
       " 'insert',\n",
       " 'pop',\n",
       " 'remove',\n",
       " 'reverse',\n",
       " 'sort']"
      ]
     },
     "execution_count": 123,
     "metadata": {},
     "output_type": "execute_result"
    }
   ],
   "source": [
    "dir(num)"
   ]
  },
  {
   "cell_type": "markdown",
   "id": "2420e81c",
   "metadata": {},
   "source": [
    "# 튜플"
   ]
  },
  {
   "cell_type": "code",
   "execution_count": 125,
   "id": "dc8483d6",
   "metadata": {},
   "outputs": [
    {
     "data": {
      "text/plain": [
       "('a', 'b', 'c', 'd')"
      ]
     },
     "execution_count": 125,
     "metadata": {},
     "output_type": "execute_result"
    }
   ],
   "source": [
    "tup=(\"a\",\"b\",\"c\",\"d\");tup"
   ]
  },
  {
   "cell_type": "code",
   "execution_count": 146,
   "id": "833e81f5",
   "metadata": {},
   "outputs": [
    {
     "data": {
      "text/plain": [
       "('a', 'b', 'c', 'd')"
      ]
     },
     "execution_count": 146,
     "metadata": {},
     "output_type": "execute_result"
    }
   ],
   "source": [
    "tup.index('a',0,2);tup"
   ]
  },
  {
   "cell_type": "markdown",
   "id": "66e5c31e",
   "metadata": {},
   "source": [
    "# (딕셔너리)\n",
    "1.key - value\n",
    "2.{key1:value1,key2:value....}\n",
    "    value->문자,숫자,리스트..."
   ]
  },
  {
   "cell_type": "code",
   "execution_count": 197,
   "id": "f4f7f545",
   "metadata": {},
   "outputs": [
    {
     "ename": "SyntaxError",
     "evalue": "invalid syntax (<ipython-input-197-5f10cf2e5d99>, line 3)",
     "output_type": "error",
     "traceback": [
      "\u001b[1;36m  File \u001b[1;32m\"<ipython-input-197-5f10cf2e5d99>\"\u001b[1;36m, line \u001b[1;32m3\u001b[0m\n\u001b[1;33m    fruit.update(['banana':4000])\u001b[0m\n\u001b[1;37m                          ^\u001b[0m\n\u001b[1;31mSyntaxError\u001b[0m\u001b[1;31m:\u001b[0m invalid syntax\n"
     ]
    }
   ],
   "source": [
    "fruit={'cherry':5000,'peer':2500,'apple':3500}\n",
    "fruit.get('peer')\n",
    "fruit.update(['banana':4000])\n",
    "fruit"
   ]
  },
  {
   "cell_type": "code",
   "execution_count": 148,
   "id": "ff58080a",
   "metadata": {},
   "outputs": [
    {
     "data": {
      "text/plain": [
       "{'che': [5000, 3], 'pee': [2500, 2], 'app': [3500, 10]}"
      ]
     },
     "execution_count": 148,
     "metadata": {},
     "output_type": "execute_result"
    }
   ],
   "source": [
    "fruit1={'che':[5000,3],'pee':[2500,2],'app':[3500,10]}\n",
    "fruit1"
   ]
  },
  {
   "cell_type": "code",
   "execution_count": 149,
   "id": "90c09d36",
   "metadata": {},
   "outputs": [
    {
     "data": {
      "text/plain": [
       "[['apple', 3500], ['peer', 2500], ['cherry', 5000]]"
      ]
     },
     "execution_count": 149,
     "metadata": {},
     "output_type": "execute_result"
    }
   ],
   "source": [
    "fruit2=[['apple',3500],['peer',2500],['cherry',5000]]\n",
    "fruit2"
   ]
  },
  {
   "cell_type": "code",
   "execution_count": 150,
   "id": "09558173",
   "metadata": {},
   "outputs": [
    {
     "data": {
      "text/plain": [
       "{'apple': 3500, 'peer': 2500, 'cherry': 5000}"
      ]
     },
     "execution_count": 150,
     "metadata": {},
     "output_type": "execute_result"
    }
   ],
   "source": [
    "dict(fruit2)"
   ]
  },
  {
   "cell_type": "code",
   "execution_count": 151,
   "id": "ec8a8f8b",
   "metadata": {},
   "outputs": [
    {
     "data": {
      "text/plain": [
       "dict_keys(['cherry', 'peer', 'apple'])"
      ]
     },
     "execution_count": 151,
     "metadata": {},
     "output_type": "execute_result"
    }
   ],
   "source": [
    "fruit.keys()"
   ]
  },
  {
   "cell_type": "code",
   "execution_count": 152,
   "id": "014743ac",
   "metadata": {},
   "outputs": [
    {
     "data": {
      "text/plain": [
       "2500"
      ]
     },
     "execution_count": 152,
     "metadata": {},
     "output_type": "execute_result"
    }
   ],
   "source": [
    "fruit['peer']"
   ]
  },
  {
   "cell_type": "code",
   "execution_count": 156,
   "id": "5c7e37c5",
   "metadata": {},
   "outputs": [
    {
     "data": {
      "text/plain": [
       "[['apple', 3500], ['peer', [2500, 3]], ['cherry', 5000]]"
      ]
     },
     "execution_count": 156,
     "metadata": {},
     "output_type": "execute_result"
    }
   ],
   "source": [
    "fruit3=[['apple',3500],['peer',[2500,3]],['cherry',5000]];fruit3"
   ]
  },
  {
   "cell_type": "code",
   "execution_count": 160,
   "id": "95396c0c",
   "metadata": {},
   "outputs": [
    {
     "data": {
      "text/plain": [
       "[2500, 3]"
      ]
     },
     "execution_count": 160,
     "metadata": {},
     "output_type": "execute_result"
    }
   ],
   "source": [
    "fruit3[1][1]"
   ]
  },
  {
   "cell_type": "code",
   "execution_count": 161,
   "id": "230adee5",
   "metadata": {},
   "outputs": [
    {
     "data": {
      "text/plain": [
       "{'apple': 3500, 'peer': [2500, 3], 'cherry': 5000}"
      ]
     },
     "execution_count": 161,
     "metadata": {},
     "output_type": "execute_result"
    }
   ],
   "source": [
    "fruit4=dict(fruit3);fruit4"
   ]
  },
  {
   "cell_type": "code",
   "execution_count": 162,
   "id": "abcc37cb",
   "metadata": {},
   "outputs": [
    {
     "data": {
      "text/plain": [
       "dict_values([5000, 2500, 3500])"
      ]
     },
     "execution_count": 162,
     "metadata": {},
     "output_type": "execute_result"
    }
   ],
   "source": [
    "fruit.values()"
   ]
  },
  {
   "cell_type": "code",
   "execution_count": 163,
   "id": "c96431fc",
   "metadata": {},
   "outputs": [
    {
     "data": {
      "text/plain": [
       "dict_keys(['cherry', 'peer', 'apple'])"
      ]
     },
     "execution_count": 163,
     "metadata": {},
     "output_type": "execute_result"
    }
   ],
   "source": [
    "fruit.keys()"
   ]
  },
  {
   "cell_type": "code",
   "execution_count": 164,
   "id": "0a4775fa",
   "metadata": {},
   "outputs": [
    {
     "data": {
      "text/plain": [
       "dict_items([('cherry', 5000), ('peer', 2500), ('apple', 3500)])"
      ]
     },
     "execution_count": 164,
     "metadata": {},
     "output_type": "execute_result"
    }
   ],
   "source": [
    "fruit.items()"
   ]
  },
  {
   "cell_type": "code",
   "execution_count": 165,
   "id": "307881f1",
   "metadata": {},
   "outputs": [
    {
     "name": "stdout",
     "output_type": "stream",
     "text": [
      "Mustang\n"
     ]
    }
   ],
   "source": [
    "car = {\n",
    "  \"brand\": \"Ford\",\n",
    "  \"model\": \"Mustang\",\n",
    "  \"year\": 1964\n",
    "}\n",
    "\n",
    "x = car.get(\"model\")\n",
    "\n",
    "print(x)"
   ]
  },
  {
   "cell_type": "code",
   "execution_count": 168,
   "id": "b3a0e165",
   "metadata": {},
   "outputs": [
    {
     "data": {
      "text/plain": [
       "<function list.sort(*, key=None, reverse=False)>"
      ]
     },
     "execution_count": 168,
     "metadata": {},
     "output_type": "execute_result"
    }
   ],
   "source": [
    "num_t=['one','two','three','four']\n",
    "num_t.sort()"
   ]
  },
  {
   "cell_type": "code",
   "execution_count": 193,
   "id": "0aefe792",
   "metadata": {},
   "outputs": [
    {
     "ename": "AttributeError",
     "evalue": "'list' object has no attribute 'update'",
     "output_type": "error",
     "traceback": [
      "\u001b[1;31m---------------------------------------------------------------------------\u001b[0m",
      "\u001b[1;31mAttributeError\u001b[0m                            Traceback (most recent call last)",
      "\u001b[1;32m<ipython-input-193-5ee460f9fc5c>\u001b[0m in \u001b[0;36m<module>\u001b[1;34m\u001b[0m\n\u001b[0;32m      1\u001b[0m \u001b[0mnum_t\u001b[0m\u001b[1;33m=\u001b[0m\u001b[1;33m[\u001b[0m\u001b[1;33m[\u001b[0m\u001b[1;34m'one'\u001b[0m\u001b[1;33m,\u001b[0m\u001b[1;36m1\u001b[0m\u001b[1;33m]\u001b[0m\u001b[1;33m,\u001b[0m\u001b[1;33m[\u001b[0m\u001b[1;34m'two'\u001b[0m\u001b[1;33m,\u001b[0m\u001b[1;36m2\u001b[0m\u001b[1;33m]\u001b[0m\u001b[1;33m,\u001b[0m\u001b[1;33m[\u001b[0m\u001b[1;34m'three'\u001b[0m\u001b[1;33m,\u001b[0m\u001b[1;36m3\u001b[0m\u001b[1;33m]\u001b[0m\u001b[1;33m,\u001b[0m\u001b[1;33m[\u001b[0m\u001b[1;34m'four'\u001b[0m\u001b[1;33m,\u001b[0m\u001b[1;36m4\u001b[0m\u001b[1;33m]\u001b[0m\u001b[1;33m]\u001b[0m\u001b[1;33m;\u001b[0m\u001b[1;33m\u001b[0m\u001b[1;33m\u001b[0m\u001b[0m\n\u001b[0;32m      2\u001b[0m \u001b[0mnum_t\u001b[0m\u001b[1;33m.\u001b[0m\u001b[0msort\u001b[0m\u001b[1;33m(\u001b[0m\u001b[1;33m)\u001b[0m\u001b[1;33m\u001b[0m\u001b[1;33m\u001b[0m\u001b[0m\n\u001b[1;32m----> 3\u001b[1;33m \u001b[0mnum_t\u001b[0m\u001b[1;33m.\u001b[0m\u001b[0mupdate\u001b[0m\u001b[1;33m(\u001b[0m\u001b[1;33m[\u001b[0m\u001b[1;34m'five'\u001b[0m\u001b[1;33m,\u001b[0m\u001b[1;36m5\u001b[0m\u001b[1;33m]\u001b[0m\u001b[1;33m)\u001b[0m\u001b[1;33m\u001b[0m\u001b[1;33m\u001b[0m\u001b[0m\n\u001b[0m\u001b[0;32m      4\u001b[0m \u001b[0mnum_t\u001b[0m\u001b[1;33m\u001b[0m\u001b[1;33m\u001b[0m\u001b[0m\n",
      "\u001b[1;31mAttributeError\u001b[0m: 'list' object has no attribute 'update'"
     ]
    }
   ],
   "source": [
    "num_t=[['one',1],['two',2],['three',3],['four',4]];\n",
    "num_t.sort()\n",
    "num_t.update(['five',5])\n",
    "num_t"
   ]
  },
  {
   "cell_type": "code",
   "execution_count": 199,
   "id": "50d54c70",
   "metadata": {},
   "outputs": [
    {
     "ename": "SyntaxError",
     "evalue": "invalid syntax (<ipython-input-199-8910ec4a27c6>, line 1)",
     "output_type": "error",
     "traceback": [
      "\u001b[1;36m  File \u001b[1;32m\"<ipython-input-199-8910ec4a27c6>\"\u001b[1;36m, line \u001b[1;32m1\u001b[0m\n\u001b[1;33m    fruit.update('banana':4000)\u001b[0m\n\u001b[1;37m                         ^\u001b[0m\n\u001b[1;31mSyntaxError\u001b[0m\u001b[1;31m:\u001b[0m invalid syntax\n"
     ]
    }
   ],
   "source": [
    "fruit.update('banana':4000)\n",
    "fruit"
   ]
  },
  {
   "cell_type": "code",
   "execution_count": null,
   "id": "8199a986",
   "metadata": {},
   "outputs": [],
   "source": []
  }
 ],
 "metadata": {
  "kernelspec": {
   "display_name": "Python 3",
   "language": "python",
   "name": "python3"
  },
  "language_info": {
   "codemirror_mode": {
    "name": "ipython",
    "version": 3
   },
   "file_extension": ".py",
   "mimetype": "text/x-python",
   "name": "python",
   "nbconvert_exporter": "python",
   "pygments_lexer": "ipython3",
   "version": "3.8.8"
  }
 },
 "nbformat": 4,
 "nbformat_minor": 5
}
