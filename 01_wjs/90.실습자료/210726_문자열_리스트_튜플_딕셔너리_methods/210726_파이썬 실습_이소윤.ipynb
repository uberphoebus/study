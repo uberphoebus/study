{
 "cells": [
  {
   "cell_type": "markdown",
   "id": "15996af8",
   "metadata": {},
   "source": [
    "### String "
   ]
  },
  {
   "cell_type": "code",
   "execution_count": 5,
   "id": "ce91f466",
   "metadata": {},
   "outputs": [
    {
     "name": "stdout",
     "output_type": "stream",
     "text": [
      "Hello, nice to meet u\n"
     ]
    }
   ],
   "source": [
    "# 첫글자만 대문자로\n",
    "aa = \"hello, Nice to meet u\" \n",
    "x = aa.capitalize()\n",
    "print(x)"
   ]
  },
  {
   "cell_type": "code",
   "execution_count": 6,
   "id": "ec0176e9",
   "metadata": {},
   "outputs": [
    {
     "name": "stdout",
     "output_type": "stream",
     "text": [
      "hello, nice to meet u\n"
     ]
    }
   ],
   "source": [
    "# 모두 소문자로\n",
    "aa = \"Hello, Nice to meet u\"\n",
    "x = aa.casefold()\n",
    "print(x)"
   ]
  },
  {
   "cell_type": "code",
   "execution_count": 7,
   "id": "6f534561",
   "metadata": {},
   "outputs": [
    {
     "name": "stdout",
     "output_type": "stream",
     "text": [
      "       banana       \n"
     ]
    }
   ],
   "source": [
    "# 20개의 문자열 가운데로 위치시키기\n",
    "aa = \"banana\"\n",
    "x = aa.center(20)\n",
    "print(x)"
   ]
  },
  {
   "cell_type": "code",
   "execution_count": 8,
   "id": "602c355e",
   "metadata": {},
   "outputs": [
    {
     "name": "stdout",
     "output_type": "stream",
     "text": [
      "2\n"
     ]
    }
   ],
   "source": [
    "# apple이 몇 번 나오니?\n",
    "aa = \"I like apples, apple r my favorite fruit\"\n",
    "x = aa.count(\"apple\")\n",
    "print(x)"
   ]
  },
  {
   "cell_type": "code",
   "execution_count": 9,
   "id": "6c44ee27",
   "metadata": {},
   "outputs": [
    {
     "name": "stdout",
     "output_type": "stream",
     "text": [
      "b'My name is Soyun'\n"
     ]
    }
   ],
   "source": [
    "# encode가 뭐냐\n",
    "#aa = \"My name is Soyun\"\n",
    "#x = aa.encode()\n",
    "#print(x)"
   ]
  },
  {
   "cell_type": "code",
   "execution_count": 14,
   "id": "d8c413a5",
   "metadata": {},
   "outputs": [
    {
     "name": "stdout",
     "output_type": "stream",
     "text": [
      "True\n"
     ]
    }
   ],
   "source": [
    "# 마지막 글자가 u로 끝나니?\n",
    "aa = \"Hello, Nice to meet u\"\n",
    "x = aa.endswith(\"u\")\n",
    "print(x)"
   ]
  },
  {
   "cell_type": "code",
   "execution_count": 19,
   "id": "8a51237c",
   "metadata": {},
   "outputs": [
    {
     "name": "stdout",
     "output_type": "stream",
     "text": [
      "Hzzexxlzzlxxo\n"
     ]
    }
   ],
   "source": [
    "# 에러??\n",
    "#aa = \"Hzzexxlzzlxxo\"\n",
    "#print(aa.expandtabs())"
   ]
  },
  {
   "cell_type": "code",
   "execution_count": 21,
   "id": "1f0cb244",
   "metadata": {},
   "outputs": [
    {
     "name": "stdout",
     "output_type": "stream",
     "text": [
      "1\n"
     ]
    }
   ],
   "source": [
    "# 문자의 위치 - 첫번째로 나타나는 위치 의미\n",
    "# index와 유사\n",
    "aa = \"Hello, Nice to meet u\"\n",
    "print(aa.find(\"e\"))"
   ]
  },
  {
   "cell_type": "code",
   "execution_count": 22,
   "id": "240128dc",
   "metadata": {},
   "outputs": [
    {
     "name": "stdout",
     "output_type": "stream",
     "text": [
      "50.00 dollars!\n"
     ]
    }
   ],
   "source": [
    "# format 사용 (feat.소수 2자리도 나타내면서 ..)\n",
    "aa = \"{price:.2f} dollars!\"\n",
    "print(aa.format(price = 50))"
   ]
  },
  {
   "cell_type": "code",
   "execution_count": 26,
   "id": "233e49c9",
   "metadata": {},
   "outputs": [
    {
     "name": "stdout",
     "output_type": "stream",
     "text": [
      "My name is Soyun, I'm 27\n"
     ]
    }
   ],
   "source": [
    "aa = \"My name is {fname}, I'm {age}\".format(fname = \"Soyun\", age = 27)\n",
    "print(aa)"
   ]
  },
  {
   "cell_type": "code",
   "execution_count": 29,
   "id": "b01a4630",
   "metadata": {},
   "outputs": [
    {
     "name": "stdout",
     "output_type": "stream",
     "text": [
      "My name is Soyun, I'm 27\n"
     ]
    }
   ],
   "source": [
    "aa = \"My name is {0}, I'm {1}\".format(\"Soyun\", 27)\n",
    "print(aa)"
   ]
  },
  {
   "cell_type": "code",
   "execution_count": 31,
   "id": "78becae6",
   "metadata": {},
   "outputs": [
    {
     "name": "stdout",
     "output_type": "stream",
     "text": [
      "My name is Soyun, I'm 27\n"
     ]
    }
   ],
   "source": [
    "aa = \"My name is {}, I'm {}\".format(\"Soyun\", 27)\n",
    "print(aa)"
   ]
  },
  {
   "cell_type": "code",
   "execution_count": 32,
   "id": "a6d2d25d",
   "metadata": {},
   "outputs": [
    {
     "name": "stdout",
     "output_type": "stream",
     "text": [
      "7\n"
     ]
    }
   ],
   "source": [
    "# 문자의 위치 index\n",
    "# find와 유사\n",
    "# 단, find는 value 위치를 찾을 수 없을 때 -1 반환\n",
    "aa = \"Hello, Nice to meet u\"\n",
    "print(aa.index(\"Nice\"))"
   ]
  },
  {
   "cell_type": "code",
   "execution_count": 33,
   "id": "0ee4ae4a",
   "metadata": {},
   "outputs": [
    {
     "name": "stdout",
     "output_type": "stream",
     "text": [
      "True\n"
     ]
    }
   ],
   "source": [
    "# 영숫자로만 구성되어 있는 지 판별 \n",
    "# 단, 공백은 영숫자 아님. False\n",
    "aa = \"Apple12\"\n",
    "print(aa.isalnum())"
   ]
  },
  {
   "cell_type": "code",
   "execution_count": 35,
   "id": "ca9b1cad",
   "metadata": {
    "scrolled": true
   },
   "outputs": [
    {
     "name": "stdout",
     "output_type": "stream",
     "text": [
      "True\n"
     ]
    }
   ],
   "source": [
    "# 문자로만 구성되어 있는 지 판별\n",
    "x = \"AppleZ\"\n",
    "print(x.isalpha())"
   ]
  },
  {
   "cell_type": "code",
   "execution_count": null,
   "id": "201a6893",
   "metadata": {},
   "outputs": [],
   "source": []
  },
  {
   "cell_type": "code",
   "execution_count": null,
   "id": "3e22634b",
   "metadata": {},
   "outputs": [],
   "source": []
  },
  {
   "cell_type": "code",
   "execution_count": null,
   "id": "534cc88c",
   "metadata": {},
   "outputs": [],
   "source": []
  },
  {
   "cell_type": "code",
   "execution_count": null,
   "id": "86cae720",
   "metadata": {},
   "outputs": [],
   "source": []
  },
  {
   "cell_type": "code",
   "execution_count": null,
   "id": "9c186847",
   "metadata": {},
   "outputs": [],
   "source": []
  },
  {
   "cell_type": "code",
   "execution_count": null,
   "id": "77abe4ec",
   "metadata": {},
   "outputs": [],
   "source": []
  },
  {
   "cell_type": "code",
   "execution_count": null,
   "id": "89ace132",
   "metadata": {},
   "outputs": [],
   "source": []
  },
  {
   "cell_type": "code",
   "execution_count": null,
   "id": "f92da906",
   "metadata": {},
   "outputs": [],
   "source": []
  },
  {
   "cell_type": "code",
   "execution_count": null,
   "id": "111945b0",
   "metadata": {},
   "outputs": [],
   "source": []
  },
  {
   "cell_type": "code",
   "execution_count": null,
   "id": "87c098a2",
   "metadata": {},
   "outputs": [],
   "source": []
  },
  {
   "cell_type": "code",
   "execution_count": null,
   "id": "e75f91bf",
   "metadata": {},
   "outputs": [],
   "source": []
  },
  {
   "cell_type": "code",
   "execution_count": null,
   "id": "7b3109cb",
   "metadata": {},
   "outputs": [],
   "source": []
  },
  {
   "cell_type": "code",
   "execution_count": null,
   "id": "392f0b5c",
   "metadata": {},
   "outputs": [],
   "source": []
  },
  {
   "cell_type": "code",
   "execution_count": null,
   "id": "f30db3fb",
   "metadata": {},
   "outputs": [],
   "source": []
  },
  {
   "cell_type": "code",
   "execution_count": null,
   "id": "3bdda039",
   "metadata": {},
   "outputs": [],
   "source": []
  },
  {
   "cell_type": "code",
   "execution_count": null,
   "id": "cd7f24da",
   "metadata": {},
   "outputs": [],
   "source": []
  },
  {
   "cell_type": "code",
   "execution_count": null,
   "id": "91235b24",
   "metadata": {},
   "outputs": [],
   "source": []
  },
  {
   "cell_type": "code",
   "execution_count": null,
   "id": "50a40b56",
   "metadata": {},
   "outputs": [],
   "source": []
  },
  {
   "cell_type": "markdown",
   "id": "3e6212d7",
   "metadata": {},
   "source": [
    "### List [ 대괄호 ]"
   ]
  },
  {
   "cell_type": "code",
   "execution_count": 40,
   "id": "a4caef4e",
   "metadata": {},
   "outputs": [
    {
     "name": "stdout",
     "output_type": "stream",
     "text": [
      "['apple', 'banana', 'cherry', 'orrange']\n"
     ]
    }
   ],
   "source": [
    "# 리스트에 요소 추가\n",
    "과일 = ['apple','banana', 'cherry']\n",
    "과일.append('orrange')\n",
    "print(과일)"
   ]
  },
  {
   "cell_type": "code",
   "execution_count": 49,
   "id": "9ff55526",
   "metadata": {},
   "outputs": [
    {
     "name": "stdout",
     "output_type": "stream",
     "text": [
      "['a', 'b', 'c', ['Ford', 'BMW', 'Mazzda']]\n"
     ]
    }
   ],
   "source": [
    "# 선행하는 리스트A에 리스트B를 하나의 요소로 삽입\n",
    "A = [\"a\", \"b\",\"c\"]\n",
    "B = [\"Ford\", \"BMW\",\"Mazzda\"]\n",
    "A.append(B)\n",
    "print(A)"
   ]
  },
  {
   "cell_type": "code",
   "execution_count": 51,
   "id": "e71ea697",
   "metadata": {},
   "outputs": [
    {
     "name": "stdout",
     "output_type": "stream",
     "text": [
      "[]\n"
     ]
    }
   ],
   "source": [
    "# 리스트 요소 삭제\n",
    "A = ['a','b','c','d']\n",
    "A.clear()\n",
    "print(A)"
   ]
  },
  {
   "cell_type": "code",
   "execution_count": 52,
   "id": "d7feb662",
   "metadata": {},
   "outputs": [
    {
     "name": "stdout",
     "output_type": "stream",
     "text": [
      "['a', 'b', 'c', 'd']\n"
     ]
    }
   ],
   "source": [
    "# 리스트 복사\n",
    "A = ['a','b','c','d']\n",
    "X = A.copy()\n",
    "print(X)"
   ]
  },
  {
   "cell_type": "code",
   "execution_count": 53,
   "id": "e54343e5",
   "metadata": {},
   "outputs": [
    {
     "name": "stdout",
     "output_type": "stream",
     "text": [
      "1\n"
     ]
    }
   ],
   "source": [
    "# 요소가 몇번 등장?\n",
    "A = ['a','b','c']\n",
    "x = A.count('b')\n",
    "print(x)"
   ]
  },
  {
   "cell_type": "code",
   "execution_count": 54,
   "id": "cd286596",
   "metadata": {},
   "outputs": [
    {
     "name": "stdout",
     "output_type": "stream",
     "text": [
      "['a', 'b', 'c', 'Ford', 'BMW', 'Mazzda']\n"
     ]
    }
   ],
   "source": [
    "# 선행하는 리스트A에 리스트B의 요소들 삽입\n",
    "# append와 구분!!\n",
    "A = ['a','b','c']\n",
    "B = ['Ford','BMW','Mazzda']\n",
    "A.extend(B)\n",
    "print(A)"
   ]
  },
  {
   "cell_type": "code",
   "execution_count": 56,
   "id": "6e9db856",
   "metadata": {},
   "outputs": [
    {
     "name": "stdout",
     "output_type": "stream",
     "text": [
      "2\n"
     ]
    }
   ],
   "source": [
    "# 위치 찾기 (첫번째로 등장한)\n",
    "A = ['a','b','c','e','c']\n",
    "x= A.index('c')\n",
    "print(x)"
   ]
  },
  {
   "cell_type": "code",
   "execution_count": 57,
   "id": "b6330e5d",
   "metadata": {},
   "outputs": [
    {
     "name": "stdout",
     "output_type": "stream",
     "text": [
      "['a', 'c', 'b', 'c']\n"
     ]
    }
   ],
   "source": [
    "# .insert(n,X) : n위치에 X 요소 넣기 \n",
    "A = ['a','b','c']\n",
    "A.insert(1,\"c\")\n",
    "print(A)"
   ]
  },
  {
   "cell_type": "code",
   "execution_count": 58,
   "id": "5ff7ea92",
   "metadata": {},
   "outputs": [
    {
     "data": {
      "text/plain": [
       "'b'"
      ]
     },
     "execution_count": 58,
     "metadata": {},
     "output_type": "execute_result"
    }
   ],
   "source": [
    "# n번째 위치의 요소 pop!\n",
    "A = ['a','b','c']\n",
    "A.pop(1)"
   ]
  },
  {
   "cell_type": "code",
   "execution_count": 60,
   "id": "f7fcf7f8",
   "metadata": {},
   "outputs": [
    {
     "name": "stdout",
     "output_type": "stream",
     "text": [
      "['a', 'c']\n"
     ]
    }
   ],
   "source": [
    "# 요소 삭제\n",
    "A = ['a','b','c']\n",
    "A.remove('b')\n",
    "print(A)"
   ]
  },
  {
   "cell_type": "code",
   "execution_count": 66,
   "id": "8a95d19d",
   "metadata": {},
   "outputs": [
    {
     "name": "stdout",
     "output_type": "stream",
     "text": [
      "['b', 'c', 'a']\n"
     ]
    }
   ],
   "source": [
    "# 거꾸로 배열\n",
    "A = ['a','c','b']\n",
    "A.reverse()\n",
    "print(A)"
   ]
  },
  {
   "cell_type": "code",
   "execution_count": 62,
   "id": "6769615f",
   "metadata": {},
   "outputs": [
    {
     "name": "stdout",
     "output_type": "stream",
     "text": [
      "['BMW', 'Ford', 'Mazzda']\n"
     ]
    }
   ],
   "source": [
    "# 배열: 괄호 안에 공백일 시 오름차순\n",
    "A = ['Ford','BMW','Mazzda']\n",
    "A.sort()\n",
    "print(A)"
   ]
  },
  {
   "cell_type": "code",
   "execution_count": 63,
   "id": "c0fbb3d8",
   "metadata": {},
   "outputs": [
    {
     "name": "stdout",
     "output_type": "stream",
     "text": [
      "['Mazzda', 'Ford', 'BMW']\n"
     ]
    }
   ],
   "source": [
    "# 배열: 괄호 안에 reverse = True일 시 내림차순 배열\n",
    "A = ['Ford', 'BMW', 'Mazzda']\n",
    "A.sort(reverse = True)\n",
    "print(A)"
   ]
  },
  {
   "cell_type": "code",
   "execution_count": 64,
   "id": "79370f7c",
   "metadata": {},
   "outputs": [
    {
     "name": "stdout",
     "output_type": "stream",
     "text": [
      "['BMW', 'Ford', 'Mazzda']\n"
     ]
    }
   ],
   "source": [
    "# 배열: 괄호 안에 reverse = False일 시 오름차순 배열\n",
    "A = ['Ford', 'BMW', 'Mazzda']\n",
    "A.sort(reverse = False)\n",
    "print(A)"
   ]
  },
  {
   "cell_type": "markdown",
   "id": "62b72bd1",
   "metadata": {},
   "source": [
    "### Tuple ( 소괄호 )"
   ]
  },
  {
   "cell_type": "code",
   "execution_count": 36,
   "id": "7e9ffde6",
   "metadata": {},
   "outputs": [
    {
     "name": "stdout",
     "output_type": "stream",
     "text": [
      "1\n"
     ]
    }
   ],
   "source": [
    "# 문자가 몇번 등장?\n",
    "x = (1,3,6,7,4,5,8,2)\n",
    "print(x.count(5))"
   ]
  },
  {
   "cell_type": "code",
   "execution_count": 38,
   "id": "2b25351a",
   "metadata": {
    "scrolled": true
   },
   "outputs": [
    {
     "name": "stdout",
     "output_type": "stream",
     "text": [
      "3\n"
     ]
    }
   ],
   "source": [
    "# 첫번째 등장 위치\n",
    "x = (1,3,7,8,7,5,4,6,8,5)\n",
    "print(x.index(8))"
   ]
  },
  {
   "cell_type": "markdown",
   "id": "891ea0f8",
   "metadata": {},
   "source": [
    "### Dictionary { 중괄호 }"
   ]
  },
  {
   "cell_type": "code",
   "execution_count": 67,
   "id": "d82a7cef",
   "metadata": {},
   "outputs": [
    {
     "name": "stdout",
     "output_type": "stream",
     "text": [
      "{}\n"
     ]
    }
   ],
   "source": [
    "# 모든 요소 삭제\n",
    "A = {\"브랜드\": \"포드\", \"모델\":\"Mustang\",\"연식\":\"1964\"}\n",
    "A.clear()\n",
    "print(A)"
   ]
  },
  {
   "cell_type": "code",
   "execution_count": 69,
   "id": "be958daf",
   "metadata": {},
   "outputs": [
    {
     "name": "stdout",
     "output_type": "stream",
     "text": [
      "{'브랜드': '포드', '모델': 'Mustang', '연식': '1964'}\n"
     ]
    }
   ],
   "source": [
    "# 복사\n",
    "A = {\"브랜드\": \"포드\", \"모델\":\"Mustang\",\"연식\":\"1964\"}\n",
    "x = A.copy()\n",
    "print(x)"
   ]
  },
  {
   "cell_type": "code",
   "execution_count": 71,
   "id": "1b304260",
   "metadata": {},
   "outputs": [
    {
     "name": "stdout",
     "output_type": "stream",
     "text": [
      "{'KEY1': 0, 'KEY3': 0, 'KEY2': 0}\n"
     ]
    }
   ],
   "source": [
    "# Dictionary 생성 \n",
    "# 키 3개에 0인 값 동일하게 부여\n",
    "x = {'KEY1','KEY2','KEY3'}\n",
    "y = 0\n",
    "생성 = dict.fromkeys(x,y)\n",
    "print(생성)"
   ]
  },
  {
   "cell_type": "code",
   "execution_count": 72,
   "id": "61840653",
   "metadata": {},
   "outputs": [
    {
     "name": "stdout",
     "output_type": "stream",
     "text": [
      "{'key1': None, 'key2': None, 'key3': None}\n"
     ]
    }
   ],
   "source": [
    "x = ('key1', 'key2', 'key3')\n",
    "\n",
    "생성 = dict.fromkeys(x)\n",
    "\n",
    "print(생성)"
   ]
  },
  {
   "cell_type": "code",
   "execution_count": null,
   "id": "bf71a871",
   "metadata": {},
   "outputs": [],
   "source": [
    "# "
   ]
  },
  {
   "cell_type": "code",
   "execution_count": null,
   "id": "74d5e3cc",
   "metadata": {},
   "outputs": [],
   "source": []
  },
  {
   "cell_type": "code",
   "execution_count": null,
   "id": "1138f59a",
   "metadata": {},
   "outputs": [],
   "source": []
  },
  {
   "cell_type": "code",
   "execution_count": null,
   "id": "071c29f7",
   "metadata": {},
   "outputs": [],
   "source": []
  }
 ],
 "metadata": {
  "kernelspec": {
   "display_name": "Python 3",
   "language": "python",
   "name": "python3"
  },
  "language_info": {
   "codemirror_mode": {
    "name": "ipython",
    "version": 3
   },
   "file_extension": ".py",
   "mimetype": "text/x-python",
   "name": "python",
   "nbconvert_exporter": "python",
   "pygments_lexer": "ipython3",
   "version": "3.8.8"
  }
 },
 "nbformat": 4,
 "nbformat_minor": 5
}
