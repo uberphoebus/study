{
 "cells": [
  {
   "cell_type": "code",
   "execution_count": 9,
   "metadata": {},
   "outputs": [
    {
     "name": "stdout",
     "output_type": "stream",
     "text": [
      "ball : 1\n",
      "ball : 2\n",
      "ball : 3\n",
      "충돌\n",
      "ball : 4\n"
     ]
    }
   ],
   "source": [
    "balls = [1, 2, 3, 4]\n",
    "weapons = [11, 22, 3, 44]\n",
    "\n",
    "for ball_idx, ball_val in enumerate(balls):\n",
    "    print(f'ball : {ball_val}')\n",
    "    for weapon_idx, weapon_val in enumerate(weapons):\n",
    "        if ball_val == weapon_val:\n",
    "            print('충돌')\n",
    "            break"
   ]
  },
  {
   "cell_type": "code",
   "execution_count": 10,
   "metadata": {},
   "outputs": [
    {
     "name": "stdout",
     "output_type": "stream",
     "text": [
      "ball : 1\n",
      "weapons : 11\n",
      "weapons : 22\n",
      "weapons : 3\n",
      "weapons : 44\n",
      "ball : 2\n",
      "weapons : 11\n",
      "weapons : 22\n",
      "weapons : 3\n",
      "weapons : 44\n",
      "ball : 3\n",
      "weapons : 11\n",
      "weapons : 22\n",
      "weapons : 3\n",
      "충돌\n"
     ]
    }
   ],
   "source": [
    "balls = [1, 2, 3, 4]\n",
    "weapons = [11, 22, 3, 44]\n",
    "\n",
    "for ball_idx, ball_val in enumerate(balls):\n",
    "    print(f'ball : {ball_val}')\n",
    "    for weapon_idx, weapon_val in enumerate(weapons):\n",
    "        print(f'weapons : {weapon_val}')\n",
    "        if ball_val == weapon_val:\n",
    "            print('충돌')\n",
    "            break\n",
    "    else:\n",
    "        continue\n",
    "    break"
   ]
  }
 ],
 "metadata": {
  "interpreter": {
   "hash": "76888c4a1af33f53bb52de03cc72a37cdcfc80966b4bb342e552f029c3bcc4e2"
  },
  "kernelspec": {
   "display_name": "Python 3.8.8 ('venv': venv)",
   "language": "python",
   "name": "python3"
  },
  "language_info": {
   "codemirror_mode": {
    "name": "ipython",
    "version": 3
   },
   "file_extension": ".py",
   "mimetype": "text/x-python",
   "name": "python",
   "nbconvert_exporter": "python",
   "pygments_lexer": "ipython3",
   "version": "3.8.8"
  },
  "orig_nbformat": 4
 },
 "nbformat": 4,
 "nbformat_minor": 2
}
