{
 "cells": [
  {
   "cell_type": "markdown",
   "id": "adc486b7-cd41-485d-b807-b4869b3fe4f8",
   "metadata": {},
   "source": [
    "## lec: 형변화(casting)"
   ]
  },
  {
   "cell_type": "code",
   "execution_count": 1,
   "id": "f21b10ea-0017-4323-864a-06a2e5215609",
   "metadata": {},
   "outputs": [],
   "source": [
    "import numpy as np\n",
    "import pandas as pd"
   ]
  },
  {
   "cell_type": "markdown",
   "id": "c943a307-5954-4e58-8261-620e61864677",
   "metadata": {},
   "source": [
    "# list"
   ]
  },
  {
   "cell_type": "code",
   "execution_count": 2,
   "id": "0378843d-9df4-490e-9c0e-b3a51b255987",
   "metadata": {},
   "outputs": [
    {
     "name": "stdout",
     "output_type": "stream",
     "text": [
      "<class 'list'>\n",
      "[1, 2, 3, 3, 4, 4]\n"
     ]
    }
   ],
   "source": [
    "list = [1,2,3,3,4,4]\n",
    "print(type(list))\n",
    "print(list)"
   ]
  },
  {
   "cell_type": "markdown",
   "id": "9917c02f-ab20-4e77-8831-9b6b4eb5b4e0",
   "metadata": {
    "tags": []
   },
   "source": [
    "#### list --> array"
   ]
  },
  {
   "cell_type": "code",
   "execution_count": 3,
   "id": "4e6f7239-a172-4ada-8f49-eb5d628481a2",
   "metadata": {},
   "outputs": [
    {
     "name": "stdout",
     "output_type": "stream",
     "text": [
      "<class 'numpy.ndarray'>\n",
      "[1 2 3 3 4 4]\n"
     ]
    },
    {
     "data": {
      "text/plain": [
       "array([1, 2, 3, 3, 4, 4])"
      ]
     },
     "execution_count": 3,
     "metadata": {},
     "output_type": "execute_result"
    }
   ],
   "source": [
    "arr = np.array(list)\n",
    "print(type(arr))\n",
    "print(arr)\n",
    "arr  # array([1, 2, 3, 3, 4, 4])"
   ]
  },
  {
   "cell_type": "markdown",
   "id": "14d91282-be66-42f7-b835-809cac4f9095",
   "metadata": {
    "tags": []
   },
   "source": [
    "#### list --> Series\n",
    "* array-like, Iterable, dict, or scalar "
   ]
  },
  {
   "cell_type": "code",
   "execution_count": 4,
   "id": "a3afb37e-9c33-4dbf-b31a-93e0796e4a15",
   "metadata": {},
   "outputs": [
    {
     "name": "stdout",
     "output_type": "stream",
     "text": [
      "0    1\n",
      "1    2\n",
      "2    3\n",
      "3    3\n",
      "4    4\n",
      "5    4\n",
      "dtype: int64\n"
     ]
    }
   ],
   "source": [
    "s = pd.Series(list)\n",
    "print(s)"
   ]
  },
  {
   "cell_type": "code",
   "execution_count": 5,
   "id": "e0cef5ea-4513-43ce-a0cc-0881df9165f8",
   "metadata": {},
   "outputs": [
    {
     "data": {
      "text/plain": [
       "3    2\n",
       "4    2\n",
       "1    1\n",
       "2    1\n",
       "dtype: int64"
      ]
     },
     "execution_count": 5,
     "metadata": {},
     "output_type": "execute_result"
    }
   ],
   "source": [
    "pd.Series(list).value_counts()"
   ]
  },
  {
   "cell_type": "markdown",
   "id": "80158fca-a4f3-4217-8c44-be3c5763688b",
   "metadata": {},
   "source": [
    "# Array"
   ]
  },
  {
   "cell_type": "code",
   "execution_count": 6,
   "id": "9b322650-6858-4106-9d8e-0962e7ea365c",
   "metadata": {},
   "outputs": [],
   "source": [
    "# arr2 = [1 2 3]  error "
   ]
  },
  {
   "cell_type": "markdown",
   "id": "dd3e993e-dd81-45ba-9b2c-3e64f7e06714",
   "metadata": {},
   "source": [
    "#### array --> Series\n"
   ]
  },
  {
   "cell_type": "code",
   "execution_count": 7,
   "id": "8a0ce719-c70e-42dd-a012-a691afc1468a",
   "metadata": {},
   "outputs": [
    {
     "name": "stdout",
     "output_type": "stream",
     "text": [
      "0    1\n",
      "1    2\n",
      "2    3\n",
      "3    3\n",
      "4    4\n",
      "5    4\n",
      "dtype: int32\n"
     ]
    }
   ],
   "source": [
    "s = pd.Series(arr)\n",
    "print(s)"
   ]
  },
  {
   "cell_type": "markdown",
   "id": "8aba43b7-b98c-4766-ae5f-05c699b289c6",
   "metadata": {},
   "source": [
    "# Dict"
   ]
  },
  {
   "cell_type": "code",
   "execution_count": 8,
   "id": "fd57f366-f0d4-4cda-93e4-df520b11c472",
   "metadata": {},
   "outputs": [
    {
     "name": "stdout",
     "output_type": "stream",
     "text": [
      "<class 'dict'>\n",
      "{'val': [1, 2, 3, 3, 4, 4], 'val2': [10, 20, 30, 30, 40, 40]}\n"
     ]
    }
   ],
   "source": [
    "dict = {\"val\":[1, 2, 3, 3, 4, 4], \"val2\":[10, 20, 30, 30, 40, 40]}\n",
    "print(type(dict))\n",
    "print(dict)"
   ]
  },
  {
   "cell_type": "code",
   "execution_count": 9,
   "id": "09b23edc-155c-43ff-8bc4-55f36967e07c",
   "metadata": {},
   "outputs": [
    {
     "data": {
      "text/plain": [
       "dict_items([('val', [1, 2, 3, 3, 4, 4]), ('val2', [10, 20, 30, 30, 40, 40])])"
      ]
     },
     "execution_count": 9,
     "metadata": {},
     "output_type": "execute_result"
    }
   ],
   "source": [
    "dict.items()"
   ]
  },
  {
   "cell_type": "code",
   "execution_count": 10,
   "id": "dc5fc5d0-e048-432f-b099-e351e24907dc",
   "metadata": {},
   "outputs": [
    {
     "data": {
      "text/plain": [
       "dict_values([[1, 2, 3, 3, 4, 4], [10, 20, 30, 30, 40, 40]])"
      ]
     },
     "execution_count": 10,
     "metadata": {},
     "output_type": "execute_result"
    }
   ],
   "source": [
    "dict.values()"
   ]
  },
  {
   "cell_type": "code",
   "execution_count": 11,
   "id": "dc541ca5-a752-44fb-a636-ab9298483bfc",
   "metadata": {},
   "outputs": [
    {
     "data": {
      "text/plain": [
       "dict_keys(['val', 'val2'])"
      ]
     },
     "execution_count": 11,
     "metadata": {},
     "output_type": "execute_result"
    }
   ],
   "source": [
    "dict.keys()"
   ]
  },
  {
   "cell_type": "code",
   "execution_count": 12,
   "id": "899a3506-11e1-43a1-a0a8-a263024ac1d8",
   "metadata": {},
   "outputs": [
    {
     "data": {
      "text/plain": [
       "[1, 2, 3, 3, 4, 4]"
      ]
     },
     "execution_count": 12,
     "metadata": {},
     "output_type": "execute_result"
    }
   ],
   "source": [
    "dict[\"val\"]"
   ]
  },
  {
   "cell_type": "code",
   "execution_count": 13,
   "id": "0d816f33-1ec4-4a70-a7f1-b07c863c0944",
   "metadata": {},
   "outputs": [
    {
     "name": "stdout",
     "output_type": "stream",
     "text": [
      "[1 2 3 3 4 4]\n"
     ]
    },
    {
     "data": {
      "text/plain": [
       "array([1, 2, 3, 3, 4, 4])"
      ]
     },
     "execution_count": 13,
     "metadata": {},
     "output_type": "execute_result"
    }
   ],
   "source": [
    "print(np.array(dict[\"val\"]))\n",
    "np.array(dict[\"val\"])"
   ]
  },
  {
   "cell_type": "markdown",
   "id": "6539ecca-31db-4379-b9ea-6d00ddd581f8",
   "metadata": {},
   "source": [
    "#### dict --> DataFrame"
   ]
  },
  {
   "cell_type": "code",
   "execution_count": 14,
   "id": "012f70b9-90f0-4be3-a88a-09780055d7b4",
   "metadata": {},
   "outputs": [
    {
     "data": {
      "text/html": [
       "<div>\n",
       "<style scoped>\n",
       "    .dataframe tbody tr th:only-of-type {\n",
       "        vertical-align: middle;\n",
       "    }\n",
       "\n",
       "    .dataframe tbody tr th {\n",
       "        vertical-align: top;\n",
       "    }\n",
       "\n",
       "    .dataframe thead th {\n",
       "        text-align: right;\n",
       "    }\n",
       "</style>\n",
       "<table border=\"1\" class=\"dataframe\">\n",
       "  <thead>\n",
       "    <tr style=\"text-align: right;\">\n",
       "      <th></th>\n",
       "      <th>val</th>\n",
       "      <th>val2</th>\n",
       "    </tr>\n",
       "  </thead>\n",
       "  <tbody>\n",
       "    <tr>\n",
       "      <th>0</th>\n",
       "      <td>1</td>\n",
       "      <td>10</td>\n",
       "    </tr>\n",
       "    <tr>\n",
       "      <th>1</th>\n",
       "      <td>2</td>\n",
       "      <td>20</td>\n",
       "    </tr>\n",
       "    <tr>\n",
       "      <th>2</th>\n",
       "      <td>3</td>\n",
       "      <td>30</td>\n",
       "    </tr>\n",
       "    <tr>\n",
       "      <th>3</th>\n",
       "      <td>3</td>\n",
       "      <td>30</td>\n",
       "    </tr>\n",
       "    <tr>\n",
       "      <th>4</th>\n",
       "      <td>4</td>\n",
       "      <td>40</td>\n",
       "    </tr>\n",
       "  </tbody>\n",
       "</table>\n",
       "</div>"
      ],
      "text/plain": [
       "   val  val2\n",
       "0    1    10\n",
       "1    2    20\n",
       "2    3    30\n",
       "3    3    30\n",
       "4    4    40"
      ]
     },
     "execution_count": 14,
     "metadata": {},
     "output_type": "execute_result"
    }
   ],
   "source": [
    "df = pd.DataFrame(dict)\n",
    "df.head()"
   ]
  },
  {
   "cell_type": "markdown",
   "id": "ca58018b-a6ee-4115-8fb3-59f38004f3db",
   "metadata": {},
   "source": [
    "# DataFrame\n",
    "* [   [1 2 3], [1 2 3]  ]\n",
    "* [   [1,2,3], [1,2,3]  ]\n",
    "*     내부[] 는 행이다"
   ]
  },
  {
   "cell_type": "code",
   "execution_count": 15,
   "id": "c1cb99ad-43c5-45f5-8ac9-f9eebb92bc01",
   "metadata": {},
   "outputs": [],
   "source": [
    "dict = {\"val\":[1, 2, 3, 3, 4, 4], \"val2\":[10, 20, 30, 30, 40, 40]}\n",
    "list = [1,2,3,3,4,4] \n",
    "arr = np.array(list)"
   ]
  },
  {
   "cell_type": "markdown",
   "id": "a7af9fd7-ce2b-4089-b017-1f34043d0d5c",
   "metadata": {},
   "source": [
    "#### list --> DataFrame"
   ]
  },
  {
   "cell_type": "code",
   "execution_count": 16,
   "id": "070b5a37-814b-4372-b1c6-5aea648972a4",
   "metadata": {},
   "outputs": [
    {
     "data": {
      "text/html": [
       "<div>\n",
       "<style scoped>\n",
       "    .dataframe tbody tr th:only-of-type {\n",
       "        vertical-align: middle;\n",
       "    }\n",
       "\n",
       "    .dataframe tbody tr th {\n",
       "        vertical-align: top;\n",
       "    }\n",
       "\n",
       "    .dataframe thead th {\n",
       "        text-align: right;\n",
       "    }\n",
       "</style>\n",
       "<table border=\"1\" class=\"dataframe\">\n",
       "  <thead>\n",
       "    <tr style=\"text-align: right;\">\n",
       "      <th></th>\n",
       "      <th>col</th>\n",
       "    </tr>\n",
       "  </thead>\n",
       "  <tbody>\n",
       "    <tr>\n",
       "      <th>0</th>\n",
       "      <td>1</td>\n",
       "    </tr>\n",
       "    <tr>\n",
       "      <th>1</th>\n",
       "      <td>2</td>\n",
       "    </tr>\n",
       "    <tr>\n",
       "      <th>2</th>\n",
       "      <td>3</td>\n",
       "    </tr>\n",
       "  </tbody>\n",
       "</table>\n",
       "</div>"
      ],
      "text/plain": [
       "   col\n",
       "0    1\n",
       "1    2\n",
       "2    3"
      ]
     },
     "execution_count": 16,
     "metadata": {},
     "output_type": "execute_result"
    }
   ],
   "source": [
    "list = [1,2,3]\n",
    "df = pd.DataFrame(list, columns = ['col'])\n",
    "# df.columns = ['col']\n",
    "df.head()"
   ]
  },
  {
   "cell_type": "code",
   "execution_count": 17,
   "id": "6c867826-a774-4890-a8c2-1ceb410b459a",
   "metadata": {},
   "outputs": [
    {
     "data": {
      "text/html": [
       "<div>\n",
       "<style scoped>\n",
       "    .dataframe tbody tr th:only-of-type {\n",
       "        vertical-align: middle;\n",
       "    }\n",
       "\n",
       "    .dataframe tbody tr th {\n",
       "        vertical-align: top;\n",
       "    }\n",
       "\n",
       "    .dataframe thead th {\n",
       "        text-align: right;\n",
       "    }\n",
       "</style>\n",
       "<table border=\"1\" class=\"dataframe\">\n",
       "  <thead>\n",
       "    <tr style=\"text-align: right;\">\n",
       "      <th></th>\n",
       "      <th>col1</th>\n",
       "      <th>col2</th>\n",
       "    </tr>\n",
       "  </thead>\n",
       "  <tbody>\n",
       "    <tr>\n",
       "      <th>0</th>\n",
       "      <td>1</td>\n",
       "      <td>10</td>\n",
       "    </tr>\n",
       "    <tr>\n",
       "      <th>1</th>\n",
       "      <td>2</td>\n",
       "      <td>20</td>\n",
       "    </tr>\n",
       "    <tr>\n",
       "      <th>2</th>\n",
       "      <td>3</td>\n",
       "      <td>30</td>\n",
       "    </tr>\n",
       "  </tbody>\n",
       "</table>\n",
       "</div>"
      ],
      "text/plain": [
       "   col1  col2\n",
       "0     1    10\n",
       "1     2    20\n",
       "2     3    30"
      ]
     },
     "execution_count": 17,
     "metadata": {},
     "output_type": "execute_result"
    }
   ],
   "source": [
    "list = [ [1,2,3], [10,20,30]]\n",
    "# df = pd.DataFrame(list, index=['col1', 'col2'])\n",
    "df = pd.DataFrame(list, index = ['col1', 'col2']).T\n",
    "df.head()"
   ]
  },
  {
   "cell_type": "code",
   "execution_count": 18,
   "id": "690bf52e-a00e-465f-a4c5-201c03c9d936",
   "metadata": {},
   "outputs": [
    {
     "data": {
      "text/html": [
       "<div>\n",
       "<style scoped>\n",
       "    .dataframe tbody tr th:only-of-type {\n",
       "        vertical-align: middle;\n",
       "    }\n",
       "\n",
       "    .dataframe tbody tr th {\n",
       "        vertical-align: top;\n",
       "    }\n",
       "\n",
       "    .dataframe thead th {\n",
       "        text-align: right;\n",
       "    }\n",
       "</style>\n",
       "<table border=\"1\" class=\"dataframe\">\n",
       "  <thead>\n",
       "    <tr style=\"text-align: right;\">\n",
       "      <th></th>\n",
       "      <th>col1</th>\n",
       "      <th>col2</th>\n",
       "    </tr>\n",
       "  </thead>\n",
       "  <tbody>\n",
       "    <tr>\n",
       "      <th>0</th>\n",
       "      <td>1</td>\n",
       "      <td>10</td>\n",
       "    </tr>\n",
       "    <tr>\n",
       "      <th>1</th>\n",
       "      <td>2</td>\n",
       "      <td>20</td>\n",
       "    </tr>\n",
       "    <tr>\n",
       "      <th>2</th>\n",
       "      <td>3</td>\n",
       "      <td>30</td>\n",
       "    </tr>\n",
       "  </tbody>\n",
       "</table>\n",
       "</div>"
      ],
      "text/plain": [
       "   col1  col2\n",
       "0     1    10\n",
       "1     2    20\n",
       "2     3    30"
      ]
     },
     "execution_count": 18,
     "metadata": {},
     "output_type": "execute_result"
    }
   ],
   "source": [
    "list1 = [1,2,3]\n",
    "list2 = [10,20,30]\n",
    "df = pd.DataFrame([list1, list2], index = ['col1', 'col2']).T\n",
    "df.head()"
   ]
  },
  {
   "cell_type": "code",
   "execution_count": 19,
   "id": "c4877238-6425-44b0-b951-00b0df03f6fb",
   "metadata": {},
   "outputs": [
    {
     "data": {
      "text/html": [
       "<div>\n",
       "<style scoped>\n",
       "    .dataframe tbody tr th:only-of-type {\n",
       "        vertical-align: middle;\n",
       "    }\n",
       "\n",
       "    .dataframe tbody tr th {\n",
       "        vertical-align: top;\n",
       "    }\n",
       "\n",
       "    .dataframe thead th {\n",
       "        text-align: right;\n",
       "    }\n",
       "</style>\n",
       "<table border=\"1\" class=\"dataframe\">\n",
       "  <thead>\n",
       "    <tr style=\"text-align: right;\">\n",
       "      <th></th>\n",
       "      <th>col1</th>\n",
       "      <th>col2</th>\n",
       "    </tr>\n",
       "  </thead>\n",
       "  <tbody>\n",
       "    <tr>\n",
       "      <th>0</th>\n",
       "      <td>1</td>\n",
       "      <td>10</td>\n",
       "    </tr>\n",
       "    <tr>\n",
       "      <th>1</th>\n",
       "      <td>2</td>\n",
       "      <td>20</td>\n",
       "    </tr>\n",
       "    <tr>\n",
       "      <th>2</th>\n",
       "      <td>3</td>\n",
       "      <td>30</td>\n",
       "    </tr>\n",
       "  </tbody>\n",
       "</table>\n",
       "</div>"
      ],
      "text/plain": [
       "   col1  col2\n",
       "0     1    10\n",
       "1     2    20\n",
       "2     3    30"
      ]
     },
     "execution_count": 19,
     "metadata": {},
     "output_type": "execute_result"
    }
   ],
   "source": [
    "list = [ [1,10], [2,20], [3,30]]\n",
    "df = pd.DataFrame(list,  columns = ['col1', 'col2'])\n",
    "df.head()"
   ]
  },
  {
   "cell_type": "markdown",
   "id": "061261e2-3d50-4c73-8e1e-1f31fd95e2ab",
   "metadata": {},
   "source": [
    "#### array --> DataFrame"
   ]
  },
  {
   "cell_type": "code",
   "execution_count": 20,
   "id": "4358098b-ab3a-4f11-a619-40d2783f8fc1",
   "metadata": {},
   "outputs": [],
   "source": [
    "list1 = [1,2,3]\n",
    "list2 = [10,20,30]"
   ]
  },
  {
   "cell_type": "code",
   "execution_count": 21,
   "id": "d852bcdf-db7b-4726-b628-a203844533b9",
   "metadata": {},
   "outputs": [
    {
     "name": "stdout",
     "output_type": "stream",
     "text": [
      "[[1]\n",
      " [2]\n",
      " [3]]\n"
     ]
    }
   ],
   "source": [
    "print(np.array(list1).reshape(-1,1))\n",
    "arr_reshape1 = np.array(list1).reshape(-1,1)\n",
    "arr_reshape2 = np.array(list2).reshape(-1,1)"
   ]
  },
  {
   "cell_type": "code",
   "execution_count": 22,
   "id": "653f8aea-7b30-4ead-9b84-e6ca30c7091a",
   "metadata": {},
   "outputs": [
    {
     "data": {
      "text/html": [
       "<div>\n",
       "<style scoped>\n",
       "    .dataframe tbody tr th:only-of-type {\n",
       "        vertical-align: middle;\n",
       "    }\n",
       "\n",
       "    .dataframe tbody tr th {\n",
       "        vertical-align: top;\n",
       "    }\n",
       "\n",
       "    .dataframe thead th {\n",
       "        text-align: right;\n",
       "    }\n",
       "</style>\n",
       "<table border=\"1\" class=\"dataframe\">\n",
       "  <thead>\n",
       "    <tr style=\"text-align: right;\">\n",
       "      <th></th>\n",
       "      <th>col1</th>\n",
       "      <th>col2</th>\n",
       "    </tr>\n",
       "  </thead>\n",
       "  <tbody>\n",
       "    <tr>\n",
       "      <th>0</th>\n",
       "      <td>1</td>\n",
       "      <td>10</td>\n",
       "    </tr>\n",
       "    <tr>\n",
       "      <th>1</th>\n",
       "      <td>2</td>\n",
       "      <td>20</td>\n",
       "    </tr>\n",
       "    <tr>\n",
       "      <th>2</th>\n",
       "      <td>3</td>\n",
       "      <td>30</td>\n",
       "    </tr>\n",
       "  </tbody>\n",
       "</table>\n",
       "</div>"
      ],
      "text/plain": [
       "   col1  col2\n",
       "0     1    10\n",
       "1     2    20\n",
       "2     3    30"
      ]
     },
     "execution_count": 22,
     "metadata": {},
     "output_type": "execute_result"
    }
   ],
   "source": [
    "df = pd.DataFrame(arr_reshape1, columns=['col1'])\n",
    "df['col2'] = arr_reshape2\n",
    "df.head()"
   ]
  },
  {
   "cell_type": "code",
   "execution_count": 23,
   "id": "601bf3d1-2826-4feb-81fa-18d060b06488",
   "metadata": {},
   "outputs": [],
   "source": [
    "# df = pd.DataFrame()   # errpr===========Cannot set a frame with no defined index and a value\n",
    "# df['col1'] = arr_reshape1\n",
    "# df.head()"
   ]
  },
  {
   "cell_type": "code",
   "execution_count": 24,
   "id": "3b93096f-48ae-457a-87ce-409d9f538d04",
   "metadata": {},
   "outputs": [
    {
     "data": {
      "text/html": [
       "<div>\n",
       "<style scoped>\n",
       "    .dataframe tbody tr th:only-of-type {\n",
       "        vertical-align: middle;\n",
       "    }\n",
       "\n",
       "    .dataframe tbody tr th {\n",
       "        vertical-align: top;\n",
       "    }\n",
       "\n",
       "    .dataframe thead th {\n",
       "        text-align: right;\n",
       "    }\n",
       "</style>\n",
       "<table border=\"1\" class=\"dataframe\">\n",
       "  <thead>\n",
       "    <tr style=\"text-align: right;\">\n",
       "      <th></th>\n",
       "      <th>col1</th>\n",
       "      <th>col2</th>\n",
       "    </tr>\n",
       "  </thead>\n",
       "  <tbody>\n",
       "    <tr>\n",
       "      <th>0</th>\n",
       "      <td>1</td>\n",
       "      <td>10</td>\n",
       "    </tr>\n",
       "    <tr>\n",
       "      <th>1</th>\n",
       "      <td>2</td>\n",
       "      <td>20</td>\n",
       "    </tr>\n",
       "    <tr>\n",
       "      <th>2</th>\n",
       "      <td>3</td>\n",
       "      <td>30</td>\n",
       "    </tr>\n",
       "  </tbody>\n",
       "</table>\n",
       "</div>"
      ],
      "text/plain": [
       "   col1  col2\n",
       "0     1    10\n",
       "1     2    20\n",
       "2     3    30"
      ]
     },
     "execution_count": 24,
     "metadata": {},
     "output_type": "execute_result"
    }
   ],
   "source": [
    "s1 = pd.Series(list1)\n",
    "s2 = pd.Series(list2)\n",
    "df = pd.DataFrame([ s1 ,s2 ], index = ['col1', 'col2']).T\n",
    "df.head()"
   ]
  },
  {
   "cell_type": "code",
   "execution_count": null,
   "id": "1f7e97b6-0bf6-4e2e-b532-0e439a0f1eae",
   "metadata": {},
   "outputs": [],
   "source": []
  },
  {
   "cell_type": "code",
   "execution_count": 25,
   "id": "27ba5336-d3bc-4c07-aa99-141d419668b0",
   "metadata": {},
   "outputs": [
    {
     "name": "stdout",
     "output_type": "stream",
     "text": [
      "[1 2 3]\n"
     ]
    },
    {
     "data": {
      "text/html": [
       "<div>\n",
       "<style scoped>\n",
       "    .dataframe tbody tr th:only-of-type {\n",
       "        vertical-align: middle;\n",
       "    }\n",
       "\n",
       "    .dataframe tbody tr th {\n",
       "        vertical-align: top;\n",
       "    }\n",
       "\n",
       "    .dataframe thead th {\n",
       "        text-align: right;\n",
       "    }\n",
       "</style>\n",
       "<table border=\"1\" class=\"dataframe\">\n",
       "  <thead>\n",
       "    <tr style=\"text-align: right;\">\n",
       "      <th></th>\n",
       "      <th>col1</th>\n",
       "      <th>col2</th>\n",
       "    </tr>\n",
       "  </thead>\n",
       "  <tbody>\n",
       "    <tr>\n",
       "      <th>0</th>\n",
       "      <td>1</td>\n",
       "      <td>10</td>\n",
       "    </tr>\n",
       "    <tr>\n",
       "      <th>1</th>\n",
       "      <td>2</td>\n",
       "      <td>20</td>\n",
       "    </tr>\n",
       "    <tr>\n",
       "      <th>2</th>\n",
       "      <td>3</td>\n",
       "      <td>30</td>\n",
       "    </tr>\n",
       "  </tbody>\n",
       "</table>\n",
       "</div>"
      ],
      "text/plain": [
       "   col1  col2\n",
       "0     1    10\n",
       "1     2    20\n",
       "2     3    30"
      ]
     },
     "execution_count": 25,
     "metadata": {},
     "output_type": "execute_result"
    }
   ],
   "source": [
    "arr1 = np.array(list1)\n",
    "arr2 = np.array(list2)\n",
    "print(arr1)\n",
    "df = pd.DataFrame([ arr1 ,arr2 ], index = ['col1', 'col2']).T\n",
    "df.head()"
   ]
  },
  {
   "cell_type": "code",
   "execution_count": 26,
   "id": "3cd20b24-8a8b-43a7-87b9-3f103085b989",
   "metadata": {},
   "outputs": [
    {
     "name": "stdout",
     "output_type": "stream",
     "text": [
      "[1 2 3]\n"
     ]
    }
   ],
   "source": [
    "s = pd.Series([1,2,3])\n",
    "arr = np.array(s)\n",
    "print(arr)"
   ]
  },
  {
   "cell_type": "markdown",
   "id": "1b7f0395-92b9-493b-9852-ff3943fe5a29",
   "metadata": {
    "tags": []
   },
   "source": [
    "#### Frame화 시키기 위해선 행렬 ( [[ ]] )  꺽꺽 모양이어야된다\n",
    "#### 가로(행) : [1,2,3] [1 2 3]\n",
    "#### 세로(열) : [1,2,3].reshape() XXXX  [1 2 3].reshape(-1,1), pd.Series( arr, list )"
   ]
  },
  {
   "cell_type": "markdown",
   "id": "0d192942-2fdd-4b4b-9c82-dba1c26fdb83",
   "metadata": {},
   "source": [
    "#### list 꺽 --> 꺽꺽"
   ]
  },
  {
   "cell_type": "code",
   "execution_count": 27,
   "id": "c465e32e-014e-40f5-9514-0649445afe8b",
   "metadata": {},
   "outputs": [
    {
     "data": {
      "text/html": [
       "<div>\n",
       "<style scoped>\n",
       "    .dataframe tbody tr th:only-of-type {\n",
       "        vertical-align: middle;\n",
       "    }\n",
       "\n",
       "    .dataframe tbody tr th {\n",
       "        vertical-align: top;\n",
       "    }\n",
       "\n",
       "    .dataframe thead th {\n",
       "        text-align: right;\n",
       "    }\n",
       "</style>\n",
       "<table border=\"1\" class=\"dataframe\">\n",
       "  <thead>\n",
       "    <tr style=\"text-align: right;\">\n",
       "      <th></th>\n",
       "      <th>seq</th>\n",
       "      <th>name</th>\n",
       "      <th>age</th>\n",
       "    </tr>\n",
       "  </thead>\n",
       "  <tbody>\n",
       "    <tr>\n",
       "      <th>0</th>\n",
       "      <td>1</td>\n",
       "      <td>kim</td>\n",
       "      <td>26</td>\n",
       "    </tr>\n",
       "  </tbody>\n",
       "</table>\n",
       "</div>"
      ],
      "text/plain": [
       "   seq name  age\n",
       "0    1  kim   26"
      ]
     },
     "execution_count": 27,
     "metadata": {},
     "output_type": "execute_result"
    }
   ],
   "source": [
    "list = [[1,'kim',26]]\n",
    "df = pd.DataFrame( list  , columns=['seq','name','age'])\n",
    "df.head()"
   ]
  },
  {
   "cell_type": "markdown",
   "id": "80c1cbd1-3572-4974-8fdc-3bfa006c8791",
   "metadata": {},
   "source": [
    "#### array 꺽 --> 꺽꺽"
   ]
  },
  {
   "cell_type": "code",
   "execution_count": 28,
   "id": "43bc0587-65ec-41a6-a668-e21bd5142895",
   "metadata": {},
   "outputs": [
    {
     "name": "stdout",
     "output_type": "stream",
     "text": [
      "[array([['1', 'kim', '26']], dtype='<U11')]\n"
     ]
    },
    {
     "data": {
      "text/plain": [
       "list"
      ]
     },
     "execution_count": 28,
     "metadata": {},
     "output_type": "execute_result"
    }
   ],
   "source": [
    "print(   [np.array(list)]   )\n",
    "type(  [np.array(list)] )"
   ]
  },
  {
   "cell_type": "code",
   "execution_count": 29,
   "id": "cf57ca63-9aac-4783-ad95-701a4d8ae03a",
   "metadata": {},
   "outputs": [
    {
     "data": {
      "text/plain": [
       "list"
      ]
     },
     "execution_count": 29,
     "metadata": {},
     "output_type": "execute_result"
    }
   ],
   "source": [
    "type([3])"
   ]
  },
  {
   "cell_type": "markdown",
   "id": "f1e7cccb-0019-4e9e-a949-dc64408dda94",
   "metadata": {},
   "source": [
    "### DataFrame + Series"
   ]
  },
  {
   "cell_type": "code",
   "execution_count": 30,
   "id": "5dcdefe3-44d0-4c5e-b523-f0ec17c54a45",
   "metadata": {},
   "outputs": [
    {
     "data": {
      "text/html": [
       "<div>\n",
       "<style scoped>\n",
       "    .dataframe tbody tr th:only-of-type {\n",
       "        vertical-align: middle;\n",
       "    }\n",
       "\n",
       "    .dataframe tbody tr th {\n",
       "        vertical-align: top;\n",
       "    }\n",
       "\n",
       "    .dataframe thead th {\n",
       "        text-align: right;\n",
       "    }\n",
       "</style>\n",
       "<table border=\"1\" class=\"dataframe\">\n",
       "  <thead>\n",
       "    <tr style=\"text-align: right;\">\n",
       "      <th></th>\n",
       "      <th>seq</th>\n",
       "      <th>name</th>\n",
       "      <th>age</th>\n",
       "    </tr>\n",
       "  </thead>\n",
       "  <tbody>\n",
       "    <tr>\n",
       "      <th>0</th>\n",
       "      <td>1</td>\n",
       "      <td>kim</td>\n",
       "      <td>26</td>\n",
       "    </tr>\n",
       "    <tr>\n",
       "      <th>1</th>\n",
       "      <td>2</td>\n",
       "      <td>hong</td>\n",
       "      <td>20</td>\n",
       "    </tr>\n",
       "  </tbody>\n",
       "</table>\n",
       "</div>"
      ],
      "text/plain": [
       "   seq  name  age\n",
       "0    1   kim   26\n",
       "1    2  hong   20"
      ]
     },
     "execution_count": 30,
     "metadata": {},
     "output_type": "execute_result"
    }
   ],
   "source": [
    "list = [[1,'kim',26],[2,'hong',20]]\n",
    "df = pd.DataFrame( list  , columns=['seq','name','age'])\n",
    "df.head()"
   ]
  },
  {
   "cell_type": "markdown",
   "id": "c010aeb9-2af9-4eb8-8fd6-5422c7b5a394",
   "metadata": {},
   "source": [
    "* 예1)"
   ]
  },
  {
   "cell_type": "code",
   "execution_count": 31,
   "id": "924651e0-9d72-429e-b51e-cd40bc3c827b",
   "metadata": {},
   "outputs": [
    {
     "data": {
      "text/html": [
       "<div>\n",
       "<style scoped>\n",
       "    .dataframe tbody tr th:only-of-type {\n",
       "        vertical-align: middle;\n",
       "    }\n",
       "\n",
       "    .dataframe tbody tr th {\n",
       "        vertical-align: top;\n",
       "    }\n",
       "\n",
       "    .dataframe thead th {\n",
       "        text-align: right;\n",
       "    }\n",
       "</style>\n",
       "<table border=\"1\" class=\"dataframe\">\n",
       "  <thead>\n",
       "    <tr style=\"text-align: right;\">\n",
       "      <th></th>\n",
       "      <th>seq</th>\n",
       "      <th>name</th>\n",
       "      <th>age</th>\n",
       "      <th>addr</th>\n",
       "    </tr>\n",
       "  </thead>\n",
       "  <tbody>\n",
       "    <tr>\n",
       "      <th>0</th>\n",
       "      <td>1</td>\n",
       "      <td>kim</td>\n",
       "      <td>26</td>\n",
       "      <td>서울</td>\n",
       "    </tr>\n",
       "    <tr>\n",
       "      <th>1</th>\n",
       "      <td>2</td>\n",
       "      <td>hong</td>\n",
       "      <td>20</td>\n",
       "      <td>인천</td>\n",
       "    </tr>\n",
       "  </tbody>\n",
       "</table>\n",
       "</div>"
      ],
      "text/plain": [
       "   seq  name  age addr\n",
       "0    1   kim   26   서울\n",
       "1    2  hong   20   인천"
      ]
     },
     "execution_count": 31,
     "metadata": {},
     "output_type": "execute_result"
    }
   ],
   "source": [
    "df['addr'] = np.array(['서울','인천']).reshape(-1,1)\n",
    "df.head()"
   ]
  },
  {
   "cell_type": "markdown",
   "id": "9f0ce5a8-de43-49ef-95fb-eadba2ce43b6",
   "metadata": {},
   "source": [
    "* 예2) \n",
    "<pre>\n",
    "*  [\n",
    "      ['서울'],\n",
    "      ['인천']\n",
    "   ]"
   ]
  },
  {
   "cell_type": "code",
   "execution_count": 32,
   "id": "3ae5226d-a8e0-4d24-b04e-29e930fd7326",
   "metadata": {},
   "outputs": [
    {
     "data": {
      "text/html": [
       "<div>\n",
       "<style scoped>\n",
       "    .dataframe tbody tr th:only-of-type {\n",
       "        vertical-align: middle;\n",
       "    }\n",
       "\n",
       "    .dataframe tbody tr th {\n",
       "        vertical-align: top;\n",
       "    }\n",
       "\n",
       "    .dataframe thead th {\n",
       "        text-align: right;\n",
       "    }\n",
       "</style>\n",
       "<table border=\"1\" class=\"dataframe\">\n",
       "  <thead>\n",
       "    <tr style=\"text-align: right;\">\n",
       "      <th></th>\n",
       "      <th>addr</th>\n",
       "    </tr>\n",
       "  </thead>\n",
       "  <tbody>\n",
       "    <tr>\n",
       "      <th>0</th>\n",
       "      <td>서울</td>\n",
       "    </tr>\n",
       "    <tr>\n",
       "      <th>1</th>\n",
       "      <td>인천</td>\n",
       "    </tr>\n",
       "  </tbody>\n",
       "</table>\n",
       "</div>"
      ],
      "text/plain": [
       "  addr\n",
       "0   서울\n",
       "1   인천"
      ]
     },
     "execution_count": 32,
     "metadata": {},
     "output_type": "execute_result"
    }
   ],
   "source": [
    "df2 = pd.DataFrame([['서울'],['인천']], columns=['addr'])\n",
    "df2.head()"
   ]
  },
  {
   "cell_type": "code",
   "execution_count": 33,
   "id": "b2c3381c-4cb4-475e-95d9-1dfd80f7b856",
   "metadata": {},
   "outputs": [
    {
     "data": {
      "text/html": [
       "<div>\n",
       "<style scoped>\n",
       "    .dataframe tbody tr th:only-of-type {\n",
       "        vertical-align: middle;\n",
       "    }\n",
       "\n",
       "    .dataframe tbody tr th {\n",
       "        vertical-align: top;\n",
       "    }\n",
       "\n",
       "    .dataframe thead th {\n",
       "        text-align: right;\n",
       "    }\n",
       "</style>\n",
       "<table border=\"1\" class=\"dataframe\">\n",
       "  <thead>\n",
       "    <tr style=\"text-align: right;\">\n",
       "      <th></th>\n",
       "      <th>addr</th>\n",
       "      <th>seq</th>\n",
       "      <th>name</th>\n",
       "      <th>age</th>\n",
       "    </tr>\n",
       "  </thead>\n",
       "  <tbody>\n",
       "    <tr>\n",
       "      <th>0</th>\n",
       "      <td>서울</td>\n",
       "      <td>1</td>\n",
       "      <td>kim</td>\n",
       "      <td>26</td>\n",
       "    </tr>\n",
       "    <tr>\n",
       "      <th>1</th>\n",
       "      <td>인천</td>\n",
       "      <td>2</td>\n",
       "      <td>hong</td>\n",
       "      <td>20</td>\n",
       "    </tr>\n",
       "  </tbody>\n",
       "</table>\n",
       "</div>"
      ],
      "text/plain": [
       "  addr seq  name age\n",
       "0   서울   1   kim  26\n",
       "1   인천   2  hong  20"
      ]
     },
     "execution_count": 33,
     "metadata": {},
     "output_type": "execute_result"
    }
   ],
   "source": [
    "list = [[1,'kim',26],[2,'hong',20]]\n",
    "df2[['seq','name','age']] = list\n",
    "df2.head()"
   ]
  },
  {
   "cell_type": "markdown",
   "id": "e7409a42-91bb-4117-b756-b7c3b8aaede4",
   "metadata": {},
   "source": [
    "#### DataFrame 에  레코드(행) 추가"
   ]
  },
  {
   "cell_type": "markdown",
   "id": "5b99da67-bcd5-4d08-9245-e19d0cafa4b4",
   "metadata": {},
   "source": [
    "* 정석"
   ]
  },
  {
   "cell_type": "code",
   "execution_count": 34,
   "id": "db9d5c23-60dc-4ec2-8758-4a353caad7d9",
   "metadata": {},
   "outputs": [
    {
     "data": {
      "text/html": [
       "<div>\n",
       "<style scoped>\n",
       "    .dataframe tbody tr th:only-of-type {\n",
       "        vertical-align: middle;\n",
       "    }\n",
       "\n",
       "    .dataframe tbody tr th {\n",
       "        vertical-align: top;\n",
       "    }\n",
       "\n",
       "    .dataframe thead th {\n",
       "        text-align: right;\n",
       "    }\n",
       "</style>\n",
       "<table border=\"1\" class=\"dataframe\">\n",
       "  <thead>\n",
       "    <tr style=\"text-align: right;\">\n",
       "      <th></th>\n",
       "      <th>seq</th>\n",
       "      <th>name</th>\n",
       "      <th>age</th>\n",
       "    </tr>\n",
       "  </thead>\n",
       "  <tbody>\n",
       "    <tr>\n",
       "      <th>0</th>\n",
       "      <td>1</td>\n",
       "      <td>kim</td>\n",
       "      <td>26</td>\n",
       "    </tr>\n",
       "    <tr>\n",
       "      <th>1</th>\n",
       "      <td>2</td>\n",
       "      <td>hong</td>\n",
       "      <td>20</td>\n",
       "    </tr>\n",
       "  </tbody>\n",
       "</table>\n",
       "</div>"
      ],
      "text/plain": [
       "   seq  name  age\n",
       "0    1   kim   26\n",
       "1    2  hong   20"
      ]
     },
     "execution_count": 34,
     "metadata": {},
     "output_type": "execute_result"
    }
   ],
   "source": [
    "list = [[1,'kim',26],[2,'hong',20]]\n",
    "df = pd.DataFrame( list  , columns=['seq','name','age'])\n",
    "df.head()"
   ]
  },
  {
   "cell_type": "code",
   "execution_count": 35,
   "id": "cd331324-2db8-4d33-a76e-74a00690a6af",
   "metadata": {},
   "outputs": [
    {
     "data": {
      "text/plain": [
       "seq        2\n",
       "name    hong\n",
       "age       20\n",
       "Name: 1, dtype: object"
      ]
     },
     "execution_count": 35,
     "metadata": {},
     "output_type": "execute_result"
    }
   ],
   "source": [
    "df.loc[1]"
   ]
  },
  {
   "cell_type": "code",
   "execution_count": 36,
   "id": "d2607fd3-8db1-4b25-b5ab-ff1e04c4fa1f",
   "metadata": {},
   "outputs": [
    {
     "data": {
      "text/plain": [
       "Index(['addr', 'seq', 'name', 'age'], dtype='object')"
      ]
     },
     "execution_count": 36,
     "metadata": {},
     "output_type": "execute_result"
    }
   ],
   "source": [
    "df2.columns"
   ]
  },
  {
   "cell_type": "code",
   "execution_count": 37,
   "id": "a0257c17-35e4-4053-9117-6ede9104a2a2",
   "metadata": {},
   "outputs": [
    {
     "data": {
      "text/html": [
       "<div>\n",
       "<style scoped>\n",
       "    .dataframe tbody tr th:only-of-type {\n",
       "        vertical-align: middle;\n",
       "    }\n",
       "\n",
       "    .dataframe tbody tr th {\n",
       "        vertical-align: top;\n",
       "    }\n",
       "\n",
       "    .dataframe thead th {\n",
       "        text-align: right;\n",
       "    }\n",
       "</style>\n",
       "<table border=\"1\" class=\"dataframe\">\n",
       "  <thead>\n",
       "    <tr style=\"text-align: right;\">\n",
       "      <th></th>\n",
       "      <th>addr</th>\n",
       "      <th>seq</th>\n",
       "      <th>name</th>\n",
       "      <th>age</th>\n",
       "    </tr>\n",
       "  </thead>\n",
       "  <tbody>\n",
       "    <tr>\n",
       "      <th>0</th>\n",
       "      <td>서울</td>\n",
       "      <td>1</td>\n",
       "      <td>kim</td>\n",
       "      <td>26</td>\n",
       "    </tr>\n",
       "    <tr>\n",
       "      <th>1</th>\n",
       "      <td>인천</td>\n",
       "      <td>2</td>\n",
       "      <td>hong</td>\n",
       "      <td>20</td>\n",
       "    </tr>\n",
       "    <tr>\n",
       "      <th>2</th>\n",
       "      <td>경기</td>\n",
       "      <td>3</td>\n",
       "      <td>park</td>\n",
       "      <td>25</td>\n",
       "    </tr>\n",
       "  </tbody>\n",
       "</table>\n",
       "</div>"
      ],
      "text/plain": [
       "  addr seq  name age\n",
       "0   서울   1   kim  26\n",
       "1   인천   2  hong  20\n",
       "2   경기   3  park  25"
      ]
     },
     "execution_count": 37,
     "metadata": {},
     "output_type": "execute_result"
    }
   ],
   "source": [
    "df2 = df2.append( pd.Series(['경기',3,'park', 25], index=df2.columns), ignore_index=True)\n",
    "df2.head()"
   ]
  },
  {
   "cell_type": "markdown",
   "id": "9ae4fef2-de48-465d-bc8f-6a21c3acf296",
   "metadata": {},
   "source": [
    "* 손쉬운 방법 , iloc은 신규 인덱스 불가 "
   ]
  },
  {
   "cell_type": "code",
   "execution_count": 39,
   "id": "98241eb8-cab7-49c2-b8fd-6605777282b2",
   "metadata": {},
   "outputs": [
    {
     "data": {
      "text/html": [
       "<div>\n",
       "<style scoped>\n",
       "    .dataframe tbody tr th:only-of-type {\n",
       "        vertical-align: middle;\n",
       "    }\n",
       "\n",
       "    .dataframe tbody tr th {\n",
       "        vertical-align: top;\n",
       "    }\n",
       "\n",
       "    .dataframe thead th {\n",
       "        text-align: right;\n",
       "    }\n",
       "</style>\n",
       "<table border=\"1\" class=\"dataframe\">\n",
       "  <thead>\n",
       "    <tr style=\"text-align: right;\">\n",
       "      <th></th>\n",
       "      <th>addr</th>\n",
       "      <th>seq</th>\n",
       "      <th>name</th>\n",
       "      <th>age</th>\n",
       "    </tr>\n",
       "  </thead>\n",
       "  <tbody>\n",
       "    <tr>\n",
       "      <th>1</th>\n",
       "      <td>인천</td>\n",
       "      <td>2</td>\n",
       "      <td>hong</td>\n",
       "      <td>20</td>\n",
       "    </tr>\n",
       "    <tr>\n",
       "      <th>2</th>\n",
       "      <td>경기</td>\n",
       "      <td>3</td>\n",
       "      <td>park</td>\n",
       "      <td>25</td>\n",
       "    </tr>\n",
       "  </tbody>\n",
       "</table>\n",
       "</div>"
      ],
      "text/plain": [
       "  addr seq  name age\n",
       "1   인천   2  hong  20\n",
       "2   경기   3  park  25"
      ]
     },
     "execution_count": 39,
     "metadata": {},
     "output_type": "execute_result"
    }
   ],
   "source": [
    "df2.loc[2] = ['경기',3,'park', 25]\n",
    "df2.head()"
   ]
  },
  {
   "cell_type": "markdown",
   "id": "ce382dd6-c248-4e01-85c4-55fc54af0e22",
   "metadata": {},
   "source": [
    "* 레코드 한건을 삭제할 경우"
   ]
  },
  {
   "cell_type": "code",
   "execution_count": 38,
   "id": "5a3a0ed5-0a7c-4567-9198-14649bca5bbd",
   "metadata": {},
   "outputs": [
    {
     "data": {
      "text/html": [
       "<div>\n",
       "<style scoped>\n",
       "    .dataframe tbody tr th:only-of-type {\n",
       "        vertical-align: middle;\n",
       "    }\n",
       "\n",
       "    .dataframe tbody tr th {\n",
       "        vertical-align: top;\n",
       "    }\n",
       "\n",
       "    .dataframe thead th {\n",
       "        text-align: right;\n",
       "    }\n",
       "</style>\n",
       "<table border=\"1\" class=\"dataframe\">\n",
       "  <thead>\n",
       "    <tr style=\"text-align: right;\">\n",
       "      <th></th>\n",
       "      <th>addr</th>\n",
       "      <th>seq</th>\n",
       "      <th>name</th>\n",
       "      <th>age</th>\n",
       "    </tr>\n",
       "  </thead>\n",
       "  <tbody>\n",
       "    <tr>\n",
       "      <th>1</th>\n",
       "      <td>인천</td>\n",
       "      <td>2</td>\n",
       "      <td>hong</td>\n",
       "      <td>20</td>\n",
       "    </tr>\n",
       "    <tr>\n",
       "      <th>2</th>\n",
       "      <td>경기</td>\n",
       "      <td>3</td>\n",
       "      <td>park</td>\n",
       "      <td>25</td>\n",
       "    </tr>\n",
       "  </tbody>\n",
       "</table>\n",
       "</div>"
      ],
      "text/plain": [
       "  addr seq  name age\n",
       "1   인천   2  hong  20\n",
       "2   경기   3  park  25"
      ]
     },
     "execution_count": 38,
     "metadata": {},
     "output_type": "execute_result"
    }
   ],
   "source": [
    "df2 = df2.drop(index=0, axis=0)\n",
    "df2.head()"
   ]
  },
  {
   "cell_type": "code",
   "execution_count": null,
   "id": "d5ed2a27-7c1c-4254-905c-a230504a0cc0",
   "metadata": {},
   "outputs": [],
   "source": []
  },
  {
   "cell_type": "markdown",
   "id": "135502e9-6c7e-4d61-82d1-78015449df6a",
   "metadata": {
    "tags": []
   },
   "source": [
    "### DataFrame  + DataFrame/Series\n",
    "* 덩어리 + 덩어리"
   ]
  },
  {
   "cell_type": "markdown",
   "id": "f6ab2429-0f0e-4485-a540-0db35c776cb9",
   "metadata": {},
   "source": [
    "#### DataFrame  + Series (좌우 합치기)"
   ]
  },
  {
   "cell_type": "markdown",
   "id": "b007a58f-9fa1-49dd-8fd6-25f21e5c7dd9",
   "metadata": {},
   "source": [
    "<img src='https://pandas.pydata.org/pandas-docs/stable/_images/merging_concat_mixed_ndim.png' width=200 height=200>"
   ]
  },
  {
   "cell_type": "code",
   "execution_count": 40,
   "id": "573723e9-dfce-45d3-ba72-f7304d5a6fb2",
   "metadata": {},
   "outputs": [
    {
     "name": "stdout",
     "output_type": "stream",
     "text": [
      "  addr  seq  name  age  mat22\n",
      "0  NaN  NaN   NaN  NaN     66\n",
      "1   인천    2  hong   20     77\n",
      "2   경기    3  park   25     88\n"
     ]
    }
   ],
   "source": [
    "# --------------------------------------------------\n",
    "# 2. df + srs\n",
    "# pd.concat([df, srs], axis=1)\n",
    "# --------------------------------------------------\n",
    "s = pd.Series([66, 77, 88], name='mat22')\n",
    "df = pd.concat([df2,s], axis=1) \n",
    "# df.columns = ['addr', 'seq', 'name', 'age', 'mats']\n",
    "print(df.head())"
   ]
  },
  {
   "cell_type": "markdown",
   "id": "66cdd1c9-f4d1-48b2-8910-a70a351d5177",
   "metadata": {},
   "source": [
    "#### DataFrame  + Series (위와래 합치기)"
   ]
  },
  {
   "cell_type": "markdown",
   "id": "d889a7c3-e934-4bf4-9b97-c4a92c66abcc",
   "metadata": {},
   "source": [
    "<img src='https://pandas.pydata.org/pandas-docs/stable/_images/merging_append_series_as_row.png' width=200 height=200>"
   ]
  },
  {
   "cell_type": "code",
   "execution_count": 41,
   "id": "b0b8f2c2-bf34-4415-a09f-5d7d6545cd6b",
   "metadata": {},
   "outputs": [
    {
     "data": {
      "text/html": [
       "<div>\n",
       "<style scoped>\n",
       "    .dataframe tbody tr th:only-of-type {\n",
       "        vertical-align: middle;\n",
       "    }\n",
       "\n",
       "    .dataframe tbody tr th {\n",
       "        vertical-align: top;\n",
       "    }\n",
       "\n",
       "    .dataframe thead th {\n",
       "        text-align: right;\n",
       "    }\n",
       "</style>\n",
       "<table border=\"1\" class=\"dataframe\">\n",
       "  <thead>\n",
       "    <tr style=\"text-align: right;\">\n",
       "      <th></th>\n",
       "      <th>addr</th>\n",
       "      <th>seq</th>\n",
       "      <th>name</th>\n",
       "      <th>age</th>\n",
       "      <th>mat22</th>\n",
       "    </tr>\n",
       "  </thead>\n",
       "  <tbody>\n",
       "    <tr>\n",
       "      <th>0</th>\n",
       "      <td>NaN</td>\n",
       "      <td>NaN</td>\n",
       "      <td>NaN</td>\n",
       "      <td>NaN</td>\n",
       "      <td>66</td>\n",
       "    </tr>\n",
       "    <tr>\n",
       "      <th>1</th>\n",
       "      <td>인천</td>\n",
       "      <td>2</td>\n",
       "      <td>hong</td>\n",
       "      <td>20</td>\n",
       "      <td>77</td>\n",
       "    </tr>\n",
       "    <tr>\n",
       "      <th>2</th>\n",
       "      <td>경기</td>\n",
       "      <td>3</td>\n",
       "      <td>park</td>\n",
       "      <td>25</td>\n",
       "      <td>88</td>\n",
       "    </tr>\n",
       "    <tr>\n",
       "      <th>3</th>\n",
       "      <td>강원</td>\n",
       "      <td>8</td>\n",
       "      <td>kang</td>\n",
       "      <td>32</td>\n",
       "      <td>100</td>\n",
       "    </tr>\n",
       "  </tbody>\n",
       "</table>\n",
       "</div>"
      ],
      "text/plain": [
       "  addr  seq  name  age  mat22\n",
       "0  NaN  NaN   NaN  NaN     66\n",
       "1   인천    2  hong   20     77\n",
       "2   경기    3  park   25     88\n",
       "3   강원    8  kang   32    100"
      ]
     },
     "execution_count": 41,
     "metadata": {},
     "output_type": "execute_result"
    }
   ],
   "source": [
    "s2 = pd.Series(['강원', 8, 'kang', 32, 100], index=df.columns)  #addr seq  name age  mat22\n",
    "df.append(s2, ignore_index=True)"
   ]
  },
  {
   "cell_type": "markdown",
   "id": "1bf218c0-9f2b-4f3f-9e07-b57df062fd6e",
   "metadata": {},
   "source": [
    "#### DataFrame + DataFrame"
   ]
  },
  {
   "cell_type": "code",
   "execution_count": 42,
   "id": "499da982-86a4-4022-ac8f-b41aa85ab748",
   "metadata": {},
   "outputs": [
    {
     "name": "stdout",
     "output_type": "stream",
     "text": [
      "   empno  ename  deptno\n",
      "0   7733  SMITH      10\n",
      "1   7652   KING      20\n",
      "2   7799  ALLEN      30\n",
      "   empno ename  deptno\n",
      "0   8899    철수      10\n",
      "1   8890    영희      10\n",
      "   empno    ename  deptno\n",
      "0    337  OLD_MAN      30\n",
      "1    445  OLD_FEM      30\n",
      "   deptno      loc\n",
      "0      10       LA\n",
      "1      20      KOR\n",
      "2      30       NY\n",
      "3      40  CHICAGO\n"
     ]
    }
   ],
   "source": [
    "emp = {\"empno\":[7733,7652,7799], \"ename\":['SMITH','KING','ALLEN'], \"deptno\":[10,20,30]}\n",
    "emp_new = {\"empno\":[8899,8890], \"ename\":['철수','영희'], \"deptno\":[10,10]}\n",
    "emp_old = {\"empno\":[337,445], \"ename\":['OLD_MAN','OLD_FEM'], \"deptno\":[30,30]}\n",
    "dept = {\"deptno\":[10,20,30,40], \"loc\":[\"LA\",\"KOR\",\"NY\",\"CHICAGO\"]}\n",
    "\n",
    "emp_df = pd.DataFrame(emp)\n",
    "emp_new_df = pd.DataFrame(emp_new)\n",
    "emp_old_df = pd.DataFrame(emp_old)\n",
    "dept_df = pd.DataFrame(dept)\n",
    "\n",
    "print(emp_df.head())\n",
    "print(emp_new_df.head())\n",
    "print(emp_old_df.head())\n",
    "print(dept_df.head())\n",
    "    "
   ]
  },
  {
   "cell_type": "markdown",
   "id": "21f54cc2-d171-4670-99e5-15cb042fa0a7",
   "metadata": {},
   "source": [
    "#### concat, append, join, merge\n",
    "* ref : https://pandas.pydata.org/pandas-docs/stable/user_guide/merging.html\n",
    "---\n",
    "* Concat : gives the flexibility to join based on the axis( all rows or all columns)\n",
    " - Append  : is the specific case(axis=0, join='outer') of concat\n",
    "* Join    : is based on the indexes (set by set_index) on how variable =['left','right','inner','couter']\n",
    "* Merge  : is based on any particular column each of the two dataframes, this columns are variables on like 'left_on', 'right_on', 'on'\n"
   ]
  },
  {
   "cell_type": "markdown",
   "id": "846d6f02-9ecc-4fd0-9edc-001911a4c64c",
   "metadata": {},
   "source": [
    "* 미션1) 모든 emp프레임 합치기  결과: emp_all_df로 저장<br>\n",
    "<img src='https://pandas.pydata.org/pandas-docs/stable/_images/merging_concat_basic.png' width=100 height=100>"
   ]
  },
  {
   "cell_type": "code",
   "execution_count": 43,
   "id": "314155a6-a121-4ccf-ba16-fd2f6c2128aa",
   "metadata": {},
   "outputs": [
    {
     "data": {
      "text/html": [
       "<div>\n",
       "<style scoped>\n",
       "    .dataframe tbody tr th:only-of-type {\n",
       "        vertical-align: middle;\n",
       "    }\n",
       "\n",
       "    .dataframe tbody tr th {\n",
       "        vertical-align: top;\n",
       "    }\n",
       "\n",
       "    .dataframe thead th {\n",
       "        text-align: right;\n",
       "    }\n",
       "</style>\n",
       "<table border=\"1\" class=\"dataframe\">\n",
       "  <thead>\n",
       "    <tr style=\"text-align: right;\">\n",
       "      <th></th>\n",
       "      <th>empno</th>\n",
       "      <th>ename</th>\n",
       "      <th>deptno</th>\n",
       "    </tr>\n",
       "  </thead>\n",
       "  <tbody>\n",
       "    <tr>\n",
       "      <th>0</th>\n",
       "      <td>7733</td>\n",
       "      <td>SMITH</td>\n",
       "      <td>10</td>\n",
       "    </tr>\n",
       "    <tr>\n",
       "      <th>1</th>\n",
       "      <td>7652</td>\n",
       "      <td>KING</td>\n",
       "      <td>20</td>\n",
       "    </tr>\n",
       "    <tr>\n",
       "      <th>2</th>\n",
       "      <td>7799</td>\n",
       "      <td>ALLEN</td>\n",
       "      <td>30</td>\n",
       "    </tr>\n",
       "    <tr>\n",
       "      <th>3</th>\n",
       "      <td>8899</td>\n",
       "      <td>철수</td>\n",
       "      <td>10</td>\n",
       "    </tr>\n",
       "    <tr>\n",
       "      <th>4</th>\n",
       "      <td>8890</td>\n",
       "      <td>영희</td>\n",
       "      <td>10</td>\n",
       "    </tr>\n",
       "    <tr>\n",
       "      <th>5</th>\n",
       "      <td>337</td>\n",
       "      <td>OLD_MAN</td>\n",
       "      <td>30</td>\n",
       "    </tr>\n",
       "    <tr>\n",
       "      <th>6</th>\n",
       "      <td>445</td>\n",
       "      <td>OLD_FEM</td>\n",
       "      <td>30</td>\n",
       "    </tr>\n",
       "  </tbody>\n",
       "</table>\n",
       "</div>"
      ],
      "text/plain": [
       "   empno    ename  deptno\n",
       "0   7733    SMITH      10\n",
       "1   7652     KING      20\n",
       "2   7799    ALLEN      30\n",
       "3   8899       철수      10\n",
       "4   8890       영희      10\n",
       "5    337  OLD_MAN      30\n",
       "6    445  OLD_FEM      30"
      ]
     },
     "execution_count": 43,
     "metadata": {},
     "output_type": "execute_result"
    }
   ],
   "source": [
    "emp_all_df = pd.concat([emp_df, emp_new_df,emp_old_df], ignore_index=True)\n",
    "emp_all_df"
   ]
  },
  {
   "cell_type": "code",
   "execution_count": 44,
   "id": "33924188-1fda-446c-a70f-58a41259b9d9",
   "metadata": {},
   "outputs": [
    {
     "data": {
      "text/html": [
       "<div>\n",
       "<style scoped>\n",
       "    .dataframe tbody tr th:only-of-type {\n",
       "        vertical-align: middle;\n",
       "    }\n",
       "\n",
       "    .dataframe tbody tr th {\n",
       "        vertical-align: top;\n",
       "    }\n",
       "\n",
       "    .dataframe thead th {\n",
       "        text-align: right;\n",
       "    }\n",
       "</style>\n",
       "<table border=\"1\" class=\"dataframe\">\n",
       "  <thead>\n",
       "    <tr style=\"text-align: right;\">\n",
       "      <th></th>\n",
       "      <th>empno</th>\n",
       "      <th>ename</th>\n",
       "      <th>deptno</th>\n",
       "    </tr>\n",
       "  </thead>\n",
       "  <tbody>\n",
       "    <tr>\n",
       "      <th>0</th>\n",
       "      <td>7733</td>\n",
       "      <td>SMITH</td>\n",
       "      <td>10</td>\n",
       "    </tr>\n",
       "    <tr>\n",
       "      <th>1</th>\n",
       "      <td>7652</td>\n",
       "      <td>KING</td>\n",
       "      <td>20</td>\n",
       "    </tr>\n",
       "    <tr>\n",
       "      <th>2</th>\n",
       "      <td>7799</td>\n",
       "      <td>ALLEN</td>\n",
       "      <td>30</td>\n",
       "    </tr>\n",
       "    <tr>\n",
       "      <th>3</th>\n",
       "      <td>8899</td>\n",
       "      <td>철수</td>\n",
       "      <td>10</td>\n",
       "    </tr>\n",
       "    <tr>\n",
       "      <th>4</th>\n",
       "      <td>8890</td>\n",
       "      <td>영희</td>\n",
       "      <td>10</td>\n",
       "    </tr>\n",
       "    <tr>\n",
       "      <th>5</th>\n",
       "      <td>337</td>\n",
       "      <td>OLD_MAN</td>\n",
       "      <td>30</td>\n",
       "    </tr>\n",
       "    <tr>\n",
       "      <th>6</th>\n",
       "      <td>445</td>\n",
       "      <td>OLD_FEM</td>\n",
       "      <td>30</td>\n",
       "    </tr>\n",
       "  </tbody>\n",
       "</table>\n",
       "</div>"
      ],
      "text/plain": [
       "   empno    ename  deptno\n",
       "0   7733    SMITH      10\n",
       "1   7652     KING      20\n",
       "2   7799    ALLEN      30\n",
       "3   8899       철수      10\n",
       "4   8890       영희      10\n",
       "5    337  OLD_MAN      30\n",
       "6    445  OLD_FEM      30"
      ]
     },
     "execution_count": 44,
     "metadata": {},
     "output_type": "execute_result"
    }
   ],
   "source": [
    "emp_df.append([emp_new_df,emp_old_df], ignore_index=True)"
   ]
  },
  {
   "cell_type": "markdown",
   "id": "dc910ff8-c51f-4b38-91cd-f391fb87865c",
   "metadata": {},
   "source": [
    "### MERGE & CONCAT\n",
    "---\n",
    "pd.merge(\n",
    "    left,\n",
    "    right,\n",
    "    how=\"inner\",\n",
    "    on=None,\n",
    "    left_on=None,\n",
    "    right_on=None,\n",
    "    left_index=False,\n",
    "    right_index=False,\n",
    "    sort=True,\n",
    "    suffixes=(\"_x\", \"_y\"),\n",
    "    copy=True,\n",
    "    indicator=False,\n",
    "    validate=None,\n",
    ")\n",
    "---\n",
    "pd.concat(\n",
    "    objs,\n",
    "    axis=0,\n",
    "    join=\"outer\",\n",
    "    ignore_index=False,\n",
    "    keys=None,\n",
    "    levels=None,\n",
    "    names=None,\n",
    "    verify_integrity=False,\n",
    "    copy=True,\n",
    ")\n",
    "---\n",
    "<font color=red>\n",
    "* inner : INNER JOIN<br>\n",
    "* left : LEFT OUTER JOIN <br>\n",
    "* right : RIGHT OUTER JOIN <br>\n",
    "* outer : FULL OUTER JOIN <br>\n",
    "</font>"
   ]
  },
  {
   "cell_type": "markdown",
   "id": "5f7c752f-d1b8-4dc8-9f7a-a0390c66754b",
   "metadata": {},
   "source": [
    "* 미션2) emp_all_df 과 dept_df inner 조인   결과: emp_dept_inner로 저장<br>\n",
    "<img src='https://pandas.pydata.org/pandas-docs/stable/_images/merging_concat_axis1_inner.png' width=200 height=200>"
   ]
  },
  {
   "cell_type": "code",
   "execution_count": 45,
   "id": "deb71f7e-51c8-4661-a532-2582274ca592",
   "metadata": {},
   "outputs": [
    {
     "data": {
      "text/html": [
       "<div>\n",
       "<style scoped>\n",
       "    .dataframe tbody tr th:only-of-type {\n",
       "        vertical-align: middle;\n",
       "    }\n",
       "\n",
       "    .dataframe tbody tr th {\n",
       "        vertical-align: top;\n",
       "    }\n",
       "\n",
       "    .dataframe thead th {\n",
       "        text-align: right;\n",
       "    }\n",
       "</style>\n",
       "<table border=\"1\" class=\"dataframe\">\n",
       "  <thead>\n",
       "    <tr style=\"text-align: right;\">\n",
       "      <th></th>\n",
       "      <th>empno</th>\n",
       "      <th>ename</th>\n",
       "      <th>deptno</th>\n",
       "      <th>deptno</th>\n",
       "      <th>loc</th>\n",
       "    </tr>\n",
       "  </thead>\n",
       "  <tbody>\n",
       "    <tr>\n",
       "      <th>0</th>\n",
       "      <td>7733</td>\n",
       "      <td>SMITH</td>\n",
       "      <td>10</td>\n",
       "      <td>10.0</td>\n",
       "      <td>LA</td>\n",
       "    </tr>\n",
       "    <tr>\n",
       "      <th>1</th>\n",
       "      <td>7652</td>\n",
       "      <td>KING</td>\n",
       "      <td>20</td>\n",
       "      <td>20.0</td>\n",
       "      <td>KOR</td>\n",
       "    </tr>\n",
       "    <tr>\n",
       "      <th>2</th>\n",
       "      <td>7799</td>\n",
       "      <td>ALLEN</td>\n",
       "      <td>30</td>\n",
       "      <td>30.0</td>\n",
       "      <td>NY</td>\n",
       "    </tr>\n",
       "    <tr>\n",
       "      <th>3</th>\n",
       "      <td>8899</td>\n",
       "      <td>철수</td>\n",
       "      <td>10</td>\n",
       "      <td>40.0</td>\n",
       "      <td>CHICAGO</td>\n",
       "    </tr>\n",
       "    <tr>\n",
       "      <th>4</th>\n",
       "      <td>8890</td>\n",
       "      <td>영희</td>\n",
       "      <td>10</td>\n",
       "      <td>NaN</td>\n",
       "      <td>NaN</td>\n",
       "    </tr>\n",
       "    <tr>\n",
       "      <th>5</th>\n",
       "      <td>337</td>\n",
       "      <td>OLD_MAN</td>\n",
       "      <td>30</td>\n",
       "      <td>NaN</td>\n",
       "      <td>NaN</td>\n",
       "    </tr>\n",
       "    <tr>\n",
       "      <th>6</th>\n",
       "      <td>445</td>\n",
       "      <td>OLD_FEM</td>\n",
       "      <td>30</td>\n",
       "      <td>NaN</td>\n",
       "      <td>NaN</td>\n",
       "    </tr>\n",
       "  </tbody>\n",
       "</table>\n",
       "</div>"
      ],
      "text/plain": [
       "   empno    ename  deptno  deptno      loc\n",
       "0   7733    SMITH      10    10.0       LA\n",
       "1   7652     KING      20    20.0      KOR\n",
       "2   7799    ALLEN      30    30.0       NY\n",
       "3   8899       철수      10    40.0  CHICAGO\n",
       "4   8890       영희      10     NaN      NaN\n",
       "5    337  OLD_MAN      30     NaN      NaN\n",
       "6    445  OLD_FEM      30     NaN      NaN"
      ]
     },
     "execution_count": 45,
     "metadata": {},
     "output_type": "execute_result"
    }
   ],
   "source": [
    "#XXXXXXXX 잘못된 합치기\n",
    "pd.concat([emp_all_df, dept_df], axis=1) "
   ]
  },
  {
   "cell_type": "markdown",
   "id": "f67bcdf1-9eff-46f0-b29f-a3b960b0c90f",
   "metadata": {},
   "source": [
    "# <font color='red'>TODO</font>"
   ]
  },
  {
   "cell_type": "code",
   "execution_count": 59,
   "id": "4f6db45b-bcb1-45e0-8a81-49605ade5dec",
   "metadata": {},
   "outputs": [
    {
     "data": {
      "text/html": [
       "<div>\n",
       "<style scoped>\n",
       "    .dataframe tbody tr th:only-of-type {\n",
       "        vertical-align: middle;\n",
       "    }\n",
       "\n",
       "    .dataframe tbody tr th {\n",
       "        vertical-align: top;\n",
       "    }\n",
       "\n",
       "    .dataframe thead th {\n",
       "        text-align: right;\n",
       "    }\n",
       "</style>\n",
       "<table border=\"1\" class=\"dataframe\">\n",
       "  <thead>\n",
       "    <tr style=\"text-align: right;\">\n",
       "      <th></th>\n",
       "      <th>deptno</th>\n",
       "    </tr>\n",
       "  </thead>\n",
       "  <tbody>\n",
       "    <tr>\n",
       "      <th>0</th>\n",
       "      <td>10</td>\n",
       "    </tr>\n",
       "    <tr>\n",
       "      <th>1</th>\n",
       "      <td>20</td>\n",
       "    </tr>\n",
       "    <tr>\n",
       "      <th>2</th>\n",
       "      <td>30</td>\n",
       "    </tr>\n",
       "    <tr>\n",
       "      <th>3</th>\n",
       "      <td>10</td>\n",
       "    </tr>\n",
       "    <tr>\n",
       "      <th>4</th>\n",
       "      <td>10</td>\n",
       "    </tr>\n",
       "    <tr>\n",
       "      <th>5</th>\n",
       "      <td>30</td>\n",
       "    </tr>\n",
       "    <tr>\n",
       "      <th>6</th>\n",
       "      <td>30</td>\n",
       "    </tr>\n",
       "    <tr>\n",
       "      <th>7</th>\n",
       "      <td>10</td>\n",
       "    </tr>\n",
       "    <tr>\n",
       "      <th>8</th>\n",
       "      <td>20</td>\n",
       "    </tr>\n",
       "    <tr>\n",
       "      <th>9</th>\n",
       "      <td>30</td>\n",
       "    </tr>\n",
       "    <tr>\n",
       "      <th>10</th>\n",
       "      <td>40</td>\n",
       "    </tr>\n",
       "  </tbody>\n",
       "</table>\n",
       "</div>"
      ],
      "text/plain": [
       "    deptno\n",
       "0       10\n",
       "1       20\n",
       "2       30\n",
       "3       10\n",
       "4       10\n",
       "5       30\n",
       "6       30\n",
       "7       10\n",
       "8       20\n",
       "9       30\n",
       "10      40"
      ]
     },
     "execution_count": 59,
     "metadata": {},
     "output_type": "execute_result"
    }
   ],
   "source": [
    "concat_df = pd.concat([emp_all_df, dept_df], axis=0, join=\"inner\", ignore_index=True)\n",
    "concat_df"
   ]
  },
  {
   "cell_type": "code",
   "execution_count": 53,
   "id": "6208983d-afa2-46e0-acda-8bfae1eb485c",
   "metadata": {},
   "outputs": [
    {
     "data": {
      "text/html": [
       "<div>\n",
       "<style scoped>\n",
       "    .dataframe tbody tr th:only-of-type {\n",
       "        vertical-align: middle;\n",
       "    }\n",
       "\n",
       "    .dataframe tbody tr th {\n",
       "        vertical-align: top;\n",
       "    }\n",
       "\n",
       "    .dataframe thead th {\n",
       "        text-align: right;\n",
       "    }\n",
       "</style>\n",
       "<table border=\"1\" class=\"dataframe\">\n",
       "  <thead>\n",
       "    <tr style=\"text-align: right;\">\n",
       "      <th></th>\n",
       "      <th>empno</th>\n",
       "      <th>ename</th>\n",
       "      <th>deptno</th>\n",
       "      <th>loc</th>\n",
       "    </tr>\n",
       "  </thead>\n",
       "  <tbody>\n",
       "    <tr>\n",
       "      <th>0</th>\n",
       "      <td>7733</td>\n",
       "      <td>SMITH</td>\n",
       "      <td>10</td>\n",
       "      <td>LA</td>\n",
       "    </tr>\n",
       "    <tr>\n",
       "      <th>1</th>\n",
       "      <td>8899</td>\n",
       "      <td>철수</td>\n",
       "      <td>10</td>\n",
       "      <td>LA</td>\n",
       "    </tr>\n",
       "    <tr>\n",
       "      <th>2</th>\n",
       "      <td>8890</td>\n",
       "      <td>영희</td>\n",
       "      <td>10</td>\n",
       "      <td>LA</td>\n",
       "    </tr>\n",
       "    <tr>\n",
       "      <th>3</th>\n",
       "      <td>7652</td>\n",
       "      <td>KING</td>\n",
       "      <td>20</td>\n",
       "      <td>KOR</td>\n",
       "    </tr>\n",
       "    <tr>\n",
       "      <th>4</th>\n",
       "      <td>7799</td>\n",
       "      <td>ALLEN</td>\n",
       "      <td>30</td>\n",
       "      <td>NY</td>\n",
       "    </tr>\n",
       "    <tr>\n",
       "      <th>5</th>\n",
       "      <td>337</td>\n",
       "      <td>OLD_MAN</td>\n",
       "      <td>30</td>\n",
       "      <td>NY</td>\n",
       "    </tr>\n",
       "    <tr>\n",
       "      <th>6</th>\n",
       "      <td>445</td>\n",
       "      <td>OLD_FEM</td>\n",
       "      <td>30</td>\n",
       "      <td>NY</td>\n",
       "    </tr>\n",
       "  </tbody>\n",
       "</table>\n",
       "</div>"
      ],
      "text/plain": [
       "   empno    ename  deptno  loc\n",
       "0   7733    SMITH      10   LA\n",
       "1   8899       철수      10   LA\n",
       "2   8890       영희      10   LA\n",
       "3   7652     KING      20  KOR\n",
       "4   7799    ALLEN      30   NY\n",
       "5    337  OLD_MAN      30   NY\n",
       "6    445  OLD_FEM      30   NY"
      ]
     },
     "execution_count": 53,
     "metadata": {},
     "output_type": "execute_result"
    }
   ],
   "source": [
    "emp_dept_inner = pd.merge(emp_all_df, dept_df, how=\"inner\", on='deptno')\n",
    "emp_dept_inner"
   ]
  },
  {
   "cell_type": "markdown",
   "id": "1f61de62-5ccc-417c-8a41-4bf160a961a6",
   "metadata": {},
   "source": [
    "* 미션3) emp_all_df 과 dept_df left_outer 조인    결과: emp_dept_leftouter로 저장<br>\n",
    "<img src='https://pandas.pydata.org/pandas-docs/stable/_images/merging_merge_on_key.png' width=300 height=300><br>"
   ]
  },
  {
   "cell_type": "code",
   "execution_count": 48,
   "id": "14625489-fd69-44cc-8aae-ab1e7798a79a",
   "metadata": {},
   "outputs": [
    {
     "data": {
      "text/html": [
       "<div>\n",
       "<style scoped>\n",
       "    .dataframe tbody tr th:only-of-type {\n",
       "        vertical-align: middle;\n",
       "    }\n",
       "\n",
       "    .dataframe tbody tr th {\n",
       "        vertical-align: top;\n",
       "    }\n",
       "\n",
       "    .dataframe thead th {\n",
       "        text-align: right;\n",
       "    }\n",
       "</style>\n",
       "<table border=\"1\" class=\"dataframe\">\n",
       "  <thead>\n",
       "    <tr style=\"text-align: right;\">\n",
       "      <th></th>\n",
       "      <th>empno</th>\n",
       "      <th>ename</th>\n",
       "      <th>deptno</th>\n",
       "      <th>loc</th>\n",
       "    </tr>\n",
       "  </thead>\n",
       "  <tbody>\n",
       "    <tr>\n",
       "      <th>0</th>\n",
       "      <td>7733</td>\n",
       "      <td>SMITH</td>\n",
       "      <td>10</td>\n",
       "      <td>LA</td>\n",
       "    </tr>\n",
       "    <tr>\n",
       "      <th>1</th>\n",
       "      <td>7652</td>\n",
       "      <td>KING</td>\n",
       "      <td>20</td>\n",
       "      <td>KOR</td>\n",
       "    </tr>\n",
       "    <tr>\n",
       "      <th>2</th>\n",
       "      <td>7799</td>\n",
       "      <td>ALLEN</td>\n",
       "      <td>30</td>\n",
       "      <td>NY</td>\n",
       "    </tr>\n",
       "    <tr>\n",
       "      <th>3</th>\n",
       "      <td>8899</td>\n",
       "      <td>철수</td>\n",
       "      <td>10</td>\n",
       "      <td>LA</td>\n",
       "    </tr>\n",
       "    <tr>\n",
       "      <th>4</th>\n",
       "      <td>8890</td>\n",
       "      <td>영희</td>\n",
       "      <td>10</td>\n",
       "      <td>LA</td>\n",
       "    </tr>\n",
       "    <tr>\n",
       "      <th>5</th>\n",
       "      <td>337</td>\n",
       "      <td>OLD_MAN</td>\n",
       "      <td>30</td>\n",
       "      <td>NY</td>\n",
       "    </tr>\n",
       "    <tr>\n",
       "      <th>6</th>\n",
       "      <td>445</td>\n",
       "      <td>OLD_FEM</td>\n",
       "      <td>30</td>\n",
       "      <td>NY</td>\n",
       "    </tr>\n",
       "  </tbody>\n",
       "</table>\n",
       "</div>"
      ],
      "text/plain": [
       "   empno    ename  deptno  loc\n",
       "0   7733    SMITH      10   LA\n",
       "1   7652     KING      20  KOR\n",
       "2   7799    ALLEN      30   NY\n",
       "3   8899       철수      10   LA\n",
       "4   8890       영희      10   LA\n",
       "5    337  OLD_MAN      30   NY\n",
       "6    445  OLD_FEM      30   NY"
      ]
     },
     "execution_count": 48,
     "metadata": {},
     "output_type": "execute_result"
    }
   ],
   "source": [
    "emp_dept_leftouter = pd.merge(emp_all_df, dept_df,how=\"left\", on='deptno')\n",
    "emp_dept_leftouter"
   ]
  },
  {
   "cell_type": "markdown",
   "id": "ddfa4039-e2c6-4343-8eac-eadcbf946588",
   "metadata": {},
   "source": [
    "* 미션4) emp_all_df 과 dept_df right_outer 조인    결과: emp_dept_rightouter로 저장"
   ]
  },
  {
   "cell_type": "code",
   "execution_count": 49,
   "id": "1bbcd0c0-79d0-4971-b584-26cf5a7a8332",
   "metadata": {},
   "outputs": [
    {
     "data": {
      "text/html": [
       "<div>\n",
       "<style scoped>\n",
       "    .dataframe tbody tr th:only-of-type {\n",
       "        vertical-align: middle;\n",
       "    }\n",
       "\n",
       "    .dataframe tbody tr th {\n",
       "        vertical-align: top;\n",
       "    }\n",
       "\n",
       "    .dataframe thead th {\n",
       "        text-align: right;\n",
       "    }\n",
       "</style>\n",
       "<table border=\"1\" class=\"dataframe\">\n",
       "  <thead>\n",
       "    <tr style=\"text-align: right;\">\n",
       "      <th></th>\n",
       "      <th>empno</th>\n",
       "      <th>ename</th>\n",
       "      <th>deptno</th>\n",
       "      <th>loc</th>\n",
       "    </tr>\n",
       "  </thead>\n",
       "  <tbody>\n",
       "    <tr>\n",
       "      <th>0</th>\n",
       "      <td>7733.0</td>\n",
       "      <td>SMITH</td>\n",
       "      <td>10</td>\n",
       "      <td>LA</td>\n",
       "    </tr>\n",
       "    <tr>\n",
       "      <th>1</th>\n",
       "      <td>8899.0</td>\n",
       "      <td>철수</td>\n",
       "      <td>10</td>\n",
       "      <td>LA</td>\n",
       "    </tr>\n",
       "    <tr>\n",
       "      <th>2</th>\n",
       "      <td>8890.0</td>\n",
       "      <td>영희</td>\n",
       "      <td>10</td>\n",
       "      <td>LA</td>\n",
       "    </tr>\n",
       "    <tr>\n",
       "      <th>3</th>\n",
       "      <td>7652.0</td>\n",
       "      <td>KING</td>\n",
       "      <td>20</td>\n",
       "      <td>KOR</td>\n",
       "    </tr>\n",
       "    <tr>\n",
       "      <th>4</th>\n",
       "      <td>7799.0</td>\n",
       "      <td>ALLEN</td>\n",
       "      <td>30</td>\n",
       "      <td>NY</td>\n",
       "    </tr>\n",
       "    <tr>\n",
       "      <th>5</th>\n",
       "      <td>337.0</td>\n",
       "      <td>OLD_MAN</td>\n",
       "      <td>30</td>\n",
       "      <td>NY</td>\n",
       "    </tr>\n",
       "    <tr>\n",
       "      <th>6</th>\n",
       "      <td>445.0</td>\n",
       "      <td>OLD_FEM</td>\n",
       "      <td>30</td>\n",
       "      <td>NY</td>\n",
       "    </tr>\n",
       "    <tr>\n",
       "      <th>7</th>\n",
       "      <td>NaN</td>\n",
       "      <td>NaN</td>\n",
       "      <td>40</td>\n",
       "      <td>CHICAGO</td>\n",
       "    </tr>\n",
       "  </tbody>\n",
       "</table>\n",
       "</div>"
      ],
      "text/plain": [
       "    empno    ename  deptno      loc\n",
       "0  7733.0    SMITH      10       LA\n",
       "1  8899.0       철수      10       LA\n",
       "2  8890.0       영희      10       LA\n",
       "3  7652.0     KING      20      KOR\n",
       "4  7799.0    ALLEN      30       NY\n",
       "5   337.0  OLD_MAN      30       NY\n",
       "6   445.0  OLD_FEM      30       NY\n",
       "7     NaN      NaN      40  CHICAGO"
      ]
     },
     "execution_count": 49,
     "metadata": {},
     "output_type": "execute_result"
    }
   ],
   "source": [
    "emp_dept_rightouter = pd.merge(emp_all_df, dept_df,how=\"right\", on='deptno')\n",
    "emp_dept_rightouter"
   ]
  },
  {
   "cell_type": "markdown",
   "id": "b856c1af-3bad-4f7f-b1f7-631c6162c958",
   "metadata": {},
   "source": [
    "* 미션5) emp_all_df 과 dept_df  full_outer 조인 결과 : emp_dept_fullouter로 저장"
   ]
  },
  {
   "cell_type": "code",
   "execution_count": 60,
   "id": "4e09382d-9250-409c-be0b-ad52c5ce8e07",
   "metadata": {},
   "outputs": [
    {
     "data": {
      "text/html": [
       "<div>\n",
       "<style scoped>\n",
       "    .dataframe tbody tr th:only-of-type {\n",
       "        vertical-align: middle;\n",
       "    }\n",
       "\n",
       "    .dataframe tbody tr th {\n",
       "        vertical-align: top;\n",
       "    }\n",
       "\n",
       "    .dataframe thead th {\n",
       "        text-align: right;\n",
       "    }\n",
       "</style>\n",
       "<table border=\"1\" class=\"dataframe\">\n",
       "  <thead>\n",
       "    <tr style=\"text-align: right;\">\n",
       "      <th></th>\n",
       "      <th>empno</th>\n",
       "      <th>ename</th>\n",
       "      <th>deptno</th>\n",
       "    </tr>\n",
       "  </thead>\n",
       "  <tbody>\n",
       "    <tr>\n",
       "      <th>0</th>\n",
       "      <td>7733</td>\n",
       "      <td>SMITH</td>\n",
       "      <td>10</td>\n",
       "    </tr>\n",
       "    <tr>\n",
       "      <th>1</th>\n",
       "      <td>7652</td>\n",
       "      <td>KING</td>\n",
       "      <td>20</td>\n",
       "    </tr>\n",
       "    <tr>\n",
       "      <th>2</th>\n",
       "      <td>7799</td>\n",
       "      <td>ALLEN</td>\n",
       "      <td>30</td>\n",
       "    </tr>\n",
       "    <tr>\n",
       "      <th>3</th>\n",
       "      <td>8899</td>\n",
       "      <td>철수</td>\n",
       "      <td>10</td>\n",
       "    </tr>\n",
       "    <tr>\n",
       "      <th>4</th>\n",
       "      <td>8890</td>\n",
       "      <td>영희</td>\n",
       "      <td>10</td>\n",
       "    </tr>\n",
       "    <tr>\n",
       "      <th>5</th>\n",
       "      <td>337</td>\n",
       "      <td>OLD_MAN</td>\n",
       "      <td>30</td>\n",
       "    </tr>\n",
       "    <tr>\n",
       "      <th>6</th>\n",
       "      <td>445</td>\n",
       "      <td>OLD_FEM</td>\n",
       "      <td>30</td>\n",
       "    </tr>\n",
       "    <tr>\n",
       "      <th>7</th>\n",
       "      <td>1111</td>\n",
       "      <td>LKH</td>\n",
       "      <td>50</td>\n",
       "    </tr>\n",
       "  </tbody>\n",
       "</table>\n",
       "</div>"
      ],
      "text/plain": [
       "   empno    ename  deptno\n",
       "0   7733    SMITH      10\n",
       "1   7652     KING      20\n",
       "2   7799    ALLEN      30\n",
       "3   8899       철수      10\n",
       "4   8890       영희      10\n",
       "5    337  OLD_MAN      30\n",
       "6    445  OLD_FEM      30\n",
       "7   1111      LKH      50"
      ]
     },
     "execution_count": 60,
     "metadata": {},
     "output_type": "execute_result"
    }
   ],
   "source": [
    "s2 = pd.Series([1111, 'LKH', 50], index=emp_all_df.columns)  #addr seq  name age  mat22\n",
    "emp_all_df.append(s2, ignore_index=True)"
   ]
  },
  {
   "cell_type": "code",
   "execution_count": 61,
   "id": "fda1c8bf-aace-49e5-a43c-7c9995146afc",
   "metadata": {},
   "outputs": [
    {
     "data": {
      "text/html": [
       "<div>\n",
       "<style scoped>\n",
       "    .dataframe tbody tr th:only-of-type {\n",
       "        vertical-align: middle;\n",
       "    }\n",
       "\n",
       "    .dataframe tbody tr th {\n",
       "        vertical-align: top;\n",
       "    }\n",
       "\n",
       "    .dataframe thead th {\n",
       "        text-align: right;\n",
       "    }\n",
       "</style>\n",
       "<table border=\"1\" class=\"dataframe\">\n",
       "  <thead>\n",
       "    <tr style=\"text-align: right;\">\n",
       "      <th></th>\n",
       "      <th>empno</th>\n",
       "      <th>ename</th>\n",
       "      <th>deptno</th>\n",
       "      <th>loc</th>\n",
       "    </tr>\n",
       "  </thead>\n",
       "  <tbody>\n",
       "    <tr>\n",
       "      <th>0</th>\n",
       "      <td>7733.0</td>\n",
       "      <td>SMITH</td>\n",
       "      <td>10</td>\n",
       "      <td>LA</td>\n",
       "    </tr>\n",
       "    <tr>\n",
       "      <th>1</th>\n",
       "      <td>8899.0</td>\n",
       "      <td>철수</td>\n",
       "      <td>10</td>\n",
       "      <td>LA</td>\n",
       "    </tr>\n",
       "    <tr>\n",
       "      <th>2</th>\n",
       "      <td>8890.0</td>\n",
       "      <td>영희</td>\n",
       "      <td>10</td>\n",
       "      <td>LA</td>\n",
       "    </tr>\n",
       "    <tr>\n",
       "      <th>3</th>\n",
       "      <td>7652.0</td>\n",
       "      <td>KING</td>\n",
       "      <td>20</td>\n",
       "      <td>KOR</td>\n",
       "    </tr>\n",
       "    <tr>\n",
       "      <th>4</th>\n",
       "      <td>7799.0</td>\n",
       "      <td>ALLEN</td>\n",
       "      <td>30</td>\n",
       "      <td>NY</td>\n",
       "    </tr>\n",
       "    <tr>\n",
       "      <th>5</th>\n",
       "      <td>337.0</td>\n",
       "      <td>OLD_MAN</td>\n",
       "      <td>30</td>\n",
       "      <td>NY</td>\n",
       "    </tr>\n",
       "    <tr>\n",
       "      <th>6</th>\n",
       "      <td>445.0</td>\n",
       "      <td>OLD_FEM</td>\n",
       "      <td>30</td>\n",
       "      <td>NY</td>\n",
       "    </tr>\n",
       "    <tr>\n",
       "      <th>7</th>\n",
       "      <td>NaN</td>\n",
       "      <td>NaN</td>\n",
       "      <td>40</td>\n",
       "      <td>CHICAGO</td>\n",
       "    </tr>\n",
       "  </tbody>\n",
       "</table>\n",
       "</div>"
      ],
      "text/plain": [
       "    empno    ename  deptno      loc\n",
       "0  7733.0    SMITH      10       LA\n",
       "1  8899.0       철수      10       LA\n",
       "2  8890.0       영희      10       LA\n",
       "3  7652.0     KING      20      KOR\n",
       "4  7799.0    ALLEN      30       NY\n",
       "5   337.0  OLD_MAN      30       NY\n",
       "6   445.0  OLD_FEM      30       NY\n",
       "7     NaN      NaN      40  CHICAGO"
      ]
     },
     "execution_count": 61,
     "metadata": {},
     "output_type": "execute_result"
    }
   ],
   "source": [
    "emp_dept_fullouter = pd.merge(emp_all_df, dept_df, how=\"outer\", on='deptno')\n",
    "emp_dept_fullouter"
   ]
  },
  {
   "cell_type": "code",
   "execution_count": null,
   "id": "39fea58d-9b2d-4670-9272-f95f906f783c",
   "metadata": {},
   "outputs": [],
   "source": []
  },
  {
   "cell_type": "markdown",
   "id": "56175664-5fcf-485a-bc03-ce94b8d9cc0e",
   "metadata": {},
   "source": [
    "#### 분석 API 활용"
   ]
  },
  {
   "cell_type": "code",
   "execution_count": 51,
   "id": "75634d85-3f45-425d-985b-ab5953ccf12b",
   "metadata": {},
   "outputs": [
    {
     "ename": "SyntaxError",
     "evalue": "invalid syntax (Temp/ipykernel_19312/1978695627.py, line 1)",
     "output_type": "error",
     "traceback": [
      "\u001b[1;36m  File \u001b[1;32m\"C:\\Users\\677\\AppData\\Local\\Temp/ipykernel_19312/1978695627.py\"\u001b[1;36m, line \u001b[1;32m1\u001b[0m\n\u001b[1;33m    from sklearn.preproc\u001b[0m\n\u001b[1;37m                        ^\u001b[0m\n\u001b[1;31mSyntaxError\u001b[0m\u001b[1;31m:\u001b[0m invalid syntax\n"
     ]
    }
   ],
   "source": [
    "from sklearn.preproc"
   ]
  },
  {
   "cell_type": "code",
   "execution_count": null,
   "id": "525e634a-345c-45e2-b5af-48d31f4f8ef1",
   "metadata": {},
   "outputs": [],
   "source": []
  },
  {
   "cell_type": "code",
   "execution_count": null,
   "id": "264a6d76-9fdf-41c4-8cbd-7f9a4eec480c",
   "metadata": {},
   "outputs": [],
   "source": []
  }
 ],
 "metadata": {
  "kernelspec": {
   "display_name": "Python 3 (ipykernel)",
   "language": "python",
   "name": "python3"
  },
  "language_info": {
   "codemirror_mode": {
    "name": "ipython",
    "version": 3
   },
   "file_extension": ".py",
   "mimetype": "text/x-python",
   "name": "python",
   "nbconvert_exporter": "python",
   "pygments_lexer": "ipython3",
   "version": "3.8.8"
  }
 },
 "nbformat": 4,
 "nbformat_minor": 5
}
