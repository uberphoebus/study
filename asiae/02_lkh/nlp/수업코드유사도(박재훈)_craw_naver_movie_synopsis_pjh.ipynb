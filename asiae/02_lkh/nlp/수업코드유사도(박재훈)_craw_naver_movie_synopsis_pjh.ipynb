{
 "cells": [
  {
   "cell_type": "markdown",
   "metadata": {},
   "source": [
    "# imports"
   ]
  },
  {
   "cell_type": "code",
   "execution_count": 1,
   "metadata": {},
   "outputs": [
    {
     "data": {
      "text/plain": [
       "1.0861356955232222"
      ]
     },
     "execution_count": 1,
     "metadata": {},
     "output_type": "execute_result"
    }
   ],
   "source": [
    "import pandas as pd\n",
    "import numpy as np\n",
    "from bs4 import BeautifulSoup\n",
    "import requests\n",
    "import time\n",
    "import random\n",
    "import re\n",
    "random.uniform(0.2, 1.2)"
   ]
  },
  {
   "cell_type": "markdown",
   "metadata": {},
   "source": [
    "# def"
   ]
  },
  {
   "cell_type": "code",
   "execution_count": 2,
   "metadata": {},
   "outputs": [],
   "source": [
    "def getMoviecode(years=[2021], max_page=30):\n",
    "    \n",
    "    \"\"\"연도별 영화코드 수집\"\"\"\n",
    "#     for year in np.arange(2015, 2022) :\n",
    "    for year in years :\n",
    "        interval = round(random.uniform(0.2, 1.2), 2)\n",
    "        time.sleep(interval)\n",
    "            \n",
    "        base_url = 'https://movie.naver.com/movie/sdb/browsing/bmovie.naver?open=' + str(year) + '&page='\n",
    "        movie_code_list = []\n",
    "\n",
    "        for page in range(max_page + 1):\n",
    "\n",
    "            url = base_url + str(page)\n",
    "            response = requests.get(url)\n",
    "\n",
    "            if response.status_code == 200:\n",
    "                html = response.text\n",
    "                soup = BeautifulSoup(html, 'lxml')\n",
    "            else:\n",
    "                print('error', response.status_code)\n",
    "                break\n",
    "\n",
    "            list = soup.select('#old_content > ul > li')\n",
    "            \n",
    "            for movie in range(len(list)):\n",
    "                movie_code_year = {}\n",
    "                code = list[movie].select_one('a').get('href').split('=')[1]\n",
    "                movie_code_year[\"code\"] = code\n",
    "                movie_code_year[\"year\"] = year\n",
    "                movie_code_list.append(movie_code_year)\n",
    "\n",
    "    return movie_code_list"
   ]
  },
  {
   "cell_type": "code",
   "execution_count": 3,
   "metadata": {},
   "outputs": [],
   "source": [
    "\n",
    "def getSynopsis(code=0, year=2021):\n",
    "    \"\"\"영화 페이지에서 줄거리 가져오기\"\"\"\n",
    "    url = 'https://movie.naver.com/movie/bi/mi/basic.naver?code=' + code\n",
    "    response = requests.get(url)\n",
    "    if response.status_code == 200:\n",
    "        html = response.text\n",
    "        soup = BeautifulSoup(html, 'lxml')\n",
    "    else:\n",
    "        print('error', response.status_code)\n",
    "\n",
    "    synopsis_list = []\n",
    "    title = soup.select_one('#content > div.article > div.mv_info_area > div.mv_info > h3 > a:nth-of-type(1)').text\n",
    "    synopsis_list.append(year)\n",
    "    synopsis_list.append(title)\n",
    "\n",
    "    try:\n",
    "        content = soup.select_one(\n",
    "            '#content > div.article > div.section_group.section_group_frst > div:nth-of-type(1) > div > div > p').text\n",
    "        content = content.replace('\\r', '').replace('\\n', '').replace('\\t', '').replace('\\xa0', '')\n",
    "\n",
    "        brief = soup.select_one(\n",
    "            '#content > div.article > div.section_group.section_group_frst > div:nth-of-type(1) > div > div > h5').text\n",
    "\n",
    "        cate = soup.select_one(\n",
    "            '#content > div.article > div.mv_info_area > div.mv_info > dl > dd:nth-of-type(1) > p > span:nth-of-type(1)').text\n",
    "        cate = cate.replace('\\r', '').replace('\\n', '').replace('\\t', '').replace('\\xa0', '')\n",
    "\n",
    "        nation = soup.select_one(\n",
    "            '#content > div.article > div.mv_info_area > div.mv_info > dl > dd:nth-of-type(1) > p > span:nth-of-type(2)').text\n",
    "        nation = nation.replace('\\r', '').replace('\\n', '').replace('\\t', '').replace('\\xa0', '')\n",
    "        if \"한국\" in nation:\n",
    "            nation = 1\n",
    "        else:\n",
    "            nation = 0\n",
    "\n",
    "        director = soup.select_one(\n",
    "            '#content > div.article > div.mv_info_area > div.mv_info > dl > dd:nth-of-type(2) > p').text\n",
    "        director = re.sub(r'\\([^)]*\\)', '', director.strip())  # (s) 제거\n",
    "\n",
    "        actor = soup.select_one(\n",
    "            '#content > div.article > div.mv_info_area > div.mv_info > dl > dd:nth-of-type(3) > p').text\n",
    "        actor = re.sub(r'\\([^)]*\\)', '', actor.strip())  #(s) 제거\n",
    "\n",
    "        imgurl = soup.select_one(\n",
    "            '#content > div.article > div.mv_info_area > div.poster > a > img[src]')['src']\n",
    "\n",
    "        synopsis_list.append(content)\n",
    "        synopsis_list.append(brief)\n",
    "        synopsis_list.append(cate)\n",
    "        synopsis_list.append(nation)\n",
    "        synopsis_list.append(director)\n",
    "        synopsis_list.append(actor)\n",
    "        synopsis_list.append(imgurl)\n",
    "\n",
    "    except Exception as e:\n",
    "        print(e)\n",
    "        synopsis_list.append(np.nan)\n",
    "        synopsis_list.append(np.nan)\n",
    "        synopsis_list.append(np.nan)\n",
    "        synopsis_list.append(np.nan)\n",
    "        synopsis_list.append(np.nan)\n",
    "        synopsis_list.append(np.nan)\n",
    "        synopsis_list.append(np.nan)\n",
    "#     print(synopsis_list)\n",
    "    return synopsis_list"
   ]
  },
  {
   "cell_type": "code",
   "execution_count": 4,
   "metadata": {},
   "outputs": [
    {
     "name": "stdout",
     "output_type": "stream",
     "text": [
      "[2021, '듄', \"10191년, 아트레이데스 가문의 후계자인 폴(티모시 샬라메)은 시공을 초월한 존재이자전 우주를 구원할 예지된 자의 운명을 타고났다.그리고 어떤 계시처럼 매일 꿈에서 아라키스 행성에 있는 한 여인을 만난다.모래언덕을 뜻하는 '듄'이라 불리는 아라키스는 물 한 방울 없는 사막이지만우주에서 가장 비싼 물질인 신성한 환각제 스파이스의 유일한 생산지로 이를 차지하기 위한 전쟁이 치열하다.황제의 명령으로 폴과 아트레이데스 가문은 죽음이 기다리는 아라키스로 향하는데…위대한 자는 부름에 응답한다, 두려움에 맞서라, 이것은 위대한 시작이다!\", '“듄을 지배하는 자가 우주를 지배한다!”', '모험, 드라마, SF', 0, '드니 빌뇌브', '티모시 샬라메, 레베카 퍼거슨, 오스카 아이삭', 'https://movie-phinf.pstatic.net/20210915_104/1631681279096sdjNA_JPEG/movie_image.jpg?type=m203_290_2']\n"
     ]
    },
    {
     "data": {
      "text/plain": [
       "[2021,\n",
       " '듄',\n",
       " \"10191년, 아트레이데스 가문의 후계자인 폴(티모시 샬라메)은 시공을 초월한 존재이자전 우주를 구원할 예지된 자의 운명을 타고났다.그리고 어떤 계시처럼 매일 꿈에서 아라키스 행성에 있는 한 여인을 만난다.모래언덕을 뜻하는 '듄'이라 불리는 아라키스는 물 한 방울 없는 사막이지만우주에서 가장 비싼 물질인 신성한 환각제 스파이스의 유일한 생산지로 이를 차지하기 위한 전쟁이 치열하다.황제의 명령으로 폴과 아트레이데스 가문은 죽음이 기다리는 아라키스로 향하는데…위대한 자는 부름에 응답한다, 두려움에 맞서라, 이것은 위대한 시작이다!\",\n",
       " '“듄을 지배하는 자가 우주를 지배한다!”',\n",
       " '모험, 드라마, SF',\n",
       " 0,\n",
       " '드니 빌뇌브',\n",
       " '티모시 샬라메, 레베카 퍼거슨, 오스카 아이삭',\n",
       " 'https://movie-phinf.pstatic.net/20210915_104/1631681279096sdjNA_JPEG/movie_image.jpg?type=m203_290_2']"
      ]
     },
     "execution_count": 4,
     "metadata": {},
     "output_type": "execute_result"
    }
   ],
   "source": [
    "getSynopsis('191559')"
   ]
  },
  {
   "cell_type": "markdown",
   "metadata": {},
   "source": [
    "# 영화 코드 가져오기"
   ]
  },
  {
   "cell_type": "code",
   "execution_count": 5,
   "metadata": {},
   "outputs": [],
   "source": [
    "# movie_codes = getMoviecode(year=[2015,2016,2017,2018,2019,2020,2021], max_page=30)\n",
    "movie_codes = getMoviecode(years=np.arange(2005,2022), max_page=30)"
   ]
  },
  {
   "cell_type": "code",
   "execution_count": 6,
   "metadata": {},
   "outputs": [
    {
     "data": {
      "text/plain": [
       "(620,\n",
       " [{'code': '99702', 'year': 2021},\n",
       "  {'code': '148043', 'year': 2021},\n",
       "  {'code': '204776', 'year': 2021},\n",
       "  {'code': '199665', 'year': 2021},\n",
       "  {'code': '201842', 'year': 2021},\n",
       "  {'code': '198765', 'year': 2021},\n",
       "  {'code': '202533', 'year': 2021},\n",
       "  {'code': '200743', 'year': 2021},\n",
       "  {'code': '174831', 'year': 2021},\n",
       "  {'code': '195072', 'year': 2021},\n",
       "  {'code': '163676', 'year': 2021},\n",
       "  {'code': '201885', 'year': 2021},\n",
       "  {'code': '202529', 'year': 2021},\n",
       "  {'code': '201968', 'year': 2021},\n",
       "  {'code': '201897', 'year': 2021},\n",
       "  {'code': '197468', 'year': 2021},\n",
       "  {'code': '208655', 'year': 2021},\n",
       "  {'code': '201956', 'year': 2021},\n",
       "  {'code': '194660', 'year': 2021},\n",
       "  {'code': '206574', 'year': 2021}])"
      ]
     },
     "execution_count": 6,
     "metadata": {},
     "output_type": "execute_result"
    }
   ],
   "source": [
    "len(movie_codes), movie_codes[:20]"
   ]
  },
  {
   "cell_type": "markdown",
   "metadata": {},
   "source": [
    "# 영화 시놉시스 데이터프레임 구성"
   ]
  },
  {
   "cell_type": "code",
   "execution_count": 7,
   "metadata": {},
   "outputs": [
    {
     "name": "stdout",
     "output_type": "stream",
     "text": [
      "'NoneType' object has no attribute 'text'\n",
      "[2021, 'IS 탈출', nan, nan, nan, nan, nan, nan, nan]\n"
     ]
    },
    {
     "data": {
      "text/plain": [
       "[2021, 'IS 탈출', nan, nan, nan, nan, nan, nan, nan]"
      ]
     },
     "execution_count": 7,
     "metadata": {},
     "output_type": "execute_result"
    }
   ],
   "source": [
    "#99702', 'year': 2021}\n",
    "getSynopsis(code='201956', year=2021)\n"
   ]
  },
  {
   "cell_type": "code",
   "execution_count": 14,
   "metadata": {},
   "outputs": [
    {
     "data": {
      "text/plain": [
       "[{'code': '99702', 'year': 2021},\n",
       " {'code': '148043', 'year': 2021},\n",
       " {'code': '204776', 'year': 2021},\n",
       " {'code': '199665', 'year': 2021},\n",
       " {'code': '201842', 'year': 2021}]"
      ]
     },
     "execution_count": 14,
     "metadata": {},
     "output_type": "execute_result"
    }
   ],
   "source": [
    "movie_codes[:5]"
   ]
  },
  {
   "cell_type": "code",
   "execution_count": 19,
   "metadata": {},
   "outputs": [
    {
     "name": "stdout",
     "output_type": "stream",
     "text": [
      "'NoneType' object has no attribute 'text'\n",
      "[2021, '007 노 타임 투 다이', nan, nan, nan, nan, nan, nan, nan]\n",
      "'NoneType' object has no attribute 'text'\n",
      "[2021, '117편의 러브레터', nan, nan, nan, nan, nan, nan, nan]\n",
      "'NoneType' object has no attribute 'text'\n",
      "[2021, '120시간: 로스트 인 아웃백', nan, nan, nan, nan, nan, nan, nan]\n",
      "'NoneType' object has no attribute 'text'\n",
      "[2021, '1984 최동원', nan, nan, nan, nan, nan, nan, nan]\n",
      "[2021, '2021 스웨그 에이지 : 외쳐, 조선!', '삶의 고단함과 역경을 시조 속에 담아 훌훌 털어버렸던 백성들은 역모 사건으로 시조 활동이 금지되면서 자유도 행복도 잊은 채 살아간다.그러던 중 15년 만에 누구나 참여할 수 있는 조선시조자랑이 열리게 되고, 탈 속에 정체를 감추고 양반들의 악행을 파헤쳐 행복한 세상을 만들고자 조직된 비밀시조단 ‘골빈당’은 이것을 기회 삼아 조선에 새로운 바람을 불러일으키고자 한다.한편, 왕의 비선실세이자 시조대판서인 홍국은 자신에 대한 악덕한 소문을 퍼트리고 다닌다는 이유를 들어 골빈당을 잡으려는 음모를 꾸미는데…', '‘시조’가 국가의 이념인 상상 속의 ‘조선’', '공연실황, 뮤지컬', 1, '우진하, 곽기영', '양희준, 김수하', 'https://movie-phinf.pstatic.net/20210518_136/1621304680600y6Owj_JPEG/movie_image.jpg?type=m203_290_2']\n",
      "[2021, '2067', '지구 종말이 도래하고, 산소가 중요한 화폐가 된 서기 2067년.‘타임머신’이라고 불리는 일명 ‘크로니컬’이 발명되고,407년 뒤, 2474년 미래에서 보낸 메시지가 도착한다.인류의 마지막 희망, 미래를 구해야만 한다', '“반드시 구해낼 것이다”', 'SF', 0, '세스 라니', '코디 스밋 맥피, 라이언 콴튼', 'https://movie-phinf.pstatic.net/20210513_298/1620868327998joC5k_JPEG/movie_image.jpg?type=m203_290_2']\n",
      "'NoneType' object has no attribute 'text'\n",
      "[2021, '300: 전사의 귀환', nan, nan, nan, nan, nan, nan, nan]\n",
      "'NoneType' object has no attribute 'text'\n",
      "[2021, '365일: 비밀의 여자', nan, nan, nan, nan, nan, nan, nan]\n",
      "'NoneType' object has no attribute 'text'\n",
      "[2021, '3개의 얼굴들', nan, nan, nan, nan, nan, nan, nan]\n",
      "[2021, '438일', '2011년 6월 28일 밤 스웨덴 기자 마틴과 요한은 소말리아에서 에티오피아로 불법 입국한다. 수개월에 걸친 탐사취재 끝에 마침내 석유전쟁에 의한 오가덴 지역 주민 피해의 실체를 밝히려던 순간,에티오피아 군대에 의해 테러협의로 붙잡혀 징역 11년형을 선고받는데…스웨덴 기자 마틴 시뷔에와 요한 페르손의 악몽 같은 실화', '스웨덴의 두 탐사보도전문기자의 실화!\\r\\n자유의 억압에 저항한 438일의 기록!', '드라마', 0, '예스퍼 갠스란트', '구스타프 스카스가드, 마티아스 바레라', 'https://movie-phinf.pstatic.net/20210113_198/1610522770004Smun6_JPEG/movie_image.jpg?type=m203_290_2']\n",
      "'NoneType' object has no attribute 'text'\n",
      "[2021, '8년을 뛰어넘은 신부', nan, nan, nan, nan, nan, nan, nan]\n",
      "[2021, 'BBC프롬스: 거슈윈 영화 음악 콘서트', '대중음악 역사상 가장 위대한 작곡가로 평가받는 조지 거슈윈의 영화 음악 콘서트 실황이다. 오드리 헵번 주연의 부터 최근 리메이크되어 큰 사랑을 받은 의 첫 번째 리메이크작까지, 1930년대-1950년대 할리우드 전성기의 작품 중 가장 음악성 높은 영화의 삽입곡이 차례로 연주된다.웨스트엔드 최고의 뮤지컬 스타 3인방 루이즈 디어맨, 매튜 포드, 줄리안 오벤든(다운튼 애비 출연)이 무대에 함께 오른다. 여기에 음악평론가 배순탁 작가의 해설이 더해져 더욱 깊은 감상을 돕는다.', '할리우드 전성기 뮤지컬 영화 속 거슈윈의 명작을 스크린에서!', '공연실황', 0, '존 윌슨', '[국내] \\r\\n\\t\\t\\t\\t\\t\\t\\r\\n\\t\\t\\t\\t\\t\\t\\t전체 관람가', 'https://movie-phinf.pstatic.net/20210325_171/1616659126999wDqP6_JPEG/movie_image.jpg?type=m203_290_2']\n",
      "'NoneType' object has no attribute 'text'\n",
      "[2021, 'BBC프롬스: 그라치니테-틸라와 버밍엄 심포니', nan, nan, nan, nan, nan, nan, nan]\n",
      "'NoneType' object has no attribute 'text'\n",
      "[2021, 'BBC프롬스: 아르헤리치와 바렌보임 콘서트', nan, nan, nan, nan, nan, nan, nan]\n",
      "'NoneType' object has no attribute 'text'\n",
      "[2021, 'B급 청춘', nan, nan, nan, nan, nan, nan, nan]\n",
      "'NoneType' object has no attribute 'text'\n",
      "[2021, 'CCTV', nan, nan, nan, nan, nan, nan, nan]\n",
      "[2021, 'F20', '어디에 내놔도 자랑스러운 아들을 둔 엄마 ‘애란’은군 생활을 떠났던 아들 ‘도훈’에게조현병이 발병했다는 충격적인 소식을 듣게 된다.완벽했던 자신의 일상을 빼앗길까 두려운 ‘애란’은아들의 병을 숨긴 채 살아가기로 결심하고그러나, 순조로울 것만 같았던 그녀의 삶에유일한 비밀을 알고 있는 ‘경화’가 나타나자‘애란’의 불안은 점점 광기로 변해가는데…가장 날카롭고 충격적인 영화가 온다!', '나의 삶은 모든 것이 완벽했다', '스릴러', 1, '홍은미', '장영남, 김정영, 김강민', 'https://movie-phinf.pstatic.net/20210928_86/16327951839736fzkS_JPEG/movie_image.jpg?type=m203_290_2']\n",
      "'NoneType' object has no attribute 'text'\n",
      "[2021, 'IS 탈출', nan, nan, nan, nan, nan, nan, nan]\n",
      "[2021, 'UFO 스케치', '한 번도 본 적 없는 UFO를 반평생 연구해온 자타공인 국내 UFO 전문가 맹성렬 교수와열정 가득 UFO 목격자들의 순수한 호기심 기행내일은, 만날 수 있을까요?', 'UFO 보다 흥미로운 UFO 전문가 이야기', '다큐멘터리', 1, '김진욱', '맹성렬, 임병선, 장호동', 'https://movie-phinf.pstatic.net/20210225_292/1614228206718j9AkY_JPEG/movie_image.jpg?type=m203_290_2']\n",
      "[2021, 'UFO는 살아있다: 아폴로 11호의 비밀', '달 탐사, UFO, 외계인의 존재 등몇 년 간 NASA를 향해 제기되는 음모론은 끊이지 않았다.그러나 어느 날 기밀 정보를 공개용 문건에 포함시킨NASA의 작은 실수로 인해그들의 문서 조작 사실이 확인 되는데...미 공군 소령의 증언부터 우주비행사들의 녹취록까지,모든 증거가 이 안에 있다!', \"21세기 인류 최대의 미스터리 'UFO' \\n전 세계를 속인 NASA의 진실을 파헤친다!\", '다큐멘터리, 미스터리', 0, '다시 위어', '스탠튼 T. 프리드만', 'https://movie-phinf.pstatic.net/20210629_22/16249543862113DqRR_JPEG/movie_image.jpg?type=m203_290_2']\n",
      "'NoneType' object has no attribute 'text'\n",
      "[2021, '007 노 타임 투 다이', nan, nan, nan, nan, nan, nan, nan]\n",
      "'NoneType' object has no attribute 'text'\n",
      "[2021, '117편의 러브레터', nan, nan, nan, nan, nan, nan, nan]\n",
      "'NoneType' object has no attribute 'text'\n",
      "[2021, '120시간: 로스트 인 아웃백', nan, nan, nan, nan, nan, nan, nan]\n",
      "'NoneType' object has no attribute 'text'\n",
      "[2021, '1984 최동원', nan, nan, nan, nan, nan, nan, nan]\n",
      "[2021, '2021 스웨그 에이지 : 외쳐, 조선!', '삶의 고단함과 역경을 시조 속에 담아 훌훌 털어버렸던 백성들은 역모 사건으로 시조 활동이 금지되면서 자유도 행복도 잊은 채 살아간다.그러던 중 15년 만에 누구나 참여할 수 있는 조선시조자랑이 열리게 되고, 탈 속에 정체를 감추고 양반들의 악행을 파헤쳐 행복한 세상을 만들고자 조직된 비밀시조단 ‘골빈당’은 이것을 기회 삼아 조선에 새로운 바람을 불러일으키고자 한다.한편, 왕의 비선실세이자 시조대판서인 홍국은 자신에 대한 악덕한 소문을 퍼트리고 다닌다는 이유를 들어 골빈당을 잡으려는 음모를 꾸미는데…', '‘시조’가 국가의 이념인 상상 속의 ‘조선’', '공연실황, 뮤지컬', 1, '우진하, 곽기영', '양희준, 김수하', 'https://movie-phinf.pstatic.net/20210518_136/1621304680600y6Owj_JPEG/movie_image.jpg?type=m203_290_2']\n",
      "[2021, '2067', '지구 종말이 도래하고, 산소가 중요한 화폐가 된 서기 2067년.‘타임머신’이라고 불리는 일명 ‘크로니컬’이 발명되고,407년 뒤, 2474년 미래에서 보낸 메시지가 도착한다.인류의 마지막 희망, 미래를 구해야만 한다', '“반드시 구해낼 것이다”', 'SF', 0, '세스 라니', '코디 스밋 맥피, 라이언 콴튼', 'https://movie-phinf.pstatic.net/20210513_298/1620868327998joC5k_JPEG/movie_image.jpg?type=m203_290_2']\n",
      "'NoneType' object has no attribute 'text'\n",
      "[2021, '300: 전사의 귀환', nan, nan, nan, nan, nan, nan, nan]\n",
      "'NoneType' object has no attribute 'text'\n",
      "[2021, '365일: 비밀의 여자', nan, nan, nan, nan, nan, nan, nan]\n",
      "'NoneType' object has no attribute 'text'\n",
      "[2021, '3개의 얼굴들', nan, nan, nan, nan, nan, nan, nan]\n",
      "[2021, '438일', '2011년 6월 28일 밤 스웨덴 기자 마틴과 요한은 소말리아에서 에티오피아로 불법 입국한다. 수개월에 걸친 탐사취재 끝에 마침내 석유전쟁에 의한 오가덴 지역 주민 피해의 실체를 밝히려던 순간,에티오피아 군대에 의해 테러협의로 붙잡혀 징역 11년형을 선고받는데…스웨덴 기자 마틴 시뷔에와 요한 페르손의 악몽 같은 실화', '스웨덴의 두 탐사보도전문기자의 실화!\\r\\n자유의 억압에 저항한 438일의 기록!', '드라마', 0, '예스퍼 갠스란트', '구스타프 스카스가드, 마티아스 바레라', 'https://movie-phinf.pstatic.net/20210113_198/1610522770004Smun6_JPEG/movie_image.jpg?type=m203_290_2']\n",
      "'NoneType' object has no attribute 'text'\n",
      "[2021, '8년을 뛰어넘은 신부', nan, nan, nan, nan, nan, nan, nan]\n",
      "[2021, 'BBC프롬스: 거슈윈 영화 음악 콘서트', '대중음악 역사상 가장 위대한 작곡가로 평가받는 조지 거슈윈의 영화 음악 콘서트 실황이다. 오드리 헵번 주연의 부터 최근 리메이크되어 큰 사랑을 받은 의 첫 번째 리메이크작까지, 1930년대-1950년대 할리우드 전성기의 작품 중 가장 음악성 높은 영화의 삽입곡이 차례로 연주된다.웨스트엔드 최고의 뮤지컬 스타 3인방 루이즈 디어맨, 매튜 포드, 줄리안 오벤든(다운튼 애비 출연)이 무대에 함께 오른다. 여기에 음악평론가 배순탁 작가의 해설이 더해져 더욱 깊은 감상을 돕는다.', '할리우드 전성기 뮤지컬 영화 속 거슈윈의 명작을 스크린에서!', '공연실황', 0, '존 윌슨', '[국내] \\r\\n\\t\\t\\t\\t\\t\\t\\r\\n\\t\\t\\t\\t\\t\\t\\t전체 관람가', 'https://movie-phinf.pstatic.net/20210325_171/1616659126999wDqP6_JPEG/movie_image.jpg?type=m203_290_2']\n",
      "'NoneType' object has no attribute 'text'\n",
      "[2021, 'BBC프롬스: 그라치니테-틸라와 버밍엄 심포니', nan, nan, nan, nan, nan, nan, nan]\n",
      "'NoneType' object has no attribute 'text'\n",
      "[2021, 'BBC프롬스: 아르헤리치와 바렌보임 콘서트', nan, nan, nan, nan, nan, nan, nan]\n",
      "'NoneType' object has no attribute 'text'\n",
      "[2021, 'B급 청춘', nan, nan, nan, nan, nan, nan, nan]\n",
      "'NoneType' object has no attribute 'text'\n",
      "[2021, 'CCTV', nan, nan, nan, nan, nan, nan, nan]\n",
      "[2021, 'F20', '어디에 내놔도 자랑스러운 아들을 둔 엄마 ‘애란’은군 생활을 떠났던 아들 ‘도훈’에게조현병이 발병했다는 충격적인 소식을 듣게 된다.완벽했던 자신의 일상을 빼앗길까 두려운 ‘애란’은아들의 병을 숨긴 채 살아가기로 결심하고그러나, 순조로울 것만 같았던 그녀의 삶에유일한 비밀을 알고 있는 ‘경화’가 나타나자‘애란’의 불안은 점점 광기로 변해가는데…가장 날카롭고 충격적인 영화가 온다!', '나의 삶은 모든 것이 완벽했다', '스릴러', 1, '홍은미', '장영남, 김정영, 김강민', 'https://movie-phinf.pstatic.net/20210928_86/16327951839736fzkS_JPEG/movie_image.jpg?type=m203_290_2']\n",
      "'NoneType' object has no attribute 'text'\n",
      "[2021, 'IS 탈출', nan, nan, nan, nan, nan, nan, nan]\n",
      "[2021, 'UFO 스케치', '한 번도 본 적 없는 UFO를 반평생 연구해온 자타공인 국내 UFO 전문가 맹성렬 교수와열정 가득 UFO 목격자들의 순수한 호기심 기행내일은, 만날 수 있을까요?', 'UFO 보다 흥미로운 UFO 전문가 이야기', '다큐멘터리', 1, '김진욱', '맹성렬, 임병선, 장호동', 'https://movie-phinf.pstatic.net/20210225_292/1614228206718j9AkY_JPEG/movie_image.jpg?type=m203_290_2']\n",
      "[2021, 'UFO는 살아있다: 아폴로 11호의 비밀', '달 탐사, UFO, 외계인의 존재 등몇 년 간 NASA를 향해 제기되는 음모론은 끊이지 않았다.그러나 어느 날 기밀 정보를 공개용 문건에 포함시킨NASA의 작은 실수로 인해그들의 문서 조작 사실이 확인 되는데...미 공군 소령의 증언부터 우주비행사들의 녹취록까지,모든 증거가 이 안에 있다!', \"21세기 인류 최대의 미스터리 'UFO' \\n전 세계를 속인 NASA의 진실을 파헤친다!\", '다큐멘터리, 미스터리', 0, '다시 위어', '스탠튼 T. 프리드만', 'https://movie-phinf.pstatic.net/20210629_22/16249543862113DqRR_JPEG/movie_image.jpg?type=m203_290_2']\n",
      "[2021, '#아이엠히어', '“나도 지금 전성기야!”관심이 필요한 오춘기 ‘스테판’은 SNS를 통해 알게 된 ‘SOO’를 통해 활기를 얻는다.어느 날, 그녀와 벚꽃을 보기 위해 무작정 한국행 비행기를 타게 된다.“저녁 8시, 공항에서 만나요”들뜬 마음으로 인천공항에 도착한 ‘스테판’은 연락 없는 ‘SOO’를 기다리기 위해SNS에 게시물과 함께 그녀를 해시태그하며 기약 없는 공항 라이프를 시작하는데…', '無대포! 無대책! 無눈치!\\r\\n프렌치 러버의 좌충우돌 힐링 여행!', '멜로/로맨스, 코미디', 0, '에릭 라티고', '알랭 샤바, 배두나', 'https://movie-phinf.pstatic.net/20201229_134/16092193938388fcec_JPEG/movie_image.jpg?type=m203_290_2']\n",
      "'NoneType' object has no attribute 'text'\n",
      "[2021, '#위왓치유', nan, nan, nan, nan, nan, nan, nan]\n",
      "[2021, '가베: 그녀의 숲', '전쟁으로 인해 고아가 된 ‘모니르’는사촌 형을 따라 스웨덴으로 망명한다.난민 수용 시설 부족으로 머물게 된 어느 시골 마을,마을 축제에서 우연히 마주친 소녀에게‘모니르’는 강한 끌림을 느낀다.난민을 멸시하는 마을 주민들을 피해 찾아간 숲,‘모니르’는 그때 그 소녀 ‘모아’를 다시 만난다.전쟁의 트라우마로 괴로웠던 소년은마침내 소녀의 품 속에서 평화로움을 느끼지만 그것도 잠시, 세상은 여전히 그를 내버려 두지 않는다.', '소녀의 숲 속에서 비로소 찾은 평화', '멜로/로맨스', 0, '마르쿠스 카스트로', '나탈리 윌리엄스도터, 아델 다르위시', 'https://movie-phinf.pstatic.net/20210104_265/1609739960114i96NU_JPEG/movie_image.jpg?type=m203_290_2']\n",
      "'NoneType' object has no attribute 'text'\n",
      "[2021, '가족은 괴로워3: 아내여 장미처럼', nan, nan, nan, nan, nan, nan, nan]\n",
      "'NoneType' object has no attribute 'text'\n",
      "[2021, '가족의 색깔', nan, nan, nan, nan, nan, nan, nan]\n",
      "[2021, '가치 캅시다', '대한민국에서 영어 좀 한다는 남자라면 혹하는, 일생에 단 한 번만 지원할 수 있는 군대 카투사. 엘리트 명문대와 금수저들이 장악한 이 곳에 최종 학력 고졸의 말년 병장 추해진이 있다. 어떤 의미로든 전설로 불리는 해진은 학연, 지연, 혈연까지 온갖 차별이 판치는 한국 탈출을 위한 돌파구로 ‘미군’을 준비한다. 갖은 모욕에도 비굴한 웃음을 잃지 않고 최선을 다한 결과, 미군 입대를 눈앞에 두고 느닷없는 절도사건에 휘말리면서 탄원서에5명의 서명을 받아야만 한다. 절친한 동갑내기 후임, 재벌아들 이등병, 전 여친을 빼앗은 후임, 미군이 되기 위해서라면 선임이고 후임이고 누구에게라도 머리를 조아리고 한 명씩 찾아 나선다. 인종주의자 미군헌병에게 총을 맞을 뻔하면서까지 고군분투하던 해진은 필사적으로 서명을 받아내지만, 자신이 미군이 된다는 것을 지독히 반대하는 누군가를 설득해야 하는 마지막 절차가 남았는데...! “아무 것도 가진 것 없는 네가 잘 되는 게 그냥 싫어!”한국을 벗어나기 위한 선택지가 미군이 되는 것, 그 하나만이 아니었다?!눈 돌아간 해진의 충격적인 반격을 확인하라!', '“돈 없고 빽 없어서 미군만이 답입니다, 헬프미!”\\r\\n흙수저 고졸 카투사의 ‘피내는’ 노력', '드라마', 1, '조승원', '김기현, 강형석, 남지우', 'https://movie-phinf.pstatic.net/20211012_41/1634028856253Gj3tU_JPEG/movie_image.jpg?type=m203_290_2']\n",
      "'NoneType' object has no attribute 'text'\n",
      "[2021, '간이역', nan, nan, nan, nan, nan, nan, nan]\n",
      "'NoneType' object has no attribute 'text'\n",
      "[2021, '갈매기', nan, nan, nan, nan, nan, nan, nan]\n",
      "'NoneType' object has no attribute 'text'\n",
      "[2021, '강릉', nan, nan, nan, nan, nan, nan, nan]\n",
      "'NoneType' object has no attribute 'text'\n",
      "[2021, '강호불패', nan, nan, nan, nan, nan, nan, nan]\n",
      "'NoneType' object has no attribute 'text'\n",
      "[2021, '강호아녀', nan, nan, nan, nan, nan, nan, nan]\n",
      "'NoneType' object has no attribute 'text'\n",
      "[2021, '개그 더 크라운', nan, nan, nan, nan, nan, nan, nan]\n",
      "'NoneType' object has no attribute 'text'\n",
      "[2021, '개와 결혼하는 남자', nan, nan, nan, nan, nan, nan, nan]\n",
      "'NoneType' object has no attribute 'text'\n",
      "[2021, '갱스터 오브 뉴욕', nan, nan, nan, nan, nan, nan, nan]\n",
      "'NoneType' object has no attribute 'text'\n",
      "[2021, '갱스터 오브 시티', nan, nan, nan, nan, nan, nan, nan]\n",
      "'NoneType' object has no attribute 'text'\n",
      "[2021, '건담 G의 레콘기스타 2: 벨리 격진', nan, nan, nan, nan, nan, nan, nan]\n",
      "'NoneType' object has no attribute 'text'\n",
      "[2021, '건파우더 밀크셰이크', nan, nan, nan, nan, nan, nan, nan]\n",
      "[2021, '걸', \"소년과 소녀의 경계에서'발레리나'를 꿈꾸는 16살 '라라'호르몬 치료와 학업을 병행하며진정한 자신을 찾기 위한용기를 내기 시작한다.\", '“본보기가 되는 건 싫어요. \\r\\n여자가 되고 싶을 뿐이에요” ', '드라마', 0, '루카스 돈트', '빅터 폴스터, 아리 보르탈테르', 'https://movie-phinf.pstatic.net/20201228_196/1609130132957Cuqgc_JPEG/movie_image.jpg?type=m203_290_2']\n",
      "'NoneType' object has no attribute 'text'\n",
      "[2021, '게임의 법칙: 인간사냥', nan, nan, nan, nan, nan, nan, nan]\n",
      "'NoneType' object has no attribute 'text'\n",
      "[2021, '결혼 후에 남겨진 것들', nan, nan, nan, nan, nan, nan, nan]\n",
      "[2021, '경고', '친구의 부탁으로 조카를 봐주기로 한 아이작. 어마어마한 보수에 수락했지만 기묘한 조건이 붙는다#1. 이동을 제한하는 사슬 조끼를 입을 것#2. 조카의 방에 들어가지 말 것#3. 허락 없이 집을 떠나지 말 것외딴섬에 위치한 미로 같은 집과 석궁을 들고 다니는 조카, 섬뜩한 토끼 인형까지… 이곳에서 미치지 않고 버틸 수 있을까?', '혹하는 거래엔 대가가 따른다', '공포, 스릴러', 0, '다미안 맥카시', '벤 캐플란, 조나단 프렌치, 레일라 사익스', 'https://movie-phinf.pstatic.net/20210929_51/1632903879538uYp4J_JPEG/movie_image.jpg?type=m203_290_2']\n",
      "'NoneType' object has no attribute 'text'\n",
      "[2021, '고공 침투: 노 리턴', nan, nan, nan, nan, nan, nan, nan]\n",
      "[2021, '고백', '국민 일인당 천원씩 일주일 안에 1억 원이 되지 않으면 유괴한 아이를 죽이겠다는 전대미문의 유괴사건이 일어난다.천원 유괴사건이 전국민적인 관심사로 떠오르는 사이,사회복지사인 ‘오순’이 돌봐주던 ‘보라’라는 아이의 아버지가 숨진 채 발견되고, 보라 역시 어디론가 사라졌다.사건을 조사하던 신입 경찰 ‘지원’은 보라 아버지는 물론 학대부모들의 불의를 참지 못했던 오순을 의심하는데…학대하는 부모, 구해주는 유괴범. 우리는 누구 편에 서야 하나요?', '세상에 태어난 모든 아이들은 어른이 되어야 한다\\n“네 편이 돼줄게”', '드라마, 범죄', 1, '서은영', '박하선, 하윤경, 감소현', 'https://movie-phinf.pstatic.net/20210323_142/1616486373585xOa7v_JPEG/movie_image.jpg?type=m203_290_2']\n",
      "'NoneType' object has no attribute 'text'\n",
      "[2021, '고스트 라이트', nan, nan, nan, nan, nan, nan, nan]\n",
      "'NoneType' object has no attribute 'text'\n",
      "[2021, '고스트 킬러 vs 블러디 메리', nan, nan, nan, nan, nan, nan, nan]\n",
      "'NoneType' object has no attribute 'text'\n",
      "[2021, '고스트버스터즈 라이즈', nan, nan, nan, nan, nan, nan, nan]\n",
      "'NoneType' object has no attribute 'text'\n",
      "[2021, '고양이에게 밥을 주지 마세요', nan, nan, nan, nan, nan, nan, nan]\n",
      "[2021, '고장난 론', \"비봇을 갖는 것이 유일한 소원인 소심한 소년 ‘바니’에게도드디어 ‘론’이라는 비봇이 생겼다.그러나 첨단 디지털 기능과 소셜 미디어로 연결된 다른 비봇들과는 달리,네트워크 접속이 불가능한 고장난 '론'자유분방하고 엉뚱한 '론'으로 인해 벌어지는엉망진창, 스릴 넘치는 모험을 함께하며'바니'는 진실한 우정이 무엇인지 점점 깨닫게 되는데.. &  제작진이 선사하는새로운 우정과 특별한 모험이 시작된다!\", '최첨단 소셜 AI 로봇 ‘비봇’이 모든 아이들의 친구가 되는 세상.', '애니메이션', 0, '사라 스미스, 진-필리프 바인, 옥타비오 E. 로드리게즈', '자흐 갈리피아나키스, 잭 딜런 그레이저, 올리비아 콜맨', 'https://movie-phinf.pstatic.net/20211013_94/1634115796140K407h_JPEG/movie_image.jpg?type=m203_290_2']\n",
      "[2021, '고질라 VS. 콩', '거대 몬스터들의 습격을 받은 지 3년 후, 콩은 스컬 아일랜드를 떠나 인간들의 보호관찰을 받고 있다. 한편, 인간들에게 등을 돌린 고질라는 비밀연구회사인 에이펙스에 존재하는 알 수 없는 힘에 이끌려 그곳을 쑥대밭으로 만든다. 위기 상황 속, 지구 안의 또 다른 지구인 할로우 어스의 에너지원을 찾아야만 인류가 안전할 수 있다는 판단하고 콩의 보호자들은 콩과 특별한 유대감을 형성하는 아이 지아와 함께 타이탄들의 고향일지 모르는 그 곳으로 위험한 여정을 떠난다. 그러던 중 분노에 찬 고질라의 공격을 받고, 마침내 맞붙게 된 두 전설의 장대한 대결은 앞으로 닥쳐올 대재앙의 서막에 불과했는데…세상의 운명을 놓고, 지구상 가장 거대한 신화적 존재들의 스펙터클한 대격돌이 시작된다!', '두 전설의 충돌, 사상 최강 빅매치!\\r\\n승자는 정해진다!', '액션', 0, '애덤 윈가드', '알렉산더 스카스가드, 밀리 바비 브라운', 'https://movie-phinf.pstatic.net/20210310_199/1615367075185E9pMt_JPEG/movie_image.jpg?type=m203_290_2']\n",
      "[2021, '골든맨', '지긋지긋한 생활에서 벗어나 한탕만을 노리는 우체국 운전사 ‘메로니’가난의 늪에 허덕이며 아득바득 성질을 죽이며 사는 집배원 ‘자고’퇴물로 전락한 밑바닥 인생의 전직 복싱 선수 ‘니콜라’(a.k.a ‘울프’)마지막 한탕을 노린 완전범죄를 계획한 그들은서로 다른 속내를 숨긴 채 한배에 올라타게 되는데…', '하나의 사건, 세 명의 인물\\r\\n1996년 토리노 우체국 강도 사건의 충격적인 전말이 밝혀진다!', '범죄, 드라마', 0, '빈센조 알피리', '지암파올로 모렐리, 파비오 드 루이지, 에도아도 레오)', 'https://movie-phinf.pstatic.net/20210112_84/1610414549103EvNE5_JPEG/movie_image.jpg?type=m203_290_2']\n",
      "'NoneType' object has no attribute 'text'\n",
      "[2021, '공작조: 현애지상', nan, nan, nan, nan, nan, nan, nan]\n"
     ]
    },
    {
     "ename": "KeyboardInterrupt",
     "evalue": "",
     "output_type": "error",
     "traceback": [
      "\u001b[1;31m---------------------------------------------------------------------------\u001b[0m",
      "\u001b[1;31mKeyboardInterrupt\u001b[0m                         Traceback (most recent call last)",
      "\u001b[1;32m~\\AppData\\Local\\Temp/ipykernel_26956/1849738600.py\u001b[0m in \u001b[0;36m<module>\u001b[1;34m\u001b[0m\n\u001b[0;32m      2\u001b[0m \u001b[1;32mfor\u001b[0m \u001b[0mi\u001b[0m\u001b[1;33m,\u001b[0m \u001b[0mcode_dict\u001b[0m \u001b[1;32min\u001b[0m \u001b[0menumerate\u001b[0m\u001b[1;33m(\u001b[0m\u001b[0mmovie_codes\u001b[0m\u001b[1;33m)\u001b[0m\u001b[1;33m:\u001b[0m\u001b[1;33m\u001b[0m\u001b[1;33m\u001b[0m\u001b[0m\n\u001b[0;32m      3\u001b[0m     \u001b[1;31m#print(code_dict[\"code\"], code_dict[\"year\"])\u001b[0m\u001b[1;33m\u001b[0m\u001b[1;33m\u001b[0m\u001b[1;33m\u001b[0m\u001b[0m\n\u001b[1;32m----> 4\u001b[1;33m     \u001b[0mmovie_list\u001b[0m\u001b[1;33m.\u001b[0m\u001b[0mappend\u001b[0m\u001b[1;33m(\u001b[0m\u001b[0mgetSynopsis\u001b[0m\u001b[1;33m(\u001b[0m\u001b[0mcode\u001b[0m\u001b[1;33m=\u001b[0m\u001b[0mcode_dict\u001b[0m\u001b[1;33m[\u001b[0m\u001b[1;34m\"code\"\u001b[0m\u001b[1;33m]\u001b[0m\u001b[1;33m,\u001b[0m \u001b[0myear\u001b[0m\u001b[1;33m=\u001b[0m\u001b[0mcode_dict\u001b[0m\u001b[1;33m[\u001b[0m\u001b[1;34m\"year\"\u001b[0m\u001b[1;33m]\u001b[0m\u001b[1;33m)\u001b[0m\u001b[1;33m)\u001b[0m\u001b[1;33m\u001b[0m\u001b[1;33m\u001b[0m\u001b[0m\n\u001b[0m",
      "\u001b[1;32m~\\AppData\\Local\\Temp/ipykernel_26956/2003762206.py\u001b[0m in \u001b[0;36mgetSynopsis\u001b[1;34m(code, year)\u001b[0m\n\u001b[0;32m      2\u001b[0m     \u001b[1;34m\"\"\"영화 페이지에서 줄거리 가져오기\"\"\"\u001b[0m\u001b[1;33m\u001b[0m\u001b[1;33m\u001b[0m\u001b[0m\n\u001b[0;32m      3\u001b[0m     \u001b[0murl\u001b[0m \u001b[1;33m=\u001b[0m \u001b[1;34m'https://movie.naver.com/movie/bi/mi/basic.naver?code='\u001b[0m \u001b[1;33m+\u001b[0m \u001b[0mcode\u001b[0m\u001b[1;33m\u001b[0m\u001b[1;33m\u001b[0m\u001b[0m\n\u001b[1;32m----> 4\u001b[1;33m     \u001b[0mresponse\u001b[0m \u001b[1;33m=\u001b[0m \u001b[0mrequests\u001b[0m\u001b[1;33m.\u001b[0m\u001b[0mget\u001b[0m\u001b[1;33m(\u001b[0m\u001b[0murl\u001b[0m\u001b[1;33m)\u001b[0m\u001b[1;33m\u001b[0m\u001b[1;33m\u001b[0m\u001b[0m\n\u001b[0m\u001b[0;32m      5\u001b[0m     \u001b[1;32mif\u001b[0m \u001b[0mresponse\u001b[0m\u001b[1;33m.\u001b[0m\u001b[0mstatus_code\u001b[0m \u001b[1;33m==\u001b[0m \u001b[1;36m200\u001b[0m\u001b[1;33m:\u001b[0m\u001b[1;33m\u001b[0m\u001b[1;33m\u001b[0m\u001b[0m\n\u001b[0;32m      6\u001b[0m         \u001b[0mhtml\u001b[0m \u001b[1;33m=\u001b[0m \u001b[0mresponse\u001b[0m\u001b[1;33m.\u001b[0m\u001b[0mtext\u001b[0m\u001b[1;33m\u001b[0m\u001b[1;33m\u001b[0m\u001b[0m\n",
      "\u001b[1;32mc:\\ai\\pythonproject\\venv\\lib\\site-packages\\requests\\api.py\u001b[0m in \u001b[0;36mget\u001b[1;34m(url, params, **kwargs)\u001b[0m\n\u001b[0;32m     73\u001b[0m     \"\"\"\n\u001b[0;32m     74\u001b[0m \u001b[1;33m\u001b[0m\u001b[0m\n\u001b[1;32m---> 75\u001b[1;33m     \u001b[1;32mreturn\u001b[0m \u001b[0mrequest\u001b[0m\u001b[1;33m(\u001b[0m\u001b[1;34m'get'\u001b[0m\u001b[1;33m,\u001b[0m \u001b[0murl\u001b[0m\u001b[1;33m,\u001b[0m \u001b[0mparams\u001b[0m\u001b[1;33m=\u001b[0m\u001b[0mparams\u001b[0m\u001b[1;33m,\u001b[0m \u001b[1;33m**\u001b[0m\u001b[0mkwargs\u001b[0m\u001b[1;33m)\u001b[0m\u001b[1;33m\u001b[0m\u001b[1;33m\u001b[0m\u001b[0m\n\u001b[0m\u001b[0;32m     76\u001b[0m \u001b[1;33m\u001b[0m\u001b[0m\n\u001b[0;32m     77\u001b[0m \u001b[1;33m\u001b[0m\u001b[0m\n",
      "\u001b[1;32mc:\\ai\\pythonproject\\venv\\lib\\site-packages\\requests\\api.py\u001b[0m in \u001b[0;36mrequest\u001b[1;34m(method, url, **kwargs)\u001b[0m\n\u001b[0;32m     59\u001b[0m     \u001b[1;31m# cases, and look like a memory leak in others.\u001b[0m\u001b[1;33m\u001b[0m\u001b[1;33m\u001b[0m\u001b[1;33m\u001b[0m\u001b[0m\n\u001b[0;32m     60\u001b[0m     \u001b[1;32mwith\u001b[0m \u001b[0msessions\u001b[0m\u001b[1;33m.\u001b[0m\u001b[0mSession\u001b[0m\u001b[1;33m(\u001b[0m\u001b[1;33m)\u001b[0m \u001b[1;32mas\u001b[0m \u001b[0msession\u001b[0m\u001b[1;33m:\u001b[0m\u001b[1;33m\u001b[0m\u001b[1;33m\u001b[0m\u001b[0m\n\u001b[1;32m---> 61\u001b[1;33m         \u001b[1;32mreturn\u001b[0m \u001b[0msession\u001b[0m\u001b[1;33m.\u001b[0m\u001b[0mrequest\u001b[0m\u001b[1;33m(\u001b[0m\u001b[0mmethod\u001b[0m\u001b[1;33m=\u001b[0m\u001b[0mmethod\u001b[0m\u001b[1;33m,\u001b[0m \u001b[0murl\u001b[0m\u001b[1;33m=\u001b[0m\u001b[0murl\u001b[0m\u001b[1;33m,\u001b[0m \u001b[1;33m**\u001b[0m\u001b[0mkwargs\u001b[0m\u001b[1;33m)\u001b[0m\u001b[1;33m\u001b[0m\u001b[1;33m\u001b[0m\u001b[0m\n\u001b[0m\u001b[0;32m     62\u001b[0m \u001b[1;33m\u001b[0m\u001b[0m\n\u001b[0;32m     63\u001b[0m \u001b[1;33m\u001b[0m\u001b[0m\n",
      "\u001b[1;32mc:\\ai\\pythonproject\\venv\\lib\\site-packages\\requests\\sessions.py\u001b[0m in \u001b[0;36mrequest\u001b[1;34m(self, method, url, params, data, headers, cookies, files, auth, timeout, allow_redirects, proxies, hooks, stream, verify, cert, json)\u001b[0m\n\u001b[0;32m    540\u001b[0m         }\n\u001b[0;32m    541\u001b[0m         \u001b[0msend_kwargs\u001b[0m\u001b[1;33m.\u001b[0m\u001b[0mupdate\u001b[0m\u001b[1;33m(\u001b[0m\u001b[0msettings\u001b[0m\u001b[1;33m)\u001b[0m\u001b[1;33m\u001b[0m\u001b[1;33m\u001b[0m\u001b[0m\n\u001b[1;32m--> 542\u001b[1;33m         \u001b[0mresp\u001b[0m \u001b[1;33m=\u001b[0m \u001b[0mself\u001b[0m\u001b[1;33m.\u001b[0m\u001b[0msend\u001b[0m\u001b[1;33m(\u001b[0m\u001b[0mprep\u001b[0m\u001b[1;33m,\u001b[0m \u001b[1;33m**\u001b[0m\u001b[0msend_kwargs\u001b[0m\u001b[1;33m)\u001b[0m\u001b[1;33m\u001b[0m\u001b[1;33m\u001b[0m\u001b[0m\n\u001b[0m\u001b[0;32m    543\u001b[0m \u001b[1;33m\u001b[0m\u001b[0m\n\u001b[0;32m    544\u001b[0m         \u001b[1;32mreturn\u001b[0m \u001b[0mresp\u001b[0m\u001b[1;33m\u001b[0m\u001b[1;33m\u001b[0m\u001b[0m\n",
      "\u001b[1;32mc:\\ai\\pythonproject\\venv\\lib\\site-packages\\requests\\sessions.py\u001b[0m in \u001b[0;36msend\u001b[1;34m(self, request, **kwargs)\u001b[0m\n\u001b[0;32m    653\u001b[0m \u001b[1;33m\u001b[0m\u001b[0m\n\u001b[0;32m    654\u001b[0m         \u001b[1;31m# Send the request\u001b[0m\u001b[1;33m\u001b[0m\u001b[1;33m\u001b[0m\u001b[1;33m\u001b[0m\u001b[0m\n\u001b[1;32m--> 655\u001b[1;33m         \u001b[0mr\u001b[0m \u001b[1;33m=\u001b[0m \u001b[0madapter\u001b[0m\u001b[1;33m.\u001b[0m\u001b[0msend\u001b[0m\u001b[1;33m(\u001b[0m\u001b[0mrequest\u001b[0m\u001b[1;33m,\u001b[0m \u001b[1;33m**\u001b[0m\u001b[0mkwargs\u001b[0m\u001b[1;33m)\u001b[0m\u001b[1;33m\u001b[0m\u001b[1;33m\u001b[0m\u001b[0m\n\u001b[0m\u001b[0;32m    656\u001b[0m \u001b[1;33m\u001b[0m\u001b[0m\n\u001b[0;32m    657\u001b[0m         \u001b[1;31m# Total elapsed time of the request (approximately)\u001b[0m\u001b[1;33m\u001b[0m\u001b[1;33m\u001b[0m\u001b[1;33m\u001b[0m\u001b[0m\n",
      "\u001b[1;32mc:\\ai\\pythonproject\\venv\\lib\\site-packages\\requests\\adapters.py\u001b[0m in \u001b[0;36msend\u001b[1;34m(self, request, stream, timeout, verify, cert, proxies)\u001b[0m\n\u001b[0;32m    437\u001b[0m         \u001b[1;32mtry\u001b[0m\u001b[1;33m:\u001b[0m\u001b[1;33m\u001b[0m\u001b[1;33m\u001b[0m\u001b[0m\n\u001b[0;32m    438\u001b[0m             \u001b[1;32mif\u001b[0m \u001b[1;32mnot\u001b[0m \u001b[0mchunked\u001b[0m\u001b[1;33m:\u001b[0m\u001b[1;33m\u001b[0m\u001b[1;33m\u001b[0m\u001b[0m\n\u001b[1;32m--> 439\u001b[1;33m                 resp = conn.urlopen(\n\u001b[0m\u001b[0;32m    440\u001b[0m                     \u001b[0mmethod\u001b[0m\u001b[1;33m=\u001b[0m\u001b[0mrequest\u001b[0m\u001b[1;33m.\u001b[0m\u001b[0mmethod\u001b[0m\u001b[1;33m,\u001b[0m\u001b[1;33m\u001b[0m\u001b[1;33m\u001b[0m\u001b[0m\n\u001b[0;32m    441\u001b[0m                     \u001b[0murl\u001b[0m\u001b[1;33m=\u001b[0m\u001b[0murl\u001b[0m\u001b[1;33m,\u001b[0m\u001b[1;33m\u001b[0m\u001b[1;33m\u001b[0m\u001b[0m\n",
      "\u001b[1;32mc:\\ai\\pythonproject\\venv\\lib\\site-packages\\urllib3\\connectionpool.py\u001b[0m in \u001b[0;36murlopen\u001b[1;34m(self, method, url, body, headers, retries, redirect, assert_same_host, timeout, pool_timeout, release_conn, chunked, body_pos, **response_kw)\u001b[0m\n\u001b[0;32m    697\u001b[0m \u001b[1;33m\u001b[0m\u001b[0m\n\u001b[0;32m    698\u001b[0m             \u001b[1;31m# Make the request on the httplib connection object.\u001b[0m\u001b[1;33m\u001b[0m\u001b[1;33m\u001b[0m\u001b[1;33m\u001b[0m\u001b[0m\n\u001b[1;32m--> 699\u001b[1;33m             httplib_response = self._make_request(\n\u001b[0m\u001b[0;32m    700\u001b[0m                 \u001b[0mconn\u001b[0m\u001b[1;33m,\u001b[0m\u001b[1;33m\u001b[0m\u001b[1;33m\u001b[0m\u001b[0m\n\u001b[0;32m    701\u001b[0m                 \u001b[0mmethod\u001b[0m\u001b[1;33m,\u001b[0m\u001b[1;33m\u001b[0m\u001b[1;33m\u001b[0m\u001b[0m\n",
      "\u001b[1;32mc:\\ai\\pythonproject\\venv\\lib\\site-packages\\urllib3\\connectionpool.py\u001b[0m in \u001b[0;36m_make_request\u001b[1;34m(self, conn, method, url, timeout, chunked, **httplib_request_kw)\u001b[0m\n\u001b[0;32m    380\u001b[0m         \u001b[1;31m# Trigger any extra validation we need to do.\u001b[0m\u001b[1;33m\u001b[0m\u001b[1;33m\u001b[0m\u001b[1;33m\u001b[0m\u001b[0m\n\u001b[0;32m    381\u001b[0m         \u001b[1;32mtry\u001b[0m\u001b[1;33m:\u001b[0m\u001b[1;33m\u001b[0m\u001b[1;33m\u001b[0m\u001b[0m\n\u001b[1;32m--> 382\u001b[1;33m             \u001b[0mself\u001b[0m\u001b[1;33m.\u001b[0m\u001b[0m_validate_conn\u001b[0m\u001b[1;33m(\u001b[0m\u001b[0mconn\u001b[0m\u001b[1;33m)\u001b[0m\u001b[1;33m\u001b[0m\u001b[1;33m\u001b[0m\u001b[0m\n\u001b[0m\u001b[0;32m    383\u001b[0m         \u001b[1;32mexcept\u001b[0m \u001b[1;33m(\u001b[0m\u001b[0mSocketTimeout\u001b[0m\u001b[1;33m,\u001b[0m \u001b[0mBaseSSLError\u001b[0m\u001b[1;33m)\u001b[0m \u001b[1;32mas\u001b[0m \u001b[0me\u001b[0m\u001b[1;33m:\u001b[0m\u001b[1;33m\u001b[0m\u001b[1;33m\u001b[0m\u001b[0m\n\u001b[0;32m    384\u001b[0m             \u001b[1;31m# Py2 raises this as a BaseSSLError, Py3 raises it as socket timeout.\u001b[0m\u001b[1;33m\u001b[0m\u001b[1;33m\u001b[0m\u001b[1;33m\u001b[0m\u001b[0m\n",
      "\u001b[1;32mc:\\ai\\pythonproject\\venv\\lib\\site-packages\\urllib3\\connectionpool.py\u001b[0m in \u001b[0;36m_validate_conn\u001b[1;34m(self, conn)\u001b[0m\n\u001b[0;32m   1008\u001b[0m         \u001b[1;31m# Force connect early to allow us to validate the connection.\u001b[0m\u001b[1;33m\u001b[0m\u001b[1;33m\u001b[0m\u001b[1;33m\u001b[0m\u001b[0m\n\u001b[0;32m   1009\u001b[0m         \u001b[1;32mif\u001b[0m \u001b[1;32mnot\u001b[0m \u001b[0mgetattr\u001b[0m\u001b[1;33m(\u001b[0m\u001b[0mconn\u001b[0m\u001b[1;33m,\u001b[0m \u001b[1;34m\"sock\"\u001b[0m\u001b[1;33m,\u001b[0m \u001b[1;32mNone\u001b[0m\u001b[1;33m)\u001b[0m\u001b[1;33m:\u001b[0m  \u001b[1;31m# AppEngine might not have  `.sock`\u001b[0m\u001b[1;33m\u001b[0m\u001b[1;33m\u001b[0m\u001b[0m\n\u001b[1;32m-> 1010\u001b[1;33m             \u001b[0mconn\u001b[0m\u001b[1;33m.\u001b[0m\u001b[0mconnect\u001b[0m\u001b[1;33m(\u001b[0m\u001b[1;33m)\u001b[0m\u001b[1;33m\u001b[0m\u001b[1;33m\u001b[0m\u001b[0m\n\u001b[0m\u001b[0;32m   1011\u001b[0m \u001b[1;33m\u001b[0m\u001b[0m\n\u001b[0;32m   1012\u001b[0m         \u001b[1;32mif\u001b[0m \u001b[1;32mnot\u001b[0m \u001b[0mconn\u001b[0m\u001b[1;33m.\u001b[0m\u001b[0mis_verified\u001b[0m\u001b[1;33m:\u001b[0m\u001b[1;33m\u001b[0m\u001b[1;33m\u001b[0m\u001b[0m\n",
      "\u001b[1;32mc:\\ai\\pythonproject\\venv\\lib\\site-packages\\urllib3\\connection.py\u001b[0m in \u001b[0;36mconnect\u001b[1;34m(self)\u001b[0m\n\u001b[0;32m    409\u001b[0m             \u001b[0mcontext\u001b[0m\u001b[1;33m.\u001b[0m\u001b[0mload_default_certs\u001b[0m\u001b[1;33m(\u001b[0m\u001b[1;33m)\u001b[0m\u001b[1;33m\u001b[0m\u001b[1;33m\u001b[0m\u001b[0m\n\u001b[0;32m    410\u001b[0m \u001b[1;33m\u001b[0m\u001b[0m\n\u001b[1;32m--> 411\u001b[1;33m         self.sock = ssl_wrap_socket(\n\u001b[0m\u001b[0;32m    412\u001b[0m             \u001b[0msock\u001b[0m\u001b[1;33m=\u001b[0m\u001b[0mconn\u001b[0m\u001b[1;33m,\u001b[0m\u001b[1;33m\u001b[0m\u001b[1;33m\u001b[0m\u001b[0m\n\u001b[0;32m    413\u001b[0m             \u001b[0mkeyfile\u001b[0m\u001b[1;33m=\u001b[0m\u001b[0mself\u001b[0m\u001b[1;33m.\u001b[0m\u001b[0mkey_file\u001b[0m\u001b[1;33m,\u001b[0m\u001b[1;33m\u001b[0m\u001b[1;33m\u001b[0m\u001b[0m\n",
      "\u001b[1;32mc:\\ai\\pythonproject\\venv\\lib\\site-packages\\urllib3\\util\\ssl_.py\u001b[0m in \u001b[0;36mssl_wrap_socket\u001b[1;34m(sock, keyfile, certfile, cert_reqs, ca_certs, server_hostname, ssl_version, ciphers, ssl_context, ca_cert_dir, key_password, ca_cert_data, tls_in_tls)\u001b[0m\n\u001b[0;32m    400\u001b[0m     \u001b[1;32mif\u001b[0m \u001b[0mca_certs\u001b[0m \u001b[1;32mor\u001b[0m \u001b[0mca_cert_dir\u001b[0m \u001b[1;32mor\u001b[0m \u001b[0mca_cert_data\u001b[0m\u001b[1;33m:\u001b[0m\u001b[1;33m\u001b[0m\u001b[1;33m\u001b[0m\u001b[0m\n\u001b[0;32m    401\u001b[0m         \u001b[1;32mtry\u001b[0m\u001b[1;33m:\u001b[0m\u001b[1;33m\u001b[0m\u001b[1;33m\u001b[0m\u001b[0m\n\u001b[1;32m--> 402\u001b[1;33m             \u001b[0mcontext\u001b[0m\u001b[1;33m.\u001b[0m\u001b[0mload_verify_locations\u001b[0m\u001b[1;33m(\u001b[0m\u001b[0mca_certs\u001b[0m\u001b[1;33m,\u001b[0m \u001b[0mca_cert_dir\u001b[0m\u001b[1;33m,\u001b[0m \u001b[0mca_cert_data\u001b[0m\u001b[1;33m)\u001b[0m\u001b[1;33m\u001b[0m\u001b[1;33m\u001b[0m\u001b[0m\n\u001b[0m\u001b[0;32m    403\u001b[0m         \u001b[1;32mexcept\u001b[0m \u001b[1;33m(\u001b[0m\u001b[0mIOError\u001b[0m\u001b[1;33m,\u001b[0m \u001b[0mOSError\u001b[0m\u001b[1;33m)\u001b[0m \u001b[1;32mas\u001b[0m \u001b[0me\u001b[0m\u001b[1;33m:\u001b[0m\u001b[1;33m\u001b[0m\u001b[1;33m\u001b[0m\u001b[0m\n\u001b[0;32m    404\u001b[0m             \u001b[1;32mraise\u001b[0m \u001b[0mSSLError\u001b[0m\u001b[1;33m(\u001b[0m\u001b[0me\u001b[0m\u001b[1;33m)\u001b[0m\u001b[1;33m\u001b[0m\u001b[1;33m\u001b[0m\u001b[0m\n",
      "\u001b[1;31mKeyboardInterrupt\u001b[0m: "
     ]
    }
   ],
   "source": [
    "movie_list = []\n",
    "for i, code_dict in enumerate(movie_codes):\n",
    "    #print(code_dict[\"code\"], code_dict[\"year\"])\n",
    "    movie_list.append(getSynopsis(code=code_dict[\"code\"], year=code_dict[\"year\"]))\n",
    "    if i%10 == 0:\n",
    "        print(i)"
   ]
  },
  {
   "cell_type": "code",
   "execution_count": null,
   "metadata": {},
   "outputs": [],
   "source": [
    "len(movie_list)"
   ]
  },
  {
   "cell_type": "code",
   "execution_count": null,
   "metadata": {},
   "outputs": [],
   "source": [
    "df = pd.DataFrame(movie_list, columns=['개봉년도','제목', '줄거리', '요약','장르','국내외','감독','배우','포스터'])\n",
    "df = df[['개봉년도','제목', '개봉년도', '요약', '줄거리', '요약','장르','국내외','감독','배우','포스터']]"
   ]
  },
  {
   "cell_type": "code",
   "execution_count": null,
   "metadata": {},
   "outputs": [],
   "source": [
    "df.head()"
   ]
  },
  {
   "cell_type": "code",
   "execution_count": null,
   "metadata": {},
   "outputs": [],
   "source": [
    "df['요약'] = df['요약'].str.replace('\\r', ' ')\n",
    "df['요약'] = df['요약'].str.replace('\\n', '')\n",
    "df['요약'] = df['요약'].str.replace('\\xa0', '')\n",
    "\n",
    "df['줄거리'] = df['줄거리'].str.replace('\\r', ' ')\n",
    "df['줄거리'] = df['줄거리'].str.replace('\\n', '')\n",
    "df['줄거리'] = df['줄거리'].str.replace('\\xa0', '')"
   ]
  },
  {
   "cell_type": "code",
   "execution_count": null,
   "metadata": {},
   "outputs": [],
   "source": [
    "df.head(100)"
   ]
  },
  {
   "cell_type": "code",
   "execution_count": null,
   "metadata": {},
   "outputs": [],
   "source": [
    "df.to_csv('./movie_synopsis.csv', index=False)"
   ]
  }
 ],
 "metadata": {
  "interpreter": {
   "hash": "17164ff5f922defefa3fdd6afe0c064ec3948eda8922a4bbab17a59b9b0232dc"
  },
  "kernelspec": {
   "display_name": "Python 3 (ipykernel)",
   "language": "python",
   "name": "python3"
  },
  "language_info": {
   "codemirror_mode": {
    "name": "ipython",
    "version": 3
   },
   "file_extension": ".py",
   "mimetype": "text/x-python",
   "name": "python",
   "nbconvert_exporter": "python",
   "pygments_lexer": "ipython3",
   "version": "3.8.8"
  }
 },
 "nbformat": 4,
 "nbformat_minor": 4
}
