{
 "cells": [
  {
   "cell_type": "code",
   "execution_count": 1,
   "id": "later-arcade",
   "metadata": {},
   "outputs": [],
   "source": [
    "import numpy as np\n",
    "import pandas as pd\n",
    "import matplotlib.pyplot as plt\n",
    "from scipy.spatial.distance import cosine"
   ]
  },
  {
   "cell_type": "code",
   "execution_count": 2,
   "id": "tight-northeast",
   "metadata": {},
   "outputs": [],
   "source": [
    "# from pykrx import stock\n",
    "# df = stock.get_index_ohlcv_by_date(\"20150101\", \"20201231\", \"1028\")\n",
    "# df = df.reset_index()\n",
    "# print(df.head(2))\n",
    "# df.to_csv(\"kospi.csv\", index=False)\n"
   ]
  },
  {
   "cell_type": "code",
   "execution_count": 3,
   "id": "excited-nicaragua",
   "metadata": {},
   "outputs": [],
   "source": [
    "df = pd.read_csv(\"./datasets/kospi.csv\")"
   ]
  },
  {
   "cell_type": "code",
   "execution_count": 4,
   "id": "satisfactory-clear",
   "metadata": {},
   "outputs": [
    {
     "data": {
      "text/html": [
       "<div>\n",
       "<style scoped>\n",
       "    .dataframe tbody tr th:only-of-type {\n",
       "        vertical-align: middle;\n",
       "    }\n",
       "\n",
       "    .dataframe tbody tr th {\n",
       "        vertical-align: top;\n",
       "    }\n",
       "\n",
       "    .dataframe thead th {\n",
       "        text-align: right;\n",
       "    }\n",
       "</style>\n",
       "<table border=\"1\" class=\"dataframe\">\n",
       "  <thead>\n",
       "    <tr style=\"text-align: right;\">\n",
       "      <th></th>\n",
       "      <th>날짜</th>\n",
       "      <th>시가</th>\n",
       "      <th>고가</th>\n",
       "      <th>저가</th>\n",
       "      <th>종가</th>\n",
       "      <th>거래량</th>\n",
       "      <th>거래대금</th>\n",
       "    </tr>\n",
       "  </thead>\n",
       "  <tbody>\n",
       "    <tr>\n",
       "      <th>0</th>\n",
       "      <td>2015-01-02</td>\n",
       "      <td>243.96</td>\n",
       "      <td>245.32</td>\n",
       "      <td>243.25</td>\n",
       "      <td>244.79</td>\n",
       "      <td>54153879</td>\n",
       "      <td>2146860296567</td>\n",
       "    </tr>\n",
       "    <tr>\n",
       "      <th>1</th>\n",
       "      <td>2015-01-05</td>\n",
       "      <td>243.83</td>\n",
       "      <td>244.56</td>\n",
       "      <td>241.76</td>\n",
       "      <td>244.26</td>\n",
       "      <td>62845108</td>\n",
       "      <td>2622821317695</td>\n",
       "    </tr>\n",
       "    <tr>\n",
       "      <th>2</th>\n",
       "      <td>2015-01-06</td>\n",
       "      <td>241.36</td>\n",
       "      <td>242.06</td>\n",
       "      <td>239.32</td>\n",
       "      <td>239.93</td>\n",
       "      <td>66249937</td>\n",
       "      <td>2992594273218</td>\n",
       "    </tr>\n",
       "    <tr>\n",
       "      <th>3</th>\n",
       "      <td>2015-01-07</td>\n",
       "      <td>239.41</td>\n",
       "      <td>240.91</td>\n",
       "      <td>239.09</td>\n",
       "      <td>240.53</td>\n",
       "      <td>54599968</td>\n",
       "      <td>2610334705312</td>\n",
       "    </tr>\n",
       "    <tr>\n",
       "      <th>4</th>\n",
       "      <td>2015-01-08</td>\n",
       "      <td>242.28</td>\n",
       "      <td>244.13</td>\n",
       "      <td>241.68</td>\n",
       "      <td>243.94</td>\n",
       "      <td>64021136</td>\n",
       "      <td>3155894203006</td>\n",
       "    </tr>\n",
       "  </tbody>\n",
       "</table>\n",
       "</div>"
      ],
      "text/plain": [
       "           날짜      시가      고가      저가      종가       거래량           거래대금\n",
       "0  2015-01-02  243.96  245.32  243.25  244.79  54153879  2146860296567\n",
       "1  2015-01-05  243.83  244.56  241.76  244.26  62845108  2622821317695\n",
       "2  2015-01-06  241.36  242.06  239.32  239.93  66249937  2992594273218\n",
       "3  2015-01-07  239.41  240.91  239.09  240.53  54599968  2610334705312\n",
       "4  2015-01-08  242.28  244.13  241.68  243.94  64021136  3155894203006"
      ]
     },
     "execution_count": 4,
     "metadata": {},
     "output_type": "execute_result"
    }
   ],
   "source": [
    "df.head()"
   ]
  },
  {
   "cell_type": "code",
   "execution_count": 5,
   "id": "velvet-woman",
   "metadata": {},
   "outputs": [
    {
     "data": {
      "text/plain": [
       "('2020-12-30', '2015-01-02')"
      ]
     },
     "execution_count": 5,
     "metadata": {},
     "output_type": "execute_result"
    }
   ],
   "source": [
    "df['날짜'].max(), df['날짜'].min()"
   ]
  },
  {
   "cell_type": "code",
   "execution_count": 6,
   "id": "quiet-cursor",
   "metadata": {},
   "outputs": [
    {
     "data": {
      "image/png": "[encoded data removed]",
      "text/plain": [
       "<Figure size 432x288 with 1 Axes>"
      ]
     },
     "metadata": {
      "needs_background": "light"
     },
     "output_type": "display_data"
    }
   ],
   "source": [
    "plt.plot(df['날짜'], df['종가'])\n",
    "plt.show()"
   ]
  },
  {
   "cell_type": "code",
   "execution_count": null,
   "id": "anonymous-volunteer",
   "metadata": {},
   "outputs": [],
   "source": []
  },
  {
   "cell_type": "code",
   "execution_count": 7,
   "id": "protecting-approach",
   "metadata": {},
   "outputs": [
    {
     "name": "stdout",
     "output_type": "stream",
     "text": [
      "[252.9  252.57 254.6  255.26 249.67 255.31 251.99 250.01 249.2 ]\n"
     ]
    }
   ],
   "source": [
    "count = 0 \n",
    "base_range = df[(df['날짜']>='2016-11-03') & (df['날짜']<='2016-11-15')]['종가'] \n",
    "\n",
    "# series에서 값만 추출 \n",
    "compare_base = base_range.values \n",
    "print(compare_base)\n",
    "\n",
    "# 표준화 \n",
    "compare_base_norm = (compare_base - compare_base.mean()) / compare_base.std() \n",
    "# array -> 1차원 리스트로 변환 \n",
    "compare_base_norm = list(compare_base_norm) \n",
    "# 검색 기간 \n",
    "window_size = len(compare_base_norm) \n",
    "# 검색 기간에 더해서 추가로 보여줄 기간 \n",
    "next_date = 5 \n",
    "# 검색 횟수 \n",
    "moving_cnt = len(df['종가']) - (window_size-1) - next_date \n",
    "# 유사도 저장 딕셔너리 \n",
    "\n",
    "sim_dict = {} \n",
    "for i in range(moving_cnt): \n",
    "    compare_target_r = df[i:i+window_size]['종가'] \n",
    "    # series에서 값만 추출 \n",
    "    compare_target = compare_target_r.values \n",
    "    \n",
    "    # 표준화 \n",
    "    compare_target_norm = (compare_target - compare_target.mean()) / compare_target.std() \n",
    "    # array -> 1차원 리스트로 변환 \n",
    "    compare_target_norm = list(compare_target_norm) \n",
    "    # 코사인 유사도 저장 \n",
    "    sim = cosine(compare_base_norm, compare_target_norm) \n",
    "    # 코사인 유사도 <- i(인덱스), 시계열데이터 함께 저장 \n",
    "    sim_dict[sim] = [i,compare_target_r]\n"
   ]
  },
  {
   "cell_type": "code",
   "execution_count": 8,
   "id": "healthy-manchester",
   "metadata": {},
   "outputs": [
    {
     "data": {
      "text/plain": [
       "[453,\n",
       " 453    252.90\n",
       " 454    252.57\n",
       " 455    254.60\n",
       " 456    255.26\n",
       " 457    249.67\n",
       " 458    255.31\n",
       " 459    251.99\n",
       " 460    250.01\n",
       " 461    249.20\n",
       " Name: 종가, dtype: float64]"
      ]
     },
     "execution_count": 8,
     "metadata": {},
     "output_type": "execute_result"
    }
   ],
   "source": [
    "# 최소 코사인 유사도 \n",
    "min_sim = min(list(sim_dict.keys())) \n",
    "# 최소 코사인 유사도가 나온 인덱스, 기간 추출 \n",
    "sim_dict[min_sim]\n"
   ]
  },
  {
   "cell_type": "code",
   "execution_count": 9,
   "id": "consistent-villa",
   "metadata": {},
   "outputs": [
    {
     "data": {
      "text/plain": [
       "[0.22722516118555428,\n",
       " 0.08019711571254858,\n",
       " 0.9846423651373681,\n",
       " 1.2786984560833667,\n",
       " -1.2118675263229097,\n",
       " 1.3009754326701901,\n",
       " -0.17821581269453549,\n",
       " -1.0603840855325444,\n",
       " -1.4212711062390002]"
      ]
     },
     "execution_count": 9,
     "metadata": {},
     "output_type": "execute_result"
    }
   ],
   "source": [
    "# 표준화된 데이터 \n",
    "compare_base_norm"
   ]
  },
  {
   "cell_type": "code",
   "execution_count": 10,
   "id": "described-programmer",
   "metadata": {},
   "outputs": [
    {
     "data": {
      "text/plain": [
       "[-0.8706651433260317,\n",
       " 0.6900066576532093,\n",
       " 0.3202307605570794,\n",
       " -0.04954513653905051,\n",
       " 0.847705202003008,\n",
       " 0.5594975175016305,\n",
       " 0.3147928797174354,\n",
       " 0.6573793726153145,\n",
       " -2.4694021101828114]"
      ]
     },
     "execution_count": 10,
     "metadata": {},
     "output_type": "execute_result"
    }
   ],
   "source": [
    "# 검색 결과 유사 구간 데이터\n",
    "compare_target = compare_target_r.values \n",
    "compare_target_norm = (compare_target - compare_target.mean())/compare_target.std() \n",
    "compare_target_norm = list(compare_target_norm) \n",
    "compare_target_norm\n"
   ]
  },
  {
   "cell_type": "code",
   "execution_count": 11,
   "id": "atlantic-assault",
   "metadata": {},
   "outputs": [
    {
     "data": {
      "image/png": "[encoded data removed]",
      "text/plain": [
       "<Figure size 432x288 with 1 Axes>"
      ]
     },
     "metadata": {
      "needs_background": "light"
     },
     "output_type": "display_data"
    }
   ],
   "source": [
    "plt.plot(compare_base_norm, label='base') \n",
    "plt.plot(compare_target_norm, label='sim_cosine') \n",
    "plt.legend() \n",
    "plt.show()\n"
   ]
  },
  {
   "cell_type": "code",
   "execution_count": null,
   "id": "graduate-crime",
   "metadata": {},
   "outputs": [],
   "source": []
  },
  {
   "cell_type": "code",
   "execution_count": null,
   "id": "characteristic-raise",
   "metadata": {},
   "outputs": [],
   "source": []
  }
 ],
 "metadata": {
  "kernelspec": {
   "display_name": "Python 3 (ipykernel)",
   "language": "python",
   "name": "python3"
  },
  "language_info": {
   "codemirror_mode": {
    "name": "ipython",
    "version": 3
   },
   "file_extension": ".py",
   "mimetype": "text/x-python",
   "name": "python",
   "nbconvert_exporter": "python",
   "pygments_lexer": "ipython3",
   "version": "3.8.8"
  }
 },
 "nbformat": 4,
 "nbformat_minor": 5
}
