{
 "cells": [
  {
   "cell_type": "code",
   "execution_count": 1,
   "id": "c674d658",
   "metadata": {},
   "outputs": [
    {
     "data": {
      "text/html": [
       "<div>\n",
       "<style scoped>\n",
       "    .dataframe tbody tr th:only-of-type {\n",
       "        vertical-align: middle;\n",
       "    }\n",
       "\n",
       "    .dataframe tbody tr th {\n",
       "        vertical-align: top;\n",
       "    }\n",
       "\n",
       "    .dataframe thead th {\n",
       "        text-align: right;\n",
       "    }\n",
       "</style>\n",
       "<table border=\"1\" class=\"dataframe\">\n",
       "  <thead>\n",
       "    <tr style=\"text-align: right;\">\n",
       "      <th></th>\n",
       "      <th>Name</th>\n",
       "      <th>Age</th>\n",
       "      <th>Sex</th>\n",
       "    </tr>\n",
       "  </thead>\n",
       "  <tbody>\n",
       "    <tr>\n",
       "      <th>0</th>\n",
       "      <td>Braund, Mr. Owen Harris</td>\n",
       "      <td>22</td>\n",
       "      <td>male</td>\n",
       "    </tr>\n",
       "    <tr>\n",
       "      <th>1</th>\n",
       "      <td>Allen, Mr. William Henry</td>\n",
       "      <td>35</td>\n",
       "      <td>male</td>\n",
       "    </tr>\n",
       "    <tr>\n",
       "      <th>2</th>\n",
       "      <td>Bonnell, Miss. Elizabeth</td>\n",
       "      <td>58</td>\n",
       "      <td>female</td>\n",
       "    </tr>\n",
       "  </tbody>\n",
       "</table>\n",
       "</div>"
      ],
      "text/plain": [
       "                       Name  Age     Sex\n",
       "0   Braund, Mr. Owen Harris   22    male\n",
       "1  Allen, Mr. William Henry   35    male\n",
       "2  Bonnell, Miss. Elizabeth   58  female"
      ]
     },
     "execution_count": 1,
     "metadata": {},
     "output_type": "execute_result"
    }
   ],
   "source": [
    "import pandas as pd\n",
    "\n",
    "df = pd.DataFrame({\"Name\":[\"Braund, Mr. Owen Harris\",\n",
    "                           \"Allen, Mr. William Henry\",\n",
    "                           \"Bonnell, Miss. Elizabeth\",\n",
    "                          ],\n",
    "                   \"Age\": [22, 35, 58],\n",
    "                   \"Sex\": [\"male\", \"male\", \"female\"],\n",
    "                  }\n",
    "                 )\n",
    "df"
   ]
  },
  {
   "cell_type": "code",
   "execution_count": 2,
   "id": "a275e194",
   "metadata": {},
   "outputs": [
    {
     "data": {
      "text/plain": [
       "0    22\n",
       "1    35\n",
       "2    58\n",
       "Name: Age, dtype: int64"
      ]
     },
     "execution_count": 2,
     "metadata": {},
     "output_type": "execute_result"
    }
   ],
   "source": [
    "# 컬럼 조회\n",
    "df['Age']"
   ]
  },
  {
   "cell_type": "code",
   "execution_count": 3,
   "id": "777763da",
   "metadata": {},
   "outputs": [
    {
     "data": {
      "text/plain": [
       "58"
      ]
     },
     "execution_count": 3,
     "metadata": {},
     "output_type": "execute_result"
    }
   ],
   "source": [
    "# 최고령자\n",
    "df['Age'].max()"
   ]
  },
  {
   "cell_type": "code",
   "execution_count": 4,
   "id": "0ba1e6d9",
   "metadata": {},
   "outputs": [
    {
     "data": {
      "text/html": [
       "<div>\n",
       "<style scoped>\n",
       "    .dataframe tbody tr th:only-of-type {\n",
       "        vertical-align: middle;\n",
       "    }\n",
       "\n",
       "    .dataframe tbody tr th {\n",
       "        vertical-align: top;\n",
       "    }\n",
       "\n",
       "    .dataframe thead th {\n",
       "        text-align: right;\n",
       "    }\n",
       "</style>\n",
       "<table border=\"1\" class=\"dataframe\">\n",
       "  <thead>\n",
       "    <tr style=\"text-align: right;\">\n",
       "      <th></th>\n",
       "      <th>Age</th>\n",
       "    </tr>\n",
       "  </thead>\n",
       "  <tbody>\n",
       "    <tr>\n",
       "      <th>count</th>\n",
       "      <td>3.000000</td>\n",
       "    </tr>\n",
       "    <tr>\n",
       "      <th>mean</th>\n",
       "      <td>38.333333</td>\n",
       "    </tr>\n",
       "    <tr>\n",
       "      <th>std</th>\n",
       "      <td>18.230012</td>\n",
       "    </tr>\n",
       "    <tr>\n",
       "      <th>min</th>\n",
       "      <td>22.000000</td>\n",
       "    </tr>\n",
       "    <tr>\n",
       "      <th>25%</th>\n",
       "      <td>28.500000</td>\n",
       "    </tr>\n",
       "    <tr>\n",
       "      <th>50%</th>\n",
       "      <td>35.000000</td>\n",
       "    </tr>\n",
       "    <tr>\n",
       "      <th>75%</th>\n",
       "      <td>46.500000</td>\n",
       "    </tr>\n",
       "    <tr>\n",
       "      <th>max</th>\n",
       "      <td>58.000000</td>\n",
       "    </tr>\n",
       "  </tbody>\n",
       "</table>\n",
       "</div>"
      ],
      "text/plain": [
       "             Age\n",
       "count   3.000000\n",
       "mean   38.333333\n",
       "std    18.230012\n",
       "min    22.000000\n",
       "25%    28.500000\n",
       "50%    35.000000\n",
       "75%    46.500000\n",
       "max    58.000000"
      ]
     },
     "execution_count": 4,
     "metadata": {},
     "output_type": "execute_result"
    }
   ],
   "source": [
    "df.describe()"
   ]
  },
  {
   "cell_type": "code",
   "execution_count": 5,
   "id": "22ee24b9",
   "metadata": {},
   "outputs": [],
   "source": [
    "# 데이터 읽어오기\n",
    "# df = pd.read_csv('')"
   ]
  },
  {
   "cell_type": "code",
   "execution_count": 6,
   "id": "c48e82ec",
   "metadata": {},
   "outputs": [
    {
     "data": {
      "text/html": [
       "<div>\n",
       "<style scoped>\n",
       "    .dataframe tbody tr th:only-of-type {\n",
       "        vertical-align: middle;\n",
       "    }\n",
       "\n",
       "    .dataframe tbody tr th {\n",
       "        vertical-align: top;\n",
       "    }\n",
       "\n",
       "    .dataframe thead th {\n",
       "        text-align: right;\n",
       "    }\n",
       "</style>\n",
       "<table border=\"1\" class=\"dataframe\">\n",
       "  <thead>\n",
       "    <tr style=\"text-align: right;\">\n",
       "      <th></th>\n",
       "      <th>Name</th>\n",
       "      <th>Age</th>\n",
       "      <th>Sex</th>\n",
       "    </tr>\n",
       "  </thead>\n",
       "  <tbody>\n",
       "    <tr>\n",
       "      <th>0</th>\n",
       "      <td>Braund, Mr. Owen Harris</td>\n",
       "      <td>22</td>\n",
       "      <td>male</td>\n",
       "    </tr>\n",
       "    <tr>\n",
       "      <th>1</th>\n",
       "      <td>Allen, Mr. William Henry</td>\n",
       "      <td>35</td>\n",
       "      <td>male</td>\n",
       "    </tr>\n",
       "  </tbody>\n",
       "</table>\n",
       "</div>"
      ],
      "text/plain": [
       "                       Name  Age   Sex\n",
       "0   Braund, Mr. Owen Harris   22  male\n",
       "1  Allen, Mr. William Henry   35  male"
      ]
     },
     "execution_count": 6,
     "metadata": {},
     "output_type": "execute_result"
    }
   ],
   "source": [
    "# 첫 n줄 조회\n",
    "df.head(2)"
   ]
  },
  {
   "cell_type": "code",
   "execution_count": 7,
   "id": "aa4e3255",
   "metadata": {},
   "outputs": [
    {
     "data": {
      "text/html": [
       "<div>\n",
       "<style scoped>\n",
       "    .dataframe tbody tr th:only-of-type {\n",
       "        vertical-align: middle;\n",
       "    }\n",
       "\n",
       "    .dataframe tbody tr th {\n",
       "        vertical-align: top;\n",
       "    }\n",
       "\n",
       "    .dataframe thead th {\n",
       "        text-align: right;\n",
       "    }\n",
       "</style>\n",
       "<table border=\"1\" class=\"dataframe\">\n",
       "  <thead>\n",
       "    <tr style=\"text-align: right;\">\n",
       "      <th></th>\n",
       "      <th>Name</th>\n",
       "      <th>Age</th>\n",
       "      <th>Sex</th>\n",
       "    </tr>\n",
       "  </thead>\n",
       "  <tbody>\n",
       "    <tr>\n",
       "      <th>0</th>\n",
       "      <td>Braund, Mr. Owen Harris</td>\n",
       "      <td>22</td>\n",
       "      <td>male</td>\n",
       "    </tr>\n",
       "    <tr>\n",
       "      <th>1</th>\n",
       "      <td>Allen, Mr. William Henry</td>\n",
       "      <td>35</td>\n",
       "      <td>male</td>\n",
       "    </tr>\n",
       "  </tbody>\n",
       "</table>\n",
       "</div>"
      ],
      "text/plain": [
       "                       Name  Age   Sex\n",
       "0   Braund, Mr. Owen Harris   22  male\n",
       "1  Allen, Mr. William Henry   35  male"
      ]
     },
     "execution_count": 7,
     "metadata": {},
     "output_type": "execute_result"
    }
   ],
   "source": [
    "# 마지막 n줄 조회\n",
    "df.head(2)"
   ]
  },
  {
   "cell_type": "code",
   "execution_count": 8,
   "id": "001c5fea",
   "metadata": {},
   "outputs": [
    {
     "data": {
      "text/plain": [
       "Name    object\n",
       "Age      int64\n",
       "Sex     object\n",
       "dtype: object"
      ]
     },
     "execution_count": 8,
     "metadata": {},
     "output_type": "execute_result"
    }
   ],
   "source": [
    "# 데이터 타입 조회\n",
    "df.dtypes"
   ]
  },
  {
   "cell_type": "code",
   "execution_count": 9,
   "id": "520e82e4",
   "metadata": {},
   "outputs": [],
   "source": [
    "# df 엑셀로 내보내기\n",
    "# df.to_excel('df.xlxs', sheet_name='names', index=False)"
   ]
  },
  {
   "cell_type": "code",
   "execution_count": 10,
   "id": "33d91b42",
   "metadata": {},
   "outputs": [
    {
     "name": "stdout",
     "output_type": "stream",
     "text": [
      "<class 'pandas.core.frame.DataFrame'>\n",
      "RangeIndex: 3 entries, 0 to 2\n",
      "Data columns (total 3 columns):\n",
      " #   Column  Non-Null Count  Dtype \n",
      "---  ------  --------------  ----- \n",
      " 0   Name    3 non-null      object\n",
      " 1   Age     3 non-null      int64 \n",
      " 2   Sex     3 non-null      object\n",
      "dtypes: int64(1), object(2)\n",
      "memory usage: 200.0+ bytes\n"
     ]
    }
   ],
   "source": [
    "# 데이터 요약 정보\n",
    "df.info()"
   ]
  },
  {
   "cell_type": "code",
   "execution_count": 11,
   "id": "d249ba76",
   "metadata": {},
   "outputs": [
    {
     "name": "stdout",
     "output_type": "stream",
     "text": [
      "0    22.0\n",
      "1    38.0\n",
      "2    26.0\n",
      "3    35.0\n",
      "4    35.0\n",
      "Name: Age, dtype: float64\n",
      "<class 'pandas.core.frame.DataFrame'>\n",
      "RangeIndex: 891 entries, 0 to 890\n",
      "Data columns (total 12 columns):\n",
      " #   Column       Non-Null Count  Dtype  \n",
      "---  ------       --------------  -----  \n",
      " 0   PassengerId  891 non-null    int64  \n",
      " 1   Survived     891 non-null    int64  \n",
      " 2   Pclass       891 non-null    int64  \n",
      " 3   Name         891 non-null    object \n",
      " 4   Sex          891 non-null    object \n",
      " 5   Age          714 non-null    float64\n",
      " 6   SibSp        891 non-null    int64  \n",
      " 7   Parch        891 non-null    int64  \n",
      " 8   Ticket       891 non-null    object \n",
      " 9   Fare         891 non-null    float64\n",
      " 10  Cabin        204 non-null    object \n",
      " 11  Embarked     889 non-null    object \n",
      "dtypes: float64(2), int64(5), object(5)\n",
      "memory usage: 83.7+ KB\n",
      "None\n",
      "(891,)\n",
      "    Age     Sex\n",
      "0  22.0    male\n",
      "1  38.0  female\n",
      "2  26.0  female\n",
      "3  35.0  female\n",
      "4  35.0    male\n"
     ]
    }
   ],
   "source": [
    "# df의 부분집합 조회\n",
    "\n",
    "titanic = pd.read_csv('https://raw.githubusercontent.com/pandas-dev/pandas/master/doc/data/titanic.csv')\n",
    "\n",
    "ages = titanic['Age']\n",
    "print(ages.head())\n",
    "print(titanic.info())\n",
    "print(titanic['Age'].shape)\n",
    "\n",
    "age_sex = titanic[['Age', 'Sex']] # 여러 컬럼 설정시 [[ ]]\n",
    "print(age_sex.head())"
   ]
  },
  {
   "cell_type": "code",
   "execution_count": 12,
   "id": "5c3bb440",
   "metadata": {},
   "outputs": [
    {
     "name": "stdout",
     "output_type": "stream",
     "text": [
      "    PassengerId  Survived  Pclass  \\\n",
      "1             2         1       1   \n",
      "6             7         0       1   \n",
      "11           12         1       1   \n",
      "13           14         0       3   \n",
      "15           16         1       2   \n",
      "\n",
      "                                                 Name     Sex   Age  SibSp  \\\n",
      "1   Cumings, Mrs. John Bradley (Florence Briggs Th...  female  38.0      1   \n",
      "6                             McCarthy, Mr. Timothy J    male  54.0      0   \n",
      "11                           Bonnell, Miss. Elizabeth  female  58.0      0   \n",
      "13                        Andersson, Mr. Anders Johan    male  39.0      1   \n",
      "15                   Hewlett, Mrs. (Mary D Kingcome)   female  55.0      0   \n",
      "\n",
      "    Parch    Ticket     Fare Cabin Embarked  \n",
      "1       0  PC 17599  71.2833   C85        C  \n",
      "6       0     17463  51.8625   E46        S  \n",
      "11      0    113783  26.5500  C103        S  \n",
      "13      5    347082  31.2750   NaN        S  \n",
      "15      0    248706  16.0000   NaN        S  \n",
      "(217, 12)\n"
     ]
    }
   ],
   "source": [
    "# 특정 로우 필터링 조회\n",
    "# 특정 조건의 로우 조회시, [cond]\n",
    "# df[cond]; bool의 srs 자료, df[] 내에 사용함으로써 필터 역할\n",
    "above_35 = titanic[titanic['Age'] > 35]\n",
    "print(above_35.head())\n",
    "print(above_35.shape)"
   ]
  },
  {
   "cell_type": "code",
   "execution_count": 13,
   "id": "864577a4",
   "metadata": {},
   "outputs": [
    {
     "name": "stdout",
     "output_type": "stream",
     "text": [
      "   PassengerId  Survived  Pclass                            Name     Sex  \\\n",
      "0            1         0       3         Braund, Mr. Owen Harris    male   \n",
      "2            3         1       3          Heikkinen, Miss. Laina  female   \n",
      "4            5         0       3        Allen, Mr. William Henry    male   \n",
      "5            6         0       3                Moran, Mr. James    male   \n",
      "7            8         0       3  Palsson, Master. Gosta Leonard    male   \n",
      "\n",
      "    Age  SibSp  Parch            Ticket     Fare Cabin Embarked  \n",
      "0  22.0      1      0         A/5 21171   7.2500   NaN        S  \n",
      "2  26.0      0      0  STON/O2. 3101282   7.9250   NaN        S  \n",
      "4  35.0      0      0            373450   8.0500   NaN        S  \n",
      "5   NaN      0      0            330877   8.4583   NaN        Q  \n",
      "7   2.0      3      1            349909  21.0750   NaN        S  \n",
      "   PassengerId  Survived  Pclass                            Name     Sex  \\\n",
      "0            1         0       3         Braund, Mr. Owen Harris    male   \n",
      "2            3         1       3          Heikkinen, Miss. Laina  female   \n",
      "4            5         0       3        Allen, Mr. William Henry    male   \n",
      "5            6         0       3                Moran, Mr. James    male   \n",
      "7            8         0       3  Palsson, Master. Gosta Leonard    male   \n",
      "\n",
      "    Age  SibSp  Parch            Ticket     Fare Cabin Embarked  \n",
      "0  22.0      1      0         A/5 21171   7.2500   NaN        S  \n",
      "2  26.0      0      0  STON/O2. 3101282   7.9250   NaN        S  \n",
      "4  35.0      0      0            373450   8.0500   NaN        S  \n",
      "5   NaN      0      0            330877   8.4583   NaN        Q  \n",
      "7   2.0      3      1            349909  21.0750   NaN        S  \n"
     ]
    }
   ],
   "source": [
    "# .isin(); Titanic passengers from cabin class 2 and 3.\n",
    "print(titanic[(titanic['Pclass'] == 2) | (titanic['Pclass'] == 3)].head())\n",
    "\n",
    "print(titanic[titanic['Pclass'].isin([2, 3])].head())\n",
    "# .isin(); 함수 내부의 조건은 [] 필요. 컬럼에서 데이터 조회"
   ]
  },
  {
   "cell_type": "code",
   "execution_count": 14,
   "id": "53b60be6",
   "metadata": {},
   "outputs": [
    {
     "data": {
      "text/html": [
       "<div>\n",
       "<style scoped>\n",
       "    .dataframe tbody tr th:only-of-type {\n",
       "        vertical-align: middle;\n",
       "    }\n",
       "\n",
       "    .dataframe tbody tr th {\n",
       "        vertical-align: top;\n",
       "    }\n",
       "\n",
       "    .dataframe thead th {\n",
       "        text-align: right;\n",
       "    }\n",
       "</style>\n",
       "<table border=\"1\" class=\"dataframe\">\n",
       "  <thead>\n",
       "    <tr style=\"text-align: right;\">\n",
       "      <th></th>\n",
       "      <th>PassengerId</th>\n",
       "      <th>Survived</th>\n",
       "      <th>Pclass</th>\n",
       "      <th>Name</th>\n",
       "      <th>Sex</th>\n",
       "      <th>Age</th>\n",
       "      <th>SibSp</th>\n",
       "      <th>Parch</th>\n",
       "      <th>Ticket</th>\n",
       "      <th>Fare</th>\n",
       "      <th>Cabin</th>\n",
       "      <th>Embarked</th>\n",
       "    </tr>\n",
       "  </thead>\n",
       "  <tbody>\n",
       "    <tr>\n",
       "      <th>0</th>\n",
       "      <td>1</td>\n",
       "      <td>0</td>\n",
       "      <td>3</td>\n",
       "      <td>Braund, Mr. Owen Harris</td>\n",
       "      <td>male</td>\n",
       "      <td>22.0</td>\n",
       "      <td>1</td>\n",
       "      <td>0</td>\n",
       "      <td>A/5 21171</td>\n",
       "      <td>7.2500</td>\n",
       "      <td>NaN</td>\n",
       "      <td>S</td>\n",
       "    </tr>\n",
       "    <tr>\n",
       "      <th>1</th>\n",
       "      <td>2</td>\n",
       "      <td>1</td>\n",
       "      <td>1</td>\n",
       "      <td>Cumings, Mrs. John Bradley (Florence Briggs Th...</td>\n",
       "      <td>female</td>\n",
       "      <td>38.0</td>\n",
       "      <td>1</td>\n",
       "      <td>0</td>\n",
       "      <td>PC 17599</td>\n",
       "      <td>71.2833</td>\n",
       "      <td>C85</td>\n",
       "      <td>C</td>\n",
       "    </tr>\n",
       "    <tr>\n",
       "      <th>2</th>\n",
       "      <td>3</td>\n",
       "      <td>1</td>\n",
       "      <td>3</td>\n",
       "      <td>Heikkinen, Miss. Laina</td>\n",
       "      <td>female</td>\n",
       "      <td>26.0</td>\n",
       "      <td>0</td>\n",
       "      <td>0</td>\n",
       "      <td>STON/O2. 3101282</td>\n",
       "      <td>7.9250</td>\n",
       "      <td>NaN</td>\n",
       "      <td>S</td>\n",
       "    </tr>\n",
       "    <tr>\n",
       "      <th>3</th>\n",
       "      <td>4</td>\n",
       "      <td>1</td>\n",
       "      <td>1</td>\n",
       "      <td>Futrelle, Mrs. Jacques Heath (Lily May Peel)</td>\n",
       "      <td>female</td>\n",
       "      <td>35.0</td>\n",
       "      <td>1</td>\n",
       "      <td>0</td>\n",
       "      <td>113803</td>\n",
       "      <td>53.1000</td>\n",
       "      <td>C123</td>\n",
       "      <td>S</td>\n",
       "    </tr>\n",
       "    <tr>\n",
       "      <th>4</th>\n",
       "      <td>5</td>\n",
       "      <td>0</td>\n",
       "      <td>3</td>\n",
       "      <td>Allen, Mr. William Henry</td>\n",
       "      <td>male</td>\n",
       "      <td>35.0</td>\n",
       "      <td>0</td>\n",
       "      <td>0</td>\n",
       "      <td>373450</td>\n",
       "      <td>8.0500</td>\n",
       "      <td>NaN</td>\n",
       "      <td>S</td>\n",
       "    </tr>\n",
       "  </tbody>\n",
       "</table>\n",
       "</div>"
      ],
      "text/plain": [
       "   PassengerId  Survived  Pclass  \\\n",
       "0            1         0       3   \n",
       "1            2         1       1   \n",
       "2            3         1       3   \n",
       "3            4         1       1   \n",
       "4            5         0       3   \n",
       "\n",
       "                                                Name     Sex   Age  SibSp  \\\n",
       "0                            Braund, Mr. Owen Harris    male  22.0      1   \n",
       "1  Cumings, Mrs. John Bradley (Florence Briggs Th...  female  38.0      1   \n",
       "2                             Heikkinen, Miss. Laina  female  26.0      0   \n",
       "3       Futrelle, Mrs. Jacques Heath (Lily May Peel)  female  35.0      1   \n",
       "4                           Allen, Mr. William Henry    male  35.0      0   \n",
       "\n",
       "   Parch            Ticket     Fare Cabin Embarked  \n",
       "0      0         A/5 21171   7.2500   NaN        S  \n",
       "1      0          PC 17599  71.2833   C85        C  \n",
       "2      0  STON/O2. 3101282   7.9250   NaN        S  \n",
       "3      0            113803  53.1000  C123        S  \n",
       "4      0            373450   8.0500   NaN        S  "
      ]
     },
     "execution_count": 14,
     "metadata": {},
     "output_type": "execute_result"
    }
   ],
   "source": [
    "# .notna(); null 데이터 조회\n",
    "age_no_na = titanic[titanic['Age'].notna()]\n",
    "age_no_na.head()"
   ]
  },
  {
   "cell_type": "code",
   "execution_count": 15,
   "id": "2222941e",
   "metadata": {},
   "outputs": [
    {
     "name": "stdout",
     "output_type": "stream",
     "text": [
      "1     Cumings, Mrs. John Bradley (Florence Briggs Th...\n",
      "6                               McCarthy, Mr. Timothy J\n",
      "11                             Bonnell, Miss. Elizabeth\n",
      "13                          Andersson, Mr. Anders Johan\n",
      "15                     Hewlett, Mrs. (Mary D Kingcome) \n",
      "Name: Name, dtype: object\n",
      "    Pclass                                               Name     Sex\n",
      "9        2                Nasser, Mrs. Nicholas (Adele Achem)  female\n",
      "10       3                    Sandstrom, Miss. Marguerite Rut  female\n",
      "11       1                           Bonnell, Miss. Elizabeth  female\n",
      "12       3                     Saundercock, Mr. William Henry    male\n",
      "13       3                        Andersson, Mr. Anders Johan    male\n",
      "14       3               Vestrom, Miss. Hulda Amanda Adolfina  female\n",
      "15       2                   Hewlett, Mrs. (Mary D Kingcome)   female\n",
      "16       3                               Rice, Master. Eugene    male\n",
      "17       2                       Williams, Mr. Charles Eugene    male\n",
      "18       3  Vander Planke, Mrs. Julius (Emelia Maria Vande...  female\n",
      "19       3                            Masselmani, Mrs. Fatima  female\n",
      "20       2                               Fynney, Mr. Joseph J    male\n",
      "21       2                              Beesley, Mr. Lawrence    male\n",
      "22       3                        McGowan, Miss. Anna \"Annie\"  female\n",
      "23       1                       Sloper, Mr. William Thompson    male\n",
      "24       3                      Palsson, Miss. Torborg Danira  female\n",
      "   PassengerId  Survived  Pclass  \\\n",
      "0            1         0       3   \n",
      "1            2         1       1   \n",
      "2            3         1       3   \n",
      "3            4         1       1   \n",
      "4            5         0       3   \n",
      "\n",
      "                                           Name     Sex   Age  SibSp  Parch  \\\n",
      "0                                     anonymous    male  22.0      1      0   \n",
      "1                                     anonymous  female  38.0      1      0   \n",
      "2                                     anonymous  female  26.0      0      0   \n",
      "3  Futrelle, Mrs. Jacques Heath (Lily May Peel)  female  35.0      1      0   \n",
      "4                      Allen, Mr. William Henry    male  35.0      0      0   \n",
      "\n",
      "             Ticket     Fare Cabin Embarked  \n",
      "0         A/5 21171   7.2500   NaN        S  \n",
      "1          PC 17599  71.2833   C85        C  \n",
      "2  STON/O2. 3101282   7.9250   NaN        S  \n",
      "3            113803  53.1000  C123        S  \n",
      "4            373450   8.0500   NaN        S  \n"
     ]
    }
   ],
   "source": [
    "# .loc[], .iloc[]\n",
    "# df.loc[row index/cond, cl name/cond]; label\n",
    "# df.iloc[row indx, cl indx]; position\n",
    "# df.iloc[row range, cl range]\n",
    "\n",
    "# 특정 로우/컬럼 조회; the names of the passengers older than 35 years\n",
    "adult_names = titanic.loc[titanic['Age'] > 35, 'Name']\n",
    "print(adult_names.head())\n",
    "\n",
    "# 특정 로우/컬럼 범위 조회; rows 10 till 25 and columns 3 to 5\n",
    "print(titanic.iloc[9:25, 2:5])\n",
    "\n",
    "# loc/iloc 활용하여 데이터 추가\n",
    "titanic.iloc[:3, 3] = 'anonymous'\n",
    "print(titanic.head())"
   ]
  },
  {
   "cell_type": "code",
   "execution_count": 16,
   "id": "0b91015f",
   "metadata": {},
   "outputs": [
    {
     "name": "stdout",
     "output_type": "stream",
     "text": [
      "                     station_antwerp  station_paris  station_london\n",
      "datetime                                                           \n",
      "2019-05-07 02:00:00              NaN            NaN            23.0\n",
      "2019-05-07 03:00:00             50.5           25.0            19.0\n",
      "2019-05-07 04:00:00             45.0           27.7            19.0\n",
      "2019-05-07 05:00:00              NaN           50.4            16.0\n",
      "2019-05-07 06:00:00              NaN           61.9             NaN\n"
     ]
    }
   ],
   "source": [
    "# pd에서 matplot의 plt 생성\n",
    "import matplotlib.pyplot as plt\n",
    "air_quality = pd.read_csv('https://raw.githubusercontent.com/pandas-dev/pandas/master/doc/data/air_quality_no2.csv',\n",
    "                         index_col=0,\n",
    "                         parse_dates=True)\n",
    "# index_col=0; 0번 컬럼을 인덱스로 지정\n",
    "# parse_dates=True; dates 자료를 Timestamp화\n",
    "print(air_quality.head())"
   ]
  },
  {
   "cell_type": "code",
   "execution_count": 17,
   "id": "6d97c9b4",
   "metadata": {},
   "outputs": [
    {
     "name": "stdout",
     "output_type": "stream",
     "text": [
      "AxesSubplot(0.125,0.2;0.775x0.68)\n"
     ]
    },
    {
     "data": {
      "image/png": "[encoded data removed]",
      "text/plain": [
       "<Figure size 432x288 with 1 Axes>"
      ]
     },
     "metadata": {
      "needs_background": "light"
     },
     "output_type": "display_data"
    }
   ],
   "source": [
    "# 요약 시각화 조회; .plot()\n",
    "print(air_quality.plot())"
   ]
  },
  {
   "cell_type": "code",
   "execution_count": 18,
   "id": "76ae4378",
   "metadata": {},
   "outputs": [
    {
     "name": "stdout",
     "output_type": "stream",
     "text": [
      "AxesSubplot(0.125,0.2;0.775x0.68)\n"
     ]
    },
    {
     "data": {
      "image/png": "[encoded data removed]",
      "text/plain": [
       "<Figure size 432x288 with 1 Axes>"
      ]
     },
     "metadata": {
      "needs_background": "light"
     },
     "output_type": "display_data"
    }
   ],
   "source": [
    "# 특정 컬럼의 데이터 조회; df[cl]\n",
    "print(air_quality['station_paris'].plot())"
   ]
  },
  {
   "cell_type": "code",
   "execution_count": 19,
   "id": "31f22701",
   "metadata": {},
   "outputs": [
    {
     "name": "stdout",
     "output_type": "stream",
     "text": [
      "AxesSubplot(0.125,0.125;0.775x0.755)\n"
     ]
    },
    {
     "data": {
      "image/png": "[encoded data removed]",
      "text/plain": [
       "<Figure size 432x288 with 1 Axes>"
      ]
     },
     "metadata": {
      "needs_background": "light"
     },
     "output_type": "display_data"
    }
   ],
   "source": [
    "# 산점도로 컬럼별 비교; df.plot.scatter(x=cl1, y=cl2)\n",
    "print(air_quality.plot.scatter(x = 'station_london', y = 'station_paris', alpha=0.5))\n",
    "# x, y축에 컬럼 배치\n",
    "# alpha= ; 점의 투명도"
   ]
  },
  {
   "cell_type": "code",
   "execution_count": 20,
   "id": "41dae199",
   "metadata": {},
   "outputs": [
    {
     "name": "stdout",
     "output_type": "stream",
     "text": [
      "AxesSubplot(0.125,0.125;0.775x0.755)\n"
     ]
    },
    {
     "data": {
      "image/png": "[encoded data removed]",
      "text/plain": [
       "<Figure size 432x288 with 1 Axes>"
      ]
     },
     "metadata": {
      "needs_background": "light"
     },
     "output_type": "display_data"
    }
   ],
   "source": [
    "# boxplot; .plot.box()\n",
    "print(air_quality.plot.box())"
   ]
  },
  {
   "cell_type": "code",
   "execution_count": 21,
   "id": "3cc829a9",
   "metadata": {},
   "outputs": [
    {
     "data": {
      "image/png": "[encoded data removed]",
      "text/plain": [
       "<Figure size 864x288 with 3 Axes>"
      ]
     },
     "metadata": {
      "needs_background": "light"
     },
     "output_type": "display_data"
    }
   ],
   "source": [
    "# 컬럼별 나눈 그래프(subplot) 조회\n",
    "# df.plot.area(); figsize=(a, b) w, h / subplot=True 나누기\n",
    "axs = air_quality.plot.area(figsize=(12, 4), subplots=True)"
   ]
  },
  {
   "cell_type": "code",
   "execution_count": 22,
   "id": "483a8b3e",
   "metadata": {},
   "outputs": [
    {
     "name": "stdout",
     "output_type": "stream",
     "text": [
      "                     station_antwerp  station_paris  station_london  \\\n",
      "datetime                                                              \n",
      "2019-05-07 02:00:00              NaN            NaN            23.0   \n",
      "2019-05-07 03:00:00             50.5           25.0            19.0   \n",
      "2019-05-07 04:00:00             45.0           27.7            19.0   \n",
      "2019-05-07 05:00:00              NaN           50.4            16.0   \n",
      "2019-05-07 06:00:00              NaN           61.9             NaN   \n",
      "\n",
      "                     london_mg_per_cubic  \n",
      "datetime                                  \n",
      "2019-05-07 02:00:00               43.286  \n",
      "2019-05-07 03:00:00               35.758  \n",
      "2019-05-07 04:00:00               35.758  \n",
      "2019-05-07 05:00:00               30.112  \n",
      "2019-05-07 06:00:00                  NaN  \n"
     ]
    }
   ],
   "source": [
    "# 기존 컬럼에서 추출하여 새 컬럼 추가\n",
    "# df[new_cl] = df[cl]\n",
    "air_quality['london_mg_per_cubic'] = air_quality['station_london'] * 1.882\n",
    "print(air_quality.head())"
   ]
  },
  {
   "cell_type": "code",
   "execution_count": 23,
   "id": "26dc5acd",
   "metadata": {},
   "outputs": [
    {
     "name": "stdout",
     "output_type": "stream",
     "text": [
      "                     station_antwerp  station_paris  station_london  \\\n",
      "datetime                                                              \n",
      "2019-05-07 02:00:00              NaN            NaN            23.0   \n",
      "2019-05-07 03:00:00             50.5           25.0            19.0   \n",
      "2019-05-07 04:00:00             45.0           27.7            19.0   \n",
      "2019-05-07 05:00:00              NaN           50.4            16.0   \n",
      "2019-05-07 06:00:00              NaN           61.9             NaN   \n",
      "\n",
      "                     london_mg_per_cubic  ratio_paris_antwerp  \n",
      "datetime                                                       \n",
      "2019-05-07 02:00:00               43.286                  NaN  \n",
      "2019-05-07 03:00:00               35.758             0.495050  \n",
      "2019-05-07 04:00:00               35.758             0.615556  \n",
      "2019-05-07 05:00:00               30.112                  NaN  \n",
      "2019-05-07 06:00:00                  NaN                  NaN  \n"
     ]
    }
   ],
   "source": [
    "# 컬럼 비율 계산 후 컬럼 추가; 컬럼과 컬럼 연산 가능\n",
    "air_quality['ratio_paris_antwerp'] = air_quality['station_paris'] / air_quality['station_antwerp']\n",
    "print(air_quality.head())"
   ]
  },
  {
   "cell_type": "code",
   "execution_count": 24,
   "id": "daa6ac0f",
   "metadata": {},
   "outputs": [
    {
     "data": {
      "text/html": [
       "<div>\n",
       "<style scoped>\n",
       "    .dataframe tbody tr th:only-of-type {\n",
       "        vertical-align: middle;\n",
       "    }\n",
       "\n",
       "    .dataframe tbody tr th {\n",
       "        vertical-align: top;\n",
       "    }\n",
       "\n",
       "    .dataframe thead th {\n",
       "        text-align: right;\n",
       "    }\n",
       "</style>\n",
       "<table border=\"1\" class=\"dataframe\">\n",
       "  <thead>\n",
       "    <tr style=\"text-align: right;\">\n",
       "      <th></th>\n",
       "      <th>BETR801</th>\n",
       "      <th>FR04014</th>\n",
       "      <th>London  Westminster</th>\n",
       "      <th>london_mg_per_cubic</th>\n",
       "      <th>ratio_paris_antwerp</th>\n",
       "    </tr>\n",
       "    <tr>\n",
       "      <th>datetime</th>\n",
       "      <th></th>\n",
       "      <th></th>\n",
       "      <th></th>\n",
       "      <th></th>\n",
       "      <th></th>\n",
       "    </tr>\n",
       "  </thead>\n",
       "  <tbody>\n",
       "    <tr>\n",
       "      <th>2019-05-07 02:00:00</th>\n",
       "      <td>NaN</td>\n",
       "      <td>NaN</td>\n",
       "      <td>23.0</td>\n",
       "      <td>43.286</td>\n",
       "      <td>NaN</td>\n",
       "    </tr>\n",
       "    <tr>\n",
       "      <th>2019-05-07 03:00:00</th>\n",
       "      <td>50.5</td>\n",
       "      <td>25.0</td>\n",
       "      <td>19.0</td>\n",
       "      <td>35.758</td>\n",
       "      <td>0.495050</td>\n",
       "    </tr>\n",
       "    <tr>\n",
       "      <th>2019-05-07 04:00:00</th>\n",
       "      <td>45.0</td>\n",
       "      <td>27.7</td>\n",
       "      <td>19.0</td>\n",
       "      <td>35.758</td>\n",
       "      <td>0.615556</td>\n",
       "    </tr>\n",
       "    <tr>\n",
       "      <th>2019-05-07 05:00:00</th>\n",
       "      <td>NaN</td>\n",
       "      <td>50.4</td>\n",
       "      <td>16.0</td>\n",
       "      <td>30.112</td>\n",
       "      <td>NaN</td>\n",
       "    </tr>\n",
       "    <tr>\n",
       "      <th>2019-05-07 06:00:00</th>\n",
       "      <td>NaN</td>\n",
       "      <td>61.9</td>\n",
       "      <td>NaN</td>\n",
       "      <td>NaN</td>\n",
       "      <td>NaN</td>\n",
       "    </tr>\n",
       "  </tbody>\n",
       "</table>\n",
       "</div>"
      ],
      "text/plain": [
       "                     BETR801  FR04014  London  Westminster  \\\n",
       "datetime                                                     \n",
       "2019-05-07 02:00:00      NaN      NaN                 23.0   \n",
       "2019-05-07 03:00:00     50.5     25.0                 19.0   \n",
       "2019-05-07 04:00:00     45.0     27.7                 19.0   \n",
       "2019-05-07 05:00:00      NaN     50.4                 16.0   \n",
       "2019-05-07 06:00:00      NaN     61.9                  NaN   \n",
       "\n",
       "                     london_mg_per_cubic  ratio_paris_antwerp  \n",
       "datetime                                                       \n",
       "2019-05-07 02:00:00               43.286                  NaN  \n",
       "2019-05-07 03:00:00               35.758             0.495050  \n",
       "2019-05-07 04:00:00               35.758             0.615556  \n",
       "2019-05-07 05:00:00               30.112                  NaN  \n",
       "2019-05-07 06:00:00                  NaN                  NaN  "
      ]
     },
     "execution_count": 24,
     "metadata": {},
     "output_type": "execute_result"
    }
   ],
   "source": [
    "# 기존 컬럼명 수정; df.rename(columns={cl1:new_cl1, cl2:new_cl2, ...})\n",
    "air_quality_renamed = air_quality.rename(columns={'station_antwerp':'BETR801',\n",
    "                                                  'station_paris':'FR04014',\n",
    "                                                  'station_london':'London  Westminster',\n",
    "                                                 }\n",
    "                                        )\n",
    "air_quality_renamed.head()"
   ]
  },
  {
   "cell_type": "code",
   "execution_count": 25,
   "id": "1fd1f854",
   "metadata": {},
   "outputs": [
    {
     "data": {
      "text/plain": [
       "29.69911764705882"
      ]
     },
     "execution_count": 25,
     "metadata": {},
     "output_type": "execute_result"
    }
   ],
   "source": [
    "# .mean(); 기본값 로우 기준 평균\n",
    "titanic['Age'].mean()"
   ]
  },
  {
   "cell_type": "code",
   "execution_count": 26,
   "id": "3077ef8a",
   "metadata": {},
   "outputs": [
    {
     "data": {
      "text/plain": [
       "Age     28.0000\n",
       "Fare    14.4542\n",
       "dtype: float64"
      ]
     },
     "execution_count": 26,
     "metadata": {},
     "output_type": "execute_result"
    }
   ],
   "source": [
    "# .median(); 중앙값\n",
    "titanic[['Age', 'Fare']].median()"
   ]
  },
  {
   "cell_type": "code",
   "execution_count": 27,
   "id": "b6aeb537",
   "metadata": {},
   "outputs": [
    {
     "data": {
      "text/html": [
       "<div>\n",
       "<style scoped>\n",
       "    .dataframe tbody tr th:only-of-type {\n",
       "        vertical-align: middle;\n",
       "    }\n",
       "\n",
       "    .dataframe tbody tr th {\n",
       "        vertical-align: top;\n",
       "    }\n",
       "\n",
       "    .dataframe thead th {\n",
       "        text-align: right;\n",
       "    }\n",
       "</style>\n",
       "<table border=\"1\" class=\"dataframe\">\n",
       "  <thead>\n",
       "    <tr style=\"text-align: right;\">\n",
       "      <th></th>\n",
       "      <th>Age</th>\n",
       "      <th>Fare</th>\n",
       "    </tr>\n",
       "  </thead>\n",
       "  <tbody>\n",
       "    <tr>\n",
       "      <th>count</th>\n",
       "      <td>714.000000</td>\n",
       "      <td>891.000000</td>\n",
       "    </tr>\n",
       "    <tr>\n",
       "      <th>mean</th>\n",
       "      <td>29.699118</td>\n",
       "      <td>32.204208</td>\n",
       "    </tr>\n",
       "    <tr>\n",
       "      <th>std</th>\n",
       "      <td>14.526497</td>\n",
       "      <td>49.693429</td>\n",
       "    </tr>\n",
       "    <tr>\n",
       "      <th>min</th>\n",
       "      <td>0.420000</td>\n",
       "      <td>0.000000</td>\n",
       "    </tr>\n",
       "    <tr>\n",
       "      <th>25%</th>\n",
       "      <td>20.125000</td>\n",
       "      <td>7.910400</td>\n",
       "    </tr>\n",
       "    <tr>\n",
       "      <th>50%</th>\n",
       "      <td>28.000000</td>\n",
       "      <td>14.454200</td>\n",
       "    </tr>\n",
       "    <tr>\n",
       "      <th>75%</th>\n",
       "      <td>38.000000</td>\n",
       "      <td>31.000000</td>\n",
       "    </tr>\n",
       "    <tr>\n",
       "      <th>max</th>\n",
       "      <td>80.000000</td>\n",
       "      <td>512.329200</td>\n",
       "    </tr>\n",
       "  </tbody>\n",
       "</table>\n",
       "</div>"
      ],
      "text/plain": [
       "              Age        Fare\n",
       "count  714.000000  891.000000\n",
       "mean    29.699118   32.204208\n",
       "std     14.526497   49.693429\n",
       "min      0.420000    0.000000\n",
       "25%     20.125000    7.910400\n",
       "50%     28.000000   14.454200\n",
       "75%     38.000000   31.000000\n",
       "max     80.000000  512.329200"
      ]
     },
     "execution_count": 27,
     "metadata": {},
     "output_type": "execute_result"
    }
   ],
   "source": [
    "# df[[cl(s)]].describe(); 컬럼별 요약통계\n",
    "titanic[['Age', 'Fare']].describe()"
   ]
  },
  {
   "cell_type": "code",
   "execution_count": 28,
   "id": "95abd1d6",
   "metadata": {},
   "outputs": [
    {
     "data": {
      "text/html": [
       "<div>\n",
       "<style scoped>\n",
       "    .dataframe tbody tr th:only-of-type {\n",
       "        vertical-align: middle;\n",
       "    }\n",
       "\n",
       "    .dataframe tbody tr th {\n",
       "        vertical-align: top;\n",
       "    }\n",
       "\n",
       "    .dataframe thead th {\n",
       "        text-align: right;\n",
       "    }\n",
       "</style>\n",
       "<table border=\"1\" class=\"dataframe\">\n",
       "  <thead>\n",
       "    <tr style=\"text-align: right;\">\n",
       "      <th></th>\n",
       "      <th>Age</th>\n",
       "      <th>Fare</th>\n",
       "    </tr>\n",
       "  </thead>\n",
       "  <tbody>\n",
       "    <tr>\n",
       "      <th>count</th>\n",
       "      <td>714.000000</td>\n",
       "      <td>891.000000</td>\n",
       "    </tr>\n",
       "    <tr>\n",
       "      <th>mean</th>\n",
       "      <td>29.699118</td>\n",
       "      <td>32.204208</td>\n",
       "    </tr>\n",
       "    <tr>\n",
       "      <th>max</th>\n",
       "      <td>80.000000</td>\n",
       "      <td>512.329200</td>\n",
       "    </tr>\n",
       "    <tr>\n",
       "      <th>median</th>\n",
       "      <td>NaN</td>\n",
       "      <td>14.454200</td>\n",
       "    </tr>\n",
       "  </tbody>\n",
       "</table>\n",
       "</div>"
      ],
      "text/plain": [
       "               Age        Fare\n",
       "count   714.000000  891.000000\n",
       "mean     29.699118   32.204208\n",
       "max      80.000000  512.329200\n",
       "median         NaN   14.454200"
      ]
     },
     "execution_count": 28,
     "metadata": {},
     "output_type": "execute_result"
    }
   ],
   "source": [
    "# 컬럼별 특정 통계값 비교; df.agg({cl1:[...], cl2:[...], ...})\n",
    "titanic.agg({'Age':['count', 'mean', 'max'],\n",
    "             'Fare':['count', 'mean', 'max', 'median']\n",
    "            }\n",
    "           )"
   ]
  },
  {
   "cell_type": "code",
   "execution_count": 29,
   "id": "ed61add6",
   "metadata": {},
   "outputs": [
    {
     "name": "stdout",
     "output_type": "stream",
     "text": [
      "              Age\n",
      "Sex              \n",
      "female  27.915709\n",
      "male    30.726645\n",
      "        PassengerId  Survived    Pclass        Age     SibSp     Parch  \\\n",
      "Sex                                                                      \n",
      "female   431.028662  0.742038  2.159236  27.915709  0.694268  0.649682   \n",
      "male     454.147314  0.188908  2.389948  30.726645  0.429809  0.235702   \n",
      "\n",
      "             Fare  \n",
      "Sex                \n",
      "female  44.479818  \n",
      "male    25.523893  \n",
      "Sex\n",
      "female    27.915709\n",
      "male      30.726645\n",
      "Name: Age, dtype: float64\n",
      "Sex     Pclass\n",
      "female  1         106.125798\n",
      "        2          21.970121\n",
      "        3          16.118810\n",
      "male    1          67.226127\n",
      "        2          19.741782\n",
      "        3          12.661633\n",
      "Name: Fare, dtype: float64\n"
     ]
    }
   ],
   "source": [
    "# df.groupby(); 그룹화\n",
    "# df[[그룹화대상_cl(s)]].groupby(cl).통계함수()\n",
    "print(titanic[['Sex', 'Age']].groupby('Sex').mean())\n",
    "\n",
    "# df.groupby(cl).통계함수()\n",
    "print(titanic.groupby('Sex').mean())\n",
    "\n",
    "# df.groupby(cl(s))[cl].통계함수()\n",
    "print(titanic.groupby('Sex')['Age'].mean())\n",
    "print(titanic.groupby(['Sex', 'Pclass'])['Fare'].mean())"
   ]
  },
  {
   "cell_type": "code",
   "execution_count": 30,
   "id": "2445b32b",
   "metadata": {},
   "outputs": [
    {
     "data": {
      "text/plain": [
       "3    491\n",
       "1    216\n",
       "2    184\n",
       "Name: Pclass, dtype: int64"
      ]
     },
     "execution_count": 30,
     "metadata": {},
     "output_type": "execute_result"
    }
   ],
   "source": [
    "# df[cl].value_counts(); 카테고리하여 값별로 세기\n",
    "titanic['Pclass'].value_counts()"
   ]
  },
  {
   "cell_type": "code",
   "execution_count": 31,
   "id": "6deb5d19",
   "metadata": {},
   "outputs": [
    {
     "name": "stdout",
     "output_type": "stream",
     "text": [
      "     PassengerId  Survived  Pclass                             Name     Sex  \\\n",
      "803          804         1       3  Thomas, Master. Assad Alexander    male   \n",
      "755          756         1       2        Hamalainen, Master. Viljo    male   \n",
      "644          645         1       3           Baclini, Miss. Eugenie  female   \n",
      "469          470         1       3    Baclini, Miss. Helene Barbara  female   \n",
      "78            79         1       2    Caldwell, Master. Alden Gates    male   \n",
      "\n",
      "      Age  SibSp  Parch  Ticket     Fare Cabin Embarked  \n",
      "803  0.42      0      1    2625   8.5167   NaN        C  \n",
      "755  0.67      1      1  250649  14.5000   NaN        S  \n",
      "644  0.75      2      1    2666  19.2583   NaN        C  \n",
      "469  0.75      2      1    2666  19.2583   NaN        C  \n",
      "78   0.83      0      2  248738  29.0000   NaN        S  \n"
     ]
    },
    {
     "data": {
      "text/html": [
       "<div>\n",
       "<style scoped>\n",
       "    .dataframe tbody tr th:only-of-type {\n",
       "        vertical-align: middle;\n",
       "    }\n",
       "\n",
       "    .dataframe tbody tr th {\n",
       "        vertical-align: top;\n",
       "    }\n",
       "\n",
       "    .dataframe thead th {\n",
       "        text-align: right;\n",
       "    }\n",
       "</style>\n",
       "<table border=\"1\" class=\"dataframe\">\n",
       "  <thead>\n",
       "    <tr style=\"text-align: right;\">\n",
       "      <th></th>\n",
       "      <th>PassengerId</th>\n",
       "      <th>Survived</th>\n",
       "      <th>Pclass</th>\n",
       "      <th>Name</th>\n",
       "      <th>Sex</th>\n",
       "      <th>Age</th>\n",
       "      <th>SibSp</th>\n",
       "      <th>Parch</th>\n",
       "      <th>Ticket</th>\n",
       "      <th>Fare</th>\n",
       "      <th>Cabin</th>\n",
       "      <th>Embarked</th>\n",
       "    </tr>\n",
       "  </thead>\n",
       "  <tbody>\n",
       "    <tr>\n",
       "      <th>305</th>\n",
       "      <td>306</td>\n",
       "      <td>1</td>\n",
       "      <td>1</td>\n",
       "      <td>Allison, Master. Hudson Trevor</td>\n",
       "      <td>male</td>\n",
       "      <td>0.92</td>\n",
       "      <td>1</td>\n",
       "      <td>2</td>\n",
       "      <td>113781</td>\n",
       "      <td>151.5500</td>\n",
       "      <td>C22 C26</td>\n",
       "      <td>S</td>\n",
       "    </tr>\n",
       "    <tr>\n",
       "      <th>297</th>\n",
       "      <td>298</td>\n",
       "      <td>0</td>\n",
       "      <td>1</td>\n",
       "      <td>Allison, Miss. Helen Loraine</td>\n",
       "      <td>female</td>\n",
       "      <td>2.00</td>\n",
       "      <td>1</td>\n",
       "      <td>2</td>\n",
       "      <td>113781</td>\n",
       "      <td>151.5500</td>\n",
       "      <td>C22 C26</td>\n",
       "      <td>S</td>\n",
       "    </tr>\n",
       "    <tr>\n",
       "      <th>445</th>\n",
       "      <td>446</td>\n",
       "      <td>1</td>\n",
       "      <td>1</td>\n",
       "      <td>Dodge, Master. Washington</td>\n",
       "      <td>male</td>\n",
       "      <td>4.00</td>\n",
       "      <td>0</td>\n",
       "      <td>2</td>\n",
       "      <td>33638</td>\n",
       "      <td>81.8583</td>\n",
       "      <td>A34</td>\n",
       "      <td>S</td>\n",
       "    </tr>\n",
       "    <tr>\n",
       "      <th>802</th>\n",
       "      <td>803</td>\n",
       "      <td>1</td>\n",
       "      <td>1</td>\n",
       "      <td>Carter, Master. William Thornton II</td>\n",
       "      <td>male</td>\n",
       "      <td>11.00</td>\n",
       "      <td>1</td>\n",
       "      <td>2</td>\n",
       "      <td>113760</td>\n",
       "      <td>120.0000</td>\n",
       "      <td>B96 B98</td>\n",
       "      <td>S</td>\n",
       "    </tr>\n",
       "    <tr>\n",
       "      <th>435</th>\n",
       "      <td>436</td>\n",
       "      <td>1</td>\n",
       "      <td>1</td>\n",
       "      <td>Carter, Miss. Lucile Polk</td>\n",
       "      <td>female</td>\n",
       "      <td>14.00</td>\n",
       "      <td>1</td>\n",
       "      <td>2</td>\n",
       "      <td>113760</td>\n",
       "      <td>120.0000</td>\n",
       "      <td>B96 B98</td>\n",
       "      <td>S</td>\n",
       "    </tr>\n",
       "  </tbody>\n",
       "</table>\n",
       "</div>"
      ],
      "text/plain": [
       "     PassengerId  Survived  Pclass                                 Name  \\\n",
       "305          306         1       1       Allison, Master. Hudson Trevor   \n",
       "297          298         0       1         Allison, Miss. Helen Loraine   \n",
       "445          446         1       1            Dodge, Master. Washington   \n",
       "802          803         1       1  Carter, Master. William Thornton II   \n",
       "435          436         1       1            Carter, Miss. Lucile Polk   \n",
       "\n",
       "        Sex    Age  SibSp  Parch  Ticket      Fare    Cabin Embarked  \n",
       "305    male   0.92      1      2  113781  151.5500  C22 C26        S  \n",
       "297  female   2.00      1      2  113781  151.5500  C22 C26        S  \n",
       "445    male   4.00      0      2   33638   81.8583      A34        S  \n",
       "802    male  11.00      1      2  113760  120.0000  B96 B98        S  \n",
       "435  female  14.00      1      2  113760  120.0000  B96 B98        S  "
      ]
     },
     "execution_count": 31,
     "metadata": {},
     "output_type": "execute_result"
    }
   ],
   "source": [
    "# df.sort_values(by=cl); 컬럼 단위 정렬\n",
    "print(titanic.sort_values(by='Age').head())\n",
    "\n",
    "# df.sort_values(by=[cl(s)], ascending=False); 여러 컬럼 내림차순\n",
    "titanic.sort_values(by=['Pclass', 'Age']).head()"
   ]
  },
  {
   "cell_type": "code",
   "execution_count": 32,
   "id": "6a3b56ea",
   "metadata": {},
   "outputs": [
    {
     "name": "stdout",
     "output_type": "stream",
     "text": [
      "                                city country            location parameter  \\\n",
      "date.utc                                                                     \n",
      "2019-04-09 01:00:00+00:00  Antwerpen      BE             BETR801       no2   \n",
      "2019-04-09 01:00:00+00:00      Paris      FR             FR04014       no2   \n",
      "2019-04-09 02:00:00+00:00     London      GB  London Westminster       no2   \n",
      "2019-04-09 02:00:00+00:00  Antwerpen      BE             BETR801       no2   \n",
      "2019-04-09 02:00:00+00:00      Paris      FR             FR04014       no2   \n",
      "2019-04-09 03:00:00+00:00  Antwerpen      BE             BETR801       no2   \n",
      "2019-04-09 03:00:00+00:00     London      GB  London Westminster       no2   \n",
      "2019-04-09 03:00:00+00:00      Paris      FR             FR04014       no2   \n",
      "2019-04-09 04:00:00+00:00  Antwerpen      BE             BETR801       no2   \n",
      "2019-04-09 04:00:00+00:00      Paris      FR             FR04014       no2   \n",
      "2019-04-09 04:00:00+00:00     London      GB  London Westminster       no2   \n",
      "2019-04-09 05:00:00+00:00      Paris      FR             FR04014       no2   \n",
      "2019-04-09 05:00:00+00:00  Antwerpen      BE             BETR801       no2   \n",
      "2019-04-09 05:00:00+00:00     London      GB  London Westminster       no2   \n",
      "2019-04-09 06:00:00+00:00     London      GB  London Westminster       no2   \n",
      "\n",
      "                           value   unit  \n",
      "date.utc                                 \n",
      "2019-04-09 01:00:00+00:00   22.5  µg/m³  \n",
      "2019-04-09 01:00:00+00:00   24.4  µg/m³  \n",
      "2019-04-09 02:00:00+00:00   67.0  µg/m³  \n",
      "2019-04-09 02:00:00+00:00   53.5  µg/m³  \n",
      "2019-04-09 02:00:00+00:00   27.4  µg/m³  \n",
      "2019-04-09 03:00:00+00:00   54.5  µg/m³  \n",
      "2019-04-09 03:00:00+00:00   67.0  µg/m³  \n",
      "2019-04-09 03:00:00+00:00   34.2  µg/m³  \n",
      "2019-04-09 04:00:00+00:00   34.5  µg/m³  \n",
      "2019-04-09 04:00:00+00:00   48.5  µg/m³  \n",
      "2019-04-09 04:00:00+00:00   41.0  µg/m³  \n",
      "2019-04-09 05:00:00+00:00   59.5  µg/m³  \n",
      "2019-04-09 05:00:00+00:00   46.5  µg/m³  \n",
      "2019-04-09 05:00:00+00:00   41.0  µg/m³  \n",
      "2019-04-09 06:00:00+00:00   41.0  µg/m³  \n",
      "location                   BETR801  FR04014  London Westminster\n",
      "date.utc                                                       \n",
      "2019-04-09 01:00:00+00:00     22.5     24.4                 NaN\n",
      "2019-04-09 02:00:00+00:00     53.5     27.4                67.0\n",
      "2019-04-09 03:00:00+00:00     54.5     34.2                67.0\n",
      "2019-04-09 04:00:00+00:00     34.5     48.5                41.0\n",
      "2019-04-09 05:00:00+00:00     46.5     59.5                41.0\n",
      "2019-04-09 06:00:00+00:00      NaN      NaN                41.0\n",
      "AxesSubplot(0.125,0.2;0.775x0.68)\n"
     ]
    },
    {
     "data": {
      "image/png": "[encoded data removed]",
      "text/plain": [
       "<Figure size 432x288 with 1 Axes>"
      ]
     },
     "metadata": {
      "needs_background": "light"
     },
     "output_type": "display_data"
    }
   ],
   "source": [
    "# pivot\n",
    "air_quality = pd.read_csv('https://raw.githubusercontent.com/pandas-dev/pandas/master/doc/data/air_quality_long.csv',\n",
    "                         index_col='date.utc', parse_dates=True)\n",
    "# index_col; 인덱스 컬럼 지정\n",
    "\n",
    "# 1. no2 필터링\n",
    "no2 = air_quality[air_quality['parameter'] == 'no2']\n",
    "\n",
    "# 2. 인덱스별로 정렬하여 location 그룹화\n",
    "no2_subset = no2.sort_index().groupby(['location']).head()\n",
    "print(no2_subset)\n",
    "\n",
    "# 3. df.pivot(columns=cl, values=vl) pivot화\n",
    "no2_subset_pivot =  no2_subset.pivot(columns='location', values='value')\n",
    "print(no2_subset_pivot)\n",
    "print(no2.pivot(columns='location', values='value').plot())"
   ]
  },
  {
   "cell_type": "code",
   "execution_count": 33,
   "id": "1f84ac65",
   "metadata": {},
   "outputs": [
    {
     "name": "stdout",
     "output_type": "stream",
     "text": [
      "parameter                 no2       pm25\n",
      "location                                \n",
      "BETR801             26.950920  23.169492\n",
      "FR04014             29.374284        NaN\n",
      "London Westminster  29.740050  13.443568\n",
      "parameter                 no2       pm25        All\n",
      "location                                           \n",
      "BETR801             26.950920  23.169492  24.982353\n",
      "FR04014             29.374284        NaN  29.374284\n",
      "London Westminster  29.740050  13.443568  21.491708\n",
      "All                 29.430316  14.386849  24.222743\n",
      "                                  value\n",
      "parameter location                     \n",
      "no2       BETR801             26.950920\n",
      "          FR04014             29.374284\n",
      "          London Westminster  29.740050\n",
      "pm25      BETR801             23.169492\n",
      "          London Westminster  13.443568\n"
     ]
    }
   ],
   "source": [
    "# pivot table; pivot에 통계함수가 필요할 때\n",
    "# df.pivot_table(values=cl1, index=cl2, columns=cl3, aggfunc=func)\n",
    "print(air_quality.pivot_table(values='value',\n",
    "                              index='location',\n",
    "                              columns='parameter',\n",
    "                              aggfunc='mean'\n",
    "                             ))\n",
    "# margins=True; 통계함수들의 전체값도 필요할 때\n",
    "print(air_quality.pivot_table(values='value',\n",
    "                              index='location',\n",
    "                              columns='parameter',\n",
    "                              aggfunc='mean',\n",
    "                              margins=True\n",
    "                             ))\n",
    "\n",
    "# groupby도 유사\n",
    "print(air_quality.groupby([\"parameter\", \"location\"]).mean())"
   ]
  },
  {
   "cell_type": "code",
   "execution_count": 34,
   "id": "d638d8a6",
   "metadata": {},
   "outputs": [
    {
     "name": "stdout",
     "output_type": "stream",
     "text": [
      "location                  date.utc  BETR801  FR04014  London Westminster\n",
      "0        2019-04-09 01:00:00+00:00     22.5     24.4                 NaN\n",
      "1        2019-04-09 02:00:00+00:00     53.5     27.4                67.0\n",
      "2        2019-04-09 03:00:00+00:00     54.5     34.2                67.0\n",
      "3        2019-04-09 04:00:00+00:00     34.5     48.5                41.0\n",
      "4        2019-04-09 05:00:00+00:00     46.5     59.5                41.0\n",
      "...                            ...      ...      ...                 ...\n",
      "1700     2019-06-20 20:00:00+00:00      NaN     21.4                 NaN\n",
      "1701     2019-06-20 21:00:00+00:00      NaN     24.9                 NaN\n",
      "1702     2019-06-20 22:00:00+00:00      NaN     26.5                 NaN\n",
      "1703     2019-06-20 23:00:00+00:00      NaN     21.8                 NaN\n",
      "1704     2019-06-21 00:00:00+00:00      NaN     20.0                 NaN\n",
      "\n",
      "[1705 rows x 4 columns]\n",
      "                      date.utc         id_location  NO_2\n",
      "0    2019-04-09 01:00:00+00:00             BETR801  22.5\n",
      "1    2019-04-09 02:00:00+00:00             BETR801  53.5\n",
      "2    2019-04-09 03:00:00+00:00             BETR801  54.5\n",
      "3    2019-04-09 04:00:00+00:00             BETR801  34.5\n",
      "4    2019-04-09 05:00:00+00:00             BETR801  46.5\n",
      "...                        ...                 ...   ...\n",
      "5110 2019-06-20 20:00:00+00:00  London Westminster   NaN\n",
      "5111 2019-06-20 21:00:00+00:00  London Westminster   NaN\n",
      "5112 2019-06-20 22:00:00+00:00  London Westminster   NaN\n",
      "5113 2019-06-20 23:00:00+00:00  London Westminster   NaN\n",
      "5114 2019-06-21 00:00:00+00:00  London Westminster   NaN\n",
      "\n",
      "[5115 rows x 3 columns]\n"
     ]
    }
   ],
   "source": [
    "# 역pivot\n",
    "no2_pivoted = no2.pivot(columns='location', values='value').reset_index()\n",
    "print(no2_pivoted)\n",
    "\n",
    "# df.melt(id_vars=, value_vars=, value_name=, var_name=)\n",
    "# value_vars; 피벗에서 컬럼화된 변수를 다시 변수화\n",
    "# value_name; 값의 컬럼명\n",
    "# var_name; 컬럼화된 변수의 컬럼명\n",
    "no_2 = no2_pivoted.melt(id_vars='date.utc',\n",
    "                        value_vars=['BETR801', 'FR04014', 'London Westminster'],\n",
    "                        value_name='NO_2',\n",
    "                        var_name='id_location'\n",
    "                       )\n",
    "print(no_2)"
   ]
  },
  {
   "cell_type": "code",
   "execution_count": 37,
   "id": "51589f7e",
   "metadata": {},
   "outputs": [
    {
     "name": "stdout",
     "output_type": "stream",
     "text": [
      "                    date.utc location parameter  value\n",
      "0  2019-06-21 00:00:00+00:00  FR04014       no2   20.0\n",
      "1  2019-06-20 23:00:00+00:00  FR04014       no2   21.8\n",
      "2  2019-06-20 22:00:00+00:00  FR04014       no2   26.5\n",
      "3  2019-06-20 21:00:00+00:00  FR04014       no2   24.9\n",
      "4  2019-06-20 20:00:00+00:00  FR04014       no2   21.4\n"
     ]
    },
    {
     "ename": "ParserError",
     "evalue": "Error tokenizing data. C error: Expected 1 fields in line 74, saw 4\n",
     "output_type": "error",
     "traceback": [
      "\u001b[1;31m---------------------------------------------------------------------------\u001b[0m",
      "\u001b[1;31mParserError\u001b[0m                               Traceback (most recent call last)",
      "\u001b[1;32m<ipython-input-37-08f38a8415d8>\u001b[0m in \u001b[0;36m<module>\u001b[1;34m\u001b[0m\n\u001b[0;32m      6\u001b[0m \u001b[0mprint\u001b[0m\u001b[1;33m(\u001b[0m\u001b[0mair_quality_no2\u001b[0m\u001b[1;33m.\u001b[0m\u001b[0mhead\u001b[0m\u001b[1;33m(\u001b[0m\u001b[1;33m)\u001b[0m\u001b[1;33m)\u001b[0m\u001b[1;33m\u001b[0m\u001b[1;33m\u001b[0m\u001b[0m\n\u001b[0;32m      7\u001b[0m \u001b[1;33m\u001b[0m\u001b[0m\n\u001b[1;32m----> 8\u001b[1;33m air_quality_pm25 = pd.read_csv(\"https://github.com/pandas-dev/pandas/blob/master/doc/data/air_quality_pm25_long.csv\",\n\u001b[0m\u001b[0;32m      9\u001b[0m                                parse_dates=True)\n\u001b[0;32m     10\u001b[0m \u001b[1;31m# air_quality_pm25 = air_quality_pm25[[\"date.utc\", \"location\", \"parameter\", \"value\"]]\u001b[0m\u001b[1;33m\u001b[0m\u001b[1;33m\u001b[0m\u001b[1;33m\u001b[0m\u001b[0m\n",
      "\u001b[1;32m~\\anaconda3\\lib\\site-packages\\pandas\\io\\parsers.py\u001b[0m in \u001b[0;36mread_csv\u001b[1;34m(filepath_or_buffer, sep, delimiter, header, names, index_col, usecols, squeeze, prefix, mangle_dupe_cols, dtype, engine, converters, true_values, false_values, skipinitialspace, skiprows, skipfooter, nrows, na_values, keep_default_na, na_filter, verbose, skip_blank_lines, parse_dates, infer_datetime_format, keep_date_col, date_parser, dayfirst, cache_dates, iterator, chunksize, compression, thousands, decimal, lineterminator, quotechar, quoting, doublequote, escapechar, comment, encoding, dialect, error_bad_lines, warn_bad_lines, delim_whitespace, low_memory, memory_map, float_precision, storage_options)\u001b[0m\n\u001b[0;32m    608\u001b[0m     \u001b[0mkwds\u001b[0m\u001b[1;33m.\u001b[0m\u001b[0mupdate\u001b[0m\u001b[1;33m(\u001b[0m\u001b[0mkwds_defaults\u001b[0m\u001b[1;33m)\u001b[0m\u001b[1;33m\u001b[0m\u001b[1;33m\u001b[0m\u001b[0m\n\u001b[0;32m    609\u001b[0m \u001b[1;33m\u001b[0m\u001b[0m\n\u001b[1;32m--> 610\u001b[1;33m     \u001b[1;32mreturn\u001b[0m \u001b[0m_read\u001b[0m\u001b[1;33m(\u001b[0m\u001b[0mfilepath_or_buffer\u001b[0m\u001b[1;33m,\u001b[0m \u001b[0mkwds\u001b[0m\u001b[1;33m)\u001b[0m\u001b[1;33m\u001b[0m\u001b[1;33m\u001b[0m\u001b[0m\n\u001b[0m\u001b[0;32m    611\u001b[0m \u001b[1;33m\u001b[0m\u001b[0m\n\u001b[0;32m    612\u001b[0m \u001b[1;33m\u001b[0m\u001b[0m\n",
      "\u001b[1;32m~\\anaconda3\\lib\\site-packages\\pandas\\io\\parsers.py\u001b[0m in \u001b[0;36m_read\u001b[1;34m(filepath_or_buffer, kwds)\u001b[0m\n\u001b[0;32m    466\u001b[0m \u001b[1;33m\u001b[0m\u001b[0m\n\u001b[0;32m    467\u001b[0m     \u001b[1;32mwith\u001b[0m \u001b[0mparser\u001b[0m\u001b[1;33m:\u001b[0m\u001b[1;33m\u001b[0m\u001b[1;33m\u001b[0m\u001b[0m\n\u001b[1;32m--> 468\u001b[1;33m         \u001b[1;32mreturn\u001b[0m \u001b[0mparser\u001b[0m\u001b[1;33m.\u001b[0m\u001b[0mread\u001b[0m\u001b[1;33m(\u001b[0m\u001b[0mnrows\u001b[0m\u001b[1;33m)\u001b[0m\u001b[1;33m\u001b[0m\u001b[1;33m\u001b[0m\u001b[0m\n\u001b[0m\u001b[0;32m    469\u001b[0m \u001b[1;33m\u001b[0m\u001b[0m\n\u001b[0;32m    470\u001b[0m \u001b[1;33m\u001b[0m\u001b[0m\n",
      "\u001b[1;32m~\\anaconda3\\lib\\site-packages\\pandas\\io\\parsers.py\u001b[0m in \u001b[0;36mread\u001b[1;34m(self, nrows)\u001b[0m\n\u001b[0;32m   1055\u001b[0m     \u001b[1;32mdef\u001b[0m \u001b[0mread\u001b[0m\u001b[1;33m(\u001b[0m\u001b[0mself\u001b[0m\u001b[1;33m,\u001b[0m \u001b[0mnrows\u001b[0m\u001b[1;33m=\u001b[0m\u001b[1;32mNone\u001b[0m\u001b[1;33m)\u001b[0m\u001b[1;33m:\u001b[0m\u001b[1;33m\u001b[0m\u001b[1;33m\u001b[0m\u001b[0m\n\u001b[0;32m   1056\u001b[0m         \u001b[0mnrows\u001b[0m \u001b[1;33m=\u001b[0m \u001b[0mvalidate_integer\u001b[0m\u001b[1;33m(\u001b[0m\u001b[1;34m\"nrows\"\u001b[0m\u001b[1;33m,\u001b[0m \u001b[0mnrows\u001b[0m\u001b[1;33m)\u001b[0m\u001b[1;33m\u001b[0m\u001b[1;33m\u001b[0m\u001b[0m\n\u001b[1;32m-> 1057\u001b[1;33m         \u001b[0mindex\u001b[0m\u001b[1;33m,\u001b[0m \u001b[0mcolumns\u001b[0m\u001b[1;33m,\u001b[0m \u001b[0mcol_dict\u001b[0m \u001b[1;33m=\u001b[0m \u001b[0mself\u001b[0m\u001b[1;33m.\u001b[0m\u001b[0m_engine\u001b[0m\u001b[1;33m.\u001b[0m\u001b[0mread\u001b[0m\u001b[1;33m(\u001b[0m\u001b[0mnrows\u001b[0m\u001b[1;33m)\u001b[0m\u001b[1;33m\u001b[0m\u001b[1;33m\u001b[0m\u001b[0m\n\u001b[0m\u001b[0;32m   1058\u001b[0m \u001b[1;33m\u001b[0m\u001b[0m\n\u001b[0;32m   1059\u001b[0m         \u001b[1;32mif\u001b[0m \u001b[0mindex\u001b[0m \u001b[1;32mis\u001b[0m \u001b[1;32mNone\u001b[0m\u001b[1;33m:\u001b[0m\u001b[1;33m\u001b[0m\u001b[1;33m\u001b[0m\u001b[0m\n",
      "\u001b[1;32m~\\anaconda3\\lib\\site-packages\\pandas\\io\\parsers.py\u001b[0m in \u001b[0;36mread\u001b[1;34m(self, nrows)\u001b[0m\n\u001b[0;32m   2059\u001b[0m     \u001b[1;32mdef\u001b[0m \u001b[0mread\u001b[0m\u001b[1;33m(\u001b[0m\u001b[0mself\u001b[0m\u001b[1;33m,\u001b[0m \u001b[0mnrows\u001b[0m\u001b[1;33m=\u001b[0m\u001b[1;32mNone\u001b[0m\u001b[1;33m)\u001b[0m\u001b[1;33m:\u001b[0m\u001b[1;33m\u001b[0m\u001b[1;33m\u001b[0m\u001b[0m\n\u001b[0;32m   2060\u001b[0m         \u001b[1;32mtry\u001b[0m\u001b[1;33m:\u001b[0m\u001b[1;33m\u001b[0m\u001b[1;33m\u001b[0m\u001b[0m\n\u001b[1;32m-> 2061\u001b[1;33m             \u001b[0mdata\u001b[0m \u001b[1;33m=\u001b[0m \u001b[0mself\u001b[0m\u001b[1;33m.\u001b[0m\u001b[0m_reader\u001b[0m\u001b[1;33m.\u001b[0m\u001b[0mread\u001b[0m\u001b[1;33m(\u001b[0m\u001b[0mnrows\u001b[0m\u001b[1;33m)\u001b[0m\u001b[1;33m\u001b[0m\u001b[1;33m\u001b[0m\u001b[0m\n\u001b[0m\u001b[0;32m   2062\u001b[0m         \u001b[1;32mexcept\u001b[0m \u001b[0mStopIteration\u001b[0m\u001b[1;33m:\u001b[0m\u001b[1;33m\u001b[0m\u001b[1;33m\u001b[0m\u001b[0m\n\u001b[0;32m   2063\u001b[0m             \u001b[1;32mif\u001b[0m \u001b[0mself\u001b[0m\u001b[1;33m.\u001b[0m\u001b[0m_first_chunk\u001b[0m\u001b[1;33m:\u001b[0m\u001b[1;33m\u001b[0m\u001b[1;33m\u001b[0m\u001b[0m\n",
      "\u001b[1;32mpandas\\_libs\\parsers.pyx\u001b[0m in \u001b[0;36mpandas._libs.parsers.TextReader.read\u001b[1;34m()\u001b[0m\n",
      "\u001b[1;32mpandas\\_libs\\parsers.pyx\u001b[0m in \u001b[0;36mpandas._libs.parsers.TextReader._read_low_memory\u001b[1;34m()\u001b[0m\n",
      "\u001b[1;32mpandas\\_libs\\parsers.pyx\u001b[0m in \u001b[0;36mpandas._libs.parsers.TextReader._read_rows\u001b[1;34m()\u001b[0m\n",
      "\u001b[1;32mpandas\\_libs\\parsers.pyx\u001b[0m in \u001b[0;36mpandas._libs.parsers.TextReader._tokenize_rows\u001b[1;34m()\u001b[0m\n",
      "\u001b[1;32mpandas\\_libs\\parsers.pyx\u001b[0m in \u001b[0;36mpandas._libs.parsers.raise_parser_error\u001b[1;34m()\u001b[0m\n",
      "\u001b[1;31mParserError\u001b[0m: Error tokenizing data. C error: Expected 1 fields in line 74, saw 4\n"
     ]
    }
   ],
   "source": [
    "# 테이블 결합\n",
    "\n",
    "air_quality_no2 = pd.read_csv(\"https://raw.githubusercontent.com/pandas-dev/pandas/master/doc/data/air_quality_no2_long.csv\",\n",
    "                              parse_dates=True)\n",
    "air_quality_no2 = air_quality_no2[[\"date.utc\", \"location\", \"parameter\", \"value\"]]\n",
    "print(air_quality_no2.head())\n",
    "\n",
    "air_quality_pm25 = pd.read_csv(\"https://github.com/pandas-dev/pandas/blob/master/doc/data/air_quality_pm25_long.csv\",\n",
    "                               parse_dates=True)\n",
    "# air_quality_pm25 = air_quality_pm25[[\"date.utc\", \"location\", \"parameter\", \"value\"]]\n",
    "print(air_quality_pm25.head())\n"
   ]
  },
  {
   "cell_type": "code",
   "execution_count": null,
   "id": "f95d3821",
   "metadata": {},
   "outputs": [],
   "source": [
    "air_quality"
   ]
  },
  {
   "cell_type": "code",
   "execution_count": null,
   "id": "799ac464",
   "metadata": {},
   "outputs": [],
   "source": []
  },
  {
   "cell_type": "code",
   "execution_count": null,
   "id": "b51df3af",
   "metadata": {},
   "outputs": [],
   "source": []
  },
  {
   "cell_type": "code",
   "execution_count": null,
   "id": "04d5337a",
   "metadata": {},
   "outputs": [],
   "source": []
  },
  {
   "cell_type": "code",
   "execution_count": null,
   "id": "1351d4ee",
   "metadata": {},
   "outputs": [],
   "source": []
  },
  {
   "cell_type": "code",
   "execution_count": null,
   "id": "4217a42c",
   "metadata": {},
   "outputs": [],
   "source": []
  },
  {
   "cell_type": "code",
   "execution_count": null,
   "id": "a2dfa498",
   "metadata": {},
   "outputs": [],
   "source": []
  }
 ],
 "metadata": {
  "kernelspec": {
   "display_name": "Python 3",
   "language": "python",
   "name": "python3"
  },
  "language_info": {
   "codemirror_mode": {
    "name": "ipython",
    "version": 3
   },
   "file_extension": ".py",
   "mimetype": "text/x-python",
   "name": "python",
   "nbconvert_exporter": "python",
   "pygments_lexer": "ipython3",
   "version": "3.8.8"
  }
 },
 "nbformat": 4,
 "nbformat_minor": 5
}
