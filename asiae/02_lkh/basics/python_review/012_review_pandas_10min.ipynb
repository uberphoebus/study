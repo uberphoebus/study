{
 "cells": [
  {
   "cell_type": "markdown",
   "id": "fef4903c",
   "metadata": {},
   "source": [
    "# <10 minutes to pandas>\n",
    "\n",
    "1. object creation; srs, pd\n",
    "2. viewing data; .head(), .tail(), .index, .columns, .describe(), .T, .sort_index(), .sort_values()\n",
    "3. selection; .loc[], .at[], .iloc[], .iat[], df[cond], .isin(), [selection] = values\n",
    "4. missing data; .dropna(), .fillna(), pd.isna(df)\n",
    "5. operations; .mean(), .shift(n), .apply(func), np.cumsum\n",
    "6. merge; pd.concat(), pd.merge()\n",
    "7. grouping; df.groupby().func\n",
    "8. reshaping; df.stack(), df.unstack(), pd.pivot_table()\n",
    "9. time series; df.tz_localize(), df.tz_convert(), df.to_period(), df.to_timestamp()\n",
    "10. categoricals; df[cl].astype('category'), df[cl].cat.set_categories([cat_name(s)])\n",
    "11. plotting; plt.close('all'), df.plot(), \n",
    "12. getting data in/out; df.to_csv(), pd.read_csv(), df.to_excel(). pd.read_excel()"
   ]
  },
  {
   "cell_type": "code",
   "execution_count": 1,
   "id": "9172add2",
   "metadata": {},
   "outputs": [
    {
     "name": "stdout",
     "output_type": "stream",
     "text": [
      "np ver =  1.20.1\n",
      "pd ver =  1.2.4\n"
     ]
    }
   ],
   "source": [
    "import numpy as np\n",
    "import pandas as pd\n",
    "print('np ver = ', np.__version__)\n",
    "print('pd ver = ', pd.__version__)"
   ]
  },
  {
   "cell_type": "markdown",
   "id": "50c90ac8",
   "metadata": {},
   "source": [
    "## 01 object creation"
   ]
  },
  {
   "cell_type": "code",
   "execution_count": 2,
   "id": "cfde3f3e",
   "metadata": {},
   "outputs": [
    {
     "data": {
      "text/plain": [
       "0    1.0\n",
       "1    3.0\n",
       "2    5.0\n",
       "3    NaN\n",
       "4    6.0\n",
       "5    8.0\n",
       "dtype: float64"
      ]
     },
     "execution_count": 2,
     "metadata": {},
     "output_type": "execute_result"
    }
   ],
   "source": [
    "# pd.Series([]); srs 생성\n",
    "s = pd.Series([1, 3, 5, np.nan, 6, 8])\n",
    "s # np.nan = null"
   ]
  },
  {
   "cell_type": "code",
   "execution_count": 3,
   "id": "d3d8eaa8",
   "metadata": {},
   "outputs": [
    {
     "name": "stdout",
     "output_type": "stream",
     "text": [
      "DatetimeIndex(['2013-01-01', '2013-01-02', '2013-01-03', '2013-01-04',\n",
      "               '2013-01-05', '2013-01-06'],\n",
      "              dtype='datetime64[ns]', freq='D')\n",
      "                   A         B         C         D\n",
      "2013-01-01 -1.040681 -0.423805  0.767968 -1.071810\n",
      "2013-01-02  0.394346  1.337564  0.494293  0.031408\n",
      "2013-01-03 -0.050594  2.065219 -1.782539  1.281748\n",
      "2013-01-04  0.424216 -0.491945 -1.436305  0.511306\n",
      "2013-01-05  1.681108 -0.038216  0.824232  1.712796\n",
      "2013-01-06 -1.111114 -1.919108 -0.860147 -1.696951\n",
      "     A          B    C  D      E    F\n",
      "0  1.0 2013-01-02  1.0  3   test  foo\n",
      "1  1.0 2013-01-02  1.0  3  train  foo\n",
      "2  1.0 2013-01-02  1.0  3   test  foo\n",
      "3  1.0 2013-01-02  1.0  3  train  foo\n"
     ]
    }
   ],
   "source": [
    "# pd.DataFrame((data=, index=, columns=); pd 생성\n",
    "dates = pd.date_range('20130101', periods=6)\n",
    "print(dates) # pd.date_range(start, periods=n, freq='a'); freq는 d, w, m\n",
    "\n",
    "# pd.DataFrame(data=, index=, columns=)\n",
    "df = pd.DataFrame(np.random.randn(6, 4),\n",
    "                  index=dates,\n",
    "                  columns=list('ABCD')\n",
    "                 )\n",
    "print(df) # np.random.randn(..., c, b, a); 난수 생성(0축 a, 1축 b, ...)\n",
    "\n",
    "# dict로 df 구성\n",
    "df2 = pd.DataFrame({\"A\": 1.0,\n",
    "                    \"B\": pd.Timestamp(\"20130102\"),\n",
    "                    \"C\": pd.Series(1, index=list(range(4)), dtype=\"float32\"),\n",
    "                    \"D\": np.array([3] * 4, dtype=\"int32\"),\n",
    "                    \"E\": pd.Categorical([\"test\", \"train\", \"test\", \"train\"]),\n",
    "                    \"F\": \"foo\",\n",
    "                   })\n",
    "print(df2)"
   ]
  },
  {
   "cell_type": "markdown",
   "id": "b366b9d9",
   "metadata": {},
   "source": [
    "## 02 viewing data"
   ]
  },
  {
   "cell_type": "code",
   "execution_count": 4,
   "id": "f6bd2b20",
   "metadata": {},
   "outputs": [
    {
     "name": "stdout",
     "output_type": "stream",
     "text": [
      "                   A         B         C         D\n",
      "2013-01-01 -1.040681 -0.423805  0.767968 -1.071810\n",
      "2013-01-02  0.394346  1.337564  0.494293  0.031408\n",
      "2013-01-03 -0.050594  2.065219 -1.782539  1.281748\n",
      "2013-01-04  0.424216 -0.491945 -1.436305  0.511306\n",
      "2013-01-05  1.681108 -0.038216  0.824232  1.712796\n",
      "                   A         B         C         D\n",
      "2013-01-02  0.394346  1.337564  0.494293  0.031408\n",
      "2013-01-03 -0.050594  2.065219 -1.782539  1.281748\n",
      "2013-01-04  0.424216 -0.491945 -1.436305  0.511306\n",
      "2013-01-05  1.681108 -0.038216  0.824232  1.712796\n",
      "2013-01-06 -1.111114 -1.919108 -0.860147 -1.696951\n",
      "DatetimeIndex(['2013-01-01', '2013-01-02', '2013-01-03', '2013-01-04',\n",
      "               '2013-01-05', '2013-01-06'],\n",
      "              dtype='datetime64[ns]', freq='D')\n",
      "Index(['A', 'B', 'C', 'D'], dtype='object')\n"
     ]
    }
   ],
   "source": [
    "# .head(), .tail(), .index, .columns\n",
    "print(df.head()); print(df.tail()); print(df.index); print(df.columns)"
   ]
  },
  {
   "cell_type": "code",
   "execution_count": 5,
   "id": "0aae6a98",
   "metadata": {},
   "outputs": [
    {
     "name": "stdout",
     "output_type": "stream",
     "text": [
      "[[-1.04068121 -0.42380534  0.76796849 -1.07181029]\n",
      " [ 0.3943463   1.33756369  0.49429259  0.0314078 ]\n",
      " [-0.05059353  2.0652191  -1.78253935  1.28174774]\n",
      " [ 0.42421631 -0.49194486 -1.43630453  0.51130643]\n",
      " [ 1.68110811 -0.03821583  0.82423206  1.71279584]\n",
      " [-1.11111365 -1.9191084  -0.86014679 -1.69695126]]\n",
      "[[1.0 Timestamp('2013-01-02 00:00:00') 1.0 3 'test' 'foo']\n",
      " [1.0 Timestamp('2013-01-02 00:00:00') 1.0 3 'train' 'foo']\n",
      " [1.0 Timestamp('2013-01-02 00:00:00') 1.0 3 'test' 'foo']\n",
      " [1.0 Timestamp('2013-01-02 00:00:00') 1.0 3 'train' 'foo']]\n"
     ]
    }
   ],
   "source": [
    "# df.to_numpy(); df로 arr 구성\n",
    "print(df.to_numpy())\n",
    "print(df2.to_numpy())"
   ]
  },
  {
   "cell_type": "code",
   "execution_count": 6,
   "id": "f0712008",
   "metadata": {},
   "outputs": [
    {
     "data": {
      "text/html": [
       "<div>\n",
       "<style scoped>\n",
       "    .dataframe tbody tr th:only-of-type {\n",
       "        vertical-align: middle;\n",
       "    }\n",
       "\n",
       "    .dataframe tbody tr th {\n",
       "        vertical-align: top;\n",
       "    }\n",
       "\n",
       "    .dataframe thead th {\n",
       "        text-align: right;\n",
       "    }\n",
       "</style>\n",
       "<table border=\"1\" class=\"dataframe\">\n",
       "  <thead>\n",
       "    <tr style=\"text-align: right;\">\n",
       "      <th></th>\n",
       "      <th>A</th>\n",
       "      <th>B</th>\n",
       "      <th>C</th>\n",
       "      <th>D</th>\n",
       "    </tr>\n",
       "  </thead>\n",
       "  <tbody>\n",
       "    <tr>\n",
       "      <th>count</th>\n",
       "      <td>6.000000</td>\n",
       "      <td>6.000000</td>\n",
       "      <td>6.000000</td>\n",
       "      <td>6.000000</td>\n",
       "    </tr>\n",
       "    <tr>\n",
       "      <th>mean</th>\n",
       "      <td>0.049547</td>\n",
       "      <td>0.088285</td>\n",
       "      <td>-0.332083</td>\n",
       "      <td>0.128083</td>\n",
       "    </tr>\n",
       "    <tr>\n",
       "      <th>std</th>\n",
       "      <td>1.045659</td>\n",
       "      <td>1.422217</td>\n",
       "      <td>1.168936</td>\n",
       "      <td>1.324308</td>\n",
       "    </tr>\n",
       "    <tr>\n",
       "      <th>min</th>\n",
       "      <td>-1.111114</td>\n",
       "      <td>-1.919108</td>\n",
       "      <td>-1.782539</td>\n",
       "      <td>-1.696951</td>\n",
       "    </tr>\n",
       "    <tr>\n",
       "      <th>25%</th>\n",
       "      <td>-0.793159</td>\n",
       "      <td>-0.474910</td>\n",
       "      <td>-1.292265</td>\n",
       "      <td>-0.796006</td>\n",
       "    </tr>\n",
       "    <tr>\n",
       "      <th>50%</th>\n",
       "      <td>0.171876</td>\n",
       "      <td>-0.231011</td>\n",
       "      <td>-0.182927</td>\n",
       "      <td>0.271357</td>\n",
       "    </tr>\n",
       "    <tr>\n",
       "      <th>75%</th>\n",
       "      <td>0.416749</td>\n",
       "      <td>0.993619</td>\n",
       "      <td>0.699550</td>\n",
       "      <td>1.089137</td>\n",
       "    </tr>\n",
       "    <tr>\n",
       "      <th>max</th>\n",
       "      <td>1.681108</td>\n",
       "      <td>2.065219</td>\n",
       "      <td>0.824232</td>\n",
       "      <td>1.712796</td>\n",
       "    </tr>\n",
       "  </tbody>\n",
       "</table>\n",
       "</div>"
      ],
      "text/plain": [
       "              A         B         C         D\n",
       "count  6.000000  6.000000  6.000000  6.000000\n",
       "mean   0.049547  0.088285 -0.332083  0.128083\n",
       "std    1.045659  1.422217  1.168936  1.324308\n",
       "min   -1.111114 -1.919108 -1.782539 -1.696951\n",
       "25%   -0.793159 -0.474910 -1.292265 -0.796006\n",
       "50%    0.171876 -0.231011 -0.182927  0.271357\n",
       "75%    0.416749  0.993619  0.699550  1.089137\n",
       "max    1.681108  2.065219  0.824232  1.712796"
      ]
     },
     "execution_count": 6,
     "metadata": {},
     "output_type": "execute_result"
    }
   ],
   "source": [
    "# df.describe(); 요약 통계\n",
    "df.describe()"
   ]
  },
  {
   "cell_type": "code",
   "execution_count": 7,
   "id": "bf98c1a2",
   "metadata": {},
   "outputs": [
    {
     "data": {
      "text/html": [
       "<div>\n",
       "<style scoped>\n",
       "    .dataframe tbody tr th:only-of-type {\n",
       "        vertical-align: middle;\n",
       "    }\n",
       "\n",
       "    .dataframe tbody tr th {\n",
       "        vertical-align: top;\n",
       "    }\n",
       "\n",
       "    .dataframe thead th {\n",
       "        text-align: right;\n",
       "    }\n",
       "</style>\n",
       "<table border=\"1\" class=\"dataframe\">\n",
       "  <thead>\n",
       "    <tr style=\"text-align: right;\">\n",
       "      <th></th>\n",
       "      <th>2013-01-01</th>\n",
       "      <th>2013-01-02</th>\n",
       "      <th>2013-01-03</th>\n",
       "      <th>2013-01-04</th>\n",
       "      <th>2013-01-05</th>\n",
       "      <th>2013-01-06</th>\n",
       "    </tr>\n",
       "  </thead>\n",
       "  <tbody>\n",
       "    <tr>\n",
       "      <th>A</th>\n",
       "      <td>-1.040681</td>\n",
       "      <td>0.394346</td>\n",
       "      <td>-0.050594</td>\n",
       "      <td>0.424216</td>\n",
       "      <td>1.681108</td>\n",
       "      <td>-1.111114</td>\n",
       "    </tr>\n",
       "    <tr>\n",
       "      <th>B</th>\n",
       "      <td>-0.423805</td>\n",
       "      <td>1.337564</td>\n",
       "      <td>2.065219</td>\n",
       "      <td>-0.491945</td>\n",
       "      <td>-0.038216</td>\n",
       "      <td>-1.919108</td>\n",
       "    </tr>\n",
       "    <tr>\n",
       "      <th>C</th>\n",
       "      <td>0.767968</td>\n",
       "      <td>0.494293</td>\n",
       "      <td>-1.782539</td>\n",
       "      <td>-1.436305</td>\n",
       "      <td>0.824232</td>\n",
       "      <td>-0.860147</td>\n",
       "    </tr>\n",
       "    <tr>\n",
       "      <th>D</th>\n",
       "      <td>-1.071810</td>\n",
       "      <td>0.031408</td>\n",
       "      <td>1.281748</td>\n",
       "      <td>0.511306</td>\n",
       "      <td>1.712796</td>\n",
       "      <td>-1.696951</td>\n",
       "    </tr>\n",
       "  </tbody>\n",
       "</table>\n",
       "</div>"
      ],
      "text/plain": [
       "   2013-01-01  2013-01-02  2013-01-03  2013-01-04  2013-01-05  2013-01-06\n",
       "A   -1.040681    0.394346   -0.050594    0.424216    1.681108   -1.111114\n",
       "B   -0.423805    1.337564    2.065219   -0.491945   -0.038216   -1.919108\n",
       "C    0.767968    0.494293   -1.782539   -1.436305    0.824232   -0.860147\n",
       "D   -1.071810    0.031408    1.281748    0.511306    1.712796   -1.696951"
      ]
     },
     "execution_count": 7,
     "metadata": {},
     "output_type": "execute_result"
    }
   ],
   "source": [
    "# df.T; 행/열 전환\n",
    "df.T"
   ]
  },
  {
   "cell_type": "code",
   "execution_count": 8,
   "id": "00f7034b",
   "metadata": {},
   "outputs": [
    {
     "data": {
      "text/html": [
       "<div>\n",
       "<style scoped>\n",
       "    .dataframe tbody tr th:only-of-type {\n",
       "        vertical-align: middle;\n",
       "    }\n",
       "\n",
       "    .dataframe tbody tr th {\n",
       "        vertical-align: top;\n",
       "    }\n",
       "\n",
       "    .dataframe thead th {\n",
       "        text-align: right;\n",
       "    }\n",
       "</style>\n",
       "<table border=\"1\" class=\"dataframe\">\n",
       "  <thead>\n",
       "    <tr style=\"text-align: right;\">\n",
       "      <th></th>\n",
       "      <th>D</th>\n",
       "      <th>C</th>\n",
       "      <th>B</th>\n",
       "      <th>A</th>\n",
       "    </tr>\n",
       "  </thead>\n",
       "  <tbody>\n",
       "    <tr>\n",
       "      <th>2013-01-01</th>\n",
       "      <td>-1.071810</td>\n",
       "      <td>0.767968</td>\n",
       "      <td>-0.423805</td>\n",
       "      <td>-1.040681</td>\n",
       "    </tr>\n",
       "    <tr>\n",
       "      <th>2013-01-02</th>\n",
       "      <td>0.031408</td>\n",
       "      <td>0.494293</td>\n",
       "      <td>1.337564</td>\n",
       "      <td>0.394346</td>\n",
       "    </tr>\n",
       "    <tr>\n",
       "      <th>2013-01-03</th>\n",
       "      <td>1.281748</td>\n",
       "      <td>-1.782539</td>\n",
       "      <td>2.065219</td>\n",
       "      <td>-0.050594</td>\n",
       "    </tr>\n",
       "    <tr>\n",
       "      <th>2013-01-04</th>\n",
       "      <td>0.511306</td>\n",
       "      <td>-1.436305</td>\n",
       "      <td>-0.491945</td>\n",
       "      <td>0.424216</td>\n",
       "    </tr>\n",
       "    <tr>\n",
       "      <th>2013-01-05</th>\n",
       "      <td>1.712796</td>\n",
       "      <td>0.824232</td>\n",
       "      <td>-0.038216</td>\n",
       "      <td>1.681108</td>\n",
       "    </tr>\n",
       "    <tr>\n",
       "      <th>2013-01-06</th>\n",
       "      <td>-1.696951</td>\n",
       "      <td>-0.860147</td>\n",
       "      <td>-1.919108</td>\n",
       "      <td>-1.111114</td>\n",
       "    </tr>\n",
       "  </tbody>\n",
       "</table>\n",
       "</div>"
      ],
      "text/plain": [
       "                   D         C         B         A\n",
       "2013-01-01 -1.071810  0.767968 -0.423805 -1.040681\n",
       "2013-01-02  0.031408  0.494293  1.337564  0.394346\n",
       "2013-01-03  1.281748 -1.782539  2.065219 -0.050594\n",
       "2013-01-04  0.511306 -1.436305 -0.491945  0.424216\n",
       "2013-01-05  1.712796  0.824232 -0.038216  1.681108\n",
       "2013-01-06 -1.696951 -0.860147 -1.919108 -1.111114"
      ]
     },
     "execution_count": 8,
     "metadata": {},
     "output_type": "execute_result"
    }
   ],
   "source": [
    "# df.sort_index(axis=, ascending=); 인덱스 정렬\n",
    "df.sort_index(axis=1, ascending=False) # axis= 0 로우, 1 컬럼"
   ]
  },
  {
   "cell_type": "code",
   "execution_count": 9,
   "id": "23a2d786",
   "metadata": {},
   "outputs": [
    {
     "data": {
      "text/html": [
       "<div>\n",
       "<style scoped>\n",
       "    .dataframe tbody tr th:only-of-type {\n",
       "        vertical-align: middle;\n",
       "    }\n",
       "\n",
       "    .dataframe tbody tr th {\n",
       "        vertical-align: top;\n",
       "    }\n",
       "\n",
       "    .dataframe thead th {\n",
       "        text-align: right;\n",
       "    }\n",
       "</style>\n",
       "<table border=\"1\" class=\"dataframe\">\n",
       "  <thead>\n",
       "    <tr style=\"text-align: right;\">\n",
       "      <th></th>\n",
       "      <th>A</th>\n",
       "      <th>B</th>\n",
       "      <th>C</th>\n",
       "      <th>D</th>\n",
       "    </tr>\n",
       "  </thead>\n",
       "  <tbody>\n",
       "    <tr>\n",
       "      <th>2013-01-06</th>\n",
       "      <td>-1.111114</td>\n",
       "      <td>-1.919108</td>\n",
       "      <td>-0.860147</td>\n",
       "      <td>-1.696951</td>\n",
       "    </tr>\n",
       "    <tr>\n",
       "      <th>2013-01-04</th>\n",
       "      <td>0.424216</td>\n",
       "      <td>-0.491945</td>\n",
       "      <td>-1.436305</td>\n",
       "      <td>0.511306</td>\n",
       "    </tr>\n",
       "    <tr>\n",
       "      <th>2013-01-01</th>\n",
       "      <td>-1.040681</td>\n",
       "      <td>-0.423805</td>\n",
       "      <td>0.767968</td>\n",
       "      <td>-1.071810</td>\n",
       "    </tr>\n",
       "    <tr>\n",
       "      <th>2013-01-05</th>\n",
       "      <td>1.681108</td>\n",
       "      <td>-0.038216</td>\n",
       "      <td>0.824232</td>\n",
       "      <td>1.712796</td>\n",
       "    </tr>\n",
       "    <tr>\n",
       "      <th>2013-01-02</th>\n",
       "      <td>0.394346</td>\n",
       "      <td>1.337564</td>\n",
       "      <td>0.494293</td>\n",
       "      <td>0.031408</td>\n",
       "    </tr>\n",
       "    <tr>\n",
       "      <th>2013-01-03</th>\n",
       "      <td>-0.050594</td>\n",
       "      <td>2.065219</td>\n",
       "      <td>-1.782539</td>\n",
       "      <td>1.281748</td>\n",
       "    </tr>\n",
       "  </tbody>\n",
       "</table>\n",
       "</div>"
      ],
      "text/plain": [
       "                   A         B         C         D\n",
       "2013-01-06 -1.111114 -1.919108 -0.860147 -1.696951\n",
       "2013-01-04  0.424216 -0.491945 -1.436305  0.511306\n",
       "2013-01-01 -1.040681 -0.423805  0.767968 -1.071810\n",
       "2013-01-05  1.681108 -0.038216  0.824232  1.712796\n",
       "2013-01-02  0.394346  1.337564  0.494293  0.031408\n",
       "2013-01-03 -0.050594  2.065219 -1.782539  1.281748"
      ]
     },
     "execution_count": 9,
     "metadata": {},
     "output_type": "execute_result"
    }
   ],
   "source": [
    "# df.sort_values(by=)\n",
    "df.sort_values(by='B')"
   ]
  },
  {
   "cell_type": "markdown",
   "id": "0e0b542d",
   "metadata": {},
   "source": [
    "## 03 selection"
   ]
  },
  {
   "cell_type": "code",
   "execution_count": 10,
   "id": "f7b9be3e",
   "metadata": {},
   "outputs": [
    {
     "name": "stdout",
     "output_type": "stream",
     "text": [
      "2013-01-01   -1.040681\n",
      "2013-01-02    0.394346\n",
      "2013-01-03   -0.050594\n",
      "2013-01-04    0.424216\n",
      "2013-01-05    1.681108\n",
      "2013-01-06   -1.111114\n",
      "Freq: D, Name: A, dtype: float64\n",
      "                   A         B         C         D\n",
      "2013-01-02  0.394346  1.337564  0.494293  0.031408\n",
      "2013-01-03 -0.050594  2.065219 -1.782539  1.281748\n",
      "                   A         B         C         D\n",
      "2013-01-01 -1.040681 -0.423805  0.767968 -1.071810\n",
      "2013-01-02  0.394346  1.337564  0.494293  0.031408\n",
      "2013-01-03 -0.050594  2.065219 -1.782539  1.281748\n"
     ]
    }
   ],
   "source": [
    "# srs[cl], srs[row], srs[a:b]; srs 접근\n",
    "print(df['A']) ; print(df['20130102':'20130103']) ; print(df[0:3])"
   ]
  },
  {
   "cell_type": "code",
   "execution_count": 11,
   "id": "5513cb8b",
   "metadata": {},
   "outputs": [
    {
     "name": "stdout",
     "output_type": "stream",
     "text": [
      "                   A         B\n",
      "2013-01-01 -1.040681 -0.423805\n",
      "2013-01-02  0.394346  1.337564\n",
      "2013-01-03 -0.050594  2.065219\n",
      "2013-01-04  0.424216 -0.491945\n",
      "2013-01-05  1.681108 -0.038216\n",
      "2013-01-06 -1.111114 -1.919108\n",
      "                   A         B\n",
      "2013-01-02  0.394346  1.337564\n",
      "2013-01-03 -0.050594  2.065219\n",
      "2013-01-04  0.424216 -0.491945\n",
      "                   A         B\n",
      "2013-01-02  0.394346  1.337564\n",
      "2013-01-03 -0.050594  2.065219\n",
      "2013-01-04  0.424216 -0.491945\n"
     ]
    }
   ],
   "source": [
    "# df.loc[row range, cl range], df.loc[[rows], [cls]]; by label\n",
    "print(df.loc[:, ['A', 'B']])\n",
    "print(df.loc['20130102':'20130104', ['A', 'B']]) # 컬럼명 나열 [ ]\n",
    "print(df.loc['20130102':'20130104', 'A':'B'])"
   ]
  },
  {
   "cell_type": "code",
   "execution_count": 12,
   "id": "bfe43d93",
   "metadata": {},
   "outputs": [
    {
     "name": "stdout",
     "output_type": "stream",
     "text": [
      "                   A         B\n",
      "2013-01-04  0.424216 -0.491945\n",
      "2013-01-05  1.681108 -0.038216\n",
      "                   A         C\n",
      "2013-01-02  0.394346  0.494293\n",
      "2013-01-03 -0.050594 -1.782539\n",
      "2013-01-05  1.681108  0.824232\n",
      "                   A         B         C         D\n",
      "2013-01-02  0.394346  1.337564  0.494293  0.031408\n",
      "2013-01-03 -0.050594  2.065219 -1.782539  1.281748\n"
     ]
    }
   ],
   "source": [
    "# df.iloc[row index range, cl index range], df.iloc[[row indexes], [cl indexes]]; by position\n",
    "print(df.iloc[3:5, 0:2])\n",
    "print(df.iloc[[1, 2, 4], [0, 2]])\n",
    "print(df.iloc[1:3, :])"
   ]
  },
  {
   "cell_type": "code",
   "execution_count": 13,
   "id": "bf3c8526",
   "metadata": {},
   "outputs": [
    {
     "name": "stdout",
     "output_type": "stream",
     "text": [
      "                   A         B         C         D\n",
      "2013-01-02  0.394346  1.337564  0.494293  0.031408\n",
      "2013-01-04  0.424216 -0.491945 -1.436305  0.511306\n",
      "2013-01-05  1.681108 -0.038216  0.824232  1.712796\n",
      "                   A         B         C         D\n",
      "2013-01-01       NaN       NaN  0.767968       NaN\n",
      "2013-01-02  0.394346  1.337564  0.494293  0.031408\n",
      "2013-01-03       NaN  2.065219       NaN  1.281748\n",
      "2013-01-04  0.424216       NaN       NaN  0.511306\n",
      "2013-01-05  1.681108       NaN  0.824232  1.712796\n",
      "2013-01-06       NaN       NaN       NaN       NaN\n"
     ]
    },
    {
     "data": {
      "text/html": [
       "<div>\n",
       "<style scoped>\n",
       "    .dataframe tbody tr th:only-of-type {\n",
       "        vertical-align: middle;\n",
       "    }\n",
       "\n",
       "    .dataframe tbody tr th {\n",
       "        vertical-align: top;\n",
       "    }\n",
       "\n",
       "    .dataframe thead th {\n",
       "        text-align: right;\n",
       "    }\n",
       "</style>\n",
       "<table border=\"1\" class=\"dataframe\">\n",
       "  <thead>\n",
       "    <tr style=\"text-align: right;\">\n",
       "      <th></th>\n",
       "      <th>A</th>\n",
       "      <th>B</th>\n",
       "      <th>C</th>\n",
       "      <th>D</th>\n",
       "      <th>E</th>\n",
       "    </tr>\n",
       "  </thead>\n",
       "  <tbody>\n",
       "    <tr>\n",
       "      <th>2013-01-03</th>\n",
       "      <td>-0.050594</td>\n",
       "      <td>2.065219</td>\n",
       "      <td>-1.782539</td>\n",
       "      <td>1.281748</td>\n",
       "      <td>two</td>\n",
       "    </tr>\n",
       "    <tr>\n",
       "      <th>2013-01-05</th>\n",
       "      <td>1.681108</td>\n",
       "      <td>-0.038216</td>\n",
       "      <td>0.824232</td>\n",
       "      <td>1.712796</td>\n",
       "      <td>four</td>\n",
       "    </tr>\n",
       "  </tbody>\n",
       "</table>\n",
       "</div>"
      ],
      "text/plain": [
       "                   A         B         C         D     E\n",
       "2013-01-03 -0.050594  2.065219 -1.782539  1.281748   two\n",
       "2013-01-05  1.681108 -0.038216  0.824232  1.712796  four"
      ]
     },
     "execution_count": 13,
     "metadata": {},
     "output_type": "execute_result"
    }
   ],
   "source": [
    "# df[condition], df.isin([value(s)]); boolean indexing\n",
    "print(df[df['A'] > 0]) # 컬럼에 대해\n",
    "print(df[df > 0]) # df에 대해\n",
    "\n",
    "df2 = df.copy()\n",
    "df2['E'] = ['one', 'one', 'two', 'three', 'four', 'three']\n",
    "df2[df2['E'].isin(['two', 'four'])]"
   ]
  },
  {
   "cell_type": "code",
   "execution_count": 14,
   "id": "840efaed",
   "metadata": {},
   "outputs": [
    {
     "name": "stdout",
     "output_type": "stream",
     "text": [
      "                   A         B         C         D  F\n",
      "2013-01-01 -1.040681 -0.423805  0.767968 -1.071810  1\n",
      "2013-01-02  0.394346  1.337564  0.494293  0.031408  2\n",
      "2013-01-03 -0.050594  2.065219 -1.782539  1.281748  3\n",
      "2013-01-04  0.424216 -0.491945 -1.436305  0.511306  4\n",
      "2013-01-05  1.681108 -0.038216  0.824232  1.712796  5\n",
      "2013-01-06 -1.111114 -1.919108 -0.860147 -1.696951  6\n",
      "                   A         B         C  D  F\n",
      "2013-01-01  0.000000  0.000000  0.767968  5  1\n",
      "2013-01-02  0.394346  1.337564  0.494293  5  2\n",
      "2013-01-03 -0.050594  2.065219 -1.782539  5  3\n",
      "2013-01-04  0.424216 -0.491945 -1.436305  5  4\n",
      "2013-01-05  1.681108 -0.038216  0.824232  5  5\n",
      "2013-01-06 -1.111114 -1.919108 -0.860147  5  6\n",
      "                   A         B         C  D  F\n",
      "2013-01-01  0.000000  0.000000 -0.767968 -5 -1\n",
      "2013-01-02 -0.394346 -1.337564 -0.494293 -5 -2\n",
      "2013-01-03 -0.050594 -2.065219 -1.782539 -5 -3\n",
      "2013-01-04 -0.424216 -0.491945 -1.436305 -5 -4\n",
      "2013-01-05 -1.681108 -0.038216 -0.824232 -5 -5\n",
      "2013-01-06 -1.111114 -1.919108 -0.860147 -5 -6\n"
     ]
    }
   ],
   "source": [
    "# .loc[], .at[], .iloc[], .iat[], df[cond], .isin() = values; setting\n",
    "s1 = pd.Series(list(range(1, 7)),\n",
    "               index=pd.date_range('20130101', periods=6)\n",
    "              )\n",
    "df['F'] = s1; print(df)\n",
    "\n",
    "df.at[dates[0], 'A'] = 0\n",
    "df.iat[0, 1] = 0\n",
    "df.loc[:, 'D'] = 5\n",
    "print(df)\n",
    "\n",
    "df2 = df.copy()\n",
    "df2[df2 > 0] = - df2 # 음수로 바꾸기\n",
    "print(df2)"
   ]
  },
  {
   "cell_type": "markdown",
   "id": "60fa38fe",
   "metadata": {},
   "source": [
    "## 04 missing data"
   ]
  },
  {
   "cell_type": "code",
   "execution_count": 15,
   "id": "3ac6fa34",
   "metadata": {},
   "outputs": [
    {
     "name": "stdout",
     "output_type": "stream",
     "text": [
      "                   A         B         C  D  F    E\n",
      "2013-01-01  0.000000  0.000000  0.767968  5  1  1.0\n",
      "2013-01-02  0.394346  1.337564  0.494293  5  2  1.0\n",
      "2013-01-03 -0.050594  2.065219 -1.782539  5  3  NaN\n",
      "2013-01-04  0.424216 -0.491945 -1.436305  5  4  NaN\n",
      "                   A         B         C  D  F    E\n",
      "2013-01-01  0.000000  0.000000  0.767968  5  1  1.0\n",
      "2013-01-02  0.394346  1.337564  0.494293  5  2  1.0\n",
      "                   A         B         C  D  F    E\n",
      "2013-01-01  0.000000  0.000000  0.767968  5  1  1.0\n",
      "2013-01-02  0.394346  1.337564  0.494293  5  2  1.0\n",
      "2013-01-03 -0.050594  2.065219 -1.782539  5  3  5.0\n",
      "2013-01-04  0.424216 -0.491945 -1.436305  5  4  5.0\n",
      "                A      B      C      D      F      E\n",
      "2013-01-01  False  False  False  False  False  False\n",
      "2013-01-02  False  False  False  False  False  False\n",
      "2013-01-03  False  False  False  False  False   True\n",
      "2013-01-04  False  False  False  False  False   True\n"
     ]
    }
   ],
   "source": [
    "# df.dropna(how=), df.fillna(value=), pd.isna(df)\n",
    "\n",
    "# df.reindex(index=row range, columns=); 인덱스 재설정\n",
    "df1 = df.reindex(index=dates[0:4], columns=list(df.columns) + ['E'])\n",
    "df1.loc[dates[0]:dates[1], 'E'] = 1\n",
    "print(df1)\n",
    "\n",
    "# df.dropna(how=); how='any' nan 행/열만, 'all' 모든 값이 NaN일 때만\n",
    "print(df1.dropna(how='any'))\n",
    "\n",
    "# df.fillna(value=)\n",
    "print(df1.fillna(value=5))\n",
    "\n",
    "# pd.isna(df); nan T/F\n",
    "print(pd.isna(df1))"
   ]
  },
  {
   "cell_type": "markdown",
   "id": "a893a976",
   "metadata": {},
   "source": [
    "## 05 opertaions"
   ]
  },
  {
   "cell_type": "code",
   "execution_count": 16,
   "id": "5469db67",
   "metadata": {},
   "outputs": [
    {
     "name": "stdout",
     "output_type": "stream",
     "text": [
      "A    0.222994\n",
      "B    0.158919\n",
      "C   -0.332083\n",
      "D    5.000000\n",
      "F    3.500000\n",
      "dtype: float64\n",
      "2013-01-01    1.353594\n",
      "2013-01-02    1.845241\n",
      "2013-01-03    1.646417\n",
      "2013-01-04    1.499193\n",
      "2013-01-05    2.493425\n",
      "2013-01-06    1.421926\n",
      "Freq: D, dtype: float64\n"
     ]
    }
   ],
   "source": [
    "# df.mean()\n",
    "print(df.mean()) # 컬럼별로 평균\n",
    "print(df.mean(1)) # 로우별로 평균"
   ]
  },
  {
   "cell_type": "code",
   "execution_count": 17,
   "id": "afb46c15",
   "metadata": {},
   "outputs": [
    {
     "name": "stdout",
     "output_type": "stream",
     "text": [
      "2013-01-01    NaN\n",
      "2013-01-02    NaN\n",
      "2013-01-03    NaN\n",
      "2013-01-04    1.0\n",
      "2013-01-05    3.0\n",
      "2013-01-06    4.0\n",
      "Freq: D, dtype: float64\n"
     ]
    }
   ],
   "source": [
    "# df.shift(n); 로우 n칸 미룸\n",
    "s = pd.Series([1, 3, 4, np.nan, 6, 8], index=dates).shift(3); print(s)"
   ]
  },
  {
   "cell_type": "code",
   "execution_count": 18,
   "id": "585cac9e",
   "metadata": {},
   "outputs": [
    {
     "name": "stdout",
     "output_type": "stream",
     "text": [
      "                   A         B         C   D   F\n",
      "2013-01-01  0.000000  0.000000  0.767968   5   1\n",
      "2013-01-02  0.394346  1.337564  1.262261  10   3\n",
      "2013-01-03  0.343753  3.402783 -0.520278  15   6\n",
      "2013-01-04  0.767969  2.910838 -1.956583  20  10\n",
      "2013-01-05  2.449077  2.872622 -1.132351  25  15\n",
      "2013-01-06  1.337964  0.953514 -1.992498  30  21\n",
      "A    2.792222\n",
      "B    3.984328\n",
      "C    2.606771\n",
      "D    0.000000\n",
      "F    5.000000\n",
      "dtype: float64\n"
     ]
    }
   ],
   "source": [
    "# df.apply(); 함수 적용\n",
    "print(df.apply(np.cumsum)) # np.cumsum 누적합\n",
    "print(df.apply(lambda x: x.max() - x.min())) # 최댓값-최솟값"
   ]
  },
  {
   "cell_type": "markdown",
   "id": "6e57eda1",
   "metadata": {},
   "source": [
    "## 06 merge"
   ]
  },
  {
   "cell_type": "code",
   "execution_count": 19,
   "id": "a4e04132",
   "metadata": {},
   "outputs": [
    {
     "name": "stdout",
     "output_type": "stream",
     "text": [
      "[          0         1         2         3\n",
      "0 -0.402555  1.614461  0.804663 -1.606028\n",
      "1  1.055584  0.083502 -0.532667 -0.128485\n",
      "2  0.129218 -1.159007 -1.057525  1.564745,           0         1         2         3\n",
      "3 -0.847872  1.593359  1.486014 -0.103301\n",
      "4  1.016013 -0.284078  0.806522 -0.760916\n",
      "5  0.780000 -0.239949 -0.830167  0.465386\n",
      "6  1.289103  0.292134  0.975687  0.888246,           0         1         2         3\n",
      "7 -0.546392  1.317415 -1.431002  0.439248\n",
      "8  1.393793 -2.095577 -1.105078 -2.062545\n",
      "9  1.076828 -0.762394 -1.556025  1.959335]\n"
     ]
    },
    {
     "data": {
      "text/html": [
       "<div>\n",
       "<style scoped>\n",
       "    .dataframe tbody tr th:only-of-type {\n",
       "        vertical-align: middle;\n",
       "    }\n",
       "\n",
       "    .dataframe tbody tr th {\n",
       "        vertical-align: top;\n",
       "    }\n",
       "\n",
       "    .dataframe thead th {\n",
       "        text-align: right;\n",
       "    }\n",
       "</style>\n",
       "<table border=\"1\" class=\"dataframe\">\n",
       "  <thead>\n",
       "    <tr style=\"text-align: right;\">\n",
       "      <th></th>\n",
       "      <th>0</th>\n",
       "      <th>1</th>\n",
       "      <th>2</th>\n",
       "      <th>3</th>\n",
       "    </tr>\n",
       "  </thead>\n",
       "  <tbody>\n",
       "    <tr>\n",
       "      <th>0</th>\n",
       "      <td>-0.402555</td>\n",
       "      <td>1.614461</td>\n",
       "      <td>0.804663</td>\n",
       "      <td>-1.606028</td>\n",
       "    </tr>\n",
       "    <tr>\n",
       "      <th>1</th>\n",
       "      <td>1.055584</td>\n",
       "      <td>0.083502</td>\n",
       "      <td>-0.532667</td>\n",
       "      <td>-0.128485</td>\n",
       "    </tr>\n",
       "    <tr>\n",
       "      <th>2</th>\n",
       "      <td>0.129218</td>\n",
       "      <td>-1.159007</td>\n",
       "      <td>-1.057525</td>\n",
       "      <td>1.564745</td>\n",
       "    </tr>\n",
       "    <tr>\n",
       "      <th>3</th>\n",
       "      <td>-0.847872</td>\n",
       "      <td>1.593359</td>\n",
       "      <td>1.486014</td>\n",
       "      <td>-0.103301</td>\n",
       "    </tr>\n",
       "    <tr>\n",
       "      <th>4</th>\n",
       "      <td>1.016013</td>\n",
       "      <td>-0.284078</td>\n",
       "      <td>0.806522</td>\n",
       "      <td>-0.760916</td>\n",
       "    </tr>\n",
       "    <tr>\n",
       "      <th>5</th>\n",
       "      <td>0.780000</td>\n",
       "      <td>-0.239949</td>\n",
       "      <td>-0.830167</td>\n",
       "      <td>0.465386</td>\n",
       "    </tr>\n",
       "    <tr>\n",
       "      <th>6</th>\n",
       "      <td>1.289103</td>\n",
       "      <td>0.292134</td>\n",
       "      <td>0.975687</td>\n",
       "      <td>0.888246</td>\n",
       "    </tr>\n",
       "    <tr>\n",
       "      <th>7</th>\n",
       "      <td>-0.546392</td>\n",
       "      <td>1.317415</td>\n",
       "      <td>-1.431002</td>\n",
       "      <td>0.439248</td>\n",
       "    </tr>\n",
       "    <tr>\n",
       "      <th>8</th>\n",
       "      <td>1.393793</td>\n",
       "      <td>-2.095577</td>\n",
       "      <td>-1.105078</td>\n",
       "      <td>-2.062545</td>\n",
       "    </tr>\n",
       "    <tr>\n",
       "      <th>9</th>\n",
       "      <td>1.076828</td>\n",
       "      <td>-0.762394</td>\n",
       "      <td>-1.556025</td>\n",
       "      <td>1.959335</td>\n",
       "    </tr>\n",
       "  </tbody>\n",
       "</table>\n",
       "</div>"
      ],
      "text/plain": [
       "          0         1         2         3\n",
       "0 -0.402555  1.614461  0.804663 -1.606028\n",
       "1  1.055584  0.083502 -0.532667 -0.128485\n",
       "2  0.129218 -1.159007 -1.057525  1.564745\n",
       "3 -0.847872  1.593359  1.486014 -0.103301\n",
       "4  1.016013 -0.284078  0.806522 -0.760916\n",
       "5  0.780000 -0.239949 -0.830167  0.465386\n",
       "6  1.289103  0.292134  0.975687  0.888246\n",
       "7 -0.546392  1.317415 -1.431002  0.439248\n",
       "8  1.393793 -2.095577 -1.105078 -2.062545\n",
       "9  1.076828 -0.762394 -1.556025  1.959335"
      ]
     },
     "execution_count": 19,
     "metadata": {},
     "output_type": "execute_result"
    }
   ],
   "source": [
    "# pd.concat()\n",
    "df = pd.DataFrame(np.random.randn(10, 4))\n",
    "pieces = [df[:3], df[3:7], df[7:]]; print(pieces)\n",
    "\n",
    "pd.concat(pieces)"
   ]
  },
  {
   "cell_type": "code",
   "execution_count": 20,
   "id": "e7849e68",
   "metadata": {},
   "outputs": [
    {
     "name": "stdout",
     "output_type": "stream",
     "text": [
      "   key  lval\n",
      "0  foo     1\n",
      "1  bar     2\n",
      "   key  rval\n",
      "0  foo     4\n",
      "1  bar     5\n",
      "   key  lval  rval\n",
      "0  foo     1     4\n",
      "1  bar     2     5\n"
     ]
    }
   ],
   "source": [
    "# pd.merge(df1, df2, ..., on=)\n",
    "left = pd.DataFrame({'key':['foo', 'bar'], 'lval':[1, 2]}); print(left)\n",
    "right = pd.DataFrame({'key':['foo', 'bar'], 'rval':[4, 5]}); print(right)\n",
    "print(pd.merge(left, right, on='key')) # on= 'label', 'list'"
   ]
  },
  {
   "cell_type": "markdown",
   "id": "abfc7051",
   "metadata": {},
   "source": [
    "## 07 grouping"
   ]
  },
  {
   "cell_type": "code",
   "execution_count": 21,
   "id": "cc0bcecd",
   "metadata": {},
   "outputs": [
    {
     "name": "stdout",
     "output_type": "stream",
     "text": [
      "            C         D\n",
      "A                      \n",
      "bar -1.639174  2.067341\n",
      "foo  0.604833 -0.370922\n",
      "                  C         D\n",
      "A   B                        \n",
      "bar one   -0.069406 -1.002231\n",
      "    three -0.017469  1.636715\n",
      "    two   -1.552299  1.432856\n",
      "foo one    0.941522 -1.064341\n",
      "    three  0.058915  0.715968\n",
      "    two   -0.395604 -0.022549\n"
     ]
    }
   ],
   "source": [
    "# df.groupby([cl(s)]).sum()\n",
    "df = pd.DataFrame({\"A\": [\"foo\", \"bar\", \"foo\", \"bar\", \"foo\", \"bar\", \"foo\", \"foo\"],\n",
    "                   \"B\": [\"one\", \"one\", \"two\", \"three\", \"two\", \"two\", \"one\", \"three\"],\n",
    "                   \"C\": np.random.randn(8),\n",
    "                   \"D\": np.random.randn(8),\n",
    "                  })\n",
    "print(df.groupby('A').sum())\n",
    "print(df.groupby(['A', 'B']).sum())"
   ]
  },
  {
   "cell_type": "markdown",
   "id": "ea7a4ef8",
   "metadata": {},
   "source": [
    "## 08 reshaping"
   ]
  },
  {
   "cell_type": "code",
   "execution_count": 22,
   "id": "24af61d9",
   "metadata": {},
   "outputs": [
    {
     "name": "stdout",
     "output_type": "stream",
     "text": [
      "[('bar', 'one'), ('bar', 'two'), ('baz', 'one'), ('baz', 'two'), ('foo', 'one'), ('foo', 'two'), ('qux', 'one'), ('qux', 'two')]\n",
      "MultiIndex([('bar', 'one'),\n",
      "            ('bar', 'two'),\n",
      "            ('baz', 'one'),\n",
      "            ('baz', 'two'),\n",
      "            ('foo', 'one'),\n",
      "            ('foo', 'two'),\n",
      "            ('qux', 'one'),\n",
      "            ('qux', 'two')],\n",
      "           names=['first', 'second'])\n",
      "                     A         B\n",
      "first second                    \n",
      "bar   one     0.504326 -0.115576\n",
      "      two    -0.778492  0.354113\n",
      "baz   one     0.338129 -1.462535\n",
      "      two    -0.170643 -0.738421\n",
      "foo   one    -0.304465  0.838840\n",
      "      two    -0.165110 -0.879992\n",
      "qux   one    -0.095577 -1.066435\n",
      "      two    -0.744810  0.565908\n",
      "                     A         B\n",
      "first second                    \n",
      "bar   one     0.504326 -0.115576\n",
      "      two    -0.778492  0.354113\n",
      "baz   one     0.338129 -1.462535\n",
      "      two    -0.170643 -0.738421\n"
     ]
    },
    {
     "data": {
      "text/plain": [
       "first  second   \n",
       "bar    one     A    0.504326\n",
       "               B   -0.115576\n",
       "       two     A   -0.778492\n",
       "               B    0.354113\n",
       "baz    one     A    0.338129\n",
       "               B   -1.462535\n",
       "       two     A   -0.170643\n",
       "               B   -0.738421\n",
       "dtype: float64"
      ]
     },
     "execution_count": 22,
     "metadata": {},
     "output_type": "execute_result"
    }
   ],
   "source": [
    "# df.stack(); 컬럼을 인덱스화하여 나열(역pivot)\n",
    "tuples = list(zip( * [[\"bar\", \"bar\", \"baz\", \"baz\", \"foo\", \"foo\", \"qux\", \"qux\"],\n",
    "                      [\"one\", \"two\", \"one\", \"two\", \"one\", \"two\", \"one\", \"two\"],\n",
    "                     ])); print(tuples)\n",
    "index = pd.MultiIndex.from_tuples(tuples, names=['first', 'second']); print(index)\n",
    "df = pd.DataFrame(np.random.randn(8, 2), index=index, columns=['A', 'B']); print(df)\n",
    "df2 = df[:4]; print(df2)\n",
    "\n",
    "stacked = df2.stack(); stacked"
   ]
  },
  {
   "cell_type": "code",
   "execution_count": 23,
   "id": "216eebc0",
   "metadata": {},
   "outputs": [
    {
     "name": "stdout",
     "output_type": "stream",
     "text": [
      "                     A         B\n",
      "first second                    \n",
      "bar   one     0.504326 -0.115576\n",
      "      two    -0.778492  0.354113\n",
      "baz   one     0.338129 -1.462535\n",
      "      two    -0.170643 -0.738421\n",
      "second        one       two\n",
      "first                      \n",
      "bar   A  0.504326 -0.778492\n",
      "      B -0.115576  0.354113\n",
      "baz   A  0.338129 -0.170643\n",
      "      B -1.462535 -0.738421\n",
      "first          bar       baz\n",
      "second                      \n",
      "one    A  0.504326  0.338129\n",
      "       B -0.115576 -1.462535\n",
      "two    A -0.778492 -0.170643\n",
      "       B  0.354113 -0.738421\n"
     ]
    }
   ],
   "source": [
    "# df.unstack()\n",
    "print(stacked.unstack()) # last level(기본값)\n",
    "print(stacked.unstack(1))\n",
    "print(stacked.unstack(0))"
   ]
  },
  {
   "cell_type": "code",
   "execution_count": 24,
   "id": "d2cc9ce4",
   "metadata": {},
   "outputs": [
    {
     "name": "stdout",
     "output_type": "stream",
     "text": [
      "        A  B    C         D         E\n",
      "0     one  A  foo  0.094155  1.519118\n",
      "1     one  B  foo  0.282472 -1.469100\n",
      "2     two  C  foo -1.021155 -1.104225\n",
      "3   three  A  bar -0.227920  0.065541\n",
      "4     one  B  bar -0.305020 -0.584389\n",
      "5     one  C  bar -0.390189 -0.677072\n",
      "6     two  A  foo  1.321365 -2.387571\n",
      "7   three  B  foo -0.160839 -0.027855\n",
      "8     one  C  foo -0.899023 -1.386082\n",
      "9     one  A  bar  1.622699 -0.416250\n",
      "10    two  B  bar  0.010599  0.596247\n",
      "11  three  C  bar  1.051264 -0.978940\n",
      "                D          \n",
      "C             bar       foo\n",
      "A     B                    \n",
      "one   A  1.622699  0.094155\n",
      "      B -0.305020  0.282472\n",
      "      C -0.390189 -0.899023\n",
      "three A -0.227920       NaN\n",
      "      B       NaN -0.160839\n",
      "      C  1.051264       NaN\n",
      "two   A       NaN  1.321365\n",
      "      B  0.010599       NaN\n",
      "      C       NaN -1.021155\n"
     ]
    }
   ],
   "source": [
    "# pd.pivot_table(df, values=[], index=[], columns=[])\n",
    "df = pd.DataFrame({\"A\": [\"one\", \"one\", \"two\", \"three\"] * 3,\n",
    "                   \"B\": [\"A\", \"B\", \"C\"] * 4,\n",
    "                   \"C\": [\"foo\", \"foo\", \"foo\", \"bar\", \"bar\", \"bar\"] * 2,\n",
    "                   \"D\": np.random.randn(12),\n",
    "                   \"E\": np.random.randn(12),\n",
    "                  }); print(df)\n",
    "\n",
    "print(pd.pivot_table(df, values=['D'], index=['A', 'B'], columns=['C']))"
   ]
  },
  {
   "cell_type": "markdown",
   "id": "04f60195",
   "metadata": {},
   "source": [
    "## 09 time series"
   ]
  },
  {
   "cell_type": "code",
   "execution_count": 25,
   "id": "71c2c6f1",
   "metadata": {},
   "outputs": [
    {
     "name": "stdout",
     "output_type": "stream",
     "text": [
      "2012-03-06    2.181496\n",
      "2012-03-07    1.906129\n",
      "2012-03-08    0.751885\n",
      "2012-03-09   -0.706155\n",
      "2012-03-10   -0.720568\n",
      "Freq: D, dtype: float64\n"
     ]
    },
    {
     "data": {
      "text/plain": [
       "2012-03-06 00:00:00+00:00    2.181496\n",
       "2012-03-07 00:00:00+00:00    1.906129\n",
       "2012-03-08 00:00:00+00:00    0.751885\n",
       "2012-03-09 00:00:00+00:00   -0.706155\n",
       "2012-03-10 00:00:00+00:00   -0.720568\n",
       "Freq: D, dtype: float64"
      ]
     },
     "execution_count": 25,
     "metadata": {},
     "output_type": "execute_result"
    }
   ],
   "source": [
    "# df.tz_localize(); 해당 시각 적용\n",
    "rng = pd.date_range(\"3/6/2012 00:00\", periods=5, freq=\"D\")\n",
    "ts = pd.Series(np.random.randn(len(rng)), rng); print(ts)\n",
    "\n",
    "ts_utc = ts.tz_localize('UTC'); ts_utc"
   ]
  },
  {
   "cell_type": "code",
   "execution_count": 26,
   "id": "ff73dc6c",
   "metadata": {},
   "outputs": [
    {
     "data": {
      "text/plain": [
       "2012-03-05 19:00:00-05:00    2.181496\n",
       "2012-03-06 19:00:00-05:00    1.906129\n",
       "2012-03-07 19:00:00-05:00    0.751885\n",
       "2012-03-08 19:00:00-05:00   -0.706155\n",
       "2012-03-09 19:00:00-05:00   -0.720568\n",
       "Freq: D, dtype: float64"
      ]
     },
     "execution_count": 26,
     "metadata": {},
     "output_type": "execute_result"
    }
   ],
   "source": [
    "# df.tz_convert(); 시각 변환\n",
    "ts_utc.tz_convert('US/Eastern')"
   ]
  },
  {
   "cell_type": "code",
   "execution_count": 27,
   "id": "94b3858a",
   "metadata": {},
   "outputs": [
    {
     "name": "stdout",
     "output_type": "stream",
     "text": [
      "2012-01-31   -0.821564\n",
      "2012-02-29   -0.184441\n",
      "2012-03-31    0.156122\n",
      "2012-04-30   -2.102581\n",
      "2012-05-31   -1.436309\n",
      "Freq: M, dtype: float64\n",
      "2012-01   -0.821564\n",
      "2012-02   -0.184441\n",
      "2012-03    0.156122\n",
      "2012-04   -2.102581\n",
      "2012-05   -1.436309\n",
      "Freq: M, dtype: float64\n"
     ]
    }
   ],
   "source": [
    "# df.to_period(); 기간 합산\n",
    "rng = pd.date_range(\"1/1/2012\", periods=5, freq=\"M\")\n",
    "ts = pd.Series(np.random.randn(len(rng)), index=rng)\n",
    "print(ts)\n",
    "\n",
    "ps = ts.to_period()\n",
    "print(ps)"
   ]
  },
  {
   "cell_type": "code",
   "execution_count": 28,
   "id": "c6b0ff04",
   "metadata": {},
   "outputs": [
    {
     "data": {
      "text/plain": [
       "2012-01-01   -0.821564\n",
       "2012-02-01   -0.184441\n",
       "2012-03-01    0.156122\n",
       "2012-04-01   -2.102581\n",
       "2012-05-01   -1.436309\n",
       "Freq: MS, dtype: float64"
      ]
     },
     "execution_count": 28,
     "metadata": {},
     "output_type": "execute_result"
    }
   ],
   "source": [
    "# df.to_timestamp()\n",
    "ps.to_timestamp()"
   ]
  },
  {
   "cell_type": "markdown",
   "id": "6ff57fda",
   "metadata": {},
   "source": [
    "## 10 categoricals"
   ]
  },
  {
   "cell_type": "code",
   "execution_count": 29,
   "id": "55e9484e",
   "metadata": {
    "scrolled": true
   },
   "outputs": [
    {
     "name": "stdout",
     "output_type": "stream",
     "text": [
      "   id raw_grade\n",
      "0   1         a\n",
      "1   2         b\n",
      "2   3         b\n",
      "3   4         a\n",
      "4   5         a\n",
      "5   6         e\n",
      "0    a\n",
      "1    b\n",
      "2    b\n",
      "3    a\n",
      "4    a\n",
      "5    e\n",
      "Name: grade, dtype: category\n",
      "Categories (3, object): ['a', 'b', 'e']\n"
     ]
    }
   ],
   "source": [
    "# df[cl].astype('category'); 데이터 타입 변환\n",
    "df = pd.DataFrame({\"id\": [1, 2, 3, 4, 5, 6],\n",
    "                   \"raw_grade\": [\"a\", \"b\", \"b\", \"a\", \"a\", \"e\"]\n",
    "                  })\n",
    "print(df)\n",
    "\n",
    "df['grade'] = df['raw_grade'].astype('category') # 데이터 타입 카테고리\n",
    "print(df['grade'])"
   ]
  },
  {
   "cell_type": "code",
   "execution_count": 30,
   "id": "772f322e",
   "metadata": {},
   "outputs": [
    {
     "name": "stdout",
     "output_type": "stream",
     "text": [
      "0    very good\n",
      "1         good\n",
      "2         good\n",
      "3    very good\n",
      "4    very good\n",
      "5     very bad\n",
      "Name: grade, dtype: category\n",
      "Categories (3, object): ['very good', 'good', 'very bad']\n"
     ]
    }
   ],
   "source": [
    "# df[cl].cat.categories = cat_name; 카테고리 이름 부여\n",
    "df['grade'].cat.categories = ['very good', 'good', 'very bad']\n",
    "print(df['grade'])"
   ]
  },
  {
   "cell_type": "code",
   "execution_count": 31,
   "id": "430e8294",
   "metadata": {},
   "outputs": [
    {
     "data": {
      "text/plain": [
       "0    very good\n",
       "1         good\n",
       "2         good\n",
       "3    very good\n",
       "4    very good\n",
       "5     very bad\n",
       "Name: grade, dtype: category\n",
       "Categories (5, object): ['very bad', 'bad', 'medium', 'good', 'very good']"
      ]
     },
     "execution_count": 31,
     "metadata": {},
     "output_type": "execute_result"
    }
   ],
   "source": [
    "# df[cl].cat.set_categories([cat_name(s)])\n",
    "df['grade'] = df['grade'].cat.set_categories(['very bad', 'bad', 'medium', 'good', 'very good'])\n",
    "df['grade']"
   ]
  },
  {
   "cell_type": "markdown",
   "id": "9eeec9f7",
   "metadata": {},
   "source": [
    "## 11 plotting"
   ]
  },
  {
   "cell_type": "code",
   "execution_count": 32,
   "id": "e8e75811",
   "metadata": {},
   "outputs": [],
   "source": [
    "# plt.close('all')\n",
    "import matplotlib.pyplot as plt\n",
    "plt.close('all')"
   ]
  },
  {
   "cell_type": "code",
   "execution_count": 33,
   "id": "9e5fadf8",
   "metadata": {},
   "outputs": [
    {
     "name": "stdout",
     "output_type": "stream",
     "text": [
      "2000-01-01    0.501846\n",
      "2000-01-02   -0.294577\n",
      "2000-01-03    0.002734\n",
      "2000-01-04    0.816949\n",
      "2000-01-05   -0.495870\n",
      "                ...   \n",
      "2002-09-22   -1.196240\n",
      "2002-09-23    2.289364\n",
      "2002-09-24   -0.832516\n",
      "2002-09-25   -0.822160\n",
      "2002-09-26    1.346032\n",
      "Freq: D, Length: 1000, dtype: float64\n",
      "AxesSubplot(0.125,0.125;0.775x0.755)\n",
      "2000-01-01     0.501846\n",
      "2000-01-02     0.207269\n",
      "2000-01-03     0.210003\n",
      "2000-01-04     1.026952\n",
      "2000-01-05     0.531082\n",
      "                ...    \n",
      "2002-09-22    39.358560\n",
      "2002-09-23    41.647924\n",
      "2002-09-24    40.815408\n",
      "2002-09-25    39.993248\n",
      "2002-09-26    41.339280\n",
      "Freq: D, Length: 1000, dtype: float64\n",
      "AxesSubplot(0.125,0.125;0.775x0.755)\n"
     ]
    },
    {
     "data": {
      "image/png": "[encoded data removed]",
      "text/plain": [
       "<Figure size 432x288 with 1 Axes>"
      ]
     },
     "metadata": {
      "needs_background": "light"
     },
     "output_type": "display_data"
    }
   ],
   "source": [
    "# df.plot()\n",
    "ts = pd.Series(np.random.randn(1000),\n",
    "               index=pd.date_range('1/1/2000', periods=1000)\n",
    "              )\n",
    "print(ts)\n",
    "print(ts.plot())\n",
    "\n",
    "ts = ts.cumsum() # 왜 누적합 후 처리? 난수를 발생시켰기 때문에 의미있는 시각화를 위해\n",
    "print(ts)\n",
    "\n",
    "print(ts.plot())"
   ]
  },
  {
   "cell_type": "code",
   "execution_count": 34,
   "id": "a7eb9b06",
   "metadata": {},
   "outputs": [
    {
     "name": "stdout",
     "output_type": "stream",
     "text": [
      "                   A         B         C         D\n",
      "2000-01-01 -0.213536 -0.043421 -0.129232  0.437628\n",
      "2000-01-02  0.010222 -0.479828 -0.637117  0.501607\n",
      "2000-01-03  0.408346 -0.531166  1.269888 -0.510323\n",
      "2000-01-04  1.011202  0.923584  0.248319  0.135390\n",
      "2000-01-05 -0.930269  1.475786  0.401484  0.274076\n",
      "...              ...       ...       ...       ...\n",
      "2002-09-22 -0.841994 -0.404300  0.239847  1.724193\n",
      "2002-09-23 -0.344040  0.463219 -0.841158  0.179817\n",
      "2002-09-24 -0.885402 -0.837964  0.291930  0.407761\n",
      "2002-09-25  0.400676 -0.080598  0.953031 -0.841302\n",
      "2002-09-26  0.840459  0.002750 -0.664379 -0.324723\n",
      "\n",
      "[1000 rows x 4 columns]\n",
      "                    A         B          C          D\n",
      "2000-01-01  -0.213536 -0.043421  -0.129232   0.437628\n",
      "2000-01-02  -0.203314 -0.523249  -0.766349   0.939236\n",
      "2000-01-03   0.205032 -1.054415   0.503539   0.428913\n",
      "2000-01-04   1.216234 -0.130831   0.751858   0.564303\n",
      "2000-01-05   0.285965  1.344955   1.153341   0.838379\n",
      "...               ...       ...        ...        ...\n",
      "2002-09-22 -42.644131 -7.796991  13.118188  33.967323\n",
      "2002-09-23 -42.988171 -7.333772  12.277030  34.147140\n",
      "2002-09-24 -43.873573 -8.171737  12.568960  34.554901\n",
      "2002-09-25 -43.472897 -8.252335  13.521991  33.713600\n",
      "2002-09-26 -42.632438 -8.249585  12.857612  33.388876\n",
      "\n",
      "[1000 rows x 4 columns]\n"
     ]
    },
    {
     "data": {
      "text/plain": [
       "<Figure size 432x288 with 0 Axes>"
      ]
     },
     "execution_count": 34,
     "metadata": {},
     "output_type": "execute_result"
    },
    {
     "data": {
      "text/plain": [
       "<Figure size 432x288 with 0 Axes>"
      ]
     },
     "metadata": {},
     "output_type": "display_data"
    }
   ],
   "source": [
    "#  plt.figure(); plt 형태\n",
    "df = pd.DataFrame(np.random.randn(1000, 4),\n",
    "                  index=ts.index,\n",
    "                  columns=[\"A\", \"B\", \"C\", \"D\"]\n",
    "                 )\n",
    "print(df)\n",
    "\n",
    "df = df.cumsum()\n",
    "print(df)\n",
    "\n",
    "plt.figure()"
   ]
  },
  {
   "cell_type": "code",
   "execution_count": 35,
   "id": "15aee9f1",
   "metadata": {},
   "outputs": [
    {
     "name": "stdout",
     "output_type": "stream",
     "text": [
      "AxesSubplot(0.125,0.125;0.775x0.755)\n"
     ]
    },
    {
     "data": {
      "text/plain": [
       "<matplotlib.legend.Legend at 0x1c299f6f1c0>"
      ]
     },
     "execution_count": 35,
     "metadata": {},
     "output_type": "execute_result"
    },
    {
     "data": {
      "image/png": "[encoded data removed]",
      "text/plain": [
       "<Figure size 432x288 with 1 Axes>"
      ]
     },
     "metadata": {
      "needs_background": "light"
     },
     "output_type": "display_data"
    }
   ],
   "source": [
    "# plt.legend(loc=)\n",
    "print(df.plot())\n",
    "plt.legend(loc='best')"
   ]
  },
  {
   "cell_type": "markdown",
   "id": "0cfef985",
   "metadata": {},
   "source": [
    "## 12 getting data in/out"
   ]
  },
  {
   "cell_type": "code",
   "execution_count": 36,
   "id": "c01dc084",
   "metadata": {},
   "outputs": [
    {
     "data": {
      "text/html": [
       "<div>\n",
       "<style scoped>\n",
       "    .dataframe tbody tr th:only-of-type {\n",
       "        vertical-align: middle;\n",
       "    }\n",
       "\n",
       "    .dataframe tbody tr th {\n",
       "        vertical-align: top;\n",
       "    }\n",
       "\n",
       "    .dataframe thead th {\n",
       "        text-align: right;\n",
       "    }\n",
       "</style>\n",
       "<table border=\"1\" class=\"dataframe\">\n",
       "  <thead>\n",
       "    <tr style=\"text-align: right;\">\n",
       "      <th></th>\n",
       "      <th>Unnamed: 0</th>\n",
       "      <th>A</th>\n",
       "      <th>B</th>\n",
       "      <th>C</th>\n",
       "      <th>D</th>\n",
       "    </tr>\n",
       "  </thead>\n",
       "  <tbody>\n",
       "    <tr>\n",
       "      <th>0</th>\n",
       "      <td>2000-01-01</td>\n",
       "      <td>-0.213536</td>\n",
       "      <td>-0.043421</td>\n",
       "      <td>-0.129232</td>\n",
       "      <td>0.437628</td>\n",
       "    </tr>\n",
       "    <tr>\n",
       "      <th>1</th>\n",
       "      <td>2000-01-02</td>\n",
       "      <td>-0.203314</td>\n",
       "      <td>-0.523249</td>\n",
       "      <td>-0.766349</td>\n",
       "      <td>0.939236</td>\n",
       "    </tr>\n",
       "    <tr>\n",
       "      <th>2</th>\n",
       "      <td>2000-01-03</td>\n",
       "      <td>0.205032</td>\n",
       "      <td>-1.054415</td>\n",
       "      <td>0.503539</td>\n",
       "      <td>0.428913</td>\n",
       "    </tr>\n",
       "    <tr>\n",
       "      <th>3</th>\n",
       "      <td>2000-01-04</td>\n",
       "      <td>1.216234</td>\n",
       "      <td>-0.130831</td>\n",
       "      <td>0.751858</td>\n",
       "      <td>0.564303</td>\n",
       "    </tr>\n",
       "    <tr>\n",
       "      <th>4</th>\n",
       "      <td>2000-01-05</td>\n",
       "      <td>0.285965</td>\n",
       "      <td>1.344955</td>\n",
       "      <td>1.153341</td>\n",
       "      <td>0.838379</td>\n",
       "    </tr>\n",
       "    <tr>\n",
       "      <th>...</th>\n",
       "      <td>...</td>\n",
       "      <td>...</td>\n",
       "      <td>...</td>\n",
       "      <td>...</td>\n",
       "      <td>...</td>\n",
       "    </tr>\n",
       "    <tr>\n",
       "      <th>995</th>\n",
       "      <td>2002-09-22</td>\n",
       "      <td>-42.644131</td>\n",
       "      <td>-7.796991</td>\n",
       "      <td>13.118188</td>\n",
       "      <td>33.967323</td>\n",
       "    </tr>\n",
       "    <tr>\n",
       "      <th>996</th>\n",
       "      <td>2002-09-23</td>\n",
       "      <td>-42.988171</td>\n",
       "      <td>-7.333772</td>\n",
       "      <td>12.277030</td>\n",
       "      <td>34.147140</td>\n",
       "    </tr>\n",
       "    <tr>\n",
       "      <th>997</th>\n",
       "      <td>2002-09-24</td>\n",
       "      <td>-43.873573</td>\n",
       "      <td>-8.171737</td>\n",
       "      <td>12.568960</td>\n",
       "      <td>34.554901</td>\n",
       "    </tr>\n",
       "    <tr>\n",
       "      <th>998</th>\n",
       "      <td>2002-09-25</td>\n",
       "      <td>-43.472897</td>\n",
       "      <td>-8.252335</td>\n",
       "      <td>13.521991</td>\n",
       "      <td>33.713600</td>\n",
       "    </tr>\n",
       "    <tr>\n",
       "      <th>999</th>\n",
       "      <td>2002-09-26</td>\n",
       "      <td>-42.632438</td>\n",
       "      <td>-8.249585</td>\n",
       "      <td>12.857612</td>\n",
       "      <td>33.388876</td>\n",
       "    </tr>\n",
       "  </tbody>\n",
       "</table>\n",
       "<p>1000 rows × 5 columns</p>\n",
       "</div>"
      ],
      "text/plain": [
       "     Unnamed: 0          A         B          C          D\n",
       "0    2000-01-01  -0.213536 -0.043421  -0.129232   0.437628\n",
       "1    2000-01-02  -0.203314 -0.523249  -0.766349   0.939236\n",
       "2    2000-01-03   0.205032 -1.054415   0.503539   0.428913\n",
       "3    2000-01-04   1.216234 -0.130831   0.751858   0.564303\n",
       "4    2000-01-05   0.285965  1.344955   1.153341   0.838379\n",
       "..          ...        ...       ...        ...        ...\n",
       "995  2002-09-22 -42.644131 -7.796991  13.118188  33.967323\n",
       "996  2002-09-23 -42.988171 -7.333772  12.277030  34.147140\n",
       "997  2002-09-24 -43.873573 -8.171737  12.568960  34.554901\n",
       "998  2002-09-25 -43.472897 -8.252335  13.521991  33.713600\n",
       "999  2002-09-26 -42.632438 -8.249585  12.857612  33.388876\n",
       "\n",
       "[1000 rows x 5 columns]"
      ]
     },
     "execution_count": 36,
     "metadata": {},
     "output_type": "execute_result"
    }
   ],
   "source": [
    "# df.to_csv('file_name'), pd.read_csv('file_dir')\n",
    "df.to_csv('foo.csv')\n",
    "pd.read_csv('foo.csv')"
   ]
  },
  {
   "cell_type": "code",
   "execution_count": 37,
   "id": "bedea37d",
   "metadata": {},
   "outputs": [],
   "source": [
    "# df.to_excel('file_name', sheet_name=)\n",
    "df.to_excel('foo.xlsx', sheet_name='Sheet1')"
   ]
  },
  {
   "cell_type": "code",
   "execution_count": 38,
   "id": "e2f7e3a3",
   "metadata": {},
   "outputs": [
    {
     "data": {
      "text/html": [
       "<div>\n",
       "<style scoped>\n",
       "    .dataframe tbody tr th:only-of-type {\n",
       "        vertical-align: middle;\n",
       "    }\n",
       "\n",
       "    .dataframe tbody tr th {\n",
       "        vertical-align: top;\n",
       "    }\n",
       "\n",
       "    .dataframe thead th {\n",
       "        text-align: right;\n",
       "    }\n",
       "</style>\n",
       "<table border=\"1\" class=\"dataframe\">\n",
       "  <thead>\n",
       "    <tr style=\"text-align: right;\">\n",
       "      <th></th>\n",
       "      <th>Unnamed: 0</th>\n",
       "      <th>A</th>\n",
       "      <th>B</th>\n",
       "      <th>C</th>\n",
       "      <th>D</th>\n",
       "    </tr>\n",
       "  </thead>\n",
       "  <tbody>\n",
       "    <tr>\n",
       "      <th>0</th>\n",
       "      <td>2000-01-01</td>\n",
       "      <td>-0.213536</td>\n",
       "      <td>-0.043421</td>\n",
       "      <td>-0.129232</td>\n",
       "      <td>0.437628</td>\n",
       "    </tr>\n",
       "    <tr>\n",
       "      <th>1</th>\n",
       "      <td>2000-01-02</td>\n",
       "      <td>-0.203314</td>\n",
       "      <td>-0.523249</td>\n",
       "      <td>-0.766349</td>\n",
       "      <td>0.939236</td>\n",
       "    </tr>\n",
       "    <tr>\n",
       "      <th>2</th>\n",
       "      <td>2000-01-03</td>\n",
       "      <td>0.205032</td>\n",
       "      <td>-1.054415</td>\n",
       "      <td>0.503539</td>\n",
       "      <td>0.428913</td>\n",
       "    </tr>\n",
       "    <tr>\n",
       "      <th>3</th>\n",
       "      <td>2000-01-04</td>\n",
       "      <td>1.216234</td>\n",
       "      <td>-0.130831</td>\n",
       "      <td>0.751858</td>\n",
       "      <td>0.564303</td>\n",
       "    </tr>\n",
       "    <tr>\n",
       "      <th>4</th>\n",
       "      <td>2000-01-05</td>\n",
       "      <td>0.285965</td>\n",
       "      <td>1.344955</td>\n",
       "      <td>1.153341</td>\n",
       "      <td>0.838379</td>\n",
       "    </tr>\n",
       "    <tr>\n",
       "      <th>...</th>\n",
       "      <td>...</td>\n",
       "      <td>...</td>\n",
       "      <td>...</td>\n",
       "      <td>...</td>\n",
       "      <td>...</td>\n",
       "    </tr>\n",
       "    <tr>\n",
       "      <th>995</th>\n",
       "      <td>2002-09-22</td>\n",
       "      <td>-42.644131</td>\n",
       "      <td>-7.796991</td>\n",
       "      <td>13.118188</td>\n",
       "      <td>33.967323</td>\n",
       "    </tr>\n",
       "    <tr>\n",
       "      <th>996</th>\n",
       "      <td>2002-09-23</td>\n",
       "      <td>-42.988171</td>\n",
       "      <td>-7.333772</td>\n",
       "      <td>12.277030</td>\n",
       "      <td>34.147140</td>\n",
       "    </tr>\n",
       "    <tr>\n",
       "      <th>997</th>\n",
       "      <td>2002-09-24</td>\n",
       "      <td>-43.873573</td>\n",
       "      <td>-8.171737</td>\n",
       "      <td>12.568960</td>\n",
       "      <td>34.554901</td>\n",
       "    </tr>\n",
       "    <tr>\n",
       "      <th>998</th>\n",
       "      <td>2002-09-25</td>\n",
       "      <td>-43.472897</td>\n",
       "      <td>-8.252335</td>\n",
       "      <td>13.521991</td>\n",
       "      <td>33.713600</td>\n",
       "    </tr>\n",
       "    <tr>\n",
       "      <th>999</th>\n",
       "      <td>2002-09-26</td>\n",
       "      <td>-42.632438</td>\n",
       "      <td>-8.249585</td>\n",
       "      <td>12.857612</td>\n",
       "      <td>33.388876</td>\n",
       "    </tr>\n",
       "  </tbody>\n",
       "</table>\n",
       "<p>1000 rows × 5 columns</p>\n",
       "</div>"
      ],
      "text/plain": [
       "    Unnamed: 0          A         B          C          D\n",
       "0   2000-01-01  -0.213536 -0.043421  -0.129232   0.437628\n",
       "1   2000-01-02  -0.203314 -0.523249  -0.766349   0.939236\n",
       "2   2000-01-03   0.205032 -1.054415   0.503539   0.428913\n",
       "3   2000-01-04   1.216234 -0.130831   0.751858   0.564303\n",
       "4   2000-01-05   0.285965  1.344955   1.153341   0.838379\n",
       "..         ...        ...       ...        ...        ...\n",
       "995 2002-09-22 -42.644131 -7.796991  13.118188  33.967323\n",
       "996 2002-09-23 -42.988171 -7.333772  12.277030  34.147140\n",
       "997 2002-09-24 -43.873573 -8.171737  12.568960  34.554901\n",
       "998 2002-09-25 -43.472897 -8.252335  13.521991  33.713600\n",
       "999 2002-09-26 -42.632438 -8.249585  12.857612  33.388876\n",
       "\n",
       "[1000 rows x 5 columns]"
      ]
     },
     "execution_count": 38,
     "metadata": {},
     "output_type": "execute_result"
    }
   ],
   "source": [
    "# pd.read_excel('file_dir', 'sheet_name', index_col=None, na_values=[])\n",
    "pd.read_excel('foo.xlsx', 'Sheet1', index_col=None, na_values=['NA'])"
   ]
  }
 ],
 "metadata": {
  "kernelspec": {
   "display_name": "Python 3",
   "language": "python",
   "name": "python3"
  },
  "language_info": {
   "codemirror_mode": {
    "name": "ipython",
    "version": 3
   },
   "file_extension": ".py",
   "mimetype": "text/x-python",
   "name": "python",
   "nbconvert_exporter": "python",
   "pygments_lexer": "ipython3",
   "version": "3.8.8"
  },
  "toc": {
   "base_numbering": 1,
   "nav_menu": {},
   "number_sections": true,
   "sideBar": true,
   "skip_h1_title": false,
   "title_cell": "Table of Contents",
   "title_sidebar": "Contents",
   "toc_cell": false,
   "toc_position": {
    "height": "calc(100% - 180px)",
    "left": "10px",
    "top": "150px",
    "width": "341.328px"
   },
   "toc_section_display": true,
   "toc_window_display": false
  },
  "varInspector": {
   "cols": {
    "lenName": 16,
    "lenType": 16,
    "lenVar": 40
   },
   "kernels_config": {
    "python": {
     "delete_cmd_postfix": "",
     "delete_cmd_prefix": "del ",
     "library": "var_list.py",
     "varRefreshCmd": "print(var_dic_list())"
    },
    "r": {
     "delete_cmd_postfix": ") ",
     "delete_cmd_prefix": "rm(",
     "library": "var_list.r",
     "varRefreshCmd": "cat(var_dic_list()) "
    }
   },
   "position": {
    "height": "144px",
    "left": "372px",
    "right": "20px",
    "top": "172px",
    "width": "350px"
   },
   "types_to_exclude": [
    "module",
    "function",
    "builtin_function_or_method",
    "instance",
    "_Feature"
   ],
   "window_display": false
  }
 },
 "nbformat": 4,
 "nbformat_minor": 5
}
