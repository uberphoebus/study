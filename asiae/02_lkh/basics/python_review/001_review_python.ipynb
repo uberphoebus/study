{
 "cells": [
  {
   "cell_type": "markdown",
   "id": "3a2e172b",
   "metadata": {},
   "source": [
    "# 01 변수"
   ]
  },
  {
   "cell_type": "markdown",
   "id": "9464e4d2",
   "metadata": {},
   "source": [
    "## 변수"
   ]
  },
  {
   "cell_type": "markdown",
   "id": "63ea4404",
   "metadata": {},
   "source": [
    "변수(variables); 데이터가 저장되는 방의 이름\n",
    "\n",
    "var = vl, func, ...\n",
    "\n",
    "변수명 부여 규칙\n",
    "1. A-Z, a-z, 0-9, _(언더바) 조합\n",
    "2. 숫자가 맨 처음에 올 수 없음\n",
    "3. 공백 쓸 수 없음\n",
    "4. 대소문자 구분\n",
    "5. 파이썬의 기본 명령어(함수)는 피하기"
   ]
  },
  {
   "cell_type": "code",
   "execution_count": 1,
   "id": "a3cbfd01",
   "metadata": {},
   "outputs": [
    {
     "name": "stdout",
     "output_type": "stream",
     "text": [
      "['False', 'None', 'True', 'and', 'as', 'assert', 'async', 'await', 'break', 'class', 'continue', 'def', 'del', 'elif', 'else', 'except', 'finally', 'for', 'from', 'global', 'if', 'import', 'in', 'is', 'lambda', 'nonlocal', 'not', 'or', 'pass', 'raise', 'return', 'try', 'while', 'with', 'yield']\n"
     ]
    }
   ],
   "source": [
    "import keyword\n",
    "print(keyword.kwlist) # 기본 명령어 리스트"
   ]
  },
  {
   "cell_type": "code",
   "execution_count": 2,
   "id": "a4bdf11e",
   "metadata": {},
   "outputs": [
    {
     "data": {
      "text/plain": [
       "int"
      ]
     },
     "execution_count": 2,
     "metadata": {},
     "output_type": "execute_result"
    }
   ],
   "source": [
    "# 기본 문법\n",
    "a = 8 ; b = 3 # ; 활용해서 한 줄 표현\n",
    "type(a) # 데이터 유형, 문자열, 숫자, 리스트, 튜플, 딕셔너리 등\n",
    "# 함수 커서 + shitf + tab ; 함수 확인\n",
    "# var. + tab ; 데이터 유형에 따라 사용가능한 메소드 확인"
   ]
  },
  {
   "cell_type": "code",
   "execution_count": 3,
   "id": "1648e182",
   "metadata": {},
   "outputs": [
    {
     "name": "stdout",
     "output_type": "stream",
     "text": [
      "3\n",
      "3\n",
      "38abc\n",
      "38abc\n",
      "83abc\n",
      "3 8.000000\n"
     ]
    }
   ],
   "source": [
    "# 출력 방법\n",
    "\n",
    "a = 3\n",
    "b = 8\n",
    "c = 'abc'\n",
    "print(a)\n",
    "a # 변수명만\n",
    "print('{}'.format(a))\n",
    "print('{}{}{}'.format(a, b, c))\n",
    "print('{0}{1}{2}'.format(a, b, c)) # 순서 부여\n",
    "print('{1}{0}{2}'.format(a, b, c)) # 순서 수정 가능\n",
    "print('%d %f'%(a, b)) # %d 정수, %f 실수(소수점)"
   ]
  },
  {
   "cell_type": "markdown",
   "id": "e693cf87",
   "metadata": {},
   "source": [
    "## 숫자"
   ]
  },
  {
   "cell_type": "code",
   "execution_count": 4,
   "id": "f3766ee9",
   "metadata": {},
   "outputs": [
    {
     "name": "stdout",
     "output_type": "stream",
     "text": [
      "0\n",
      "3\n",
      "i =  0\n",
      "i =  10\n",
      "i =  20\n",
      "i =  30\n",
      "i =  40\n",
      "i =  50\n",
      "i =  60\n",
      "i =  70\n",
      "i =  80\n",
      "i =  90\n"
     ]
    }
   ],
   "source": [
    "print(a//b) # 나누기 몫\n",
    "print(a%b) # 나누기 나머지, 반복문에서 활용\n",
    "\n",
    "for i in range(0, 100):\n",
    "    if i%10 == 0: # 10 단위 부여\n",
    "        print('i = ', i)"
   ]
  },
  {
   "cell_type": "markdown",
   "id": "756cf34b",
   "metadata": {},
   "source": [
    "## 문자열"
   ]
  },
  {
   "cell_type": "code",
   "execution_count": 5,
   "id": "02a50e65",
   "metadata": {},
   "outputs": [
    {
     "name": "stdout",
     "output_type": "stream",
     "text": [
      "14\n",
      "h\n",
      "pytho\n",
      "python is e\n",
      "pto ses\n",
      "['abc', '123', 'def']\n",
      "def\n",
      "abc,123,def\n"
     ]
    }
   ],
   "source": [
    "temp = 'python is easy'\n",
    "temp2 = 'abc,123,def'\n",
    "temp3 = temp2.split(',')\n",
    "\n",
    "print( len(temp) ) # len(str) 문자열 길이\n",
    "\n",
    "print( temp[3] ) # str[n] n번 인덱스\n",
    "print( temp[0:5] ) # str[a:b+1] a부터 b까지 슬라이싱\n",
    "print( temp[:-3] ) # 처음부터 -3 까지\n",
    "print( temp[::2] ) # str[::n] n개 씩(step) 건너뜀 \n",
    "\n",
    "print( temp2.split(',') ) # str.split(a) a(띄어쓰기) 기준 리스트화\n",
    "print( temp2.split(',')[-1] ) # str.split()[n] 리스트화 후 n번째\n",
    "print( ','.join(temp3) ) # 'a'.join(str) a 기준으로 문자열 합치기"
   ]
  },
  {
   "cell_type": "markdown",
   "id": "161faa73",
   "metadata": {},
   "source": [
    "# 02 데이터 구조; 리스트, 튜플, 딕셔너리"
   ]
  },
  {
   "cell_type": "markdown",
   "id": "e591647d",
   "metadata": {},
   "source": [
    "## 리스트 [ ]\n",
    "list = [vl1, vl2, ...]"
   ]
  },
  {
   "cell_type": "code",
   "execution_count": 6,
   "id": "6d402706",
   "metadata": {},
   "outputs": [
    {
     "name": "stdout",
     "output_type": "stream",
     "text": [
      "['one', 'two', 'three', 'four']\n",
      "['one', 'two', 'three', 'four']\n",
      "['a', 'b', 'c', 'd', 'e', 'f', 'g']\n",
      "three\n",
      "['three', 'four']\n",
      "4\n",
      "['first', 'two', 'three', 'four']\n",
      "['first', 'two', 'three', 'four', 'five']\n",
      "['first', 'three', 'four', 'five']\n",
      "['first', 'four', 'five']\n",
      "['first', 'four', 'five', 'six', 'seven']\n",
      "[1, 2, 3, 4, 5]\n",
      "[1, 5, 4, 3, 2]\n",
      "[1, 2, 3, 4, 5]\n",
      "[5, 4, 3, 2, 1]\n"
     ]
    }
   ],
   "source": [
    "lst = ['one', 'two', 'three', 'four']\n",
    "lst2 = ['six', 'seven']\n",
    "lst_num = [1, 5, 4, 3, 2]\n",
    "tup = ('one', 'two', 'three', 'four')\n",
    "a = 'abcdefg'\n",
    "\n",
    "print( lst )\n",
    "\n",
    "print( list(tup) ) # list(var) 리스트화\n",
    "print( list(a) ) # literable(반복구조) 자료 리스트화\n",
    "\n",
    "print( lst[2] ) # list[n] n번 인덱스, 없다면 오류\n",
    "\n",
    "print( lst[2:4] ) # list[a:b+1] a부터 b까지 슬라이싱\n",
    "\n",
    "print( len(lst) ) # len(list) 리스트 값 개수 확인\n",
    "\n",
    "lst[0] = 'first' # list[n] = vl n번 인덱스 vl 지정\n",
    "print(lst)\n",
    "\n",
    "lst.append('five') # list.append('a') 값 a 추가\n",
    "print(lst)\n",
    "\n",
    "del lst[1] # del list[n] n번 인덱스 삭제하면서 자리 채움\n",
    "print(lst)\n",
    "\n",
    "lst.remove('three') # list.remove('a') a 값 삭제\n",
    "print(lst)\n",
    "\n",
    "lst.extend(lst2) # list1.extend(list2) 리스트1에 리스트2 합침\n",
    "print(lst)\n",
    "\n",
    "print( sorted(lst_num) ) # sorted(list) 정렬\n",
    "print(lst_num) # 구조는 변경하지 않음\n",
    "\n",
    "lst_num.sort() # list.sort() 정렬하여 구조 변경(자료유형 같을 때만)\n",
    "print(lst_num)\n",
    "\n",
    "lst_num.sort(reverse=True) # 역순\n",
    "print(lst_num)"
   ]
  },
  {
   "cell_type": "markdown",
   "id": "84e6ef48",
   "metadata": {},
   "source": [
    "# 튜플 ( )\n",
    "tup = (vl1, vl2, ...)\n",
    "\n",
    "수정 불가능. count, index만 사용 가능"
   ]
  },
  {
   "cell_type": "code",
   "execution_count": 7,
   "id": "b41cc62b",
   "metadata": {},
   "outputs": [
    {
     "name": "stdout",
     "output_type": "stream",
     "text": [
      "1\n",
      "2\n"
     ]
    }
   ],
   "source": [
    "tup = ('a', 'b', 'c', 'd', 'e')\n",
    "\n",
    "print( tup.count('c') ) # tup.count(a) 값 a 개수 확인\n",
    "\n",
    "print( tup.index('c') ) # tup.index(n) 특정 값 첫번째 출현 인덱스"
   ]
  },
  {
   "cell_type": "markdown",
   "id": "da29bb1a",
   "metadata": {},
   "source": [
    "# 딕셔너리 { }\n",
    "dic = {k1:v1, k2:v2, ...}\n",
    "\n",
    "키에 값을 할당(아이템)한 구조"
   ]
  },
  {
   "cell_type": "code",
   "execution_count": 8,
   "id": "2f7c83b3",
   "metadata": {},
   "outputs": [
    {
     "name": "stdout",
     "output_type": "stream",
     "text": [
      "{'app': 3, 'pee': 6, 'cher': 8}\n",
      "dict_keys(['app', 'pee', 'cher'])\n",
      "dict_values([3, 6, 8])\n",
      "dict_items([('app', 3), ('pee', 6), ('cher', 8)])\n",
      "6\n",
      "3\n",
      "{'app': 3, 'pee': 6, 'cher': 8, 'grap': 2, 'mel': 4}\n",
      "{'app': 3, 'pee': 6, 'cher': 8, 'grap': 2}\n"
     ]
    }
   ],
   "source": [
    "fru_tup = [['app', 3], ['pee', 6], ['cher', 8]]\n",
    "fru2 = {'grap':2, 'mel':4}\n",
    "\n",
    "fru = dict(fru_tup) # dic(var) 리스트/튜플을 딕셔너리화\n",
    "print(fru)\n",
    "\n",
    "print( fru.keys() ) # dic.keys() 키만 출력\n",
    "\n",
    "print( fru.values() ) # dic.values() 값만 출력\n",
    "\n",
    "print( fru.items() ) # dic.items() 아이템 출럭\n",
    "\n",
    "print( fru['pee'] ) # dic[key] 키로 접근\n",
    "print( fru.get('app') ) # dic.get(key) 키로 접근\n",
    "\n",
    "fru.update(fru2) # dic1.update(dic2) dic1에 dic2 병합\n",
    "print(fru)\n",
    "\n",
    "del fru['mel'] # del dic[key] 특정 키의 값 삭제\n",
    "print(fru)"
   ]
  },
  {
   "cell_type": "markdown",
   "id": "206da486",
   "metadata": {},
   "source": [
    "# 객체와 클래스\n",
    "\n",
    "1. 객체 지향 프로그래밍(object oriented programming; oop)\n",
    "\n",
    "2. 클래스(Class); 변수와 메소드로 구성, 붕어빵 틀\n",
    "\n",
    "3. 클래스는 객체(자동차)를 표현합니다.\n",
    "   - 변수 : 색상, 옵션, ...\n",
    "   - 메소드 : 기능, 내비게이션, 블랙박스, ...\n",
    "\n",
    "4. 인스턴스(차대번호가 있는 차, 붕어빵) = 클래스()\n",
    "\n",
    "5. 클래스 : 똑같은 것을 계속 만들어 낼 수 있는 설계 도면\n",
    "\n",
    "   인스턴스 : 설계 도면을 통해 만들어낸 것들"
   ]
  },
  {
   "cell_type": "code",
   "execution_count": 9,
   "id": "74c73739",
   "metadata": {},
   "outputs": [],
   "source": [
    "# 클래스 기본형태, 생성\n",
    "\n",
    "# class 클래스명: # 첫 문자, 각 단어 첫문자 대문자 권장\n",
    "#     클래스변수_선언 # 내부와 외부 변수를 별도로 설정\n",
    "#     def 메소드명1: # 메소드 : 클래스 내부의 함수, self 인자 포함\n",
    "#         코드1\n",
    "#         코드2\n",
    "#         return\n",
    "#     def 메소드명2:\n",
    "#         코드1\n",
    "#         코드2\n",
    "#         return\n",
    "#     def 메소드명3:\n",
    "#         코드1\n",
    "#         코드2\n",
    "#         return"
   ]
  },
  {
   "cell_type": "code",
   "execution_count": 10,
   "id": "9f52ecf0",
   "metadata": {},
   "outputs": [
    {
     "name": "stdout",
     "output_type": "stream",
     "text": [
      "7\n",
      "7\n",
      "7\n",
      "문자\n"
     ]
    }
   ],
   "source": [
    "# 클래스 예제01\n",
    "class Calculator:\n",
    "    txt = '문자'\n",
    "    def sum(self, a, b): # 클래스 내부에는 (self, ) 선언 필수\n",
    "        c = a + b\n",
    "        return c\n",
    "\n",
    "x = Calculator() # 클래스에 변수를 부여해 사용\n",
    "print(x.sum(3, 4))\n",
    "\n",
    "y = x.sum(3, 4)\n",
    "print(y)\n",
    "\n",
    "print(Calculator().sum(3, 4))\n",
    "\n",
    "print(x.txt)"
   ]
  },
  {
   "cell_type": "code",
   "execution_count": 11,
   "id": "ab1e50f5",
   "metadata": {},
   "outputs": [
    {
     "name": "stdout",
     "output_type": "stream",
     "text": [
      "클래스를 시작합니다.\n",
      "<__main__.Employee object at 0x000001E520DF5CA0>\n",
      "홍길동\n",
      "100\n",
      "hello =  홍길동\n",
      "None\n",
      "클래스를 시작합니다.\n",
      "<__main__.Employee object at 0x000001E520DF4070>\n",
      "이순신\n",
      "200\n"
     ]
    }
   ],
   "source": [
    "# 클래스 예제02\n",
    "# 클래스의 인자값, 내부의 일부 변수는 조작 가능\n",
    "\n",
    "class Employee:\n",
    "    def __init__(self, name, salary): # 생성표기 문법 함수, 클래스 실행시 실행 명령\n",
    "        print('클래스를 시작합니다.')\n",
    "        self.name = name # 우측항 name은 외부에서 입력받아 옴\n",
    "        self.salary = salary # self.name은 클래스 내부에 별도 저장\n",
    "    def displaycount(self):\n",
    "        print('hello = ', self.name)\n",
    "\n",
    "x = Employee('홍길동', 100)\n",
    "print(x) # __init__ 메소드만 실행\n",
    "\n",
    "print(x.name)\n",
    "print(x.salary)\n",
    "\n",
    "print(x.displaycount()) # 인스턴스 변수; 내부에서만 작동하는 변수\n",
    "\n",
    "y = Employee('이순신', 200)\n",
    "print(y)\n",
    "\n",
    "print(y.name)\n",
    "print(y.salary)"
   ]
  },
  {
   "cell_type": "code",
   "execution_count": 12,
   "id": "064242de",
   "metadata": {},
   "outputs": [
    {
     "name": "stdout",
     "output_type": "stream",
     "text": [
      "<__main__.Job object at 0x000001E520DF5A90>\n",
      "pay = 1230\n",
      "None\n",
      "incentive = 345\n",
      "None\n"
     ]
    }
   ],
   "source": [
    "# 클래스 예제03\n",
    "\n",
    "class Job:\n",
    "    def __init__(self, name, salary):\n",
    "        self.name = name\n",
    "        self.salary = salary\n",
    "    def pay(self):\n",
    "        print('pay =', self.salary * 10)\n",
    "    def incentive(self, money):\n",
    "        print('incentive =', money)\n",
    "\n",
    "x = Job('길동', 123)\n",
    "print(x)\n",
    "print(x.pay())\n",
    "print(x.incentive(345))"
   ]
  },
  {
   "cell_type": "markdown",
   "id": "af729975",
   "metadata": {},
   "source": [
    "# 모듈 설치\n",
    "\n",
    "1. 오타 확인\n",
    "\n",
    "2. 설치가 안되어 있을 때 설치 작업\n",
    "   - conda promt; conda install 라이브러리명 or pip install 라이브러리명\n",
    "\n",
    "3. conda or pop 설치 에러 메시지\n",
    "   - https://www.lfd.uci.edu/~gohlke/pythonlibs/\n",
    "   - url에서 해당 라이브러리.whl 다운로드 후 \n",
    "   - conda/pip install 라이브러리명.whl"
   ]
  },
  {
   "cell_type": "code",
   "execution_count": 13,
   "id": "e61c5088",
   "metadata": {},
   "outputs": [
    {
     "name": "stdout",
     "output_type": "stream",
     "text": [
      "Requirement already satisfied: selenium in c:\\users\\toto\\anaconda3\\lib\\site-packages (3.141.0)\n",
      "Requirement already satisfied: urllib3 in c:\\users\\toto\\anaconda3\\lib\\site-packages (from selenium) (1.26.4)\n"
     ]
    }
   ],
   "source": [
    "!pip install selenium\n",
    "# !를 붙여 anaconda prompt로 실행"
   ]
  },
  {
   "cell_type": "code",
   "execution_count": 14,
   "id": "1b8c6061",
   "metadata": {},
   "outputs": [
    {
     "name": "stdout",
     "output_type": "stream",
     "text": [
      "Overwriting main.py\n"
     ]
    }
   ],
   "source": [
    "%%writefile main.py\n",
    "# 매직명령어 %%writefile 로 파일 생성\n",
    "\n",
    "if __name__ == '__main__': # __name__ 시스템의 변수명\n",
    "    print('모듈 시작.')\n",
    "    print('__name__ = ', __name__)\n",
    "    print('모듈 끝.')\n",
    "else:\n",
    "    print('다른 모듈에서 import 수행 시 실행.')\n",
    "    print('__name__', __name__)"
   ]
  },
  {
   "cell_type": "code",
   "execution_count": 15,
   "id": "f9b6e13a",
   "metadata": {},
   "outputs": [
    {
     "name": "stdout",
     "output_type": "stream",
     "text": [
      "모듈 시작.\n",
      "__name__ =  __main__\n",
      "모듈 끝.\n"
     ]
    }
   ],
   "source": [
    "!python main.py\n",
    "# 프로그램 실행"
   ]
  },
  {
   "cell_type": "code",
   "execution_count": 16,
   "id": "d1b31f0a",
   "metadata": {},
   "outputs": [
    {
     "name": "stdout",
     "output_type": "stream",
     "text": [
      "Overwriting calc.py\n"
     ]
    }
   ],
   "source": [
    "%%writefile calc.py\n",
    "# 직접 실행할 수도 있고, 다른 모듈에서 불러오게 할 수 있음\n",
    "\n",
    "def add(a, b):\n",
    "    return a + b\n",
    "def mul(a, b):\n",
    "    return a * b\n",
    "def sub(a, b):\n",
    "    return a - b\n",
    "if __name__ == '__main__':\n",
    "    print('** main ** ')\n",
    "    print(add(10, 20))\n",
    "    print(mul(10, 20))\n",
    "    print(sub(10, 20))"
   ]
  },
  {
   "cell_type": "code",
   "execution_count": 17,
   "id": "266a7334",
   "metadata": {},
   "outputs": [
    {
     "name": "stdout",
     "output_type": "stream",
     "text": [
      "** main ** \n",
      "30\n",
      "200\n",
      "-10\n"
     ]
    }
   ],
   "source": [
    "!python calc.py"
   ]
  },
  {
   "cell_type": "code",
   "execution_count": 18,
   "id": "ba318d58",
   "metadata": {},
   "outputs": [
    {
     "name": "stdout",
     "output_type": "stream",
     "text": [
      "8\n"
     ]
    }
   ],
   "source": [
    "import calc\n",
    "# 만든 모듈 불러오기(calc.py)\n",
    "print(calc.add(3, 5))"
   ]
  },
  {
   "cell_type": "markdown",
   "id": "4d5c91bf",
   "metadata": {},
   "source": [
    "# 함수 내 지역변수, 젼역변수"
   ]
  },
  {
   "cell_type": "code",
   "execution_count": 19,
   "id": "effde5b9",
   "metadata": {},
   "outputs": [
    {
     "name": "stdout",
     "output_type": "stream",
     "text": [
      "a in func1 =  1\n",
      "1\n",
      "5\n"
     ]
    }
   ],
   "source": [
    "# 지역변수와 전역변수\n",
    "\n",
    "a = 5 # 전역변수; 함수 밖에서 작동하는 변수\n",
    "def func1():\n",
    "    a = 1 # 지역변수; 함수 내에서만 작동하는 변수\n",
    "    print('a in func1 = ', a)\n",
    "    return a # 외부에서도 작동하게끔 반환\n",
    "\n",
    "print(func1()) # 함수 내 지역변수 a 출력\n",
    "print(a) # 전역변수 a 출력"
   ]
  },
  {
   "cell_type": "code",
   "execution_count": 20,
   "id": "04e7da1e",
   "metadata": {},
   "outputs": [
    {
     "name": "stdout",
     "output_type": "stream",
     "text": [
      "func2 a =  5\n",
      "5\n"
     ]
    }
   ],
   "source": [
    "# global()\n",
    "a = 5\n",
    "def func2():\n",
    "    global a # 전역변수 a를 함수 내로 들여오는 함수\n",
    "    print('func2 a = ', a)\n",
    "    return a\n",
    "\n",
    "print(func2())"
   ]
  },
  {
   "cell_type": "markdown",
   "id": "f9d1ccf4",
   "metadata": {},
   "source": [
    "# 중요 함수들\n",
    "\n",
    "\n",
    "파이썬 표준 라이브러리(외장함수)\n",
    "\n",
    "- sys; 파이썬 인터프리터 제어\n",
    "- string; 문자열 제어\n",
    "- calendar; 날짜 관련 함수\n",
    "- collections; 다양한 형태의 자료구조 제공\n",
    "- csv; csv 파일 읽고 쓰기\n",
    "- datetime; 날짜와 시간\n",
    "- glob; 유닉스 스타일의 파일명 패턴 찾기\n",
    "- json; json 포맷 읽고 쓰기\n",
    "\n",
    "주요 파이썬 내장함수\n",
    "\n",
    "https://docs.python.org/ko/3/library/functions.html\n",
    "\n",
    "https://www.w3schools.com/python/python_ref_functions.asp\n",
    "\n",
    "- chr()\n",
    "- dict(), list(), set(), tuple()\n",
    "- enumerate()\n",
    "- eval()\n",
    "- filter()\n",
    "- float(), int(), str()\n",
    "- id()\n",
    "- input(), print(), open()\n",
    "- len()\n",
    "- map()\n",
    "- max(), min()\n",
    "- next()\n",
    "- range()\n",
    "- round()\n",
    "- sorted()\n",
    "- sum()\n",
    "- type()\n",
    "- zip()\n",
    "\n",
    "주요 문자열 메서드\n",
    "- count(), encode(), find(), format(), index(),\n",
    "- join(), lstrip(), rstrip(), replace(), split()\n",
    "\n",
    "주요 리스트 메서드; append, copy, count, extend, index, remove\n",
    "\n",
    "주요 딕셔너리 메서드; copy, get, items, keys, update, values\n",
    "\n",
    "주요 튜플 메서드; count, index\n",
    "\n",
    "주요 세트 메서드; copy, differenct, intersection, union"
   ]
  },
  {
   "cell_type": "code",
   "execution_count": 21,
   "id": "67c92850",
   "metadata": {},
   "outputs": [
    {
     "name": "stdout",
     "output_type": "stream",
     "text": [
      "140709659748144\n",
      "140709659748176\n",
      "140709659748176\n",
      "140709659748176\n",
      "140709659748208\n",
      "140709659748176\n"
     ]
    }
   ],
   "source": [
    "# id(); 객체 값의 주소\n",
    "\n",
    "a = 1; b = 2\n",
    "print(id(a))\n",
    "print(id(b))\n",
    "\n",
    "c = 2; d = c # 같은 id\n",
    "print(id(c))\n",
    "print(id(d))\n",
    "\n",
    "b = 3\n",
    "print(id(b))\n",
    "print(id(c))"
   ]
  },
  {
   "cell_type": "code",
   "execution_count": 22,
   "id": "54c0505a",
   "metadata": {},
   "outputs": [
    {
     "name": "stdout",
     "output_type": "stream",
     "text": [
      "2083610534272\n",
      "2083610534272\n",
      "[1, 99, 3]\n",
      "[1, 99, 3]\n",
      "2083610534272\n",
      "2083610534272\n",
      "True\n",
      "2083610534336\n",
      "2083610536896\n"
     ]
    }
   ],
   "source": [
    "# mutable vs immutable\n",
    "a1 = [1, 2, 3]; b1 = a1\n",
    "print(id(a1))\n",
    "print(id(b1))\n",
    "\n",
    "a1[1] = 99\n",
    "print(a1); print(b1)\n",
    "print(id(a1)); print(id(b1))\n",
    "print(id(a1) == id(b1)) # 같은 id\n",
    "\n",
    "c1 = a1.copy() # 복제 함수\n",
    "d1 = a1[:] # 전체 범위를 뷰\n",
    "print(id(c1)) # 값은 같아도 다른 id 부여\n",
    "print(id(d1))"
   ]
  },
  {
   "cell_type": "code",
   "execution_count": 23,
   "id": "06bce3c1",
   "metadata": {},
   "outputs": [
    {
     "name": "stdout",
     "output_type": "stream",
     "text": [
      "[(0, 'a'), (1, 'b'), (2, 'c'), (3, 'd')]\n",
      "[(0, 'a'), (1, 'b'), (2, 'c')]\n"
     ]
    }
   ],
   "source": [
    "# enumerate(); (인덱스, 데이터)로 리스트 구성\n",
    "sea = ['a', 'b', 'c', 'd']\n",
    "print(list(enumerate(sea)))\n",
    "\n",
    "x = ('a', 'b', 'c')\n",
    "y = enumerate(x)\n",
    "print(list(y))"
   ]
  },
  {
   "cell_type": "code",
   "execution_count": 24,
   "id": "81db310c",
   "metadata": {},
   "outputs": [
    {
     "name": "stdout",
     "output_type": "stream",
     "text": [
      "<class 'str'>\n",
      "2\n",
      "print(55)\n",
      "55\n",
      "None\n",
      "132\n"
     ]
    }
   ],
   "source": [
    "# eval(); 문자열을 숫자처럼 연산해줌\n",
    "x = 1 # 숫자\n",
    "a = 'x + 1' # 문자열\n",
    "print(type(a))\n",
    "print(eval(a))\n",
    "\n",
    "x = 'print(55)'\n",
    "print(x)\n",
    "print(eval(x))\n",
    "\n",
    "b = eval('100 + 32')\n",
    "print(b)"
   ]
  },
  {
   "cell_type": "code",
   "execution_count": 25,
   "id": "89d40819",
   "metadata": {},
   "outputs": [
    {
     "name": "stdout",
     "output_type": "stream",
     "text": [
      "False\n",
      "[18, 24, 32]\n",
      "[2, 4, 6, 8, 10]\n",
      "[2, 4, 6, 8, 10]\n"
     ]
    }
   ],
   "source": [
    "# filter(); T/F 함수에서 리스트 데이터를 넣어 True 값을 도출\n",
    "\n",
    "ages = [5, 12, 17, 18, 24, 32]\n",
    "\n",
    "def myfunc(x):\n",
    "    if x < 18:\n",
    "        return False\n",
    "    else:\n",
    "        return True\n",
    "\n",
    "print(myfunc(5)) # myfunc()의 인자에 리스트는 불가능\n",
    "\n",
    "print(list(filter(myfunc, ages)))\n",
    "# iterable(리스트형) 데이터를 함수에 넣어서, True 값만 찾아옴\n",
    "# filter된 객체를 list하여 리스트 구성\n",
    "\n",
    "# filter 예제; 짝수만 골라내기\n",
    "target = list(range(1, 11))\n",
    "\n",
    "def is_even(n):\n",
    "    return True if n % 2 == 0 else False\n",
    "\n",
    "print(list(filter(is_even, target)))\n",
    "\n",
    "print(list(filter(lambda x : x % 2 == 0, list(range(1, 11)))))\n",
    "# 반복사용하지 않는 함수라면 lambda 활용"
   ]
  },
  {
   "cell_type": "code",
   "execution_count": 26,
   "id": "33737253",
   "metadata": {},
   "outputs": [
    {
     "name": "stdout",
     "output_type": "stream",
     "text": [
      "[5, 6, 6]\n",
      "[2, 3, 4, 5, 6, 7, 8, 9, 10, 11]\n",
      "[2, 3, 4, 5, 6, 7, 8, 9, 10, 11]\n"
     ]
    }
   ],
   "source": [
    "# map(); 중요. filter와 유사하지만, 함수가 T/F가 아니어도 됨\n",
    "def myfunc(n):\n",
    "    return len(n)\n",
    "print(list(map(myfunc, ('apple', 'banana', 'cherry'))))\n",
    "\n",
    "def myfunc2(n):\n",
    "    return n + 1\n",
    "\n",
    "print(list(map(myfunc2, target)))\n",
    "print(list(map(lambda x : x + 1, target)))"
   ]
  },
  {
   "cell_type": "code",
   "execution_count": 27,
   "id": "dc33ca61",
   "metadata": {},
   "outputs": [
    {
     "name": "stdout",
     "output_type": "stream",
     "text": [
      "[(1, 4), (2, 5), (3, 6)]\n"
     ]
    }
   ],
   "source": [
    "# zip(); 리스트들을 인덱스마다 튜플로 묶은 객체 구성\n",
    "x = list(range(1, 4))\n",
    "y = list(range(4, 7))\n",
    "print(list(zip(x, y)))\n",
    "# 개수가 다르면 같은 인덱스까지만 묶음"
   ]
  },
  {
   "cell_type": "code",
   "execution_count": 28,
   "id": "ef2a3583",
   "metadata": {},
   "outputs": [
    {
     "name": "stdout",
     "output_type": "stream",
     "text": [
      "15\n",
      "15\n",
      "15\n",
      "22\n",
      "22\n"
     ]
    }
   ],
   "source": [
    "# lambda; 반복사용하지 않는 함수에 활용\n",
    "def x(a):\n",
    "    return a + 10\n",
    "print(x(5))\n",
    "\n",
    "y = lambda a : a + 10\n",
    "print(y(5))\n",
    "\n",
    "print((lambda a : a + 10)(5)) # 한번에 표현\n",
    "\n",
    "# 함수 내부에서 표현\n",
    "def myfunc(n):\n",
    "    return lambda a : a * n\n",
    "print(myfunc(2)(11))\n",
    "\n",
    "print((lambda a : a * 2)(11))"
   ]
  },
  {
   "cell_type": "markdown",
   "id": "34e6e2cc",
   "metadata": {},
   "source": [
    "# 210802"
   ]
  },
  {
   "cell_type": "code",
   "execution_count": 29,
   "id": "3a898892",
   "metadata": {},
   "outputs": [
    {
     "name": "stdout",
     "output_type": "stream",
     "text": [
      "[3, 2, 2]\n"
     ]
    }
   ],
   "source": [
    "# 실습01; 홀짝 문자열 카운트\n",
    "# input -> [1, 2, 3, 'a', 6, 7, 'b']\n",
    "# output -> 홀수(3개), 짝수(2개), 문자열(2개)\n",
    "# 리스트화 방법, 각각 세는 방법, 세 변수의 리스트 구성 방법\n",
    "\n",
    "x = [1, 2, 3, 'a', 6, 7, 'b']\n",
    "\n",
    "count = [0, 0, 0]\n",
    "\n",
    "for i in x:\n",
    "    if type(i) == str:\n",
    "        count[2] += 1\n",
    "    elif i % 2 ==0:\n",
    "        count[1] += 1\n",
    "    else:\n",
    "        count[0] += 1\n",
    "print(count)"
   ]
  },
  {
   "cell_type": "code",
   "execution_count": 30,
   "id": "40b05983",
   "metadata": {},
   "outputs": [
    {
     "data": {
      "text/plain": [
       "[3, 2, 2]"
      ]
     },
     "execution_count": 30,
     "metadata": {},
     "output_type": "execute_result"
    }
   ],
   "source": [
    "# 실습02; 실습01을 input_count() 함수를 만들어 처리\n",
    "# y = input_count(x)\n",
    "\n",
    "x = [1, 2, 3, 'a', 6, 7, 'b']\n",
    "\n",
    "count = [0, 0, 0]\n",
    "\n",
    "def input_count(x):\n",
    "    for i in x:\n",
    "        if type(i) == str:\n",
    "            count[2] += 1\n",
    "        elif i % 2 ==0:\n",
    "            count[1] += 1\n",
    "        else:\n",
    "            count[0] += 1\n",
    "    return count\n",
    "\n",
    "y = input_count(x); y"
   ]
  },
  {
   "cell_type": "code",
   "execution_count": 31,
   "id": "e6c07e65",
   "metadata": {},
   "outputs": [
    {
     "data": {
      "text/plain": [
       "[2, 2, 3]"
      ]
     },
     "execution_count": 31,
     "metadata": {},
     "output_type": "execute_result"
    }
   ],
   "source": [
    "# 실습03; 실습02에서 리스트가 아니며, 개수를 알 수 없는 데이터 처리\n",
    "# 1. 1, 2, 3, 'ab', 'e'와 같은 방식\n",
    "# 2. 몇 개가 들어올지 알 수 없음\n",
    "# 3. *args\n",
    "\n",
    "count = [0, 0, 0]\n",
    "def input_count1(*args):\n",
    "    for i in args:\n",
    "        if type(i) == str:\n",
    "            count[2] += 1\n",
    "        elif i % 2 ==0:\n",
    "            count[1] += 1\n",
    "        else:\n",
    "            count[0] += 1\n",
    "    return count\n",
    "\n",
    "y = input_count1(1, 6, 3, 'a', 'n', 4, 'f')\n",
    "y"
   ]
  },
  {
   "cell_type": "code",
   "execution_count": 32,
   "id": "01a762c6",
   "metadata": {},
   "outputs": [
    {
     "name": "stdout",
     "output_type": "stream",
     "text": [
      "2020 윤년\n"
     ]
    }
   ],
   "source": [
    "# 실습04; 윤년 계산\n",
    "# 1. input = 2020\n",
    "# 2. ountput -> ????년은 윤년입니다. / ????년은 평년입니다.\n",
    "# 3. 계산방법; 4로 나눠서 떨어지고, 100으로 나누어 떨어지지 않으며, 연도가 400으로 나누어 떨어지는 연도\n",
    "\n",
    "year = 2020\n",
    "\n",
    "if ((year % 4 == 0) & (year % 100 != 0)) | (year % 400 == 0):\n",
    "    result = '윤년'\n",
    "else:\n",
    "    result = '평년'\n",
    "print(year, result)"
   ]
  },
  {
   "cell_type": "code",
   "execution_count": 33,
   "id": "0056ab9d",
   "metadata": {},
   "outputs": [
    {
     "data": {
      "text/plain": [
       "'윤년'"
      ]
     },
     "execution_count": 33,
     "metadata": {},
     "output_type": "execute_result"
    }
   ],
   "source": [
    "# 실습05; leap_year() 함수로 처리\n",
    "\n",
    "year = 2020\n",
    "\n",
    "def leap_year(year):\n",
    "    if ((year % 4 == 0) & (year % 100 != 0)) | (year % 400 == 0):\n",
    "        result = '윤년'\n",
    "    else:\n",
    "        result = '평년'\n",
    "    return result\n",
    "\n",
    "y = leap_year(year); y"
   ]
  },
  {
   "cell_type": "code",
   "execution_count": 34,
   "id": "2bd75512",
   "metadata": {},
   "outputs": [],
   "source": [
    "# 실습06; 실습05 + 화면에서 년도를 입력 받아 처리\n",
    "\n",
    "# year = int(input('연도를 입력하세요. '))\n",
    "\n",
    "def leap_year(year):\n",
    "    if ((year % 4 == 0) & (year % 100 != 0)) | (year % 400 == 0):\n",
    "        result = '윤년'\n",
    "    else:\n",
    "        result = '평년'\n",
    "    return result\n",
    "\n",
    "# y = leap_year(year); y"
   ]
  },
  {
   "cell_type": "code",
   "execution_count": 35,
   "id": "5eeed3ee",
   "metadata": {},
   "outputs": [
    {
     "name": "stdout",
     "output_type": "stream",
     "text": [
      "[1980, 2019, 2020, 2021] ['윤년', '평년', '윤년', '평년']\n",
      "[1980, 2019, 2020, 2021] ['윤년', '평년', '윤년', '평년']\n"
     ]
    }
   ],
   "source": [
    "# 실습07; 반복처리\n",
    "# year = [1980, 2019, 2020, 2021]\n",
    "# output '{}년은 {}년입니다.'\n",
    "\n",
    "year = [1980, 2019, 2020, 2021]\n",
    "result_list = []\n",
    "\n",
    "for i in year:\n",
    "    result_list.append(leap_year(i))\n",
    "\n",
    "print(year, result_list)\n",
    "\n",
    "print(year,\n",
    "      list(map(leap_year, year)))    "
   ]
  },
  {
   "cell_type": "code",
   "execution_count": 36,
   "id": "5ef5a1a6",
   "metadata": {},
   "outputs": [
    {
     "name": "stdout",
     "output_type": "stream",
     "text": [
      "종료합니다.\n",
      "윤년\n"
     ]
    }
   ],
   "source": [
    "# 실습08; 반복처리\n",
    "# 1. 화면에서 연도를 입력받아 처리\n",
    "# 2. 함수를 활용\n",
    "# 3. while 활용\n",
    "# 4. 연도가 0이면 종료\n",
    "\n",
    "while True:\n",
    "    year = 0 # int(input('연도를 입력하세요. '))\n",
    "    if year == 0:\n",
    "        break\n",
    "print('종료합니다.')\n",
    "print(leap_year(year))"
   ]
  },
  {
   "cell_type": "code",
   "execution_count": 37,
   "id": "17443b6d",
   "metadata": {},
   "outputs": [
    {
     "name": "stdout",
     "output_type": "stream",
     "text": [
      "종료합니다.\n",
      "[]\n"
     ]
    }
   ],
   "source": [
    "# 실습09; while 반복문 활용\n",
    "# 1. 연도와 결과를 보관\n",
    "# 2. [연도, 결과] 데이터 만들기(list, dict)\n",
    "\n",
    "year_leap = []\n",
    "\n",
    "while True:\n",
    "#     year = int(input('연도를 입력하세요. '))\n",
    "    if year == 0:\n",
    "        break\n",
    "    year_leap.append([year, leap_year(year)])\n",
    "\n",
    "print('종료합니다.')\n",
    "print(year_leap)"
   ]
  },
  {
   "cell_type": "code",
   "execution_count": 38,
   "id": "11b95662",
   "metadata": {},
   "outputs": [
    {
     "name": "stdout",
     "output_type": "stream",
     "text": [
      "종료합니다.\n",
      "{}\n"
     ]
    }
   ],
   "source": [
    "year_leap = {}\n",
    "\n",
    "while True:\n",
    "#     year = int(input('연도를 입력하세요. '))\n",
    "    if year == 0:\n",
    "        break\n",
    "    year_leap[year] = leap_year(year)\n",
    "\n",
    "print('종료합니다.')\n",
    "print(year_leap)"
   ]
  },
  {
   "cell_type": "code",
   "execution_count": 39,
   "id": "452d6cf2",
   "metadata": {},
   "outputs": [
    {
     "name": "stdout",
     "output_type": "stream",
     "text": [
      "종료합니다.\n",
      "Empty DataFrame\n",
      "Columns: [year, leap]\n",
      "Index: []\n"
     ]
    }
   ],
   "source": [
    "# 실습10; df 생성\n",
    "# 1. while문으로 반복처리\n",
    "# 2. 4~5개 연도를 윤년 판정 후 데이터로 저장\n",
    "# 3. 저장된 데이터로 df 만들기()\n",
    "\n",
    "import pandas as pd\n",
    "year_list = []\n",
    "year_leap = []\n",
    "\n",
    "while True:\n",
    "#     year = int(input('연도를 입력하세요. '))\n",
    "    if year == 0:\n",
    "        break\n",
    "    year_list.append(year)\n",
    "    year_leap.append(leap_year(year))\n",
    "\n",
    "\n",
    "df = pd.DataFrame({'year':year_list,\n",
    "                   'leap':year_leap})\n",
    "print('종료합니다.')\n",
    "print(df)"
   ]
  },
  {
   "cell_type": "code",
   "execution_count": 40,
   "id": "bba961f1",
   "metadata": {},
   "outputs": [
    {
     "name": "stdout",
     "output_type": "stream",
     "text": [
      "[]\n",
      "종료합니다.\n",
      "Empty DataFrame\n",
      "Columns: [year, leap]\n",
      "Index: []\n"
     ]
    }
   ],
   "source": [
    "year_leap = []\n",
    "\n",
    "while True:\n",
    "#     year = int(input('연도를 입력하세요. '))\n",
    "    if year == 0:\n",
    "        break\n",
    "    year_leap.append([year, leap_year(year)])\n",
    "\n",
    "print(year_leap)\n",
    "df = pd.DataFrame(year_leap, columns=['year', 'leap'])\n",
    "print('종료합니다.')\n",
    "print(df)"
   ]
  },
  {
   "cell_type": "markdown",
   "id": "f4d5b633",
   "metadata": {},
   "source": [
    "## 210803"
   ]
  },
  {
   "cell_type": "code",
   "execution_count": 41,
   "id": "e0dd2c5c",
   "metadata": {},
   "outputs": [],
   "source": [
    "# 실습: bubble_sort 알고리즘\n",
    "# 앞에서부터 순서대로 비교해서 크기 순으로 정렬되도록 이동하는 알고리즘"
   ]
  },
  {
   "cell_type": "code",
   "execution_count": 42,
   "id": "956a7788",
   "metadata": {},
   "outputs": [
    {
     "name": "stdout",
     "output_type": "stream",
     "text": [
      "0\n",
      "(i, j) =  0 1\n",
      "--------------------\n",
      "(i, j) =  0 2\n",
      "--------------------\n",
      "(i, j) =  0 3\n",
      "--------------------\n",
      "(i, j) =  0 4\n",
      "--------------------\n",
      "1\n",
      "(i, j) =  1 2\n",
      "--------------------\n",
      "(i, j) =  1 3\n",
      "--------------------\n",
      "(i, j) =  1 4\n",
      "--------------------\n",
      "2\n",
      "(i, j) =  2 3\n",
      "--------------------\n",
      "(i, j) =  2 4\n",
      "--------------------\n",
      "3\n",
      "(i, j) =  3 4\n",
      "--------------------\n"
     ]
    }
   ],
   "source": [
    "# 단계 1; 이동할 요소의 범위와 비교대상 요소의 범위 구성\n",
    "a = [2, 4, 5, 1, 3]\n",
    "\n",
    "for i in range(0, len(a)-1):\n",
    "    print(i)\n",
    "    for j in range(i+1, len(a)):\n",
    "        print('(i, j) = ', i, j)\n",
    "        print('-'*20)"
   ]
  },
  {
   "cell_type": "code",
   "execution_count": 47,
   "id": "72d94433",
   "metadata": {},
   "outputs": [
    {
     "name": "stdout",
     "output_type": "stream",
     "text": [
      "a[i] =  2\n",
      "(a[i], a[j]) =  2 4\n",
      "(a[i], a[j]) =  2 5\n",
      "(a[i], a[j]) =  2 1\n",
      "(a[i], a[j]) =  2 3\n",
      "----------------------------------------\n",
      "a[i] =  4\n",
      "(a[i], a[j]) =  4 5\n",
      "(a[i], a[j]) =  4 1\n",
      "(a[i], a[j]) =  4 3\n",
      "----------------------------------------\n",
      "a[i] =  5\n",
      "(a[i], a[j]) =  5 1\n",
      "(a[i], a[j]) =  5 3\n",
      "----------------------------------------\n",
      "a[i] =  1\n",
      "(a[i], a[j]) =  1 3\n",
      "----------------------------------------\n"
     ]
    }
   ],
   "source": [
    "# 단계 2; 범위들의 요소 조회\n",
    "a = [2, 4, 5, 1, 3]\n",
    "\n",
    "for i in range(0, len(a)-1):\n",
    "    print('a[i] = ', a[i])\n",
    "    for j in range(i+1, len(a)):\n",
    "        print('(a[i], a[j]) = ', a[i], a[j])\n",
    "    print('-'*40)"
   ]
  },
  {
   "cell_type": "code",
   "execution_count": 44,
   "id": "44b00564",
   "metadata": {},
   "outputs": [],
   "source": [
    "# 단계 3; 자리 바꾸는 방법 두 가지\n",
    "a1 = 1; a2 = 2\n",
    "\n",
    "a1, a2 = a2, a1\n",
    "\n",
    "tmp = a1\n",
    "a1 = a2\n",
    "a2 = tmp"
   ]
  },
  {
   "cell_type": "code",
   "execution_count": 1,
   "id": "73d79637",
   "metadata": {},
   "outputs": [
    {
     "name": "stdout",
     "output_type": "stream",
     "text": [
      "이동 a[i] =  2\n",
      "idx =  0\n",
      "j, idx =  1 0\n",
      "자리 바꿈 전 (a[i], a[idx], a[j]) =  2 2 4\n",
      "j, idx =  2 0\n",
      "자리 바꿈 전 (a[i], a[idx], a[j]) =  2 2 5\n",
      "j, idx =  3 3\n",
      "자리 바꿈 전 (a[i], a[idx], a[j]) =  2 1 1\n",
      "j, idx =  4 3\n",
      "자리 바꿈 전 (a[i], a[idx], a[j]) =  2 1 3\n",
      "자리 바꿈 후 (a[i], a[idx], a[j]) =  1 2 3\n",
      "[1, 4, 5, 2, 3]\n",
      "----------------------------------------\n",
      "이동 a[i] =  4\n",
      "idx =  1\n",
      "j, idx =  2 1\n",
      "자리 바꿈 전 (a[i], a[idx], a[j]) =  4 4 5\n",
      "j, idx =  3 3\n",
      "자리 바꿈 전 (a[i], a[idx], a[j]) =  4 2 2\n",
      "j, idx =  4 3\n",
      "자리 바꿈 전 (a[i], a[idx], a[j]) =  4 2 3\n",
      "자리 바꿈 후 (a[i], a[idx], a[j]) =  2 4 3\n",
      "[1, 2, 5, 4, 3]\n",
      "----------------------------------------\n",
      "이동 a[i] =  5\n",
      "idx =  2\n",
      "j, idx =  3 3\n",
      "자리 바꿈 전 (a[i], a[idx], a[j]) =  5 4 4\n",
      "j, idx =  4 4\n",
      "자리 바꿈 전 (a[i], a[idx], a[j]) =  5 3 3\n",
      "자리 바꿈 후 (a[i], a[idx], a[j]) =  3 5 5\n",
      "[1, 2, 3, 4, 5]\n",
      "----------------------------------------\n",
      "이동 a[i] =  4\n",
      "idx =  3\n",
      "j, idx =  4 3\n",
      "자리 바꿈 전 (a[i], a[idx], a[j]) =  4 4 5\n",
      "자리 바꿈 후 (a[i], a[idx], a[j]) =  4 4 5\n",
      "[1, 2, 3, 4, 5]\n",
      "----------------------------------------\n"
     ]
    }
   ],
   "source": [
    "# 단계 4; 고정 변수 추가하여 자리 바꿈\n",
    "a = [2, 4, 5, 1, 3]\n",
    "\n",
    "for i in range(0, len(a) - 1):\n",
    "    print('이동 a[i] = ', a[i])\n",
    "    idx = i\n",
    "    print('idx = ', i)\n",
    "    for j in range(i + 1, len(a)):\n",
    "        if a[idx] > a[j]:  # 앞 숫자가 뒷 숫자보다 크면,\n",
    "            idx = j  # i로 설정한 idx 변수를 j로 변경\n",
    "        print('j, idx = ', j, idx)\n",
    "        print('자리 바꿈 전 (a[i], a[idx], a[j]) = ', a[i], a[idx], a[j])\n",
    "    a[i], a[idx] = a[idx], a[i]  # 자리 바꿈\n",
    "    print('자리 바꿈 후 (a[i], a[idx], a[j]) = ', a[i], a[idx], a[j])\n",
    "    print(a)\n",
    "    print('-' * 40)"
   ]
  },
  {
   "cell_type": "code",
   "execution_count": null,
   "id": "c673c116",
   "metadata": {},
   "outputs": [],
   "source": [
    "# 단계 4; 고정 변수 추가하여 자리 바꿈\n",
    "a = [2, 4, 5, 1, 3]\n",
    "\n",
    "for i in range(0, len(a) - 1):\n",
    "    print('이동 a[i] = ', a[i])\n",
    "    idx = i\n",
    "    print('idx = ', i)\n",
    "    for j in range(i + 1, len(a)):\n",
    "        if a[idx] > a[j]:  # 앞 숫자가 뒷 숫자보다 크면,\n",
    "            idx = j  # i로 설정한 idx 변수를 j로 변경\n",
    "        print('j, idx = ', j, idx)\n",
    "        print('자리 바꿈 전 (a[i], a[idx], a[j]) = ', a[i], a[idx], a[j])\n",
    "    a[i], a[idx] = a[idx], a[i]  # 자리 바꿈\n",
    "    print('자리 바꿈 후 (a[i], a[idx], a[j]) = ', a[i], a[idx], a[j])\n",
    "    print(a)\n",
    "    print('-' * 40)"
   ]
  },
  {
   "cell_type": "code",
   "execution_count": 51,
   "id": "219b93a2",
   "metadata": {},
   "outputs": [
    {
     "name": "stdout",
     "output_type": "stream",
     "text": [
      "[2 8 3 1 0]\n"
     ]
    },
    {
     "data": {
      "text/plain": [
       "array([2, 8, 3, 1, 0])"
      ]
     },
     "execution_count": 51,
     "metadata": {},
     "output_type": "execute_result"
    }
   ],
   "source": [
    "# 실습; 입력값을 임의의 숫자로 구성\n",
    "# np.random.choice(5, 4), 값, 사이즈, False 중복제외\n",
    "\n",
    "def bubble_sort(a):\n",
    "    n = len(a)\n",
    "    while True:\n",
    "        changed = False\n",
    "        \n",
    "        for i in range(0, n - 1):\n",
    "            if a[i] > a[i + 1]:\n",
    "                print(a)\n",
    "                a[i], a[i + 1] = a[i + 1], a[i]\n",
    "                changed = True\n",
    "            \n",
    "            if changed == False:\n",
    "                return a\n",
    "\n",
    "x = np.random.choice(10, 5, replace=False)\n",
    "print(x)\n",
    "bubble_sort(x)"
   ]
  },
  {
   "cell_type": "markdown",
   "id": "7a7a239a",
   "metadata": {},
   "source": [
    "## sys_argv\n",
    "주요 작업 절차"
   ]
  },
  {
   "cell_type": "code",
   "execution_count": 52,
   "id": "09fd7a01",
   "metadata": {},
   "outputs": [
    {
     "name": "stdout",
     "output_type": "stream",
     "text": [
      "Overwriting acc_arg.py\n"
     ]
    }
   ],
   "source": [
    "%%writefile acc_arg.py\n",
    "\n",
    "import sys\n",
    "\n",
    "def main(argv):\n",
    "    print('main = ', argv)\n",
    "\n",
    "if __name__ == '__main__': # 단독실행\n",
    "    print('init = ', sys.argv)\n",
    "    main(sys.argv)\n",
    "\n",
    "# 해당 폴더에서 cmd 실행, dir *.py 입력 후\n",
    "# python acc_arg.py 입력\n",
    "# 시작일, 종료일, 끝 페이지 입력해서 실행하도록\n",
    "# %run 은 dos창 실행 효과"
   ]
  },
  {
   "cell_type": "code",
   "execution_count": 53,
   "id": "39293824",
   "metadata": {},
   "outputs": [
    {
     "name": "stdout",
     "output_type": "stream",
     "text": [
      "init =  ['acc_arg.py']\n",
      "main =  ['acc_arg.py']\n"
     ]
    }
   ],
   "source": [
    "%run acc_arg.py"
   ]
  },
  {
   "cell_type": "code",
   "execution_count": 55,
   "id": "2d281865",
   "metadata": {},
   "outputs": [
    {
     "name": "stdout",
     "output_type": "stream",
     "text": [
      "init =  ['acc_arg.py', '210804', '210805', '3']\n",
      "main =  ['acc_arg.py', '210804', '210805', '3']\n"
     ]
    }
   ],
   "source": [
    "%run acc_arg.py 210804 210805 3"
   ]
  }
 ],
 "metadata": {
  "kernelspec": {
   "display_name": "Python 3",
   "language": "python",
   "name": "python3"
  },
  "language_info": {
   "codemirror_mode": {
    "name": "ipython",
    "version": 3
   },
   "file_extension": ".py",
   "mimetype": "text/x-python",
   "name": "python",
   "nbconvert_exporter": "python",
   "pygments_lexer": "ipython3",
   "version": "3.8.8"
  },
  "toc": {
   "base_numbering": 1,
   "nav_menu": {},
   "number_sections": true,
   "sideBar": true,
   "skip_h1_title": false,
   "title_cell": "Table of Contents",
   "title_sidebar": "Contents",
   "toc_cell": false,
   "toc_position": {},
   "toc_section_display": true,
   "toc_window_display": false
  },
  "varInspector": {
   "cols": {
    "lenName": 16,
    "lenType": 16,
    "lenVar": 40
   },
   "kernels_config": {
    "python": {
     "delete_cmd_postfix": "",
     "delete_cmd_prefix": "del ",
     "library": "var_list.py",
     "varRefreshCmd": "print(var_dic_list())"
    },
    "r": {
     "delete_cmd_postfix": ") ",
     "delete_cmd_prefix": "rm(",
     "library": "var_list.r",
     "varRefreshCmd": "cat(var_dic_list()) "
    }
   },
   "position": {
    "height": "198px",
    "left": "456px",
    "right": "20px",
    "top": "130px",
    "width": "494px"
   },
   "types_to_exclude": [
    "module",
    "function",
    "builtin_function_or_method",
    "instance",
    "_Feature"
   ],
   "window_display": true
  }
 },
 "nbformat": 4,
 "nbformat_minor": 5
}
