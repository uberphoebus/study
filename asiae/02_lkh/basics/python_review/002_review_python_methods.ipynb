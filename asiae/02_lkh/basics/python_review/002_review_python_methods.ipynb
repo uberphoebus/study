{
 "cells": [
  {
   "cell_type": "markdown",
   "id": "2aa1191a",
   "metadata": {},
   "source": [
    "# 00 자주 사용하는 func/methods\n",
    "\n",
    "|내장함수|str|list[  ]|tuple(  )|dictionary{  }|set{  }|\n",
    "|:----:|:----:|:----:|:----:|:----:|:----:|\n",
    "|abs()|count()|append()|count()|clear()|add()|\n",
    "|dict()|endswith(), startswith()|clear()|index()|copy()|difference(), -|\n",
    "|enumerate()|find(), rfind()|copy()||fromkeys()|intersection(), &|\n",
    "|float()|index(), rindex()|count()||get()|pop()|\n",
    "|input()|join()|extend()||items()|remove()|\n",
    "|int()|ljust(), rjust()|index()||keys()|union(), ||\n",
    "|len()|lower(), upper()|insert()||pop()|update()|\n",
    "|list()|replace()|pop()||popitem()||\n",
    "|max()|split(), rpslit()|remove()||update()||\n",
    "|min()|zfill()|reverse()||values()||\n",
    "|next()||sort()||||\n",
    "|open()||||||\n",
    "|print()||||||\n",
    "|range()||||||\n",
    "|round()||||||\n",
    "|set()||||||\n",
    "|sorted()||||||\n",
    "|str()||||||\n",
    "|sum()||||||\n",
    "|tuple()||||||\n",
    "|type()||||||\n",
    "|zip()||||||"
   ]
  },
  {
   "cell_type": "markdown",
   "id": "72b58c60",
   "metadata": {},
   "source": [
    "# 01 STR methods"
   ]
  },
  {
   "cell_type": "code",
   "execution_count": 1,
   "id": "d7749252",
   "metadata": {},
   "outputs": [
    {
     "data": {
      "text/plain": [
       "'Abcde'"
      ]
     },
     "execution_count": 1,
     "metadata": {},
     "output_type": "execute_result"
    }
   ],
   "source": [
    "a = 'abcde'; a.capitalize() # 첫 문자 대문자화"
   ]
  },
  {
   "cell_type": "code",
   "execution_count": 2,
   "id": "84e7c60b",
   "metadata": {},
   "outputs": [
    {
     "data": {
      "text/plain": [
       "'abcde'"
      ]
     },
     "execution_count": 2,
     "metadata": {},
     "output_type": "execute_result"
    }
   ],
   "source": [
    "b = 'ABCDE'; b.casefold() # 소문자화"
   ]
  },
  {
   "cell_type": "code",
   "execution_count": 3,
   "id": "c7d50d8a",
   "metadata": {},
   "outputs": [
    {
     "data": {
      "text/plain": [
       "'  abcde  '"
      ]
     },
     "execution_count": 3,
     "metadata": {},
     "output_type": "execute_result"
    }
   ],
   "source": [
    "a.center(9) # n칸 가운데에 문자열 배치"
   ]
  },
  {
   "cell_type": "code",
   "execution_count": 4,
   "id": "a01c1bab",
   "metadata": {},
   "outputs": [
    {
     "data": {
      "text/plain": [
       "1"
      ]
     },
     "execution_count": 4,
     "metadata": {},
     "output_type": "execute_result"
    }
   ],
   "source": [
    "a.count('b') # 문자 등장 횟수"
   ]
  },
  {
   "cell_type": "code",
   "execution_count": 5,
   "id": "79499ed9",
   "metadata": {
    "scrolled": true
   },
   "outputs": [
    {
     "data": {
      "text/plain": [
       "b'abcde'"
      ]
     },
     "execution_count": 5,
     "metadata": {},
     "output_type": "execute_result"
    }
   ],
   "source": [
    "a.encode() # 인코딩?"
   ]
  },
  {
   "cell_type": "code",
   "execution_count": 6,
   "id": "93bc69ea",
   "metadata": {},
   "outputs": [
    {
     "data": {
      "text/plain": [
       "False"
      ]
     },
     "execution_count": 6,
     "metadata": {},
     "output_type": "execute_result"
    }
   ],
   "source": [
    "a.endswith('.') # 해당 문자로 끝나는지 확인"
   ]
  },
  {
   "cell_type": "code",
   "execution_count": 7,
   "id": "c1587fb9",
   "metadata": {},
   "outputs": [
    {
     "data": {
      "text/plain": [
       "'a\\x08\\\\c\\\\d\\\\e'"
      ]
     },
     "execution_count": 7,
     "metadata": {},
     "output_type": "execute_result"
    }
   ],
   "source": [
    "b = 'a\\b\\c\\d\\e'\n",
    "b.expandtabs(3)# \\ 자리에 n개 빈칸 대체 ?"
   ]
  },
  {
   "cell_type": "code",
   "execution_count": 8,
   "id": "a2f6589a",
   "metadata": {},
   "outputs": [
    {
     "data": {
      "text/plain": [
       "2"
      ]
     },
     "execution_count": 8,
     "metadata": {},
     "output_type": "execute_result"
    }
   ],
   "source": [
    "a.find('cd') # 문자열이 나타나는 시작 인덱스, index()와 유사"
   ]
  },
  {
   "cell_type": "code",
   "execution_count": 9,
   "id": "135b56d4",
   "metadata": {},
   "outputs": [
    {
     "data": {
      "text/plain": [
       "'abc123'"
      ]
     },
     "execution_count": 9,
     "metadata": {},
     "output_type": "execute_result"
    }
   ],
   "source": [
    "c = 'abc{}'\n",
    "c.format('123') # 변수 삽입"
   ]
  },
  {
   "cell_type": "code",
   "execution_count": 10,
   "id": "10b1b41b",
   "metadata": {},
   "outputs": [
    {
     "data": {
      "text/plain": [
       "2"
      ]
     },
     "execution_count": 10,
     "metadata": {},
     "output_type": "execute_result"
    }
   ],
   "source": [
    "a.index('cd') # 문자열이 나타나는 시작 인덱스 "
   ]
  },
  {
   "cell_type": "code",
   "execution_count": 11,
   "id": "3496a2e5",
   "metadata": {},
   "outputs": [
    {
     "data": {
      "text/plain": [
       "True"
      ]
     },
     "execution_count": 11,
     "metadata": {},
     "output_type": "execute_result"
    }
   ],
   "source": [
    "d = 'abc123'\n",
    "d.isalnum() # 알파벳과 숫자로 이루어졌는지 확인"
   ]
  },
  {
   "cell_type": "code",
   "execution_count": 12,
   "id": "d3bd49f2",
   "metadata": {},
   "outputs": [
    {
     "data": {
      "text/plain": [
       "True"
      ]
     },
     "execution_count": 12,
     "metadata": {},
     "output_type": "execute_result"
    }
   ],
   "source": [
    "a.isalpha() # 영문으로 이루어졌는지 확인"
   ]
  },
  {
   "cell_type": "code",
   "execution_count": 13,
   "id": "e7245116",
   "metadata": {},
   "outputs": [
    {
     "data": {
      "text/plain": [
       "False"
      ]
     },
     "execution_count": 13,
     "metadata": {},
     "output_type": "execute_result"
    }
   ],
   "source": [
    "d.isdecimal() # 숫자로 이루어졌는지 확인"
   ]
  },
  {
   "cell_type": "code",
   "execution_count": 14,
   "id": "0f860ef9",
   "metadata": {},
   "outputs": [
    {
     "data": {
      "text/plain": [
       "False"
      ]
     },
     "execution_count": 14,
     "metadata": {},
     "output_type": "execute_result"
    }
   ],
   "source": [
    "d.isdigit() # 숫자로 이루어졌는지 확인"
   ]
  },
  {
   "cell_type": "code",
   "execution_count": 15,
   "id": "e8945ed7",
   "metadata": {},
   "outputs": [
    {
     "data": {
      "text/plain": [
       "True"
      ]
     },
     "execution_count": 15,
     "metadata": {},
     "output_type": "execute_result"
    }
   ],
   "source": [
    "a.isidentifier() # 유효한 변수이름인지 확인"
   ]
  },
  {
   "cell_type": "code",
   "execution_count": 16,
   "id": "c8ae4869",
   "metadata": {},
   "outputs": [
    {
     "data": {
      "text/plain": [
       "True"
      ]
     },
     "execution_count": 16,
     "metadata": {},
     "output_type": "execute_result"
    }
   ],
   "source": [
    "a.islower() # 소문자인지 확인"
   ]
  },
  {
   "cell_type": "code",
   "execution_count": 17,
   "id": "86935b7d",
   "metadata": {},
   "outputs": [
    {
     "data": {
      "text/plain": [
       "False"
      ]
     },
     "execution_count": 17,
     "metadata": {},
     "output_type": "execute_result"
    }
   ],
   "source": [
    "d.isnumeric() # 숫자로 이루어졌는지 확인"
   ]
  },
  {
   "cell_type": "code",
   "execution_count": 18,
   "id": "c0a99878",
   "metadata": {},
   "outputs": [
    {
     "data": {
      "text/plain": [
       "True"
      ]
     },
     "execution_count": 18,
     "metadata": {},
     "output_type": "execute_result"
    }
   ],
   "source": [
    "a.isprintable() # 출력가능한 문자열인지 확인"
   ]
  },
  {
   "cell_type": "code",
   "execution_count": 19,
   "id": "43c0b9e8",
   "metadata": {},
   "outputs": [
    {
     "data": {
      "text/plain": [
       "True"
      ]
     },
     "execution_count": 19,
     "metadata": {},
     "output_type": "execute_result"
    }
   ],
   "source": [
    "e = '     '\n",
    "e.isspace() # 공백으로 이루어졌는지 확인"
   ]
  },
  {
   "cell_type": "code",
   "execution_count": 20,
   "id": "e9870922",
   "metadata": {},
   "outputs": [
    {
     "data": {
      "text/plain": [
       "False"
      ]
     },
     "execution_count": 20,
     "metadata": {},
     "output_type": "execute_result"
    }
   ],
   "source": [
    "a.istitle() # 대문자로 시작하는 문자열인지 확인"
   ]
  },
  {
   "cell_type": "code",
   "execution_count": 21,
   "id": "d335bd0c",
   "metadata": {},
   "outputs": [
    {
     "data": {
      "text/plain": [
       "True"
      ]
     },
     "execution_count": 21,
     "metadata": {},
     "output_type": "execute_result"
    }
   ],
   "source": [
    "b = 'ABCDE'\n",
    "b.isupper() # 대문자로 이루어졌는지 확인"
   ]
  },
  {
   "cell_type": "code",
   "execution_count": 22,
   "id": "1221849d",
   "metadata": {},
   "outputs": [
    {
     "data": {
      "text/plain": [
       "'ab*cd*ef'"
      ]
     },
     "execution_count": 22,
     "metadata": {},
     "output_type": "execute_result"
    }
   ],
   "source": [
    "tup = ('ab', 'cd', 'ef')\n",
    "'*'.join(tup) # '*'를 사이에 삽입하면서 튜플을 문자화"
   ]
  },
  {
   "cell_type": "code",
   "execution_count": 23,
   "id": "fc9293b2",
   "metadata": {},
   "outputs": [
    {
     "data": {
      "text/plain": [
       "'abcde     '"
      ]
     },
     "execution_count": 23,
     "metadata": {},
     "output_type": "execute_result"
    }
   ],
   "source": [
    "a.ljust(10) # n칸 좌측 정렬"
   ]
  },
  {
   "cell_type": "code",
   "execution_count": 24,
   "id": "1d14a479",
   "metadata": {},
   "outputs": [
    {
     "data": {
      "text/plain": [
       "'abcde'"
      ]
     },
     "execution_count": 24,
     "metadata": {},
     "output_type": "execute_result"
    }
   ],
   "source": [
    "b.lower() # 소문자화"
   ]
  },
  {
   "cell_type": "code",
   "execution_count": 25,
   "id": "5bfeb779",
   "metadata": {},
   "outputs": [
    {
     "data": {
      "text/plain": [
       "'abc   '"
      ]
     },
     "execution_count": 25,
     "metadata": {},
     "output_type": "execute_result"
    }
   ],
   "source": [
    "f = '   abc   '; f.lstrip() # 좌측의 공백 삭제"
   ]
  },
  {
   "cell_type": "code",
   "execution_count": 26,
   "id": "e06d037d",
   "metadata": {},
   "outputs": [
    {
     "data": {
      "text/plain": [
       "'fbcde'"
      ]
     },
     "execution_count": 26,
     "metadata": {},
     "output_type": "execute_result"
    }
   ],
   "source": [
    "g = a.maketrans('a', 'f'); a.translate(g) # 문자열 수정"
   ]
  },
  {
   "cell_type": "code",
   "execution_count": 27,
   "id": "52bf22fc",
   "metadata": {},
   "outputs": [
    {
     "data": {
      "text/plain": [
       "('ab', 'c', 'de')"
      ]
     },
     "execution_count": 27,
     "metadata": {},
     "output_type": "execute_result"
    }
   ],
   "source": [
    "a.partition('c')\n",
    "# 문자열을 3개 값인 튜플로 전환\n",
    "# 지정된 문자 이전 문자열, 해당 문자열, 이후 문자열"
   ]
  },
  {
   "cell_type": "code",
   "execution_count": 28,
   "id": "332fd917",
   "metadata": {},
   "outputs": [
    {
     "data": {
      "text/plain": [
       "'abxde'"
      ]
     },
     "execution_count": 28,
     "metadata": {},
     "output_type": "execute_result"
    }
   ],
   "source": [
    "a.replace('c', 'x') # 문자열 수정"
   ]
  },
  {
   "cell_type": "code",
   "execution_count": 29,
   "id": "03ee8924",
   "metadata": {},
   "outputs": [
    {
     "data": {
      "text/plain": [
       "2"
      ]
     },
     "execution_count": 29,
     "metadata": {},
     "output_type": "execute_result"
    }
   ],
   "source": [
    "a.rfind('c', 0, 4)\n",
    "# 마지막 발견 인덱스 출력, 없으면 -1\n",
    "# a부터 b까지"
   ]
  },
  {
   "cell_type": "code",
   "execution_count": 30,
   "id": "67be2003",
   "metadata": {},
   "outputs": [
    {
     "data": {
      "text/plain": [
       "2"
      ]
     },
     "execution_count": 30,
     "metadata": {},
     "output_type": "execute_result"
    }
   ],
   "source": [
    "a.rindex('c', 0, 4)\n",
    "# 마지막 발견 인덱스 출력, 없으면 오류\n",
    "# a부터 b까지"
   ]
  },
  {
   "cell_type": "code",
   "execution_count": 31,
   "id": "620e48ff",
   "metadata": {},
   "outputs": [
    {
     "data": {
      "text/plain": [
       "'     abcde'"
      ]
     },
     "execution_count": 31,
     "metadata": {},
     "output_type": "execute_result"
    }
   ],
   "source": [
    "a.rjust(10) # 문자열 포함 n칸 만큼 우측 정렬"
   ]
  },
  {
   "cell_type": "code",
   "execution_count": 32,
   "id": "bab0f1ce",
   "metadata": {},
   "outputs": [
    {
     "data": {
      "text/plain": [
       "('ab', 'c', 'de')"
      ]
     },
     "execution_count": 32,
     "metadata": {},
     "output_type": "execute_result"
    }
   ],
   "source": [
    "a.rpartition('c')\n",
    "# 문자열을 3개 값인 튜플로 전환\n",
    "# 마지막으로 발견된 지점을 출력\n",
    "# 지정된 문자 이전 문자열, 해당 문자열, 이후 문자열"
   ]
  },
  {
   "cell_type": "code",
   "execution_count": 33,
   "id": "6549775a",
   "metadata": {},
   "outputs": [
    {
     "data": {
      "text/plain": [
       "['abc', 'def', 'hi']"
      ]
     },
     "execution_count": 33,
     "metadata": {},
     "output_type": "execute_result"
    }
   ],
   "source": [
    "'abc, def, hi'.rsplit(', ') # 우측부터 문자열을 리스트화"
   ]
  },
  {
   "cell_type": "code",
   "execution_count": 34,
   "id": "9f60bdd6",
   "metadata": {},
   "outputs": [
    {
     "data": {
      "text/plain": [
       "'   abc'"
      ]
     },
     "execution_count": 34,
     "metadata": {},
     "output_type": "execute_result"
    }
   ],
   "source": [
    "f.rstrip() # 우측 공백 삭제"
   ]
  },
  {
   "cell_type": "code",
   "execution_count": 35,
   "id": "7a6ba034",
   "metadata": {},
   "outputs": [
    {
     "data": {
      "text/plain": [
       "['abc', 'def', 'ghi']"
      ]
     },
     "execution_count": 35,
     "metadata": {},
     "output_type": "execute_result"
    }
   ],
   "source": [
    "i = 'abc1def1ghi'; i.split('1')\n",
    "# 해당 문자열 기준으로 나눠 리스트화"
   ]
  },
  {
   "cell_type": "code",
   "execution_count": 36,
   "id": "0b994705",
   "metadata": {},
   "outputs": [
    {
     "data": {
      "text/plain": [
       "['abc', '123']"
      ]
     },
     "execution_count": 36,
     "metadata": {},
     "output_type": "execute_result"
    }
   ],
   "source": [
    "j = 'abc\\n123' ; j.splitlines() # 줄바꿈 단위로 리스트화"
   ]
  },
  {
   "cell_type": "code",
   "execution_count": 37,
   "id": "eef9947b",
   "metadata": {},
   "outputs": [
    {
     "data": {
      "text/plain": [
       "True"
      ]
     },
     "execution_count": 37,
     "metadata": {},
     "output_type": "execute_result"
    }
   ],
   "source": [
    "a.startswith('a') # 특정 문자로 시작하는지 확인"
   ]
  },
  {
   "cell_type": "code",
   "execution_count": 38,
   "id": "debababb",
   "metadata": {},
   "outputs": [
    {
     "data": {
      "text/plain": [
       "'abc'"
      ]
     },
     "execution_count": 38,
     "metadata": {},
     "output_type": "execute_result"
    }
   ],
   "source": [
    "f.strip() # 좌/우측의 공백 삭제"
   ]
  },
  {
   "cell_type": "code",
   "execution_count": 39,
   "id": "b9360a90",
   "metadata": {},
   "outputs": [
    {
     "data": {
      "text/plain": [
       "'ABCDE'"
      ]
     },
     "execution_count": 39,
     "metadata": {},
     "output_type": "execute_result"
    }
   ],
   "source": [
    "a.swapcase() # 대문자는 소문자로, 소문자는 대문자로 변환"
   ]
  },
  {
   "cell_type": "code",
   "execution_count": 40,
   "id": "43cee551",
   "metadata": {},
   "outputs": [
    {
     "data": {
      "text/plain": [
       "'Abcde'"
      ]
     },
     "execution_count": 40,
     "metadata": {},
     "output_type": "execute_result"
    }
   ],
   "source": [
    "a.title() # 각 단어의 첫 문자 대문자화"
   ]
  },
  {
   "cell_type": "code",
   "execution_count": 41,
   "id": "91db9322",
   "metadata": {},
   "outputs": [
    {
     "data": {
      "text/plain": [
       "'ABCDE'"
      ]
     },
     "execution_count": 41,
     "metadata": {},
     "output_type": "execute_result"
    }
   ],
   "source": [
    "a.upper() # 모든 문자 대문자화"
   ]
  },
  {
   "cell_type": "code",
   "execution_count": 42,
   "id": "e9a74626",
   "metadata": {},
   "outputs": [
    {
     "data": {
      "text/plain": [
       "'00000abcde'"
      ]
     },
     "execution_count": 42,
     "metadata": {},
     "output_type": "execute_result"
    }
   ],
   "source": [
    "a.zfill(10) # 문자 포함 n칸 만큼 0으로 채움"
   ]
  },
  {
   "cell_type": "markdown",
   "id": "00464bf8",
   "metadata": {},
   "source": [
    "# 02 List methods"
   ]
  },
  {
   "cell_type": "code",
   "execution_count": 43,
   "id": "40b12864",
   "metadata": {},
   "outputs": [
    {
     "data": {
      "text/plain": [
       "['app', 'ban', 'cher', 'oran']"
      ]
     },
     "execution_count": 43,
     "metadata": {},
     "output_type": "execute_result"
    }
   ],
   "source": [
    "fru = ['app', 'ban', 'cher']\n",
    "fru.append('oran') # 값 추가\n",
    "fru"
   ]
  },
  {
   "cell_type": "code",
   "execution_count": 44,
   "id": "30d2d02c",
   "metadata": {},
   "outputs": [
    {
     "data": {
      "text/plain": [
       "[]"
      ]
     },
     "execution_count": 44,
     "metadata": {},
     "output_type": "execute_result"
    }
   ],
   "source": [
    "fru.clear() # 리스트 비우기\n",
    "fru"
   ]
  },
  {
   "cell_type": "code",
   "execution_count": 45,
   "id": "a93d6939",
   "metadata": {},
   "outputs": [
    {
     "data": {
      "text/plain": [
       "['app', 'ban', 'cher', 'oran']"
      ]
     },
     "execution_count": 45,
     "metadata": {},
     "output_type": "execute_result"
    }
   ],
   "source": [
    "fru = ['app', 'ban', 'cher', 'oran']\n",
    "x = fru.copy() # 리스트 복사\n",
    "x"
   ]
  },
  {
   "cell_type": "code",
   "execution_count": 46,
   "id": "d2dfe034",
   "metadata": {},
   "outputs": [
    {
     "data": {
      "text/plain": [
       "1"
      ]
     },
     "execution_count": 46,
     "metadata": {},
     "output_type": "execute_result"
    }
   ],
   "source": [
    "fru.count('ban') # 값 개수 조회"
   ]
  },
  {
   "cell_type": "code",
   "execution_count": 47,
   "id": "20db1ef4",
   "metadata": {},
   "outputs": [
    {
     "data": {
      "text/plain": [
       "['app', 'ban', 'cher', 'oran', 'bmw', 'hd', 'kia']"
      ]
     },
     "execution_count": 47,
     "metadata": {},
     "output_type": "execute_result"
    }
   ],
   "source": [
    "car = ['bmw', 'hd', 'kia']\n",
    "fru.extend(car) # 리스트1에 리스트2 병합\n",
    "fru"
   ]
  },
  {
   "cell_type": "code",
   "execution_count": 48,
   "id": "d410622e",
   "metadata": {},
   "outputs": [
    {
     "data": {
      "text/plain": [
       "4"
      ]
     },
     "execution_count": 48,
     "metadata": {},
     "output_type": "execute_result"
    }
   ],
   "source": [
    "fru.index('bmw') # 문자열 인덱스 출력"
   ]
  },
  {
   "cell_type": "code",
   "execution_count": 49,
   "id": "66ce684a",
   "metadata": {},
   "outputs": [
    {
     "data": {
      "text/plain": [
       "['app', 'ban', 'cher', 'oran', 'grap', 'bmw', 'hd', 'kia']"
      ]
     },
     "execution_count": 49,
     "metadata": {},
     "output_type": "execute_result"
    }
   ],
   "source": [
    "fru.insert(4, 'grap') # n번 인덱스에 값 삽입\n",
    "fru"
   ]
  },
  {
   "cell_type": "code",
   "execution_count": 50,
   "id": "8e60171d",
   "metadata": {},
   "outputs": [
    {
     "data": {
      "text/plain": [
       "['app', 'ban', 'cher', 'oran', 'bmw', 'hd', 'kia']"
      ]
     },
     "execution_count": 50,
     "metadata": {},
     "output_type": "execute_result"
    }
   ],
   "source": [
    "fru.pop(4) # n번 인덱스 삭제\n",
    "fru"
   ]
  },
  {
   "cell_type": "code",
   "execution_count": 51,
   "id": "6670944d",
   "metadata": {},
   "outputs": [
    {
     "data": {
      "text/plain": [
       "['app', 'ban', 'cher', 'oran', 'hd', 'kia']"
      ]
     },
     "execution_count": 51,
     "metadata": {},
     "output_type": "execute_result"
    }
   ],
   "source": [
    "fru.remove('bmw') # 값 삭제\n",
    "fru"
   ]
  },
  {
   "cell_type": "code",
   "execution_count": 52,
   "id": "1f4530fa",
   "metadata": {},
   "outputs": [
    {
     "data": {
      "text/plain": [
       "['kia', 'hd', 'oran', 'cher', 'ban', 'app']"
      ]
     },
     "execution_count": 52,
     "metadata": {},
     "output_type": "execute_result"
    }
   ],
   "source": [
    "fru.reverse() # 역순 정렬\n",
    "fru"
   ]
  },
  {
   "cell_type": "code",
   "execution_count": 53,
   "id": "7cf8d547",
   "metadata": {},
   "outputs": [
    {
     "data": {
      "text/plain": [
       "['app', 'ban', 'cher', 'hd', 'kia', 'oran']"
      ]
     },
     "execution_count": 53,
     "metadata": {},
     "output_type": "execute_result"
    }
   ],
   "source": [
    "fru.sort() # 정렬\n",
    "fru"
   ]
  },
  {
   "cell_type": "code",
   "execution_count": 54,
   "id": "d0e91ded",
   "metadata": {},
   "outputs": [
    {
     "data": {
      "text/plain": [
       "['oran', 'kia', 'hd', 'cher', 'ban', 'app']"
      ]
     },
     "execution_count": 54,
     "metadata": {},
     "output_type": "execute_result"
    }
   ],
   "source": [
    "fru.sort(reverse=True) # 역순 정렬\n",
    "fru"
   ]
  },
  {
   "cell_type": "markdown",
   "id": "60aa68a1",
   "metadata": {},
   "source": [
    "# 03 Dictionary methods"
   ]
  },
  {
   "cell_type": "code",
   "execution_count": 55,
   "id": "d457ced0",
   "metadata": {},
   "outputs": [
    {
     "data": {
      "text/plain": [
       "{}"
      ]
     },
     "execution_count": 55,
     "metadata": {},
     "output_type": "execute_result"
    }
   ],
   "source": [
    "car = {'brnd': 'hdy', 'mod': 'ioniq', 'year': '2021'}\n",
    "car.clear() # 딕셔너리 요소 삭제\n",
    "car"
   ]
  },
  {
   "cell_type": "code",
   "execution_count": 56,
   "id": "a23f2d94",
   "metadata": {},
   "outputs": [
    {
     "data": {
      "text/plain": [
       "{'brnd': 'hdy', 'mod': 'ioniq', 'year': '2021'}"
      ]
     },
     "execution_count": 56,
     "metadata": {},
     "output_type": "execute_result"
    }
   ],
   "source": [
    "car = {'brnd': 'hdy', 'mod': 'ioniq', 'year': '2021'}\n",
    "x = car.copy() # 딕셔너리 복사\n",
    "x"
   ]
  },
  {
   "cell_type": "code",
   "execution_count": 57,
   "id": "a0d2f95d",
   "metadata": {},
   "outputs": [
    {
     "data": {
      "text/plain": [
       "{'k1': 3, 'k2': 3, 'k3': 3}"
      ]
     },
     "execution_count": 57,
     "metadata": {},
     "output_type": "execute_result"
    }
   ],
   "source": [
    "x = ('k1', 'k2', 'k3')\n",
    "y = 3\n",
    "xy = dict.fromkeys(x, y) # 키와 값 변수로 딕셔너리 구성\n",
    "xy"
   ]
  },
  {
   "cell_type": "code",
   "execution_count": 58,
   "id": "b8448046",
   "metadata": {},
   "outputs": [
    {
     "data": {
      "text/plain": [
       "'ioniq'"
      ]
     },
     "execution_count": 58,
     "metadata": {},
     "output_type": "execute_result"
    }
   ],
   "source": [
    "car.get('mod') # 키로 값 검색"
   ]
  },
  {
   "cell_type": "code",
   "execution_count": 59,
   "id": "5a250d67",
   "metadata": {},
   "outputs": [
    {
     "data": {
      "text/plain": [
       "dict_items([('brnd', 'hdy'), ('mod', 'ioniq'), ('year', '2021')])"
      ]
     },
     "execution_count": 59,
     "metadata": {},
     "output_type": "execute_result"
    }
   ],
   "source": [
    "car.items() # 키-값 출력"
   ]
  },
  {
   "cell_type": "code",
   "execution_count": 60,
   "id": "6d7b4e5a",
   "metadata": {},
   "outputs": [
    {
     "data": {
      "text/plain": [
       "dict_keys(['brnd', 'mod', 'year'])"
      ]
     },
     "execution_count": 60,
     "metadata": {},
     "output_type": "execute_result"
    }
   ],
   "source": [
    "car.keys() # 키만 출력"
   ]
  },
  {
   "cell_type": "code",
   "execution_count": 61,
   "id": "bd293c59",
   "metadata": {},
   "outputs": [
    {
     "data": {
      "text/plain": [
       "dict_values(['hdy', 'ioniq', '2021'])"
      ]
     },
     "execution_count": 61,
     "metadata": {},
     "output_type": "execute_result"
    }
   ],
   "source": [
    "car.values() # 값만 출력"
   ]
  },
  {
   "cell_type": "code",
   "execution_count": 62,
   "id": "39a76785",
   "metadata": {},
   "outputs": [
    {
     "data": {
      "text/plain": [
       "{'brnd': 'hdy', 'year': '2021'}"
      ]
     },
     "execution_count": 62,
     "metadata": {},
     "output_type": "execute_result"
    }
   ],
   "source": [
    "car.pop('mod') # 키로 아이템(키-값) 삭제\n",
    "car"
   ]
  },
  {
   "cell_type": "code",
   "execution_count": 63,
   "id": "2caeb92d",
   "metadata": {},
   "outputs": [
    {
     "data": {
      "text/plain": [
       "{'brnd': 'hdy'}"
      ]
     },
     "execution_count": 63,
     "metadata": {},
     "output_type": "execute_result"
    }
   ],
   "source": [
    "car.popitem() # 마지막 아이템 삭제\n",
    "car"
   ]
  },
  {
   "cell_type": "code",
   "execution_count": 64,
   "id": "0cbdbad0",
   "metadata": {},
   "outputs": [
    {
     "data": {
      "text/plain": [
       "{'brnd': 'hdy', 'mod': 'ioniq', 'year': '2021', 'month': '5'}"
      ]
     },
     "execution_count": 64,
     "metadata": {},
     "output_type": "execute_result"
    }
   ],
   "source": [
    "car = {'brnd': 'hdy', 'mod': 'ioniq', 'year': '2021'}\n",
    "car.setdefault('month', '5')\n",
    "# 특정 키의 값을 특정하게 수정\n",
    "# 키가 존재하지 않으면 아이템 삽입\n",
    "car"
   ]
  },
  {
   "cell_type": "code",
   "execution_count": 65,
   "id": "421a9d4e",
   "metadata": {},
   "outputs": [
    {
     "data": {
      "text/plain": [
       "{'brnd': 'hdy', 'mod': 'ioniq', 'year': '2021', 'month': '5', 'col': 'blue'}"
      ]
     },
     "execution_count": 65,
     "metadata": {},
     "output_type": "execute_result"
    }
   ],
   "source": [
    "car.update({'col': 'blue'}) # 아이템 삽입\n",
    "car"
   ]
  },
  {
   "cell_type": "markdown",
   "id": "89618617",
   "metadata": {},
   "source": [
    "# 03 Tuple methods"
   ]
  },
  {
   "cell_type": "code",
   "execution_count": 66,
   "id": "7cb98f8d",
   "metadata": {},
   "outputs": [
    {
     "data": {
      "text/plain": [
       "2"
      ]
     },
     "execution_count": 66,
     "metadata": {},
     "output_type": "execute_result"
    }
   ],
   "source": [
    "tup = (1, 2, 3, 3, 4, 5)\n",
    "tup.count(3) # 특정 값 개수 확인"
   ]
  },
  {
   "cell_type": "code",
   "execution_count": 67,
   "id": "bac0a05f",
   "metadata": {},
   "outputs": [
    {
     "data": {
      "text/plain": [
       "4"
      ]
     },
     "execution_count": 67,
     "metadata": {},
     "output_type": "execute_result"
    }
   ],
   "source": [
    "tup.index(4)\n",
    "# 특정 값의 첫번째 출현 인덱스 출력\n",
    "# 없으면 오류 출력"
   ]
  }
 ],
 "metadata": {
  "kernelspec": {
   "display_name": "Python 3",
   "language": "python",
   "name": "python3"
  },
  "language_info": {
   "codemirror_mode": {
    "name": "ipython",
    "version": 3
   },
   "file_extension": ".py",
   "mimetype": "text/x-python",
   "name": "python",
   "nbconvert_exporter": "python",
   "pygments_lexer": "ipython3",
   "version": "3.8.8"
  }
 },
 "nbformat": 4,
 "nbformat_minor": 5
}
