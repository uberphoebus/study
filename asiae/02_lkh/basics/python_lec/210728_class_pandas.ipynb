{
 "cells": [
  {
   "cell_type": "code",
   "execution_count": 1,
   "id": "c752f2dd",
   "metadata": {},
   "outputs": [],
   "source": [
    "# 데이터 입력\n",
    "\n",
    "fruit = open('fruit.txt', 'wt')\n",
    "\n",
    "fruit_price = {'apple':3500, 'peer':2500, 'cherry':5000}\n",
    "for item in fruit_price.items():\n",
    "    print(item, file = fruit)\n",
    "\n",
    "fruit.close()"
   ]
  },
  {
   "cell_type": "code",
   "execution_count": 2,
   "id": "609bf5ba",
   "metadata": {},
   "outputs": [],
   "source": [
    "# 데이터 출력\n",
    "\n",
    "fruit = open('fruit2.txt', 'wt')\n",
    "\n",
    "fruit.write('apple 2500\\n')\n",
    "fruit.write('peer 2500\\n')\n",
    "fruit.write('cherry 5000\\n')\n",
    "\n",
    "fruit.close()"
   ]
  },
  {
   "cell_type": "code",
   "execution_count": 3,
   "id": "8f9cb056",
   "metadata": {},
   "outputs": [],
   "source": [
    "# write() csv 데이터 입력\n",
    "\n",
    "import csv\n",
    "\n",
    "with open('fruit.csv', 'w', newline='') as fruit:\n",
    "    writer = csv.writer(fruit, delimiter=',')\n",
    "    writer.writerow(['apple'])\n",
    "    writer.writerow(['peer'])\n",
    "    writer.writerow(['cherry'])\n",
    "    writer.writerow(['banana'])\n",
    "    writer.writerow(['peach'])"
   ]
  },
  {
   "cell_type": "code",
   "execution_count": 4,
   "id": "4c1d8e7f",
   "metadata": {},
   "outputs": [
    {
     "name": "stdout",
     "output_type": "stream",
     "text": [
      "[\"('apple', 3500)\\n\", \"('peer', 2500)\\n\", \"('cherry', 5000)\\n\"]\n"
     ]
    }
   ],
   "source": [
    "# 데이터 읽어오기\n",
    "\n",
    "fruit_path = open('fruit.txt', 'rt')\n",
    "\n",
    "fruit_path\n",
    "fruit = fruit_path.readlines()\n",
    "\n",
    "print(fruit)"
   ]
  },
  {
   "cell_type": "code",
   "execution_count": 5,
   "id": "91327b74",
   "metadata": {},
   "outputs": [
    {
     "name": "stdout",
     "output_type": "stream",
     "text": [
      "<_csv.reader object at 0x000002398C4D8040>\n",
      "['apple']\n",
      "['peer']\n",
      "['cherry']\n",
      "['banana']\n",
      "['peach']\n"
     ]
    }
   ],
   "source": [
    "# csv 읽어오기\n",
    "\n",
    "f = open('fruit.csv', 'rt')\n",
    "csvRead = csv.reader(f)\n",
    "print(csvRead)\n",
    "\n",
    "fruit = []\n",
    "\n",
    "for i in csvRead:\n",
    "    fruit.append(csvRead)\n",
    "    print(i)"
   ]
  },
  {
   "cell_type": "markdown",
   "id": "4305fc2d",
   "metadata": {},
   "source": [
    "디지털 뉴딜\n",
    "https://v.kakao.com/v/20210722154658210?fbclid=IwAR0cAHQxQVwZrnebaHRBqJmawfkMi89gQ2nNIID5z_BbKhMHtqEhNjdE3xg\n",
    "\n",
    "AI개발자 커뮤니티\n",
    "http://aidev.co.kr/?fbclid=IwAR2UfCOFk2JLqldMEzveIqIN12HykUvewybq8U6Bj7zzm10nTpcwnpy26gI"
   ]
  },
  {
   "cell_type": "code",
   "execution_count": 6,
   "id": "136cc56d",
   "metadata": {},
   "outputs": [
    {
     "name": "stdout",
     "output_type": "stream",
     "text": [
      "3은(는) 홀수입니다.\n",
      "6은(는) 짝수입니다.\n",
      "9은(는) 홀수입니다.\n",
      "12은(는) 짝수입니다.\n",
      "15은(는) 홀수입니다.\n",
      "18은(는) 짝수입니다.\n"
     ]
    }
   ],
   "source": [
    "# 실습08 자연수의 홀수 짝수 구분\n",
    "# 1. 1에서 20까지 3으로 나누어떨어지는 요소를 갖는 num 리스트 구성\n",
    "# 2. num의 숫자의 홀수, 짝수 판별\n",
    "# 3. \"3은 홀수 입니다.\"\n",
    "\n",
    "num = []\n",
    "\n",
    "for i in range(1, 21):\n",
    "    if i % 3 == 0:\n",
    "        num.append(i)\n",
    "\n",
    "for j in num:\n",
    "    if j % 2 == 0:\n",
    "        pm = '짝수'\n",
    "    else:\n",
    "        pm = '홀수'\n",
    "    print('{}은(는) {}입니다.'.format(j, pm))"
   ]
  },
  {
   "cell_type": "code",
   "execution_count": 7,
   "id": "d4100f8d",
   "metadata": {},
   "outputs": [
    {
     "name": "stdout",
     "output_type": "stream",
     "text": [
      "one\n",
      "one\n",
      "6\n"
     ]
    }
   ],
   "source": [
    "# 실습10 for, if, range, type 혼합\n",
    "# 1. 6개의 원소를 [1, 9, 'one', 'two', 3, 'three'] 갖는 리스트 val 구성\n",
    "# 2. 마지막 원소를 자기이름으로 바꿈\n",
    "# 3. 그리고 -4번째 인덱스를 갖는 원소와\n",
    "# 4. 리스트의 첫번째 문자열('') 데이터 출력\n",
    "\n",
    "val = [1, 9, 'one', 'two', 3, 'three']\n",
    "\n",
    "val.remove('three')\n",
    "val.append('jh')\n",
    "\n",
    "print(val[-4])\n",
    "\n",
    "for i in range(len(val)):\n",
    "    if type(val[i]) == str:\n",
    "        print(val[i])\n",
    "        break\n",
    "\n",
    "print(len(val))"
   ]
  },
  {
   "cell_type": "code",
   "execution_count": 8,
   "id": "0133e7a8",
   "metadata": {},
   "outputs": [
    {
     "name": "stdout",
     "output_type": "stream",
     "text": [
      "one\n",
      "one\n"
     ]
    }
   ],
   "source": [
    "# 실습10 수업 답안\n",
    "\n",
    "val = [1, 9, 'one', 'two', 3, 'three']\n",
    "\n",
    "val[-1] = 'jh'\n",
    "\n",
    "print(val[-4])\n",
    "\n",
    "for i in val:\n",
    "    if type(i) == str:\n",
    "        print(i)\n",
    "        break"
   ]
  },
  {
   "cell_type": "code",
   "execution_count": 9,
   "id": "d2de192f",
   "metadata": {},
   "outputs": [
    {
     "name": "stdout",
     "output_type": "stream",
     "text": [
      "one\n"
     ]
    }
   ],
   "source": [
    "# 실습10 수업 답안 2\n",
    "\n",
    "for i in val:\n",
    "    if type(i) == str:\n",
    "        find_str = i\n",
    "        print(i)\n",
    "        break"
   ]
  },
  {
   "cell_type": "code",
   "execution_count": 10,
   "id": "c983fc6a",
   "metadata": {},
   "outputs": [
    {
     "name": "stdout",
     "output_type": "stream",
     "text": [
      "(0, 1)\n",
      "(1, 9)\n",
      "(2, 'one')\n",
      "(3, 'two')\n",
      "(4, 3)\n",
      "(5, 'jh')\n"
     ]
    }
   ],
   "source": [
    "# 인덱스-값 형태의 리스트 구성\n",
    "\n",
    "for i in enumerate(val):\n",
    "    print(i)"
   ]
  },
  {
   "cell_type": "code",
   "execution_count": 11,
   "id": "cd8cd4bf",
   "metadata": {},
   "outputs": [
    {
     "name": "stdout",
     "output_type": "stream",
     "text": [
      "['one', 'two', 'jh']\n"
     ]
    }
   ],
   "source": [
    "find_str = []\n",
    "\n",
    "for i in val:\n",
    "    if type(i) == str:\n",
    "        find_str.append(i)\n",
    "print(find_str)"
   ]
  },
  {
   "cell_type": "code",
   "execution_count": 12,
   "id": "7582c007",
   "metadata": {},
   "outputs": [],
   "source": [
    "# 실습11 섭씨를 화씨로 변환\n",
    "# 1. 화면에서 섭씨 온도를 입력 받아\n",
    "# 2. 섭씨온도를 화씨온도로 변환\n",
    "# 화씨 = ( 9/5) * 섭씨온도 + 32\n",
    "# 출력예 '섭씨온도 **는 화씨 **도입니다.'\n",
    "\n",
    "# c = float(input('섭씨온도를 입력해주세요. '))\n",
    "# f = round(9/5 * c + 32, 2)\n",
    "# print('섭씨온도 {}도는 화씨온도 {}도 입니다.'.format(c, f))"
   ]
  },
  {
   "cell_type": "code",
   "execution_count": 13,
   "id": "bff82b77",
   "metadata": {},
   "outputs": [],
   "source": [
    "# 실습11 수업 답안\n",
    "\n",
    "# c = float(input())\n",
    "# f = (9/5) * c + 32\n",
    "# print('섭씨온도 %s도는 화씨온도 %.2f도 입니다.'%(c, f))"
   ]
  },
  {
   "cell_type": "code",
   "execution_count": 14,
   "id": "8eed292e",
   "metadata": {},
   "outputs": [
    {
     "name": "stdout",
     "output_type": "stream",
     "text": [
      "key = 2\n"
     ]
    }
   ],
   "source": [
    "# 실습12 딕셔너리에서 값이 78인 key 찾아 출력\n",
    "\n",
    "d = {'1':[60,80,30],'2':[78,54,98], '3' : [100,50,70],'4' : [70,60,80]}\n",
    "\n",
    "for i in d:\n",
    "    for j in d[i]:\n",
    "        if j == 78:\n",
    "            print('key =', i)\n",
    "            \n"
   ]
  },
  {
   "cell_type": "code",
   "execution_count": 15,
   "id": "2e2bb35e",
   "metadata": {},
   "outputs": [
    {
     "name": "stdout",
     "output_type": "stream",
     "text": [
      "key = 1\n",
      "key = 4\n",
      "find_key =  ['1', '4']\n"
     ]
    }
   ],
   "source": [
    "# 실습12 수업 답안\n",
    "score = 80\n",
    "find_key = []\n",
    "\n",
    "for i in d.items():\n",
    "    for j in i[1]:\n",
    "        if j == score:\n",
    "            print('key =', i[0])\n",
    "            find_key.append(i[0]) # 결과값 리스트 구성\n",
    "\n",
    "            \n",
    "print('find_key = ', find_key)\n",
    "# 모듈을 구성할 때 코드블록은 되도록 수정하지 않도록 구성"
   ]
  },
  {
   "cell_type": "code",
   "execution_count": 16,
   "id": "c0e92f96",
   "metadata": {},
   "outputs": [
    {
     "name": "stdout",
     "output_type": "stream",
     "text": [
      "key = 1\n",
      "key = 4\n",
      "find_key =  ['1', '4']\n"
     ]
    }
   ],
   "source": [
    "# 실습12 수업 답안2\n",
    "\n",
    "score = 80\n",
    "find_key = []\n",
    "\n",
    "for i in d.items():\n",
    "    if score in i[1]: # 비교연산자 in 활용\n",
    "        print('key =', i[0])\n",
    "        find_key.append(i[0]) # 결과값 리스트 구성\n",
    "\n",
    "            \n",
    "print('find_key = ', find_key)"
   ]
  },
  {
   "cell_type": "markdown",
   "id": "f0a363a7",
   "metadata": {},
   "source": [
    "# 함수 def\n",
    "\n",
    "1. 반복적으로 쓰는 코드를 모아서 동작시키는 기능\n",
    "2. def func():\n",
    "       코드1\n",
    "       코드2\n",
    "       ...\n",
    "       [return a]"
   ]
  },
  {
   "cell_type": "code",
   "execution_count": 17,
   "id": "9313021c",
   "metadata": {},
   "outputs": [
    {
     "name": "stdout",
     "output_type": "stream",
     "text": [
      "111\n",
      "222\n",
      "333\n"
     ]
    }
   ],
   "source": [
    "# 인자 없는 실행 함수\n",
    "\n",
    "def prt(): # prt만 입력하면 함수 존재 확인\n",
    "    print('111')\n",
    "    print('222')\n",
    "    print('333')\n",
    "    \n",
    "prt()"
   ]
  },
  {
   "cell_type": "code",
   "execution_count": 18,
   "id": "11d55fdf",
   "metadata": {},
   "outputs": [
    {
     "name": "stdout",
     "output_type": "stream",
     "text": [
      "13\n"
     ]
    }
   ],
   "source": [
    "# 인자를 받아서 실행하는 함수\n",
    "# 인자의 개수가 다르면 오류\n",
    "# 함수 안에서만 동작\n",
    "\n",
    "def sum(a, b):\n",
    "    c = a + b\n",
    "    print(c)\n",
    "    \n",
    "sum(5, 8)"
   ]
  },
  {
   "cell_type": "code",
   "execution_count": 19,
   "id": "6d984729",
   "metadata": {},
   "outputs": [
    {
     "name": "stdout",
     "output_type": "stream",
     "text": [
      "z = 18\n",
      "z = 24\n",
      "res =  24\n"
     ]
    }
   ],
   "source": [
    "# 인자를 받아서 실행 후 결과값을 반환하는 함수\n",
    "\n",
    "def fun(x, y):\n",
    "    z = x * y\n",
    "    print('z =', z)\n",
    "    return z\n",
    "\n",
    "fun(3, 6)\n",
    "\n",
    "res = fun(3, 8)\n",
    "print('res = ', res)"
   ]
  },
  {
   "cell_type": "code",
   "execution_count": 20,
   "id": "0365580e",
   "metadata": {},
   "outputs": [
    {
     "name": "stdout",
     "output_type": "stream",
     "text": [
      "40\n"
     ]
    },
    {
     "data": {
      "text/plain": [
       "(13, 320, -3)"
      ]
     },
     "execution_count": 20,
     "metadata": {},
     "output_type": "execute_result"
    }
   ],
   "source": [
    "def fun1(x, y):\n",
    "    z = x*y\n",
    "    print(z)\n",
    "    return x+y, z*y, x-y\n",
    "\n",
    "fun1(5, 8)"
   ]
  },
  {
   "cell_type": "code",
   "execution_count": 21,
   "id": "951f65f8",
   "metadata": {},
   "outputs": [
    {
     "name": "stdout",
     "output_type": "stream",
     "text": [
      "40\n",
      "13\n",
      "320\n",
      "-3\n"
     ]
    }
   ],
   "source": [
    "a, b, c, = fun1(5, 8)\n",
    "\n",
    "print(a)\n",
    "print(b)\n",
    "print(c)"
   ]
  },
  {
   "cell_type": "code",
   "execution_count": 22,
   "id": "359fe63d",
   "metadata": {},
   "outputs": [
    {
     "data": {
      "text/plain": [
       "(8, 15, -2)"
      ]
     },
     "execution_count": 22,
     "metadata": {},
     "output_type": "execute_result"
    }
   ],
   "source": [
    "def fun3(x, y):\n",
    "    a = x+y\n",
    "    b = x*y\n",
    "    c = x-y\n",
    "    return a, b, c\n",
    "\n",
    "fun3(3, 5)"
   ]
  },
  {
   "cell_type": "code",
   "execution_count": 23,
   "id": "96f89858",
   "metadata": {},
   "outputs": [
    {
     "data": {
      "text/plain": [
       "89.96000000000001"
      ]
     },
     "execution_count": 23,
     "metadata": {},
     "output_type": "execute_result"
    }
   ],
   "source": [
    "# 온도변환 함수 만들기\n",
    "\n",
    "def cel_to_fah(c):\n",
    "    f = 9/5 * c + 32\n",
    "    return f\n",
    "\n",
    "cel_to_fah(32.2)"
   ]
  },
  {
   "cell_type": "code",
   "execution_count": 24,
   "id": "4252155f",
   "metadata": {},
   "outputs": [],
   "source": [
    "def sum_many(*args): # 여러개의 인자를 넣고 싶을 때 * 사용, args 권장\n",
    "    print('args =', args)\n",
    "    sum = 0\n",
    "    for i in args:\n",
    "        sum += i\n",
    "        return sum"
   ]
  },
  {
   "cell_type": "code",
   "execution_count": 25,
   "id": "235900e0",
   "metadata": {},
   "outputs": [
    {
     "name": "stdout",
     "output_type": "stream",
     "text": [
      "args = (1, 3, 5, 7)\n"
     ]
    },
    {
     "data": {
      "text/plain": [
       "1"
      ]
     },
     "execution_count": 25,
     "metadata": {},
     "output_type": "execute_result"
    }
   ],
   "source": [
    "sum_many(1, 3, 5, 7)"
   ]
  },
  {
   "cell_type": "code",
   "execution_count": 26,
   "id": "896f1a51",
   "metadata": {},
   "outputs": [],
   "source": [
    "# key:value 로 받는 방식, **kwargs\n",
    "\n",
    "def name(**kwargs):\n",
    "    print('kwargs =', kwargs)\n",
    "    for item in kwargs.items():\n",
    "        print('{} = {}'.format(item[0], item[1]))\n",
    "    "
   ]
  },
  {
   "cell_type": "code",
   "execution_count": 27,
   "id": "1d7acbd6",
   "metadata": {},
   "outputs": [
    {
     "name": "stdout",
     "output_type": "stream",
     "text": [
      "kwargs = {'aa': '123', 'bb': '456'}\n",
      "aa = 123\n",
      "bb = 456\n"
     ]
    }
   ],
   "source": [
    "name(aa='123', bb='456')"
   ]
  },
  {
   "cell_type": "code",
   "execution_count": 28,
   "id": "903fe042",
   "metadata": {},
   "outputs": [
    {
     "name": "stdout",
     "output_type": "stream",
     "text": [
      "kwargs1 = {'aa': '34534'}\n",
      "kwargs1 = {'jfaoijeof': 234}\n",
      "kwargs1 = {'abce': 'wefjoiwejfo', 'sdfsdf': 213242, 'fjweiof': '2342'}\n"
     ]
    }
   ],
   "source": [
    "def name1(**kwargs1):\n",
    "    print('kwargs1 =', kwargs1)\n",
    "    \n",
    "name1(aa='34534')\n",
    "name1(jfaoijeof=234)\n",
    "name1(abce = 'wefjoiwejfo', sdfsdf = 213242, fjweiof = '2342')"
   ]
  },
  {
   "cell_type": "code",
   "execution_count": 29,
   "id": "4da99002",
   "metadata": {},
   "outputs": [],
   "source": [
    "# 예시\n",
    "\n",
    "def std_arg(arg):\n",
    "    print(\"std_arg = \", arg)\n",
    "def pos_only_arg(arg,/): # ,/ 포지션 값만 받음\n",
    "    print(\"pos_only_arg = \", arg)\n",
    "def kwd_only_arg(*, arg):\n",
    "    print(\"kwd_only_arg = \", arg)\n",
    "def combined_example(pos_only, /, standard, *, kwd_only):\n",
    "    print(pos_only, standard, kwd_only)"
   ]
  },
  {
   "cell_type": "code",
   "execution_count": 30,
   "id": "12db64dd",
   "metadata": {},
   "outputs": [
    {
     "name": "stdout",
     "output_type": "stream",
     "text": [
      "std_arg =  2\n",
      "std_arg =  2\n",
      "pos_only_arg =  1\n",
      "1 2 3\n"
     ]
    }
   ],
   "source": [
    "std_arg(2)\n",
    "\n",
    "std_arg(arg=2) # 숫자만 받아감\n",
    "\n",
    "# std_arg(aa=2) # 이해하지 못함\n",
    "\n",
    "pos_only_arg(1)\n",
    "\n",
    "# pos_only_arg(arg=1) # ,/ 포지션값만 받기 때문에 오류\n",
    "\n",
    "combined_example(1, 2, kwd_only = 3)\n",
    "\n",
    "# combined_example(1, 2, 3) 오류 발생"
   ]
  },
  {
   "cell_type": "code",
   "execution_count": 31,
   "id": "550f1943",
   "metadata": {},
   "outputs": [],
   "source": [
    "# 실습\n",
    "\n",
    "def cv_fah(x):\n",
    "    y = 9/5 * x + 32\n",
    "    return y\n",
    "\n",
    "# 1. 화면에서 입력받아 화씨 출력\n",
    "\n",
    "# x = float(input('섭씨 온도는? '))\n",
    "# y = round(cv_fah(x), 2)\n",
    "\n",
    "# print('섭씨 {}도는 화씨 {}도입니다.'.format(x, y))"
   ]
  },
  {
   "cell_type": "code",
   "execution_count": 32,
   "id": "a5d18fc1",
   "metadata": {},
   "outputs": [
    {
     "name": "stdout",
     "output_type": "stream",
     "text": [
      "섭씨 25도는 화씨 77.00도입니다.\n",
      "섭씨 20도는 화씨 68.00도입니다.\n",
      "섭씨 32도는 화씨 89.60도입니다.\n",
      "섭씨 34도는 화씨 93.20도입니다.\n",
      "섭씨 19도는 화씨 66.20도입니다.\n"
     ]
    }
   ],
   "source": [
    "x = [25, 20, 32, 34, 19]\n",
    "\n",
    "for i in x:\n",
    "    y = round(cv_fah(i), 2)\n",
    "    print('섭씨 %s도는 화씨 %.2f도입니다.'%(i, y))"
   ]
  },
  {
   "cell_type": "code",
   "execution_count": 33,
   "id": "72eaf126",
   "metadata": {},
   "outputs": [
    {
     "name": "stdout",
     "output_type": "stream",
     "text": [
      "섭씨 25도는 화씨 77.00도입니다.\n",
      "y1 = [77.0]\n",
      "섭씨 20도는 화씨 68.00도입니다.\n",
      "y1 = [77.0, 68.0]\n",
      "섭씨 32도는 화씨 89.60도입니다.\n",
      "y1 = [77.0, 68.0, 89.6]\n",
      "섭씨 34도는 화씨 93.20도입니다.\n",
      "y1 = [77.0, 68.0, 89.6, 93.2]\n",
      "섭씨 19도는 화씨 66.20도입니다.\n",
      "y1 = [77.0, 68.0, 89.6, 93.2, 66.2]\n"
     ]
    }
   ],
   "source": [
    "# 실습 화씨 데이터 저장\n",
    "\n",
    "x = [25, 20, 32, 34, 19]\n",
    "y1 = []\n",
    "\n",
    "for i in x:\n",
    "    y = round(cv_fah(i), 2)\n",
    "    y1.append(y)\n",
    "    print('섭씨 %s도는 화씨 %.2f도입니다.'%(i, y))\n",
    "    print('y1 =', y1)"
   ]
  },
  {
   "cell_type": "code",
   "execution_count": 34,
   "id": "5f5fdee9",
   "metadata": {},
   "outputs": [
    {
     "name": "stdout",
     "output_type": "stream",
     "text": [
      "섭씨 32도는 화씨 89.60도입니다.\n",
      "y2 = [89.6]\n",
      "섭씨 34도는 화씨 93.20도입니다.\n",
      "y2 = [89.6, 93.2]\n"
     ]
    }
   ],
   "source": [
    "# 실습 섭씨 30도 이상인 화씨 데이터만 저장\n",
    "\n",
    "x = [25, 20, 32, 34, 19]\n",
    "y2 = []\n",
    "\n",
    "for i in x:\n",
    "    if i >= 30:\n",
    "        y = round(cv_fah(i), 2)\n",
    "        y2.append(y)\n",
    "        print('섭씨 %s도는 화씨 %.2f도입니다.'%(i, y))\n",
    "        print('y2 =', y2)"
   ]
  },
  {
   "cell_type": "code",
   "execution_count": 35,
   "id": "650d1903",
   "metadata": {},
   "outputs": [
    {
     "data": {
      "text/plain": [
       "[77.0, 68.0, 89.6, 93.2, 66.2]"
      ]
     },
     "execution_count": 35,
     "metadata": {},
     "output_type": "execute_result"
    }
   ],
   "source": [
    "# 리스트 comp 방식 적용, 연습+중요\n",
    "# [반복실행문장 for 반복변수 in 반복범위]\n",
    "\n",
    "[cv_fah(i) for i in x]"
   ]
  },
  {
   "cell_type": "markdown",
   "id": "9631beb7",
   "metadata": {},
   "source": [
    "# pandas\n",
    "\n",
    "대용량 데이터 분석, 처리 라이브러리\n",
    "\n",
    "교재, pandas doc 10 minute 활용\n",
    "\n",
    "pds만의 데이터 구조; Series, DataFrame"
   ]
  },
  {
   "cell_type": "code",
   "execution_count": 36,
   "id": "fd6c717e",
   "metadata": {},
   "outputs": [],
   "source": [
    "# series 데이터 구조; 구조, 생성, 수정, 삭제\n",
    "\n",
    "import pandas # pds 불러오기, pandas. 으로 함수 사용 가능\n",
    "\n",
    "import pandas as pd # pd. 으로 함수 사용\n",
    "\n",
    "from pandas import Series, DataFrame\n",
    "# pd 라이브러리 내에서 Series, Dataframe 클래스 불러오기\n",
    "# 클래스 이름은 대소문자 구분\n",
    "# 클래스; 함수(코드들의 집합)들의 집합\n",
    "# 모듈(라이브러리); 클래스의 집합\n",
    "# from module(lib) import class"
   ]
  },
  {
   "cell_type": "code",
   "execution_count": 37,
   "id": "e571bfb6",
   "metadata": {},
   "outputs": [
    {
     "data": {
      "text/plain": [
       "apple     2500\n",
       "banana    3800\n",
       "peer      1200\n",
       "cherry    6000\n",
       "dtype: int64"
      ]
     },
     "execution_count": 37,
     "metadata": {},
     "output_type": "execute_result"
    }
   ],
   "source": [
    "# Series 생성\n",
    "\n",
    "from pandas import Series, DataFrame\n",
    "\n",
    "Series(data = [2500, 3800, 1200, 6000],\n",
    "       index = ['apple', 'banana', 'peer', 'cherry'])\n",
    "# Series 데이터의 기본 형태"
   ]
  },
  {
   "cell_type": "code",
   "execution_count": 38,
   "id": "9e1fe5e3",
   "metadata": {},
   "outputs": [
    {
     "name": "stdout",
     "output_type": "stream",
     "text": [
      "[2500 3800 1200 6000]\n",
      "Index(['apple', 'banana', 'peer', 'cherry'], dtype='object')\n"
     ]
    }
   ],
   "source": [
    "# Series 생성; import pandas as pd 로 불러왔을 때\n",
    "pd.Series([2500, 3800, 1200, 6000],\n",
    "          index = ['apple', 'banana', 'peer', 'cherry'])\n",
    "# [data =]는 생략 가능\n",
    "\n",
    "# 새로운 변수에 클래스 할당\n",
    "# 할당했을 때 클래스의 기능을 상속받음; 객체 지향적\n",
    "fruit = pd.Series(data = [2500, 3800, 1200, 6000],\n",
    "                  index = ['apple', 'banana', 'peer', 'cherry'])\n",
    "\n",
    "data = [2500, 3800, 1200, 6000]\n",
    "value = ['apple', 'banana', 'peer', 'cherry']\n",
    "\n",
    "fruit = pd.Series(data = data,\n",
    "                  index = value)\n",
    "\n",
    "print(fruit.values) # 데이터 추출\n",
    "print(fruit.index) # 인덱스 추출"
   ]
  },
  {
   "cell_type": "code",
   "execution_count": 39,
   "id": "e7e59fbf",
   "metadata": {},
   "outputs": [
    {
     "name": "stdout",
     "output_type": "stream",
     "text": [
      "<class 'dict'>\n",
      "<class 'pandas.core.series.Series'>\n"
     ]
    }
   ],
   "source": [
    "# 딕셔너리를 시리즈로 컨버팅\n",
    "\n",
    "fruitData = {'apple':2500, 'banana':3800, 'peer':1200, 'cherry':6000}\n",
    "\n",
    "fruit = pd.Series(fruitData)\n",
    "\n",
    "print(type(fruitData))\n",
    "print(type(fruit)) # pd 시리즈 데이터 타입"
   ]
  },
  {
   "cell_type": "code",
   "execution_count": 40,
   "id": "e6ae6a03",
   "metadata": {},
   "outputs": [
    {
     "name": "stdout",
     "output_type": "stream",
     "text": [
      "fruitName\n",
      "apple     2500\n",
      "banana    3800\n",
      "peer      1200\n",
      "cherry    6000\n",
      "Name: fruitPrice, dtype: int64\n"
     ]
    },
    {
     "data": {
      "text/plain": [
       "Index(['apple', 'banana', 'peer', 'cherry'], dtype='object', name='fruitName')"
      ]
     },
     "execution_count": 40,
     "metadata": {},
     "output_type": "execute_result"
    }
   ],
   "source": [
    "fruit.name = 'fruitPrice' # 시리즈의 이름 명명\n",
    "fruit.index.name = 'fruitName' # 시리즈 인덱스의 이름\n",
    "\n",
    "print(fruit)\n",
    "\n",
    "fruit.index"
   ]
  },
  {
   "cell_type": "code",
   "execution_count": 41,
   "id": "2c6298a9",
   "metadata": {
    "scrolled": true
   },
   "outputs": [
    {
     "name": "stdout",
     "output_type": "stream",
     "text": [
      "<class 'pandas.core.frame.DataFrame'>\n"
     ]
    },
    {
     "data": {
      "text/html": [
       "<div>\n",
       "<style scoped>\n",
       "    .dataframe tbody tr th:only-of-type {\n",
       "        vertical-align: middle;\n",
       "    }\n",
       "\n",
       "    .dataframe tbody tr th {\n",
       "        vertical-align: top;\n",
       "    }\n",
       "\n",
       "    .dataframe thead th {\n",
       "        text-align: right;\n",
       "    }\n",
       "</style>\n",
       "<table border=\"1\" class=\"dataframe\">\n",
       "  <thead>\n",
       "    <tr style=\"text-align: right;\">\n",
       "      <th></th>\n",
       "      <th>fruitName</th>\n",
       "      <th>fruitPrice</th>\n",
       "      <th>num</th>\n",
       "    </tr>\n",
       "  </thead>\n",
       "  <tbody>\n",
       "    <tr>\n",
       "      <th>0</th>\n",
       "      <td>apple</td>\n",
       "      <td>2500</td>\n",
       "      <td>10</td>\n",
       "    </tr>\n",
       "    <tr>\n",
       "      <th>1</th>\n",
       "      <td>banana</td>\n",
       "      <td>3800</td>\n",
       "      <td>5</td>\n",
       "    </tr>\n",
       "    <tr>\n",
       "      <th>2</th>\n",
       "      <td>cherry</td>\n",
       "      <td>6000</td>\n",
       "      <td>3</td>\n",
       "    </tr>\n",
       "    <tr>\n",
       "      <th>3</th>\n",
       "      <td>peer</td>\n",
       "      <td>1200</td>\n",
       "      <td>8</td>\n",
       "    </tr>\n",
       "  </tbody>\n",
       "</table>\n",
       "</div>"
      ],
      "text/plain": [
       "  fruitName  fruitPrice  num\n",
       "0     apple        2500   10\n",
       "1    banana        3800    5\n",
       "2    cherry        6000    3\n",
       "3      peer        1200    8"
      ]
     },
     "execution_count": 41,
     "metadata": {},
     "output_type": "execute_result"
    }
   ],
   "source": [
    "# DataFrame; 시리즈는 하나의 열 형태, 데이터프레임은 열이 여러개 모인 구조\n",
    "# DateFrame 생성\n",
    "# 인덱스와 값의 갯수들이 동일해야 함\n",
    "# 키가 컬럼명, 나머지가 데이터\n",
    "\n",
    "fruitData = {'fruitName':['apple', 'banana', 'cherry', 'peer'],\n",
    "            'fruitPrice':[2500, 3800, 6000, 1200],\n",
    "            'num':[10, 5, 3, 8]}\n",
    "\n",
    "fruitFrame = pd.DataFrame(fruitData)\n",
    "\n",
    "print(type(fruitFrame)) # pd의 데이터프레임 구조\n",
    "\n",
    "fruitFrame"
   ]
  },
  {
   "cell_type": "code",
   "execution_count": 42,
   "id": "16fa533f",
   "metadata": {},
   "outputs": [
    {
     "data": {
      "text/html": [
       "<div>\n",
       "<style scoped>\n",
       "    .dataframe tbody tr th:only-of-type {\n",
       "        vertical-align: middle;\n",
       "    }\n",
       "\n",
       "    .dataframe tbody tr th {\n",
       "        vertical-align: top;\n",
       "    }\n",
       "\n",
       "    .dataframe thead th {\n",
       "        text-align: right;\n",
       "    }\n",
       "</style>\n",
       "<table border=\"1\" class=\"dataframe\">\n",
       "  <thead>\n",
       "    <tr style=\"text-align: right;\">\n",
       "      <th></th>\n",
       "      <th>fruitPrice</th>\n",
       "      <th>num</th>\n",
       "      <th>fruitName</th>\n",
       "    </tr>\n",
       "  </thead>\n",
       "  <tbody>\n",
       "    <tr>\n",
       "      <th>0</th>\n",
       "      <td>2500</td>\n",
       "      <td>10</td>\n",
       "      <td>apple</td>\n",
       "    </tr>\n",
       "    <tr>\n",
       "      <th>1</th>\n",
       "      <td>3800</td>\n",
       "      <td>5</td>\n",
       "      <td>banana</td>\n",
       "    </tr>\n",
       "    <tr>\n",
       "      <th>2</th>\n",
       "      <td>6000</td>\n",
       "      <td>3</td>\n",
       "      <td>cherry</td>\n",
       "    </tr>\n",
       "    <tr>\n",
       "      <th>3</th>\n",
       "      <td>1200</td>\n",
       "      <td>8</td>\n",
       "      <td>peer</td>\n",
       "    </tr>\n",
       "  </tbody>\n",
       "</table>\n",
       "</div>"
      ],
      "text/plain": [
       "   fruitPrice  num fruitName\n",
       "0        2500   10     apple\n",
       "1        3800    5    banana\n",
       "2        6000    3    cherry\n",
       "3        1200    8      peer"
      ]
     },
     "execution_count": 42,
     "metadata": {},
     "output_type": "execute_result"
    }
   ],
   "source": [
    "# 컬럼 순서 설정하는 방법\n",
    "\n",
    "fruitFrame = pd.DataFrame(fruitData, columns = ['fruitPrice', 'num', 'fruitName'])\n",
    "\n",
    "fruitFrame"
   ]
  },
  {
   "cell_type": "code",
   "execution_count": 43,
   "id": "d758157f",
   "metadata": {},
   "outputs": [
    {
     "name": "stdout",
     "output_type": "stream",
     "text": [
      "0     apple\n",
      "1    banana\n",
      "2    cherry\n",
      "3      peer\n",
      "Name: fruitName, dtype: object\n",
      "0     apple\n",
      "1    banana\n",
      "2    cherry\n",
      "3      peer\n",
      "Name: fruitName, dtype: object\n"
     ]
    }
   ],
   "source": [
    "# 데이터 추출; dtFm[key] or dtFm.key\n",
    "# 시리즈 형태로 출력\n",
    "\n",
    "print(fruitFrame['fruitName'])\n",
    "\n",
    "print(fruitFrame.fruitName)"
   ]
  },
  {
   "cell_type": "code",
   "execution_count": 44,
   "id": "9e12a828",
   "metadata": {},
   "outputs": [
    {
     "name": "stdout",
     "output_type": "stream",
     "text": [
      "   fruitPrice  num fruitName  year\n",
      "0        2500   10     apple  2016\n",
      "1        3800    5    banana  2016\n",
      "2        6000    3    cherry  2016\n",
      "3        1200    8      peer  2016\n",
      "   fruitPrice  num fruitName  year  stock\n",
      "0        2500   10     apple  2016    4.0\n",
      "1        3800    5    banana  2016    NaN\n",
      "2        6000    3    cherry  2016    2.0\n",
      "3        1200    8      peer  2016    1.0\n"
     ]
    }
   ],
   "source": [
    "# 컬럼 추가; dtFm[key] = val\n",
    "\n",
    "fruitFrame['year'] = 2016\n",
    "\n",
    "print(fruitFrame)\n",
    "\n",
    "# 인덱스를 지정해서 컬럼/값 추가\n",
    "variable = pd.Series([4, 2, 1], index = [0, 2, 3])\n",
    "fruitFrame['stock'] = variable\n",
    "\n",
    "print(fruitFrame)"
   ]
  },
  {
   "cell_type": "code",
   "execution_count": 45,
   "id": "1d722f75",
   "metadata": {},
   "outputs": [
    {
     "name": "stdout",
     "output_type": "stream",
     "text": [
      "apple     2500\n",
      "banana    3800\n",
      "peer      1200\n",
      "cherry    6000\n",
      "dtype: int64\n",
      "apple     2500\n",
      "peer      1200\n",
      "cherry    6000\n",
      "dtype: int64\n"
     ]
    }
   ],
   "source": [
    "# 데이터 구조의 항목 삭제\n",
    "# 시리즈의 row 삭제\n",
    "\n",
    "fruit = pd.Series([2500,3800,1200,6000],\n",
    "                  index=['apple','banana','peer','cherry'])\n",
    "new_fruit = fruit.drop('banana')\n",
    "print(fruit)\n",
    "print(new_fruit)"
   ]
  },
  {
   "cell_type": "code",
   "execution_count": 46,
   "id": "21345547",
   "metadata": {},
   "outputs": [
    {
     "name": "stdout",
     "output_type": "stream",
     "text": [
      "        fruitPrice  num\n",
      "apple         2500   10\n",
      "banana        3800    5\n",
      "cherry        6000    3\n",
      "peer          1200    8\n"
     ]
    },
    {
     "data": {
      "text/html": [
       "<div>\n",
       "<style scoped>\n",
       "    .dataframe tbody tr th:only-of-type {\n",
       "        vertical-align: middle;\n",
       "    }\n",
       "\n",
       "    .dataframe tbody tr th {\n",
       "        vertical-align: top;\n",
       "    }\n",
       "\n",
       "    .dataframe thead th {\n",
       "        text-align: right;\n",
       "    }\n",
       "</style>\n",
       "<table border=\"1\" class=\"dataframe\">\n",
       "  <thead>\n",
       "    <tr style=\"text-align: right;\">\n",
       "      <th></th>\n",
       "      <th>fruitPrice</th>\n",
       "      <th>num</th>\n",
       "    </tr>\n",
       "  </thead>\n",
       "  <tbody>\n",
       "    <tr>\n",
       "      <th>banana</th>\n",
       "      <td>3800</td>\n",
       "      <td>5</td>\n",
       "    </tr>\n",
       "    <tr>\n",
       "      <th>peer</th>\n",
       "      <td>1200</td>\n",
       "      <td>8</td>\n",
       "    </tr>\n",
       "  </tbody>\n",
       "</table>\n",
       "</div>"
      ],
      "text/plain": [
       "        fruitPrice  num\n",
       "banana        3800    5\n",
       "peer          1200    8"
      ]
     },
     "execution_count": 46,
     "metadata": {},
     "output_type": "execute_result"
    }
   ],
   "source": [
    "# df의 row 삭제\n",
    "\n",
    "fruitData = {'fruitName':['apple', 'banana', 'cherry', 'peer'],\n",
    "            'fruitPrice':[2500, 3800, 6000, 1200],\n",
    "            'num':[10, 5, 3, 8]}\n",
    "\n",
    "fruitName = fruitData['fruitName'] # 딕셔너리 처리, 별도의 인덱스 데이터화\n",
    "\n",
    "fruitFrame = pd.DataFrame(fruitData,\n",
    "                          index = fruitName,\n",
    "                          columns = ['fruitPrice', 'num']) # 인덱스를 부여\n",
    "\n",
    "print(fruitFrame)\n",
    "\n",
    "fruitFrame2 = fruitFrame.drop(['apple', 'cherry'])\n",
    "fruitFrame2"
   ]
  },
  {
   "cell_type": "code",
   "execution_count": 47,
   "id": "f90d600f",
   "metadata": {},
   "outputs": [
    {
     "data": {
      "text/html": [
       "<div>\n",
       "<style scoped>\n",
       "    .dataframe tbody tr th:only-of-type {\n",
       "        vertical-align: middle;\n",
       "    }\n",
       "\n",
       "    .dataframe tbody tr th {\n",
       "        vertical-align: top;\n",
       "    }\n",
       "\n",
       "    .dataframe thead th {\n",
       "        text-align: right;\n",
       "    }\n",
       "</style>\n",
       "<table border=\"1\" class=\"dataframe\">\n",
       "  <thead>\n",
       "    <tr style=\"text-align: right;\">\n",
       "      <th></th>\n",
       "      <th>fruitPrice</th>\n",
       "    </tr>\n",
       "  </thead>\n",
       "  <tbody>\n",
       "    <tr>\n",
       "      <th>apple</th>\n",
       "      <td>2500</td>\n",
       "    </tr>\n",
       "    <tr>\n",
       "      <th>banana</th>\n",
       "      <td>3800</td>\n",
       "    </tr>\n",
       "    <tr>\n",
       "      <th>cherry</th>\n",
       "      <td>6000</td>\n",
       "    </tr>\n",
       "    <tr>\n",
       "      <th>peer</th>\n",
       "      <td>1200</td>\n",
       "    </tr>\n",
       "  </tbody>\n",
       "</table>\n",
       "</div>"
      ],
      "text/plain": [
       "        fruitPrice\n",
       "apple         2500\n",
       "banana        3800\n",
       "cherry        6000\n",
       "peer          1200"
      ]
     },
     "execution_count": 47,
     "metadata": {},
     "output_type": "execute_result"
    }
   ],
   "source": [
    "# 컬럼 삭제\n",
    "\n",
    "fruitFrame.drop('num', axis = 1) # axis = 0 열, = 1 행 기준\n",
    "# axis 설정하지 않으면 0이 기본값\n",
    "\n",
    "fruitFrame3 = fruitFrame.drop('num', axis = 1)\n",
    "fruitFrame3"
   ]
  },
  {
   "cell_type": "code",
   "execution_count": 48,
   "id": "d2c590c7",
   "metadata": {},
   "outputs": [
    {
     "data": {
      "text/html": [
       "<div>\n",
       "<style scoped>\n",
       "    .dataframe tbody tr th:only-of-type {\n",
       "        vertical-align: middle;\n",
       "    }\n",
       "\n",
       "    .dataframe tbody tr th {\n",
       "        vertical-align: top;\n",
       "    }\n",
       "\n",
       "    .dataframe thead th {\n",
       "        text-align: right;\n",
       "    }\n",
       "</style>\n",
       "<table border=\"1\" class=\"dataframe\">\n",
       "  <thead>\n",
       "    <tr style=\"text-align: right;\">\n",
       "      <th></th>\n",
       "    </tr>\n",
       "  </thead>\n",
       "  <tbody>\n",
       "    <tr>\n",
       "      <th>apple</th>\n",
       "    </tr>\n",
       "    <tr>\n",
       "      <th>banana</th>\n",
       "    </tr>\n",
       "    <tr>\n",
       "      <th>cherry</th>\n",
       "    </tr>\n",
       "    <tr>\n",
       "      <th>peer</th>\n",
       "    </tr>\n",
       "  </tbody>\n",
       "</table>\n",
       "</div>"
      ],
      "text/plain": [
       "Empty DataFrame\n",
       "Columns: []\n",
       "Index: [apple, banana, cherry, peer]"
      ]
     },
     "execution_count": 48,
     "metadata": {},
     "output_type": "execute_result"
    }
   ],
   "source": [
    "# 여러 컬럼 지우기, 영구적 수정은 아님\n",
    "\n",
    "fruitFrame.drop(['num', 'fruitPrice'], axis = 1)"
   ]
  },
  {
   "cell_type": "code",
   "execution_count": 49,
   "id": "38b1351c",
   "metadata": {},
   "outputs": [
    {
     "name": "stdout",
     "output_type": "stream",
     "text": [
      "        fruitPrice\n",
      "apple         2500\n",
      "banana        3800\n",
      "cherry        6000\n",
      "peer          1200\n"
     ]
    },
    {
     "data": {
      "text/html": [
       "<div>\n",
       "<style scoped>\n",
       "    .dataframe tbody tr th:only-of-type {\n",
       "        vertical-align: middle;\n",
       "    }\n",
       "\n",
       "    .dataframe tbody tr th {\n",
       "        vertical-align: top;\n",
       "    }\n",
       "\n",
       "    .dataframe thead th {\n",
       "        text-align: right;\n",
       "    }\n",
       "</style>\n",
       "<table border=\"1\" class=\"dataframe\">\n",
       "  <thead>\n",
       "    <tr style=\"text-align: right;\">\n",
       "      <th></th>\n",
       "      <th>fruitPrice</th>\n",
       "    </tr>\n",
       "  </thead>\n",
       "  <tbody>\n",
       "    <tr>\n",
       "      <th>apple</th>\n",
       "      <td>2500</td>\n",
       "    </tr>\n",
       "    <tr>\n",
       "      <th>banana</th>\n",
       "      <td>3800</td>\n",
       "    </tr>\n",
       "    <tr>\n",
       "      <th>cherry</th>\n",
       "      <td>6000</td>\n",
       "    </tr>\n",
       "    <tr>\n",
       "      <th>peer</th>\n",
       "      <td>1200</td>\n",
       "    </tr>\n",
       "  </tbody>\n",
       "</table>\n",
       "</div>"
      ],
      "text/plain": [
       "        fruitPrice\n",
       "apple         2500\n",
       "banana        3800\n",
       "cherry        6000\n",
       "peer          1200"
      ]
     },
     "execution_count": 49,
     "metadata": {},
     "output_type": "execute_result"
    }
   ],
   "source": [
    "tmp = fruitFrame.copy()\n",
    "\n",
    "print(tmp.drop('num', axis = 1))\n",
    "\n",
    "# inplace False(기본값)면 데이터 미수정, True면 영구적 수정\n",
    "tmp.drop('num', axis = 1, inplace = True)\n",
    "\n",
    "tmp"
   ]
  },
  {
   "cell_type": "code",
   "execution_count": 50,
   "id": "bd96606a",
   "metadata": {},
   "outputs": [
    {
     "data": {
      "text/html": [
       "<div>\n",
       "<style scoped>\n",
       "    .dataframe tbody tr th:only-of-type {\n",
       "        vertical-align: middle;\n",
       "    }\n",
       "\n",
       "    .dataframe tbody tr th {\n",
       "        vertical-align: top;\n",
       "    }\n",
       "\n",
       "    .dataframe thead th {\n",
       "        text-align: right;\n",
       "    }\n",
       "</style>\n",
       "<table border=\"1\" class=\"dataframe\">\n",
       "  <thead>\n",
       "    <tr style=\"text-align: right;\">\n",
       "      <th></th>\n",
       "      <th>fruitPrice</th>\n",
       "      <th>num</th>\n",
       "    </tr>\n",
       "  </thead>\n",
       "  <tbody>\n",
       "    <tr>\n",
       "      <th>apple</th>\n",
       "      <td>2500</td>\n",
       "      <td>10</td>\n",
       "    </tr>\n",
       "    <tr>\n",
       "      <th>banana</th>\n",
       "      <td>3800</td>\n",
       "      <td>5</td>\n",
       "    </tr>\n",
       "    <tr>\n",
       "      <th>cherry</th>\n",
       "      <td>6000</td>\n",
       "      <td>3</td>\n",
       "    </tr>\n",
       "    <tr>\n",
       "      <th>peer</th>\n",
       "      <td>1200</td>\n",
       "      <td>8</td>\n",
       "    </tr>\n",
       "  </tbody>\n",
       "</table>\n",
       "</div>"
      ],
      "text/plain": [
       "        fruitPrice  num\n",
       "apple         2500   10\n",
       "banana        3800    5\n",
       "cherry        6000    3\n",
       "peer          1200    8"
      ]
     },
     "execution_count": 50,
     "metadata": {},
     "output_type": "execute_result"
    }
   ],
   "source": [
    "# 항목 추출\n",
    "data = [2500, 3800, 1200, 6000]\n",
    "value = ['apple', 'banana', 'peer', 'cherry']\n",
    "\n",
    "fruit = pd.Series(data = data,\n",
    "                 index = value)\n",
    "\n",
    "# [a:b] a부터 b가지 슬라이싱\n",
    "fruit['apple':'peer']\n",
    "\n",
    "fruitFrame"
   ]
  },
  {
   "cell_type": "code",
   "execution_count": 51,
   "id": "bc270130",
   "metadata": {},
   "outputs": [
    {
     "data": {
      "text/html": [
       "<div>\n",
       "<style scoped>\n",
       "    .dataframe tbody tr th:only-of-type {\n",
       "        vertical-align: middle;\n",
       "    }\n",
       "\n",
       "    .dataframe tbody tr th {\n",
       "        vertical-align: top;\n",
       "    }\n",
       "\n",
       "    .dataframe thead th {\n",
       "        text-align: right;\n",
       "    }\n",
       "</style>\n",
       "<table border=\"1\" class=\"dataframe\">\n",
       "  <thead>\n",
       "    <tr style=\"text-align: right;\">\n",
       "      <th></th>\n",
       "      <th>fruitPrice</th>\n",
       "      <th>num</th>\n",
       "    </tr>\n",
       "  </thead>\n",
       "  <tbody>\n",
       "    <tr>\n",
       "      <th>apple</th>\n",
       "      <td>2500</td>\n",
       "      <td>10</td>\n",
       "    </tr>\n",
       "    <tr>\n",
       "      <th>banana</th>\n",
       "      <td>3800</td>\n",
       "      <td>5</td>\n",
       "    </tr>\n",
       "    <tr>\n",
       "      <th>cherry</th>\n",
       "      <td>6000</td>\n",
       "      <td>3</td>\n",
       "    </tr>\n",
       "    <tr>\n",
       "      <th>peer</th>\n",
       "      <td>1200</td>\n",
       "      <td>8</td>\n",
       "    </tr>\n",
       "  </tbody>\n",
       "</table>\n",
       "</div>"
      ],
      "text/plain": [
       "        fruitPrice  num\n",
       "apple         2500   10\n",
       "banana        3800    5\n",
       "cherry        6000    3\n",
       "peer          1200    8"
      ]
     },
     "execution_count": 51,
     "metadata": {},
     "output_type": "execute_result"
    }
   ],
   "source": [
    "fruitData = {'fruitName':['apple', 'banana', 'cherry', 'peer'],\n",
    "            'fruitPrice':[2500, 3800, 6000, 1200],\n",
    "            'num':[10, 5, 3, 8]}\n",
    "\n",
    "fruitName = fruitData['fruitName']\n",
    "fruitFrame = pd.DataFrame(fruitData,\n",
    "                         index = fruitName,\n",
    "                         columns = ['fruitPrice', 'num'])\n",
    "\n",
    "fruitFrame"
   ]
  },
  {
   "cell_type": "code",
   "execution_count": 52,
   "id": "f1ec3a0b",
   "metadata": {},
   "outputs": [
    {
     "data": {
      "text/html": [
       "<div>\n",
       "<style scoped>\n",
       "    .dataframe tbody tr th:only-of-type {\n",
       "        vertical-align: middle;\n",
       "    }\n",
       "\n",
       "    .dataframe tbody tr th {\n",
       "        vertical-align: top;\n",
       "    }\n",
       "\n",
       "    .dataframe thead th {\n",
       "        text-align: right;\n",
       "    }\n",
       "</style>\n",
       "<table border=\"1\" class=\"dataframe\">\n",
       "  <thead>\n",
       "    <tr style=\"text-align: right;\">\n",
       "      <th></th>\n",
       "      <th>fruitName</th>\n",
       "      <th>fruitPrice</th>\n",
       "      <th>num</th>\n",
       "    </tr>\n",
       "  </thead>\n",
       "  <tbody>\n",
       "    <tr>\n",
       "      <th>apple</th>\n",
       "      <td>apple</td>\n",
       "      <td>2500</td>\n",
       "      <td>10</td>\n",
       "    </tr>\n",
       "    <tr>\n",
       "      <th>banana</th>\n",
       "      <td>banana</td>\n",
       "      <td>3800</td>\n",
       "      <td>5</td>\n",
       "    </tr>\n",
       "    <tr>\n",
       "      <th>cherry</th>\n",
       "      <td>cherry</td>\n",
       "      <td>6000</td>\n",
       "      <td>3</td>\n",
       "    </tr>\n",
       "    <tr>\n",
       "      <th>peer</th>\n",
       "      <td>peer</td>\n",
       "      <td>1200</td>\n",
       "      <td>8</td>\n",
       "    </tr>\n",
       "  </tbody>\n",
       "</table>\n",
       "</div>"
      ],
      "text/plain": [
       "       fruitName  fruitPrice  num\n",
       "apple      apple        2500   10\n",
       "banana    banana        3800    5\n",
       "cherry    cherry        6000    3\n",
       "peer        peer        1200    8"
      ]
     },
     "execution_count": 52,
     "metadata": {},
     "output_type": "execute_result"
    }
   ],
   "source": [
    "pd.DataFrame(fruitData, index = fruitName)"
   ]
  },
  {
   "cell_type": "code",
   "execution_count": 53,
   "id": "e370d519",
   "metadata": {},
   "outputs": [
    {
     "data": {
      "text/plain": [
       "apple     2500\n",
       "banana    3800\n",
       "cherry    6000\n",
       "peer      1200\n",
       "Name: fruitPrice, dtype: int64"
      ]
     },
     "execution_count": 53,
     "metadata": {},
     "output_type": "execute_result"
    }
   ],
   "source": [
    "fruitFrame['fruitPrice']"
   ]
  },
  {
   "cell_type": "code",
   "execution_count": 54,
   "id": "c7b6162f",
   "metadata": {},
   "outputs": [
    {
     "data": {
      "text/html": [
       "<div>\n",
       "<style scoped>\n",
       "    .dataframe tbody tr th:only-of-type {\n",
       "        vertical-align: middle;\n",
       "    }\n",
       "\n",
       "    .dataframe tbody tr th {\n",
       "        vertical-align: top;\n",
       "    }\n",
       "\n",
       "    .dataframe thead th {\n",
       "        text-align: right;\n",
       "    }\n",
       "</style>\n",
       "<table border=\"1\" class=\"dataframe\">\n",
       "  <thead>\n",
       "    <tr style=\"text-align: right;\">\n",
       "      <th></th>\n",
       "      <th>fruitPrice</th>\n",
       "      <th>num</th>\n",
       "    </tr>\n",
       "  </thead>\n",
       "  <tbody>\n",
       "    <tr>\n",
       "      <th>apple</th>\n",
       "      <td>2500</td>\n",
       "      <td>10</td>\n",
       "    </tr>\n",
       "    <tr>\n",
       "      <th>banana</th>\n",
       "      <td>3800</td>\n",
       "      <td>5</td>\n",
       "    </tr>\n",
       "  </tbody>\n",
       "</table>\n",
       "</div>"
      ],
      "text/plain": [
       "        fruitPrice  num\n",
       "apple         2500   10\n",
       "banana        3800    5"
      ]
     },
     "execution_count": 54,
     "metadata": {},
     "output_type": "execute_result"
    }
   ],
   "source": [
    "fruitFrame['apple':'banana']"
   ]
  },
  {
   "cell_type": "code",
   "execution_count": 55,
   "id": "a249d98b",
   "metadata": {},
   "outputs": [
    {
     "name": "stdout",
     "output_type": "stream",
     "text": [
      "apple      8.0\n",
      "banana    18.0\n",
      "cherry    15.0\n",
      "mango      NaN\n",
      "orange     NaN\n",
      "peer       NaN\n",
      "dtype: float64\n"
     ]
    }
   ],
   "source": [
    "# 시리즈 연산\n",
    "fruit1 = pd.Series([5, 9, 10, 3],\n",
    "                   index = ['apple', 'banana', 'cherry', 'peer'])\n",
    "fruit2 = pd.Series([3, 2, 9, 5, 10],\n",
    "                   index = ['apple', 'orange', 'banana', 'cherry', 'mango'])\n",
    "\n",
    "print(fruit1 + fruit2) # 인덱스가 겹치면 더하고 그렇지 않으면 Nan"
   ]
  },
  {
   "cell_type": "code",
   "execution_count": 56,
   "id": "267727cb",
   "metadata": {},
   "outputs": [
    {
     "name": "stdout",
     "output_type": "stream",
     "text": [
      "    Colorado  Ohio  Texas\n",
      "ap       NaN   7.0    NaN\n",
      "ba       NaN  10.0    NaN\n",
      "ch       NaN   4.0    NaN\n",
      "ma       NaN   NaN    NaN\n",
      "or       NaN   NaN    NaN\n",
      "pe       NaN   NaN    NaN\n"
     ]
    }
   ],
   "source": [
    "# df 연산\n",
    "# 딕셔너리를 시리즈로 변환\n",
    "fd1 = {\"Ohio\":[4, 8, 3, 5], \"Texas\":[0,1,2,3]}\n",
    "df1 = pd.DataFrame(data = fd1,\n",
    "                   columns = [\"Ohio\", \"Texas\"], \n",
    "                   index = [\"ap\", \"ba\", \"ch\", \"pe\"])\n",
    "fd2 = {\"Ohio\":[3, 0, 2, 1, 7], \"Colorado\":[5, 4, 3, 6, 0]}\n",
    "df2 = pd.DataFrame(data = fd2,\n",
    "                   columns = [\"Ohio\", \"Colorado\"], \n",
    "                   index = [\"ap\", \"or\", \"ba\", \"ch\", \"ma\"])\n",
    "\n",
    "print(df1 + df2)\n",
    "# 인덱스와 컬럼이 같을 경우만 연산, 아니면 Nan"
   ]
  },
  {
   "cell_type": "code",
   "execution_count": 57,
   "id": "a19694e8",
   "metadata": {},
   "outputs": [
    {
     "name": "stdout",
     "output_type": "stream",
     "text": [
      "peer      1200\n",
      "apple     2500\n",
      "banana    3800\n",
      "cherry    6000\n",
      "dtype: int64\n",
      "cherry    6000\n",
      "banana    3800\n",
      "apple     2500\n",
      "peer      1200\n",
      "dtype: int64\n"
     ]
    }
   ],
   "source": [
    "# srs 정렬\n",
    "data = [2500, 3800, 1200, 6000]\n",
    "value = ['apple', 'banana', 'peer', 'cherry']\n",
    "\n",
    "fruit = pd.Series(data = data,\n",
    "                 index = value)\n",
    "\n",
    "print(fruit.sort_values()) # 데이터 정렬, 기본값 오름차순\n",
    "print(fruit.sort_values(ascending = False)) # 내림차순"
   ]
  },
  {
   "cell_type": "code",
   "execution_count": 58,
   "id": "c79b88ff",
   "metadata": {},
   "outputs": [
    {
     "name": "stdout",
     "output_type": "stream",
     "text": [
      "        fruitPrice  num\n",
      "apple         2500   10\n",
      "banana        3800    5\n",
      "cherry        6000    3\n",
      "peer          1200    8\n",
      "        fruitPrice  num\n",
      "peer          1200    8\n",
      "cherry        6000    3\n",
      "banana        3800    5\n",
      "apple         2500   10\n",
      "        num  fruitPrice\n",
      "apple    10        2500\n",
      "banana    5        3800\n",
      "cherry    3        6000\n",
      "peer      8        1200\n",
      "        fruitPrice  num\n",
      "peer          1200    8\n",
      "apple         2500   10\n",
      "banana        3800    5\n",
      "cherry        6000    3\n",
      "        fruitPrice  num\n",
      "peer          1200    8\n",
      "apple         2500   10\n",
      "banana        3800    5\n",
      "cherry        6000    3\n",
      "        fruitPrice  num\n",
      "cherry        6000    3\n",
      "banana        3800    5\n",
      "apple         2500   10\n",
      "peer          1200    8\n"
     ]
    }
   ],
   "source": [
    "# df 정렬\n",
    "print(fruitFrame.sort_index()) # 오름차순\n",
    "print(fruitFrame.sort_index(ascending = False)) # 내림차순\n",
    "\n",
    "print(fruitFrame.sort_index(axis = 1, ascending = False)) # 행, 내림차순 \n",
    "\n",
    "print(fruitFrame.sort_values(['fruitPrice'])) # 데이터 정렬은 특정 컬럼 기준으로\n",
    "print(fruitFrame.sort_values(by = ['fruitPrice'])) # by= 생략가능\n",
    "print(fruitFrame.sort_values(['fruitPrice'], ascending = False))"
   ]
  },
  {
   "cell_type": "code",
   "execution_count": 59,
   "id": "d1eae24e",
   "metadata": {},
   "outputs": [],
   "source": [
    "# 데이터\n",
    "\n",
    "fruit1 = pd.Series([5, 9, 10, 3],\n",
    "                   index = ['apple', 'banana', 'cherry', 'peer'])\n",
    "fruit2 = pd.Series([3, 2, 9, 5, 10],\n",
    "                   index = ['apple', 'orange', 'banana', 'cherry', 'mango'])\n",
    "\n",
    "\n",
    "fd1 = {\"Ohio\":[4, 8, 3, 5], \"Texas\":[0,1,2,3]}\n",
    "df1 = pd.DataFrame(data = fd1,\n",
    "                   columns = [\"Ohio\", \"Texas\"], \n",
    "                   index = [\"ap\", \"ba\", \"ch\", \"pe\"])\n",
    "fd2 = {\"Ohio\":[3, 0, 2, 1, 7], \"Colorado\":[5, 4, 3, 6, 0]}\n",
    "df2 = pd.DataFrame(data = fd2,\n",
    "                   columns = [\"Ohio\", \"Colorado\"], \n",
    "                   index = [\"ap\", \"or\", \"ba\", \"ch\", \"ma\"])\n",
    "\n",
    "\n",
    "\n",
    "\n",
    "data = [2500, 3800, 1200, 6000]\n",
    "value = ['apple', 'banana', 'peer', 'cherry']\n",
    "\n",
    "fruitData = {'apple':2500, 'banana':3800, 'peer':1200, 'cherry':6000}\n",
    "\n",
    "fruitData = {'fruitName':['apple', 'banana', 'cherry', 'peer'],\n",
    "            'fruitPrice':[2500, 3800, 6000, 1200],\n",
    "            'num':[10, 5, 3, 8]}"
   ]
  },
  {
   "cell_type": "markdown",
   "id": "80078fbb",
   "metadata": {},
   "source": [
    "# 교재 활용 사례 맛보기\n",
    "\n",
    "함수\n",
    "count\n",
    "min, max\n",
    "sum\n",
    "cumprod\n",
    "mean\n",
    "median\n",
    "\n",
    "quantile\n",
    "Var\n",
    "std\n",
    "Describe"
   ]
  },
  {
   "cell_type": "code",
   "execution_count": 60,
   "id": "a892e1f8",
   "metadata": {},
   "outputs": [],
   "source": [
    "# 데이터 불러오기\n",
    "\n",
    "import pandas as pd\n",
    "\n",
    "# 웹에서 데이터 읽어오기\n",
    "url = \"http://freakonometrics.free.fr/german_credit.csv\"\n",
    "german = pd.read_csv(url)\n",
    "\n",
    "# 다운받은 파일 읽어오기 (오류가 생기면 \\ / 수정)\n",
    "# german = pd.read_csv(\"C:\\jhpark\\sync\\python\\pandas\\german_credit.csv\")\n"
   ]
  },
  {
   "cell_type": "markdown",
   "id": "8c40476e",
   "metadata": {},
   "source": [
    "## df 읽어 온 후 반드시 해야 할 8가지"
   ]
  },
  {
   "cell_type": "code",
   "execution_count": 61,
   "id": "d4e7b89c",
   "metadata": {},
   "outputs": [
    {
     "data": {
      "text/html": [
       "<div>\n",
       "<style scoped>\n",
       "    .dataframe tbody tr th:only-of-type {\n",
       "        vertical-align: middle;\n",
       "    }\n",
       "\n",
       "    .dataframe tbody tr th {\n",
       "        vertical-align: top;\n",
       "    }\n",
       "\n",
       "    .dataframe thead th {\n",
       "        text-align: right;\n",
       "    }\n",
       "</style>\n",
       "<table border=\"1\" class=\"dataframe\">\n",
       "  <thead>\n",
       "    <tr style=\"text-align: right;\">\n",
       "      <th></th>\n",
       "      <th>Creditability</th>\n",
       "      <th>Account Balance</th>\n",
       "      <th>Duration of Credit (month)</th>\n",
       "      <th>Payment Status of Previous Credit</th>\n",
       "      <th>Purpose</th>\n",
       "      <th>Credit Amount</th>\n",
       "      <th>Value Savings/Stocks</th>\n",
       "      <th>Length of current employment</th>\n",
       "      <th>Instalment per cent</th>\n",
       "      <th>Sex &amp; Marital Status</th>\n",
       "      <th>...</th>\n",
       "      <th>Duration in Current address</th>\n",
       "      <th>Most valuable available asset</th>\n",
       "      <th>Age (years)</th>\n",
       "      <th>Concurrent Credits</th>\n",
       "      <th>Type of apartment</th>\n",
       "      <th>No of Credits at this Bank</th>\n",
       "      <th>Occupation</th>\n",
       "      <th>No of dependents</th>\n",
       "      <th>Telephone</th>\n",
       "      <th>Foreign Worker</th>\n",
       "    </tr>\n",
       "  </thead>\n",
       "  <tbody>\n",
       "    <tr>\n",
       "      <th>0</th>\n",
       "      <td>1</td>\n",
       "      <td>1</td>\n",
       "      <td>18</td>\n",
       "      <td>4</td>\n",
       "      <td>2</td>\n",
       "      <td>1049</td>\n",
       "      <td>1</td>\n",
       "      <td>2</td>\n",
       "      <td>4</td>\n",
       "      <td>2</td>\n",
       "      <td>...</td>\n",
       "      <td>4</td>\n",
       "      <td>2</td>\n",
       "      <td>21</td>\n",
       "      <td>3</td>\n",
       "      <td>1</td>\n",
       "      <td>1</td>\n",
       "      <td>3</td>\n",
       "      <td>1</td>\n",
       "      <td>1</td>\n",
       "      <td>1</td>\n",
       "    </tr>\n",
       "    <tr>\n",
       "      <th>1</th>\n",
       "      <td>1</td>\n",
       "      <td>1</td>\n",
       "      <td>9</td>\n",
       "      <td>4</td>\n",
       "      <td>0</td>\n",
       "      <td>2799</td>\n",
       "      <td>1</td>\n",
       "      <td>3</td>\n",
       "      <td>2</td>\n",
       "      <td>3</td>\n",
       "      <td>...</td>\n",
       "      <td>2</td>\n",
       "      <td>1</td>\n",
       "      <td>36</td>\n",
       "      <td>3</td>\n",
       "      <td>1</td>\n",
       "      <td>2</td>\n",
       "      <td>3</td>\n",
       "      <td>2</td>\n",
       "      <td>1</td>\n",
       "      <td>1</td>\n",
       "    </tr>\n",
       "    <tr>\n",
       "      <th>2</th>\n",
       "      <td>1</td>\n",
       "      <td>2</td>\n",
       "      <td>12</td>\n",
       "      <td>2</td>\n",
       "      <td>9</td>\n",
       "      <td>841</td>\n",
       "      <td>2</td>\n",
       "      <td>4</td>\n",
       "      <td>2</td>\n",
       "      <td>2</td>\n",
       "      <td>...</td>\n",
       "      <td>4</td>\n",
       "      <td>1</td>\n",
       "      <td>23</td>\n",
       "      <td>3</td>\n",
       "      <td>1</td>\n",
       "      <td>1</td>\n",
       "      <td>2</td>\n",
       "      <td>1</td>\n",
       "      <td>1</td>\n",
       "      <td>1</td>\n",
       "    </tr>\n",
       "    <tr>\n",
       "      <th>3</th>\n",
       "      <td>1</td>\n",
       "      <td>1</td>\n",
       "      <td>12</td>\n",
       "      <td>4</td>\n",
       "      <td>0</td>\n",
       "      <td>2122</td>\n",
       "      <td>1</td>\n",
       "      <td>3</td>\n",
       "      <td>3</td>\n",
       "      <td>3</td>\n",
       "      <td>...</td>\n",
       "      <td>2</td>\n",
       "      <td>1</td>\n",
       "      <td>39</td>\n",
       "      <td>3</td>\n",
       "      <td>1</td>\n",
       "      <td>2</td>\n",
       "      <td>2</td>\n",
       "      <td>2</td>\n",
       "      <td>1</td>\n",
       "      <td>2</td>\n",
       "    </tr>\n",
       "    <tr>\n",
       "      <th>4</th>\n",
       "      <td>1</td>\n",
       "      <td>1</td>\n",
       "      <td>12</td>\n",
       "      <td>4</td>\n",
       "      <td>0</td>\n",
       "      <td>2171</td>\n",
       "      <td>1</td>\n",
       "      <td>3</td>\n",
       "      <td>4</td>\n",
       "      <td>3</td>\n",
       "      <td>...</td>\n",
       "      <td>4</td>\n",
       "      <td>2</td>\n",
       "      <td>38</td>\n",
       "      <td>1</td>\n",
       "      <td>2</td>\n",
       "      <td>2</td>\n",
       "      <td>2</td>\n",
       "      <td>1</td>\n",
       "      <td>1</td>\n",
       "      <td>2</td>\n",
       "    </tr>\n",
       "    <tr>\n",
       "      <th>...</th>\n",
       "      <td>...</td>\n",
       "      <td>...</td>\n",
       "      <td>...</td>\n",
       "      <td>...</td>\n",
       "      <td>...</td>\n",
       "      <td>...</td>\n",
       "      <td>...</td>\n",
       "      <td>...</td>\n",
       "      <td>...</td>\n",
       "      <td>...</td>\n",
       "      <td>...</td>\n",
       "      <td>...</td>\n",
       "      <td>...</td>\n",
       "      <td>...</td>\n",
       "      <td>...</td>\n",
       "      <td>...</td>\n",
       "      <td>...</td>\n",
       "      <td>...</td>\n",
       "      <td>...</td>\n",
       "      <td>...</td>\n",
       "      <td>...</td>\n",
       "    </tr>\n",
       "    <tr>\n",
       "      <th>995</th>\n",
       "      <td>0</td>\n",
       "      <td>1</td>\n",
       "      <td>24</td>\n",
       "      <td>2</td>\n",
       "      <td>3</td>\n",
       "      <td>1987</td>\n",
       "      <td>1</td>\n",
       "      <td>3</td>\n",
       "      <td>2</td>\n",
       "      <td>3</td>\n",
       "      <td>...</td>\n",
       "      <td>4</td>\n",
       "      <td>1</td>\n",
       "      <td>21</td>\n",
       "      <td>3</td>\n",
       "      <td>1</td>\n",
       "      <td>1</td>\n",
       "      <td>2</td>\n",
       "      <td>2</td>\n",
       "      <td>1</td>\n",
       "      <td>1</td>\n",
       "    </tr>\n",
       "    <tr>\n",
       "      <th>996</th>\n",
       "      <td>0</td>\n",
       "      <td>1</td>\n",
       "      <td>24</td>\n",
       "      <td>2</td>\n",
       "      <td>0</td>\n",
       "      <td>2303</td>\n",
       "      <td>1</td>\n",
       "      <td>5</td>\n",
       "      <td>4</td>\n",
       "      <td>3</td>\n",
       "      <td>...</td>\n",
       "      <td>1</td>\n",
       "      <td>1</td>\n",
       "      <td>45</td>\n",
       "      <td>3</td>\n",
       "      <td>2</td>\n",
       "      <td>1</td>\n",
       "      <td>3</td>\n",
       "      <td>1</td>\n",
       "      <td>1</td>\n",
       "      <td>1</td>\n",
       "    </tr>\n",
       "    <tr>\n",
       "      <th>997</th>\n",
       "      <td>0</td>\n",
       "      <td>4</td>\n",
       "      <td>21</td>\n",
       "      <td>4</td>\n",
       "      <td>0</td>\n",
       "      <td>12680</td>\n",
       "      <td>5</td>\n",
       "      <td>5</td>\n",
       "      <td>4</td>\n",
       "      <td>3</td>\n",
       "      <td>...</td>\n",
       "      <td>4</td>\n",
       "      <td>4</td>\n",
       "      <td>30</td>\n",
       "      <td>3</td>\n",
       "      <td>3</td>\n",
       "      <td>1</td>\n",
       "      <td>4</td>\n",
       "      <td>1</td>\n",
       "      <td>2</td>\n",
       "      <td>1</td>\n",
       "    </tr>\n",
       "    <tr>\n",
       "      <th>998</th>\n",
       "      <td>0</td>\n",
       "      <td>2</td>\n",
       "      <td>12</td>\n",
       "      <td>2</td>\n",
       "      <td>3</td>\n",
       "      <td>6468</td>\n",
       "      <td>5</td>\n",
       "      <td>1</td>\n",
       "      <td>2</td>\n",
       "      <td>3</td>\n",
       "      <td>...</td>\n",
       "      <td>1</td>\n",
       "      <td>4</td>\n",
       "      <td>52</td>\n",
       "      <td>3</td>\n",
       "      <td>2</td>\n",
       "      <td>1</td>\n",
       "      <td>4</td>\n",
       "      <td>1</td>\n",
       "      <td>2</td>\n",
       "      <td>1</td>\n",
       "    </tr>\n",
       "    <tr>\n",
       "      <th>999</th>\n",
       "      <td>0</td>\n",
       "      <td>1</td>\n",
       "      <td>30</td>\n",
       "      <td>2</td>\n",
       "      <td>2</td>\n",
       "      <td>6350</td>\n",
       "      <td>5</td>\n",
       "      <td>5</td>\n",
       "      <td>4</td>\n",
       "      <td>3</td>\n",
       "      <td>...</td>\n",
       "      <td>4</td>\n",
       "      <td>2</td>\n",
       "      <td>31</td>\n",
       "      <td>3</td>\n",
       "      <td>2</td>\n",
       "      <td>1</td>\n",
       "      <td>3</td>\n",
       "      <td>1</td>\n",
       "      <td>1</td>\n",
       "      <td>1</td>\n",
       "    </tr>\n",
       "  </tbody>\n",
       "</table>\n",
       "<p>1000 rows × 21 columns</p>\n",
       "</div>"
      ],
      "text/plain": [
       "     Creditability  Account Balance  Duration of Credit (month)  \\\n",
       "0                1                1                          18   \n",
       "1                1                1                           9   \n",
       "2                1                2                          12   \n",
       "3                1                1                          12   \n",
       "4                1                1                          12   \n",
       "..             ...              ...                         ...   \n",
       "995              0                1                          24   \n",
       "996              0                1                          24   \n",
       "997              0                4                          21   \n",
       "998              0                2                          12   \n",
       "999              0                1                          30   \n",
       "\n",
       "     Payment Status of Previous Credit  Purpose  Credit Amount  \\\n",
       "0                                    4        2           1049   \n",
       "1                                    4        0           2799   \n",
       "2                                    2        9            841   \n",
       "3                                    4        0           2122   \n",
       "4                                    4        0           2171   \n",
       "..                                 ...      ...            ...   \n",
       "995                                  2        3           1987   \n",
       "996                                  2        0           2303   \n",
       "997                                  4        0          12680   \n",
       "998                                  2        3           6468   \n",
       "999                                  2        2           6350   \n",
       "\n",
       "     Value Savings/Stocks  Length of current employment  Instalment per cent  \\\n",
       "0                       1                             2                    4   \n",
       "1                       1                             3                    2   \n",
       "2                       2                             4                    2   \n",
       "3                       1                             3                    3   \n",
       "4                       1                             3                    4   \n",
       "..                    ...                           ...                  ...   \n",
       "995                     1                             3                    2   \n",
       "996                     1                             5                    4   \n",
       "997                     5                             5                    4   \n",
       "998                     5                             1                    2   \n",
       "999                     5                             5                    4   \n",
       "\n",
       "     Sex & Marital Status  ...  Duration in Current address  \\\n",
       "0                       2  ...                            4   \n",
       "1                       3  ...                            2   \n",
       "2                       2  ...                            4   \n",
       "3                       3  ...                            2   \n",
       "4                       3  ...                            4   \n",
       "..                    ...  ...                          ...   \n",
       "995                     3  ...                            4   \n",
       "996                     3  ...                            1   \n",
       "997                     3  ...                            4   \n",
       "998                     3  ...                            1   \n",
       "999                     3  ...                            4   \n",
       "\n",
       "     Most valuable available asset  Age (years)  Concurrent Credits  \\\n",
       "0                                2           21                   3   \n",
       "1                                1           36                   3   \n",
       "2                                1           23                   3   \n",
       "3                                1           39                   3   \n",
       "4                                2           38                   1   \n",
       "..                             ...          ...                 ...   \n",
       "995                              1           21                   3   \n",
       "996                              1           45                   3   \n",
       "997                              4           30                   3   \n",
       "998                              4           52                   3   \n",
       "999                              2           31                   3   \n",
       "\n",
       "     Type of apartment  No of Credits at this Bank  Occupation  \\\n",
       "0                    1                           1           3   \n",
       "1                    1                           2           3   \n",
       "2                    1                           1           2   \n",
       "3                    1                           2           2   \n",
       "4                    2                           2           2   \n",
       "..                 ...                         ...         ...   \n",
       "995                  1                           1           2   \n",
       "996                  2                           1           3   \n",
       "997                  3                           1           4   \n",
       "998                  2                           1           4   \n",
       "999                  2                           1           3   \n",
       "\n",
       "     No of dependents  Telephone  Foreign Worker  \n",
       "0                   1          1               1  \n",
       "1                   2          1               1  \n",
       "2                   1          1               1  \n",
       "3                   2          1               2  \n",
       "4                   1          1               2  \n",
       "..                ...        ...             ...  \n",
       "995                 2          1               1  \n",
       "996                 1          1               1  \n",
       "997                 1          2               1  \n",
       "998                 1          2               1  \n",
       "999                 1          1               1  \n",
       "\n",
       "[1000 rows x 21 columns]"
      ]
     },
     "execution_count": 61,
     "metadata": {},
     "output_type": "execute_result"
    }
   ],
   "source": [
    "# 1. 첫 6개 데이터 조회; df.head(n); n개의 행 조회\n",
    "german.head()\n",
    "\n",
    "german"
   ]
  },
  {
   "cell_type": "code",
   "execution_count": 62,
   "id": "aa822c5f",
   "metadata": {},
   "outputs": [
    {
     "data": {
      "text/plain": [
       "(1000, 21)"
      ]
     },
     "execution_count": 62,
     "metadata": {},
     "output_type": "execute_result"
    }
   ],
   "source": [
    "# 2. df 정보; df.shape; 건수, 컬럼수; df.shape[]에 0 행, 1 열 갯수\n",
    "german.shape"
   ]
  },
  {
   "cell_type": "code",
   "execution_count": 63,
   "id": "8089f8f2",
   "metadata": {},
   "outputs": [
    {
     "name": "stdout",
     "output_type": "stream",
     "text": [
      "Index(['Creditability', 'Account Balance', 'Duration of Credit (month)',\n",
      "       'Payment Status of Previous Credit', 'Purpose'],\n",
      "      dtype='object')\n",
      "['Creditability', 'Account Balance', 'Duration of Credit (month)', 'Payment Status of Previous Credit', 'Purpose']\n"
     ]
    },
    {
     "data": {
      "text/plain": [
       "array(['Creditability', 'Account Balance', 'Duration of Credit (month)',\n",
       "       'Payment Status of Previous Credit', 'Purpose'], dtype=object)"
      ]
     },
     "execution_count": 63,
     "metadata": {},
     "output_type": "execute_result"
    }
   ],
   "source": [
    "# 3. 컬럼이름; df.columns; 컬럼을 리스트로 받음\n",
    "print(german.columns[:5])\n",
    "print(list(german.columns)[:5])\n",
    "german.columns.values[0:5]"
   ]
  },
  {
   "cell_type": "code",
   "execution_count": 64,
   "id": "fc7c8e10",
   "metadata": {},
   "outputs": [
    {
     "name": "stdout",
     "output_type": "stream",
     "text": [
      "<class 'pandas.core.frame.DataFrame'>\n",
      "RangeIndex: 1000 entries, 0 to 999\n",
      "Data columns (total 21 columns):\n",
      " #   Column                             Non-Null Count  Dtype\n",
      "---  ------                             --------------  -----\n",
      " 0   Creditability                      1000 non-null   int64\n",
      " 1   Account Balance                    1000 non-null   int64\n",
      " 2   Duration of Credit (month)         1000 non-null   int64\n",
      " 3   Payment Status of Previous Credit  1000 non-null   int64\n",
      " 4   Purpose                            1000 non-null   int64\n",
      " 5   Credit Amount                      1000 non-null   int64\n",
      " 6   Value Savings/Stocks               1000 non-null   int64\n",
      " 7   Length of current employment       1000 non-null   int64\n",
      " 8   Instalment per cent                1000 non-null   int64\n",
      " 9   Sex & Marital Status               1000 non-null   int64\n",
      " 10  Guarantors                         1000 non-null   int64\n",
      " 11  Duration in Current address        1000 non-null   int64\n",
      " 12  Most valuable available asset      1000 non-null   int64\n",
      " 13  Age (years)                        1000 non-null   int64\n",
      " 14  Concurrent Credits                 1000 non-null   int64\n",
      " 15  Type of apartment                  1000 non-null   int64\n",
      " 16  No of Credits at this Bank         1000 non-null   int64\n",
      " 17  Occupation                         1000 non-null   int64\n",
      " 18  No of dependents                   1000 non-null   int64\n",
      " 19  Telephone                          1000 non-null   int64\n",
      " 20  Foreign Worker                     1000 non-null   int64\n",
      "dtypes: int64(21)\n",
      "memory usage: 164.2 KB\n"
     ]
    }
   ],
   "source": [
    "# 4. df 구조; df.info();\n",
    "german.info()"
   ]
  },
  {
   "cell_type": "code",
   "execution_count": 65,
   "id": "c391a503",
   "metadata": {},
   "outputs": [
    {
     "data": {
      "text/html": [
       "<div>\n",
       "<style scoped>\n",
       "    .dataframe tbody tr th:only-of-type {\n",
       "        vertical-align: middle;\n",
       "    }\n",
       "\n",
       "    .dataframe tbody tr th {\n",
       "        vertical-align: top;\n",
       "    }\n",
       "\n",
       "    .dataframe thead th {\n",
       "        text-align: right;\n",
       "    }\n",
       "</style>\n",
       "<table border=\"1\" class=\"dataframe\">\n",
       "  <thead>\n",
       "    <tr style=\"text-align: right;\">\n",
       "      <th></th>\n",
       "      <th>Creditability</th>\n",
       "      <th>Account Balance</th>\n",
       "      <th>Duration of Credit (month)</th>\n",
       "      <th>Payment Status of Previous Credit</th>\n",
       "      <th>Purpose</th>\n",
       "      <th>Credit Amount</th>\n",
       "      <th>Value Savings/Stocks</th>\n",
       "      <th>Length of current employment</th>\n",
       "      <th>Instalment per cent</th>\n",
       "      <th>Sex &amp; Marital Status</th>\n",
       "      <th>...</th>\n",
       "      <th>Duration in Current address</th>\n",
       "      <th>Most valuable available asset</th>\n",
       "      <th>Age (years)</th>\n",
       "      <th>Concurrent Credits</th>\n",
       "      <th>Type of apartment</th>\n",
       "      <th>No of Credits at this Bank</th>\n",
       "      <th>Occupation</th>\n",
       "      <th>No of dependents</th>\n",
       "      <th>Telephone</th>\n",
       "      <th>Foreign Worker</th>\n",
       "    </tr>\n",
       "  </thead>\n",
       "  <tbody>\n",
       "    <tr>\n",
       "      <th>995</th>\n",
       "      <td>0</td>\n",
       "      <td>1</td>\n",
       "      <td>24</td>\n",
       "      <td>2</td>\n",
       "      <td>3</td>\n",
       "      <td>1987</td>\n",
       "      <td>1</td>\n",
       "      <td>3</td>\n",
       "      <td>2</td>\n",
       "      <td>3</td>\n",
       "      <td>...</td>\n",
       "      <td>4</td>\n",
       "      <td>1</td>\n",
       "      <td>21</td>\n",
       "      <td>3</td>\n",
       "      <td>1</td>\n",
       "      <td>1</td>\n",
       "      <td>2</td>\n",
       "      <td>2</td>\n",
       "      <td>1</td>\n",
       "      <td>1</td>\n",
       "    </tr>\n",
       "    <tr>\n",
       "      <th>996</th>\n",
       "      <td>0</td>\n",
       "      <td>1</td>\n",
       "      <td>24</td>\n",
       "      <td>2</td>\n",
       "      <td>0</td>\n",
       "      <td>2303</td>\n",
       "      <td>1</td>\n",
       "      <td>5</td>\n",
       "      <td>4</td>\n",
       "      <td>3</td>\n",
       "      <td>...</td>\n",
       "      <td>1</td>\n",
       "      <td>1</td>\n",
       "      <td>45</td>\n",
       "      <td>3</td>\n",
       "      <td>2</td>\n",
       "      <td>1</td>\n",
       "      <td>3</td>\n",
       "      <td>1</td>\n",
       "      <td>1</td>\n",
       "      <td>1</td>\n",
       "    </tr>\n",
       "    <tr>\n",
       "      <th>997</th>\n",
       "      <td>0</td>\n",
       "      <td>4</td>\n",
       "      <td>21</td>\n",
       "      <td>4</td>\n",
       "      <td>0</td>\n",
       "      <td>12680</td>\n",
       "      <td>5</td>\n",
       "      <td>5</td>\n",
       "      <td>4</td>\n",
       "      <td>3</td>\n",
       "      <td>...</td>\n",
       "      <td>4</td>\n",
       "      <td>4</td>\n",
       "      <td>30</td>\n",
       "      <td>3</td>\n",
       "      <td>3</td>\n",
       "      <td>1</td>\n",
       "      <td>4</td>\n",
       "      <td>1</td>\n",
       "      <td>2</td>\n",
       "      <td>1</td>\n",
       "    </tr>\n",
       "    <tr>\n",
       "      <th>998</th>\n",
       "      <td>0</td>\n",
       "      <td>2</td>\n",
       "      <td>12</td>\n",
       "      <td>2</td>\n",
       "      <td>3</td>\n",
       "      <td>6468</td>\n",
       "      <td>5</td>\n",
       "      <td>1</td>\n",
       "      <td>2</td>\n",
       "      <td>3</td>\n",
       "      <td>...</td>\n",
       "      <td>1</td>\n",
       "      <td>4</td>\n",
       "      <td>52</td>\n",
       "      <td>3</td>\n",
       "      <td>2</td>\n",
       "      <td>1</td>\n",
       "      <td>4</td>\n",
       "      <td>1</td>\n",
       "      <td>2</td>\n",
       "      <td>1</td>\n",
       "    </tr>\n",
       "    <tr>\n",
       "      <th>999</th>\n",
       "      <td>0</td>\n",
       "      <td>1</td>\n",
       "      <td>30</td>\n",
       "      <td>2</td>\n",
       "      <td>2</td>\n",
       "      <td>6350</td>\n",
       "      <td>5</td>\n",
       "      <td>5</td>\n",
       "      <td>4</td>\n",
       "      <td>3</td>\n",
       "      <td>...</td>\n",
       "      <td>4</td>\n",
       "      <td>2</td>\n",
       "      <td>31</td>\n",
       "      <td>3</td>\n",
       "      <td>2</td>\n",
       "      <td>1</td>\n",
       "      <td>3</td>\n",
       "      <td>1</td>\n",
       "      <td>1</td>\n",
       "      <td>1</td>\n",
       "    </tr>\n",
       "  </tbody>\n",
       "</table>\n",
       "<p>5 rows × 21 columns</p>\n",
       "</div>"
      ],
      "text/plain": [
       "     Creditability  Account Balance  Duration of Credit (month)  \\\n",
       "995              0                1                          24   \n",
       "996              0                1                          24   \n",
       "997              0                4                          21   \n",
       "998              0                2                          12   \n",
       "999              0                1                          30   \n",
       "\n",
       "     Payment Status of Previous Credit  Purpose  Credit Amount  \\\n",
       "995                                  2        3           1987   \n",
       "996                                  2        0           2303   \n",
       "997                                  4        0          12680   \n",
       "998                                  2        3           6468   \n",
       "999                                  2        2           6350   \n",
       "\n",
       "     Value Savings/Stocks  Length of current employment  Instalment per cent  \\\n",
       "995                     1                             3                    2   \n",
       "996                     1                             5                    4   \n",
       "997                     5                             5                    4   \n",
       "998                     5                             1                    2   \n",
       "999                     5                             5                    4   \n",
       "\n",
       "     Sex & Marital Status  ...  Duration in Current address  \\\n",
       "995                     3  ...                            4   \n",
       "996                     3  ...                            1   \n",
       "997                     3  ...                            4   \n",
       "998                     3  ...                            1   \n",
       "999                     3  ...                            4   \n",
       "\n",
       "     Most valuable available asset  Age (years)  Concurrent Credits  \\\n",
       "995                              1           21                   3   \n",
       "996                              1           45                   3   \n",
       "997                              4           30                   3   \n",
       "998                              4           52                   3   \n",
       "999                              2           31                   3   \n",
       "\n",
       "     Type of apartment  No of Credits at this Bank  Occupation  \\\n",
       "995                  1                           1           2   \n",
       "996                  2                           1           3   \n",
       "997                  3                           1           4   \n",
       "998                  2                           1           4   \n",
       "999                  2                           1           3   \n",
       "\n",
       "     No of dependents  Telephone  Foreign Worker  \n",
       "995                 2          1               1  \n",
       "996                 1          1               1  \n",
       "997                 1          2               1  \n",
       "998                 1          2               1  \n",
       "999                 1          1               1  \n",
       "\n",
       "[5 rows x 21 columns]"
      ]
     },
     "execution_count": 65,
     "metadata": {},
     "output_type": "execute_result"
    }
   ],
   "source": [
    "# 5. 마지막 n개 데이터 확인; df.tail(n)\n",
    "german.tail(5)"
   ]
  },
  {
   "cell_type": "code",
   "execution_count": 66,
   "id": "20b7d663",
   "metadata": {},
   "outputs": [
    {
     "name": "stdout",
     "output_type": "stream",
     "text": [
      "Creditability                        0\n",
      "Account Balance                      0\n",
      "Duration of Credit (month)           0\n",
      "Payment Status of Previous Credit    0\n",
      "Purpose                              0\n",
      "Credit Amount                        0\n",
      "Value Savings/Stocks                 0\n",
      "Length of current employment         0\n",
      "Instalment per cent                  0\n",
      "Sex & Marital Status                 0\n",
      "Guarantors                           0\n",
      "Duration in Current address          0\n",
      "Most valuable available asset        0\n",
      "Age (years)                          0\n",
      "Concurrent Credits                   0\n",
      "Type of apartment                    0\n",
      "No of Credits at this Bank           0\n",
      "Occupation                           0\n",
      "No of dependents                     0\n",
      "Telephone                            0\n",
      "Foreign Worker                       0\n",
      "dtype: int64\n",
      "0\n"
     ]
    }
   ],
   "source": [
    "# 6. 결측치 확인; df.isnull(); null인 데이터 false\n",
    "german.isnull() # 전체 데이터\n",
    "print(german.isnull().sum()) # 컬럼별로\n",
    "print(german.isnull().sum().sum()) # 전체 결측치"
   ]
  },
  {
   "cell_type": "code",
   "execution_count": 67,
   "id": "5f71e226",
   "metadata": {},
   "outputs": [
    {
     "data": {
      "text/html": [
       "<div>\n",
       "<style scoped>\n",
       "    .dataframe tbody tr th:only-of-type {\n",
       "        vertical-align: middle;\n",
       "    }\n",
       "\n",
       "    .dataframe tbody tr th {\n",
       "        vertical-align: top;\n",
       "    }\n",
       "\n",
       "    .dataframe thead th {\n",
       "        text-align: right;\n",
       "    }\n",
       "</style>\n",
       "<table border=\"1\" class=\"dataframe\">\n",
       "  <thead>\n",
       "    <tr style=\"text-align: right;\">\n",
       "      <th></th>\n",
       "      <th>Creditability</th>\n",
       "      <th>Account Balance</th>\n",
       "      <th>Duration of Credit (month)</th>\n",
       "      <th>Payment Status of Previous Credit</th>\n",
       "      <th>Purpose</th>\n",
       "      <th>Credit Amount</th>\n",
       "      <th>Value Savings/Stocks</th>\n",
       "      <th>Length of current employment</th>\n",
       "      <th>Instalment per cent</th>\n",
       "      <th>Sex &amp; Marital Status</th>\n",
       "      <th>...</th>\n",
       "      <th>Duration in Current address</th>\n",
       "      <th>Most valuable available asset</th>\n",
       "      <th>Age (years)</th>\n",
       "      <th>Concurrent Credits</th>\n",
       "      <th>Type of apartment</th>\n",
       "      <th>No of Credits at this Bank</th>\n",
       "      <th>Occupation</th>\n",
       "      <th>No of dependents</th>\n",
       "      <th>Telephone</th>\n",
       "      <th>Foreign Worker</th>\n",
       "    </tr>\n",
       "  </thead>\n",
       "  <tbody>\n",
       "    <tr>\n",
       "      <th>count</th>\n",
       "      <td>1000.000000</td>\n",
       "      <td>1000.000000</td>\n",
       "      <td>1000.000000</td>\n",
       "      <td>1000.00000</td>\n",
       "      <td>1000.000000</td>\n",
       "      <td>1000.00000</td>\n",
       "      <td>1000.000000</td>\n",
       "      <td>1000.000000</td>\n",
       "      <td>1000.000000</td>\n",
       "      <td>1000.00000</td>\n",
       "      <td>...</td>\n",
       "      <td>1000.000000</td>\n",
       "      <td>1000.000000</td>\n",
       "      <td>1000.00000</td>\n",
       "      <td>1000.000000</td>\n",
       "      <td>1000.000000</td>\n",
       "      <td>1000.000000</td>\n",
       "      <td>1000.000000</td>\n",
       "      <td>1000.000000</td>\n",
       "      <td>1000.000000</td>\n",
       "      <td>1000.000000</td>\n",
       "    </tr>\n",
       "    <tr>\n",
       "      <th>mean</th>\n",
       "      <td>0.700000</td>\n",
       "      <td>2.577000</td>\n",
       "      <td>20.903000</td>\n",
       "      <td>2.54500</td>\n",
       "      <td>2.828000</td>\n",
       "      <td>3271.24800</td>\n",
       "      <td>2.105000</td>\n",
       "      <td>3.384000</td>\n",
       "      <td>2.973000</td>\n",
       "      <td>2.68200</td>\n",
       "      <td>...</td>\n",
       "      <td>2.845000</td>\n",
       "      <td>2.358000</td>\n",
       "      <td>35.54200</td>\n",
       "      <td>2.675000</td>\n",
       "      <td>1.928000</td>\n",
       "      <td>1.407000</td>\n",
       "      <td>2.904000</td>\n",
       "      <td>1.155000</td>\n",
       "      <td>1.404000</td>\n",
       "      <td>1.037000</td>\n",
       "    </tr>\n",
       "    <tr>\n",
       "      <th>std</th>\n",
       "      <td>0.458487</td>\n",
       "      <td>1.257638</td>\n",
       "      <td>12.058814</td>\n",
       "      <td>1.08312</td>\n",
       "      <td>2.744439</td>\n",
       "      <td>2822.75176</td>\n",
       "      <td>1.580023</td>\n",
       "      <td>1.208306</td>\n",
       "      <td>1.118715</td>\n",
       "      <td>0.70808</td>\n",
       "      <td>...</td>\n",
       "      <td>1.103718</td>\n",
       "      <td>1.050209</td>\n",
       "      <td>11.35267</td>\n",
       "      <td>0.705601</td>\n",
       "      <td>0.530186</td>\n",
       "      <td>0.577654</td>\n",
       "      <td>0.653614</td>\n",
       "      <td>0.362086</td>\n",
       "      <td>0.490943</td>\n",
       "      <td>0.188856</td>\n",
       "    </tr>\n",
       "    <tr>\n",
       "      <th>min</th>\n",
       "      <td>0.000000</td>\n",
       "      <td>1.000000</td>\n",
       "      <td>4.000000</td>\n",
       "      <td>0.00000</td>\n",
       "      <td>0.000000</td>\n",
       "      <td>250.00000</td>\n",
       "      <td>1.000000</td>\n",
       "      <td>1.000000</td>\n",
       "      <td>1.000000</td>\n",
       "      <td>1.00000</td>\n",
       "      <td>...</td>\n",
       "      <td>1.000000</td>\n",
       "      <td>1.000000</td>\n",
       "      <td>19.00000</td>\n",
       "      <td>1.000000</td>\n",
       "      <td>1.000000</td>\n",
       "      <td>1.000000</td>\n",
       "      <td>1.000000</td>\n",
       "      <td>1.000000</td>\n",
       "      <td>1.000000</td>\n",
       "      <td>1.000000</td>\n",
       "    </tr>\n",
       "    <tr>\n",
       "      <th>25%</th>\n",
       "      <td>0.000000</td>\n",
       "      <td>1.000000</td>\n",
       "      <td>12.000000</td>\n",
       "      <td>2.00000</td>\n",
       "      <td>1.000000</td>\n",
       "      <td>1365.50000</td>\n",
       "      <td>1.000000</td>\n",
       "      <td>3.000000</td>\n",
       "      <td>2.000000</td>\n",
       "      <td>2.00000</td>\n",
       "      <td>...</td>\n",
       "      <td>2.000000</td>\n",
       "      <td>1.000000</td>\n",
       "      <td>27.00000</td>\n",
       "      <td>3.000000</td>\n",
       "      <td>2.000000</td>\n",
       "      <td>1.000000</td>\n",
       "      <td>3.000000</td>\n",
       "      <td>1.000000</td>\n",
       "      <td>1.000000</td>\n",
       "      <td>1.000000</td>\n",
       "    </tr>\n",
       "    <tr>\n",
       "      <th>50%</th>\n",
       "      <td>1.000000</td>\n",
       "      <td>2.000000</td>\n",
       "      <td>18.000000</td>\n",
       "      <td>2.00000</td>\n",
       "      <td>2.000000</td>\n",
       "      <td>2319.50000</td>\n",
       "      <td>1.000000</td>\n",
       "      <td>3.000000</td>\n",
       "      <td>3.000000</td>\n",
       "      <td>3.00000</td>\n",
       "      <td>...</td>\n",
       "      <td>3.000000</td>\n",
       "      <td>2.000000</td>\n",
       "      <td>33.00000</td>\n",
       "      <td>3.000000</td>\n",
       "      <td>2.000000</td>\n",
       "      <td>1.000000</td>\n",
       "      <td>3.000000</td>\n",
       "      <td>1.000000</td>\n",
       "      <td>1.000000</td>\n",
       "      <td>1.000000</td>\n",
       "    </tr>\n",
       "    <tr>\n",
       "      <th>75%</th>\n",
       "      <td>1.000000</td>\n",
       "      <td>4.000000</td>\n",
       "      <td>24.000000</td>\n",
       "      <td>4.00000</td>\n",
       "      <td>3.000000</td>\n",
       "      <td>3972.25000</td>\n",
       "      <td>3.000000</td>\n",
       "      <td>5.000000</td>\n",
       "      <td>4.000000</td>\n",
       "      <td>3.00000</td>\n",
       "      <td>...</td>\n",
       "      <td>4.000000</td>\n",
       "      <td>3.000000</td>\n",
       "      <td>42.00000</td>\n",
       "      <td>3.000000</td>\n",
       "      <td>2.000000</td>\n",
       "      <td>2.000000</td>\n",
       "      <td>3.000000</td>\n",
       "      <td>1.000000</td>\n",
       "      <td>2.000000</td>\n",
       "      <td>1.000000</td>\n",
       "    </tr>\n",
       "    <tr>\n",
       "      <th>max</th>\n",
       "      <td>1.000000</td>\n",
       "      <td>4.000000</td>\n",
       "      <td>72.000000</td>\n",
       "      <td>4.00000</td>\n",
       "      <td>10.000000</td>\n",
       "      <td>18424.00000</td>\n",
       "      <td>5.000000</td>\n",
       "      <td>5.000000</td>\n",
       "      <td>4.000000</td>\n",
       "      <td>4.00000</td>\n",
       "      <td>...</td>\n",
       "      <td>4.000000</td>\n",
       "      <td>4.000000</td>\n",
       "      <td>75.00000</td>\n",
       "      <td>3.000000</td>\n",
       "      <td>3.000000</td>\n",
       "      <td>4.000000</td>\n",
       "      <td>4.000000</td>\n",
       "      <td>2.000000</td>\n",
       "      <td>2.000000</td>\n",
       "      <td>2.000000</td>\n",
       "    </tr>\n",
       "  </tbody>\n",
       "</table>\n",
       "<p>8 rows × 21 columns</p>\n",
       "</div>"
      ],
      "text/plain": [
       "       Creditability  Account Balance  Duration of Credit (month)  \\\n",
       "count    1000.000000      1000.000000                 1000.000000   \n",
       "mean        0.700000         2.577000                   20.903000   \n",
       "std         0.458487         1.257638                   12.058814   \n",
       "min         0.000000         1.000000                    4.000000   \n",
       "25%         0.000000         1.000000                   12.000000   \n",
       "50%         1.000000         2.000000                   18.000000   \n",
       "75%         1.000000         4.000000                   24.000000   \n",
       "max         1.000000         4.000000                   72.000000   \n",
       "\n",
       "       Payment Status of Previous Credit      Purpose  Credit Amount  \\\n",
       "count                         1000.00000  1000.000000     1000.00000   \n",
       "mean                             2.54500     2.828000     3271.24800   \n",
       "std                              1.08312     2.744439     2822.75176   \n",
       "min                              0.00000     0.000000      250.00000   \n",
       "25%                              2.00000     1.000000     1365.50000   \n",
       "50%                              2.00000     2.000000     2319.50000   \n",
       "75%                              4.00000     3.000000     3972.25000   \n",
       "max                              4.00000    10.000000    18424.00000   \n",
       "\n",
       "       Value Savings/Stocks  Length of current employment  \\\n",
       "count           1000.000000                   1000.000000   \n",
       "mean               2.105000                      3.384000   \n",
       "std                1.580023                      1.208306   \n",
       "min                1.000000                      1.000000   \n",
       "25%                1.000000                      3.000000   \n",
       "50%                1.000000                      3.000000   \n",
       "75%                3.000000                      5.000000   \n",
       "max                5.000000                      5.000000   \n",
       "\n",
       "       Instalment per cent  Sex & Marital Status  ...  \\\n",
       "count          1000.000000            1000.00000  ...   \n",
       "mean              2.973000               2.68200  ...   \n",
       "std               1.118715               0.70808  ...   \n",
       "min               1.000000               1.00000  ...   \n",
       "25%               2.000000               2.00000  ...   \n",
       "50%               3.000000               3.00000  ...   \n",
       "75%               4.000000               3.00000  ...   \n",
       "max               4.000000               4.00000  ...   \n",
       "\n",
       "       Duration in Current address  Most valuable available asset  \\\n",
       "count                  1000.000000                    1000.000000   \n",
       "mean                      2.845000                       2.358000   \n",
       "std                       1.103718                       1.050209   \n",
       "min                       1.000000                       1.000000   \n",
       "25%                       2.000000                       1.000000   \n",
       "50%                       3.000000                       2.000000   \n",
       "75%                       4.000000                       3.000000   \n",
       "max                       4.000000                       4.000000   \n",
       "\n",
       "       Age (years)  Concurrent Credits  Type of apartment  \\\n",
       "count   1000.00000         1000.000000        1000.000000   \n",
       "mean      35.54200            2.675000           1.928000   \n",
       "std       11.35267            0.705601           0.530186   \n",
       "min       19.00000            1.000000           1.000000   \n",
       "25%       27.00000            3.000000           2.000000   \n",
       "50%       33.00000            3.000000           2.000000   \n",
       "75%       42.00000            3.000000           2.000000   \n",
       "max       75.00000            3.000000           3.000000   \n",
       "\n",
       "       No of Credits at this Bank   Occupation  No of dependents    Telephone  \\\n",
       "count                 1000.000000  1000.000000       1000.000000  1000.000000   \n",
       "mean                     1.407000     2.904000          1.155000     1.404000   \n",
       "std                      0.577654     0.653614          0.362086     0.490943   \n",
       "min                      1.000000     1.000000          1.000000     1.000000   \n",
       "25%                      1.000000     3.000000          1.000000     1.000000   \n",
       "50%                      1.000000     3.000000          1.000000     1.000000   \n",
       "75%                      2.000000     3.000000          1.000000     2.000000   \n",
       "max                      4.000000     4.000000          2.000000     2.000000   \n",
       "\n",
       "       Foreign Worker  \n",
       "count     1000.000000  \n",
       "mean         1.037000  \n",
       "std          0.188856  \n",
       "min          1.000000  \n",
       "25%          1.000000  \n",
       "50%          1.000000  \n",
       "75%          1.000000  \n",
       "max          2.000000  \n",
       "\n",
       "[8 rows x 21 columns]"
      ]
     },
     "execution_count": 67,
     "metadata": {},
     "output_type": "execute_result"
    }
   ],
   "source": [
    "# 7. 요약 통계량 확인; df.describe()\n",
    "german.describe()"
   ]
  },
  {
   "cell_type": "code",
   "execution_count": 68,
   "id": "7b3095ac",
   "metadata": {},
   "outputs": [
    {
     "data": {
      "text/plain": [
       "3     280\n",
       "0     234\n",
       "2     181\n",
       "1     103\n",
       "9      97\n",
       "6      50\n",
       "5      22\n",
       "4      12\n",
       "10     12\n",
       "8       9\n",
       "Name: Purpose, dtype: int64"
      ]
     },
     "execution_count": 68,
     "metadata": {},
     "output_type": "execute_result"
    }
   ],
   "source": [
    "# 8. 특정 컬럼(변수) 분석; df[cl]; 대소문자 구분; df[cl].value_counts()\n",
    "german['Purpose']\n",
    "german.Purpose\n",
    "\n",
    "# 각 요소마다 건수를 더해줌; 연속형 변수에서 의미가 없음\n",
    "german['Purpose'].value_counts()\n",
    "\n",
    "german['Purpose'].value_counts().sort_index() # 분포도, 히스토그램 활용시\n",
    "\n",
    "german['Purpose'].value_counts().sort_values(ascending = False)"
   ]
  },
  {
   "cell_type": "code",
   "execution_count": 69,
   "id": "aef2a8ee",
   "metadata": {},
   "outputs": [
    {
     "data": {
      "text/html": [
       "<div>\n",
       "<style scoped>\n",
       "    .dataframe tbody tr th:only-of-type {\n",
       "        vertical-align: middle;\n",
       "    }\n",
       "\n",
       "    .dataframe tbody tr th {\n",
       "        vertical-align: top;\n",
       "    }\n",
       "\n",
       "    .dataframe thead th {\n",
       "        text-align: right;\n",
       "    }\n",
       "</style>\n",
       "<table border=\"1\" class=\"dataframe\">\n",
       "  <thead>\n",
       "    <tr style=\"text-align: right;\">\n",
       "      <th></th>\n",
       "      <th>Creditability</th>\n",
       "      <th>Duration of Credit (month)</th>\n",
       "      <th>Purpose</th>\n",
       "      <th>Credit Amount</th>\n",
       "    </tr>\n",
       "  </thead>\n",
       "  <tbody>\n",
       "    <tr>\n",
       "      <th>0</th>\n",
       "      <td>1</td>\n",
       "      <td>18</td>\n",
       "      <td>2</td>\n",
       "      <td>1049</td>\n",
       "    </tr>\n",
       "    <tr>\n",
       "      <th>1</th>\n",
       "      <td>1</td>\n",
       "      <td>9</td>\n",
       "      <td>0</td>\n",
       "      <td>2799</td>\n",
       "    </tr>\n",
       "    <tr>\n",
       "      <th>2</th>\n",
       "      <td>1</td>\n",
       "      <td>12</td>\n",
       "      <td>9</td>\n",
       "      <td>841</td>\n",
       "    </tr>\n",
       "    <tr>\n",
       "      <th>3</th>\n",
       "      <td>1</td>\n",
       "      <td>12</td>\n",
       "      <td>0</td>\n",
       "      <td>2122</td>\n",
       "    </tr>\n",
       "    <tr>\n",
       "      <th>4</th>\n",
       "      <td>1</td>\n",
       "      <td>12</td>\n",
       "      <td>0</td>\n",
       "      <td>2171</td>\n",
       "    </tr>\n",
       "    <tr>\n",
       "      <th>...</th>\n",
       "      <td>...</td>\n",
       "      <td>...</td>\n",
       "      <td>...</td>\n",
       "      <td>...</td>\n",
       "    </tr>\n",
       "    <tr>\n",
       "      <th>995</th>\n",
       "      <td>0</td>\n",
       "      <td>24</td>\n",
       "      <td>3</td>\n",
       "      <td>1987</td>\n",
       "    </tr>\n",
       "    <tr>\n",
       "      <th>996</th>\n",
       "      <td>0</td>\n",
       "      <td>24</td>\n",
       "      <td>0</td>\n",
       "      <td>2303</td>\n",
       "    </tr>\n",
       "    <tr>\n",
       "      <th>997</th>\n",
       "      <td>0</td>\n",
       "      <td>21</td>\n",
       "      <td>0</td>\n",
       "      <td>12680</td>\n",
       "    </tr>\n",
       "    <tr>\n",
       "      <th>998</th>\n",
       "      <td>0</td>\n",
       "      <td>12</td>\n",
       "      <td>3</td>\n",
       "      <td>6468</td>\n",
       "    </tr>\n",
       "    <tr>\n",
       "      <th>999</th>\n",
       "      <td>0</td>\n",
       "      <td>30</td>\n",
       "      <td>2</td>\n",
       "      <td>6350</td>\n",
       "    </tr>\n",
       "  </tbody>\n",
       "</table>\n",
       "<p>1000 rows × 4 columns</p>\n",
       "</div>"
      ],
      "text/plain": [
       "     Creditability  Duration of Credit (month)  Purpose  Credit Amount\n",
       "0                1                          18        2           1049\n",
       "1                1                           9        0           2799\n",
       "2                1                          12        9            841\n",
       "3                1                          12        0           2122\n",
       "4                1                          12        0           2171\n",
       "..             ...                         ...      ...            ...\n",
       "995              0                          24        3           1987\n",
       "996              0                          24        0           2303\n",
       "997              0                          21        0          12680\n",
       "998              0                          12        3           6468\n",
       "999              0                          30        2           6350\n",
       "\n",
       "[1000 rows x 4 columns]"
      ]
     },
     "execution_count": 69,
     "metadata": {},
     "output_type": "execute_result"
    }
   ],
   "source": [
    "# 실습01 german_sample df 만들기\n",
    "# 4개 컬럼 추출해서 df 만들기; 'Creditability', 'Duration of Credit (month)','Purpose', 'Credit Amount'\n",
    "\n",
    "german4 = pd.DataFrame(german,\n",
    "                       columns = ['Creditability', 'Duration of Credit (month)',\n",
    "                                  'Purpose', 'Credit Amount'])\n",
    "german4\n",
    "# german_sample.min()"
   ]
  },
  {
   "cell_type": "code",
   "execution_count": 70,
   "id": "bbaba06d",
   "metadata": {},
   "outputs": [
    {
     "data": {
      "text/html": [
       "<div>\n",
       "<style scoped>\n",
       "    .dataframe tbody tr th:only-of-type {\n",
       "        vertical-align: middle;\n",
       "    }\n",
       "\n",
       "    .dataframe tbody tr th {\n",
       "        vertical-align: top;\n",
       "    }\n",
       "\n",
       "    .dataframe thead th {\n",
       "        text-align: right;\n",
       "    }\n",
       "</style>\n",
       "<table border=\"1\" class=\"dataframe\">\n",
       "  <thead>\n",
       "    <tr style=\"text-align: right;\">\n",
       "      <th></th>\n",
       "      <th>Creditability</th>\n",
       "      <th>Duration of Credit (month)</th>\n",
       "      <th>Purpose</th>\n",
       "      <th>Credit Amount</th>\n",
       "    </tr>\n",
       "  </thead>\n",
       "  <tbody>\n",
       "    <tr>\n",
       "      <th>0</th>\n",
       "      <td>1</td>\n",
       "      <td>18</td>\n",
       "      <td>2</td>\n",
       "      <td>1049</td>\n",
       "    </tr>\n",
       "    <tr>\n",
       "      <th>1</th>\n",
       "      <td>1</td>\n",
       "      <td>9</td>\n",
       "      <td>0</td>\n",
       "      <td>2799</td>\n",
       "    </tr>\n",
       "    <tr>\n",
       "      <th>2</th>\n",
       "      <td>1</td>\n",
       "      <td>12</td>\n",
       "      <td>9</td>\n",
       "      <td>841</td>\n",
       "    </tr>\n",
       "    <tr>\n",
       "      <th>3</th>\n",
       "      <td>1</td>\n",
       "      <td>12</td>\n",
       "      <td>0</td>\n",
       "      <td>2122</td>\n",
       "    </tr>\n",
       "    <tr>\n",
       "      <th>4</th>\n",
       "      <td>1</td>\n",
       "      <td>12</td>\n",
       "      <td>0</td>\n",
       "      <td>2171</td>\n",
       "    </tr>\n",
       "    <tr>\n",
       "      <th>...</th>\n",
       "      <td>...</td>\n",
       "      <td>...</td>\n",
       "      <td>...</td>\n",
       "      <td>...</td>\n",
       "    </tr>\n",
       "    <tr>\n",
       "      <th>995</th>\n",
       "      <td>0</td>\n",
       "      <td>24</td>\n",
       "      <td>3</td>\n",
       "      <td>1987</td>\n",
       "    </tr>\n",
       "    <tr>\n",
       "      <th>996</th>\n",
       "      <td>0</td>\n",
       "      <td>24</td>\n",
       "      <td>0</td>\n",
       "      <td>2303</td>\n",
       "    </tr>\n",
       "    <tr>\n",
       "      <th>997</th>\n",
       "      <td>0</td>\n",
       "      <td>21</td>\n",
       "      <td>0</td>\n",
       "      <td>12680</td>\n",
       "    </tr>\n",
       "    <tr>\n",
       "      <th>998</th>\n",
       "      <td>0</td>\n",
       "      <td>12</td>\n",
       "      <td>3</td>\n",
       "      <td>6468</td>\n",
       "    </tr>\n",
       "    <tr>\n",
       "      <th>999</th>\n",
       "      <td>0</td>\n",
       "      <td>30</td>\n",
       "      <td>2</td>\n",
       "      <td>6350</td>\n",
       "    </tr>\n",
       "  </tbody>\n",
       "</table>\n",
       "<p>1000 rows × 4 columns</p>\n",
       "</div>"
      ],
      "text/plain": [
       "     Creditability  Duration of Credit (month)  Purpose  Credit Amount\n",
       "0                1                          18        2           1049\n",
       "1                1                           9        0           2799\n",
       "2                1                          12        9            841\n",
       "3                1                          12        0           2122\n",
       "4                1                          12        0           2171\n",
       "..             ...                         ...      ...            ...\n",
       "995              0                          24        3           1987\n",
       "996              0                          24        0           2303\n",
       "997              0                          21        0          12680\n",
       "998              0                          12        3           6468\n",
       "999              0                          30        2           6350\n",
       "\n",
       "[1000 rows x 4 columns]"
      ]
     },
     "execution_count": 70,
     "metadata": {},
     "output_type": "execute_result"
    }
   ],
   "source": [
    "# 실습01 수업 답안\n",
    "\n",
    "# 하나일 때는 [], 두개 이상일 때는 리스트[ ]로 묶어줘야 함\n",
    "german_sample = german[['Creditability', 'Duration of Credit (month)',\n",
    "                        'Purpose', 'Credit Amount']]\n",
    "german_sample"
   ]
  },
  {
   "cell_type": "code",
   "execution_count": 71,
   "id": "0803b1a6",
   "metadata": {},
   "outputs": [
    {
     "data": {
      "text/plain": [
       "Creditability                     1\n",
       "Duration of Credit (month)       72\n",
       "Purpose                          10\n",
       "Credit Amount                 18424\n",
       "dtype: int64"
      ]
     },
     "execution_count": 71,
     "metadata": {},
     "output_type": "execute_result"
    }
   ],
   "source": [
    "# 최댓값\n",
    "german_sample.max()"
   ]
  },
  {
   "cell_type": "code",
   "execution_count": 72,
   "id": "fccc1448",
   "metadata": {},
   "outputs": [
    {
     "data": {
      "text/plain": [
       "Creditability                    0.700\n",
       "Duration of Credit (month)      20.903\n",
       "Purpose                          2.828\n",
       "Credit Amount                 3271.248\n",
       "dtype: float64"
      ]
     },
     "execution_count": 72,
     "metadata": {},
     "output_type": "execute_result"
    }
   ],
   "source": [
    "# 평균\n",
    "german_sample.mean()"
   ]
  },
  {
   "cell_type": "code",
   "execution_count": 73,
   "id": "f6218a6b",
   "metadata": {},
   "outputs": [
    {
     "data": {
      "text/html": [
       "<div>\n",
       "<style scoped>\n",
       "    .dataframe tbody tr th:only-of-type {\n",
       "        vertical-align: middle;\n",
       "    }\n",
       "\n",
       "    .dataframe tbody tr th {\n",
       "        vertical-align: top;\n",
       "    }\n",
       "\n",
       "    .dataframe thead th {\n",
       "        text-align: right;\n",
       "    }\n",
       "</style>\n",
       "<table border=\"1\" class=\"dataframe\">\n",
       "  <thead>\n",
       "    <tr style=\"text-align: right;\">\n",
       "      <th></th>\n",
       "      <th>Creditability</th>\n",
       "      <th>Duration of Credit (month)</th>\n",
       "      <th>Purpose</th>\n",
       "      <th>Credit Amount</th>\n",
       "    </tr>\n",
       "  </thead>\n",
       "  <tbody>\n",
       "    <tr>\n",
       "      <th>count</th>\n",
       "      <td>1000.000000</td>\n",
       "      <td>1000.000000</td>\n",
       "      <td>1000.000000</td>\n",
       "      <td>1000.00000</td>\n",
       "    </tr>\n",
       "    <tr>\n",
       "      <th>mean</th>\n",
       "      <td>0.700000</td>\n",
       "      <td>20.903000</td>\n",
       "      <td>2.828000</td>\n",
       "      <td>3271.24800</td>\n",
       "    </tr>\n",
       "    <tr>\n",
       "      <th>std</th>\n",
       "      <td>0.458487</td>\n",
       "      <td>12.058814</td>\n",
       "      <td>2.744439</td>\n",
       "      <td>2822.75176</td>\n",
       "    </tr>\n",
       "    <tr>\n",
       "      <th>min</th>\n",
       "      <td>0.000000</td>\n",
       "      <td>4.000000</td>\n",
       "      <td>0.000000</td>\n",
       "      <td>250.00000</td>\n",
       "    </tr>\n",
       "    <tr>\n",
       "      <th>25%</th>\n",
       "      <td>0.000000</td>\n",
       "      <td>12.000000</td>\n",
       "      <td>1.000000</td>\n",
       "      <td>1365.50000</td>\n",
       "    </tr>\n",
       "    <tr>\n",
       "      <th>50%</th>\n",
       "      <td>1.000000</td>\n",
       "      <td>18.000000</td>\n",
       "      <td>2.000000</td>\n",
       "      <td>2319.50000</td>\n",
       "    </tr>\n",
       "    <tr>\n",
       "      <th>75%</th>\n",
       "      <td>1.000000</td>\n",
       "      <td>24.000000</td>\n",
       "      <td>3.000000</td>\n",
       "      <td>3972.25000</td>\n",
       "    </tr>\n",
       "    <tr>\n",
       "      <th>max</th>\n",
       "      <td>1.000000</td>\n",
       "      <td>72.000000</td>\n",
       "      <td>10.000000</td>\n",
       "      <td>18424.00000</td>\n",
       "    </tr>\n",
       "  </tbody>\n",
       "</table>\n",
       "</div>"
      ],
      "text/plain": [
       "       Creditability  Duration of Credit (month)      Purpose  Credit Amount\n",
       "count    1000.000000                 1000.000000  1000.000000     1000.00000\n",
       "mean        0.700000                   20.903000     2.828000     3271.24800\n",
       "std         0.458487                   12.058814     2.744439     2822.75176\n",
       "min         0.000000                    4.000000     0.000000      250.00000\n",
       "25%         0.000000                   12.000000     1.000000     1365.50000\n",
       "50%         1.000000                   18.000000     2.000000     2319.50000\n",
       "75%         1.000000                   24.000000     3.000000     3972.25000\n",
       "max         1.000000                   72.000000    10.000000    18424.00000"
      ]
     },
     "execution_count": 73,
     "metadata": {},
     "output_type": "execute_result"
    }
   ],
   "source": [
    "german_sample.describe()"
   ]
  }
 ],
 "metadata": {
  "kernelspec": {
   "display_name": "Python 3",
   "language": "python",
   "name": "python3"
  },
  "language_info": {
   "codemirror_mode": {
    "name": "ipython",
    "version": 3
   },
   "file_extension": ".py",
   "mimetype": "text/x-python",
   "name": "python",
   "nbconvert_exporter": "python",
   "pygments_lexer": "ipython3",
   "version": "3.8.8"
  }
 },
 "nbformat": 4,
 "nbformat_minor": 5
}
