{
 "cells": [
  {
   "cell_type": "markdown",
   "id": "8ba89332",
   "metadata": {},
   "source": [
    "# 실습; 영화제목"
   ]
  },
  {
   "cell_type": "code",
   "execution_count": 1,
   "id": "18b3be76",
   "metadata": {},
   "outputs": [
    {
     "name": "stdout",
     "output_type": "stream",
     "text": [
      "np ver 1.20.1\n",
      "pd ver 1.2.4\n"
     ]
    }
   ],
   "source": [
    "# 실습01 영화 타이틀\n",
    "# 1. 영화 타이틀 데이터 셋 - movws_title.csv\n",
    "# 2. titles의 df 구성\n",
    "# 3. df 필수 명령 8개 실행\n",
    "# 4. 전체 영화는 몇 개인가?\n",
    "# 5. 가장 빠른 시기에 제작된 영화 2개\n",
    "# 6. 제목이 'Hamlet'인 영화는 몇 개인가?\n",
    "# 7. 제목이 'Treasure Island'는 몇 개인가? 제작년도 오름차순 나열\n",
    "# 8. 1950년에서 1959년 사이에 만들어진 영화는 몇 개인가?\n",
    "\n",
    "import numpy as np\n",
    "import pandas as pd\n",
    "print('np ver', np.__version__)\n",
    "print('pd ver', pd.__version__)\n",
    "\n",
    "mtcsv = pd.read_csv(\"C:/Users/toto/Google Drive/sync/python/db/movies_title.csv\")"
   ]
  },
  {
   "cell_type": "code",
   "execution_count": 2,
   "id": "f7652b18",
   "metadata": {},
   "outputs": [
    {
     "data": {
      "text/html": [
       "<div>\n",
       "<style scoped>\n",
       "    .dataframe tbody tr th:only-of-type {\n",
       "        vertical-align: middle;\n",
       "    }\n",
       "\n",
       "    .dataframe tbody tr th {\n",
       "        vertical-align: top;\n",
       "    }\n",
       "\n",
       "    .dataframe thead th {\n",
       "        text-align: right;\n",
       "    }\n",
       "</style>\n",
       "<table border=\"1\" class=\"dataframe\">\n",
       "  <thead>\n",
       "    <tr style=\"text-align: right;\">\n",
       "      <th></th>\n",
       "      <th>title</th>\n",
       "      <th>year</th>\n",
       "    </tr>\n",
       "  </thead>\n",
       "  <tbody>\n",
       "    <tr>\n",
       "      <th>0</th>\n",
       "      <td>The Rising Son</td>\n",
       "      <td>1990</td>\n",
       "    </tr>\n",
       "    <tr>\n",
       "      <th>1</th>\n",
       "      <td>Ashes of Kukulcan</td>\n",
       "      <td>2016</td>\n",
       "    </tr>\n",
       "    <tr>\n",
       "      <th>2</th>\n",
       "      <td>The Thousand Plane Raid</td>\n",
       "      <td>1969</td>\n",
       "    </tr>\n",
       "    <tr>\n",
       "      <th>3</th>\n",
       "      <td>Crucea de piatra</td>\n",
       "      <td>1993</td>\n",
       "    </tr>\n",
       "    <tr>\n",
       "      <th>4</th>\n",
       "      <td>The 86</td>\n",
       "      <td>2015</td>\n",
       "    </tr>\n",
       "    <tr>\n",
       "      <th>...</th>\n",
       "      <td>...</td>\n",
       "      <td>...</td>\n",
       "    </tr>\n",
       "    <tr>\n",
       "      <th>215976</th>\n",
       "      <td>Le mouton noir</td>\n",
       "      <td>1922</td>\n",
       "    </tr>\n",
       "    <tr>\n",
       "      <th>215977</th>\n",
       "      <td>Edge of the Unknown</td>\n",
       "      <td>2015</td>\n",
       "    </tr>\n",
       "    <tr>\n",
       "      <th>215978</th>\n",
       "      <td>E yue</td>\n",
       "      <td>2005</td>\n",
       "    </tr>\n",
       "    <tr>\n",
       "      <th>215979</th>\n",
       "      <td>Lakota Girls</td>\n",
       "      <td>2015</td>\n",
       "    </tr>\n",
       "    <tr>\n",
       "      <th>215980</th>\n",
       "      <td>The Sting II</td>\n",
       "      <td>1983</td>\n",
       "    </tr>\n",
       "  </tbody>\n",
       "</table>\n",
       "<p>215981 rows × 2 columns</p>\n",
       "</div>"
      ],
      "text/plain": [
       "                          title  year\n",
       "0                The Rising Son  1990\n",
       "1             Ashes of Kukulcan  2016\n",
       "2       The Thousand Plane Raid  1969\n",
       "3              Crucea de piatra  1993\n",
       "4                        The 86  2015\n",
       "...                         ...   ...\n",
       "215976           Le mouton noir  1922\n",
       "215977      Edge of the Unknown  2015\n",
       "215978                    E yue  2005\n",
       "215979             Lakota Girls  2015\n",
       "215980             The Sting II  1983\n",
       "\n",
       "[215981 rows x 2 columns]"
      ]
     },
     "execution_count": 2,
     "metadata": {},
     "output_type": "execute_result"
    }
   ],
   "source": [
    "# 2. titles df 구성\n",
    "mt = pd.DataFrame(mtcsv)\n",
    "mt"
   ]
  },
  {
   "cell_type": "code",
   "execution_count": 3,
   "id": "15a519e8",
   "metadata": {},
   "outputs": [
    {
     "name": "stdout",
     "output_type": "stream",
     "text": [
      "                     title  year\n",
      "0           The Rising Son  1990\n",
      "1        Ashes of Kukulcan  2016\n",
      "2  The Thousand Plane Raid  1969\n",
      "3         Crucea de piatra  1993\n",
      "4                   The 86  2015\n",
      "                      title  year\n",
      "215976       Le mouton noir  1922\n",
      "215977  Edge of the Unknown  2015\n",
      "215978                E yue  2005\n",
      "215979         Lakota Girls  2015\n",
      "215980         The Sting II  1983\n"
     ]
    }
   ],
   "source": [
    "# 3. 필수 명령 8개\n",
    "print(mt.head())\n",
    "print(mt.tail())"
   ]
  },
  {
   "cell_type": "code",
   "execution_count": 4,
   "id": "e6938983",
   "metadata": {},
   "outputs": [
    {
     "name": "stdout",
     "output_type": "stream",
     "text": [
      "(215981, 2)\n",
      "Index(['title', 'year'], dtype='object')\n",
      "<class 'pandas.core.frame.DataFrame'>\n",
      "RangeIndex: 215981 entries, 0 to 215980\n",
      "Data columns (total 2 columns):\n",
      " #   Column  Non-Null Count   Dtype \n",
      "---  ------  --------------   ----- \n",
      " 0   title   215981 non-null  object\n",
      " 1   year    215981 non-null  int64 \n",
      "dtypes: int64(1), object(1)\n",
      "memory usage: 3.3+ MB\n",
      "None\n"
     ]
    }
   ],
   "source": [
    "print(mt.shape)\n",
    "print(mt.columns)\n",
    "print(mt.info())"
   ]
  },
  {
   "cell_type": "code",
   "execution_count": 5,
   "id": "61b4bde0",
   "metadata": {},
   "outputs": [
    {
     "name": "stdout",
     "output_type": "stream",
     "text": [
      "title    0\n",
      "year     0\n",
      "dtype: int64\n",
      "                year\n",
      "count  215981.000000\n",
      "mean     1984.553822\n",
      "std        29.343957\n",
      "min      1894.000000\n",
      "25%      1965.000000\n",
      "50%      1994.000000\n",
      "75%      2010.000000\n",
      "max      2024.000000\n"
     ]
    }
   ],
   "source": [
    "print(mt.isnull().sum())\n",
    "print(mt.describe())"
   ]
  },
  {
   "cell_type": "code",
   "execution_count": 6,
   "id": "7f9c1c35",
   "metadata": {},
   "outputs": [
    {
     "name": "stdout",
     "output_type": "stream",
     "text": [
      "Hamlet                  19\n",
      "Macbeth                 14\n",
      "Carmen                  14\n",
      "The Three Musketeers    12\n",
      "She                     11\n",
      "                        ..\n",
      "Tokyo odori              1\n",
      "Jui kuen                 1\n",
      "Rushlights               1\n",
      "Puppet on a Chain        1\n",
      "Beautiful World...       1\n",
      "Name: title, Length: 197575, dtype: int64\n",
      "2015    13978\n",
      "2014     8209\n",
      "2013     7664\n",
      "2012     7273\n",
      "2011     6844\n",
      "        ...  \n",
      "1899        2\n",
      "2024        2\n",
      "1903        1\n",
      "1897        1\n",
      "1894        1\n",
      "Name: year, Length: 124, dtype: int64\n"
     ]
    }
   ],
   "source": [
    "print(mt['title'].value_counts())\n",
    "print(mt['year'].value_counts())"
   ]
  },
  {
   "cell_type": "code",
   "execution_count": 7,
   "id": "c27d6d17",
   "metadata": {},
   "outputs": [
    {
     "data": {
      "text/plain": [
       "215981"
      ]
     },
     "execution_count": 7,
     "metadata": {},
     "output_type": "execute_result"
    }
   ],
   "source": [
    "# 4. 전체 영화 개수; 215980\n",
    "mt['title'].value_counts().sum()"
   ]
  },
  {
   "cell_type": "code",
   "execution_count": 8,
   "id": "a6d4d269",
   "metadata": {},
   "outputs": [
    {
     "data": {
      "text/html": [
       "<div>\n",
       "<style scoped>\n",
       "    .dataframe tbody tr th:only-of-type {\n",
       "        vertical-align: middle;\n",
       "    }\n",
       "\n",
       "    .dataframe tbody tr th {\n",
       "        vertical-align: top;\n",
       "    }\n",
       "\n",
       "    .dataframe thead th {\n",
       "        text-align: right;\n",
       "    }\n",
       "</style>\n",
       "<table border=\"1\" class=\"dataframe\">\n",
       "  <thead>\n",
       "    <tr style=\"text-align: right;\">\n",
       "      <th></th>\n",
       "      <th>title</th>\n",
       "      <th>year</th>\n",
       "    </tr>\n",
       "  </thead>\n",
       "  <tbody>\n",
       "    <tr>\n",
       "      <th>165182</th>\n",
       "      <td>Miss Jerry</td>\n",
       "      <td>1894</td>\n",
       "    </tr>\n",
       "    <tr>\n",
       "      <th>85708</th>\n",
       "      <td>Reproduction of the Corbett and Fitzsimmons Fight</td>\n",
       "      <td>1897</td>\n",
       "    </tr>\n",
       "  </tbody>\n",
       "</table>\n",
       "</div>"
      ],
      "text/plain": [
       "                                                    title  year\n",
       "165182                                         Miss Jerry  1894\n",
       "85708   Reproduction of the Corbett and Fitzsimmons Fight  1897"
      ]
     },
     "execution_count": 8,
     "metadata": {},
     "output_type": "execute_result"
    }
   ],
   "source": [
    "# 5. 가장 빠른 시기에 제작된 영화 2개; 'Miss Jerry', 'Reproduction of the Corbett and Fitzsimmons Fight'\n",
    "mt.sort_values(by='year').head(2)"
   ]
  },
  {
   "cell_type": "code",
   "execution_count": 9,
   "id": "480fc932",
   "metadata": {},
   "outputs": [
    {
     "name": "stdout",
     "output_type": "stream",
     "text": [
      "19\n",
      "title    19\n",
      "year     19\n",
      "dtype: int64\n"
     ]
    },
    {
     "data": {
      "text/html": [
       "<div>\n",
       "<style scoped>\n",
       "    .dataframe tbody tr th:only-of-type {\n",
       "        vertical-align: middle;\n",
       "    }\n",
       "\n",
       "    .dataframe tbody tr th {\n",
       "        vertical-align: top;\n",
       "    }\n",
       "\n",
       "    .dataframe thead th {\n",
       "        text-align: right;\n",
       "    }\n",
       "</style>\n",
       "<table border=\"1\" class=\"dataframe\">\n",
       "  <thead>\n",
       "    <tr style=\"text-align: right;\">\n",
       "      <th></th>\n",
       "      <th>title</th>\n",
       "      <th>year</th>\n",
       "    </tr>\n",
       "  </thead>\n",
       "  <tbody>\n",
       "    <tr>\n",
       "      <th>5562</th>\n",
       "      <td>Hamlet</td>\n",
       "      <td>1948</td>\n",
       "    </tr>\n",
       "    <tr>\n",
       "      <th>26160</th>\n",
       "      <td>Hamlet</td>\n",
       "      <td>2016</td>\n",
       "    </tr>\n",
       "    <tr>\n",
       "      <th>37373</th>\n",
       "      <td>Hamlet</td>\n",
       "      <td>2015</td>\n",
       "    </tr>\n",
       "    <tr>\n",
       "      <th>42224</th>\n",
       "      <td>Hamlet</td>\n",
       "      <td>1990</td>\n",
       "    </tr>\n",
       "    <tr>\n",
       "      <th>43511</th>\n",
       "      <td>Hamlet</td>\n",
       "      <td>1910</td>\n",
       "    </tr>\n",
       "    <tr>\n",
       "      <th>68239</th>\n",
       "      <td>Hamlet</td>\n",
       "      <td>1954</td>\n",
       "    </tr>\n",
       "    <tr>\n",
       "      <th>85741</th>\n",
       "      <td>Hamlet</td>\n",
       "      <td>1976</td>\n",
       "    </tr>\n",
       "    <tr>\n",
       "      <th>87781</th>\n",
       "      <td>Hamlet</td>\n",
       "      <td>1987</td>\n",
       "    </tr>\n",
       "    <tr>\n",
       "      <th>87971</th>\n",
       "      <td>Hamlet</td>\n",
       "      <td>2000</td>\n",
       "    </tr>\n",
       "    <tr>\n",
       "      <th>91710</th>\n",
       "      <td>Hamlet</td>\n",
       "      <td>1921</td>\n",
       "    </tr>\n",
       "    <tr>\n",
       "      <th>114224</th>\n",
       "      <td>Hamlet</td>\n",
       "      <td>1969</td>\n",
       "    </tr>\n",
       "    <tr>\n",
       "      <th>154627</th>\n",
       "      <td>Hamlet</td>\n",
       "      <td>1913</td>\n",
       "    </tr>\n",
       "    <tr>\n",
       "      <th>163645</th>\n",
       "      <td>Hamlet</td>\n",
       "      <td>2009</td>\n",
       "    </tr>\n",
       "    <tr>\n",
       "      <th>169996</th>\n",
       "      <td>Hamlet</td>\n",
       "      <td>1964</td>\n",
       "    </tr>\n",
       "    <tr>\n",
       "      <th>186988</th>\n",
       "      <td>Hamlet</td>\n",
       "      <td>1996</td>\n",
       "    </tr>\n",
       "    <tr>\n",
       "      <th>192815</th>\n",
       "      <td>Hamlet</td>\n",
       "      <td>2011</td>\n",
       "    </tr>\n",
       "    <tr>\n",
       "      <th>195015</th>\n",
       "      <td>Hamlet</td>\n",
       "      <td>1911</td>\n",
       "    </tr>\n",
       "    <tr>\n",
       "      <th>205821</th>\n",
       "      <td>Hamlet</td>\n",
       "      <td>1973</td>\n",
       "    </tr>\n",
       "    <tr>\n",
       "      <th>207793</th>\n",
       "      <td>Hamlet</td>\n",
       "      <td>2014</td>\n",
       "    </tr>\n",
       "  </tbody>\n",
       "</table>\n",
       "</div>"
      ],
      "text/plain": [
       "         title  year\n",
       "5562    Hamlet  1948\n",
       "26160   Hamlet  2016\n",
       "37373   Hamlet  2015\n",
       "42224   Hamlet  1990\n",
       "43511   Hamlet  1910\n",
       "68239   Hamlet  1954\n",
       "85741   Hamlet  1976\n",
       "87781   Hamlet  1987\n",
       "87971   Hamlet  2000\n",
       "91710   Hamlet  1921\n",
       "114224  Hamlet  1969\n",
       "154627  Hamlet  1913\n",
       "163645  Hamlet  2009\n",
       "169996  Hamlet  1964\n",
       "186988  Hamlet  1996\n",
       "192815  Hamlet  2011\n",
       "195015  Hamlet  1911\n",
       "205821  Hamlet  1973\n",
       "207793  Hamlet  2014"
      ]
     },
     "execution_count": 9,
     "metadata": {},
     "output_type": "execute_result"
    }
   ],
   "source": [
    "# 6. 제목이 'Hamlet'인 영화는 몇 개인가? 19개\n",
    "print(list(mt['title']).count('Hamlet'))\n",
    "print(mt[mt['title'] =='Hamlet'].count())\n",
    "mt[mt['title'] =='Hamlet']"
   ]
  },
  {
   "cell_type": "code",
   "execution_count": 10,
   "id": "bc4201f3",
   "metadata": {},
   "outputs": [
    {
     "name": "stdout",
     "output_type": "stream",
     "text": [
      "8\n"
     ]
    },
    {
     "data": {
      "text/html": [
       "<div>\n",
       "<style scoped>\n",
       "    .dataframe tbody tr th:only-of-type {\n",
       "        vertical-align: middle;\n",
       "    }\n",
       "\n",
       "    .dataframe tbody tr th {\n",
       "        vertical-align: top;\n",
       "    }\n",
       "\n",
       "    .dataframe thead th {\n",
       "        text-align: right;\n",
       "    }\n",
       "</style>\n",
       "<table border=\"1\" class=\"dataframe\">\n",
       "  <thead>\n",
       "    <tr style=\"text-align: right;\">\n",
       "      <th></th>\n",
       "      <th>title</th>\n",
       "      <th>year</th>\n",
       "    </tr>\n",
       "  </thead>\n",
       "  <tbody>\n",
       "    <tr>\n",
       "      <th>191379</th>\n",
       "      <td>Treasure Island</td>\n",
       "      <td>1918</td>\n",
       "    </tr>\n",
       "    <tr>\n",
       "      <th>47769</th>\n",
       "      <td>Treasure Island</td>\n",
       "      <td>1920</td>\n",
       "    </tr>\n",
       "    <tr>\n",
       "      <th>192917</th>\n",
       "      <td>Treasure Island</td>\n",
       "      <td>1934</td>\n",
       "    </tr>\n",
       "    <tr>\n",
       "      <th>90175</th>\n",
       "      <td>Treasure Island</td>\n",
       "      <td>1950</td>\n",
       "    </tr>\n",
       "    <tr>\n",
       "      <th>104714</th>\n",
       "      <td>Treasure Island</td>\n",
       "      <td>1972</td>\n",
       "    </tr>\n",
       "    <tr>\n",
       "      <th>103646</th>\n",
       "      <td>Treasure Island</td>\n",
       "      <td>1973</td>\n",
       "    </tr>\n",
       "    <tr>\n",
       "      <th>190792</th>\n",
       "      <td>Treasure Island</td>\n",
       "      <td>1985</td>\n",
       "    </tr>\n",
       "    <tr>\n",
       "      <th>166675</th>\n",
       "      <td>Treasure Island</td>\n",
       "      <td>1999</td>\n",
       "    </tr>\n",
       "  </tbody>\n",
       "</table>\n",
       "</div>"
      ],
      "text/plain": [
       "                  title  year\n",
       "191379  Treasure Island  1918\n",
       "47769   Treasure Island  1920\n",
       "192917  Treasure Island  1934\n",
       "90175   Treasure Island  1950\n",
       "104714  Treasure Island  1972\n",
       "103646  Treasure Island  1973\n",
       "190792  Treasure Island  1985\n",
       "166675  Treasure Island  1999"
      ]
     },
     "execution_count": 10,
     "metadata": {},
     "output_type": "execute_result"
    }
   ],
   "source": [
    "# 7. 제목이 'Treasure Island'는 몇 개인가? 제작년도 오름차순 나열;\n",
    "print(list(mt['title']).count('Treasure Island'))\n",
    "\n",
    "ti = mt[mt['title'] =='Treasure Island']\n",
    "ti.sort_values(by='year')"
   ]
  },
  {
   "cell_type": "code",
   "execution_count": 11,
   "id": "56d3e1bb",
   "metadata": {},
   "outputs": [
    {
     "name": "stdout",
     "output_type": "stream",
     "text": [
      "12120\n"
     ]
    }
   ],
   "source": [
    "# 8. 1950년에서 1959년 사이에 만들어진 영화는 몇 개인가?\n",
    "\n",
    "cnt = 0\n",
    "\n",
    "for i in range(1950, 1960):\n",
    "    cnt += sum(mt['year'] == i)\n",
    "print(cnt)"
   ]
  },
  {
   "cell_type": "code",
   "execution_count": 12,
   "id": "93de4be7",
   "metadata": {},
   "outputs": [
    {
     "data": {
      "text/html": [
       "<div>\n",
       "<style scoped>\n",
       "    .dataframe tbody tr th:only-of-type {\n",
       "        vertical-align: middle;\n",
       "    }\n",
       "\n",
       "    .dataframe tbody tr th {\n",
       "        vertical-align: top;\n",
       "    }\n",
       "\n",
       "    .dataframe thead th {\n",
       "        text-align: right;\n",
       "    }\n",
       "</style>\n",
       "<table border=\"1\" class=\"dataframe\">\n",
       "  <thead>\n",
       "    <tr style=\"text-align: right;\">\n",
       "      <th></th>\n",
       "      <th>title</th>\n",
       "      <th>year</th>\n",
       "    </tr>\n",
       "  </thead>\n",
       "  <tbody>\n",
       "    <tr>\n",
       "      <th>9</th>\n",
       "      <td>Women's Prison</td>\n",
       "      <td>1955</td>\n",
       "    </tr>\n",
       "    <tr>\n",
       "      <th>37</th>\n",
       "      <td>La momia azteca contra el robot humano</td>\n",
       "      <td>1958</td>\n",
       "    </tr>\n",
       "    <tr>\n",
       "      <th>86</th>\n",
       "      <td>Botta e risposta</td>\n",
       "      <td>1950</td>\n",
       "    </tr>\n",
       "    <tr>\n",
       "      <th>88</th>\n",
       "      <td>Perdeu-se um Marido</td>\n",
       "      <td>1957</td>\n",
       "    </tr>\n",
       "    <tr>\n",
       "      <th>106</th>\n",
       "      <td>Qiu yu can hua</td>\n",
       "      <td>1953</td>\n",
       "    </tr>\n",
       "    <tr>\n",
       "      <th>...</th>\n",
       "      <td>...</td>\n",
       "      <td>...</td>\n",
       "    </tr>\n",
       "    <tr>\n",
       "      <th>215856</th>\n",
       "      <td>Tischlein, deck dich</td>\n",
       "      <td>1956</td>\n",
       "    </tr>\n",
       "    <tr>\n",
       "      <th>215890</th>\n",
       "      <td>Some Like It Hot</td>\n",
       "      <td>1959</td>\n",
       "    </tr>\n",
       "    <tr>\n",
       "      <th>215915</th>\n",
       "      <td>Black Widow</td>\n",
       "      <td>1951</td>\n",
       "    </tr>\n",
       "    <tr>\n",
       "      <th>215919</th>\n",
       "      <td>Encrucijada</td>\n",
       "      <td>1956</td>\n",
       "    </tr>\n",
       "    <tr>\n",
       "      <th>215945</th>\n",
       "      <td>Te sigo esperando</td>\n",
       "      <td>1952</td>\n",
       "    </tr>\n",
       "  </tbody>\n",
       "</table>\n",
       "<p>12120 rows × 2 columns</p>\n",
       "</div>"
      ],
      "text/plain": [
       "                                         title  year\n",
       "9                               Women's Prison  1955\n",
       "37      La momia azteca contra el robot humano  1958\n",
       "86                            Botta e risposta  1950\n",
       "88                         Perdeu-se um Marido  1957\n",
       "106                             Qiu yu can hua  1953\n",
       "...                                        ...   ...\n",
       "215856                    Tischlein, deck dich  1956\n",
       "215890                        Some Like It Hot  1959\n",
       "215915                             Black Widow  1951\n",
       "215919                             Encrucijada  1956\n",
       "215945                       Te sigo esperando  1952\n",
       "\n",
       "[12120 rows x 2 columns]"
      ]
     },
     "execution_count": 12,
     "metadata": {},
     "output_type": "execute_result"
    }
   ],
   "source": [
    "mt1950 = mt['year'] >= 1950\n",
    "mt1959 = mt['year'] <= 1959\n",
    "mt[mt1950 & mt1959]\n",
    "\n",
    "# is_moive1 = movies_title_sample['year'] >=1950\n",
    "# is_movie2 = movies_title_sample['year'] < 1960\n",
    "# subset_df = movies_title_sample[is_moive1 & is_movie2 ]\n",
    "# subset_df\n",
    "\n",
    "# mt1950 & mt1959"
   ]
  },
  {
   "cell_type": "markdown",
   "id": "0d60cd13",
   "metadata": {},
   "source": [
    "# 실습; 영화제목 수업"
   ]
  },
  {
   "cell_type": "code",
   "execution_count": 13,
   "id": "07d65380",
   "metadata": {},
   "outputs": [],
   "source": [
    "# 실습01 영화 타이틀: 수업\n",
    "# 1. 영화 타이틀 데이터 셋 - movws_title.csv\n",
    "# 2. titles의 df 구성\n",
    "# 3. df 필수 명령 8개 실행\n",
    "# 4. 전체 영화는 몇 개인가?\n",
    "# 5. 가장 빠른 시기에 제작된 영화 2개\n",
    "# 6. 제목이 'Hamlet'인 영화는 몇 개인가?\n",
    "# 7. 제목이 'Treasure Island'는 몇 개인가? 제작년도 오름차순 나열\n",
    "# 8. 1950년에서 1959년 사이에 만들어진 영화는 몇 개인가?"
   ]
  },
  {
   "cell_type": "code",
   "execution_count": 14,
   "id": "9653e885",
   "metadata": {},
   "outputs": [
    {
     "name": "stdout",
     "output_type": "stream",
     "text": [
      "np ver 1.20.1\n",
      "pd ver 1.2.4\n"
     ]
    },
    {
     "data": {
      "text/html": [
       "<div>\n",
       "<style scoped>\n",
       "    .dataframe tbody tr th:only-of-type {\n",
       "        vertical-align: middle;\n",
       "    }\n",
       "\n",
       "    .dataframe tbody tr th {\n",
       "        vertical-align: top;\n",
       "    }\n",
       "\n",
       "    .dataframe thead th {\n",
       "        text-align: right;\n",
       "    }\n",
       "</style>\n",
       "<table border=\"1\" class=\"dataframe\">\n",
       "  <thead>\n",
       "    <tr style=\"text-align: right;\">\n",
       "      <th></th>\n",
       "      <th>title</th>\n",
       "      <th>year</th>\n",
       "    </tr>\n",
       "  </thead>\n",
       "  <tbody>\n",
       "    <tr>\n",
       "      <th>0</th>\n",
       "      <td>The Rising Son</td>\n",
       "      <td>1990</td>\n",
       "    </tr>\n",
       "    <tr>\n",
       "      <th>1</th>\n",
       "      <td>Ashes of Kukulcan</td>\n",
       "      <td>2016</td>\n",
       "    </tr>\n",
       "    <tr>\n",
       "      <th>2</th>\n",
       "      <td>The Thousand Plane Raid</td>\n",
       "      <td>1969</td>\n",
       "    </tr>\n",
       "    <tr>\n",
       "      <th>3</th>\n",
       "      <td>Crucea de piatra</td>\n",
       "      <td>1993</td>\n",
       "    </tr>\n",
       "    <tr>\n",
       "      <th>4</th>\n",
       "      <td>The 86</td>\n",
       "      <td>2015</td>\n",
       "    </tr>\n",
       "  </tbody>\n",
       "</table>\n",
       "</div>"
      ],
      "text/plain": [
       "                     title  year\n",
       "0           The Rising Son  1990\n",
       "1        Ashes of Kukulcan  2016\n",
       "2  The Thousand Plane Raid  1969\n",
       "3         Crucea de piatra  1993\n",
       "4                   The 86  2015"
      ]
     },
     "execution_count": 14,
     "metadata": {},
     "output_type": "execute_result"
    }
   ],
   "source": [
    "import numpy as np\n",
    "import pandas as pd\n",
    "print('np ver', np.__version__)\n",
    "print('pd ver', pd.__version__)\n",
    "\n",
    "titles = pd.read_csv(\"C:/Users/toto/Google Drive/sync/python/db/movies_title.csv\")\n",
    "titles.head()"
   ]
  },
  {
   "cell_type": "code",
   "execution_count": 15,
   "id": "f59ddbf7",
   "metadata": {},
   "outputs": [
    {
     "data": {
      "text/html": [
       "<div>\n",
       "<style scoped>\n",
       "    .dataframe tbody tr th:only-of-type {\n",
       "        vertical-align: middle;\n",
       "    }\n",
       "\n",
       "    .dataframe tbody tr th {\n",
       "        vertical-align: top;\n",
       "    }\n",
       "\n",
       "    .dataframe thead th {\n",
       "        text-align: right;\n",
       "    }\n",
       "</style>\n",
       "<table border=\"1\" class=\"dataframe\">\n",
       "  <thead>\n",
       "    <tr style=\"text-align: right;\">\n",
       "      <th></th>\n",
       "      <th>title</th>\n",
       "      <th>year</th>\n",
       "    </tr>\n",
       "  </thead>\n",
       "  <tbody>\n",
       "    <tr>\n",
       "      <th>215976</th>\n",
       "      <td>Le mouton noir</td>\n",
       "      <td>1922</td>\n",
       "    </tr>\n",
       "    <tr>\n",
       "      <th>215977</th>\n",
       "      <td>Edge of the Unknown</td>\n",
       "      <td>2015</td>\n",
       "    </tr>\n",
       "    <tr>\n",
       "      <th>215978</th>\n",
       "      <td>E yue</td>\n",
       "      <td>2005</td>\n",
       "    </tr>\n",
       "    <tr>\n",
       "      <th>215979</th>\n",
       "      <td>Lakota Girls</td>\n",
       "      <td>2015</td>\n",
       "    </tr>\n",
       "    <tr>\n",
       "      <th>215980</th>\n",
       "      <td>The Sting II</td>\n",
       "      <td>1983</td>\n",
       "    </tr>\n",
       "  </tbody>\n",
       "</table>\n",
       "</div>"
      ],
      "text/plain": [
       "                      title  year\n",
       "215976       Le mouton noir  1922\n",
       "215977  Edge of the Unknown  2015\n",
       "215978                E yue  2005\n",
       "215979         Lakota Girls  2015\n",
       "215980         The Sting II  1983"
      ]
     },
     "execution_count": 15,
     "metadata": {},
     "output_type": "execute_result"
    }
   ],
   "source": [
    "titles.tail()"
   ]
  },
  {
   "cell_type": "code",
   "execution_count": 16,
   "id": "1b12d4be",
   "metadata": {},
   "outputs": [
    {
     "data": {
      "text/plain": [
       "(215981, 2)"
      ]
     },
     "execution_count": 16,
     "metadata": {},
     "output_type": "execute_result"
    }
   ],
   "source": [
    "titles.shape"
   ]
  },
  {
   "cell_type": "code",
   "execution_count": 17,
   "id": "8d4108b4",
   "metadata": {},
   "outputs": [
    {
     "data": {
      "text/plain": [
       "Index(['title', 'year'], dtype='object')"
      ]
     },
     "execution_count": 17,
     "metadata": {},
     "output_type": "execute_result"
    }
   ],
   "source": [
    "titles.columns"
   ]
  },
  {
   "cell_type": "code",
   "execution_count": 18,
   "id": "449ec6b4",
   "metadata": {},
   "outputs": [
    {
     "name": "stdout",
     "output_type": "stream",
     "text": [
      "<class 'pandas.core.frame.DataFrame'>\n",
      "RangeIndex: 215981 entries, 0 to 215980\n",
      "Data columns (total 2 columns):\n",
      " #   Column  Non-Null Count   Dtype \n",
      "---  ------  --------------   ----- \n",
      " 0   title   215981 non-null  object\n",
      " 1   year    215981 non-null  int64 \n",
      "dtypes: int64(1), object(1)\n",
      "memory usage: 3.3+ MB\n"
     ]
    }
   ],
   "source": [
    "titles.info()"
   ]
  },
  {
   "cell_type": "code",
   "execution_count": 19,
   "id": "9619fa3a",
   "metadata": {},
   "outputs": [
    {
     "data": {
      "text/html": [
       "<div>\n",
       "<style scoped>\n",
       "    .dataframe tbody tr th:only-of-type {\n",
       "        vertical-align: middle;\n",
       "    }\n",
       "\n",
       "    .dataframe tbody tr th {\n",
       "        vertical-align: top;\n",
       "    }\n",
       "\n",
       "    .dataframe thead th {\n",
       "        text-align: right;\n",
       "    }\n",
       "</style>\n",
       "<table border=\"1\" class=\"dataframe\">\n",
       "  <thead>\n",
       "    <tr style=\"text-align: right;\">\n",
       "      <th></th>\n",
       "      <th>year</th>\n",
       "    </tr>\n",
       "  </thead>\n",
       "  <tbody>\n",
       "    <tr>\n",
       "      <th>count</th>\n",
       "      <td>215981.000000</td>\n",
       "    </tr>\n",
       "    <tr>\n",
       "      <th>mean</th>\n",
       "      <td>1984.553822</td>\n",
       "    </tr>\n",
       "    <tr>\n",
       "      <th>std</th>\n",
       "      <td>29.343957</td>\n",
       "    </tr>\n",
       "    <tr>\n",
       "      <th>min</th>\n",
       "      <td>1894.000000</td>\n",
       "    </tr>\n",
       "    <tr>\n",
       "      <th>25%</th>\n",
       "      <td>1965.000000</td>\n",
       "    </tr>\n",
       "    <tr>\n",
       "      <th>50%</th>\n",
       "      <td>1994.000000</td>\n",
       "    </tr>\n",
       "    <tr>\n",
       "      <th>75%</th>\n",
       "      <td>2010.000000</td>\n",
       "    </tr>\n",
       "    <tr>\n",
       "      <th>max</th>\n",
       "      <td>2024.000000</td>\n",
       "    </tr>\n",
       "  </tbody>\n",
       "</table>\n",
       "</div>"
      ],
      "text/plain": [
       "                year\n",
       "count  215981.000000\n",
       "mean     1984.553822\n",
       "std        29.343957\n",
       "min      1894.000000\n",
       "25%      1965.000000\n",
       "50%      1994.000000\n",
       "75%      2010.000000\n",
       "max      2024.000000"
      ]
     },
     "execution_count": 19,
     "metadata": {},
     "output_type": "execute_result"
    }
   ],
   "source": [
    "titles.describe()"
   ]
  },
  {
   "cell_type": "code",
   "execution_count": 20,
   "id": "a1f2a547",
   "metadata": {},
   "outputs": [
    {
     "data": {
      "text/plain": [
       "title    0\n",
       "year     0\n",
       "dtype: int64"
      ]
     },
     "execution_count": 20,
     "metadata": {},
     "output_type": "execute_result"
    }
   ],
   "source": [
    "titles.isnull().sum()"
   ]
  },
  {
   "cell_type": "code",
   "execution_count": 21,
   "id": "8a6e70d2",
   "metadata": {},
   "outputs": [
    {
     "data": {
      "text/plain": [
       "215981"
      ]
     },
     "execution_count": 21,
     "metadata": {},
     "output_type": "execute_result"
    }
   ],
   "source": [
    "# 1. 전체 영화 갯수\n",
    "len(titles)"
   ]
  },
  {
   "cell_type": "code",
   "execution_count": 22,
   "id": "c59da0e0",
   "metadata": {},
   "outputs": [
    {
     "data": {
      "text/plain": [
       "215981"
      ]
     },
     "execution_count": 22,
     "metadata": {},
     "output_type": "execute_result"
    }
   ],
   "source": [
    "titles.shape[0] # 행 갯수, 1은 열"
   ]
  },
  {
   "cell_type": "code",
   "execution_count": 23,
   "id": "b810f025",
   "metadata": {},
   "outputs": [
    {
     "data": {
      "text/html": [
       "<div>\n",
       "<style scoped>\n",
       "    .dataframe tbody tr th:only-of-type {\n",
       "        vertical-align: middle;\n",
       "    }\n",
       "\n",
       "    .dataframe tbody tr th {\n",
       "        vertical-align: top;\n",
       "    }\n",
       "\n",
       "    .dataframe thead th {\n",
       "        text-align: right;\n",
       "    }\n",
       "</style>\n",
       "<table border=\"1\" class=\"dataframe\">\n",
       "  <thead>\n",
       "    <tr style=\"text-align: right;\">\n",
       "      <th></th>\n",
       "      <th>title</th>\n",
       "      <th>year</th>\n",
       "    </tr>\n",
       "  </thead>\n",
       "  <tbody>\n",
       "    <tr>\n",
       "      <th>165182</th>\n",
       "      <td>Miss Jerry</td>\n",
       "      <td>1894</td>\n",
       "    </tr>\n",
       "    <tr>\n",
       "      <th>85708</th>\n",
       "      <td>Reproduction of the Corbett and Fitzsimmons Fight</td>\n",
       "      <td>1897</td>\n",
       "    </tr>\n",
       "  </tbody>\n",
       "</table>\n",
       "</div>"
      ],
      "text/plain": [
       "                                                    title  year\n",
       "165182                                         Miss Jerry  1894\n",
       "85708   Reproduction of the Corbett and Fitzsimmons Fight  1897"
      ]
     },
     "execution_count": 23,
     "metadata": {},
     "output_type": "execute_result"
    }
   ],
   "source": [
    "# 2. 가장 빠른 시기 영화\n",
    "titles['year'].sort_values() # srs 형식\n",
    "\n",
    "titles.sort_values(by='year').head(2)\n",
    "# df에 직접 sort\n",
    "# ascending=True(기본값)"
   ]
  },
  {
   "cell_type": "code",
   "execution_count": 24,
   "id": "854ba498",
   "metadata": {},
   "outputs": [
    {
     "data": {
      "text/plain": [
       "0         False\n",
       "1         False\n",
       "2         False\n",
       "3         False\n",
       "4         False\n",
       "          ...  \n",
       "215976    False\n",
       "215977    False\n",
       "215978    False\n",
       "215979    False\n",
       "215980    False\n",
       "Name: title, Length: 215981, dtype: bool"
      ]
     },
     "execution_count": 24,
     "metadata": {},
     "output_type": "execute_result"
    }
   ],
   "source": [
    "# 영화 제목이 'Hamlet'\n",
    "titles['title'] == 'Hamlet'"
   ]
  },
  {
   "cell_type": "code",
   "execution_count": 25,
   "id": "765d7a10",
   "metadata": {},
   "outputs": [
    {
     "data": {
      "text/html": [
       "<div>\n",
       "<style scoped>\n",
       "    .dataframe tbody tr th:only-of-type {\n",
       "        vertical-align: middle;\n",
       "    }\n",
       "\n",
       "    .dataframe tbody tr th {\n",
       "        vertical-align: top;\n",
       "    }\n",
       "\n",
       "    .dataframe thead th {\n",
       "        text-align: right;\n",
       "    }\n",
       "</style>\n",
       "<table border=\"1\" class=\"dataframe\">\n",
       "  <thead>\n",
       "    <tr style=\"text-align: right;\">\n",
       "      <th></th>\n",
       "      <th>title</th>\n",
       "      <th>year</th>\n",
       "    </tr>\n",
       "  </thead>\n",
       "  <tbody>\n",
       "    <tr>\n",
       "      <th>5562</th>\n",
       "      <td>Hamlet</td>\n",
       "      <td>1948</td>\n",
       "    </tr>\n",
       "    <tr>\n",
       "      <th>26160</th>\n",
       "      <td>Hamlet</td>\n",
       "      <td>2016</td>\n",
       "    </tr>\n",
       "    <tr>\n",
       "      <th>37373</th>\n",
       "      <td>Hamlet</td>\n",
       "      <td>2015</td>\n",
       "    </tr>\n",
       "    <tr>\n",
       "      <th>42224</th>\n",
       "      <td>Hamlet</td>\n",
       "      <td>1990</td>\n",
       "    </tr>\n",
       "    <tr>\n",
       "      <th>43511</th>\n",
       "      <td>Hamlet</td>\n",
       "      <td>1910</td>\n",
       "    </tr>\n",
       "    <tr>\n",
       "      <th>68239</th>\n",
       "      <td>Hamlet</td>\n",
       "      <td>1954</td>\n",
       "    </tr>\n",
       "    <tr>\n",
       "      <th>85741</th>\n",
       "      <td>Hamlet</td>\n",
       "      <td>1976</td>\n",
       "    </tr>\n",
       "    <tr>\n",
       "      <th>87781</th>\n",
       "      <td>Hamlet</td>\n",
       "      <td>1987</td>\n",
       "    </tr>\n",
       "    <tr>\n",
       "      <th>87971</th>\n",
       "      <td>Hamlet</td>\n",
       "      <td>2000</td>\n",
       "    </tr>\n",
       "    <tr>\n",
       "      <th>91710</th>\n",
       "      <td>Hamlet</td>\n",
       "      <td>1921</td>\n",
       "    </tr>\n",
       "    <tr>\n",
       "      <th>114224</th>\n",
       "      <td>Hamlet</td>\n",
       "      <td>1969</td>\n",
       "    </tr>\n",
       "    <tr>\n",
       "      <th>154627</th>\n",
       "      <td>Hamlet</td>\n",
       "      <td>1913</td>\n",
       "    </tr>\n",
       "    <tr>\n",
       "      <th>163645</th>\n",
       "      <td>Hamlet</td>\n",
       "      <td>2009</td>\n",
       "    </tr>\n",
       "    <tr>\n",
       "      <th>169996</th>\n",
       "      <td>Hamlet</td>\n",
       "      <td>1964</td>\n",
       "    </tr>\n",
       "    <tr>\n",
       "      <th>186988</th>\n",
       "      <td>Hamlet</td>\n",
       "      <td>1996</td>\n",
       "    </tr>\n",
       "    <tr>\n",
       "      <th>192815</th>\n",
       "      <td>Hamlet</td>\n",
       "      <td>2011</td>\n",
       "    </tr>\n",
       "    <tr>\n",
       "      <th>195015</th>\n",
       "      <td>Hamlet</td>\n",
       "      <td>1911</td>\n",
       "    </tr>\n",
       "    <tr>\n",
       "      <th>205821</th>\n",
       "      <td>Hamlet</td>\n",
       "      <td>1973</td>\n",
       "    </tr>\n",
       "    <tr>\n",
       "      <th>207793</th>\n",
       "      <td>Hamlet</td>\n",
       "      <td>2014</td>\n",
       "    </tr>\n",
       "  </tbody>\n",
       "</table>\n",
       "</div>"
      ],
      "text/plain": [
       "         title  year\n",
       "5562    Hamlet  1948\n",
       "26160   Hamlet  2016\n",
       "37373   Hamlet  2015\n",
       "42224   Hamlet  1990\n",
       "43511   Hamlet  1910\n",
       "68239   Hamlet  1954\n",
       "85741   Hamlet  1976\n",
       "87781   Hamlet  1987\n",
       "87971   Hamlet  2000\n",
       "91710   Hamlet  1921\n",
       "114224  Hamlet  1969\n",
       "154627  Hamlet  1913\n",
       "163645  Hamlet  2009\n",
       "169996  Hamlet  1964\n",
       "186988  Hamlet  1996\n",
       "192815  Hamlet  2011\n",
       "195015  Hamlet  1911\n",
       "205821  Hamlet  1973\n",
       "207793  Hamlet  2014"
      ]
     },
     "execution_count": 25,
     "metadata": {},
     "output_type": "execute_result"
    }
   ],
   "source": [
    "titles[titles['title'] == 'Hamlet']"
   ]
  },
  {
   "cell_type": "code",
   "execution_count": 26,
   "id": "a1a0e11e",
   "metadata": {},
   "outputs": [
    {
     "data": {
      "text/plain": [
       "19"
      ]
     },
     "execution_count": 26,
     "metadata": {},
     "output_type": "execute_result"
    }
   ],
   "source": [
    "titles[titles['title'] == 'Hamlet'].shape[0]"
   ]
  },
  {
   "cell_type": "code",
   "execution_count": 27,
   "id": "11861a3b",
   "metadata": {},
   "outputs": [
    {
     "data": {
      "text/plain": [
       "19"
      ]
     },
     "execution_count": 27,
     "metadata": {},
     "output_type": "execute_result"
    }
   ],
   "source": [
    "len(titles[titles['title'] == 'Hamlet'])"
   ]
  },
  {
   "cell_type": "code",
   "execution_count": 28,
   "id": "46dc9a0f",
   "metadata": {},
   "outputs": [
    {
     "data": {
      "text/plain": [
       "0         False\n",
       "1         False\n",
       "2         False\n",
       "3         False\n",
       "4         False\n",
       "          ...  \n",
       "215976    False\n",
       "215977    False\n",
       "215978    False\n",
       "215979    False\n",
       "215980    False\n",
       "Name: title, Length: 215981, dtype: bool"
      ]
     },
     "execution_count": 28,
     "metadata": {},
     "output_type": "execute_result"
    }
   ],
   "source": [
    "# 제목 'Treasure Island' 연도 오름차순\n",
    "titles['title'] == 'Treasure Island'"
   ]
  },
  {
   "cell_type": "code",
   "execution_count": 29,
   "id": "5f45a177",
   "metadata": {},
   "outputs": [
    {
     "data": {
      "text/html": [
       "<div>\n",
       "<style scoped>\n",
       "    .dataframe tbody tr th:only-of-type {\n",
       "        vertical-align: middle;\n",
       "    }\n",
       "\n",
       "    .dataframe tbody tr th {\n",
       "        vertical-align: top;\n",
       "    }\n",
       "\n",
       "    .dataframe thead th {\n",
       "        text-align: right;\n",
       "    }\n",
       "</style>\n",
       "<table border=\"1\" class=\"dataframe\">\n",
       "  <thead>\n",
       "    <tr style=\"text-align: right;\">\n",
       "      <th></th>\n",
       "      <th>title</th>\n",
       "      <th>year</th>\n",
       "    </tr>\n",
       "  </thead>\n",
       "  <tbody>\n",
       "    <tr>\n",
       "      <th>191379</th>\n",
       "      <td>Treasure Island</td>\n",
       "      <td>1918</td>\n",
       "    </tr>\n",
       "    <tr>\n",
       "      <th>47769</th>\n",
       "      <td>Treasure Island</td>\n",
       "      <td>1920</td>\n",
       "    </tr>\n",
       "    <tr>\n",
       "      <th>192917</th>\n",
       "      <td>Treasure Island</td>\n",
       "      <td>1934</td>\n",
       "    </tr>\n",
       "    <tr>\n",
       "      <th>90175</th>\n",
       "      <td>Treasure Island</td>\n",
       "      <td>1950</td>\n",
       "    </tr>\n",
       "    <tr>\n",
       "      <th>104714</th>\n",
       "      <td>Treasure Island</td>\n",
       "      <td>1972</td>\n",
       "    </tr>\n",
       "    <tr>\n",
       "      <th>103646</th>\n",
       "      <td>Treasure Island</td>\n",
       "      <td>1973</td>\n",
       "    </tr>\n",
       "    <tr>\n",
       "      <th>190792</th>\n",
       "      <td>Treasure Island</td>\n",
       "      <td>1985</td>\n",
       "    </tr>\n",
       "    <tr>\n",
       "      <th>166675</th>\n",
       "      <td>Treasure Island</td>\n",
       "      <td>1999</td>\n",
       "    </tr>\n",
       "  </tbody>\n",
       "</table>\n",
       "</div>"
      ],
      "text/plain": [
       "                  title  year\n",
       "191379  Treasure Island  1918\n",
       "47769   Treasure Island  1920\n",
       "192917  Treasure Island  1934\n",
       "90175   Treasure Island  1950\n",
       "104714  Treasure Island  1972\n",
       "103646  Treasure Island  1973\n",
       "190792  Treasure Island  1985\n",
       "166675  Treasure Island  1999"
      ]
     },
     "execution_count": 29,
     "metadata": {},
     "output_type": "execute_result"
    }
   ],
   "source": [
    "titles[titles['title'] == 'Treasure Island'].sort_values('year')"
   ]
  },
  {
   "cell_type": "code",
   "execution_count": 30,
   "id": "aeeb884a",
   "metadata": {},
   "outputs": [
    {
     "data": {
      "text/plain": [
       "191379    1918\n",
       "47769     1920\n",
       "192917    1934\n",
       "90175     1950\n",
       "104714    1972\n",
       "103646    1973\n",
       "190792    1985\n",
       "166675    1999\n",
       "Name: year, dtype: int64"
      ]
     },
     "execution_count": 30,
     "metadata": {},
     "output_type": "execute_result"
    }
   ],
   "source": [
    "titles[titles['title'] == 'Treasure Island']['year'].sort_values()"
   ]
  },
  {
   "cell_type": "code",
   "execution_count": 31,
   "id": "6f1a39dd",
   "metadata": {},
   "outputs": [
    {
     "data": {
      "text/plain": [
       "0         False\n",
       "1         False\n",
       "2         False\n",
       "3         False\n",
       "4         False\n",
       "          ...  \n",
       "215976    False\n",
       "215977    False\n",
       "215978    False\n",
       "215979    False\n",
       "215980    False\n",
       "Name: year, Length: 215981, dtype: bool"
      ]
     },
     "execution_count": 31,
     "metadata": {},
     "output_type": "execute_result"
    }
   ],
   "source": [
    "# 1950 ~ 1959 사이의 영화\n",
    "\n",
    "(titles['year'] >= 1950) & (titles['year'] <= 1959)"
   ]
  },
  {
   "cell_type": "code",
   "execution_count": 32,
   "id": "b926e8f2",
   "metadata": {},
   "outputs": [
    {
     "data": {
      "text/html": [
       "<div>\n",
       "<style scoped>\n",
       "    .dataframe tbody tr th:only-of-type {\n",
       "        vertical-align: middle;\n",
       "    }\n",
       "\n",
       "    .dataframe tbody tr th {\n",
       "        vertical-align: top;\n",
       "    }\n",
       "\n",
       "    .dataframe thead th {\n",
       "        text-align: right;\n",
       "    }\n",
       "</style>\n",
       "<table border=\"1\" class=\"dataframe\">\n",
       "  <thead>\n",
       "    <tr style=\"text-align: right;\">\n",
       "      <th></th>\n",
       "      <th>title</th>\n",
       "      <th>year</th>\n",
       "    </tr>\n",
       "  </thead>\n",
       "  <tbody>\n",
       "    <tr>\n",
       "      <th>9</th>\n",
       "      <td>Women's Prison</td>\n",
       "      <td>1955</td>\n",
       "    </tr>\n",
       "    <tr>\n",
       "      <th>37</th>\n",
       "      <td>La momia azteca contra el robot humano</td>\n",
       "      <td>1958</td>\n",
       "    </tr>\n",
       "    <tr>\n",
       "      <th>86</th>\n",
       "      <td>Botta e risposta</td>\n",
       "      <td>1950</td>\n",
       "    </tr>\n",
       "    <tr>\n",
       "      <th>88</th>\n",
       "      <td>Perdeu-se um Marido</td>\n",
       "      <td>1957</td>\n",
       "    </tr>\n",
       "    <tr>\n",
       "      <th>106</th>\n",
       "      <td>Qiu yu can hua</td>\n",
       "      <td>1953</td>\n",
       "    </tr>\n",
       "    <tr>\n",
       "      <th>...</th>\n",
       "      <td>...</td>\n",
       "      <td>...</td>\n",
       "    </tr>\n",
       "    <tr>\n",
       "      <th>215856</th>\n",
       "      <td>Tischlein, deck dich</td>\n",
       "      <td>1956</td>\n",
       "    </tr>\n",
       "    <tr>\n",
       "      <th>215890</th>\n",
       "      <td>Some Like It Hot</td>\n",
       "      <td>1959</td>\n",
       "    </tr>\n",
       "    <tr>\n",
       "      <th>215915</th>\n",
       "      <td>Black Widow</td>\n",
       "      <td>1951</td>\n",
       "    </tr>\n",
       "    <tr>\n",
       "      <th>215919</th>\n",
       "      <td>Encrucijada</td>\n",
       "      <td>1956</td>\n",
       "    </tr>\n",
       "    <tr>\n",
       "      <th>215945</th>\n",
       "      <td>Te sigo esperando</td>\n",
       "      <td>1952</td>\n",
       "    </tr>\n",
       "  </tbody>\n",
       "</table>\n",
       "<p>12120 rows × 2 columns</p>\n",
       "</div>"
      ],
      "text/plain": [
       "                                         title  year\n",
       "9                               Women's Prison  1955\n",
       "37      La momia azteca contra el robot humano  1958\n",
       "86                            Botta e risposta  1950\n",
       "88                         Perdeu-se um Marido  1957\n",
       "106                             Qiu yu can hua  1953\n",
       "...                                        ...   ...\n",
       "215856                    Tischlein, deck dich  1956\n",
       "215890                        Some Like It Hot  1959\n",
       "215915                             Black Widow  1951\n",
       "215919                             Encrucijada  1956\n",
       "215945                       Te sigo esperando  1952\n",
       "\n",
       "[12120 rows x 2 columns]"
      ]
     },
     "execution_count": 32,
     "metadata": {},
     "output_type": "execute_result"
    }
   ],
   "source": [
    "titles[(titles['year'] >= 1950) & (titles['year'] <= 1959)]"
   ]
  },
  {
   "cell_type": "code",
   "execution_count": 33,
   "id": "47f9ed2b",
   "metadata": {},
   "outputs": [
    {
     "data": {
      "text/plain": [
       "12120"
      ]
     },
     "execution_count": 33,
     "metadata": {},
     "output_type": "execute_result"
    }
   ],
   "source": [
    "len(titles[(titles['year'] >= 1950) & (titles['year'] <= 1959)])"
   ]
  },
  {
   "cell_type": "code",
   "execution_count": 34,
   "id": "8511590d",
   "metadata": {},
   "outputs": [
    {
     "data": {
      "text/plain": [
       "title    12120\n",
       "year     12120\n",
       "dtype: int64"
      ]
     },
     "execution_count": 34,
     "metadata": {},
     "output_type": "execute_result"
    }
   ],
   "source": [
    "titles[(titles['year'] >= 1950) & (titles['year'] <= 1959)].count()"
   ]
  },
  {
   "cell_type": "code",
   "execution_count": 35,
   "id": "d7e24e5c",
   "metadata": {},
   "outputs": [
    {
     "data": {
      "text/plain": [
       "12120"
      ]
     },
     "execution_count": 35,
     "metadata": {},
     "output_type": "execute_result"
    }
   ],
   "source": [
    "titles[(titles['year'] >= 1950) & (titles['year'] <= 1959)].shape[0]"
   ]
  },
  {
   "cell_type": "markdown",
   "id": "1f570683",
   "metadata": {},
   "source": [
    "# pd 실습"
   ]
  },
  {
   "cell_type": "code",
   "execution_count": 36,
   "id": "d4c8a4a7",
   "metadata": {},
   "outputs": [
    {
     "data": {
      "text/html": [
       "<div>\n",
       "<style scoped>\n",
       "    .dataframe tbody tr th:only-of-type {\n",
       "        vertical-align: middle;\n",
       "    }\n",
       "\n",
       "    .dataframe tbody tr th {\n",
       "        vertical-align: top;\n",
       "    }\n",
       "\n",
       "    .dataframe thead th {\n",
       "        text-align: right;\n",
       "    }\n",
       "</style>\n",
       "<table border=\"1\" class=\"dataframe\">\n",
       "  <thead>\n",
       "    <tr style=\"text-align: right;\">\n",
       "      <th></th>\n",
       "      <th>country</th>\n",
       "      <th>capital</th>\n",
       "      <th>population</th>\n",
       "    </tr>\n",
       "  </thead>\n",
       "  <tbody>\n",
       "    <tr>\n",
       "      <th>0</th>\n",
       "      <td>벨기에</td>\n",
       "      <td>브뤼셀</td>\n",
       "      <td>1천만명</td>\n",
       "    </tr>\n",
       "    <tr>\n",
       "      <th>1</th>\n",
       "      <td>인도</td>\n",
       "      <td>뉴델리</td>\n",
       "      <td>13억명</td>\n",
       "    </tr>\n",
       "    <tr>\n",
       "      <th>2</th>\n",
       "      <td>브라질</td>\n",
       "      <td>브라질리아</td>\n",
       "      <td>2억명</td>\n",
       "    </tr>\n",
       "  </tbody>\n",
       "</table>\n",
       "</div>"
      ],
      "text/plain": [
       "  country capital population\n",
       "0     벨기에     브뤼셀       1천만명\n",
       "1      인도     뉴델리       13억명\n",
       "2     브라질   브라질리아        2억명"
      ]
     },
     "execution_count": 36,
     "metadata": {},
     "output_type": "execute_result"
    }
   ],
   "source": [
    "# 실습01; 특정 위치의 데이터 추출\n",
    "\n",
    "import pandas as pd\n",
    "\n",
    "df = pd.DataFrame({'country':['벨기에', '인도', '브라질'],\n",
    "                   'capital':['브뤼셀', '뉴델리', '브라질리아'],\n",
    "                   'population':['1천만명', '13억명', '2억명']\n",
    "                  }\n",
    "                 )\n",
    "df\n",
    "\n",
    "# csv 파일을 만들어서 읽어올 수도 있음"
   ]
  },
  {
   "cell_type": "code",
   "execution_count": 37,
   "id": "25fff385",
   "metadata": {},
   "outputs": [
    {
     "data": {
      "text/plain": [
       "'13억명'"
      ]
     },
     "execution_count": 37,
     "metadata": {},
     "output_type": "execute_result"
    }
   ],
   "source": [
    "# 슬라이싱해서 '13억명'  출력; label, position\n",
    "\n",
    "df.iloc[1, 2] # 위치 인덱스"
   ]
  },
  {
   "cell_type": "code",
   "execution_count": 38,
   "id": "58ad60c2",
   "metadata": {},
   "outputs": [
    {
     "data": {
      "text/plain": [
       "'13억명'"
      ]
     },
     "execution_count": 38,
     "metadata": {},
     "output_type": "execute_result"
    }
   ],
   "source": [
    "df.loc[1, 'population'] # row/컬럼으로 찾음"
   ]
  },
  {
   "cell_type": "code",
   "execution_count": 39,
   "id": "8908e721",
   "metadata": {},
   "outputs": [
    {
     "name": "stdout",
     "output_type": "stream",
     "text": [
      "country\n",
      "capital\n",
      "population\n"
     ]
    }
   ],
   "source": [
    "for row in df: # 컬럼명만 출력\n",
    "    print(row)"
   ]
  },
  {
   "cell_type": "code",
   "execution_count": 40,
   "id": "2d090e2e",
   "metadata": {},
   "outputs": [
    {
     "name": "stdout",
     "output_type": "stream",
     "text": [
      "벨기에\n",
      "브뤼셀\n",
      "1천만명\n",
      "--------------\n",
      "인도\n",
      "뉴델리\n",
      "13억명\n",
      "--------------\n",
      "브라질\n",
      "브라질리아\n",
      "2억명\n",
      "--------------\n"
     ]
    }
   ],
   "source": [
    "for row in range(0, len(df)): # row로 접근(인덱스민)\n",
    "    print(df.iloc[row, 0])\n",
    "    print(df.iloc[row, 1])\n",
    "    print(df.iloc[row, 2])\n",
    "    print('--------------')"
   ]
  },
  {
   "cell_type": "code",
   "execution_count": 41,
   "id": "04b2f7d5",
   "metadata": {},
   "outputs": [
    {
     "data": {
      "text/html": [
       "<div>\n",
       "<style scoped>\n",
       "    .dataframe tbody tr th:only-of-type {\n",
       "        vertical-align: middle;\n",
       "    }\n",
       "\n",
       "    .dataframe tbody tr th {\n",
       "        vertical-align: top;\n",
       "    }\n",
       "\n",
       "    .dataframe thead th {\n",
       "        text-align: right;\n",
       "    }\n",
       "</style>\n",
       "<table border=\"1\" class=\"dataframe\">\n",
       "  <thead>\n",
       "    <tr style=\"text-align: right;\">\n",
       "      <th></th>\n",
       "      <th>country</th>\n",
       "      <th>capital</th>\n",
       "      <th>population</th>\n",
       "    </tr>\n",
       "  </thead>\n",
       "  <tbody>\n",
       "    <tr>\n",
       "      <th>0</th>\n",
       "      <td>벨기에</td>\n",
       "      <td>브뤼셀</td>\n",
       "      <td>1천만명</td>\n",
       "    </tr>\n",
       "    <tr>\n",
       "      <th>1</th>\n",
       "      <td>인도</td>\n",
       "      <td>뉴델리</td>\n",
       "      <td>14억명</td>\n",
       "    </tr>\n",
       "    <tr>\n",
       "      <th>2</th>\n",
       "      <td>브라질</td>\n",
       "      <td>브라질리아</td>\n",
       "      <td>2억명</td>\n",
       "    </tr>\n",
       "  </tbody>\n",
       "</table>\n",
       "</div>"
      ],
      "text/plain": [
       "  country capital population\n",
       "0     벨기에     브뤼셀       1천만명\n",
       "1      인도     뉴델리       14억명\n",
       "2     브라질   브라질리아        2억명"
      ]
     },
     "execution_count": 41,
     "metadata": {},
     "output_type": "execute_result"
    }
   ],
   "source": [
    "df.iloc[1, 2] = '14억명' # 값 수정\n",
    "df"
   ]
  },
  {
   "cell_type": "code",
   "execution_count": 42,
   "id": "6e02adea",
   "metadata": {},
   "outputs": [
    {
     "data": {
      "text/plain": [
       "0    1천만명\n",
       "1    14억명\n",
       "2     2억명\n",
       "Name: population, dtype: object"
      ]
     },
     "execution_count": 42,
     "metadata": {},
     "output_type": "execute_result"
    }
   ],
   "source": [
    "df['population'] # 특정 열만 조회"
   ]
  },
  {
   "cell_type": "code",
   "execution_count": 43,
   "id": "b814b41c",
   "metadata": {},
   "outputs": [
    {
     "data": {
      "text/html": [
       "<div>\n",
       "<style scoped>\n",
       "    .dataframe tbody tr th:only-of-type {\n",
       "        vertical-align: middle;\n",
       "    }\n",
       "\n",
       "    .dataframe tbody tr th {\n",
       "        vertical-align: top;\n",
       "    }\n",
       "\n",
       "    .dataframe thead th {\n",
       "        text-align: right;\n",
       "    }\n",
       "</style>\n",
       "<table border=\"1\" class=\"dataframe\">\n",
       "  <thead>\n",
       "    <tr style=\"text-align: right;\">\n",
       "      <th></th>\n",
       "      <th>국어</th>\n",
       "      <th>영어</th>\n",
       "      <th>수학</th>\n",
       "    </tr>\n",
       "  </thead>\n",
       "  <tbody>\n",
       "    <tr>\n",
       "      <th>0</th>\n",
       "      <td>76</td>\n",
       "      <td>65</td>\n",
       "      <td>80</td>\n",
       "    </tr>\n",
       "    <tr>\n",
       "      <th>1</th>\n",
       "      <td>90</td>\n",
       "      <td>75</td>\n",
       "      <td>98</td>\n",
       "    </tr>\n",
       "    <tr>\n",
       "      <th>2</th>\n",
       "      <td>64</td>\n",
       "      <td>70</td>\n",
       "      <td>62</td>\n",
       "    </tr>\n",
       "    <tr>\n",
       "      <th>3</th>\n",
       "      <td>70</td>\n",
       "      <td>82</td>\n",
       "      <td>84</td>\n",
       "    </tr>\n",
       "    <tr>\n",
       "      <th>4</th>\n",
       "      <td>98</td>\n",
       "      <td>93</td>\n",
       "      <td>85</td>\n",
       "    </tr>\n",
       "  </tbody>\n",
       "</table>\n",
       "</div>"
      ],
      "text/plain": [
       "   국어  영어  수학\n",
       "0  76  65  80\n",
       "1  90  75  98\n",
       "2  64  70  62\n",
       "3  70  82  84\n",
       "4  98  93  85"
      ]
     },
     "execution_count": 43,
     "metadata": {},
     "output_type": "execute_result"
    }
   ],
   "source": [
    "scores = pd.DataFrame({'국어':[76, 90, 64, 70, 98],\n",
    "                        '영어':[65, 75, 70, 82, 93],\n",
    "                        '수학':[80, 98, 62, 84, 85]\n",
    "                       }\n",
    "                      )\n",
    "scores"
   ]
  },
  {
   "cell_type": "code",
   "execution_count": 44,
   "id": "dd093b53",
   "metadata": {},
   "outputs": [
    {
     "data": {
      "text/html": [
       "<div>\n",
       "<style scoped>\n",
       "    .dataframe tbody tr th:only-of-type {\n",
       "        vertical-align: middle;\n",
       "    }\n",
       "\n",
       "    .dataframe tbody tr th {\n",
       "        vertical-align: top;\n",
       "    }\n",
       "\n",
       "    .dataframe thead th {\n",
       "        text-align: right;\n",
       "    }\n",
       "</style>\n",
       "<table border=\"1\" class=\"dataframe\">\n",
       "  <thead>\n",
       "    <tr style=\"text-align: right;\">\n",
       "      <th></th>\n",
       "      <th>국어</th>\n",
       "      <th>영어</th>\n",
       "      <th>수학</th>\n",
       "      <th>총점</th>\n",
       "      <th>평균</th>\n",
       "      <th>등급</th>\n",
       "    </tr>\n",
       "  </thead>\n",
       "  <tbody>\n",
       "    <tr>\n",
       "      <th>0</th>\n",
       "      <td>76</td>\n",
       "      <td>65</td>\n",
       "      <td>80</td>\n",
       "      <td>221</td>\n",
       "      <td>73.67</td>\n",
       "      <td>C등급</td>\n",
       "    </tr>\n",
       "    <tr>\n",
       "      <th>1</th>\n",
       "      <td>90</td>\n",
       "      <td>75</td>\n",
       "      <td>98</td>\n",
       "      <td>263</td>\n",
       "      <td>87.67</td>\n",
       "      <td>A등급</td>\n",
       "    </tr>\n",
       "    <tr>\n",
       "      <th>2</th>\n",
       "      <td>64</td>\n",
       "      <td>70</td>\n",
       "      <td>62</td>\n",
       "      <td>196</td>\n",
       "      <td>65.33</td>\n",
       "      <td>C등급</td>\n",
       "    </tr>\n",
       "    <tr>\n",
       "      <th>3</th>\n",
       "      <td>70</td>\n",
       "      <td>82</td>\n",
       "      <td>84</td>\n",
       "      <td>236</td>\n",
       "      <td>78.67</td>\n",
       "      <td>C등급</td>\n",
       "    </tr>\n",
       "    <tr>\n",
       "      <th>4</th>\n",
       "      <td>98</td>\n",
       "      <td>93</td>\n",
       "      <td>85</td>\n",
       "      <td>276</td>\n",
       "      <td>92.00</td>\n",
       "      <td>S등급</td>\n",
       "    </tr>\n",
       "  </tbody>\n",
       "</table>\n",
       "</div>"
      ],
      "text/plain": [
       "   국어  영어  수학   총점     평균   등급\n",
       "0  76  65  80  221  73.67  C등급\n",
       "1  90  75  98  263  87.67  A등급\n",
       "2  64  70  62  196  65.33  C등급\n",
       "3  70  82  84  236  78.67  C등급\n",
       "4  98  93  85  276  92.00  S등급"
      ]
     },
     "execution_count": 44,
     "metadata": {},
     "output_type": "execute_result"
    }
   ],
   "source": [
    "# 실습02; df에 '총점', '평균', '등급' 컬럼 추가\n",
    "\n",
    "scores_result = scores.copy()\n",
    "total_l = []\n",
    "avg_l = []\n",
    "grade_l = []\n",
    "\n",
    "for j in range(0, len(scores)):\n",
    "    \n",
    "    total = 0\n",
    "    for i in range(0, len(scores.columns)):\n",
    "        total += scores.iloc[j, i]\n",
    "        \n",
    "    avg = round(total / len(scores.columns), 2)\n",
    "    \n",
    "    if total / len(scores.columns) >= 90:\n",
    "        grade = 'S등급'\n",
    "    elif total /len(scores.columns) >= 80:\n",
    "        grade = 'A등급'\n",
    "    elif total / len(scores.columns) >= 80:\n",
    "        grade = 'B등급'\n",
    "    else:\n",
    "        grade = 'C등급'\n",
    "        \n",
    "    total_l.append(total)\n",
    "    avg_l.append(avg)\n",
    "    grade_l.append(grade)\n",
    "\n",
    "\n",
    "scores_result['총점'] = total_l\n",
    "scores_result['평균'] = avg_l\n",
    "scores_result['등급'] = grade_l\n",
    "scores_result"
   ]
  },
  {
   "cell_type": "code",
   "execution_count": 45,
   "id": "009ebe3f",
   "metadata": {},
   "outputs": [
    {
     "data": {
      "text/html": [
       "<div>\n",
       "<style scoped>\n",
       "    .dataframe tbody tr th:only-of-type {\n",
       "        vertical-align: middle;\n",
       "    }\n",
       "\n",
       "    .dataframe tbody tr th {\n",
       "        vertical-align: top;\n",
       "    }\n",
       "\n",
       "    .dataframe thead th {\n",
       "        text-align: right;\n",
       "    }\n",
       "</style>\n",
       "<table border=\"1\" class=\"dataframe\">\n",
       "  <thead>\n",
       "    <tr style=\"text-align: right;\">\n",
       "      <th></th>\n",
       "      <th>국어</th>\n",
       "      <th>영어</th>\n",
       "      <th>수학</th>\n",
       "    </tr>\n",
       "  </thead>\n",
       "  <tbody>\n",
       "    <tr>\n",
       "      <th>0</th>\n",
       "      <td>76</td>\n",
       "      <td>65</td>\n",
       "      <td>80</td>\n",
       "    </tr>\n",
       "    <tr>\n",
       "      <th>1</th>\n",
       "      <td>90</td>\n",
       "      <td>75</td>\n",
       "      <td>98</td>\n",
       "    </tr>\n",
       "    <tr>\n",
       "      <th>2</th>\n",
       "      <td>64</td>\n",
       "      <td>70</td>\n",
       "      <td>62</td>\n",
       "    </tr>\n",
       "    <tr>\n",
       "      <th>3</th>\n",
       "      <td>70</td>\n",
       "      <td>82</td>\n",
       "      <td>84</td>\n",
       "    </tr>\n",
       "    <tr>\n",
       "      <th>4</th>\n",
       "      <td>98</td>\n",
       "      <td>93</td>\n",
       "      <td>85</td>\n",
       "    </tr>\n",
       "  </tbody>\n",
       "</table>\n",
       "</div>"
      ],
      "text/plain": [
       "   국어  영어  수학\n",
       "0  76  65  80\n",
       "1  90  75  98\n",
       "2  64  70  62\n",
       "3  70  82  84\n",
       "4  98  93  85"
      ]
     },
     "execution_count": 45,
     "metadata": {},
     "output_type": "execute_result"
    }
   ],
   "source": [
    "# 실습02; 수업 답안\n",
    "\n",
    "# 행별로 df 구성; 컬럼 개수가 정해졌을 경우\n",
    "data = [[76, 65, 80],\n",
    "        [90, 75, 98],\n",
    "        [64, 70, 62],\n",
    "        [70, 82, 84],\n",
    "        [98, 93, 85]\n",
    "       ]\n",
    "df = pd.DataFrame(data,\n",
    "                   columns=['국어', '영어', '수학']\n",
    "                  )\n",
    "df"
   ]
  },
  {
   "cell_type": "code",
   "execution_count": 46,
   "id": "12bd6e35",
   "metadata": {},
   "outputs": [
    {
     "data": {
      "text/html": [
       "<div>\n",
       "<style scoped>\n",
       "    .dataframe tbody tr th:only-of-type {\n",
       "        vertical-align: middle;\n",
       "    }\n",
       "\n",
       "    .dataframe tbody tr th {\n",
       "        vertical-align: top;\n",
       "    }\n",
       "\n",
       "    .dataframe thead th {\n",
       "        text-align: right;\n",
       "    }\n",
       "</style>\n",
       "<table border=\"1\" class=\"dataframe\">\n",
       "  <thead>\n",
       "    <tr style=\"text-align: right;\">\n",
       "      <th></th>\n",
       "      <th>국어</th>\n",
       "      <th>영어</th>\n",
       "      <th>수학</th>\n",
       "      <th>총점</th>\n",
       "    </tr>\n",
       "  </thead>\n",
       "  <tbody>\n",
       "    <tr>\n",
       "      <th>0</th>\n",
       "      <td>76</td>\n",
       "      <td>65</td>\n",
       "      <td>80</td>\n",
       "      <td>221</td>\n",
       "    </tr>\n",
       "    <tr>\n",
       "      <th>1</th>\n",
       "      <td>90</td>\n",
       "      <td>75</td>\n",
       "      <td>98</td>\n",
       "      <td>263</td>\n",
       "    </tr>\n",
       "    <tr>\n",
       "      <th>2</th>\n",
       "      <td>64</td>\n",
       "      <td>70</td>\n",
       "      <td>62</td>\n",
       "      <td>196</td>\n",
       "    </tr>\n",
       "    <tr>\n",
       "      <th>3</th>\n",
       "      <td>70</td>\n",
       "      <td>82</td>\n",
       "      <td>84</td>\n",
       "      <td>236</td>\n",
       "    </tr>\n",
       "    <tr>\n",
       "      <th>4</th>\n",
       "      <td>98</td>\n",
       "      <td>93</td>\n",
       "      <td>85</td>\n",
       "      <td>276</td>\n",
       "    </tr>\n",
       "  </tbody>\n",
       "</table>\n",
       "</div>"
      ],
      "text/plain": [
       "   국어  영어  수학   총점\n",
       "0  76  65  80  221\n",
       "1  90  75  98  263\n",
       "2  64  70  62  196\n",
       "3  70  82  84  236\n",
       "4  98  93  85  276"
      ]
     },
     "execution_count": 46,
     "metadata": {},
     "output_type": "execute_result"
    }
   ],
   "source": [
    "# 총점 구하기\n",
    "df['총점'] = df['국어'] + df['영어'] + df['수학']\n",
    "df"
   ]
  },
  {
   "cell_type": "code",
   "execution_count": 47,
   "id": "8f6e2df7",
   "metadata": {},
   "outputs": [
    {
     "data": {
      "text/html": [
       "<div>\n",
       "<style scoped>\n",
       "    .dataframe tbody tr th:only-of-type {\n",
       "        vertical-align: middle;\n",
       "    }\n",
       "\n",
       "    .dataframe tbody tr th {\n",
       "        vertical-align: top;\n",
       "    }\n",
       "\n",
       "    .dataframe thead th {\n",
       "        text-align: right;\n",
       "    }\n",
       "</style>\n",
       "<table border=\"1\" class=\"dataframe\">\n",
       "  <thead>\n",
       "    <tr style=\"text-align: right;\">\n",
       "      <th></th>\n",
       "      <th>국어</th>\n",
       "      <th>영어</th>\n",
       "      <th>수학</th>\n",
       "      <th>총점</th>\n",
       "      <th>평균</th>\n",
       "    </tr>\n",
       "  </thead>\n",
       "  <tbody>\n",
       "    <tr>\n",
       "      <th>0</th>\n",
       "      <td>76</td>\n",
       "      <td>65</td>\n",
       "      <td>80</td>\n",
       "      <td>221</td>\n",
       "      <td>73.666667</td>\n",
       "    </tr>\n",
       "    <tr>\n",
       "      <th>1</th>\n",
       "      <td>90</td>\n",
       "      <td>75</td>\n",
       "      <td>98</td>\n",
       "      <td>263</td>\n",
       "      <td>87.666667</td>\n",
       "    </tr>\n",
       "    <tr>\n",
       "      <th>2</th>\n",
       "      <td>64</td>\n",
       "      <td>70</td>\n",
       "      <td>62</td>\n",
       "      <td>196</td>\n",
       "      <td>65.333333</td>\n",
       "    </tr>\n",
       "    <tr>\n",
       "      <th>3</th>\n",
       "      <td>70</td>\n",
       "      <td>82</td>\n",
       "      <td>84</td>\n",
       "      <td>236</td>\n",
       "      <td>78.666667</td>\n",
       "    </tr>\n",
       "    <tr>\n",
       "      <th>4</th>\n",
       "      <td>98</td>\n",
       "      <td>93</td>\n",
       "      <td>85</td>\n",
       "      <td>276</td>\n",
       "      <td>92.000000</td>\n",
       "    </tr>\n",
       "  </tbody>\n",
       "</table>\n",
       "</div>"
      ],
      "text/plain": [
       "   국어  영어  수학   총점         평균\n",
       "0  76  65  80  221  73.666667\n",
       "1  90  75  98  263  87.666667\n",
       "2  64  70  62  196  65.333333\n",
       "3  70  82  84  236  78.666667\n",
       "4  98  93  85  276  92.000000"
      ]
     },
     "execution_count": 47,
     "metadata": {},
     "output_type": "execute_result"
    }
   ],
   "source": [
    "# 평균 구하기\n",
    "df['평균'] = (df['국어'] + df['영어'] + df['수학']) / 3\n",
    "df"
   ]
  },
  {
   "cell_type": "code",
   "execution_count": 48,
   "id": "5dbed671",
   "metadata": {},
   "outputs": [
    {
     "data": {
      "text/html": [
       "<div>\n",
       "<style scoped>\n",
       "    .dataframe tbody tr th:only-of-type {\n",
       "        vertical-align: middle;\n",
       "    }\n",
       "\n",
       "    .dataframe tbody tr th {\n",
       "        vertical-align: top;\n",
       "    }\n",
       "\n",
       "    .dataframe thead th {\n",
       "        text-align: right;\n",
       "    }\n",
       "</style>\n",
       "<table border=\"1\" class=\"dataframe\">\n",
       "  <thead>\n",
       "    <tr style=\"text-align: right;\">\n",
       "      <th></th>\n",
       "      <th>국어</th>\n",
       "      <th>영어</th>\n",
       "      <th>수학</th>\n",
       "      <th>총점</th>\n",
       "      <th>평균</th>\n",
       "      <th>평균1</th>\n",
       "      <th>총점1</th>\n",
       "    </tr>\n",
       "  </thead>\n",
       "  <tbody>\n",
       "    <tr>\n",
       "      <th>0</th>\n",
       "      <td>76</td>\n",
       "      <td>65</td>\n",
       "      <td>80</td>\n",
       "      <td>221</td>\n",
       "      <td>73.666667</td>\n",
       "      <td>73.666667</td>\n",
       "      <td>221</td>\n",
       "    </tr>\n",
       "    <tr>\n",
       "      <th>1</th>\n",
       "      <td>90</td>\n",
       "      <td>75</td>\n",
       "      <td>98</td>\n",
       "      <td>263</td>\n",
       "      <td>87.666667</td>\n",
       "      <td>87.666667</td>\n",
       "      <td>263</td>\n",
       "    </tr>\n",
       "    <tr>\n",
       "      <th>2</th>\n",
       "      <td>64</td>\n",
       "      <td>70</td>\n",
       "      <td>62</td>\n",
       "      <td>196</td>\n",
       "      <td>65.333333</td>\n",
       "      <td>65.333333</td>\n",
       "      <td>196</td>\n",
       "    </tr>\n",
       "    <tr>\n",
       "      <th>3</th>\n",
       "      <td>70</td>\n",
       "      <td>82</td>\n",
       "      <td>84</td>\n",
       "      <td>236</td>\n",
       "      <td>78.666667</td>\n",
       "      <td>78.666667</td>\n",
       "      <td>236</td>\n",
       "    </tr>\n",
       "    <tr>\n",
       "      <th>4</th>\n",
       "      <td>98</td>\n",
       "      <td>93</td>\n",
       "      <td>85</td>\n",
       "      <td>276</td>\n",
       "      <td>92.000000</td>\n",
       "      <td>92.000000</td>\n",
       "      <td>276</td>\n",
       "    </tr>\n",
       "  </tbody>\n",
       "</table>\n",
       "</div>"
      ],
      "text/plain": [
       "   국어  영어  수학   총점         평균        평균1  총점1\n",
       "0  76  65  80  221  73.666667  73.666667  221\n",
       "1  90  75  98  263  87.666667  87.666667  263\n",
       "2  64  70  62  196  65.333333  65.333333  196\n",
       "3  70  82  84  236  78.666667  78.666667  236\n",
       "4  98  93  85  276  92.000000  92.000000  276"
      ]
     },
     "execution_count": 48,
     "metadata": {},
     "output_type": "execute_result"
    }
   ],
   "source": [
    "# 평균1 구하기\n",
    "df.iloc[:, :3] # 3개 컬럼만 추출\n",
    "\n",
    "df.iloc[:, :3].mean() # 컬럼별로 평균\n",
    "df.iloc[:, :3].mean(axis=1) # 행별로 평균\n",
    "\n",
    "df['평균1'] = df.iloc[:, :3].mean(axis=1)\n",
    "df\n",
    "\n",
    "df['총점1'] = df.iloc[:, :3].sum(axis=1)\n",
    "df"
   ]
  },
  {
   "cell_type": "code",
   "execution_count": 49,
   "id": "5e4fcc20",
   "metadata": {},
   "outputs": [
    {
     "data": {
      "text/html": [
       "<div>\n",
       "<style scoped>\n",
       "    .dataframe tbody tr th:only-of-type {\n",
       "        vertical-align: middle;\n",
       "    }\n",
       "\n",
       "    .dataframe tbody tr th {\n",
       "        vertical-align: top;\n",
       "    }\n",
       "\n",
       "    .dataframe thead th {\n",
       "        text-align: right;\n",
       "    }\n",
       "</style>\n",
       "<table border=\"1\" class=\"dataframe\">\n",
       "  <thead>\n",
       "    <tr style=\"text-align: right;\">\n",
       "      <th></th>\n",
       "      <th>국어</th>\n",
       "      <th>영어</th>\n",
       "      <th>수학</th>\n",
       "      <th>총점</th>\n",
       "      <th>평균</th>\n",
       "      <th>평균1</th>\n",
       "      <th>총점1</th>\n",
       "      <th>등급</th>\n",
       "    </tr>\n",
       "  </thead>\n",
       "  <tbody>\n",
       "    <tr>\n",
       "      <th>0</th>\n",
       "      <td>76</td>\n",
       "      <td>65</td>\n",
       "      <td>80</td>\n",
       "      <td>221</td>\n",
       "      <td>73.666667</td>\n",
       "      <td>73.666667</td>\n",
       "      <td>221</td>\n",
       "      <td>B등급</td>\n",
       "    </tr>\n",
       "    <tr>\n",
       "      <th>1</th>\n",
       "      <td>90</td>\n",
       "      <td>75</td>\n",
       "      <td>98</td>\n",
       "      <td>263</td>\n",
       "      <td>87.666667</td>\n",
       "      <td>87.666667</td>\n",
       "      <td>263</td>\n",
       "      <td>A등급</td>\n",
       "    </tr>\n",
       "    <tr>\n",
       "      <th>2</th>\n",
       "      <td>64</td>\n",
       "      <td>70</td>\n",
       "      <td>62</td>\n",
       "      <td>196</td>\n",
       "      <td>65.333333</td>\n",
       "      <td>65.333333</td>\n",
       "      <td>196</td>\n",
       "      <td>C등급</td>\n",
       "    </tr>\n",
       "    <tr>\n",
       "      <th>3</th>\n",
       "      <td>70</td>\n",
       "      <td>82</td>\n",
       "      <td>84</td>\n",
       "      <td>236</td>\n",
       "      <td>78.666667</td>\n",
       "      <td>78.666667</td>\n",
       "      <td>236</td>\n",
       "      <td>B등급</td>\n",
       "    </tr>\n",
       "    <tr>\n",
       "      <th>4</th>\n",
       "      <td>98</td>\n",
       "      <td>93</td>\n",
       "      <td>85</td>\n",
       "      <td>276</td>\n",
       "      <td>92.000000</td>\n",
       "      <td>92.000000</td>\n",
       "      <td>276</td>\n",
       "      <td>S등급</td>\n",
       "    </tr>\n",
       "  </tbody>\n",
       "</table>\n",
       "</div>"
      ],
      "text/plain": [
       "   국어  영어  수학   총점         평균        평균1  총점1   등급\n",
       "0  76  65  80  221  73.666667  73.666667  221  B등급\n",
       "1  90  75  98  263  87.666667  87.666667  263  A등급\n",
       "2  64  70  62  196  65.333333  65.333333  196  C등급\n",
       "3  70  82  84  236  78.666667  78.666667  236  B등급\n",
       "4  98  93  85  276  92.000000  92.000000  276  S등급"
      ]
     },
     "execution_count": 49,
     "metadata": {},
     "output_type": "execute_result"
    }
   ],
   "source": [
    "# 평균을 등급으로 만들기\n",
    "df['등급'] = ''\n",
    "\n",
    "for row in range(0, len(df)):\n",
    "#     print(df.iloc[row, 4])\n",
    "    in_pos = df.iloc[row, 4]\n",
    "    if in_pos >= 90:\n",
    "        df.iloc[row, -1] = 'S등급' # 마지막 컬럼을 만들어 놔서\n",
    "    elif in_pos >= 80:\n",
    "        df.iloc[row, -1] = 'A등급' # -1로 마지막 컬럼에 삽입\n",
    "    elif in_pos >= 70:\n",
    "        df.iloc[row, -1] = 'B등급'\n",
    "    else:\n",
    "        df.iloc[row, -1] = 'C등급'\n",
    "        \n",
    "df"
   ]
  },
  {
   "cell_type": "code",
   "execution_count": 50,
   "id": "12e1cb9b",
   "metadata": {},
   "outputs": [
    {
     "data": {
      "text/html": [
       "<div>\n",
       "<style scoped>\n",
       "    .dataframe tbody tr th:only-of-type {\n",
       "        vertical-align: middle;\n",
       "    }\n",
       "\n",
       "    .dataframe tbody tr th {\n",
       "        vertical-align: top;\n",
       "    }\n",
       "\n",
       "    .dataframe thead th {\n",
       "        text-align: right;\n",
       "    }\n",
       "</style>\n",
       "<table border=\"1\" class=\"dataframe\">\n",
       "  <thead>\n",
       "    <tr style=\"text-align: right;\">\n",
       "      <th></th>\n",
       "      <th>국어</th>\n",
       "      <th>영어</th>\n",
       "      <th>수학</th>\n",
       "      <th>총점</th>\n",
       "      <th>평균</th>\n",
       "      <th>평균1</th>\n",
       "      <th>총점1</th>\n",
       "      <th>등급</th>\n",
       "      <th>등급2</th>\n",
       "    </tr>\n",
       "  </thead>\n",
       "  <tbody>\n",
       "    <tr>\n",
       "      <th>0</th>\n",
       "      <td>76</td>\n",
       "      <td>65</td>\n",
       "      <td>80</td>\n",
       "      <td>221</td>\n",
       "      <td>73.666667</td>\n",
       "      <td>73.666667</td>\n",
       "      <td>221</td>\n",
       "      <td>B등급</td>\n",
       "      <td>B등급</td>\n",
       "    </tr>\n",
       "    <tr>\n",
       "      <th>1</th>\n",
       "      <td>90</td>\n",
       "      <td>75</td>\n",
       "      <td>98</td>\n",
       "      <td>263</td>\n",
       "      <td>87.666667</td>\n",
       "      <td>87.666667</td>\n",
       "      <td>263</td>\n",
       "      <td>A등급</td>\n",
       "      <td>A등급</td>\n",
       "    </tr>\n",
       "    <tr>\n",
       "      <th>2</th>\n",
       "      <td>64</td>\n",
       "      <td>70</td>\n",
       "      <td>62</td>\n",
       "      <td>196</td>\n",
       "      <td>65.333333</td>\n",
       "      <td>65.333333</td>\n",
       "      <td>196</td>\n",
       "      <td>C등급</td>\n",
       "      <td>C등급</td>\n",
       "    </tr>\n",
       "    <tr>\n",
       "      <th>3</th>\n",
       "      <td>70</td>\n",
       "      <td>82</td>\n",
       "      <td>84</td>\n",
       "      <td>236</td>\n",
       "      <td>78.666667</td>\n",
       "      <td>78.666667</td>\n",
       "      <td>236</td>\n",
       "      <td>B등급</td>\n",
       "      <td>B등급</td>\n",
       "    </tr>\n",
       "    <tr>\n",
       "      <th>4</th>\n",
       "      <td>98</td>\n",
       "      <td>93</td>\n",
       "      <td>85</td>\n",
       "      <td>276</td>\n",
       "      <td>92.000000</td>\n",
       "      <td>92.000000</td>\n",
       "      <td>276</td>\n",
       "      <td>S등급</td>\n",
       "      <td>S등급</td>\n",
       "    </tr>\n",
       "  </tbody>\n",
       "</table>\n",
       "</div>"
      ],
      "text/plain": [
       "   국어  영어  수학   총점         평균        평균1  총점1   등급  등급2\n",
       "0  76  65  80  221  73.666667  73.666667  221  B등급  B등급\n",
       "1  90  75  98  263  87.666667  87.666667  263  A등급  A등급\n",
       "2  64  70  62  196  65.333333  65.333333  196  C등급  C등급\n",
       "3  70  82  84  236  78.666667  78.666667  236  B등급  B등급\n",
       "4  98  93  85  276  92.000000  92.000000  276  S등급  S등급"
      ]
     },
     "execution_count": 50,
     "metadata": {},
     "output_type": "execute_result"
    }
   ],
   "source": [
    "# 행 단위로 적용\n",
    "# 각 행마다 연산해서 값 추가\n",
    "# 속도는 이 방법이 제일 빠름\n",
    "\n",
    "df.loc[df['평균'] >= 90, '등급2'] = 'S등급'\n",
    "df.loc[(df['평균'] >= 80) & (df['평균'] < 90), '등급2'] = 'A등급'\n",
    "df.loc[(df['평균'] >= 70) & (df['평균'] < 80), '등급2'] = 'B등급'\n",
    "df.loc[(df['평균'] < 70), '등급2'] = 'C등급'\n",
    "\n",
    "df"
   ]
  },
  {
   "cell_type": "markdown",
   "id": "e8d799c2",
   "metadata": {},
   "source": [
    "# py 객체, 클래스, 모듈, 함수 등"
   ]
  },
  {
   "cell_type": "markdown",
   "id": "fecf5f4d",
   "metadata": {},
   "source": [
    "# 객체와 클래스\n",
    "\n",
    "1. 객체 지향 프로그래밍(object oriented programming; oop)\n",
    "\n",
    "2. 클래스(Class); 변수와 메소드로 구성, 붕어빵 틀\n",
    "\n",
    "3. 클래스는 객체(자동차)를 표현합니다.\n",
    "   - 변수 : 색상, 옵션, ...\n",
    "   - 메소드 : 기능, 내비게이션, 블랙박스, ...\n",
    "\n",
    "4. 인스턴스(차대번호가 있는 차, 붕어빵) = 클래스()\n",
    "\n",
    "5. 클래스 : 똑같은 것을 계속 만들어 낼 수 있는 설계 도면\n",
    "\n",
    "   인스턴스 : 설계 도면을 통해 만들어낸 것들"
   ]
  },
  {
   "cell_type": "code",
   "execution_count": 51,
   "id": "7ae49d5b",
   "metadata": {},
   "outputs": [
    {
     "data": {
      "text/plain": [
       "'\\nclass 클래스명: # 클래스명 첫문자 대문자, 각 단어 대문자 권장\\n    클래스 변수 선언 # 내부와 외부 변수 별도\\n    def 메소드명1: # 메소드: 클래스 내부의 함수를 메소드라 부름\\n        코드1\\n        코드2 ...\\n        return\\n    def 메소드명2:\\n        코드1\\n        코드2 ...\\n        return\\n    def 메소드명2:\\n        코드1\\n        코드2 ...\\n        return\\n'"
      ]
     },
     "execution_count": 51,
     "metadata": {},
     "output_type": "execute_result"
    }
   ],
   "source": [
    "# 생성 방법\n",
    "\n",
    "\"\"\"\n",
    "class 클래스명: # 클래스명 첫문자 대문자, 각 단어 대문자 권장\n",
    "    클래스 변수 선언 # 내부와 외부 변수 별도\n",
    "    def 메소드명1: # 메소드: 클래스 내부의 함수를 메소드라 부름\n",
    "        코드1\n",
    "        코드2 ...\n",
    "        return\n",
    "    def 메소드명2:\n",
    "        코드1\n",
    "        코드2 ...\n",
    "        return\n",
    "    def 메소드명2:\n",
    "        코드1\n",
    "        코드2 ...\n",
    "        return\n",
    "\"\"\""
   ]
  },
  {
   "cell_type": "code",
   "execution_count": 52,
   "id": "2b3bbb72",
   "metadata": {},
   "outputs": [],
   "source": [
    "class Calculator:\n",
    "    txt = '문자'\n",
    "    def sum(self, a, b): # 클래스 내부의 메소드에는 (self, ) 선언 필수\n",
    "        c = a + b\n",
    "        return c"
   ]
  },
  {
   "cell_type": "code",
   "execution_count": 53,
   "id": "5c6426f3",
   "metadata": {},
   "outputs": [
    {
     "data": {
      "text/plain": [
       "<__main__.Calculator at 0x1fe162b3130>"
      ]
     },
     "execution_count": 53,
     "metadata": {},
     "output_type": "execute_result"
    }
   ],
   "source": [
    "Calculator()"
   ]
  },
  {
   "cell_type": "code",
   "execution_count": 54,
   "id": "56c83533",
   "metadata": {},
   "outputs": [
    {
     "data": {
      "text/plain": [
       "7"
      ]
     },
     "execution_count": 54,
     "metadata": {},
     "output_type": "execute_result"
    }
   ],
   "source": [
    "x = Calculator()\n",
    "x.sum(3, 4)"
   ]
  },
  {
   "cell_type": "code",
   "execution_count": 55,
   "id": "ba3e5a56",
   "metadata": {},
   "outputs": [
    {
     "name": "stdout",
     "output_type": "stream",
     "text": [
      "7\n"
     ]
    }
   ],
   "source": [
    "y = x.sum(3, 4)\n",
    "print(y)"
   ]
  },
  {
   "cell_type": "code",
   "execution_count": 56,
   "id": "efa8413a",
   "metadata": {},
   "outputs": [
    {
     "data": {
      "text/plain": [
       "7"
      ]
     },
     "execution_count": 56,
     "metadata": {},
     "output_type": "execute_result"
    }
   ],
   "source": [
    "y = Calculator().sum(3, 4)\n",
    "y"
   ]
  },
  {
   "cell_type": "code",
   "execution_count": 57,
   "id": "2e4af891",
   "metadata": {},
   "outputs": [
    {
     "data": {
      "text/plain": [
       "'문자'"
      ]
     },
     "execution_count": 57,
     "metadata": {},
     "output_type": "execute_result"
    }
   ],
   "source": [
    "x.txt"
   ]
  },
  {
   "cell_type": "code",
   "execution_count": 58,
   "id": "683f6979",
   "metadata": {},
   "outputs": [],
   "source": [
    "# 클래스의 인자값 처리\n",
    "# 클래스 내부의 일부 변수는 조작 가능\n",
    "\n",
    "class Employee:\n",
    "    def __init__(self, name, salary): # 생성표기 함수 문법, 클래스 실행될 때 반드시 실행 명령\n",
    "        print('클래스를 시작합니다.')\n",
    "        self.name = name # 우측의 name은 외부에서 가져오는 것\n",
    "        self.salary = salary # self.name은 클래스 내부에서 별도 저장\n",
    "    def displaycount(self):\n",
    "        print('hello =', self.name)"
   ]
  },
  {
   "cell_type": "code",
   "execution_count": 59,
   "id": "112a6d60",
   "metadata": {},
   "outputs": [
    {
     "name": "stdout",
     "output_type": "stream",
     "text": [
      "클래스를 시작합니다.\n"
     ]
    }
   ],
   "source": [
    "x = Employee('홍길동', 100) # __init__ 메소드 실행"
   ]
  },
  {
   "cell_type": "code",
   "execution_count": 60,
   "id": "f1ea7284",
   "metadata": {},
   "outputs": [
    {
     "data": {
      "text/plain": [
       "'홍길동'"
      ]
     },
     "execution_count": 60,
     "metadata": {},
     "output_type": "execute_result"
    }
   ],
   "source": [
    "x.name"
   ]
  },
  {
   "cell_type": "code",
   "execution_count": 61,
   "id": "923a7a4b",
   "metadata": {},
   "outputs": [
    {
     "data": {
      "text/plain": [
       "100"
      ]
     },
     "execution_count": 61,
     "metadata": {},
     "output_type": "execute_result"
    }
   ],
   "source": [
    " x.salary"
   ]
  },
  {
   "cell_type": "code",
   "execution_count": 62,
   "id": "5777ee89",
   "metadata": {},
   "outputs": [
    {
     "name": "stdout",
     "output_type": "stream",
     "text": [
      "hello = 홍길동\n"
     ]
    }
   ],
   "source": [
    "x.displaycount() # 인스턴스 변수; 내부에서만 작동하는 변수"
   ]
  },
  {
   "cell_type": "code",
   "execution_count": 63,
   "id": "d31ccfdc",
   "metadata": {},
   "outputs": [
    {
     "name": "stdout",
     "output_type": "stream",
     "text": [
      "클래스를 시작합니다.\n"
     ]
    }
   ],
   "source": [
    "y = Employee('이순신', 200)"
   ]
  },
  {
   "cell_type": "code",
   "execution_count": 64,
   "id": "00266534",
   "metadata": {},
   "outputs": [
    {
     "data": {
      "text/plain": [
       "'이순신'"
      ]
     },
     "execution_count": 64,
     "metadata": {},
     "output_type": "execute_result"
    }
   ],
   "source": [
    "y.name"
   ]
  },
  {
   "cell_type": "code",
   "execution_count": 65,
   "id": "8d76ad51",
   "metadata": {},
   "outputs": [
    {
     "data": {
      "text/plain": [
       "200"
      ]
     },
     "execution_count": 65,
     "metadata": {},
     "output_type": "execute_result"
    }
   ],
   "source": [
    "y.salary"
   ]
  },
  {
   "cell_type": "code",
   "execution_count": 1,
   "id": "eb745c22",
   "metadata": {},
   "outputs": [],
   "source": [
    "class Job:\n",
    "    def __init__(self, name, salary):\n",
    "        self.name = name\n",
    "        self.salary = salary\n",
    "    def pay(self):\n",
    "        print('pay =', self.salary * 10)\n",
    "    def incentive(self, money):\n",
    "        print('incentive =', money)"
   ]
  },
  {
   "cell_type": "code",
   "execution_count": 2,
   "id": "7ab91497",
   "metadata": {},
   "outputs": [
    {
     "name": "stdout",
     "output_type": "stream",
     "text": [
      "<__main__.Job object at 0x0000021BAE2F48B0>\n"
     ]
    }
   ],
   "source": [
    "x = Job('길동', 123)\n",
    "print(x)"
   ]
  },
  {
   "cell_type": "code",
   "execution_count": 68,
   "id": "28425661",
   "metadata": {},
   "outputs": [
    {
     "name": "stdout",
     "output_type": "stream",
     "text": [
      "pay = 1230\n"
     ]
    }
   ],
   "source": [
    "x.pay()"
   ]
  },
  {
   "cell_type": "code",
   "execution_count": 69,
   "id": "7b2daccb",
   "metadata": {},
   "outputs": [
    {
     "name": "stdout",
     "output_type": "stream",
     "text": [
      "incentive = 233\n"
     ]
    }
   ],
   "source": [
    "x.incentive(233)"
   ]
  },
  {
   "cell_type": "code",
   "execution_count": 70,
   "id": "d4bda5f7",
   "metadata": {},
   "outputs": [],
   "source": [
    "# 모듈 불러오기\n",
    "# import 모듈명\n",
    "# import 모듈명 as 약칭\n",
    "# from 모듈명 import 클래스명1, 클래스명2, ..."
   ]
  },
  {
   "cell_type": "markdown",
   "id": "64eabaa6",
   "metadata": {},
   "source": [
    "# 모듈 설치\n",
    "\n",
    "1. 오타 확인\n",
    "\n",
    "2. 설치가 안되어 있을 때 설치 작업\n",
    "   - conda promt; conda install 라이브러리명 or pip install 라이브러리명\n",
    "\n",
    "3. conda or pop 설치 에러 메시지\n",
    "   - https://www.lfd.uci.edu/~gohlke/pythonlibs/\n",
    "   - url에서 해당 라이브러리.whl 다운로드 후 \n",
    "   - conda/pip install 라이브러리명.whl"
   ]
  },
  {
   "cell_type": "code",
   "execution_count": 71,
   "id": "829b784b",
   "metadata": {},
   "outputs": [
    {
     "name": "stderr",
     "output_type": "stream",
     "text": [
      "ERROR: Invalid requirement: '#'\n"
     ]
    }
   ],
   "source": [
    "!pip install selenium # 아나콘다 프롬트 동작과 같음"
   ]
  },
  {
   "cell_type": "code",
   "execution_count": 72,
   "id": "eb1b8845",
   "metadata": {},
   "outputs": [
    {
     "name": "stdout",
     "output_type": "stream",
     "text": [
      "Overwriting main.py\n"
     ]
    }
   ],
   "source": [
    "%%writefile  main.py\n",
    "\n",
    "if __name__ == '__main__': # __name__ 시스템의 변수명\n",
    "    print('모듈 시작.')\n",
    "    print('__name__ =', __name__)\n",
    "    print('모듈 끝.')\n",
    "else:\n",
    "    print('다른 모듈에서 import 수행시 실행,')\n",
    "    print('__name__', __name__)"
   ]
  },
  {
   "cell_type": "code",
   "execution_count": 73,
   "id": "f2c81aa0",
   "metadata": {},
   "outputs": [],
   "source": [
    "# %%매직명령어 이전에 주석달지 말것\n",
    "# 프로그램 실행"
   ]
  },
  {
   "cell_type": "code",
   "execution_count": 74,
   "id": "16951860",
   "metadata": {},
   "outputs": [
    {
     "name": "stdout",
     "output_type": "stream",
     "text": [
      "모듈 시작.\n",
      "__name__ = __main__\n",
      "모듈 끝.\n"
     ]
    }
   ],
   "source": [
    "!python main.py"
   ]
  },
  {
   "cell_type": "code",
   "execution_count": 75,
   "id": "528c4212",
   "metadata": {},
   "outputs": [],
   "source": [
    "# if 조건 실행; main 값 들어가있음"
   ]
  },
  {
   "cell_type": "code",
   "execution_count": 76,
   "id": "0d9a6427",
   "metadata": {},
   "outputs": [
    {
     "name": "stdout",
     "output_type": "stream",
     "text": [
      "다른 모듈에서 import 수행시 실행,\n",
      "__name__ main\n"
     ]
    }
   ],
   "source": [
    "import main"
   ]
  },
  {
   "cell_type": "code",
   "execution_count": 77,
   "id": "295985ae",
   "metadata": {},
   "outputs": [],
   "source": [
    "# 직접 실행할 수 있고, 다른 모듈에서 불러오게 할 수 있음"
   ]
  },
  {
   "cell_type": "code",
   "execution_count": 78,
   "id": "8a57afe4",
   "metadata": {},
   "outputs": [
    {
     "name": "stdout",
     "output_type": "stream",
     "text": [
      "Overwriting calc.py\n"
     ]
    }
   ],
   "source": [
    "%%writefile calc.py\n",
    "\n",
    "def add(a, b):\n",
    "    return a + b\n",
    "def mul(a, b):\n",
    "    return a * b\n",
    "def sub(a, b):\n",
    "    return a - b\n",
    "if __name__ == '__main__':\n",
    "    print('** main ** ')\n",
    "    print(add(10, 20))\n",
    "    print(mul(10, 20))\n",
    "    print(sub(10, 20))"
   ]
  },
  {
   "cell_type": "code",
   "execution_count": 79,
   "id": "41b0605f",
   "metadata": {},
   "outputs": [
    {
     "name": "stdout",
     "output_type": "stream",
     "text": [
      "** main ** \n",
      "30\n",
      "200\n",
      "-10\n"
     ]
    }
   ],
   "source": [
    "!python calc.py"
   ]
  },
  {
   "cell_type": "code",
   "execution_count": 80,
   "id": "1573bcca",
   "metadata": {},
   "outputs": [],
   "source": [
    "import calc"
   ]
  },
  {
   "cell_type": "code",
   "execution_count": 81,
   "id": "6fa74b6a",
   "metadata": {},
   "outputs": [
    {
     "data": {
      "text/plain": [
       "8"
      ]
     },
     "execution_count": 81,
     "metadata": {},
     "output_type": "execute_result"
    }
   ],
   "source": [
    "calc.add(3, 5)"
   ]
  },
  {
   "cell_type": "code",
   "execution_count": 82,
   "id": "80d179fa",
   "metadata": {},
   "outputs": [],
   "source": [
    "# import해서 함수 활용 가능"
   ]
  },
  {
   "cell_type": "markdown",
   "id": "8b230509",
   "metadata": {},
   "source": [
    "### 함수 내 지역변수, 전역변수"
   ]
  },
  {
   "cell_type": "code",
   "execution_count": 83,
   "id": "8b9becda",
   "metadata": {},
   "outputs": [],
   "source": [
    "a = 5 # 함수 밖에서 작동하는 변수; 전역변수\n",
    "def func1():\n",
    "    a = 1 # 함수 내에서만 작동하는 변수; 지역변수\n",
    "    print('111 a = ', a)\n",
    "    return a # 외부에서도 작동하게끔 반환"
   ]
  },
  {
   "cell_type": "code",
   "execution_count": 84,
   "id": "15b6827f",
   "metadata": {},
   "outputs": [
    {
     "name": "stdout",
     "output_type": "stream",
     "text": [
      "111 a =  1\n"
     ]
    },
    {
     "data": {
      "text/plain": [
       "1"
      ]
     },
     "execution_count": 84,
     "metadata": {},
     "output_type": "execute_result"
    }
   ],
   "source": [
    "func1()"
   ]
  },
  {
   "cell_type": "code",
   "execution_count": 85,
   "id": "90b84c2c",
   "metadata": {},
   "outputs": [
    {
     "data": {
      "text/plain": [
       "5"
      ]
     },
     "execution_count": 85,
     "metadata": {},
     "output_type": "execute_result"
    }
   ],
   "source": [
    "a"
   ]
  },
  {
   "cell_type": "code",
   "execution_count": 86,
   "id": "1f2d78b1",
   "metadata": {},
   "outputs": [],
   "source": [
    "a = 5 # 함수 밖에서 작동하는 변수\n",
    "def func2():\n",
    "    global a #전역변수; 밖에서 선언된 함수를 들여오는 것\n",
    "    a = 1 # 함수 내에서만 작동하는 변수; 지역변수\n",
    "    print('222 a = ', a)\n",
    "    return a # 외부에서도 작동하게끔 반환"
   ]
  },
  {
   "cell_type": "code",
   "execution_count": 87,
   "id": "3c620301",
   "metadata": {},
   "outputs": [
    {
     "name": "stdout",
     "output_type": "stream",
     "text": [
      "222 a =  1\n"
     ]
    },
    {
     "data": {
      "text/plain": [
       "1"
      ]
     },
     "execution_count": 87,
     "metadata": {},
     "output_type": "execute_result"
    }
   ],
   "source": [
    "func2()"
   ]
  },
  {
   "cell_type": "markdown",
   "id": "d8d36cea",
   "metadata": {},
   "source": [
    "# 함수들"
   ]
  },
  {
   "cell_type": "code",
   "execution_count": 88,
   "id": "c34df05d",
   "metadata": {},
   "outputs": [],
   "source": [
    "# 파이썬 표준 라이브러리(외장함수)\n",
    "# sys csv datetime calendar collections 자주 사용"
   ]
  },
  {
   "cell_type": "code",
   "execution_count": 89,
   "id": "d9316a2b",
   "metadata": {},
   "outputs": [],
   "source": [
    "# 내장함수\n",
    "\n",
    "# https://docs.python.org/ko/3/library/functions.html\n",
    "# https://www.w3schools.com/python/python_ref_functions.asp\n"
   ]
  },
  {
   "cell_type": "code",
   "execution_count": 90,
   "id": "8f1532c4",
   "metadata": {},
   "outputs": [
    {
     "data": {
      "text/plain": [
       "140722374387536"
      ]
     },
     "execution_count": 90,
     "metadata": {},
     "output_type": "execute_result"
    }
   ],
   "source": [
    "# id()\n",
    "\n",
    "a = 1\n",
    "b = 2\n",
    "\n",
    "id(a) # 객체 값이 들어간 데이터의 주소\n",
    "\n",
    "id(b)"
   ]
  },
  {
   "cell_type": "code",
   "execution_count": 91,
   "id": "7f9aacb1",
   "metadata": {},
   "outputs": [
    {
     "data": {
      "text/plain": [
       "140722374387536"
      ]
     },
     "execution_count": 91,
     "metadata": {},
     "output_type": "execute_result"
    }
   ],
   "source": [
    "c = 2\n",
    "d = c\n",
    "\n",
    "id(c)\n",
    "id(d) # 같음"
   ]
  },
  {
   "cell_type": "code",
   "execution_count": 92,
   "id": "7ed80f05",
   "metadata": {},
   "outputs": [
    {
     "data": {
      "text/plain": [
       "140722374387568"
      ]
     },
     "execution_count": 92,
     "metadata": {},
     "output_type": "execute_result"
    }
   ],
   "source": [
    "b = 3\n",
    "id(b)"
   ]
  },
  {
   "cell_type": "code",
   "execution_count": 93,
   "id": "61862559",
   "metadata": {},
   "outputs": [
    {
     "data": {
      "text/plain": [
       "140722374387536"
      ]
     },
     "execution_count": 93,
     "metadata": {},
     "output_type": "execute_result"
    }
   ],
   "source": [
    "id(c)"
   ]
  },
  {
   "cell_type": "code",
   "execution_count": 94,
   "id": "a593e28e",
   "metadata": {},
   "outputs": [
    {
     "data": {
      "text/plain": [
       "2"
      ]
     },
     "execution_count": 94,
     "metadata": {},
     "output_type": "execute_result"
    }
   ],
   "source": [
    "d"
   ]
  },
  {
   "cell_type": "code",
   "execution_count": 95,
   "id": "eabf8e21",
   "metadata": {},
   "outputs": [
    {
     "data": {
      "text/plain": [
       "2190745127616"
      ]
     },
     "execution_count": 95,
     "metadata": {},
     "output_type": "execute_result"
    }
   ],
   "source": [
    "# mutable vs immutable\n",
    "\n",
    "a1 = [1, 2, 3]\n",
    "b1 = a1\n",
    "id(a1)"
   ]
  },
  {
   "cell_type": "code",
   "execution_count": 96,
   "id": "7508b0d6",
   "metadata": {},
   "outputs": [
    {
     "data": {
      "text/plain": [
       "2190745127616"
      ]
     },
     "execution_count": 96,
     "metadata": {},
     "output_type": "execute_result"
    }
   ],
   "source": [
    "id(b1)"
   ]
  },
  {
   "cell_type": "code",
   "execution_count": 97,
   "id": "d1d037d1",
   "metadata": {},
   "outputs": [
    {
     "data": {
      "text/plain": [
       "[1, 99, 3]"
      ]
     },
     "execution_count": 97,
     "metadata": {},
     "output_type": "execute_result"
    }
   ],
   "source": [
    "a1[1] = 99\n",
    "a1"
   ]
  },
  {
   "cell_type": "code",
   "execution_count": 98,
   "id": "a74d8e0c",
   "metadata": {},
   "outputs": [
    {
     "data": {
      "text/plain": [
       "[1, 99, 3]"
      ]
     },
     "execution_count": 98,
     "metadata": {},
     "output_type": "execute_result"
    }
   ],
   "source": [
    "b1"
   ]
  },
  {
   "cell_type": "code",
   "execution_count": 99,
   "id": "38d42b3a",
   "metadata": {},
   "outputs": [
    {
     "data": {
      "text/plain": [
       "2190745127616"
      ]
     },
     "execution_count": 99,
     "metadata": {},
     "output_type": "execute_result"
    }
   ],
   "source": [
    "id(a1)"
   ]
  },
  {
   "cell_type": "code",
   "execution_count": 100,
   "id": "33fd1841",
   "metadata": {},
   "outputs": [
    {
     "data": {
      "text/plain": [
       "2190745127616"
      ]
     },
     "execution_count": 100,
     "metadata": {},
     "output_type": "execute_result"
    }
   ],
   "source": [
    "id(b1)"
   ]
  },
  {
   "cell_type": "code",
   "execution_count": 101,
   "id": "60be865a",
   "metadata": {},
   "outputs": [],
   "source": [
    "c1 = a1.copy()"
   ]
  },
  {
   "cell_type": "code",
   "execution_count": 102,
   "id": "47a0567b",
   "metadata": {},
   "outputs": [
    {
     "data": {
      "text/plain": [
       "2190780533504"
      ]
     },
     "execution_count": 102,
     "metadata": {},
     "output_type": "execute_result"
    }
   ],
   "source": [
    "d1 = a1[:]\n",
    "id(d1) # 다른 아이디 부여"
   ]
  },
  {
   "cell_type": "code",
   "execution_count": 103,
   "id": "3a26b9d9",
   "metadata": {},
   "outputs": [
    {
     "data": {
      "text/plain": [
       "True"
      ]
     },
     "execution_count": 103,
     "metadata": {},
     "output_type": "execute_result"
    }
   ],
   "source": [
    "id(a1) == id (b1) # id를 비교, a = b와는 다름"
   ]
  },
  {
   "cell_type": "code",
   "execution_count": 104,
   "id": "19537571",
   "metadata": {},
   "outputs": [
    {
     "data": {
      "text/plain": [
       "['a', 'b', 'c', 'd']"
      ]
     },
     "execution_count": 104,
     "metadata": {},
     "output_type": "execute_result"
    }
   ],
   "source": [
    "sea = ['a', 'b', 'c', 'd']\n",
    "sea"
   ]
  },
  {
   "cell_type": "code",
   "execution_count": 105,
   "id": "7427c606",
   "metadata": {},
   "outputs": [
    {
     "data": {
      "text/plain": [
       "'a'"
      ]
     },
     "execution_count": 105,
     "metadata": {},
     "output_type": "execute_result"
    }
   ],
   "source": [
    "sea[0]"
   ]
  },
  {
   "cell_type": "code",
   "execution_count": 106,
   "id": "98b43da6",
   "metadata": {},
   "outputs": [
    {
     "data": {
      "text/plain": [
       "'b'"
      ]
     },
     "execution_count": 106,
     "metadata": {},
     "output_type": "execute_result"
    }
   ],
   "source": [
    "sea[1]"
   ]
  },
  {
   "cell_type": "code",
   "execution_count": 107,
   "id": "e33199fe",
   "metadata": {},
   "outputs": [
    {
     "data": {
      "text/plain": [
       "<enumerate at 0x1fe16305f80>"
      ]
     },
     "execution_count": 107,
     "metadata": {},
     "output_type": "execute_result"
    }
   ],
   "source": [
    "enumerate(sea)"
   ]
  },
  {
   "cell_type": "code",
   "execution_count": 108,
   "id": "182dba32",
   "metadata": {},
   "outputs": [
    {
     "data": {
      "text/plain": [
       "[(0, 'a'), (1, 'b'), (2, 'c'), (3, 'd')]"
      ]
     },
     "execution_count": 108,
     "metadata": {},
     "output_type": "execute_result"
    }
   ],
   "source": [
    "list(enumerate(sea))"
   ]
  },
  {
   "cell_type": "code",
   "execution_count": 109,
   "id": "c1562e88",
   "metadata": {},
   "outputs": [
    {
     "data": {
      "text/plain": [
       "[(0, 'a'), (1, 'b'), (2, 'c')]"
      ]
     },
     "execution_count": 109,
     "metadata": {},
     "output_type": "execute_result"
    }
   ],
   "source": [
    "x = ('a', 'b', 'c')\n",
    "y = enumerate(x)\n",
    "list(y)"
   ]
  },
  {
   "cell_type": "code",
   "execution_count": 110,
   "id": "2d7ff52d",
   "metadata": {},
   "outputs": [
    {
     "data": {
      "text/plain": [
       "1"
      ]
     },
     "execution_count": 110,
     "metadata": {},
     "output_type": "execute_result"
    }
   ],
   "source": [
    "# eval()\n",
    "\n",
    "x = 1\n",
    "x"
   ]
  },
  {
   "cell_type": "code",
   "execution_count": 111,
   "id": "c601c96e",
   "metadata": {},
   "outputs": [
    {
     "data": {
      "text/plain": [
       "2"
      ]
     },
     "execution_count": 111,
     "metadata": {},
     "output_type": "execute_result"
    }
   ],
   "source": [
    "x + 1"
   ]
  },
  {
   "cell_type": "code",
   "execution_count": 112,
   "id": "6d21a94c",
   "metadata": {},
   "outputs": [
    {
     "data": {
      "text/plain": [
       "'x + 1'"
      ]
     },
     "execution_count": 112,
     "metadata": {},
     "output_type": "execute_result"
    }
   ],
   "source": [
    "a = 'x + 1'\n",
    "a"
   ]
  },
  {
   "cell_type": "code",
   "execution_count": 113,
   "id": "97be0dcc",
   "metadata": {},
   "outputs": [
    {
     "data": {
      "text/plain": [
       "2"
      ]
     },
     "execution_count": 113,
     "metadata": {},
     "output_type": "execute_result"
    }
   ],
   "source": [
    "eval(a) # 문자열을 없애고, 변수처럼 계산해줌"
   ]
  },
  {
   "cell_type": "code",
   "execution_count": 114,
   "id": "d14c0ffe",
   "metadata": {},
   "outputs": [
    {
     "data": {
      "text/plain": [
       "'print(55)'"
      ]
     },
     "execution_count": 114,
     "metadata": {},
     "output_type": "execute_result"
    }
   ],
   "source": [
    "x = 'print(55)'\n",
    "x"
   ]
  },
  {
   "cell_type": "code",
   "execution_count": 115,
   "id": "ee6585a8",
   "metadata": {},
   "outputs": [
    {
     "name": "stdout",
     "output_type": "stream",
     "text": [
      "55\n"
     ]
    }
   ],
   "source": [
    "eval(x)"
   ]
  },
  {
   "cell_type": "code",
   "execution_count": 116,
   "id": "86336e24",
   "metadata": {},
   "outputs": [
    {
     "data": {
      "text/plain": [
       "132"
      ]
     },
     "execution_count": 116,
     "metadata": {},
     "output_type": "execute_result"
    }
   ],
   "source": [
    "b = eval('100 + 32')\n",
    "b"
   ]
  },
  {
   "cell_type": "code",
   "execution_count": 117,
   "id": "814993ad",
   "metadata": {},
   "outputs": [],
   "source": [
    "# filter() 자주 사용; 함수와 iterable을 넣어줌\n",
    "\n",
    "ages = [5, 12, 17, 18, 24, 32]\n",
    "\n",
    "def myfunc(x):\n",
    "    if x < 18:\n",
    "        return False\n",
    "    else:\n",
    "        return True"
   ]
  },
  {
   "cell_type": "code",
   "execution_count": 118,
   "id": "0f0920ea",
   "metadata": {},
   "outputs": [
    {
     "data": {
      "text/plain": [
       "False"
      ]
     },
     "execution_count": 118,
     "metadata": {},
     "output_type": "execute_result"
    }
   ],
   "source": [
    "myfunc(5)"
   ]
  },
  {
   "cell_type": "code",
   "execution_count": 119,
   "id": "3a4e2412",
   "metadata": {},
   "outputs": [],
   "source": [
    "# myfunc(ages) # 리스트를 넣으면 동작하지 않음"
   ]
  },
  {
   "cell_type": "code",
   "execution_count": 120,
   "id": "2476ac80",
   "metadata": {},
   "outputs": [
    {
     "data": {
      "text/plain": [
       "[18, 24, 32]"
      ]
     },
     "execution_count": 120,
     "metadata": {},
     "output_type": "execute_result"
    }
   ],
   "source": [
    "list(filter(myfunc, ages))\n",
    "# iterable(리스트형)를 함수에 넣어서 데이터를 찾아옴\n",
    "# T/F로만 구성된 함수에서 T만 출력하는 데이터를 찾아옴"
   ]
  },
  {
   "cell_type": "code",
   "execution_count": 121,
   "id": "88e70ba9",
   "metadata": {},
   "outputs": [
    {
     "data": {
      "text/plain": [
       "[1, 2, 3, 4, 5, 6, 7, 8, 9, 10]"
      ]
     },
     "execution_count": 121,
     "metadata": {},
     "output_type": "execute_result"
    }
   ],
   "source": [
    "target = list(range(1, 11))\n",
    "target"
   ]
  },
  {
   "cell_type": "code",
   "execution_count": 122,
   "id": "d59a6de6",
   "metadata": {},
   "outputs": [],
   "source": [
    "# 짝수만 골라내기\n",
    "\n",
    "def is_even(n):\n",
    "    return True if n%2 ==0 else False"
   ]
  },
  {
   "cell_type": "code",
   "execution_count": 123,
   "id": "875db3ac",
   "metadata": {},
   "outputs": [
    {
     "data": {
      "text/plain": [
       "[2, 4, 6, 8, 10]"
      ]
     },
     "execution_count": 123,
     "metadata": {},
     "output_type": "execute_result"
    }
   ],
   "source": [
    "list(filter(is_even, target))"
   ]
  },
  {
   "cell_type": "code",
   "execution_count": 124,
   "id": "e11262fd",
   "metadata": {},
   "outputs": [
    {
     "data": {
      "text/plain": [
       "[2, 4, 6, 8, 10]"
      ]
     },
     "execution_count": 124,
     "metadata": {},
     "output_type": "execute_result"
    }
   ],
   "source": [
    "list(filter(lambda x : x % 2 == 0, list(range(1, 11))))\n",
    "# 한번만 사용한다면 함수를 정의할 필요 없이, 람다 사용"
   ]
  },
  {
   "cell_type": "code",
   "execution_count": 125,
   "id": "19589f2c",
   "metadata": {},
   "outputs": [
    {
     "data": {
      "text/plain": [
       "[5, 6, 6]"
      ]
     },
     "execution_count": 125,
     "metadata": {},
     "output_type": "execute_result"
    }
   ],
   "source": [
    "# map(function, iterable, ...); 매우 중요\n",
    "\n",
    "def myfunc(n):\n",
    "    return len(n)\n",
    "list(map(myfunc, ('apple', 'banana', 'cherry')))\n",
    "# "
   ]
  },
  {
   "cell_type": "code",
   "execution_count": 126,
   "id": "cc0f97d0",
   "metadata": {},
   "outputs": [
    {
     "data": {
      "text/plain": [
       "6"
      ]
     },
     "execution_count": 126,
     "metadata": {},
     "output_type": "execute_result"
    }
   ],
   "source": [
    "myfunc('banana')"
   ]
  },
  {
   "cell_type": "code",
   "execution_count": 127,
   "id": "1992ca5a",
   "metadata": {},
   "outputs": [
    {
     "data": {
      "text/plain": [
       "[2, 3, 4, 5, 6]"
      ]
     },
     "execution_count": 127,
     "metadata": {},
     "output_type": "execute_result"
    }
   ],
   "source": [
    "def myfunc2(n):\n",
    "    return n + 1\n",
    "target = [1, 2, 3, 4, 5]\n",
    "list(map(myfunc2, target))"
   ]
  },
  {
   "cell_type": "code",
   "execution_count": 128,
   "id": "8d795337",
   "metadata": {},
   "outputs": [
    {
     "data": {
      "text/plain": [
       "[2, 3, 4, 5, 6]"
      ]
     },
     "execution_count": 128,
     "metadata": {},
     "output_type": "execute_result"
    }
   ],
   "source": [
    "list(map(lambda x: x + 1, target))\n",
    "# 리스트의 첫번째를 x에 적용해서 도출된 값을 리스트에 쌓음"
   ]
  },
  {
   "cell_type": "code",
   "execution_count": 129,
   "id": "f9df33a9",
   "metadata": {},
   "outputs": [],
   "source": [
    "# lambda 함수; 함수의 일종, 임시로 한번만 쓰는 함수"
   ]
  },
  {
   "cell_type": "code",
   "execution_count": 130,
   "id": "88fcd858",
   "metadata": {},
   "outputs": [
    {
     "data": {
      "text/plain": [
       "15"
      ]
     },
     "execution_count": 130,
     "metadata": {},
     "output_type": "execute_result"
    }
   ],
   "source": [
    "def x(a):\n",
    "    return a + 10\n",
    "x(5)"
   ]
  },
  {
   "cell_type": "code",
   "execution_count": 131,
   "id": "b268cd31",
   "metadata": {},
   "outputs": [
    {
     "data": {
      "text/plain": [
       "15"
      ]
     },
     "execution_count": 131,
     "metadata": {},
     "output_type": "execute_result"
    }
   ],
   "source": [
    "y = lambda a: a + 10\n",
    "y(5)"
   ]
  },
  {
   "cell_type": "code",
   "execution_count": 132,
   "id": "8a94579c",
   "metadata": {},
   "outputs": [
    {
     "data": {
      "text/plain": [
       "15"
      ]
     },
     "execution_count": 132,
     "metadata": {},
     "output_type": "execute_result"
    }
   ],
   "source": [
    "(lambda a: a + 10)(5)"
   ]
  },
  {
   "cell_type": "code",
   "execution_count": 133,
   "id": "7f44d103",
   "metadata": {},
   "outputs": [
    {
     "data": {
      "text/plain": [
       "30"
      ]
     },
     "execution_count": 133,
     "metadata": {},
     "output_type": "execute_result"
    }
   ],
   "source": [
    "(lambda a, b: a * b)(5, 6)"
   ]
  },
  {
   "cell_type": "code",
   "execution_count": 134,
   "id": "5fcb9f6e",
   "metadata": {},
   "outputs": [
    {
     "data": {
      "text/plain": [
       "22"
      ]
     },
     "execution_count": 134,
     "metadata": {},
     "output_type": "execute_result"
    }
   ],
   "source": [
    "def myfunc(n):\n",
    "    return lambda a: a * n\n",
    "myfunc(2)(11)"
   ]
  },
  {
   "cell_type": "code",
   "execution_count": 135,
   "id": "d56ae27f",
   "metadata": {},
   "outputs": [
    {
     "data": {
      "text/plain": [
       "22"
      ]
     },
     "execution_count": 135,
     "metadata": {},
     "output_type": "execute_result"
    }
   ],
   "source": [
    "(lambda a: a * 2)(11) # 위 함수와 같음"
   ]
  },
  {
   "cell_type": "code",
   "execution_count": 136,
   "id": "55b8485a",
   "metadata": {},
   "outputs": [
    {
     "data": {
      "text/plain": [
       "[1, 2, 3]"
      ]
     },
     "execution_count": 136,
     "metadata": {},
     "output_type": "execute_result"
    }
   ],
   "source": [
    "# zip()\n",
    "\n",
    "x = list(range(1, 4))\n",
    "x"
   ]
  },
  {
   "cell_type": "code",
   "execution_count": 137,
   "id": "08c68b8b",
   "metadata": {},
   "outputs": [
    {
     "data": {
      "text/plain": [
       "[4, 5, 6]"
      ]
     },
     "execution_count": 137,
     "metadata": {},
     "output_type": "execute_result"
    }
   ],
   "source": [
    "y = list(range(4, 7))\n",
    "y"
   ]
  },
  {
   "cell_type": "code",
   "execution_count": 138,
   "id": "0e92d2f9",
   "metadata": {},
   "outputs": [
    {
     "name": "stdout",
     "output_type": "stream",
     "text": [
      "x =  [1, 2, 3]\n",
      "y =  [4, 5, 6]\n"
     ]
    }
   ],
   "source": [
    "print('x = ', x)\n",
    "print('y = ', y)"
   ]
  },
  {
   "cell_type": "code",
   "execution_count": 139,
   "id": "5afd8127",
   "metadata": {},
   "outputs": [],
   "source": [
    "# 같은 인덱스의 요소끼리 묶어줌\n",
    "# 갯수가 다르면 같은 인덱스까지만 묶음"
   ]
  },
  {
   "cell_type": "code",
   "execution_count": 140,
   "id": "c1086936",
   "metadata": {},
   "outputs": [],
   "source": [
    "# list, dict, tup, set method\n",
    "\n",
    "# lst; append, copy, count, extend, insert\n",
    "# dict; copy, items, keys, value\n",
    "# set; union difference intersection"
   ]
  }
 ],
 "metadata": {
  "kernelspec": {
   "display_name": "Python 3",
   "language": "python",
   "name": "python3"
  },
  "language_info": {
   "codemirror_mode": {
    "name": "ipython",
    "version": 3
   },
   "file_extension": ".py",
   "mimetype": "text/x-python",
   "name": "python",
   "nbconvert_exporter": "python",
   "pygments_lexer": "ipython3",
   "version": "3.8.8"
  }
 },
 "nbformat": 4,
 "nbformat_minor": 5
}
