{
 "cells": [
  {
   "cell_type": "markdown",
   "id": "1a275832",
   "metadata": {},
   "source": [
    "# 2021-07-26"
   ]
  },
  {
   "cell_type": "markdown",
   "id": "e7b6d3c5",
   "metadata": {},
   "source": [
    "## 01 변수"
   ]
  },
  {
   "cell_type": "markdown",
   "id": "9f887f73",
   "metadata": {},
   "source": [
    "변수; 입력되는 데이터는 고정적이지 않음. 데이터가 저장되는 방의 이름."
   ]
  },
  {
   "cell_type": "code",
   "execution_count": 1,
   "id": "fc872262",
   "metadata": {},
   "outputs": [],
   "source": [
    "## 변수에 값 할당\n",
    "# 변수이름 = 값\n",
    "temp = 2"
   ]
  },
  {
   "cell_type": "code",
   "execution_count": 2,
   "id": "1eec6d48",
   "metadata": {},
   "outputs": [
    {
     "data": {
      "text/plain": [
       "2"
      ]
     },
     "execution_count": 2,
     "metadata": {},
     "output_type": "execute_result"
    }
   ],
   "source": [
    "temp # 변수명만 입력해도 출력"
   ]
  },
  {
   "cell_type": "code",
   "execution_count": 3,
   "id": "d9306084",
   "metadata": {},
   "outputs": [
    {
     "name": "stdout",
     "output_type": "stream",
     "text": [
      "2\n"
     ]
    }
   ],
   "source": [
    "print(temp)"
   ]
  },
  {
   "cell_type": "markdown",
   "id": "af76c715",
   "metadata": {},
   "source": [
    "변수이름 부여 규칙\n",
    "변수명 = 값, 함수, 객체 등\n",
    "1. 영문 대(A~Z)소(a~z)문자, 숫자(0~9), _(언더바) 의 조합\n",
    "2. 숫자가 맨 처음에 올 수 없음; 1temp 등\n",
    "3. 변수명에서는 대소문자 구분; Temp != temp\n",
    "4. ; 은 띄어쓰기, 줄 바꿈을 한 줄로 표현\n",
    "5. 파이썬의 기본 명령어는 변수명으로 사용을 권장하지 않음"
   ]
  },
  {
   "cell_type": "code",
   "execution_count": 4,
   "id": "deba4033",
   "metadata": {},
   "outputs": [
    {
     "name": "stdout",
     "output_type": "stream",
     "text": [
      "['False', 'None', 'True', 'and', 'as', 'assert', 'async', 'await', 'break', 'class', 'continue', 'def', 'del', 'elif', 'else', 'except', 'finally', 'for', 'from', 'global', 'if', 'import', 'in', 'is', 'lambda', 'nonlocal', 'not', 'or', 'pass', 'raise', 'return', 'try', 'while', 'with', 'yield']\n"
     ]
    }
   ],
   "source": [
    "import keyword\n",
    "print(keyword.kwlist) # 기본 명령어 키워드 리스트"
   ]
  },
  {
   "cell_type": "code",
   "execution_count": 5,
   "id": "a671fb48",
   "metadata": {},
   "outputs": [
    {
     "name": "stdout",
     "output_type": "stream",
     "text": [
      "15\n",
      "-1\n",
      "56\n",
      "0.875\n",
      "0\n",
      "7\n",
      "7\n",
      "5764801\n",
      "i =  0\n",
      "i =  10\n",
      "i =  20\n",
      "i =  30\n",
      "i =  40\n",
      "i =  50\n",
      "i =  60\n",
      "i =  70\n",
      "i =  80\n",
      "i =  90\n"
     ]
    }
   ],
   "source": [
    "a = 7 ; b = 8 # 두 줄로 표현할 내용을 한 줄로 표현 가능\n",
    "print(a+b)\n",
    "print(a-b)\n",
    "print(a*b)\n",
    "print(a/b)\n",
    "\n",
    "type(a) # 데이터 유형\n",
    "\n",
    "print(a//b) # 나누기의 몫\n",
    "print(a%b) # 나누기의 나머지\n",
    "print(a%b) == 0 # 중요, 반복문에서 활용\n",
    "print(a**b) # 제곱\n",
    "\n",
    "for i in range(0, 100):\n",
    "    if i%10 == 0: # 10개 단위로 출력하도록\n",
    "        print('i = ', i)"
   ]
  },
  {
   "cell_type": "code",
   "execution_count": 6,
   "id": "2ef1b705",
   "metadata": {},
   "outputs": [
    {
     "name": "stdout",
     "output_type": "stream",
     "text": [
      "5\n",
      "9\n",
      "a+b =  14\n",
      "a-b = -4\n",
      "a*b = 5 * 9 = 45\n",
      "a*b = 5 * 9 = 45\n",
      "a*b = 9 * 5 = 45\n",
      "a/b = 5 / 9 = 0.555556\n"
     ]
    }
   ],
   "source": [
    "a = 5 ; b = 9\n",
    "\n",
    "print(a);print(b) # 한 줄 표현\n",
    "\n",
    "print('a+b = ', a+b)\n",
    "print('a-b = {}'.format(a-b)) # 중괄호 부분을 포맷문에서 가져옴\n",
    "print('a*b = {} * {} = {}'.format(a, b, a*b))\n",
    "print('a*b = {0} * {1} = {2}'.format(a, b, a*b)) # 순서 지정\n",
    "print('a*b = {1} * {0} = {2}'.format(a, b, a*b)) # 순서 변환 가능\n",
    "print('a/b = %d / %d = %f'%(a, b, a/b)) # %d 정수(int), %f 실수(소수점)\n",
    "# shift + tab 으로 함수기능 설명 확인 가능"
   ]
  },
  {
   "cell_type": "code",
   "execution_count": 7,
   "id": "2e1affc8",
   "metadata": {},
   "outputs": [
    {
     "name": "stdout",
     "output_type": "stream",
     "text": [
      "5\n"
     ]
    }
   ],
   "source": [
    "a = 4\n",
    "a + int('1') # 정수 변환 함수\n",
    "print(a + int('1'))"
   ]
  },
  {
   "cell_type": "code",
   "execution_count": 8,
   "id": "e8030f59",
   "metadata": {},
   "outputs": [],
   "source": [
    "a = 4\n",
    "del a # 설정한 변수 삭제하는 기본 명령어, ()가 있다면 함수"
   ]
  },
  {
   "cell_type": "code",
   "execution_count": 9,
   "id": "d7b17109",
   "metadata": {},
   "outputs": [],
   "source": [
    "temp = 'python is easy' #  \"python is easy\" 문자열 인식"
   ]
  },
  {
   "cell_type": "code",
   "execution_count": 10,
   "id": "8fd0d4bd",
   "metadata": {},
   "outputs": [
    {
     "data": {
      "text/plain": [
       "'python is easy'"
      ]
     },
     "execution_count": 10,
     "metadata": {},
     "output_type": "execute_result"
    }
   ],
   "source": [
    "temp # 저장된 변수 그대로 출력"
   ]
  },
  {
   "cell_type": "code",
   "execution_count": 11,
   "id": "86e3f2bf",
   "metadata": {},
   "outputs": [
    {
     "name": "stdout",
     "output_type": "stream",
     "text": [
      "python is easy\n"
     ]
    }
   ],
   "source": [
    "print(temp) # '' 마크 없이 출력"
   ]
  },
  {
   "cell_type": "code",
   "execution_count": 12,
   "id": "e6a0c1a8",
   "metadata": {},
   "outputs": [
    {
     "data": {
      "text/plain": [
       "14"
      ]
     },
     "execution_count": 12,
     "metadata": {},
     "output_type": "execute_result"
    }
   ],
   "source": [
    "len(temp) # 문자열 길이"
   ]
  },
  {
   "cell_type": "code",
   "execution_count": 13,
   "id": "a345ca78",
   "metadata": {},
   "outputs": [
    {
     "data": {
      "text/plain": [
       "'python is easy'"
      ]
     },
     "execution_count": 13,
     "metadata": {},
     "output_type": "execute_result"
    }
   ],
   "source": [
    "'python ' + 'is easy' # 문자열 결합"
   ]
  },
  {
   "cell_type": "code",
   "execution_count": 14,
   "id": "ed99484a",
   "metadata": {},
   "outputs": [
    {
     "data": {
      "text/plain": [
       "'python is easy'"
      ]
     },
     "execution_count": 14,
     "metadata": {},
     "output_type": "execute_result"
    }
   ],
   "source": [
    "a = 'python '\n",
    "b = 'is easy'\n",
    "a + b # 연산하는 데이터 유형이 동일해야 연산"
   ]
  },
  {
   "cell_type": "code",
   "execution_count": 15,
   "id": "c184c374",
   "metadata": {},
   "outputs": [
    {
     "data": {
      "text/plain": [
       "'h'"
      ]
     },
     "execution_count": 15,
     "metadata": {},
     "output_type": "execute_result"
    }
   ],
   "source": [
    "# index[]; 문자열의 주소. 0부터 시작.\n",
    "# var[n]\n",
    "temp[3]"
   ]
  },
  {
   "cell_type": "code",
   "execution_count": 16,
   "id": "f8b74990",
   "metadata": {},
   "outputs": [
    {
     "data": {
      "text/plain": [
       "'pytho'"
      ]
     },
     "execution_count": 16,
     "metadata": {},
     "output_type": "execute_result"
    }
   ],
   "source": [
    "# 슬라이스; a부터 b까지 복사\n",
    "# var[a:b+1]\n",
    "temp[0:5]"
   ]
  },
  {
   "cell_type": "code",
   "execution_count": 17,
   "id": "44c6720d",
   "metadata": {},
   "outputs": [
    {
     "data": {
      "text/plain": [
       "'pytho'"
      ]
     },
     "execution_count": 17,
     "metadata": {},
     "output_type": "execute_result"
    }
   ],
   "source": [
    "st = 0 ; en = 5\n",
    "temp[st:en] # 인덱스 위치에 변수 설정 가능"
   ]
  },
  {
   "cell_type": "code",
   "execution_count": 18,
   "id": "e22026e0",
   "metadata": {},
   "outputs": [
    {
     "data": {
      "text/plain": [
       "'python is easy'"
      ]
     },
     "execution_count": 18,
     "metadata": {},
     "output_type": "execute_result"
    }
   ],
   "source": [
    "temp[:] # 시작부터 끝까지"
   ]
  },
  {
   "cell_type": "code",
   "execution_count": 19,
   "id": "4efbc579",
   "metadata": {},
   "outputs": [
    {
     "data": {
      "text/plain": [
       "'hon is easy'"
      ]
     },
     "execution_count": 19,
     "metadata": {},
     "output_type": "execute_result"
    }
   ],
   "source": [
    "temp[3:] # 3부터 끝까지"
   ]
  },
  {
   "cell_type": "code",
   "execution_count": 20,
   "id": "7722a2e5",
   "metadata": {},
   "outputs": [
    {
     "data": {
      "text/plain": [
       "'python is e'"
      ]
     },
     "execution_count": 20,
     "metadata": {},
     "output_type": "execute_result"
    }
   ],
   "source": [
    "temp[:-3] # 처음부터 -3 까지"
   ]
  },
  {
   "cell_type": "code",
   "execution_count": 21,
   "id": "c4a99365",
   "metadata": {},
   "outputs": [
    {
     "data": {
      "text/plain": [
       "'pto ses'"
      ]
     },
     "execution_count": 21,
     "metadata": {},
     "output_type": "execute_result"
    }
   ],
   "source": [
    "temp[::2] # 2 씩(step) 건너뛰어서"
   ]
  },
  {
   "cell_type": "code",
   "execution_count": 22,
   "id": "fd08b92e",
   "metadata": {},
   "outputs": [
    {
     "data": {
      "text/plain": [
       "'is'"
      ]
     },
     "execution_count": 22,
     "metadata": {},
     "output_type": "execute_result"
    }
   ],
   "source": [
    "temp[7:9] # is 출력"
   ]
  },
  {
   "cell_type": "code",
   "execution_count": 23,
   "id": "a3d3a5e0",
   "metadata": {},
   "outputs": [
    {
     "data": {
      "text/plain": [
       "str"
      ]
     },
     "execution_count": 23,
     "metadata": {},
     "output_type": "execute_result"
    }
   ],
   "source": [
    "type(temp)"
   ]
  },
  {
   "cell_type": "markdown",
   "id": "200e2f16",
   "metadata": {},
   "source": [
    "temp. # +tab 데이터 유형에 따른 가능한 메소드 확인"
   ]
  },
  {
   "cell_type": "code",
   "execution_count": 24,
   "id": "9baa7fc6",
   "metadata": {},
   "outputs": [
    {
     "data": {
      "text/plain": [
       "['python', 'is', 'easy']"
      ]
     },
     "execution_count": 24,
     "metadata": {},
     "output_type": "execute_result"
    }
   ],
   "source": [
    "temp.split() # 변수의 값을 리스트로 나누어 줌\n",
    "# 기본 옵션은 띄어쓰기 기준으로\n",
    "# 문자열 변수에만 사용가능"
   ]
  },
  {
   "cell_type": "code",
   "execution_count": 25,
   "id": "dfd10d0f",
   "metadata": {},
   "outputs": [
    {
     "data": {
      "text/plain": [
       "'python,java,R,SAS'"
      ]
     },
     "execution_count": 25,
     "metadata": {},
     "output_type": "execute_result"
    }
   ],
   "source": [
    "temp2 = 'python,java,R,SAS'\n",
    "temp2"
   ]
  },
  {
   "cell_type": "code",
   "execution_count": 26,
   "id": "1659d386",
   "metadata": {},
   "outputs": [
    {
     "data": {
      "text/plain": [
       "['python', 'java', 'R', 'SAS']"
      ]
     },
     "execution_count": 26,
     "metadata": {},
     "output_type": "execute_result"
    }
   ],
   "source": [
    "temp2.split(',') # , 를 기준으로"
   ]
  },
  {
   "cell_type": "code",
   "execution_count": 27,
   "id": "1c31aab5",
   "metadata": {},
   "outputs": [
    {
     "data": {
      "text/plain": [
       "'localhost:8888/notebooks/0.jhpark_class/210726_basic_class.ipyn'"
      ]
     },
     "execution_count": 27,
     "metadata": {},
     "output_type": "execute_result"
    }
   ],
   "source": [
    "aa = \"localhost:8888/notebooks/0.jhpark_class/210726_basic_class.ipyn\"\n",
    "aa"
   ]
  },
  {
   "cell_type": "code",
   "execution_count": 28,
   "id": "ce3373af",
   "metadata": {},
   "outputs": [
    {
     "data": {
      "text/plain": [
       "'210726_basic_class.ipyn'"
      ]
     },
     "execution_count": 28,
     "metadata": {},
     "output_type": "execute_result"
    }
   ],
   "source": [
    "aa.split('/')[-1] # / 기준으로 자른 것 중 마지막 값"
   ]
  },
  {
   "cell_type": "code",
   "execution_count": 29,
   "id": "56cb6ec8",
   "metadata": {},
   "outputs": [
    {
     "data": {
      "text/plain": [
       "['python', 'java', 'R', 'SAS']"
      ]
     },
     "execution_count": 29,
     "metadata": {},
     "output_type": "execute_result"
    }
   ],
   "source": [
    "temp3 = temp2.split(',')\n",
    "temp3"
   ]
  },
  {
   "cell_type": "code",
   "execution_count": 30,
   "id": "982f7246",
   "metadata": {},
   "outputs": [
    {
     "data": {
      "text/plain": [
       "'python,java,R,SAS'"
      ]
     },
     "execution_count": 30,
     "metadata": {},
     "output_type": "execute_result"
    }
   ],
   "source": [
    "# join() 문자열 합치기\n",
    "','.join(temp3) # , 를 기준으로 문자열 합치기"
   ]
  },
  {
   "cell_type": "markdown",
   "id": "0010cc4b",
   "metadata": {},
   "source": [
    "### 02 데이터 구조 ; 리스트, 튜플, 딕셔너리"
   ]
  },
  {
   "cell_type": "code",
   "execution_count": 31,
   "id": "87ed9212",
   "metadata": {},
   "outputs": [
    {
     "name": "stdout",
     "output_type": "stream",
     "text": [
      "['one', 'two', 'three', 'four']\n"
     ]
    }
   ],
   "source": [
    "# 리스트(대괄호)\n",
    "num = ['one', 'two', 'three', 'four']\n",
    "print(num)"
   ]
  },
  {
   "cell_type": "code",
   "execution_count": 32,
   "id": "7e904daf",
   "metadata": {},
   "outputs": [
    {
     "data": {
      "text/plain": [
       "list"
      ]
     },
     "execution_count": 32,
     "metadata": {},
     "output_type": "execute_result"
    }
   ],
   "source": [
    "type(num)"
   ]
  },
  {
   "cell_type": "code",
   "execution_count": 33,
   "id": "47272bb2",
   "metadata": {},
   "outputs": [
    {
     "data": {
      "text/plain": [
       "[1, 2, 3, 4, 5]"
      ]
     },
     "execution_count": 33,
     "metadata": {},
     "output_type": "execute_result"
    }
   ],
   "source": [
    "num1 = [1, 2, 3, 4, 5]\n",
    "num1"
   ]
  },
  {
   "cell_type": "code",
   "execution_count": 34,
   "id": "f4baa097",
   "metadata": {},
   "outputs": [
    {
     "data": {
      "text/plain": [
       "list"
      ]
     },
     "execution_count": 34,
     "metadata": {},
     "output_type": "execute_result"
    }
   ],
   "source": [
    "type(num1)"
   ]
  },
  {
   "cell_type": "code",
   "execution_count": 35,
   "id": "516c529e",
   "metadata": {},
   "outputs": [
    {
     "data": {
      "text/plain": [
       "int"
      ]
     },
     "execution_count": 35,
     "metadata": {},
     "output_type": "execute_result"
    }
   ],
   "source": [
    "type(num1[0])"
   ]
  },
  {
   "cell_type": "code",
   "execution_count": 36,
   "id": "54476edc",
   "metadata": {},
   "outputs": [
    {
     "data": {
      "text/plain": [
       "str"
      ]
     },
     "execution_count": 36,
     "metadata": {},
     "output_type": "execute_result"
    }
   ],
   "source": [
    "type(num[0])"
   ]
  },
  {
   "cell_type": "code",
   "execution_count": 37,
   "id": "fd1315cf",
   "metadata": {},
   "outputs": [
    {
     "data": {
      "text/plain": [
       "('one', 'two', 'three', 'four')"
      ]
     },
     "execution_count": 37,
     "metadata": {},
     "output_type": "execute_result"
    }
   ],
   "source": [
    "# list() ; 구조를 리스트로 변경\n",
    "num_t = ('one', 'two', 'three', 'four')\n",
    "num_t"
   ]
  },
  {
   "cell_type": "code",
   "execution_count": 38,
   "id": "f0f9ce0a",
   "metadata": {},
   "outputs": [
    {
     "data": {
      "text/plain": [
       "['one', 'two', 'three', 'four']"
      ]
     },
     "execution_count": 38,
     "metadata": {},
     "output_type": "execute_result"
    }
   ],
   "source": [
    "list(num_t)"
   ]
  },
  {
   "cell_type": "code",
   "execution_count": 39,
   "id": "37bb7b8f",
   "metadata": {},
   "outputs": [
    {
     "data": {
      "text/plain": [
       "tuple"
      ]
     },
     "execution_count": 39,
     "metadata": {},
     "output_type": "execute_result"
    }
   ],
   "source": [
    "type(num_t)"
   ]
  },
  {
   "cell_type": "code",
   "execution_count": 40,
   "id": "69586b7f",
   "metadata": {},
   "outputs": [
    {
     "data": {
      "text/plain": [
       "list"
      ]
     },
     "execution_count": 40,
     "metadata": {},
     "output_type": "execute_result"
    }
   ],
   "source": [
    "num_t = list(num_t) # 영구적으로 변경\n",
    "type(num_t)"
   ]
  },
  {
   "cell_type": "code",
   "execution_count": 41,
   "id": "b753f7ea",
   "metadata": {},
   "outputs": [
    {
     "data": {
      "text/plain": [
       "['a', 'b', 'c', 'd', 'e']"
      ]
     },
     "execution_count": 41,
     "metadata": {},
     "output_type": "execute_result"
    }
   ],
   "source": [
    "# literable; 리스트, 튜플, 딕셔너리. 반복구조의 형태.\n",
    "bb = 'abcde'\n",
    "list(bb)"
   ]
  },
  {
   "cell_type": "code",
   "execution_count": 42,
   "id": "9a9bb80b",
   "metadata": {},
   "outputs": [
    {
     "data": {
      "text/plain": [
       "'two'"
      ]
     },
     "execution_count": 42,
     "metadata": {},
     "output_type": "execute_result"
    }
   ],
   "source": [
    "# 리스트의 인덱스, 슬라이스\n",
    "num[1]"
   ]
  },
  {
   "cell_type": "code",
   "execution_count": 43,
   "id": "b8e2a0ca",
   "metadata": {},
   "outputs": [
    {
     "data": {
      "text/plain": [
       "['three', 'four']"
      ]
     },
     "execution_count": 43,
     "metadata": {},
     "output_type": "execute_result"
    }
   ],
   "source": [
    "num[2:4] # 2~3 인덱스까지"
   ]
  },
  {
   "cell_type": "code",
   "execution_count": 44,
   "id": "0febab9a",
   "metadata": {},
   "outputs": [
    {
     "data": {
      "text/plain": [
       "['four']"
      ]
     },
     "execution_count": 44,
     "metadata": {},
     "output_type": "execute_result"
    }
   ],
   "source": [
    "num[3:8] # 8은 없으니까 끝가지"
   ]
  },
  {
   "cell_type": "code",
   "execution_count": 45,
   "id": "27996710",
   "metadata": {},
   "outputs": [],
   "source": [
    "# num[7] # 없는 인덱스라 오류"
   ]
  },
  {
   "cell_type": "code",
   "execution_count": 46,
   "id": "c0306554",
   "metadata": {},
   "outputs": [
    {
     "data": {
      "text/plain": [
       "4"
      ]
     },
     "execution_count": 46,
     "metadata": {},
     "output_type": "execute_result"
    }
   ],
   "source": [
    "len(num) # 리스트의 항목 개수(인덱스)도 확인 가능"
   ]
  },
  {
   "cell_type": "code",
   "execution_count": 47,
   "id": "67a0afcf",
   "metadata": {},
   "outputs": [
    {
     "data": {
      "text/plain": [
       "['first', 'two', 'three', 'four']"
      ]
     },
     "execution_count": 47,
     "metadata": {},
     "output_type": "execute_result"
    }
   ],
   "source": [
    "num[0] = 'first' ; num"
   ]
  },
  {
   "cell_type": "code",
   "execution_count": 48,
   "id": "3670ad03",
   "metadata": {},
   "outputs": [
    {
     "data": {
      "text/plain": [
       "['first', 'two', 'three', 'four', 'five']"
      ]
     },
     "execution_count": 48,
     "metadata": {},
     "output_type": "execute_result"
    }
   ],
   "source": [
    "num.append('five'); num # 값 추가"
   ]
  },
  {
   "cell_type": "code",
   "execution_count": 49,
   "id": "9d965e9b",
   "metadata": {},
   "outputs": [],
   "source": [
    "new = [] # 값이 몇개가 들어갈지 모를 때 쌓을 수 있음"
   ]
  },
  {
   "cell_type": "code",
   "execution_count": 50,
   "id": "cbb61c90",
   "metadata": {},
   "outputs": [
    {
     "data": {
      "text/plain": [
       "list"
      ]
     },
     "execution_count": 50,
     "metadata": {},
     "output_type": "execute_result"
    }
   ],
   "source": [
    "type(new) # 공란이어도 리스트의 기능 할당"
   ]
  },
  {
   "cell_type": "code",
   "execution_count": 51,
   "id": "d7bd4d15",
   "metadata": {},
   "outputs": [],
   "source": [
    "new.append(1)"
   ]
  },
  {
   "cell_type": "code",
   "execution_count": 52,
   "id": "71d7e5ad",
   "metadata": {},
   "outputs": [],
   "source": [
    "new.append(2)"
   ]
  },
  {
   "cell_type": "code",
   "execution_count": 53,
   "id": "17413427",
   "metadata": {},
   "outputs": [],
   "source": [
    "new.append(3)"
   ]
  },
  {
   "cell_type": "code",
   "execution_count": 54,
   "id": "229127e8",
   "metadata": {},
   "outputs": [
    {
     "data": {
      "text/plain": [
       "[1, 2, 3]"
      ]
     },
     "execution_count": 54,
     "metadata": {},
     "output_type": "execute_result"
    }
   ],
   "source": [
    "new"
   ]
  },
  {
   "cell_type": "code",
   "execution_count": 55,
   "id": "8666cdf2",
   "metadata": {},
   "outputs": [
    {
     "data": {
      "text/plain": [
       "'two'"
      ]
     },
     "execution_count": 55,
     "metadata": {},
     "output_type": "execute_result"
    }
   ],
   "source": [
    "num[1] # 변수명이기도 하면서 객체"
   ]
  },
  {
   "cell_type": "code",
   "execution_count": 56,
   "id": "a2993d59",
   "metadata": {},
   "outputs": [
    {
     "data": {
      "text/plain": [
       "['first', 'three', 'four', 'five']"
      ]
     },
     "execution_count": 56,
     "metadata": {},
     "output_type": "execute_result"
    }
   ],
   "source": [
    "del num[1]; num # 데이터 삭제하면서 인덱스 자리 채움"
   ]
  },
  {
   "cell_type": "code",
   "execution_count": 57,
   "id": "d8acf0ae",
   "metadata": {},
   "outputs": [
    {
     "data": {
      "text/plain": [
       "['first', 'four', 'five']"
      ]
     },
     "execution_count": 57,
     "metadata": {},
     "output_type": "execute_result"
    }
   ],
   "source": [
    "num.remove('three') ; num # 지우고 싶은 값 지움"
   ]
  },
  {
   "cell_type": "code",
   "execution_count": 58,
   "id": "02695059",
   "metadata": {},
   "outputs": [],
   "source": [
    "num4 = [6, 7, 8, 9]"
   ]
  },
  {
   "cell_type": "code",
   "execution_count": 59,
   "id": "0d397e17",
   "metadata": {},
   "outputs": [
    {
     "data": {
      "text/plain": [
       "['one', 'two', 'three', 'four']"
      ]
     },
     "execution_count": 59,
     "metadata": {},
     "output_type": "execute_result"
    }
   ],
   "source": [
    "num_t"
   ]
  },
  {
   "cell_type": "code",
   "execution_count": 60,
   "id": "92e3ccc5",
   "metadata": {},
   "outputs": [],
   "source": [
    "num_t.extend(num4) # 리스트를 합침. 앞의 리스트에 뒤의 리스트 합침"
   ]
  },
  {
   "cell_type": "code",
   "execution_count": 61,
   "id": "85a5215c",
   "metadata": {},
   "outputs": [
    {
     "data": {
      "text/plain": [
       "['one', 'two', 'three', 'four', 6, 7, 8, 9]"
      ]
     },
     "execution_count": 61,
     "metadata": {},
     "output_type": "execute_result"
    }
   ],
   "source": [
    "num_t"
   ]
  },
  {
   "cell_type": "code",
   "execution_count": 62,
   "id": "a0a625e5",
   "metadata": {},
   "outputs": [],
   "source": [
    "# sort() ; 정렬하여 변경. 자료 유형이 같아야 정렬 가능\n",
    "# sorted() ; 변수 수정하지 않고 정렬\n",
    "# list.sort(reverse=True) ; 역순\n",
    "num = ['one', 'two', 'three', 'four', 'five']"
   ]
  },
  {
   "cell_type": "code",
   "execution_count": 63,
   "id": "623499ed",
   "metadata": {},
   "outputs": [
    {
     "data": {
      "text/plain": [
       "['five', 'four', 'one', 'three', 'two']"
      ]
     },
     "execution_count": 63,
     "metadata": {},
     "output_type": "execute_result"
    }
   ],
   "source": [
    "sorted(num)"
   ]
  },
  {
   "cell_type": "code",
   "execution_count": 64,
   "id": "b41c53b2",
   "metadata": {},
   "outputs": [
    {
     "data": {
      "text/plain": [
       "['one', 'two', 'three', 'four', 'five']"
      ]
     },
     "execution_count": 64,
     "metadata": {},
     "output_type": "execute_result"
    }
   ],
   "source": [
    "num"
   ]
  },
  {
   "cell_type": "code",
   "execution_count": 65,
   "id": "ee805f79",
   "metadata": {},
   "outputs": [],
   "source": [
    "num1 = num"
   ]
  },
  {
   "cell_type": "code",
   "execution_count": 66,
   "id": "85efeca5",
   "metadata": {},
   "outputs": [],
   "source": [
    "num1.sort()"
   ]
  },
  {
   "cell_type": "code",
   "execution_count": 67,
   "id": "139213b1",
   "metadata": {},
   "outputs": [
    {
     "data": {
      "text/plain": [
       "['five', 'four', 'one', 'three', 'two']"
      ]
     },
     "execution_count": 67,
     "metadata": {},
     "output_type": "execute_result"
    }
   ],
   "source": [
    "num1"
   ]
  },
  {
   "cell_type": "code",
   "execution_count": 68,
   "id": "5300a224",
   "metadata": {},
   "outputs": [
    {
     "data": {
      "text/plain": [
       "5"
      ]
     },
     "execution_count": 68,
     "metadata": {},
     "output_type": "execute_result"
    }
   ],
   "source": [
    "len(num)"
   ]
  },
  {
   "cell_type": "code",
   "execution_count": 69,
   "id": "465e74f4",
   "metadata": {},
   "outputs": [
    {
     "data": {
      "text/plain": [
       "3"
      ]
     },
     "execution_count": 69,
     "metadata": {},
     "output_type": "execute_result"
    }
   ],
   "source": [
    "len(num[2]) # num의 2번 인덱스의 길이"
   ]
  },
  {
   "cell_type": "code",
   "execution_count": 70,
   "id": "340feaa1",
   "metadata": {},
   "outputs": [
    {
     "data": {
      "text/plain": [
       "['five', 'four', 'one', 'three', 'two']"
      ]
     },
     "execution_count": 70,
     "metadata": {},
     "output_type": "execute_result"
    }
   ],
   "source": [
    "num"
   ]
  },
  {
   "cell_type": "code",
   "execution_count": 71,
   "id": "bc8ea434",
   "metadata": {},
   "outputs": [],
   "source": [
    "# dir() ; ?"
   ]
  },
  {
   "cell_type": "code",
   "execution_count": 72,
   "id": "5508be2c",
   "metadata": {},
   "outputs": [
    {
     "data": {
      "text/plain": [
       "('a', 'b', 'c', 'd')"
      ]
     },
     "execution_count": 72,
     "metadata": {},
     "output_type": "execute_result"
    }
   ],
   "source": [
    "# 튜플(소괄호); 수정이 불가능해서 count, index만 사용 가능\n",
    "tup = ('a', 'b', 'c', 'd'); tup"
   ]
  },
  {
   "cell_type": "code",
   "execution_count": 73,
   "id": "cb1881cf",
   "metadata": {},
   "outputs": [
    {
     "data": {
      "text/plain": [
       "'b'"
      ]
     },
     "execution_count": 73,
     "metadata": {},
     "output_type": "execute_result"
    }
   ],
   "source": [
    "tup[1]"
   ]
  },
  {
   "cell_type": "code",
   "execution_count": 74,
   "id": "4ee7d208",
   "metadata": {},
   "outputs": [],
   "source": [
    "# 튜플;\n",
    "fruit= [['apple',3500],['peer',2500],['cherry',5000]]"
   ]
  },
  {
   "cell_type": "code",
   "execution_count": 75,
   "id": "3a5dbf5c",
   "metadata": {},
   "outputs": [
    {
     "data": {
      "text/plain": [
       "[['apple', 3500], ['peer', 2500], ['cherry', 5000]]"
      ]
     },
     "execution_count": 75,
     "metadata": {},
     "output_type": "execute_result"
    }
   ],
   "source": [
    "fruit"
   ]
  },
  {
   "cell_type": "code",
   "execution_count": 76,
   "id": "031818ec",
   "metadata": {},
   "outputs": [],
   "source": [
    "fruit1 = {'apple' : 3500, 'peer' : 2500, 'cherry' : 5000}"
   ]
  },
  {
   "cell_type": "code",
   "execution_count": 77,
   "id": "015e62b5",
   "metadata": {},
   "outputs": [
    {
     "data": {
      "text/plain": [
       "{'apple': 3500, 'peer': 2500, 'cherry': 5000}"
      ]
     },
     "execution_count": 77,
     "metadata": {},
     "output_type": "execute_result"
    }
   ],
   "source": [
    "fruit1"
   ]
  },
  {
   "cell_type": "code",
   "execution_count": 78,
   "id": "ee292f35",
   "metadata": {},
   "outputs": [],
   "source": [
    "fruit3 = [['apple',3500], ['peer',[2500,3],], ['cherry',5000]]"
   ]
  },
  {
   "cell_type": "code",
   "execution_count": 79,
   "id": "438b15be",
   "metadata": {},
   "outputs": [
    {
     "data": {
      "text/plain": [
       "[['apple', 3500], ['peer', [2500, 3]], ['cherry', 5000]]"
      ]
     },
     "execution_count": 79,
     "metadata": {},
     "output_type": "execute_result"
    }
   ],
   "source": [
    "fruit3"
   ]
  },
  {
   "cell_type": "code",
   "execution_count": 80,
   "id": "859da192",
   "metadata": {},
   "outputs": [
    {
     "data": {
      "text/plain": [
       "dict_keys(['apple', 'peer', 'cherry'])"
      ]
     },
     "execution_count": 80,
     "metadata": {},
     "output_type": "execute_result"
    }
   ],
   "source": [
    "fruit1.keys() # 키만"
   ]
  },
  {
   "cell_type": "code",
   "execution_count": 81,
   "id": "b7718c48",
   "metadata": {},
   "outputs": [
    {
     "data": {
      "text/plain": [
       "2500"
      ]
     },
     "execution_count": 81,
     "metadata": {},
     "output_type": "execute_result"
    }
   ],
   "source": [
    "fruit1['peer'] # 인덱스가 아닌 키로 접근"
   ]
  },
  {
   "cell_type": "code",
   "execution_count": 82,
   "id": "1bf01723",
   "metadata": {},
   "outputs": [
    {
     "data": {
      "text/plain": [
       "2500"
      ]
     },
     "execution_count": 82,
     "metadata": {},
     "output_type": "execute_result"
    }
   ],
   "source": [
    "fruit1.get('peer') # get 메소드 사용 가능"
   ]
  },
  {
   "cell_type": "code",
   "execution_count": 83,
   "id": "cc2253b6",
   "metadata": {},
   "outputs": [],
   "source": [
    "# 딕셔너리 병합 update\n",
    "# 삭제 del"
   ]
  },
  {
   "cell_type": "code",
   "execution_count": 84,
   "id": "988dc052",
   "metadata": {},
   "outputs": [
    {
     "data": {
      "text/plain": [
       "dict_values([3500, 2500, 5000])"
      ]
     },
     "execution_count": 84,
     "metadata": {},
     "output_type": "execute_result"
    }
   ],
   "source": [
    "fruit1.values() # 값만 추출"
   ]
  },
  {
   "cell_type": "code",
   "execution_count": 85,
   "id": "687a85aa",
   "metadata": {},
   "outputs": [
    {
     "data": {
      "text/plain": [
       "dict_keys(['apple', 'peer', 'cherry'])"
      ]
     },
     "execution_count": 85,
     "metadata": {},
     "output_type": "execute_result"
    }
   ],
   "source": [
    "fruit1.keys() # 키만 추출"
   ]
  },
  {
   "cell_type": "code",
   "execution_count": 86,
   "id": "232d84cb",
   "metadata": {},
   "outputs": [
    {
     "data": {
      "text/plain": [
       "dict_items([('apple', 3500), ('peer', 2500), ('cherry', 5000)])"
      ]
     },
     "execution_count": 86,
     "metadata": {},
     "output_type": "execute_result"
    }
   ],
   "source": [
    "fruit1.items() # 키, 값을 튜플형으로 추출"
   ]
  },
  {
   "cell_type": "code",
   "execution_count": null,
   "id": "2ce530e4",
   "metadata": {},
   "outputs": [],
   "source": [
    "# 책 p.54 리스트 메소드 기억\n",
    "# w3에서 str, list, dict, tup 메소드 실습하기\n",
    "# 210726_문자열_리스트_튜플_딕셔너리_methods 업로드"
   ]
  },
  {
   "cell_type": "markdown",
   "id": "d8880529",
   "metadata": {},
   "source": [
    "# 2021-07-27"
   ]
  },
  {
   "cell_type": "code",
   "execution_count": null,
   "id": "44105be0",
   "metadata": {},
   "outputs": [],
   "source": []
  }
 ],
 "metadata": {
  "kernelspec": {
   "display_name": "Python 3",
   "language": "python",
   "name": "python3"
  },
  "language_info": {
   "codemirror_mode": {
    "name": "ipython",
    "version": 3
   },
   "file_extension": ".py",
   "mimetype": "text/x-python",
   "name": "python",
   "nbconvert_exporter": "python",
   "pygments_lexer": "ipython3",
   "version": "3.8.8"
  }
 },
 "nbformat": 4,
 "nbformat_minor": 5
}
