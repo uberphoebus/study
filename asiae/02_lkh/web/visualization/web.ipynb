{
 "cells": [
  {
   "cell_type": "code",
   "execution_count": 1,
   "metadata": {},
   "outputs": [],
   "source": [
    "# ui : 유저와의 입력에 따라 상호작용\n",
    "# ux : 반응형. 사용자의 환경에 따라 반응.\n",
    "# 템플릿 : timeleaf, bootstrap\n",
    "\n",
    "# 데이터를 입력했을 때, 해당하는 데이터들을 요약정리하여 보여주는 서비스\n",
    "\n",
    "# elasticsearch(유료), tableau(무료)"
   ]
  },
  {
   "cell_type": "code",
   "execution_count": null,
   "metadata": {},
   "outputs": [],
   "source": [
    "# templates : html을 담는 폴더\n",
    "# static : 나머지 모두를 담는 폴더\n",
    "\n",
    "# 프레임워크 : 웹의 구조를 기본적으로 구성해놓은 틀(뼈대)\n",
    "# 파이썬의 웹 프레임워크 : django, flask\n",
    "\n",
    "# django : 많은 기능\n",
    "# flask  : 쉬움\n"
   ]
  }
 ],
 "metadata": {
  "interpreter": {
   "hash": "c3102799280f1ed23787b1be8e33b065cea14d14e60df4daed798ef8bab0b32c"
  },
  "kernelspec": {
   "display_name": "Python 3.8.8 64-bit ('venv': venv)",
   "name": "python3"
  },
  "language_info": {
   "codemirror_mode": {
    "name": "ipython",
    "version": 3
   },
   "file_extension": ".py",
   "mimetype": "text/x-python",
   "name": "python",
   "nbconvert_exporter": "python",
   "pygments_lexer": "ipython3",
   "version": "3.8.8"
  },
  "orig_nbformat": 4
 },
 "nbformat": 4,
 "nbformat_minor": 2
}
