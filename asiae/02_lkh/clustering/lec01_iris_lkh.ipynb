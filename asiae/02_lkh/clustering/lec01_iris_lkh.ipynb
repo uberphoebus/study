{
 "cells": [
  {
   "cell_type": "markdown",
   "id": "b9dcb756-2433-4b41-8ca5-47beaf8500d7",
   "metadata": {},
   "source": [
    "# KMeans Clustering IRIS\n",
    "* 그룹헤더 선출"
   ]
  },
  {
   "cell_type": "markdown",
   "id": "46b5eaa5-1df9-4a03-bfa1-d622f5e7fff3",
   "metadata": {},
   "source": [
    "<img src='https://miro.medium.com/max/875/0*8ERlq_ZmWnZzDO83.gif' width=400>"
   ]
  },
  {
   "cell_type": "code",
   "execution_count": 1,
   "id": "a243e5c6-ccf8-4816-8f0d-3262a0525254",
   "metadata": {},
   "outputs": [],
   "source": [
    "from sklearn.datasets import load_iris\n",
    "import pandas as pd\n",
    "import numpy as np\n",
    "import matplotlib.pyplot as plt\n",
    "import seaborn as sns\n",
    "\n",
    "# -------------- 군집 --------------\n",
    "from sklearn.cluster import KMeans\n",
    "\n",
    "# -------------- 분류 --------------\n",
    "# from sklearn.tree import DecisionTreeClassifier\n",
    "# from sklearn.ensemble import RandomForestClassifier\n",
    "# from sklearn.model_selection import train_test_split\n",
    "# from sklearn.metrics import accuracy_score, f1_score, precision_score , recall_score,  confusion_matrix, classification_report\n",
    "\n",
    "import warnings\n",
    "warnings.filterwarnings(action='ignore')"
   ]
  },
  {
   "cell_type": "code",
   "execution_count": 2,
   "id": "7dc45356-d586-42a1-bacf-0cd20bea49f2",
   "metadata": {},
   "outputs": [],
   "source": [
    "df = pd.read_csv(\"iris_lkh.csv\")"
   ]
  },
  {
   "cell_type": "code",
   "execution_count": 3,
   "id": "c8bba67a-dfb6-49fa-8840-6546e1185459",
   "metadata": {},
   "outputs": [
    {
     "data": {
      "text/html": [
       "<div>\n",
       "<style scoped>\n",
       "    .dataframe tbody tr th:only-of-type {\n",
       "        vertical-align: middle;\n",
       "    }\n",
       "\n",
       "    .dataframe tbody tr th {\n",
       "        vertical-align: top;\n",
       "    }\n",
       "\n",
       "    .dataframe thead th {\n",
       "        text-align: right;\n",
       "    }\n",
       "</style>\n",
       "<table border=\"1\" class=\"dataframe\">\n",
       "  <thead>\n",
       "    <tr style=\"text-align: right;\">\n",
       "      <th></th>\n",
       "      <th>sepal_length</th>\n",
       "      <th>sepal_width</th>\n",
       "      <th>petal_length</th>\n",
       "      <th>petal_width</th>\n",
       "      <th>target</th>\n",
       "    </tr>\n",
       "  </thead>\n",
       "  <tbody>\n",
       "    <tr>\n",
       "      <th>0</th>\n",
       "      <td>5.1</td>\n",
       "      <td>3.5</td>\n",
       "      <td>1.4</td>\n",
       "      <td>0.2</td>\n",
       "      <td>0</td>\n",
       "    </tr>\n",
       "    <tr>\n",
       "      <th>1</th>\n",
       "      <td>4.9</td>\n",
       "      <td>3.0</td>\n",
       "      <td>1.4</td>\n",
       "      <td>0.2</td>\n",
       "      <td>0</td>\n",
       "    </tr>\n",
       "    <tr>\n",
       "      <th>2</th>\n",
       "      <td>4.7</td>\n",
       "      <td>3.2</td>\n",
       "      <td>1.3</td>\n",
       "      <td>0.2</td>\n",
       "      <td>0</td>\n",
       "    </tr>\n",
       "    <tr>\n",
       "      <th>3</th>\n",
       "      <td>4.6</td>\n",
       "      <td>3.1</td>\n",
       "      <td>1.5</td>\n",
       "      <td>0.2</td>\n",
       "      <td>0</td>\n",
       "    </tr>\n",
       "    <tr>\n",
       "      <th>4</th>\n",
       "      <td>5.0</td>\n",
       "      <td>3.6</td>\n",
       "      <td>1.4</td>\n",
       "      <td>0.2</td>\n",
       "      <td>0</td>\n",
       "    </tr>\n",
       "  </tbody>\n",
       "</table>\n",
       "</div>"
      ],
      "text/plain": [
       "   sepal_length  sepal_width  petal_length  petal_width  target\n",
       "0           5.1          3.5           1.4          0.2       0\n",
       "1           4.9          3.0           1.4          0.2       0\n",
       "2           4.7          3.2           1.3          0.2       0\n",
       "3           4.6          3.1           1.5          0.2       0\n",
       "4           5.0          3.6           1.4          0.2       0"
      ]
     },
     "execution_count": 3,
     "metadata": {},
     "output_type": "execute_result"
    }
   ],
   "source": [
    "df.head()"
   ]
  },
  {
   "cell_type": "code",
   "execution_count": 4,
   "id": "cfd2d1b7-b021-4048-ba7c-44e04446d903",
   "metadata": {},
   "outputs": [
    {
     "data": {
      "text/plain": [
       "(150, 5)"
      ]
     },
     "execution_count": 4,
     "metadata": {},
     "output_type": "execute_result"
    }
   ],
   "source": [
    "df.shape"
   ]
  },
  {
   "cell_type": "code",
   "execution_count": 5,
   "id": "3ef19512-6a2b-4d77-96a9-95c1e6fb2b8c",
   "metadata": {},
   "outputs": [
    {
     "name": "stdout",
     "output_type": "stream",
     "text": [
      "<class 'pandas.core.frame.DataFrame'>\n",
      "RangeIndex: 150 entries, 0 to 149\n",
      "Data columns (total 5 columns):\n",
      " #   Column        Non-Null Count  Dtype  \n",
      "---  ------        --------------  -----  \n",
      " 0   sepal_length  150 non-null    float64\n",
      " 1   sepal_width   150 non-null    float64\n",
      " 2   petal_length  150 non-null    float64\n",
      " 3   petal_width   150 non-null    float64\n",
      " 4   target        150 non-null    int64  \n",
      "dtypes: float64(4), int64(1)\n",
      "memory usage: 6.0 KB\n"
     ]
    }
   ],
   "source": [
    "df.info()"
   ]
  },
  {
   "cell_type": "markdown",
   "id": "bf939d04-5560-4cd6-bd84-3a8eb67f438e",
   "metadata": {
    "tags": []
   },
   "source": [
    "# 1차 점수 : 우선 점수부터 보자"
   ]
  },
  {
   "cell_type": "code",
   "execution_count": 6,
   "id": "8360a6ed-2e6d-4e43-bc6f-aa3680086b8f",
   "metadata": {},
   "outputs": [],
   "source": [
    "df2 = df[['petal_length', 'petal_width']].copy()"
   ]
  },
  {
   "cell_type": "code",
   "execution_count": 7,
   "id": "b4c0968b-e960-49d4-9f0f-27a173862809",
   "metadata": {},
   "outputs": [
    {
     "name": "stdout",
     "output_type": "stream",
     "text": [
      "[0 0 0 0 0]\n",
      "[[1.462      0.246     ]\n",
      " [5.59583333 2.0375    ]\n",
      " [4.26923077 1.34230769]]\n",
      "[1.4620000000000002, 5.595833333333333, 4.269230769230769] [0.24600000000000055, 2.0375, 1.3423076923076924]\n"
     ]
    }
   ],
   "source": [
    "model = KMeans(n_clusters=3)\n",
    "model.fit(df2)\n",
    "pred = model.predict(df2)\n",
    "print(pred[:5])\n",
    "print(model.cluster_centers_)\n",
    "cx = []\n",
    "cy = []\n",
    "for row in model.cluster_centers_:\n",
    "    cx.append(row[0])\n",
    "    cy.append(row[1])\n",
    "print(cx, cy)    "
   ]
  },
  {
   "cell_type": "code",
   "execution_count": 8,
   "id": "f9f6ccae-7464-451a-bcf8-254c712f1a13",
   "metadata": {},
   "outputs": [
    {
     "data": {
      "text/html": [
       "<div>\n",
       "<style scoped>\n",
       "    .dataframe tbody tr th:only-of-type {\n",
       "        vertical-align: middle;\n",
       "    }\n",
       "\n",
       "    .dataframe tbody tr th {\n",
       "        vertical-align: top;\n",
       "    }\n",
       "\n",
       "    .dataframe thead th {\n",
       "        text-align: right;\n",
       "    }\n",
       "</style>\n",
       "<table border=\"1\" class=\"dataframe\">\n",
       "  <thead>\n",
       "    <tr style=\"text-align: right;\">\n",
       "      <th></th>\n",
       "      <th>petal_length</th>\n",
       "      <th>petal_width</th>\n",
       "      <th>target</th>\n",
       "      <th>cluster_label</th>\n",
       "    </tr>\n",
       "  </thead>\n",
       "  <tbody>\n",
       "    <tr>\n",
       "      <th>0</th>\n",
       "      <td>1.4</td>\n",
       "      <td>0.2</td>\n",
       "      <td>0</td>\n",
       "      <td>0</td>\n",
       "    </tr>\n",
       "    <tr>\n",
       "      <th>1</th>\n",
       "      <td>1.4</td>\n",
       "      <td>0.2</td>\n",
       "      <td>0</td>\n",
       "      <td>0</td>\n",
       "    </tr>\n",
       "    <tr>\n",
       "      <th>2</th>\n",
       "      <td>1.3</td>\n",
       "      <td>0.2</td>\n",
       "      <td>0</td>\n",
       "      <td>0</td>\n",
       "    </tr>\n",
       "    <tr>\n",
       "      <th>3</th>\n",
       "      <td>1.5</td>\n",
       "      <td>0.2</td>\n",
       "      <td>0</td>\n",
       "      <td>0</td>\n",
       "    </tr>\n",
       "    <tr>\n",
       "      <th>4</th>\n",
       "      <td>1.4</td>\n",
       "      <td>0.2</td>\n",
       "      <td>0</td>\n",
       "      <td>0</td>\n",
       "    </tr>\n",
       "  </tbody>\n",
       "</table>\n",
       "</div>"
      ],
      "text/plain": [
       "   petal_length  petal_width  target  cluster_label\n",
       "0           1.4          0.2       0              0\n",
       "1           1.4          0.2       0              0\n",
       "2           1.3          0.2       0              0\n",
       "3           1.5          0.2       0              0\n",
       "4           1.4          0.2       0              0"
      ]
     },
     "execution_count": 8,
     "metadata": {},
     "output_type": "execute_result"
    }
   ],
   "source": [
    "df_pred = df2.copy() \n",
    "df_pred[\"target\"] = df[\"target\"]\n",
    "df_pred[\"cluster_label\"] = pred.reshape(-1,1)\n",
    "df_pred.head()"
   ]
  },
  {
   "cell_type": "code",
   "execution_count": 9,
   "id": "bab3bf10-93a4-4e1a-99ad-98e67c1b2aff",
   "metadata": {},
   "outputs": [
    {
     "data": {
      "image/png": "[encoded data removed]",
      "text/plain": [
       "<Figure size 432x288 with 1 Axes>"
      ]
     },
     "metadata": {
      "needs_background": "light"
     },
     "output_type": "display_data"
    }
   ],
   "source": [
    "cc = pd.DataFrame(model.cluster_centers_)\n",
    "sns.scatterplot(data=df_pred, x='petal_length', y='petal_width', hue='cluster_label')\n",
    "sns.scatterplot(data=cc, x=0, y=1)\n",
    "plt.show()"
   ]
  },
  {
   "cell_type": "markdown",
   "id": "26745b59-9a93-4a0b-a894-a5bdbe5adaf3",
   "metadata": {
    "tags": []
   },
   "source": [
    "## 모델 평가 "
   ]
  },
  {
   "cell_type": "markdown",
   "id": "03b7f21e-46fd-44de-956a-161c6628f253",
   "metadata": {},
   "source": [
    "* 1) 교차테이블"
   ]
  },
  {
   "cell_type": "code",
   "execution_count": 10,
   "id": "437e22e0-4467-4a93-aec7-9cb4fa52a90c",
   "metadata": {},
   "outputs": [
    {
     "data": {
      "text/html": [
       "<div>\n",
       "<style scoped>\n",
       "    .dataframe tbody tr th:only-of-type {\n",
       "        vertical-align: middle;\n",
       "    }\n",
       "\n",
       "    .dataframe tbody tr th {\n",
       "        vertical-align: top;\n",
       "    }\n",
       "\n",
       "    .dataframe thead th {\n",
       "        text-align: right;\n",
       "    }\n",
       "</style>\n",
       "<table border=\"1\" class=\"dataframe\">\n",
       "  <thead>\n",
       "    <tr style=\"text-align: right;\">\n",
       "      <th>cluster_label</th>\n",
       "      <th>0</th>\n",
       "      <th>1</th>\n",
       "      <th>2</th>\n",
       "    </tr>\n",
       "    <tr>\n",
       "      <th>target</th>\n",
       "      <th></th>\n",
       "      <th></th>\n",
       "      <th></th>\n",
       "    </tr>\n",
       "  </thead>\n",
       "  <tbody>\n",
       "    <tr>\n",
       "      <th>0</th>\n",
       "      <td>50</td>\n",
       "      <td>0</td>\n",
       "      <td>0</td>\n",
       "    </tr>\n",
       "    <tr>\n",
       "      <th>1</th>\n",
       "      <td>0</td>\n",
       "      <td>2</td>\n",
       "      <td>48</td>\n",
       "    </tr>\n",
       "    <tr>\n",
       "      <th>2</th>\n",
       "      <td>0</td>\n",
       "      <td>46</td>\n",
       "      <td>4</td>\n",
       "    </tr>\n",
       "  </tbody>\n",
       "</table>\n",
       "</div>"
      ],
      "text/plain": [
       "cluster_label   0   1   2\n",
       "target                   \n",
       "0              50   0   0\n",
       "1               0   2  48\n",
       "2               0  46   4"
      ]
     },
     "execution_count": 10,
     "metadata": {},
     "output_type": "execute_result"
    }
   ],
   "source": [
    "cross = pd.crosstab(df_pred[\"target\"], df_pred[\"cluster_label\"] )\n",
    "cross"
   ]
  },
  {
   "cell_type": "markdown",
   "id": "17111ff8-f61e-4914-b7db-e8b3fade3f21",
   "metadata": {},
   "source": [
    "## 정규화 가공"
   ]
  },
  {
   "cell_type": "code",
   "execution_count": 11,
   "id": "7071b0eb-4c55-4f3e-8c85-d84c332ef0f7",
   "metadata": {},
   "outputs": [
    {
     "data": {
      "text/plain": [
       "array([[<AxesSubplot:title={'center':'petal_length'}>,\n",
       "        <AxesSubplot:title={'center':'petal_width'}>]], dtype=object)"
      ]
     },
     "execution_count": 11,
     "metadata": {},
     "output_type": "execute_result"
    },
    {
     "data": {
      "image/png": "[encoded data removed]",
      "text/plain": [
       "<Figure size 432x288 with 2 Axes>"
      ]
     },
     "metadata": {
      "needs_background": "light"
     },
     "output_type": "display_data"
    }
   ],
   "source": [
    "df2.hist()"
   ]
  },
  {
   "cell_type": "code",
   "execution_count": 12,
   "id": "b5cb676c-f9be-435c-be0a-c2f761266352",
   "metadata": {},
   "outputs": [
    {
     "data": {
      "text/html": [
       "<div>\n",
       "<style scoped>\n",
       "    .dataframe tbody tr th:only-of-type {\n",
       "        vertical-align: middle;\n",
       "    }\n",
       "\n",
       "    .dataframe tbody tr th {\n",
       "        vertical-align: top;\n",
       "    }\n",
       "\n",
       "    .dataframe thead th {\n",
       "        text-align: right;\n",
       "    }\n",
       "</style>\n",
       "<table border=\"1\" class=\"dataframe\">\n",
       "  <thead>\n",
       "    <tr style=\"text-align: right;\">\n",
       "      <th></th>\n",
       "      <th>petal_length</th>\n",
       "      <th>petal_width</th>\n",
       "    </tr>\n",
       "  </thead>\n",
       "  <tbody>\n",
       "    <tr>\n",
       "      <th>0</th>\n",
       "      <td>-1.340227</td>\n",
       "      <td>-1.315444</td>\n",
       "    </tr>\n",
       "    <tr>\n",
       "      <th>1</th>\n",
       "      <td>-1.340227</td>\n",
       "      <td>-1.315444</td>\n",
       "    </tr>\n",
       "    <tr>\n",
       "      <th>2</th>\n",
       "      <td>-1.397064</td>\n",
       "      <td>-1.315444</td>\n",
       "    </tr>\n",
       "    <tr>\n",
       "      <th>3</th>\n",
       "      <td>-1.283389</td>\n",
       "      <td>-1.315444</td>\n",
       "    </tr>\n",
       "    <tr>\n",
       "      <th>4</th>\n",
       "      <td>-1.340227</td>\n",
       "      <td>-1.315444</td>\n",
       "    </tr>\n",
       "  </tbody>\n",
       "</table>\n",
       "</div>"
      ],
      "text/plain": [
       "   petal_length  petal_width\n",
       "0     -1.340227    -1.315444\n",
       "1     -1.340227    -1.315444\n",
       "2     -1.397064    -1.315444\n",
       "3     -1.283389    -1.315444\n",
       "4     -1.340227    -1.315444"
      ]
     },
     "execution_count": 12,
     "metadata": {},
     "output_type": "execute_result"
    }
   ],
   "source": [
    "from sklearn.preprocessing import StandardScaler\n",
    "scaler = StandardScaler()\n",
    "scaler_df = scaler.fit_transform(df2)\n",
    "df2 = pd.DataFrame(scaler_df, columns=['petal_length', 'petal_width'])\n",
    "df2.head()"
   ]
  },
  {
   "cell_type": "code",
   "execution_count": 13,
   "id": "cda10b68-179b-4c19-a139-632cff178f49",
   "metadata": {},
   "outputs": [
    {
     "name": "stdout",
     "output_type": "stream",
     "text": [
      "[1 1 1 1 1]\n",
      "[[ 1.02799959  1.12797813]\n",
      " [-1.30498732 -1.25489349]\n",
      " [ 0.3058728   0.16541778]]\n",
      "[1.0279995947773688, -1.3049873219363295, 0.3058727989904363] [1.127978125880969, -1.254893490234201, 0.1654177782581444]\n"
     ]
    }
   ],
   "source": [
    "model = KMeans(n_clusters=3)\n",
    "model.fit(df2)\n",
    "pred = model.predict(df2)\n",
    "print(pred[:5])\n",
    "print(model.cluster_centers_)\n",
    "cx = []\n",
    "cy = []\n",
    "for row in model.cluster_centers_:\n",
    "    cx.append(row[0])\n",
    "    cy.append(row[1])\n",
    "print(cx, cy)    "
   ]
  },
  {
   "cell_type": "code",
   "execution_count": 14,
   "id": "dd8af145-a78e-4650-9803-494b539142c7",
   "metadata": {},
   "outputs": [
    {
     "data": {
      "text/html": [
       "<div>\n",
       "<style scoped>\n",
       "    .dataframe tbody tr th:only-of-type {\n",
       "        vertical-align: middle;\n",
       "    }\n",
       "\n",
       "    .dataframe tbody tr th {\n",
       "        vertical-align: top;\n",
       "    }\n",
       "\n",
       "    .dataframe thead th {\n",
       "        text-align: right;\n",
       "    }\n",
       "</style>\n",
       "<table border=\"1\" class=\"dataframe\">\n",
       "  <thead>\n",
       "    <tr style=\"text-align: right;\">\n",
       "      <th></th>\n",
       "      <th>petal_length</th>\n",
       "      <th>petal_width</th>\n",
       "      <th>target</th>\n",
       "      <th>cluster_label</th>\n",
       "    </tr>\n",
       "  </thead>\n",
       "  <tbody>\n",
       "    <tr>\n",
       "      <th>0</th>\n",
       "      <td>-1.340227</td>\n",
       "      <td>-1.315444</td>\n",
       "      <td>0</td>\n",
       "      <td>1</td>\n",
       "    </tr>\n",
       "    <tr>\n",
       "      <th>1</th>\n",
       "      <td>-1.340227</td>\n",
       "      <td>-1.315444</td>\n",
       "      <td>0</td>\n",
       "      <td>1</td>\n",
       "    </tr>\n",
       "    <tr>\n",
       "      <th>2</th>\n",
       "      <td>-1.397064</td>\n",
       "      <td>-1.315444</td>\n",
       "      <td>0</td>\n",
       "      <td>1</td>\n",
       "    </tr>\n",
       "    <tr>\n",
       "      <th>3</th>\n",
       "      <td>-1.283389</td>\n",
       "      <td>-1.315444</td>\n",
       "      <td>0</td>\n",
       "      <td>1</td>\n",
       "    </tr>\n",
       "    <tr>\n",
       "      <th>4</th>\n",
       "      <td>-1.340227</td>\n",
       "      <td>-1.315444</td>\n",
       "      <td>0</td>\n",
       "      <td>1</td>\n",
       "    </tr>\n",
       "  </tbody>\n",
       "</table>\n",
       "</div>"
      ],
      "text/plain": [
       "   petal_length  petal_width  target  cluster_label\n",
       "0     -1.340227    -1.315444       0              1\n",
       "1     -1.340227    -1.315444       0              1\n",
       "2     -1.397064    -1.315444       0              1\n",
       "3     -1.283389    -1.315444       0              1\n",
       "4     -1.340227    -1.315444       0              1"
      ]
     },
     "execution_count": 14,
     "metadata": {},
     "output_type": "execute_result"
    }
   ],
   "source": [
    "df_pred = df2.copy() \n",
    "df_pred[\"target\"] = df[\"target\"]\n",
    "df_pred[\"cluster_label\"] = pred.reshape(-1,1)\n",
    "df_pred.head()\n"
   ]
  },
  {
   "cell_type": "code",
   "execution_count": 15,
   "id": "e0871cec-a40d-4936-9434-eb527d868990",
   "metadata": {},
   "outputs": [
    {
     "data": {
      "image/png": "[encoded data removed]",
      "text/plain": [
       "<Figure size 432x288 with 1 Axes>"
      ]
     },
     "metadata": {
      "needs_background": "light"
     },
     "output_type": "display_data"
    }
   ],
   "source": [
    "cc = pd.DataFrame(model.cluster_centers_)\n",
    "sns.scatterplot(data=df_pred, x='petal_length', y='petal_width', hue='cluster_label')\n",
    "sns.scatterplot(data=cc, x=0, y=1)\n",
    "plt.show()"
   ]
  },
  {
   "cell_type": "code",
   "execution_count": 16,
   "id": "ae038915-0a43-40e1-987a-7954d8ae5b60",
   "metadata": {},
   "outputs": [
    {
     "data": {
      "image/png": "[encoded data removed]",
      "text/plain": [
       "<Figure size 288x288 with 1 Axes>"
      ]
     },
     "metadata": {
      "needs_background": "light"
     },
     "output_type": "display_data"
    }
   ],
   "source": [
    "from mpl_toolkits.mplot3d import Axes3D\n",
    "# scatter plot\n",
    "fig = plt.figure( figsize=(4,4))\n",
    "ax = Axes3D(fig, rect=[0, 0, .95, 1], elev=48, azim=134)\n",
    "ax.scatter(df['sepal_length'],df['sepal_width'],df['petal_length'],c=df_pred['cluster_label'],alpha=0.5)\n",
    "ax.set_xlabel('sepal_lenth')\n",
    "ax.set_ylabel('sepal_width')\n",
    "ax.set_zlabel('petal_length')\n",
    "plt.show()"
   ]
  },
  {
   "cell_type": "markdown",
   "id": "5b9f94f8-7ee1-441e-b67b-51f4fe6a6d13",
   "metadata": {
    "tags": []
   },
   "source": [
    "## 2차 : 모델 평가 \n",
    "* 정규화 후 모델 재평가"
   ]
  },
  {
   "cell_type": "markdown",
   "id": "190da607-6e35-4380-8222-ab6587d85916",
   "metadata": {},
   "source": [
    "* 1) 교차테이블"
   ]
  },
  {
   "cell_type": "code",
   "execution_count": 17,
   "id": "b858adce-e598-4c2a-86b6-0757f7de75f6",
   "metadata": {},
   "outputs": [
    {
     "data": {
      "text/html": [
       "<div>\n",
       "<style scoped>\n",
       "    .dataframe tbody tr th:only-of-type {\n",
       "        vertical-align: middle;\n",
       "    }\n",
       "\n",
       "    .dataframe tbody tr th {\n",
       "        vertical-align: top;\n",
       "    }\n",
       "\n",
       "    .dataframe thead th {\n",
       "        text-align: right;\n",
       "    }\n",
       "</style>\n",
       "<table border=\"1\" class=\"dataframe\">\n",
       "  <thead>\n",
       "    <tr style=\"text-align: right;\">\n",
       "      <th>cluster_label</th>\n",
       "      <th>0</th>\n",
       "      <th>1</th>\n",
       "      <th>2</th>\n",
       "    </tr>\n",
       "    <tr>\n",
       "      <th>target</th>\n",
       "      <th></th>\n",
       "      <th></th>\n",
       "      <th></th>\n",
       "    </tr>\n",
       "  </thead>\n",
       "  <tbody>\n",
       "    <tr>\n",
       "      <th>0</th>\n",
       "      <td>0</td>\n",
       "      <td>50</td>\n",
       "      <td>0</td>\n",
       "    </tr>\n",
       "    <tr>\n",
       "      <th>1</th>\n",
       "      <td>2</td>\n",
       "      <td>0</td>\n",
       "      <td>48</td>\n",
       "    </tr>\n",
       "    <tr>\n",
       "      <th>2</th>\n",
       "      <td>46</td>\n",
       "      <td>0</td>\n",
       "      <td>4</td>\n",
       "    </tr>\n",
       "  </tbody>\n",
       "</table>\n",
       "</div>"
      ],
      "text/plain": [
       "cluster_label   0   1   2\n",
       "target                   \n",
       "0               0  50   0\n",
       "1               2   0  48\n",
       "2              46   0   4"
      ]
     },
     "execution_count": 17,
     "metadata": {},
     "output_type": "execute_result"
    }
   ],
   "source": [
    "cross = pd.crosstab(df_pred[\"target\"], df_pred[\"cluster_label\"] )\n",
    "cross"
   ]
  },
  {
   "cell_type": "markdown",
   "id": "aeded3b5-7ab4-4b6a-a178-165201397a38",
   "metadata": {},
   "source": [
    "### 두개의 피쳐만 사용하면 클러스터값은 3이 아니다 "
   ]
  },
  {
   "cell_type": "code",
   "execution_count": 18,
   "id": "b59ec1b2-b96c-402a-b7a6-e57930733a59",
   "metadata": {},
   "outputs": [
    {
     "data": {
      "text/plain": [
       "array([ 1,  2,  3,  4,  5,  6,  7,  8,  9, 10])"
      ]
     },
     "execution_count": 18,
     "metadata": {},
     "output_type": "execute_result"
    }
   ],
   "source": [
    "my_cluster = np.arange(1, 11)\n",
    "my_cluster"
   ]
  },
  {
   "cell_type": "code",
   "execution_count": 19,
   "id": "f0776c46-e173-4621-809c-b0251d86d67b",
   "metadata": {},
   "outputs": [
    {
     "name": "stdout",
     "output_type": "stream",
     "text": [
      "[300.00000000000017, 54.16878133149558, 18.02696261254406, 12.283372197379125, 9.160517414653057, 7.261410808647261, 6.138071515322073, 5.151939084810507, 4.419295672800332, 4.131103430652309]\n"
     ]
    }
   ],
   "source": [
    "inertia_list = []\n",
    "for k in my_cluster:\n",
    "    model = KMeans(n_clusters=k)\n",
    "    model.fit(df2)\n",
    "    inertia_list.append(model.inertia_)   #대표노드와 각 노드간의 거리 합\n",
    "print(inertia_list)    "
   ]
  },
  {
   "cell_type": "code",
   "execution_count": 20,
   "id": "2baeb2df-21b4-44f3-be30-0e1cd7b08c81",
   "metadata": {},
   "outputs": [
    {
     "data": {
      "image/png": "[encoded data removed]",
      "text/plain": [
       "<Figure size 432x288 with 1 Axes>"
      ]
     },
     "metadata": {
      "needs_background": "light"
     },
     "output_type": "display_data"
    }
   ],
   "source": [
    "plt.plot(my_cluster, inertia_list)\n",
    "plt.show()"
   ]
  },
  {
   "cell_type": "code",
   "execution_count": 21,
   "id": "2fc9654a-ed3f-4263-8779-242fc3a40c06",
   "metadata": {},
   "outputs": [
    {
     "data": {
      "image/png": "[encoded data removed]",
      "text/plain": [
       "<Figure size 432x288 with 2 Axes>"
      ]
     },
     "metadata": {
      "needs_background": "light"
     },
     "output_type": "display_data"
    }
   ],
   "source": [
    "sns.heatmap(df.corr(), fmt='.2f', annot=True, cmap='Blues')\n",
    "plt.show()"
   ]
  },
  {
   "cell_type": "markdown",
   "id": "a845f217-5f7f-44d8-b2a6-c53cc37d1df2",
   "metadata": {},
   "source": [
    "## 실루엣 점수"
   ]
  },
  {
   "cell_type": "code",
   "execution_count": 22,
   "id": "ce4c336c-fc38-4c4f-a383-6eb3d20d77bc",
   "metadata": {},
   "outputs": [],
   "source": [
    "#Silhouette Coefficient for each sample\n",
    "# 스케터의 모든점-헤더 유클리드거리    \n",
    "from sklearn.metrics import silhouette_samples \n",
    "\n",
    "silhouette_coef = silhouette_samples(df_pred[['petal_length','petal_width']] , df_pred['cluster_label']  )"
   ]
  },
  {
   "cell_type": "code",
   "execution_count": 23,
   "id": "c54f4748-2144-4cf8-8392-1f644342254a",
   "metadata": {},
   "outputs": [
    {
     "name": "stdout",
     "output_type": "stream",
     "text": [
      "(150,)\n",
      "[0.93612714 0.93612714 0.92670799 0.93457942 0.93612714]\n"
     ]
    }
   ],
   "source": [
    "print(silhouette_coef.shape)\n",
    "print(silhouette_coef[:5])"
   ]
  },
  {
   "cell_type": "code",
   "execution_count": 24,
   "id": "d782d17f-0a7b-48b9-a6db-4200d1b9cd81",
   "metadata": {},
   "outputs": [
    {
     "data": {
      "text/html": [
       "<div>\n",
       "<style scoped>\n",
       "    .dataframe tbody tr th:only-of-type {\n",
       "        vertical-align: middle;\n",
       "    }\n",
       "\n",
       "    .dataframe tbody tr th {\n",
       "        vertical-align: top;\n",
       "    }\n",
       "\n",
       "    .dataframe thead th {\n",
       "        text-align: right;\n",
       "    }\n",
       "</style>\n",
       "<table border=\"1\" class=\"dataframe\">\n",
       "  <thead>\n",
       "    <tr style=\"text-align: right;\">\n",
       "      <th></th>\n",
       "      <th>petal_length</th>\n",
       "      <th>petal_width</th>\n",
       "      <th>target</th>\n",
       "      <th>cluster_label</th>\n",
       "      <th>silhouette_coef</th>\n",
       "    </tr>\n",
       "  </thead>\n",
       "  <tbody>\n",
       "    <tr>\n",
       "      <th>0</th>\n",
       "      <td>-1.340227</td>\n",
       "      <td>-1.315444</td>\n",
       "      <td>0</td>\n",
       "      <td>1</td>\n",
       "      <td>0.936127</td>\n",
       "    </tr>\n",
       "    <tr>\n",
       "      <th>1</th>\n",
       "      <td>-1.340227</td>\n",
       "      <td>-1.315444</td>\n",
       "      <td>0</td>\n",
       "      <td>1</td>\n",
       "      <td>0.936127</td>\n",
       "    </tr>\n",
       "    <tr>\n",
       "      <th>2</th>\n",
       "      <td>-1.397064</td>\n",
       "      <td>-1.315444</td>\n",
       "      <td>0</td>\n",
       "      <td>1</td>\n",
       "      <td>0.926708</td>\n",
       "    </tr>\n",
       "    <tr>\n",
       "      <th>3</th>\n",
       "      <td>-1.283389</td>\n",
       "      <td>-1.315444</td>\n",
       "      <td>0</td>\n",
       "      <td>1</td>\n",
       "      <td>0.934579</td>\n",
       "    </tr>\n",
       "    <tr>\n",
       "      <th>4</th>\n",
       "      <td>-1.340227</td>\n",
       "      <td>-1.315444</td>\n",
       "      <td>0</td>\n",
       "      <td>1</td>\n",
       "      <td>0.936127</td>\n",
       "    </tr>\n",
       "  </tbody>\n",
       "</table>\n",
       "</div>"
      ],
      "text/plain": [
       "   petal_length  petal_width  target  cluster_label  silhouette_coef\n",
       "0     -1.340227    -1.315444       0              1         0.936127\n",
       "1     -1.340227    -1.315444       0              1         0.936127\n",
       "2     -1.397064    -1.315444       0              1         0.926708\n",
       "3     -1.283389    -1.315444       0              1         0.934579\n",
       "4     -1.340227    -1.315444       0              1         0.936127"
      ]
     },
     "execution_count": 24,
     "metadata": {},
     "output_type": "execute_result"
    }
   ],
   "source": [
    "df_pred['silhouette_coef'] = silhouette_coef.reshape(-1,1)\n",
    "df_pred.head()"
   ]
  },
  {
   "cell_type": "code",
   "execution_count": 25,
   "id": "814e7527-6a49-4028-aee2-2e1187663195",
   "metadata": {},
   "outputs": [],
   "source": [
    "from sklearn.metrics import silhouette_score\n"
   ]
  },
  {
   "cell_type": "markdown",
   "id": "70a88e8d-06dd-41c5-84e2-2ff828d19eab",
   "metadata": {},
   "source": [
    "* (b - a) / max(a, b)"
   ]
  },
  {
   "cell_type": "code",
   "execution_count": 26,
   "id": "b0ffbbca-64ab-4b58-a04e-780cf1975479",
   "metadata": {},
   "outputs": [
    {
     "data": {
      "text/plain": [
       "0.6741313115143868"
      ]
     },
     "execution_count": 26,
     "metadata": {},
     "output_type": "execute_result"
    }
   ],
   "source": [
    "silhouette_score = silhouette_score(df_pred[['petal_length','petal_width']] , df_pred['cluster_label']  )\n",
    "silhouette_score"
   ]
  },
  {
   "cell_type": "code",
   "execution_count": 27,
   "id": "ba1aa319-9937-4881-a94e-39d7f8e618a2",
   "metadata": {},
   "outputs": [
    {
     "data": {
      "text/plain": [
       "cluster_label\n",
       "0    0.510323\n",
       "1    0.904516\n",
       "2    0.603815\n",
       "Name: silhouette_coef, dtype: float64"
      ]
     },
     "execution_count": 27,
     "metadata": {},
     "output_type": "execute_result"
    }
   ],
   "source": [
    "df_pred.groupby('cluster_label')['silhouette_coef'].mean()"
   ]
  },
  {
   "cell_type": "code",
   "execution_count": 28,
   "id": "9ec98b89-29ed-4462-938a-8db065c94156",
   "metadata": {},
   "outputs": [],
   "source": [
    "def visualize_silhouette(cluster_lists, X_features): \n",
    "    \n",
    "    from sklearn.datasets import make_blobs\n",
    "    from sklearn.cluster import KMeans\n",
    "    from sklearn.metrics import silhouette_samples, silhouette_score\n",
    "\n",
    "    import matplotlib.pyplot as plt\n",
    "    import matplotlib.cm as cm\n",
    "    import math\n",
    "    \n",
    "    # 입력값으로 클러스터링 갯수들을 리스트로 받아서, 각 갯수별로 클러스터링을 적용하고 실루엣 개수를 구함\n",
    "    n_cols = len(cluster_lists)\n",
    "    \n",
    "    # plt.subplots()으로 리스트에 기재된 클러스터링 수만큼의 sub figures를 가지는 axs 생성 \n",
    "    fig, axs = plt.subplots(figsize=(4*n_cols, 4), nrows=1, ncols=n_cols)\n",
    "    \n",
    "    # 리스트에 기재된 클러스터링 갯수들을 차례로 iteration 수행하면서 실루엣 개수 시각화\n",
    "    for ind, n_cluster in enumerate(cluster_lists):\n",
    "        \n",
    "        # KMeans 클러스터링 수행하고, 실루엣 스코어와 개별 데이터의 실루엣 값 계산. \n",
    "        clusterer = KMeans(n_clusters = n_cluster, max_iter=500, random_state=0)\n",
    "        cluster_labels = clusterer.fit_predict(X_features)\n",
    "        \n",
    "        sil_avg = silhouette_score(X_features, cluster_labels)\n",
    "        sil_values = silhouette_samples(X_features, cluster_labels)\n",
    "        \n",
    "        y_lower = 10\n",
    "        axs[ind].set_title('Number of Cluster : '+ str(n_cluster)+'\\n' \\\n",
    "                          'Silhouette Score :' + str(round(sil_avg,3)) )\n",
    "        axs[ind].set_xlabel(\"The silhouette coefficient values\")\n",
    "        axs[ind].set_ylabel(\"Cluster label\")\n",
    "        axs[ind].set_xlim([-0.1, 1])\n",
    "        axs[ind].set_ylim([0, len(X_features) + (n_cluster + 1) * 10])\n",
    "        axs[ind].set_yticks([])  # Clear the yaxis labels / ticks\n",
    "        axs[ind].set_xticks([0, 0.2, 0.4, 0.6, 0.8, 1])\n",
    "        \n",
    "        # 클러스터링 갯수별로 fill_betweenx( )형태의 막대 그래프 표현. \n",
    "        for i in range(n_cluster):\n",
    "            ith_cluster_sil_values = sil_values[cluster_labels==i]\n",
    "            ith_cluster_sil_values.sort()\n",
    "            \n",
    "            size_cluster_i = ith_cluster_sil_values.shape[0]\n",
    "            y_upper = y_lower + size_cluster_i\n",
    "            \n",
    "            color = cm.nipy_spectral(float(i) / n_cluster)\n",
    "            axs[ind].fill_betweenx(np.arange(y_lower, y_upper), 0, ith_cluster_sil_values, \\\n",
    "                                facecolor=color, edgecolor=color, alpha=0.7)\n",
    "            axs[ind].text(-0.05, y_lower + 0.5 * size_cluster_i, str(i))\n",
    "            y_lower = y_upper + 10\n",
    "            \n",
    "        axs[ind].axvline(x=sil_avg, color=\"red\", linestyle=\"--\")\n"
   ]
  },
  {
   "cell_type": "code",
   "execution_count": 29,
   "id": "1c227723-d5a3-4b4c-8d79-5ea142fb58d1",
   "metadata": {},
   "outputs": [
    {
     "data": {
      "image/png": "[encoded data removed]",
      "text/plain": [
       "<Figure size 1152x288 with 4 Axes>"
      ]
     },
     "metadata": {
      "needs_background": "light"
     },
     "output_type": "display_data"
    }
   ],
   "source": [
    "visualize_silhouette([ 2, 3, 4,5 ], df)"
   ]
  },
  {
   "cell_type": "code",
   "execution_count": null,
   "id": "9cca0b22-1336-44c8-800d-5da00c44e642",
   "metadata": {},
   "outputs": [],
   "source": []
  },
  {
   "cell_type": "markdown",
   "id": "8d3d29d6-514e-4328-b5f2-c8e5b8425084",
   "metadata": {},
   "source": [
    "## PCA\n",
    "* petal_width, petal_length (silhouette score): 0.6741313115143868"
   ]
  },
  {
   "cell_type": "code",
   "execution_count": 30,
   "id": "93b4f37b-c7a0-4666-b022-7b3581cc45ef",
   "metadata": {},
   "outputs": [
    {
     "data": {
      "text/plain": [
       "['sepal_length', 'sepal_width', 'petal_length', 'petal_width', 'target']"
      ]
     },
     "execution_count": 30,
     "metadata": {},
     "output_type": "execute_result"
    }
   ],
   "source": [
    "df.columns.tolist()"
   ]
  },
  {
   "cell_type": "code",
   "execution_count": 31,
   "id": "ea152451-611c-4051-ae22-32713599c4c4",
   "metadata": {},
   "outputs": [
    {
     "data": {
      "text/plain": [
       "(150, 2)"
      ]
     },
     "execution_count": 31,
     "metadata": {},
     "output_type": "execute_result"
    }
   ],
   "source": [
    "from sklearn.decomposition import PCA\n",
    "X = df[['sepal_length', 'sepal_width', 'petal_length', 'petal_width']]\n",
    "pca = PCA(n_components=2, copy=True, random_state=1414)\n",
    "pca_res = pca.fit_transform(X)\n",
    "# type(pca_res)\n",
    "pca_df = pd.DataFrame(pca_res, columns=['pc1','pc2'])\n",
    "pca_df.shape"
   ]
  },
  {
   "cell_type": "code",
   "execution_count": 32,
   "id": "67f4875b-0281-4435-8da3-68b2e5ac35c8",
   "metadata": {},
   "outputs": [
    {
     "name": "stdout",
     "output_type": "stream",
     "text": [
      "0.9246187232017271 [0.92461872]\n",
      "0.977685206318795 [0.92461872 0.05306648]\n",
      "0.9947878161267247 [0.92461872 0.05306648 0.01710261]\n",
      "1.0 [0.92461872 0.05306648 0.01710261 0.00521218]\n"
     ]
    },
    {
     "data": {
      "text/plain": [
       "<AxesSubplot:>"
      ]
     },
     "execution_count": 32,
     "metadata": {},
     "output_type": "execute_result"
    },
    {
     "data": {
      "image/png": "[encoded data removed]",
      "text/plain": [
       "<Figure size 432x288 with 1 Axes>"
      ]
     },
     "metadata": {
      "needs_background": "light"
     },
     "output_type": "display_data"
    }
   ],
   "source": [
    "n_comp = [1,2,3,4]\n",
    "pca_list = [] \n",
    "for n in n_comp:\n",
    "    pca = PCA(n_components=n, copy=True, random_state=1414)\n",
    "    pca_res = pca.fit_transform(X)\n",
    "    print(pca.explained_variance_ratio_.sum() , pca.explained_variance_ratio_)    \n",
    "    pca_list.append(pca.explained_variance_ratio_.sum())\n",
    "sns.barplot(data=X, x=n_comp, y=pca_list)"
   ]
  },
  {
   "cell_type": "code",
   "execution_count": 33,
   "id": "aedc10ca-a3a3-4db9-8bda-30ec3cfabe71",
   "metadata": {},
   "outputs": [
    {
     "name": "stdout",
     "output_type": "stream",
     "text": [
      "(150, 2)\n"
     ]
    },
    {
     "data": {
      "text/html": [
       "<div>\n",
       "<style scoped>\n",
       "    .dataframe tbody tr th:only-of-type {\n",
       "        vertical-align: middle;\n",
       "    }\n",
       "\n",
       "    .dataframe tbody tr th {\n",
       "        vertical-align: top;\n",
       "    }\n",
       "\n",
       "    .dataframe thead th {\n",
       "        text-align: right;\n",
       "    }\n",
       "</style>\n",
       "<table border=\"1\" class=\"dataframe\">\n",
       "  <thead>\n",
       "    <tr style=\"text-align: right;\">\n",
       "      <th></th>\n",
       "      <th>pc1</th>\n",
       "      <th>pc2</th>\n",
       "      <th>target</th>\n",
       "    </tr>\n",
       "  </thead>\n",
       "  <tbody>\n",
       "    <tr>\n",
       "      <th>0</th>\n",
       "      <td>-2.684126</td>\n",
       "      <td>0.319397</td>\n",
       "      <td>0</td>\n",
       "    </tr>\n",
       "    <tr>\n",
       "      <th>1</th>\n",
       "      <td>-2.714142</td>\n",
       "      <td>-0.177001</td>\n",
       "      <td>0</td>\n",
       "    </tr>\n",
       "    <tr>\n",
       "      <th>2</th>\n",
       "      <td>-2.888991</td>\n",
       "      <td>-0.144949</td>\n",
       "      <td>0</td>\n",
       "    </tr>\n",
       "    <tr>\n",
       "      <th>3</th>\n",
       "      <td>-2.745343</td>\n",
       "      <td>-0.318299</td>\n",
       "      <td>0</td>\n",
       "    </tr>\n",
       "    <tr>\n",
       "      <th>4</th>\n",
       "      <td>-2.728717</td>\n",
       "      <td>0.326755</td>\n",
       "      <td>0</td>\n",
       "    </tr>\n",
       "  </tbody>\n",
       "</table>\n",
       "</div>"
      ],
      "text/plain": [
       "        pc1       pc2  target\n",
       "0 -2.684126  0.319397       0\n",
       "1 -2.714142 -0.177001       0\n",
       "2 -2.888991 -0.144949       0\n",
       "3 -2.745343 -0.318299       0\n",
       "4 -2.728717  0.326755       0"
      ]
     },
     "execution_count": 33,
     "metadata": {},
     "output_type": "execute_result"
    }
   ],
   "source": [
    "pca = PCA(n_components=2, copy=True, random_state=1414)\n",
    "pca_res = pca.fit_transform(X)\n",
    "pca_df = pd.DataFrame(pca_res, columns=['pc1','pc2'])\n",
    "print(pca_df.shape)\n",
    "pca_df[\"target\"] = df[\"target\"]\n",
    "pca_df.head()"
   ]
  },
  {
   "cell_type": "code",
   "execution_count": 45,
   "id": "44ffe079-6b57-456d-ba9f-8247088561eb",
   "metadata": {},
   "outputs": [
    {
     "data": {
      "text/html": [
       "<div>\n",
       "<style scoped>\n",
       "    .dataframe tbody tr th:only-of-type {\n",
       "        vertical-align: middle;\n",
       "    }\n",
       "\n",
       "    .dataframe tbody tr th {\n",
       "        vertical-align: top;\n",
       "    }\n",
       "\n",
       "    .dataframe thead th {\n",
       "        text-align: right;\n",
       "    }\n",
       "</style>\n",
       "<table border=\"1\" class=\"dataframe\">\n",
       "  <thead>\n",
       "    <tr style=\"text-align: right;\">\n",
       "      <th></th>\n",
       "      <th>pc1</th>\n",
       "      <th>pc2</th>\n",
       "    </tr>\n",
       "  </thead>\n",
       "  <tbody>\n",
       "    <tr>\n",
       "      <th>0</th>\n",
       "      <td>-1.309711</td>\n",
       "      <td>0.650541</td>\n",
       "    </tr>\n",
       "    <tr>\n",
       "      <th>1</th>\n",
       "      <td>-1.324357</td>\n",
       "      <td>-0.360512</td>\n",
       "    </tr>\n",
       "    <tr>\n",
       "      <th>2</th>\n",
       "      <td>-1.409674</td>\n",
       "      <td>-0.295230</td>\n",
       "    </tr>\n",
       "    <tr>\n",
       "      <th>3</th>\n",
       "      <td>-1.339582</td>\n",
       "      <td>-0.648304</td>\n",
       "    </tr>\n",
       "    <tr>\n",
       "      <th>4</th>\n",
       "      <td>-1.331469</td>\n",
       "      <td>0.665527</td>\n",
       "    </tr>\n",
       "  </tbody>\n",
       "</table>\n",
       "</div>"
      ],
      "text/plain": [
       "        pc1       pc2\n",
       "0 -1.309711  0.650541\n",
       "1 -1.324357 -0.360512\n",
       "2 -1.409674 -0.295230\n",
       "3 -1.339582 -0.648304\n",
       "4 -1.331469  0.665527"
      ]
     },
     "execution_count": 45,
     "metadata": {},
     "output_type": "execute_result"
    }
   ],
   "source": [
    "from sklearn.preprocessing import StandardScaler\n",
    "scaler = StandardScaler()\n",
    "scaler_df = scaler.fit_transform(pca_df[['pc1','pc2']])\n",
    "scaler_df = pd.DataFrame(scaler_df, columns=['pc1', 'pc2'])\n",
    "pca_df[\"target\"] = df[\"target\"]\n",
    "scaler_df.head()"
   ]
  },
  {
   "cell_type": "markdown",
   "id": "b570d6de-26ec-400a-80d7-3f8602255f83",
   "metadata": {
    "tags": []
   },
   "source": [
    "## PCA이후 산점도"
   ]
  },
  {
   "cell_type": "code",
   "execution_count": null,
   "id": "b5c11a68-a0a9-4794-a12f-75274b9fa2ad",
   "metadata": {},
   "outputs": [
    {
     "data": {
      "image/png": "[encoded data removed]",
      "text/plain": [
       "<Figure size 432x288 with 1 Axes>"
      ]
     },
     "metadata": {
      "needs_background": "light"
     },
     "output_type": "display_data"
    }
   ],
   "source": [
    "sns.scatterplot(data=pca_df[pca_df['target']==0], x=\"pc1\", y=\"pc2\", label=\"0\")\n",
    "sns.scatterplot(data=pca_df[pca_df['target']==1], x=\"pc1\", y=\"pc2\", label=\"1\")\n",
    "sns.scatterplot(data=pca_df[pca_df['target']==2], x=\"pc1\", y=\"pc2\", label=\"2\")\n",
    "plt.legend()\n",
    "plt.show()"
   ]
  },
  {
   "cell_type": "markdown",
   "id": "7699ebb8-45f3-4a1c-9663-16e20e870468",
   "metadata": {},
   "source": [
    "# 3차 점수 확인 : PCA 후"
   ]
  },
  {
   "cell_type": "code",
   "execution_count": 35,
   "id": "441da49c-52de-42b4-9ed0-86b0d4b5547a",
   "metadata": {},
   "outputs": [
    {
     "name": "stdout",
     "output_type": "stream",
     "text": [
      "[766.1659556405622, 163.86413939369896, 73.10117647782648, 52.91103843719557, 37.46034849373916, 30.122279098234433, 23.585016375821866, 19.55250485254846, 17.43914616647154, 15.377594625643725]\n"
     ]
    }
   ],
   "source": [
    "my_cluster = np.arange(1, 11)\n",
    "inertia_list = []\n",
    "\n",
    "inertia_list = []\n",
    "for k in my_cluster:\n",
    "    model = KMeans(n_clusters=k)\n",
    "    model.fit(pca_df)\n",
    "    inertia_list.append(model.inertia_)   #대표노드와 각 노드간의 거리 합\n",
    "print(inertia_list)   "
   ]
  },
  {
   "cell_type": "code",
   "execution_count": 36,
   "id": "0127465d-c60a-411c-9599-c703aec01ea2",
   "metadata": {},
   "outputs": [
    {
     "data": {
      "image/png": "[encoded data removed]",
      "text/plain": [
       "<Figure size 432x288 with 1 Axes>"
      ]
     },
     "metadata": {
      "needs_background": "light"
     },
     "output_type": "display_data"
    }
   ],
   "source": [
    "plt.plot(np.arange(1, 11), inertia_list)\n",
    "plt.xlabel(\"cluster count\")\n",
    "plt.ylabel(\"inertia\")\n",
    "plt.show()"
   ]
  },
  {
   "cell_type": "markdown",
   "id": "9f034765-3b51-4b5f-b093-36ba7b09f946",
   "metadata": {},
   "source": [
    "## cluster 수 4개"
   ]
  },
  {
   "cell_type": "code",
   "execution_count": 47,
   "id": "01c13017-078d-411e-b9a8-d9d77ac35ee9",
   "metadata": {},
   "outputs": [
    {
     "data": {
      "text/html": [
       "<div>\n",
       "<style scoped>\n",
       "    .dataframe tbody tr th:only-of-type {\n",
       "        vertical-align: middle;\n",
       "    }\n",
       "\n",
       "    .dataframe tbody tr th {\n",
       "        vertical-align: top;\n",
       "    }\n",
       "\n",
       "    .dataframe thead th {\n",
       "        text-align: right;\n",
       "    }\n",
       "</style>\n",
       "<table border=\"1\" class=\"dataframe\">\n",
       "  <thead>\n",
       "    <tr style=\"text-align: right;\">\n",
       "      <th></th>\n",
       "      <th>pc1</th>\n",
       "      <th>pc2</th>\n",
       "      <th>target</th>\n",
       "      <th>cluster_label</th>\n",
       "    </tr>\n",
       "  </thead>\n",
       "  <tbody>\n",
       "    <tr>\n",
       "      <th>0</th>\n",
       "      <td>-2.684126</td>\n",
       "      <td>0.319397</td>\n",
       "      <td>0</td>\n",
       "      <td>1</td>\n",
       "    </tr>\n",
       "    <tr>\n",
       "      <th>1</th>\n",
       "      <td>-2.714142</td>\n",
       "      <td>-0.177001</td>\n",
       "      <td>0</td>\n",
       "      <td>1</td>\n",
       "    </tr>\n",
       "    <tr>\n",
       "      <th>2</th>\n",
       "      <td>-2.888991</td>\n",
       "      <td>-0.144949</td>\n",
       "      <td>0</td>\n",
       "      <td>1</td>\n",
       "    </tr>\n",
       "    <tr>\n",
       "      <th>3</th>\n",
       "      <td>-2.745343</td>\n",
       "      <td>-0.318299</td>\n",
       "      <td>0</td>\n",
       "      <td>1</td>\n",
       "    </tr>\n",
       "    <tr>\n",
       "      <th>4</th>\n",
       "      <td>-2.728717</td>\n",
       "      <td>0.326755</td>\n",
       "      <td>0</td>\n",
       "      <td>1</td>\n",
       "    </tr>\n",
       "  </tbody>\n",
       "</table>\n",
       "</div>"
      ],
      "text/plain": [
       "        pc1       pc2  target  cluster_label\n",
       "0 -2.684126  0.319397       0              1\n",
       "1 -2.714142 -0.177001       0              1\n",
       "2 -2.888991 -0.144949       0              1\n",
       "3 -2.745343 -0.318299       0              1\n",
       "4 -2.728717  0.326755       0              1"
      ]
     },
     "execution_count": 47,
     "metadata": {},
     "output_type": "execute_result"
    }
   ],
   "source": [
    "model = KMeans(n_clusters=4)\n",
    "model.fit(pca_df)\n",
    "pred = model.predict(pca_df)\n",
    "pca_df[\"cluster_label\"] = pred.reshape(-1,1)\n",
    "pca_df.head()\n"
   ]
  },
  {
   "cell_type": "code",
   "execution_count": 41,
   "id": "e31dfa60-fbc3-4523-9efd-afcc0208515d",
   "metadata": {},
   "outputs": [
    {
     "data": {
      "image/png": "[encoded data removed]",
      "text/plain": [
       "<Figure size 432x288 with 1 Axes>"
      ]
     },
     "metadata": {
      "needs_background": "light"
     },
     "output_type": "display_data"
    }
   ],
   "source": [
    "cc = pd.DataFrame(model.cluster_centers_)\n",
    "sns.scatterplot(data=pca_df, x='pc1', y='pc2', hue='cluster_label')\n",
    "sns.scatterplot(data=cc, x=0, y=1)\n",
    "plt.show()"
   ]
  },
  {
   "cell_type": "code",
   "execution_count": 43,
   "id": "2f7b890b-204a-4646-8aa8-f5fedd5bb4c6",
   "metadata": {},
   "outputs": [],
   "source": [
    "# silhouette_score = silhouette_score(pca_df[['pc1','pc2']] , pca_df['cluster_label']  )\n"
   ]
  }
 ],
 "metadata": {
  "kernelspec": {
   "display_name": "Python 3 (ipykernel)",
   "language": "python",
   "name": "python3"
  },
  "language_info": {
   "codemirror_mode": {
    "name": "ipython",
    "version": 3
   },
   "file_extension": ".py",
   "mimetype": "text/x-python",
   "name": "python",
   "nbconvert_exporter": "python",
   "pygments_lexer": "ipython3",
   "version": "3.8.8"
  }
 },
 "nbformat": 4,
 "nbformat_minor": 5
}
