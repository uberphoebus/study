{
 "cells": [
  {
   "cell_type": "markdown",
   "id": "e19d5fa3",
   "metadata": {},
   "source": [
    "# 제어문"
   ]
  },
  {
   "cell_type": "markdown",
   "id": "e91171b9",
   "metadata": {},
   "source": [
    "### if"
   ]
  },
  {
   "cell_type": "code",
   "execution_count": 1,
   "id": "fcd435bb",
   "metadata": {},
   "outputs": [
    {
     "name": "stdout",
     "output_type": "stream",
     "text": [
      "Fail\n"
     ]
    }
   ],
   "source": [
    "x = 75\n",
    "if x >= 90:\n",
    "    print(\"Pass\")\n",
    "else:\n",
    "    print(\"Fail\")"
   ]
  },
  {
   "cell_type": "code",
   "execution_count": null,
   "id": "28b40a84",
   "metadata": {},
   "outputs": [],
   "source": [
    "score = int(input(\" 점수는?\"))\n",
    "if score >=90:\n",
    "    if score ==100:\n",
    "        degree = \"perfect\"\n",
    "    else:\n",
    "        degree = \"fantastic\"\n",
    "\n",
    "print(score, \"는\", degree, \"등급이세요\")"
   ]
  },
  {
   "cell_type": "markdown",
   "id": "42c7dee2",
   "metadata": {},
   "source": [
    "## for문"
   ]
  },
  {
   "cell_type": "code",
   "execution_count": 8,
   "id": "a1ad74dc",
   "metadata": {},
   "outputs": [
    {
     "name": "stdout",
     "output_type": "stream",
     "text": [
      "0\n",
      "2\n",
      "4\n",
      "6\n"
     ]
    }
   ],
   "source": [
    "for a in range(0, 7, 2):\n",
    "    print(a)"
   ]
  },
  {
   "cell_type": "code",
   "execution_count": null,
   "id": "1648ab84",
   "metadata": {},
   "outputs": [],
   "source": [
    "range(0, 10, 1)"
   ]
  },
  {
   "cell_type": "code",
   "execution_count": null,
   "id": "82f2f6c0",
   "metadata": {},
   "outputs": [],
   "source": [
    "print(list(range(0, 10, 1)))\n",
    "print(list(range(10)))"
   ]
  },
  {
   "cell_type": "code",
   "execution_count": 11,
   "id": "415bb895",
   "metadata": {},
   "outputs": [
    {
     "data": {
      "text/plain": [
       "['j', 'i', 'n', 'w', 'o', 'o', 's', 'u', 'n']"
      ]
     },
     "execution_count": 11,
     "metadata": {},
     "output_type": "execute_result"
    }
   ],
   "source": [
    "tony = ['j','i','n','w','o','o','s','u','n']\n",
    "tony"
   ]
  },
  {
   "cell_type": "code",
   "execution_count": 16,
   "id": "8dd29734",
   "metadata": {},
   "outputs": [
    {
     "name": "stdout",
     "output_type": "stream",
     "text": [
      "j\n",
      "i\n",
      "n\n",
      "w\n",
      "o\n",
      "o\n",
      "s\n",
      "u\n",
      "n\n"
     ]
    }
   ],
   "source": [
    "for i in tony:\n",
    "    print(i)"
   ]
  },
  {
   "cell_type": "code",
   "execution_count": 17,
   "id": "c7c71d1f",
   "metadata": {},
   "outputs": [
    {
     "name": "stdout",
     "output_type": "stream",
     "text": [
      "range(1, 5, 2)\n"
     ]
    }
   ],
   "source": [
    "print(range(1,5,2))"
   ]
  },
  {
   "cell_type": "code",
   "execution_count": 18,
   "id": "77a7b0cb",
   "metadata": {},
   "outputs": [
    {
     "data": {
      "text/plain": [
       "range(1, 5, 2)"
      ]
     },
     "execution_count": 18,
     "metadata": {},
     "output_type": "execute_result"
    }
   ],
   "source": [
    "range(1,5,2)"
   ]
  },
  {
   "cell_type": "code",
   "execution_count": 19,
   "id": "d8db7949",
   "metadata": {},
   "outputs": [
    {
     "data": {
      "text/plain": [
       "[1, 3]"
      ]
     },
     "execution_count": 19,
     "metadata": {},
     "output_type": "execute_result"
    }
   ],
   "source": [
    "list(range(1,5,2))"
   ]
  },
  {
   "cell_type": "code",
   "execution_count": 27,
   "id": "fc87cf64",
   "metadata": {},
   "outputs": [
    {
     "name": "stdout",
     "output_type": "stream",
     "text": [
      "1\n",
      "5\n",
      "9\n",
      "13\n"
     ]
    }
   ],
   "source": [
    "for i in range(1,17,4):\n",
    "    print(i)"
   ]
  },
  {
   "cell_type": "code",
   "execution_count": 28,
   "id": "23e5929b",
   "metadata": {},
   "outputs": [
    {
     "name": "stdout",
     "output_type": "stream",
     "text": [
      "[0, 3, 6, 9, 12, 15, 18]\n",
      "[-7, -5, -3, -1, 1]\n",
      "[3, 0, -3, -6, -9, -12, -15]\n",
      "[]\n"
     ]
    }
   ],
   "source": [
    "print(list(range(0, 20, 3)))\n",
    "print(list(range(-7, 2, 2)))\n",
    "print(list(range(3, -16, -3)))\n",
    "print(list(range(0, -8, 1)))"
   ]
  },
  {
   "cell_type": "code",
   "execution_count": 33,
   "id": "3d0739dd",
   "metadata": {
    "scrolled": true
   },
   "outputs": [
    {
     "name": "stdout",
     "output_type": "stream",
     "text": [
      "x : y : z\n",
      "x1 y1 z1\n",
      "x1 y1 z2\n",
      "x1 y1 z3\n",
      "x1 y2 z1\n",
      "x1 y2 z2\n",
      "x1 y2 z3\n",
      "x1 y3 z1\n",
      "x1 y3 z2\n",
      "x1 y3 z3\n",
      "x2 y1 z1\n",
      "x2 y1 z2\n",
      "x2 y1 z3\n",
      "x2 y2 z1\n",
      "x2 y2 z2\n",
      "x2 y2 z3\n",
      "x2 y3 z1\n",
      "x2 y3 z2\n",
      "x2 y3 z3\n",
      "x3 y1 z1\n",
      "x3 y1 z2\n",
      "x3 y1 z3\n",
      "x3 y2 z1\n",
      "x3 y2 z2\n",
      "x3 y2 z3\n",
      "x3 y3 z1\n",
      "x3 y3 z2\n",
      "x3 y3 z3\n"
     ]
    }
   ],
   "source": [
    "x_lst = ['x1', 'x2', 'x3']\n",
    "y_lst = ['y1', 'y2', 'y3']\n",
    "z_lst = ['z1', 'z2', 'z3']\n",
    "\n",
    "print('x : y : z')\n",
    "for x in x_lst:\n",
    "    for y in y_lst:\n",
    "        for z in z_lst:\n",
    "            print(x, y, z)"
   ]
  },
  {
   "cell_type": "code",
   "execution_count": null,
   "id": "6f949912",
   "metadata": {},
   "outputs": [],
   "source": [
    "화면 입출력"
   ]
  },
  {
   "cell_type": "code",
   "execution_count": 37,
   "id": "ae8f17b2",
   "metadata": {},
   "outputs": [
    {
     "name": "stdout",
     "output_type": "stream",
     "text": [
      "jin--woo--sun\n"
     ]
    }
   ],
   "source": [
    "print('jin', 'woo', 'sun', sep = '--')"
   ]
  },
  {
   "cell_type": "code",
   "execution_count": 39,
   "id": "dd22951e",
   "metadata": {},
   "outputs": [
    {
     "name": "stdout",
     "output_type": "stream",
     "text": [
      "jin woo \n",
      "sun\n"
     ]
    }
   ],
   "source": [
    "print('jin', 'woo','\\nsun')"
   ]
  },
  {
   "cell_type": "code",
   "execution_count": 40,
   "id": "d088310e",
   "metadata": {},
   "outputs": [
    {
     "name": "stdout",
     "output_type": "stream",
     "text": [
      "welc to pyth\n"
     ]
    }
   ],
   "source": [
    "print('welc to ', end='') # end='' 줄 바꿈 없이 연결\n",
    "print('pyth')"
   ]
  },
  {
   "cell_type": "code",
   "execution_count": 8,
   "id": "892651d6",
   "metadata": {},
   "outputs": [],
   "source": [
    "with open('mytxtf.txt', 'w') as f:\n",
    "    f.write('with문 읽고 쓰기1\\n')\n",
    "    f.write('with문 읽고 쓰기2\\n')\n",
    "    f.write('with문 읽고 쓰기3\\n')"
   ]
  },
  {
   "cell_type": "code",
   "execution_count": 9,
   "id": "975c5603",
   "metadata": {},
   "outputs": [
    {
     "name": "stdout",
     "output_type": "stream",
     "text": [
      "with문 읽고 쓰기1\n",
      "with문 읽고 쓰기2\n",
      "with문 읽고 쓰기3\n",
      "\n"
     ]
    }
   ],
   "source": [
    "with open('mytxtf.txt', 'r') as f:\n",
    "    fs = f.read()\n",
    "    print(fs)"
   ]
  },
  {
   "cell_type": "code",
   "execution_count": null,
   "id": "3f622e9e",
   "metadata": {},
   "outputs": [],
   "source": [
    "함수"
   ]
  },
  {
   "cell_type": "code",
   "execution_count": 16,
   "id": "1b1b5f4b",
   "metadata": {},
   "outputs": [
    {
     "name": "stdout",
     "output_type": "stream",
     "text": [
      "my tuhrn\n",
      "give anme\n"
     ]
    }
   ],
   "source": [
    "def ton():\n",
    "    print('my tuhrn')\n",
    "    print('give anme')\n",
    "\n",
    "ton()"
   ]
  },
  {
   "cell_type": "code",
   "execution_count": 37,
   "id": "c53b250e",
   "metadata": {},
   "outputs": [
    {
     "name": "stdout",
     "output_type": "stream",
     "text": [
      "----------------------------\n",
      "-- 학급 번호 : ad\n",
      "-- 학생이름 : 23\n",
      "-- 전화번호 : 12345\n"
     ]
    }
   ],
   "source": [
    "def ws(a, b, c):\n",
    "    print('----------------------------')\n",
    "    print('-- 학급 번호 :', a)\n",
    "    print('-- 학생이름 :', b)\n",
    "    print('-- 전화번호 :', c)\n",
    "    \n",
    "ws('ad', '23', '12345')"
   ]
  },
  {
   "cell_type": "code",
   "execution_count": 27,
   "id": "2f20e396",
   "metadata": {},
   "outputs": [
    {
     "name": "stdout",
     "output_type": "stream",
     "text": [
      "------------------------------\n",
      "* 학생이름: 우선\n",
      "* 학급번호: 02\n",
      "* 전화번호: 123-3423-2342\n",
      "------------------------------\n",
      "------------------------------\n",
      "* 학생이름: 밥우\n",
      "* 학급번호: 02\n",
      "* 전화번호: 123-3423-2342\n",
      "------------------------------\n"
     ]
    }
   ],
   "source": [
    "def tony():\n",
    "    print('-'*30)\n",
    "    print('* 학생이름:', si[0])\n",
    "    print('* 학급번호:', si[1])\n",
    "    print('* 전화번호:', si[2])\n",
    "    print('-'*30)\n",
    "\n",
    "tony = ['우선', '02', '123-3423-2342']\n",
    "msil(tn)\n",
    "\n",
    "msil(['밥우', '02', '123-3423-2342']) "
   ]
  },
  {
   "cell_type": "code",
   "execution_count": 29,
   "id": "da75ccc8",
   "metadata": {},
   "outputs": [
    {
     "name": "stdout",
     "output_type": "stream",
     "text": [
      "진우선은 키ㅜㅡㄹ둠\n"
     ]
    }
   ],
   "source": [
    "def 우선():\n",
    "    print('진우선은 키ㅜㅡㄹ둠'.format(우선))\n",
    "\n",
    "우선()"
   ]
  },
  {
   "cell_type": "code",
   "execution_count": null,
   "id": "a3207187",
   "metadata": {},
   "outputs": [],
   "source": [
    "a = 5 # 전역변수\n",
    "\n",
    "def f1():\n",
    "    a = 1 # f1 지역변수\n",
    "    print('[f1] 지역변수 a =', a)\n",
    "\n",
    "def f2():\n",
    "    a = 2 # f2 지역변수\n",
    "    print('[f2] 지역변수 a =', a)\n",
    "\n",
    "def f3():\n",
    "    print('[f3] 전역변수 a =', a)\n",
    "\n",
    "def f4():\n",
    "    global a # 함수 내 전역변수 변경\n",
    "    a = 4 # 전역변수 값 변경\n",
    "    print('[f4] 전역변수 a =', a)\n",
    "\n",
    "f1()\n",
    "f2()\n",
    "print(a) # 전역변수 a = 5 확인\n",
    "\n",
    "f3()\n",
    "f4() # 전역변수 변경\n",
    "f3() # 변경된 전역변수 적용"
   ]
  },
  {
   "cell_type": "code",
   "execution_count": null,
   "id": "b5602872",
   "metadata": {},
   "outputs": [],
   "source": [
    "print(bool(0))\n",
    "print(bool(1))\n",
    "print(bool(-89))\n",
    "\n",
    "print(bool('a'))\n",
    "print(bool(' '))\n",
    "print(bool(''))\n",
    "print(bool(None)) "
   ]
  },
  {
   "cell_type": "code",
   "execution_count": null,
   "id": "0989f5f8",
   "metadata": {},
   "outputs": [],
   "source": [
    "myf = []\n",
    "print(bool(myf))\n",
    "\n",
    "myf = ['ja']\n",
    "print(bool(myf))\n",
    "\n",
    "myn = ()\n",
    "print(bool(myn))\n",
    "\n",
    "myn = (1, 2, 3)\n",
    "print(bool(myn))\n",
    "\n",
    "mys = {}\n",
    "print(bool(mys))\n",
    "\n",
    "mys = {1, 3, 4}\n",
    "print(bool(mys))"
   ]
  },
  {
   "cell_type": "code",
   "execution_count": null,
   "id": "387d67d9",
   "metadata": {},
   "outputs": [],
   "source": [
    "print(len('ab cd')) # 문자열의 문자 개수\n",
    "\n",
    "print(len(abc)) # 리스트의 항목 개수\n",
    "\n",
    "print(len((5, 6, 3)))\n",
    "\n",
    "print(len({'a':3, 'c':4, 'b':90, 'd':29}))"
   ]
  },
  {
   "cell_type": "code",
   "execution_count": 38,
   "id": "4336bc4b",
   "metadata": {},
   "outputs": [
    {
     "name": "stdout",
     "output_type": "stream",
     "text": [
      "총점 370, 평균92.5\n"
     ]
    }
   ],
   "source": [
    "score = [90,95,100,85]\n",
    "\n",
    "tot = 0\n",
    "cnt = 0\n",
    "\n",
    "for i in score:\n",
    "    tot += i\n",
    "    cnt += 1\n",
    "avg = tot / cnt\n",
    "\n",
    "print(\"총점 {}, 평균{}\".format(tot,avg))"
   ]
  },
  {
   "cell_type": "code",
   "execution_count": null,
   "id": "168f1ef0",
   "metadata": {},
   "outputs": [],
   "source": []
  },
  {
   "cell_type": "code",
   "execution_count": null,
   "id": "fce8ade8",
   "metadata": {},
   "outputs": [],
   "source": []
  },
  {
   "cell_type": "code",
   "execution_count": null,
   "id": "23a4c1fa",
   "metadata": {},
   "outputs": [],
   "source": []
  },
  {
   "cell_type": "code",
   "execution_count": null,
   "id": "5145ed65",
   "metadata": {},
   "outputs": [],
   "source": []
  },
  {
   "cell_type": "code",
   "execution_count": null,
   "id": "cf6b911d",
   "metadata": {},
   "outputs": [],
   "source": []
  },
  {
   "cell_type": "code",
   "execution_count": null,
   "id": "6468b67d",
   "metadata": {},
   "outputs": [],
   "source": []
  },
  {
   "cell_type": "code",
   "execution_count": null,
   "id": "865cb024",
   "metadata": {},
   "outputs": [],
   "source": []
  },
  {
   "cell_type": "code",
   "execution_count": null,
   "id": "b6b59b42",
   "metadata": {},
   "outputs": [],
   "source": []
  },
  {
   "cell_type": "code",
   "execution_count": null,
   "id": "626ff33b",
   "metadata": {},
   "outputs": [],
   "source": []
  },
  {
   "cell_type": "code",
   "execution_count": null,
   "id": "db5e45dd",
   "metadata": {},
   "outputs": [],
   "source": []
  },
  {
   "cell_type": "code",
   "execution_count": null,
   "id": "14666a62",
   "metadata": {},
   "outputs": [],
   "source": []
  },
  {
   "cell_type": "code",
   "execution_count": null,
   "id": "615004d3",
   "metadata": {},
   "outputs": [],
   "source": []
  },
  {
   "cell_type": "code",
   "execution_count": null,
   "id": "e94e2389",
   "metadata": {},
   "outputs": [],
   "source": []
  },
  {
   "cell_type": "code",
   "execution_count": null,
   "id": "3214caec",
   "metadata": {},
   "outputs": [],
   "source": []
  },
  {
   "cell_type": "code",
   "execution_count": null,
   "id": "246c9538",
   "metadata": {},
   "outputs": [],
   "source": []
  },
  {
   "cell_type": "code",
   "execution_count": 36,
   "id": "dcc9aedc",
   "metadata": {},
   "outputs": [
    {
     "name": "stdout",
     "output_type": "stream",
     "text": [
      "5\n",
      "7\n",
      "4\n",
      "4\n"
     ]
    }
   ],
   "source": [
    "abcd = [1,2,3,4,5,6,7]\n",
    "\n",
    "print(len('ab cd')) # 문자열의 문자 개수\n",
    "\n",
    "print(len(abcd)) # 리스트의 항목 개수\n",
    "\n",
    "print(len((2, 4, 6, 3)))\n",
    "\n",
    "print(len({'a':1, 'c':2, 'b':3, 'd':4}))"
   ]
  },
  {
   "cell_type": "code",
   "execution_count": null,
   "id": "5cfc082e",
   "metadata": {},
   "outputs": [],
   "source": []
  }
 ],
 "metadata": {
  "kernelspec": {
   "display_name": "Python 3",
   "language": "python",
   "name": "python3"
  },
  "language_info": {
   "codemirror_mode": {
    "name": "ipython",
    "version": 3
   },
   "file_extension": ".py",
   "mimetype": "text/x-python",
   "name": "python",
   "nbconvert_exporter": "python",
   "pygments_lexer": "ipython3",
   "version": "3.8.8"
  }
 },
 "nbformat": 4,
 "nbformat_minor": 5
}
