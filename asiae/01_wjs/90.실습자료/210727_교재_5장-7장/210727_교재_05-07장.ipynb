{
 "cells": [
  {
   "cell_type": "code",
   "execution_count": 1,
   "id": "e80129a0",
   "metadata": {},
   "outputs": [],
   "source": [
    "#210727_교재_05-07장\n"
   ]
  },
  {
   "cell_type": "code",
   "execution_count": 2,
   "id": "79421f11",
   "metadata": {},
   "outputs": [],
   "source": [
    "#1. 조건에 따라 분기하는 if문\n"
   ]
  },
  {
   "cell_type": "code",
   "execution_count": 3,
   "id": "4f76172b",
   "metadata": {},
   "outputs": [
    {
     "name": "stdout",
     "output_type": "stream",
     "text": [
      "pass\n"
     ]
    }
   ],
   "source": [
    "#1) 단일조건에 따른 분기(if)\n",
    "x=95\n",
    "if x>=90:\n",
    "    print(\"pass\")"
   ]
  },
  {
   "cell_type": "code",
   "execution_count": 4,
   "id": "da6f2e6d",
   "metadata": {},
   "outputs": [],
   "source": [
    "#2)단일 조건 및 그 외 조건에 따른 분기(if ~else)"
   ]
  },
  {
   "cell_type": "code",
   "execution_count": 6,
   "id": "5eb562ab",
   "metadata": {},
   "outputs": [
    {
     "name": "stdout",
     "output_type": "stream",
     "text": [
      "fail\n"
     ]
    }
   ],
   "source": [
    "x = 75\n",
    "if x >= 90:\n",
    "    print(\"pass\")\n",
    "else:\n",
    "    print(\"fail\")"
   ]
  },
  {
   "cell_type": "code",
   "execution_count": 7,
   "id": "05d346c5",
   "metadata": {},
   "outputs": [],
   "source": [
    "#3)여러 조건에 따른 분기(if~elid~else)"
   ]
  },
  {
   "cell_type": "code",
   "execution_count": 8,
   "id": "56af9a4e",
   "metadata": {},
   "outputs": [
    {
     "name": "stdout",
     "output_type": "stream",
     "text": [
      "good\n"
     ]
    }
   ],
   "source": [
    "x= 85\n",
    "if x >= 90:\n",
    "    print(\"very good\")\n",
    "elif 80<= x <90:\n",
    "    print(\"good\")\n",
    "else:\n",
    "    print(\"bad\")"
   ]
  },
  {
   "cell_type": "code",
   "execution_count": 9,
   "id": "946a45b3",
   "metadata": {},
   "outputs": [],
   "source": [
    "#4)중첩조건에 따른 분기\n"
   ]
  },
  {
   "cell_type": "code",
   "execution_count": 11,
   "id": "e221262a",
   "metadata": {},
   "outputs": [
    {
     "name": "stdout",
     "output_type": "stream",
     "text": [
      "perfect\n"
     ]
    }
   ],
   "source": [
    "x = 100\n",
    "if x>=90:\n",
    "    if x==100:\n",
    "        print(\"perfect\")\n",
    "    else:\n",
    "        print(\"very good\")\n",
    "elif x>=80 and x<90:\n",
    "        print(\"good\")\n",
    "else:\n",
    "        print(\"bad\")"
   ]
  },
  {
   "cell_type": "code",
   "execution_count": 12,
   "id": "c655f563",
   "metadata": {},
   "outputs": [],
   "source": [
    "#2. 지정된 범위만큼 반복하는 for문\n",
    "#반복범위 지정"
   ]
  },
  {
   "cell_type": "code",
   "execution_count": 13,
   "id": "7f77bdf1",
   "metadata": {},
   "outputs": [],
   "source": [
    "#1)리스트 이용"
   ]
  },
  {
   "cell_type": "code",
   "execution_count": 15,
   "id": "f6e86f71",
   "metadata": {},
   "outputs": [
    {
     "name": "stdout",
     "output_type": "stream",
     "text": [
      "0\n",
      "1\n",
      "2\n",
      "3\n",
      "4\n",
      "5\n"
     ]
    }
   ],
   "source": [
    "for a in [0,1,2,3,4,5]:\n",
    "    print(a)"
   ]
  },
  {
   "cell_type": "code",
   "execution_count": 16,
   "id": "83d74436",
   "metadata": {},
   "outputs": [
    {
     "name": "stdout",
     "output_type": "stream",
     "text": [
      "James\n",
      "Robert\n",
      "Lisa\n",
      "Mary\n"
     ]
    }
   ],
   "source": [
    "myfriends = ['James', 'Robert', 'Lisa', 'Mary']\n",
    "for myfriend in myfriends:\n",
    "    print(myfriend)"
   ]
  },
  {
   "cell_type": "code",
   "execution_count": 17,
   "id": "250d64d5",
   "metadata": {},
   "outputs": [],
   "source": [
    "#2)range()함수 이용"
   ]
  },
  {
   "cell_type": "code",
   "execution_count": 18,
   "id": "ea2ba7cc",
   "metadata": {},
   "outputs": [
    {
     "name": "stdout",
     "output_type": "stream",
     "text": [
      "range(0, 10)\n"
     ]
    }
   ],
   "source": [
    "print(range(0,10,1))"
   ]
  },
  {
   "cell_type": "code",
   "execution_count": 20,
   "id": "37b19893",
   "metadata": {},
   "outputs": [
    {
     "name": "stdout",
     "output_type": "stream",
     "text": [
      "[0, 1, 2, 3, 4, 5, 6, 7, 8, 9]\n"
     ]
    }
   ],
   "source": [
    "print(list(range(0,10,1)))"
   ]
  },
  {
   "cell_type": "code",
   "execution_count": 21,
   "id": "31720f9a",
   "metadata": {},
   "outputs": [
    {
     "name": "stdout",
     "output_type": "stream",
     "text": [
      "0\n",
      "1\n",
      "2\n",
      "3\n",
      "4\n",
      "5\n"
     ]
    }
   ],
   "source": [
    "for a in range(0,6,1):\n",
    "    print(a)"
   ]
  },
  {
   "cell_type": "code",
   "execution_count": 22,
   "id": "d22ddd1b",
   "metadata": {},
   "outputs": [
    {
     "name": "stdout",
     "output_type": "stream",
     "text": [
      "0\n",
      "2\n",
      "4\n"
     ]
    }
   ],
   "source": [
    "for a in range(0,6,2):\n",
    "    print(a)"
   ]
  },
  {
   "cell_type": "code",
   "execution_count": 23,
   "id": "ed750176",
   "metadata": {},
   "outputs": [
    {
     "name": "stdout",
     "output_type": "stream",
     "text": [
      "[0, 1, 2, 3, 4, 5, 6, 7, 8, 9]\n",
      "[0, 1, 2, 3, 4, 5, 6, 7, 8, 9]\n",
      "[0, 1, 2, 3, 4, 5, 6, 7, 8, 9]\n"
     ]
    }
   ],
   "source": [
    "print(list(range(0,10,1)))\n",
    "print(list(range(0,10)))\n",
    "print(list(range(10)))"
   ]
  },
  {
   "cell_type": "code",
   "execution_count": 24,
   "id": "c2dbcb56",
   "metadata": {},
   "outputs": [
    {
     "name": "stdout",
     "output_type": "stream",
     "text": [
      "[0, 5, 10, 15]\n",
      "[-10, -8, -6, -4, -2]\n",
      "[3, 0, -3, -6, -9]\n",
      "[]\n"
     ]
    }
   ],
   "source": [
    "print(list(range(0,20,5)))\n",
    "print(list(range(-10,0,2)))\n",
    "print(list(range(3,-10,-3)))\n",
    "print(list(range(0,-5,1)))"
   ]
  },
  {
   "cell_type": "code",
   "execution_count": 25,
   "id": "4be5a8e9",
   "metadata": {},
   "outputs": [],
   "source": [
    "#3. 중첩 for문"
   ]
  },
  {
   "cell_type": "code",
   "execution_count": 30,
   "id": "1c6c658d",
   "metadata": {},
   "outputs": [
    {
     "name": "stdout",
     "output_type": "stream",
     "text": [
      "x  y\n",
      "x1 y1\n",
      "x1 y2\n",
      "x2 y1\n",
      "x2 y2\n"
     ]
    }
   ],
   "source": [
    "x_list = ['x1','x2']\n",
    "y_list = ['y1','y2']\n",
    "\n",
    "print(\"x  y\")\n",
    "for x in x_list:\n",
    "    for y in y_list:\n",
    "        print(x,y)"
   ]
  },
  {
   "cell_type": "code",
   "execution_count": 31,
   "id": "89f8be4f",
   "metadata": {},
   "outputs": [],
   "source": [
    "#4. 여러 개의 리스트 다루기"
   ]
  },
  {
   "cell_type": "code",
   "execution_count": 32,
   "id": "c66738e0",
   "metadata": {},
   "outputs": [],
   "source": [
    "names = ['James', 'Robert', 'Lisa', 'Mary']\n",
    "scores = [95,96,97,94]"
   ]
  },
  {
   "cell_type": "code",
   "execution_count": 38,
   "id": "4828436b",
   "metadata": {},
   "outputs": [
    {
     "name": "stdout",
     "output_type": "stream",
     "text": [
      "James 95\n",
      "--------------------\n",
      "Robert 96\n",
      "--------------------\n",
      "Lisa 97\n",
      "--------------------\n",
      "Mary 94\n",
      "--------------------\n",
      "James 95\n",
      "Robert 96\n",
      "Lisa 97\n",
      "Mary 94\n"
     ]
    }
   ],
   "source": [
    "for k in range(len(names)):\n",
    "    print(names[k], scores[k])\n",
    "    print(\"-\"*20)\n",
    "for name, score in zip(names, scores):\n",
    "    print(name, score)"
   ]
  },
  {
   "cell_type": "code",
   "execution_count": 39,
   "id": "212b4c2b",
   "metadata": {},
   "outputs": [],
   "source": [
    "#5. 조건에 따라 반복하는 while문"
   ]
  },
  {
   "cell_type": "code",
   "execution_count": 41,
   "id": "ec562ed8",
   "metadata": {},
   "outputs": [
    {
     "name": "stdout",
     "output_type": "stream",
     "text": [
      "i sum\n",
      "1 1\n",
      "2 3\n",
      "3 6\n",
      "4 10\n",
      "5 15\n",
      "6 21\n"
     ]
    }
   ],
   "source": [
    "i= 0\n",
    "sum =0\n",
    "\n",
    "print(\"i sum\")\n",
    "while(sum<20):\n",
    "    i = i+1\n",
    "    sum = sum+i\n",
    "    print(i, sum)"
   ]
  },
  {
   "cell_type": "code",
   "execution_count": 42,
   "id": "44c326d4",
   "metadata": {},
   "outputs": [],
   "source": [
    "#6. 반복문을 제어하는 break와 continue"
   ]
  },
  {
   "cell_type": "code",
   "execution_count": 53,
   "id": "c3502315",
   "metadata": {},
   "outputs": [
    {
     "name": "stdout",
     "output_type": "stream",
     "text": [
      "4\n"
     ]
    }
   ],
   "source": [
    "k = 0\n",
    "while True:\n",
    "    k = k + 1\n",
    "    \n",
    "    if(k > 3):\n",
    "        break\n",
    "        \n",
    "print(k)"
   ]
  },
  {
   "cell_type": "code",
   "execution_count": 49,
   "id": "c4b49a95",
   "metadata": {},
   "outputs": [
    {
     "name": "stdout",
     "output_type": "stream",
     "text": [
      "3\n"
     ]
    }
   ],
   "source": [
    "for k in range(10):\n",
    "    if (k>2):\n",
    "        break\n",
    "print(k)"
   ]
  },
  {
   "cell_type": "code",
   "execution_count": 54,
   "id": "1cd9592a",
   "metadata": {},
   "outputs": [],
   "source": [
    "#7 다음 반복을 실행하는 continue"
   ]
  },
  {
   "cell_type": "code",
   "execution_count": 55,
   "id": "5847f552",
   "metadata": {},
   "outputs": [
    {
     "name": "stdout",
     "output_type": "stream",
     "text": [
      "4\n"
     ]
    }
   ],
   "source": [
    "for k in range(5):\n",
    "    if (k==2):\n",
    "        continue\n",
    "print(k)"
   ]
  },
  {
   "cell_type": "code",
   "execution_count": 60,
   "id": "324a7fb1",
   "metadata": {},
   "outputs": [
    {
     "name": "stdout",
     "output_type": "stream",
     "text": [
      "continue next\n",
      "5\n"
     ]
    }
   ],
   "source": [
    "k = 0    #??????????????????????????????????????\n",
    "while True:\n",
    "    k= k+1\n",
    "    \n",
    "    if (k==2):\n",
    "        print(\"continue next\")\n",
    "        continue\n",
    "    elif (k>4):\n",
    "        break\n",
    "        \n",
    "print(k)"
   ]
  },
  {
   "cell_type": "code",
   "execution_count": 62,
   "id": "e57a8675",
   "metadata": {},
   "outputs": [],
   "source": [
    "#8. 간단하게 반복하는 한 줄 for문"
   ]
  },
  {
   "cell_type": "code",
   "execution_count": 63,
   "id": "9080f0d8",
   "metadata": {},
   "outputs": [],
   "source": [
    "#1)리스트 컴프리헨션 구조"
   ]
  },
  {
   "cell_type": "code",
   "execution_count": 64,
   "id": "dc136b34",
   "metadata": {},
   "outputs": [
    {
     "name": "stdout",
     "output_type": "stream",
     "text": [
      "[1, 4, 9, 16, 25]\n"
     ]
    }
   ],
   "source": [
    "numbers = [1,2,3,4,5]\n",
    "square = []\n",
    "\n",
    "for i in numbers:\n",
    "    square.append(i**2)\n",
    "    \n",
    "print(square)"
   ]
  },
  {
   "cell_type": "code",
   "execution_count": 65,
   "id": "57b96105",
   "metadata": {},
   "outputs": [
    {
     "name": "stdout",
     "output_type": "stream",
     "text": [
      "[1, 4, 9, 16, 25]\n"
     ]
    }
   ],
   "source": [
    "numbers = [1,2,3,4,5]\n",
    "square = [i**2 for i in numbers]\n",
    "print(square)"
   ]
  },
  {
   "cell_type": "code",
   "execution_count": 66,
   "id": "0bb48e58",
   "metadata": {},
   "outputs": [],
   "source": [
    "#2) 조건문을 포함한 리스트 컴프리헨션"
   ]
  },
  {
   "cell_type": "code",
   "execution_count": 70,
   "id": "7d6f51a5",
   "metadata": {},
   "outputs": [
    {
     "name": "stdout",
     "output_type": "stream",
     "text": [
      "[9, 16, 25]\n"
     ]
    }
   ],
   "source": [
    "numbers=[1,2,3,4,5]\n",
    "square = []\n",
    "\n",
    "for i in numbers:\n",
    "    if i >=3:\n",
    "        square.append(i**2)\n",
    "print(square)"
   ]
  },
  {
   "cell_type": "code",
   "execution_count": 73,
   "id": "e91f5982",
   "metadata": {},
   "outputs": [
    {
     "name": "stdout",
     "output_type": "stream",
     "text": [
      "[9, 16, 25]\n"
     ]
    }
   ],
   "source": [
    "numbers = [1,2,3,4,5]\n",
    "square = [i**2 for i in numbers if i>=3]\n",
    "print(square)"
   ]
  },
  {
   "cell_type": "code",
   "execution_count": 74,
   "id": "2d38d882",
   "metadata": {},
   "outputs": [],
   "source": [
    "#9. 파일 읽고 쓰기"
   ]
  },
  {
   "cell_type": "code",
   "execution_count": 77,
   "id": "99010518",
   "metadata": {},
   "outputs": [],
   "source": [
    "fruit = open(\"c:/OST/fruit.txt\",\"wt\" )\n",
    "fruit_price = {\"apple\":3500,\"peer\":2500, \"cherry\":5000}\n",
    "for item in fruit_price.items():\n",
    "    print(item, file=fruit)\n",
    "fruit.close()"
   ]
  },
  {
   "cell_type": "code",
   "execution_count": null,
   "id": "2c8eba4a",
   "metadata": {},
   "outputs": [],
   "source": [
    "fruit = open(\"c:/OST/fruit.txt\",\"wt\" )\n",
    "fruit_price = {\"apple\":3500,\"peer\":2500, \"cherry\":5000}\n",
    "for item in fruit_price.items():\n",
    "    print(item, file=fruit)\n",
    "fruit.close()"
   ]
  },
  {
   "cell_type": "code",
   "execution_count": null,
   "id": "38b4a6a6",
   "metadata": {},
   "outputs": [],
   "source": [
    "fruit = open(\"c:/OST/fruit.txt\",\"wt\" )\n",
    "fruit.write(\"apple 3500\\n\")\n",
    "fruit.write(\"peer 2500\\n\")\n",
    "fruit.write(\"cherr 5000\\n\")\n",
    "fruit.close()"
   ]
  },
  {
   "cell_type": "code",
   "execution_count": null,
   "id": "a8baa207",
   "metadata": {},
   "outputs": [],
   "source": [
    "import csv\n",
    "with open(\"c:/OST/fruit.csv\",\"w\",newline=\"\" ) as fruit:\n",
    "    writer = csv.writer(fruit,delimiter=\"*\")\n",
    "    writer.writerow([\"111\"])\n",
    "    writer.writerow([\"222\"])\n",
    "    writer.writerow([\"333\"])\n",
    "    writer.writerow([\"444\"])\n",
    "    writer.writerow([\"555\"])"
   ]
  }
 ],
 "metadata": {
  "kernelspec": {
   "display_name": "Python 3",
   "language": "python",
   "name": "python3"
  },
  "language_info": {
   "codemirror_mode": {
    "name": "ipython",
    "version": 3
   },
   "file_extension": ".py",
   "mimetype": "text/x-python",
   "name": "python",
   "nbconvert_exporter": "python",
   "pygments_lexer": "ipython3",
   "version": "3.8.8"
  }
 },
 "nbformat": 4,
 "nbformat_minor": 5
}
