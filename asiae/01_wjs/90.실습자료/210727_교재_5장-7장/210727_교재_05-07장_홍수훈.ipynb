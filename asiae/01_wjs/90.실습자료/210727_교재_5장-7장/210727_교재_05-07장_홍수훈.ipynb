{
 "cells": [
  {
   "cell_type": "markdown",
   "metadata": {},
   "source": [
    "###단일 조건에 따른 분기(if)\n",
    "if<조건문>:\n",
    "    <코드블록>"
   ]
  },
  {
   "cell_type": "code",
   "execution_count": 2,
   "metadata": {},
   "outputs": [
    {
     "name": "stdout",
     "output_type": "stream",
     "text": [
      "pass\n"
     ]
    }
   ],
   "source": [
    "x=95\n",
    "if x>=90:\n",
    "    print(\"pass\")"
   ]
  },
  {
   "cell_type": "code",
   "execution_count": 5,
   "metadata": {},
   "outputs": [
    {
     "name": "stdout",
     "output_type": "stream",
     "text": [
      "fail\n"
     ]
    }
   ],
   "source": [
    "x=75\n",
    "if x>=90:\n",
    "    print(\"pass\")\n",
    "else:\n",
    "    print(\"fail\")"
   ]
  },
  {
   "cell_type": "code",
   "execution_count": 8,
   "metadata": {},
   "outputs": [
    {
     "name": "stdout",
     "output_type": "stream",
     "text": [
      "good\n"
     ]
    }
   ],
   "source": [
    "x=85\n",
    "if x>=90:\n",
    "    print(\"very good\")\n",
    "elif (x>=80) and (x<90):\n",
    "    print(\"good\")\n",
    "else:\n",
    "    print(\"bad\")"
   ]
  },
  {
   "cell_type": "code",
   "execution_count": 9,
   "metadata": {},
   "outputs": [
    {
     "name": "stdout",
     "output_type": "stream",
     "text": [
      "good\n"
     ]
    }
   ],
   "source": [
    "x=85\n",
    "if x>=90:\n",
    "    print(\"very good\")\n",
    "elif 80<=x<90:\n",
    "    print(\"good\")\n",
    "else:\n",
    "    print(\"bad\")"
   ]
  },
  {
   "cell_type": "code",
   "execution_count": 11,
   "metadata": {},
   "outputs": [
    {
     "name": "stdout",
     "output_type": "stream",
     "text": [
      "perfect\n"
     ]
    }
   ],
   "source": [
    "##중첩 조건문\n",
    "x=100\n",
    "if x>=90:\n",
    "    if x==100:\n",
    "        print(\"perfect\")\n",
    "    else:\n",
    "        print(\"verygood\")\n",
    "elif 80<=x<90:\n",
    "    print(\"good\")\n",
    "else:\n",
    "    print(\"bad\")"
   ]
  },
  {
   "cell_type": "code",
   "execution_count": 12,
   "metadata": {},
   "outputs": [],
   "source": [
    "#pass 사용으로 실행 제외시키기\n",
    "x=75\n",
    "if x >= 80:\n",
    "    pass #이 코드가 입력되면 if문이 실행되지 않는다\n",
    "else:\n",
    "    pass"
   ]
  },
  {
   "cell_type": "code",
   "execution_count": 31,
   "metadata": {},
   "outputs": [
    {
     "name": "stdout",
     "output_type": "stream",
     "text": [
      "1\n",
      "2\n",
      "3\n",
      "4\n",
      "5\n",
      "6\n",
      "7\n",
      "8\n",
      "9\n"
     ]
    }
   ],
   "source": [
    "#반복문\n",
    "for a in list(range(1,10)):\n",
    "    print(a)"
   ]
  },
  {
   "cell_type": "code",
   "execution_count": 26,
   "metadata": {},
   "outputs": [
    {
     "name": "stdout",
     "output_type": "stream",
     "text": [
      "james\n",
      "robert\n",
      "lisa\n",
      "mary\n"
     ]
    }
   ],
   "source": [
    "#for 문을 활용하면 print를 한번만 사용하고 4명의 출력이 가능하다.\n",
    "myFriends = [\"james\", \"robert\", \"lisa\", \"mary\"]\n",
    "for myFriend in myFriends:\n",
    "    print(myFriend)"
   ]
  },
  {
   "cell_type": "code",
   "execution_count": 30,
   "metadata": {},
   "outputs": [
    {
     "name": "stdout",
     "output_type": "stream",
     "text": [
      "[0, 1, 2, 3, 4, 5, 6, 7, 8, 9]\n"
     ]
    }
   ],
   "source": [
    "print(list(range(0,10,1)))"
   ]
  },
  {
   "cell_type": "code",
   "execution_count": 32,
   "metadata": {},
   "outputs": [
    {
     "name": "stdout",
     "output_type": "stream",
     "text": [
      "range(0, 10)\n"
     ]
    }
   ],
   "source": [
    "print(range(0,10,1))#range함수를 적을때는 자료형의 이름을 같이 써줘야 한다"
   ]
  },
  {
   "cell_type": "code",
   "execution_count": 33,
   "metadata": {},
   "outputs": [
    {
     "name": "stdout",
     "output_type": "stream",
     "text": [
      "[0, 1, 2, 3, 4, 5, 6, 7, 8, 9]\n"
     ]
    }
   ],
   "source": [
    "print(list(range(10))) #0 부터 시작하게 되면 범위를 생각가능하다"
   ]
  },
  {
   "cell_type": "code",
   "execution_count": 37,
   "metadata": {},
   "outputs": [
    {
     "name": "stdout",
     "output_type": "stream",
     "text": [
      "[0, 5, 10, 15]\n",
      "[-10, -8, -6, -4, -2]\n",
      "[3, 0, -3, -6, -9]\n",
      "[]\n"
     ]
    }
   ],
   "source": [
    "print(list(range(0,20,5)))#20까지 만들고 5칸씩 띄어라\n",
    "print(list(range(-10,0,2))) #음수도 가능하다\n",
    "print(list(range(3,-10,-3))) #양수에서 음수로 이동\n",
    "print(list(range(0,-5,1)))# 뒤로가는값이 정확하지 않으면 자료안들어감."
   ]
  },
  {
   "cell_type": "code",
   "execution_count": 38,
   "metadata": {},
   "outputs": [
    {
     "name": "stdout",
     "output_type": "stream",
     "text": [
      "xy\n",
      "x1 y1\n",
      "x1 y2\n",
      "x2 y1\n",
      "x2 y2\n"
     ]
    }
   ],
   "source": [
    "x_list=[\"x1\",\"x2\"]\n",
    "y_list=[\"y1\",\"y2\"]\n",
    "\n",
    "print(\"xy\")\n",
    "for x in x_list: #for문에서 x리스트 값을 하나씩 불러온다\n",
    "    for y in y_list: #for문에서 y리스트 값을 하나씩 불러온다\n",
    "        print(x,y)"
   ]
  },
  {
   "cell_type": "code",
   "execution_count": 44,
   "metadata": {},
   "outputs": [
    {
     "name": "stdout",
     "output_type": "stream",
     "text": [
      "james 95\n",
      "robert 96\n",
      "lisa 97\n",
      "mary 94\n"
     ]
    }
   ],
   "source": [
    "names = [\"james\",\"robert\",\"lisa\",\"mary\"]\n",
    "scores = [95,96,97,94]\n",
    "for x in range(len(names)):\n",
    "    print(names[x],scores[x])"
   ]
  },
  {
   "cell_type": "code",
   "execution_count": 48,
   "metadata": {},
   "outputs": [
    {
     "name": "stdout",
     "output_type": "stream",
     "text": [
      "james 9500\n",
      "lisa 10400\n",
      "thejone 9900\n",
      "pizza 14000\n"
     ]
    }
   ],
   "source": [
    "#len 함수로 name값의 개수를 알아내고, range로 남아있는 개수의 범위로 0부터 범위까지 숫자를 생성한다\n",
    "#x에 값을 저장하고 print함수로 x와 y값을 증가시키면서 리스트에서 뽑아낸다.\n",
    "names = [\"james\",\"lisa\",\"thejone\",\"pizza\"]\n",
    "scores= [\"9500\",\"10400\",\"9900\",\"14000\"]\n",
    "for x in range(len(names)):\n",
    "    print(names[x],scores[x])"
   ]
  },
  {
   "cell_type": "code",
   "execution_count": 49,
   "metadata": {},
   "outputs": [
    {
     "name": "stdout",
     "output_type": "stream",
     "text": [
      "james 9500\n",
      "lisa 10400\n",
      "thejone 9900\n",
      "pizza 14000\n"
     ]
    }
   ],
   "source": [
    "for name, score in zip(names,scores): #zip를 사용하면 2가지 리스트에서 번갈아 가며 꺼내와 출력한다.\n",
    "    print(name, score)"
   ]
  },
  {
   "cell_type": "code",
   "execution_count": 51,
   "metadata": {},
   "outputs": [
    {
     "name": "stdout",
     "output_type": "stream",
     "text": [
      "i sum\n",
      "1 1\n",
      "2 3\n",
      "3 6\n",
      "4 10\n",
      "5 15\n",
      "6 21\n"
     ]
    }
   ],
   "source": [
    "i=0 #초기화\n",
    "sum=0 #초기화\n",
    "\n",
    "print(\"i sum\")\n",
    "while(sum<20): #조건 검사\n",
    "    i=i+1\n",
    "    sum = sum + i\n",
    "    print(i,sum)"
   ]
  },
  {
   "cell_type": "code",
   "execution_count": 52,
   "metadata": {},
   "outputs": [
    {
     "name": "stdout",
     "output_type": "stream",
     "text": [
      "1\n",
      "2\n",
      "3\n"
     ]
    }
   ],
   "source": [
    "k=0\n",
    "while True:\n",
    "    k=k+1 # k는 1씩 증가\n",
    "    if(k>3):\n",
    "        break #c랑 비슷함\n",
    "    print(k)"
   ]
  },
  {
   "cell_type": "code",
   "execution_count": 53,
   "metadata": {},
   "outputs": [
    {
     "name": "stdout",
     "output_type": "stream",
     "text": [
      "0\n",
      "1\n",
      "2\n"
     ]
    }
   ],
   "source": [
    "for k in range(10):\n",
    "    if(k>2):\n",
    "        break\n",
    "    print(k)"
   ]
  },
  {
   "cell_type": "code",
   "execution_count": 55,
   "metadata": {},
   "outputs": [
    {
     "name": "stdout",
     "output_type": "stream",
     "text": [
      "0\n",
      "1\n",
      "3\n",
      "4\n"
     ]
    }
   ],
   "source": [
    "for k in range(5):\n",
    "    if(k==2):\n",
    "        continue\n",
    "    \n",
    "    print(k)\n"
   ]
  },
  {
   "cell_type": "code",
   "execution_count": 58,
   "metadata": {},
   "outputs": [
    {
     "name": "stdout",
     "output_type": "stream",
     "text": [
      "1\n",
      "continue next\n",
      "3\n",
      "4\n"
     ]
    }
   ],
   "source": [
    "k=0\n",
    "while True:\n",
    "    k=k+1\n",
    "    \n",
    "    if (k==2):\n",
    "        print(\"continue next\")\n",
    "        continue\n",
    "    if (k>4):\n",
    "        break\n",
    "    print(k)"
   ]
  },
  {
   "cell_type": "code",
   "execution_count": 59,
   "metadata": {},
   "outputs": [
    {
     "name": "stdout",
     "output_type": "stream",
     "text": [
      "[1, 4, 9, 16, 25]\n"
     ]
    }
   ],
   "source": [
    "number = [1,2,3,4,5]\n",
    "square = []\n",
    "\n",
    "for i in number:\n",
    "    square.append(i**2)\n",
    "    \n",
    "print(square)"
   ]
  },
  {
   "cell_type": "code",
   "execution_count": 61,
   "metadata": {},
   "outputs": [
    {
     "name": "stdout",
     "output_type": "stream",
     "text": [
      "[1, 8, 27, 64, 125]\n"
     ]
    }
   ],
   "source": [
    "number = [1,2,3,4,5]\n",
    "square = []\n",
    "\n",
    "for i in number:\n",
    "    square.append(i**3)\n",
    "print (square)"
   ]
  },
  {
   "cell_type": "code",
   "execution_count": 66,
   "metadata": {},
   "outputs": [
    {
     "name": "stdout",
     "output_type": "stream",
     "text": [
      "[1, 2, 3, 4, 5]\n"
     ]
    }
   ],
   "source": [
    "x= [(i**3) for i in number]\n",
    "print(number)"
   ]
  },
  {
   "cell_type": "code",
   "execution_count": 68,
   "metadata": {},
   "outputs": [
    {
     "name": "stdout",
     "output_type": "stream",
     "text": [
      "[9, 16, 25]\n"
     ]
    }
   ],
   "source": [
    "numbers = [1,2,3,4,5]\n",
    "square  = []\n",
    "\n",
    "for i in numbers:\n",
    "    if i >=3:\n",
    "        square.append(i**2)\n",
    "print(square)"
   ]
  },
  {
   "cell_type": "code",
   "execution_count": 72,
   "metadata": {},
   "outputs": [
    {
     "name": "stdout",
     "output_type": "stream",
     "text": [
      "[9, 16, 25]\n"
     ]
    }
   ],
   "source": [
    "a = [(i**2) for i in numbers if i>=3]\n",
    "print (a)"
   ]
  },
  {
   "cell_type": "code",
   "execution_count": 73,
   "metadata": {},
   "outputs": [
    {
     "name": "stdout",
     "output_type": "stream",
     "text": [
      "hello python\n"
     ]
    }
   ],
   "source": [
    "print(\"hello python\")"
   ]
  },
  {
   "cell_type": "code",
   "execution_count": 74,
   "metadata": {},
   "outputs": [
    {
     "name": "stdout",
     "output_type": "stream",
     "text": [
      "best python book\n"
     ]
    }
   ],
   "source": [
    "print(\"best\",\"python\",\"book\")"
   ]
  },
  {
   "cell_type": "code",
   "execution_count": 78,
   "metadata": {},
   "outputs": [
    {
     "name": "stdout",
     "output_type": "stream",
     "text": [
      "best****python****book\n"
     ]
    }
   ],
   "source": [
    "print(\"best\",\"python\",\"book\",sep=\"****\") #sep=\"\"이용하면 사이에 원하는 값을 추가해서 넣을 수 있다."
   ]
  },
  {
   "cell_type": "code",
   "execution_count": 84,
   "metadata": {},
   "outputs": [
    {
     "name": "stdout",
     "output_type": "stream",
     "text": [
      "abcddfg\n"
     ]
    }
   ],
   "source": [
    "print(\"abcd\"+\"dfg\") #+를 이용해 두개 정보를 이어서 출력할 수 있다."
   ]
  },
  {
   "cell_type": "code",
   "execution_count": 86,
   "metadata": {},
   "outputs": [
    {
     "name": "stdout",
     "output_type": "stream",
     "text": [
      "best python book : this book\n"
     ]
    }
   ],
   "source": [
    "print(\"best\",\"python\",\"book\"+\":\",\"this book\")"
   ]
  },
  {
   "cell_type": "code",
   "execution_count": 87,
   "metadata": {},
   "outputs": [
    {
     "name": "stdout",
     "output_type": "stream",
     "text": [
      "name: james, id number: 789\n"
     ]
    }
   ],
   "source": [
    "name=\"james\"\n",
    "id_num =789\n",
    "print(\"name:\",name+\",\",\"id number:\", id_num) #프린터 함수 안에 인자를 출력할때에는 \"\"를 사용하지 않는다"
   ]
  },
  {
   "cell_type": "code",
   "execution_count": 88,
   "metadata": {},
   "outputs": [
    {
     "name": "stdout",
     "output_type": "stream",
     "text": [
      "james is my friend.\n",
      " he is korean\n"
     ]
    }
   ],
   "source": [
    "print(\"james is my friend.\\n he is korean\")"
   ]
  },
  {
   "cell_type": "code",
   "execution_count": 90,
   "metadata": {},
   "outputs": [
    {
     "name": "stdout",
     "output_type": "stream",
     "text": [
      "james is my friend \n",
      "\n",
      "he is my bf\n"
     ]
    }
   ],
   "source": [
    "print(\"james is my friend \\n\\nhe is my bf\")"
   ]
  },
  {
   "cell_type": "code",
   "execution_count": 91,
   "metadata": {},
   "outputs": [
    {
     "name": "stdout",
     "output_type": "stream",
     "text": [
      "welcome to python\n"
     ]
    }
   ],
   "source": [
    "print(\"welcome to \",end=\"\")\n",
    "print(\"python\")"
   ]
  },
  {
   "cell_type": "code",
   "execution_count": 94,
   "metadata": {},
   "outputs": [
    {
     "name": "stdout",
     "output_type": "stream",
     "text": [
      "나의이름은 광재입니다\n"
     ]
    }
   ],
   "source": [
    "name=\"광재\"\n",
    "print(\"나의이름은 %s입니다\"%name) \n",
    "#무조건 스트링을 쓸때는 더블 코테이션 붙여서 사용할것!!!\n",
    "#c와 비슷하게 %를 사용해서 불러오기 할수 있다."
   ]
  },
  {
   "cell_type": "code",
   "execution_count": 98,
   "metadata": {},
   "outputs": [
    {
     "name": "stdout",
     "output_type": "stream",
     "text": [
      "반지름:3,지름은:3.141593\n"
     ]
    }
   ],
   "source": [
    "r=3\n",
    "pi=3.14159265358979\n",
    "print(\"반지름:%d,지름은:%f\"%(r,pi))"
   ]
  },
  {
   "cell_type": "code",
   "execution_count": 104,
   "metadata": {},
   "outputs": [
    {
     "name": "stdout",
     "output_type": "stream",
     "text": [
      "animal: cat\n",
      "animal: cat,dog,fox\n"
     ]
    }
   ],
   "source": [
    "animal_0 = \"cat\"\n",
    "animal_1 = \"dog\"\n",
    "animal_2 = \"fox\"\n",
    "\n",
    "print(\"animal: {0}\".format(animal_0))\n",
    "print(\"animal: {0},{1},{2}\".format(animal_0, animal_1, animal_2))"
   ]
  },
  {
   "cell_type": "code",
   "execution_count": 105,
   "metadata": {},
   "outputs": [
    {
     "name": "stdout",
     "output_type": "stream",
     "text": [
      "animal:fox,cat,dog\n"
     ]
    }
   ],
   "source": [
    "print(\"animal:{1},{2},{0}\".format(animal_1,animal_2,animal_0))"
   ]
  },
  {
   "cell_type": "code",
   "execution_count": 106,
   "metadata": {},
   "outputs": [
    {
     "name": "stdout",
     "output_type": "stream",
     "text": [
      "animal: cat, dog, fox\n"
     ]
    }
   ],
   "source": [
    "print(\"animal: {}, {}, {}\".format(animal_0, animal_1,animal_2))"
   ]
  },
  {
   "cell_type": "code",
   "execution_count": 107,
   "metadata": {},
   "outputs": [
    {
     "name": "stdout",
     "output_type": "stream",
     "text": [
      "string: tomas. integer number: 10.floating number: 0.123456789\n"
     ]
    }
   ],
   "source": [
    "name = \"tomas\"\n",
    "age = 10\n",
    "a=0.123456789\n",
    "fmt_string = \"string: {0}. integer number: {1}.floating number: {2}\"\n",
    "print(fmt_string.format(name, age, a ))"
   ]
  },
  {
   "cell_type": "code",
   "execution_count": null,
   "metadata": {},
   "outputs": [],
   "source": []
  }
 ],
 "metadata": {
  "kernelspec": {
   "display_name": "Python 3",
   "language": "python",
   "name": "python3"
  },
  "language_info": {
   "codemirror_mode": {
    "name": "ipython",
    "version": 3
   },
   "file_extension": ".py",
   "mimetype": "text/x-python",
   "name": "python",
   "nbconvert_exporter": "python",
   "pygments_lexer": "ipython3",
   "version": "3.8.5"
  }
 },
 "nbformat": 4,
 "nbformat_minor": 4
}
