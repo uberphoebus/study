{
 "cells": [
  {
   "cell_type": "code",
   "execution_count": null,
   "id": "8288128a",
   "metadata": {},
   "outputs": [],
   "source": [
    "## ( 실습 ) \n",
    "1. 전체 모듈 \n",
    "   - 라이브러리 정의\n",
    "   - 목표 url 설정\n",
    "   - url 데이터 가지고 오고 (requests.get())\n",
    "   - BeautifulSoup 적용 ( html.parser) \n",
    "   - type06 가져오기 \n",
    "   - for 3번 적용 --> for 1번만 \n",
    "2. for문 1번으로 수정 및 변수에 저장, 출력 \n",
    "   - 이미지 주소 (img_src) \n",
    "   - 기사 링크 ( link_href)\n",
    "   - 기사 제목 ( link_text)\n",
    "   - 기사 내용 ( content_text) "
   ]
  },
  {
   "cell_type": "code",
   "execution_count": 2,
   "id": "a5846cd7",
   "metadata": {},
   "outputs": [],
   "source": [
    "## 네이버 뉴스 속보를 수집 \n",
    "import requests \n",
    "from bs4 import BeautifulSoup \n",
    "headers = { \"User-Agent\":\"Mozilla/5.0\"}\n",
    "url = \"https://news.naver.com/main/list.nhn?mode=LSD&mid=sec&sid1=001\"\n",
    "\n",
    "# 해당 url requests.get \n",
    "html = requests.get(url, headers=headers)\n",
    "\n",
    "soup = BeautifulSoup(html.text)  # \"html.parser\"  \n",
    "type06 = soup.find(\"ul\",{\"class\":\"type06_headline\"})\n",
    "dl = type06.find_all(\"dl\")"
   ]
  },
  {
   "cell_type": "code",
   "execution_count": 4,
   "id": "c915af67",
   "metadata": {},
   "outputs": [
    {
     "name": "stdout",
     "output_type": "stream",
     "text": [
      " no Image \n",
      "img =  https://imgnews.pstatic.net/image/origin/119/2021/08/04/2517466.jpg?type=nf106_72\n",
      "link_href =  https://news.naver.com/main/read.naver?mode=LSD&mid=sec&sid1=001&oid=119&aid=0002517466\n",
      "link_text = 숭실사이버대학교 한국어교육학과, 사단법인 한글세계화운동연합과 위탁 교육 협약 체결\n",
      "content_text =  [데일리안 = 이현남 기자] 숭실사이버대학교(총장 한헌수) 한국어교육학과가 사단법인 한글세계화운동연합(이사장 오양심 이하 한세연 \n",
      "img =  https://imgnews.pstatic.net/image/origin/079/2021/08/04/3537672.jpg?type=nf106_72\n",
      "link_href =  https://news.naver.com/main/read.naver?mode=LSD&mid=sec&sid1=001&oid=079&aid=0003537672\n",
      "link_text = 중소기업 전용 수출 선적공간 2배로 확대\n",
      "content_text =  중소벤처기업부는 해외 수출 물류난을 타개하기 위해 중소기업 전용 해상 운송 선적 공간을 확대했다고 4일 밝혔다. 중기부는 국적선 \n",
      "img =  https://imgnews.pstatic.net/image/origin/082/2021/08/04/1111312.jpg?type=nf106_72\n",
      "link_href =  https://news.naver.com/main/read.naver?mode=LSD&mid=sec&sid1=001&oid=082&aid=0001111312\n",
      "link_text = 산업부 “7월 전기 피크시간대 태양광발전 비중 11.1%”\n",
      "content_text =  더불어민주당 송영길 대표가 7월 27일 경기도 용인시 신성이엔지 용인사업장을 방문해 태양광 발전설비를 살펴보고 있다. 연합뉴스  \n",
      "img =  https://imgnews.pstatic.net/image/origin/014/2021/08/04/4686743.jpg?type=nf106_72\n",
      "link_href =  https://news.naver.com/main/read.naver?mode=LSD&mid=sec&sid1=001&oid=014&aid=0004686743\n",
      "link_text = 서울 동부구치소 신입 수용자 1명 코로나 확진 판정\n",
      "content_text =  [파이낸셜뉴스] 서울 동부구치소 신입 수용자 1명이 코로나19 확진 판정을 받았다. 4일 법무부에 따르면 전날 동부구치소에 입소 \n",
      "img =  https://imgnews.pstatic.net/image/origin/091/2021/08/04/8906132.jpg?type=nf106_72\n",
      "link_href =  https://news.naver.com/main/read.naver?mode=LSD&mid=sec&sid1=001&oid=091&aid=0008906132\n",
      "link_text = JAPAN TOKYO 2020 OLYMPIC GAMES\n",
      "content_text =  Olympic Games 2020 Swimming Ana Marcela Cunha of Brazil in the Women's  \n",
      "img =  https://imgnews.pstatic.net/image/origin/077/2021/08/04/5282242.jpg?type=nf106_72\n",
      "link_href =  https://news.naver.com/main/read.naver?mode=LSD&mid=sec&sid1=001&oid=077&aid=0005282242\n",
      "link_text = Tokyo Olympics Athletics\n",
      "content_text =  Sydney Mclaughlin, of the United States, wins the women's 400-meter hur \n",
      "img =  https://imgnews.pstatic.net/image/origin/077/2021/08/04/5282241.jpg?type=nf106_72\n",
      "link_href =  https://news.naver.com/main/read.naver?mode=LSD&mid=sec&sid1=001&oid=077&aid=0005282241\n",
      "link_text = Tokyo Olympics Athletics\n",
      "content_text =  Sydney Mclaughlin, of the United States, wins the women's 400-meter hur \n",
      "img =  https://imgnews.pstatic.net/image/origin/077/2021/08/04/5282240.jpg?type=nf106_72\n",
      "link_href =  https://news.naver.com/main/read.naver?mode=LSD&mid=sec&sid1=001&oid=077&aid=0005282240\n",
      "link_text = Tokyo Olympics Athletics\n",
      "content_text =  Sydney Mclaughlin, of the United States, wins the women's 400-meter hur \n",
      "img =  https://imgnews.pstatic.net/image/origin/091/2021/08/04/8906131.jpg?type=nf106_72\n",
      "link_href =  https://news.naver.com/main/read.naver?mode=LSD&mid=sec&sid1=001&oid=091&aid=0008906131\n",
      "link_text = JAPAN TOKYO 2020 OLYMPIC GAMES\n",
      "content_text =  Olympic Games 2020 Swimming Ana Marcela Cunha of Brazil in the Women's  \n"
     ]
    }
   ],
   "source": [
    "for item2 in dl:\n",
    "    try:\n",
    "        # 기사 이미지 \n",
    "        img = item2.find(\"dt\",{\"class\":\"photo\"}).find(\"img\")\n",
    "        img_src = img[\"src\"]\n",
    "        print(\"img = \", img_src)        \n",
    "        # 기사 링크, 타이틀 \n",
    "        link = item2.find(\"dt\", {\"class\":\"\"}).find(\"a\")\n",
    "        link_href = link[\"href\"]\n",
    "        print(\"link_href = \", link_href)        \n",
    "        link_text =link.text.replace(\"\\t\",\"\").replace(\"\\r\\n\",\"\").strip() \n",
    "        print(\"link_text =\", link_text)        \n",
    "        # 기사 내용 \n",
    "        content = item2.find(\"dd\")\n",
    "        content_text = content.text.replace(\"\\n\",\"\").split(\"…\")[0] \n",
    "        print(\"content_text = \", content_text)\n",
    "    except:\n",
    "        print(\" no Image \")"
   ]
  },
  {
   "cell_type": "code",
   "execution_count": null,
   "id": "74a72c66",
   "metadata": {},
   "outputs": [],
   "source": []
  },
  {
   "cell_type": "code",
   "execution_count": null,
   "id": "5b50761b",
   "metadata": {},
   "outputs": [],
   "source": []
  }
 ],
 "metadata": {
  "kernelspec": {
   "display_name": "Python 3",
   "language": "python",
   "name": "python3"
  },
  "language_info": {
   "codemirror_mode": {
    "name": "ipython",
    "version": 3
   },
   "file_extension": ".py",
   "mimetype": "text/x-python",
   "name": "python",
   "nbconvert_exporter": "python",
   "pygments_lexer": "ipython3",
   "version": "3.8.8"
  }
 },
 "nbformat": 4,
 "nbformat_minor": 5
}
