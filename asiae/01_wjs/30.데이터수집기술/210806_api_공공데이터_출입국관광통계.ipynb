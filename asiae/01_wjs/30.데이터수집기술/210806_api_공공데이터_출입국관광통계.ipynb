{
 "cells": [
  {
   "cell_type": "code",
   "execution_count": null,
   "id": "5a601d0f",
   "metadata": {},
   "outputs": [],
   "source": []
  },
  {
   "cell_type": "markdown",
   "id": "5b069fd0",
   "metadata": {},
   "source": [
    "## ( 실습1..  공공데이터  출입국관광통계 서비스 )\n",
    "1. end_point \n",
    "2. my_key \n",
    "3. 파라미터 -> YM=202101, NAT_CD=112, ED_CD=E\n",
    "4. url만들어서 브라우져 확인 \n",
    "6. dataframe 만들기 "
   ]
  },
  {
   "cell_type": "markdown",
   "id": "4c0aaa2a",
   "metadata": {},
   "source": [
    "## ( 실습2. 공공데이터 출입군 관광통계 서비스 ) \n",
    "1. 나라 -> 112(중국), 130(일본), 275(미국)\n",
    "2. 년도 -> 2019, 2020 \n",
    "    - 1월~12월   \n",
    "3. DataFrame 만들기 (3 * 2 * 12 )  \n",
    "4. ym(년월), natKorNm(국가), num(방문객수), edCD(구분)"
   ]
  },
  {
   "cell_type": "code",
   "execution_count": null,
   "id": "5437675b",
   "metadata": {},
   "outputs": [],
   "source": []
  }
 ],
 "metadata": {
  "kernelspec": {
   "display_name": "Python 3",
   "language": "python",
   "name": "python3"
  },
  "language_info": {
   "codemirror_mode": {
    "name": "ipython",
    "version": 3
   },
   "file_extension": ".py",
   "mimetype": "text/x-python",
   "name": "python",
   "nbconvert_exporter": "python",
   "pygments_lexer": "ipython3",
   "version": "3.8.8"
  }
 },
 "nbformat": 4,
 "nbformat_minor": 5
}
