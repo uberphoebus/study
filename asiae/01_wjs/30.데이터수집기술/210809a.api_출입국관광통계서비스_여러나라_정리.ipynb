{
 "cells": [
  {
   "cell_type": "code",
   "execution_count": null,
   "metadata": {},
   "outputs": [],
   "source": [
    "# # 데이터 과학 기반의 파이썬 빅데이터 분석 "
   ]
  },
  {
   "cell_type": "code",
   "execution_count": null,
   "metadata": {},
   "outputs": [],
   "source": [
    "# asdfzzz / 1q???\n",
    "\n",
    "#my_key = \"s1JerABCGMtqqLUB0r7byT8n7uzwvD9lPsxSfKp9ID5seIFNMkOQzIsACpahzhcUznSQXlirur4Ivp38W2Zd3Q%3D%3D\"  # 2019/10/25"
   ]
  },
  {
   "cell_type": "code",
   "execution_count": 1,
   "metadata": {},
   "outputs": [],
   "source": [
    "my_key = \"0C6iX2Ww%2BnB9GVY6k9Et5H9zqv%2FxjEsldVq1Wa9Co3lvcuaRi%2BI3gcoFoi3AckHg6B8AAf1cH0tKH4MXhYf57A%3D%3D\" # 2020/08/11"
   ]
  },
  {
   "cell_type": "markdown",
   "metadata": {},
   "source": [
    "## ( 공공데이터 포털 API 사용 )\n",
    "1. 공공데이터 포털 가입(data.go.kr)\n",
    "   - 로그인 \n",
    "   - 한국문화관광연구원_)출입국관광통계서비스 \n",
    "   - 활용신청\n",
    "   - 시스템유형(일반), 활용정보(웹사이트 개발)\n",
    "   - 상세기능정보(선택)\n",
    "   - 동의 합니다. - 신청\n",
    "2. OpenAPI 활용 가이드.hwp\n",
    "3. 인증키 발급현황\n",
    "   - 인증키 복사 \n",
    "2. 개발계정 인반 인증키 - 복사\n",
    "   - End point\n",
    "   - 데이터 포맷\n",
    "   - 참고문서\n",
    "3. URL 만들기 \n",
    "   - end_point + operation + key + data_format\n",
    "   - url 확인 (브라우저)"
   ]
  },
  {
   "cell_type": "code",
   "execution_count": null,
   "metadata": {},
   "outputs": [],
   "source": []
  },
  {
   "cell_type": "code",
   "execution_count": 1,
   "metadata": {},
   "outputs": [],
   "source": [
    "my_key = \"0C6iX2Ww%2BnB9GVY6k9Et5H9zqv%2FxjEsldVq1Wa9Co3lvcuaRi%2BI3gcoFoi3AckHg6B8AAf1cH0tKH4MXhYf57A%3D%3D\""
   ]
  },
  {
   "cell_type": "code",
   "execution_count": null,
   "metadata": {},
   "outputs": [],
   "source": [
    "#http://apis.data.go.kr/B553077/api/open/sdsc/smallUpjongList?serviceKey=0C6iX2Ww%2BnB9GVY6k9Et5H9zqv%2FxjEsldVq1Wa9Co3lvcuaRi%2BI3gcoFoi3AckHg6B8AAf1cH0tKH4MXhYf57A%3D%3D&indsLclsCd=Q&indsMclsCd=Q01"
   ]
  },
  {
   "cell_type": "code",
   "execution_count": 2,
   "metadata": {},
   "outputs": [],
   "source": [
    "import urllib.request\n",
    "import json\n",
    "\n",
    "def get_visit(url):\n",
    "    req = urllib.request.Request(url)\n",
    "    response = urllib.request.urlopen(req)\n",
    "    res_read = response.read().decode(\"utf-8)\")\n",
    "    json_load = json.loads(res_read)\n",
    "    visit_ym  = json_load['response']['body']['items']['item']['ym']    # 년월\n",
    "    visit_country = json_load['response']['body']['items']['item']['natKorNm'] # \n",
    "    visit_count = json_load['response']['body']['items']['item']['num'] # 방문객수\n",
    "    visit_class = json_load['response']['body']['items']['item']['ed']  # 구분(방한외래관광객)\n",
    "    \n",
    "    return [visit_ym, visit_country, visit_count, visit_class ]"
   ]
  },
  {
   "cell_type": "code",
   "execution_count": 12,
   "metadata": {},
   "outputs": [
    {
     "data": {
      "text/plain": [
       "(72, 4)"
      ]
     },
     "execution_count": 12,
     "metadata": {},
     "output_type": "execute_result"
    }
   ],
   "source": [
    "country_code = [\"112\",\"130\",\"275\"]  # 국가코드 중국(112), 일본(130), 미국(275)\n",
    "visit_year = [2019,2020] # 2019년01월 ~ 2020년 12월 \n",
    "ed_cd = \"E\"  # 방한외래관광객(E), 해외출국(D) \n",
    "\n",
    "service_url = \"http://openapi.tour.go.kr/openapi/service/EdrcntTourismStatsService/getEdrcntTourismStatsList\"\n",
    "url_01      = \"?_type=json&serviceKey=\" + my_key   #인증키\n",
    "\n",
    "total_visit = []\n",
    "\n",
    "for country in country_code:  # 3번.. \n",
    "    for year in visit_year: # 2번.. \n",
    "        for month in range(1,13): # 12번.. \n",
    "            url_02 = \"&YM=\" + str(year)+\"%02d\"%month\n",
    "            url_02 += \"&NAT_CD=\" + country\n",
    "            url_02 += \"&ED_CD=\" + ed_cd            \n",
    "            url = service_url + url_01 + url_02\n",
    "\n",
    "            result = get_visit(url)  # 1번국가, 1번 년도, 1월..               \n",
    "            total_visit.append(result)\n",
    "            \n",
    "import pandas as pd\n",
    "\n",
    "df = pd.DataFrame(total_visit, columns = [\"년월\",\"국가\",\"방문객수\",\"구분\"])\n",
    "df.shape"
   ]
  },
  {
   "cell_type": "code",
   "execution_count": 4,
   "metadata": {},
   "outputs": [
    {
     "name": "stdout",
     "output_type": "stream",
     "text": [
      "http://openapi.tour.go.kr/openapi/service/EdrcntTourismStatsService/getEdrcntTourismStatsList?_type=json&serviceKey=0C6iX2Ww%2BnB9GVY6k9Et5H9zqv%2FxjEsldVq1Wa9Co3lvcuaRi%2BI3gcoFoi3AckHg6B8AAf1cH0tKH4MXhYf57A%3D%3D&YM=201901&NAT_CD=112&ED_CD=E\n"
     ]
    }
   ],
   "source": [
    "country = \"112\" ; ed_cd = \"E\"\n",
    "year = 2019\n",
    "month = 1\n",
    "\n",
    "url_02 = \"&YM=\" + str(year)+\"%02d\"%month\n",
    "url_02 += \"&NAT_CD=\" + country\n",
    "url_02 += \"&ED_CD=\" + ed_cd            \n",
    "url = service_url + url_01 + url_02\n",
    "print(url)"
   ]
  },
  {
   "cell_type": "code",
   "execution_count": null,
   "metadata": {},
   "outputs": [],
   "source": []
  },
  {
   "cell_type": "code",
   "execution_count": 5,
   "metadata": {},
   "outputs": [
    {
     "data": {
      "text/plain": [
       "'{\"response\":{\"header\":{\"resultCode\":\"0000\",\"resultMsg\":\"OK\"},\"body\":{\"items\":{\"item\":{\"ed\":\"방한외래관광객\",\"edCd\":\"E\",\"natCd\":112,\"natKorNm\":\"중  국\",\"num\":392814,\"rnum\":1,\"ym\":201901}},\"numOfRows\":10,\"pageNo\":1,\"totalCount\":1}}}'"
      ]
     },
     "execution_count": 5,
     "metadata": {},
     "output_type": "execute_result"
    }
   ],
   "source": [
    "req = urllib.request.Request(url)\n",
    "response = urllib.request.urlopen(req)\n",
    "res_read = response.read().decode(\"utf-8\");res_read"
   ]
  },
  {
   "cell_type": "code",
   "execution_count": 7,
   "metadata": {},
   "outputs": [
    {
     "data": {
      "text/plain": [
       "{'ed': '방한외래관광객',\n",
       " 'edCd': 'E',\n",
       " 'natCd': 112,\n",
       " 'natKorNm': '중  국',\n",
       " 'num': 392814,\n",
       " 'rnum': 1,\n",
       " 'ym': 201901}"
      ]
     },
     "execution_count": 7,
     "metadata": {},
     "output_type": "execute_result"
    }
   ],
   "source": [
    "json.loads(res_read)['response']['body']['items']['item']"
   ]
  },
  {
   "cell_type": "code",
   "execution_count": 9,
   "metadata": {},
   "outputs": [],
   "source": [
    "json_load = json.loads(res_read)\n",
    "visit_ym  = json_load['response']['body']['items']['item']['ym']    # 년월\n",
    "visit_country = json_load['response']['body']['items']['item']['natKorNm'] # \n",
    "visit_count = json_load['response']['body']['items']['item']['num'] # 방문객수\n",
    "visit_class = json_load['response']['body']['items']['item']['ed'] "
   ]
  },
  {
   "cell_type": "code",
   "execution_count": 14,
   "metadata": {},
   "outputs": [
    {
     "data": {
      "text/plain": [
       "{'ed': '방한외래관광객',\n",
       " 'edCd': 'E',\n",
       " 'natCd': 112,\n",
       " 'natKorNm': '중  국',\n",
       " 'num': 392814,\n",
       " 'rnum': 1,\n",
       " 'ym': 201901}"
      ]
     },
     "execution_count": 14,
     "metadata": {},
     "output_type": "execute_result"
    }
   ],
   "source": [
    "json_load['response']['body']['items']['item']"
   ]
  },
  {
   "cell_type": "code",
   "execution_count": 10,
   "metadata": {},
   "outputs": [
    {
     "data": {
      "text/plain": [
       "[201901, '중  국', 392814, '방한외래관광객']"
      ]
     },
     "execution_count": 10,
     "metadata": {},
     "output_type": "execute_result"
    }
   ],
   "source": [
    "[visit_ym, visit_country, visit_count, visit_class ]"
   ]
  },
  {
   "cell_type": "code",
   "execution_count": null,
   "metadata": {},
   "outputs": [],
   "source": []
  },
  {
   "cell_type": "code",
   "execution_count": 11,
   "metadata": {},
   "outputs": [
    {
     "data": {
      "text/plain": [
       "[[201901, '중  국', 392814, '방한외래관광객'],\n",
       " [201902, '중  국', 453379, '방한외래관광객'],\n",
       " [201903, '중  국', 487623, '방한외래관광객'],\n",
       " [201904, '중  국', 493250, '방한외래관광객'],\n",
       " [201905, '중  국', 500413, '방한외래관광객'],\n",
       " [201906, '중  국', 475007, '방한외래관광객'],\n",
       " [201907, '중  국', 519132, '방한외래관광객'],\n",
       " [201908, '중  국', 578112, '방한외래관광객'],\n",
       " [201909, '중  국', 541350, '방한외래관광객'],\n",
       " [201910, '중  국', 567695, '방한외래관광객'],\n",
       " [201911, '중  국', 505369, '방한외래관광객'],\n",
       " [201912, '중  국', 508877, '방한외래관광객'],\n",
       " [202001, '중  국', 481681, '방한외래관광객'],\n",
       " [202002, '중  국', 104086, '방한외래관광객'],\n",
       " [202003, '중  국', 16595, '방한외래관광객'],\n",
       " [202004, '중  국', 3935, '방한외래관광객'],\n",
       " [202005, '중  국', 5124, '방한외래관광객'],\n",
       " [202006, '중  국', 5051, '방한외래관광객'],\n",
       " [202007, '중  국', 9738, '방한외래관광객'],\n",
       " [202008, '중  국', 16275, '방한외래관광객'],\n",
       " [202009, '중  국', 15307, '방한외래관광객'],\n",
       " [202010, '중  국', 11477, '방한외래관광객'],\n",
       " [202011, '중  국', 9174, '방한외래관광객'],\n",
       " [202012, '중  국', 7987, '방한외래관광객'],\n",
       " [201901, '일  본', 206526, '방한외래관광객'],\n",
       " [201902, '일  본', 213200, '방한외래관광객'],\n",
       " [201903, '일  본', 375119, '방한외래관광객'],\n",
       " [201904, '일  본', 290092, '방한외래관광객'],\n",
       " [201905, '일  본', 286273, '방한외래관광객'],\n",
       " [201906, '일  본', 282476, '방한외래관광객'],\n",
       " [201907, '일  본', 274830, '방한외래관광객'],\n",
       " [201908, '일  본', 329652, '방한외래관광객'],\n",
       " [201909, '일  본', 251119, '방한외래관광객'],\n",
       " [201910, '일  본', 248541, '방한외래관광객'],\n",
       " [201911, '일  본', 258522, '방한외래관광객'],\n",
       " [201912, '일  본', 255356, '방한외래관광객'],\n",
       " [202001, '일  본', 203969, '방한외래관광객'],\n",
       " [202002, '일  본', 211199, '방한외래관광객'],\n",
       " [202003, '일  본', 8347, '방한외래관광객'],\n",
       " [202004, '일  본', 360, '방한외래관광객'],\n",
       " [202005, '일  본', 413, '방한외래관광객'],\n",
       " [202006, '일  본', 498, '방한외래관광객'],\n",
       " [202007, '일  본', 755, '방한외래관광객'],\n",
       " [202008, '일  본', 1275, '방한외래관광객'],\n",
       " [202009, '일  본', 794, '방한외래관광객'],\n",
       " [202010, '일  본', 927, '방한외래관광객'],\n",
       " [202011, '일  본', 1254, '방한외래관광객'],\n",
       " [202012, '일  본', 951, '방한외래관광객'],\n",
       " [201901, '미  국', 62737, '방한외래관광객'],\n",
       " [201902, '미  국', 57732, '방한외래관광객'],\n",
       " [201903, '미  국', 84275, '방한외래관광객'],\n",
       " [201904, '미  국', 102524, '방한외래관광객'],\n",
       " [201905, '미  국', 95815, '방한외래관광객'],\n",
       " [201906, '미  국', 105398, '방한외래관광객'],\n",
       " [201907, '미  국', 97428, '방한외래관광객'],\n",
       " [201908, '미  국', 86586, '방한외래관광객'],\n",
       " [201909, '미  국', 90819, '방한외래관광객'],\n",
       " [201910, '미  국', 101099, '방한외래관광객'],\n",
       " [201911, '미  국', 82238, '방한외래관광객'],\n",
       " [201912, '미  국', 77387, '방한외래관광객'],\n",
       " [202001, '미  국', 67255, '방한외래관광객'],\n",
       " [202002, '미  국', 42439, '방한외래관광객'],\n",
       " [202003, '미  국', 10570, '방한외래관광객'],\n",
       " [202004, '미  국', 6417, '방한외래관광객'],\n",
       " [202005, '미  국', 8735, '방한외래관광객'],\n",
       " [202006, '미  국', 9717, '방한외래관광객'],\n",
       " [202007, '미  국', 11922, '방한외래관광객'],\n",
       " [202008, '미  국', 13368, '방한외래관광객'],\n",
       " [202009, '미  국', 12426, '방한외래관광객'],\n",
       " [202010, '미  국', 12366, '방한외래관광객'],\n",
       " [202011, '미  국', 13100, '방한외래관광객'],\n",
       " [202012, '미  국', 12102, '방한외래관광객']]"
      ]
     },
     "execution_count": 11,
     "metadata": {},
     "output_type": "execute_result"
    }
   ],
   "source": [
    "total_visit"
   ]
  },
  {
   "cell_type": "code",
   "execution_count": null,
   "metadata": {},
   "outputs": [],
   "source": []
  },
  {
   "cell_type": "code",
   "execution_count": null,
   "metadata": {},
   "outputs": [],
   "source": []
  },
  {
   "cell_type": "code",
   "execution_count": null,
   "metadata": {},
   "outputs": [],
   "source": [
    "df"
   ]
  },
  {
   "cell_type": "code",
   "execution_count": null,
   "metadata": {},
   "outputs": [],
   "source": []
  },
  {
   "cell_type": "markdown",
   "metadata": {},
   "source": [
    "## ( 2. 딕셔너리 처리 )"
   ]
  },
  {
   "cell_type": "code",
   "execution_count": 13,
   "metadata": {},
   "outputs": [],
   "source": [
    "def get_visit_01(url):\n",
    "    req = urllib.request.Request(url)\n",
    "    response = urllib.request.urlopen(req)\n",
    "    res_read = response.read().decode(\"utf-8)\")\n",
    "    json_load = json.loads(res_read)\n",
    "    item  = json_load['response']['body']['items']['item']         \n",
    "    return item"
   ]
  },
  {
   "cell_type": "code",
   "execution_count": 18,
   "metadata": {},
   "outputs": [
    {
     "data": {
      "text/html": [
       "<div>\n",
       "<style scoped>\n",
       "    .dataframe tbody tr th:only-of-type {\n",
       "        vertical-align: middle;\n",
       "    }\n",
       "\n",
       "    .dataframe tbody tr th {\n",
       "        vertical-align: top;\n",
       "    }\n",
       "\n",
       "    .dataframe thead th {\n",
       "        text-align: right;\n",
       "    }\n",
       "</style>\n",
       "<table border=\"1\" class=\"dataframe\">\n",
       "  <thead>\n",
       "    <tr style=\"text-align: right;\">\n",
       "      <th></th>\n",
       "      <th>년월</th>\n",
       "      <th>국가</th>\n",
       "      <th>방문객수</th>\n",
       "      <th>구분</th>\n",
       "    </tr>\n",
       "  </thead>\n",
       "  <tbody>\n",
       "    <tr>\n",
       "      <th>0</th>\n",
       "      <td>201901</td>\n",
       "      <td>중  국</td>\n",
       "      <td>392814</td>\n",
       "      <td>방한외래관광객</td>\n",
       "    </tr>\n",
       "    <tr>\n",
       "      <th>0</th>\n",
       "      <td>201902</td>\n",
       "      <td>중  국</td>\n",
       "      <td>453379</td>\n",
       "      <td>방한외래관광객</td>\n",
       "    </tr>\n",
       "    <tr>\n",
       "      <th>0</th>\n",
       "      <td>201903</td>\n",
       "      <td>중  국</td>\n",
       "      <td>487623</td>\n",
       "      <td>방한외래관광객</td>\n",
       "    </tr>\n",
       "    <tr>\n",
       "      <th>0</th>\n",
       "      <td>201904</td>\n",
       "      <td>중  국</td>\n",
       "      <td>493250</td>\n",
       "      <td>방한외래관광객</td>\n",
       "    </tr>\n",
       "    <tr>\n",
       "      <th>0</th>\n",
       "      <td>201905</td>\n",
       "      <td>중  국</td>\n",
       "      <td>500413</td>\n",
       "      <td>방한외래관광객</td>\n",
       "    </tr>\n",
       "  </tbody>\n",
       "</table>\n",
       "</div>"
      ],
      "text/plain": [
       "       년월    국가    방문객수       구분\n",
       "0  201901  중  국  392814  방한외래관광객\n",
       "0  201902  중  국  453379  방한외래관광객\n",
       "0  201903  중  국  487623  방한외래관광객\n",
       "0  201904  중  국  493250  방한외래관광객\n",
       "0  201905  중  국  500413  방한외래관광객"
      ]
     },
     "execution_count": 18,
     "metadata": {},
     "output_type": "execute_result"
    }
   ],
   "source": [
    "country_code = [\"112\",\"130\",\"275\"]  # 국가코드 중국(112), 일본(130), 미국(275)\n",
    "visit_year = [2019,2020] # 2019년01월 ~ 2020년 12월 \n",
    "ed_cd = \"E\"  # 방한외래관광객(E), 해외출국(D) \n",
    "\n",
    "service_url = \"http://openapi.tour.go.kr/openapi/service/EdrcntTourismStatsService/getEdrcntTourismStatsList\"\n",
    "url_01      = \"?_type=json&serviceKey=\" + my_key   #인증키\n",
    "\n",
    "total_visit = []\n",
    "init = 0 \n",
    "for country in country_code:\n",
    "    for year in visit_year:\n",
    "        for month in range(1,13):\n",
    "            url_02 = \"&YM=\" + str(year)+\"%02d\"%month\n",
    "            url_02 += \"&NAT_CD=\" + country\n",
    "            url_02 += \"&ED_CD=\" + ed_cd            \n",
    "            url = service_url + url_01 + url_02\n",
    "\n",
    "            result = get_visit_01(url) \n",
    "            \n",
    "            df = pd.DataFrame([result])\n",
    "            \n",
    "            if init == 0:\n",
    "                df_total = df.copy()\n",
    "                init = 1\n",
    "            else:\n",
    "                df_total = pd.concat([df_total, df]) \n",
    "                \n",
    "df_total.shape \n",
    "\n",
    "df_total1 = df_total[[\"ym\",\"natKorNm\",\"num\",\"ed\"]]\n",
    "df_total1.columns = [\"년월\",\"국가\",\"방문객수\",\"구분\"]\n",
    "df_total1.head() "
   ]
  },
  {
   "cell_type": "code",
   "execution_count": 17,
   "metadata": {},
   "outputs": [
    {
     "data": {
      "text/html": [
       "<div>\n",
       "<style scoped>\n",
       "    .dataframe tbody tr th:only-of-type {\n",
       "        vertical-align: middle;\n",
       "    }\n",
       "\n",
       "    .dataframe tbody tr th {\n",
       "        vertical-align: top;\n",
       "    }\n",
       "\n",
       "    .dataframe thead th {\n",
       "        text-align: right;\n",
       "    }\n",
       "</style>\n",
       "<table border=\"1\" class=\"dataframe\">\n",
       "  <thead>\n",
       "    <tr style=\"text-align: right;\">\n",
       "      <th></th>\n",
       "      <th>ed</th>\n",
       "      <th>edCd</th>\n",
       "      <th>natCd</th>\n",
       "      <th>natKorNm</th>\n",
       "      <th>num</th>\n",
       "      <th>rnum</th>\n",
       "      <th>ym</th>\n",
       "    </tr>\n",
       "  </thead>\n",
       "  <tbody>\n",
       "    <tr>\n",
       "      <th>0</th>\n",
       "      <td>방한외래관광객</td>\n",
       "      <td>E</td>\n",
       "      <td>112</td>\n",
       "      <td>중  국</td>\n",
       "      <td>392814</td>\n",
       "      <td>1</td>\n",
       "      <td>201901</td>\n",
       "    </tr>\n",
       "    <tr>\n",
       "      <th>0</th>\n",
       "      <td>방한외래관광객</td>\n",
       "      <td>E</td>\n",
       "      <td>112</td>\n",
       "      <td>중  국</td>\n",
       "      <td>453379</td>\n",
       "      <td>1</td>\n",
       "      <td>201902</td>\n",
       "    </tr>\n",
       "    <tr>\n",
       "      <th>0</th>\n",
       "      <td>방한외래관광객</td>\n",
       "      <td>E</td>\n",
       "      <td>112</td>\n",
       "      <td>중  국</td>\n",
       "      <td>487623</td>\n",
       "      <td>1</td>\n",
       "      <td>201903</td>\n",
       "    </tr>\n",
       "    <tr>\n",
       "      <th>0</th>\n",
       "      <td>방한외래관광객</td>\n",
       "      <td>E</td>\n",
       "      <td>112</td>\n",
       "      <td>중  국</td>\n",
       "      <td>493250</td>\n",
       "      <td>1</td>\n",
       "      <td>201904</td>\n",
       "    </tr>\n",
       "    <tr>\n",
       "      <th>0</th>\n",
       "      <td>방한외래관광객</td>\n",
       "      <td>E</td>\n",
       "      <td>112</td>\n",
       "      <td>중  국</td>\n",
       "      <td>500413</td>\n",
       "      <td>1</td>\n",
       "      <td>201905</td>\n",
       "    </tr>\n",
       "    <tr>\n",
       "      <th>...</th>\n",
       "      <td>...</td>\n",
       "      <td>...</td>\n",
       "      <td>...</td>\n",
       "      <td>...</td>\n",
       "      <td>...</td>\n",
       "      <td>...</td>\n",
       "      <td>...</td>\n",
       "    </tr>\n",
       "    <tr>\n",
       "      <th>0</th>\n",
       "      <td>방한외래관광객</td>\n",
       "      <td>E</td>\n",
       "      <td>275</td>\n",
       "      <td>미  국</td>\n",
       "      <td>13368</td>\n",
       "      <td>1</td>\n",
       "      <td>202008</td>\n",
       "    </tr>\n",
       "    <tr>\n",
       "      <th>0</th>\n",
       "      <td>방한외래관광객</td>\n",
       "      <td>E</td>\n",
       "      <td>275</td>\n",
       "      <td>미  국</td>\n",
       "      <td>12426</td>\n",
       "      <td>1</td>\n",
       "      <td>202009</td>\n",
       "    </tr>\n",
       "    <tr>\n",
       "      <th>0</th>\n",
       "      <td>방한외래관광객</td>\n",
       "      <td>E</td>\n",
       "      <td>275</td>\n",
       "      <td>미  국</td>\n",
       "      <td>12366</td>\n",
       "      <td>1</td>\n",
       "      <td>202010</td>\n",
       "    </tr>\n",
       "    <tr>\n",
       "      <th>0</th>\n",
       "      <td>방한외래관광객</td>\n",
       "      <td>E</td>\n",
       "      <td>275</td>\n",
       "      <td>미  국</td>\n",
       "      <td>13100</td>\n",
       "      <td>1</td>\n",
       "      <td>202011</td>\n",
       "    </tr>\n",
       "    <tr>\n",
       "      <th>0</th>\n",
       "      <td>방한외래관광객</td>\n",
       "      <td>E</td>\n",
       "      <td>275</td>\n",
       "      <td>미  국</td>\n",
       "      <td>12102</td>\n",
       "      <td>1</td>\n",
       "      <td>202012</td>\n",
       "    </tr>\n",
       "  </tbody>\n",
       "</table>\n",
       "<p>72 rows × 7 columns</p>\n",
       "</div>"
      ],
      "text/plain": [
       "         ed edCd  natCd natKorNm     num  rnum      ym\n",
       "0   방한외래관광객    E    112     중  국  392814     1  201901\n",
       "0   방한외래관광객    E    112     중  국  453379     1  201902\n",
       "0   방한외래관광객    E    112     중  국  487623     1  201903\n",
       "0   방한외래관광객    E    112     중  국  493250     1  201904\n",
       "0   방한외래관광객    E    112     중  국  500413     1  201905\n",
       "..      ...  ...    ...      ...     ...   ...     ...\n",
       "0   방한외래관광객    E    275     미  국   13368     1  202008\n",
       "0   방한외래관광객    E    275     미  국   12426     1  202009\n",
       "0   방한외래관광객    E    275     미  국   12366     1  202010\n",
       "0   방한외래관광객    E    275     미  국   13100     1  202011\n",
       "0   방한외래관광객    E    275     미  국   12102     1  202012\n",
       "\n",
       "[72 rows x 7 columns]"
      ]
     },
     "execution_count": 17,
     "metadata": {},
     "output_type": "execute_result"
    }
   ],
   "source": [
    "df_total"
   ]
  },
  {
   "cell_type": "code",
   "execution_count": null,
   "metadata": {},
   "outputs": [],
   "source": []
  },
  {
   "cell_type": "markdown",
   "metadata": {},
   "source": [
    "## ( 3. Parameter  처리 )"
   ]
  },
  {
   "cell_type": "code",
   "execution_count": 19,
   "metadata": {},
   "outputs": [],
   "source": [
    "import requests\n",
    "def get_visit_02(url, params):\n",
    "    req = requests.get(url, params) \n",
    "    print(\"req = \", req.json())\n",
    "    item  = req.json()['response']['body']['items']['item']    \n",
    "    return item"
   ]
  },
  {
   "cell_type": "code",
   "execution_count": null,
   "metadata": {},
   "outputs": [],
   "source": [
    "country_code = [\"112\",\"130\",\"275\"]  # 국가코드 중국(112), 일본(130), 미국(275)\n",
    "visit_year = [2019,2020] # 2019년01월 ~ 2020년 12월 \n",
    "ed_cd = \"E\"  # 방한외래관광객(E), 해외출국(D) \n",
    "\n",
    "service_url = \"http://openapi.tour.go.kr/openapi/service/EdrcntTourismStatsService/getEdrcntTourismStatsList\"\n",
    "url_01      = \"?_type=json&serviceKey=\" + my_key   #인증키\n",
    "\n",
    "total_visit = []\n",
    "init = 0 \n",
    "for country in country_code:\n",
    "    for year in visit_year:\n",
    "        for month in range(1,13):\n",
    "            \n",
    "            params = {\"YM\": str(year)+\"%02d\"%month,\n",
    "                      \"NAT_CD\":country,\n",
    "                      \"ED_CD\":ed_cd} \n",
    "            \n",
    "            print(\"params = \", params)\n",
    "            \n",
    "            result = get_visit_02(url, params=params) \n",
    "            \n",
    "            print(\"result = \", result)"
   ]
  },
  {
   "cell_type": "code",
   "execution_count": null,
   "metadata": {},
   "outputs": [],
   "source": []
  },
  {
   "cell_type": "markdown",
   "metadata": {},
   "source": [
    "## ( DataFrame Return 사례 )"
   ]
  },
  {
   "cell_type": "code",
   "execution_count": null,
   "metadata": {},
   "outputs": [],
   "source": [
    "import requests \n",
    "\n",
    "def get_visit03(url):\n",
    "    req = requests.get(url) \n",
    "    json_loads = json.loads(req.text)\n",
    "    df = pd.DataFrame(json_loads[\"response\"][\"body\"][\"items\"]).T    \n",
    "    return df"
   ]
  },
  {
   "cell_type": "code",
   "execution_count": 20,
   "metadata": {},
   "outputs": [],
   "source": [
    "req = requests.get(url) \n",
    "json_loads = json.loads(req.text)"
   ]
  },
  {
   "cell_type": "code",
   "execution_count": 23,
   "metadata": {},
   "outputs": [
    {
     "data": {
      "text/plain": [
       "{'item': {'ed': '방한외래관광객',\n",
       "  'edCd': 'E',\n",
       "  'natCd': 275,\n",
       "  'natKorNm': '미  국',\n",
       "  'num': 12102,\n",
       "  'rnum': 1,\n",
       "  'ym': 202012}}"
      ]
     },
     "execution_count": 23,
     "metadata": {},
     "output_type": "execute_result"
    }
   ],
   "source": [
    "json_loads[\"response\"][\"body\"][\"items\"]"
   ]
  },
  {
   "cell_type": "code",
   "execution_count": 22,
   "metadata": {},
   "outputs": [
    {
     "data": {
      "text/html": [
       "<div>\n",
       "<style scoped>\n",
       "    .dataframe tbody tr th:only-of-type {\n",
       "        vertical-align: middle;\n",
       "    }\n",
       "\n",
       "    .dataframe tbody tr th {\n",
       "        vertical-align: top;\n",
       "    }\n",
       "\n",
       "    .dataframe thead th {\n",
       "        text-align: right;\n",
       "    }\n",
       "</style>\n",
       "<table border=\"1\" class=\"dataframe\">\n",
       "  <thead>\n",
       "    <tr style=\"text-align: right;\">\n",
       "      <th></th>\n",
       "      <th>item</th>\n",
       "    </tr>\n",
       "  </thead>\n",
       "  <tbody>\n",
       "    <tr>\n",
       "      <th>ed</th>\n",
       "      <td>방한외래관광객</td>\n",
       "    </tr>\n",
       "    <tr>\n",
       "      <th>edCd</th>\n",
       "      <td>E</td>\n",
       "    </tr>\n",
       "    <tr>\n",
       "      <th>natCd</th>\n",
       "      <td>275</td>\n",
       "    </tr>\n",
       "    <tr>\n",
       "      <th>natKorNm</th>\n",
       "      <td>미  국</td>\n",
       "    </tr>\n",
       "    <tr>\n",
       "      <th>num</th>\n",
       "      <td>12102</td>\n",
       "    </tr>\n",
       "    <tr>\n",
       "      <th>rnum</th>\n",
       "      <td>1</td>\n",
       "    </tr>\n",
       "    <tr>\n",
       "      <th>ym</th>\n",
       "      <td>202012</td>\n",
       "    </tr>\n",
       "  </tbody>\n",
       "</table>\n",
       "</div>"
      ],
      "text/plain": [
       "             item\n",
       "ed        방한외래관광객\n",
       "edCd            E\n",
       "natCd         275\n",
       "natKorNm     미  국\n",
       "num         12102\n",
       "rnum            1\n",
       "ym         202012"
      ]
     },
     "execution_count": 22,
     "metadata": {},
     "output_type": "execute_result"
    }
   ],
   "source": [
    "pd.DataFrame(json_loads[\"response\"][\"body\"][\"items\"])"
   ]
  },
  {
   "cell_type": "code",
   "execution_count": 24,
   "metadata": {},
   "outputs": [
    {
     "data": {
      "text/html": [
       "<div>\n",
       "<style scoped>\n",
       "    .dataframe tbody tr th:only-of-type {\n",
       "        vertical-align: middle;\n",
       "    }\n",
       "\n",
       "    .dataframe tbody tr th {\n",
       "        vertical-align: top;\n",
       "    }\n",
       "\n",
       "    .dataframe thead th {\n",
       "        text-align: right;\n",
       "    }\n",
       "</style>\n",
       "<table border=\"1\" class=\"dataframe\">\n",
       "  <thead>\n",
       "    <tr style=\"text-align: right;\">\n",
       "      <th></th>\n",
       "      <th>ed</th>\n",
       "      <th>edCd</th>\n",
       "      <th>natCd</th>\n",
       "      <th>natKorNm</th>\n",
       "      <th>num</th>\n",
       "      <th>rnum</th>\n",
       "      <th>ym</th>\n",
       "    </tr>\n",
       "  </thead>\n",
       "  <tbody>\n",
       "    <tr>\n",
       "      <th>item</th>\n",
       "      <td>방한외래관광객</td>\n",
       "      <td>E</td>\n",
       "      <td>275</td>\n",
       "      <td>미  국</td>\n",
       "      <td>12102</td>\n",
       "      <td>1</td>\n",
       "      <td>202012</td>\n",
       "    </tr>\n",
       "  </tbody>\n",
       "</table>\n",
       "</div>"
      ],
      "text/plain": [
       "           ed edCd natCd natKorNm    num rnum      ym\n",
       "item  방한외래관광객    E   275     미  국  12102    1  202012"
      ]
     },
     "execution_count": 24,
     "metadata": {},
     "output_type": "execute_result"
    }
   ],
   "source": [
    "pd.DataFrame(json_loads[\"response\"][\"body\"][\"items\"]).T"
   ]
  },
  {
   "cell_type": "code",
   "execution_count": null,
   "metadata": {},
   "outputs": [],
   "source": []
  },
  {
   "cell_type": "code",
   "execution_count": null,
   "metadata": {},
   "outputs": [],
   "source": []
  },
  {
   "cell_type": "code",
   "execution_count": null,
   "metadata": {},
   "outputs": [],
   "source": [
    "country_code = [\"112\",\"130\",\"275\"]  # 국가코드 중국(112), 일본(130), 미국(275)\n",
    "visit_year = [2019,2020] # 2019년01월 ~ 2020년 12월 \n",
    "ed_cd = \"E\"  # 방한외래관광객(E), 해외출국(D) \n",
    "\n",
    "service_url = \"http://openapi.tour.go.kr/openapi/service/EdrcntTourismStatsService/getEdrcntTourismStatsList\"\n",
    "url_01      = \"?_type=json&serviceKey=\" + my_key   #인증키\n",
    "\n",
    "total_visit = []\n",
    "\n",
    "init = 0\n",
    "\n",
    "for country in country_code:\n",
    "    for year in visit_year:\n",
    "        for month in range(1,13):\n",
    "            url_02 = \"&YM=\" + str(year)+\"%02d\"%month\n",
    "            url_02 += \"&NAT_CD=\" + country\n",
    "            url_02 += \"&ED_CD=\" + ed_cd            \n",
    "            url = service_url + url_01 + url_02\n",
    "\n",
    "            visit_page = get_visit03(url)            \n",
    "\n",
    "            if init == 0:\n",
    "                visit_total  = visit_page.copy()\n",
    "                init = 1\n",
    "            else:\n",
    "                visit_total = pd.concat([visit_total, visit_page])\n",
    "                \n",
    "visit_total = visit_total[[\"ym\",\"natKorNm\",\"num\",\"edCd\"]] \n",
    "visit_total.columns = [\"년월\",\"국가\",\"방문객수\",\"구분\"] \n",
    "\n",
    "visit_total.reset_index().drop(\"index\", axis=1)"
   ]
  },
  {
   "cell_type": "code",
   "execution_count": null,
   "metadata": {},
   "outputs": [],
   "source": []
  },
  {
   "cell_type": "code",
   "execution_count": null,
   "metadata": {},
   "outputs": [],
   "source": []
  }
 ],
 "metadata": {
  "kernelspec": {
   "display_name": "Python 3",
   "language": "python",
   "name": "python3"
  },
  "language_info": {
   "codemirror_mode": {
    "name": "ipython",
    "version": 3
   },
   "file_extension": ".py",
   "mimetype": "text/x-python",
   "name": "python",
   "nbconvert_exporter": "python",
   "pygments_lexer": "ipython3",
   "version": "3.8.8"
  }
 },
 "nbformat": 4,
 "nbformat_minor": 4
}
