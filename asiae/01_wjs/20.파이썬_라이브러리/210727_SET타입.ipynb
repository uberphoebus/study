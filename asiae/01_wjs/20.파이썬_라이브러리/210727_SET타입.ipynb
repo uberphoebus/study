{
 "cells": [
  {
   "cell_type": "code",
   "execution_count": 1,
   "id": "a7216cc9",
   "metadata": {},
   "outputs": [],
   "source": [
    "# 숫자형, 문자형 \n",
    "# 데이터 구조 -> 리스트, 튜플, 딕셔너리 \n",
    "# SET "
   ]
  },
  {
   "cell_type": "code",
   "execution_count": 3,
   "id": "56a2bb87",
   "metadata": {},
   "outputs": [
    {
     "data": {
      "text/plain": [
       "{1, 2, 3}"
      ]
     },
     "execution_count": 3,
     "metadata": {},
     "output_type": "execute_result"
    }
   ],
   "source": [
    "# 생성은 \n",
    "a = {1,2,3}; a"
   ]
  },
  {
   "cell_type": "code",
   "execution_count": 4,
   "id": "927ddea0",
   "metadata": {},
   "outputs": [
    {
     "data": {
      "text/plain": [
       "set"
      ]
     },
     "execution_count": 4,
     "metadata": {},
     "output_type": "execute_result"
    }
   ],
   "source": [
    "type(a)"
   ]
  },
  {
   "cell_type": "code",
   "execution_count": 5,
   "id": "0f2bd0b3",
   "metadata": {},
   "outputs": [
    {
     "data": {
      "text/plain": [
       "{1, 2, 3, 4, 5}"
      ]
     },
     "execution_count": 5,
     "metadata": {},
     "output_type": "execute_result"
    }
   ],
   "source": [
    "b = {1,2,3,3,4,5,3}\n",
    "b"
   ]
  },
  {
   "cell_type": "code",
   "execution_count": 6,
   "id": "d98ea246",
   "metadata": {},
   "outputs": [
    {
     "data": {
      "text/plain": [
       "[1, 2, 3, 3, 4, 5, 4, 5, 6]"
      ]
     },
     "execution_count": 6,
     "metadata": {},
     "output_type": "execute_result"
    }
   ],
   "source": [
    "a1 = [1,2,3,3,4,5,4,5,6];a1"
   ]
  },
  {
   "cell_type": "code",
   "execution_count": 7,
   "id": "56abe6bb",
   "metadata": {},
   "outputs": [
    {
     "data": {
      "text/plain": [
       "{1, 2, 3, 4, 5, 6}"
      ]
     },
     "execution_count": 7,
     "metadata": {},
     "output_type": "execute_result"
    }
   ],
   "source": [
    "set(a1)"
   ]
  },
  {
   "cell_type": "code",
   "execution_count": 8,
   "id": "c85ae8a6",
   "metadata": {},
   "outputs": [
    {
     "data": {
      "text/plain": [
       "[1, 2, 3, 4, 5, 6]"
      ]
     },
     "execution_count": 8,
     "metadata": {},
     "output_type": "execute_result"
    }
   ],
   "source": [
    "list(set(a1))"
   ]
  },
  {
   "cell_type": "code",
   "execution_count": 10,
   "id": "7ff633a9",
   "metadata": {},
   "outputs": [
    {
     "ename": "TypeError",
     "evalue": "'set' object is not subscriptable",
     "output_type": "error",
     "traceback": [
      "\u001b[1;31m---------------------------------------------------------------------------\u001b[0m",
      "\u001b[1;31mTypeError\u001b[0m                                 Traceback (most recent call last)",
      "\u001b[1;32m<ipython-input-10-54af0eb47770>\u001b[0m in \u001b[0;36m<module>\u001b[1;34m\u001b[0m\n\u001b[1;32m----> 1\u001b[1;33m \u001b[0mb\u001b[0m\u001b[1;33m[\u001b[0m\u001b[1;36m0\u001b[0m\u001b[1;33m]\u001b[0m\u001b[1;33m\u001b[0m\u001b[1;33m\u001b[0m\u001b[0m\n\u001b[0m",
      "\u001b[1;31mTypeError\u001b[0m: 'set' object is not subscriptable"
     ]
    }
   ],
   "source": [
    "b[0]"
   ]
  },
  {
   "cell_type": "code",
   "execution_count": 12,
   "id": "c6d587af",
   "metadata": {},
   "outputs": [],
   "source": [
    "set1 = {\"a\",\"b\",\"c\",\"d\"}\n",
    "set2 = {1,7,3,5,2}\n",
    "set3 = {True, False}\n",
    "set4 = {\"a\",34,True,50,\"male\"}"
   ]
  },
  {
   "cell_type": "code",
   "execution_count": 13,
   "id": "37cbc424",
   "metadata": {},
   "outputs": [],
   "source": [
    "set_a = {1,2,3,4,5}\n",
    "set_b = {4,5,6,7,8,9,10}"
   ]
  },
  {
   "cell_type": "code",
   "execution_count": 14,
   "id": "07953d93",
   "metadata": {},
   "outputs": [
    {
     "data": {
      "text/plain": [
       "{4, 5}"
      ]
     },
     "execution_count": 14,
     "metadata": {},
     "output_type": "execute_result"
    }
   ],
   "source": [
    "set_a.intersection(set_b)"
   ]
  },
  {
   "cell_type": "code",
   "execution_count": 16,
   "id": "1a79ca76",
   "metadata": {},
   "outputs": [
    {
     "data": {
      "text/plain": [
       "{4, 5}"
      ]
     },
     "execution_count": 16,
     "metadata": {},
     "output_type": "execute_result"
    }
   ],
   "source": [
    "set_a & set_b"
   ]
  },
  {
   "cell_type": "code",
   "execution_count": null,
   "id": "fd191526",
   "metadata": {},
   "outputs": [],
   "source": []
  },
  {
   "cell_type": "code",
   "execution_count": 15,
   "id": "4b1ca3ec",
   "metadata": {},
   "outputs": [
    {
     "data": {
      "text/plain": [
       "{1, 2, 3, 4, 5, 6, 7, 8, 9, 10}"
      ]
     },
     "execution_count": 15,
     "metadata": {},
     "output_type": "execute_result"
    }
   ],
   "source": [
    "set_a.union(set_b)"
   ]
  },
  {
   "cell_type": "code",
   "execution_count": 17,
   "id": "d7a8f149",
   "metadata": {},
   "outputs": [
    {
     "data": {
      "text/plain": [
       "{1, 2, 3, 4, 5, 6, 7, 8, 9, 10}"
      ]
     },
     "execution_count": 17,
     "metadata": {},
     "output_type": "execute_result"
    }
   ],
   "source": [
    "set_a | set_b"
   ]
  },
  {
   "cell_type": "code",
   "execution_count": null,
   "id": "c63cd5a5",
   "metadata": {},
   "outputs": [],
   "source": []
  },
  {
   "cell_type": "code",
   "execution_count": 18,
   "id": "e2b35c1e",
   "metadata": {},
   "outputs": [
    {
     "data": {
      "text/plain": [
       "{1, 2, 3}"
      ]
     },
     "execution_count": 18,
     "metadata": {},
     "output_type": "execute_result"
    }
   ],
   "source": [
    "set_a.difference(set_b)"
   ]
  },
  {
   "cell_type": "code",
   "execution_count": 19,
   "id": "1bdd65c7",
   "metadata": {},
   "outputs": [
    {
     "data": {
      "text/plain": [
       "{6, 7, 8, 9, 10}"
      ]
     },
     "execution_count": 19,
     "metadata": {},
     "output_type": "execute_result"
    }
   ],
   "source": [
    "set_b.difference(set_a)"
   ]
  },
  {
   "cell_type": "code",
   "execution_count": 20,
   "id": "285f8289",
   "metadata": {},
   "outputs": [
    {
     "data": {
      "text/plain": [
       "{1, 2, 3}"
      ]
     },
     "execution_count": 20,
     "metadata": {},
     "output_type": "execute_result"
    }
   ],
   "source": [
    "set_a - set_b"
   ]
  },
  {
   "cell_type": "code",
   "execution_count": null,
   "id": "fc0dfc74",
   "metadata": {},
   "outputs": [],
   "source": []
  },
  {
   "cell_type": "code",
   "execution_count": 22,
   "id": "ecf380e4",
   "metadata": {},
   "outputs": [
    {
     "name": "stdout",
     "output_type": "stream",
     "text": [
      "1 =  {1, 2, 3, 4, 5}\n",
      "x =  1\n",
      "2 =  {2, 3, 4, 5}\n"
     ]
    }
   ],
   "source": [
    "print(\"1 = \", set_a)\n",
    "x = set_a.pop()\n",
    "print(\"x = \", x)\n",
    "print(\"2 = \", set_a)"
   ]
  },
  {
   "cell_type": "code",
   "execution_count": 23,
   "id": "b39b763d",
   "metadata": {},
   "outputs": [
    {
     "name": "stdout",
     "output_type": "stream",
     "text": [
      "1 =  {2, 3, 4, 5}\n",
      "x =  2\n",
      "2 =  {3, 4, 5}\n"
     ]
    }
   ],
   "source": [
    "print(\"1 = \", set_a)\n",
    "x = set_a.pop()\n",
    "print(\"x = \", x)\n",
    "print(\"2 = \", set_a)"
   ]
  },
  {
   "cell_type": "code",
   "execution_count": 24,
   "id": "300ed769",
   "metadata": {},
   "outputs": [
    {
     "name": "stdout",
     "output_type": "stream",
     "text": [
      "1 =  {3, 4, 5}\n",
      "x =  3\n",
      "2 =  {4, 5}\n"
     ]
    }
   ],
   "source": [
    "print(\"1 = \", set_a)\n",
    "x = set_a.pop()\n",
    "print(\"x = \", x)\n",
    "print(\"2 = \", set_a)"
   ]
  },
  {
   "cell_type": "code",
   "execution_count": 25,
   "id": "80341d7d",
   "metadata": {},
   "outputs": [
    {
     "name": "stdout",
     "output_type": "stream",
     "text": [
      "1 =  {4, 5}\n",
      "x =  4\n",
      "2 =  {5}\n"
     ]
    }
   ],
   "source": [
    "print(\"1 = \", set_a)\n",
    "x = set_a.pop()\n",
    "print(\"x = \", x)\n",
    "print(\"2 = \", set_a)"
   ]
  },
  {
   "cell_type": "code",
   "execution_count": 26,
   "id": "0df2cadd",
   "metadata": {},
   "outputs": [
    {
     "name": "stdout",
     "output_type": "stream",
     "text": [
      "1 =  {5}\n",
      "x =  5\n",
      "2 =  set()\n"
     ]
    }
   ],
   "source": [
    "print(\"1 = \", set_a)\n",
    "x = set_a.pop()\n",
    "print(\"x = \", x)\n",
    "print(\"2 = \", set_a)"
   ]
  },
  {
   "cell_type": "code",
   "execution_count": 27,
   "id": "8ff3699d",
   "metadata": {},
   "outputs": [
    {
     "name": "stdout",
     "output_type": "stream",
     "text": [
      "1 =  set()\n"
     ]
    },
    {
     "ename": "KeyError",
     "evalue": "'pop from an empty set'",
     "output_type": "error",
     "traceback": [
      "\u001b[1;31m---------------------------------------------------------------------------\u001b[0m",
      "\u001b[1;31mKeyError\u001b[0m                                  Traceback (most recent call last)",
      "\u001b[1;32m<ipython-input-27-9358b0dc1446>\u001b[0m in \u001b[0;36m<module>\u001b[1;34m\u001b[0m\n\u001b[0;32m      1\u001b[0m \u001b[0mprint\u001b[0m\u001b[1;33m(\u001b[0m\u001b[1;34m\"1 = \"\u001b[0m\u001b[1;33m,\u001b[0m \u001b[0mset_a\u001b[0m\u001b[1;33m)\u001b[0m\u001b[1;33m\u001b[0m\u001b[1;33m\u001b[0m\u001b[0m\n\u001b[1;32m----> 2\u001b[1;33m \u001b[0mx\u001b[0m \u001b[1;33m=\u001b[0m \u001b[0mset_a\u001b[0m\u001b[1;33m.\u001b[0m\u001b[0mpop\u001b[0m\u001b[1;33m(\u001b[0m\u001b[1;33m)\u001b[0m\u001b[1;33m\u001b[0m\u001b[1;33m\u001b[0m\u001b[0m\n\u001b[0m\u001b[0;32m      3\u001b[0m \u001b[0mprint\u001b[0m\u001b[1;33m(\u001b[0m\u001b[1;34m\"x = \"\u001b[0m\u001b[1;33m,\u001b[0m \u001b[0mx\u001b[0m\u001b[1;33m)\u001b[0m\u001b[1;33m\u001b[0m\u001b[1;33m\u001b[0m\u001b[0m\n\u001b[0;32m      4\u001b[0m \u001b[0mprint\u001b[0m\u001b[1;33m(\u001b[0m\u001b[1;34m\"2 = \"\u001b[0m\u001b[1;33m,\u001b[0m \u001b[0mset_a\u001b[0m\u001b[1;33m)\u001b[0m\u001b[1;33m\u001b[0m\u001b[1;33m\u001b[0m\u001b[0m\n",
      "\u001b[1;31mKeyError\u001b[0m: 'pop from an empty set'"
     ]
    }
   ],
   "source": [
    "print(\"1 = \", set_a)\n",
    "x = set_a.pop()\n",
    "print(\"x = \", x)\n",
    "print(\"2 = \", set_a)"
   ]
  },
  {
   "cell_type": "code",
   "execution_count": null,
   "id": "db4f6a71",
   "metadata": {},
   "outputs": [],
   "source": []
  }
 ],
 "metadata": {
  "kernelspec": {
   "display_name": "Python 3",
   "language": "python",
   "name": "python3"
  },
  "language_info": {
   "codemirror_mode": {
    "name": "ipython",
    "version": 3
   },
   "file_extension": ".py",
   "mimetype": "text/x-python",
   "name": "python",
   "nbconvert_exporter": "python",
   "pygments_lexer": "ipython3",
   "version": "3.8.8"
  }
 },
 "nbformat": 4,
 "nbformat_minor": 5
}
