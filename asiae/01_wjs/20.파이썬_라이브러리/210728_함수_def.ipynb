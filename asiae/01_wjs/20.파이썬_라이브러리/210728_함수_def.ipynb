{
 "cells": [
  {
   "cell_type": "code",
   "execution_count": 1,
   "id": "ff79bdf3",
   "metadata": {},
   "outputs": [],
   "source": [
    "### ( 함수, function, def ) \n",
    "# 반복적으로 사용하는 코드를 모아서 동작 시키 기능 \n",
    "# def 함수명():\n",
    "#     실행코드1\n",
    "#     실행코드2\n",
    "#     return "
   ]
  },
  {
   "cell_type": "markdown",
   "id": "f813c5fa",
   "metadata": {},
   "source": [
    "1. 인자없는 실행함수\n",
    "2. 인자를 받아서 실행하는 함수\n",
    "3. 인자를 받아서 실행후 결과를 돌려주는 함수\n",
    "4. 입력값을 여러개 받아서 처리하는 함수 "
   ]
  },
  {
   "cell_type": "code",
   "execution_count": null,
   "id": "e1570808",
   "metadata": {},
   "outputs": [],
   "source": []
  },
  {
   "cell_type": "code",
   "execution_count": 14,
   "id": "38f33f20",
   "metadata": {},
   "outputs": [],
   "source": [
    "# 1.인자 없는 실행함수 \n",
    "def hello():\n",
    "    print(\"aaa\")\n",
    "    print(\"bbb\")\n",
    "    print(\"ccc\")"
   ]
  },
  {
   "cell_type": "code",
   "execution_count": 15,
   "id": "87a18cdb",
   "metadata": {},
   "outputs": [
    {
     "name": "stdout",
     "output_type": "stream",
     "text": [
      "aaa\n",
      "bbb\n",
      "ccc\n"
     ]
    }
   ],
   "source": [
    "# 함수 실행\n",
    "hello()"
   ]
  },
  {
   "cell_type": "code",
   "execution_count": null,
   "id": "c138763c",
   "metadata": {},
   "outputs": [],
   "source": []
  },
  {
   "cell_type": "code",
   "execution_count": 16,
   "id": "aa662c8b",
   "metadata": {},
   "outputs": [],
   "source": [
    "# 2. 인자를 받아서 실행하는 함수\n",
    "def sum(a,b):\n",
    "    c = a+b\n",
    "    print(c) "
   ]
  },
  {
   "cell_type": "code",
   "execution_count": 20,
   "id": "721d7fad",
   "metadata": {},
   "outputs": [
    {
     "name": "stdout",
     "output_type": "stream",
     "text": [
      "8\n"
     ]
    }
   ],
   "source": [
    "sum(3,5)"
   ]
  },
  {
   "cell_type": "code",
   "execution_count": 22,
   "id": "b4922245",
   "metadata": {},
   "outputs": [
    {
     "name": "stdout",
     "output_type": "stream",
     "text": [
      "13\n"
     ]
    }
   ],
   "source": [
    "x = 3; y = 10\n",
    "sum(x,y)"
   ]
  },
  {
   "cell_type": "code",
   "execution_count": 24,
   "id": "2462a0b2",
   "metadata": {},
   "outputs": [
    {
     "name": "stdout",
     "output_type": "stream",
     "text": [
      "13\n",
      "res =  None\n"
     ]
    }
   ],
   "source": [
    "res = sum(x,y)\n",
    "print(\"res = \", res)"
   ]
  },
  {
   "cell_type": "code",
   "execution_count": null,
   "id": "14569ced",
   "metadata": {},
   "outputs": [],
   "source": []
  },
  {
   "cell_type": "code",
   "execution_count": 25,
   "id": "3543dfd5",
   "metadata": {},
   "outputs": [],
   "source": [
    "# 3. 인자를 받아서 실행후 결과값을 돌려주는 함수 \n",
    "def fun(x,y):\n",
    "    z = x*y\n",
    "    print(\"z = \", z)\n",
    "    return z"
   ]
  },
  {
   "cell_type": "code",
   "execution_count": 27,
   "id": "5a72bd31",
   "metadata": {},
   "outputs": [
    {
     "name": "stdout",
     "output_type": "stream",
     "text": [
      "z =  24\n"
     ]
    },
    {
     "data": {
      "text/plain": [
       "24"
      ]
     },
     "execution_count": 27,
     "metadata": {},
     "output_type": "execute_result"
    }
   ],
   "source": [
    "fun(3,8)"
   ]
  },
  {
   "cell_type": "code",
   "execution_count": 28,
   "id": "faada104",
   "metadata": {},
   "outputs": [
    {
     "name": "stdout",
     "output_type": "stream",
     "text": [
      "z =  24\n",
      "res =  24\n"
     ]
    }
   ],
   "source": [
    "res = fun(3,8)\n",
    "print(\"res = \", res)"
   ]
  },
  {
   "cell_type": "code",
   "execution_count": null,
   "id": "039a9581",
   "metadata": {},
   "outputs": [],
   "source": []
  },
  {
   "cell_type": "code",
   "execution_count": 37,
   "id": "79fef747",
   "metadata": {},
   "outputs": [],
   "source": [
    "def fun1(x,y):\n",
    "    z = x*y\n",
    "    print(\"z = \", z)\n",
    "    return x+y, x*y, x-y"
   ]
  },
  {
   "cell_type": "code",
   "execution_count": 30,
   "id": "f0a8f9db",
   "metadata": {},
   "outputs": [
    {
     "name": "stdout",
     "output_type": "stream",
     "text": [
      "z =  40\n"
     ]
    },
    {
     "data": {
      "text/plain": [
       "(13, 320, -3)"
      ]
     },
     "execution_count": 30,
     "metadata": {},
     "output_type": "execute_result"
    }
   ],
   "source": [
    "fun1(5,8)"
   ]
  },
  {
   "cell_type": "code",
   "execution_count": 31,
   "id": "a445d93f",
   "metadata": {},
   "outputs": [
    {
     "name": "stdout",
     "output_type": "stream",
     "text": [
      "z =  40\n"
     ]
    },
    {
     "data": {
      "text/plain": [
       "(13, 320, -3)"
      ]
     },
     "execution_count": 31,
     "metadata": {},
     "output_type": "execute_result"
    }
   ],
   "source": [
    "res = fun1(5,8); res"
   ]
  },
  {
   "cell_type": "code",
   "execution_count": 32,
   "id": "be9f83e3",
   "metadata": {},
   "outputs": [
    {
     "name": "stdout",
     "output_type": "stream",
     "text": [
      "z =  40\n"
     ]
    }
   ],
   "source": [
    "a,b,c = fun1(5,8)"
   ]
  },
  {
   "cell_type": "code",
   "execution_count": 33,
   "id": "2e403f5e",
   "metadata": {},
   "outputs": [
    {
     "name": "stdout",
     "output_type": "stream",
     "text": [
      "a =  13\n",
      "b =  320\n",
      "c =  -3\n"
     ]
    }
   ],
   "source": [
    "print(\"a = \", a)\n",
    "print(\"b = \", b)\n",
    "print(\"c = \", c)"
   ]
  },
  {
   "cell_type": "code",
   "execution_count": 34,
   "id": "8cd1562b",
   "metadata": {},
   "outputs": [
    {
     "name": "stdout",
     "output_type": "stream",
     "text": [
      "z =  40\n",
      "1 =  13\n",
      "2 =  320\n",
      "3 =  -3\n"
     ]
    }
   ],
   "source": [
    "res = fun1(5,8)\n",
    "print(\"1 = \", res[0])\n",
    "print(\"2 = \", res[1])\n",
    "print(\"3 = \", res[2])"
   ]
  },
  {
   "cell_type": "code",
   "execution_count": null,
   "id": "0ae102e9",
   "metadata": {},
   "outputs": [],
   "source": []
  },
  {
   "cell_type": "code",
   "execution_count": 38,
   "id": "243e1c7d",
   "metadata": {},
   "outputs": [],
   "source": [
    "def fun2(x,y):\n",
    "    return x+y, x*y, x-y"
   ]
  },
  {
   "cell_type": "code",
   "execution_count": 39,
   "id": "9c09823b",
   "metadata": {},
   "outputs": [
    {
     "data": {
      "text/plain": [
       "(15, 50, -5)"
      ]
     },
     "execution_count": 39,
     "metadata": {},
     "output_type": "execute_result"
    }
   ],
   "source": [
    "fun2(5,10)"
   ]
  },
  {
   "cell_type": "code",
   "execution_count": null,
   "id": "fd810602",
   "metadata": {},
   "outputs": [],
   "source": []
  },
  {
   "cell_type": "code",
   "execution_count": 50,
   "id": "431956ea",
   "metadata": {},
   "outputs": [],
   "source": [
    "def fun3(x1,y1):\n",
    "    aaa = x1+y1\n",
    "    bbb = x1*y1\n",
    "    ccc = x1-y1\n",
    "    return aaa,bbb,ccc"
   ]
  },
  {
   "cell_type": "code",
   "execution_count": 51,
   "id": "87f9d581",
   "metadata": {},
   "outputs": [
    {
     "data": {
      "text/plain": [
       "(8, 15, -2)"
      ]
     },
     "execution_count": 51,
     "metadata": {},
     "output_type": "execute_result"
    }
   ],
   "source": [
    "fun3(3,5)"
   ]
  },
  {
   "cell_type": "code",
   "execution_count": null,
   "id": "3f8239fb",
   "metadata": {},
   "outputs": [],
   "source": []
  },
  {
   "cell_type": "markdown",
   "id": "86d21185",
   "metadata": {},
   "source": [
    "### 섭씨를 화씨로 변환하는 함수(cel_to_fah) 만들기\n",
    "1. y  = ( (9/5) * x ) + 32"
   ]
  },
  {
   "cell_type": "code",
   "execution_count": 53,
   "id": "53a23fcc",
   "metadata": {},
   "outputs": [
    {
     "data": {
      "text/plain": [
       "89.96000000000001"
      ]
     },
     "execution_count": 53,
     "metadata": {},
     "output_type": "execute_result"
    }
   ],
   "source": [
    "x = 32.2\n",
    "y = ((9/5) * x)  + 32\n",
    "y"
   ]
  },
  {
   "cell_type": "code",
   "execution_count": 54,
   "id": "e9f48e8d",
   "metadata": {},
   "outputs": [],
   "source": [
    "def cel_to_fah(x):\n",
    "    y = ((9/5) * x)  + 32\n",
    "    return y "
   ]
  },
  {
   "cell_type": "code",
   "execution_count": 59,
   "id": "63eed9b1",
   "metadata": {},
   "outputs": [],
   "source": [
    "def cel_to_fah1(x):    \n",
    "    return ((9/5) * x)  + 32"
   ]
  },
  {
   "cell_type": "code",
   "execution_count": 60,
   "id": "22ed843b",
   "metadata": {},
   "outputs": [
    {
     "name": "stdout",
     "output_type": "stream",
     "text": [
      "화씨 =  89.96000000000001\n"
     ]
    }
   ],
   "source": [
    "fah = cel_to_fah(32.2)\n",
    "print(\"화씨 = \", fah)"
   ]
  },
  {
   "cell_type": "code",
   "execution_count": 61,
   "id": "3306aa2d",
   "metadata": {},
   "outputs": [
    {
     "data": {
      "text/plain": [
       "89.96000000000001"
      ]
     },
     "execution_count": 61,
     "metadata": {},
     "output_type": "execute_result"
    }
   ],
   "source": [
    "cel_to_fah1(32.2)"
   ]
  },
  {
   "cell_type": "code",
   "execution_count": null,
   "id": "558c190c",
   "metadata": {},
   "outputs": [],
   "source": []
  },
  {
   "cell_type": "code",
   "execution_count": 62,
   "id": "c5f599d6",
   "metadata": {},
   "outputs": [],
   "source": [
    "# 4. 입력값을 여러개 받아서 처리하는 함수 "
   ]
  },
  {
   "cell_type": "code",
   "execution_count": 68,
   "id": "041dcdd8",
   "metadata": {},
   "outputs": [],
   "source": [
    "def sum_many(*args):\n",
    "    print(\"args = \", args)\n",
    "    sum = 0\n",
    "    for i in args:\n",
    "        sum += i\n",
    "    return sum "
   ]
  },
  {
   "cell_type": "code",
   "execution_count": 65,
   "id": "7e64d341",
   "metadata": {},
   "outputs": [
    {
     "name": "stdout",
     "output_type": "stream",
     "text": [
      "args =  (1, 3, 5, 7)\n"
     ]
    },
    {
     "data": {
      "text/plain": [
       "16"
      ]
     },
     "execution_count": 65,
     "metadata": {},
     "output_type": "execute_result"
    }
   ],
   "source": [
    "sum_many(1,3,5,7)"
   ]
  },
  {
   "cell_type": "code",
   "execution_count": 66,
   "id": "597fd6dc",
   "metadata": {},
   "outputs": [
    {
     "name": "stdout",
     "output_type": "stream",
     "text": [
      "args =  (1, 3, 5, 7, 9, 11)\n"
     ]
    },
    {
     "data": {
      "text/plain": [
       "36"
      ]
     },
     "execution_count": 66,
     "metadata": {},
     "output_type": "execute_result"
    }
   ],
   "source": [
    "sum_many(1,3,5,7,9,11)"
   ]
  },
  {
   "cell_type": "code",
   "execution_count": null,
   "id": "3320f013",
   "metadata": {},
   "outputs": [],
   "source": []
  },
  {
   "cell_type": "code",
   "execution_count": 69,
   "id": "40e398d2",
   "metadata": {},
   "outputs": [],
   "source": [
    "def sum_many1(*aa):\n",
    "    print(\"args = \", aa)\n",
    "    sum = 0\n",
    "    for i in aa:\n",
    "        sum += i\n",
    "    return sum "
   ]
  },
  {
   "cell_type": "code",
   "execution_count": 70,
   "id": "ae76c387",
   "metadata": {},
   "outputs": [
    {
     "name": "stdout",
     "output_type": "stream",
     "text": [
      "args =  (1, 2, 3)\n"
     ]
    },
    {
     "data": {
      "text/plain": [
       "6"
      ]
     },
     "execution_count": 70,
     "metadata": {},
     "output_type": "execute_result"
    }
   ],
   "source": [
    "sum_many1(1,2,3)"
   ]
  },
  {
   "cell_type": "code",
   "execution_count": null,
   "id": "afcb3dac",
   "metadata": {},
   "outputs": [],
   "source": []
  },
  {
   "cell_type": "code",
   "execution_count": 71,
   "id": "989b11c0",
   "metadata": {},
   "outputs": [],
   "source": [
    "# 5. key:value 로 받는 방식 , kwargs\n",
    "def name(**kwargs):\n",
    "    print(\"kwargs = \", kwargs) \n",
    "    for item in kwargs.items():\n",
    "        print(\"{} = {}\".format(item[0], item[1]))"
   ]
  },
  {
   "cell_type": "code",
   "execution_count": 76,
   "id": "1dcb57df",
   "metadata": {},
   "outputs": [
    {
     "name": "stdout",
     "output_type": "stream",
     "text": [
      "kwargs =  {'aa': '123'}\n",
      "aa = 123\n"
     ]
    }
   ],
   "source": [
    "name(aa=\"123\")"
   ]
  },
  {
   "cell_type": "code",
   "execution_count": 77,
   "id": "4ed7f595",
   "metadata": {},
   "outputs": [
    {
     "name": "stdout",
     "output_type": "stream",
     "text": [
      "kwargs =  {'aa': '123', 'bb': 'abc'}\n",
      "aa = 123\n",
      "bb = abc\n"
     ]
    }
   ],
   "source": [
    "name(aa=\"123\", bb=\"abc\")"
   ]
  },
  {
   "cell_type": "code",
   "execution_count": null,
   "id": "2fecacc3",
   "metadata": {},
   "outputs": [],
   "source": []
  },
  {
   "cell_type": "code",
   "execution_count": 80,
   "id": "f3fc3d9d",
   "metadata": {},
   "outputs": [],
   "source": [
    "def std_arg(arg):\n",
    "    print(\"std_arg = \", arg)\n",
    "def pos_only_arg(arg,/):\n",
    "    print(\"pos_only_arg = \", arg)\n",
    "def kwd_only_arg(*, arg):\n",
    "    print(\"kwd_only_arg = \", arg)\n",
    "def combined_example(pos_only, /, standard, *, kwd_only):\n",
    "    print(pos_only, standard, kwd_only) "
   ]
  },
  {
   "cell_type": "code",
   "execution_count": 82,
   "id": "f07aacf8",
   "metadata": {},
   "outputs": [
    {
     "name": "stdout",
     "output_type": "stream",
     "text": [
      "std_arg =  2\n"
     ]
    }
   ],
   "source": [
    "std_arg(2)"
   ]
  },
  {
   "cell_type": "code",
   "execution_count": 83,
   "id": "f049e2ae",
   "metadata": {},
   "outputs": [
    {
     "name": "stdout",
     "output_type": "stream",
     "text": [
      "std_arg =  2\n"
     ]
    }
   ],
   "source": [
    "std_arg(arg=2)"
   ]
  },
  {
   "cell_type": "code",
   "execution_count": 84,
   "id": "8de1785a",
   "metadata": {},
   "outputs": [
    {
     "ename": "TypeError",
     "evalue": "std_arg() got an unexpected keyword argument 'aa'",
     "output_type": "error",
     "traceback": [
      "\u001b[1;31m---------------------------------------------------------------------------\u001b[0m",
      "\u001b[1;31mTypeError\u001b[0m                                 Traceback (most recent call last)",
      "\u001b[1;32m<ipython-input-84-1e5910868295>\u001b[0m in \u001b[0;36m<module>\u001b[1;34m\u001b[0m\n\u001b[1;32m----> 1\u001b[1;33m \u001b[0mstd_arg\u001b[0m\u001b[1;33m(\u001b[0m\u001b[0maa\u001b[0m\u001b[1;33m=\u001b[0m\u001b[1;36m2\u001b[0m\u001b[1;33m)\u001b[0m\u001b[1;33m\u001b[0m\u001b[1;33m\u001b[0m\u001b[0m\n\u001b[0m",
      "\u001b[1;31mTypeError\u001b[0m: std_arg() got an unexpected keyword argument 'aa'"
     ]
    }
   ],
   "source": [
    "std_arg(aa=2)"
   ]
  },
  {
   "cell_type": "code",
   "execution_count": 85,
   "id": "0c7c5a0a",
   "metadata": {},
   "outputs": [
    {
     "name": "stdout",
     "output_type": "stream",
     "text": [
      "pos_only_arg =  1\n"
     ]
    }
   ],
   "source": [
    "pos_only_arg(1)"
   ]
  },
  {
   "cell_type": "code",
   "execution_count": 86,
   "id": "d255ade3",
   "metadata": {},
   "outputs": [
    {
     "ename": "TypeError",
     "evalue": "pos_only_arg() got some positional-only arguments passed as keyword arguments: 'arg'",
     "output_type": "error",
     "traceback": [
      "\u001b[1;31m---------------------------------------------------------------------------\u001b[0m",
      "\u001b[1;31mTypeError\u001b[0m                                 Traceback (most recent call last)",
      "\u001b[1;32m<ipython-input-86-434db44f4ff9>\u001b[0m in \u001b[0;36m<module>\u001b[1;34m\u001b[0m\n\u001b[1;32m----> 1\u001b[1;33m \u001b[0mpos_only_arg\u001b[0m\u001b[1;33m(\u001b[0m\u001b[0marg\u001b[0m\u001b[1;33m=\u001b[0m\u001b[1;36m1\u001b[0m\u001b[1;33m)\u001b[0m\u001b[1;33m\u001b[0m\u001b[1;33m\u001b[0m\u001b[0m\n\u001b[0m",
      "\u001b[1;31mTypeError\u001b[0m: pos_only_arg() got some positional-only arguments passed as keyword arguments: 'arg'"
     ]
    }
   ],
   "source": [
    "pos_only_arg(arg=1)"
   ]
  },
  {
   "cell_type": "code",
   "execution_count": 87,
   "id": "572a4541",
   "metadata": {},
   "outputs": [
    {
     "name": "stdout",
     "output_type": "stream",
     "text": [
      "kwd_only_arg =  3\n"
     ]
    }
   ],
   "source": [
    "kwd_only_arg(arg=3)"
   ]
  },
  {
   "cell_type": "code",
   "execution_count": 89,
   "id": "66b94a66",
   "metadata": {},
   "outputs": [
    {
     "ename": "TypeError",
     "evalue": "kwd_only_arg() takes 0 positional arguments but 1 was given",
     "output_type": "error",
     "traceback": [
      "\u001b[1;31m---------------------------------------------------------------------------\u001b[0m",
      "\u001b[1;31mTypeError\u001b[0m                                 Traceback (most recent call last)",
      "\u001b[1;32m<ipython-input-89-896c53ef896c>\u001b[0m in \u001b[0;36m<module>\u001b[1;34m\u001b[0m\n\u001b[1;32m----> 1\u001b[1;33m \u001b[0mkwd_only_arg\u001b[0m\u001b[1;33m(\u001b[0m\u001b[1;36m3\u001b[0m\u001b[1;33m)\u001b[0m\u001b[1;33m\u001b[0m\u001b[1;33m\u001b[0m\u001b[0m\n\u001b[0m",
      "\u001b[1;31mTypeError\u001b[0m: kwd_only_arg() takes 0 positional arguments but 1 was given"
     ]
    }
   ],
   "source": [
    "kwd_only_arg(3)"
   ]
  },
  {
   "cell_type": "code",
   "execution_count": 90,
   "id": "68b72cb5",
   "metadata": {},
   "outputs": [
    {
     "name": "stdout",
     "output_type": "stream",
     "text": [
      "1 2 3\n"
     ]
    }
   ],
   "source": [
    "combined_example(1,2,kwd_only=3)"
   ]
  },
  {
   "cell_type": "code",
   "execution_count": 91,
   "id": "722c716b",
   "metadata": {},
   "outputs": [
    {
     "ename": "TypeError",
     "evalue": "combined_example() takes 2 positional arguments but 3 were given",
     "output_type": "error",
     "traceback": [
      "\u001b[1;31m---------------------------------------------------------------------------\u001b[0m",
      "\u001b[1;31mTypeError\u001b[0m                                 Traceback (most recent call last)",
      "\u001b[1;32m<ipython-input-91-266135a592b0>\u001b[0m in \u001b[0;36m<module>\u001b[1;34m\u001b[0m\n\u001b[1;32m----> 1\u001b[1;33m \u001b[0mcombined_example\u001b[0m\u001b[1;33m(\u001b[0m\u001b[1;36m1\u001b[0m\u001b[1;33m,\u001b[0m\u001b[1;36m2\u001b[0m\u001b[1;33m,\u001b[0m\u001b[1;36m3\u001b[0m\u001b[1;33m)\u001b[0m\u001b[1;33m\u001b[0m\u001b[1;33m\u001b[0m\u001b[0m\n\u001b[0m",
      "\u001b[1;31mTypeError\u001b[0m: combined_example() takes 2 positional arguments but 3 were given"
     ]
    }
   ],
   "source": [
    "combined_example(1,2,3)"
   ]
  },
  {
   "cell_type": "code",
   "execution_count": null,
   "id": "b0ebd346",
   "metadata": {},
   "outputs": [],
   "source": []
  },
  {
   "cell_type": "code",
   "execution_count": null,
   "id": "15fa7249",
   "metadata": {},
   "outputs": [],
   "source": []
  },
  {
   "cell_type": "code",
   "execution_count": 93,
   "id": "a19edf9e",
   "metadata": {},
   "outputs": [],
   "source": [
    "def cv_fah(x):\n",
    "    y = ((9/5) * x)  + 32\n",
    "    return y "
   ]
  },
  {
   "cell_type": "markdown",
   "id": "0e0eae41",
   "metadata": {},
   "source": [
    "1. 화면에서 입력받아 화씨 출력\n",
    "2. 출력 예. 섭씨 25.0도는 화씨 77.00 입니다. "
   ]
  },
  {
   "cell_type": "code",
   "execution_count": 96,
   "id": "b30634c7",
   "metadata": {},
   "outputs": [
    {
     "name": "stdout",
     "output_type": "stream",
     "text": [
      "섭씨 온도는? 25\n",
      "섭씨 25.0는 화씨 77.00 입니다\n"
     ]
    }
   ],
   "source": [
    "x = float(input(\"섭씨 온도는? \"))\n",
    "y = cv_fah(x)\n",
    "print(\"섭씨 %s는 화씨 %.2f 입니다\"%(x,y))"
   ]
  },
  {
   "cell_type": "code",
   "execution_count": null,
   "id": "d0f80085",
   "metadata": {},
   "outputs": [],
   "source": []
  },
  {
   "cell_type": "code",
   "execution_count": 97,
   "id": "475e8c5e",
   "metadata": {},
   "outputs": [],
   "source": [
    "x = [25, 20, 32, 34, 19]"
   ]
  },
  {
   "cell_type": "code",
   "execution_count": 98,
   "id": "6e57c952",
   "metadata": {},
   "outputs": [
    {
     "name": "stdout",
     "output_type": "stream",
     "text": [
      "25\n",
      "20\n",
      "32\n",
      "34\n",
      "19\n"
     ]
    }
   ],
   "source": [
    "# 1. 처리할 데이터 확인\n",
    "for i in x:\n",
    "    print(i)"
   ]
  },
  {
   "cell_type": "code",
   "execution_count": 99,
   "id": "f68b2e04",
   "metadata": {},
   "outputs": [
    {
     "name": "stdout",
     "output_type": "stream",
     "text": [
      "섭씨 25는 화씨 77.00 입니다\n",
      "섭씨 20는 화씨 68.00 입니다\n",
      "섭씨 32는 화씨 89.60 입니다\n",
      "섭씨 34는 화씨 93.20 입니다\n",
      "섭씨 19는 화씨 66.20 입니다\n"
     ]
    }
   ],
   "source": [
    "# 2. 함수 적용하기 \n",
    "for i in x:\n",
    "    y = cv_fah(i)\n",
    "    print(\"섭씨 %s는 화씨 %.2f 입니다\"%(i,y))"
   ]
  },
  {
   "cell_type": "code",
   "execution_count": null,
   "id": "42704842",
   "metadata": {},
   "outputs": [],
   "source": []
  },
  {
   "cell_type": "markdown",
   "id": "49846b8f",
   "metadata": {},
   "source": [
    "## ( 실습.. 화씨 데이터 저장 )"
   ]
  },
  {
   "cell_type": "code",
   "execution_count": 100,
   "id": "652c6e3c",
   "metadata": {},
   "outputs": [
    {
     "name": "stdout",
     "output_type": "stream",
     "text": [
      "섭씨 25는 화씨 77.00 입니다\n",
      "y1 =  [77.0]\n",
      "섭씨 20는 화씨 68.00 입니다\n",
      "y1 =  [77.0, 68.0]\n",
      "섭씨 32는 화씨 89.60 입니다\n",
      "y1 =  [77.0, 68.0, 89.6]\n",
      "섭씨 34는 화씨 93.20 입니다\n",
      "y1 =  [77.0, 68.0, 89.6, 93.2]\n",
      "섭씨 19는 화씨 66.20 입니다\n",
      "y1 =  [77.0, 68.0, 89.6, 93.2, 66.2]\n"
     ]
    }
   ],
   "source": [
    "# 2. 함수 적용하기 \n",
    "y1 = []\n",
    "for i in x:\n",
    "    y = cv_fah(i)\n",
    "    y1.append(y)\n",
    "    print(\"섭씨 %s는 화씨 %.2f 입니다\"%(i,y))\n",
    "    print(\"y1 = \", y1)"
   ]
  },
  {
   "cell_type": "code",
   "execution_count": null,
   "id": "0445e901",
   "metadata": {},
   "outputs": [],
   "source": []
  },
  {
   "cell_type": "markdown",
   "id": "33f751dd",
   "metadata": {},
   "source": [
    "## ( 실습.. 섭씨 30도 이상인 화씨 데이터 저장 )"
   ]
  },
  {
   "cell_type": "code",
   "execution_count": 101,
   "id": "4ab6acd6",
   "metadata": {},
   "outputs": [
    {
     "name": "stdout",
     "output_type": "stream",
     "text": [
      "섭씨 32는 화씨 89.60 입니다\n",
      "y2 =  [89.6]\n",
      "섭씨 34는 화씨 93.20 입니다\n",
      "y2 =  [89.6, 93.2]\n"
     ]
    }
   ],
   "source": [
    "y2 = []\n",
    "for i in x:\n",
    "    if i > 30:\n",
    "        y = cv_fah(i)\n",
    "        y2.append(y)\n",
    "        print(\"섭씨 %s는 화씨 %.2f 입니다\"%(i,y))\n",
    "        print(\"y2 = \", y2)"
   ]
  },
  {
   "cell_type": "code",
   "execution_count": null,
   "id": "31a803b4",
   "metadata": {},
   "outputs": [],
   "source": []
  },
  {
   "cell_type": "markdown",
   "id": "44b6d891",
   "metadata": {},
   "source": [
    "### 리스트 컴프리핸션 방식 적용 "
   ]
  },
  {
   "cell_type": "code",
   "execution_count": 102,
   "id": "92ef9b1e",
   "metadata": {},
   "outputs": [
    {
     "data": {
      "text/plain": [
       "[77.0, 68.0, 89.6, 93.2, 66.2]"
      ]
     },
     "execution_count": 102,
     "metadata": {},
     "output_type": "execute_result"
    }
   ],
   "source": [
    "[ cv_fah(i) for i in x]"
   ]
  },
  {
   "cell_type": "code",
   "execution_count": null,
   "id": "549cdeda",
   "metadata": {},
   "outputs": [],
   "source": []
  }
 ],
 "metadata": {
  "kernelspec": {
   "display_name": "Python 3",
   "language": "python",
   "name": "python3"
  },
  "language_info": {
   "codemirror_mode": {
    "name": "ipython",
    "version": 3
   },
   "file_extension": ".py",
   "mimetype": "text/x-python",
   "name": "python",
   "nbconvert_exporter": "python",
   "pygments_lexer": "ipython3",
   "version": "3.8.8"
  }
 },
 "nbformat": 4,
 "nbformat_minor": 5
}
