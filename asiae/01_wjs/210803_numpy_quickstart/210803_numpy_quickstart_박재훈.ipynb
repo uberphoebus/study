{
 "cells": [
  {
   "cell_type": "markdown",
   "id": "2a9f0426",
   "metadata": {},
   "source": [
    "# the basics"
   ]
  },
  {
   "cell_type": "code",
   "execution_count": 1,
   "id": "fd96c7a3",
   "metadata": {},
   "outputs": [],
   "source": [
    "import pandas as pd\n",
    "import numpy as np\n",
    "import matplotlib.pyplot as plt\n",
    "import seaborn as sns"
   ]
  },
  {
   "cell_type": "code",
   "execution_count": 2,
   "id": "06d136b5",
   "metadata": {},
   "outputs": [
    {
     "data": {
      "text/plain": [
       "[[1, 0, 0], [0, 1, 2]]"
      ]
     },
     "execution_count": 2,
     "metadata": {},
     "output_type": "execute_result"
    }
   ],
   "source": [
    "# 첫번째 축 2개, 두번째 축 3개\n",
    "[[1, 0, 0],\n",
    " [0, 1, 2]]"
   ]
  },
  {
   "cell_type": "code",
   "execution_count": 3,
   "id": "31278839",
   "metadata": {},
   "outputs": [],
   "source": [
    "# ndarry.func\n",
    "# .dim, .shape, .size, .dtype, .itemsize, .data"
   ]
  },
  {
   "cell_type": "markdown",
   "id": "58cd3126",
   "metadata": {},
   "source": [
    "## an example"
   ]
  },
  {
   "cell_type": "code",
   "execution_count": 4,
   "id": "94835531",
   "metadata": {},
   "outputs": [
    {
     "name": "stdout",
     "output_type": "stream",
     "text": [
      "[[ 0  1  2  3  4]\n",
      " [ 5  6  7  8  9]\n",
      " [10 11 12 13 14]]\n",
      "(3, 5)\n",
      "2\n",
      "int32\n",
      "4\n",
      "<class 'numpy.ndarray'>\n"
     ]
    }
   ],
   "source": [
    "a = np.arange(15).reshape(3, 5)\n",
    "print(a)\n",
    "\n",
    "print(a.shape)\n",
    "print(a.ndim)\n",
    "print(a.dtype)\n",
    "print(a.itemsize)\n",
    "print(type(a))"
   ]
  },
  {
   "cell_type": "markdown",
   "id": "8c3ac1e3",
   "metadata": {},
   "source": [
    "## array creation"
   ]
  },
  {
   "cell_type": "code",
   "execution_count": 5,
   "id": "e4b37aba",
   "metadata": {},
   "outputs": [
    {
     "name": "stdout",
     "output_type": "stream",
     "text": [
      "[2 3 4]\n",
      "[1.2 3.5 5.1]\n"
     ]
    }
   ],
   "source": [
    "a = np.array([2, 3, 4])\n",
    "b = np.array([1.2, 3.5, 5.1])\n",
    "print(a); print(b)\n",
    "# np.array([]); 소괄호 안 대괄호 주의"
   ]
  },
  {
   "cell_type": "code",
   "execution_count": 6,
   "id": "de6bf9f9",
   "metadata": {},
   "outputs": [
    {
     "data": {
      "text/plain": [
       "array([[1.5, 2. , 3. ],\n",
       "       [4. , 5. , 6. ]])"
      ]
     },
     "execution_count": 6,
     "metadata": {},
     "output_type": "execute_result"
    }
   ],
   "source": [
    "b = np.array([(1.5, 2, 3), (4, 5, 6)]); b"
   ]
  },
  {
   "cell_type": "code",
   "execution_count": 7,
   "id": "bae02b3f",
   "metadata": {},
   "outputs": [
    {
     "name": "stdout",
     "output_type": "stream",
     "text": [
      "[[0. 0. 0. 0.]\n",
      " [0. 0. 0. 0.]\n",
      " [0. 0. 0. 0.]]\n",
      "[[[1 1 1 1]\n",
      "  [1 1 1 1]\n",
      "  [1 1 1 1]]\n",
      "\n",
      " [[1 1 1 1]\n",
      "  [1 1 1 1]\n",
      "  [1 1 1 1]]]\n",
      "[[1.39069238e-309 1.39069238e-309 1.39069238e-309]\n",
      " [1.39069238e-309 1.39069238e-309 1.39069238e-309]]\n"
     ]
    }
   ],
   "source": [
    "# np.zeros, ones, empty\n",
    "print(np.zeros((3, 4)))\n",
    "print(np.ones((2, 3, 4), dtype=np.int16))\n",
    "print(np.empty((2, 3)))"
   ]
  },
  {
   "cell_type": "code",
   "execution_count": 8,
   "id": "2cfcb4e4",
   "metadata": {},
   "outputs": [
    {
     "name": "stdout",
     "output_type": "stream",
     "text": [
      "[10 15 20 25]\n",
      "[0.  0.3 0.6 0.9 1.2 1.5 1.8]\n"
     ]
    }
   ],
   "source": [
    "# np.arrange()\n",
    "print(np.arange(10, 30, 5)) # start, end, bet\n",
    "print(np.arange(0, 2, 0.3))"
   ]
  },
  {
   "cell_type": "code",
   "execution_count": 9,
   "id": "68261a9a",
   "metadata": {},
   "outputs": [
    {
     "name": "stdout",
     "output_type": "stream",
     "text": [
      "[0.   0.25 0.5  0.75 1.   1.25 1.5  1.75 2.  ]\n",
      "[ 0.00000000e+00  6.34239197e-02  1.26592454e-01  1.89251244e-01\n",
      "  2.51147987e-01  3.12033446e-01  3.71662456e-01  4.29794912e-01\n",
      "  4.86196736e-01  5.40640817e-01  5.92907929e-01  6.42787610e-01\n",
      "  6.90079011e-01  7.34591709e-01  7.76146464e-01  8.14575952e-01\n",
      "  8.49725430e-01  8.81453363e-01  9.09631995e-01  9.34147860e-01\n",
      "  9.54902241e-01  9.71811568e-01  9.84807753e-01  9.93838464e-01\n",
      "  9.98867339e-01  9.99874128e-01  9.96854776e-01  9.89821442e-01\n",
      "  9.78802446e-01  9.63842159e-01  9.45000819e-01  9.22354294e-01\n",
      "  8.95993774e-01  8.66025404e-01  8.32569855e-01  7.95761841e-01\n",
      "  7.55749574e-01  7.12694171e-01  6.66769001e-01  6.18158986e-01\n",
      "  5.67059864e-01  5.13677392e-01  4.58226522e-01  4.00930535e-01\n",
      "  3.42020143e-01  2.81732557e-01  2.20310533e-01  1.58001396e-01\n",
      "  9.50560433e-02  3.17279335e-02 -3.17279335e-02 -9.50560433e-02\n",
      " -1.58001396e-01 -2.20310533e-01 -2.81732557e-01 -3.42020143e-01\n",
      " -4.00930535e-01 -4.58226522e-01 -5.13677392e-01 -5.67059864e-01\n",
      " -6.18158986e-01 -6.66769001e-01 -7.12694171e-01 -7.55749574e-01\n",
      " -7.95761841e-01 -8.32569855e-01 -8.66025404e-01 -8.95993774e-01\n",
      " -9.22354294e-01 -9.45000819e-01 -9.63842159e-01 -9.78802446e-01\n",
      " -9.89821442e-01 -9.96854776e-01 -9.99874128e-01 -9.98867339e-01\n",
      " -9.93838464e-01 -9.84807753e-01 -9.71811568e-01 -9.54902241e-01\n",
      " -9.34147860e-01 -9.09631995e-01 -8.81453363e-01 -8.49725430e-01\n",
      " -8.14575952e-01 -7.76146464e-01 -7.34591709e-01 -6.90079011e-01\n",
      " -6.42787610e-01 -5.92907929e-01 -5.40640817e-01 -4.86196736e-01\n",
      " -4.29794912e-01 -3.71662456e-01 -3.12033446e-01 -2.51147987e-01\n",
      " -1.89251244e-01 -1.26592454e-01 -6.34239197e-02 -2.44929360e-16]\n"
     ]
    }
   ],
   "source": [
    "# np.linspace()\n",
    "from numpy import pi\n",
    "print(np.linspace(0, 2, 9)) # start, end, count\n",
    "x = np.linspace(0, 2 * pi, 100)\n",
    "print(np.sin(x))"
   ]
  },
  {
   "cell_type": "markdown",
   "id": "3c6866a0",
   "metadata": {},
   "source": [
    "## printing arrays"
   ]
  },
  {
   "cell_type": "code",
   "execution_count": 10,
   "id": "d8d173c5",
   "metadata": {},
   "outputs": [
    {
     "name": "stdout",
     "output_type": "stream",
     "text": [
      "[0 1 2 3 4 5]\n",
      "[[ 0  1  2]\n",
      " [ 3  4  5]\n",
      " [ 6  7  8]\n",
      " [ 9 10 11]]\n",
      "[[[ 0  1  2  3]\n",
      "  [ 4  5  6  7]\n",
      "  [ 8  9 10 11]]\n",
      "\n",
      " [[12 13 14 15]\n",
      "  [16 17 18 19]\n",
      "  [20 21 22 23]]]\n"
     ]
    }
   ],
   "source": [
    "a = np.arange(6); print(a) # 1d\n",
    "b = np.arange(12).reshape(4, 3); print(b) # 2d\n",
    "c = np.arange(24).reshape(2, 3, 4); print(c) # 3d"
   ]
  },
  {
   "cell_type": "markdown",
   "id": "3aca608f",
   "metadata": {},
   "source": [
    "## basic operations"
   ]
  },
  {
   "cell_type": "code",
   "execution_count": 11,
   "id": "d7ae7bef",
   "metadata": {},
   "outputs": [
    {
     "name": "stdout",
     "output_type": "stream",
     "text": [
      "[0 1 2 3]\n",
      "[20 29 38 47]\n",
      "[0 1 4 9]\n",
      "[ True  True False False]\n"
     ]
    }
   ],
   "source": [
    "a = np.array([20, 30, 40, 50])\n",
    "b = np.arange(4); print(b)\n",
    "\n",
    "c = a - b; print(c)\n",
    "\n",
    "print(b**2)\n",
    "\n",
    "print(a < 35)"
   ]
  },
  {
   "cell_type": "code",
   "execution_count": 12,
   "id": "25378a96",
   "metadata": {},
   "outputs": [
    {
     "name": "stdout",
     "output_type": "stream",
     "text": [
      "[[2 0]\n",
      " [0 4]]\n",
      "[[5 4]\n",
      " [3 4]]\n",
      "[[5 4]\n",
      " [3 4]]\n"
     ]
    }
   ],
   "source": [
    "A = np.array([[1, 1],\n",
    "              [0, 1]])\n",
    "B = np.array([[2, 0],\n",
    "              [3, 4]])\n",
    "print(A * B) # elementwise\n",
    "print(A @ B) # matrix\n",
    "print(A.dot(B))"
   ]
  },
  {
   "cell_type": "code",
   "execution_count": 13,
   "id": "eb2a77b1",
   "metadata": {},
   "outputs": [
    {
     "name": "stdout",
     "output_type": "stream",
     "text": [
      "[[3 3 3]\n",
      " [3 3 3]]\n",
      "[[3.51182162 3.9504637  3.14415961]\n",
      " [3.94864945 3.31183145 3.42332645]]\n"
     ]
    }
   ],
   "source": [
    "rg = np.random.default_rng(1) # 난수\n",
    "a = np.ones((2, 3), dtype=int)\n",
    "b = rg.random((2, 3))\n",
    "a *= 3; print(a)\n",
    "\n",
    "b += a; print(b)"
   ]
  },
  {
   "cell_type": "code",
   "execution_count": 14,
   "id": "9ac9be61",
   "metadata": {},
   "outputs": [
    {
     "name": "stdout",
     "output_type": "stream",
     "text": [
      "float64\n",
      "[1.         2.57079633 4.14159265]\n",
      "float64\n",
      "[ 0.54030231+0.84147098j -0.84147098+0.54030231j -0.54030231-0.84147098j]\n",
      "complex128\n"
     ]
    }
   ],
   "source": [
    "a = np.ones(3, dtype=np.int32)\n",
    "b = np.linspace(0, pi, 3)\n",
    "print(b.dtype.name)\n",
    "\n",
    "c = a + b; print(c); print(c.dtype.name)\n",
    "\n",
    "d = np.exp(c * 1j); print(d); print(d.dtype.name)"
   ]
  },
  {
   "cell_type": "code",
   "execution_count": 15,
   "id": "39ec9af0",
   "metadata": {},
   "outputs": [
    {
     "name": "stdout",
     "output_type": "stream",
     "text": [
      "[[0.82770259 0.40919914 0.54959369]\n",
      " [0.02755911 0.75351311 0.53814331]]\n",
      "3.1057109529998157\n",
      "0.027559113243068367\n",
      "0.8277025938204418\n"
     ]
    }
   ],
   "source": [
    "a = rg.random((2, 3)); print(a)\n",
    "\n",
    "print(a.sum()); print(a.min()); print(a.max())"
   ]
  },
  {
   "cell_type": "code",
   "execution_count": 16,
   "id": "c2bc82fc",
   "metadata": {},
   "outputs": [
    {
     "name": "stdout",
     "output_type": "stream",
     "text": [
      "[[ 0  1  2  3]\n",
      " [ 4  5  6  7]\n",
      " [ 8  9 10 11]]\n",
      "[12 15 18 21]\n",
      "[0 4 8]\n",
      "[[ 0  1  3  6]\n",
      " [ 4  9 15 22]\n",
      " [ 8 17 27 38]]\n"
     ]
    }
   ],
   "source": [
    "# axis=0 컬럼, 1 로우\n",
    "b = np.arange(12).reshape(3, 4); print(b)\n",
    "\n",
    "print(b.sum(axis=0)) # 컬럼별 합계\n",
    "print(b.min(axis=1)) # 로우별 최솟값\n",
    "print(b.cumsum(axis=1)) # 로우별 누적합"
   ]
  },
  {
   "cell_type": "markdown",
   "id": "1bff2404",
   "metadata": {},
   "source": [
    "## indexing, slicing and iterating"
   ]
  },
  {
   "cell_type": "code",
   "execution_count": 17,
   "id": "d892d01b",
   "metadata": {},
   "outputs": [
    {
     "name": "stdout",
     "output_type": "stream",
     "text": [
      "[  0   1   8  27  64 125 216 343 512 729]\n",
      "8 [ 8 27 64]\n",
      "[1000    1 1000   27 1000  125  216  343  512  729]\n",
      "[ 729  512  343  216  125 1000   27 1000    1 1000]\n",
      "9.999999999999998\n",
      "1.0\n",
      "9.999999999999998\n",
      "3.0\n",
      "9.999999999999998\n",
      "5.0\n",
      "5.999999999999999\n",
      "6.999999999999999\n",
      "7.999999999999999\n",
      "8.999999999999998\n"
     ]
    }
   ],
   "source": [
    "# 1d; indexed, sliced, iterated\n",
    "a = np.arange(10)**3; print(a)\n",
    "\n",
    "print(a[2], a[2:5])\n",
    "\n",
    "a[:6:2] = 1000; print(a) # 시작부터 6까지 2 간격\n",
    "\n",
    "print(a[::-1])\n",
    "\n",
    "for i in a:\n",
    "    print(i**(1 / 3.))"
   ]
  },
  {
   "cell_type": "code",
   "execution_count": 18,
   "id": "365b9dae",
   "metadata": {},
   "outputs": [
    {
     "name": "stdout",
     "output_type": "stream",
     "text": [
      "[[ 0  1  2  3]\n",
      " [10 11 12 13]\n",
      " [20 21 22 23]\n",
      " [30 31 32 33]\n",
      " [40 41 42 43]]\n",
      "23 [ 1 11 21 31 41] [ 1 11 21 31 41] [[10 11 12 13]\n",
      " [20 21 22 23]]\n",
      "[40 41 42 43] [40 41 42 43]\n"
     ]
    }
   ],
   "source": [
    "# multi-d\n",
    "def f(x, y):\n",
    "    return 10 * x + y\n",
    "\n",
    "b = np.fromfunction(f, (5, 4), dtype=int); print(b)\n",
    "\n",
    "print(b[2, 3], b[0:5, 1], b[:, 1], b[1:3, :])\n",
    "\n",
    "print(b[-1], b[-1, :]) # 축 개수보다 적게 입력되면 남은 부분은 전체로 인식"
   ]
  },
  {
   "cell_type": "code",
   "execution_count": 19,
   "id": "1c21a4ff",
   "metadata": {},
   "outputs": [
    {
     "name": "stdout",
     "output_type": "stream",
     "text": [
      "(2, 2, 3)\n",
      "[[100 101 102]\n",
      " [110 112 113]] [[100 101 102]\n",
      " [110 112 113]] [[100 101 102]\n",
      " [110 112 113]]\n",
      "[[  2  13]\n",
      " [102 113]] [[  2  13]\n",
      " [102 113]]\n"
     ]
    }
   ],
   "source": [
    "# ... == , :, :, :]\n",
    "c = np.array([[[0, 1, 2],\n",
    "               [10, 12, 13]],\n",
    "              [[100, 101, 102],\n",
    "               [110, 112, 113]]]); print(c.shape)\n",
    "\n",
    "print(c[1, ...], c[1, :, :], c[1])\n",
    "print(c[..., 2], c[:, :, 2])"
   ]
  },
  {
   "cell_type": "code",
   "execution_count": 20,
   "id": "45dd911b",
   "metadata": {},
   "outputs": [
    {
     "name": "stdout",
     "output_type": "stream",
     "text": [
      "[0 1 2 3]\n",
      "[10 11 12 13]\n",
      "[20 21 22 23]\n",
      "[30 31 32 33]\n",
      "[40 41 42 43]\n"
     ]
    }
   ],
   "source": [
    "# itertating; 첫번째 축 기준\n",
    "for row in b:\n",
    "    print(row)"
   ]
  },
  {
   "cell_type": "code",
   "execution_count": 21,
   "id": "7429dc34",
   "metadata": {},
   "outputs": [
    {
     "name": "stdout",
     "output_type": "stream",
     "text": [
      "0\n",
      "1\n",
      "2\n",
      "3\n",
      "10\n",
      "11\n",
      "12\n",
      "13\n",
      "20\n",
      "21\n",
      "22\n",
      "23\n",
      "30\n",
      "31\n",
      "32\n",
      "33\n",
      "40\n",
      "41\n",
      "42\n",
      "43\n"
     ]
    }
   ],
   "source": [
    "# flat\n",
    "for i in b.flat:\n",
    "    print(i)"
   ]
  },
  {
   "cell_type": "markdown",
   "id": "d4293171",
   "metadata": {},
   "source": [
    "# shape manipulation"
   ]
  },
  {
   "cell_type": "markdown",
   "id": "c43b0238",
   "metadata": {},
   "source": [
    "## changing the shape of an array"
   ]
  },
  {
   "cell_type": "code",
   "execution_count": 22,
   "id": "a0646535",
   "metadata": {},
   "outputs": [
    {
     "name": "stdout",
     "output_type": "stream",
     "text": [
      "[[3. 7. 3. 4.]\n",
      " [1. 4. 2. 2.]\n",
      " [7. 2. 4. 9.]]\n",
      "(3, 4)\n"
     ]
    }
   ],
   "source": [
    "a = np.floor(10 * rg.random((3, 4))); print(a); print(a.shape)"
   ]
  },
  {
   "cell_type": "code",
   "execution_count": 23,
   "id": "0f4c6df1",
   "metadata": {},
   "outputs": [
    {
     "name": "stdout",
     "output_type": "stream",
     "text": [
      "[3. 7. 3. 4. 1. 4. 2. 2. 7. 2. 4. 9.]\n",
      "[[3. 7.]\n",
      " [3. 4.]\n",
      " [1. 4.]\n",
      " [2. 2.]\n",
      " [7. 2.]\n",
      " [4. 9.]]\n",
      "[[3. 1. 7.]\n",
      " [7. 4. 2.]\n",
      " [3. 2. 4.]\n",
      " [4. 2. 9.]]\n",
      "(4, 3) (3, 4)\n"
     ]
    }
   ],
   "source": [
    "# 형태 수정, 원본 보존\n",
    "print(a.ravel()) # return flattened\n",
    "print(a.reshape(6, 2))\n",
    "print(a.T) # 축 전환\n",
    "print(a.T.shape, a.shape)"
   ]
  },
  {
   "cell_type": "code",
   "execution_count": 24,
   "id": "d9210149",
   "metadata": {},
   "outputs": [
    {
     "name": "stdout",
     "output_type": "stream",
     "text": [
      "[[3. 7. 3. 4.]\n",
      " [1. 4. 2. 2.]\n",
      " [7. 2. 4. 9.]]\n",
      "[[3. 7. 3. 4. 1. 4.]\n",
      " [2. 2. 7. 2. 4. 9.]]\n"
     ]
    }
   ],
   "source": [
    "# na.resize; 원본 수정\n",
    "print(a)\n",
    "a.resize((2, 6)); print(a)"
   ]
  },
  {
   "cell_type": "markdown",
   "id": "a5f183c1",
   "metadata": {},
   "source": [
    "## stacking together diff arrays"
   ]
  },
  {
   "cell_type": "code",
   "execution_count": 25,
   "id": "22ebebb0",
   "metadata": {},
   "outputs": [
    {
     "name": "stdout",
     "output_type": "stream",
     "text": [
      "[[9. 7.]\n",
      " [5. 2.]]\n",
      "[[1. 9.]\n",
      " [5. 1.]]\n",
      "[[9. 7.]\n",
      " [5. 2.]\n",
      " [1. 9.]\n",
      " [5. 1.]]\n"
     ]
    },
    {
     "data": {
      "text/plain": [
       "array([[9., 7., 1., 9.],\n",
       "       [5., 2., 5., 1.]])"
      ]
     },
     "execution_count": 25,
     "metadata": {},
     "output_type": "execute_result"
    }
   ],
   "source": [
    "# 다른 축\n",
    "a = np.floor(10 * rg.random((2, 2))); print(a)\n",
    "b = np.floor(10 * rg.random((2, 2))); print(b)\n",
    "\n",
    "print(np.vstack((a, b))) # 세로 병합\n",
    "\n",
    "np.hstack((a, b)) # 가로 병합"
   ]
  },
  {
   "cell_type": "code",
   "execution_count": 26,
   "id": "a9ea10b7",
   "metadata": {},
   "outputs": [
    {
     "name": "stdout",
     "output_type": "stream",
     "text": [
      "[[9. 7. 1. 9.]\n",
      " [5. 2. 5. 1.]]\n",
      "[[4. 3.]\n",
      " [2. 8.]]\n",
      "[4. 2. 3. 8.]\n",
      "[[4.]\n",
      " [2.]]\n",
      "[[4. 3.]\n",
      " [2. 8.]]\n",
      "[[4. 3.]\n",
      " [2. 8.]]\n"
     ]
    }
   ],
   "source": [
    "# column_staack; 1d를 2d로\n",
    "from numpy import newaxis\n",
    "print(np.column_stack((a, b))) # 2d\n",
    "\n",
    "a = np.array([4., 2.])\n",
    "b = np.array([3., 8.])\n",
    "print(np.column_stack((a, b))) # 2d 반환\n",
    "print(np.hstack((a, b))) # 결과 다름\n",
    "\n",
    "print(a[:, newaxis]) # a를 2d 컬럼의 벡터로\n",
    "print(np.column_stack((a[:, newaxis], b[:, newaxis])))\n",
    "print(np.hstack((a[:, newaxis], b[:, newaxis]))) # 같은 결과 확인"
   ]
  },
  {
   "cell_type": "code",
   "execution_count": 27,
   "id": "a05347a7",
   "metadata": {},
   "outputs": [
    {
     "data": {
      "text/plain": [
       "True"
      ]
     },
     "execution_count": 27,
     "metadata": {},
     "output_type": "execute_result"
    }
   ],
   "source": [
    "# row_stack, vstack\n",
    "np.row_stack is np.vstack"
   ]
  },
  {
   "cell_type": "code",
   "execution_count": 28,
   "id": "56472544",
   "metadata": {},
   "outputs": [
    {
     "data": {
      "text/plain": [
       "array([1, 2, 3, 0, 4])"
      ]
     },
     "execution_count": 28,
     "metadata": {},
     "output_type": "execute_result"
    }
   ],
   "source": [
    "# r_, c_; 한 축\n",
    "np.r_[1:4, 0, 4]"
   ]
  },
  {
   "cell_type": "markdown",
   "id": "aa6ec23f",
   "metadata": {},
   "source": [
    "## splitting one array into several"
   ]
  },
  {
   "cell_type": "code",
   "execution_count": 29,
   "id": "4d376b9e",
   "metadata": {},
   "outputs": [
    {
     "name": "stdout",
     "output_type": "stream",
     "text": [
      "[[6. 7. 6. 9. 0. 5. 4. 0. 6. 8. 5. 2.]\n",
      " [8. 5. 5. 7. 1. 8. 6. 7. 1. 8. 1. 0.]]\n",
      "[array([[6., 7., 6., 9.],\n",
      "       [8., 5., 5., 7.]]), array([[0., 5., 4., 0.],\n",
      "       [1., 8., 6., 7.]]), array([[6., 8., 5., 2.],\n",
      "       [1., 8., 1., 0.]])]\n",
      "[array([[6., 7., 6.],\n",
      "       [8., 5., 5.]]), array([[9.],\n",
      "       [7.]]), array([[0., 5., 4., 0., 6., 8., 5., 2.],\n",
      "       [1., 8., 6., 7., 1., 8., 1., 0.]])]\n"
     ]
    }
   ],
   "source": [
    "# hsplit, vsplit, array_split\n",
    "a = np.floor(10 * rg.random((2, 12))); print(a)\n",
    "\n",
    "print(np.hsplit(a, 3)) # 3개로 분리\n",
    "print(np.hsplit(a, (3, 4))) # 3, 4번째 컬럼 기준 분리"
   ]
  },
  {
   "cell_type": "markdown",
   "id": "b0423e03",
   "metadata": {},
   "source": [
    "# copies and views"
   ]
  },
  {
   "cell_type": "markdown",
   "id": "8cecf349",
   "metadata": {},
   "source": [
    "## no copy at all"
   ]
  },
  {
   "cell_type": "code",
   "execution_count": 30,
   "id": "5949e686",
   "metadata": {},
   "outputs": [
    {
     "data": {
      "text/plain": [
       "True"
      ]
     },
     "execution_count": 30,
     "metadata": {},
     "output_type": "execute_result"
    }
   ],
   "source": [
    "a = np.array([[0, 1, 2, 3],\n",
    "              [4, 5, 6, 7],\n",
    "              [8, 9, 10, 11]])\n",
    "b = a\n",
    "b is a"
   ]
  },
  {
   "cell_type": "code",
   "execution_count": 31,
   "id": "f5a36d97",
   "metadata": {},
   "outputs": [
    {
     "name": "stdout",
     "output_type": "stream",
     "text": [
      "2474486498672\n",
      "2474486498672\n",
      "None\n"
     ]
    }
   ],
   "source": [
    "def f(x):\n",
    "    print(id(x))\n",
    "\n",
    "print(id(a)); print(f(a))"
   ]
  },
  {
   "cell_type": "markdown",
   "id": "f3aa3334",
   "metadata": {},
   "source": [
    "## view of shallow copy"
   ]
  },
  {
   "cell_type": "code",
   "execution_count": 32,
   "id": "da0d8639",
   "metadata": {},
   "outputs": [
    {
     "name": "stdout",
     "output_type": "stream",
     "text": [
      "False\n",
      "True\n",
      "False\n",
      "(3, 4)\n"
     ]
    },
    {
     "data": {
      "text/plain": [
       "array([[   0,    1,    2,    3],\n",
       "       [1234,    5,    6,    7],\n",
       "       [   8,    9,   10,   11]])"
      ]
     },
     "execution_count": 32,
     "metadata": {},
     "output_type": "execute_result"
    }
   ],
   "source": [
    "#  .view()\n",
    "c = a.view(); print(c is a)\n",
    "\n",
    "print(c.base is a) # a로부터\n",
    "print(c.flags.owndata)\n",
    "\n",
    "c = c.reshape((2, 6)); print(a.shape) # a형태 불변\n",
    "\n",
    "c[0, 4] = 1234; a # a 데이터 변경"
   ]
  },
  {
   "cell_type": "code",
   "execution_count": 33,
   "id": "2fa75fe8",
   "metadata": {},
   "outputs": [
    {
     "data": {
      "text/plain": [
       "array([[   0,   10,   10,    3],\n",
       "       [1234,   10,   10,    7],\n",
       "       [   8,   10,   10,   11]])"
      ]
     },
     "execution_count": 33,
     "metadata": {},
     "output_type": "execute_result"
    }
   ],
   "source": [
    "s = a[:, 1:3]\n",
    "s[:] = 10; a"
   ]
  },
  {
   "cell_type": "markdown",
   "id": "93fc9704",
   "metadata": {},
   "source": [
    "## deep copy"
   ]
  },
  {
   "cell_type": "code",
   "execution_count": 34,
   "id": "f37292f1",
   "metadata": {},
   "outputs": [
    {
     "name": "stdout",
     "output_type": "stream",
     "text": [
      "False\n",
      "False\n"
     ]
    },
    {
     "data": {
      "text/plain": [
       "array([[   0,   10,   10,    3],\n",
       "       [1234,   10,   10,    7],\n",
       "       [   8,   10,   10,   11]])"
      ]
     },
     "execution_count": 34,
     "metadata": {},
     "output_type": "execute_result"
    }
   ],
   "source": [
    "d = a.copy(); print(d is a); print(d.base is a)\n",
    "\n",
    "d[0, 0] = 9999; a # 영향받지 않음"
   ]
  },
  {
   "cell_type": "code",
   "execution_count": 35,
   "id": "d04c4a79",
   "metadata": {},
   "outputs": [
    {
     "name": "stdout",
     "output_type": "stream",
     "text": [
      "[ 0  1  2  3  4  5  6  7  8  9 10 11 12 13 14 15 16 17 18 19 20 21 22 23\n",
      " 24 25 26 27 28 29 30 31 32 33 34 35 36 37 38 39 40 41 42 43 44 45 46 47\n",
      " 48 49 50 51 52 53 54 55 56 57 58 59 60 61 62 63 64 65 66 67 68 69 70 71\n",
      " 72 73 74 75 76 77 78 79 80 81 82 83 84 85 86 87 88 89 90 91 92 93 94 95\n",
      " 96 97 98 99]\n"
     ]
    }
   ],
   "source": [
    "a = np.arange(int(1e8))\n",
    "b = a[:100].copy()\n",
    "del a; print(b) # b 데이터 유지"
   ]
  },
  {
   "cell_type": "markdown",
   "id": "40d44805",
   "metadata": {},
   "source": [
    "## functions and methods overview\n",
    "array creation; arange, array, copy, empty, linspace, ones, zeros\n",
    "\n",
    "manipulations; array_split, column_stack, cocatenate, dsplit, dstack, hsplit, hstack, newaxis, ravel, reshape, resize, vsplit, vstack\n",
    "\n",
    "odering; max, min, sort\n",
    "\n",
    "opertations; choose, cumsum, sum\n",
    "\n",
    "statistics; cov, mean, std, var"
   ]
  },
  {
   "cell_type": "markdown",
   "id": "0607f9cb",
   "metadata": {},
   "source": [
    "# less basic"
   ]
  },
  {
   "cell_type": "markdown",
   "id": "1066870a",
   "metadata": {},
   "source": [
    "## broadcasting rules"
   ]
  },
  {
   "cell_type": "markdown",
   "id": "bbed1e2d",
   "metadata": {},
   "source": [
    "# advancded indexing and index tricks"
   ]
  },
  {
   "cell_type": "markdown",
   "id": "5846ab89",
   "metadata": {},
   "source": [
    "## indexing with arrays of indices"
   ]
  },
  {
   "cell_type": "code",
   "execution_count": 36,
   "id": "70908070",
   "metadata": {},
   "outputs": [
    {
     "name": "stdout",
     "output_type": "stream",
     "text": [
      "[ 1  1  9 64 25]\n",
      "[[ 9 16]\n",
      " [81 49]]\n"
     ]
    }
   ],
   "source": [
    "a = np.arange(12)**2\n",
    "i = np.array([1, 1, 3, 8, 5])\n",
    "print(a[i])\n",
    "\n",
    "j = np.array([[3, 4], [9, 7]])\n",
    "print(a[j])"
   ]
  },
  {
   "cell_type": "code",
   "execution_count": 37,
   "id": "ca547edd",
   "metadata": {},
   "outputs": [
    {
     "data": {
      "text/plain": [
       "array([[[  0,   0,   0],\n",
       "        [255,   0,   0],\n",
       "        [  0, 255,   0],\n",
       "        [  0,   0,   0]],\n",
       "\n",
       "       [[  0,   0,   0],\n",
       "        [  0,   0, 255],\n",
       "        [255, 255, 255],\n",
       "        [  0,   0,   0]]])"
      ]
     },
     "execution_count": 37,
     "metadata": {},
     "output_type": "execute_result"
    }
   ],
   "source": [
    "# mult-d\n",
    "palette = np.array([[0, 0, 0], # black\n",
    "                    [255, 0, 0], # red\n",
    "                    [0, 255, 0], # green\n",
    "                    [0, 0, 255], # blue\n",
    "                    [255, 255, 255]]) # white\n",
    "image = np.array([[0, 1, 2, 0], # 팔레트의 대응\n",
    "                  [0, 3, 4, 0]])\n",
    "\n",
    "palette[image] # (2, 4, 3) color image"
   ]
  },
  {
   "cell_type": "code",
   "execution_count": 38,
   "id": "61b6a2e4",
   "metadata": {},
   "outputs": [
    {
     "name": "stdout",
     "output_type": "stream",
     "text": [
      "[[ 0  1  2  3]\n",
      " [ 4  5  6  7]\n",
      " [ 8  9 10 11]]\n",
      "[[ 2  5]\n",
      " [ 7 11]]\n",
      "[[ 2  6]\n",
      " [ 6 10]]\n",
      "[[[ 2  1]\n",
      "  [ 3  3]]\n",
      "\n",
      " [[ 6  5]\n",
      "  [ 7  7]]\n",
      "\n",
      " [[10  9]\n",
      "  [11 11]]]\n"
     ]
    }
   ],
   "source": [
    "# mult-d\n",
    "a = np.arange(12).reshape(3, 4); print(a)\n",
    "i = np.array([[0, 1], # 1st a dim\n",
    "              [1, 2]])\n",
    "j = np.array([[2, 1], # 2nd dim\n",
    "              [3, 3]]) \n",
    "\n",
    "print(a[i, j]) # i와 j는 같은 형태여야 함\n",
    "print(a[i, 2])\n",
    "print(a[:, j])"
   ]
  },
  {
   "cell_type": "code",
   "execution_count": 39,
   "id": "7138f8e6",
   "metadata": {},
   "outputs": [
    {
     "data": {
      "text/plain": [
       "array([[ 2,  5],\n",
       "       [ 7, 11]])"
      ]
     },
     "execution_count": 39,
     "metadata": {},
     "output_type": "execute_result"
    }
   ],
   "source": [
    "# tuple\n",
    "l = (i, j) # == a[i, j]\n",
    "a[l]"
   ]
  },
  {
   "cell_type": "code",
   "execution_count": 40,
   "id": "2c841f27",
   "metadata": {},
   "outputs": [
    {
     "data": {
      "text/plain": [
       "array([[ 2,  5],\n",
       "       [ 7, 11]])"
      ]
     },
     "execution_count": 40,
     "metadata": {},
     "output_type": "execute_result"
    }
   ],
   "source": [
    "s = np.array([i, j])\n",
    "a[tuple(s)]"
   ]
  },
  {
   "cell_type": "code",
   "execution_count": 41,
   "id": "2cf051bb",
   "metadata": {},
   "outputs": [
    {
     "name": "stdout",
     "output_type": "stream",
     "text": [
      "[ 20.  51.  82. 113. 144.]\n",
      "[[ 0.          0.84147098  0.90929743  0.14112001]\n",
      " [-0.7568025  -0.95892427 -0.2794155   0.6569866 ]\n",
      " [ 0.98935825  0.41211849 -0.54402111 -0.99999021]\n",
      " [-0.53657292  0.42016704  0.99060736  0.65028784]\n",
      " [-0.28790332 -0.96139749 -0.75098725  0.14987721]]\n",
      "[2 0 3 1]\n",
      "[ 82.  20. 113.  51.]\n",
      "[0.98935825 0.84147098 0.99060736 0.6569866 ]\n"
     ]
    },
    {
     "data": {
      "text/plain": [
       "True"
      ]
     },
     "execution_count": 41,
     "metadata": {},
     "output_type": "execute_result"
    }
   ],
   "source": [
    "# time-depen srs ??\n",
    "time = np.linspace(20, 144, 5)\n",
    "data = np.sin(np.arange(20)).reshape(5, 4)\n",
    "print(time), print(data)\n",
    "\n",
    "ind = data.argmax(axis=0); print(ind)\n",
    "\n",
    "time_max = time[ind]\n",
    "data_max = data[ind, range(data.shape[1])] # data[ind[0], 0], data[ind[1], 1], ...\n",
    "\n",
    "print(time_max); print(data_max)\n",
    "np.all(data_max == data.max(axis=0))"
   ]
  },
  {
   "cell_type": "code",
   "execution_count": 42,
   "id": "645eb455",
   "metadata": {},
   "outputs": [
    {
     "name": "stdout",
     "output_type": "stream",
     "text": [
      "[0 1 2 3 4]\n"
     ]
    },
    {
     "data": {
      "text/plain": [
       "array([0, 0, 2, 0, 0])"
      ]
     },
     "execution_count": 42,
     "metadata": {},
     "output_type": "execute_result"
    }
   ],
   "source": [
    "a = np.arange(5); print(a)\n",
    "a[[1, 3, 4]] = 0; a"
   ]
  },
  {
   "cell_type": "code",
   "execution_count": 43,
   "id": "c3fcf74f",
   "metadata": {},
   "outputs": [
    {
     "data": {
      "text/plain": [
       "array([2, 1, 3, 3, 4])"
      ]
     },
     "execution_count": 43,
     "metadata": {},
     "output_type": "execute_result"
    }
   ],
   "source": [
    "a = np.arange(5)\n",
    "a[[0, 0, 2]] = [1, 2, 3]; a # 2로 변경됨"
   ]
  },
  {
   "cell_type": "code",
   "execution_count": 44,
   "id": "345f80df",
   "metadata": {},
   "outputs": [
    {
     "data": {
      "text/plain": [
       "array([1, 1, 3, 3, 4])"
      ]
     },
     "execution_count": 44,
     "metadata": {},
     "output_type": "execute_result"
    }
   ],
   "source": [
    "a = np.arange(5)\n",
    "a[[0, 0, 2]] += 1; a # 1이 두번 더해지진 않음"
   ]
  },
  {
   "cell_type": "markdown",
   "id": "f48d321d",
   "metadata": {},
   "source": [
    "## indexing with boolean arrays"
   ]
  },
  {
   "cell_type": "code",
   "execution_count": 45,
   "id": "06f4f450",
   "metadata": {},
   "outputs": [
    {
     "name": "stdout",
     "output_type": "stream",
     "text": [
      "[[False False False False]\n",
      " [False  True  True  True]\n",
      " [ True  True  True  True]]\n"
     ]
    },
    {
     "data": {
      "text/plain": [
       "array([ 5,  6,  7,  8,  9, 10, 11])"
      ]
     },
     "execution_count": 45,
     "metadata": {},
     "output_type": "execute_result"
    }
   ],
   "source": [
    "a = np.arange(12).reshape(3, 4)\n",
    "b = a > 4; print(b) # a형태의 bool\n",
    "a[b] # True만"
   ]
  },
  {
   "cell_type": "code",
   "execution_count": 46,
   "id": "eb8ad0fb",
   "metadata": {},
   "outputs": [
    {
     "data": {
      "text/plain": [
       "array([[0, 1, 2, 3],\n",
       "       [4, 0, 0, 0],\n",
       "       [0, 0, 0, 0]])"
      ]
     },
     "execution_count": 46,
     "metadata": {},
     "output_type": "execute_result"
    }
   ],
   "source": [
    "a[b] = 0; a # 데이터 수정에 유용"
   ]
  },
  {
   "cell_type": "code",
   "execution_count": 47,
   "id": "eca0b701",
   "metadata": {},
   "outputs": [
    {
     "data": {
      "text/plain": [
       "<matplotlib.image.AxesImage at 0x24022ee0550>"
      ]
     },
     "execution_count": 47,
     "metadata": {},
     "output_type": "execute_result"
    },
    {
     "data": {
      "image/png": "[encoded data removed]",
      "text/plain": [
       "<Figure size 432x288 with 1 Axes>"
      ]
     },
     "metadata": {
      "needs_background": "light"
     },
     "output_type": "display_data"
    }
   ],
   "source": [
    "# mandelbrot set ??\n",
    "def mandelbrot(h, w, maxit=20, r=2):\n",
    "    '''Returns an image of the Mandelbrot fractal of size (h,w)'''\n",
    "    x = np.linspace(-2.5, 1.5, 4*h+1)\n",
    "    y = np.linspace(-1.5, 1.5, 3*w+1)\n",
    "    A, B = np.meshgrid(x, y)\n",
    "    C = A + B*1j\n",
    "    z = np.zeros_like(C)\n",
    "    divtime = maxit + np.zeros(z.shape, dtype=int)\n",
    "    \n",
    "    for i in range(maxit):\n",
    "        z = z**2 + C\n",
    "        diverge = abs(z) > r\n",
    "        div_now = diverge & (divtime == maxit)\n",
    "        divtime[div_now] = i\n",
    "        z[diverge] = r\n",
    "    return divtime\n",
    "plt.imshow(mandelbrot(400, 400))"
   ]
  },
  {
   "cell_type": "code",
   "execution_count": 48,
   "id": "ad96d036",
   "metadata": {},
   "outputs": [
    {
     "name": "stdout",
     "output_type": "stream",
     "text": [
      "[[ 4  5  6  7]\n",
      " [ 8  9 10 11]]\n",
      "[[ 4  5  6  7]\n",
      " [ 8  9 10 11]]\n",
      "[[ 0  2]\n",
      " [ 4  6]\n",
      " [ 8 10]]\n",
      "[ 4 10]\n"
     ]
    }
   ],
   "source": [
    "a = np.arange(12).reshape(3, 4)\n",
    "b1 = np.array([False, True, True]) # 1st dim\n",
    "b2 = np.array([True, False, True, False]) # 2nd dim\n",
    "\n",
    "print(a[b1, :])\n",
    "print(a[b1])\n",
    "print(a[:, b2])\n",
    "print(a[b1, b2]) # 1d bool arr의 길이와 축의 길이가 같아야 함"
   ]
  },
  {
   "cell_type": "markdown",
   "id": "b9ef7271",
   "metadata": {},
   "source": [
    "## the ix_() function"
   ]
  },
  {
   "cell_type": "code",
   "execution_count": 49,
   "id": "b2dde9c3",
   "metadata": {},
   "outputs": [
    {
     "name": "stdout",
     "output_type": "stream",
     "text": [
      "[[[2]]\n",
      "\n",
      " [[3]]\n",
      "\n",
      " [[4]]\n",
      "\n",
      " [[5]]]\n",
      "[[[8]\n",
      "  [5]\n",
      "  [4]]]\n",
      "[[[5 4 6 8 3]]]\n",
      "(4, 1, 1) (1, 3, 1) (1, 1, 5)\n",
      "[[[42 34 50 66 26]\n",
      "  [27 22 32 42 17]\n",
      "  [22 18 26 34 14]]\n",
      "\n",
      " [[43 35 51 67 27]\n",
      "  [28 23 33 43 18]\n",
      "  [23 19 27 35 15]]\n",
      "\n",
      " [[44 36 52 68 28]\n",
      "  [29 24 34 44 19]\n",
      "  [24 20 28 36 16]]\n",
      "\n",
      " [[45 37 53 69 29]\n",
      "  [30 25 35 45 20]\n",
      "  [25 21 29 37 17]]]\n",
      "17\n"
     ]
    },
    {
     "data": {
      "text/plain": [
       "17"
      ]
     },
     "execution_count": 49,
     "metadata": {},
     "output_type": "execute_result"
    }
   ],
   "source": [
    "# ix_() ??\n",
    "a = np.array([2, 3, 4, 5])\n",
    "b = np.array([8, 5, 4])\n",
    "c = np.array([5, 4, 6, 8, 3])\n",
    "ax, bx, cx = np.ix_(a, b, c)\n",
    "\n",
    "print(ax)\n",
    "print(bx)\n",
    "print(cx)\n",
    "\n",
    "print(ax.shape, bx.shape, cx.shape)\n",
    "\n",
    "result = ax + bx * cx; print(result)\n",
    "\n",
    "print(result[3, 2, 4])\n",
    "a[3] + b[2] * c[4]"
   ]
  },
  {
   "cell_type": "code",
   "execution_count": 50,
   "id": "6dbdcf1c",
   "metadata": {},
   "outputs": [
    {
     "data": {
      "text/plain": [
       "array([[[15, 14, 16, 18, 13],\n",
       "        [12, 11, 13, 15, 10],\n",
       "        [11, 10, 12, 14,  9]],\n",
       "\n",
       "       [[16, 15, 17, 19, 14],\n",
       "        [13, 12, 14, 16, 11],\n",
       "        [12, 11, 13, 15, 10]],\n",
       "\n",
       "       [[17, 16, 18, 20, 15],\n",
       "        [14, 13, 15, 17, 12],\n",
       "        [13, 12, 14, 16, 11]],\n",
       "\n",
       "       [[18, 17, 19, 21, 16],\n",
       "        [15, 14, 16, 18, 13],\n",
       "        [14, 13, 15, 17, 12]]])"
      ]
     },
     "execution_count": 50,
     "metadata": {},
     "output_type": "execute_result"
    }
   ],
   "source": [
    "def ufunc_reduce(ufct, *vectors):\n",
    "    vs = np.ix_(*vectors)\n",
    "    r = ufct.identity\n",
    "    for v in vs:\n",
    "        r = ufct(r, v)\n",
    "    return r\n",
    "\n",
    "ufunc_reduce(np.add, a, b, c)"
   ]
  },
  {
   "cell_type": "markdown",
   "id": "bbfe2bfa",
   "metadata": {},
   "source": [
    "## indexing with strings"
   ]
  },
  {
   "cell_type": "markdown",
   "id": "6d502495",
   "metadata": {},
   "source": [
    "# tricks and tips"
   ]
  },
  {
   "cell_type": "markdown",
   "id": "a7aa88dc",
   "metadata": {},
   "source": [
    "## automatic reshaping"
   ]
  },
  {
   "cell_type": "code",
   "execution_count": 51,
   "id": "babd4acd",
   "metadata": {},
   "outputs": [
    {
     "name": "stdout",
     "output_type": "stream",
     "text": [
      "(2, 5, 3)\n"
     ]
    },
    {
     "data": {
      "text/plain": [
       "array([[[ 0,  1,  2],\n",
       "        [ 3,  4,  5],\n",
       "        [ 6,  7,  8],\n",
       "        [ 9, 10, 11],\n",
       "        [12, 13, 14]],\n",
       "\n",
       "       [[15, 16, 17],\n",
       "        [18, 19, 20],\n",
       "        [21, 22, 23],\n",
       "        [24, 25, 26],\n",
       "        [27, 28, 29]]])"
      ]
     },
     "execution_count": 51,
     "metadata": {},
     "output_type": "execute_result"
    }
   ],
   "source": [
    "a = np.arange(30)\n",
    "b = a.reshape((2, -1, 3)) # -1 빈자리 채움\n",
    "print(b.shape); b"
   ]
  },
  {
   "cell_type": "markdown",
   "id": "879f2daa",
   "metadata": {},
   "source": [
    "## vector stacking"
   ]
  },
  {
   "cell_type": "code",
   "execution_count": 52,
   "id": "4bb0be2d",
   "metadata": {},
   "outputs": [
    {
     "name": "stdout",
     "output_type": "stream",
     "text": [
      "[0 2 4 6 8]\n",
      "[0 1 2 3 4]\n",
      "[[0 2 4 6 8]\n",
      " [0 1 2 3 4]]\n"
     ]
    },
    {
     "data": {
      "text/plain": [
       "array([0, 2, 4, 6, 8, 0, 1, 2, 3, 4])"
      ]
     },
     "execution_count": 52,
     "metadata": {},
     "output_type": "execute_result"
    }
   ],
   "source": [
    "x = np.arange(0, 10, 2); print(x)\n",
    "y = np.arange(5); print(y)\n",
    "m = np.vstack([x, y]); print(m)\n",
    "\n",
    "xy = np.hstack([x, y]); xy"
   ]
  },
  {
   "cell_type": "markdown",
   "id": "aca65b70",
   "metadata": {},
   "source": [
    "## histograms"
   ]
  },
  {
   "cell_type": "code",
   "execution_count": 53,
   "id": "05b0ec97",
   "metadata": {},
   "outputs": [
    {
     "name": "stdout",
     "output_type": "stream",
     "text": [
      "(array([0.00128706, 0.00257412, 0.00257412, 0.00257412, 0.00772237,\n",
      "       0.00900943, 0.01415767, 0.03861183, 0.04247301, 0.03989889,\n",
      "       0.05663068, 0.08623308, 0.13900258, 0.16088261, 0.24454157,\n",
      "       0.30117225, 0.34750645, 0.41700774, 0.51997261, 0.60234451,\n",
      "       0.68214229, 0.69501289, 0.78768128, 0.73619884, 0.79540365,\n",
      "       0.78896834, 0.72976354, 0.7014482 , 0.69501289, 0.60749275,\n",
      "       0.57660329, 0.4478972 , 0.39126652, 0.28186634, 0.24196745,\n",
      "       0.20592975, 0.13385434, 0.10425193, 0.07851072, 0.04762125,\n",
      "       0.0296024 , 0.03217652, 0.01029649, 0.00900943, 0.0064353 ,\n",
      "       0.00772237, 0.00514824, 0.00128706, 0.00257412, 0.00128706]), array([0.08106893, 0.15876533, 0.23646173, 0.31415813, 0.39185453,\n",
      "       0.46955093, 0.54724733, 0.62494373, 0.70264013, 0.78033653,\n",
      "       0.85803293, 0.93572933, 1.01342573, 1.09112213, 1.16881853,\n",
      "       1.24651493, 1.32421133, 1.40190773, 1.47960413, 1.55730053,\n",
      "       1.63499693, 1.71269333, 1.79038973, 1.86808613, 1.94578253,\n",
      "       2.02347893, 2.10117533, 2.17887173, 2.25656814, 2.33426454,\n",
      "       2.41196094, 2.48965734, 2.56735374, 2.64505014, 2.72274654,\n",
      "       2.80044294, 2.87813934, 2.95583574, 3.03353214, 3.11122854,\n",
      "       3.18892494, 3.26662134, 3.34431774, 3.42201414, 3.49971054,\n",
      "       3.57740694, 3.65510334, 3.73279974, 3.81049614, 3.88819254,\n",
      "       3.96588894]), <BarContainer object of 50 artists>)\n"
     ]
    },
    {
     "data": {
      "image/png": "[encoded data removed]",
      "text/plain": [
       "<Figure size 432x288 with 1 Axes>"
      ]
     },
     "metadata": {
      "needs_background": "light"
     },
     "output_type": "display_data"
    }
   ],
   "source": [
    "rg = np.random.default_rng(1)\n",
    "mu, sigma = 2, 0.5\n",
    "v = rg.normal(mu, sigma, 10000)\n",
    "\n",
    "print(plt.hist(v, bins=50, density=True))"
   ]
  },
  {
   "cell_type": "code",
   "execution_count": 54,
   "id": "22343588",
   "metadata": {},
   "outputs": [
    {
     "data": {
      "text/plain": [
       "[<matplotlib.lines.Line2D at 0x24023830070>]"
      ]
     },
     "execution_count": 54,
     "metadata": {},
     "output_type": "execute_result"
    },
    {
     "data": {
      "image/png": "[encoded data removed]",
      "text/plain": [
       "<Figure size 432x288 with 1 Axes>"
      ]
     },
     "metadata": {
      "needs_background": "light"
     },
     "output_type": "display_data"
    }
   ],
   "source": [
    "(n, bins) = np.histogram(v, bins=50, density=True)\n",
    "plt.plot(.5 * (bins[1:] + bins[:-1]), n)"
   ]
  }
 ],
 "metadata": {
  "kernelspec": {
   "display_name": "Python 3",
   "language": "python",
   "name": "python3"
  },
  "language_info": {
   "codemirror_mode": {
    "name": "ipython",
    "version": 3
   },
   "file_extension": ".py",
   "mimetype": "text/x-python",
   "name": "python",
   "nbconvert_exporter": "python",
   "pygments_lexer": "ipython3",
   "version": "3.8.8"
  }
 },
 "nbformat": 4,
 "nbformat_minor": 5
}
