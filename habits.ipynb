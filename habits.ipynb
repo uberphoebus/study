{
 "cells": [
  {
   "cell_type": "code",
   "execution_count": 5,
   "metadata": {},
   "outputs": [
    {
     "name": "stdout",
     "output_type": "stream",
     "text": [
      "eq\n",
      "is\n"
     ]
    }
   ],
   "source": [
    "x = None\n",
    "\n",
    "if x == None: # True, False\n",
    "    print('eq')\n",
    "\n",
    "if x is None:\n",
    "    print('is')"
   ]
  },
  {
   "cell_type": "code",
   "execution_count": 7,
   "metadata": {},
   "outputs": [
    {
     "name": "stdout",
     "output_type": "stream",
     "text": [
      "True\n",
      "3\n",
      "bool\n",
      "len\n",
      "len is not\n",
      "[1, 2, 3]\n"
     ]
    }
   ],
   "source": [
    "x = [1, 2, 3]\n",
    "\n",
    "print(bool(x))\n",
    "print(len(x))\n",
    "\n",
    "if bool(x):\n",
    "    print('bool')\n",
    "if len(x) != 0:\n",
    "    print('len')\n",
    "if len(x) is not 0:\n",
    "    print('len is not')\n",
    "if x:\n",
    "    print(x)"
   ]
  },
  {
   "cell_type": "code",
   "execution_count": 11,
   "metadata": {},
   "outputs": [
    {
     "name": "stdout",
     "output_type": "stream",
     "text": [
      "a\n",
      "b\n",
      "c\n",
      "a\n",
      "b\n",
      "c\n",
      "a\n",
      "b\n",
      "c\n",
      "a\n",
      "b\n",
      "c\n"
     ]
    }
   ],
   "source": [
    "d = {'a': 1, 'b': 2, 'c': 3}\n",
    "for key in d.keys():\n",
    "    print(key)\n",
    "\n",
    "for key in d: # faster\n",
    "    print(key)\n",
    "\n",
    "for key in list(d.keys()): # modify\n",
    "    print(key)\n",
    "\n",
    "for key in list(d): # faster\n",
    "    print(key)"
   ]
  },
  {
   "cell_type": "code",
   "execution_count": 14,
   "metadata": {},
   "outputs": [
    {
     "name": "stdout",
     "output_type": "stream",
     "text": [
      "1.009610652923584\n",
      "1.0035685000000285\n"
     ]
    }
   ],
   "source": [
    "import time\n",
    "\n",
    "start = time.time()\n",
    "time.sleep(1)\n",
    "end = time.time()\n",
    "print(end - start)\n",
    "\n",
    "start = time.perf_counter()\n",
    "time.sleep(1)\n",
    "end = time.perf_counter()\n",
    "print(end - start)"
   ]
  },
  {
   "cell_type": "code",
   "execution_count": null,
   "metadata": {},
   "outputs": [],
   "source": []
  }
 ],
 "metadata": {
  "kernelspec": {
   "display_name": "Python 3.7.13 ('py37')",
   "language": "python",
   "name": "python3"
  },
  "language_info": {
   "codemirror_mode": {
    "name": "ipython",
    "version": 3
   },
   "file_extension": ".py",
   "mimetype": "text/x-python",
   "name": "python",
   "nbconvert_exporter": "python",
   "pygments_lexer": "ipython3",
   "version": "3.7.13"
  },
  "orig_nbformat": 4,
  "vscode": {
   "interpreter": {
    "hash": "88d3c87753b96e3541cfbb1341719adaf531df8dade04e9d24fed3c8b996c09d"
   }
  }
 },
 "nbformat": 4,
 "nbformat_minor": 2
}
