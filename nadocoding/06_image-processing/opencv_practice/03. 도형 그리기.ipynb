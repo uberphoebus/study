{
 "cells": [
  {
   "cell_type": "markdown",
   "metadata": {},
   "source": [
    "# 3. 도형 그리기"
   ]
  },
  {
   "cell_type": "markdown",
   "metadata": {},
   "source": [
    "## 빈 스케치북 만들기"
   ]
  },
  {
   "cell_type": "code",
   "execution_count": null,
   "metadata": {},
   "outputs": [],
   "source": [
    "import cv2\n",
    "import numpy as np\n",
    "\n",
    "# 세로 480, 가로 640, 3 channel(RGB) 스케치북\n",
    "img = np.zeros((480, 640, 3), dtype=np.uint8)\n",
    "img[:] = (255, 0, 0) # opencv에서는 BGR(파랑)\n",
    "img[:] = (255, 255, 255) # 전체 공간을 흰 색으로 채우기\n",
    "\n",
    "cv2.imshow('img', img)\n",
    "cv2.waitKey(0)\n",
    "cv2.destroyAllWindows()"
   ]
  },
  {
   "cell_type": "markdown",
   "metadata": {},
   "source": [
    "## 일부 영역 색칠"
   ]
  },
  {
   "cell_type": "code",
   "execution_count": null,
   "metadata": {},
   "outputs": [],
   "source": [
    "import cv2\n",
    "import numpy as np\n",
    "\n",
    "img = np.zeros((480, 640, 3), dtype=np.uint8)\n",
    "img[100:200, 200:300] = (255, 255, 255)\n",
    "\n",
    "cv2.imshow('img', img)\n",
    "cv2.waitKey(0)\n",
    "cv2.destroyAllWindows()"
   ]
  },
  {
   "cell_type": "markdown",
   "metadata": {},
   "source": [
    "## 직선\n",
    "직선의 종류(line type)\n",
    "\n",
    "1. cv2.LINE_4 : 상하좌우 4 방향으로 연결된 선\n",
    "1. cv2.LINE_8 : 대각선을 포함한 8방향으로 연결된 선(기본값)\n",
    "1. cv2.LINE_AA : 부드러운 선(anit-aliasing)"
   ]
  },
  {
   "cell_type": "code",
   "execution_count": null,
   "metadata": {},
   "outputs": [],
   "source": [
    "import cv2\n",
    "import numpy as np\n",
    "\n",
    "img = np.zeros((480, 640, 3), dtype=np.uint8)\n",
    "COLOR = (0, 255, 255) # BGR : yellow\n",
    "THICKNESS = 3 # 두께\n",
    "\n",
    "# 위치, 시작점, 끝점, 색, 두께, 선 종류\n",
    "cv2.line(img, (50, 100), (400, 50), COLOR, THICKNESS, cv2.LINE_8)\n",
    "cv2.line(img, (50, 200), (400, 150), COLOR, THICKNESS, cv2.LINE_4)\n",
    "cv2.line(img, (50, 300), (400, 250), COLOR, THICKNESS, cv2.LINE_AA)\n",
    "\n",
    "cv2.imshow('img', img)\n",
    "cv2.waitKey(0)\n",
    "cv2.destroyAllWindows()"
   ]
  },
  {
   "cell_type": "markdown",
   "metadata": {},
   "source": [
    "## 원"
   ]
  },
  {
   "cell_type": "code",
   "execution_count": null,
   "metadata": {},
   "outputs": [],
   "source": [
    "import cv2\n",
    "import numpy as np\n",
    "\n",
    "img = np.zeros((480, 640, 3), dtype=np.uint8)\n",
    "\n",
    "COLOR = (255, 255, 0) # BGR\n",
    "RADIUS = 50 # 반지름\n",
    "THICKNESS = 10 # 두께\n",
    "\n",
    "cv2.circle(img, (200, 100), RADIUS, COLOR, THICKNESS, cv2.LINE_AA)\n",
    "# 속이 빈 원, 위치, 중심점, 반지름, 색, 두께, 선 종류\n",
    "\n",
    "cv2.circle(img, (400, 100), RADIUS, COLOR, cv2.FILLED, cv2.LINE_AA)\n",
    "# 속이 찬 원\n",
    "\n",
    "cv2.imshow('img', img)\n",
    "cv2.waitKey(0)\n",
    "cv2.destroyAllWindows()"
   ]
  },
  {
   "cell_type": "markdown",
   "metadata": {},
   "source": [
    "## 사각형"
   ]
  },
  {
   "cell_type": "code",
   "execution_count": null,
   "metadata": {},
   "outputs": [],
   "source": [
    "import cv2\n",
    "import numpy as np\n",
    "\n",
    "img = np.zeros((480, 640, 3), dtype=np.uint8)\n",
    "\n",
    "COLOR = (0, 255, 0) # BGR\n",
    "THICKNESS = 3 # 두께\n",
    "\n",
    "cv2.rectangle(img, (100, 100), (200, 200), COLOR, THICKNESS)\n",
    "# 속이 빈 사각형, 좌측 상단 좌표, 우측 하단 좌표, 색, 두께\n",
    "\n",
    "cv2.rectangle(img, (300, 100), (400, 300), COLOR, cv2.FILLED)\n",
    "# 속이 찬 사각형\n",
    "\n",
    "cv2.imshow('img', img)\n",
    "cv2.waitKey(0)\n",
    "cv2.destroyAllWindows()"
   ]
  },
  {
   "cell_type": "markdown",
   "metadata": {},
   "source": [
    "## 다각형"
   ]
  },
  {
   "cell_type": "code",
   "execution_count": null,
   "metadata": {},
   "outputs": [],
   "source": [
    "import cv2\n",
    "import numpy as np\n",
    "\n",
    "img = np.zeros((480, 640, 3), dtype=np.uint8)\n",
    "\n",
    "COLOR = (0, 0, 255) # BGR\n",
    "THICKNESS = 3 # 두께\n",
    "\n",
    "pts1 = np.array([[100, 100], [200, 100], [100, 200]])\n",
    "pts2 = np.array([[200, 100], [300, 100], [300, 200]])\n",
    "\n",
    "# cv2.polylines(img, [pts1], True, COLOR, THICKNESS, cv2.LINE_AA)\n",
    "# cv2.polylines(img, [pts2], True, COLOR, THICKNESS, cv2.LINE_AA)\n",
    "\n",
    "cv2.polylines(img, [pts1, pts2], True, COLOR, THICKNESS, cv2.LINE_AA)\n",
    "# 리스트 형태로 여러 도형을 한번에 받음, 닫힘 여부\n",
    "\n",
    "pts3 = np.array([[[100, 300], [200, 300], [100, 400]], \n",
    "                 [[200, 300], [300, 300], [300, 400]]])\n",
    "cv2.fillPoly(img, pts3, COLOR, cv2.LINE_AA)\n",
    "# 속이 찬 다각형\n",
    "\n",
    "cv2.imshow('img', img)\n",
    "cv2.waitKey(0)\n",
    "cv2.destroyAllWindows()"
   ]
  }
 ],
 "metadata": {
  "interpreter": {
   "hash": "76888c4a1af33f53bb52de03cc72a37cdcfc80966b4bb342e552f029c3bcc4e2"
  },
  "kernelspec": {
   "display_name": "Python 3.8.8 ('venv': venv)",
   "language": "python",
   "name": "python3"
  },
  "language_info": {
   "codemirror_mode": {
    "name": "ipython",
    "version": 3
   },
   "file_extension": ".py",
   "mimetype": "text/x-python",
   "name": "python",
   "nbconvert_exporter": "python",
   "pygments_lexer": "ipython3",
   "version": "3.8.8"
  },
  "orig_nbformat": 4
 },
 "nbformat": 4,
 "nbformat_minor": 2
}
