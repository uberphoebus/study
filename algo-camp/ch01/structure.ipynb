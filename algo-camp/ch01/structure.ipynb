{
 "cells": [
  {
   "cell_type": "markdown",
   "metadata": {},
   "source": [
    "# stack"
   ]
  },
  {
   "cell_type": "code",
   "execution_count": 1,
   "metadata": {},
   "outputs": [
    {
     "name": "stdout",
     "output_type": "stream",
     "text": [
      "size : 3\n",
      "pop : 789\n",
      "pop : 456\n",
      "pop : 123\n",
      "final stack : []\n"
     ]
    }
   ],
   "source": [
    "s = []\n",
    "s.append(123)\n",
    "s.append(456)\n",
    "s.append(789)\n",
    "\n",
    "print('size :', len(s))\n",
    "\n",
    "while len(s) > 0:\n",
    "    print('pop :', s.pop(-1))\n",
    "\n",
    "print('final stack :', s)"
   ]
  },
  {
   "cell_type": "markdown",
   "metadata": {},
   "source": [
    "# que"
   ]
  },
  {
   "cell_type": "code",
   "execution_count": 2,
   "metadata": {},
   "outputs": [
    {
     "name": "stdout",
     "output_type": "stream",
     "text": [
      "size : 3\n",
      "popleft : 123\n",
      "popleft : 456\n",
      "popleft : 789\n",
      "final deque : deque([])\n"
     ]
    }
   ],
   "source": [
    "from collections import deque\n",
    "\n",
    "q = deque()\n",
    "q.append(123)\n",
    "q.append(456)\n",
    "q.append(789)\n",
    "\n",
    "print('size :', len(q))\n",
    "\n",
    "while len(q) > 0:\n",
    "    print('popleft :', q.popleft())\n",
    "\n",
    "print('final deque :', q)"
   ]
  },
  {
   "cell_type": "markdown",
   "metadata": {},
   "source": [
    "# priority queue"
   ]
  },
  {
   "cell_type": "code",
   "execution_count": 3,
   "metadata": {},
   "outputs": [
    {
     "name": "stdout",
     "output_type": "stream",
     "text": [
      "original pq : [123, 456, 789]\n",
      "size : 3\n",
      "heappop : 123\n",
      "heappop : 456\n",
      "heappop : 789\n",
      "final pq : []\n"
     ]
    }
   ],
   "source": [
    "# priority queue (heap) -> thread-safe\n",
    "\n",
    "import heapq as hq # min-heap\n",
    "\n",
    "pq = []\n",
    "hq.heappush(pq, 456)\n",
    "hq.heappush(pq, 123)\n",
    "hq.heappush(pq, 789)\n",
    "print('original pq :', pq)\n",
    "\n",
    "print('size :', len(pq))\n",
    "\n",
    "while len(pq) > 0:\n",
    "    print('heappop :', hq.heappop(pq))\n",
    "\n",
    "print('final pq :', pq)"
   ]
  },
  {
   "cell_type": "markdown",
   "metadata": {},
   "source": [
    "# map(dictionary)"
   ]
  },
  {
   "cell_type": "code",
   "execution_count": 4,
   "metadata": {},
   "outputs": [],
   "source": [
    "m = {'key':'value'}"
   ]
  },
  {
   "cell_type": "markdown",
   "metadata": {},
   "source": [
    "# set(집합)"
   ]
  },
  {
   "cell_type": "code",
   "execution_count": 5,
   "metadata": {},
   "outputs": [
    {
     "name": "stdout",
     "output_type": "stream",
     "text": [
      "3\n",
      "456\n",
      "7890\n",
      "12\n",
      "{456, 7890, 12}\n",
      "{7890, 12}\n",
      "set()\n"
     ]
    }
   ],
   "source": [
    "s = set()\n",
    "s.add(456)\n",
    "s.add(12)\n",
    "s.add(456)\n",
    "s.add(7890)\n",
    "s.add(7890)\n",
    "s.add(456)\n",
    "\n",
    "print(len(s))\n",
    "\n",
    "for i in s:\n",
    "    print(i)\n",
    "\n",
    "print(s)\n",
    "\n",
    "s.remove(456)\n",
    "\n",
    "print(s)\n",
    "\n",
    "s.clear()\n",
    "\n",
    "print(s)"
   ]
  }
 ],
 "metadata": {
  "kernelspec": {
   "display_name": "Python 3.7.13 ('py37')",
   "language": "python",
   "name": "python3"
  },
  "language_info": {
   "codemirror_mode": {
    "name": "ipython",
    "version": 3
   },
   "file_extension": ".py",
   "mimetype": "text/x-python",
   "name": "python",
   "nbconvert_exporter": "python",
   "pygments_lexer": "ipython3",
   "version": "3.7.13"
  },
  "orig_nbformat": 4,
  "vscode": {
   "interpreter": {
    "hash": "88d3c87753b96e3541cfbb1341719adaf531df8dade04e9d24fed3c8b996c09d"
   }
  }
 },
 "nbformat": 4,
 "nbformat_minor": 2
}
